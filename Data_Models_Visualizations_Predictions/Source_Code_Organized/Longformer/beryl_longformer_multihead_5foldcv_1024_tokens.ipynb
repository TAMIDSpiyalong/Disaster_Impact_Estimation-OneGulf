{
 "cells": [
  {
   "cell_type": "markdown",
   "metadata": {},
   "source": [
    "### **Problem**\n",
    "\n",
    "This project aims to automate multi-label classification of disaster-related tweets using advanced natural language processing (NLP) models. The tweets, collected during hurricane events such as Harvey, Imelda, and Beryl, contain critical information ranging from property damage to requests for assistance. Manual annotation of such large-scale data is infeasible and time-consuming. Hence, there is a need for an efficient and scalable method to identify multiple categories of disaster impact from tweet content, enabling timely and informed disaster response decisions.\n",
    "\n",
    "---\n",
    "\n",
    "### **Objectives**\n",
    "\n",
    "* Understand the underlying structure of multi-label text classification.\n",
    "* Implement a custom PyTorch dataset and data preprocessing pipeline using geolocation and tweet metadata.\n",
    "* Train a Longformer-based multi-head neural network to predict 11 disaster impact categories.\n",
    "* Apply k-fold cross-validation to ensure robust model evaluation.\n",
    "* Use ensemble modeling strategies (in-domain, cross-domain, two-source, and three-source) to analyze model generalization across different hurricanes.\n",
    "* Generate performance metrics such as Accuracy, Precision, Recall, and F1-Score for each label and average performance.\n",
    "* Save the best model per fold and use ensemble predictions to improve reliability.\n",
    "\n"
   ]
  },
  {
   "cell_type": "markdown",
   "metadata": {},
   "source": [
    "1. Import Required Libraries"
   ]
  },
  {
   "cell_type": "code",
   "execution_count": null,
   "metadata": {},
   "outputs": [],
   "source": [
    "import os\n",
    "import torch\n",
    "import torch.nn as nn\n",
    "import torch.optim as optim\n",
    "from transformers import LongformerTokenizer, LongformerModel\n",
    "from torch.utils.data import Dataset, DataLoader\n",
    "from sklearn.model_selection import KFold\n",
    "from sklearn.metrics import f1_score, accuracy_score, precision_score, recall_score\n",
    "import pandas as pd\n",
    "import numpy as np\n",
    "from tqdm import tqdm\n",
    "import copy\n",
    "import math\n"
   ]
  },
  {
   "cell_type": "markdown",
   "metadata": {},
   "source": [
    "2. Set Device and Reproducibility Seed"
   ]
  },
  {
   "cell_type": "code",
   "execution_count": null,
   "metadata": {},
   "outputs": [],
   "source": [
    "device = torch.device(\"cuda\" if torch.cuda.is_available() else \"cpu\")\n",
    "torch.manual_seed(64)\n"
   ]
  },
  {
   "cell_type": "markdown",
   "metadata": {},
   "source": [
    "3. Define Save Path for Model Outputs"
   ]
  },
  {
   "cell_type": "code",
   "execution_count": null,
   "metadata": {},
   "outputs": [],
   "source": [
    "save_path = 'Training_results/Beryl_5foldcv_Longformer_Multihead/'\n",
    "os.makedirs(save_path, exist_ok=True)"
   ]
  },
  {
   "cell_type": "markdown",
   "metadata": {},
   "source": [
    "4. Load Tokenizer and Base Model"
   ]
  },
  {
   "cell_type": "code",
   "execution_count": null,
   "metadata": {},
   "outputs": [],
   "source": [
    "tokenizer = LongformerTokenizer.from_pretrained('allenai/longformer-base-4096')\n",
    "model_longformer = LongformerModel.from_pretrained('allenai/longformer-base-4096')"
   ]
  },
  {
   "cell_type": "markdown",
   "metadata": {},
   "source": [
    "5. Define Geolocation Utility Functions"
   ]
  },
  {
   "cell_type": "code",
   "execution_count": null,
   "metadata": {},
   "outputs": [],
   "source": [
    "def haversine(lat1, lon1, lat2, lon2):\n",
    "    R = 3959  \n",
    "    lat1, lon1, lat2, lon2 = map(math.radians, [lat1, lon1, lat2, lon2])\n",
    "    dlat, dlon = lat2 - lat1, lon2 - lon1\n",
    "    a = math.sin(dlat / 2)**2 + math.cos(lat1) * math.cos(lat2) * math.sin(dlon / 2)**2\n",
    "    c = 2 * math.atan2(math.sqrt(a), math.sqrt(1 - a))\n",
    "    return R * c\n",
    "\n",
    "def get_box_area(lat1, lon1, lat2, lon2):\n",
    "    side1 = haversine(lat1, lon1, lat1, lon2)\n",
    "    side2 = haversine(lat1, lon1, lat2, lon1)\n",
    "    return side1 * side2\n"
   ]
  },
  {
   "cell_type": "markdown",
   "metadata": {},
   "source": [
    "6. Define Default Target List"
   ]
  },
  {
   "cell_type": "code",
   "execution_count": null,
   "metadata": {},
   "outputs": [],
   "source": [
    "def get_target_list(target_list=[]):\n",
    "    if not target_list:\n",
    "        target_list = [\n",
    "            'homeOwnersInsurance', 'floodInsurance', 'destroyed', 'floodDamage', 'roofDamage', \n",
    "            'tsaEligible', 'tsaCheckedIn', 'rentalAssistanceEligible', 'repairAssistanceEligible', \n",
    "            'replacementAssistanceEligible', 'personalPropertyEligible'\n",
    "        ]\n",
    "    return target_list\n"
   ]
  },
  {
   "cell_type": "markdown",
   "metadata": {},
   "source": [
    "7. Define Custom Dataset Class"
   ]
  },
  {
   "cell_type": "code",
   "execution_count": null,
   "metadata": {},
   "outputs": [],
   "source": [
    "class CustomDataset(Dataset):\n",
    "    def __init__(self, texts, labels, tokenizer, max_len):\n",
    "        self.texts = texts\n",
    "        self.labels = labels\n",
    "        self.tokenizer = tokenizer\n",
    "        self.max_len = max_len\n",
    "\n",
    "    def __len__(self):\n",
    "        return len(self.labels)\n",
    "\n",
    "    def __getitem__(self, idx):\n",
    "        text = self.texts[idx]\n",
    "        label = self.labels[idx]\n",
    "        encoding = self.tokenizer.encode_plus(\n",
    "            text,\n",
    "            add_special_tokens=True,\n",
    "            max_length=self.max_len,\n",
    "            padding='max_length',\n",
    "            truncation=True,\n",
    "            return_tensors='pt'\n",
    "        )\n",
    "        return {\n",
    "            'input_ids': encoding['input_ids'].squeeze(),\n",
    "            'attention_mask': encoding['attention_mask'].squeeze(),\n",
    "            'labels': torch.tensor(label, dtype=torch.float32)\n",
    "        }"
   ]
  },
  {
   "cell_type": "markdown",
   "metadata": {},
   "source": [
    "8. Define Longformer Multi-Head Classification Model"
   ]
  },
  {
   "cell_type": "code",
   "execution_count": null,
   "metadata": {},
   "outputs": [],
   "source": [
    "class LongformerDeepMultiHeadClassifier(nn.Module):\n",
    "    def __init__(self, num_targets=11, hidden_dim=256):\n",
    "        super(LongformerDeepMultiHeadClassifier, self).__init__()\n",
    "        self.longformer = model_longformer\n",
    "        self.drop = nn.Dropout(0.3)\n",
    "        self.heads = nn.ModuleList([\n",
    "            nn.Sequential(\n",
    "                nn.Linear(self.longformer.config.hidden_size, hidden_dim),\n",
    "                nn.ReLU(),\n",
    "                nn.Linear(hidden_dim, 1)\n",
    "            ) for _ in range(num_targets)\n",
    "        ])\n",
    "\n",
    "    def forward(self, input_ids, attention_mask):\n",
    "        outputs = self.longformer(input_ids=input_ids, attention_mask=attention_mask)\n",
    "        sequence_output = outputs.last_hidden_state\n",
    "        pooled_output = sequence_output.mean(dim=1)\n",
    "        x = self.drop(pooled_output)\n",
    "        return torch.cat([torch.sigmoid(head(x)) for head in self.heads], dim=1)\n"
   ]
  },
  {
   "cell_type": "markdown",
   "metadata": {},
   "source": [
    "9. Define K-Fold Cross-Validation Training Function"
   ]
  },
  {
   "cell_type": "code",
   "execution_count": null,
   "metadata": {},
   "outputs": [],
   "source": [
    "def kfoldcv(grouped_tweets, grouped_targets, target_list=[], max_len=256, batch_size=32, num_epochs=3):\n",
    "    saved_models = []\n",
    "    target_list = get_target_list(target_list)\n",
    "\n",
    "    tweet_dict = {int(name): group['text'] for name, group in grouped_tweets}\n",
    "    target_dict = {int(name): group[target_list] for name, group in grouped_targets}\n",
    "    intersecting_zips = list(set(target_dict.keys()) & set(tweet_dict.keys()))\n",
    "    \n",
    "    paired_data = {\n",
    "        name: [target_dict[name].sum().apply(lambda x: 1 if x > 0 else 0), tweet_dict[name]] for name in intersecting_zips\n",
    "    }\n",
    "\n",
    "    texts = ['\\n'.join(v[1].to_list()) for v in paired_data.values()]\n",
    "    labels_ = [v[0] for v in paired_data.values()]\n",
    "    \n",
    "    kfold = KFold(n_splits=5, shuffle=True, random_state=42)\n",
    "    fold_results = []\n",
    "    \n",
    "    for fold, (train_idx, test_idx) in enumerate(kfold.split(texts, labels_)):\n",
    "        print(f\"Training fold {fold + 1}...\")\n",
    "        X_train, X_test = [texts[i] for i in train_idx], [texts[i] for i in test_idx]\n",
    "        y_train, y_test = [labels_[i] for i in train_idx], [labels_[i] for i in test_idx]\n",
    "\n",
    "        train_loader = DataLoader(CustomDataset(X_train, y_train, tokenizer, max_len), batch_size=batch_size, shuffle=True)\n",
    "        test_loader = DataLoader(CustomDataset(X_test, y_test, tokenizer, max_len), batch_size=batch_size)\n",
    "\n",
    "        model = LongformerDeepMultiHeadClassifier(len(target_list)).to(device)\n",
    "        optimizer = optim.Adam(model.parameters(), lr=1e-5)\n",
    "        criterion = [nn.BCELoss() for _ in range(len(target_list))]\n",
    "        best_f1 = 0.0\n",
    "\n",
    "        for epoch in range(num_epochs):\n",
    "            model.train()\n",
    "            train_loss = 0.0\n",
    "            for batch in tqdm(train_loader, desc=f\"Epoch {epoch+1} Training\"):\n",
    "                optimizer.zero_grad()\n",
    "                input_ids = batch['input_ids'].to(device)\n",
    "                attention_mask = batch['attention_mask'].to(device)\n",
    "                labels = batch['labels'].to(device)\n",
    "                outputs = model(input_ids, attention_mask)\n",
    "                loss = sum(c(outputs[:, i], labels[:, i]) for i, c in enumerate(criterion))\n",
    "                loss.backward()\n",
    "                optimizer.step()\n",
    "                train_loss += loss.item()\n",
    "\n",
    "            model.eval()\n",
    "            val_loss = 0.0\n",
    "            all_preds, all_labels = [], []\n",
    "            with torch.no_grad():\n",
    "                for batch in tqdm(test_loader, desc=f\"Epoch {epoch+1} Validation\"):\n",
    "                    input_ids = batch['input_ids'].to(device)\n",
    "                    attention_mask = batch['attention_mask'].to(device)\n",
    "                    labels = batch['labels'].to(device)\n",
    "                    outputs = model(input_ids, attention_mask)\n",
    "                    loss = sum(c(outputs[:, i], labels[:, i]) for i, c in enumerate(criterion))\n",
    "                    val_loss += loss.item()\n",
    "                    all_preds.append(outputs.cpu().numpy())\n",
    "                    all_labels.append(labels.cpu().numpy())\n",
    "\n",
    "            all_preds = np.vstack(all_preds)\n",
    "            all_labels = np.vstack(all_labels)\n",
    "            f1 = [f1_score(all_labels[:, i], all_preds[:, i] > 0.5) for i in range(len(target_list))]\n",
    "            mean_f1 = np.mean(f1)\n",
    "\n",
    "            print(f\"Epoch {epoch+1}: Train Loss={train_loss/len(train_loader):.4f}, Val Loss={val_loss/len(test_loader):.4f}, Mean F1={mean_f1:.4f}\")\n",
    "            if mean_f1 > best_f1:\n",
    "                best_f1 = mean_f1\n",
    "                best_model_path = os.path.join(save_path, f\"best_bert_model_fold_{fold+1}.pth\")\n",
    "                torch.save(model.state_dict(), best_model_path)\n",
    "                print(f\"New best model saved for fold {fold+1} with F1={best_f1:.4f}\")\n",
    "\n",
    "        saved_models.append(best_model_path)\n",
    "    \n",
    "    return fold_results, saved_models\n"
   ]
  },
  {
   "cell_type": "markdown",
   "metadata": {},
   "source": [
    "10. Load and Preprocess Beryl Tweet and Target Data & Start K-Fold Training on Beryl Data"
   ]
  },
  {
   "cell_type": "code",
   "execution_count": 11,
   "metadata": {},
   "outputs": [
    {
     "name": "stderr",
     "output_type": "stream",
     "text": [
      "/tmp/job.14646635/ipykernel_391663/3012017792.py:8: DtypeWarning: Columns (9,13,28,46,49) have mixed types. Specify dtype option on import or set low_memory=False.\n",
      "  targets_beryl = pd.read_csv('disaster_4798.csv')\n"
     ]
    },
    {
     "name": "stdout",
     "output_type": "stream",
     "text": [
      "Training fold 1...\n"
     ]
    },
    {
     "name": "stderr",
     "output_type": "stream",
     "text": [
      "Epoch 1 Training:   0%|          | 0/4 [00:00<?, ?it/s]/tmp/job.14646635/ipykernel_391663/1724129108.py:79: FutureWarning: Series.__getitem__ treating keys as positions is deprecated. In a future version, integer keys will always be treated as labels (consistent with DataFrame behavior). To access a value by position, use `ser.iloc[pos]`\n",
      "  'labels': torch.tensor(label, dtype=torch.float32)\n",
      "Epoch 1 Training: 100%|██████████| 4/4 [00:33<00:00,  8.44s/it, loss=7.44]\n",
      "Epoch 1 Validation: 100%|██████████| 1/1 [00:00<00:00,  2.53it/s, loss=7.44]\n",
      "/scratch/user/akash.pillai.0810/.my_env/lib/python3.10/site-packages/sklearn/metrics/_classification.py:1565: UndefinedMetricWarning: F-score is ill-defined and being set to 0.0 due to no true nor predicted samples. Use `zero_division` parameter to control this behavior.\n",
      "  _warn_prf(average, modifier, f\"{metric.capitalize()} is\", len(result))\n",
      "/scratch/user/akash.pillai.0810/.my_env/lib/python3.10/site-packages/sklearn/metrics/_classification.py:1565: UndefinedMetricWarning: Recall is ill-defined and being set to 0.0 due to no true samples. Use `zero_division` parameter to control this behavior.\n",
      "  _warn_prf(average, modifier, f\"{metric.capitalize()} is\", len(result))\n"
     ]
    },
    {
     "name": "stdout",
     "output_type": "stream",
     "text": [
      "Epoch 1: Train Loss=7.5135, Val Loss=7.4401\n",
      "Mean F1 Score: 0.4064, Mean Accuracy: 0.5682, Mean Precision: 0.4602, Mean Recall: 0.4606\n",
      "New best model saved for fold 1 with F1=0.4064\n"
     ]
    },
    {
     "name": "stderr",
     "output_type": "stream",
     "text": [
      "Epoch 2 Training:   0%|          | 0/4 [00:00<?, ?it/s]/tmp/job.14646635/ipykernel_391663/1724129108.py:79: FutureWarning: Series.__getitem__ treating keys as positions is deprecated. In a future version, integer keys will always be treated as labels (consistent with DataFrame behavior). To access a value by position, use `ser.iloc[pos]`\n",
      "  'labels': torch.tensor(label, dtype=torch.float32)\n",
      "Epoch 2 Training: 100%|██████████| 4/4 [00:05<00:00,  1.44s/it, loss=7.15]\n",
      "Epoch 2 Validation: 100%|██████████| 1/1 [00:00<00:00,  2.68it/s, loss=6.84]\n",
      "/scratch/user/akash.pillai.0810/.my_env/lib/python3.10/site-packages/sklearn/metrics/_classification.py:1565: UndefinedMetricWarning: F-score is ill-defined and being set to 0.0 due to no true nor predicted samples. Use `zero_division` parameter to control this behavior.\n",
      "  _warn_prf(average, modifier, f\"{metric.capitalize()} is\", len(result))\n",
      "/scratch/user/akash.pillai.0810/.my_env/lib/python3.10/site-packages/sklearn/metrics/_classification.py:1565: UndefinedMetricWarning: Recall is ill-defined and being set to 0.0 due to no true samples. Use `zero_division` parameter to control this behavior.\n",
      "  _warn_prf(average, modifier, f\"{metric.capitalize()} is\", len(result))\n"
     ]
    },
    {
     "name": "stdout",
     "output_type": "stream",
     "text": [
      "Epoch 2: Train Loss=7.2986, Val Loss=6.8400\n",
      "Mean F1 Score: 0.6558, Mean Accuracy: 0.7898, Mean Precision: 0.6193, Mean Recall: 0.7273\n",
      "New best model saved for fold 1 with F1=0.6558\n"
     ]
    },
    {
     "name": "stderr",
     "output_type": "stream",
     "text": [
      "Epoch 3 Training:   0%|          | 0/4 [00:00<?, ?it/s]/tmp/job.14646635/ipykernel_391663/1724129108.py:79: FutureWarning: Series.__getitem__ treating keys as positions is deprecated. In a future version, integer keys will always be treated as labels (consistent with DataFrame behavior). To access a value by position, use `ser.iloc[pos]`\n",
      "  'labels': torch.tensor(label, dtype=torch.float32)\n",
      "Epoch 3 Training: 100%|██████████| 4/4 [00:05<00:00,  1.44s/it, loss=6.64]\n",
      "Epoch 3 Validation: 100%|██████████| 1/1 [00:00<00:00,  2.69it/s, loss=6.09]\n",
      "/scratch/user/akash.pillai.0810/.my_env/lib/python3.10/site-packages/sklearn/metrics/_classification.py:1565: UndefinedMetricWarning: F-score is ill-defined and being set to 0.0 due to no true nor predicted samples. Use `zero_division` parameter to control this behavior.\n",
      "  _warn_prf(average, modifier, f\"{metric.capitalize()} is\", len(result))\n",
      "/scratch/user/akash.pillai.0810/.my_env/lib/python3.10/site-packages/sklearn/metrics/_classification.py:1565: UndefinedMetricWarning: Recall is ill-defined and being set to 0.0 due to no true samples. Use `zero_division` parameter to control this behavior.\n",
      "  _warn_prf(average, modifier, f\"{metric.capitalize()} is\", len(result))\n"
     ]
    },
    {
     "name": "stdout",
     "output_type": "stream",
     "text": [
      "Epoch 3: Train Loss=6.8349, Val Loss=6.0910\n",
      "Mean F1 Score: 0.7489, Mean Accuracy: 0.8864, Mean Precision: 0.7121, Mean Recall: 0.8182\n",
      "New best model saved for fold 1 with F1=0.7489\n"
     ]
    },
    {
     "name": "stderr",
     "output_type": "stream",
     "text": [
      "Epoch 4 Training:   0%|          | 0/4 [00:00<?, ?it/s]/tmp/job.14646635/ipykernel_391663/1724129108.py:79: FutureWarning: Series.__getitem__ treating keys as positions is deprecated. In a future version, integer keys will always be treated as labels (consistent with DataFrame behavior). To access a value by position, use `ser.iloc[pos]`\n",
      "  'labels': torch.tensor(label, dtype=torch.float32)\n",
      "Epoch 4 Training: 100%|██████████| 4/4 [00:05<00:00,  1.44s/it, loss=5.67]\n",
      "Epoch 4 Validation: 100%|██████████| 1/1 [00:00<00:00,  2.69it/s, loss=5.5]\n",
      "/scratch/user/akash.pillai.0810/.my_env/lib/python3.10/site-packages/sklearn/metrics/_classification.py:1565: UndefinedMetricWarning: F-score is ill-defined and being set to 0.0 due to no true nor predicted samples. Use `zero_division` parameter to control this behavior.\n",
      "  _warn_prf(average, modifier, f\"{metric.capitalize()} is\", len(result))\n",
      "/scratch/user/akash.pillai.0810/.my_env/lib/python3.10/site-packages/sklearn/metrics/_classification.py:1565: UndefinedMetricWarning: Recall is ill-defined and being set to 0.0 due to no true samples. Use `zero_division` parameter to control this behavior.\n",
      "  _warn_prf(average, modifier, f\"{metric.capitalize()} is\", len(result))\n"
     ]
    },
    {
     "name": "stdout",
     "output_type": "stream",
     "text": [
      "Epoch 4: Train Loss=6.2168, Val Loss=5.5028\n",
      "Mean F1 Score: 0.7034, Mean Accuracy: 0.9148, Mean Precision: 0.6818, Mean Recall: 0.7273\n"
     ]
    },
    {
     "name": "stderr",
     "output_type": "stream",
     "text": [
      "Epoch 5 Training:   0%|          | 0/4 [00:00<?, ?it/s]/tmp/job.14646635/ipykernel_391663/1724129108.py:79: FutureWarning: Series.__getitem__ treating keys as positions is deprecated. In a future version, integer keys will always be treated as labels (consistent with DataFrame behavior). To access a value by position, use `ser.iloc[pos]`\n",
      "  'labels': torch.tensor(label, dtype=torch.float32)\n",
      "Epoch 5 Training: 100%|██████████| 4/4 [00:05<00:00,  1.43s/it, loss=5.53]\n",
      "Epoch 5 Validation: 100%|██████████| 1/1 [00:00<00:00,  2.69it/s, loss=4.92]\n",
      "/scratch/user/akash.pillai.0810/.my_env/lib/python3.10/site-packages/sklearn/metrics/_classification.py:1565: UndefinedMetricWarning: F-score is ill-defined and being set to 0.0 due to no true nor predicted samples. Use `zero_division` parameter to control this behavior.\n",
      "  _warn_prf(average, modifier, f\"{metric.capitalize()} is\", len(result))\n",
      "/scratch/user/akash.pillai.0810/.my_env/lib/python3.10/site-packages/sklearn/metrics/_classification.py:1565: UndefinedMetricWarning: Recall is ill-defined and being set to 0.0 due to no true samples. Use `zero_division` parameter to control this behavior.\n",
      "  _warn_prf(average, modifier, f\"{metric.capitalize()} is\", len(result))\n"
     ]
    },
    {
     "name": "stdout",
     "output_type": "stream",
     "text": [
      "Epoch 5: Train Loss=5.5788, Val Loss=4.9208\n",
      "Mean F1 Score: 0.7034, Mean Accuracy: 0.9148, Mean Precision: 0.6818, Mean Recall: 0.7273\n"
     ]
    },
    {
     "name": "stderr",
     "output_type": "stream",
     "text": [
      "Epoch 6 Training:   0%|          | 0/4 [00:00<?, ?it/s]/tmp/job.14646635/ipykernel_391663/1724129108.py:79: FutureWarning: Series.__getitem__ treating keys as positions is deprecated. In a future version, integer keys will always be treated as labels (consistent with DataFrame behavior). To access a value by position, use `ser.iloc[pos]`\n",
      "  'labels': torch.tensor(label, dtype=torch.float32)\n",
      "Epoch 6 Training: 100%|██████████| 4/4 [00:05<00:00,  1.43s/it, loss=5.24]\n",
      "Epoch 6 Validation: 100%|██████████| 1/1 [00:00<00:00,  2.69it/s, loss=4.51]\n",
      "/scratch/user/akash.pillai.0810/.my_env/lib/python3.10/site-packages/sklearn/metrics/_classification.py:1565: UndefinedMetricWarning: F-score is ill-defined and being set to 0.0 due to no true nor predicted samples. Use `zero_division` parameter to control this behavior.\n",
      "  _warn_prf(average, modifier, f\"{metric.capitalize()} is\", len(result))\n",
      "/scratch/user/akash.pillai.0810/.my_env/lib/python3.10/site-packages/sklearn/metrics/_classification.py:1565: UndefinedMetricWarning: Recall is ill-defined and being set to 0.0 due to no true samples. Use `zero_division` parameter to control this behavior.\n",
      "  _warn_prf(average, modifier, f\"{metric.capitalize()} is\", len(result))\n"
     ]
    },
    {
     "name": "stdout",
     "output_type": "stream",
     "text": [
      "Epoch 6: Train Loss=5.0997, Val Loss=4.5055\n",
      "Mean F1 Score: 0.7034, Mean Accuracy: 0.9148, Mean Precision: 0.6818, Mean Recall: 0.7273\n"
     ]
    },
    {
     "name": "stderr",
     "output_type": "stream",
     "text": [
      "Epoch 7 Training:   0%|          | 0/4 [00:00<?, ?it/s]/tmp/job.14646635/ipykernel_391663/1724129108.py:79: FutureWarning: Series.__getitem__ treating keys as positions is deprecated. In a future version, integer keys will always be treated as labels (consistent with DataFrame behavior). To access a value by position, use `ser.iloc[pos]`\n",
      "  'labels': torch.tensor(label, dtype=torch.float32)\n",
      "Epoch 7 Training: 100%|██████████| 4/4 [00:05<00:00,  1.44s/it, loss=4.21]\n",
      "Epoch 7 Validation: 100%|██████████| 1/1 [00:00<00:00,  2.69it/s, loss=4.18]\n",
      "/scratch/user/akash.pillai.0810/.my_env/lib/python3.10/site-packages/sklearn/metrics/_classification.py:1565: UndefinedMetricWarning: F-score is ill-defined and being set to 0.0 due to no true nor predicted samples. Use `zero_division` parameter to control this behavior.\n",
      "  _warn_prf(average, modifier, f\"{metric.capitalize()} is\", len(result))\n",
      "/scratch/user/akash.pillai.0810/.my_env/lib/python3.10/site-packages/sklearn/metrics/_classification.py:1565: UndefinedMetricWarning: Recall is ill-defined and being set to 0.0 due to no true samples. Use `zero_division` parameter to control this behavior.\n",
      "  _warn_prf(average, modifier, f\"{metric.capitalize()} is\", len(result))\n"
     ]
    },
    {
     "name": "stdout",
     "output_type": "stream",
     "text": [
      "Epoch 7: Train Loss=4.6810, Val Loss=4.1808\n",
      "Mean F1 Score: 0.7034, Mean Accuracy: 0.9148, Mean Precision: 0.6818, Mean Recall: 0.7273\n"
     ]
    },
    {
     "name": "stderr",
     "output_type": "stream",
     "text": [
      "Epoch 8 Training:   0%|          | 0/4 [00:00<?, ?it/s]/tmp/job.14646635/ipykernel_391663/1724129108.py:79: FutureWarning: Series.__getitem__ treating keys as positions is deprecated. In a future version, integer keys will always be treated as labels (consistent with DataFrame behavior). To access a value by position, use `ser.iloc[pos]`\n",
      "  'labels': torch.tensor(label, dtype=torch.float32)\n",
      "Epoch 8 Training: 100%|██████████| 4/4 [00:05<00:00,  1.44s/it, loss=3.86]\n",
      "Epoch 8 Validation: 100%|██████████| 1/1 [00:00<00:00,  2.69it/s, loss=3.92]\n",
      "/scratch/user/akash.pillai.0810/.my_env/lib/python3.10/site-packages/sklearn/metrics/_classification.py:1565: UndefinedMetricWarning: F-score is ill-defined and being set to 0.0 due to no true nor predicted samples. Use `zero_division` parameter to control this behavior.\n",
      "  _warn_prf(average, modifier, f\"{metric.capitalize()} is\", len(result))\n",
      "/scratch/user/akash.pillai.0810/.my_env/lib/python3.10/site-packages/sklearn/metrics/_classification.py:1565: UndefinedMetricWarning: Recall is ill-defined and being set to 0.0 due to no true samples. Use `zero_division` parameter to control this behavior.\n",
      "  _warn_prf(average, modifier, f\"{metric.capitalize()} is\", len(result))\n"
     ]
    },
    {
     "name": "stdout",
     "output_type": "stream",
     "text": [
      "Epoch 8: Train Loss=4.3390, Val Loss=3.9205\n",
      "Mean F1 Score: 0.7034, Mean Accuracy: 0.9148, Mean Precision: 0.6818, Mean Recall: 0.7273\n"
     ]
    },
    {
     "name": "stderr",
     "output_type": "stream",
     "text": [
      "Epoch 9 Training:   0%|          | 0/4 [00:00<?, ?it/s]/tmp/job.14646635/ipykernel_391663/1724129108.py:79: FutureWarning: Series.__getitem__ treating keys as positions is deprecated. In a future version, integer keys will always be treated as labels (consistent with DataFrame behavior). To access a value by position, use `ser.iloc[pos]`\n",
      "  'labels': torch.tensor(label, dtype=torch.float32)\n",
      "Epoch 9 Training: 100%|██████████| 4/4 [00:05<00:00,  1.44s/it, loss=3.83]\n",
      "Epoch 9 Validation: 100%|██████████| 1/1 [00:00<00:00,  2.69it/s, loss=3.71]\n",
      "/scratch/user/akash.pillai.0810/.my_env/lib/python3.10/site-packages/sklearn/metrics/_classification.py:1565: UndefinedMetricWarning: F-score is ill-defined and being set to 0.0 due to no true nor predicted samples. Use `zero_division` parameter to control this behavior.\n",
      "  _warn_prf(average, modifier, f\"{metric.capitalize()} is\", len(result))\n",
      "/scratch/user/akash.pillai.0810/.my_env/lib/python3.10/site-packages/sklearn/metrics/_classification.py:1565: UndefinedMetricWarning: Recall is ill-defined and being set to 0.0 due to no true samples. Use `zero_division` parameter to control this behavior.\n",
      "  _warn_prf(average, modifier, f\"{metric.capitalize()} is\", len(result))\n"
     ]
    },
    {
     "name": "stdout",
     "output_type": "stream",
     "text": [
      "Epoch 9: Train Loss=4.0851, Val Loss=3.7099\n",
      "Mean F1 Score: 0.7034, Mean Accuracy: 0.9148, Mean Precision: 0.6818, Mean Recall: 0.7273\n"
     ]
    },
    {
     "name": "stderr",
     "output_type": "stream",
     "text": [
      "Epoch 10 Training:   0%|          | 0/4 [00:00<?, ?it/s]/tmp/job.14646635/ipykernel_391663/1724129108.py:79: FutureWarning: Series.__getitem__ treating keys as positions is deprecated. In a future version, integer keys will always be treated as labels (consistent with DataFrame behavior). To access a value by position, use `ser.iloc[pos]`\n",
      "  'labels': torch.tensor(label, dtype=torch.float32)\n",
      "Epoch 10 Training: 100%|██████████| 4/4 [00:05<00:00,  1.44s/it, loss=3.7] \n",
      "Epoch 10 Validation: 100%|██████████| 1/1 [00:00<00:00,  2.68it/s, loss=3.54]\n",
      "/scratch/user/akash.pillai.0810/.my_env/lib/python3.10/site-packages/sklearn/metrics/_classification.py:1565: UndefinedMetricWarning: F-score is ill-defined and being set to 0.0 due to no true nor predicted samples. Use `zero_division` parameter to control this behavior.\n",
      "  _warn_prf(average, modifier, f\"{metric.capitalize()} is\", len(result))\n",
      "/scratch/user/akash.pillai.0810/.my_env/lib/python3.10/site-packages/sklearn/metrics/_classification.py:1565: UndefinedMetricWarning: Recall is ill-defined and being set to 0.0 due to no true samples. Use `zero_division` parameter to control this behavior.\n",
      "  _warn_prf(average, modifier, f\"{metric.capitalize()} is\", len(result))\n"
     ]
    },
    {
     "name": "stdout",
     "output_type": "stream",
     "text": [
      "Epoch 10: Train Loss=3.8568, Val Loss=3.5427\n",
      "Mean F1 Score: 0.7034, Mean Accuracy: 0.9148, Mean Precision: 0.6818, Mean Recall: 0.7273\n"
     ]
    },
    {
     "name": "stderr",
     "output_type": "stream",
     "text": [
      "Epoch 11 Training:   0%|          | 0/4 [00:00<?, ?it/s]/tmp/job.14646635/ipykernel_391663/1724129108.py:79: FutureWarning: Series.__getitem__ treating keys as positions is deprecated. In a future version, integer keys will always be treated as labels (consistent with DataFrame behavior). To access a value by position, use `ser.iloc[pos]`\n",
      "  'labels': torch.tensor(label, dtype=torch.float32)\n",
      "Epoch 11 Training: 100%|██████████| 4/4 [00:05<00:00,  1.44s/it, loss=3.58]\n",
      "Epoch 11 Validation: 100%|██████████| 1/1 [00:00<00:00,  2.67it/s, loss=3.41]\n",
      "/scratch/user/akash.pillai.0810/.my_env/lib/python3.10/site-packages/sklearn/metrics/_classification.py:1565: UndefinedMetricWarning: F-score is ill-defined and being set to 0.0 due to no true nor predicted samples. Use `zero_division` parameter to control this behavior.\n",
      "  _warn_prf(average, modifier, f\"{metric.capitalize()} is\", len(result))\n",
      "/scratch/user/akash.pillai.0810/.my_env/lib/python3.10/site-packages/sklearn/metrics/_classification.py:1565: UndefinedMetricWarning: Recall is ill-defined and being set to 0.0 due to no true samples. Use `zero_division` parameter to control this behavior.\n",
      "  _warn_prf(average, modifier, f\"{metric.capitalize()} is\", len(result))\n"
     ]
    },
    {
     "name": "stdout",
     "output_type": "stream",
     "text": [
      "Epoch 11: Train Loss=3.6672, Val Loss=3.4123\n",
      "Mean F1 Score: 0.7034, Mean Accuracy: 0.9148, Mean Precision: 0.6818, Mean Recall: 0.7273\n"
     ]
    },
    {
     "name": "stderr",
     "output_type": "stream",
     "text": [
      "Epoch 12 Training:   0%|          | 0/4 [00:00<?, ?it/s]/tmp/job.14646635/ipykernel_391663/1724129108.py:79: FutureWarning: Series.__getitem__ treating keys as positions is deprecated. In a future version, integer keys will always be treated as labels (consistent with DataFrame behavior). To access a value by position, use `ser.iloc[pos]`\n",
      "  'labels': torch.tensor(label, dtype=torch.float32)\n",
      "Epoch 12 Training: 100%|██████████| 4/4 [00:05<00:00,  1.44s/it, loss=3.38]\n",
      "Epoch 12 Validation: 100%|██████████| 1/1 [00:00<00:00,  2.68it/s, loss=3.31]\n",
      "/scratch/user/akash.pillai.0810/.my_env/lib/python3.10/site-packages/sklearn/metrics/_classification.py:1565: UndefinedMetricWarning: F-score is ill-defined and being set to 0.0 due to no true nor predicted samples. Use `zero_division` parameter to control this behavior.\n",
      "  _warn_prf(average, modifier, f\"{metric.capitalize()} is\", len(result))\n",
      "/scratch/user/akash.pillai.0810/.my_env/lib/python3.10/site-packages/sklearn/metrics/_classification.py:1565: UndefinedMetricWarning: Recall is ill-defined and being set to 0.0 due to no true samples. Use `zero_division` parameter to control this behavior.\n",
      "  _warn_prf(average, modifier, f\"{metric.capitalize()} is\", len(result))\n"
     ]
    },
    {
     "name": "stdout",
     "output_type": "stream",
     "text": [
      "Epoch 12: Train Loss=3.5504, Val Loss=3.3095\n",
      "Mean F1 Score: 0.7034, Mean Accuracy: 0.9148, Mean Precision: 0.6818, Mean Recall: 0.7273\n"
     ]
    },
    {
     "name": "stderr",
     "output_type": "stream",
     "text": [
      "Epoch 13 Training:   0%|          | 0/4 [00:00<?, ?it/s]/tmp/job.14646635/ipykernel_391663/1724129108.py:79: FutureWarning: Series.__getitem__ treating keys as positions is deprecated. In a future version, integer keys will always be treated as labels (consistent with DataFrame behavior). To access a value by position, use `ser.iloc[pos]`\n",
      "  'labels': torch.tensor(label, dtype=torch.float32)\n",
      "Epoch 13 Training: 100%|██████████| 4/4 [00:05<00:00,  1.44s/it, loss=3.67]\n",
      "Epoch 13 Validation: 100%|██████████| 1/1 [00:00<00:00,  2.68it/s, loss=3.23]\n",
      "/scratch/user/akash.pillai.0810/.my_env/lib/python3.10/site-packages/sklearn/metrics/_classification.py:1565: UndefinedMetricWarning: F-score is ill-defined and being set to 0.0 due to no true nor predicted samples. Use `zero_division` parameter to control this behavior.\n",
      "  _warn_prf(average, modifier, f\"{metric.capitalize()} is\", len(result))\n",
      "/scratch/user/akash.pillai.0810/.my_env/lib/python3.10/site-packages/sklearn/metrics/_classification.py:1565: UndefinedMetricWarning: Recall is ill-defined and being set to 0.0 due to no true samples. Use `zero_division` parameter to control this behavior.\n",
      "  _warn_prf(average, modifier, f\"{metric.capitalize()} is\", len(result))\n"
     ]
    },
    {
     "name": "stdout",
     "output_type": "stream",
     "text": [
      "Epoch 13: Train Loss=3.4511, Val Loss=3.2265\n",
      "Mean F1 Score: 0.7034, Mean Accuracy: 0.9148, Mean Precision: 0.6818, Mean Recall: 0.7273\n"
     ]
    },
    {
     "name": "stderr",
     "output_type": "stream",
     "text": [
      "Epoch 14 Training:   0%|          | 0/4 [00:00<?, ?it/s]/tmp/job.14646635/ipykernel_391663/1724129108.py:79: FutureWarning: Series.__getitem__ treating keys as positions is deprecated. In a future version, integer keys will always be treated as labels (consistent with DataFrame behavior). To access a value by position, use `ser.iloc[pos]`\n",
      "  'labels': torch.tensor(label, dtype=torch.float32)\n",
      "Epoch 14 Training: 100%|██████████| 4/4 [00:05<00:00,  1.44s/it, loss=3.43]\n",
      "Epoch 14 Validation: 100%|██████████| 1/1 [00:00<00:00,  2.68it/s, loss=3.16]\n",
      "/scratch/user/akash.pillai.0810/.my_env/lib/python3.10/site-packages/sklearn/metrics/_classification.py:1565: UndefinedMetricWarning: F-score is ill-defined and being set to 0.0 due to no true nor predicted samples. Use `zero_division` parameter to control this behavior.\n",
      "  _warn_prf(average, modifier, f\"{metric.capitalize()} is\", len(result))\n",
      "/scratch/user/akash.pillai.0810/.my_env/lib/python3.10/site-packages/sklearn/metrics/_classification.py:1565: UndefinedMetricWarning: Recall is ill-defined and being set to 0.0 due to no true samples. Use `zero_division` parameter to control this behavior.\n",
      "  _warn_prf(average, modifier, f\"{metric.capitalize()} is\", len(result))\n"
     ]
    },
    {
     "name": "stdout",
     "output_type": "stream",
     "text": [
      "Epoch 14: Train Loss=3.3571, Val Loss=3.1621\n",
      "Mean F1 Score: 0.7034, Mean Accuracy: 0.9148, Mean Precision: 0.6818, Mean Recall: 0.7273\n"
     ]
    },
    {
     "name": "stderr",
     "output_type": "stream",
     "text": [
      "Epoch 15 Training:   0%|          | 0/4 [00:00<?, ?it/s]/tmp/job.14646635/ipykernel_391663/1724129108.py:79: FutureWarning: Series.__getitem__ treating keys as positions is deprecated. In a future version, integer keys will always be treated as labels (consistent with DataFrame behavior). To access a value by position, use `ser.iloc[pos]`\n",
      "  'labels': torch.tensor(label, dtype=torch.float32)\n",
      "Epoch 15 Training: 100%|██████████| 4/4 [00:05<00:00,  1.44s/it, loss=2.53]\n",
      "Epoch 15 Validation: 100%|██████████| 1/1 [00:00<00:00,  2.68it/s, loss=3.11]\n",
      "/scratch/user/akash.pillai.0810/.my_env/lib/python3.10/site-packages/sklearn/metrics/_classification.py:1565: UndefinedMetricWarning: F-score is ill-defined and being set to 0.0 due to no true nor predicted samples. Use `zero_division` parameter to control this behavior.\n",
      "  _warn_prf(average, modifier, f\"{metric.capitalize()} is\", len(result))\n",
      "/scratch/user/akash.pillai.0810/.my_env/lib/python3.10/site-packages/sklearn/metrics/_classification.py:1565: UndefinedMetricWarning: Recall is ill-defined and being set to 0.0 due to no true samples. Use `zero_division` parameter to control this behavior.\n",
      "  _warn_prf(average, modifier, f\"{metric.capitalize()} is\", len(result))\n"
     ]
    },
    {
     "name": "stdout",
     "output_type": "stream",
     "text": [
      "Epoch 15: Train Loss=3.2829, Val Loss=3.1090\n",
      "Mean F1 Score: 0.7034, Mean Accuracy: 0.9148, Mean Precision: 0.6818, Mean Recall: 0.7273\n"
     ]
    },
    {
     "name": "stderr",
     "output_type": "stream",
     "text": [
      "Epoch 16 Training:   0%|          | 0/4 [00:00<?, ?it/s]/tmp/job.14646635/ipykernel_391663/1724129108.py:79: FutureWarning: Series.__getitem__ treating keys as positions is deprecated. In a future version, integer keys will always be treated as labels (consistent with DataFrame behavior). To access a value by position, use `ser.iloc[pos]`\n",
      "  'labels': torch.tensor(label, dtype=torch.float32)\n",
      "Epoch 16 Training: 100%|██████████| 4/4 [00:05<00:00,  1.44s/it, loss=2.36]\n",
      "Epoch 16 Validation: 100%|██████████| 1/1 [00:00<00:00,  2.67it/s, loss=3.07]\n",
      "/scratch/user/akash.pillai.0810/.my_env/lib/python3.10/site-packages/sklearn/metrics/_classification.py:1565: UndefinedMetricWarning: F-score is ill-defined and being set to 0.0 due to no true nor predicted samples. Use `zero_division` parameter to control this behavior.\n",
      "  _warn_prf(average, modifier, f\"{metric.capitalize()} is\", len(result))\n",
      "/scratch/user/akash.pillai.0810/.my_env/lib/python3.10/site-packages/sklearn/metrics/_classification.py:1565: UndefinedMetricWarning: Recall is ill-defined and being set to 0.0 due to no true samples. Use `zero_division` parameter to control this behavior.\n",
      "  _warn_prf(average, modifier, f\"{metric.capitalize()} is\", len(result))\n"
     ]
    },
    {
     "name": "stdout",
     "output_type": "stream",
     "text": [
      "Epoch 16: Train Loss=3.1881, Val Loss=3.0672\n",
      "Mean F1 Score: 0.7034, Mean Accuracy: 0.9148, Mean Precision: 0.6818, Mean Recall: 0.7273\n"
     ]
    },
    {
     "name": "stderr",
     "output_type": "stream",
     "text": [
      "Epoch 17 Training:   0%|          | 0/4 [00:00<?, ?it/s]/tmp/job.14646635/ipykernel_391663/1724129108.py:79: FutureWarning: Series.__getitem__ treating keys as positions is deprecated. In a future version, integer keys will always be treated as labels (consistent with DataFrame behavior). To access a value by position, use `ser.iloc[pos]`\n",
      "  'labels': torch.tensor(label, dtype=torch.float32)\n",
      "Epoch 17 Training: 100%|██████████| 4/4 [00:05<00:00,  1.44s/it, loss=3.56]\n",
      "Epoch 17 Validation: 100%|██████████| 1/1 [00:00<00:00,  2.67it/s, loss=3.03]\n",
      "/scratch/user/akash.pillai.0810/.my_env/lib/python3.10/site-packages/sklearn/metrics/_classification.py:1565: UndefinedMetricWarning: F-score is ill-defined and being set to 0.0 due to no true nor predicted samples. Use `zero_division` parameter to control this behavior.\n",
      "  _warn_prf(average, modifier, f\"{metric.capitalize()} is\", len(result))\n",
      "/scratch/user/akash.pillai.0810/.my_env/lib/python3.10/site-packages/sklearn/metrics/_classification.py:1565: UndefinedMetricWarning: Recall is ill-defined and being set to 0.0 due to no true samples. Use `zero_division` parameter to control this behavior.\n",
      "  _warn_prf(average, modifier, f\"{metric.capitalize()} is\", len(result))\n"
     ]
    },
    {
     "name": "stdout",
     "output_type": "stream",
     "text": [
      "Epoch 17: Train Loss=3.1665, Val Loss=3.0290\n",
      "Mean F1 Score: 0.7034, Mean Accuracy: 0.9148, Mean Precision: 0.6818, Mean Recall: 0.7273\n"
     ]
    },
    {
     "name": "stderr",
     "output_type": "stream",
     "text": [
      "Epoch 18 Training:   0%|          | 0/4 [00:00<?, ?it/s]/tmp/job.14646635/ipykernel_391663/1724129108.py:79: FutureWarning: Series.__getitem__ treating keys as positions is deprecated. In a future version, integer keys will always be treated as labels (consistent with DataFrame behavior). To access a value by position, use `ser.iloc[pos]`\n",
      "  'labels': torch.tensor(label, dtype=torch.float32)\n",
      "Epoch 18 Training: 100%|██████████| 4/4 [00:05<00:00,  1.44s/it, loss=4.22]\n",
      "Epoch 18 Validation: 100%|██████████| 1/1 [00:00<00:00,  2.67it/s, loss=3]\n",
      "/scratch/user/akash.pillai.0810/.my_env/lib/python3.10/site-packages/sklearn/metrics/_classification.py:1565: UndefinedMetricWarning: F-score is ill-defined and being set to 0.0 due to no true nor predicted samples. Use `zero_division` parameter to control this behavior.\n",
      "  _warn_prf(average, modifier, f\"{metric.capitalize()} is\", len(result))\n",
      "/scratch/user/akash.pillai.0810/.my_env/lib/python3.10/site-packages/sklearn/metrics/_classification.py:1565: UndefinedMetricWarning: Recall is ill-defined and being set to 0.0 due to no true samples. Use `zero_division` parameter to control this behavior.\n",
      "  _warn_prf(average, modifier, f\"{metric.capitalize()} is\", len(result))\n"
     ]
    },
    {
     "name": "stdout",
     "output_type": "stream",
     "text": [
      "Epoch 18: Train Loss=3.1372, Val Loss=3.0009\n",
      "Mean F1 Score: 0.7034, Mean Accuracy: 0.9148, Mean Precision: 0.6818, Mean Recall: 0.7273\n"
     ]
    },
    {
     "name": "stderr",
     "output_type": "stream",
     "text": [
      "Epoch 19 Training:   0%|          | 0/4 [00:00<?, ?it/s]/tmp/job.14646635/ipykernel_391663/1724129108.py:79: FutureWarning: Series.__getitem__ treating keys as positions is deprecated. In a future version, integer keys will always be treated as labels (consistent with DataFrame behavior). To access a value by position, use `ser.iloc[pos]`\n",
      "  'labels': torch.tensor(label, dtype=torch.float32)\n",
      "Epoch 19 Training: 100%|██████████| 4/4 [00:05<00:00,  1.44s/it, loss=3.19]\n",
      "Epoch 19 Validation: 100%|██████████| 1/1 [00:00<00:00,  2.67it/s, loss=2.98]\n",
      "/scratch/user/akash.pillai.0810/.my_env/lib/python3.10/site-packages/sklearn/metrics/_classification.py:1565: UndefinedMetricWarning: F-score is ill-defined and being set to 0.0 due to no true nor predicted samples. Use `zero_division` parameter to control this behavior.\n",
      "  _warn_prf(average, modifier, f\"{metric.capitalize()} is\", len(result))\n",
      "/scratch/user/akash.pillai.0810/.my_env/lib/python3.10/site-packages/sklearn/metrics/_classification.py:1565: UndefinedMetricWarning: Recall is ill-defined and being set to 0.0 due to no true samples. Use `zero_division` parameter to control this behavior.\n",
      "  _warn_prf(average, modifier, f\"{metric.capitalize()} is\", len(result))\n"
     ]
    },
    {
     "name": "stdout",
     "output_type": "stream",
     "text": [
      "Epoch 19: Train Loss=3.0753, Val Loss=2.9787\n",
      "Mean F1 Score: 0.7034, Mean Accuracy: 0.9148, Mean Precision: 0.6818, Mean Recall: 0.7273\n"
     ]
    },
    {
     "name": "stderr",
     "output_type": "stream",
     "text": [
      "Epoch 20 Training:   0%|          | 0/4 [00:00<?, ?it/s]/tmp/job.14646635/ipykernel_391663/1724129108.py:79: FutureWarning: Series.__getitem__ treating keys as positions is deprecated. In a future version, integer keys will always be treated as labels (consistent with DataFrame behavior). To access a value by position, use `ser.iloc[pos]`\n",
      "  'labels': torch.tensor(label, dtype=torch.float32)\n",
      "Epoch 20 Training: 100%|██████████| 4/4 [00:05<00:00,  1.44s/it, loss=2.67]\n",
      "Epoch 20 Validation: 100%|██████████| 1/1 [00:00<00:00,  2.67it/s, loss=2.96]\n",
      "/scratch/user/akash.pillai.0810/.my_env/lib/python3.10/site-packages/sklearn/metrics/_classification.py:1565: UndefinedMetricWarning: F-score is ill-defined and being set to 0.0 due to no true nor predicted samples. Use `zero_division` parameter to control this behavior.\n",
      "  _warn_prf(average, modifier, f\"{metric.capitalize()} is\", len(result))\n",
      "/scratch/user/akash.pillai.0810/.my_env/lib/python3.10/site-packages/sklearn/metrics/_classification.py:1565: UndefinedMetricWarning: Recall is ill-defined and being set to 0.0 due to no true samples. Use `zero_division` parameter to control this behavior.\n",
      "  _warn_prf(average, modifier, f\"{metric.capitalize()} is\", len(result))\n"
     ]
    },
    {
     "name": "stdout",
     "output_type": "stream",
     "text": [
      "Epoch 20: Train Loss=3.0092, Val Loss=2.9604\n",
      "Mean F1 Score: 0.7034, Mean Accuracy: 0.9148, Mean Precision: 0.6818, Mean Recall: 0.7273\n"
     ]
    },
    {
     "name": "stderr",
     "output_type": "stream",
     "text": [
      "Epoch 21 Training:   0%|          | 0/4 [00:00<?, ?it/s]/tmp/job.14646635/ipykernel_391663/1724129108.py:79: FutureWarning: Series.__getitem__ treating keys as positions is deprecated. In a future version, integer keys will always be treated as labels (consistent with DataFrame behavior). To access a value by position, use `ser.iloc[pos]`\n",
      "  'labels': torch.tensor(label, dtype=torch.float32)\n",
      "Epoch 21 Training: 100%|██████████| 4/4 [00:05<00:00,  1.44s/it, loss=2.7] \n",
      "Epoch 21 Validation: 100%|██████████| 1/1 [00:00<00:00,  2.67it/s, loss=2.95]\n",
      "/scratch/user/akash.pillai.0810/.my_env/lib/python3.10/site-packages/sklearn/metrics/_classification.py:1565: UndefinedMetricWarning: F-score is ill-defined and being set to 0.0 due to no true nor predicted samples. Use `zero_division` parameter to control this behavior.\n",
      "  _warn_prf(average, modifier, f\"{metric.capitalize()} is\", len(result))\n",
      "/scratch/user/akash.pillai.0810/.my_env/lib/python3.10/site-packages/sklearn/metrics/_classification.py:1565: UndefinedMetricWarning: Recall is ill-defined and being set to 0.0 due to no true samples. Use `zero_division` parameter to control this behavior.\n",
      "  _warn_prf(average, modifier, f\"{metric.capitalize()} is\", len(result))\n"
     ]
    },
    {
     "name": "stdout",
     "output_type": "stream",
     "text": [
      "Epoch 21: Train Loss=3.0001, Val Loss=2.9463\n",
      "Mean F1 Score: 0.7034, Mean Accuracy: 0.9148, Mean Precision: 0.6818, Mean Recall: 0.7273\n"
     ]
    },
    {
     "name": "stderr",
     "output_type": "stream",
     "text": [
      "Epoch 22 Training:   0%|          | 0/4 [00:00<?, ?it/s]/tmp/job.14646635/ipykernel_391663/1724129108.py:79: FutureWarning: Series.__getitem__ treating keys as positions is deprecated. In a future version, integer keys will always be treated as labels (consistent with DataFrame behavior). To access a value by position, use `ser.iloc[pos]`\n",
      "  'labels': torch.tensor(label, dtype=torch.float32)\n",
      "Epoch 22 Training: 100%|██████████| 4/4 [00:05<00:00,  1.44s/it, loss=2.59]\n",
      "Epoch 22 Validation: 100%|██████████| 1/1 [00:00<00:00,  2.67it/s, loss=2.93]\n",
      "/scratch/user/akash.pillai.0810/.my_env/lib/python3.10/site-packages/sklearn/metrics/_classification.py:1565: UndefinedMetricWarning: F-score is ill-defined and being set to 0.0 due to no true nor predicted samples. Use `zero_division` parameter to control this behavior.\n",
      "  _warn_prf(average, modifier, f\"{metric.capitalize()} is\", len(result))\n",
      "/scratch/user/akash.pillai.0810/.my_env/lib/python3.10/site-packages/sklearn/metrics/_classification.py:1565: UndefinedMetricWarning: Recall is ill-defined and being set to 0.0 due to no true samples. Use `zero_division` parameter to control this behavior.\n",
      "  _warn_prf(average, modifier, f\"{metric.capitalize()} is\", len(result))\n"
     ]
    },
    {
     "name": "stdout",
     "output_type": "stream",
     "text": [
      "Epoch 22: Train Loss=2.9615, Val Loss=2.9329\n",
      "Mean F1 Score: 0.7034, Mean Accuracy: 0.9148, Mean Precision: 0.6818, Mean Recall: 0.7273\n"
     ]
    },
    {
     "name": "stderr",
     "output_type": "stream",
     "text": [
      "Epoch 23 Training:   0%|          | 0/4 [00:00<?, ?it/s]/tmp/job.14646635/ipykernel_391663/1724129108.py:79: FutureWarning: Series.__getitem__ treating keys as positions is deprecated. In a future version, integer keys will always be treated as labels (consistent with DataFrame behavior). To access a value by position, use `ser.iloc[pos]`\n",
      "  'labels': torch.tensor(label, dtype=torch.float32)\n",
      "Epoch 23 Training: 100%|██████████| 4/4 [00:05<00:00,  1.44s/it, loss=2.17]\n",
      "Epoch 23 Validation: 100%|██████████| 1/1 [00:00<00:00,  2.67it/s, loss=2.92]\n",
      "/scratch/user/akash.pillai.0810/.my_env/lib/python3.10/site-packages/sklearn/metrics/_classification.py:1565: UndefinedMetricWarning: F-score is ill-defined and being set to 0.0 due to no true nor predicted samples. Use `zero_division` parameter to control this behavior.\n",
      "  _warn_prf(average, modifier, f\"{metric.capitalize()} is\", len(result))\n",
      "/scratch/user/akash.pillai.0810/.my_env/lib/python3.10/site-packages/sklearn/metrics/_classification.py:1565: UndefinedMetricWarning: Recall is ill-defined and being set to 0.0 due to no true samples. Use `zero_division` parameter to control this behavior.\n",
      "  _warn_prf(average, modifier, f\"{metric.capitalize()} is\", len(result))\n"
     ]
    },
    {
     "name": "stdout",
     "output_type": "stream",
     "text": [
      "Epoch 23: Train Loss=2.9635, Val Loss=2.9206\n",
      "Mean F1 Score: 0.7034, Mean Accuracy: 0.9148, Mean Precision: 0.6818, Mean Recall: 0.7273\n"
     ]
    },
    {
     "name": "stderr",
     "output_type": "stream",
     "text": [
      "Epoch 24 Training:   0%|          | 0/4 [00:00<?, ?it/s]/tmp/job.14646635/ipykernel_391663/1724129108.py:79: FutureWarning: Series.__getitem__ treating keys as positions is deprecated. In a future version, integer keys will always be treated as labels (consistent with DataFrame behavior). To access a value by position, use `ser.iloc[pos]`\n",
      "  'labels': torch.tensor(label, dtype=torch.float32)\n",
      "Epoch 24 Training: 100%|██████████| 4/4 [00:05<00:00,  1.44s/it, loss=3.14]\n",
      "Epoch 24 Validation: 100%|██████████| 1/1 [00:00<00:00,  2.66it/s, loss=2.91]\n",
      "/scratch/user/akash.pillai.0810/.my_env/lib/python3.10/site-packages/sklearn/metrics/_classification.py:1565: UndefinedMetricWarning: F-score is ill-defined and being set to 0.0 due to no true nor predicted samples. Use `zero_division` parameter to control this behavior.\n",
      "  _warn_prf(average, modifier, f\"{metric.capitalize()} is\", len(result))\n",
      "/scratch/user/akash.pillai.0810/.my_env/lib/python3.10/site-packages/sklearn/metrics/_classification.py:1565: UndefinedMetricWarning: Recall is ill-defined and being set to 0.0 due to no true samples. Use `zero_division` parameter to control this behavior.\n",
      "  _warn_prf(average, modifier, f\"{metric.capitalize()} is\", len(result))\n"
     ]
    },
    {
     "name": "stdout",
     "output_type": "stream",
     "text": [
      "Epoch 24: Train Loss=2.9926, Val Loss=2.9099\n",
      "Mean F1 Score: 0.7034, Mean Accuracy: 0.9148, Mean Precision: 0.6818, Mean Recall: 0.7273\n"
     ]
    },
    {
     "name": "stderr",
     "output_type": "stream",
     "text": [
      "Epoch 25 Training:   0%|          | 0/4 [00:00<?, ?it/s]/tmp/job.14646635/ipykernel_391663/1724129108.py:79: FutureWarning: Series.__getitem__ treating keys as positions is deprecated. In a future version, integer keys will always be treated as labels (consistent with DataFrame behavior). To access a value by position, use `ser.iloc[pos]`\n",
      "  'labels': torch.tensor(label, dtype=torch.float32)\n",
      "Epoch 25 Training: 100%|██████████| 4/4 [00:05<00:00,  1.45s/it, loss=3.83]\n",
      "Epoch 25 Validation: 100%|██████████| 1/1 [00:00<00:00,  2.66it/s, loss=2.91]\n",
      "/scratch/user/akash.pillai.0810/.my_env/lib/python3.10/site-packages/sklearn/metrics/_classification.py:1565: UndefinedMetricWarning: F-score is ill-defined and being set to 0.0 due to no true nor predicted samples. Use `zero_division` parameter to control this behavior.\n",
      "  _warn_prf(average, modifier, f\"{metric.capitalize()} is\", len(result))\n",
      "/scratch/user/akash.pillai.0810/.my_env/lib/python3.10/site-packages/sklearn/metrics/_classification.py:1565: UndefinedMetricWarning: Recall is ill-defined and being set to 0.0 due to no true samples. Use `zero_division` parameter to control this behavior.\n",
      "  _warn_prf(average, modifier, f\"{metric.capitalize()} is\", len(result))\n"
     ]
    },
    {
     "name": "stdout",
     "output_type": "stream",
     "text": [
      "Epoch 25: Train Loss=2.9641, Val Loss=2.9064\n",
      "Mean F1 Score: 0.7034, Mean Accuracy: 0.9148, Mean Precision: 0.6818, Mean Recall: 0.7273\n"
     ]
    },
    {
     "name": "stderr",
     "output_type": "stream",
     "text": [
      "Epoch 26 Training:   0%|          | 0/4 [00:00<?, ?it/s]/tmp/job.14646635/ipykernel_391663/1724129108.py:79: FutureWarning: Series.__getitem__ treating keys as positions is deprecated. In a future version, integer keys will always be treated as labels (consistent with DataFrame behavior). To access a value by position, use `ser.iloc[pos]`\n",
      "  'labels': torch.tensor(label, dtype=torch.float32)\n",
      "Epoch 26 Training: 100%|██████████| 4/4 [00:05<00:00,  1.45s/it, loss=2.99]\n",
      "Epoch 26 Validation: 100%|██████████| 1/1 [00:00<00:00,  2.67it/s, loss=2.9]\n",
      "/scratch/user/akash.pillai.0810/.my_env/lib/python3.10/site-packages/sklearn/metrics/_classification.py:1565: UndefinedMetricWarning: F-score is ill-defined and being set to 0.0 due to no true nor predicted samples. Use `zero_division` parameter to control this behavior.\n",
      "  _warn_prf(average, modifier, f\"{metric.capitalize()} is\", len(result))\n",
      "/scratch/user/akash.pillai.0810/.my_env/lib/python3.10/site-packages/sklearn/metrics/_classification.py:1565: UndefinedMetricWarning: Recall is ill-defined and being set to 0.0 due to no true samples. Use `zero_division` parameter to control this behavior.\n",
      "  _warn_prf(average, modifier, f\"{metric.capitalize()} is\", len(result))\n"
     ]
    },
    {
     "name": "stdout",
     "output_type": "stream",
     "text": [
      "Epoch 26: Train Loss=2.9381, Val Loss=2.9044\n",
      "Mean F1 Score: 0.7034, Mean Accuracy: 0.9148, Mean Precision: 0.6818, Mean Recall: 0.7273\n"
     ]
    },
    {
     "name": "stderr",
     "output_type": "stream",
     "text": [
      "Epoch 27 Training:   0%|          | 0/4 [00:00<?, ?it/s]/tmp/job.14646635/ipykernel_391663/1724129108.py:79: FutureWarning: Series.__getitem__ treating keys as positions is deprecated. In a future version, integer keys will always be treated as labels (consistent with DataFrame behavior). To access a value by position, use `ser.iloc[pos]`\n",
      "  'labels': torch.tensor(label, dtype=torch.float32)\n",
      "Epoch 27 Training: 100%|██████████| 4/4 [00:05<00:00,  1.44s/it, loss=3.6] \n",
      "Epoch 27 Validation: 100%|██████████| 1/1 [00:00<00:00,  2.66it/s, loss=2.89]\n",
      "/scratch/user/akash.pillai.0810/.my_env/lib/python3.10/site-packages/sklearn/metrics/_classification.py:1565: UndefinedMetricWarning: F-score is ill-defined and being set to 0.0 due to no true nor predicted samples. Use `zero_division` parameter to control this behavior.\n",
      "  _warn_prf(average, modifier, f\"{metric.capitalize()} is\", len(result))\n",
      "/scratch/user/akash.pillai.0810/.my_env/lib/python3.10/site-packages/sklearn/metrics/_classification.py:1565: UndefinedMetricWarning: Recall is ill-defined and being set to 0.0 due to no true samples. Use `zero_division` parameter to control this behavior.\n",
      "  _warn_prf(average, modifier, f\"{metric.capitalize()} is\", len(result))\n"
     ]
    },
    {
     "name": "stdout",
     "output_type": "stream",
     "text": [
      "Epoch 27: Train Loss=2.9339, Val Loss=2.8894\n",
      "Mean F1 Score: 0.7034, Mean Accuracy: 0.9148, Mean Precision: 0.6818, Mean Recall: 0.7273\n"
     ]
    },
    {
     "name": "stderr",
     "output_type": "stream",
     "text": [
      "Epoch 28 Training:   0%|          | 0/4 [00:00<?, ?it/s]/tmp/job.14646635/ipykernel_391663/1724129108.py:79: FutureWarning: Series.__getitem__ treating keys as positions is deprecated. In a future version, integer keys will always be treated as labels (consistent with DataFrame behavior). To access a value by position, use `ser.iloc[pos]`\n",
      "  'labels': torch.tensor(label, dtype=torch.float32)\n",
      "Epoch 28 Training: 100%|██████████| 4/4 [00:05<00:00,  1.45s/it, loss=4]   \n",
      "Epoch 28 Validation: 100%|██████████| 1/1 [00:00<00:00,  2.66it/s, loss=2.88]\n",
      "/scratch/user/akash.pillai.0810/.my_env/lib/python3.10/site-packages/sklearn/metrics/_classification.py:1565: UndefinedMetricWarning: F-score is ill-defined and being set to 0.0 due to no true nor predicted samples. Use `zero_division` parameter to control this behavior.\n",
      "  _warn_prf(average, modifier, f\"{metric.capitalize()} is\", len(result))\n",
      "/scratch/user/akash.pillai.0810/.my_env/lib/python3.10/site-packages/sklearn/metrics/_classification.py:1565: UndefinedMetricWarning: Recall is ill-defined and being set to 0.0 due to no true samples. Use `zero_division` parameter to control this behavior.\n",
      "  _warn_prf(average, modifier, f\"{metric.capitalize()} is\", len(result))\n"
     ]
    },
    {
     "name": "stdout",
     "output_type": "stream",
     "text": [
      "Epoch 28: Train Loss=2.9191, Val Loss=2.8846\n",
      "Mean F1 Score: 0.7034, Mean Accuracy: 0.9148, Mean Precision: 0.6818, Mean Recall: 0.7273\n"
     ]
    },
    {
     "name": "stderr",
     "output_type": "stream",
     "text": [
      "Epoch 29 Training:   0%|          | 0/4 [00:00<?, ?it/s]/tmp/job.14646635/ipykernel_391663/1724129108.py:79: FutureWarning: Series.__getitem__ treating keys as positions is deprecated. In a future version, integer keys will always be treated as labels (consistent with DataFrame behavior). To access a value by position, use `ser.iloc[pos]`\n",
      "  'labels': torch.tensor(label, dtype=torch.float32)\n",
      "Epoch 29 Training: 100%|██████████| 4/4 [00:05<00:00,  1.45s/it, loss=3.16]\n",
      "Epoch 29 Validation: 100%|██████████| 1/1 [00:00<00:00,  2.67it/s, loss=2.88]\n",
      "/scratch/user/akash.pillai.0810/.my_env/lib/python3.10/site-packages/sklearn/metrics/_classification.py:1565: UndefinedMetricWarning: F-score is ill-defined and being set to 0.0 due to no true nor predicted samples. Use `zero_division` parameter to control this behavior.\n",
      "  _warn_prf(average, modifier, f\"{metric.capitalize()} is\", len(result))\n",
      "/scratch/user/akash.pillai.0810/.my_env/lib/python3.10/site-packages/sklearn/metrics/_classification.py:1565: UndefinedMetricWarning: Recall is ill-defined and being set to 0.0 due to no true samples. Use `zero_division` parameter to control this behavior.\n",
      "  _warn_prf(average, modifier, f\"{metric.capitalize()} is\", len(result))\n"
     ]
    },
    {
     "name": "stdout",
     "output_type": "stream",
     "text": [
      "Epoch 29: Train Loss=2.8637, Val Loss=2.8826\n",
      "Mean F1 Score: 0.7034, Mean Accuracy: 0.9148, Mean Precision: 0.6818, Mean Recall: 0.7273\n"
     ]
    },
    {
     "name": "stderr",
     "output_type": "stream",
     "text": [
      "Epoch 30 Training:   0%|          | 0/4 [00:00<?, ?it/s]/tmp/job.14646635/ipykernel_391663/1724129108.py:79: FutureWarning: Series.__getitem__ treating keys as positions is deprecated. In a future version, integer keys will always be treated as labels (consistent with DataFrame behavior). To access a value by position, use `ser.iloc[pos]`\n",
      "  'labels': torch.tensor(label, dtype=torch.float32)\n",
      "Epoch 30 Training: 100%|██████████| 4/4 [00:05<00:00,  1.45s/it, loss=3.95]\n",
      "Epoch 30 Validation: 100%|██████████| 1/1 [00:00<00:00,  2.65it/s, loss=2.88]\n",
      "/scratch/user/akash.pillai.0810/.my_env/lib/python3.10/site-packages/sklearn/metrics/_classification.py:1565: UndefinedMetricWarning: F-score is ill-defined and being set to 0.0 due to no true nor predicted samples. Use `zero_division` parameter to control this behavior.\n",
      "  _warn_prf(average, modifier, f\"{metric.capitalize()} is\", len(result))\n",
      "/scratch/user/akash.pillai.0810/.my_env/lib/python3.10/site-packages/sklearn/metrics/_classification.py:1565: UndefinedMetricWarning: Recall is ill-defined and being set to 0.0 due to no true samples. Use `zero_division` parameter to control this behavior.\n",
      "  _warn_prf(average, modifier, f\"{metric.capitalize()} is\", len(result))\n"
     ]
    },
    {
     "name": "stdout",
     "output_type": "stream",
     "text": [
      "Epoch 30: Train Loss=2.8762, Val Loss=2.8821\n",
      "Mean F1 Score: 0.7034, Mean Accuracy: 0.9148, Mean Precision: 0.6818, Mean Recall: 0.7273\n"
     ]
    },
    {
     "name": "stderr",
     "output_type": "stream",
     "text": [
      "Epoch 31 Training:   0%|          | 0/4 [00:00<?, ?it/s]/tmp/job.14646635/ipykernel_391663/1724129108.py:79: FutureWarning: Series.__getitem__ treating keys as positions is deprecated. In a future version, integer keys will always be treated as labels (consistent with DataFrame behavior). To access a value by position, use `ser.iloc[pos]`\n",
      "  'labels': torch.tensor(label, dtype=torch.float32)\n",
      "Epoch 31 Training: 100%|██████████| 4/4 [00:05<00:00,  1.45s/it, loss=2.5] \n",
      "Epoch 31 Validation: 100%|██████████| 1/1 [00:00<00:00,  2.65it/s, loss=2.87]\n",
      "/scratch/user/akash.pillai.0810/.my_env/lib/python3.10/site-packages/sklearn/metrics/_classification.py:1565: UndefinedMetricWarning: F-score is ill-defined and being set to 0.0 due to no true nor predicted samples. Use `zero_division` parameter to control this behavior.\n",
      "  _warn_prf(average, modifier, f\"{metric.capitalize()} is\", len(result))\n",
      "/scratch/user/akash.pillai.0810/.my_env/lib/python3.10/site-packages/sklearn/metrics/_classification.py:1565: UndefinedMetricWarning: Recall is ill-defined and being set to 0.0 due to no true samples. Use `zero_division` parameter to control this behavior.\n",
      "  _warn_prf(average, modifier, f\"{metric.capitalize()} is\", len(result))\n"
     ]
    },
    {
     "name": "stdout",
     "output_type": "stream",
     "text": [
      "Epoch 31: Train Loss=2.8355, Val Loss=2.8737\n",
      "Mean F1 Score: 0.7034, Mean Accuracy: 0.9148, Mean Precision: 0.6818, Mean Recall: 0.7273\n"
     ]
    },
    {
     "name": "stderr",
     "output_type": "stream",
     "text": [
      "Epoch 32 Training:   0%|          | 0/4 [00:00<?, ?it/s]/tmp/job.14646635/ipykernel_391663/1724129108.py:79: FutureWarning: Series.__getitem__ treating keys as positions is deprecated. In a future version, integer keys will always be treated as labels (consistent with DataFrame behavior). To access a value by position, use `ser.iloc[pos]`\n",
      "  'labels': torch.tensor(label, dtype=torch.float32)\n",
      "Epoch 32 Training: 100%|██████████| 4/4 [00:05<00:00,  1.45s/it, loss=2.84]\n",
      "Epoch 32 Validation: 100%|██████████| 1/1 [00:00<00:00,  2.66it/s, loss=2.88]\n",
      "/scratch/user/akash.pillai.0810/.my_env/lib/python3.10/site-packages/sklearn/metrics/_classification.py:1565: UndefinedMetricWarning: F-score is ill-defined and being set to 0.0 due to no true nor predicted samples. Use `zero_division` parameter to control this behavior.\n",
      "  _warn_prf(average, modifier, f\"{metric.capitalize()} is\", len(result))\n",
      "/scratch/user/akash.pillai.0810/.my_env/lib/python3.10/site-packages/sklearn/metrics/_classification.py:1565: UndefinedMetricWarning: Recall is ill-defined and being set to 0.0 due to no true samples. Use `zero_division` parameter to control this behavior.\n",
      "  _warn_prf(average, modifier, f\"{metric.capitalize()} is\", len(result))\n"
     ]
    },
    {
     "name": "stdout",
     "output_type": "stream",
     "text": [
      "Epoch 32: Train Loss=2.8529, Val Loss=2.8758\n",
      "Mean F1 Score: 0.7034, Mean Accuracy: 0.9148, Mean Precision: 0.6818, Mean Recall: 0.7273\n"
     ]
    },
    {
     "name": "stderr",
     "output_type": "stream",
     "text": [
      "Epoch 33 Training:   0%|          | 0/4 [00:00<?, ?it/s]/tmp/job.14646635/ipykernel_391663/1724129108.py:79: FutureWarning: Series.__getitem__ treating keys as positions is deprecated. In a future version, integer keys will always be treated as labels (consistent with DataFrame behavior). To access a value by position, use `ser.iloc[pos]`\n",
      "  'labels': torch.tensor(label, dtype=torch.float32)\n",
      "Epoch 33 Training: 100%|██████████| 4/4 [00:05<00:00,  1.45s/it, loss=3.11]\n",
      "Epoch 33 Validation: 100%|██████████| 1/1 [00:00<00:00,  2.66it/s, loss=2.86]\n",
      "/scratch/user/akash.pillai.0810/.my_env/lib/python3.10/site-packages/sklearn/metrics/_classification.py:1565: UndefinedMetricWarning: F-score is ill-defined and being set to 0.0 due to no true nor predicted samples. Use `zero_division` parameter to control this behavior.\n",
      "  _warn_prf(average, modifier, f\"{metric.capitalize()} is\", len(result))\n",
      "/scratch/user/akash.pillai.0810/.my_env/lib/python3.10/site-packages/sklearn/metrics/_classification.py:1565: UndefinedMetricWarning: Recall is ill-defined and being set to 0.0 due to no true samples. Use `zero_division` parameter to control this behavior.\n",
      "  _warn_prf(average, modifier, f\"{metric.capitalize()} is\", len(result))\n"
     ]
    },
    {
     "name": "stdout",
     "output_type": "stream",
     "text": [
      "Epoch 33: Train Loss=2.8124, Val Loss=2.8637\n",
      "Mean F1 Score: 0.7034, Mean Accuracy: 0.9148, Mean Precision: 0.6818, Mean Recall: 0.7273\n"
     ]
    },
    {
     "name": "stderr",
     "output_type": "stream",
     "text": [
      "Epoch 34 Training:   0%|          | 0/4 [00:00<?, ?it/s]/tmp/job.14646635/ipykernel_391663/1724129108.py:79: FutureWarning: Series.__getitem__ treating keys as positions is deprecated. In a future version, integer keys will always be treated as labels (consistent with DataFrame behavior). To access a value by position, use `ser.iloc[pos]`\n",
      "  'labels': torch.tensor(label, dtype=torch.float32)\n",
      "Epoch 34 Training: 100%|██████████| 4/4 [00:05<00:00,  1.45s/it, loss=2.93]\n",
      "Epoch 34 Validation: 100%|██████████| 1/1 [00:00<00:00,  2.65it/s, loss=2.88]\n",
      "/scratch/user/akash.pillai.0810/.my_env/lib/python3.10/site-packages/sklearn/metrics/_classification.py:1565: UndefinedMetricWarning: F-score is ill-defined and being set to 0.0 due to no true nor predicted samples. Use `zero_division` parameter to control this behavior.\n",
      "  _warn_prf(average, modifier, f\"{metric.capitalize()} is\", len(result))\n",
      "/scratch/user/akash.pillai.0810/.my_env/lib/python3.10/site-packages/sklearn/metrics/_classification.py:1565: UndefinedMetricWarning: Recall is ill-defined and being set to 0.0 due to no true samples. Use `zero_division` parameter to control this behavior.\n",
      "  _warn_prf(average, modifier, f\"{metric.capitalize()} is\", len(result))\n"
     ]
    },
    {
     "name": "stdout",
     "output_type": "stream",
     "text": [
      "Epoch 34: Train Loss=2.8041, Val Loss=2.8818\n",
      "Mean F1 Score: 0.7034, Mean Accuracy: 0.9148, Mean Precision: 0.6818, Mean Recall: 0.7273\n"
     ]
    },
    {
     "name": "stderr",
     "output_type": "stream",
     "text": [
      "Epoch 35 Training:   0%|          | 0/4 [00:00<?, ?it/s]/tmp/job.14646635/ipykernel_391663/1724129108.py:79: FutureWarning: Series.__getitem__ treating keys as positions is deprecated. In a future version, integer keys will always be treated as labels (consistent with DataFrame behavior). To access a value by position, use `ser.iloc[pos]`\n",
      "  'labels': torch.tensor(label, dtype=torch.float32)\n",
      "Epoch 35 Training: 100%|██████████| 4/4 [00:05<00:00,  1.45s/it, loss=2.52]\n",
      "Epoch 35 Validation: 100%|██████████| 1/1 [00:00<00:00,  2.66it/s, loss=2.86]\n",
      "/scratch/user/akash.pillai.0810/.my_env/lib/python3.10/site-packages/sklearn/metrics/_classification.py:1565: UndefinedMetricWarning: F-score is ill-defined and being set to 0.0 due to no true nor predicted samples. Use `zero_division` parameter to control this behavior.\n",
      "  _warn_prf(average, modifier, f\"{metric.capitalize()} is\", len(result))\n",
      "/scratch/user/akash.pillai.0810/.my_env/lib/python3.10/site-packages/sklearn/metrics/_classification.py:1565: UndefinedMetricWarning: Recall is ill-defined and being set to 0.0 due to no true samples. Use `zero_division` parameter to control this behavior.\n",
      "  _warn_prf(average, modifier, f\"{metric.capitalize()} is\", len(result))\n"
     ]
    },
    {
     "name": "stdout",
     "output_type": "stream",
     "text": [
      "Epoch 35: Train Loss=2.7993, Val Loss=2.8615\n",
      "Mean F1 Score: 0.7034, Mean Accuracy: 0.9148, Mean Precision: 0.6818, Mean Recall: 0.7273\n"
     ]
    },
    {
     "name": "stderr",
     "output_type": "stream",
     "text": [
      "Epoch 36 Training:   0%|          | 0/4 [00:00<?, ?it/s]/tmp/job.14646635/ipykernel_391663/1724129108.py:79: FutureWarning: Series.__getitem__ treating keys as positions is deprecated. In a future version, integer keys will always be treated as labels (consistent with DataFrame behavior). To access a value by position, use `ser.iloc[pos]`\n",
      "  'labels': torch.tensor(label, dtype=torch.float32)\n",
      "Epoch 36 Training: 100%|██████████| 4/4 [00:05<00:00,  1.45s/it, loss=2.85]\n",
      "Epoch 36 Validation: 100%|██████████| 1/1 [00:00<00:00,  2.66it/s, loss=2.9]\n",
      "/scratch/user/akash.pillai.0810/.my_env/lib/python3.10/site-packages/sklearn/metrics/_classification.py:1565: UndefinedMetricWarning: F-score is ill-defined and being set to 0.0 due to no true nor predicted samples. Use `zero_division` parameter to control this behavior.\n",
      "  _warn_prf(average, modifier, f\"{metric.capitalize()} is\", len(result))\n",
      "/scratch/user/akash.pillai.0810/.my_env/lib/python3.10/site-packages/sklearn/metrics/_classification.py:1565: UndefinedMetricWarning: Recall is ill-defined and being set to 0.0 due to no true samples. Use `zero_division` parameter to control this behavior.\n",
      "  _warn_prf(average, modifier, f\"{metric.capitalize()} is\", len(result))\n"
     ]
    },
    {
     "name": "stdout",
     "output_type": "stream",
     "text": [
      "Epoch 36: Train Loss=2.7701, Val Loss=2.9016\n",
      "Mean F1 Score: 0.7034, Mean Accuracy: 0.9034, Mean Precision: 0.6818, Mean Recall: 0.7273\n"
     ]
    },
    {
     "name": "stderr",
     "output_type": "stream",
     "text": [
      "Epoch 37 Training:   0%|          | 0/4 [00:00<?, ?it/s]/tmp/job.14646635/ipykernel_391663/1724129108.py:79: FutureWarning: Series.__getitem__ treating keys as positions is deprecated. In a future version, integer keys will always be treated as labels (consistent with DataFrame behavior). To access a value by position, use `ser.iloc[pos]`\n",
      "  'labels': torch.tensor(label, dtype=torch.float32)\n",
      "Epoch 37 Training: 100%|██████████| 4/4 [00:05<00:00,  1.45s/it, loss=4.26]\n",
      "Epoch 37 Validation: 100%|██████████| 1/1 [00:00<00:00,  2.66it/s, loss=2.91]\n",
      "/scratch/user/akash.pillai.0810/.my_env/lib/python3.10/site-packages/sklearn/metrics/_classification.py:1565: UndefinedMetricWarning: F-score is ill-defined and being set to 0.0 due to no true nor predicted samples. Use `zero_division` parameter to control this behavior.\n",
      "  _warn_prf(average, modifier, f\"{metric.capitalize()} is\", len(result))\n",
      "/scratch/user/akash.pillai.0810/.my_env/lib/python3.10/site-packages/sklearn/metrics/_classification.py:1565: UndefinedMetricWarning: Recall is ill-defined and being set to 0.0 due to no true samples. Use `zero_division` parameter to control this behavior.\n",
      "  _warn_prf(average, modifier, f\"{metric.capitalize()} is\", len(result))\n"
     ]
    },
    {
     "name": "stdout",
     "output_type": "stream",
     "text": [
      "Epoch 37: Train Loss=2.7789, Val Loss=2.9149\n",
      "Mean F1 Score: 0.7034, Mean Accuracy: 0.9034, Mean Precision: 0.6818, Mean Recall: 0.7273\n"
     ]
    },
    {
     "name": "stderr",
     "output_type": "stream",
     "text": [
      "Epoch 38 Training:   0%|          | 0/4 [00:00<?, ?it/s]/tmp/job.14646635/ipykernel_391663/1724129108.py:79: FutureWarning: Series.__getitem__ treating keys as positions is deprecated. In a future version, integer keys will always be treated as labels (consistent with DataFrame behavior). To access a value by position, use `ser.iloc[pos]`\n",
      "  'labels': torch.tensor(label, dtype=torch.float32)\n",
      "Epoch 38 Training: 100%|██████████| 4/4 [00:05<00:00,  1.45s/it, loss=2.02]\n",
      "Epoch 38 Validation: 100%|██████████| 1/1 [00:00<00:00,  2.65it/s, loss=2.85]\n",
      "/scratch/user/akash.pillai.0810/.my_env/lib/python3.10/site-packages/sklearn/metrics/_classification.py:1565: UndefinedMetricWarning: F-score is ill-defined and being set to 0.0 due to no true nor predicted samples. Use `zero_division` parameter to control this behavior.\n",
      "  _warn_prf(average, modifier, f\"{metric.capitalize()} is\", len(result))\n",
      "/scratch/user/akash.pillai.0810/.my_env/lib/python3.10/site-packages/sklearn/metrics/_classification.py:1565: UndefinedMetricWarning: Recall is ill-defined and being set to 0.0 due to no true samples. Use `zero_division` parameter to control this behavior.\n",
      "  _warn_prf(average, modifier, f\"{metric.capitalize()} is\", len(result))\n"
     ]
    },
    {
     "name": "stdout",
     "output_type": "stream",
     "text": [
      "Epoch 38: Train Loss=2.6930, Val Loss=2.8506\n",
      "Mean F1 Score: 0.7034, Mean Accuracy: 0.9148, Mean Precision: 0.6818, Mean Recall: 0.7273\n"
     ]
    },
    {
     "name": "stderr",
     "output_type": "stream",
     "text": [
      "Epoch 39 Training:   0%|          | 0/4 [00:00<?, ?it/s]/tmp/job.14646635/ipykernel_391663/1724129108.py:79: FutureWarning: Series.__getitem__ treating keys as positions is deprecated. In a future version, integer keys will always be treated as labels (consistent with DataFrame behavior). To access a value by position, use `ser.iloc[pos]`\n",
      "  'labels': torch.tensor(label, dtype=torch.float32)\n",
      "Epoch 39 Training: 100%|██████████| 4/4 [00:05<00:00,  1.45s/it, loss=3.65]\n",
      "Epoch 39 Validation: 100%|██████████| 1/1 [00:00<00:00,  2.66it/s, loss=2.86]\n",
      "/scratch/user/akash.pillai.0810/.my_env/lib/python3.10/site-packages/sklearn/metrics/_classification.py:1565: UndefinedMetricWarning: F-score is ill-defined and being set to 0.0 due to no true nor predicted samples. Use `zero_division` parameter to control this behavior.\n",
      "  _warn_prf(average, modifier, f\"{metric.capitalize()} is\", len(result))\n",
      "/scratch/user/akash.pillai.0810/.my_env/lib/python3.10/site-packages/sklearn/metrics/_classification.py:1565: UndefinedMetricWarning: Recall is ill-defined and being set to 0.0 due to no true samples. Use `zero_division` parameter to control this behavior.\n",
      "  _warn_prf(average, modifier, f\"{metric.capitalize()} is\", len(result))\n"
     ]
    },
    {
     "name": "stdout",
     "output_type": "stream",
     "text": [
      "Epoch 39: Train Loss=2.7353, Val Loss=2.8591\n",
      "Mean F1 Score: 0.7034, Mean Accuracy: 0.9148, Mean Precision: 0.6818, Mean Recall: 0.7273\n"
     ]
    },
    {
     "name": "stderr",
     "output_type": "stream",
     "text": [
      "Epoch 40 Training:   0%|          | 0/4 [00:00<?, ?it/s]/tmp/job.14646635/ipykernel_391663/1724129108.py:79: FutureWarning: Series.__getitem__ treating keys as positions is deprecated. In a future version, integer keys will always be treated as labels (consistent with DataFrame behavior). To access a value by position, use `ser.iloc[pos]`\n",
      "  'labels': torch.tensor(label, dtype=torch.float32)\n",
      "Epoch 40 Training: 100%|██████████| 4/4 [00:05<00:00,  1.45s/it, loss=2.05]\n",
      "Epoch 40 Validation: 100%|██████████| 1/1 [00:00<00:00,  2.66it/s, loss=2.92]\n",
      "/scratch/user/akash.pillai.0810/.my_env/lib/python3.10/site-packages/sklearn/metrics/_classification.py:1565: UndefinedMetricWarning: F-score is ill-defined and being set to 0.0 due to no true nor predicted samples. Use `zero_division` parameter to control this behavior.\n",
      "  _warn_prf(average, modifier, f\"{metric.capitalize()} is\", len(result))\n",
      "/scratch/user/akash.pillai.0810/.my_env/lib/python3.10/site-packages/sklearn/metrics/_classification.py:1565: UndefinedMetricWarning: Recall is ill-defined and being set to 0.0 due to no true samples. Use `zero_division` parameter to control this behavior.\n",
      "  _warn_prf(average, modifier, f\"{metric.capitalize()} is\", len(result))\n"
     ]
    },
    {
     "name": "stdout",
     "output_type": "stream",
     "text": [
      "Epoch 40: Train Loss=2.7264, Val Loss=2.9233\n",
      "Mean F1 Score: 0.7034, Mean Accuracy: 0.8977, Mean Precision: 0.6818, Mean Recall: 0.7273\n"
     ]
    },
    {
     "name": "stderr",
     "output_type": "stream",
     "text": [
      "Epoch 41 Training:   0%|          | 0/4 [00:00<?, ?it/s]/tmp/job.14646635/ipykernel_391663/1724129108.py:79: FutureWarning: Series.__getitem__ treating keys as positions is deprecated. In a future version, integer keys will always be treated as labels (consistent with DataFrame behavior). To access a value by position, use `ser.iloc[pos]`\n",
      "  'labels': torch.tensor(label, dtype=torch.float32)\n",
      "Epoch 41 Training: 100%|██████████| 4/4 [00:05<00:00,  1.45s/it, loss=2.41]\n",
      "Epoch 41 Validation: 100%|██████████| 1/1 [00:00<00:00,  2.65it/s, loss=2.85]\n",
      "/scratch/user/akash.pillai.0810/.my_env/lib/python3.10/site-packages/sklearn/metrics/_classification.py:1565: UndefinedMetricWarning: F-score is ill-defined and being set to 0.0 due to no true nor predicted samples. Use `zero_division` parameter to control this behavior.\n",
      "  _warn_prf(average, modifier, f\"{metric.capitalize()} is\", len(result))\n",
      "/scratch/user/akash.pillai.0810/.my_env/lib/python3.10/site-packages/sklearn/metrics/_classification.py:1565: UndefinedMetricWarning: Recall is ill-defined and being set to 0.0 due to no true samples. Use `zero_division` parameter to control this behavior.\n",
      "  _warn_prf(average, modifier, f\"{metric.capitalize()} is\", len(result))\n"
     ]
    },
    {
     "name": "stdout",
     "output_type": "stream",
     "text": [
      "Epoch 41: Train Loss=2.6992, Val Loss=2.8487\n",
      "Mean F1 Score: 0.7034, Mean Accuracy: 0.9148, Mean Precision: 0.6818, Mean Recall: 0.7273\n"
     ]
    },
    {
     "name": "stderr",
     "output_type": "stream",
     "text": [
      "Epoch 42 Training:   0%|          | 0/4 [00:00<?, ?it/s]/tmp/job.14646635/ipykernel_391663/1724129108.py:79: FutureWarning: Series.__getitem__ treating keys as positions is deprecated. In a future version, integer keys will always be treated as labels (consistent with DataFrame behavior). To access a value by position, use `ser.iloc[pos]`\n",
      "  'labels': torch.tensor(label, dtype=torch.float32)\n",
      "Epoch 42 Training: 100%|██████████| 4/4 [00:05<00:00,  1.45s/it, loss=2.56]\n",
      "Epoch 42 Validation: 100%|██████████| 1/1 [00:00<00:00,  2.65it/s, loss=2.86]\n",
      "/scratch/user/akash.pillai.0810/.my_env/lib/python3.10/site-packages/sklearn/metrics/_classification.py:1565: UndefinedMetricWarning: F-score is ill-defined and being set to 0.0 due to no true nor predicted samples. Use `zero_division` parameter to control this behavior.\n",
      "  _warn_prf(average, modifier, f\"{metric.capitalize()} is\", len(result))\n",
      "/scratch/user/akash.pillai.0810/.my_env/lib/python3.10/site-packages/sklearn/metrics/_classification.py:1565: UndefinedMetricWarning: Recall is ill-defined and being set to 0.0 due to no true samples. Use `zero_division` parameter to control this behavior.\n",
      "  _warn_prf(average, modifier, f\"{metric.capitalize()} is\", len(result))\n"
     ]
    },
    {
     "name": "stdout",
     "output_type": "stream",
     "text": [
      "Epoch 42: Train Loss=2.6381, Val Loss=2.8571\n",
      "Mean F1 Score: 0.7034, Mean Accuracy: 0.9148, Mean Precision: 0.6818, Mean Recall: 0.7273\n"
     ]
    },
    {
     "name": "stderr",
     "output_type": "stream",
     "text": [
      "Epoch 43 Training:   0%|          | 0/4 [00:00<?, ?it/s]/tmp/job.14646635/ipykernel_391663/1724129108.py:79: FutureWarning: Series.__getitem__ treating keys as positions is deprecated. In a future version, integer keys will always be treated as labels (consistent with DataFrame behavior). To access a value by position, use `ser.iloc[pos]`\n",
      "  'labels': torch.tensor(label, dtype=torch.float32)\n",
      "Epoch 43 Training: 100%|██████████| 4/4 [00:05<00:00,  1.45s/it, loss=3.85]\n",
      "Epoch 43 Validation: 100%|██████████| 1/1 [00:00<00:00,  2.66it/s, loss=2.92]\n",
      "/scratch/user/akash.pillai.0810/.my_env/lib/python3.10/site-packages/sklearn/metrics/_classification.py:1565: UndefinedMetricWarning: F-score is ill-defined and being set to 0.0 due to no true nor predicted samples. Use `zero_division` parameter to control this behavior.\n",
      "  _warn_prf(average, modifier, f\"{metric.capitalize()} is\", len(result))\n",
      "/scratch/user/akash.pillai.0810/.my_env/lib/python3.10/site-packages/sklearn/metrics/_classification.py:1565: UndefinedMetricWarning: Recall is ill-defined and being set to 0.0 due to no true samples. Use `zero_division` parameter to control this behavior.\n",
      "  _warn_prf(average, modifier, f\"{metric.capitalize()} is\", len(result))\n"
     ]
    },
    {
     "name": "stdout",
     "output_type": "stream",
     "text": [
      "Epoch 43: Train Loss=2.6628, Val Loss=2.9172\n",
      "Mean F1 Score: 0.7034, Mean Accuracy: 0.9034, Mean Precision: 0.6818, Mean Recall: 0.7273\n"
     ]
    },
    {
     "name": "stderr",
     "output_type": "stream",
     "text": [
      "Epoch 44 Training:   0%|          | 0/4 [00:00<?, ?it/s]/tmp/job.14646635/ipykernel_391663/1724129108.py:79: FutureWarning: Series.__getitem__ treating keys as positions is deprecated. In a future version, integer keys will always be treated as labels (consistent with DataFrame behavior). To access a value by position, use `ser.iloc[pos]`\n",
      "  'labels': torch.tensor(label, dtype=torch.float32)\n",
      "Epoch 44 Training: 100%|██████████| 4/4 [00:05<00:00,  1.45s/it, loss=2.88]\n",
      "Epoch 44 Validation: 100%|██████████| 1/1 [00:00<00:00,  2.65it/s, loss=2.86]\n",
      "/scratch/user/akash.pillai.0810/.my_env/lib/python3.10/site-packages/sklearn/metrics/_classification.py:1565: UndefinedMetricWarning: F-score is ill-defined and being set to 0.0 due to no true nor predicted samples. Use `zero_division` parameter to control this behavior.\n",
      "  _warn_prf(average, modifier, f\"{metric.capitalize()} is\", len(result))\n",
      "/scratch/user/akash.pillai.0810/.my_env/lib/python3.10/site-packages/sklearn/metrics/_classification.py:1565: UndefinedMetricWarning: Recall is ill-defined and being set to 0.0 due to no true samples. Use `zero_division` parameter to control this behavior.\n",
      "  _warn_prf(average, modifier, f\"{metric.capitalize()} is\", len(result))\n"
     ]
    },
    {
     "name": "stdout",
     "output_type": "stream",
     "text": [
      "Epoch 44: Train Loss=2.6179, Val Loss=2.8572\n",
      "Mean F1 Score: 0.7034, Mean Accuracy: 0.9091, Mean Precision: 0.6818, Mean Recall: 0.7273\n"
     ]
    },
    {
     "name": "stderr",
     "output_type": "stream",
     "text": [
      "Epoch 45 Training:   0%|          | 0/4 [00:00<?, ?it/s]/tmp/job.14646635/ipykernel_391663/1724129108.py:79: FutureWarning: Series.__getitem__ treating keys as positions is deprecated. In a future version, integer keys will always be treated as labels (consistent with DataFrame behavior). To access a value by position, use `ser.iloc[pos]`\n",
      "  'labels': torch.tensor(label, dtype=torch.float32)\n",
      "Epoch 45 Training: 100%|██████████| 4/4 [00:05<00:00,  1.45s/it, loss=2.43]\n",
      "Epoch 45 Validation: 100%|██████████| 1/1 [00:00<00:00,  2.64it/s, loss=2.94]\n",
      "/scratch/user/akash.pillai.0810/.my_env/lib/python3.10/site-packages/sklearn/metrics/_classification.py:1565: UndefinedMetricWarning: F-score is ill-defined and being set to 0.0 due to no true nor predicted samples. Use `zero_division` parameter to control this behavior.\n",
      "  _warn_prf(average, modifier, f\"{metric.capitalize()} is\", len(result))\n",
      "/scratch/user/akash.pillai.0810/.my_env/lib/python3.10/site-packages/sklearn/metrics/_classification.py:1565: UndefinedMetricWarning: Recall is ill-defined and being set to 0.0 due to no true samples. Use `zero_division` parameter to control this behavior.\n",
      "  _warn_prf(average, modifier, f\"{metric.capitalize()} is\", len(result))\n"
     ]
    },
    {
     "name": "stdout",
     "output_type": "stream",
     "text": [
      "Epoch 45: Train Loss=2.5669, Val Loss=2.9396\n",
      "Mean F1 Score: 0.7034, Mean Accuracy: 0.9034, Mean Precision: 0.6818, Mean Recall: 0.7273\n"
     ]
    },
    {
     "name": "stderr",
     "output_type": "stream",
     "text": [
      "Epoch 46 Training:   0%|          | 0/4 [00:00<?, ?it/s]/tmp/job.14646635/ipykernel_391663/1724129108.py:79: FutureWarning: Series.__getitem__ treating keys as positions is deprecated. In a future version, integer keys will always be treated as labels (consistent with DataFrame behavior). To access a value by position, use `ser.iloc[pos]`\n",
      "  'labels': torch.tensor(label, dtype=torch.float32)\n",
      "Epoch 46 Training: 100%|██████████| 4/4 [00:05<00:00,  1.45s/it, loss=4.18]\n",
      "Epoch 46 Validation: 100%|██████████| 1/1 [00:00<00:00,  2.65it/s, loss=2.85]\n",
      "/scratch/user/akash.pillai.0810/.my_env/lib/python3.10/site-packages/sklearn/metrics/_classification.py:1565: UndefinedMetricWarning: F-score is ill-defined and being set to 0.0 due to no true nor predicted samples. Use `zero_division` parameter to control this behavior.\n",
      "  _warn_prf(average, modifier, f\"{metric.capitalize()} is\", len(result))\n",
      "/scratch/user/akash.pillai.0810/.my_env/lib/python3.10/site-packages/sklearn/metrics/_classification.py:1565: UndefinedMetricWarning: Recall is ill-defined and being set to 0.0 due to no true samples. Use `zero_division` parameter to control this behavior.\n",
      "  _warn_prf(average, modifier, f\"{metric.capitalize()} is\", len(result))\n"
     ]
    },
    {
     "name": "stdout",
     "output_type": "stream",
     "text": [
      "Epoch 46: Train Loss=2.5131, Val Loss=2.8544\n",
      "Mean F1 Score: 0.7034, Mean Accuracy: 0.9091, Mean Precision: 0.6818, Mean Recall: 0.7273\n"
     ]
    },
    {
     "name": "stderr",
     "output_type": "stream",
     "text": [
      "Epoch 47 Training:   0%|          | 0/4 [00:00<?, ?it/s]/tmp/job.14646635/ipykernel_391663/1724129108.py:79: FutureWarning: Series.__getitem__ treating keys as positions is deprecated. In a future version, integer keys will always be treated as labels (consistent with DataFrame behavior). To access a value by position, use `ser.iloc[pos]`\n",
      "  'labels': torch.tensor(label, dtype=torch.float32)\n",
      "Epoch 47 Training: 100%|██████████| 4/4 [00:05<00:00,  1.45s/it, loss=2.54]\n",
      "Epoch 47 Validation: 100%|██████████| 1/1 [00:00<00:00,  2.66it/s, loss=2.98]\n",
      "/scratch/user/akash.pillai.0810/.my_env/lib/python3.10/site-packages/sklearn/metrics/_classification.py:1565: UndefinedMetricWarning: F-score is ill-defined and being set to 0.0 due to no true nor predicted samples. Use `zero_division` parameter to control this behavior.\n",
      "  _warn_prf(average, modifier, f\"{metric.capitalize()} is\", len(result))\n",
      "/scratch/user/akash.pillai.0810/.my_env/lib/python3.10/site-packages/sklearn/metrics/_classification.py:1565: UndefinedMetricWarning: Recall is ill-defined and being set to 0.0 due to no true samples. Use `zero_division` parameter to control this behavior.\n",
      "  _warn_prf(average, modifier, f\"{metric.capitalize()} is\", len(result))\n"
     ]
    },
    {
     "name": "stdout",
     "output_type": "stream",
     "text": [
      "Epoch 47: Train Loss=2.5253, Val Loss=2.9820\n",
      "Mean F1 Score: 0.7034, Mean Accuracy: 0.8920, Mean Precision: 0.6818, Mean Recall: 0.7273\n"
     ]
    },
    {
     "name": "stderr",
     "output_type": "stream",
     "text": [
      "Epoch 48 Training:   0%|          | 0/4 [00:00<?, ?it/s]/tmp/job.14646635/ipykernel_391663/1724129108.py:79: FutureWarning: Series.__getitem__ treating keys as positions is deprecated. In a future version, integer keys will always be treated as labels (consistent with DataFrame behavior). To access a value by position, use `ser.iloc[pos]`\n",
      "  'labels': torch.tensor(label, dtype=torch.float32)\n",
      "Epoch 48 Training: 100%|██████████| 4/4 [00:05<00:00,  1.45s/it, loss=3.39]\n",
      "Epoch 48 Validation: 100%|██████████| 1/1 [00:00<00:00,  2.65it/s, loss=2.87]\n",
      "/scratch/user/akash.pillai.0810/.my_env/lib/python3.10/site-packages/sklearn/metrics/_classification.py:1565: UndefinedMetricWarning: F-score is ill-defined and being set to 0.0 due to no true nor predicted samples. Use `zero_division` parameter to control this behavior.\n",
      "  _warn_prf(average, modifier, f\"{metric.capitalize()} is\", len(result))\n",
      "/scratch/user/akash.pillai.0810/.my_env/lib/python3.10/site-packages/sklearn/metrics/_classification.py:1565: UndefinedMetricWarning: Recall is ill-defined and being set to 0.0 due to no true samples. Use `zero_division` parameter to control this behavior.\n",
      "  _warn_prf(average, modifier, f\"{metric.capitalize()} is\", len(result))\n"
     ]
    },
    {
     "name": "stdout",
     "output_type": "stream",
     "text": [
      "Epoch 48: Train Loss=2.5164, Val Loss=2.8681\n",
      "Mean F1 Score: 0.7034, Mean Accuracy: 0.9091, Mean Precision: 0.6818, Mean Recall: 0.7273\n"
     ]
    },
    {
     "name": "stderr",
     "output_type": "stream",
     "text": [
      "Epoch 49 Training:   0%|          | 0/4 [00:00<?, ?it/s]/tmp/job.14646635/ipykernel_391663/1724129108.py:79: FutureWarning: Series.__getitem__ treating keys as positions is deprecated. In a future version, integer keys will always be treated as labels (consistent with DataFrame behavior). To access a value by position, use `ser.iloc[pos]`\n",
      "  'labels': torch.tensor(label, dtype=torch.float32)\n",
      "Epoch 49 Training: 100%|██████████| 4/4 [00:05<00:00,  1.45s/it, loss=3.59]\n",
      "Epoch 49 Validation: 100%|██████████| 1/1 [00:00<00:00,  2.65it/s, loss=2.99]\n",
      "/scratch/user/akash.pillai.0810/.my_env/lib/python3.10/site-packages/sklearn/metrics/_classification.py:1565: UndefinedMetricWarning: F-score is ill-defined and being set to 0.0 due to no true nor predicted samples. Use `zero_division` parameter to control this behavior.\n",
      "  _warn_prf(average, modifier, f\"{metric.capitalize()} is\", len(result))\n",
      "/scratch/user/akash.pillai.0810/.my_env/lib/python3.10/site-packages/sklearn/metrics/_classification.py:1565: UndefinedMetricWarning: Recall is ill-defined and being set to 0.0 due to no true samples. Use `zero_division` parameter to control this behavior.\n",
      "  _warn_prf(average, modifier, f\"{metric.capitalize()} is\", len(result))\n"
     ]
    },
    {
     "name": "stdout",
     "output_type": "stream",
     "text": [
      "Epoch 49: Train Loss=2.4703, Val Loss=2.9880\n",
      "Mean F1 Score: 0.7034, Mean Accuracy: 0.8977, Mean Precision: 0.6818, Mean Recall: 0.7273\n"
     ]
    },
    {
     "name": "stderr",
     "output_type": "stream",
     "text": [
      "Epoch 50 Training:   0%|          | 0/4 [00:00<?, ?it/s]/tmp/job.14646635/ipykernel_391663/1724129108.py:79: FutureWarning: Series.__getitem__ treating keys as positions is deprecated. In a future version, integer keys will always be treated as labels (consistent with DataFrame behavior). To access a value by position, use `ser.iloc[pos]`\n",
      "  'labels': torch.tensor(label, dtype=torch.float32)\n",
      "Epoch 50 Training: 100%|██████████| 4/4 [00:05<00:00,  1.45s/it, loss=1.93]\n",
      "Epoch 50 Validation: 100%|██████████| 1/1 [00:00<00:00,  2.65it/s, loss=2.9]\n",
      "/scratch/user/akash.pillai.0810/.my_env/lib/python3.10/site-packages/sklearn/metrics/_classification.py:1565: UndefinedMetricWarning: F-score is ill-defined and being set to 0.0 due to no true nor predicted samples. Use `zero_division` parameter to control this behavior.\n",
      "  _warn_prf(average, modifier, f\"{metric.capitalize()} is\", len(result))\n",
      "/scratch/user/akash.pillai.0810/.my_env/lib/python3.10/site-packages/sklearn/metrics/_classification.py:1565: UndefinedMetricWarning: Recall is ill-defined and being set to 0.0 due to no true samples. Use `zero_division` parameter to control this behavior.\n",
      "  _warn_prf(average, modifier, f\"{metric.capitalize()} is\", len(result))\n"
     ]
    },
    {
     "name": "stdout",
     "output_type": "stream",
     "text": [
      "Epoch 50: Train Loss=2.4609, Val Loss=2.9029\n",
      "Mean F1 Score: 0.7034, Mean Accuracy: 0.9091, Mean Precision: 0.6818, Mean Recall: 0.7273\n"
     ]
    },
    {
     "name": "stderr",
     "output_type": "stream",
     "text": [
      "Epoch 51 Training:   0%|          | 0/4 [00:00<?, ?it/s]/tmp/job.14646635/ipykernel_391663/1724129108.py:79: FutureWarning: Series.__getitem__ treating keys as positions is deprecated. In a future version, integer keys will always be treated as labels (consistent with DataFrame behavior). To access a value by position, use `ser.iloc[pos]`\n",
      "  'labels': torch.tensor(label, dtype=torch.float32)\n",
      "Epoch 51 Training: 100%|██████████| 4/4 [00:05<00:00,  1.45s/it, loss=3.17]\n",
      "Epoch 51 Validation: 100%|██████████| 1/1 [00:00<00:00,  2.65it/s, loss=2.97]\n",
      "/scratch/user/akash.pillai.0810/.my_env/lib/python3.10/site-packages/sklearn/metrics/_classification.py:1565: UndefinedMetricWarning: F-score is ill-defined and being set to 0.0 due to no true nor predicted samples. Use `zero_division` parameter to control this behavior.\n",
      "  _warn_prf(average, modifier, f\"{metric.capitalize()} is\", len(result))\n",
      "/scratch/user/akash.pillai.0810/.my_env/lib/python3.10/site-packages/sklearn/metrics/_classification.py:1565: UndefinedMetricWarning: Recall is ill-defined and being set to 0.0 due to no true samples. Use `zero_division` parameter to control this behavior.\n",
      "  _warn_prf(average, modifier, f\"{metric.capitalize()} is\", len(result))\n"
     ]
    },
    {
     "name": "stdout",
     "output_type": "stream",
     "text": [
      "Epoch 51: Train Loss=2.4385, Val Loss=2.9691\n",
      "Mean F1 Score: 0.7034, Mean Accuracy: 0.8977, Mean Precision: 0.6818, Mean Recall: 0.7273\n"
     ]
    },
    {
     "name": "stderr",
     "output_type": "stream",
     "text": [
      "Epoch 52 Training:   0%|          | 0/4 [00:00<?, ?it/s]/tmp/job.14646635/ipykernel_391663/1724129108.py:79: FutureWarning: Series.__getitem__ treating keys as positions is deprecated. In a future version, integer keys will always be treated as labels (consistent with DataFrame behavior). To access a value by position, use `ser.iloc[pos]`\n",
      "  'labels': torch.tensor(label, dtype=torch.float32)\n",
      "Epoch 52 Training: 100%|██████████| 4/4 [00:05<00:00,  1.45s/it, loss=2.27]\n",
      "Epoch 52 Validation: 100%|██████████| 1/1 [00:00<00:00,  2.65it/s, loss=3.02]\n",
      "/scratch/user/akash.pillai.0810/.my_env/lib/python3.10/site-packages/sklearn/metrics/_classification.py:1565: UndefinedMetricWarning: F-score is ill-defined and being set to 0.0 due to no true nor predicted samples. Use `zero_division` parameter to control this behavior.\n",
      "  _warn_prf(average, modifier, f\"{metric.capitalize()} is\", len(result))\n",
      "/scratch/user/akash.pillai.0810/.my_env/lib/python3.10/site-packages/sklearn/metrics/_classification.py:1565: UndefinedMetricWarning: Recall is ill-defined and being set to 0.0 due to no true samples. Use `zero_division` parameter to control this behavior.\n",
      "  _warn_prf(average, modifier, f\"{metric.capitalize()} is\", len(result))\n"
     ]
    },
    {
     "name": "stdout",
     "output_type": "stream",
     "text": [
      "Epoch 52: Train Loss=2.3938, Val Loss=3.0171\n",
      "Mean F1 Score: 0.7034, Mean Accuracy: 0.8920, Mean Precision: 0.6818, Mean Recall: 0.7273\n"
     ]
    },
    {
     "name": "stderr",
     "output_type": "stream",
     "text": [
      "Epoch 53 Training:   0%|          | 0/4 [00:00<?, ?it/s]/tmp/job.14646635/ipykernel_391663/1724129108.py:79: FutureWarning: Series.__getitem__ treating keys as positions is deprecated. In a future version, integer keys will always be treated as labels (consistent with DataFrame behavior). To access a value by position, use `ser.iloc[pos]`\n",
      "  'labels': torch.tensor(label, dtype=torch.float32)\n",
      "Epoch 53 Training: 100%|██████████| 4/4 [00:05<00:00,  1.45s/it, loss=2.45]\n",
      "Epoch 53 Validation: 100%|██████████| 1/1 [00:00<00:00,  2.65it/s, loss=2.88]\n",
      "/scratch/user/akash.pillai.0810/.my_env/lib/python3.10/site-packages/sklearn/metrics/_classification.py:1565: UndefinedMetricWarning: F-score is ill-defined and being set to 0.0 due to no true nor predicted samples. Use `zero_division` parameter to control this behavior.\n",
      "  _warn_prf(average, modifier, f\"{metric.capitalize()} is\", len(result))\n",
      "/scratch/user/akash.pillai.0810/.my_env/lib/python3.10/site-packages/sklearn/metrics/_classification.py:1565: UndefinedMetricWarning: Recall is ill-defined and being set to 0.0 due to no true samples. Use `zero_division` parameter to control this behavior.\n",
      "  _warn_prf(average, modifier, f\"{metric.capitalize()} is\", len(result))\n"
     ]
    },
    {
     "name": "stdout",
     "output_type": "stream",
     "text": [
      "Epoch 53: Train Loss=2.4289, Val Loss=2.8839\n",
      "Mean F1 Score: 0.7034, Mean Accuracy: 0.9091, Mean Precision: 0.6818, Mean Recall: 0.7273\n"
     ]
    },
    {
     "name": "stderr",
     "output_type": "stream",
     "text": [
      "Epoch 54 Training:   0%|          | 0/4 [00:00<?, ?it/s]/tmp/job.14646635/ipykernel_391663/1724129108.py:79: FutureWarning: Series.__getitem__ treating keys as positions is deprecated. In a future version, integer keys will always be treated as labels (consistent with DataFrame behavior). To access a value by position, use `ser.iloc[pos]`\n",
      "  'labels': torch.tensor(label, dtype=torch.float32)\n",
      "Epoch 54 Training: 100%|██████████| 4/4 [00:05<00:00,  1.45s/it, loss=3.92]\n",
      "Epoch 54 Validation: 100%|██████████| 1/1 [00:00<00:00,  2.65it/s, loss=3.02]\n",
      "/scratch/user/akash.pillai.0810/.my_env/lib/python3.10/site-packages/sklearn/metrics/_classification.py:1565: UndefinedMetricWarning: F-score is ill-defined and being set to 0.0 due to no true nor predicted samples. Use `zero_division` parameter to control this behavior.\n",
      "  _warn_prf(average, modifier, f\"{metric.capitalize()} is\", len(result))\n",
      "/scratch/user/akash.pillai.0810/.my_env/lib/python3.10/site-packages/sklearn/metrics/_classification.py:1565: UndefinedMetricWarning: Recall is ill-defined and being set to 0.0 due to no true samples. Use `zero_division` parameter to control this behavior.\n",
      "  _warn_prf(average, modifier, f\"{metric.capitalize()} is\", len(result))\n"
     ]
    },
    {
     "name": "stdout",
     "output_type": "stream",
     "text": [
      "Epoch 54: Train Loss=2.4110, Val Loss=3.0178\n",
      "Mean F1 Score: 0.7034, Mean Accuracy: 0.8920, Mean Precision: 0.6818, Mean Recall: 0.7273\n"
     ]
    },
    {
     "name": "stderr",
     "output_type": "stream",
     "text": [
      "Epoch 55 Training:   0%|          | 0/4 [00:00<?, ?it/s]/tmp/job.14646635/ipykernel_391663/1724129108.py:79: FutureWarning: Series.__getitem__ treating keys as positions is deprecated. In a future version, integer keys will always be treated as labels (consistent with DataFrame behavior). To access a value by position, use `ser.iloc[pos]`\n",
      "  'labels': torch.tensor(label, dtype=torch.float32)\n",
      "Epoch 55 Training: 100%|██████████| 4/4 [00:05<00:00,  1.45s/it, loss=2.57]\n",
      "Epoch 55 Validation: 100%|██████████| 1/1 [00:00<00:00,  2.65it/s, loss=2.92]\n",
      "/scratch/user/akash.pillai.0810/.my_env/lib/python3.10/site-packages/sklearn/metrics/_classification.py:1565: UndefinedMetricWarning: F-score is ill-defined and being set to 0.0 due to no true nor predicted samples. Use `zero_division` parameter to control this behavior.\n",
      "  _warn_prf(average, modifier, f\"{metric.capitalize()} is\", len(result))\n",
      "/scratch/user/akash.pillai.0810/.my_env/lib/python3.10/site-packages/sklearn/metrics/_classification.py:1565: UndefinedMetricWarning: Recall is ill-defined and being set to 0.0 due to no true samples. Use `zero_division` parameter to control this behavior.\n",
      "  _warn_prf(average, modifier, f\"{metric.capitalize()} is\", len(result))\n"
     ]
    },
    {
     "name": "stdout",
     "output_type": "stream",
     "text": [
      "Epoch 55: Train Loss=2.3640, Val Loss=2.9209\n",
      "Mean F1 Score: 0.7034, Mean Accuracy: 0.9034, Mean Precision: 0.6818, Mean Recall: 0.7273\n"
     ]
    },
    {
     "name": "stderr",
     "output_type": "stream",
     "text": [
      "Epoch 56 Training:   0%|          | 0/4 [00:00<?, ?it/s]/tmp/job.14646635/ipykernel_391663/1724129108.py:79: FutureWarning: Series.__getitem__ treating keys as positions is deprecated. In a future version, integer keys will always be treated as labels (consistent with DataFrame behavior). To access a value by position, use `ser.iloc[pos]`\n",
      "  'labels': torch.tensor(label, dtype=torch.float32)\n",
      "Epoch 56 Training: 100%|██████████| 4/4 [00:05<00:00,  1.45s/it, loss=1.97]\n",
      "Epoch 56 Validation: 100%|██████████| 1/1 [00:00<00:00,  2.65it/s, loss=2.91]\n",
      "/scratch/user/akash.pillai.0810/.my_env/lib/python3.10/site-packages/sklearn/metrics/_classification.py:1565: UndefinedMetricWarning: F-score is ill-defined and being set to 0.0 due to no true nor predicted samples. Use `zero_division` parameter to control this behavior.\n",
      "  _warn_prf(average, modifier, f\"{metric.capitalize()} is\", len(result))\n",
      "/scratch/user/akash.pillai.0810/.my_env/lib/python3.10/site-packages/sklearn/metrics/_classification.py:1565: UndefinedMetricWarning: Recall is ill-defined and being set to 0.0 due to no true samples. Use `zero_division` parameter to control this behavior.\n",
      "  _warn_prf(average, modifier, f\"{metric.capitalize()} is\", len(result))\n"
     ]
    },
    {
     "name": "stdout",
     "output_type": "stream",
     "text": [
      "Epoch 56: Train Loss=2.3803, Val Loss=2.9138\n",
      "Mean F1 Score: 0.7034, Mean Accuracy: 0.9034, Mean Precision: 0.6818, Mean Recall: 0.7273\n"
     ]
    },
    {
     "name": "stderr",
     "output_type": "stream",
     "text": [
      "Epoch 57 Training:   0%|          | 0/4 [00:00<?, ?it/s]/tmp/job.14646635/ipykernel_391663/1724129108.py:79: FutureWarning: Series.__getitem__ treating keys as positions is deprecated. In a future version, integer keys will always be treated as labels (consistent with DataFrame behavior). To access a value by position, use `ser.iloc[pos]`\n",
      "  'labels': torch.tensor(label, dtype=torch.float32)\n",
      "Epoch 57 Training: 100%|██████████| 4/4 [00:05<00:00,  1.45s/it, loss=1.51]\n",
      "Epoch 57 Validation: 100%|██████████| 1/1 [00:00<00:00,  2.65it/s, loss=3]\n",
      "/scratch/user/akash.pillai.0810/.my_env/lib/python3.10/site-packages/sklearn/metrics/_classification.py:1565: UndefinedMetricWarning: F-score is ill-defined and being set to 0.0 due to no true nor predicted samples. Use `zero_division` parameter to control this behavior.\n",
      "  _warn_prf(average, modifier, f\"{metric.capitalize()} is\", len(result))\n",
      "/scratch/user/akash.pillai.0810/.my_env/lib/python3.10/site-packages/sklearn/metrics/_classification.py:1565: UndefinedMetricWarning: Recall is ill-defined and being set to 0.0 due to no true samples. Use `zero_division` parameter to control this behavior.\n",
      "  _warn_prf(average, modifier, f\"{metric.capitalize()} is\", len(result))\n"
     ]
    },
    {
     "name": "stdout",
     "output_type": "stream",
     "text": [
      "Epoch 57: Train Loss=2.3395, Val Loss=2.9977\n",
      "Mean F1 Score: 0.7034, Mean Accuracy: 0.8920, Mean Precision: 0.6818, Mean Recall: 0.7273\n"
     ]
    },
    {
     "name": "stderr",
     "output_type": "stream",
     "text": [
      "Epoch 58 Training:   0%|          | 0/4 [00:00<?, ?it/s]/tmp/job.14646635/ipykernel_391663/1724129108.py:79: FutureWarning: Series.__getitem__ treating keys as positions is deprecated. In a future version, integer keys will always be treated as labels (consistent with DataFrame behavior). To access a value by position, use `ser.iloc[pos]`\n",
      "  'labels': torch.tensor(label, dtype=torch.float32)\n",
      "Epoch 58 Training: 100%|██████████| 4/4 [00:05<00:00,  1.45s/it, loss=3.13]\n",
      "Epoch 58 Validation: 100%|██████████| 1/1 [00:00<00:00,  2.65it/s, loss=2.86]\n",
      "/scratch/user/akash.pillai.0810/.my_env/lib/python3.10/site-packages/sklearn/metrics/_classification.py:1565: UndefinedMetricWarning: F-score is ill-defined and being set to 0.0 due to no true nor predicted samples. Use `zero_division` parameter to control this behavior.\n",
      "  _warn_prf(average, modifier, f\"{metric.capitalize()} is\", len(result))\n",
      "/scratch/user/akash.pillai.0810/.my_env/lib/python3.10/site-packages/sklearn/metrics/_classification.py:1565: UndefinedMetricWarning: Recall is ill-defined and being set to 0.0 due to no true samples. Use `zero_division` parameter to control this behavior.\n",
      "  _warn_prf(average, modifier, f\"{metric.capitalize()} is\", len(result))\n"
     ]
    },
    {
     "name": "stdout",
     "output_type": "stream",
     "text": [
      "Epoch 58: Train Loss=2.3505, Val Loss=2.8583\n",
      "Mean F1 Score: 0.7034, Mean Accuracy: 0.9091, Mean Precision: 0.6818, Mean Recall: 0.7273\n"
     ]
    },
    {
     "name": "stderr",
     "output_type": "stream",
     "text": [
      "Epoch 59 Training:   0%|          | 0/4 [00:00<?, ?it/s]/tmp/job.14646635/ipykernel_391663/1724129108.py:79: FutureWarning: Series.__getitem__ treating keys as positions is deprecated. In a future version, integer keys will always be treated as labels (consistent with DataFrame behavior). To access a value by position, use `ser.iloc[pos]`\n",
      "  'labels': torch.tensor(label, dtype=torch.float32)\n",
      "Epoch 59 Training: 100%|██████████| 4/4 [00:05<00:00,  1.45s/it, loss=2.64]\n",
      "Epoch 59 Validation: 100%|██████████| 1/1 [00:00<00:00,  2.65it/s, loss=3.02]\n",
      "/scratch/user/akash.pillai.0810/.my_env/lib/python3.10/site-packages/sklearn/metrics/_classification.py:1565: UndefinedMetricWarning: F-score is ill-defined and being set to 0.0 due to no true nor predicted samples. Use `zero_division` parameter to control this behavior.\n",
      "  _warn_prf(average, modifier, f\"{metric.capitalize()} is\", len(result))\n",
      "/scratch/user/akash.pillai.0810/.my_env/lib/python3.10/site-packages/sklearn/metrics/_classification.py:1565: UndefinedMetricWarning: Recall is ill-defined and being set to 0.0 due to no true samples. Use `zero_division` parameter to control this behavior.\n",
      "  _warn_prf(average, modifier, f\"{metric.capitalize()} is\", len(result))\n"
     ]
    },
    {
     "name": "stdout",
     "output_type": "stream",
     "text": [
      "Epoch 59: Train Loss=2.3278, Val Loss=3.0159\n",
      "Mean F1 Score: 0.7034, Mean Accuracy: 0.8920, Mean Precision: 0.6818, Mean Recall: 0.7273\n"
     ]
    },
    {
     "name": "stderr",
     "output_type": "stream",
     "text": [
      "Epoch 60 Training:   0%|          | 0/4 [00:00<?, ?it/s]/tmp/job.14646635/ipykernel_391663/1724129108.py:79: FutureWarning: Series.__getitem__ treating keys as positions is deprecated. In a future version, integer keys will always be treated as labels (consistent with DataFrame behavior). To access a value by position, use `ser.iloc[pos]`\n",
      "  'labels': torch.tensor(label, dtype=torch.float32)\n",
      "Epoch 60 Training: 100%|██████████| 4/4 [00:05<00:00,  1.45s/it, loss=2.31]\n",
      "Epoch 60 Validation: 100%|██████████| 1/1 [00:00<00:00,  2.65it/s, loss=2.84]\n",
      "/scratch/user/akash.pillai.0810/.my_env/lib/python3.10/site-packages/sklearn/metrics/_classification.py:1565: UndefinedMetricWarning: F-score is ill-defined and being set to 0.0 due to no true nor predicted samples. Use `zero_division` parameter to control this behavior.\n",
      "  _warn_prf(average, modifier, f\"{metric.capitalize()} is\", len(result))\n",
      "/scratch/user/akash.pillai.0810/.my_env/lib/python3.10/site-packages/sklearn/metrics/_classification.py:1565: UndefinedMetricWarning: Recall is ill-defined and being set to 0.0 due to no true samples. Use `zero_division` parameter to control this behavior.\n",
      "  _warn_prf(average, modifier, f\"{metric.capitalize()} is\", len(result))\n"
     ]
    },
    {
     "name": "stdout",
     "output_type": "stream",
     "text": [
      "Epoch 60: Train Loss=2.2705, Val Loss=2.8394\n",
      "Mean F1 Score: 0.7034, Mean Accuracy: 0.9091, Mean Precision: 0.6818, Mean Recall: 0.7273\n"
     ]
    },
    {
     "name": "stderr",
     "output_type": "stream",
     "text": [
      "Epoch 61 Training:   0%|          | 0/4 [00:00<?, ?it/s]/tmp/job.14646635/ipykernel_391663/1724129108.py:79: FutureWarning: Series.__getitem__ treating keys as positions is deprecated. In a future version, integer keys will always be treated as labels (consistent with DataFrame behavior). To access a value by position, use `ser.iloc[pos]`\n",
      "  'labels': torch.tensor(label, dtype=torch.float32)\n",
      "Epoch 61 Training: 100%|██████████| 4/4 [00:05<00:00,  1.45s/it, loss=2.22]\n",
      "Epoch 61 Validation: 100%|██████████| 1/1 [00:00<00:00,  2.66it/s, loss=3.13]\n",
      "/scratch/user/akash.pillai.0810/.my_env/lib/python3.10/site-packages/sklearn/metrics/_classification.py:1565: UndefinedMetricWarning: F-score is ill-defined and being set to 0.0 due to no true nor predicted samples. Use `zero_division` parameter to control this behavior.\n",
      "  _warn_prf(average, modifier, f\"{metric.capitalize()} is\", len(result))\n",
      "/scratch/user/akash.pillai.0810/.my_env/lib/python3.10/site-packages/sklearn/metrics/_classification.py:1565: UndefinedMetricWarning: Recall is ill-defined and being set to 0.0 due to no true samples. Use `zero_division` parameter to control this behavior.\n",
      "  _warn_prf(average, modifier, f\"{metric.capitalize()} is\", len(result))\n"
     ]
    },
    {
     "name": "stdout",
     "output_type": "stream",
     "text": [
      "Epoch 61: Train Loss=2.2664, Val Loss=3.1331\n",
      "Mean F1 Score: 0.7034, Mean Accuracy: 0.8864, Mean Precision: 0.6818, Mean Recall: 0.7273\n"
     ]
    },
    {
     "name": "stderr",
     "output_type": "stream",
     "text": [
      "Epoch 62 Training:   0%|          | 0/4 [00:00<?, ?it/s]/tmp/job.14646635/ipykernel_391663/1724129108.py:79: FutureWarning: Series.__getitem__ treating keys as positions is deprecated. In a future version, integer keys will always be treated as labels (consistent with DataFrame behavior). To access a value by position, use `ser.iloc[pos]`\n",
      "  'labels': torch.tensor(label, dtype=torch.float32)\n",
      "Epoch 62 Training: 100%|██████████| 4/4 [00:05<00:00,  1.45s/it, loss=1.84]\n",
      "Epoch 62 Validation: 100%|██████████| 1/1 [00:00<00:00,  2.65it/s, loss=2.9]\n",
      "/scratch/user/akash.pillai.0810/.my_env/lib/python3.10/site-packages/sklearn/metrics/_classification.py:1565: UndefinedMetricWarning: F-score is ill-defined and being set to 0.0 due to no true nor predicted samples. Use `zero_division` parameter to control this behavior.\n",
      "  _warn_prf(average, modifier, f\"{metric.capitalize()} is\", len(result))\n",
      "/scratch/user/akash.pillai.0810/.my_env/lib/python3.10/site-packages/sklearn/metrics/_classification.py:1565: UndefinedMetricWarning: Recall is ill-defined and being set to 0.0 due to no true samples. Use `zero_division` parameter to control this behavior.\n",
      "  _warn_prf(average, modifier, f\"{metric.capitalize()} is\", len(result))\n"
     ]
    },
    {
     "name": "stdout",
     "output_type": "stream",
     "text": [
      "Epoch 62: Train Loss=2.2715, Val Loss=2.9011\n",
      "Mean F1 Score: 0.7034, Mean Accuracy: 0.9034, Mean Precision: 0.6818, Mean Recall: 0.7273\n"
     ]
    },
    {
     "name": "stderr",
     "output_type": "stream",
     "text": [
      "Epoch 63 Training:   0%|          | 0/4 [00:00<?, ?it/s]/tmp/job.14646635/ipykernel_391663/1724129108.py:79: FutureWarning: Series.__getitem__ treating keys as positions is deprecated. In a future version, integer keys will always be treated as labels (consistent with DataFrame behavior). To access a value by position, use `ser.iloc[pos]`\n",
      "  'labels': torch.tensor(label, dtype=torch.float32)\n",
      "Epoch 63 Training: 100%|██████████| 4/4 [00:05<00:00,  1.45s/it, loss=1.96]\n",
      "Epoch 63 Validation: 100%|██████████| 1/1 [00:00<00:00,  2.65it/s, loss=3.05]\n",
      "/scratch/user/akash.pillai.0810/.my_env/lib/python3.10/site-packages/sklearn/metrics/_classification.py:1565: UndefinedMetricWarning: F-score is ill-defined and being set to 0.0 due to no true nor predicted samples. Use `zero_division` parameter to control this behavior.\n",
      "  _warn_prf(average, modifier, f\"{metric.capitalize()} is\", len(result))\n",
      "/scratch/user/akash.pillai.0810/.my_env/lib/python3.10/site-packages/sklearn/metrics/_classification.py:1565: UndefinedMetricWarning: Recall is ill-defined and being set to 0.0 due to no true samples. Use `zero_division` parameter to control this behavior.\n",
      "  _warn_prf(average, modifier, f\"{metric.capitalize()} is\", len(result))\n"
     ]
    },
    {
     "name": "stdout",
     "output_type": "stream",
     "text": [
      "Epoch 63: Train Loss=2.2602, Val Loss=3.0532\n",
      "Mean F1 Score: 0.7034, Mean Accuracy: 0.8920, Mean Precision: 0.6818, Mean Recall: 0.7273\n"
     ]
    },
    {
     "name": "stderr",
     "output_type": "stream",
     "text": [
      "Epoch 64 Training:   0%|          | 0/4 [00:00<?, ?it/s]/tmp/job.14646635/ipykernel_391663/1724129108.py:79: FutureWarning: Series.__getitem__ treating keys as positions is deprecated. In a future version, integer keys will always be treated as labels (consistent with DataFrame behavior). To access a value by position, use `ser.iloc[pos]`\n",
      "  'labels': torch.tensor(label, dtype=torch.float32)\n",
      "Epoch 64 Training: 100%|██████████| 4/4 [00:05<00:00,  1.45s/it, loss=1.82]\n",
      "Epoch 64 Validation: 100%|██████████| 1/1 [00:00<00:00,  2.65it/s, loss=2.85]\n",
      "/scratch/user/akash.pillai.0810/.my_env/lib/python3.10/site-packages/sklearn/metrics/_classification.py:1565: UndefinedMetricWarning: F-score is ill-defined and being set to 0.0 due to no true nor predicted samples. Use `zero_division` parameter to control this behavior.\n",
      "  _warn_prf(average, modifier, f\"{metric.capitalize()} is\", len(result))\n",
      "/scratch/user/akash.pillai.0810/.my_env/lib/python3.10/site-packages/sklearn/metrics/_classification.py:1565: UndefinedMetricWarning: Recall is ill-defined and being set to 0.0 due to no true samples. Use `zero_division` parameter to control this behavior.\n",
      "  _warn_prf(average, modifier, f\"{metric.capitalize()} is\", len(result))\n"
     ]
    },
    {
     "name": "stdout",
     "output_type": "stream",
     "text": [
      "Epoch 64: Train Loss=2.2172, Val Loss=2.8518\n",
      "Mean F1 Score: 0.7034, Mean Accuracy: 0.9091, Mean Precision: 0.6818, Mean Recall: 0.7273\n"
     ]
    },
    {
     "name": "stderr",
     "output_type": "stream",
     "text": [
      "Epoch 65 Training:   0%|          | 0/4 [00:00<?, ?it/s]/tmp/job.14646635/ipykernel_391663/1724129108.py:79: FutureWarning: Series.__getitem__ treating keys as positions is deprecated. In a future version, integer keys will always be treated as labels (consistent with DataFrame behavior). To access a value by position, use `ser.iloc[pos]`\n",
      "  'labels': torch.tensor(label, dtype=torch.float32)\n",
      "Epoch 65 Training: 100%|██████████| 4/4 [00:05<00:00,  1.45s/it, loss=1.6] \n",
      "Epoch 65 Validation: 100%|██████████| 1/1 [00:00<00:00,  2.65it/s, loss=3.12]\n",
      "/scratch/user/akash.pillai.0810/.my_env/lib/python3.10/site-packages/sklearn/metrics/_classification.py:1565: UndefinedMetricWarning: F-score is ill-defined and being set to 0.0 due to no true nor predicted samples. Use `zero_division` parameter to control this behavior.\n",
      "  _warn_prf(average, modifier, f\"{metric.capitalize()} is\", len(result))\n",
      "/scratch/user/akash.pillai.0810/.my_env/lib/python3.10/site-packages/sklearn/metrics/_classification.py:1565: UndefinedMetricWarning: Recall is ill-defined and being set to 0.0 due to no true samples. Use `zero_division` parameter to control this behavior.\n",
      "  _warn_prf(average, modifier, f\"{metric.capitalize()} is\", len(result))\n"
     ]
    },
    {
     "name": "stdout",
     "output_type": "stream",
     "text": [
      "Epoch 65: Train Loss=2.2626, Val Loss=3.1249\n",
      "Mean F1 Score: 0.7034, Mean Accuracy: 0.8864, Mean Precision: 0.6818, Mean Recall: 0.7273\n"
     ]
    },
    {
     "name": "stderr",
     "output_type": "stream",
     "text": [
      "Epoch 66 Training:   0%|          | 0/4 [00:00<?, ?it/s]/tmp/job.14646635/ipykernel_391663/1724129108.py:79: FutureWarning: Series.__getitem__ treating keys as positions is deprecated. In a future version, integer keys will always be treated as labels (consistent with DataFrame behavior). To access a value by position, use `ser.iloc[pos]`\n",
      "  'labels': torch.tensor(label, dtype=torch.float32)\n",
      "Epoch 66 Training: 100%|██████████| 4/4 [00:05<00:00,  1.45s/it, loss=2.29]\n",
      "Epoch 66 Validation: 100%|██████████| 1/1 [00:00<00:00,  2.65it/s, loss=2.82]\n",
      "/scratch/user/akash.pillai.0810/.my_env/lib/python3.10/site-packages/sklearn/metrics/_classification.py:1565: UndefinedMetricWarning: F-score is ill-defined and being set to 0.0 due to no true nor predicted samples. Use `zero_division` parameter to control this behavior.\n",
      "  _warn_prf(average, modifier, f\"{metric.capitalize()} is\", len(result))\n",
      "/scratch/user/akash.pillai.0810/.my_env/lib/python3.10/site-packages/sklearn/metrics/_classification.py:1565: UndefinedMetricWarning: Recall is ill-defined and being set to 0.0 due to no true samples. Use `zero_division` parameter to control this behavior.\n",
      "  _warn_prf(average, modifier, f\"{metric.capitalize()} is\", len(result))\n"
     ]
    },
    {
     "name": "stdout",
     "output_type": "stream",
     "text": [
      "Epoch 66: Train Loss=2.1949, Val Loss=2.8226\n",
      "Mean F1 Score: 0.7034, Mean Accuracy: 0.9034, Mean Precision: 0.6818, Mean Recall: 0.7273\n"
     ]
    },
    {
     "name": "stderr",
     "output_type": "stream",
     "text": [
      "Epoch 67 Training:   0%|          | 0/4 [00:00<?, ?it/s]/tmp/job.14646635/ipykernel_391663/1724129108.py:79: FutureWarning: Series.__getitem__ treating keys as positions is deprecated. In a future version, integer keys will always be treated as labels (consistent with DataFrame behavior). To access a value by position, use `ser.iloc[pos]`\n",
      "  'labels': torch.tensor(label, dtype=torch.float32)\n",
      "Epoch 67 Training: 100%|██████████| 4/4 [00:05<00:00,  1.45s/it, loss=3.31]\n",
      "Epoch 67 Validation: 100%|██████████| 1/1 [00:00<00:00,  2.65it/s, loss=3.08]\n",
      "/scratch/user/akash.pillai.0810/.my_env/lib/python3.10/site-packages/sklearn/metrics/_classification.py:1565: UndefinedMetricWarning: F-score is ill-defined and being set to 0.0 due to no true nor predicted samples. Use `zero_division` parameter to control this behavior.\n",
      "  _warn_prf(average, modifier, f\"{metric.capitalize()} is\", len(result))\n",
      "/scratch/user/akash.pillai.0810/.my_env/lib/python3.10/site-packages/sklearn/metrics/_classification.py:1565: UndefinedMetricWarning: Recall is ill-defined and being set to 0.0 due to no true samples. Use `zero_division` parameter to control this behavior.\n",
      "  _warn_prf(average, modifier, f\"{metric.capitalize()} is\", len(result))\n"
     ]
    },
    {
     "name": "stdout",
     "output_type": "stream",
     "text": [
      "Epoch 67: Train Loss=2.1985, Val Loss=3.0771\n",
      "Mean F1 Score: 0.7034, Mean Accuracy: 0.8920, Mean Precision: 0.6818, Mean Recall: 0.7273\n"
     ]
    },
    {
     "name": "stderr",
     "output_type": "stream",
     "text": [
      "Epoch 68 Training:   0%|          | 0/4 [00:00<?, ?it/s]/tmp/job.14646635/ipykernel_391663/1724129108.py:79: FutureWarning: Series.__getitem__ treating keys as positions is deprecated. In a future version, integer keys will always be treated as labels (consistent with DataFrame behavior). To access a value by position, use `ser.iloc[pos]`\n",
      "  'labels': torch.tensor(label, dtype=torch.float32)\n",
      "Epoch 68 Training: 100%|██████████| 4/4 [00:05<00:00,  1.45s/it, loss=2.55]\n",
      "Epoch 68 Validation: 100%|██████████| 1/1 [00:00<00:00,  2.65it/s, loss=2.82]\n",
      "/scratch/user/akash.pillai.0810/.my_env/lib/python3.10/site-packages/sklearn/metrics/_classification.py:1565: UndefinedMetricWarning: F-score is ill-defined and being set to 0.0 due to no true nor predicted samples. Use `zero_division` parameter to control this behavior.\n",
      "  _warn_prf(average, modifier, f\"{metric.capitalize()} is\", len(result))\n",
      "/scratch/user/akash.pillai.0810/.my_env/lib/python3.10/site-packages/sklearn/metrics/_classification.py:1565: UndefinedMetricWarning: Recall is ill-defined and being set to 0.0 due to no true samples. Use `zero_division` parameter to control this behavior.\n",
      "  _warn_prf(average, modifier, f\"{metric.capitalize()} is\", len(result))\n"
     ]
    },
    {
     "name": "stdout",
     "output_type": "stream",
     "text": [
      "Epoch 68: Train Loss=2.1839, Val Loss=2.8181\n",
      "Mean F1 Score: 0.7034, Mean Accuracy: 0.9148, Mean Precision: 0.6818, Mean Recall: 0.7273\n"
     ]
    },
    {
     "name": "stderr",
     "output_type": "stream",
     "text": [
      "Epoch 69 Training:   0%|          | 0/4 [00:00<?, ?it/s]/tmp/job.14646635/ipykernel_391663/1724129108.py:79: FutureWarning: Series.__getitem__ treating keys as positions is deprecated. In a future version, integer keys will always be treated as labels (consistent with DataFrame behavior). To access a value by position, use `ser.iloc[pos]`\n",
      "  'labels': torch.tensor(label, dtype=torch.float32)\n",
      "Epoch 69 Training: 100%|██████████| 4/4 [00:05<00:00,  1.45s/it, loss=1.82]\n",
      "Epoch 69 Validation: 100%|██████████| 1/1 [00:00<00:00,  2.65it/s, loss=3.12]\n",
      "/scratch/user/akash.pillai.0810/.my_env/lib/python3.10/site-packages/sklearn/metrics/_classification.py:1565: UndefinedMetricWarning: F-score is ill-defined and being set to 0.0 due to no true nor predicted samples. Use `zero_division` parameter to control this behavior.\n",
      "  _warn_prf(average, modifier, f\"{metric.capitalize()} is\", len(result))\n",
      "/scratch/user/akash.pillai.0810/.my_env/lib/python3.10/site-packages/sklearn/metrics/_classification.py:1565: UndefinedMetricWarning: Recall is ill-defined and being set to 0.0 due to no true samples. Use `zero_division` parameter to control this behavior.\n",
      "  _warn_prf(average, modifier, f\"{metric.capitalize()} is\", len(result))\n"
     ]
    },
    {
     "name": "stdout",
     "output_type": "stream",
     "text": [
      "Epoch 69: Train Loss=2.2115, Val Loss=3.1230\n",
      "Mean F1 Score: 0.7034, Mean Accuracy: 0.8920, Mean Precision: 0.6818, Mean Recall: 0.7273\n"
     ]
    },
    {
     "name": "stderr",
     "output_type": "stream",
     "text": [
      "Epoch 70 Training:   0%|          | 0/4 [00:00<?, ?it/s]/tmp/job.14646635/ipykernel_391663/1724129108.py:79: FutureWarning: Series.__getitem__ treating keys as positions is deprecated. In a future version, integer keys will always be treated as labels (consistent with DataFrame behavior). To access a value by position, use `ser.iloc[pos]`\n",
      "  'labels': torch.tensor(label, dtype=torch.float32)\n",
      "Epoch 70 Training: 100%|██████████| 4/4 [00:05<00:00,  1.45s/it, loss=2.54]\n",
      "Epoch 70 Validation: 100%|██████████| 1/1 [00:00<00:00,  2.65it/s, loss=2.88]\n",
      "/scratch/user/akash.pillai.0810/.my_env/lib/python3.10/site-packages/sklearn/metrics/_classification.py:1565: UndefinedMetricWarning: F-score is ill-defined and being set to 0.0 due to no true nor predicted samples. Use `zero_division` parameter to control this behavior.\n",
      "  _warn_prf(average, modifier, f\"{metric.capitalize()} is\", len(result))\n",
      "/scratch/user/akash.pillai.0810/.my_env/lib/python3.10/site-packages/sklearn/metrics/_classification.py:1565: UndefinedMetricWarning: Recall is ill-defined and being set to 0.0 due to no true samples. Use `zero_division` parameter to control this behavior.\n",
      "  _warn_prf(average, modifier, f\"{metric.capitalize()} is\", len(result))\n"
     ]
    },
    {
     "name": "stdout",
     "output_type": "stream",
     "text": [
      "Epoch 70: Train Loss=2.1600, Val Loss=2.8783\n",
      "Mean F1 Score: 0.7034, Mean Accuracy: 0.9034, Mean Precision: 0.6818, Mean Recall: 0.7273\n"
     ]
    },
    {
     "name": "stderr",
     "output_type": "stream",
     "text": [
      "Epoch 71 Training:   0%|          | 0/4 [00:00<?, ?it/s]/tmp/job.14646635/ipykernel_391663/1724129108.py:79: FutureWarning: Series.__getitem__ treating keys as positions is deprecated. In a future version, integer keys will always be treated as labels (consistent with DataFrame behavior). To access a value by position, use `ser.iloc[pos]`\n",
      "  'labels': torch.tensor(label, dtype=torch.float32)\n",
      "Epoch 71 Training: 100%|██████████| 4/4 [00:05<00:00,  1.45s/it, loss=2.32]\n",
      "Epoch 71 Validation: 100%|██████████| 1/1 [00:00<00:00,  2.65it/s, loss=3.03]\n",
      "/scratch/user/akash.pillai.0810/.my_env/lib/python3.10/site-packages/sklearn/metrics/_classification.py:1565: UndefinedMetricWarning: F-score is ill-defined and being set to 0.0 due to no true nor predicted samples. Use `zero_division` parameter to control this behavior.\n",
      "  _warn_prf(average, modifier, f\"{metric.capitalize()} is\", len(result))\n",
      "/scratch/user/akash.pillai.0810/.my_env/lib/python3.10/site-packages/sklearn/metrics/_classification.py:1565: UndefinedMetricWarning: Recall is ill-defined and being set to 0.0 due to no true samples. Use `zero_division` parameter to control this behavior.\n",
      "  _warn_prf(average, modifier, f\"{metric.capitalize()} is\", len(result))\n"
     ]
    },
    {
     "name": "stdout",
     "output_type": "stream",
     "text": [
      "Epoch 71: Train Loss=2.1274, Val Loss=3.0297\n",
      "Mean F1 Score: 0.7034, Mean Accuracy: 0.8920, Mean Precision: 0.6818, Mean Recall: 0.7273\n"
     ]
    },
    {
     "name": "stderr",
     "output_type": "stream",
     "text": [
      "Epoch 72 Training:   0%|          | 0/4 [00:00<?, ?it/s]/tmp/job.14646635/ipykernel_391663/1724129108.py:79: FutureWarning: Series.__getitem__ treating keys as positions is deprecated. In a future version, integer keys will always be treated as labels (consistent with DataFrame behavior). To access a value by position, use `ser.iloc[pos]`\n",
      "  'labels': torch.tensor(label, dtype=torch.float32)\n",
      "Epoch 72 Training: 100%|██████████| 4/4 [00:05<00:00,  1.45s/it, loss=2.64]\n",
      "Epoch 72 Validation: 100%|██████████| 1/1 [00:00<00:00,  2.65it/s, loss=3]\n",
      "/scratch/user/akash.pillai.0810/.my_env/lib/python3.10/site-packages/sklearn/metrics/_classification.py:1565: UndefinedMetricWarning: F-score is ill-defined and being set to 0.0 due to no true nor predicted samples. Use `zero_division` parameter to control this behavior.\n",
      "  _warn_prf(average, modifier, f\"{metric.capitalize()} is\", len(result))\n",
      "/scratch/user/akash.pillai.0810/.my_env/lib/python3.10/site-packages/sklearn/metrics/_classification.py:1565: UndefinedMetricWarning: Recall is ill-defined and being set to 0.0 due to no true samples. Use `zero_division` parameter to control this behavior.\n",
      "  _warn_prf(average, modifier, f\"{metric.capitalize()} is\", len(result))\n"
     ]
    },
    {
     "name": "stdout",
     "output_type": "stream",
     "text": [
      "Epoch 72: Train Loss=2.1559, Val Loss=3.0049\n",
      "Mean F1 Score: 0.7034, Mean Accuracy: 0.8977, Mean Precision: 0.6818, Mean Recall: 0.7273\n"
     ]
    },
    {
     "name": "stderr",
     "output_type": "stream",
     "text": [
      "Epoch 73 Training:   0%|          | 0/4 [00:00<?, ?it/s]/tmp/job.14646635/ipykernel_391663/1724129108.py:79: FutureWarning: Series.__getitem__ treating keys as positions is deprecated. In a future version, integer keys will always be treated as labels (consistent with DataFrame behavior). To access a value by position, use `ser.iloc[pos]`\n",
      "  'labels': torch.tensor(label, dtype=torch.float32)\n",
      "Epoch 73 Training: 100%|██████████| 4/4 [00:05<00:00,  1.45s/it, loss=2.53]\n",
      "Epoch 73 Validation: 100%|██████████| 1/1 [00:00<00:00,  2.65it/s, loss=2.98]\n",
      "/scratch/user/akash.pillai.0810/.my_env/lib/python3.10/site-packages/sklearn/metrics/_classification.py:1565: UndefinedMetricWarning: F-score is ill-defined and being set to 0.0 due to no true nor predicted samples. Use `zero_division` parameter to control this behavior.\n",
      "  _warn_prf(average, modifier, f\"{metric.capitalize()} is\", len(result))\n",
      "/scratch/user/akash.pillai.0810/.my_env/lib/python3.10/site-packages/sklearn/metrics/_classification.py:1565: UndefinedMetricWarning: Recall is ill-defined and being set to 0.0 due to no true samples. Use `zero_division` parameter to control this behavior.\n",
      "  _warn_prf(average, modifier, f\"{metric.capitalize()} is\", len(result))\n"
     ]
    },
    {
     "name": "stdout",
     "output_type": "stream",
     "text": [
      "Epoch 73: Train Loss=2.1184, Val Loss=2.9849\n",
      "Mean F1 Score: 0.7034, Mean Accuracy: 0.8977, Mean Precision: 0.6818, Mean Recall: 0.7273\n"
     ]
    },
    {
     "name": "stderr",
     "output_type": "stream",
     "text": [
      "Epoch 74 Training:   0%|          | 0/4 [00:00<?, ?it/s]/tmp/job.14646635/ipykernel_391663/1724129108.py:79: FutureWarning: Series.__getitem__ treating keys as positions is deprecated. In a future version, integer keys will always be treated as labels (consistent with DataFrame behavior). To access a value by position, use `ser.iloc[pos]`\n",
      "  'labels': torch.tensor(label, dtype=torch.float32)\n",
      "Epoch 74 Training: 100%|██████████| 4/4 [00:05<00:00,  1.45s/it, loss=2.39]\n",
      "Epoch 74 Validation: 100%|██████████| 1/1 [00:00<00:00,  2.64it/s, loss=3.04]\n",
      "/scratch/user/akash.pillai.0810/.my_env/lib/python3.10/site-packages/sklearn/metrics/_classification.py:1565: UndefinedMetricWarning: F-score is ill-defined and being set to 0.0 due to no true nor predicted samples. Use `zero_division` parameter to control this behavior.\n",
      "  _warn_prf(average, modifier, f\"{metric.capitalize()} is\", len(result))\n",
      "/scratch/user/akash.pillai.0810/.my_env/lib/python3.10/site-packages/sklearn/metrics/_classification.py:1565: UndefinedMetricWarning: Recall is ill-defined and being set to 0.0 due to no true samples. Use `zero_division` parameter to control this behavior.\n",
      "  _warn_prf(average, modifier, f\"{metric.capitalize()} is\", len(result))\n"
     ]
    },
    {
     "name": "stdout",
     "output_type": "stream",
     "text": [
      "Epoch 74: Train Loss=2.1363, Val Loss=3.0393\n",
      "Mean F1 Score: 0.7034, Mean Accuracy: 0.8977, Mean Precision: 0.6818, Mean Recall: 0.7273\n"
     ]
    },
    {
     "name": "stderr",
     "output_type": "stream",
     "text": [
      "Epoch 75 Training:   0%|          | 0/4 [00:00<?, ?it/s]/tmp/job.14646635/ipykernel_391663/1724129108.py:79: FutureWarning: Series.__getitem__ treating keys as positions is deprecated. In a future version, integer keys will always be treated as labels (consistent with DataFrame behavior). To access a value by position, use `ser.iloc[pos]`\n",
      "  'labels': torch.tensor(label, dtype=torch.float32)\n",
      "Epoch 75 Training: 100%|██████████| 4/4 [00:05<00:00,  1.45s/it, loss=2.76]\n",
      "Epoch 75 Validation: 100%|██████████| 1/1 [00:00<00:00,  2.65it/s, loss=3]\n",
      "/scratch/user/akash.pillai.0810/.my_env/lib/python3.10/site-packages/sklearn/metrics/_classification.py:1565: UndefinedMetricWarning: F-score is ill-defined and being set to 0.0 due to no true nor predicted samples. Use `zero_division` parameter to control this behavior.\n",
      "  _warn_prf(average, modifier, f\"{metric.capitalize()} is\", len(result))\n",
      "/scratch/user/akash.pillai.0810/.my_env/lib/python3.10/site-packages/sklearn/metrics/_classification.py:1565: UndefinedMetricWarning: Recall is ill-defined and being set to 0.0 due to no true samples. Use `zero_division` parameter to control this behavior.\n",
      "  _warn_prf(average, modifier, f\"{metric.capitalize()} is\", len(result))\n"
     ]
    },
    {
     "name": "stdout",
     "output_type": "stream",
     "text": [
      "Epoch 75: Train Loss=2.1460, Val Loss=3.0027\n",
      "Mean F1 Score: 0.7034, Mean Accuracy: 0.8977, Mean Precision: 0.6818, Mean Recall: 0.7273\n"
     ]
    },
    {
     "name": "stderr",
     "output_type": "stream",
     "text": [
      "Epoch 76 Training:   0%|          | 0/4 [00:00<?, ?it/s]/tmp/job.14646635/ipykernel_391663/1724129108.py:79: FutureWarning: Series.__getitem__ treating keys as positions is deprecated. In a future version, integer keys will always be treated as labels (consistent with DataFrame behavior). To access a value by position, use `ser.iloc[pos]`\n",
      "  'labels': torch.tensor(label, dtype=torch.float32)\n",
      "Epoch 76 Training: 100%|██████████| 4/4 [00:05<00:00,  1.45s/it, loss=2.42]\n",
      "Epoch 76 Validation: 100%|██████████| 1/1 [00:00<00:00,  2.65it/s, loss=3.07]\n",
      "/scratch/user/akash.pillai.0810/.my_env/lib/python3.10/site-packages/sklearn/metrics/_classification.py:1565: UndefinedMetricWarning: F-score is ill-defined and being set to 0.0 due to no true nor predicted samples. Use `zero_division` parameter to control this behavior.\n",
      "  _warn_prf(average, modifier, f\"{metric.capitalize()} is\", len(result))\n",
      "/scratch/user/akash.pillai.0810/.my_env/lib/python3.10/site-packages/sklearn/metrics/_classification.py:1565: UndefinedMetricWarning: Recall is ill-defined and being set to 0.0 due to no true samples. Use `zero_division` parameter to control this behavior.\n",
      "  _warn_prf(average, modifier, f\"{metric.capitalize()} is\", len(result))\n"
     ]
    },
    {
     "name": "stdout",
     "output_type": "stream",
     "text": [
      "Epoch 76: Train Loss=2.1074, Val Loss=3.0680\n",
      "Mean F1 Score: 0.7034, Mean Accuracy: 0.8920, Mean Precision: 0.6818, Mean Recall: 0.7273\n"
     ]
    },
    {
     "name": "stderr",
     "output_type": "stream",
     "text": [
      "Epoch 77 Training:   0%|          | 0/4 [00:00<?, ?it/s]/tmp/job.14646635/ipykernel_391663/1724129108.py:79: FutureWarning: Series.__getitem__ treating keys as positions is deprecated. In a future version, integer keys will always be treated as labels (consistent with DataFrame behavior). To access a value by position, use `ser.iloc[pos]`\n",
      "  'labels': torch.tensor(label, dtype=torch.float32)\n",
      "Epoch 77 Training: 100%|██████████| 4/4 [00:05<00:00,  1.45s/it, loss=2.8] \n",
      "Epoch 77 Validation: 100%|██████████| 1/1 [00:00<00:00,  2.64it/s, loss=3]\n",
      "/scratch/user/akash.pillai.0810/.my_env/lib/python3.10/site-packages/sklearn/metrics/_classification.py:1565: UndefinedMetricWarning: F-score is ill-defined and being set to 0.0 due to no true nor predicted samples. Use `zero_division` parameter to control this behavior.\n",
      "  _warn_prf(average, modifier, f\"{metric.capitalize()} is\", len(result))\n",
      "/scratch/user/akash.pillai.0810/.my_env/lib/python3.10/site-packages/sklearn/metrics/_classification.py:1565: UndefinedMetricWarning: Recall is ill-defined and being set to 0.0 due to no true samples. Use `zero_division` parameter to control this behavior.\n",
      "  _warn_prf(average, modifier, f\"{metric.capitalize()} is\", len(result))\n"
     ]
    },
    {
     "name": "stdout",
     "output_type": "stream",
     "text": [
      "Epoch 77: Train Loss=2.0968, Val Loss=2.9991\n",
      "Mean F1 Score: 0.7034, Mean Accuracy: 0.8977, Mean Precision: 0.6818, Mean Recall: 0.7273\n"
     ]
    },
    {
     "name": "stderr",
     "output_type": "stream",
     "text": [
      "Epoch 78 Training:   0%|          | 0/4 [00:00<?, ?it/s]/tmp/job.14646635/ipykernel_391663/1724129108.py:79: FutureWarning: Series.__getitem__ treating keys as positions is deprecated. In a future version, integer keys will always be treated as labels (consistent with DataFrame behavior). To access a value by position, use `ser.iloc[pos]`\n",
      "  'labels': torch.tensor(label, dtype=torch.float32)\n",
      "Epoch 78 Training: 100%|██████████| 4/4 [00:05<00:00,  1.45s/it, loss=1.83]\n",
      "Epoch 78 Validation: 100%|██████████| 1/1 [00:00<00:00,  2.65it/s, loss=3.04]\n",
      "/scratch/user/akash.pillai.0810/.my_env/lib/python3.10/site-packages/sklearn/metrics/_classification.py:1565: UndefinedMetricWarning: F-score is ill-defined and being set to 0.0 due to no true nor predicted samples. Use `zero_division` parameter to control this behavior.\n",
      "  _warn_prf(average, modifier, f\"{metric.capitalize()} is\", len(result))\n",
      "/scratch/user/akash.pillai.0810/.my_env/lib/python3.10/site-packages/sklearn/metrics/_classification.py:1565: UndefinedMetricWarning: Recall is ill-defined and being set to 0.0 due to no true samples. Use `zero_division` parameter to control this behavior.\n",
      "  _warn_prf(average, modifier, f\"{metric.capitalize()} is\", len(result))\n"
     ]
    },
    {
     "name": "stdout",
     "output_type": "stream",
     "text": [
      "Epoch 78: Train Loss=2.0643, Val Loss=3.0440\n",
      "Mean F1 Score: 0.7034, Mean Accuracy: 0.8920, Mean Precision: 0.6818, Mean Recall: 0.7273\n"
     ]
    },
    {
     "name": "stderr",
     "output_type": "stream",
     "text": [
      "Epoch 79 Training:   0%|          | 0/4 [00:00<?, ?it/s]/tmp/job.14646635/ipykernel_391663/1724129108.py:79: FutureWarning: Series.__getitem__ treating keys as positions is deprecated. In a future version, integer keys will always be treated as labels (consistent with DataFrame behavior). To access a value by position, use `ser.iloc[pos]`\n",
      "  'labels': torch.tensor(label, dtype=torch.float32)\n",
      "Epoch 79 Training: 100%|██████████| 4/4 [00:05<00:00,  1.45s/it, loss=2.35]\n",
      "Epoch 79 Validation: 100%|██████████| 1/1 [00:00<00:00,  2.65it/s, loss=3]\n",
      "/scratch/user/akash.pillai.0810/.my_env/lib/python3.10/site-packages/sklearn/metrics/_classification.py:1565: UndefinedMetricWarning: F-score is ill-defined and being set to 0.0 due to no true nor predicted samples. Use `zero_division` parameter to control this behavior.\n",
      "  _warn_prf(average, modifier, f\"{metric.capitalize()} is\", len(result))\n",
      "/scratch/user/akash.pillai.0810/.my_env/lib/python3.10/site-packages/sklearn/metrics/_classification.py:1565: UndefinedMetricWarning: Recall is ill-defined and being set to 0.0 due to no true samples. Use `zero_division` parameter to control this behavior.\n",
      "  _warn_prf(average, modifier, f\"{metric.capitalize()} is\", len(result))\n"
     ]
    },
    {
     "name": "stdout",
     "output_type": "stream",
     "text": [
      "Epoch 79: Train Loss=2.0759, Val Loss=2.9955\n",
      "Mean F1 Score: 0.7034, Mean Accuracy: 0.8977, Mean Precision: 0.6818, Mean Recall: 0.7273\n"
     ]
    },
    {
     "name": "stderr",
     "output_type": "stream",
     "text": [
      "Epoch 80 Training:   0%|          | 0/4 [00:00<?, ?it/s]/tmp/job.14646635/ipykernel_391663/1724129108.py:79: FutureWarning: Series.__getitem__ treating keys as positions is deprecated. In a future version, integer keys will always be treated as labels (consistent with DataFrame behavior). To access a value by position, use `ser.iloc[pos]`\n",
      "  'labels': torch.tensor(label, dtype=torch.float32)\n",
      "Epoch 80 Training: 100%|██████████| 4/4 [00:05<00:00,  1.45s/it, loss=2.29]\n",
      "Epoch 80 Validation: 100%|██████████| 1/1 [00:00<00:00,  2.65it/s, loss=3.04]\n",
      "/scratch/user/akash.pillai.0810/.my_env/lib/python3.10/site-packages/sklearn/metrics/_classification.py:1565: UndefinedMetricWarning: F-score is ill-defined and being set to 0.0 due to no true nor predicted samples. Use `zero_division` parameter to control this behavior.\n",
      "  _warn_prf(average, modifier, f\"{metric.capitalize()} is\", len(result))\n",
      "/scratch/user/akash.pillai.0810/.my_env/lib/python3.10/site-packages/sklearn/metrics/_classification.py:1565: UndefinedMetricWarning: Recall is ill-defined and being set to 0.0 due to no true samples. Use `zero_division` parameter to control this behavior.\n",
      "  _warn_prf(average, modifier, f\"{metric.capitalize()} is\", len(result))\n"
     ]
    },
    {
     "name": "stdout",
     "output_type": "stream",
     "text": [
      "Epoch 80: Train Loss=2.0832, Val Loss=3.0447\n",
      "Mean F1 Score: 0.7034, Mean Accuracy: 0.8920, Mean Precision: 0.6818, Mean Recall: 0.7273\n"
     ]
    },
    {
     "name": "stderr",
     "output_type": "stream",
     "text": [
      "Epoch 81 Training:   0%|          | 0/4 [00:00<?, ?it/s]/tmp/job.14646635/ipykernel_391663/1724129108.py:79: FutureWarning: Series.__getitem__ treating keys as positions is deprecated. In a future version, integer keys will always be treated as labels (consistent with DataFrame behavior). To access a value by position, use `ser.iloc[pos]`\n",
      "  'labels': torch.tensor(label, dtype=torch.float32)\n",
      "Epoch 81 Training: 100%|██████████| 4/4 [00:05<00:00,  1.45s/it, loss=2.18]\n",
      "Epoch 81 Validation: 100%|██████████| 1/1 [00:00<00:00,  2.65it/s, loss=2.96]\n",
      "/scratch/user/akash.pillai.0810/.my_env/lib/python3.10/site-packages/sklearn/metrics/_classification.py:1565: UndefinedMetricWarning: F-score is ill-defined and being set to 0.0 due to no true nor predicted samples. Use `zero_division` parameter to control this behavior.\n",
      "  _warn_prf(average, modifier, f\"{metric.capitalize()} is\", len(result))\n",
      "/scratch/user/akash.pillai.0810/.my_env/lib/python3.10/site-packages/sklearn/metrics/_classification.py:1565: UndefinedMetricWarning: Recall is ill-defined and being set to 0.0 due to no true samples. Use `zero_division` parameter to control this behavior.\n",
      "  _warn_prf(average, modifier, f\"{metric.capitalize()} is\", len(result))\n"
     ]
    },
    {
     "name": "stdout",
     "output_type": "stream",
     "text": [
      "Epoch 81: Train Loss=2.0728, Val Loss=2.9563\n",
      "Mean F1 Score: 0.7034, Mean Accuracy: 0.8977, Mean Precision: 0.6818, Mean Recall: 0.7273\n"
     ]
    },
    {
     "name": "stderr",
     "output_type": "stream",
     "text": [
      "Epoch 82 Training:   0%|          | 0/4 [00:00<?, ?it/s]/tmp/job.14646635/ipykernel_391663/1724129108.py:79: FutureWarning: Series.__getitem__ treating keys as positions is deprecated. In a future version, integer keys will always be treated as labels (consistent with DataFrame behavior). To access a value by position, use `ser.iloc[pos]`\n",
      "  'labels': torch.tensor(label, dtype=torch.float32)\n",
      "Epoch 82 Training: 100%|██████████| 4/4 [00:05<00:00,  1.45s/it, loss=1.87]\n",
      "Epoch 82 Validation: 100%|██████████| 1/1 [00:00<00:00,  2.64it/s, loss=3.16]\n",
      "/scratch/user/akash.pillai.0810/.my_env/lib/python3.10/site-packages/sklearn/metrics/_classification.py:1565: UndefinedMetricWarning: F-score is ill-defined and being set to 0.0 due to no true nor predicted samples. Use `zero_division` parameter to control this behavior.\n",
      "  _warn_prf(average, modifier, f\"{metric.capitalize()} is\", len(result))\n",
      "/scratch/user/akash.pillai.0810/.my_env/lib/python3.10/site-packages/sklearn/metrics/_classification.py:1565: UndefinedMetricWarning: Recall is ill-defined and being set to 0.0 due to no true samples. Use `zero_division` parameter to control this behavior.\n",
      "  _warn_prf(average, modifier, f\"{metric.capitalize()} is\", len(result))\n"
     ]
    },
    {
     "name": "stdout",
     "output_type": "stream",
     "text": [
      "Epoch 82: Train Loss=2.0632, Val Loss=3.1594\n",
      "Mean F1 Score: 0.7034, Mean Accuracy: 0.8864, Mean Precision: 0.6818, Mean Recall: 0.7273\n"
     ]
    },
    {
     "name": "stderr",
     "output_type": "stream",
     "text": [
      "Epoch 83 Training:   0%|          | 0/4 [00:00<?, ?it/s]/tmp/job.14646635/ipykernel_391663/1724129108.py:79: FutureWarning: Series.__getitem__ treating keys as positions is deprecated. In a future version, integer keys will always be treated as labels (consistent with DataFrame behavior). To access a value by position, use `ser.iloc[pos]`\n",
      "  'labels': torch.tensor(label, dtype=torch.float32)\n",
      "Epoch 83 Training: 100%|██████████| 4/4 [00:05<00:00,  1.45s/it, loss=2.72]\n",
      "Epoch 83 Validation: 100%|██████████| 1/1 [00:00<00:00,  2.65it/s, loss=2.96]\n",
      "/scratch/user/akash.pillai.0810/.my_env/lib/python3.10/site-packages/sklearn/metrics/_classification.py:1565: UndefinedMetricWarning: F-score is ill-defined and being set to 0.0 due to no true nor predicted samples. Use `zero_division` parameter to control this behavior.\n",
      "  _warn_prf(average, modifier, f\"{metric.capitalize()} is\", len(result))\n",
      "/scratch/user/akash.pillai.0810/.my_env/lib/python3.10/site-packages/sklearn/metrics/_classification.py:1565: UndefinedMetricWarning: Recall is ill-defined and being set to 0.0 due to no true samples. Use `zero_division` parameter to control this behavior.\n",
      "  _warn_prf(average, modifier, f\"{metric.capitalize()} is\", len(result))\n"
     ]
    },
    {
     "name": "stdout",
     "output_type": "stream",
     "text": [
      "Epoch 83: Train Loss=2.0459, Val Loss=2.9619\n",
      "Mean F1 Score: 0.7034, Mean Accuracy: 0.8977, Mean Precision: 0.6818, Mean Recall: 0.7273\n"
     ]
    },
    {
     "name": "stderr",
     "output_type": "stream",
     "text": [
      "Epoch 84 Training:   0%|          | 0/4 [00:00<?, ?it/s]/tmp/job.14646635/ipykernel_391663/1724129108.py:79: FutureWarning: Series.__getitem__ treating keys as positions is deprecated. In a future version, integer keys will always be treated as labels (consistent with DataFrame behavior). To access a value by position, use `ser.iloc[pos]`\n",
      "  'labels': torch.tensor(label, dtype=torch.float32)\n",
      "Epoch 84 Training: 100%|██████████| 4/4 [00:05<00:00,  1.45s/it, loss=1.42]\n",
      "Epoch 84 Validation: 100%|██████████| 1/1 [00:00<00:00,  2.65it/s, loss=3.11]\n",
      "/scratch/user/akash.pillai.0810/.my_env/lib/python3.10/site-packages/sklearn/metrics/_classification.py:1565: UndefinedMetricWarning: F-score is ill-defined and being set to 0.0 due to no true nor predicted samples. Use `zero_division` parameter to control this behavior.\n",
      "  _warn_prf(average, modifier, f\"{metric.capitalize()} is\", len(result))\n",
      "/scratch/user/akash.pillai.0810/.my_env/lib/python3.10/site-packages/sklearn/metrics/_classification.py:1565: UndefinedMetricWarning: Recall is ill-defined and being set to 0.0 due to no true samples. Use `zero_division` parameter to control this behavior.\n",
      "  _warn_prf(average, modifier, f\"{metric.capitalize()} is\", len(result))\n"
     ]
    },
    {
     "name": "stdout",
     "output_type": "stream",
     "text": [
      "Epoch 84: Train Loss=2.0396, Val Loss=3.1090\n",
      "Mean F1 Score: 0.7034, Mean Accuracy: 0.8920, Mean Precision: 0.6818, Mean Recall: 0.7273\n"
     ]
    },
    {
     "name": "stderr",
     "output_type": "stream",
     "text": [
      "Epoch 85 Training:   0%|          | 0/4 [00:00<?, ?it/s]/tmp/job.14646635/ipykernel_391663/1724129108.py:79: FutureWarning: Series.__getitem__ treating keys as positions is deprecated. In a future version, integer keys will always be treated as labels (consistent with DataFrame behavior). To access a value by position, use `ser.iloc[pos]`\n",
      "  'labels': torch.tensor(label, dtype=torch.float32)\n",
      "Epoch 85 Training: 100%|██████████| 4/4 [00:05<00:00,  1.45s/it, loss=2.23]\n",
      "Epoch 85 Validation: 100%|██████████| 1/1 [00:00<00:00,  2.65it/s, loss=2.98]\n",
      "/scratch/user/akash.pillai.0810/.my_env/lib/python3.10/site-packages/sklearn/metrics/_classification.py:1565: UndefinedMetricWarning: F-score is ill-defined and being set to 0.0 due to no true nor predicted samples. Use `zero_division` parameter to control this behavior.\n",
      "  _warn_prf(average, modifier, f\"{metric.capitalize()} is\", len(result))\n",
      "/scratch/user/akash.pillai.0810/.my_env/lib/python3.10/site-packages/sklearn/metrics/_classification.py:1565: UndefinedMetricWarning: Recall is ill-defined and being set to 0.0 due to no true samples. Use `zero_division` parameter to control this behavior.\n",
      "  _warn_prf(average, modifier, f\"{metric.capitalize()} is\", len(result))\n"
     ]
    },
    {
     "name": "stdout",
     "output_type": "stream",
     "text": [
      "Epoch 85: Train Loss=1.9997, Val Loss=2.9774\n",
      "Mean F1 Score: 0.7034, Mean Accuracy: 0.8977, Mean Precision: 0.6818, Mean Recall: 0.7273\n"
     ]
    },
    {
     "name": "stderr",
     "output_type": "stream",
     "text": [
      "Epoch 86 Training:   0%|          | 0/4 [00:00<?, ?it/s]/tmp/job.14646635/ipykernel_391663/1724129108.py:79: FutureWarning: Series.__getitem__ treating keys as positions is deprecated. In a future version, integer keys will always be treated as labels (consistent with DataFrame behavior). To access a value by position, use `ser.iloc[pos]`\n",
      "  'labels': torch.tensor(label, dtype=torch.float32)\n",
      "Epoch 86 Training: 100%|██████████| 4/4 [00:05<00:00,  1.45s/it, loss=2.11]\n",
      "Epoch 86 Validation: 100%|██████████| 1/1 [00:00<00:00,  2.65it/s, loss=3.07]\n",
      "/scratch/user/akash.pillai.0810/.my_env/lib/python3.10/site-packages/sklearn/metrics/_classification.py:1565: UndefinedMetricWarning: F-score is ill-defined and being set to 0.0 due to no true nor predicted samples. Use `zero_division` parameter to control this behavior.\n",
      "  _warn_prf(average, modifier, f\"{metric.capitalize()} is\", len(result))\n",
      "/scratch/user/akash.pillai.0810/.my_env/lib/python3.10/site-packages/sklearn/metrics/_classification.py:1565: UndefinedMetricWarning: Recall is ill-defined and being set to 0.0 due to no true samples. Use `zero_division` parameter to control this behavior.\n",
      "  _warn_prf(average, modifier, f\"{metric.capitalize()} is\", len(result))\n"
     ]
    },
    {
     "name": "stdout",
     "output_type": "stream",
     "text": [
      "Epoch 86: Train Loss=1.9880, Val Loss=3.0651\n",
      "Mean F1 Score: 0.7034, Mean Accuracy: 0.8920, Mean Precision: 0.6818, Mean Recall: 0.7273\n"
     ]
    },
    {
     "name": "stderr",
     "output_type": "stream",
     "text": [
      "Epoch 87 Training:   0%|          | 0/4 [00:00<?, ?it/s]/tmp/job.14646635/ipykernel_391663/1724129108.py:79: FutureWarning: Series.__getitem__ treating keys as positions is deprecated. In a future version, integer keys will always be treated as labels (consistent with DataFrame behavior). To access a value by position, use `ser.iloc[pos]`\n",
      "  'labels': torch.tensor(label, dtype=torch.float32)\n",
      "Epoch 87 Training: 100%|██████████| 4/4 [00:05<00:00,  1.45s/it, loss=1.3] \n",
      "Epoch 87 Validation: 100%|██████████| 1/1 [00:00<00:00,  2.64it/s, loss=3.07]\n",
      "/scratch/user/akash.pillai.0810/.my_env/lib/python3.10/site-packages/sklearn/metrics/_classification.py:1565: UndefinedMetricWarning: F-score is ill-defined and being set to 0.0 due to no true nor predicted samples. Use `zero_division` parameter to control this behavior.\n",
      "  _warn_prf(average, modifier, f\"{metric.capitalize()} is\", len(result))\n",
      "/scratch/user/akash.pillai.0810/.my_env/lib/python3.10/site-packages/sklearn/metrics/_classification.py:1565: UndefinedMetricWarning: Recall is ill-defined and being set to 0.0 due to no true samples. Use `zero_division` parameter to control this behavior.\n",
      "  _warn_prf(average, modifier, f\"{metric.capitalize()} is\", len(result))\n"
     ]
    },
    {
     "name": "stdout",
     "output_type": "stream",
     "text": [
      "Epoch 87: Train Loss=1.9664, Val Loss=3.0722\n",
      "Mean F1 Score: 0.7034, Mean Accuracy: 0.8920, Mean Precision: 0.6818, Mean Recall: 0.7273\n"
     ]
    },
    {
     "name": "stderr",
     "output_type": "stream",
     "text": [
      "Epoch 88 Training:   0%|          | 0/4 [00:00<?, ?it/s]/tmp/job.14646635/ipykernel_391663/1724129108.py:79: FutureWarning: Series.__getitem__ treating keys as positions is deprecated. In a future version, integer keys will always be treated as labels (consistent with DataFrame behavior). To access a value by position, use `ser.iloc[pos]`\n",
      "  'labels': torch.tensor(label, dtype=torch.float32)\n",
      "Epoch 88 Training: 100%|██████████| 4/4 [00:05<00:00,  1.45s/it, loss=4.15]\n",
      "Epoch 88 Validation: 100%|██████████| 1/1 [00:00<00:00,  2.65it/s, loss=2.98]\n",
      "/scratch/user/akash.pillai.0810/.my_env/lib/python3.10/site-packages/sklearn/metrics/_classification.py:1565: UndefinedMetricWarning: F-score is ill-defined and being set to 0.0 due to no true nor predicted samples. Use `zero_division` parameter to control this behavior.\n",
      "  _warn_prf(average, modifier, f\"{metric.capitalize()} is\", len(result))\n",
      "/scratch/user/akash.pillai.0810/.my_env/lib/python3.10/site-packages/sklearn/metrics/_classification.py:1565: UndefinedMetricWarning: Recall is ill-defined and being set to 0.0 due to no true samples. Use `zero_division` parameter to control this behavior.\n",
      "  _warn_prf(average, modifier, f\"{metric.capitalize()} is\", len(result))\n"
     ]
    },
    {
     "name": "stdout",
     "output_type": "stream",
     "text": [
      "Epoch 88: Train Loss=2.0242, Val Loss=2.9794\n",
      "Mean F1 Score: 0.7034, Mean Accuracy: 0.8977, Mean Precision: 0.6818, Mean Recall: 0.7273\n"
     ]
    },
    {
     "name": "stderr",
     "output_type": "stream",
     "text": [
      "Epoch 89 Training:   0%|          | 0/4 [00:00<?, ?it/s]/tmp/job.14646635/ipykernel_391663/1724129108.py:79: FutureWarning: Series.__getitem__ treating keys as positions is deprecated. In a future version, integer keys will always be treated as labels (consistent with DataFrame behavior). To access a value by position, use `ser.iloc[pos]`\n",
      "  'labels': torch.tensor(label, dtype=torch.float32)\n",
      "Epoch 89 Training: 100%|██████████| 4/4 [00:05<00:00,  1.45s/it, loss=1.95]\n",
      "Epoch 89 Validation: 100%|██████████| 1/1 [00:00<00:00,  2.65it/s, loss=3.07]\n",
      "/scratch/user/akash.pillai.0810/.my_env/lib/python3.10/site-packages/sklearn/metrics/_classification.py:1565: UndefinedMetricWarning: F-score is ill-defined and being set to 0.0 due to no true nor predicted samples. Use `zero_division` parameter to control this behavior.\n",
      "  _warn_prf(average, modifier, f\"{metric.capitalize()} is\", len(result))\n",
      "/scratch/user/akash.pillai.0810/.my_env/lib/python3.10/site-packages/sklearn/metrics/_classification.py:1565: UndefinedMetricWarning: Recall is ill-defined and being set to 0.0 due to no true samples. Use `zero_division` parameter to control this behavior.\n",
      "  _warn_prf(average, modifier, f\"{metric.capitalize()} is\", len(result))\n"
     ]
    },
    {
     "name": "stdout",
     "output_type": "stream",
     "text": [
      "Epoch 89: Train Loss=1.9856, Val Loss=3.0656\n",
      "Mean F1 Score: 0.7034, Mean Accuracy: 0.8977, Mean Precision: 0.6818, Mean Recall: 0.7273\n"
     ]
    },
    {
     "name": "stderr",
     "output_type": "stream",
     "text": [
      "Epoch 90 Training:   0%|          | 0/4 [00:00<?, ?it/s]/tmp/job.14646635/ipykernel_391663/1724129108.py:79: FutureWarning: Series.__getitem__ treating keys as positions is deprecated. In a future version, integer keys will always be treated as labels (consistent with DataFrame behavior). To access a value by position, use `ser.iloc[pos]`\n",
      "  'labels': torch.tensor(label, dtype=torch.float32)\n",
      "Epoch 90 Training: 100%|██████████| 4/4 [00:05<00:00,  1.45s/it, loss=2.47]\n",
      "Epoch 90 Validation: 100%|██████████| 1/1 [00:00<00:00,  2.65it/s, loss=3.03]\n",
      "/scratch/user/akash.pillai.0810/.my_env/lib/python3.10/site-packages/sklearn/metrics/_classification.py:1565: UndefinedMetricWarning: F-score is ill-defined and being set to 0.0 due to no true nor predicted samples. Use `zero_division` parameter to control this behavior.\n",
      "  _warn_prf(average, modifier, f\"{metric.capitalize()} is\", len(result))\n",
      "/scratch/user/akash.pillai.0810/.my_env/lib/python3.10/site-packages/sklearn/metrics/_classification.py:1565: UndefinedMetricWarning: Recall is ill-defined and being set to 0.0 due to no true samples. Use `zero_division` parameter to control this behavior.\n",
      "  _warn_prf(average, modifier, f\"{metric.capitalize()} is\", len(result))\n"
     ]
    },
    {
     "name": "stdout",
     "output_type": "stream",
     "text": [
      "Epoch 90: Train Loss=1.9959, Val Loss=3.0347\n",
      "Mean F1 Score: 0.7034, Mean Accuracy: 0.8977, Mean Precision: 0.6818, Mean Recall: 0.7273\n"
     ]
    },
    {
     "name": "stderr",
     "output_type": "stream",
     "text": [
      "Epoch 91 Training:   0%|          | 0/4 [00:00<?, ?it/s]/tmp/job.14646635/ipykernel_391663/1724129108.py:79: FutureWarning: Series.__getitem__ treating keys as positions is deprecated. In a future version, integer keys will always be treated as labels (consistent with DataFrame behavior). To access a value by position, use `ser.iloc[pos]`\n",
      "  'labels': torch.tensor(label, dtype=torch.float32)\n",
      "Epoch 91 Training: 100%|██████████| 4/4 [00:05<00:00,  1.45s/it, loss=1.64]\n",
      "Epoch 91 Validation: 100%|██████████| 1/1 [00:00<00:00,  2.65it/s, loss=3.11]\n",
      "/scratch/user/akash.pillai.0810/.my_env/lib/python3.10/site-packages/sklearn/metrics/_classification.py:1565: UndefinedMetricWarning: F-score is ill-defined and being set to 0.0 due to no true nor predicted samples. Use `zero_division` parameter to control this behavior.\n",
      "  _warn_prf(average, modifier, f\"{metric.capitalize()} is\", len(result))\n",
      "/scratch/user/akash.pillai.0810/.my_env/lib/python3.10/site-packages/sklearn/metrics/_classification.py:1565: UndefinedMetricWarning: Recall is ill-defined and being set to 0.0 due to no true samples. Use `zero_division` parameter to control this behavior.\n",
      "  _warn_prf(average, modifier, f\"{metric.capitalize()} is\", len(result))\n"
     ]
    },
    {
     "name": "stdout",
     "output_type": "stream",
     "text": [
      "Epoch 91: Train Loss=1.9749, Val Loss=3.1148\n",
      "Mean F1 Score: 0.7034, Mean Accuracy: 0.8920, Mean Precision: 0.6818, Mean Recall: 0.7273\n"
     ]
    },
    {
     "name": "stderr",
     "output_type": "stream",
     "text": [
      "Epoch 92 Training:   0%|          | 0/4 [00:00<?, ?it/s]/tmp/job.14646635/ipykernel_391663/1724129108.py:79: FutureWarning: Series.__getitem__ treating keys as positions is deprecated. In a future version, integer keys will always be treated as labels (consistent with DataFrame behavior). To access a value by position, use `ser.iloc[pos]`\n",
      "  'labels': torch.tensor(label, dtype=torch.float32)\n",
      "Epoch 92 Training: 100%|██████████| 4/4 [00:05<00:00,  1.45s/it, loss=1.51]\n",
      "Epoch 92 Validation: 100%|██████████| 1/1 [00:00<00:00,  2.65it/s, loss=2.99]\n",
      "/scratch/user/akash.pillai.0810/.my_env/lib/python3.10/site-packages/sklearn/metrics/_classification.py:1565: UndefinedMetricWarning: F-score is ill-defined and being set to 0.0 due to no true nor predicted samples. Use `zero_division` parameter to control this behavior.\n",
      "  _warn_prf(average, modifier, f\"{metric.capitalize()} is\", len(result))\n",
      "/scratch/user/akash.pillai.0810/.my_env/lib/python3.10/site-packages/sklearn/metrics/_classification.py:1565: UndefinedMetricWarning: Recall is ill-defined and being set to 0.0 due to no true samples. Use `zero_division` parameter to control this behavior.\n",
      "  _warn_prf(average, modifier, f\"{metric.capitalize()} is\", len(result))\n"
     ]
    },
    {
     "name": "stdout",
     "output_type": "stream",
     "text": [
      "Epoch 92: Train Loss=1.9725, Val Loss=2.9922\n",
      "Mean F1 Score: 0.7034, Mean Accuracy: 0.8977, Mean Precision: 0.6818, Mean Recall: 0.7273\n"
     ]
    },
    {
     "name": "stderr",
     "output_type": "stream",
     "text": [
      "Epoch 93 Training:   0%|          | 0/4 [00:00<?, ?it/s]/tmp/job.14646635/ipykernel_391663/1724129108.py:79: FutureWarning: Series.__getitem__ treating keys as positions is deprecated. In a future version, integer keys will always be treated as labels (consistent with DataFrame behavior). To access a value by position, use `ser.iloc[pos]`\n",
      "  'labels': torch.tensor(label, dtype=torch.float32)\n",
      "Epoch 93 Training: 100%|██████████| 4/4 [00:05<00:00,  1.45s/it, loss=2.12]\n",
      "Epoch 93 Validation: 100%|██████████| 1/1 [00:00<00:00,  2.65it/s, loss=3.15]\n",
      "/scratch/user/akash.pillai.0810/.my_env/lib/python3.10/site-packages/sklearn/metrics/_classification.py:1565: UndefinedMetricWarning: F-score is ill-defined and being set to 0.0 due to no true nor predicted samples. Use `zero_division` parameter to control this behavior.\n",
      "  _warn_prf(average, modifier, f\"{metric.capitalize()} is\", len(result))\n",
      "/scratch/user/akash.pillai.0810/.my_env/lib/python3.10/site-packages/sklearn/metrics/_classification.py:1565: UndefinedMetricWarning: Recall is ill-defined and being set to 0.0 due to no true samples. Use `zero_division` parameter to control this behavior.\n",
      "  _warn_prf(average, modifier, f\"{metric.capitalize()} is\", len(result))\n"
     ]
    },
    {
     "name": "stdout",
     "output_type": "stream",
     "text": [
      "Epoch 93: Train Loss=1.9733, Val Loss=3.1538\n",
      "Mean F1 Score: 0.7034, Mean Accuracy: 0.8920, Mean Precision: 0.6818, Mean Recall: 0.7273\n"
     ]
    },
    {
     "name": "stderr",
     "output_type": "stream",
     "text": [
      "Epoch 94 Training:   0%|          | 0/4 [00:00<?, ?it/s]/tmp/job.14646635/ipykernel_391663/1724129108.py:79: FutureWarning: Series.__getitem__ treating keys as positions is deprecated. In a future version, integer keys will always be treated as labels (consistent with DataFrame behavior). To access a value by position, use `ser.iloc[pos]`\n",
      "  'labels': torch.tensor(label, dtype=torch.float32)\n",
      "Epoch 94 Training: 100%|██████████| 4/4 [00:05<00:00,  1.45s/it, loss=1.96]\n",
      "Epoch 94 Validation: 100%|██████████| 1/1 [00:00<00:00,  2.65it/s, loss=3.01]\n",
      "/scratch/user/akash.pillai.0810/.my_env/lib/python3.10/site-packages/sklearn/metrics/_classification.py:1565: UndefinedMetricWarning: F-score is ill-defined and being set to 0.0 due to no true nor predicted samples. Use `zero_division` parameter to control this behavior.\n",
      "  _warn_prf(average, modifier, f\"{metric.capitalize()} is\", len(result))\n",
      "/scratch/user/akash.pillai.0810/.my_env/lib/python3.10/site-packages/sklearn/metrics/_classification.py:1565: UndefinedMetricWarning: Recall is ill-defined and being set to 0.0 due to no true samples. Use `zero_division` parameter to control this behavior.\n",
      "  _warn_prf(average, modifier, f\"{metric.capitalize()} is\", len(result))\n"
     ]
    },
    {
     "name": "stdout",
     "output_type": "stream",
     "text": [
      "Epoch 94: Train Loss=1.9559, Val Loss=3.0074\n",
      "Mean F1 Score: 0.7034, Mean Accuracy: 0.8977, Mean Precision: 0.6818, Mean Recall: 0.7273\n"
     ]
    },
    {
     "name": "stderr",
     "output_type": "stream",
     "text": [
      "Epoch 95 Training:   0%|          | 0/4 [00:00<?, ?it/s]/tmp/job.14646635/ipykernel_391663/1724129108.py:79: FutureWarning: Series.__getitem__ treating keys as positions is deprecated. In a future version, integer keys will always be treated as labels (consistent with DataFrame behavior). To access a value by position, use `ser.iloc[pos]`\n",
      "  'labels': torch.tensor(label, dtype=torch.float32)\n",
      "Epoch 95 Training: 100%|██████████| 4/4 [00:05<00:00,  1.45s/it, loss=1.1]  \n",
      "Epoch 95 Validation: 100%|██████████| 1/1 [00:00<00:00,  2.65it/s, loss=3.13]\n",
      "/scratch/user/akash.pillai.0810/.my_env/lib/python3.10/site-packages/sklearn/metrics/_classification.py:1565: UndefinedMetricWarning: F-score is ill-defined and being set to 0.0 due to no true nor predicted samples. Use `zero_division` parameter to control this behavior.\n",
      "  _warn_prf(average, modifier, f\"{metric.capitalize()} is\", len(result))\n",
      "/scratch/user/akash.pillai.0810/.my_env/lib/python3.10/site-packages/sklearn/metrics/_classification.py:1565: UndefinedMetricWarning: Recall is ill-defined and being set to 0.0 due to no true samples. Use `zero_division` parameter to control this behavior.\n",
      "  _warn_prf(average, modifier, f\"{metric.capitalize()} is\", len(result))\n"
     ]
    },
    {
     "name": "stdout",
     "output_type": "stream",
     "text": [
      "Epoch 95: Train Loss=1.9843, Val Loss=3.1322\n",
      "Mean F1 Score: 0.7034, Mean Accuracy: 0.8920, Mean Precision: 0.6818, Mean Recall: 0.7273\n"
     ]
    },
    {
     "name": "stderr",
     "output_type": "stream",
     "text": [
      "Epoch 96 Training:   0%|          | 0/4 [00:00<?, ?it/s]/tmp/job.14646635/ipykernel_391663/1724129108.py:79: FutureWarning: Series.__getitem__ treating keys as positions is deprecated. In a future version, integer keys will always be treated as labels (consistent with DataFrame behavior). To access a value by position, use `ser.iloc[pos]`\n",
      "  'labels': torch.tensor(label, dtype=torch.float32)\n",
      "Epoch 96 Training: 100%|██████████| 4/4 [00:05<00:00,  1.45s/it, loss=2.68]\n",
      "Epoch 96 Validation: 100%|██████████| 1/1 [00:00<00:00,  2.65it/s, loss=3.08]\n",
      "/scratch/user/akash.pillai.0810/.my_env/lib/python3.10/site-packages/sklearn/metrics/_classification.py:1565: UndefinedMetricWarning: F-score is ill-defined and being set to 0.0 due to no true nor predicted samples. Use `zero_division` parameter to control this behavior.\n",
      "  _warn_prf(average, modifier, f\"{metric.capitalize()} is\", len(result))\n",
      "/scratch/user/akash.pillai.0810/.my_env/lib/python3.10/site-packages/sklearn/metrics/_classification.py:1565: UndefinedMetricWarning: Recall is ill-defined and being set to 0.0 due to no true samples. Use `zero_division` parameter to control this behavior.\n",
      "  _warn_prf(average, modifier, f\"{metric.capitalize()} is\", len(result))\n"
     ]
    },
    {
     "name": "stdout",
     "output_type": "stream",
     "text": [
      "Epoch 96: Train Loss=1.9912, Val Loss=3.0849\n",
      "Mean F1 Score: 0.7034, Mean Accuracy: 0.8920, Mean Precision: 0.6818, Mean Recall: 0.7273\n"
     ]
    },
    {
     "name": "stderr",
     "output_type": "stream",
     "text": [
      "Epoch 97 Training:   0%|          | 0/4 [00:00<?, ?it/s]/tmp/job.14646635/ipykernel_391663/1724129108.py:79: FutureWarning: Series.__getitem__ treating keys as positions is deprecated. In a future version, integer keys will always be treated as labels (consistent with DataFrame behavior). To access a value by position, use `ser.iloc[pos]`\n",
      "  'labels': torch.tensor(label, dtype=torch.float32)\n",
      "Epoch 97 Training: 100%|██████████| 4/4 [00:05<00:00,  1.45s/it, loss=2.79] \n",
      "Epoch 97 Validation: 100%|██████████| 1/1 [00:00<00:00,  2.63it/s, loss=2.97]\n",
      "/scratch/user/akash.pillai.0810/.my_env/lib/python3.10/site-packages/sklearn/metrics/_classification.py:1565: UndefinedMetricWarning: F-score is ill-defined and being set to 0.0 due to no true nor predicted samples. Use `zero_division` parameter to control this behavior.\n",
      "  _warn_prf(average, modifier, f\"{metric.capitalize()} is\", len(result))\n",
      "/scratch/user/akash.pillai.0810/.my_env/lib/python3.10/site-packages/sklearn/metrics/_classification.py:1565: UndefinedMetricWarning: Recall is ill-defined and being set to 0.0 due to no true samples. Use `zero_division` parameter to control this behavior.\n",
      "  _warn_prf(average, modifier, f\"{metric.capitalize()} is\", len(result))\n"
     ]
    },
    {
     "name": "stdout",
     "output_type": "stream",
     "text": [
      "Epoch 97: Train Loss=1.9591, Val Loss=2.9678\n",
      "Mean F1 Score: 0.7034, Mean Accuracy: 0.8977, Mean Precision: 0.6818, Mean Recall: 0.7273\n"
     ]
    },
    {
     "name": "stderr",
     "output_type": "stream",
     "text": [
      "Epoch 98 Training:   0%|          | 0/4 [00:00<?, ?it/s]/tmp/job.14646635/ipykernel_391663/1724129108.py:79: FutureWarning: Series.__getitem__ treating keys as positions is deprecated. In a future version, integer keys will always be treated as labels (consistent with DataFrame behavior). To access a value by position, use `ser.iloc[pos]`\n",
      "  'labels': torch.tensor(label, dtype=torch.float32)\n",
      "Epoch 98 Training: 100%|██████████| 4/4 [00:05<00:00,  1.45s/it, loss=2.25]\n",
      "Epoch 98 Validation: 100%|██████████| 1/1 [00:00<00:00,  2.64it/s, loss=3.14]\n",
      "/scratch/user/akash.pillai.0810/.my_env/lib/python3.10/site-packages/sklearn/metrics/_classification.py:1565: UndefinedMetricWarning: F-score is ill-defined and being set to 0.0 due to no true nor predicted samples. Use `zero_division` parameter to control this behavior.\n",
      "  _warn_prf(average, modifier, f\"{metric.capitalize()} is\", len(result))\n",
      "/scratch/user/akash.pillai.0810/.my_env/lib/python3.10/site-packages/sklearn/metrics/_classification.py:1565: UndefinedMetricWarning: Recall is ill-defined and being set to 0.0 due to no true samples. Use `zero_division` parameter to control this behavior.\n",
      "  _warn_prf(average, modifier, f\"{metric.capitalize()} is\", len(result))\n"
     ]
    },
    {
     "name": "stdout",
     "output_type": "stream",
     "text": [
      "Epoch 98: Train Loss=1.9383, Val Loss=3.1417\n",
      "Mean F1 Score: 0.7034, Mean Accuracy: 0.8864, Mean Precision: 0.6818, Mean Recall: 0.7273\n"
     ]
    },
    {
     "name": "stderr",
     "output_type": "stream",
     "text": [
      "Epoch 99 Training:   0%|          | 0/4 [00:00<?, ?it/s]/tmp/job.14646635/ipykernel_391663/1724129108.py:79: FutureWarning: Series.__getitem__ treating keys as positions is deprecated. In a future version, integer keys will always be treated as labels (consistent with DataFrame behavior). To access a value by position, use `ser.iloc[pos]`\n",
      "  'labels': torch.tensor(label, dtype=torch.float32)\n",
      "Epoch 99 Training: 100%|██████████| 4/4 [00:05<00:00,  1.45s/it, loss=1.36]\n",
      "Epoch 99 Validation: 100%|██████████| 1/1 [00:00<00:00,  2.65it/s, loss=3.03]\n",
      "/scratch/user/akash.pillai.0810/.my_env/lib/python3.10/site-packages/sklearn/metrics/_classification.py:1565: UndefinedMetricWarning: F-score is ill-defined and being set to 0.0 due to no true nor predicted samples. Use `zero_division` parameter to control this behavior.\n",
      "  _warn_prf(average, modifier, f\"{metric.capitalize()} is\", len(result))\n",
      "/scratch/user/akash.pillai.0810/.my_env/lib/python3.10/site-packages/sklearn/metrics/_classification.py:1565: UndefinedMetricWarning: Recall is ill-defined and being set to 0.0 due to no true samples. Use `zero_division` parameter to control this behavior.\n",
      "  _warn_prf(average, modifier, f\"{metric.capitalize()} is\", len(result))\n"
     ]
    },
    {
     "name": "stdout",
     "output_type": "stream",
     "text": [
      "Epoch 99: Train Loss=1.9396, Val Loss=3.0266\n",
      "Mean F1 Score: 0.7034, Mean Accuracy: 0.8977, Mean Precision: 0.6818, Mean Recall: 0.7273\n"
     ]
    },
    {
     "name": "stderr",
     "output_type": "stream",
     "text": [
      "Epoch 100 Training:   0%|          | 0/4 [00:00<?, ?it/s]/tmp/job.14646635/ipykernel_391663/1724129108.py:79: FutureWarning: Series.__getitem__ treating keys as positions is deprecated. In a future version, integer keys will always be treated as labels (consistent with DataFrame behavior). To access a value by position, use `ser.iloc[pos]`\n",
      "  'labels': torch.tensor(label, dtype=torch.float32)\n",
      "Epoch 100 Training: 100%|██████████| 4/4 [00:05<00:00,  1.45s/it, loss=1.38]\n",
      "Epoch 100 Validation: 100%|██████████| 1/1 [00:00<00:00,  2.65it/s, loss=3.14]\n",
      "/scratch/user/akash.pillai.0810/.my_env/lib/python3.10/site-packages/sklearn/metrics/_classification.py:1565: UndefinedMetricWarning: F-score is ill-defined and being set to 0.0 due to no true nor predicted samples. Use `zero_division` parameter to control this behavior.\n",
      "  _warn_prf(average, modifier, f\"{metric.capitalize()} is\", len(result))\n",
      "/scratch/user/akash.pillai.0810/.my_env/lib/python3.10/site-packages/sklearn/metrics/_classification.py:1565: UndefinedMetricWarning: Recall is ill-defined and being set to 0.0 due to no true samples. Use `zero_division` parameter to control this behavior.\n",
      "  _warn_prf(average, modifier, f\"{metric.capitalize()} is\", len(result))\n"
     ]
    },
    {
     "name": "stdout",
     "output_type": "stream",
     "text": [
      "Epoch 100: Train Loss=1.9218, Val Loss=3.1354\n",
      "Mean F1 Score: 0.7034, Mean Accuracy: 0.8864, Mean Precision: 0.6818, Mean Recall: 0.7273\n",
      "Training fold 2...\n"
     ]
    },
    {
     "name": "stderr",
     "output_type": "stream",
     "text": [
      "Epoch 1 Training:   0%|          | 0/4 [00:00<?, ?it/s]/tmp/job.14646635/ipykernel_391663/1724129108.py:79: FutureWarning: Series.__getitem__ treating keys as positions is deprecated. In a future version, integer keys will always be treated as labels (consistent with DataFrame behavior). To access a value by position, use `ser.iloc[pos]`\n",
      "  'labels': torch.tensor(label, dtype=torch.float32)\n",
      "Epoch 1 Training: 100%|██████████| 4/4 [00:05<00:00,  1.45s/it, loss=6.91]\n",
      "Epoch 1 Validation: 100%|██████████| 1/1 [00:00<00:00,  2.71it/s, loss=6.65]\n",
      "/scratch/user/akash.pillai.0810/.my_env/lib/python3.10/site-packages/sklearn/metrics/_classification.py:1565: UndefinedMetricWarning: F-score is ill-defined and being set to 0.0 due to no true nor predicted samples. Use `zero_division` parameter to control this behavior.\n",
      "  _warn_prf(average, modifier, f\"{metric.capitalize()} is\", len(result))\n",
      "/scratch/user/akash.pillai.0810/.my_env/lib/python3.10/site-packages/sklearn/metrics/_classification.py:1565: UndefinedMetricWarning: Recall is ill-defined and being set to 0.0 due to no true samples. Use `zero_division` parameter to control this behavior.\n",
      "  _warn_prf(average, modifier, f\"{metric.capitalize()} is\", len(result))\n"
     ]
    },
    {
     "name": "stdout",
     "output_type": "stream",
     "text": [
      "Epoch 1: Train Loss=7.3257, Val Loss=6.6550\n",
      "Mean F1 Score: 0.6987, Mean Accuracy: 0.8636, Mean Precision: 0.8011, Mean Recall: 0.6875\n",
      "New best model saved for fold 2 with F1=0.6987\n"
     ]
    },
    {
     "name": "stderr",
     "output_type": "stream",
     "text": [
      "Epoch 2 Training:   0%|          | 0/4 [00:00<?, ?it/s]/tmp/job.14646635/ipykernel_391663/1724129108.py:79: FutureWarning: Series.__getitem__ treating keys as positions is deprecated. In a future version, integer keys will always be treated as labels (consistent with DataFrame behavior). To access a value by position, use `ser.iloc[pos]`\n",
      "  'labels': torch.tensor(label, dtype=torch.float32)\n",
      "Epoch 2 Training: 100%|██████████| 4/4 [00:05<00:00,  1.45s/it, loss=6.39]\n",
      "Epoch 2 Validation: 100%|██████████| 1/1 [00:00<00:00,  2.70it/s, loss=5.79]\n",
      "/scratch/user/akash.pillai.0810/.my_env/lib/python3.10/site-packages/sklearn/metrics/_classification.py:1565: UndefinedMetricWarning: F-score is ill-defined and being set to 0.0 due to no true nor predicted samples. Use `zero_division` parameter to control this behavior.\n",
      "  _warn_prf(average, modifier, f\"{metric.capitalize()} is\", len(result))\n",
      "/scratch/user/akash.pillai.0810/.my_env/lib/python3.10/site-packages/sklearn/metrics/_classification.py:1565: UndefinedMetricWarning: Recall is ill-defined and being set to 0.0 due to no true samples. Use `zero_division` parameter to control this behavior.\n",
      "  _warn_prf(average, modifier, f\"{metric.capitalize()} is\", len(result))\n"
     ]
    },
    {
     "name": "stdout",
     "output_type": "stream",
     "text": [
      "Epoch 2: Train Loss=6.5039, Val Loss=5.7930\n",
      "Mean F1 Score: 0.7183, Mean Accuracy: 0.9432, Mean Precision: 0.7102, Mean Recall: 0.7273\n",
      "New best model saved for fold 2 with F1=0.7183\n"
     ]
    },
    {
     "name": "stderr",
     "output_type": "stream",
     "text": [
      "Epoch 3 Training:   0%|          | 0/4 [00:00<?, ?it/s]/tmp/job.14646635/ipykernel_391663/1724129108.py:79: FutureWarning: Series.__getitem__ treating keys as positions is deprecated. In a future version, integer keys will always be treated as labels (consistent with DataFrame behavior). To access a value by position, use `ser.iloc[pos]`\n",
      "  'labels': torch.tensor(label, dtype=torch.float32)\n",
      "Epoch 3 Training: 100%|██████████| 4/4 [00:05<00:00,  1.45s/it, loss=5.73]\n",
      "Epoch 3 Validation: 100%|██████████| 1/1 [00:00<00:00,  2.71it/s, loss=5.16]\n",
      "/scratch/user/akash.pillai.0810/.my_env/lib/python3.10/site-packages/sklearn/metrics/_classification.py:1565: UndefinedMetricWarning: F-score is ill-defined and being set to 0.0 due to no true nor predicted samples. Use `zero_division` parameter to control this behavior.\n",
      "  _warn_prf(average, modifier, f\"{metric.capitalize()} is\", len(result))\n",
      "/scratch/user/akash.pillai.0810/.my_env/lib/python3.10/site-packages/sklearn/metrics/_classification.py:1565: UndefinedMetricWarning: Recall is ill-defined and being set to 0.0 due to no true samples. Use `zero_division` parameter to control this behavior.\n",
      "  _warn_prf(average, modifier, f\"{metric.capitalize()} is\", len(result))\n"
     ]
    },
    {
     "name": "stdout",
     "output_type": "stream",
     "text": [
      "Epoch 3: Train Loss=5.8759, Val Loss=5.1578\n",
      "Mean F1 Score: 0.7183, Mean Accuracy: 0.9432, Mean Precision: 0.7102, Mean Recall: 0.7273\n"
     ]
    },
    {
     "name": "stderr",
     "output_type": "stream",
     "text": [
      "Epoch 4 Training:   0%|          | 0/4 [00:00<?, ?it/s]/tmp/job.14646635/ipykernel_391663/1724129108.py:79: FutureWarning: Series.__getitem__ treating keys as positions is deprecated. In a future version, integer keys will always be treated as labels (consistent with DataFrame behavior). To access a value by position, use `ser.iloc[pos]`\n",
      "  'labels': torch.tensor(label, dtype=torch.float32)\n",
      "Epoch 4 Training: 100%|██████████| 4/4 [00:05<00:00,  1.45s/it, loss=5.18]\n",
      "Epoch 4 Validation: 100%|██████████| 1/1 [00:00<00:00,  2.71it/s, loss=4.66]\n",
      "/scratch/user/akash.pillai.0810/.my_env/lib/python3.10/site-packages/sklearn/metrics/_classification.py:1565: UndefinedMetricWarning: F-score is ill-defined and being set to 0.0 due to no true nor predicted samples. Use `zero_division` parameter to control this behavior.\n",
      "  _warn_prf(average, modifier, f\"{metric.capitalize()} is\", len(result))\n",
      "/scratch/user/akash.pillai.0810/.my_env/lib/python3.10/site-packages/sklearn/metrics/_classification.py:1565: UndefinedMetricWarning: Recall is ill-defined and being set to 0.0 due to no true samples. Use `zero_division` parameter to control this behavior.\n",
      "  _warn_prf(average, modifier, f\"{metric.capitalize()} is\", len(result))\n"
     ]
    },
    {
     "name": "stdout",
     "output_type": "stream",
     "text": [
      "Epoch 4: Train Loss=5.4179, Val Loss=4.6588\n",
      "Mean F1 Score: 0.7183, Mean Accuracy: 0.9432, Mean Precision: 0.7102, Mean Recall: 0.7273\n"
     ]
    },
    {
     "name": "stderr",
     "output_type": "stream",
     "text": [
      "Epoch 5 Training:   0%|          | 0/4 [00:00<?, ?it/s]/tmp/job.14646635/ipykernel_391663/1724129108.py:79: FutureWarning: Series.__getitem__ treating keys as positions is deprecated. In a future version, integer keys will always be treated as labels (consistent with DataFrame behavior). To access a value by position, use `ser.iloc[pos]`\n",
      "  'labels': torch.tensor(label, dtype=torch.float32)\n",
      "Epoch 5 Training: 100%|██████████| 4/4 [00:05<00:00,  1.45s/it, loss=5.41]\n",
      "Epoch 5 Validation: 100%|██████████| 1/1 [00:00<00:00,  2.71it/s, loss=4.26]\n",
      "/scratch/user/akash.pillai.0810/.my_env/lib/python3.10/site-packages/sklearn/metrics/_classification.py:1565: UndefinedMetricWarning: F-score is ill-defined and being set to 0.0 due to no true nor predicted samples. Use `zero_division` parameter to control this behavior.\n",
      "  _warn_prf(average, modifier, f\"{metric.capitalize()} is\", len(result))\n",
      "/scratch/user/akash.pillai.0810/.my_env/lib/python3.10/site-packages/sklearn/metrics/_classification.py:1565: UndefinedMetricWarning: Recall is ill-defined and being set to 0.0 due to no true samples. Use `zero_division` parameter to control this behavior.\n",
      "  _warn_prf(average, modifier, f\"{metric.capitalize()} is\", len(result))\n"
     ]
    },
    {
     "name": "stdout",
     "output_type": "stream",
     "text": [
      "Epoch 5: Train Loss=5.0293, Val Loss=4.2601\n",
      "Mean F1 Score: 0.7183, Mean Accuracy: 0.9432, Mean Precision: 0.7102, Mean Recall: 0.7273\n"
     ]
    },
    {
     "name": "stderr",
     "output_type": "stream",
     "text": [
      "Epoch 6 Training:   0%|          | 0/4 [00:00<?, ?it/s]/tmp/job.14646635/ipykernel_391663/1724129108.py:79: FutureWarning: Series.__getitem__ treating keys as positions is deprecated. In a future version, integer keys will always be treated as labels (consistent with DataFrame behavior). To access a value by position, use `ser.iloc[pos]`\n",
      "  'labels': torch.tensor(label, dtype=torch.float32)\n",
      "Epoch 6 Training: 100%|██████████| 4/4 [00:05<00:00,  1.45s/it, loss=4.37]\n",
      "Epoch 6 Validation: 100%|██████████| 1/1 [00:00<00:00,  2.71it/s, loss=3.94]\n",
      "/scratch/user/akash.pillai.0810/.my_env/lib/python3.10/site-packages/sklearn/metrics/_classification.py:1565: UndefinedMetricWarning: F-score is ill-defined and being set to 0.0 due to no true nor predicted samples. Use `zero_division` parameter to control this behavior.\n",
      "  _warn_prf(average, modifier, f\"{metric.capitalize()} is\", len(result))\n",
      "/scratch/user/akash.pillai.0810/.my_env/lib/python3.10/site-packages/sklearn/metrics/_classification.py:1565: UndefinedMetricWarning: Recall is ill-defined and being set to 0.0 due to no true samples. Use `zero_division` parameter to control this behavior.\n",
      "  _warn_prf(average, modifier, f\"{metric.capitalize()} is\", len(result))\n"
     ]
    },
    {
     "name": "stdout",
     "output_type": "stream",
     "text": [
      "Epoch 6: Train Loss=4.7440, Val Loss=3.9352\n",
      "Mean F1 Score: 0.7183, Mean Accuracy: 0.9432, Mean Precision: 0.7102, Mean Recall: 0.7273\n"
     ]
    },
    {
     "name": "stderr",
     "output_type": "stream",
     "text": [
      "Epoch 7 Training:   0%|          | 0/4 [00:00<?, ?it/s]/tmp/job.14646635/ipykernel_391663/1724129108.py:79: FutureWarning: Series.__getitem__ treating keys as positions is deprecated. In a future version, integer keys will always be treated as labels (consistent with DataFrame behavior). To access a value by position, use `ser.iloc[pos]`\n",
      "  'labels': torch.tensor(label, dtype=torch.float32)\n",
      "Epoch 7 Training: 100%|██████████| 4/4 [00:05<00:00,  1.45s/it, loss=4.65]\n",
      "Epoch 7 Validation: 100%|██████████| 1/1 [00:00<00:00,  2.71it/s, loss=3.66]\n",
      "/scratch/user/akash.pillai.0810/.my_env/lib/python3.10/site-packages/sklearn/metrics/_classification.py:1565: UndefinedMetricWarning: F-score is ill-defined and being set to 0.0 due to no true nor predicted samples. Use `zero_division` parameter to control this behavior.\n",
      "  _warn_prf(average, modifier, f\"{metric.capitalize()} is\", len(result))\n",
      "/scratch/user/akash.pillai.0810/.my_env/lib/python3.10/site-packages/sklearn/metrics/_classification.py:1565: UndefinedMetricWarning: Recall is ill-defined and being set to 0.0 due to no true samples. Use `zero_division` parameter to control this behavior.\n",
      "  _warn_prf(average, modifier, f\"{metric.capitalize()} is\", len(result))\n"
     ]
    },
    {
     "name": "stdout",
     "output_type": "stream",
     "text": [
      "Epoch 7: Train Loss=4.5134, Val Loss=3.6557\n",
      "Mean F1 Score: 0.7183, Mean Accuracy: 0.9432, Mean Precision: 0.7102, Mean Recall: 0.7273\n"
     ]
    },
    {
     "name": "stderr",
     "output_type": "stream",
     "text": [
      "Epoch 8 Training:   0%|          | 0/4 [00:00<?, ?it/s]/tmp/job.14646635/ipykernel_391663/1724129108.py:79: FutureWarning: Series.__getitem__ treating keys as positions is deprecated. In a future version, integer keys will always be treated as labels (consistent with DataFrame behavior). To access a value by position, use `ser.iloc[pos]`\n",
      "  'labels': torch.tensor(label, dtype=torch.float32)\n",
      "Epoch 8 Training: 100%|██████████| 4/4 [00:05<00:00,  1.45s/it, loss=4.64]\n",
      "Epoch 8 Validation: 100%|██████████| 1/1 [00:00<00:00,  2.71it/s, loss=3.43]\n",
      "/scratch/user/akash.pillai.0810/.my_env/lib/python3.10/site-packages/sklearn/metrics/_classification.py:1565: UndefinedMetricWarning: F-score is ill-defined and being set to 0.0 due to no true nor predicted samples. Use `zero_division` parameter to control this behavior.\n",
      "  _warn_prf(average, modifier, f\"{metric.capitalize()} is\", len(result))\n",
      "/scratch/user/akash.pillai.0810/.my_env/lib/python3.10/site-packages/sklearn/metrics/_classification.py:1565: UndefinedMetricWarning: Recall is ill-defined and being set to 0.0 due to no true samples. Use `zero_division` parameter to control this behavior.\n",
      "  _warn_prf(average, modifier, f\"{metric.capitalize()} is\", len(result))\n"
     ]
    },
    {
     "name": "stdout",
     "output_type": "stream",
     "text": [
      "Epoch 8: Train Loss=4.2886, Val Loss=3.4327\n",
      "Mean F1 Score: 0.7183, Mean Accuracy: 0.9432, Mean Precision: 0.7102, Mean Recall: 0.7273\n"
     ]
    },
    {
     "name": "stderr",
     "output_type": "stream",
     "text": [
      "Epoch 9 Training:   0%|          | 0/4 [00:00<?, ?it/s]/tmp/job.14646635/ipykernel_391663/1724129108.py:79: FutureWarning: Series.__getitem__ treating keys as positions is deprecated. In a future version, integer keys will always be treated as labels (consistent with DataFrame behavior). To access a value by position, use `ser.iloc[pos]`\n",
      "  'labels': torch.tensor(label, dtype=torch.float32)\n",
      "Epoch 9 Training: 100%|██████████| 4/4 [00:05<00:00,  1.45s/it, loss=4.45]\n",
      "Epoch 9 Validation: 100%|██████████| 1/1 [00:00<00:00,  2.71it/s, loss=3.25]\n",
      "/scratch/user/akash.pillai.0810/.my_env/lib/python3.10/site-packages/sklearn/metrics/_classification.py:1565: UndefinedMetricWarning: F-score is ill-defined and being set to 0.0 due to no true nor predicted samples. Use `zero_division` parameter to control this behavior.\n",
      "  _warn_prf(average, modifier, f\"{metric.capitalize()} is\", len(result))\n",
      "/scratch/user/akash.pillai.0810/.my_env/lib/python3.10/site-packages/sklearn/metrics/_classification.py:1565: UndefinedMetricWarning: Recall is ill-defined and being set to 0.0 due to no true samples. Use `zero_division` parameter to control this behavior.\n",
      "  _warn_prf(average, modifier, f\"{metric.capitalize()} is\", len(result))\n"
     ]
    },
    {
     "name": "stdout",
     "output_type": "stream",
     "text": [
      "Epoch 9: Train Loss=4.1262, Val Loss=3.2509\n",
      "Mean F1 Score: 0.7183, Mean Accuracy: 0.9432, Mean Precision: 0.7102, Mean Recall: 0.7273\n"
     ]
    },
    {
     "name": "stderr",
     "output_type": "stream",
     "text": [
      "Epoch 10 Training:   0%|          | 0/4 [00:00<?, ?it/s]/tmp/job.14646635/ipykernel_391663/1724129108.py:79: FutureWarning: Series.__getitem__ treating keys as positions is deprecated. In a future version, integer keys will always be treated as labels (consistent with DataFrame behavior). To access a value by position, use `ser.iloc[pos]`\n",
      "  'labels': torch.tensor(label, dtype=torch.float32)\n",
      "Epoch 10 Training: 100%|██████████| 4/4 [00:05<00:00,  1.45s/it, loss=3.61]\n",
      "Epoch 10 Validation: 100%|██████████| 1/1 [00:00<00:00,  2.71it/s, loss=3.09]\n",
      "/scratch/user/akash.pillai.0810/.my_env/lib/python3.10/site-packages/sklearn/metrics/_classification.py:1565: UndefinedMetricWarning: F-score is ill-defined and being set to 0.0 due to no true nor predicted samples. Use `zero_division` parameter to control this behavior.\n",
      "  _warn_prf(average, modifier, f\"{metric.capitalize()} is\", len(result))\n",
      "/scratch/user/akash.pillai.0810/.my_env/lib/python3.10/site-packages/sklearn/metrics/_classification.py:1565: UndefinedMetricWarning: Recall is ill-defined and being set to 0.0 due to no true samples. Use `zero_division` parameter to control this behavior.\n",
      "  _warn_prf(average, modifier, f\"{metric.capitalize()} is\", len(result))\n"
     ]
    },
    {
     "name": "stdout",
     "output_type": "stream",
     "text": [
      "Epoch 10: Train Loss=3.9687, Val Loss=3.0913\n",
      "Mean F1 Score: 0.7183, Mean Accuracy: 0.9432, Mean Precision: 0.7102, Mean Recall: 0.7273\n"
     ]
    },
    {
     "name": "stderr",
     "output_type": "stream",
     "text": [
      "Epoch 11 Training:   0%|          | 0/4 [00:00<?, ?it/s]/tmp/job.14646635/ipykernel_391663/1724129108.py:79: FutureWarning: Series.__getitem__ treating keys as positions is deprecated. In a future version, integer keys will always be treated as labels (consistent with DataFrame behavior). To access a value by position, use `ser.iloc[pos]`\n",
      "  'labels': torch.tensor(label, dtype=torch.float32)\n",
      "Epoch 11 Training: 100%|██████████| 4/4 [00:05<00:00,  1.45s/it, loss=3.55]\n",
      "Epoch 11 Validation: 100%|██████████| 1/1 [00:00<00:00,  2.71it/s, loss=2.97]\n",
      "/scratch/user/akash.pillai.0810/.my_env/lib/python3.10/site-packages/sklearn/metrics/_classification.py:1565: UndefinedMetricWarning: F-score is ill-defined and being set to 0.0 due to no true nor predicted samples. Use `zero_division` parameter to control this behavior.\n",
      "  _warn_prf(average, modifier, f\"{metric.capitalize()} is\", len(result))\n",
      "/scratch/user/akash.pillai.0810/.my_env/lib/python3.10/site-packages/sklearn/metrics/_classification.py:1565: UndefinedMetricWarning: Recall is ill-defined and being set to 0.0 due to no true samples. Use `zero_division` parameter to control this behavior.\n",
      "  _warn_prf(average, modifier, f\"{metric.capitalize()} is\", len(result))\n"
     ]
    },
    {
     "name": "stdout",
     "output_type": "stream",
     "text": [
      "Epoch 11: Train Loss=3.8212, Val Loss=2.9669\n",
      "Mean F1 Score: 0.7183, Mean Accuracy: 0.9432, Mean Precision: 0.7102, Mean Recall: 0.7273\n"
     ]
    },
    {
     "name": "stderr",
     "output_type": "stream",
     "text": [
      "Epoch 12 Training:   0%|          | 0/4 [00:00<?, ?it/s]/tmp/job.14646635/ipykernel_391663/1724129108.py:79: FutureWarning: Series.__getitem__ treating keys as positions is deprecated. In a future version, integer keys will always be treated as labels (consistent with DataFrame behavior). To access a value by position, use `ser.iloc[pos]`\n",
      "  'labels': torch.tensor(label, dtype=torch.float32)\n",
      "Epoch 12 Training: 100%|██████████| 4/4 [00:05<00:00,  1.45s/it, loss=3.25]\n",
      "Epoch 12 Validation: 100%|██████████| 1/1 [00:00<00:00,  2.70it/s, loss=2.84]\n",
      "/scratch/user/akash.pillai.0810/.my_env/lib/python3.10/site-packages/sklearn/metrics/_classification.py:1565: UndefinedMetricWarning: F-score is ill-defined and being set to 0.0 due to no true nor predicted samples. Use `zero_division` parameter to control this behavior.\n",
      "  _warn_prf(average, modifier, f\"{metric.capitalize()} is\", len(result))\n",
      "/scratch/user/akash.pillai.0810/.my_env/lib/python3.10/site-packages/sklearn/metrics/_classification.py:1565: UndefinedMetricWarning: Recall is ill-defined and being set to 0.0 due to no true samples. Use `zero_division` parameter to control this behavior.\n",
      "  _warn_prf(average, modifier, f\"{metric.capitalize()} is\", len(result))\n"
     ]
    },
    {
     "name": "stdout",
     "output_type": "stream",
     "text": [
      "Epoch 12: Train Loss=3.6953, Val Loss=2.8407\n",
      "Mean F1 Score: 0.7183, Mean Accuracy: 0.9432, Mean Precision: 0.7102, Mean Recall: 0.7273\n"
     ]
    },
    {
     "name": "stderr",
     "output_type": "stream",
     "text": [
      "Epoch 13 Training:   0%|          | 0/4 [00:00<?, ?it/s]/tmp/job.14646635/ipykernel_391663/1724129108.py:79: FutureWarning: Series.__getitem__ treating keys as positions is deprecated. In a future version, integer keys will always be treated as labels (consistent with DataFrame behavior). To access a value by position, use `ser.iloc[pos]`\n",
      "  'labels': torch.tensor(label, dtype=torch.float32)\n",
      "Epoch 13 Training: 100%|██████████| 4/4 [00:05<00:00,  1.45s/it, loss=3.45]\n",
      "Epoch 13 Validation: 100%|██████████| 1/1 [00:00<00:00,  2.71it/s, loss=2.72]\n",
      "/scratch/user/akash.pillai.0810/.my_env/lib/python3.10/site-packages/sklearn/metrics/_classification.py:1565: UndefinedMetricWarning: F-score is ill-defined and being set to 0.0 due to no true nor predicted samples. Use `zero_division` parameter to control this behavior.\n",
      "  _warn_prf(average, modifier, f\"{metric.capitalize()} is\", len(result))\n",
      "/scratch/user/akash.pillai.0810/.my_env/lib/python3.10/site-packages/sklearn/metrics/_classification.py:1565: UndefinedMetricWarning: Recall is ill-defined and being set to 0.0 due to no true samples. Use `zero_division` parameter to control this behavior.\n",
      "  _warn_prf(average, modifier, f\"{metric.capitalize()} is\", len(result))\n"
     ]
    },
    {
     "name": "stdout",
     "output_type": "stream",
     "text": [
      "Epoch 13: Train Loss=3.5977, Val Loss=2.7236\n",
      "Mean F1 Score: 0.7183, Mean Accuracy: 0.9432, Mean Precision: 0.7102, Mean Recall: 0.7273\n"
     ]
    },
    {
     "name": "stderr",
     "output_type": "stream",
     "text": [
      "Epoch 14 Training:   0%|          | 0/4 [00:00<?, ?it/s]/tmp/job.14646635/ipykernel_391663/1724129108.py:79: FutureWarning: Series.__getitem__ treating keys as positions is deprecated. In a future version, integer keys will always be treated as labels (consistent with DataFrame behavior). To access a value by position, use `ser.iloc[pos]`\n",
      "  'labels': torch.tensor(label, dtype=torch.float32)\n",
      "Epoch 14 Training: 100%|██████████| 4/4 [00:05<00:00,  1.45s/it, loss=3.71]\n",
      "Epoch 14 Validation: 100%|██████████| 1/1 [00:00<00:00,  2.71it/s, loss=2.64]\n",
      "/scratch/user/akash.pillai.0810/.my_env/lib/python3.10/site-packages/sklearn/metrics/_classification.py:1565: UndefinedMetricWarning: F-score is ill-defined and being set to 0.0 due to no true nor predicted samples. Use `zero_division` parameter to control this behavior.\n",
      "  _warn_prf(average, modifier, f\"{metric.capitalize()} is\", len(result))\n",
      "/scratch/user/akash.pillai.0810/.my_env/lib/python3.10/site-packages/sklearn/metrics/_classification.py:1565: UndefinedMetricWarning: Recall is ill-defined and being set to 0.0 due to no true samples. Use `zero_division` parameter to control this behavior.\n",
      "  _warn_prf(average, modifier, f\"{metric.capitalize()} is\", len(result))\n"
     ]
    },
    {
     "name": "stdout",
     "output_type": "stream",
     "text": [
      "Epoch 14: Train Loss=3.4890, Val Loss=2.6441\n",
      "Mean F1 Score: 0.7183, Mean Accuracy: 0.9432, Mean Precision: 0.7102, Mean Recall: 0.7273\n"
     ]
    },
    {
     "name": "stderr",
     "output_type": "stream",
     "text": [
      "Epoch 15 Training:   0%|          | 0/4 [00:00<?, ?it/s]/tmp/job.14646635/ipykernel_391663/1724129108.py:79: FutureWarning: Series.__getitem__ treating keys as positions is deprecated. In a future version, integer keys will always be treated as labels (consistent with DataFrame behavior). To access a value by position, use `ser.iloc[pos]`\n",
      "  'labels': torch.tensor(label, dtype=torch.float32)\n",
      "Epoch 15 Training: 100%|██████████| 4/4 [00:05<00:00,  1.45s/it, loss=3.4] \n",
      "Epoch 15 Validation: 100%|██████████| 1/1 [00:00<00:00,  2.71it/s, loss=2.53]\n",
      "/scratch/user/akash.pillai.0810/.my_env/lib/python3.10/site-packages/sklearn/metrics/_classification.py:1565: UndefinedMetricWarning: F-score is ill-defined and being set to 0.0 due to no true nor predicted samples. Use `zero_division` parameter to control this behavior.\n",
      "  _warn_prf(average, modifier, f\"{metric.capitalize()} is\", len(result))\n",
      "/scratch/user/akash.pillai.0810/.my_env/lib/python3.10/site-packages/sklearn/metrics/_classification.py:1565: UndefinedMetricWarning: Recall is ill-defined and being set to 0.0 due to no true samples. Use `zero_division` parameter to control this behavior.\n",
      "  _warn_prf(average, modifier, f\"{metric.capitalize()} is\", len(result))\n"
     ]
    },
    {
     "name": "stdout",
     "output_type": "stream",
     "text": [
      "Epoch 15: Train Loss=3.4076, Val Loss=2.5326\n",
      "Mean F1 Score: 0.7486, Mean Accuracy: 0.9489, Mean Precision: 0.8011, Mean Recall: 0.7455\n",
      "New best model saved for fold 2 with F1=0.7486\n"
     ]
    },
    {
     "name": "stderr",
     "output_type": "stream",
     "text": [
      "Epoch 16 Training:   0%|          | 0/4 [00:00<?, ?it/s]/tmp/job.14646635/ipykernel_391663/1724129108.py:79: FutureWarning: Series.__getitem__ treating keys as positions is deprecated. In a future version, integer keys will always be treated as labels (consistent with DataFrame behavior). To access a value by position, use `ser.iloc[pos]`\n",
      "  'labels': torch.tensor(label, dtype=torch.float32)\n",
      "Epoch 16 Training: 100%|██████████| 4/4 [00:05<00:00,  1.45s/it, loss=2.56]\n",
      "Epoch 16 Validation: 100%|██████████| 1/1 [00:00<00:00,  2.70it/s, loss=2.48]\n",
      "/scratch/user/akash.pillai.0810/.my_env/lib/python3.10/site-packages/sklearn/metrics/_classification.py:1565: UndefinedMetricWarning: F-score is ill-defined and being set to 0.0 due to no true nor predicted samples. Use `zero_division` parameter to control this behavior.\n",
      "  _warn_prf(average, modifier, f\"{metric.capitalize()} is\", len(result))\n",
      "/scratch/user/akash.pillai.0810/.my_env/lib/python3.10/site-packages/sklearn/metrics/_classification.py:1565: UndefinedMetricWarning: Recall is ill-defined and being set to 0.0 due to no true samples. Use `zero_division` parameter to control this behavior.\n",
      "  _warn_prf(average, modifier, f\"{metric.capitalize()} is\", len(result))\n"
     ]
    },
    {
     "name": "stdout",
     "output_type": "stream",
     "text": [
      "Epoch 16: Train Loss=3.3791, Val Loss=2.4834\n",
      "Mean F1 Score: 0.7486, Mean Accuracy: 0.9489, Mean Precision: 0.8011, Mean Recall: 0.7455\n"
     ]
    },
    {
     "name": "stderr",
     "output_type": "stream",
     "text": [
      "Epoch 17 Training:   0%|          | 0/4 [00:00<?, ?it/s]/tmp/job.14646635/ipykernel_391663/1724129108.py:79: FutureWarning: Series.__getitem__ treating keys as positions is deprecated. In a future version, integer keys will always be treated as labels (consistent with DataFrame behavior). To access a value by position, use `ser.iloc[pos]`\n",
      "  'labels': torch.tensor(label, dtype=torch.float32)\n",
      "Epoch 17 Training: 100%|██████████| 4/4 [00:05<00:00,  1.45s/it, loss=2.65]\n",
      "Epoch 17 Validation: 100%|██████████| 1/1 [00:00<00:00,  2.70it/s, loss=2.39]\n",
      "/scratch/user/akash.pillai.0810/.my_env/lib/python3.10/site-packages/sklearn/metrics/_classification.py:1565: UndefinedMetricWarning: F-score is ill-defined and being set to 0.0 due to no true nor predicted samples. Use `zero_division` parameter to control this behavior.\n",
      "  _warn_prf(average, modifier, f\"{metric.capitalize()} is\", len(result))\n",
      "/scratch/user/akash.pillai.0810/.my_env/lib/python3.10/site-packages/sklearn/metrics/_classification.py:1565: UndefinedMetricWarning: Recall is ill-defined and being set to 0.0 due to no true samples. Use `zero_division` parameter to control this behavior.\n",
      "  _warn_prf(average, modifier, f\"{metric.capitalize()} is\", len(result))\n"
     ]
    },
    {
     "name": "stdout",
     "output_type": "stream",
     "text": [
      "Epoch 17: Train Loss=3.2629, Val Loss=2.3923\n",
      "Mean F1 Score: 0.7486, Mean Accuracy: 0.9489, Mean Precision: 0.8011, Mean Recall: 0.7455\n"
     ]
    },
    {
     "name": "stderr",
     "output_type": "stream",
     "text": [
      "Epoch 18 Training:   0%|          | 0/4 [00:00<?, ?it/s]/tmp/job.14646635/ipykernel_391663/1724129108.py:79: FutureWarning: Series.__getitem__ treating keys as positions is deprecated. In a future version, integer keys will always be treated as labels (consistent with DataFrame behavior). To access a value by position, use `ser.iloc[pos]`\n",
      "  'labels': torch.tensor(label, dtype=torch.float32)\n",
      "Epoch 18 Training: 100%|██████████| 4/4 [00:05<00:00,  1.45s/it, loss=3.44]\n",
      "Epoch 18 Validation: 100%|██████████| 1/1 [00:00<00:00,  2.70it/s, loss=2.36]\n",
      "/scratch/user/akash.pillai.0810/.my_env/lib/python3.10/site-packages/sklearn/metrics/_classification.py:1565: UndefinedMetricWarning: F-score is ill-defined and being set to 0.0 due to no true nor predicted samples. Use `zero_division` parameter to control this behavior.\n",
      "  _warn_prf(average, modifier, f\"{metric.capitalize()} is\", len(result))\n",
      "/scratch/user/akash.pillai.0810/.my_env/lib/python3.10/site-packages/sklearn/metrics/_classification.py:1565: UndefinedMetricWarning: Recall is ill-defined and being set to 0.0 due to no true samples. Use `zero_division` parameter to control this behavior.\n",
      "  _warn_prf(average, modifier, f\"{metric.capitalize()} is\", len(result))\n"
     ]
    },
    {
     "name": "stdout",
     "output_type": "stream",
     "text": [
      "Epoch 18: Train Loss=3.2240, Val Loss=2.3566\n",
      "Mean F1 Score: 0.7486, Mean Accuracy: 0.9489, Mean Precision: 0.8011, Mean Recall: 0.7455\n"
     ]
    },
    {
     "name": "stderr",
     "output_type": "stream",
     "text": [
      "Epoch 19 Training:   0%|          | 0/4 [00:00<?, ?it/s]/tmp/job.14646635/ipykernel_391663/1724129108.py:79: FutureWarning: Series.__getitem__ treating keys as positions is deprecated. In a future version, integer keys will always be treated as labels (consistent with DataFrame behavior). To access a value by position, use `ser.iloc[pos]`\n",
      "  'labels': torch.tensor(label, dtype=torch.float32)\n",
      "Epoch 19 Training: 100%|██████████| 4/4 [00:05<00:00,  1.45s/it, loss=2.87]\n",
      "Epoch 19 Validation: 100%|██████████| 1/1 [00:00<00:00,  2.70it/s, loss=2.27]\n",
      "/scratch/user/akash.pillai.0810/.my_env/lib/python3.10/site-packages/sklearn/metrics/_classification.py:1565: UndefinedMetricWarning: F-score is ill-defined and being set to 0.0 due to no true nor predicted samples. Use `zero_division` parameter to control this behavior.\n",
      "  _warn_prf(average, modifier, f\"{metric.capitalize()} is\", len(result))\n",
      "/scratch/user/akash.pillai.0810/.my_env/lib/python3.10/site-packages/sklearn/metrics/_classification.py:1565: UndefinedMetricWarning: Recall is ill-defined and being set to 0.0 due to no true samples. Use `zero_division` parameter to control this behavior.\n",
      "  _warn_prf(average, modifier, f\"{metric.capitalize()} is\", len(result))\n"
     ]
    },
    {
     "name": "stdout",
     "output_type": "stream",
     "text": [
      "Epoch 19: Train Loss=3.1565, Val Loss=2.2708\n",
      "Mean F1 Score: 0.7486, Mean Accuracy: 0.9489, Mean Precision: 0.8011, Mean Recall: 0.7455\n"
     ]
    },
    {
     "name": "stderr",
     "output_type": "stream",
     "text": [
      "Epoch 20 Training:   0%|          | 0/4 [00:00<?, ?it/s]/tmp/job.14646635/ipykernel_391663/1724129108.py:79: FutureWarning: Series.__getitem__ treating keys as positions is deprecated. In a future version, integer keys will always be treated as labels (consistent with DataFrame behavior). To access a value by position, use `ser.iloc[pos]`\n",
      "  'labels': torch.tensor(label, dtype=torch.float32)\n",
      "Epoch 20 Training: 100%|██████████| 4/4 [00:05<00:00,  1.45s/it, loss=2.03]\n",
      "Epoch 20 Validation: 100%|██████████| 1/1 [00:00<00:00,  2.71it/s, loss=2.25]\n",
      "/scratch/user/akash.pillai.0810/.my_env/lib/python3.10/site-packages/sklearn/metrics/_classification.py:1565: UndefinedMetricWarning: F-score is ill-defined and being set to 0.0 due to no true nor predicted samples. Use `zero_division` parameter to control this behavior.\n",
      "  _warn_prf(average, modifier, f\"{metric.capitalize()} is\", len(result))\n",
      "/scratch/user/akash.pillai.0810/.my_env/lib/python3.10/site-packages/sklearn/metrics/_classification.py:1565: UndefinedMetricWarning: Recall is ill-defined and being set to 0.0 due to no true samples. Use `zero_division` parameter to control this behavior.\n",
      "  _warn_prf(average, modifier, f\"{metric.capitalize()} is\", len(result))\n"
     ]
    },
    {
     "name": "stdout",
     "output_type": "stream",
     "text": [
      "Epoch 20: Train Loss=3.1093, Val Loss=2.2492\n",
      "Mean F1 Score: 0.7486, Mean Accuracy: 0.9489, Mean Precision: 0.8011, Mean Recall: 0.7455\n"
     ]
    },
    {
     "name": "stderr",
     "output_type": "stream",
     "text": [
      "Epoch 21 Training:   0%|          | 0/4 [00:00<?, ?it/s]/tmp/job.14646635/ipykernel_391663/1724129108.py:79: FutureWarning: Series.__getitem__ treating keys as positions is deprecated. In a future version, integer keys will always be treated as labels (consistent with DataFrame behavior). To access a value by position, use `ser.iloc[pos]`\n",
      "  'labels': torch.tensor(label, dtype=torch.float32)\n",
      "Epoch 21 Training: 100%|██████████| 4/4 [00:05<00:00,  1.45s/it, loss=2.24]\n",
      "Epoch 21 Validation: 100%|██████████| 1/1 [00:00<00:00,  2.70it/s, loss=2.18]\n",
      "/scratch/user/akash.pillai.0810/.my_env/lib/python3.10/site-packages/sklearn/metrics/_classification.py:1565: UndefinedMetricWarning: F-score is ill-defined and being set to 0.0 due to no true nor predicted samples. Use `zero_division` parameter to control this behavior.\n",
      "  _warn_prf(average, modifier, f\"{metric.capitalize()} is\", len(result))\n",
      "/scratch/user/akash.pillai.0810/.my_env/lib/python3.10/site-packages/sklearn/metrics/_classification.py:1565: UndefinedMetricWarning: Recall is ill-defined and being set to 0.0 due to no true samples. Use `zero_division` parameter to control this behavior.\n",
      "  _warn_prf(average, modifier, f\"{metric.capitalize()} is\", len(result))\n"
     ]
    },
    {
     "name": "stdout",
     "output_type": "stream",
     "text": [
      "Epoch 21: Train Loss=3.0708, Val Loss=2.1805\n",
      "Mean F1 Score: 0.7486, Mean Accuracy: 0.9489, Mean Precision: 0.8011, Mean Recall: 0.7455\n"
     ]
    },
    {
     "name": "stderr",
     "output_type": "stream",
     "text": [
      "Epoch 22 Training:   0%|          | 0/4 [00:00<?, ?it/s]/tmp/job.14646635/ipykernel_391663/1724129108.py:79: FutureWarning: Series.__getitem__ treating keys as positions is deprecated. In a future version, integer keys will always be treated as labels (consistent with DataFrame behavior). To access a value by position, use `ser.iloc[pos]`\n",
      "  'labels': torch.tensor(label, dtype=torch.float32)\n",
      "Epoch 22 Training: 100%|██████████| 4/4 [00:05<00:00,  1.45s/it, loss=3.11]\n",
      "Epoch 22 Validation: 100%|██████████| 1/1 [00:00<00:00,  2.71it/s, loss=2.12]\n",
      "/scratch/user/akash.pillai.0810/.my_env/lib/python3.10/site-packages/sklearn/metrics/_classification.py:1565: UndefinedMetricWarning: F-score is ill-defined and being set to 0.0 due to no true nor predicted samples. Use `zero_division` parameter to control this behavior.\n",
      "  _warn_prf(average, modifier, f\"{metric.capitalize()} is\", len(result))\n",
      "/scratch/user/akash.pillai.0810/.my_env/lib/python3.10/site-packages/sklearn/metrics/_classification.py:1565: UndefinedMetricWarning: Recall is ill-defined and being set to 0.0 due to no true samples. Use `zero_division` parameter to control this behavior.\n",
      "  _warn_prf(average, modifier, f\"{metric.capitalize()} is\", len(result))\n"
     ]
    },
    {
     "name": "stdout",
     "output_type": "stream",
     "text": [
      "Epoch 22: Train Loss=3.0647, Val Loss=2.1224\n",
      "Mean F1 Score: 0.7486, Mean Accuracy: 0.9489, Mean Precision: 0.8011, Mean Recall: 0.7455\n"
     ]
    },
    {
     "name": "stderr",
     "output_type": "stream",
     "text": [
      "Epoch 23 Training:   0%|          | 0/4 [00:00<?, ?it/s]/tmp/job.14646635/ipykernel_391663/1724129108.py:79: FutureWarning: Series.__getitem__ treating keys as positions is deprecated. In a future version, integer keys will always be treated as labels (consistent with DataFrame behavior). To access a value by position, use `ser.iloc[pos]`\n",
      "  'labels': torch.tensor(label, dtype=torch.float32)\n",
      "Epoch 23 Training: 100%|██████████| 4/4 [00:05<00:00,  1.45s/it, loss=3.47]\n",
      "Epoch 23 Validation: 100%|██████████| 1/1 [00:00<00:00,  2.70it/s, loss=2.12]\n",
      "/scratch/user/akash.pillai.0810/.my_env/lib/python3.10/site-packages/sklearn/metrics/_classification.py:1565: UndefinedMetricWarning: F-score is ill-defined and being set to 0.0 due to no true nor predicted samples. Use `zero_division` parameter to control this behavior.\n",
      "  _warn_prf(average, modifier, f\"{metric.capitalize()} is\", len(result))\n",
      "/scratch/user/akash.pillai.0810/.my_env/lib/python3.10/site-packages/sklearn/metrics/_classification.py:1565: UndefinedMetricWarning: Recall is ill-defined and being set to 0.0 due to no true samples. Use `zero_division` parameter to control this behavior.\n",
      "  _warn_prf(average, modifier, f\"{metric.capitalize()} is\", len(result))\n"
     ]
    },
    {
     "name": "stdout",
     "output_type": "stream",
     "text": [
      "Epoch 23: Train Loss=3.0116, Val Loss=2.1165\n",
      "Mean F1 Score: 0.7486, Mean Accuracy: 0.9489, Mean Precision: 0.8011, Mean Recall: 0.7455\n"
     ]
    },
    {
     "name": "stderr",
     "output_type": "stream",
     "text": [
      "Epoch 24 Training:   0%|          | 0/4 [00:00<?, ?it/s]/tmp/job.14646635/ipykernel_391663/1724129108.py:79: FutureWarning: Series.__getitem__ treating keys as positions is deprecated. In a future version, integer keys will always be treated as labels (consistent with DataFrame behavior). To access a value by position, use `ser.iloc[pos]`\n",
      "  'labels': torch.tensor(label, dtype=torch.float32)\n",
      "Epoch 24 Training: 100%|██████████| 4/4 [00:05<00:00,  1.45s/it, loss=3]   \n",
      "Epoch 24 Validation: 100%|██████████| 1/1 [00:00<00:00,  2.70it/s, loss=2.06]\n",
      "/scratch/user/akash.pillai.0810/.my_env/lib/python3.10/site-packages/sklearn/metrics/_classification.py:1565: UndefinedMetricWarning: F-score is ill-defined and being set to 0.0 due to no true nor predicted samples. Use `zero_division` parameter to control this behavior.\n",
      "  _warn_prf(average, modifier, f\"{metric.capitalize()} is\", len(result))\n",
      "/scratch/user/akash.pillai.0810/.my_env/lib/python3.10/site-packages/sklearn/metrics/_classification.py:1565: UndefinedMetricWarning: Recall is ill-defined and being set to 0.0 due to no true samples. Use `zero_division` parameter to control this behavior.\n",
      "  _warn_prf(average, modifier, f\"{metric.capitalize()} is\", len(result))\n"
     ]
    },
    {
     "name": "stdout",
     "output_type": "stream",
     "text": [
      "Epoch 24: Train Loss=2.9534, Val Loss=2.0593\n",
      "Mean F1 Score: 0.7486, Mean Accuracy: 0.9489, Mean Precision: 0.8011, Mean Recall: 0.7455\n"
     ]
    },
    {
     "name": "stderr",
     "output_type": "stream",
     "text": [
      "Epoch 25 Training:   0%|          | 0/4 [00:00<?, ?it/s]/tmp/job.14646635/ipykernel_391663/1724129108.py:79: FutureWarning: Series.__getitem__ treating keys as positions is deprecated. In a future version, integer keys will always be treated as labels (consistent with DataFrame behavior). To access a value by position, use `ser.iloc[pos]`\n",
      "  'labels': torch.tensor(label, dtype=torch.float32)\n",
      "Epoch 25 Training: 100%|██████████| 4/4 [00:05<00:00,  1.45s/it, loss=2.77]\n",
      "Epoch 25 Validation: 100%|██████████| 1/1 [00:00<00:00,  2.71it/s, loss=2.05]\n",
      "/scratch/user/akash.pillai.0810/.my_env/lib/python3.10/site-packages/sklearn/metrics/_classification.py:1565: UndefinedMetricWarning: F-score is ill-defined and being set to 0.0 due to no true nor predicted samples. Use `zero_division` parameter to control this behavior.\n",
      "  _warn_prf(average, modifier, f\"{metric.capitalize()} is\", len(result))\n",
      "/scratch/user/akash.pillai.0810/.my_env/lib/python3.10/site-packages/sklearn/metrics/_classification.py:1565: UndefinedMetricWarning: Recall is ill-defined and being set to 0.0 due to no true samples. Use `zero_division` parameter to control this behavior.\n",
      "  _warn_prf(average, modifier, f\"{metric.capitalize()} is\", len(result))\n"
     ]
    },
    {
     "name": "stdout",
     "output_type": "stream",
     "text": [
      "Epoch 25: Train Loss=2.9488, Val Loss=2.0500\n",
      "Mean F1 Score: 0.7486, Mean Accuracy: 0.9489, Mean Precision: 0.8011, Mean Recall: 0.7455\n"
     ]
    },
    {
     "name": "stderr",
     "output_type": "stream",
     "text": [
      "Epoch 26 Training:   0%|          | 0/4 [00:00<?, ?it/s]/tmp/job.14646635/ipykernel_391663/1724129108.py:79: FutureWarning: Series.__getitem__ treating keys as positions is deprecated. In a future version, integer keys will always be treated as labels (consistent with DataFrame behavior). To access a value by position, use `ser.iloc[pos]`\n",
      "  'labels': torch.tensor(label, dtype=torch.float32)\n",
      "Epoch 26 Training: 100%|██████████| 4/4 [00:05<00:00,  1.45s/it, loss=3.68]\n",
      "Epoch 26 Validation: 100%|██████████| 1/1 [00:00<00:00,  2.71it/s, loss=2]\n",
      "/scratch/user/akash.pillai.0810/.my_env/lib/python3.10/site-packages/sklearn/metrics/_classification.py:1565: UndefinedMetricWarning: F-score is ill-defined and being set to 0.0 due to no true nor predicted samples. Use `zero_division` parameter to control this behavior.\n",
      "  _warn_prf(average, modifier, f\"{metric.capitalize()} is\", len(result))\n",
      "/scratch/user/akash.pillai.0810/.my_env/lib/python3.10/site-packages/sklearn/metrics/_classification.py:1565: UndefinedMetricWarning: Recall is ill-defined and being set to 0.0 due to no true samples. Use `zero_division` parameter to control this behavior.\n",
      "  _warn_prf(average, modifier, f\"{metric.capitalize()} is\", len(result))\n"
     ]
    },
    {
     "name": "stdout",
     "output_type": "stream",
     "text": [
      "Epoch 26: Train Loss=2.8752, Val Loss=1.9988\n",
      "Mean F1 Score: 0.7486, Mean Accuracy: 0.9489, Mean Precision: 0.8011, Mean Recall: 0.7455\n"
     ]
    },
    {
     "name": "stderr",
     "output_type": "stream",
     "text": [
      "Epoch 27 Training:   0%|          | 0/4 [00:00<?, ?it/s]/tmp/job.14646635/ipykernel_391663/1724129108.py:79: FutureWarning: Series.__getitem__ treating keys as positions is deprecated. In a future version, integer keys will always be treated as labels (consistent with DataFrame behavior). To access a value by position, use `ser.iloc[pos]`\n",
      "  'labels': torch.tensor(label, dtype=torch.float32)\n",
      "Epoch 27 Training: 100%|██████████| 4/4 [00:05<00:00,  1.45s/it, loss=2.89]\n",
      "Epoch 27 Validation: 100%|██████████| 1/1 [00:00<00:00,  2.71it/s, loss=2]\n",
      "/scratch/user/akash.pillai.0810/.my_env/lib/python3.10/site-packages/sklearn/metrics/_classification.py:1565: UndefinedMetricWarning: F-score is ill-defined and being set to 0.0 due to no true nor predicted samples. Use `zero_division` parameter to control this behavior.\n",
      "  _warn_prf(average, modifier, f\"{metric.capitalize()} is\", len(result))\n",
      "/scratch/user/akash.pillai.0810/.my_env/lib/python3.10/site-packages/sklearn/metrics/_classification.py:1565: UndefinedMetricWarning: Recall is ill-defined and being set to 0.0 due to no true samples. Use `zero_division` parameter to control this behavior.\n",
      "  _warn_prf(average, modifier, f\"{metric.capitalize()} is\", len(result))\n"
     ]
    },
    {
     "name": "stdout",
     "output_type": "stream",
     "text": [
      "Epoch 27: Train Loss=2.8454, Val Loss=2.0007\n",
      "Mean F1 Score: 0.7486, Mean Accuracy: 0.9489, Mean Precision: 0.8011, Mean Recall: 0.7455\n"
     ]
    },
    {
     "name": "stderr",
     "output_type": "stream",
     "text": [
      "Epoch 28 Training:   0%|          | 0/4 [00:00<?, ?it/s]/tmp/job.14646635/ipykernel_391663/1724129108.py:79: FutureWarning: Series.__getitem__ treating keys as positions is deprecated. In a future version, integer keys will always be treated as labels (consistent with DataFrame behavior). To access a value by position, use `ser.iloc[pos]`\n",
      "  'labels': torch.tensor(label, dtype=torch.float32)\n",
      "Epoch 28 Training: 100%|██████████| 4/4 [00:05<00:00,  1.45s/it, loss=2.25]\n",
      "Epoch 28 Validation: 100%|██████████| 1/1 [00:00<00:00,  2.70it/s, loss=1.94]\n",
      "/scratch/user/akash.pillai.0810/.my_env/lib/python3.10/site-packages/sklearn/metrics/_classification.py:1565: UndefinedMetricWarning: F-score is ill-defined and being set to 0.0 due to no true nor predicted samples. Use `zero_division` parameter to control this behavior.\n",
      "  _warn_prf(average, modifier, f\"{metric.capitalize()} is\", len(result))\n",
      "/scratch/user/akash.pillai.0810/.my_env/lib/python3.10/site-packages/sklearn/metrics/_classification.py:1565: UndefinedMetricWarning: Recall is ill-defined and being set to 0.0 due to no true samples. Use `zero_division` parameter to control this behavior.\n",
      "  _warn_prf(average, modifier, f\"{metric.capitalize()} is\", len(result))\n"
     ]
    },
    {
     "name": "stdout",
     "output_type": "stream",
     "text": [
      "Epoch 28: Train Loss=2.8223, Val Loss=1.9444\n",
      "Mean F1 Score: 0.7486, Mean Accuracy: 0.9489, Mean Precision: 0.8011, Mean Recall: 0.7455\n"
     ]
    },
    {
     "name": "stderr",
     "output_type": "stream",
     "text": [
      "Epoch 29 Training:   0%|          | 0/4 [00:00<?, ?it/s]/tmp/job.14646635/ipykernel_391663/1724129108.py:79: FutureWarning: Series.__getitem__ treating keys as positions is deprecated. In a future version, integer keys will always be treated as labels (consistent with DataFrame behavior). To access a value by position, use `ser.iloc[pos]`\n",
      "  'labels': torch.tensor(label, dtype=torch.float32)\n",
      "Epoch 29 Training: 100%|██████████| 4/4 [00:05<00:00,  1.45s/it, loss=3.76]\n",
      "Epoch 29 Validation: 100%|██████████| 1/1 [00:00<00:00,  2.70it/s, loss=1.94]\n",
      "/scratch/user/akash.pillai.0810/.my_env/lib/python3.10/site-packages/sklearn/metrics/_classification.py:1565: UndefinedMetricWarning: F-score is ill-defined and being set to 0.0 due to no true nor predicted samples. Use `zero_division` parameter to control this behavior.\n",
      "  _warn_prf(average, modifier, f\"{metric.capitalize()} is\", len(result))\n",
      "/scratch/user/akash.pillai.0810/.my_env/lib/python3.10/site-packages/sklearn/metrics/_classification.py:1565: UndefinedMetricWarning: Recall is ill-defined and being set to 0.0 due to no true samples. Use `zero_division` parameter to control this behavior.\n",
      "  _warn_prf(average, modifier, f\"{metric.capitalize()} is\", len(result))\n"
     ]
    },
    {
     "name": "stdout",
     "output_type": "stream",
     "text": [
      "Epoch 29: Train Loss=2.8175, Val Loss=1.9356\n",
      "Mean F1 Score: 0.7486, Mean Accuracy: 0.9489, Mean Precision: 0.8011, Mean Recall: 0.7455\n"
     ]
    },
    {
     "name": "stderr",
     "output_type": "stream",
     "text": [
      "Epoch 30 Training:   0%|          | 0/4 [00:00<?, ?it/s]/tmp/job.14646635/ipykernel_391663/1724129108.py:79: FutureWarning: Series.__getitem__ treating keys as positions is deprecated. In a future version, integer keys will always be treated as labels (consistent with DataFrame behavior). To access a value by position, use `ser.iloc[pos]`\n",
      "  'labels': torch.tensor(label, dtype=torch.float32)\n",
      "Epoch 30 Training: 100%|██████████| 4/4 [00:05<00:00,  1.45s/it, loss=2.78]\n",
      "Epoch 30 Validation: 100%|██████████| 1/1 [00:00<00:00,  2.70it/s, loss=1.89]\n",
      "/scratch/user/akash.pillai.0810/.my_env/lib/python3.10/site-packages/sklearn/metrics/_classification.py:1565: UndefinedMetricWarning: F-score is ill-defined and being set to 0.0 due to no true nor predicted samples. Use `zero_division` parameter to control this behavior.\n",
      "  _warn_prf(average, modifier, f\"{metric.capitalize()} is\", len(result))\n",
      "/scratch/user/akash.pillai.0810/.my_env/lib/python3.10/site-packages/sklearn/metrics/_classification.py:1565: UndefinedMetricWarning: Recall is ill-defined and being set to 0.0 due to no true samples. Use `zero_division` parameter to control this behavior.\n",
      "  _warn_prf(average, modifier, f\"{metric.capitalize()} is\", len(result))\n"
     ]
    },
    {
     "name": "stdout",
     "output_type": "stream",
     "text": [
      "Epoch 30: Train Loss=2.7441, Val Loss=1.8863\n",
      "Mean F1 Score: 0.7486, Mean Accuracy: 0.9489, Mean Precision: 0.8011, Mean Recall: 0.7455\n"
     ]
    },
    {
     "name": "stderr",
     "output_type": "stream",
     "text": [
      "Epoch 31 Training:   0%|          | 0/4 [00:00<?, ?it/s]/tmp/job.14646635/ipykernel_391663/1724129108.py:79: FutureWarning: Series.__getitem__ treating keys as positions is deprecated. In a future version, integer keys will always be treated as labels (consistent with DataFrame behavior). To access a value by position, use `ser.iloc[pos]`\n",
      "  'labels': torch.tensor(label, dtype=torch.float32)\n",
      "Epoch 31 Training: 100%|██████████| 4/4 [00:05<00:00,  1.45s/it, loss=3.98]\n",
      "Epoch 31 Validation: 100%|██████████| 1/1 [00:00<00:00,  2.70it/s, loss=1.89]\n",
      "/scratch/user/akash.pillai.0810/.my_env/lib/python3.10/site-packages/sklearn/metrics/_classification.py:1565: UndefinedMetricWarning: F-score is ill-defined and being set to 0.0 due to no true nor predicted samples. Use `zero_division` parameter to control this behavior.\n",
      "  _warn_prf(average, modifier, f\"{metric.capitalize()} is\", len(result))\n",
      "/scratch/user/akash.pillai.0810/.my_env/lib/python3.10/site-packages/sklearn/metrics/_classification.py:1565: UndefinedMetricWarning: Recall is ill-defined and being set to 0.0 due to no true samples. Use `zero_division` parameter to control this behavior.\n",
      "  _warn_prf(average, modifier, f\"{metric.capitalize()} is\", len(result))\n"
     ]
    },
    {
     "name": "stdout",
     "output_type": "stream",
     "text": [
      "Epoch 31: Train Loss=2.7401, Val Loss=1.8890\n",
      "Mean F1 Score: 0.7486, Mean Accuracy: 0.9489, Mean Precision: 0.8011, Mean Recall: 0.7455\n"
     ]
    },
    {
     "name": "stderr",
     "output_type": "stream",
     "text": [
      "Epoch 32 Training:   0%|          | 0/4 [00:00<?, ?it/s]/tmp/job.14646635/ipykernel_391663/1724129108.py:79: FutureWarning: Series.__getitem__ treating keys as positions is deprecated. In a future version, integer keys will always be treated as labels (consistent with DataFrame behavior). To access a value by position, use `ser.iloc[pos]`\n",
      "  'labels': torch.tensor(label, dtype=torch.float32)\n",
      "Epoch 32 Training: 100%|██████████| 4/4 [00:05<00:00,  1.45s/it, loss=3]   \n",
      "Epoch 32 Validation: 100%|██████████| 1/1 [00:00<00:00,  2.71it/s, loss=1.85]\n",
      "/scratch/user/akash.pillai.0810/.my_env/lib/python3.10/site-packages/sklearn/metrics/_classification.py:1565: UndefinedMetricWarning: F-score is ill-defined and being set to 0.0 due to no true nor predicted samples. Use `zero_division` parameter to control this behavior.\n",
      "  _warn_prf(average, modifier, f\"{metric.capitalize()} is\", len(result))\n",
      "/scratch/user/akash.pillai.0810/.my_env/lib/python3.10/site-packages/sklearn/metrics/_classification.py:1565: UndefinedMetricWarning: Recall is ill-defined and being set to 0.0 due to no true samples. Use `zero_division` parameter to control this behavior.\n",
      "  _warn_prf(average, modifier, f\"{metric.capitalize()} is\", len(result))\n"
     ]
    },
    {
     "name": "stdout",
     "output_type": "stream",
     "text": [
      "Epoch 32: Train Loss=2.7210, Val Loss=1.8544\n",
      "Mean F1 Score: 0.7486, Mean Accuracy: 0.9489, Mean Precision: 0.8011, Mean Recall: 0.7455\n"
     ]
    },
    {
     "name": "stderr",
     "output_type": "stream",
     "text": [
      "Epoch 33 Training:   0%|          | 0/4 [00:00<?, ?it/s]/tmp/job.14646635/ipykernel_391663/1724129108.py:79: FutureWarning: Series.__getitem__ treating keys as positions is deprecated. In a future version, integer keys will always be treated as labels (consistent with DataFrame behavior). To access a value by position, use `ser.iloc[pos]`\n",
      "  'labels': torch.tensor(label, dtype=torch.float32)\n",
      "Epoch 33 Training: 100%|██████████| 4/4 [00:05<00:00,  1.45s/it, loss=3.42]\n",
      "Epoch 33 Validation: 100%|██████████| 1/1 [00:00<00:00,  2.70it/s, loss=1.85]\n",
      "/scratch/user/akash.pillai.0810/.my_env/lib/python3.10/site-packages/sklearn/metrics/_classification.py:1565: UndefinedMetricWarning: F-score is ill-defined and being set to 0.0 due to no true nor predicted samples. Use `zero_division` parameter to control this behavior.\n",
      "  _warn_prf(average, modifier, f\"{metric.capitalize()} is\", len(result))\n",
      "/scratch/user/akash.pillai.0810/.my_env/lib/python3.10/site-packages/sklearn/metrics/_classification.py:1565: UndefinedMetricWarning: Recall is ill-defined and being set to 0.0 due to no true samples. Use `zero_division` parameter to control this behavior.\n",
      "  _warn_prf(average, modifier, f\"{metric.capitalize()} is\", len(result))\n"
     ]
    },
    {
     "name": "stdout",
     "output_type": "stream",
     "text": [
      "Epoch 33: Train Loss=2.7401, Val Loss=1.8478\n",
      "Mean F1 Score: 0.7486, Mean Accuracy: 0.9489, Mean Precision: 0.8011, Mean Recall: 0.7455\n"
     ]
    },
    {
     "name": "stderr",
     "output_type": "stream",
     "text": [
      "Epoch 34 Training:   0%|          | 0/4 [00:00<?, ?it/s]/tmp/job.14646635/ipykernel_391663/1724129108.py:79: FutureWarning: Series.__getitem__ treating keys as positions is deprecated. In a future version, integer keys will always be treated as labels (consistent with DataFrame behavior). To access a value by position, use `ser.iloc[pos]`\n",
      "  'labels': torch.tensor(label, dtype=torch.float32)\n",
      "Epoch 34 Training: 100%|██████████| 4/4 [00:05<00:00,  1.45s/it, loss=1.99]\n",
      "Epoch 34 Validation: 100%|██████████| 1/1 [00:00<00:00,  2.71it/s, loss=1.81]\n",
      "/scratch/user/akash.pillai.0810/.my_env/lib/python3.10/site-packages/sklearn/metrics/_classification.py:1565: UndefinedMetricWarning: F-score is ill-defined and being set to 0.0 due to no true nor predicted samples. Use `zero_division` parameter to control this behavior.\n",
      "  _warn_prf(average, modifier, f\"{metric.capitalize()} is\", len(result))\n",
      "/scratch/user/akash.pillai.0810/.my_env/lib/python3.10/site-packages/sklearn/metrics/_classification.py:1565: UndefinedMetricWarning: Recall is ill-defined and being set to 0.0 due to no true samples. Use `zero_division` parameter to control this behavior.\n",
      "  _warn_prf(average, modifier, f\"{metric.capitalize()} is\", len(result))\n"
     ]
    },
    {
     "name": "stdout",
     "output_type": "stream",
     "text": [
      "Epoch 34: Train Loss=2.7122, Val Loss=1.8056\n",
      "Mean F1 Score: 0.7486, Mean Accuracy: 0.9489, Mean Precision: 0.8011, Mean Recall: 0.7455\n"
     ]
    },
    {
     "name": "stderr",
     "output_type": "stream",
     "text": [
      "Epoch 35 Training:   0%|          | 0/4 [00:00<?, ?it/s]/tmp/job.14646635/ipykernel_391663/1724129108.py:79: FutureWarning: Series.__getitem__ treating keys as positions is deprecated. In a future version, integer keys will always be treated as labels (consistent with DataFrame behavior). To access a value by position, use `ser.iloc[pos]`\n",
      "  'labels': torch.tensor(label, dtype=torch.float32)\n",
      "Epoch 35 Training: 100%|██████████| 4/4 [00:05<00:00,  1.45s/it, loss=3.86]\n",
      "Epoch 35 Validation: 100%|██████████| 1/1 [00:00<00:00,  2.71it/s, loss=1.83]\n",
      "/scratch/user/akash.pillai.0810/.my_env/lib/python3.10/site-packages/sklearn/metrics/_classification.py:1565: UndefinedMetricWarning: F-score is ill-defined and being set to 0.0 due to no true nor predicted samples. Use `zero_division` parameter to control this behavior.\n",
      "  _warn_prf(average, modifier, f\"{metric.capitalize()} is\", len(result))\n",
      "/scratch/user/akash.pillai.0810/.my_env/lib/python3.10/site-packages/sklearn/metrics/_classification.py:1565: UndefinedMetricWarning: Recall is ill-defined and being set to 0.0 due to no true samples. Use `zero_division` parameter to control this behavior.\n",
      "  _warn_prf(average, modifier, f\"{metric.capitalize()} is\", len(result))\n"
     ]
    },
    {
     "name": "stdout",
     "output_type": "stream",
     "text": [
      "Epoch 35: Train Loss=2.6495, Val Loss=1.8260\n",
      "Mean F1 Score: 0.7486, Mean Accuracy: 0.9489, Mean Precision: 0.8011, Mean Recall: 0.7455\n"
     ]
    },
    {
     "name": "stderr",
     "output_type": "stream",
     "text": [
      "Epoch 36 Training:   0%|          | 0/4 [00:00<?, ?it/s]/tmp/job.14646635/ipykernel_391663/1724129108.py:79: FutureWarning: Series.__getitem__ treating keys as positions is deprecated. In a future version, integer keys will always be treated as labels (consistent with DataFrame behavior). To access a value by position, use `ser.iloc[pos]`\n",
      "  'labels': torch.tensor(label, dtype=torch.float32)\n",
      "Epoch 36 Training: 100%|██████████| 4/4 [00:05<00:00,  1.45s/it, loss=2.01]\n",
      "Epoch 36 Validation: 100%|██████████| 1/1 [00:00<00:00,  2.71it/s, loss=1.79]\n",
      "/scratch/user/akash.pillai.0810/.my_env/lib/python3.10/site-packages/sklearn/metrics/_classification.py:1565: UndefinedMetricWarning: F-score is ill-defined and being set to 0.0 due to no true nor predicted samples. Use `zero_division` parameter to control this behavior.\n",
      "  _warn_prf(average, modifier, f\"{metric.capitalize()} is\", len(result))\n",
      "/scratch/user/akash.pillai.0810/.my_env/lib/python3.10/site-packages/sklearn/metrics/_classification.py:1565: UndefinedMetricWarning: Recall is ill-defined and being set to 0.0 due to no true samples. Use `zero_division` parameter to control this behavior.\n",
      "  _warn_prf(average, modifier, f\"{metric.capitalize()} is\", len(result))\n"
     ]
    },
    {
     "name": "stdout",
     "output_type": "stream",
     "text": [
      "Epoch 36: Train Loss=2.6405, Val Loss=1.7950\n",
      "Mean F1 Score: 0.7486, Mean Accuracy: 0.9489, Mean Precision: 0.8011, Mean Recall: 0.7455\n"
     ]
    },
    {
     "name": "stderr",
     "output_type": "stream",
     "text": [
      "Epoch 37 Training:   0%|          | 0/4 [00:00<?, ?it/s]/tmp/job.14646635/ipykernel_391663/1724129108.py:79: FutureWarning: Series.__getitem__ treating keys as positions is deprecated. In a future version, integer keys will always be treated as labels (consistent with DataFrame behavior). To access a value by position, use `ser.iloc[pos]`\n",
      "  'labels': torch.tensor(label, dtype=torch.float32)\n",
      "Epoch 37 Training: 100%|██████████| 4/4 [00:05<00:00,  1.45s/it, loss=2.55]\n",
      "Epoch 37 Validation: 100%|██████████| 1/1 [00:00<00:00,  2.70it/s, loss=1.79]\n",
      "/scratch/user/akash.pillai.0810/.my_env/lib/python3.10/site-packages/sklearn/metrics/_classification.py:1565: UndefinedMetricWarning: F-score is ill-defined and being set to 0.0 due to no true nor predicted samples. Use `zero_division` parameter to control this behavior.\n",
      "  _warn_prf(average, modifier, f\"{metric.capitalize()} is\", len(result))\n",
      "/scratch/user/akash.pillai.0810/.my_env/lib/python3.10/site-packages/sklearn/metrics/_classification.py:1565: UndefinedMetricWarning: Recall is ill-defined and being set to 0.0 due to no true samples. Use `zero_division` parameter to control this behavior.\n",
      "  _warn_prf(average, modifier, f\"{metric.capitalize()} is\", len(result))\n"
     ]
    },
    {
     "name": "stdout",
     "output_type": "stream",
     "text": [
      "Epoch 37: Train Loss=2.6710, Val Loss=1.7866\n",
      "Mean F1 Score: 0.7486, Mean Accuracy: 0.9489, Mean Precision: 0.8011, Mean Recall: 0.7455\n"
     ]
    },
    {
     "name": "stderr",
     "output_type": "stream",
     "text": [
      "Epoch 38 Training:   0%|          | 0/4 [00:00<?, ?it/s]/tmp/job.14646635/ipykernel_391663/1724129108.py:79: FutureWarning: Series.__getitem__ treating keys as positions is deprecated. In a future version, integer keys will always be treated as labels (consistent with DataFrame behavior). To access a value by position, use `ser.iloc[pos]`\n",
      "  'labels': torch.tensor(label, dtype=torch.float32)\n",
      "Epoch 38 Training: 100%|██████████| 4/4 [00:05<00:00,  1.45s/it, loss=2.5] \n",
      "Epoch 38 Validation: 100%|██████████| 1/1 [00:00<00:00,  2.70it/s, loss=1.84]\n",
      "/scratch/user/akash.pillai.0810/.my_env/lib/python3.10/site-packages/sklearn/metrics/_classification.py:1565: UndefinedMetricWarning: F-score is ill-defined and being set to 0.0 due to no true nor predicted samples. Use `zero_division` parameter to control this behavior.\n",
      "  _warn_prf(average, modifier, f\"{metric.capitalize()} is\", len(result))\n",
      "/scratch/user/akash.pillai.0810/.my_env/lib/python3.10/site-packages/sklearn/metrics/_classification.py:1565: UndefinedMetricWarning: Recall is ill-defined and being set to 0.0 due to no true samples. Use `zero_division` parameter to control this behavior.\n",
      "  _warn_prf(average, modifier, f\"{metric.capitalize()} is\", len(result))\n"
     ]
    },
    {
     "name": "stdout",
     "output_type": "stream",
     "text": [
      "Epoch 38: Train Loss=2.6094, Val Loss=1.8359\n",
      "Mean F1 Score: 0.7486, Mean Accuracy: 0.9489, Mean Precision: 0.8011, Mean Recall: 0.7455\n"
     ]
    },
    {
     "name": "stderr",
     "output_type": "stream",
     "text": [
      "Epoch 39 Training:   0%|          | 0/4 [00:00<?, ?it/s]/tmp/job.14646635/ipykernel_391663/1724129108.py:79: FutureWarning: Series.__getitem__ treating keys as positions is deprecated. In a future version, integer keys will always be treated as labels (consistent with DataFrame behavior). To access a value by position, use `ser.iloc[pos]`\n",
      "  'labels': torch.tensor(label, dtype=torch.float32)\n",
      "Epoch 39 Training: 100%|██████████| 4/4 [00:05<00:00,  1.45s/it, loss=2.98]\n",
      "Epoch 39 Validation: 100%|██████████| 1/1 [00:00<00:00,  2.69it/s, loss=1.74]\n",
      "/scratch/user/akash.pillai.0810/.my_env/lib/python3.10/site-packages/sklearn/metrics/_classification.py:1565: UndefinedMetricWarning: F-score is ill-defined and being set to 0.0 due to no true nor predicted samples. Use `zero_division` parameter to control this behavior.\n",
      "  _warn_prf(average, modifier, f\"{metric.capitalize()} is\", len(result))\n",
      "/scratch/user/akash.pillai.0810/.my_env/lib/python3.10/site-packages/sklearn/metrics/_classification.py:1565: UndefinedMetricWarning: Recall is ill-defined and being set to 0.0 due to no true samples. Use `zero_division` parameter to control this behavior.\n",
      "  _warn_prf(average, modifier, f\"{metric.capitalize()} is\", len(result))\n"
     ]
    },
    {
     "name": "stdout",
     "output_type": "stream",
     "text": [
      "Epoch 39: Train Loss=2.5784, Val Loss=1.7392\n",
      "Mean F1 Score: 0.7702, Mean Accuracy: 0.9545, Mean Precision: 0.8011, Mean Recall: 0.7636\n",
      "New best model saved for fold 2 with F1=0.7702\n"
     ]
    },
    {
     "name": "stderr",
     "output_type": "stream",
     "text": [
      "Epoch 40 Training:   0%|          | 0/4 [00:00<?, ?it/s]/tmp/job.14646635/ipykernel_391663/1724129108.py:79: FutureWarning: Series.__getitem__ treating keys as positions is deprecated. In a future version, integer keys will always be treated as labels (consistent with DataFrame behavior). To access a value by position, use `ser.iloc[pos]`\n",
      "  'labels': torch.tensor(label, dtype=torch.float32)\n",
      "Epoch 40 Training: 100%|██████████| 4/4 [00:05<00:00,  1.45s/it, loss=2.66]\n",
      "Epoch 40 Validation: 100%|██████████| 1/1 [00:00<00:00,  2.71it/s, loss=1.81]\n",
      "/scratch/user/akash.pillai.0810/.my_env/lib/python3.10/site-packages/sklearn/metrics/_classification.py:1565: UndefinedMetricWarning: F-score is ill-defined and being set to 0.0 due to no true nor predicted samples. Use `zero_division` parameter to control this behavior.\n",
      "  _warn_prf(average, modifier, f\"{metric.capitalize()} is\", len(result))\n",
      "/scratch/user/akash.pillai.0810/.my_env/lib/python3.10/site-packages/sklearn/metrics/_classification.py:1565: UndefinedMetricWarning: Recall is ill-defined and being set to 0.0 due to no true samples. Use `zero_division` parameter to control this behavior.\n",
      "  _warn_prf(average, modifier, f\"{metric.capitalize()} is\", len(result))\n"
     ]
    },
    {
     "name": "stdout",
     "output_type": "stream",
     "text": [
      "Epoch 40: Train Loss=2.6226, Val Loss=1.8144\n",
      "Mean F1 Score: 0.7486, Mean Accuracy: 0.9489, Mean Precision: 0.8011, Mean Recall: 0.7455\n"
     ]
    },
    {
     "name": "stderr",
     "output_type": "stream",
     "text": [
      "Epoch 41 Training:   0%|          | 0/4 [00:00<?, ?it/s]/tmp/job.14646635/ipykernel_391663/1724129108.py:79: FutureWarning: Series.__getitem__ treating keys as positions is deprecated. In a future version, integer keys will always be treated as labels (consistent with DataFrame behavior). To access a value by position, use `ser.iloc[pos]`\n",
      "  'labels': torch.tensor(label, dtype=torch.float32)\n",
      "Epoch 41 Training: 100%|██████████| 4/4 [00:05<00:00,  1.45s/it, loss=2.37]\n",
      "Epoch 41 Validation: 100%|██████████| 1/1 [00:00<00:00,  2.71it/s, loss=1.73]\n",
      "/scratch/user/akash.pillai.0810/.my_env/lib/python3.10/site-packages/sklearn/metrics/_classification.py:1565: UndefinedMetricWarning: F-score is ill-defined and being set to 0.0 due to no true nor predicted samples. Use `zero_division` parameter to control this behavior.\n",
      "  _warn_prf(average, modifier, f\"{metric.capitalize()} is\", len(result))\n",
      "/scratch/user/akash.pillai.0810/.my_env/lib/python3.10/site-packages/sklearn/metrics/_classification.py:1565: UndefinedMetricWarning: Recall is ill-defined and being set to 0.0 due to no true samples. Use `zero_division` parameter to control this behavior.\n",
      "  _warn_prf(average, modifier, f\"{metric.capitalize()} is\", len(result))\n"
     ]
    },
    {
     "name": "stdout",
     "output_type": "stream",
     "text": [
      "Epoch 41: Train Loss=2.5967, Val Loss=1.7270\n",
      "Mean F1 Score: 0.7702, Mean Accuracy: 0.9545, Mean Precision: 0.8011, Mean Recall: 0.7636\n"
     ]
    },
    {
     "name": "stderr",
     "output_type": "stream",
     "text": [
      "Epoch 42 Training:   0%|          | 0/4 [00:00<?, ?it/s]/tmp/job.14646635/ipykernel_391663/1724129108.py:79: FutureWarning: Series.__getitem__ treating keys as positions is deprecated. In a future version, integer keys will always be treated as labels (consistent with DataFrame behavior). To access a value by position, use `ser.iloc[pos]`\n",
      "  'labels': torch.tensor(label, dtype=torch.float32)\n",
      "Epoch 42 Training: 100%|██████████| 4/4 [00:05<00:00,  1.45s/it, loss=2]   \n",
      "Epoch 42 Validation: 100%|██████████| 1/1 [00:00<00:00,  2.70it/s, loss=1.83]\n",
      "/scratch/user/akash.pillai.0810/.my_env/lib/python3.10/site-packages/sklearn/metrics/_classification.py:1565: UndefinedMetricWarning: F-score is ill-defined and being set to 0.0 due to no true nor predicted samples. Use `zero_division` parameter to control this behavior.\n",
      "  _warn_prf(average, modifier, f\"{metric.capitalize()} is\", len(result))\n",
      "/scratch/user/akash.pillai.0810/.my_env/lib/python3.10/site-packages/sklearn/metrics/_classification.py:1565: UndefinedMetricWarning: Recall is ill-defined and being set to 0.0 due to no true samples. Use `zero_division` parameter to control this behavior.\n",
      "  _warn_prf(average, modifier, f\"{metric.capitalize()} is\", len(result))\n"
     ]
    },
    {
     "name": "stdout",
     "output_type": "stream",
     "text": [
      "Epoch 42: Train Loss=2.5968, Val Loss=1.8299\n",
      "Mean F1 Score: 0.7486, Mean Accuracy: 0.9489, Mean Precision: 0.8011, Mean Recall: 0.7455\n"
     ]
    },
    {
     "name": "stderr",
     "output_type": "stream",
     "text": [
      "Epoch 43 Training:   0%|          | 0/4 [00:00<?, ?it/s]/tmp/job.14646635/ipykernel_391663/1724129108.py:79: FutureWarning: Series.__getitem__ treating keys as positions is deprecated. In a future version, integer keys will always be treated as labels (consistent with DataFrame behavior). To access a value by position, use `ser.iloc[pos]`\n",
      "  'labels': torch.tensor(label, dtype=torch.float32)\n",
      "Epoch 43 Training: 100%|██████████| 4/4 [00:05<00:00,  1.45s/it, loss=3.01]\n",
      "Epoch 43 Validation: 100%|██████████| 1/1 [00:00<00:00,  2.71it/s, loss=1.72]\n",
      "/scratch/user/akash.pillai.0810/.my_env/lib/python3.10/site-packages/sklearn/metrics/_classification.py:1565: UndefinedMetricWarning: F-score is ill-defined and being set to 0.0 due to no true nor predicted samples. Use `zero_division` parameter to control this behavior.\n",
      "  _warn_prf(average, modifier, f\"{metric.capitalize()} is\", len(result))\n",
      "/scratch/user/akash.pillai.0810/.my_env/lib/python3.10/site-packages/sklearn/metrics/_classification.py:1565: UndefinedMetricWarning: Recall is ill-defined and being set to 0.0 due to no true samples. Use `zero_division` parameter to control this behavior.\n",
      "  _warn_prf(average, modifier, f\"{metric.capitalize()} is\", len(result))\n"
     ]
    },
    {
     "name": "stdout",
     "output_type": "stream",
     "text": [
      "Epoch 43: Train Loss=2.5343, Val Loss=1.7184\n",
      "Mean F1 Score: 0.7486, Mean Accuracy: 0.9489, Mean Precision: 0.8011, Mean Recall: 0.7455\n"
     ]
    },
    {
     "name": "stderr",
     "output_type": "stream",
     "text": [
      "Epoch 44 Training:   0%|          | 0/4 [00:00<?, ?it/s]/tmp/job.14646635/ipykernel_391663/1724129108.py:79: FutureWarning: Series.__getitem__ treating keys as positions is deprecated. In a future version, integer keys will always be treated as labels (consistent with DataFrame behavior). To access a value by position, use `ser.iloc[pos]`\n",
      "  'labels': torch.tensor(label, dtype=torch.float32)\n",
      "Epoch 44 Training: 100%|██████████| 4/4 [00:05<00:00,  1.45s/it, loss=3.22]\n",
      "Epoch 44 Validation: 100%|██████████| 1/1 [00:00<00:00,  2.70it/s, loss=1.78]\n",
      "/scratch/user/akash.pillai.0810/.my_env/lib/python3.10/site-packages/sklearn/metrics/_classification.py:1565: UndefinedMetricWarning: F-score is ill-defined and being set to 0.0 due to no true nor predicted samples. Use `zero_division` parameter to control this behavior.\n",
      "  _warn_prf(average, modifier, f\"{metric.capitalize()} is\", len(result))\n",
      "/scratch/user/akash.pillai.0810/.my_env/lib/python3.10/site-packages/sklearn/metrics/_classification.py:1565: UndefinedMetricWarning: Recall is ill-defined and being set to 0.0 due to no true samples. Use `zero_division` parameter to control this behavior.\n",
      "  _warn_prf(average, modifier, f\"{metric.capitalize()} is\", len(result))\n"
     ]
    },
    {
     "name": "stdout",
     "output_type": "stream",
     "text": [
      "Epoch 44: Train Loss=2.5489, Val Loss=1.7815\n",
      "Mean F1 Score: 0.7486, Mean Accuracy: 0.9489, Mean Precision: 0.8011, Mean Recall: 0.7455\n"
     ]
    },
    {
     "name": "stderr",
     "output_type": "stream",
     "text": [
      "Epoch 45 Training:   0%|          | 0/4 [00:00<?, ?it/s]/tmp/job.14646635/ipykernel_391663/1724129108.py:79: FutureWarning: Series.__getitem__ treating keys as positions is deprecated. In a future version, integer keys will always be treated as labels (consistent with DataFrame behavior). To access a value by position, use `ser.iloc[pos]`\n",
      "  'labels': torch.tensor(label, dtype=torch.float32)\n",
      "Epoch 45 Training: 100%|██████████| 4/4 [00:05<00:00,  1.45s/it, loss=3.14]\n",
      "Epoch 45 Validation: 100%|██████████| 1/1 [00:00<00:00,  2.70it/s, loss=1.68]\n",
      "/scratch/user/akash.pillai.0810/.my_env/lib/python3.10/site-packages/sklearn/metrics/_classification.py:1565: UndefinedMetricWarning: F-score is ill-defined and being set to 0.0 due to no true nor predicted samples. Use `zero_division` parameter to control this behavior.\n",
      "  _warn_prf(average, modifier, f\"{metric.capitalize()} is\", len(result))\n",
      "/scratch/user/akash.pillai.0810/.my_env/lib/python3.10/site-packages/sklearn/metrics/_classification.py:1565: UndefinedMetricWarning: Recall is ill-defined and being set to 0.0 due to no true samples. Use `zero_division` parameter to control this behavior.\n",
      "  _warn_prf(average, modifier, f\"{metric.capitalize()} is\", len(result))\n"
     ]
    },
    {
     "name": "stdout",
     "output_type": "stream",
     "text": [
      "Epoch 45: Train Loss=2.5416, Val Loss=1.6816\n",
      "Mean F1 Score: 0.7702, Mean Accuracy: 0.9545, Mean Precision: 0.8011, Mean Recall: 0.7636\n"
     ]
    },
    {
     "name": "stderr",
     "output_type": "stream",
     "text": [
      "Epoch 46 Training:   0%|          | 0/4 [00:00<?, ?it/s]/tmp/job.14646635/ipykernel_391663/1724129108.py:79: FutureWarning: Series.__getitem__ treating keys as positions is deprecated. In a future version, integer keys will always be treated as labels (consistent with DataFrame behavior). To access a value by position, use `ser.iloc[pos]`\n",
      "  'labels': torch.tensor(label, dtype=torch.float32)\n",
      "Epoch 46 Training: 100%|██████████| 4/4 [00:05<00:00,  1.45s/it, loss=1.39]\n",
      "Epoch 46 Validation: 100%|██████████| 1/1 [00:00<00:00,  2.71it/s, loss=1.76]\n",
      "/scratch/user/akash.pillai.0810/.my_env/lib/python3.10/site-packages/sklearn/metrics/_classification.py:1565: UndefinedMetricWarning: F-score is ill-defined and being set to 0.0 due to no true nor predicted samples. Use `zero_division` parameter to control this behavior.\n",
      "  _warn_prf(average, modifier, f\"{metric.capitalize()} is\", len(result))\n",
      "/scratch/user/akash.pillai.0810/.my_env/lib/python3.10/site-packages/sklearn/metrics/_classification.py:1565: UndefinedMetricWarning: Recall is ill-defined and being set to 0.0 due to no true samples. Use `zero_division` parameter to control this behavior.\n",
      "  _warn_prf(average, modifier, f\"{metric.capitalize()} is\", len(result))\n"
     ]
    },
    {
     "name": "stdout",
     "output_type": "stream",
     "text": [
      "Epoch 46: Train Loss=2.5222, Val Loss=1.7557\n",
      "Mean F1 Score: 0.7486, Mean Accuracy: 0.9489, Mean Precision: 0.8011, Mean Recall: 0.7455\n"
     ]
    },
    {
     "name": "stderr",
     "output_type": "stream",
     "text": [
      "Epoch 47 Training:   0%|          | 0/4 [00:00<?, ?it/s]/tmp/job.14646635/ipykernel_391663/1724129108.py:79: FutureWarning: Series.__getitem__ treating keys as positions is deprecated. In a future version, integer keys will always be treated as labels (consistent with DataFrame behavior). To access a value by position, use `ser.iloc[pos]`\n",
      "  'labels': torch.tensor(label, dtype=torch.float32)\n",
      "Epoch 47 Training: 100%|██████████| 4/4 [00:05<00:00,  1.45s/it, loss=1.42]\n",
      "Epoch 47 Validation: 100%|██████████| 1/1 [00:00<00:00,  2.70it/s, loss=1.69]\n",
      "/scratch/user/akash.pillai.0810/.my_env/lib/python3.10/site-packages/sklearn/metrics/_classification.py:1565: UndefinedMetricWarning: F-score is ill-defined and being set to 0.0 due to no true nor predicted samples. Use `zero_division` parameter to control this behavior.\n",
      "  _warn_prf(average, modifier, f\"{metric.capitalize()} is\", len(result))\n",
      "/scratch/user/akash.pillai.0810/.my_env/lib/python3.10/site-packages/sklearn/metrics/_classification.py:1565: UndefinedMetricWarning: Recall is ill-defined and being set to 0.0 due to no true samples. Use `zero_division` parameter to control this behavior.\n",
      "  _warn_prf(average, modifier, f\"{metric.capitalize()} is\", len(result))\n"
     ]
    },
    {
     "name": "stdout",
     "output_type": "stream",
     "text": [
      "Epoch 47: Train Loss=2.5091, Val Loss=1.6910\n",
      "Mean F1 Score: 0.7486, Mean Accuracy: 0.9489, Mean Precision: 0.8011, Mean Recall: 0.7455\n"
     ]
    },
    {
     "name": "stderr",
     "output_type": "stream",
     "text": [
      "Epoch 48 Training:   0%|          | 0/4 [00:00<?, ?it/s]/tmp/job.14646635/ipykernel_391663/1724129108.py:79: FutureWarning: Series.__getitem__ treating keys as positions is deprecated. In a future version, integer keys will always be treated as labels (consistent with DataFrame behavior). To access a value by position, use `ser.iloc[pos]`\n",
      "  'labels': torch.tensor(label, dtype=torch.float32)\n",
      "Epoch 48 Training: 100%|██████████| 4/4 [00:05<00:00,  1.45s/it, loss=1.63]\n",
      "Epoch 48 Validation: 100%|██████████| 1/1 [00:00<00:00,  2.70it/s, loss=1.7]\n",
      "/scratch/user/akash.pillai.0810/.my_env/lib/python3.10/site-packages/sklearn/metrics/_classification.py:1565: UndefinedMetricWarning: F-score is ill-defined and being set to 0.0 due to no true nor predicted samples. Use `zero_division` parameter to control this behavior.\n",
      "  _warn_prf(average, modifier, f\"{metric.capitalize()} is\", len(result))\n",
      "/scratch/user/akash.pillai.0810/.my_env/lib/python3.10/site-packages/sklearn/metrics/_classification.py:1565: UndefinedMetricWarning: Recall is ill-defined and being set to 0.0 due to no true samples. Use `zero_division` parameter to control this behavior.\n",
      "  _warn_prf(average, modifier, f\"{metric.capitalize()} is\", len(result))\n"
     ]
    },
    {
     "name": "stdout",
     "output_type": "stream",
     "text": [
      "Epoch 48: Train Loss=2.4793, Val Loss=1.6968\n",
      "Mean F1 Score: 0.7486, Mean Accuracy: 0.9489, Mean Precision: 0.8011, Mean Recall: 0.7455\n"
     ]
    },
    {
     "name": "stderr",
     "output_type": "stream",
     "text": [
      "Epoch 49 Training:   0%|          | 0/4 [00:00<?, ?it/s]/tmp/job.14646635/ipykernel_391663/1724129108.py:79: FutureWarning: Series.__getitem__ treating keys as positions is deprecated. In a future version, integer keys will always be treated as labels (consistent with DataFrame behavior). To access a value by position, use `ser.iloc[pos]`\n",
      "  'labels': torch.tensor(label, dtype=torch.float32)\n",
      "Epoch 49 Training: 100%|██████████| 4/4 [00:05<00:00,  1.45s/it, loss=2.52]\n",
      "Epoch 49 Validation: 100%|██████████| 1/1 [00:00<00:00,  2.71it/s, loss=1.66]\n",
      "/scratch/user/akash.pillai.0810/.my_env/lib/python3.10/site-packages/sklearn/metrics/_classification.py:1565: UndefinedMetricWarning: F-score is ill-defined and being set to 0.0 due to no true nor predicted samples. Use `zero_division` parameter to control this behavior.\n",
      "  _warn_prf(average, modifier, f\"{metric.capitalize()} is\", len(result))\n",
      "/scratch/user/akash.pillai.0810/.my_env/lib/python3.10/site-packages/sklearn/metrics/_classification.py:1565: UndefinedMetricWarning: Recall is ill-defined and being set to 0.0 due to no true samples. Use `zero_division` parameter to control this behavior.\n",
      "  _warn_prf(average, modifier, f\"{metric.capitalize()} is\", len(result))\n"
     ]
    },
    {
     "name": "stdout",
     "output_type": "stream",
     "text": [
      "Epoch 49: Train Loss=2.4527, Val Loss=1.6588\n",
      "Mean F1 Score: 0.7486, Mean Accuracy: 0.9489, Mean Precision: 0.8011, Mean Recall: 0.7455\n"
     ]
    },
    {
     "name": "stderr",
     "output_type": "stream",
     "text": [
      "Epoch 50 Training:   0%|          | 0/4 [00:00<?, ?it/s]/tmp/job.14646635/ipykernel_391663/1724129108.py:79: FutureWarning: Series.__getitem__ treating keys as positions is deprecated. In a future version, integer keys will always be treated as labels (consistent with DataFrame behavior). To access a value by position, use `ser.iloc[pos]`\n",
      "  'labels': torch.tensor(label, dtype=torch.float32)\n",
      "Epoch 50 Training: 100%|██████████| 4/4 [00:05<00:00,  1.45s/it, loss=3.08]\n",
      "Epoch 50 Validation: 100%|██████████| 1/1 [00:00<00:00,  2.71it/s, loss=1.65]\n",
      "/scratch/user/akash.pillai.0810/.my_env/lib/python3.10/site-packages/sklearn/metrics/_classification.py:1565: UndefinedMetricWarning: F-score is ill-defined and being set to 0.0 due to no true nor predicted samples. Use `zero_division` parameter to control this behavior.\n",
      "  _warn_prf(average, modifier, f\"{metric.capitalize()} is\", len(result))\n",
      "/scratch/user/akash.pillai.0810/.my_env/lib/python3.10/site-packages/sklearn/metrics/_classification.py:1565: UndefinedMetricWarning: Recall is ill-defined and being set to 0.0 due to no true samples. Use `zero_division` parameter to control this behavior.\n",
      "  _warn_prf(average, modifier, f\"{metric.capitalize()} is\", len(result))\n"
     ]
    },
    {
     "name": "stdout",
     "output_type": "stream",
     "text": [
      "Epoch 50: Train Loss=2.4215, Val Loss=1.6528\n",
      "Mean F1 Score: 0.7486, Mean Accuracy: 0.9489, Mean Precision: 0.8011, Mean Recall: 0.7455\n"
     ]
    },
    {
     "name": "stderr",
     "output_type": "stream",
     "text": [
      "Epoch 51 Training:   0%|          | 0/4 [00:00<?, ?it/s]/tmp/job.14646635/ipykernel_391663/1724129108.py:79: FutureWarning: Series.__getitem__ treating keys as positions is deprecated. In a future version, integer keys will always be treated as labels (consistent with DataFrame behavior). To access a value by position, use `ser.iloc[pos]`\n",
      "  'labels': torch.tensor(label, dtype=torch.float32)\n",
      "Epoch 51 Training: 100%|██████████| 4/4 [00:05<00:00,  1.45s/it, loss=2.19]\n",
      "Epoch 51 Validation: 100%|██████████| 1/1 [00:00<00:00,  2.70it/s, loss=1.68]\n",
      "/scratch/user/akash.pillai.0810/.my_env/lib/python3.10/site-packages/sklearn/metrics/_classification.py:1565: UndefinedMetricWarning: F-score is ill-defined and being set to 0.0 due to no true nor predicted samples. Use `zero_division` parameter to control this behavior.\n",
      "  _warn_prf(average, modifier, f\"{metric.capitalize()} is\", len(result))\n",
      "/scratch/user/akash.pillai.0810/.my_env/lib/python3.10/site-packages/sklearn/metrics/_classification.py:1565: UndefinedMetricWarning: Recall is ill-defined and being set to 0.0 due to no true samples. Use `zero_division` parameter to control this behavior.\n",
      "  _warn_prf(average, modifier, f\"{metric.capitalize()} is\", len(result))\n"
     ]
    },
    {
     "name": "stdout",
     "output_type": "stream",
     "text": [
      "Epoch 51: Train Loss=2.4621, Val Loss=1.6757\n",
      "Mean F1 Score: 0.7486, Mean Accuracy: 0.9489, Mean Precision: 0.8011, Mean Recall: 0.7455\n"
     ]
    },
    {
     "name": "stderr",
     "output_type": "stream",
     "text": [
      "Epoch 52 Training:   0%|          | 0/4 [00:00<?, ?it/s]/tmp/job.14646635/ipykernel_391663/1724129108.py:79: FutureWarning: Series.__getitem__ treating keys as positions is deprecated. In a future version, integer keys will always be treated as labels (consistent with DataFrame behavior). To access a value by position, use `ser.iloc[pos]`\n",
      "  'labels': torch.tensor(label, dtype=torch.float32)\n",
      "Epoch 52 Training: 100%|██████████| 4/4 [00:05<00:00,  1.45s/it, loss=2.77]\n",
      "Epoch 52 Validation: 100%|██████████| 1/1 [00:00<00:00,  2.70it/s, loss=1.65]\n",
      "/scratch/user/akash.pillai.0810/.my_env/lib/python3.10/site-packages/sklearn/metrics/_classification.py:1565: UndefinedMetricWarning: F-score is ill-defined and being set to 0.0 due to no true nor predicted samples. Use `zero_division` parameter to control this behavior.\n",
      "  _warn_prf(average, modifier, f\"{metric.capitalize()} is\", len(result))\n",
      "/scratch/user/akash.pillai.0810/.my_env/lib/python3.10/site-packages/sklearn/metrics/_classification.py:1565: UndefinedMetricWarning: Recall is ill-defined and being set to 0.0 due to no true samples. Use `zero_division` parameter to control this behavior.\n",
      "  _warn_prf(average, modifier, f\"{metric.capitalize()} is\", len(result))\n"
     ]
    },
    {
     "name": "stdout",
     "output_type": "stream",
     "text": [
      "Epoch 52: Train Loss=2.4294, Val Loss=1.6503\n",
      "Mean F1 Score: 0.7486, Mean Accuracy: 0.9489, Mean Precision: 0.8011, Mean Recall: 0.7455\n"
     ]
    },
    {
     "name": "stderr",
     "output_type": "stream",
     "text": [
      "Epoch 53 Training:   0%|          | 0/4 [00:00<?, ?it/s]/tmp/job.14646635/ipykernel_391663/1724129108.py:79: FutureWarning: Series.__getitem__ treating keys as positions is deprecated. In a future version, integer keys will always be treated as labels (consistent with DataFrame behavior). To access a value by position, use `ser.iloc[pos]`\n",
      "  'labels': torch.tensor(label, dtype=torch.float32)\n",
      "Epoch 53 Training: 100%|██████████| 4/4 [00:05<00:00,  1.45s/it, loss=2.06]\n",
      "Epoch 53 Validation: 100%|██████████| 1/1 [00:00<00:00,  2.70it/s, loss=1.69]\n",
      "/scratch/user/akash.pillai.0810/.my_env/lib/python3.10/site-packages/sklearn/metrics/_classification.py:1565: UndefinedMetricWarning: F-score is ill-defined and being set to 0.0 due to no true nor predicted samples. Use `zero_division` parameter to control this behavior.\n",
      "  _warn_prf(average, modifier, f\"{metric.capitalize()} is\", len(result))\n",
      "/scratch/user/akash.pillai.0810/.my_env/lib/python3.10/site-packages/sklearn/metrics/_classification.py:1565: UndefinedMetricWarning: Recall is ill-defined and being set to 0.0 due to no true samples. Use `zero_division` parameter to control this behavior.\n",
      "  _warn_prf(average, modifier, f\"{metric.capitalize()} is\", len(result))\n"
     ]
    },
    {
     "name": "stdout",
     "output_type": "stream",
     "text": [
      "Epoch 53: Train Loss=2.4037, Val Loss=1.6864\n",
      "Mean F1 Score: 0.7486, Mean Accuracy: 0.9489, Mean Precision: 0.8011, Mean Recall: 0.7455\n"
     ]
    },
    {
     "name": "stderr",
     "output_type": "stream",
     "text": [
      "Epoch 54 Training:   0%|          | 0/4 [00:00<?, ?it/s]/tmp/job.14646635/ipykernel_391663/1724129108.py:79: FutureWarning: Series.__getitem__ treating keys as positions is deprecated. In a future version, integer keys will always be treated as labels (consistent with DataFrame behavior). To access a value by position, use `ser.iloc[pos]`\n",
      "  'labels': torch.tensor(label, dtype=torch.float32)\n",
      "Epoch 54 Training: 100%|██████████| 4/4 [00:05<00:00,  1.45s/it, loss=1.44]\n",
      "Epoch 54 Validation: 100%|██████████| 1/1 [00:00<00:00,  2.71it/s, loss=1.65]\n",
      "/scratch/user/akash.pillai.0810/.my_env/lib/python3.10/site-packages/sklearn/metrics/_classification.py:1565: UndefinedMetricWarning: F-score is ill-defined and being set to 0.0 due to no true nor predicted samples. Use `zero_division` parameter to control this behavior.\n",
      "  _warn_prf(average, modifier, f\"{metric.capitalize()} is\", len(result))\n",
      "/scratch/user/akash.pillai.0810/.my_env/lib/python3.10/site-packages/sklearn/metrics/_classification.py:1565: UndefinedMetricWarning: Recall is ill-defined and being set to 0.0 due to no true samples. Use `zero_division` parameter to control this behavior.\n",
      "  _warn_prf(average, modifier, f\"{metric.capitalize()} is\", len(result))\n"
     ]
    },
    {
     "name": "stdout",
     "output_type": "stream",
     "text": [
      "Epoch 54: Train Loss=2.3855, Val Loss=1.6535\n",
      "Mean F1 Score: 0.7486, Mean Accuracy: 0.9489, Mean Precision: 0.8011, Mean Recall: 0.7455\n"
     ]
    },
    {
     "name": "stderr",
     "output_type": "stream",
     "text": [
      "Epoch 55 Training:   0%|          | 0/4 [00:00<?, ?it/s]/tmp/job.14646635/ipykernel_391663/1724129108.py:79: FutureWarning: Series.__getitem__ treating keys as positions is deprecated. In a future version, integer keys will always be treated as labels (consistent with DataFrame behavior). To access a value by position, use `ser.iloc[pos]`\n",
      "  'labels': torch.tensor(label, dtype=torch.float32)\n",
      "Epoch 55 Training: 100%|██████████| 4/4 [00:05<00:00,  1.45s/it, loss=1.41]\n",
      "Epoch 55 Validation: 100%|██████████| 1/1 [00:00<00:00,  2.71it/s, loss=1.69]\n",
      "/scratch/user/akash.pillai.0810/.my_env/lib/python3.10/site-packages/sklearn/metrics/_classification.py:1565: UndefinedMetricWarning: F-score is ill-defined and being set to 0.0 due to no true nor predicted samples. Use `zero_division` parameter to control this behavior.\n",
      "  _warn_prf(average, modifier, f\"{metric.capitalize()} is\", len(result))\n",
      "/scratch/user/akash.pillai.0810/.my_env/lib/python3.10/site-packages/sklearn/metrics/_classification.py:1565: UndefinedMetricWarning: Recall is ill-defined and being set to 0.0 due to no true samples. Use `zero_division` parameter to control this behavior.\n",
      "  _warn_prf(average, modifier, f\"{metric.capitalize()} is\", len(result))\n"
     ]
    },
    {
     "name": "stdout",
     "output_type": "stream",
     "text": [
      "Epoch 55: Train Loss=2.3640, Val Loss=1.6860\n",
      "Mean F1 Score: 0.7486, Mean Accuracy: 0.9489, Mean Precision: 0.8011, Mean Recall: 0.7455\n"
     ]
    },
    {
     "name": "stderr",
     "output_type": "stream",
     "text": [
      "Epoch 56 Training:   0%|          | 0/4 [00:00<?, ?it/s]/tmp/job.14646635/ipykernel_391663/1724129108.py:79: FutureWarning: Series.__getitem__ treating keys as positions is deprecated. In a future version, integer keys will always be treated as labels (consistent with DataFrame behavior). To access a value by position, use `ser.iloc[pos]`\n",
      "  'labels': torch.tensor(label, dtype=torch.float32)\n",
      "Epoch 56 Training: 100%|██████████| 4/4 [00:05<00:00,  1.45s/it, loss=2.97]\n",
      "Epoch 56 Validation: 100%|██████████| 1/1 [00:00<00:00,  2.71it/s, loss=1.7]\n",
      "/scratch/user/akash.pillai.0810/.my_env/lib/python3.10/site-packages/sklearn/metrics/_classification.py:1565: UndefinedMetricWarning: F-score is ill-defined and being set to 0.0 due to no true nor predicted samples. Use `zero_division` parameter to control this behavior.\n",
      "  _warn_prf(average, modifier, f\"{metric.capitalize()} is\", len(result))\n",
      "/scratch/user/akash.pillai.0810/.my_env/lib/python3.10/site-packages/sklearn/metrics/_classification.py:1565: UndefinedMetricWarning: Recall is ill-defined and being set to 0.0 due to no true samples. Use `zero_division` parameter to control this behavior.\n",
      "  _warn_prf(average, modifier, f\"{metric.capitalize()} is\", len(result))\n"
     ]
    },
    {
     "name": "stdout",
     "output_type": "stream",
     "text": [
      "Epoch 56: Train Loss=2.3736, Val Loss=1.7042\n",
      "Mean F1 Score: 0.7486, Mean Accuracy: 0.9489, Mean Precision: 0.8011, Mean Recall: 0.7455\n"
     ]
    },
    {
     "name": "stderr",
     "output_type": "stream",
     "text": [
      "Epoch 57 Training:   0%|          | 0/4 [00:00<?, ?it/s]/tmp/job.14646635/ipykernel_391663/1724129108.py:79: FutureWarning: Series.__getitem__ treating keys as positions is deprecated. In a future version, integer keys will always be treated as labels (consistent with DataFrame behavior). To access a value by position, use `ser.iloc[pos]`\n",
      "  'labels': torch.tensor(label, dtype=torch.float32)\n",
      "Epoch 57 Training: 100%|██████████| 4/4 [00:05<00:00,  1.45s/it, loss=1.47]\n",
      "Epoch 57 Validation: 100%|██████████| 1/1 [00:00<00:00,  2.71it/s, loss=1.63]\n",
      "/scratch/user/akash.pillai.0810/.my_env/lib/python3.10/site-packages/sklearn/metrics/_classification.py:1565: UndefinedMetricWarning: F-score is ill-defined and being set to 0.0 due to no true nor predicted samples. Use `zero_division` parameter to control this behavior.\n",
      "  _warn_prf(average, modifier, f\"{metric.capitalize()} is\", len(result))\n",
      "/scratch/user/akash.pillai.0810/.my_env/lib/python3.10/site-packages/sklearn/metrics/_classification.py:1565: UndefinedMetricWarning: Recall is ill-defined and being set to 0.0 due to no true samples. Use `zero_division` parameter to control this behavior.\n",
      "  _warn_prf(average, modifier, f\"{metric.capitalize()} is\", len(result))\n"
     ]
    },
    {
     "name": "stdout",
     "output_type": "stream",
     "text": [
      "Epoch 57: Train Loss=2.3400, Val Loss=1.6335\n",
      "Mean F1 Score: 0.7486, Mean Accuracy: 0.9489, Mean Precision: 0.8011, Mean Recall: 0.7455\n"
     ]
    },
    {
     "name": "stderr",
     "output_type": "stream",
     "text": [
      "Epoch 58 Training:   0%|          | 0/4 [00:00<?, ?it/s]/tmp/job.14646635/ipykernel_391663/1724129108.py:79: FutureWarning: Series.__getitem__ treating keys as positions is deprecated. In a future version, integer keys will always be treated as labels (consistent with DataFrame behavior). To access a value by position, use `ser.iloc[pos]`\n",
      "  'labels': torch.tensor(label, dtype=torch.float32)\n",
      "Epoch 58 Training: 100%|██████████| 4/4 [00:05<00:00,  1.45s/it, loss=2.65]\n",
      "Epoch 58 Validation: 100%|██████████| 1/1 [00:00<00:00,  2.71it/s, loss=1.68]\n",
      "/scratch/user/akash.pillai.0810/.my_env/lib/python3.10/site-packages/sklearn/metrics/_classification.py:1565: UndefinedMetricWarning: F-score is ill-defined and being set to 0.0 due to no true nor predicted samples. Use `zero_division` parameter to control this behavior.\n",
      "  _warn_prf(average, modifier, f\"{metric.capitalize()} is\", len(result))\n",
      "/scratch/user/akash.pillai.0810/.my_env/lib/python3.10/site-packages/sklearn/metrics/_classification.py:1565: UndefinedMetricWarning: Recall is ill-defined and being set to 0.0 due to no true samples. Use `zero_division` parameter to control this behavior.\n",
      "  _warn_prf(average, modifier, f\"{metric.capitalize()} is\", len(result))\n"
     ]
    },
    {
     "name": "stdout",
     "output_type": "stream",
     "text": [
      "Epoch 58: Train Loss=2.3601, Val Loss=1.6780\n",
      "Mean F1 Score: 0.7486, Mean Accuracy: 0.9489, Mean Precision: 0.8011, Mean Recall: 0.7455\n"
     ]
    },
    {
     "name": "stderr",
     "output_type": "stream",
     "text": [
      "Epoch 59 Training:   0%|          | 0/4 [00:00<?, ?it/s]/tmp/job.14646635/ipykernel_391663/1724129108.py:79: FutureWarning: Series.__getitem__ treating keys as positions is deprecated. In a future version, integer keys will always be treated as labels (consistent with DataFrame behavior). To access a value by position, use `ser.iloc[pos]`\n",
      "  'labels': torch.tensor(label, dtype=torch.float32)\n",
      "Epoch 59 Training: 100%|██████████| 4/4 [00:05<00:00,  1.45s/it, loss=5.06]\n",
      "Epoch 59 Validation: 100%|██████████| 1/1 [00:00<00:00,  2.71it/s, loss=1.58]\n",
      "/scratch/user/akash.pillai.0810/.my_env/lib/python3.10/site-packages/sklearn/metrics/_classification.py:1565: UndefinedMetricWarning: F-score is ill-defined and being set to 0.0 due to no true nor predicted samples. Use `zero_division` parameter to control this behavior.\n",
      "  _warn_prf(average, modifier, f\"{metric.capitalize()} is\", len(result))\n",
      "/scratch/user/akash.pillai.0810/.my_env/lib/python3.10/site-packages/sklearn/metrics/_classification.py:1565: UndefinedMetricWarning: Recall is ill-defined and being set to 0.0 due to no true samples. Use `zero_division` parameter to control this behavior.\n",
      "  _warn_prf(average, modifier, f\"{metric.capitalize()} is\", len(result))\n"
     ]
    },
    {
     "name": "stdout",
     "output_type": "stream",
     "text": [
      "Epoch 59: Train Loss=2.3793, Val Loss=1.5789\n",
      "Mean F1 Score: 0.7702, Mean Accuracy: 0.9545, Mean Precision: 0.8011, Mean Recall: 0.7636\n"
     ]
    },
    {
     "name": "stderr",
     "output_type": "stream",
     "text": [
      "Epoch 60 Training:   0%|          | 0/4 [00:00<?, ?it/s]/tmp/job.14646635/ipykernel_391663/1724129108.py:79: FutureWarning: Series.__getitem__ treating keys as positions is deprecated. In a future version, integer keys will always be treated as labels (consistent with DataFrame behavior). To access a value by position, use `ser.iloc[pos]`\n",
      "  'labels': torch.tensor(label, dtype=torch.float32)\n",
      "Epoch 60 Training: 100%|██████████| 4/4 [00:05<00:00,  1.45s/it, loss=1.44]\n",
      "Epoch 60 Validation: 100%|██████████| 1/1 [00:00<00:00,  2.71it/s, loss=1.66]\n",
      "/scratch/user/akash.pillai.0810/.my_env/lib/python3.10/site-packages/sklearn/metrics/_classification.py:1565: UndefinedMetricWarning: F-score is ill-defined and being set to 0.0 due to no true nor predicted samples. Use `zero_division` parameter to control this behavior.\n",
      "  _warn_prf(average, modifier, f\"{metric.capitalize()} is\", len(result))\n",
      "/scratch/user/akash.pillai.0810/.my_env/lib/python3.10/site-packages/sklearn/metrics/_classification.py:1565: UndefinedMetricWarning: Recall is ill-defined and being set to 0.0 due to no true samples. Use `zero_division` parameter to control this behavior.\n",
      "  _warn_prf(average, modifier, f\"{metric.capitalize()} is\", len(result))\n"
     ]
    },
    {
     "name": "stdout",
     "output_type": "stream",
     "text": [
      "Epoch 60: Train Loss=2.3167, Val Loss=1.6566\n",
      "Mean F1 Score: 0.7486, Mean Accuracy: 0.9489, Mean Precision: 0.8011, Mean Recall: 0.7455\n"
     ]
    },
    {
     "name": "stderr",
     "output_type": "stream",
     "text": [
      "Epoch 61 Training:   0%|          | 0/4 [00:00<?, ?it/s]/tmp/job.14646635/ipykernel_391663/1724129108.py:79: FutureWarning: Series.__getitem__ treating keys as positions is deprecated. In a future version, integer keys will always be treated as labels (consistent with DataFrame behavior). To access a value by position, use `ser.iloc[pos]`\n",
      "  'labels': torch.tensor(label, dtype=torch.float32)\n",
      "Epoch 61 Training: 100%|██████████| 4/4 [00:05<00:00,  1.45s/it, loss=2.23]\n",
      "Epoch 61 Validation: 100%|██████████| 1/1 [00:00<00:00,  2.71it/s, loss=1.58]\n",
      "/scratch/user/akash.pillai.0810/.my_env/lib/python3.10/site-packages/sklearn/metrics/_classification.py:1565: UndefinedMetricWarning: F-score is ill-defined and being set to 0.0 due to no true nor predicted samples. Use `zero_division` parameter to control this behavior.\n",
      "  _warn_prf(average, modifier, f\"{metric.capitalize()} is\", len(result))\n",
      "/scratch/user/akash.pillai.0810/.my_env/lib/python3.10/site-packages/sklearn/metrics/_classification.py:1565: UndefinedMetricWarning: Recall is ill-defined and being set to 0.0 due to no true samples. Use `zero_division` parameter to control this behavior.\n",
      "  _warn_prf(average, modifier, f\"{metric.capitalize()} is\", len(result))\n"
     ]
    },
    {
     "name": "stdout",
     "output_type": "stream",
     "text": [
      "Epoch 61: Train Loss=2.3027, Val Loss=1.5841\n",
      "Mean F1 Score: 0.7702, Mean Accuracy: 0.9545, Mean Precision: 0.8011, Mean Recall: 0.7636\n"
     ]
    },
    {
     "name": "stderr",
     "output_type": "stream",
     "text": [
      "Epoch 62 Training:   0%|          | 0/4 [00:00<?, ?it/s]/tmp/job.14646635/ipykernel_391663/1724129108.py:79: FutureWarning: Series.__getitem__ treating keys as positions is deprecated. In a future version, integer keys will always be treated as labels (consistent with DataFrame behavior). To access a value by position, use `ser.iloc[pos]`\n",
      "  'labels': torch.tensor(label, dtype=torch.float32)\n",
      "Epoch 62 Training: 100%|██████████| 4/4 [00:05<00:00,  1.45s/it, loss=2.54]\n",
      "Epoch 62 Validation: 100%|██████████| 1/1 [00:00<00:00,  2.70it/s, loss=1.7]\n",
      "/scratch/user/akash.pillai.0810/.my_env/lib/python3.10/site-packages/sklearn/metrics/_classification.py:1565: UndefinedMetricWarning: F-score is ill-defined and being set to 0.0 due to no true nor predicted samples. Use `zero_division` parameter to control this behavior.\n",
      "  _warn_prf(average, modifier, f\"{metric.capitalize()} is\", len(result))\n",
      "/scratch/user/akash.pillai.0810/.my_env/lib/python3.10/site-packages/sklearn/metrics/_classification.py:1565: UndefinedMetricWarning: Recall is ill-defined and being set to 0.0 due to no true samples. Use `zero_division` parameter to control this behavior.\n",
      "  _warn_prf(average, modifier, f\"{metric.capitalize()} is\", len(result))\n"
     ]
    },
    {
     "name": "stdout",
     "output_type": "stream",
     "text": [
      "Epoch 62: Train Loss=2.3073, Val Loss=1.6996\n",
      "Mean F1 Score: 0.7486, Mean Accuracy: 0.9489, Mean Precision: 0.8011, Mean Recall: 0.7455\n"
     ]
    },
    {
     "name": "stderr",
     "output_type": "stream",
     "text": [
      "Epoch 63 Training:   0%|          | 0/4 [00:00<?, ?it/s]/tmp/job.14646635/ipykernel_391663/1724129108.py:79: FutureWarning: Series.__getitem__ treating keys as positions is deprecated. In a future version, integer keys will always be treated as labels (consistent with DataFrame behavior). To access a value by position, use `ser.iloc[pos]`\n",
      "  'labels': torch.tensor(label, dtype=torch.float32)\n",
      "Epoch 63 Training: 100%|██████████| 4/4 [00:05<00:00,  1.45s/it, loss=2.03]\n",
      "Epoch 63 Validation: 100%|██████████| 1/1 [00:00<00:00,  2.71it/s, loss=1.59]\n",
      "/scratch/user/akash.pillai.0810/.my_env/lib/python3.10/site-packages/sklearn/metrics/_classification.py:1565: UndefinedMetricWarning: F-score is ill-defined and being set to 0.0 due to no true nor predicted samples. Use `zero_division` parameter to control this behavior.\n",
      "  _warn_prf(average, modifier, f\"{metric.capitalize()} is\", len(result))\n",
      "/scratch/user/akash.pillai.0810/.my_env/lib/python3.10/site-packages/sklearn/metrics/_classification.py:1565: UndefinedMetricWarning: Recall is ill-defined and being set to 0.0 due to no true samples. Use `zero_division` parameter to control this behavior.\n",
      "  _warn_prf(average, modifier, f\"{metric.capitalize()} is\", len(result))\n"
     ]
    },
    {
     "name": "stdout",
     "output_type": "stream",
     "text": [
      "Epoch 63: Train Loss=2.2980, Val Loss=1.5884\n",
      "Mean F1 Score: 0.7702, Mean Accuracy: 0.9545, Mean Precision: 0.8011, Mean Recall: 0.7636\n"
     ]
    },
    {
     "name": "stderr",
     "output_type": "stream",
     "text": [
      "Epoch 64 Training:   0%|          | 0/4 [00:00<?, ?it/s]/tmp/job.14646635/ipykernel_391663/1724129108.py:79: FutureWarning: Series.__getitem__ treating keys as positions is deprecated. In a future version, integer keys will always be treated as labels (consistent with DataFrame behavior). To access a value by position, use `ser.iloc[pos]`\n",
      "  'labels': torch.tensor(label, dtype=torch.float32)\n",
      "Epoch 64 Training: 100%|██████████| 4/4 [00:05<00:00,  1.45s/it, loss=2.6] \n",
      "Epoch 64 Validation: 100%|██████████| 1/1 [00:00<00:00,  2.71it/s, loss=1.68]\n",
      "/scratch/user/akash.pillai.0810/.my_env/lib/python3.10/site-packages/sklearn/metrics/_classification.py:1565: UndefinedMetricWarning: F-score is ill-defined and being set to 0.0 due to no true nor predicted samples. Use `zero_division` parameter to control this behavior.\n",
      "  _warn_prf(average, modifier, f\"{metric.capitalize()} is\", len(result))\n",
      "/scratch/user/akash.pillai.0810/.my_env/lib/python3.10/site-packages/sklearn/metrics/_classification.py:1565: UndefinedMetricWarning: Recall is ill-defined and being set to 0.0 due to no true samples. Use `zero_division` parameter to control this behavior.\n",
      "  _warn_prf(average, modifier, f\"{metric.capitalize()} is\", len(result))\n"
     ]
    },
    {
     "name": "stdout",
     "output_type": "stream",
     "text": [
      "Epoch 64: Train Loss=2.3044, Val Loss=1.6796\n",
      "Mean F1 Score: 0.7486, Mean Accuracy: 0.9489, Mean Precision: 0.8011, Mean Recall: 0.7455\n"
     ]
    },
    {
     "name": "stderr",
     "output_type": "stream",
     "text": [
      "Epoch 65 Training:   0%|          | 0/4 [00:00<?, ?it/s]/tmp/job.14646635/ipykernel_391663/1724129108.py:79: FutureWarning: Series.__getitem__ treating keys as positions is deprecated. In a future version, integer keys will always be treated as labels (consistent with DataFrame behavior). To access a value by position, use `ser.iloc[pos]`\n",
      "  'labels': torch.tensor(label, dtype=torch.float32)\n",
      "Epoch 65 Training: 100%|██████████| 4/4 [00:05<00:00,  1.45s/it, loss=1.71]\n",
      "Epoch 65 Validation: 100%|██████████| 1/1 [00:00<00:00,  2.70it/s, loss=1.59]\n",
      "/scratch/user/akash.pillai.0810/.my_env/lib/python3.10/site-packages/sklearn/metrics/_classification.py:1565: UndefinedMetricWarning: F-score is ill-defined and being set to 0.0 due to no true nor predicted samples. Use `zero_division` parameter to control this behavior.\n",
      "  _warn_prf(average, modifier, f\"{metric.capitalize()} is\", len(result))\n",
      "/scratch/user/akash.pillai.0810/.my_env/lib/python3.10/site-packages/sklearn/metrics/_classification.py:1565: UndefinedMetricWarning: Recall is ill-defined and being set to 0.0 due to no true samples. Use `zero_division` parameter to control this behavior.\n",
      "  _warn_prf(average, modifier, f\"{metric.capitalize()} is\", len(result))\n"
     ]
    },
    {
     "name": "stdout",
     "output_type": "stream",
     "text": [
      "Epoch 65: Train Loss=2.2687, Val Loss=1.5879\n",
      "Mean F1 Score: 0.8308, Mean Accuracy: 0.9602, Mean Precision: 0.8920, Mean Recall: 0.8091\n",
      "New best model saved for fold 2 with F1=0.8308\n"
     ]
    },
    {
     "name": "stderr",
     "output_type": "stream",
     "text": [
      "Epoch 66 Training:   0%|          | 0/4 [00:00<?, ?it/s]/tmp/job.14646635/ipykernel_391663/1724129108.py:79: FutureWarning: Series.__getitem__ treating keys as positions is deprecated. In a future version, integer keys will always be treated as labels (consistent with DataFrame behavior). To access a value by position, use `ser.iloc[pos]`\n",
      "  'labels': torch.tensor(label, dtype=torch.float32)\n",
      "Epoch 66 Training: 100%|██████████| 4/4 [00:05<00:00,  1.45s/it, loss=2.26]\n",
      "Epoch 66 Validation: 100%|██████████| 1/1 [00:00<00:00,  2.70it/s, loss=1.68]\n",
      "/scratch/user/akash.pillai.0810/.my_env/lib/python3.10/site-packages/sklearn/metrics/_classification.py:1565: UndefinedMetricWarning: F-score is ill-defined and being set to 0.0 due to no true nor predicted samples. Use `zero_division` parameter to control this behavior.\n",
      "  _warn_prf(average, modifier, f\"{metric.capitalize()} is\", len(result))\n",
      "/scratch/user/akash.pillai.0810/.my_env/lib/python3.10/site-packages/sklearn/metrics/_classification.py:1565: UndefinedMetricWarning: Recall is ill-defined and being set to 0.0 due to no true samples. Use `zero_division` parameter to control this behavior.\n",
      "  _warn_prf(average, modifier, f\"{metric.capitalize()} is\", len(result))\n"
     ]
    },
    {
     "name": "stdout",
     "output_type": "stream",
     "text": [
      "Epoch 66: Train Loss=2.2550, Val Loss=1.6777\n",
      "Mean F1 Score: 0.7486, Mean Accuracy: 0.9489, Mean Precision: 0.8011, Mean Recall: 0.7455\n"
     ]
    },
    {
     "name": "stderr",
     "output_type": "stream",
     "text": [
      "Epoch 67 Training:   0%|          | 0/4 [00:00<?, ?it/s]/tmp/job.14646635/ipykernel_391663/1724129108.py:79: FutureWarning: Series.__getitem__ treating keys as positions is deprecated. In a future version, integer keys will always be treated as labels (consistent with DataFrame behavior). To access a value by position, use `ser.iloc[pos]`\n",
      "  'labels': torch.tensor(label, dtype=torch.float32)\n",
      "Epoch 67 Training: 100%|██████████| 4/4 [00:05<00:00,  1.45s/it, loss=2.09]\n",
      "Epoch 67 Validation: 100%|██████████| 1/1 [00:00<00:00,  2.70it/s, loss=1.6]\n",
      "/scratch/user/akash.pillai.0810/.my_env/lib/python3.10/site-packages/sklearn/metrics/_classification.py:1565: UndefinedMetricWarning: F-score is ill-defined and being set to 0.0 due to no true nor predicted samples. Use `zero_division` parameter to control this behavior.\n",
      "  _warn_prf(average, modifier, f\"{metric.capitalize()} is\", len(result))\n",
      "/scratch/user/akash.pillai.0810/.my_env/lib/python3.10/site-packages/sklearn/metrics/_classification.py:1565: UndefinedMetricWarning: Recall is ill-defined and being set to 0.0 due to no true samples. Use `zero_division` parameter to control this behavior.\n",
      "  _warn_prf(average, modifier, f\"{metric.capitalize()} is\", len(result))\n"
     ]
    },
    {
     "name": "stdout",
     "output_type": "stream",
     "text": [
      "Epoch 67: Train Loss=2.2748, Val Loss=1.6020\n",
      "Mean F1 Score: 0.7702, Mean Accuracy: 0.9545, Mean Precision: 0.8011, Mean Recall: 0.7636\n"
     ]
    },
    {
     "name": "stderr",
     "output_type": "stream",
     "text": [
      "Epoch 68 Training:   0%|          | 0/4 [00:00<?, ?it/s]/tmp/job.14646635/ipykernel_391663/1724129108.py:79: FutureWarning: Series.__getitem__ treating keys as positions is deprecated. In a future version, integer keys will always be treated as labels (consistent with DataFrame behavior). To access a value by position, use `ser.iloc[pos]`\n",
      "  'labels': torch.tensor(label, dtype=torch.float32)\n",
      "Epoch 68 Training: 100%|██████████| 4/4 [00:05<00:00,  1.45s/it, loss=1.3] \n",
      "Epoch 68 Validation: 100%|██████████| 1/1 [00:00<00:00,  2.70it/s, loss=1.65]\n",
      "/scratch/user/akash.pillai.0810/.my_env/lib/python3.10/site-packages/sklearn/metrics/_classification.py:1565: UndefinedMetricWarning: F-score is ill-defined and being set to 0.0 due to no true nor predicted samples. Use `zero_division` parameter to control this behavior.\n",
      "  _warn_prf(average, modifier, f\"{metric.capitalize()} is\", len(result))\n",
      "/scratch/user/akash.pillai.0810/.my_env/lib/python3.10/site-packages/sklearn/metrics/_classification.py:1565: UndefinedMetricWarning: Recall is ill-defined and being set to 0.0 due to no true samples. Use `zero_division` parameter to control this behavior.\n",
      "  _warn_prf(average, modifier, f\"{metric.capitalize()} is\", len(result))\n"
     ]
    },
    {
     "name": "stdout",
     "output_type": "stream",
     "text": [
      "Epoch 68: Train Loss=2.2905, Val Loss=1.6528\n",
      "Mean F1 Score: 0.7486, Mean Accuracy: 0.9489, Mean Precision: 0.8011, Mean Recall: 0.7455\n"
     ]
    },
    {
     "name": "stderr",
     "output_type": "stream",
     "text": [
      "Epoch 69 Training:   0%|          | 0/4 [00:00<?, ?it/s]/tmp/job.14646635/ipykernel_391663/1724129108.py:79: FutureWarning: Series.__getitem__ treating keys as positions is deprecated. In a future version, integer keys will always be treated as labels (consistent with DataFrame behavior). To access a value by position, use `ser.iloc[pos]`\n",
      "  'labels': torch.tensor(label, dtype=torch.float32)\n",
      "Epoch 69 Training: 100%|██████████| 4/4 [00:05<00:00,  1.45s/it, loss=2.26]\n",
      "Epoch 69 Validation: 100%|██████████| 1/1 [00:00<00:00,  2.70it/s, loss=1.62]\n",
      "/scratch/user/akash.pillai.0810/.my_env/lib/python3.10/site-packages/sklearn/metrics/_classification.py:1565: UndefinedMetricWarning: F-score is ill-defined and being set to 0.0 due to no true nor predicted samples. Use `zero_division` parameter to control this behavior.\n",
      "  _warn_prf(average, modifier, f\"{metric.capitalize()} is\", len(result))\n",
      "/scratch/user/akash.pillai.0810/.my_env/lib/python3.10/site-packages/sklearn/metrics/_classification.py:1565: UndefinedMetricWarning: Recall is ill-defined and being set to 0.0 due to no true samples. Use `zero_division` parameter to control this behavior.\n",
      "  _warn_prf(average, modifier, f\"{metric.capitalize()} is\", len(result))\n"
     ]
    },
    {
     "name": "stdout",
     "output_type": "stream",
     "text": [
      "Epoch 69: Train Loss=2.2272, Val Loss=1.6180\n",
      "Mean F1 Score: 0.7486, Mean Accuracy: 0.9489, Mean Precision: 0.8011, Mean Recall: 0.7455\n"
     ]
    },
    {
     "name": "stderr",
     "output_type": "stream",
     "text": [
      "Epoch 70 Training:   0%|          | 0/4 [00:00<?, ?it/s]/tmp/job.14646635/ipykernel_391663/1724129108.py:79: FutureWarning: Series.__getitem__ treating keys as positions is deprecated. In a future version, integer keys will always be treated as labels (consistent with DataFrame behavior). To access a value by position, use `ser.iloc[pos]`\n",
      "  'labels': torch.tensor(label, dtype=torch.float32)\n",
      "Epoch 70 Training: 100%|██████████| 4/4 [00:05<00:00,  1.45s/it, loss=3.4] \n",
      "Epoch 70 Validation: 100%|██████████| 1/1 [00:00<00:00,  2.70it/s, loss=1.53]\n",
      "/scratch/user/akash.pillai.0810/.my_env/lib/python3.10/site-packages/sklearn/metrics/_classification.py:1565: UndefinedMetricWarning: F-score is ill-defined and being set to 0.0 due to no true nor predicted samples. Use `zero_division` parameter to control this behavior.\n",
      "  _warn_prf(average, modifier, f\"{metric.capitalize()} is\", len(result))\n",
      "/scratch/user/akash.pillai.0810/.my_env/lib/python3.10/site-packages/sklearn/metrics/_classification.py:1565: UndefinedMetricWarning: Recall is ill-defined and being set to 0.0 due to no true samples. Use `zero_division` parameter to control this behavior.\n",
      "  _warn_prf(average, modifier, f\"{metric.capitalize()} is\", len(result))\n"
     ]
    },
    {
     "name": "stdout",
     "output_type": "stream",
     "text": [
      "Epoch 70: Train Loss=2.2361, Val Loss=1.5278\n",
      "Mean F1 Score: 0.7702, Mean Accuracy: 0.9545, Mean Precision: 0.8011, Mean Recall: 0.7636\n"
     ]
    },
    {
     "name": "stderr",
     "output_type": "stream",
     "text": [
      "Epoch 71 Training:   0%|          | 0/4 [00:00<?, ?it/s]/tmp/job.14646635/ipykernel_391663/1724129108.py:79: FutureWarning: Series.__getitem__ treating keys as positions is deprecated. In a future version, integer keys will always be treated as labels (consistent with DataFrame behavior). To access a value by position, use `ser.iloc[pos]`\n",
      "  'labels': torch.tensor(label, dtype=torch.float32)\n",
      "Epoch 71 Training: 100%|██████████| 4/4 [00:05<00:00,  1.45s/it, loss=2.74]\n",
      "Epoch 71 Validation: 100%|██████████| 1/1 [00:00<00:00,  2.70it/s, loss=1.57]\n",
      "/scratch/user/akash.pillai.0810/.my_env/lib/python3.10/site-packages/sklearn/metrics/_classification.py:1565: UndefinedMetricWarning: F-score is ill-defined and being set to 0.0 due to no true nor predicted samples. Use `zero_division` parameter to control this behavior.\n",
      "  _warn_prf(average, modifier, f\"{metric.capitalize()} is\", len(result))\n",
      "/scratch/user/akash.pillai.0810/.my_env/lib/python3.10/site-packages/sklearn/metrics/_classification.py:1565: UndefinedMetricWarning: Recall is ill-defined and being set to 0.0 due to no true samples. Use `zero_division` parameter to control this behavior.\n",
      "  _warn_prf(average, modifier, f\"{metric.capitalize()} is\", len(result))\n"
     ]
    },
    {
     "name": "stdout",
     "output_type": "stream",
     "text": [
      "Epoch 71: Train Loss=2.2179, Val Loss=1.5706\n",
      "Mean F1 Score: 0.7486, Mean Accuracy: 0.9489, Mean Precision: 0.8011, Mean Recall: 0.7455\n"
     ]
    },
    {
     "name": "stderr",
     "output_type": "stream",
     "text": [
      "Epoch 72 Training:   0%|          | 0/4 [00:00<?, ?it/s]/tmp/job.14646635/ipykernel_391663/1724129108.py:79: FutureWarning: Series.__getitem__ treating keys as positions is deprecated. In a future version, integer keys will always be treated as labels (consistent with DataFrame behavior). To access a value by position, use `ser.iloc[pos]`\n",
      "  'labels': torch.tensor(label, dtype=torch.float32)\n",
      "Epoch 72 Training: 100%|██████████| 4/4 [00:05<00:00,  1.45s/it, loss=3.17]\n",
      "Epoch 72 Validation: 100%|██████████| 1/1 [00:00<00:00,  2.71it/s, loss=1.57]\n",
      "/scratch/user/akash.pillai.0810/.my_env/lib/python3.10/site-packages/sklearn/metrics/_classification.py:1565: UndefinedMetricWarning: F-score is ill-defined and being set to 0.0 due to no true nor predicted samples. Use `zero_division` parameter to control this behavior.\n",
      "  _warn_prf(average, modifier, f\"{metric.capitalize()} is\", len(result))\n",
      "/scratch/user/akash.pillai.0810/.my_env/lib/python3.10/site-packages/sklearn/metrics/_classification.py:1565: UndefinedMetricWarning: Recall is ill-defined and being set to 0.0 due to no true samples. Use `zero_division` parameter to control this behavior.\n",
      "  _warn_prf(average, modifier, f\"{metric.capitalize()} is\", len(result))\n"
     ]
    },
    {
     "name": "stdout",
     "output_type": "stream",
     "text": [
      "Epoch 72: Train Loss=2.2237, Val Loss=1.5689\n",
      "Mean F1 Score: 0.7486, Mean Accuracy: 0.9489, Mean Precision: 0.8011, Mean Recall: 0.7455\n"
     ]
    },
    {
     "name": "stderr",
     "output_type": "stream",
     "text": [
      "Epoch 73 Training:   0%|          | 0/4 [00:00<?, ?it/s]/tmp/job.14646635/ipykernel_391663/1724129108.py:79: FutureWarning: Series.__getitem__ treating keys as positions is deprecated. In a future version, integer keys will always be treated as labels (consistent with DataFrame behavior). To access a value by position, use `ser.iloc[pos]`\n",
      "  'labels': torch.tensor(label, dtype=torch.float32)\n",
      "Epoch 73 Training: 100%|██████████| 4/4 [00:05<00:00,  1.45s/it, loss=1.59]\n",
      "Epoch 73 Validation: 100%|██████████| 1/1 [00:00<00:00,  2.70it/s, loss=1.59]\n",
      "/scratch/user/akash.pillai.0810/.my_env/lib/python3.10/site-packages/sklearn/metrics/_classification.py:1565: UndefinedMetricWarning: F-score is ill-defined and being set to 0.0 due to no true nor predicted samples. Use `zero_division` parameter to control this behavior.\n",
      "  _warn_prf(average, modifier, f\"{metric.capitalize()} is\", len(result))\n",
      "/scratch/user/akash.pillai.0810/.my_env/lib/python3.10/site-packages/sklearn/metrics/_classification.py:1565: UndefinedMetricWarning: Recall is ill-defined and being set to 0.0 due to no true samples. Use `zero_division` parameter to control this behavior.\n",
      "  _warn_prf(average, modifier, f\"{metric.capitalize()} is\", len(result))\n"
     ]
    },
    {
     "name": "stdout",
     "output_type": "stream",
     "text": [
      "Epoch 73: Train Loss=2.1965, Val Loss=1.5866\n",
      "Mean F1 Score: 0.7702, Mean Accuracy: 0.9545, Mean Precision: 0.8011, Mean Recall: 0.7636\n"
     ]
    },
    {
     "name": "stderr",
     "output_type": "stream",
     "text": [
      "Epoch 74 Training:   0%|          | 0/4 [00:00<?, ?it/s]/tmp/job.14646635/ipykernel_391663/1724129108.py:79: FutureWarning: Series.__getitem__ treating keys as positions is deprecated. In a future version, integer keys will always be treated as labels (consistent with DataFrame behavior). To access a value by position, use `ser.iloc[pos]`\n",
      "  'labels': torch.tensor(label, dtype=torch.float32)\n",
      "Epoch 74 Training: 100%|██████████| 4/4 [00:05<00:00,  1.45s/it, loss=1.17]\n",
      "Epoch 74 Validation: 100%|██████████| 1/1 [00:00<00:00,  2.70it/s, loss=1.62]\n",
      "/scratch/user/akash.pillai.0810/.my_env/lib/python3.10/site-packages/sklearn/metrics/_classification.py:1565: UndefinedMetricWarning: F-score is ill-defined and being set to 0.0 due to no true nor predicted samples. Use `zero_division` parameter to control this behavior.\n",
      "  _warn_prf(average, modifier, f\"{metric.capitalize()} is\", len(result))\n",
      "/scratch/user/akash.pillai.0810/.my_env/lib/python3.10/site-packages/sklearn/metrics/_classification.py:1565: UndefinedMetricWarning: Recall is ill-defined and being set to 0.0 due to no true samples. Use `zero_division` parameter to control this behavior.\n",
      "  _warn_prf(average, modifier, f\"{metric.capitalize()} is\", len(result))\n"
     ]
    },
    {
     "name": "stdout",
     "output_type": "stream",
     "text": [
      "Epoch 74: Train Loss=2.1894, Val Loss=1.6177\n",
      "Mean F1 Score: 0.7702, Mean Accuracy: 0.9545, Mean Precision: 0.8011, Mean Recall: 0.7636\n"
     ]
    },
    {
     "name": "stderr",
     "output_type": "stream",
     "text": [
      "Epoch 75 Training:   0%|          | 0/4 [00:00<?, ?it/s]/tmp/job.14646635/ipykernel_391663/1724129108.py:79: FutureWarning: Series.__getitem__ treating keys as positions is deprecated. In a future version, integer keys will always be treated as labels (consistent with DataFrame behavior). To access a value by position, use `ser.iloc[pos]`\n",
      "  'labels': torch.tensor(label, dtype=torch.float32)\n",
      "Epoch 75 Training: 100%|██████████| 4/4 [00:05<00:00,  1.45s/it, loss=1.6] \n",
      "Epoch 75 Validation: 100%|██████████| 1/1 [00:00<00:00,  2.70it/s, loss=1.64]\n",
      "/scratch/user/akash.pillai.0810/.my_env/lib/python3.10/site-packages/sklearn/metrics/_classification.py:1565: UndefinedMetricWarning: F-score is ill-defined and being set to 0.0 due to no true nor predicted samples. Use `zero_division` parameter to control this behavior.\n",
      "  _warn_prf(average, modifier, f\"{metric.capitalize()} is\", len(result))\n",
      "/scratch/user/akash.pillai.0810/.my_env/lib/python3.10/site-packages/sklearn/metrics/_classification.py:1565: UndefinedMetricWarning: Recall is ill-defined and being set to 0.0 due to no true samples. Use `zero_division` parameter to control this behavior.\n",
      "  _warn_prf(average, modifier, f\"{metric.capitalize()} is\", len(result))\n"
     ]
    },
    {
     "name": "stdout",
     "output_type": "stream",
     "text": [
      "Epoch 75: Train Loss=2.1844, Val Loss=1.6449\n",
      "Mean F1 Score: 0.7486, Mean Accuracy: 0.9489, Mean Precision: 0.8011, Mean Recall: 0.7455\n"
     ]
    },
    {
     "name": "stderr",
     "output_type": "stream",
     "text": [
      "Epoch 76 Training:   0%|          | 0/4 [00:00<?, ?it/s]/tmp/job.14646635/ipykernel_391663/1724129108.py:79: FutureWarning: Series.__getitem__ treating keys as positions is deprecated. In a future version, integer keys will always be treated as labels (consistent with DataFrame behavior). To access a value by position, use `ser.iloc[pos]`\n",
      "  'labels': torch.tensor(label, dtype=torch.float32)\n",
      "Epoch 76 Training: 100%|██████████| 4/4 [00:05<00:00,  1.45s/it, loss=4.12]\n",
      "Epoch 76 Validation: 100%|██████████| 1/1 [00:00<00:00,  2.71it/s, loss=1.56]\n",
      "/scratch/user/akash.pillai.0810/.my_env/lib/python3.10/site-packages/sklearn/metrics/_classification.py:1565: UndefinedMetricWarning: F-score is ill-defined and being set to 0.0 due to no true nor predicted samples. Use `zero_division` parameter to control this behavior.\n",
      "  _warn_prf(average, modifier, f\"{metric.capitalize()} is\", len(result))\n",
      "/scratch/user/akash.pillai.0810/.my_env/lib/python3.10/site-packages/sklearn/metrics/_classification.py:1565: UndefinedMetricWarning: Recall is ill-defined and being set to 0.0 due to no true samples. Use `zero_division` parameter to control this behavior.\n",
      "  _warn_prf(average, modifier, f\"{metric.capitalize()} is\", len(result))\n"
     ]
    },
    {
     "name": "stdout",
     "output_type": "stream",
     "text": [
      "Epoch 76: Train Loss=2.2364, Val Loss=1.5643\n",
      "Mean F1 Score: 0.7702, Mean Accuracy: 0.9545, Mean Precision: 0.8011, Mean Recall: 0.7636\n"
     ]
    },
    {
     "name": "stderr",
     "output_type": "stream",
     "text": [
      "Epoch 77 Training:   0%|          | 0/4 [00:00<?, ?it/s]/tmp/job.14646635/ipykernel_391663/1724129108.py:79: FutureWarning: Series.__getitem__ treating keys as positions is deprecated. In a future version, integer keys will always be treated as labels (consistent with DataFrame behavior). To access a value by position, use `ser.iloc[pos]`\n",
      "  'labels': torch.tensor(label, dtype=torch.float32)\n",
      "Epoch 77 Training: 100%|██████████| 4/4 [00:05<00:00,  1.45s/it, loss=3.47] \n",
      "Epoch 77 Validation: 100%|██████████| 1/1 [00:00<00:00,  2.70it/s, loss=1.62]\n",
      "/scratch/user/akash.pillai.0810/.my_env/lib/python3.10/site-packages/sklearn/metrics/_classification.py:1565: UndefinedMetricWarning: F-score is ill-defined and being set to 0.0 due to no true nor predicted samples. Use `zero_division` parameter to control this behavior.\n",
      "  _warn_prf(average, modifier, f\"{metric.capitalize()} is\", len(result))\n",
      "/scratch/user/akash.pillai.0810/.my_env/lib/python3.10/site-packages/sklearn/metrics/_classification.py:1565: UndefinedMetricWarning: Recall is ill-defined and being set to 0.0 due to no true samples. Use `zero_division` parameter to control this behavior.\n",
      "  _warn_prf(average, modifier, f\"{metric.capitalize()} is\", len(result))\n"
     ]
    },
    {
     "name": "stdout",
     "output_type": "stream",
     "text": [
      "Epoch 77: Train Loss=2.1823, Val Loss=1.6156\n",
      "Mean F1 Score: 0.7486, Mean Accuracy: 0.9489, Mean Precision: 0.8011, Mean Recall: 0.7455\n"
     ]
    },
    {
     "name": "stderr",
     "output_type": "stream",
     "text": [
      "Epoch 78 Training:   0%|          | 0/4 [00:00<?, ?it/s]/tmp/job.14646635/ipykernel_391663/1724129108.py:79: FutureWarning: Series.__getitem__ treating keys as positions is deprecated. In a future version, integer keys will always be treated as labels (consistent with DataFrame behavior). To access a value by position, use `ser.iloc[pos]`\n",
      "  'labels': torch.tensor(label, dtype=torch.float32)\n",
      "Epoch 78 Training: 100%|██████████| 4/4 [00:05<00:00,  1.45s/it, loss=1.94]\n",
      "Epoch 78 Validation: 100%|██████████| 1/1 [00:00<00:00,  2.70it/s, loss=1.57]\n",
      "/scratch/user/akash.pillai.0810/.my_env/lib/python3.10/site-packages/sklearn/metrics/_classification.py:1565: UndefinedMetricWarning: F-score is ill-defined and being set to 0.0 due to no true nor predicted samples. Use `zero_division` parameter to control this behavior.\n",
      "  _warn_prf(average, modifier, f\"{metric.capitalize()} is\", len(result))\n",
      "/scratch/user/akash.pillai.0810/.my_env/lib/python3.10/site-packages/sklearn/metrics/_classification.py:1565: UndefinedMetricWarning: Recall is ill-defined and being set to 0.0 due to no true samples. Use `zero_division` parameter to control this behavior.\n",
      "  _warn_prf(average, modifier, f\"{metric.capitalize()} is\", len(result))\n"
     ]
    },
    {
     "name": "stdout",
     "output_type": "stream",
     "text": [
      "Epoch 78: Train Loss=2.1531, Val Loss=1.5741\n",
      "Mean F1 Score: 0.7486, Mean Accuracy: 0.9489, Mean Precision: 0.8011, Mean Recall: 0.7455\n"
     ]
    },
    {
     "name": "stderr",
     "output_type": "stream",
     "text": [
      "Epoch 79 Training:   0%|          | 0/4 [00:00<?, ?it/s]/tmp/job.14646635/ipykernel_391663/1724129108.py:79: FutureWarning: Series.__getitem__ treating keys as positions is deprecated. In a future version, integer keys will always be treated as labels (consistent with DataFrame behavior). To access a value by position, use `ser.iloc[pos]`\n",
      "  'labels': torch.tensor(label, dtype=torch.float32)\n",
      "Epoch 79 Training: 100%|██████████| 4/4 [00:05<00:00,  1.45s/it, loss=2.74]\n",
      "Epoch 79 Validation: 100%|██████████| 1/1 [00:00<00:00,  2.70it/s, loss=1.57]\n",
      "/scratch/user/akash.pillai.0810/.my_env/lib/python3.10/site-packages/sklearn/metrics/_classification.py:1565: UndefinedMetricWarning: F-score is ill-defined and being set to 0.0 due to no true nor predicted samples. Use `zero_division` parameter to control this behavior.\n",
      "  _warn_prf(average, modifier, f\"{metric.capitalize()} is\", len(result))\n",
      "/scratch/user/akash.pillai.0810/.my_env/lib/python3.10/site-packages/sklearn/metrics/_classification.py:1565: UndefinedMetricWarning: Recall is ill-defined and being set to 0.0 due to no true samples. Use `zero_division` parameter to control this behavior.\n",
      "  _warn_prf(average, modifier, f\"{metric.capitalize()} is\", len(result))\n"
     ]
    },
    {
     "name": "stdout",
     "output_type": "stream",
     "text": [
      "Epoch 79: Train Loss=2.1704, Val Loss=1.5658\n",
      "Mean F1 Score: 0.7486, Mean Accuracy: 0.9489, Mean Precision: 0.8011, Mean Recall: 0.7455\n"
     ]
    },
    {
     "name": "stderr",
     "output_type": "stream",
     "text": [
      "Epoch 80 Training:   0%|          | 0/4 [00:00<?, ?it/s]/tmp/job.14646635/ipykernel_391663/1724129108.py:79: FutureWarning: Series.__getitem__ treating keys as positions is deprecated. In a future version, integer keys will always be treated as labels (consistent with DataFrame behavior). To access a value by position, use `ser.iloc[pos]`\n",
      "  'labels': torch.tensor(label, dtype=torch.float32)\n",
      "Epoch 80 Training: 100%|██████████| 4/4 [00:05<00:00,  1.45s/it, loss=2.45]\n",
      "Epoch 80 Validation: 100%|██████████| 1/1 [00:00<00:00,  2.70it/s, loss=1.6]\n",
      "/scratch/user/akash.pillai.0810/.my_env/lib/python3.10/site-packages/sklearn/metrics/_classification.py:1565: UndefinedMetricWarning: F-score is ill-defined and being set to 0.0 due to no true nor predicted samples. Use `zero_division` parameter to control this behavior.\n",
      "  _warn_prf(average, modifier, f\"{metric.capitalize()} is\", len(result))\n",
      "/scratch/user/akash.pillai.0810/.my_env/lib/python3.10/site-packages/sklearn/metrics/_classification.py:1565: UndefinedMetricWarning: Recall is ill-defined and being set to 0.0 due to no true samples. Use `zero_division` parameter to control this behavior.\n",
      "  _warn_prf(average, modifier, f\"{metric.capitalize()} is\", len(result))\n"
     ]
    },
    {
     "name": "stdout",
     "output_type": "stream",
     "text": [
      "Epoch 80: Train Loss=2.1771, Val Loss=1.6011\n",
      "Mean F1 Score: 0.7486, Mean Accuracy: 0.9489, Mean Precision: 0.8011, Mean Recall: 0.7455\n"
     ]
    },
    {
     "name": "stderr",
     "output_type": "stream",
     "text": [
      "Epoch 81 Training:   0%|          | 0/4 [00:00<?, ?it/s]/tmp/job.14646635/ipykernel_391663/1724129108.py:79: FutureWarning: Series.__getitem__ treating keys as positions is deprecated. In a future version, integer keys will always be treated as labels (consistent with DataFrame behavior). To access a value by position, use `ser.iloc[pos]`\n",
      "  'labels': torch.tensor(label, dtype=torch.float32)\n",
      "Epoch 81 Training: 100%|██████████| 4/4 [00:05<00:00,  1.45s/it, loss=2.75]\n",
      "Epoch 81 Validation: 100%|██████████| 1/1 [00:00<00:00,  2.71it/s, loss=1.59]\n",
      "/scratch/user/akash.pillai.0810/.my_env/lib/python3.10/site-packages/sklearn/metrics/_classification.py:1565: UndefinedMetricWarning: F-score is ill-defined and being set to 0.0 due to no true nor predicted samples. Use `zero_division` parameter to control this behavior.\n",
      "  _warn_prf(average, modifier, f\"{metric.capitalize()} is\", len(result))\n",
      "/scratch/user/akash.pillai.0810/.my_env/lib/python3.10/site-packages/sklearn/metrics/_classification.py:1565: UndefinedMetricWarning: Recall is ill-defined and being set to 0.0 due to no true samples. Use `zero_division` parameter to control this behavior.\n",
      "  _warn_prf(average, modifier, f\"{metric.capitalize()} is\", len(result))\n"
     ]
    },
    {
     "name": "stdout",
     "output_type": "stream",
     "text": [
      "Epoch 81: Train Loss=2.1665, Val Loss=1.5887\n",
      "Mean F1 Score: 0.7702, Mean Accuracy: 0.9545, Mean Precision: 0.8011, Mean Recall: 0.7636\n"
     ]
    },
    {
     "name": "stderr",
     "output_type": "stream",
     "text": [
      "Epoch 82 Training:   0%|          | 0/4 [00:00<?, ?it/s]/tmp/job.14646635/ipykernel_391663/1724129108.py:79: FutureWarning: Series.__getitem__ treating keys as positions is deprecated. In a future version, integer keys will always be treated as labels (consistent with DataFrame behavior). To access a value by position, use `ser.iloc[pos]`\n",
      "  'labels': torch.tensor(label, dtype=torch.float32)\n",
      "Epoch 82 Training: 100%|██████████| 4/4 [00:05<00:00,  1.45s/it, loss=2.11]\n",
      "Epoch 82 Validation: 100%|██████████| 1/1 [00:00<00:00,  2.70it/s, loss=1.59]\n",
      "/scratch/user/akash.pillai.0810/.my_env/lib/python3.10/site-packages/sklearn/metrics/_classification.py:1565: UndefinedMetricWarning: F-score is ill-defined and being set to 0.0 due to no true nor predicted samples. Use `zero_division` parameter to control this behavior.\n",
      "  _warn_prf(average, modifier, f\"{metric.capitalize()} is\", len(result))\n",
      "/scratch/user/akash.pillai.0810/.my_env/lib/python3.10/site-packages/sklearn/metrics/_classification.py:1565: UndefinedMetricWarning: Recall is ill-defined and being set to 0.0 due to no true samples. Use `zero_division` parameter to control this behavior.\n",
      "  _warn_prf(average, modifier, f\"{metric.capitalize()} is\", len(result))\n"
     ]
    },
    {
     "name": "stdout",
     "output_type": "stream",
     "text": [
      "Epoch 82: Train Loss=2.1218, Val Loss=1.5932\n",
      "Mean F1 Score: 0.7486, Mean Accuracy: 0.9489, Mean Precision: 0.8011, Mean Recall: 0.7455\n"
     ]
    },
    {
     "name": "stderr",
     "output_type": "stream",
     "text": [
      "Epoch 83 Training:   0%|          | 0/4 [00:00<?, ?it/s]/tmp/job.14646635/ipykernel_391663/1724129108.py:79: FutureWarning: Series.__getitem__ treating keys as positions is deprecated. In a future version, integer keys will always be treated as labels (consistent with DataFrame behavior). To access a value by position, use `ser.iloc[pos]`\n",
      "  'labels': torch.tensor(label, dtype=torch.float32)\n",
      "Epoch 83 Training: 100%|██████████| 4/4 [00:05<00:00,  1.45s/it, loss=1.93]\n",
      "Epoch 83 Validation: 100%|██████████| 1/1 [00:00<00:00,  2.70it/s, loss=1.58]\n",
      "/scratch/user/akash.pillai.0810/.my_env/lib/python3.10/site-packages/sklearn/metrics/_classification.py:1565: UndefinedMetricWarning: F-score is ill-defined and being set to 0.0 due to no true nor predicted samples. Use `zero_division` parameter to control this behavior.\n",
      "  _warn_prf(average, modifier, f\"{metric.capitalize()} is\", len(result))\n",
      "/scratch/user/akash.pillai.0810/.my_env/lib/python3.10/site-packages/sklearn/metrics/_classification.py:1565: UndefinedMetricWarning: Recall is ill-defined and being set to 0.0 due to no true samples. Use `zero_division` parameter to control this behavior.\n",
      "  _warn_prf(average, modifier, f\"{metric.capitalize()} is\", len(result))\n"
     ]
    },
    {
     "name": "stdout",
     "output_type": "stream",
     "text": [
      "Epoch 83: Train Loss=2.1635, Val Loss=1.5798\n",
      "Mean F1 Score: 0.7702, Mean Accuracy: 0.9545, Mean Precision: 0.8011, Mean Recall: 0.7636\n"
     ]
    },
    {
     "name": "stderr",
     "output_type": "stream",
     "text": [
      "Epoch 84 Training:   0%|          | 0/4 [00:00<?, ?it/s]/tmp/job.14646635/ipykernel_391663/1724129108.py:79: FutureWarning: Series.__getitem__ treating keys as positions is deprecated. In a future version, integer keys will always be treated as labels (consistent with DataFrame behavior). To access a value by position, use `ser.iloc[pos]`\n",
      "  'labels': torch.tensor(label, dtype=torch.float32)\n",
      "Epoch 84 Training: 100%|██████████| 4/4 [00:05<00:00,  1.45s/it, loss=1.38]\n",
      "Epoch 84 Validation: 100%|██████████| 1/1 [00:00<00:00,  2.70it/s, loss=1.61]\n",
      "/scratch/user/akash.pillai.0810/.my_env/lib/python3.10/site-packages/sklearn/metrics/_classification.py:1565: UndefinedMetricWarning: F-score is ill-defined and being set to 0.0 due to no true nor predicted samples. Use `zero_division` parameter to control this behavior.\n",
      "  _warn_prf(average, modifier, f\"{metric.capitalize()} is\", len(result))\n",
      "/scratch/user/akash.pillai.0810/.my_env/lib/python3.10/site-packages/sklearn/metrics/_classification.py:1565: UndefinedMetricWarning: Recall is ill-defined and being set to 0.0 due to no true samples. Use `zero_division` parameter to control this behavior.\n",
      "  _warn_prf(average, modifier, f\"{metric.capitalize()} is\", len(result))\n"
     ]
    },
    {
     "name": "stdout",
     "output_type": "stream",
     "text": [
      "Epoch 84: Train Loss=2.1135, Val Loss=1.6110\n",
      "Mean F1 Score: 0.7486, Mean Accuracy: 0.9489, Mean Precision: 0.8011, Mean Recall: 0.7455\n"
     ]
    },
    {
     "name": "stderr",
     "output_type": "stream",
     "text": [
      "Epoch 85 Training:   0%|          | 0/4 [00:00<?, ?it/s]/tmp/job.14646635/ipykernel_391663/1724129108.py:79: FutureWarning: Series.__getitem__ treating keys as positions is deprecated. In a future version, integer keys will always be treated as labels (consistent with DataFrame behavior). To access a value by position, use `ser.iloc[pos]`\n",
      "  'labels': torch.tensor(label, dtype=torch.float32)\n",
      "Epoch 85 Training: 100%|██████████| 4/4 [00:05<00:00,  1.45s/it, loss=3.7] \n",
      "Epoch 85 Validation: 100%|██████████| 1/1 [00:00<00:00,  2.71it/s, loss=1.5]\n",
      "/scratch/user/akash.pillai.0810/.my_env/lib/python3.10/site-packages/sklearn/metrics/_classification.py:1565: UndefinedMetricWarning: F-score is ill-defined and being set to 0.0 due to no true nor predicted samples. Use `zero_division` parameter to control this behavior.\n",
      "  _warn_prf(average, modifier, f\"{metric.capitalize()} is\", len(result))\n",
      "/scratch/user/akash.pillai.0810/.my_env/lib/python3.10/site-packages/sklearn/metrics/_classification.py:1565: UndefinedMetricWarning: Recall is ill-defined and being set to 0.0 due to no true samples. Use `zero_division` parameter to control this behavior.\n",
      "  _warn_prf(average, modifier, f\"{metric.capitalize()} is\", len(result))\n"
     ]
    },
    {
     "name": "stdout",
     "output_type": "stream",
     "text": [
      "Epoch 85: Train Loss=2.1357, Val Loss=1.5015\n",
      "Mean F1 Score: 0.7702, Mean Accuracy: 0.9545, Mean Precision: 0.8011, Mean Recall: 0.7636\n"
     ]
    },
    {
     "name": "stderr",
     "output_type": "stream",
     "text": [
      "Epoch 86 Training:   0%|          | 0/4 [00:00<?, ?it/s]/tmp/job.14646635/ipykernel_391663/1724129108.py:79: FutureWarning: Series.__getitem__ treating keys as positions is deprecated. In a future version, integer keys will always be treated as labels (consistent with DataFrame behavior). To access a value by position, use `ser.iloc[pos]`\n",
      "  'labels': torch.tensor(label, dtype=torch.float32)\n",
      "Epoch 86 Training: 100%|██████████| 4/4 [00:05<00:00,  1.45s/it, loss=1.35]\n",
      "Epoch 86 Validation: 100%|██████████| 1/1 [00:00<00:00,  2.71it/s, loss=1.56]\n",
      "/scratch/user/akash.pillai.0810/.my_env/lib/python3.10/site-packages/sklearn/metrics/_classification.py:1565: UndefinedMetricWarning: F-score is ill-defined and being set to 0.0 due to no true nor predicted samples. Use `zero_division` parameter to control this behavior.\n",
      "  _warn_prf(average, modifier, f\"{metric.capitalize()} is\", len(result))\n",
      "/scratch/user/akash.pillai.0810/.my_env/lib/python3.10/site-packages/sklearn/metrics/_classification.py:1565: UndefinedMetricWarning: Recall is ill-defined and being set to 0.0 due to no true samples. Use `zero_division` parameter to control this behavior.\n",
      "  _warn_prf(average, modifier, f\"{metric.capitalize()} is\", len(result))\n"
     ]
    },
    {
     "name": "stdout",
     "output_type": "stream",
     "text": [
      "Epoch 86: Train Loss=2.1622, Val Loss=1.5587\n",
      "Mean F1 Score: 0.7486, Mean Accuracy: 0.9489, Mean Precision: 0.8011, Mean Recall: 0.7455\n"
     ]
    },
    {
     "name": "stderr",
     "output_type": "stream",
     "text": [
      "Epoch 87 Training:   0%|          | 0/4 [00:00<?, ?it/s]/tmp/job.14646635/ipykernel_391663/1724129108.py:79: FutureWarning: Series.__getitem__ treating keys as positions is deprecated. In a future version, integer keys will always be treated as labels (consistent with DataFrame behavior). To access a value by position, use `ser.iloc[pos]`\n",
      "  'labels': torch.tensor(label, dtype=torch.float32)\n",
      "Epoch 87 Training: 100%|██████████| 4/4 [00:05<00:00,  1.45s/it, loss=1.11]\n",
      "Epoch 87 Validation: 100%|██████████| 1/1 [00:00<00:00,  2.70it/s, loss=1.57]\n",
      "/scratch/user/akash.pillai.0810/.my_env/lib/python3.10/site-packages/sklearn/metrics/_classification.py:1565: UndefinedMetricWarning: F-score is ill-defined and being set to 0.0 due to no true nor predicted samples. Use `zero_division` parameter to control this behavior.\n",
      "  _warn_prf(average, modifier, f\"{metric.capitalize()} is\", len(result))\n",
      "/scratch/user/akash.pillai.0810/.my_env/lib/python3.10/site-packages/sklearn/metrics/_classification.py:1565: UndefinedMetricWarning: Recall is ill-defined and being set to 0.0 due to no true samples. Use `zero_division` parameter to control this behavior.\n",
      "  _warn_prf(average, modifier, f\"{metric.capitalize()} is\", len(result))\n"
     ]
    },
    {
     "name": "stdout",
     "output_type": "stream",
     "text": [
      "Epoch 87: Train Loss=2.1073, Val Loss=1.5650\n",
      "Mean F1 Score: 0.7486, Mean Accuracy: 0.9489, Mean Precision: 0.8011, Mean Recall: 0.7455\n"
     ]
    },
    {
     "name": "stderr",
     "output_type": "stream",
     "text": [
      "Epoch 88 Training:   0%|          | 0/4 [00:00<?, ?it/s]/tmp/job.14646635/ipykernel_391663/1724129108.py:79: FutureWarning: Series.__getitem__ treating keys as positions is deprecated. In a future version, integer keys will always be treated as labels (consistent with DataFrame behavior). To access a value by position, use `ser.iloc[pos]`\n",
      "  'labels': torch.tensor(label, dtype=torch.float32)\n",
      "Epoch 88 Training: 100%|██████████| 4/4 [00:05<00:00,  1.45s/it, loss=1.64]\n",
      "Epoch 88 Validation: 100%|██████████| 1/1 [00:00<00:00,  2.71it/s, loss=1.56]\n",
      "/scratch/user/akash.pillai.0810/.my_env/lib/python3.10/site-packages/sklearn/metrics/_classification.py:1565: UndefinedMetricWarning: F-score is ill-defined and being set to 0.0 due to no true nor predicted samples. Use `zero_division` parameter to control this behavior.\n",
      "  _warn_prf(average, modifier, f\"{metric.capitalize()} is\", len(result))\n",
      "/scratch/user/akash.pillai.0810/.my_env/lib/python3.10/site-packages/sklearn/metrics/_classification.py:1565: UndefinedMetricWarning: Recall is ill-defined and being set to 0.0 due to no true samples. Use `zero_division` parameter to control this behavior.\n",
      "  _warn_prf(average, modifier, f\"{metric.capitalize()} is\", len(result))\n"
     ]
    },
    {
     "name": "stdout",
     "output_type": "stream",
     "text": [
      "Epoch 88: Train Loss=2.1065, Val Loss=1.5577\n",
      "Mean F1 Score: 0.7702, Mean Accuracy: 0.9545, Mean Precision: 0.8011, Mean Recall: 0.7636\n"
     ]
    },
    {
     "name": "stderr",
     "output_type": "stream",
     "text": [
      "Epoch 89 Training:   0%|          | 0/4 [00:00<?, ?it/s]/tmp/job.14646635/ipykernel_391663/1724129108.py:79: FutureWarning: Series.__getitem__ treating keys as positions is deprecated. In a future version, integer keys will always be treated as labels (consistent with DataFrame behavior). To access a value by position, use `ser.iloc[pos]`\n",
      "  'labels': torch.tensor(label, dtype=torch.float32)\n",
      "Epoch 89 Training: 100%|██████████| 4/4 [00:05<00:00,  1.45s/it, loss=3.23]\n",
      "Epoch 89 Validation: 100%|██████████| 1/1 [00:00<00:00,  2.71it/s, loss=1.54]\n",
      "/scratch/user/akash.pillai.0810/.my_env/lib/python3.10/site-packages/sklearn/metrics/_classification.py:1565: UndefinedMetricWarning: F-score is ill-defined and being set to 0.0 due to no true nor predicted samples. Use `zero_division` parameter to control this behavior.\n",
      "  _warn_prf(average, modifier, f\"{metric.capitalize()} is\", len(result))\n",
      "/scratch/user/akash.pillai.0810/.my_env/lib/python3.10/site-packages/sklearn/metrics/_classification.py:1565: UndefinedMetricWarning: Recall is ill-defined and being set to 0.0 due to no true samples. Use `zero_division` parameter to control this behavior.\n",
      "  _warn_prf(average, modifier, f\"{metric.capitalize()} is\", len(result))\n"
     ]
    },
    {
     "name": "stdout",
     "output_type": "stream",
     "text": [
      "Epoch 89: Train Loss=2.0888, Val Loss=1.5447\n",
      "Mean F1 Score: 0.7486, Mean Accuracy: 0.9489, Mean Precision: 0.8011, Mean Recall: 0.7455\n"
     ]
    },
    {
     "name": "stderr",
     "output_type": "stream",
     "text": [
      "Epoch 90 Training:   0%|          | 0/4 [00:00<?, ?it/s]/tmp/job.14646635/ipykernel_391663/1724129108.py:79: FutureWarning: Series.__getitem__ treating keys as positions is deprecated. In a future version, integer keys will always be treated as labels (consistent with DataFrame behavior). To access a value by position, use `ser.iloc[pos]`\n",
      "  'labels': torch.tensor(label, dtype=torch.float32)\n",
      "Epoch 90 Training: 100%|██████████| 4/4 [00:05<00:00,  1.45s/it, loss=2.02]\n",
      "Epoch 90 Validation: 100%|██████████| 1/1 [00:00<00:00,  2.71it/s, loss=1.55]\n",
      "/scratch/user/akash.pillai.0810/.my_env/lib/python3.10/site-packages/sklearn/metrics/_classification.py:1565: UndefinedMetricWarning: F-score is ill-defined and being set to 0.0 due to no true nor predicted samples. Use `zero_division` parameter to control this behavior.\n",
      "  _warn_prf(average, modifier, f\"{metric.capitalize()} is\", len(result))\n",
      "/scratch/user/akash.pillai.0810/.my_env/lib/python3.10/site-packages/sklearn/metrics/_classification.py:1565: UndefinedMetricWarning: Recall is ill-defined and being set to 0.0 due to no true samples. Use `zero_division` parameter to control this behavior.\n",
      "  _warn_prf(average, modifier, f\"{metric.capitalize()} is\", len(result))\n"
     ]
    },
    {
     "name": "stdout",
     "output_type": "stream",
     "text": [
      "Epoch 90: Train Loss=2.0737, Val Loss=1.5452\n",
      "Mean F1 Score: 0.7702, Mean Accuracy: 0.9545, Mean Precision: 0.8011, Mean Recall: 0.7636\n"
     ]
    },
    {
     "name": "stderr",
     "output_type": "stream",
     "text": [
      "Epoch 91 Training:   0%|          | 0/4 [00:00<?, ?it/s]/tmp/job.14646635/ipykernel_391663/1724129108.py:79: FutureWarning: Series.__getitem__ treating keys as positions is deprecated. In a future version, integer keys will always be treated as labels (consistent with DataFrame behavior). To access a value by position, use `ser.iloc[pos]`\n",
      "  'labels': torch.tensor(label, dtype=torch.float32)\n",
      "Epoch 91 Training: 100%|██████████| 4/4 [00:05<00:00,  1.45s/it, loss=2.2] \n",
      "Epoch 91 Validation: 100%|██████████| 1/1 [00:00<00:00,  2.70it/s, loss=1.57]\n",
      "/scratch/user/akash.pillai.0810/.my_env/lib/python3.10/site-packages/sklearn/metrics/_classification.py:1565: UndefinedMetricWarning: F-score is ill-defined and being set to 0.0 due to no true nor predicted samples. Use `zero_division` parameter to control this behavior.\n",
      "  _warn_prf(average, modifier, f\"{metric.capitalize()} is\", len(result))\n",
      "/scratch/user/akash.pillai.0810/.my_env/lib/python3.10/site-packages/sklearn/metrics/_classification.py:1565: UndefinedMetricWarning: Recall is ill-defined and being set to 0.0 due to no true samples. Use `zero_division` parameter to control this behavior.\n",
      "  _warn_prf(average, modifier, f\"{metric.capitalize()} is\", len(result))\n"
     ]
    },
    {
     "name": "stdout",
     "output_type": "stream",
     "text": [
      "Epoch 91: Train Loss=2.0812, Val Loss=1.5666\n",
      "Mean F1 Score: 0.7486, Mean Accuracy: 0.9489, Mean Precision: 0.8011, Mean Recall: 0.7455\n"
     ]
    },
    {
     "name": "stderr",
     "output_type": "stream",
     "text": [
      "Epoch 92 Training:   0%|          | 0/4 [00:00<?, ?it/s]/tmp/job.14646635/ipykernel_391663/1724129108.py:79: FutureWarning: Series.__getitem__ treating keys as positions is deprecated. In a future version, integer keys will always be treated as labels (consistent with DataFrame behavior). To access a value by position, use `ser.iloc[pos]`\n",
      "  'labels': torch.tensor(label, dtype=torch.float32)\n",
      "Epoch 92 Training: 100%|██████████| 4/4 [00:05<00:00,  1.45s/it, loss=2.31]\n",
      "Epoch 92 Validation: 100%|██████████| 1/1 [00:00<00:00,  2.70it/s, loss=1.59]\n",
      "/scratch/user/akash.pillai.0810/.my_env/lib/python3.10/site-packages/sklearn/metrics/_classification.py:1565: UndefinedMetricWarning: F-score is ill-defined and being set to 0.0 due to no true nor predicted samples. Use `zero_division` parameter to control this behavior.\n",
      "  _warn_prf(average, modifier, f\"{metric.capitalize()} is\", len(result))\n",
      "/scratch/user/akash.pillai.0810/.my_env/lib/python3.10/site-packages/sklearn/metrics/_classification.py:1565: UndefinedMetricWarning: Recall is ill-defined and being set to 0.0 due to no true samples. Use `zero_division` parameter to control this behavior.\n",
      "  _warn_prf(average, modifier, f\"{metric.capitalize()} is\", len(result))\n"
     ]
    },
    {
     "name": "stdout",
     "output_type": "stream",
     "text": [
      "Epoch 92: Train Loss=2.0929, Val Loss=1.5908\n",
      "Mean F1 Score: 0.7486, Mean Accuracy: 0.9489, Mean Precision: 0.8011, Mean Recall: 0.7455\n"
     ]
    },
    {
     "name": "stderr",
     "output_type": "stream",
     "text": [
      "Epoch 93 Training:   0%|          | 0/4 [00:00<?, ?it/s]/tmp/job.14646635/ipykernel_391663/1724129108.py:79: FutureWarning: Series.__getitem__ treating keys as positions is deprecated. In a future version, integer keys will always be treated as labels (consistent with DataFrame behavior). To access a value by position, use `ser.iloc[pos]`\n",
      "  'labels': torch.tensor(label, dtype=torch.float32)\n",
      "Epoch 93 Training: 100%|██████████| 4/4 [00:05<00:00,  1.45s/it, loss=2.37]\n",
      "Epoch 93 Validation: 100%|██████████| 1/1 [00:00<00:00,  2.70it/s, loss=1.53]\n",
      "/scratch/user/akash.pillai.0810/.my_env/lib/python3.10/site-packages/sklearn/metrics/_classification.py:1565: UndefinedMetricWarning: F-score is ill-defined and being set to 0.0 due to no true nor predicted samples. Use `zero_division` parameter to control this behavior.\n",
      "  _warn_prf(average, modifier, f\"{metric.capitalize()} is\", len(result))\n",
      "/scratch/user/akash.pillai.0810/.my_env/lib/python3.10/site-packages/sklearn/metrics/_classification.py:1565: UndefinedMetricWarning: Recall is ill-defined and being set to 0.0 due to no true samples. Use `zero_division` parameter to control this behavior.\n",
      "  _warn_prf(average, modifier, f\"{metric.capitalize()} is\", len(result))\n"
     ]
    },
    {
     "name": "stdout",
     "output_type": "stream",
     "text": [
      "Epoch 93: Train Loss=2.0787, Val Loss=1.5265\n",
      "Mean F1 Score: 0.7702, Mean Accuracy: 0.9545, Mean Precision: 0.8011, Mean Recall: 0.7636\n"
     ]
    },
    {
     "name": "stderr",
     "output_type": "stream",
     "text": [
      "Epoch 94 Training:   0%|          | 0/4 [00:00<?, ?it/s]/tmp/job.14646635/ipykernel_391663/1724129108.py:79: FutureWarning: Series.__getitem__ treating keys as positions is deprecated. In a future version, integer keys will always be treated as labels (consistent with DataFrame behavior). To access a value by position, use `ser.iloc[pos]`\n",
      "  'labels': torch.tensor(label, dtype=torch.float32)\n",
      "Epoch 94 Training: 100%|██████████| 4/4 [00:05<00:00,  1.45s/it, loss=2.24]\n",
      "Epoch 94 Validation: 100%|██████████| 1/1 [00:00<00:00,  2.71it/s, loss=1.56]\n",
      "/scratch/user/akash.pillai.0810/.my_env/lib/python3.10/site-packages/sklearn/metrics/_classification.py:1565: UndefinedMetricWarning: F-score is ill-defined and being set to 0.0 due to no true nor predicted samples. Use `zero_division` parameter to control this behavior.\n",
      "  _warn_prf(average, modifier, f\"{metric.capitalize()} is\", len(result))\n",
      "/scratch/user/akash.pillai.0810/.my_env/lib/python3.10/site-packages/sklearn/metrics/_classification.py:1565: UndefinedMetricWarning: Recall is ill-defined and being set to 0.0 due to no true samples. Use `zero_division` parameter to control this behavior.\n",
      "  _warn_prf(average, modifier, f\"{metric.capitalize()} is\", len(result))\n"
     ]
    },
    {
     "name": "stdout",
     "output_type": "stream",
     "text": [
      "Epoch 94: Train Loss=2.0410, Val Loss=1.5606\n",
      "Mean F1 Score: 0.7486, Mean Accuracy: 0.9489, Mean Precision: 0.8011, Mean Recall: 0.7455\n"
     ]
    },
    {
     "name": "stderr",
     "output_type": "stream",
     "text": [
      "Epoch 95 Training:   0%|          | 0/4 [00:00<?, ?it/s]/tmp/job.14646635/ipykernel_391663/1724129108.py:79: FutureWarning: Series.__getitem__ treating keys as positions is deprecated. In a future version, integer keys will always be treated as labels (consistent with DataFrame behavior). To access a value by position, use `ser.iloc[pos]`\n",
      "  'labels': torch.tensor(label, dtype=torch.float32)\n",
      "Epoch 95 Training: 100%|██████████| 4/4 [00:05<00:00,  1.45s/it, loss=2.41]\n",
      "Epoch 95 Validation: 100%|██████████| 1/1 [00:00<00:00,  2.70it/s, loss=1.52]\n",
      "/scratch/user/akash.pillai.0810/.my_env/lib/python3.10/site-packages/sklearn/metrics/_classification.py:1565: UndefinedMetricWarning: F-score is ill-defined and being set to 0.0 due to no true nor predicted samples. Use `zero_division` parameter to control this behavior.\n",
      "  _warn_prf(average, modifier, f\"{metric.capitalize()} is\", len(result))\n",
      "/scratch/user/akash.pillai.0810/.my_env/lib/python3.10/site-packages/sklearn/metrics/_classification.py:1565: UndefinedMetricWarning: Recall is ill-defined and being set to 0.0 due to no true samples. Use `zero_division` parameter to control this behavior.\n",
      "  _warn_prf(average, modifier, f\"{metric.capitalize()} is\", len(result))\n"
     ]
    },
    {
     "name": "stdout",
     "output_type": "stream",
     "text": [
      "Epoch 95: Train Loss=2.0713, Val Loss=1.5228\n",
      "Mean F1 Score: 0.7702, Mean Accuracy: 0.9545, Mean Precision: 0.8011, Mean Recall: 0.7636\n"
     ]
    },
    {
     "name": "stderr",
     "output_type": "stream",
     "text": [
      "Epoch 96 Training:   0%|          | 0/4 [00:00<?, ?it/s]/tmp/job.14646635/ipykernel_391663/1724129108.py:79: FutureWarning: Series.__getitem__ treating keys as positions is deprecated. In a future version, integer keys will always be treated as labels (consistent with DataFrame behavior). To access a value by position, use `ser.iloc[pos]`\n",
      "  'labels': torch.tensor(label, dtype=torch.float32)\n",
      "Epoch 96 Training: 100%|██████████| 4/4 [00:05<00:00,  1.45s/it, loss=2.68]\n",
      "Epoch 96 Validation: 100%|██████████| 1/1 [00:00<00:00,  2.70it/s, loss=1.57]\n",
      "/scratch/user/akash.pillai.0810/.my_env/lib/python3.10/site-packages/sklearn/metrics/_classification.py:1565: UndefinedMetricWarning: F-score is ill-defined and being set to 0.0 due to no true nor predicted samples. Use `zero_division` parameter to control this behavior.\n",
      "  _warn_prf(average, modifier, f\"{metric.capitalize()} is\", len(result))\n",
      "/scratch/user/akash.pillai.0810/.my_env/lib/python3.10/site-packages/sklearn/metrics/_classification.py:1565: UndefinedMetricWarning: Recall is ill-defined and being set to 0.0 due to no true samples. Use `zero_division` parameter to control this behavior.\n",
      "  _warn_prf(average, modifier, f\"{metric.capitalize()} is\", len(result))\n"
     ]
    },
    {
     "name": "stdout",
     "output_type": "stream",
     "text": [
      "Epoch 96: Train Loss=2.0237, Val Loss=1.5718\n",
      "Mean F1 Score: 0.7486, Mean Accuracy: 0.9489, Mean Precision: 0.8011, Mean Recall: 0.7455\n"
     ]
    },
    {
     "name": "stderr",
     "output_type": "stream",
     "text": [
      "Epoch 97 Training:   0%|          | 0/4 [00:00<?, ?it/s]/tmp/job.14646635/ipykernel_391663/1724129108.py:79: FutureWarning: Series.__getitem__ treating keys as positions is deprecated. In a future version, integer keys will always be treated as labels (consistent with DataFrame behavior). To access a value by position, use `ser.iloc[pos]`\n",
      "  'labels': torch.tensor(label, dtype=torch.float32)\n",
      "Epoch 97 Training: 100%|██████████| 4/4 [00:05<00:00,  1.45s/it, loss=2.09]\n",
      "Epoch 97 Validation: 100%|██████████| 1/1 [00:00<00:00,  2.70it/s, loss=1.59]\n",
      "/scratch/user/akash.pillai.0810/.my_env/lib/python3.10/site-packages/sklearn/metrics/_classification.py:1565: UndefinedMetricWarning: F-score is ill-defined and being set to 0.0 due to no true nor predicted samples. Use `zero_division` parameter to control this behavior.\n",
      "  _warn_prf(average, modifier, f\"{metric.capitalize()} is\", len(result))\n",
      "/scratch/user/akash.pillai.0810/.my_env/lib/python3.10/site-packages/sklearn/metrics/_classification.py:1565: UndefinedMetricWarning: Recall is ill-defined and being set to 0.0 due to no true samples. Use `zero_division` parameter to control this behavior.\n",
      "  _warn_prf(average, modifier, f\"{metric.capitalize()} is\", len(result))\n"
     ]
    },
    {
     "name": "stdout",
     "output_type": "stream",
     "text": [
      "Epoch 97: Train Loss=2.0511, Val Loss=1.5889\n",
      "Mean F1 Score: 0.7486, Mean Accuracy: 0.9489, Mean Precision: 0.8011, Mean Recall: 0.7455\n"
     ]
    },
    {
     "name": "stderr",
     "output_type": "stream",
     "text": [
      "Epoch 98 Training:   0%|          | 0/4 [00:00<?, ?it/s]/tmp/job.14646635/ipykernel_391663/1724129108.py:79: FutureWarning: Series.__getitem__ treating keys as positions is deprecated. In a future version, integer keys will always be treated as labels (consistent with DataFrame behavior). To access a value by position, use `ser.iloc[pos]`\n",
      "  'labels': torch.tensor(label, dtype=torch.float32)\n",
      "Epoch 98 Training: 100%|██████████| 4/4 [00:05<00:00,  1.45s/it, loss=1.69]\n",
      "Epoch 98 Validation: 100%|██████████| 1/1 [00:00<00:00,  2.70it/s, loss=1.56]\n",
      "/scratch/user/akash.pillai.0810/.my_env/lib/python3.10/site-packages/sklearn/metrics/_classification.py:1565: UndefinedMetricWarning: F-score is ill-defined and being set to 0.0 due to no true nor predicted samples. Use `zero_division` parameter to control this behavior.\n",
      "  _warn_prf(average, modifier, f\"{metric.capitalize()} is\", len(result))\n",
      "/scratch/user/akash.pillai.0810/.my_env/lib/python3.10/site-packages/sklearn/metrics/_classification.py:1565: UndefinedMetricWarning: Recall is ill-defined and being set to 0.0 due to no true samples. Use `zero_division` parameter to control this behavior.\n",
      "  _warn_prf(average, modifier, f\"{metric.capitalize()} is\", len(result))\n"
     ]
    },
    {
     "name": "stdout",
     "output_type": "stream",
     "text": [
      "Epoch 98: Train Loss=2.0495, Val Loss=1.5573\n",
      "Mean F1 Score: 0.7702, Mean Accuracy: 0.9545, Mean Precision: 0.8011, Mean Recall: 0.7636\n"
     ]
    },
    {
     "name": "stderr",
     "output_type": "stream",
     "text": [
      "Epoch 99 Training:   0%|          | 0/4 [00:00<?, ?it/s]/tmp/job.14646635/ipykernel_391663/1724129108.py:79: FutureWarning: Series.__getitem__ treating keys as positions is deprecated. In a future version, integer keys will always be treated as labels (consistent with DataFrame behavior). To access a value by position, use `ser.iloc[pos]`\n",
      "  'labels': torch.tensor(label, dtype=torch.float32)\n",
      "Epoch 99 Training: 100%|██████████| 4/4 [00:05<00:00,  1.45s/it, loss=1.99]\n",
      "Epoch 99 Validation: 100%|██████████| 1/1 [00:00<00:00,  2.70it/s, loss=1.58]\n",
      "/scratch/user/akash.pillai.0810/.my_env/lib/python3.10/site-packages/sklearn/metrics/_classification.py:1565: UndefinedMetricWarning: F-score is ill-defined and being set to 0.0 due to no true nor predicted samples. Use `zero_division` parameter to control this behavior.\n",
      "  _warn_prf(average, modifier, f\"{metric.capitalize()} is\", len(result))\n",
      "/scratch/user/akash.pillai.0810/.my_env/lib/python3.10/site-packages/sklearn/metrics/_classification.py:1565: UndefinedMetricWarning: Recall is ill-defined and being set to 0.0 due to no true samples. Use `zero_division` parameter to control this behavior.\n",
      "  _warn_prf(average, modifier, f\"{metric.capitalize()} is\", len(result))\n"
     ]
    },
    {
     "name": "stdout",
     "output_type": "stream",
     "text": [
      "Epoch 99: Train Loss=2.0706, Val Loss=1.5763\n",
      "Mean F1 Score: 0.7702, Mean Accuracy: 0.9545, Mean Precision: 0.8011, Mean Recall: 0.7636\n"
     ]
    },
    {
     "name": "stderr",
     "output_type": "stream",
     "text": [
      "Epoch 100 Training:   0%|          | 0/4 [00:00<?, ?it/s]/tmp/job.14646635/ipykernel_391663/1724129108.py:79: FutureWarning: Series.__getitem__ treating keys as positions is deprecated. In a future version, integer keys will always be treated as labels (consistent with DataFrame behavior). To access a value by position, use `ser.iloc[pos]`\n",
      "  'labels': torch.tensor(label, dtype=torch.float32)\n",
      "Epoch 100 Training: 100%|██████████| 4/4 [00:05<00:00,  1.45s/it, loss=2.69]\n",
      "Epoch 100 Validation: 100%|██████████| 1/1 [00:00<00:00,  2.71it/s, loss=1.58]\n",
      "/scratch/user/akash.pillai.0810/.my_env/lib/python3.10/site-packages/sklearn/metrics/_classification.py:1565: UndefinedMetricWarning: F-score is ill-defined and being set to 0.0 due to no true nor predicted samples. Use `zero_division` parameter to control this behavior.\n",
      "  _warn_prf(average, modifier, f\"{metric.capitalize()} is\", len(result))\n",
      "/scratch/user/akash.pillai.0810/.my_env/lib/python3.10/site-packages/sklearn/metrics/_classification.py:1565: UndefinedMetricWarning: Recall is ill-defined and being set to 0.0 due to no true samples. Use `zero_division` parameter to control this behavior.\n",
      "  _warn_prf(average, modifier, f\"{metric.capitalize()} is\", len(result))\n"
     ]
    },
    {
     "name": "stdout",
     "output_type": "stream",
     "text": [
      "Epoch 100: Train Loss=2.0076, Val Loss=1.5829\n",
      "Mean F1 Score: 0.7702, Mean Accuracy: 0.9545, Mean Precision: 0.8011, Mean Recall: 0.7636\n",
      "Training fold 3...\n"
     ]
    },
    {
     "name": "stderr",
     "output_type": "stream",
     "text": [
      "Epoch 1 Training:   0%|          | 0/4 [00:00<?, ?it/s]/tmp/job.14646635/ipykernel_391663/1724129108.py:79: FutureWarning: Series.__getitem__ treating keys as positions is deprecated. In a future version, integer keys will always be treated as labels (consistent with DataFrame behavior). To access a value by position, use `ser.iloc[pos]`\n",
      "  'labels': torch.tensor(label, dtype=torch.float32)\n",
      "Epoch 1 Training: 100%|██████████| 4/4 [00:05<00:00,  1.43s/it, loss=7.04]\n",
      "Epoch 1 Validation: 100%|██████████| 1/1 [00:00<00:00,  2.21it/s, loss=6.64]\n",
      "/scratch/user/akash.pillai.0810/.my_env/lib/python3.10/site-packages/sklearn/metrics/_classification.py:1565: UndefinedMetricWarning: F-score is ill-defined and being set to 0.0 due to no true nor predicted samples. Use `zero_division` parameter to control this behavior.\n",
      "  _warn_prf(average, modifier, f\"{metric.capitalize()} is\", len(result))\n",
      "/scratch/user/akash.pillai.0810/.my_env/lib/python3.10/site-packages/sklearn/metrics/_classification.py:1565: UndefinedMetricWarning: F-score is ill-defined and being set to 0.0 due to no true nor predicted samples. Use `zero_division` parameter to control this behavior.\n",
      "  _warn_prf(average, modifier, f\"{metric.capitalize()} is\", len(result))\n",
      "/scratch/user/akash.pillai.0810/.my_env/lib/python3.10/site-packages/sklearn/metrics/_classification.py:1565: UndefinedMetricWarning: Recall is ill-defined and being set to 0.0 due to no true samples. Use `zero_division` parameter to control this behavior.\n",
      "  _warn_prf(average, modifier, f\"{metric.capitalize()} is\", len(result))\n",
      "/scratch/user/akash.pillai.0810/.my_env/lib/python3.10/site-packages/sklearn/metrics/_classification.py:1565: UndefinedMetricWarning: Recall is ill-defined and being set to 0.0 due to no true samples. Use `zero_division` parameter to control this behavior.\n",
      "  _warn_prf(average, modifier, f\"{metric.capitalize()} is\", len(result))\n"
     ]
    },
    {
     "name": "stdout",
     "output_type": "stream",
     "text": [
      "Epoch 1: Train Loss=7.4034, Val Loss=6.6429\n",
      "Mean F1 Score: 0.6168, Mean Accuracy: 0.8409, Mean Precision: 0.6932, Mean Recall: 0.6197\n",
      "New best model saved for fold 3 with F1=0.6168\n"
     ]
    },
    {
     "name": "stderr",
     "output_type": "stream",
     "text": [
      "Epoch 2 Training:   0%|          | 0/4 [00:00<?, ?it/s]/tmp/job.14646635/ipykernel_391663/1724129108.py:79: FutureWarning: Series.__getitem__ treating keys as positions is deprecated. In a future version, integer keys will always be treated as labels (consistent with DataFrame behavior). To access a value by position, use `ser.iloc[pos]`\n",
      "  'labels': torch.tensor(label, dtype=torch.float32)\n",
      "Epoch 2 Training: 100%|██████████| 4/4 [00:05<00:00,  1.43s/it, loss=6.26]\n",
      "Epoch 2 Validation: 100%|██████████| 1/1 [00:00<00:00,  2.20it/s, loss=5.76]\n",
      "/scratch/user/akash.pillai.0810/.my_env/lib/python3.10/site-packages/sklearn/metrics/_classification.py:1565: UndefinedMetricWarning: F-score is ill-defined and being set to 0.0 due to no true nor predicted samples. Use `zero_division` parameter to control this behavior.\n",
      "  _warn_prf(average, modifier, f\"{metric.capitalize()} is\", len(result))\n",
      "/scratch/user/akash.pillai.0810/.my_env/lib/python3.10/site-packages/sklearn/metrics/_classification.py:1565: UndefinedMetricWarning: F-score is ill-defined and being set to 0.0 due to no true nor predicted samples. Use `zero_division` parameter to control this behavior.\n",
      "  _warn_prf(average, modifier, f\"{metric.capitalize()} is\", len(result))\n",
      "/scratch/user/akash.pillai.0810/.my_env/lib/python3.10/site-packages/sklearn/metrics/_classification.py:1565: UndefinedMetricWarning: Recall is ill-defined and being set to 0.0 due to no true samples. Use `zero_division` parameter to control this behavior.\n",
      "  _warn_prf(average, modifier, f\"{metric.capitalize()} is\", len(result))\n",
      "/scratch/user/akash.pillai.0810/.my_env/lib/python3.10/site-packages/sklearn/metrics/_classification.py:1565: UndefinedMetricWarning: Recall is ill-defined and being set to 0.0 due to no true samples. Use `zero_division` parameter to control this behavior.\n",
      "  _warn_prf(average, modifier, f\"{metric.capitalize()} is\", len(result))\n"
     ]
    },
    {
     "name": "stdout",
     "output_type": "stream",
     "text": [
      "Epoch 2: Train Loss=6.5605, Val Loss=5.7644\n",
      "Mean F1 Score: 0.7064, Mean Accuracy: 0.9375, Mean Precision: 0.6875, Mean Recall: 0.7273\n",
      "New best model saved for fold 3 with F1=0.7064\n"
     ]
    },
    {
     "name": "stderr",
     "output_type": "stream",
     "text": [
      "Epoch 3 Training:   0%|          | 0/4 [00:00<?, ?it/s]/tmp/job.14646635/ipykernel_391663/1724129108.py:79: FutureWarning: Series.__getitem__ treating keys as positions is deprecated. In a future version, integer keys will always be treated as labels (consistent with DataFrame behavior). To access a value by position, use `ser.iloc[pos]`\n",
      "  'labels': torch.tensor(label, dtype=torch.float32)\n",
      "Epoch 3 Training: 100%|██████████| 4/4 [00:05<00:00,  1.43s/it, loss=5.85]\n",
      "Epoch 3 Validation: 100%|██████████| 1/1 [00:00<00:00,  2.21it/s, loss=5.16]\n",
      "/scratch/user/akash.pillai.0810/.my_env/lib/python3.10/site-packages/sklearn/metrics/_classification.py:1565: UndefinedMetricWarning: F-score is ill-defined and being set to 0.0 due to no true nor predicted samples. Use `zero_division` parameter to control this behavior.\n",
      "  _warn_prf(average, modifier, f\"{metric.capitalize()} is\", len(result))\n",
      "/scratch/user/akash.pillai.0810/.my_env/lib/python3.10/site-packages/sklearn/metrics/_classification.py:1565: UndefinedMetricWarning: F-score is ill-defined and being set to 0.0 due to no true nor predicted samples. Use `zero_division` parameter to control this behavior.\n",
      "  _warn_prf(average, modifier, f\"{metric.capitalize()} is\", len(result))\n",
      "/scratch/user/akash.pillai.0810/.my_env/lib/python3.10/site-packages/sklearn/metrics/_classification.py:1565: UndefinedMetricWarning: Recall is ill-defined and being set to 0.0 due to no true samples. Use `zero_division` parameter to control this behavior.\n",
      "  _warn_prf(average, modifier, f\"{metric.capitalize()} is\", len(result))\n",
      "/scratch/user/akash.pillai.0810/.my_env/lib/python3.10/site-packages/sklearn/metrics/_classification.py:1565: UndefinedMetricWarning: Recall is ill-defined and being set to 0.0 due to no true samples. Use `zero_division` parameter to control this behavior.\n",
      "  _warn_prf(average, modifier, f\"{metric.capitalize()} is\", len(result))\n"
     ]
    },
    {
     "name": "stdout",
     "output_type": "stream",
     "text": [
      "Epoch 3: Train Loss=5.8686, Val Loss=5.1620\n",
      "Mean F1 Score: 0.7064, Mean Accuracy: 0.9375, Mean Precision: 0.6875, Mean Recall: 0.7273\n"
     ]
    },
    {
     "name": "stderr",
     "output_type": "stream",
     "text": [
      "Epoch 4 Training:   0%|          | 0/4 [00:00<?, ?it/s]/tmp/job.14646635/ipykernel_391663/1724129108.py:79: FutureWarning: Series.__getitem__ treating keys as positions is deprecated. In a future version, integer keys will always be treated as labels (consistent with DataFrame behavior). To access a value by position, use `ser.iloc[pos]`\n",
      "  'labels': torch.tensor(label, dtype=torch.float32)\n",
      "Epoch 4 Training: 100%|██████████| 4/4 [00:05<00:00,  1.43s/it, loss=5.02]\n",
      "Epoch 4 Validation: 100%|██████████| 1/1 [00:00<00:00,  2.22it/s, loss=4.67]\n",
      "/scratch/user/akash.pillai.0810/.my_env/lib/python3.10/site-packages/sklearn/metrics/_classification.py:1565: UndefinedMetricWarning: F-score is ill-defined and being set to 0.0 due to no true nor predicted samples. Use `zero_division` parameter to control this behavior.\n",
      "  _warn_prf(average, modifier, f\"{metric.capitalize()} is\", len(result))\n",
      "/scratch/user/akash.pillai.0810/.my_env/lib/python3.10/site-packages/sklearn/metrics/_classification.py:1565: UndefinedMetricWarning: F-score is ill-defined and being set to 0.0 due to no true nor predicted samples. Use `zero_division` parameter to control this behavior.\n",
      "  _warn_prf(average, modifier, f\"{metric.capitalize()} is\", len(result))\n",
      "/scratch/user/akash.pillai.0810/.my_env/lib/python3.10/site-packages/sklearn/metrics/_classification.py:1565: UndefinedMetricWarning: Recall is ill-defined and being set to 0.0 due to no true samples. Use `zero_division` parameter to control this behavior.\n",
      "  _warn_prf(average, modifier, f\"{metric.capitalize()} is\", len(result))\n",
      "/scratch/user/akash.pillai.0810/.my_env/lib/python3.10/site-packages/sklearn/metrics/_classification.py:1565: UndefinedMetricWarning: Recall is ill-defined and being set to 0.0 due to no true samples. Use `zero_division` parameter to control this behavior.\n",
      "  _warn_prf(average, modifier, f\"{metric.capitalize()} is\", len(result))\n"
     ]
    },
    {
     "name": "stdout",
     "output_type": "stream",
     "text": [
      "Epoch 4: Train Loss=5.4196, Val Loss=4.6656\n",
      "Mean F1 Score: 0.7064, Mean Accuracy: 0.9375, Mean Precision: 0.6875, Mean Recall: 0.7273\n"
     ]
    },
    {
     "name": "stderr",
     "output_type": "stream",
     "text": [
      "Epoch 5 Training:   0%|          | 0/4 [00:00<?, ?it/s]/tmp/job.14646635/ipykernel_391663/1724129108.py:79: FutureWarning: Series.__getitem__ treating keys as positions is deprecated. In a future version, integer keys will always be treated as labels (consistent with DataFrame behavior). To access a value by position, use `ser.iloc[pos]`\n",
      "  'labels': torch.tensor(label, dtype=torch.float32)\n",
      "Epoch 5 Training: 100%|██████████| 4/4 [00:05<00:00,  1.43s/it, loss=4.87]\n",
      "Epoch 5 Validation: 100%|██████████| 1/1 [00:00<00:00,  2.22it/s, loss=4.31]\n",
      "/scratch/user/akash.pillai.0810/.my_env/lib/python3.10/site-packages/sklearn/metrics/_classification.py:1565: UndefinedMetricWarning: F-score is ill-defined and being set to 0.0 due to no true nor predicted samples. Use `zero_division` parameter to control this behavior.\n",
      "  _warn_prf(average, modifier, f\"{metric.capitalize()} is\", len(result))\n",
      "/scratch/user/akash.pillai.0810/.my_env/lib/python3.10/site-packages/sklearn/metrics/_classification.py:1565: UndefinedMetricWarning: F-score is ill-defined and being set to 0.0 due to no true nor predicted samples. Use `zero_division` parameter to control this behavior.\n",
      "  _warn_prf(average, modifier, f\"{metric.capitalize()} is\", len(result))\n",
      "/scratch/user/akash.pillai.0810/.my_env/lib/python3.10/site-packages/sklearn/metrics/_classification.py:1565: UndefinedMetricWarning: Recall is ill-defined and being set to 0.0 due to no true samples. Use `zero_division` parameter to control this behavior.\n",
      "  _warn_prf(average, modifier, f\"{metric.capitalize()} is\", len(result))\n",
      "/scratch/user/akash.pillai.0810/.my_env/lib/python3.10/site-packages/sklearn/metrics/_classification.py:1565: UndefinedMetricWarning: Recall is ill-defined and being set to 0.0 due to no true samples. Use `zero_division` parameter to control this behavior.\n",
      "  _warn_prf(average, modifier, f\"{metric.capitalize()} is\", len(result))\n"
     ]
    },
    {
     "name": "stdout",
     "output_type": "stream",
     "text": [
      "Epoch 5: Train Loss=4.9704, Val Loss=4.3064\n",
      "Mean F1 Score: 0.7064, Mean Accuracy: 0.9375, Mean Precision: 0.6875, Mean Recall: 0.7273\n"
     ]
    },
    {
     "name": "stderr",
     "output_type": "stream",
     "text": [
      "Epoch 6 Training:   0%|          | 0/4 [00:00<?, ?it/s]/tmp/job.14646635/ipykernel_391663/1724129108.py:79: FutureWarning: Series.__getitem__ treating keys as positions is deprecated. In a future version, integer keys will always be treated as labels (consistent with DataFrame behavior). To access a value by position, use `ser.iloc[pos]`\n",
      "  'labels': torch.tensor(label, dtype=torch.float32)\n",
      "Epoch 6 Training: 100%|██████████| 4/4 [00:05<00:00,  1.43s/it, loss=4.53]\n",
      "Epoch 6 Validation: 100%|██████████| 1/1 [00:00<00:00,  2.21it/s, loss=4.03]\n",
      "/scratch/user/akash.pillai.0810/.my_env/lib/python3.10/site-packages/sklearn/metrics/_classification.py:1565: UndefinedMetricWarning: F-score is ill-defined and being set to 0.0 due to no true nor predicted samples. Use `zero_division` parameter to control this behavior.\n",
      "  _warn_prf(average, modifier, f\"{metric.capitalize()} is\", len(result))\n",
      "/scratch/user/akash.pillai.0810/.my_env/lib/python3.10/site-packages/sklearn/metrics/_classification.py:1565: UndefinedMetricWarning: F-score is ill-defined and being set to 0.0 due to no true nor predicted samples. Use `zero_division` parameter to control this behavior.\n",
      "  _warn_prf(average, modifier, f\"{metric.capitalize()} is\", len(result))\n",
      "/scratch/user/akash.pillai.0810/.my_env/lib/python3.10/site-packages/sklearn/metrics/_classification.py:1565: UndefinedMetricWarning: Recall is ill-defined and being set to 0.0 due to no true samples. Use `zero_division` parameter to control this behavior.\n",
      "  _warn_prf(average, modifier, f\"{metric.capitalize()} is\", len(result))\n",
      "/scratch/user/akash.pillai.0810/.my_env/lib/python3.10/site-packages/sklearn/metrics/_classification.py:1565: UndefinedMetricWarning: Recall is ill-defined and being set to 0.0 due to no true samples. Use `zero_division` parameter to control this behavior.\n",
      "  _warn_prf(average, modifier, f\"{metric.capitalize()} is\", len(result))\n"
     ]
    },
    {
     "name": "stdout",
     "output_type": "stream",
     "text": [
      "Epoch 6: Train Loss=4.6671, Val Loss=4.0258\n",
      "Mean F1 Score: 0.7064, Mean Accuracy: 0.9375, Mean Precision: 0.6875, Mean Recall: 0.7273\n"
     ]
    },
    {
     "name": "stderr",
     "output_type": "stream",
     "text": [
      "Epoch 7 Training:   0%|          | 0/4 [00:00<?, ?it/s]/tmp/job.14646635/ipykernel_391663/1724129108.py:79: FutureWarning: Series.__getitem__ treating keys as positions is deprecated. In a future version, integer keys will always be treated as labels (consistent with DataFrame behavior). To access a value by position, use `ser.iloc[pos]`\n",
      "  'labels': torch.tensor(label, dtype=torch.float32)\n",
      "Epoch 7 Training: 100%|██████████| 4/4 [00:05<00:00,  1.43s/it, loss=4.33]\n",
      "Epoch 7 Validation: 100%|██████████| 1/1 [00:00<00:00,  2.21it/s, loss=3.78]\n",
      "/scratch/user/akash.pillai.0810/.my_env/lib/python3.10/site-packages/sklearn/metrics/_classification.py:1565: UndefinedMetricWarning: F-score is ill-defined and being set to 0.0 due to no true nor predicted samples. Use `zero_division` parameter to control this behavior.\n",
      "  _warn_prf(average, modifier, f\"{metric.capitalize()} is\", len(result))\n",
      "/scratch/user/akash.pillai.0810/.my_env/lib/python3.10/site-packages/sklearn/metrics/_classification.py:1565: UndefinedMetricWarning: F-score is ill-defined and being set to 0.0 due to no true nor predicted samples. Use `zero_division` parameter to control this behavior.\n",
      "  _warn_prf(average, modifier, f\"{metric.capitalize()} is\", len(result))\n",
      "/scratch/user/akash.pillai.0810/.my_env/lib/python3.10/site-packages/sklearn/metrics/_classification.py:1565: UndefinedMetricWarning: Recall is ill-defined and being set to 0.0 due to no true samples. Use `zero_division` parameter to control this behavior.\n",
      "  _warn_prf(average, modifier, f\"{metric.capitalize()} is\", len(result))\n",
      "/scratch/user/akash.pillai.0810/.my_env/lib/python3.10/site-packages/sklearn/metrics/_classification.py:1565: UndefinedMetricWarning: Recall is ill-defined and being set to 0.0 due to no true samples. Use `zero_division` parameter to control this behavior.\n",
      "  _warn_prf(average, modifier, f\"{metric.capitalize()} is\", len(result))\n"
     ]
    },
    {
     "name": "stdout",
     "output_type": "stream",
     "text": [
      "Epoch 7: Train Loss=4.4443, Val Loss=3.7844\n",
      "Mean F1 Score: 0.7064, Mean Accuracy: 0.9375, Mean Precision: 0.6875, Mean Recall: 0.7273\n"
     ]
    },
    {
     "name": "stderr",
     "output_type": "stream",
     "text": [
      "Epoch 8 Training:   0%|          | 0/4 [00:00<?, ?it/s]/tmp/job.14646635/ipykernel_391663/1724129108.py:79: FutureWarning: Series.__getitem__ treating keys as positions is deprecated. In a future version, integer keys will always be treated as labels (consistent with DataFrame behavior). To access a value by position, use `ser.iloc[pos]`\n",
      "  'labels': torch.tensor(label, dtype=torch.float32)\n",
      "Epoch 8 Training: 100%|██████████| 4/4 [00:05<00:00,  1.43s/it, loss=4.09]\n",
      "Epoch 8 Validation: 100%|██████████| 1/1 [00:00<00:00,  2.21it/s, loss=3.59]\n",
      "/scratch/user/akash.pillai.0810/.my_env/lib/python3.10/site-packages/sklearn/metrics/_classification.py:1565: UndefinedMetricWarning: F-score is ill-defined and being set to 0.0 due to no true nor predicted samples. Use `zero_division` parameter to control this behavior.\n",
      "  _warn_prf(average, modifier, f\"{metric.capitalize()} is\", len(result))\n",
      "/scratch/user/akash.pillai.0810/.my_env/lib/python3.10/site-packages/sklearn/metrics/_classification.py:1565: UndefinedMetricWarning: F-score is ill-defined and being set to 0.0 due to no true nor predicted samples. Use `zero_division` parameter to control this behavior.\n",
      "  _warn_prf(average, modifier, f\"{metric.capitalize()} is\", len(result))\n",
      "/scratch/user/akash.pillai.0810/.my_env/lib/python3.10/site-packages/sklearn/metrics/_classification.py:1565: UndefinedMetricWarning: Recall is ill-defined and being set to 0.0 due to no true samples. Use `zero_division` parameter to control this behavior.\n",
      "  _warn_prf(average, modifier, f\"{metric.capitalize()} is\", len(result))\n",
      "/scratch/user/akash.pillai.0810/.my_env/lib/python3.10/site-packages/sklearn/metrics/_classification.py:1565: UndefinedMetricWarning: Recall is ill-defined and being set to 0.0 due to no true samples. Use `zero_division` parameter to control this behavior.\n",
      "  _warn_prf(average, modifier, f\"{metric.capitalize()} is\", len(result))\n"
     ]
    },
    {
     "name": "stdout",
     "output_type": "stream",
     "text": [
      "Epoch 8: Train Loss=4.2118, Val Loss=3.5893\n",
      "Mean F1 Score: 0.7064, Mean Accuracy: 0.9375, Mean Precision: 0.6875, Mean Recall: 0.7273\n"
     ]
    },
    {
     "name": "stderr",
     "output_type": "stream",
     "text": [
      "Epoch 9 Training:   0%|          | 0/4 [00:00<?, ?it/s]/tmp/job.14646635/ipykernel_391663/1724129108.py:79: FutureWarning: Series.__getitem__ treating keys as positions is deprecated. In a future version, integer keys will always be treated as labels (consistent with DataFrame behavior). To access a value by position, use `ser.iloc[pos]`\n",
      "  'labels': torch.tensor(label, dtype=torch.float32)\n",
      "Epoch 9 Training: 100%|██████████| 4/4 [00:05<00:00,  1.43s/it, loss=3.74]\n",
      "Epoch 9 Validation: 100%|██████████| 1/1 [00:00<00:00,  2.21it/s, loss=3.42]\n",
      "/scratch/user/akash.pillai.0810/.my_env/lib/python3.10/site-packages/sklearn/metrics/_classification.py:1565: UndefinedMetricWarning: F-score is ill-defined and being set to 0.0 due to no true nor predicted samples. Use `zero_division` parameter to control this behavior.\n",
      "  _warn_prf(average, modifier, f\"{metric.capitalize()} is\", len(result))\n",
      "/scratch/user/akash.pillai.0810/.my_env/lib/python3.10/site-packages/sklearn/metrics/_classification.py:1565: UndefinedMetricWarning: F-score is ill-defined and being set to 0.0 due to no true nor predicted samples. Use `zero_division` parameter to control this behavior.\n",
      "  _warn_prf(average, modifier, f\"{metric.capitalize()} is\", len(result))\n",
      "/scratch/user/akash.pillai.0810/.my_env/lib/python3.10/site-packages/sklearn/metrics/_classification.py:1565: UndefinedMetricWarning: Recall is ill-defined and being set to 0.0 due to no true samples. Use `zero_division` parameter to control this behavior.\n",
      "  _warn_prf(average, modifier, f\"{metric.capitalize()} is\", len(result))\n",
      "/scratch/user/akash.pillai.0810/.my_env/lib/python3.10/site-packages/sklearn/metrics/_classification.py:1565: UndefinedMetricWarning: Recall is ill-defined and being set to 0.0 due to no true samples. Use `zero_division` parameter to control this behavior.\n",
      "  _warn_prf(average, modifier, f\"{metric.capitalize()} is\", len(result))\n"
     ]
    },
    {
     "name": "stdout",
     "output_type": "stream",
     "text": [
      "Epoch 9: Train Loss=4.0432, Val Loss=3.4190\n",
      "Mean F1 Score: 0.7064, Mean Accuracy: 0.9375, Mean Precision: 0.6875, Mean Recall: 0.7273\n"
     ]
    },
    {
     "name": "stderr",
     "output_type": "stream",
     "text": [
      "Epoch 10 Training:   0%|          | 0/4 [00:00<?, ?it/s]/tmp/job.14646635/ipykernel_391663/1724129108.py:79: FutureWarning: Series.__getitem__ treating keys as positions is deprecated. In a future version, integer keys will always be treated as labels (consistent with DataFrame behavior). To access a value by position, use `ser.iloc[pos]`\n",
      "  'labels': torch.tensor(label, dtype=torch.float32)\n",
      "Epoch 10 Training: 100%|██████████| 4/4 [00:05<00:00,  1.43s/it, loss=3.85]\n",
      "Epoch 10 Validation: 100%|██████████| 1/1 [00:00<00:00,  2.21it/s, loss=3.27]\n",
      "/scratch/user/akash.pillai.0810/.my_env/lib/python3.10/site-packages/sklearn/metrics/_classification.py:1565: UndefinedMetricWarning: F-score is ill-defined and being set to 0.0 due to no true nor predicted samples. Use `zero_division` parameter to control this behavior.\n",
      "  _warn_prf(average, modifier, f\"{metric.capitalize()} is\", len(result))\n",
      "/scratch/user/akash.pillai.0810/.my_env/lib/python3.10/site-packages/sklearn/metrics/_classification.py:1565: UndefinedMetricWarning: F-score is ill-defined and being set to 0.0 due to no true nor predicted samples. Use `zero_division` parameter to control this behavior.\n",
      "  _warn_prf(average, modifier, f\"{metric.capitalize()} is\", len(result))\n",
      "/scratch/user/akash.pillai.0810/.my_env/lib/python3.10/site-packages/sklearn/metrics/_classification.py:1565: UndefinedMetricWarning: Recall is ill-defined and being set to 0.0 due to no true samples. Use `zero_division` parameter to control this behavior.\n",
      "  _warn_prf(average, modifier, f\"{metric.capitalize()} is\", len(result))\n",
      "/scratch/user/akash.pillai.0810/.my_env/lib/python3.10/site-packages/sklearn/metrics/_classification.py:1565: UndefinedMetricWarning: Recall is ill-defined and being set to 0.0 due to no true samples. Use `zero_division` parameter to control this behavior.\n",
      "  _warn_prf(average, modifier, f\"{metric.capitalize()} is\", len(result))\n"
     ]
    },
    {
     "name": "stdout",
     "output_type": "stream",
     "text": [
      "Epoch 10: Train Loss=3.8254, Val Loss=3.2677\n",
      "Mean F1 Score: 0.7064, Mean Accuracy: 0.9375, Mean Precision: 0.6875, Mean Recall: 0.7273\n"
     ]
    },
    {
     "name": "stderr",
     "output_type": "stream",
     "text": [
      "Epoch 11 Training:   0%|          | 0/4 [00:00<?, ?it/s]/tmp/job.14646635/ipykernel_391663/1724129108.py:79: FutureWarning: Series.__getitem__ treating keys as positions is deprecated. In a future version, integer keys will always be treated as labels (consistent with DataFrame behavior). To access a value by position, use `ser.iloc[pos]`\n",
      "  'labels': torch.tensor(label, dtype=torch.float32)\n",
      "Epoch 11 Training: 100%|██████████| 4/4 [00:05<00:00,  1.43s/it, loss=3.85]\n",
      "Epoch 11 Validation: 100%|██████████| 1/1 [00:00<00:00,  2.21it/s, loss=3.13]\n",
      "/scratch/user/akash.pillai.0810/.my_env/lib/python3.10/site-packages/sklearn/metrics/_classification.py:1565: UndefinedMetricWarning: F-score is ill-defined and being set to 0.0 due to no true nor predicted samples. Use `zero_division` parameter to control this behavior.\n",
      "  _warn_prf(average, modifier, f\"{metric.capitalize()} is\", len(result))\n",
      "/scratch/user/akash.pillai.0810/.my_env/lib/python3.10/site-packages/sklearn/metrics/_classification.py:1565: UndefinedMetricWarning: F-score is ill-defined and being set to 0.0 due to no true nor predicted samples. Use `zero_division` parameter to control this behavior.\n",
      "  _warn_prf(average, modifier, f\"{metric.capitalize()} is\", len(result))\n",
      "/scratch/user/akash.pillai.0810/.my_env/lib/python3.10/site-packages/sklearn/metrics/_classification.py:1565: UndefinedMetricWarning: Recall is ill-defined and being set to 0.0 due to no true samples. Use `zero_division` parameter to control this behavior.\n",
      "  _warn_prf(average, modifier, f\"{metric.capitalize()} is\", len(result))\n",
      "/scratch/user/akash.pillai.0810/.my_env/lib/python3.10/site-packages/sklearn/metrics/_classification.py:1565: UndefinedMetricWarning: Recall is ill-defined and being set to 0.0 due to no true samples. Use `zero_division` parameter to control this behavior.\n",
      "  _warn_prf(average, modifier, f\"{metric.capitalize()} is\", len(result))\n"
     ]
    },
    {
     "name": "stdout",
     "output_type": "stream",
     "text": [
      "Epoch 11: Train Loss=3.7127, Val Loss=3.1303\n",
      "Mean F1 Score: 0.7064, Mean Accuracy: 0.9375, Mean Precision: 0.6875, Mean Recall: 0.7273\n"
     ]
    },
    {
     "name": "stderr",
     "output_type": "stream",
     "text": [
      "Epoch 12 Training:   0%|          | 0/4 [00:00<?, ?it/s]/tmp/job.14646635/ipykernel_391663/1724129108.py:79: FutureWarning: Series.__getitem__ treating keys as positions is deprecated. In a future version, integer keys will always be treated as labels (consistent with DataFrame behavior). To access a value by position, use `ser.iloc[pos]`\n",
      "  'labels': torch.tensor(label, dtype=torch.float32)\n",
      "Epoch 12 Training: 100%|██████████| 4/4 [00:05<00:00,  1.43s/it, loss=4.18]\n",
      "Epoch 12 Validation: 100%|██████████| 1/1 [00:00<00:00,  2.21it/s, loss=3.04]\n",
      "/scratch/user/akash.pillai.0810/.my_env/lib/python3.10/site-packages/sklearn/metrics/_classification.py:1565: UndefinedMetricWarning: F-score is ill-defined and being set to 0.0 due to no true nor predicted samples. Use `zero_division` parameter to control this behavior.\n",
      "  _warn_prf(average, modifier, f\"{metric.capitalize()} is\", len(result))\n",
      "/scratch/user/akash.pillai.0810/.my_env/lib/python3.10/site-packages/sklearn/metrics/_classification.py:1565: UndefinedMetricWarning: F-score is ill-defined and being set to 0.0 due to no true nor predicted samples. Use `zero_division` parameter to control this behavior.\n",
      "  _warn_prf(average, modifier, f\"{metric.capitalize()} is\", len(result))\n",
      "/scratch/user/akash.pillai.0810/.my_env/lib/python3.10/site-packages/sklearn/metrics/_classification.py:1565: UndefinedMetricWarning: Recall is ill-defined and being set to 0.0 due to no true samples. Use `zero_division` parameter to control this behavior.\n",
      "  _warn_prf(average, modifier, f\"{metric.capitalize()} is\", len(result))\n",
      "/scratch/user/akash.pillai.0810/.my_env/lib/python3.10/site-packages/sklearn/metrics/_classification.py:1565: UndefinedMetricWarning: Recall is ill-defined and being set to 0.0 due to no true samples. Use `zero_division` parameter to control this behavior.\n",
      "  _warn_prf(average, modifier, f\"{metric.capitalize()} is\", len(result))\n"
     ]
    },
    {
     "name": "stdout",
     "output_type": "stream",
     "text": [
      "Epoch 12: Train Loss=3.6067, Val Loss=3.0410\n",
      "Mean F1 Score: 0.7064, Mean Accuracy: 0.9375, Mean Precision: 0.6875, Mean Recall: 0.7273\n"
     ]
    },
    {
     "name": "stderr",
     "output_type": "stream",
     "text": [
      "Epoch 13 Training:   0%|          | 0/4 [00:00<?, ?it/s]/tmp/job.14646635/ipykernel_391663/1724129108.py:79: FutureWarning: Series.__getitem__ treating keys as positions is deprecated. In a future version, integer keys will always be treated as labels (consistent with DataFrame behavior). To access a value by position, use `ser.iloc[pos]`\n",
      "  'labels': torch.tensor(label, dtype=torch.float32)\n",
      "Epoch 13 Training: 100%|██████████| 4/4 [00:05<00:00,  1.43s/it, loss=3.3] \n",
      "Epoch 13 Validation: 100%|██████████| 1/1 [00:00<00:00,  2.21it/s, loss=2.93]\n",
      "/scratch/user/akash.pillai.0810/.my_env/lib/python3.10/site-packages/sklearn/metrics/_classification.py:1565: UndefinedMetricWarning: F-score is ill-defined and being set to 0.0 due to no true nor predicted samples. Use `zero_division` parameter to control this behavior.\n",
      "  _warn_prf(average, modifier, f\"{metric.capitalize()} is\", len(result))\n",
      "/scratch/user/akash.pillai.0810/.my_env/lib/python3.10/site-packages/sklearn/metrics/_classification.py:1565: UndefinedMetricWarning: F-score is ill-defined and being set to 0.0 due to no true nor predicted samples. Use `zero_division` parameter to control this behavior.\n",
      "  _warn_prf(average, modifier, f\"{metric.capitalize()} is\", len(result))\n",
      "/scratch/user/akash.pillai.0810/.my_env/lib/python3.10/site-packages/sklearn/metrics/_classification.py:1565: UndefinedMetricWarning: Recall is ill-defined and being set to 0.0 due to no true samples. Use `zero_division` parameter to control this behavior.\n",
      "  _warn_prf(average, modifier, f\"{metric.capitalize()} is\", len(result))\n",
      "/scratch/user/akash.pillai.0810/.my_env/lib/python3.10/site-packages/sklearn/metrics/_classification.py:1565: UndefinedMetricWarning: Recall is ill-defined and being set to 0.0 due to no true samples. Use `zero_division` parameter to control this behavior.\n",
      "  _warn_prf(average, modifier, f\"{metric.capitalize()} is\", len(result))\n"
     ]
    },
    {
     "name": "stdout",
     "output_type": "stream",
     "text": [
      "Epoch 13: Train Loss=3.5048, Val Loss=2.9321\n",
      "Mean F1 Score: 0.7064, Mean Accuracy: 0.9375, Mean Precision: 0.6875, Mean Recall: 0.7273\n"
     ]
    },
    {
     "name": "stderr",
     "output_type": "stream",
     "text": [
      "Epoch 14 Training:   0%|          | 0/4 [00:00<?, ?it/s]/tmp/job.14646635/ipykernel_391663/1724129108.py:79: FutureWarning: Series.__getitem__ treating keys as positions is deprecated. In a future version, integer keys will always be treated as labels (consistent with DataFrame behavior). To access a value by position, use `ser.iloc[pos]`\n",
      "  'labels': torch.tensor(label, dtype=torch.float32)\n",
      "Epoch 14 Training: 100%|██████████| 4/4 [00:05<00:00,  1.43s/it, loss=2.51]\n",
      "Epoch 14 Validation: 100%|██████████| 1/1 [00:00<00:00,  2.21it/s, loss=2.84]\n",
      "/scratch/user/akash.pillai.0810/.my_env/lib/python3.10/site-packages/sklearn/metrics/_classification.py:1565: UndefinedMetricWarning: F-score is ill-defined and being set to 0.0 due to no true nor predicted samples. Use `zero_division` parameter to control this behavior.\n",
      "  _warn_prf(average, modifier, f\"{metric.capitalize()} is\", len(result))\n",
      "/scratch/user/akash.pillai.0810/.my_env/lib/python3.10/site-packages/sklearn/metrics/_classification.py:1565: UndefinedMetricWarning: F-score is ill-defined and being set to 0.0 due to no true nor predicted samples. Use `zero_division` parameter to control this behavior.\n",
      "  _warn_prf(average, modifier, f\"{metric.capitalize()} is\", len(result))\n",
      "/scratch/user/akash.pillai.0810/.my_env/lib/python3.10/site-packages/sklearn/metrics/_classification.py:1565: UndefinedMetricWarning: Recall is ill-defined and being set to 0.0 due to no true samples. Use `zero_division` parameter to control this behavior.\n",
      "  _warn_prf(average, modifier, f\"{metric.capitalize()} is\", len(result))\n",
      "/scratch/user/akash.pillai.0810/.my_env/lib/python3.10/site-packages/sklearn/metrics/_classification.py:1565: UndefinedMetricWarning: Recall is ill-defined and being set to 0.0 due to no true samples. Use `zero_division` parameter to control this behavior.\n",
      "  _warn_prf(average, modifier, f\"{metric.capitalize()} is\", len(result))\n"
     ]
    },
    {
     "name": "stdout",
     "output_type": "stream",
     "text": [
      "Epoch 14: Train Loss=3.4145, Val Loss=2.8420\n",
      "Mean F1 Score: 0.7064, Mean Accuracy: 0.9375, Mean Precision: 0.6875, Mean Recall: 0.7273\n"
     ]
    },
    {
     "name": "stderr",
     "output_type": "stream",
     "text": [
      "Epoch 15 Training:   0%|          | 0/4 [00:00<?, ?it/s]/tmp/job.14646635/ipykernel_391663/1724129108.py:79: FutureWarning: Series.__getitem__ treating keys as positions is deprecated. In a future version, integer keys will always be treated as labels (consistent with DataFrame behavior). To access a value by position, use `ser.iloc[pos]`\n",
      "  'labels': torch.tensor(label, dtype=torch.float32)\n",
      "Epoch 15 Training: 100%|██████████| 4/4 [00:05<00:00,  1.43s/it, loss=3.15]\n",
      "Epoch 15 Validation: 100%|██████████| 1/1 [00:00<00:00,  2.22it/s, loss=2.78]\n",
      "/scratch/user/akash.pillai.0810/.my_env/lib/python3.10/site-packages/sklearn/metrics/_classification.py:1565: UndefinedMetricWarning: F-score is ill-defined and being set to 0.0 due to no true nor predicted samples. Use `zero_division` parameter to control this behavior.\n",
      "  _warn_prf(average, modifier, f\"{metric.capitalize()} is\", len(result))\n",
      "/scratch/user/akash.pillai.0810/.my_env/lib/python3.10/site-packages/sklearn/metrics/_classification.py:1565: UndefinedMetricWarning: F-score is ill-defined and being set to 0.0 due to no true nor predicted samples. Use `zero_division` parameter to control this behavior.\n",
      "  _warn_prf(average, modifier, f\"{metric.capitalize()} is\", len(result))\n",
      "/scratch/user/akash.pillai.0810/.my_env/lib/python3.10/site-packages/sklearn/metrics/_classification.py:1565: UndefinedMetricWarning: Recall is ill-defined and being set to 0.0 due to no true samples. Use `zero_division` parameter to control this behavior.\n",
      "  _warn_prf(average, modifier, f\"{metric.capitalize()} is\", len(result))\n",
      "/scratch/user/akash.pillai.0810/.my_env/lib/python3.10/site-packages/sklearn/metrics/_classification.py:1565: UndefinedMetricWarning: Recall is ill-defined and being set to 0.0 due to no true samples. Use `zero_division` parameter to control this behavior.\n",
      "  _warn_prf(average, modifier, f\"{metric.capitalize()} is\", len(result))\n"
     ]
    },
    {
     "name": "stdout",
     "output_type": "stream",
     "text": [
      "Epoch 15: Train Loss=3.3026, Val Loss=2.7800\n",
      "Mean F1 Score: 0.7064, Mean Accuracy: 0.9375, Mean Precision: 0.6875, Mean Recall: 0.7273\n"
     ]
    },
    {
     "name": "stderr",
     "output_type": "stream",
     "text": [
      "Epoch 16 Training:   0%|          | 0/4 [00:00<?, ?it/s]/tmp/job.14646635/ipykernel_391663/1724129108.py:79: FutureWarning: Series.__getitem__ treating keys as positions is deprecated. In a future version, integer keys will always be treated as labels (consistent with DataFrame behavior). To access a value by position, use `ser.iloc[pos]`\n",
      "  'labels': torch.tensor(label, dtype=torch.float32)\n",
      "Epoch 16 Training: 100%|██████████| 4/4 [00:05<00:00,  1.43s/it, loss=3.44]\n",
      "Epoch 16 Validation: 100%|██████████| 1/1 [00:00<00:00,  2.22it/s, loss=2.68]\n",
      "/scratch/user/akash.pillai.0810/.my_env/lib/python3.10/site-packages/sklearn/metrics/_classification.py:1565: UndefinedMetricWarning: F-score is ill-defined and being set to 0.0 due to no true nor predicted samples. Use `zero_division` parameter to control this behavior.\n",
      "  _warn_prf(average, modifier, f\"{metric.capitalize()} is\", len(result))\n",
      "/scratch/user/akash.pillai.0810/.my_env/lib/python3.10/site-packages/sklearn/metrics/_classification.py:1565: UndefinedMetricWarning: F-score is ill-defined and being set to 0.0 due to no true nor predicted samples. Use `zero_division` parameter to control this behavior.\n",
      "  _warn_prf(average, modifier, f\"{metric.capitalize()} is\", len(result))\n",
      "/scratch/user/akash.pillai.0810/.my_env/lib/python3.10/site-packages/sklearn/metrics/_classification.py:1565: UndefinedMetricWarning: Recall is ill-defined and being set to 0.0 due to no true samples. Use `zero_division` parameter to control this behavior.\n",
      "  _warn_prf(average, modifier, f\"{metric.capitalize()} is\", len(result))\n",
      "/scratch/user/akash.pillai.0810/.my_env/lib/python3.10/site-packages/sklearn/metrics/_classification.py:1565: UndefinedMetricWarning: Recall is ill-defined and being set to 0.0 due to no true samples. Use `zero_division` parameter to control this behavior.\n",
      "  _warn_prf(average, modifier, f\"{metric.capitalize()} is\", len(result))\n"
     ]
    },
    {
     "name": "stdout",
     "output_type": "stream",
     "text": [
      "Epoch 16: Train Loss=3.2740, Val Loss=2.6846\n",
      "Mean F1 Score: 0.7670, Mean Accuracy: 0.9489, Mean Precision: 0.7784, Mean Recall: 0.7727\n",
      "New best model saved for fold 3 with F1=0.7670\n"
     ]
    },
    {
     "name": "stderr",
     "output_type": "stream",
     "text": [
      "Epoch 17 Training:   0%|          | 0/4 [00:00<?, ?it/s]/tmp/job.14646635/ipykernel_391663/1724129108.py:79: FutureWarning: Series.__getitem__ treating keys as positions is deprecated. In a future version, integer keys will always be treated as labels (consistent with DataFrame behavior). To access a value by position, use `ser.iloc[pos]`\n",
      "  'labels': torch.tensor(label, dtype=torch.float32)\n",
      "Epoch 17 Training: 100%|██████████| 4/4 [00:05<00:00,  1.43s/it, loss=3.12]\n",
      "Epoch 17 Validation: 100%|██████████| 1/1 [00:00<00:00,  2.21it/s, loss=2.64]\n",
      "/scratch/user/akash.pillai.0810/.my_env/lib/python3.10/site-packages/sklearn/metrics/_classification.py:1565: UndefinedMetricWarning: F-score is ill-defined and being set to 0.0 due to no true nor predicted samples. Use `zero_division` parameter to control this behavior.\n",
      "  _warn_prf(average, modifier, f\"{metric.capitalize()} is\", len(result))\n",
      "/scratch/user/akash.pillai.0810/.my_env/lib/python3.10/site-packages/sklearn/metrics/_classification.py:1565: UndefinedMetricWarning: F-score is ill-defined and being set to 0.0 due to no true nor predicted samples. Use `zero_division` parameter to control this behavior.\n",
      "  _warn_prf(average, modifier, f\"{metric.capitalize()} is\", len(result))\n",
      "/scratch/user/akash.pillai.0810/.my_env/lib/python3.10/site-packages/sklearn/metrics/_classification.py:1565: UndefinedMetricWarning: Recall is ill-defined and being set to 0.0 due to no true samples. Use `zero_division` parameter to control this behavior.\n",
      "  _warn_prf(average, modifier, f\"{metric.capitalize()} is\", len(result))\n",
      "/scratch/user/akash.pillai.0810/.my_env/lib/python3.10/site-packages/sklearn/metrics/_classification.py:1565: UndefinedMetricWarning: Recall is ill-defined and being set to 0.0 due to no true samples. Use `zero_division` parameter to control this behavior.\n",
      "  _warn_prf(average, modifier, f\"{metric.capitalize()} is\", len(result))\n"
     ]
    },
    {
     "name": "stdout",
     "output_type": "stream",
     "text": [
      "Epoch 17: Train Loss=3.1414, Val Loss=2.6382\n",
      "Mean F1 Score: 0.7064, Mean Accuracy: 0.9375, Mean Precision: 0.6875, Mean Recall: 0.7273\n"
     ]
    },
    {
     "name": "stderr",
     "output_type": "stream",
     "text": [
      "Epoch 18 Training:   0%|          | 0/4 [00:00<?, ?it/s]/tmp/job.14646635/ipykernel_391663/1724129108.py:79: FutureWarning: Series.__getitem__ treating keys as positions is deprecated. In a future version, integer keys will always be treated as labels (consistent with DataFrame behavior). To access a value by position, use `ser.iloc[pos]`\n",
      "  'labels': torch.tensor(label, dtype=torch.float32)\n",
      "Epoch 18 Training: 100%|██████████| 4/4 [00:05<00:00,  1.43s/it, loss=2.53]\n",
      "Epoch 18 Validation: 100%|██████████| 1/1 [00:00<00:00,  2.22it/s, loss=2.59]\n",
      "/scratch/user/akash.pillai.0810/.my_env/lib/python3.10/site-packages/sklearn/metrics/_classification.py:1565: UndefinedMetricWarning: F-score is ill-defined and being set to 0.0 due to no true nor predicted samples. Use `zero_division` parameter to control this behavior.\n",
      "  _warn_prf(average, modifier, f\"{metric.capitalize()} is\", len(result))\n",
      "/scratch/user/akash.pillai.0810/.my_env/lib/python3.10/site-packages/sklearn/metrics/_classification.py:1565: UndefinedMetricWarning: F-score is ill-defined and being set to 0.0 due to no true nor predicted samples. Use `zero_division` parameter to control this behavior.\n",
      "  _warn_prf(average, modifier, f\"{metric.capitalize()} is\", len(result))\n",
      "/scratch/user/akash.pillai.0810/.my_env/lib/python3.10/site-packages/sklearn/metrics/_classification.py:1565: UndefinedMetricWarning: Recall is ill-defined and being set to 0.0 due to no true samples. Use `zero_division` parameter to control this behavior.\n",
      "  _warn_prf(average, modifier, f\"{metric.capitalize()} is\", len(result))\n",
      "/scratch/user/akash.pillai.0810/.my_env/lib/python3.10/site-packages/sklearn/metrics/_classification.py:1565: UndefinedMetricWarning: Recall is ill-defined and being set to 0.0 due to no true samples. Use `zero_division` parameter to control this behavior.\n",
      "  _warn_prf(average, modifier, f\"{metric.capitalize()} is\", len(result))\n"
     ]
    },
    {
     "name": "stdout",
     "output_type": "stream",
     "text": [
      "Epoch 18: Train Loss=3.0873, Val Loss=2.5918\n",
      "Mean F1 Score: 0.7064, Mean Accuracy: 0.9375, Mean Precision: 0.6875, Mean Recall: 0.7273\n"
     ]
    },
    {
     "name": "stderr",
     "output_type": "stream",
     "text": [
      "Epoch 19 Training:   0%|          | 0/4 [00:00<?, ?it/s]/tmp/job.14646635/ipykernel_391663/1724129108.py:79: FutureWarning: Series.__getitem__ treating keys as positions is deprecated. In a future version, integer keys will always be treated as labels (consistent with DataFrame behavior). To access a value by position, use `ser.iloc[pos]`\n",
      "  'labels': torch.tensor(label, dtype=torch.float32)\n",
      "Epoch 19 Training: 100%|██████████| 4/4 [00:05<00:00,  1.43s/it, loss=2.73]\n",
      "Epoch 19 Validation: 100%|██████████| 1/1 [00:00<00:00,  2.21it/s, loss=2.54]\n",
      "/scratch/user/akash.pillai.0810/.my_env/lib/python3.10/site-packages/sklearn/metrics/_classification.py:1565: UndefinedMetricWarning: F-score is ill-defined and being set to 0.0 due to no true nor predicted samples. Use `zero_division` parameter to control this behavior.\n",
      "  _warn_prf(average, modifier, f\"{metric.capitalize()} is\", len(result))\n",
      "/scratch/user/akash.pillai.0810/.my_env/lib/python3.10/site-packages/sklearn/metrics/_classification.py:1565: UndefinedMetricWarning: F-score is ill-defined and being set to 0.0 due to no true nor predicted samples. Use `zero_division` parameter to control this behavior.\n",
      "  _warn_prf(average, modifier, f\"{metric.capitalize()} is\", len(result))\n",
      "/scratch/user/akash.pillai.0810/.my_env/lib/python3.10/site-packages/sklearn/metrics/_classification.py:1565: UndefinedMetricWarning: Recall is ill-defined and being set to 0.0 due to no true samples. Use `zero_division` parameter to control this behavior.\n",
      "  _warn_prf(average, modifier, f\"{metric.capitalize()} is\", len(result))\n",
      "/scratch/user/akash.pillai.0810/.my_env/lib/python3.10/site-packages/sklearn/metrics/_classification.py:1565: UndefinedMetricWarning: Recall is ill-defined and being set to 0.0 due to no true samples. Use `zero_division` parameter to control this behavior.\n",
      "  _warn_prf(average, modifier, f\"{metric.capitalize()} is\", len(result))\n"
     ]
    },
    {
     "name": "stdout",
     "output_type": "stream",
     "text": [
      "Epoch 19: Train Loss=3.0295, Val Loss=2.5443\n",
      "Mean F1 Score: 0.7064, Mean Accuracy: 0.9375, Mean Precision: 0.6875, Mean Recall: 0.7273\n"
     ]
    },
    {
     "name": "stderr",
     "output_type": "stream",
     "text": [
      "Epoch 20 Training:   0%|          | 0/4 [00:00<?, ?it/s]/tmp/job.14646635/ipykernel_391663/1724129108.py:79: FutureWarning: Series.__getitem__ treating keys as positions is deprecated. In a future version, integer keys will always be treated as labels (consistent with DataFrame behavior). To access a value by position, use `ser.iloc[pos]`\n",
      "  'labels': torch.tensor(label, dtype=torch.float32)\n",
      "Epoch 20 Training: 100%|██████████| 4/4 [00:05<00:00,  1.43s/it, loss=3.14]\n",
      "Epoch 20 Validation: 100%|██████████| 1/1 [00:00<00:00,  2.22it/s, loss=2.49]\n",
      "/scratch/user/akash.pillai.0810/.my_env/lib/python3.10/site-packages/sklearn/metrics/_classification.py:1565: UndefinedMetricWarning: F-score is ill-defined and being set to 0.0 due to no true nor predicted samples. Use `zero_division` parameter to control this behavior.\n",
      "  _warn_prf(average, modifier, f\"{metric.capitalize()} is\", len(result))\n",
      "/scratch/user/akash.pillai.0810/.my_env/lib/python3.10/site-packages/sklearn/metrics/_classification.py:1565: UndefinedMetricWarning: F-score is ill-defined and being set to 0.0 due to no true nor predicted samples. Use `zero_division` parameter to control this behavior.\n",
      "  _warn_prf(average, modifier, f\"{metric.capitalize()} is\", len(result))\n",
      "/scratch/user/akash.pillai.0810/.my_env/lib/python3.10/site-packages/sklearn/metrics/_classification.py:1565: UndefinedMetricWarning: Recall is ill-defined and being set to 0.0 due to no true samples. Use `zero_division` parameter to control this behavior.\n",
      "  _warn_prf(average, modifier, f\"{metric.capitalize()} is\", len(result))\n",
      "/scratch/user/akash.pillai.0810/.my_env/lib/python3.10/site-packages/sklearn/metrics/_classification.py:1565: UndefinedMetricWarning: Recall is ill-defined and being set to 0.0 due to no true samples. Use `zero_division` parameter to control this behavior.\n",
      "  _warn_prf(average, modifier, f\"{metric.capitalize()} is\", len(result))\n"
     ]
    },
    {
     "name": "stdout",
     "output_type": "stream",
     "text": [
      "Epoch 20: Train Loss=2.9809, Val Loss=2.4942\n",
      "Mean F1 Score: 0.7064, Mean Accuracy: 0.9375, Mean Precision: 0.6875, Mean Recall: 0.7273\n"
     ]
    },
    {
     "name": "stderr",
     "output_type": "stream",
     "text": [
      "Epoch 21 Training:   0%|          | 0/4 [00:00<?, ?it/s]/tmp/job.14646635/ipykernel_391663/1724129108.py:79: FutureWarning: Series.__getitem__ treating keys as positions is deprecated. In a future version, integer keys will always be treated as labels (consistent with DataFrame behavior). To access a value by position, use `ser.iloc[pos]`\n",
      "  'labels': torch.tensor(label, dtype=torch.float32)\n",
      "Epoch 21 Training: 100%|██████████| 4/4 [00:05<00:00,  1.43s/it, loss=3.22]\n",
      "Epoch 21 Validation: 100%|██████████| 1/1 [00:00<00:00,  2.21it/s, loss=2.44]\n",
      "/scratch/user/akash.pillai.0810/.my_env/lib/python3.10/site-packages/sklearn/metrics/_classification.py:1565: UndefinedMetricWarning: F-score is ill-defined and being set to 0.0 due to no true nor predicted samples. Use `zero_division` parameter to control this behavior.\n",
      "  _warn_prf(average, modifier, f\"{metric.capitalize()} is\", len(result))\n",
      "/scratch/user/akash.pillai.0810/.my_env/lib/python3.10/site-packages/sklearn/metrics/_classification.py:1565: UndefinedMetricWarning: F-score is ill-defined and being set to 0.0 due to no true nor predicted samples. Use `zero_division` parameter to control this behavior.\n",
      "  _warn_prf(average, modifier, f\"{metric.capitalize()} is\", len(result))\n",
      "/scratch/user/akash.pillai.0810/.my_env/lib/python3.10/site-packages/sklearn/metrics/_classification.py:1565: UndefinedMetricWarning: Recall is ill-defined and being set to 0.0 due to no true samples. Use `zero_division` parameter to control this behavior.\n",
      "  _warn_prf(average, modifier, f\"{metric.capitalize()} is\", len(result))\n",
      "/scratch/user/akash.pillai.0810/.my_env/lib/python3.10/site-packages/sklearn/metrics/_classification.py:1565: UndefinedMetricWarning: Recall is ill-defined and being set to 0.0 due to no true samples. Use `zero_division` parameter to control this behavior.\n",
      "  _warn_prf(average, modifier, f\"{metric.capitalize()} is\", len(result))\n"
     ]
    },
    {
     "name": "stdout",
     "output_type": "stream",
     "text": [
      "Epoch 21: Train Loss=2.9514, Val Loss=2.4421\n",
      "Mean F1 Score: 0.7670, Mean Accuracy: 0.9489, Mean Precision: 0.7784, Mean Recall: 0.7727\n"
     ]
    },
    {
     "name": "stderr",
     "output_type": "stream",
     "text": [
      "Epoch 22 Training:   0%|          | 0/4 [00:00<?, ?it/s]/tmp/job.14646635/ipykernel_391663/1724129108.py:79: FutureWarning: Series.__getitem__ treating keys as positions is deprecated. In a future version, integer keys will always be treated as labels (consistent with DataFrame behavior). To access a value by position, use `ser.iloc[pos]`\n",
      "  'labels': torch.tensor(label, dtype=torch.float32)\n",
      "Epoch 22 Training: 100%|██████████| 4/4 [00:05<00:00,  1.43s/it, loss=2.03]\n",
      "Epoch 22 Validation: 100%|██████████| 1/1 [00:00<00:00,  2.22it/s, loss=2.42]\n",
      "/scratch/user/akash.pillai.0810/.my_env/lib/python3.10/site-packages/sklearn/metrics/_classification.py:1565: UndefinedMetricWarning: F-score is ill-defined and being set to 0.0 due to no true nor predicted samples. Use `zero_division` parameter to control this behavior.\n",
      "  _warn_prf(average, modifier, f\"{metric.capitalize()} is\", len(result))\n",
      "/scratch/user/akash.pillai.0810/.my_env/lib/python3.10/site-packages/sklearn/metrics/_classification.py:1565: UndefinedMetricWarning: F-score is ill-defined and being set to 0.0 due to no true nor predicted samples. Use `zero_division` parameter to control this behavior.\n",
      "  _warn_prf(average, modifier, f\"{metric.capitalize()} is\", len(result))\n",
      "/scratch/user/akash.pillai.0810/.my_env/lib/python3.10/site-packages/sklearn/metrics/_classification.py:1565: UndefinedMetricWarning: Recall is ill-defined and being set to 0.0 due to no true samples. Use `zero_division` parameter to control this behavior.\n",
      "  _warn_prf(average, modifier, f\"{metric.capitalize()} is\", len(result))\n",
      "/scratch/user/akash.pillai.0810/.my_env/lib/python3.10/site-packages/sklearn/metrics/_classification.py:1565: UndefinedMetricWarning: Recall is ill-defined and being set to 0.0 due to no true samples. Use `zero_division` parameter to control this behavior.\n",
      "  _warn_prf(average, modifier, f\"{metric.capitalize()} is\", len(result))\n"
     ]
    },
    {
     "name": "stdout",
     "output_type": "stream",
     "text": [
      "Epoch 22: Train Loss=2.8781, Val Loss=2.4155\n",
      "Mean F1 Score: 0.7064, Mean Accuracy: 0.9375, Mean Precision: 0.6875, Mean Recall: 0.7273\n"
     ]
    },
    {
     "name": "stderr",
     "output_type": "stream",
     "text": [
      "Epoch 23 Training:   0%|          | 0/4 [00:00<?, ?it/s]/tmp/job.14646635/ipykernel_391663/1724129108.py:79: FutureWarning: Series.__getitem__ treating keys as positions is deprecated. In a future version, integer keys will always be treated as labels (consistent with DataFrame behavior). To access a value by position, use `ser.iloc[pos]`\n",
      "  'labels': torch.tensor(label, dtype=torch.float32)\n",
      "Epoch 23 Training: 100%|██████████| 4/4 [00:05<00:00,  1.43s/it, loss=3.39]\n",
      "Epoch 23 Validation: 100%|██████████| 1/1 [00:00<00:00,  2.21it/s, loss=2.36]\n",
      "/scratch/user/akash.pillai.0810/.my_env/lib/python3.10/site-packages/sklearn/metrics/_classification.py:1565: UndefinedMetricWarning: F-score is ill-defined and being set to 0.0 due to no true nor predicted samples. Use `zero_division` parameter to control this behavior.\n",
      "  _warn_prf(average, modifier, f\"{metric.capitalize()} is\", len(result))\n",
      "/scratch/user/akash.pillai.0810/.my_env/lib/python3.10/site-packages/sklearn/metrics/_classification.py:1565: UndefinedMetricWarning: F-score is ill-defined and being set to 0.0 due to no true nor predicted samples. Use `zero_division` parameter to control this behavior.\n",
      "  _warn_prf(average, modifier, f\"{metric.capitalize()} is\", len(result))\n",
      "/scratch/user/akash.pillai.0810/.my_env/lib/python3.10/site-packages/sklearn/metrics/_classification.py:1565: UndefinedMetricWarning: Recall is ill-defined and being set to 0.0 due to no true samples. Use `zero_division` parameter to control this behavior.\n",
      "  _warn_prf(average, modifier, f\"{metric.capitalize()} is\", len(result))\n",
      "/scratch/user/akash.pillai.0810/.my_env/lib/python3.10/site-packages/sklearn/metrics/_classification.py:1565: UndefinedMetricWarning: Recall is ill-defined and being set to 0.0 due to no true samples. Use `zero_division` parameter to control this behavior.\n",
      "  _warn_prf(average, modifier, f\"{metric.capitalize()} is\", len(result))\n"
     ]
    },
    {
     "name": "stdout",
     "output_type": "stream",
     "text": [
      "Epoch 23: Train Loss=2.8822, Val Loss=2.3619\n",
      "Mean F1 Score: 0.7843, Mean Accuracy: 0.9545, Mean Precision: 0.7784, Mean Recall: 0.7955\n",
      "New best model saved for fold 3 with F1=0.7843\n"
     ]
    },
    {
     "name": "stderr",
     "output_type": "stream",
     "text": [
      "Epoch 24 Training:   0%|          | 0/4 [00:00<?, ?it/s]/tmp/job.14646635/ipykernel_391663/1724129108.py:79: FutureWarning: Series.__getitem__ treating keys as positions is deprecated. In a future version, integer keys will always be treated as labels (consistent with DataFrame behavior). To access a value by position, use `ser.iloc[pos]`\n",
      "  'labels': torch.tensor(label, dtype=torch.float32)\n",
      "Epoch 24 Training: 100%|██████████| 4/4 [00:05<00:00,  1.43s/it, loss=2.71]\n",
      "Epoch 24 Validation: 100%|██████████| 1/1 [00:00<00:00,  2.21it/s, loss=2.36]\n",
      "/scratch/user/akash.pillai.0810/.my_env/lib/python3.10/site-packages/sklearn/metrics/_classification.py:1565: UndefinedMetricWarning: F-score is ill-defined and being set to 0.0 due to no true nor predicted samples. Use `zero_division` parameter to control this behavior.\n",
      "  _warn_prf(average, modifier, f\"{metric.capitalize()} is\", len(result))\n",
      "/scratch/user/akash.pillai.0810/.my_env/lib/python3.10/site-packages/sklearn/metrics/_classification.py:1565: UndefinedMetricWarning: F-score is ill-defined and being set to 0.0 due to no true nor predicted samples. Use `zero_division` parameter to control this behavior.\n",
      "  _warn_prf(average, modifier, f\"{metric.capitalize()} is\", len(result))\n",
      "/scratch/user/akash.pillai.0810/.my_env/lib/python3.10/site-packages/sklearn/metrics/_classification.py:1565: UndefinedMetricWarning: Recall is ill-defined and being set to 0.0 due to no true samples. Use `zero_division` parameter to control this behavior.\n",
      "  _warn_prf(average, modifier, f\"{metric.capitalize()} is\", len(result))\n",
      "/scratch/user/akash.pillai.0810/.my_env/lib/python3.10/site-packages/sklearn/metrics/_classification.py:1565: UndefinedMetricWarning: Recall is ill-defined and being set to 0.0 due to no true samples. Use `zero_division` parameter to control this behavior.\n",
      "  _warn_prf(average, modifier, f\"{metric.capitalize()} is\", len(result))\n"
     ]
    },
    {
     "name": "stdout",
     "output_type": "stream",
     "text": [
      "Epoch 24: Train Loss=2.8425, Val Loss=2.3581\n",
      "Mean F1 Score: 0.7064, Mean Accuracy: 0.9375, Mean Precision: 0.6875, Mean Recall: 0.7273\n"
     ]
    },
    {
     "name": "stderr",
     "output_type": "stream",
     "text": [
      "Epoch 25 Training:   0%|          | 0/4 [00:00<?, ?it/s]/tmp/job.14646635/ipykernel_391663/1724129108.py:79: FutureWarning: Series.__getitem__ treating keys as positions is deprecated. In a future version, integer keys will always be treated as labels (consistent with DataFrame behavior). To access a value by position, use `ser.iloc[pos]`\n",
      "  'labels': torch.tensor(label, dtype=torch.float32)\n",
      "Epoch 25 Training: 100%|██████████| 4/4 [00:05<00:00,  1.43s/it, loss=2.43]\n",
      "Epoch 25 Validation: 100%|██████████| 1/1 [00:00<00:00,  2.21it/s, loss=2.3]\n",
      "/scratch/user/akash.pillai.0810/.my_env/lib/python3.10/site-packages/sklearn/metrics/_classification.py:1565: UndefinedMetricWarning: F-score is ill-defined and being set to 0.0 due to no true nor predicted samples. Use `zero_division` parameter to control this behavior.\n",
      "  _warn_prf(average, modifier, f\"{metric.capitalize()} is\", len(result))\n",
      "/scratch/user/akash.pillai.0810/.my_env/lib/python3.10/site-packages/sklearn/metrics/_classification.py:1565: UndefinedMetricWarning: F-score is ill-defined and being set to 0.0 due to no true nor predicted samples. Use `zero_division` parameter to control this behavior.\n",
      "  _warn_prf(average, modifier, f\"{metric.capitalize()} is\", len(result))\n",
      "/scratch/user/akash.pillai.0810/.my_env/lib/python3.10/site-packages/sklearn/metrics/_classification.py:1565: UndefinedMetricWarning: Recall is ill-defined and being set to 0.0 due to no true samples. Use `zero_division` parameter to control this behavior.\n",
      "  _warn_prf(average, modifier, f\"{metric.capitalize()} is\", len(result))\n",
      "/scratch/user/akash.pillai.0810/.my_env/lib/python3.10/site-packages/sklearn/metrics/_classification.py:1565: UndefinedMetricWarning: Recall is ill-defined and being set to 0.0 due to no true samples. Use `zero_division` parameter to control this behavior.\n",
      "  _warn_prf(average, modifier, f\"{metric.capitalize()} is\", len(result))\n"
     ]
    },
    {
     "name": "stdout",
     "output_type": "stream",
     "text": [
      "Epoch 25: Train Loss=2.7664, Val Loss=2.2992\n",
      "Mean F1 Score: 0.7843, Mean Accuracy: 0.9545, Mean Precision: 0.7784, Mean Recall: 0.7955\n"
     ]
    },
    {
     "name": "stderr",
     "output_type": "stream",
     "text": [
      "Epoch 26 Training:   0%|          | 0/4 [00:00<?, ?it/s]/tmp/job.14646635/ipykernel_391663/1724129108.py:79: FutureWarning: Series.__getitem__ treating keys as positions is deprecated. In a future version, integer keys will always be treated as labels (consistent with DataFrame behavior). To access a value by position, use `ser.iloc[pos]`\n",
      "  'labels': torch.tensor(label, dtype=torch.float32)\n",
      "Epoch 26 Training: 100%|██████████| 4/4 [00:05<00:00,  1.43s/it, loss=2.99]\n",
      "Epoch 26 Validation: 100%|██████████| 1/1 [00:00<00:00,  2.21it/s, loss=2.32]\n",
      "/scratch/user/akash.pillai.0810/.my_env/lib/python3.10/site-packages/sklearn/metrics/_classification.py:1565: UndefinedMetricWarning: F-score is ill-defined and being set to 0.0 due to no true nor predicted samples. Use `zero_division` parameter to control this behavior.\n",
      "  _warn_prf(average, modifier, f\"{metric.capitalize()} is\", len(result))\n",
      "/scratch/user/akash.pillai.0810/.my_env/lib/python3.10/site-packages/sklearn/metrics/_classification.py:1565: UndefinedMetricWarning: F-score is ill-defined and being set to 0.0 due to no true nor predicted samples. Use `zero_division` parameter to control this behavior.\n",
      "  _warn_prf(average, modifier, f\"{metric.capitalize()} is\", len(result))\n",
      "/scratch/user/akash.pillai.0810/.my_env/lib/python3.10/site-packages/sklearn/metrics/_classification.py:1565: UndefinedMetricWarning: Recall is ill-defined and being set to 0.0 due to no true samples. Use `zero_division` parameter to control this behavior.\n",
      "  _warn_prf(average, modifier, f\"{metric.capitalize()} is\", len(result))\n",
      "/scratch/user/akash.pillai.0810/.my_env/lib/python3.10/site-packages/sklearn/metrics/_classification.py:1565: UndefinedMetricWarning: Recall is ill-defined and being set to 0.0 due to no true samples. Use `zero_division` parameter to control this behavior.\n",
      "  _warn_prf(average, modifier, f\"{metric.capitalize()} is\", len(result))\n"
     ]
    },
    {
     "name": "stdout",
     "output_type": "stream",
     "text": [
      "Epoch 26: Train Loss=2.7349, Val Loss=2.3244\n",
      "Mean F1 Score: 0.7064, Mean Accuracy: 0.9375, Mean Precision: 0.6875, Mean Recall: 0.7273\n"
     ]
    },
    {
     "name": "stderr",
     "output_type": "stream",
     "text": [
      "Epoch 27 Training:   0%|          | 0/4 [00:00<?, ?it/s]/tmp/job.14646635/ipykernel_391663/1724129108.py:79: FutureWarning: Series.__getitem__ treating keys as positions is deprecated. In a future version, integer keys will always be treated as labels (consistent with DataFrame behavior). To access a value by position, use `ser.iloc[pos]`\n",
      "  'labels': torch.tensor(label, dtype=torch.float32)\n",
      "Epoch 27 Training: 100%|██████████| 4/4 [00:05<00:00,  1.43s/it, loss=2.03]\n",
      "Epoch 27 Validation: 100%|██████████| 1/1 [00:00<00:00,  2.21it/s, loss=2.24]\n",
      "/scratch/user/akash.pillai.0810/.my_env/lib/python3.10/site-packages/sklearn/metrics/_classification.py:1565: UndefinedMetricWarning: F-score is ill-defined and being set to 0.0 due to no true nor predicted samples. Use `zero_division` parameter to control this behavior.\n",
      "  _warn_prf(average, modifier, f\"{metric.capitalize()} is\", len(result))\n",
      "/scratch/user/akash.pillai.0810/.my_env/lib/python3.10/site-packages/sklearn/metrics/_classification.py:1565: UndefinedMetricWarning: F-score is ill-defined and being set to 0.0 due to no true nor predicted samples. Use `zero_division` parameter to control this behavior.\n",
      "  _warn_prf(average, modifier, f\"{metric.capitalize()} is\", len(result))\n",
      "/scratch/user/akash.pillai.0810/.my_env/lib/python3.10/site-packages/sklearn/metrics/_classification.py:1565: UndefinedMetricWarning: Recall is ill-defined and being set to 0.0 due to no true samples. Use `zero_division` parameter to control this behavior.\n",
      "  _warn_prf(average, modifier, f\"{metric.capitalize()} is\", len(result))\n",
      "/scratch/user/akash.pillai.0810/.my_env/lib/python3.10/site-packages/sklearn/metrics/_classification.py:1565: UndefinedMetricWarning: Recall is ill-defined and being set to 0.0 due to no true samples. Use `zero_division` parameter to control this behavior.\n",
      "  _warn_prf(average, modifier, f\"{metric.capitalize()} is\", len(result))\n"
     ]
    },
    {
     "name": "stdout",
     "output_type": "stream",
     "text": [
      "Epoch 27: Train Loss=2.7255, Val Loss=2.2374\n",
      "Mean F1 Score: 0.7843, Mean Accuracy: 0.9545, Mean Precision: 0.7784, Mean Recall: 0.7955\n"
     ]
    },
    {
     "name": "stderr",
     "output_type": "stream",
     "text": [
      "Epoch 28 Training:   0%|          | 0/4 [00:00<?, ?it/s]/tmp/job.14646635/ipykernel_391663/1724129108.py:79: FutureWarning: Series.__getitem__ treating keys as positions is deprecated. In a future version, integer keys will always be treated as labels (consistent with DataFrame behavior). To access a value by position, use `ser.iloc[pos]`\n",
      "  'labels': torch.tensor(label, dtype=torch.float32)\n",
      "Epoch 28 Training: 100%|██████████| 4/4 [00:05<00:00,  1.43s/it, loss=1.87]\n",
      "Epoch 28 Validation: 100%|██████████| 1/1 [00:00<00:00,  2.21it/s, loss=2.23]\n",
      "/scratch/user/akash.pillai.0810/.my_env/lib/python3.10/site-packages/sklearn/metrics/_classification.py:1565: UndefinedMetricWarning: F-score is ill-defined and being set to 0.0 due to no true nor predicted samples. Use `zero_division` parameter to control this behavior.\n",
      "  _warn_prf(average, modifier, f\"{metric.capitalize()} is\", len(result))\n",
      "/scratch/user/akash.pillai.0810/.my_env/lib/python3.10/site-packages/sklearn/metrics/_classification.py:1565: UndefinedMetricWarning: F-score is ill-defined and being set to 0.0 due to no true nor predicted samples. Use `zero_division` parameter to control this behavior.\n",
      "  _warn_prf(average, modifier, f\"{metric.capitalize()} is\", len(result))\n",
      "/scratch/user/akash.pillai.0810/.my_env/lib/python3.10/site-packages/sklearn/metrics/_classification.py:1565: UndefinedMetricWarning: Recall is ill-defined and being set to 0.0 due to no true samples. Use `zero_division` parameter to control this behavior.\n",
      "  _warn_prf(average, modifier, f\"{metric.capitalize()} is\", len(result))\n",
      "/scratch/user/akash.pillai.0810/.my_env/lib/python3.10/site-packages/sklearn/metrics/_classification.py:1565: UndefinedMetricWarning: Recall is ill-defined and being set to 0.0 due to no true samples. Use `zero_division` parameter to control this behavior.\n",
      "  _warn_prf(average, modifier, f\"{metric.capitalize()} is\", len(result))\n"
     ]
    },
    {
     "name": "stdout",
     "output_type": "stream",
     "text": [
      "Epoch 28: Train Loss=2.6866, Val Loss=2.2309\n",
      "Mean F1 Score: 0.7843, Mean Accuracy: 0.9545, Mean Precision: 0.7784, Mean Recall: 0.7955\n"
     ]
    },
    {
     "name": "stderr",
     "output_type": "stream",
     "text": [
      "Epoch 29 Training:   0%|          | 0/4 [00:00<?, ?it/s]/tmp/job.14646635/ipykernel_391663/1724129108.py:79: FutureWarning: Series.__getitem__ treating keys as positions is deprecated. In a future version, integer keys will always be treated as labels (consistent with DataFrame behavior). To access a value by position, use `ser.iloc[pos]`\n",
      "  'labels': torch.tensor(label, dtype=torch.float32)\n",
      "Epoch 29 Training: 100%|██████████| 4/4 [00:05<00:00,  1.43s/it, loss=2.83]\n",
      "Epoch 29 Validation: 100%|██████████| 1/1 [00:00<00:00,  2.21it/s, loss=2.2]\n",
      "/scratch/user/akash.pillai.0810/.my_env/lib/python3.10/site-packages/sklearn/metrics/_classification.py:1565: UndefinedMetricWarning: F-score is ill-defined and being set to 0.0 due to no true nor predicted samples. Use `zero_division` parameter to control this behavior.\n",
      "  _warn_prf(average, modifier, f\"{metric.capitalize()} is\", len(result))\n",
      "/scratch/user/akash.pillai.0810/.my_env/lib/python3.10/site-packages/sklearn/metrics/_classification.py:1565: UndefinedMetricWarning: F-score is ill-defined and being set to 0.0 due to no true nor predicted samples. Use `zero_division` parameter to control this behavior.\n",
      "  _warn_prf(average, modifier, f\"{metric.capitalize()} is\", len(result))\n",
      "/scratch/user/akash.pillai.0810/.my_env/lib/python3.10/site-packages/sklearn/metrics/_classification.py:1565: UndefinedMetricWarning: Recall is ill-defined and being set to 0.0 due to no true samples. Use `zero_division` parameter to control this behavior.\n",
      "  _warn_prf(average, modifier, f\"{metric.capitalize()} is\", len(result))\n",
      "/scratch/user/akash.pillai.0810/.my_env/lib/python3.10/site-packages/sklearn/metrics/_classification.py:1565: UndefinedMetricWarning: Recall is ill-defined and being set to 0.0 due to no true samples. Use `zero_division` parameter to control this behavior.\n",
      "  _warn_prf(average, modifier, f\"{metric.capitalize()} is\", len(result))\n"
     ]
    },
    {
     "name": "stdout",
     "output_type": "stream",
     "text": [
      "Epoch 29: Train Loss=2.6629, Val Loss=2.1998\n",
      "Mean F1 Score: 0.7843, Mean Accuracy: 0.9545, Mean Precision: 0.7784, Mean Recall: 0.7955\n"
     ]
    },
    {
     "name": "stderr",
     "output_type": "stream",
     "text": [
      "Epoch 30 Training:   0%|          | 0/4 [00:00<?, ?it/s]/tmp/job.14646635/ipykernel_391663/1724129108.py:79: FutureWarning: Series.__getitem__ treating keys as positions is deprecated. In a future version, integer keys will always be treated as labels (consistent with DataFrame behavior). To access a value by position, use `ser.iloc[pos]`\n",
      "  'labels': torch.tensor(label, dtype=torch.float32)\n",
      "Epoch 30 Training: 100%|██████████| 4/4 [00:05<00:00,  1.43s/it, loss=2.82]\n",
      "Epoch 30 Validation: 100%|██████████| 1/1 [00:00<00:00,  2.21it/s, loss=2.17]\n",
      "/scratch/user/akash.pillai.0810/.my_env/lib/python3.10/site-packages/sklearn/metrics/_classification.py:1565: UndefinedMetricWarning: F-score is ill-defined and being set to 0.0 due to no true nor predicted samples. Use `zero_division` parameter to control this behavior.\n",
      "  _warn_prf(average, modifier, f\"{metric.capitalize()} is\", len(result))\n",
      "/scratch/user/akash.pillai.0810/.my_env/lib/python3.10/site-packages/sklearn/metrics/_classification.py:1565: UndefinedMetricWarning: F-score is ill-defined and being set to 0.0 due to no true nor predicted samples. Use `zero_division` parameter to control this behavior.\n",
      "  _warn_prf(average, modifier, f\"{metric.capitalize()} is\", len(result))\n",
      "/scratch/user/akash.pillai.0810/.my_env/lib/python3.10/site-packages/sklearn/metrics/_classification.py:1565: UndefinedMetricWarning: Recall is ill-defined and being set to 0.0 due to no true samples. Use `zero_division` parameter to control this behavior.\n",
      "  _warn_prf(average, modifier, f\"{metric.capitalize()} is\", len(result))\n",
      "/scratch/user/akash.pillai.0810/.my_env/lib/python3.10/site-packages/sklearn/metrics/_classification.py:1565: UndefinedMetricWarning: Recall is ill-defined and being set to 0.0 due to no true samples. Use `zero_division` parameter to control this behavior.\n",
      "  _warn_prf(average, modifier, f\"{metric.capitalize()} is\", len(result))\n"
     ]
    },
    {
     "name": "stdout",
     "output_type": "stream",
     "text": [
      "Epoch 30: Train Loss=2.6412, Val Loss=2.1663\n",
      "Mean F1 Score: 0.7843, Mean Accuracy: 0.9545, Mean Precision: 0.7784, Mean Recall: 0.7955\n"
     ]
    },
    {
     "name": "stderr",
     "output_type": "stream",
     "text": [
      "Epoch 31 Training:   0%|          | 0/4 [00:00<?, ?it/s]/tmp/job.14646635/ipykernel_391663/1724129108.py:79: FutureWarning: Series.__getitem__ treating keys as positions is deprecated. In a future version, integer keys will always be treated as labels (consistent with DataFrame behavior). To access a value by position, use `ser.iloc[pos]`\n",
      "  'labels': torch.tensor(label, dtype=torch.float32)\n",
      "Epoch 31 Training: 100%|██████████| 4/4 [00:05<00:00,  1.43s/it, loss=4.06]\n",
      "Epoch 31 Validation: 100%|██████████| 1/1 [00:00<00:00,  2.22it/s, loss=2.17]\n",
      "/scratch/user/akash.pillai.0810/.my_env/lib/python3.10/site-packages/sklearn/metrics/_classification.py:1565: UndefinedMetricWarning: F-score is ill-defined and being set to 0.0 due to no true nor predicted samples. Use `zero_division` parameter to control this behavior.\n",
      "  _warn_prf(average, modifier, f\"{metric.capitalize()} is\", len(result))\n",
      "/scratch/user/akash.pillai.0810/.my_env/lib/python3.10/site-packages/sklearn/metrics/_classification.py:1565: UndefinedMetricWarning: F-score is ill-defined and being set to 0.0 due to no true nor predicted samples. Use `zero_division` parameter to control this behavior.\n",
      "  _warn_prf(average, modifier, f\"{metric.capitalize()} is\", len(result))\n",
      "/scratch/user/akash.pillai.0810/.my_env/lib/python3.10/site-packages/sklearn/metrics/_classification.py:1565: UndefinedMetricWarning: Recall is ill-defined and being set to 0.0 due to no true samples. Use `zero_division` parameter to control this behavior.\n",
      "  _warn_prf(average, modifier, f\"{metric.capitalize()} is\", len(result))\n",
      "/scratch/user/akash.pillai.0810/.my_env/lib/python3.10/site-packages/sklearn/metrics/_classification.py:1565: UndefinedMetricWarning: Recall is ill-defined and being set to 0.0 due to no true samples. Use `zero_division` parameter to control this behavior.\n",
      "  _warn_prf(average, modifier, f\"{metric.capitalize()} is\", len(result))\n"
     ]
    },
    {
     "name": "stdout",
     "output_type": "stream",
     "text": [
      "Epoch 31: Train Loss=2.6142, Val Loss=2.1736\n",
      "Mean F1 Score: 0.7843, Mean Accuracy: 0.9545, Mean Precision: 0.7784, Mean Recall: 0.7955\n"
     ]
    },
    {
     "name": "stderr",
     "output_type": "stream",
     "text": [
      "Epoch 32 Training:   0%|          | 0/4 [00:00<?, ?it/s]/tmp/job.14646635/ipykernel_391663/1724129108.py:79: FutureWarning: Series.__getitem__ treating keys as positions is deprecated. In a future version, integer keys will always be treated as labels (consistent with DataFrame behavior). To access a value by position, use `ser.iloc[pos]`\n",
      "  'labels': torch.tensor(label, dtype=torch.float32)\n",
      "Epoch 32 Training: 100%|██████████| 4/4 [00:05<00:00,  1.43s/it, loss=1.71]\n",
      "Epoch 32 Validation: 100%|██████████| 1/1 [00:00<00:00,  2.22it/s, loss=2.12]\n",
      "/scratch/user/akash.pillai.0810/.my_env/lib/python3.10/site-packages/sklearn/metrics/_classification.py:1565: UndefinedMetricWarning: F-score is ill-defined and being set to 0.0 due to no true nor predicted samples. Use `zero_division` parameter to control this behavior.\n",
      "  _warn_prf(average, modifier, f\"{metric.capitalize()} is\", len(result))\n",
      "/scratch/user/akash.pillai.0810/.my_env/lib/python3.10/site-packages/sklearn/metrics/_classification.py:1565: UndefinedMetricWarning: F-score is ill-defined and being set to 0.0 due to no true nor predicted samples. Use `zero_division` parameter to control this behavior.\n",
      "  _warn_prf(average, modifier, f\"{metric.capitalize()} is\", len(result))\n",
      "/scratch/user/akash.pillai.0810/.my_env/lib/python3.10/site-packages/sklearn/metrics/_classification.py:1565: UndefinedMetricWarning: Recall is ill-defined and being set to 0.0 due to no true samples. Use `zero_division` parameter to control this behavior.\n",
      "  _warn_prf(average, modifier, f\"{metric.capitalize()} is\", len(result))\n",
      "/scratch/user/akash.pillai.0810/.my_env/lib/python3.10/site-packages/sklearn/metrics/_classification.py:1565: UndefinedMetricWarning: Recall is ill-defined and being set to 0.0 due to no true samples. Use `zero_division` parameter to control this behavior.\n",
      "  _warn_prf(average, modifier, f\"{metric.capitalize()} is\", len(result))\n"
     ]
    },
    {
     "name": "stdout",
     "output_type": "stream",
     "text": [
      "Epoch 32: Train Loss=2.6006, Val Loss=2.1229\n",
      "Mean F1 Score: 0.7973, Mean Accuracy: 0.9602, Mean Precision: 0.7784, Mean Recall: 0.8182\n",
      "New best model saved for fold 3 with F1=0.7973\n"
     ]
    },
    {
     "name": "stderr",
     "output_type": "stream",
     "text": [
      "Epoch 33 Training:   0%|          | 0/4 [00:00<?, ?it/s]/tmp/job.14646635/ipykernel_391663/1724129108.py:79: FutureWarning: Series.__getitem__ treating keys as positions is deprecated. In a future version, integer keys will always be treated as labels (consistent with DataFrame behavior). To access a value by position, use `ser.iloc[pos]`\n",
      "  'labels': torch.tensor(label, dtype=torch.float32)\n",
      "Epoch 33 Training: 100%|██████████| 4/4 [00:05<00:00,  1.43s/it, loss=1.81]\n",
      "Epoch 33 Validation: 100%|██████████| 1/1 [00:00<00:00,  2.21it/s, loss=2.13]\n",
      "/scratch/user/akash.pillai.0810/.my_env/lib/python3.10/site-packages/sklearn/metrics/_classification.py:1565: UndefinedMetricWarning: F-score is ill-defined and being set to 0.0 due to no true nor predicted samples. Use `zero_division` parameter to control this behavior.\n",
      "  _warn_prf(average, modifier, f\"{metric.capitalize()} is\", len(result))\n",
      "/scratch/user/akash.pillai.0810/.my_env/lib/python3.10/site-packages/sklearn/metrics/_classification.py:1565: UndefinedMetricWarning: F-score is ill-defined and being set to 0.0 due to no true nor predicted samples. Use `zero_division` parameter to control this behavior.\n",
      "  _warn_prf(average, modifier, f\"{metric.capitalize()} is\", len(result))\n",
      "/scratch/user/akash.pillai.0810/.my_env/lib/python3.10/site-packages/sklearn/metrics/_classification.py:1565: UndefinedMetricWarning: Recall is ill-defined and being set to 0.0 due to no true samples. Use `zero_division` parameter to control this behavior.\n",
      "  _warn_prf(average, modifier, f\"{metric.capitalize()} is\", len(result))\n",
      "/scratch/user/akash.pillai.0810/.my_env/lib/python3.10/site-packages/sklearn/metrics/_classification.py:1565: UndefinedMetricWarning: Recall is ill-defined and being set to 0.0 due to no true samples. Use `zero_division` parameter to control this behavior.\n",
      "  _warn_prf(average, modifier, f\"{metric.capitalize()} is\", len(result))\n"
     ]
    },
    {
     "name": "stdout",
     "output_type": "stream",
     "text": [
      "Epoch 33: Train Loss=2.5493, Val Loss=2.1300\n",
      "Mean F1 Score: 0.7973, Mean Accuracy: 0.9602, Mean Precision: 0.7784, Mean Recall: 0.8182\n"
     ]
    },
    {
     "name": "stderr",
     "output_type": "stream",
     "text": [
      "Epoch 34 Training:   0%|          | 0/4 [00:00<?, ?it/s]/tmp/job.14646635/ipykernel_391663/1724129108.py:79: FutureWarning: Series.__getitem__ treating keys as positions is deprecated. In a future version, integer keys will always be treated as labels (consistent with DataFrame behavior). To access a value by position, use `ser.iloc[pos]`\n",
      "  'labels': torch.tensor(label, dtype=torch.float32)\n",
      "Epoch 34 Training: 100%|██████████| 4/4 [00:05<00:00,  1.43s/it, loss=3.12]\n",
      "Epoch 34 Validation: 100%|██████████| 1/1 [00:00<00:00,  2.21it/s, loss=2.1]\n",
      "/scratch/user/akash.pillai.0810/.my_env/lib/python3.10/site-packages/sklearn/metrics/_classification.py:1565: UndefinedMetricWarning: F-score is ill-defined and being set to 0.0 due to no true nor predicted samples. Use `zero_division` parameter to control this behavior.\n",
      "  _warn_prf(average, modifier, f\"{metric.capitalize()} is\", len(result))\n",
      "/scratch/user/akash.pillai.0810/.my_env/lib/python3.10/site-packages/sklearn/metrics/_classification.py:1565: UndefinedMetricWarning: F-score is ill-defined and being set to 0.0 due to no true nor predicted samples. Use `zero_division` parameter to control this behavior.\n",
      "  _warn_prf(average, modifier, f\"{metric.capitalize()} is\", len(result))\n",
      "/scratch/user/akash.pillai.0810/.my_env/lib/python3.10/site-packages/sklearn/metrics/_classification.py:1565: UndefinedMetricWarning: Recall is ill-defined and being set to 0.0 due to no true samples. Use `zero_division` parameter to control this behavior.\n",
      "  _warn_prf(average, modifier, f\"{metric.capitalize()} is\", len(result))\n",
      "/scratch/user/akash.pillai.0810/.my_env/lib/python3.10/site-packages/sklearn/metrics/_classification.py:1565: UndefinedMetricWarning: Recall is ill-defined and being set to 0.0 due to no true samples. Use `zero_division` parameter to control this behavior.\n",
      "  _warn_prf(average, modifier, f\"{metric.capitalize()} is\", len(result))\n"
     ]
    },
    {
     "name": "stdout",
     "output_type": "stream",
     "text": [
      "Epoch 34: Train Loss=2.5403, Val Loss=2.0980\n",
      "Mean F1 Score: 0.7973, Mean Accuracy: 0.9602, Mean Precision: 0.7784, Mean Recall: 0.8182\n"
     ]
    },
    {
     "name": "stderr",
     "output_type": "stream",
     "text": [
      "Epoch 35 Training:   0%|          | 0/4 [00:00<?, ?it/s]/tmp/job.14646635/ipykernel_391663/1724129108.py:79: FutureWarning: Series.__getitem__ treating keys as positions is deprecated. In a future version, integer keys will always be treated as labels (consistent with DataFrame behavior). To access a value by position, use `ser.iloc[pos]`\n",
      "  'labels': torch.tensor(label, dtype=torch.float32)\n",
      "Epoch 35 Training: 100%|██████████| 4/4 [00:05<00:00,  1.43s/it, loss=2.13]\n",
      "Epoch 35 Validation: 100%|██████████| 1/1 [00:00<00:00,  2.21it/s, loss=2.09]\n",
      "/scratch/user/akash.pillai.0810/.my_env/lib/python3.10/site-packages/sklearn/metrics/_classification.py:1565: UndefinedMetricWarning: F-score is ill-defined and being set to 0.0 due to no true nor predicted samples. Use `zero_division` parameter to control this behavior.\n",
      "  _warn_prf(average, modifier, f\"{metric.capitalize()} is\", len(result))\n",
      "/scratch/user/akash.pillai.0810/.my_env/lib/python3.10/site-packages/sklearn/metrics/_classification.py:1565: UndefinedMetricWarning: F-score is ill-defined and being set to 0.0 due to no true nor predicted samples. Use `zero_division` parameter to control this behavior.\n",
      "  _warn_prf(average, modifier, f\"{metric.capitalize()} is\", len(result))\n",
      "/scratch/user/akash.pillai.0810/.my_env/lib/python3.10/site-packages/sklearn/metrics/_classification.py:1565: UndefinedMetricWarning: Recall is ill-defined and being set to 0.0 due to no true samples. Use `zero_division` parameter to control this behavior.\n",
      "  _warn_prf(average, modifier, f\"{metric.capitalize()} is\", len(result))\n",
      "/scratch/user/akash.pillai.0810/.my_env/lib/python3.10/site-packages/sklearn/metrics/_classification.py:1565: UndefinedMetricWarning: Recall is ill-defined and being set to 0.0 due to no true samples. Use `zero_division` parameter to control this behavior.\n",
      "  _warn_prf(average, modifier, f\"{metric.capitalize()} is\", len(result))\n"
     ]
    },
    {
     "name": "stdout",
     "output_type": "stream",
     "text": [
      "Epoch 35: Train Loss=2.5166, Val Loss=2.0950\n",
      "Mean F1 Score: 0.7973, Mean Accuracy: 0.9602, Mean Precision: 0.7784, Mean Recall: 0.8182\n"
     ]
    },
    {
     "name": "stderr",
     "output_type": "stream",
     "text": [
      "Epoch 36 Training:   0%|          | 0/4 [00:00<?, ?it/s]/tmp/job.14646635/ipykernel_391663/1724129108.py:79: FutureWarning: Series.__getitem__ treating keys as positions is deprecated. In a future version, integer keys will always be treated as labels (consistent with DataFrame behavior). To access a value by position, use `ser.iloc[pos]`\n",
      "  'labels': torch.tensor(label, dtype=torch.float32)\n",
      "Epoch 36 Training: 100%|██████████| 4/4 [00:05<00:00,  1.43s/it, loss=2.98]\n",
      "Epoch 36 Validation: 100%|██████████| 1/1 [00:00<00:00,  2.22it/s, loss=2.05]\n",
      "/scratch/user/akash.pillai.0810/.my_env/lib/python3.10/site-packages/sklearn/metrics/_classification.py:1565: UndefinedMetricWarning: F-score is ill-defined and being set to 0.0 due to no true nor predicted samples. Use `zero_division` parameter to control this behavior.\n",
      "  _warn_prf(average, modifier, f\"{metric.capitalize()} is\", len(result))\n",
      "/scratch/user/akash.pillai.0810/.my_env/lib/python3.10/site-packages/sklearn/metrics/_classification.py:1565: UndefinedMetricWarning: F-score is ill-defined and being set to 0.0 due to no true nor predicted samples. Use `zero_division` parameter to control this behavior.\n",
      "  _warn_prf(average, modifier, f\"{metric.capitalize()} is\", len(result))\n",
      "/scratch/user/akash.pillai.0810/.my_env/lib/python3.10/site-packages/sklearn/metrics/_classification.py:1565: UndefinedMetricWarning: Recall is ill-defined and being set to 0.0 due to no true samples. Use `zero_division` parameter to control this behavior.\n",
      "  _warn_prf(average, modifier, f\"{metric.capitalize()} is\", len(result))\n",
      "/scratch/user/akash.pillai.0810/.my_env/lib/python3.10/site-packages/sklearn/metrics/_classification.py:1565: UndefinedMetricWarning: Recall is ill-defined and being set to 0.0 due to no true samples. Use `zero_division` parameter to control this behavior.\n",
      "  _warn_prf(average, modifier, f\"{metric.capitalize()} is\", len(result))\n"
     ]
    },
    {
     "name": "stdout",
     "output_type": "stream",
     "text": [
      "Epoch 36: Train Loss=2.5420, Val Loss=2.0525\n",
      "Mean F1 Score: 0.7973, Mean Accuracy: 0.9602, Mean Precision: 0.7784, Mean Recall: 0.8182\n"
     ]
    },
    {
     "name": "stderr",
     "output_type": "stream",
     "text": [
      "Epoch 37 Training:   0%|          | 0/4 [00:00<?, ?it/s]/tmp/job.14646635/ipykernel_391663/1724129108.py:79: FutureWarning: Series.__getitem__ treating keys as positions is deprecated. In a future version, integer keys will always be treated as labels (consistent with DataFrame behavior). To access a value by position, use `ser.iloc[pos]`\n",
      "  'labels': torch.tensor(label, dtype=torch.float32)\n",
      "Epoch 37 Training: 100%|██████████| 4/4 [00:05<00:00,  1.43s/it, loss=1.67]\n",
      "Epoch 37 Validation: 100%|██████████| 1/1 [00:00<00:00,  2.21it/s, loss=2.06]\n",
      "/scratch/user/akash.pillai.0810/.my_env/lib/python3.10/site-packages/sklearn/metrics/_classification.py:1565: UndefinedMetricWarning: F-score is ill-defined and being set to 0.0 due to no true nor predicted samples. Use `zero_division` parameter to control this behavior.\n",
      "  _warn_prf(average, modifier, f\"{metric.capitalize()} is\", len(result))\n",
      "/scratch/user/akash.pillai.0810/.my_env/lib/python3.10/site-packages/sklearn/metrics/_classification.py:1565: UndefinedMetricWarning: F-score is ill-defined and being set to 0.0 due to no true nor predicted samples. Use `zero_division` parameter to control this behavior.\n",
      "  _warn_prf(average, modifier, f\"{metric.capitalize()} is\", len(result))\n",
      "/scratch/user/akash.pillai.0810/.my_env/lib/python3.10/site-packages/sklearn/metrics/_classification.py:1565: UndefinedMetricWarning: Recall is ill-defined and being set to 0.0 due to no true samples. Use `zero_division` parameter to control this behavior.\n",
      "  _warn_prf(average, modifier, f\"{metric.capitalize()} is\", len(result))\n",
      "/scratch/user/akash.pillai.0810/.my_env/lib/python3.10/site-packages/sklearn/metrics/_classification.py:1565: UndefinedMetricWarning: Recall is ill-defined and being set to 0.0 due to no true samples. Use `zero_division` parameter to control this behavior.\n",
      "  _warn_prf(average, modifier, f\"{metric.capitalize()} is\", len(result))\n"
     ]
    },
    {
     "name": "stdout",
     "output_type": "stream",
     "text": [
      "Epoch 37: Train Loss=2.5059, Val Loss=2.0588\n",
      "Mean F1 Score: 0.7973, Mean Accuracy: 0.9602, Mean Precision: 0.7784, Mean Recall: 0.8182\n"
     ]
    },
    {
     "name": "stderr",
     "output_type": "stream",
     "text": [
      "Epoch 38 Training:   0%|          | 0/4 [00:00<?, ?it/s]/tmp/job.14646635/ipykernel_391663/1724129108.py:79: FutureWarning: Series.__getitem__ treating keys as positions is deprecated. In a future version, integer keys will always be treated as labels (consistent with DataFrame behavior). To access a value by position, use `ser.iloc[pos]`\n",
      "  'labels': torch.tensor(label, dtype=torch.float32)\n",
      "Epoch 38 Training: 100%|██████████| 4/4 [00:05<00:00,  1.43s/it, loss=3.58]\n",
      "Epoch 38 Validation: 100%|██████████| 1/1 [00:00<00:00,  2.21it/s, loss=2.03]\n",
      "/scratch/user/akash.pillai.0810/.my_env/lib/python3.10/site-packages/sklearn/metrics/_classification.py:1565: UndefinedMetricWarning: F-score is ill-defined and being set to 0.0 due to no true nor predicted samples. Use `zero_division` parameter to control this behavior.\n",
      "  _warn_prf(average, modifier, f\"{metric.capitalize()} is\", len(result))\n",
      "/scratch/user/akash.pillai.0810/.my_env/lib/python3.10/site-packages/sklearn/metrics/_classification.py:1565: UndefinedMetricWarning: F-score is ill-defined and being set to 0.0 due to no true nor predicted samples. Use `zero_division` parameter to control this behavior.\n",
      "  _warn_prf(average, modifier, f\"{metric.capitalize()} is\", len(result))\n",
      "/scratch/user/akash.pillai.0810/.my_env/lib/python3.10/site-packages/sklearn/metrics/_classification.py:1565: UndefinedMetricWarning: Recall is ill-defined and being set to 0.0 due to no true samples. Use `zero_division` parameter to control this behavior.\n",
      "  _warn_prf(average, modifier, f\"{metric.capitalize()} is\", len(result))\n",
      "/scratch/user/akash.pillai.0810/.my_env/lib/python3.10/site-packages/sklearn/metrics/_classification.py:1565: UndefinedMetricWarning: Recall is ill-defined and being set to 0.0 due to no true samples. Use `zero_division` parameter to control this behavior.\n",
      "  _warn_prf(average, modifier, f\"{metric.capitalize()} is\", len(result))\n"
     ]
    },
    {
     "name": "stdout",
     "output_type": "stream",
     "text": [
      "Epoch 38: Train Loss=2.4636, Val Loss=2.0333\n",
      "Mean F1 Score: 0.7973, Mean Accuracy: 0.9602, Mean Precision: 0.7784, Mean Recall: 0.8182\n"
     ]
    },
    {
     "name": "stderr",
     "output_type": "stream",
     "text": [
      "Epoch 39 Training:   0%|          | 0/4 [00:00<?, ?it/s]/tmp/job.14646635/ipykernel_391663/1724129108.py:79: FutureWarning: Series.__getitem__ treating keys as positions is deprecated. In a future version, integer keys will always be treated as labels (consistent with DataFrame behavior). To access a value by position, use `ser.iloc[pos]`\n",
      "  'labels': torch.tensor(label, dtype=torch.float32)\n",
      "Epoch 39 Training: 100%|██████████| 4/4 [00:05<00:00,  1.43s/it, loss=2.58]\n",
      "Epoch 39 Validation: 100%|██████████| 1/1 [00:00<00:00,  2.21it/s, loss=2.06]\n",
      "/scratch/user/akash.pillai.0810/.my_env/lib/python3.10/site-packages/sklearn/metrics/_classification.py:1565: UndefinedMetricWarning: F-score is ill-defined and being set to 0.0 due to no true nor predicted samples. Use `zero_division` parameter to control this behavior.\n",
      "  _warn_prf(average, modifier, f\"{metric.capitalize()} is\", len(result))\n",
      "/scratch/user/akash.pillai.0810/.my_env/lib/python3.10/site-packages/sklearn/metrics/_classification.py:1565: UndefinedMetricWarning: F-score is ill-defined and being set to 0.0 due to no true nor predicted samples. Use `zero_division` parameter to control this behavior.\n",
      "  _warn_prf(average, modifier, f\"{metric.capitalize()} is\", len(result))\n",
      "/scratch/user/akash.pillai.0810/.my_env/lib/python3.10/site-packages/sklearn/metrics/_classification.py:1565: UndefinedMetricWarning: Recall is ill-defined and being set to 0.0 due to no true samples. Use `zero_division` parameter to control this behavior.\n",
      "  _warn_prf(average, modifier, f\"{metric.capitalize()} is\", len(result))\n",
      "/scratch/user/akash.pillai.0810/.my_env/lib/python3.10/site-packages/sklearn/metrics/_classification.py:1565: UndefinedMetricWarning: Recall is ill-defined and being set to 0.0 due to no true samples. Use `zero_division` parameter to control this behavior.\n",
      "  _warn_prf(average, modifier, f\"{metric.capitalize()} is\", len(result))\n"
     ]
    },
    {
     "name": "stdout",
     "output_type": "stream",
     "text": [
      "Epoch 39: Train Loss=2.4362, Val Loss=2.0577\n",
      "Mean F1 Score: 0.7973, Mean Accuracy: 0.9602, Mean Precision: 0.7784, Mean Recall: 0.8182\n"
     ]
    },
    {
     "name": "stderr",
     "output_type": "stream",
     "text": [
      "Epoch 40 Training:   0%|          | 0/4 [00:00<?, ?it/s]/tmp/job.14646635/ipykernel_391663/1724129108.py:79: FutureWarning: Series.__getitem__ treating keys as positions is deprecated. In a future version, integer keys will always be treated as labels (consistent with DataFrame behavior). To access a value by position, use `ser.iloc[pos]`\n",
      "  'labels': torch.tensor(label, dtype=torch.float32)\n",
      "Epoch 40 Training: 100%|██████████| 4/4 [00:05<00:00,  1.43s/it, loss=2.92]\n",
      "Epoch 40 Validation: 100%|██████████| 1/1 [00:00<00:00,  2.22it/s, loss=2.01]\n",
      "/scratch/user/akash.pillai.0810/.my_env/lib/python3.10/site-packages/sklearn/metrics/_classification.py:1565: UndefinedMetricWarning: F-score is ill-defined and being set to 0.0 due to no true nor predicted samples. Use `zero_division` parameter to control this behavior.\n",
      "  _warn_prf(average, modifier, f\"{metric.capitalize()} is\", len(result))\n",
      "/scratch/user/akash.pillai.0810/.my_env/lib/python3.10/site-packages/sklearn/metrics/_classification.py:1565: UndefinedMetricWarning: F-score is ill-defined and being set to 0.0 due to no true nor predicted samples. Use `zero_division` parameter to control this behavior.\n",
      "  _warn_prf(average, modifier, f\"{metric.capitalize()} is\", len(result))\n",
      "/scratch/user/akash.pillai.0810/.my_env/lib/python3.10/site-packages/sklearn/metrics/_classification.py:1565: UndefinedMetricWarning: Recall is ill-defined and being set to 0.0 due to no true samples. Use `zero_division` parameter to control this behavior.\n",
      "  _warn_prf(average, modifier, f\"{metric.capitalize()} is\", len(result))\n",
      "/scratch/user/akash.pillai.0810/.my_env/lib/python3.10/site-packages/sklearn/metrics/_classification.py:1565: UndefinedMetricWarning: Recall is ill-defined and being set to 0.0 due to no true samples. Use `zero_division` parameter to control this behavior.\n",
      "  _warn_prf(average, modifier, f\"{metric.capitalize()} is\", len(result))\n"
     ]
    },
    {
     "name": "stdout",
     "output_type": "stream",
     "text": [
      "Epoch 40: Train Loss=2.4511, Val Loss=2.0121\n",
      "Mean F1 Score: 0.7973, Mean Accuracy: 0.9602, Mean Precision: 0.7784, Mean Recall: 0.8182\n"
     ]
    },
    {
     "name": "stderr",
     "output_type": "stream",
     "text": [
      "Epoch 41 Training:   0%|          | 0/4 [00:00<?, ?it/s]/tmp/job.14646635/ipykernel_391663/1724129108.py:79: FutureWarning: Series.__getitem__ treating keys as positions is deprecated. In a future version, integer keys will always be treated as labels (consistent with DataFrame behavior). To access a value by position, use `ser.iloc[pos]`\n",
      "  'labels': torch.tensor(label, dtype=torch.float32)\n",
      "Epoch 41 Training: 100%|██████████| 4/4 [00:05<00:00,  1.43s/it, loss=2.72]\n",
      "Epoch 41 Validation: 100%|██████████| 1/1 [00:00<00:00,  2.22it/s, loss=1.99]\n",
      "/scratch/user/akash.pillai.0810/.my_env/lib/python3.10/site-packages/sklearn/metrics/_classification.py:1565: UndefinedMetricWarning: F-score is ill-defined and being set to 0.0 due to no true nor predicted samples. Use `zero_division` parameter to control this behavior.\n",
      "  _warn_prf(average, modifier, f\"{metric.capitalize()} is\", len(result))\n",
      "/scratch/user/akash.pillai.0810/.my_env/lib/python3.10/site-packages/sklearn/metrics/_classification.py:1565: UndefinedMetricWarning: F-score is ill-defined and being set to 0.0 due to no true nor predicted samples. Use `zero_division` parameter to control this behavior.\n",
      "  _warn_prf(average, modifier, f\"{metric.capitalize()} is\", len(result))\n",
      "/scratch/user/akash.pillai.0810/.my_env/lib/python3.10/site-packages/sklearn/metrics/_classification.py:1565: UndefinedMetricWarning: Recall is ill-defined and being set to 0.0 due to no true samples. Use `zero_division` parameter to control this behavior.\n",
      "  _warn_prf(average, modifier, f\"{metric.capitalize()} is\", len(result))\n",
      "/scratch/user/akash.pillai.0810/.my_env/lib/python3.10/site-packages/sklearn/metrics/_classification.py:1565: UndefinedMetricWarning: Recall is ill-defined and being set to 0.0 due to no true samples. Use `zero_division` parameter to control this behavior.\n",
      "  _warn_prf(average, modifier, f\"{metric.capitalize()} is\", len(result))\n"
     ]
    },
    {
     "name": "stdout",
     "output_type": "stream",
     "text": [
      "Epoch 41: Train Loss=2.4114, Val Loss=1.9948\n",
      "Mean F1 Score: 0.7973, Mean Accuracy: 0.9602, Mean Precision: 0.7784, Mean Recall: 0.8182\n"
     ]
    },
    {
     "name": "stderr",
     "output_type": "stream",
     "text": [
      "Epoch 42 Training:   0%|          | 0/4 [00:00<?, ?it/s]/tmp/job.14646635/ipykernel_391663/1724129108.py:79: FutureWarning: Series.__getitem__ treating keys as positions is deprecated. In a future version, integer keys will always be treated as labels (consistent with DataFrame behavior). To access a value by position, use `ser.iloc[pos]`\n",
      "  'labels': torch.tensor(label, dtype=torch.float32)\n",
      "Epoch 42 Training: 100%|██████████| 4/4 [00:05<00:00,  1.43s/it, loss=1.77]\n",
      "Epoch 42 Validation: 100%|██████████| 1/1 [00:00<00:00,  2.21it/s, loss=1.99]\n",
      "/scratch/user/akash.pillai.0810/.my_env/lib/python3.10/site-packages/sklearn/metrics/_classification.py:1565: UndefinedMetricWarning: F-score is ill-defined and being set to 0.0 due to no true nor predicted samples. Use `zero_division` parameter to control this behavior.\n",
      "  _warn_prf(average, modifier, f\"{metric.capitalize()} is\", len(result))\n",
      "/scratch/user/akash.pillai.0810/.my_env/lib/python3.10/site-packages/sklearn/metrics/_classification.py:1565: UndefinedMetricWarning: F-score is ill-defined and being set to 0.0 due to no true nor predicted samples. Use `zero_division` parameter to control this behavior.\n",
      "  _warn_prf(average, modifier, f\"{metric.capitalize()} is\", len(result))\n",
      "/scratch/user/akash.pillai.0810/.my_env/lib/python3.10/site-packages/sklearn/metrics/_classification.py:1565: UndefinedMetricWarning: Recall is ill-defined and being set to 0.0 due to no true samples. Use `zero_division` parameter to control this behavior.\n",
      "  _warn_prf(average, modifier, f\"{metric.capitalize()} is\", len(result))\n",
      "/scratch/user/akash.pillai.0810/.my_env/lib/python3.10/site-packages/sklearn/metrics/_classification.py:1565: UndefinedMetricWarning: Recall is ill-defined and being set to 0.0 due to no true samples. Use `zero_division` parameter to control this behavior.\n",
      "  _warn_prf(average, modifier, f\"{metric.capitalize()} is\", len(result))\n"
     ]
    },
    {
     "name": "stdout",
     "output_type": "stream",
     "text": [
      "Epoch 42: Train Loss=2.3983, Val Loss=1.9906\n",
      "Mean F1 Score: 0.7973, Mean Accuracy: 0.9602, Mean Precision: 0.7784, Mean Recall: 0.8182\n"
     ]
    },
    {
     "name": "stderr",
     "output_type": "stream",
     "text": [
      "Epoch 43 Training:   0%|          | 0/4 [00:00<?, ?it/s]/tmp/job.14646635/ipykernel_391663/1724129108.py:79: FutureWarning: Series.__getitem__ treating keys as positions is deprecated. In a future version, integer keys will always be treated as labels (consistent with DataFrame behavior). To access a value by position, use `ser.iloc[pos]`\n",
      "  'labels': torch.tensor(label, dtype=torch.float32)\n",
      "Epoch 43 Training: 100%|██████████| 4/4 [00:05<00:00,  1.43s/it, loss=3.56]\n",
      "Epoch 43 Validation: 100%|██████████| 1/1 [00:00<00:00,  2.22it/s, loss=1.96]\n",
      "/scratch/user/akash.pillai.0810/.my_env/lib/python3.10/site-packages/sklearn/metrics/_classification.py:1565: UndefinedMetricWarning: F-score is ill-defined and being set to 0.0 due to no true nor predicted samples. Use `zero_division` parameter to control this behavior.\n",
      "  _warn_prf(average, modifier, f\"{metric.capitalize()} is\", len(result))\n",
      "/scratch/user/akash.pillai.0810/.my_env/lib/python3.10/site-packages/sklearn/metrics/_classification.py:1565: UndefinedMetricWarning: F-score is ill-defined and being set to 0.0 due to no true nor predicted samples. Use `zero_division` parameter to control this behavior.\n",
      "  _warn_prf(average, modifier, f\"{metric.capitalize()} is\", len(result))\n",
      "/scratch/user/akash.pillai.0810/.my_env/lib/python3.10/site-packages/sklearn/metrics/_classification.py:1565: UndefinedMetricWarning: Recall is ill-defined and being set to 0.0 due to no true samples. Use `zero_division` parameter to control this behavior.\n",
      "  _warn_prf(average, modifier, f\"{metric.capitalize()} is\", len(result))\n",
      "/scratch/user/akash.pillai.0810/.my_env/lib/python3.10/site-packages/sklearn/metrics/_classification.py:1565: UndefinedMetricWarning: Recall is ill-defined and being set to 0.0 due to no true samples. Use `zero_division` parameter to control this behavior.\n",
      "  _warn_prf(average, modifier, f\"{metric.capitalize()} is\", len(result))\n"
     ]
    },
    {
     "name": "stdout",
     "output_type": "stream",
     "text": [
      "Epoch 43: Train Loss=2.3920, Val Loss=1.9636\n",
      "Mean F1 Score: 0.7973, Mean Accuracy: 0.9602, Mean Precision: 0.7784, Mean Recall: 0.8182\n"
     ]
    },
    {
     "name": "stderr",
     "output_type": "stream",
     "text": [
      "Epoch 44 Training:   0%|          | 0/4 [00:00<?, ?it/s]/tmp/job.14646635/ipykernel_391663/1724129108.py:79: FutureWarning: Series.__getitem__ treating keys as positions is deprecated. In a future version, integer keys will always be treated as labels (consistent with DataFrame behavior). To access a value by position, use `ser.iloc[pos]`\n",
      "  'labels': torch.tensor(label, dtype=torch.float32)\n",
      "Epoch 44 Training: 100%|██████████| 4/4 [00:05<00:00,  1.43s/it, loss=3.15]\n",
      "Epoch 44 Validation: 100%|██████████| 1/1 [00:00<00:00,  2.21it/s, loss=1.98]\n",
      "/scratch/user/akash.pillai.0810/.my_env/lib/python3.10/site-packages/sklearn/metrics/_classification.py:1565: UndefinedMetricWarning: F-score is ill-defined and being set to 0.0 due to no true nor predicted samples. Use `zero_division` parameter to control this behavior.\n",
      "  _warn_prf(average, modifier, f\"{metric.capitalize()} is\", len(result))\n",
      "/scratch/user/akash.pillai.0810/.my_env/lib/python3.10/site-packages/sklearn/metrics/_classification.py:1565: UndefinedMetricWarning: F-score is ill-defined and being set to 0.0 due to no true nor predicted samples. Use `zero_division` parameter to control this behavior.\n",
      "  _warn_prf(average, modifier, f\"{metric.capitalize()} is\", len(result))\n",
      "/scratch/user/akash.pillai.0810/.my_env/lib/python3.10/site-packages/sklearn/metrics/_classification.py:1565: UndefinedMetricWarning: Recall is ill-defined and being set to 0.0 due to no true samples. Use `zero_division` parameter to control this behavior.\n",
      "  _warn_prf(average, modifier, f\"{metric.capitalize()} is\", len(result))\n",
      "/scratch/user/akash.pillai.0810/.my_env/lib/python3.10/site-packages/sklearn/metrics/_classification.py:1565: UndefinedMetricWarning: Recall is ill-defined and being set to 0.0 due to no true samples. Use `zero_division` parameter to control this behavior.\n",
      "  _warn_prf(average, modifier, f\"{metric.capitalize()} is\", len(result))\n"
     ]
    },
    {
     "name": "stdout",
     "output_type": "stream",
     "text": [
      "Epoch 44: Train Loss=2.4106, Val Loss=1.9778\n",
      "Mean F1 Score: 0.7973, Mean Accuracy: 0.9602, Mean Precision: 0.7784, Mean Recall: 0.8182\n"
     ]
    },
    {
     "name": "stderr",
     "output_type": "stream",
     "text": [
      "Epoch 45 Training:   0%|          | 0/4 [00:00<?, ?it/s]/tmp/job.14646635/ipykernel_391663/1724129108.py:79: FutureWarning: Series.__getitem__ treating keys as positions is deprecated. In a future version, integer keys will always be treated as labels (consistent with DataFrame behavior). To access a value by position, use `ser.iloc[pos]`\n",
      "  'labels': torch.tensor(label, dtype=torch.float32)\n",
      "Epoch 45 Training: 100%|██████████| 4/4 [00:05<00:00,  1.43s/it, loss=3.17]\n",
      "Epoch 45 Validation: 100%|██████████| 1/1 [00:00<00:00,  2.21it/s, loss=1.97]\n",
      "/scratch/user/akash.pillai.0810/.my_env/lib/python3.10/site-packages/sklearn/metrics/_classification.py:1565: UndefinedMetricWarning: F-score is ill-defined and being set to 0.0 due to no true nor predicted samples. Use `zero_division` parameter to control this behavior.\n",
      "  _warn_prf(average, modifier, f\"{metric.capitalize()} is\", len(result))\n",
      "/scratch/user/akash.pillai.0810/.my_env/lib/python3.10/site-packages/sklearn/metrics/_classification.py:1565: UndefinedMetricWarning: F-score is ill-defined and being set to 0.0 due to no true nor predicted samples. Use `zero_division` parameter to control this behavior.\n",
      "  _warn_prf(average, modifier, f\"{metric.capitalize()} is\", len(result))\n",
      "/scratch/user/akash.pillai.0810/.my_env/lib/python3.10/site-packages/sklearn/metrics/_classification.py:1565: UndefinedMetricWarning: Recall is ill-defined and being set to 0.0 due to no true samples. Use `zero_division` parameter to control this behavior.\n",
      "  _warn_prf(average, modifier, f\"{metric.capitalize()} is\", len(result))\n",
      "/scratch/user/akash.pillai.0810/.my_env/lib/python3.10/site-packages/sklearn/metrics/_classification.py:1565: UndefinedMetricWarning: Recall is ill-defined and being set to 0.0 due to no true samples. Use `zero_division` parameter to control this behavior.\n",
      "  _warn_prf(average, modifier, f\"{metric.capitalize()} is\", len(result))\n"
     ]
    },
    {
     "name": "stdout",
     "output_type": "stream",
     "text": [
      "Epoch 45: Train Loss=2.3315, Val Loss=1.9672\n",
      "Mean F1 Score: 0.7973, Mean Accuracy: 0.9602, Mean Precision: 0.7784, Mean Recall: 0.8182\n"
     ]
    },
    {
     "name": "stderr",
     "output_type": "stream",
     "text": [
      "Epoch 46 Training:   0%|          | 0/4 [00:00<?, ?it/s]/tmp/job.14646635/ipykernel_391663/1724129108.py:79: FutureWarning: Series.__getitem__ treating keys as positions is deprecated. In a future version, integer keys will always be treated as labels (consistent with DataFrame behavior). To access a value by position, use `ser.iloc[pos]`\n",
      "  'labels': torch.tensor(label, dtype=torch.float32)\n",
      "Epoch 46 Training: 100%|██████████| 4/4 [00:05<00:00,  1.43s/it, loss=2.98]\n",
      "Epoch 46 Validation: 100%|██████████| 1/1 [00:00<00:00,  2.22it/s, loss=1.94]\n",
      "/scratch/user/akash.pillai.0810/.my_env/lib/python3.10/site-packages/sklearn/metrics/_classification.py:1565: UndefinedMetricWarning: F-score is ill-defined and being set to 0.0 due to no true nor predicted samples. Use `zero_division` parameter to control this behavior.\n",
      "  _warn_prf(average, modifier, f\"{metric.capitalize()} is\", len(result))\n",
      "/scratch/user/akash.pillai.0810/.my_env/lib/python3.10/site-packages/sklearn/metrics/_classification.py:1565: UndefinedMetricWarning: F-score is ill-defined and being set to 0.0 due to no true nor predicted samples. Use `zero_division` parameter to control this behavior.\n",
      "  _warn_prf(average, modifier, f\"{metric.capitalize()} is\", len(result))\n",
      "/scratch/user/akash.pillai.0810/.my_env/lib/python3.10/site-packages/sklearn/metrics/_classification.py:1565: UndefinedMetricWarning: Recall is ill-defined and being set to 0.0 due to no true samples. Use `zero_division` parameter to control this behavior.\n",
      "  _warn_prf(average, modifier, f\"{metric.capitalize()} is\", len(result))\n",
      "/scratch/user/akash.pillai.0810/.my_env/lib/python3.10/site-packages/sklearn/metrics/_classification.py:1565: UndefinedMetricWarning: Recall is ill-defined and being set to 0.0 due to no true samples. Use `zero_division` parameter to control this behavior.\n",
      "  _warn_prf(average, modifier, f\"{metric.capitalize()} is\", len(result))\n"
     ]
    },
    {
     "name": "stdout",
     "output_type": "stream",
     "text": [
      "Epoch 46: Train Loss=2.3898, Val Loss=1.9408\n",
      "Mean F1 Score: 0.7973, Mean Accuracy: 0.9602, Mean Precision: 0.7784, Mean Recall: 0.8182\n"
     ]
    },
    {
     "name": "stderr",
     "output_type": "stream",
     "text": [
      "Epoch 47 Training:   0%|          | 0/4 [00:00<?, ?it/s]/tmp/job.14646635/ipykernel_391663/1724129108.py:79: FutureWarning: Series.__getitem__ treating keys as positions is deprecated. In a future version, integer keys will always be treated as labels (consistent with DataFrame behavior). To access a value by position, use `ser.iloc[pos]`\n",
      "  'labels': torch.tensor(label, dtype=torch.float32)\n",
      "Epoch 47 Training: 100%|██████████| 4/4 [00:05<00:00,  1.43s/it, loss=2.12]\n",
      "Epoch 47 Validation: 100%|██████████| 1/1 [00:00<00:00,  2.21it/s, loss=1.93]\n",
      "/scratch/user/akash.pillai.0810/.my_env/lib/python3.10/site-packages/sklearn/metrics/_classification.py:1565: UndefinedMetricWarning: F-score is ill-defined and being set to 0.0 due to no true nor predicted samples. Use `zero_division` parameter to control this behavior.\n",
      "  _warn_prf(average, modifier, f\"{metric.capitalize()} is\", len(result))\n",
      "/scratch/user/akash.pillai.0810/.my_env/lib/python3.10/site-packages/sklearn/metrics/_classification.py:1565: UndefinedMetricWarning: F-score is ill-defined and being set to 0.0 due to no true nor predicted samples. Use `zero_division` parameter to control this behavior.\n",
      "  _warn_prf(average, modifier, f\"{metric.capitalize()} is\", len(result))\n",
      "/scratch/user/akash.pillai.0810/.my_env/lib/python3.10/site-packages/sklearn/metrics/_classification.py:1565: UndefinedMetricWarning: Recall is ill-defined and being set to 0.0 due to no true samples. Use `zero_division` parameter to control this behavior.\n",
      "  _warn_prf(average, modifier, f\"{metric.capitalize()} is\", len(result))\n",
      "/scratch/user/akash.pillai.0810/.my_env/lib/python3.10/site-packages/sklearn/metrics/_classification.py:1565: UndefinedMetricWarning: Recall is ill-defined and being set to 0.0 due to no true samples. Use `zero_division` parameter to control this behavior.\n",
      "  _warn_prf(average, modifier, f\"{metric.capitalize()} is\", len(result))\n"
     ]
    },
    {
     "name": "stdout",
     "output_type": "stream",
     "text": [
      "Epoch 47: Train Loss=2.3571, Val Loss=1.9295\n",
      "Mean F1 Score: 0.7973, Mean Accuracy: 0.9602, Mean Precision: 0.7784, Mean Recall: 0.8182\n"
     ]
    },
    {
     "name": "stderr",
     "output_type": "stream",
     "text": [
      "Epoch 48 Training:   0%|          | 0/4 [00:00<?, ?it/s]/tmp/job.14646635/ipykernel_391663/1724129108.py:79: FutureWarning: Series.__getitem__ treating keys as positions is deprecated. In a future version, integer keys will always be treated as labels (consistent with DataFrame behavior). To access a value by position, use `ser.iloc[pos]`\n",
      "  'labels': torch.tensor(label, dtype=torch.float32)\n",
      "Epoch 48 Training: 100%|██████████| 4/4 [00:05<00:00,  1.43s/it, loss=1.62]\n",
      "Epoch 48 Validation: 100%|██████████| 1/1 [00:00<00:00,  2.22it/s, loss=1.92]\n",
      "/scratch/user/akash.pillai.0810/.my_env/lib/python3.10/site-packages/sklearn/metrics/_classification.py:1565: UndefinedMetricWarning: F-score is ill-defined and being set to 0.0 due to no true nor predicted samples. Use `zero_division` parameter to control this behavior.\n",
      "  _warn_prf(average, modifier, f\"{metric.capitalize()} is\", len(result))\n",
      "/scratch/user/akash.pillai.0810/.my_env/lib/python3.10/site-packages/sklearn/metrics/_classification.py:1565: UndefinedMetricWarning: F-score is ill-defined and being set to 0.0 due to no true nor predicted samples. Use `zero_division` parameter to control this behavior.\n",
      "  _warn_prf(average, modifier, f\"{metric.capitalize()} is\", len(result))\n",
      "/scratch/user/akash.pillai.0810/.my_env/lib/python3.10/site-packages/sklearn/metrics/_classification.py:1565: UndefinedMetricWarning: Recall is ill-defined and being set to 0.0 due to no true samples. Use `zero_division` parameter to control this behavior.\n",
      "  _warn_prf(average, modifier, f\"{metric.capitalize()} is\", len(result))\n",
      "/scratch/user/akash.pillai.0810/.my_env/lib/python3.10/site-packages/sklearn/metrics/_classification.py:1565: UndefinedMetricWarning: Recall is ill-defined and being set to 0.0 due to no true samples. Use `zero_division` parameter to control this behavior.\n",
      "  _warn_prf(average, modifier, f\"{metric.capitalize()} is\", len(result))\n"
     ]
    },
    {
     "name": "stdout",
     "output_type": "stream",
     "text": [
      "Epoch 48: Train Loss=2.3412, Val Loss=1.9201\n",
      "Mean F1 Score: 0.7973, Mean Accuracy: 0.9602, Mean Precision: 0.7784, Mean Recall: 0.8182\n"
     ]
    },
    {
     "name": "stderr",
     "output_type": "stream",
     "text": [
      "Epoch 49 Training:   0%|          | 0/4 [00:00<?, ?it/s]/tmp/job.14646635/ipykernel_391663/1724129108.py:79: FutureWarning: Series.__getitem__ treating keys as positions is deprecated. In a future version, integer keys will always be treated as labels (consistent with DataFrame behavior). To access a value by position, use `ser.iloc[pos]`\n",
      "  'labels': torch.tensor(label, dtype=torch.float32)\n",
      "Epoch 49 Training: 100%|██████████| 4/4 [00:05<00:00,  1.43s/it, loss=2.09]\n",
      "Epoch 49 Validation: 100%|██████████| 1/1 [00:00<00:00,  2.22it/s, loss=1.93]\n",
      "/scratch/user/akash.pillai.0810/.my_env/lib/python3.10/site-packages/sklearn/metrics/_classification.py:1565: UndefinedMetricWarning: F-score is ill-defined and being set to 0.0 due to no true nor predicted samples. Use `zero_division` parameter to control this behavior.\n",
      "  _warn_prf(average, modifier, f\"{metric.capitalize()} is\", len(result))\n",
      "/scratch/user/akash.pillai.0810/.my_env/lib/python3.10/site-packages/sklearn/metrics/_classification.py:1565: UndefinedMetricWarning: F-score is ill-defined and being set to 0.0 due to no true nor predicted samples. Use `zero_division` parameter to control this behavior.\n",
      "  _warn_prf(average, modifier, f\"{metric.capitalize()} is\", len(result))\n",
      "/scratch/user/akash.pillai.0810/.my_env/lib/python3.10/site-packages/sklearn/metrics/_classification.py:1565: UndefinedMetricWarning: Recall is ill-defined and being set to 0.0 due to no true samples. Use `zero_division` parameter to control this behavior.\n",
      "  _warn_prf(average, modifier, f\"{metric.capitalize()} is\", len(result))\n",
      "/scratch/user/akash.pillai.0810/.my_env/lib/python3.10/site-packages/sklearn/metrics/_classification.py:1565: UndefinedMetricWarning: Recall is ill-defined and being set to 0.0 due to no true samples. Use `zero_division` parameter to control this behavior.\n",
      "  _warn_prf(average, modifier, f\"{metric.capitalize()} is\", len(result))\n"
     ]
    },
    {
     "name": "stdout",
     "output_type": "stream",
     "text": [
      "Epoch 49: Train Loss=2.3657, Val Loss=1.9326\n",
      "Mean F1 Score: 0.7973, Mean Accuracy: 0.9602, Mean Precision: 0.7784, Mean Recall: 0.8182\n"
     ]
    },
    {
     "name": "stderr",
     "output_type": "stream",
     "text": [
      "Epoch 50 Training:   0%|          | 0/4 [00:00<?, ?it/s]/tmp/job.14646635/ipykernel_391663/1724129108.py:79: FutureWarning: Series.__getitem__ treating keys as positions is deprecated. In a future version, integer keys will always be treated as labels (consistent with DataFrame behavior). To access a value by position, use `ser.iloc[pos]`\n",
      "  'labels': torch.tensor(label, dtype=torch.float32)\n",
      "Epoch 50 Training: 100%|██████████| 4/4 [00:05<00:00,  1.43s/it, loss=2.34]\n",
      "Epoch 50 Validation: 100%|██████████| 1/1 [00:00<00:00,  2.21it/s, loss=1.91]\n",
      "/scratch/user/akash.pillai.0810/.my_env/lib/python3.10/site-packages/sklearn/metrics/_classification.py:1565: UndefinedMetricWarning: F-score is ill-defined and being set to 0.0 due to no true nor predicted samples. Use `zero_division` parameter to control this behavior.\n",
      "  _warn_prf(average, modifier, f\"{metric.capitalize()} is\", len(result))\n",
      "/scratch/user/akash.pillai.0810/.my_env/lib/python3.10/site-packages/sklearn/metrics/_classification.py:1565: UndefinedMetricWarning: F-score is ill-defined and being set to 0.0 due to no true nor predicted samples. Use `zero_division` parameter to control this behavior.\n",
      "  _warn_prf(average, modifier, f\"{metric.capitalize()} is\", len(result))\n",
      "/scratch/user/akash.pillai.0810/.my_env/lib/python3.10/site-packages/sklearn/metrics/_classification.py:1565: UndefinedMetricWarning: Recall is ill-defined and being set to 0.0 due to no true samples. Use `zero_division` parameter to control this behavior.\n",
      "  _warn_prf(average, modifier, f\"{metric.capitalize()} is\", len(result))\n",
      "/scratch/user/akash.pillai.0810/.my_env/lib/python3.10/site-packages/sklearn/metrics/_classification.py:1565: UndefinedMetricWarning: Recall is ill-defined and being set to 0.0 due to no true samples. Use `zero_division` parameter to control this behavior.\n",
      "  _warn_prf(average, modifier, f\"{metric.capitalize()} is\", len(result))\n"
     ]
    },
    {
     "name": "stdout",
     "output_type": "stream",
     "text": [
      "Epoch 50: Train Loss=2.3209, Val Loss=1.9062\n",
      "Mean F1 Score: 0.7973, Mean Accuracy: 0.9602, Mean Precision: 0.7784, Mean Recall: 0.8182\n"
     ]
    },
    {
     "name": "stderr",
     "output_type": "stream",
     "text": [
      "Epoch 51 Training:   0%|          | 0/4 [00:00<?, ?it/s]/tmp/job.14646635/ipykernel_391663/1724129108.py:79: FutureWarning: Series.__getitem__ treating keys as positions is deprecated. In a future version, integer keys will always be treated as labels (consistent with DataFrame behavior). To access a value by position, use `ser.iloc[pos]`\n",
      "  'labels': torch.tensor(label, dtype=torch.float32)\n",
      "Epoch 51 Training: 100%|██████████| 4/4 [00:05<00:00,  1.43s/it, loss=3.09]\n",
      "Epoch 51 Validation: 100%|██████████| 1/1 [00:00<00:00,  2.22it/s, loss=1.93]\n",
      "/scratch/user/akash.pillai.0810/.my_env/lib/python3.10/site-packages/sklearn/metrics/_classification.py:1565: UndefinedMetricWarning: F-score is ill-defined and being set to 0.0 due to no true nor predicted samples. Use `zero_division` parameter to control this behavior.\n",
      "  _warn_prf(average, modifier, f\"{metric.capitalize()} is\", len(result))\n",
      "/scratch/user/akash.pillai.0810/.my_env/lib/python3.10/site-packages/sklearn/metrics/_classification.py:1565: UndefinedMetricWarning: F-score is ill-defined and being set to 0.0 due to no true nor predicted samples. Use `zero_division` parameter to control this behavior.\n",
      "  _warn_prf(average, modifier, f\"{metric.capitalize()} is\", len(result))\n",
      "/scratch/user/akash.pillai.0810/.my_env/lib/python3.10/site-packages/sklearn/metrics/_classification.py:1565: UndefinedMetricWarning: Recall is ill-defined and being set to 0.0 due to no true samples. Use `zero_division` parameter to control this behavior.\n",
      "  _warn_prf(average, modifier, f\"{metric.capitalize()} is\", len(result))\n",
      "/scratch/user/akash.pillai.0810/.my_env/lib/python3.10/site-packages/sklearn/metrics/_classification.py:1565: UndefinedMetricWarning: Recall is ill-defined and being set to 0.0 due to no true samples. Use `zero_division` parameter to control this behavior.\n",
      "  _warn_prf(average, modifier, f\"{metric.capitalize()} is\", len(result))\n"
     ]
    },
    {
     "name": "stdout",
     "output_type": "stream",
     "text": [
      "Epoch 51: Train Loss=2.2900, Val Loss=1.9261\n",
      "Mean F1 Score: 0.7973, Mean Accuracy: 0.9602, Mean Precision: 0.7784, Mean Recall: 0.8182\n"
     ]
    },
    {
     "name": "stderr",
     "output_type": "stream",
     "text": [
      "Epoch 52 Training:   0%|          | 0/4 [00:00<?, ?it/s]/tmp/job.14646635/ipykernel_391663/1724129108.py:79: FutureWarning: Series.__getitem__ treating keys as positions is deprecated. In a future version, integer keys will always be treated as labels (consistent with DataFrame behavior). To access a value by position, use `ser.iloc[pos]`\n",
      "  'labels': torch.tensor(label, dtype=torch.float32)\n",
      "Epoch 52 Training: 100%|██████████| 4/4 [00:05<00:00,  1.43s/it, loss=2.23]\n",
      "Epoch 52 Validation: 100%|██████████| 1/1 [00:00<00:00,  2.22it/s, loss=1.88]\n",
      "/scratch/user/akash.pillai.0810/.my_env/lib/python3.10/site-packages/sklearn/metrics/_classification.py:1565: UndefinedMetricWarning: F-score is ill-defined and being set to 0.0 due to no true nor predicted samples. Use `zero_division` parameter to control this behavior.\n",
      "  _warn_prf(average, modifier, f\"{metric.capitalize()} is\", len(result))\n",
      "/scratch/user/akash.pillai.0810/.my_env/lib/python3.10/site-packages/sklearn/metrics/_classification.py:1565: UndefinedMetricWarning: F-score is ill-defined and being set to 0.0 due to no true nor predicted samples. Use `zero_division` parameter to control this behavior.\n",
      "  _warn_prf(average, modifier, f\"{metric.capitalize()} is\", len(result))\n",
      "/scratch/user/akash.pillai.0810/.my_env/lib/python3.10/site-packages/sklearn/metrics/_classification.py:1565: UndefinedMetricWarning: Recall is ill-defined and being set to 0.0 due to no true samples. Use `zero_division` parameter to control this behavior.\n",
      "  _warn_prf(average, modifier, f\"{metric.capitalize()} is\", len(result))\n",
      "/scratch/user/akash.pillai.0810/.my_env/lib/python3.10/site-packages/sklearn/metrics/_classification.py:1565: UndefinedMetricWarning: Recall is ill-defined and being set to 0.0 due to no true samples. Use `zero_division` parameter to control this behavior.\n",
      "  _warn_prf(average, modifier, f\"{metric.capitalize()} is\", len(result))\n"
     ]
    },
    {
     "name": "stdout",
     "output_type": "stream",
     "text": [
      "Epoch 52: Train Loss=2.3054, Val Loss=1.8814\n",
      "Mean F1 Score: 0.7973, Mean Accuracy: 0.9602, Mean Precision: 0.7784, Mean Recall: 0.8182\n"
     ]
    },
    {
     "name": "stderr",
     "output_type": "stream",
     "text": [
      "Epoch 53 Training:   0%|          | 0/4 [00:00<?, ?it/s]/tmp/job.14646635/ipykernel_391663/1724129108.py:79: FutureWarning: Series.__getitem__ treating keys as positions is deprecated. In a future version, integer keys will always be treated as labels (consistent with DataFrame behavior). To access a value by position, use `ser.iloc[pos]`\n",
      "  'labels': torch.tensor(label, dtype=torch.float32)\n",
      "Epoch 53 Training: 100%|██████████| 4/4 [00:05<00:00,  1.43s/it, loss=3.36]\n",
      "Epoch 53 Validation: 100%|██████████| 1/1 [00:00<00:00,  2.21it/s, loss=1.88]\n",
      "/scratch/user/akash.pillai.0810/.my_env/lib/python3.10/site-packages/sklearn/metrics/_classification.py:1565: UndefinedMetricWarning: F-score is ill-defined and being set to 0.0 due to no true nor predicted samples. Use `zero_division` parameter to control this behavior.\n",
      "  _warn_prf(average, modifier, f\"{metric.capitalize()} is\", len(result))\n",
      "/scratch/user/akash.pillai.0810/.my_env/lib/python3.10/site-packages/sklearn/metrics/_classification.py:1565: UndefinedMetricWarning: F-score is ill-defined and being set to 0.0 due to no true nor predicted samples. Use `zero_division` parameter to control this behavior.\n",
      "  _warn_prf(average, modifier, f\"{metric.capitalize()} is\", len(result))\n",
      "/scratch/user/akash.pillai.0810/.my_env/lib/python3.10/site-packages/sklearn/metrics/_classification.py:1565: UndefinedMetricWarning: Recall is ill-defined and being set to 0.0 due to no true samples. Use `zero_division` parameter to control this behavior.\n",
      "  _warn_prf(average, modifier, f\"{metric.capitalize()} is\", len(result))\n",
      "/scratch/user/akash.pillai.0810/.my_env/lib/python3.10/site-packages/sklearn/metrics/_classification.py:1565: UndefinedMetricWarning: Recall is ill-defined and being set to 0.0 due to no true samples. Use `zero_division` parameter to control this behavior.\n",
      "  _warn_prf(average, modifier, f\"{metric.capitalize()} is\", len(result))\n"
     ]
    },
    {
     "name": "stdout",
     "output_type": "stream",
     "text": [
      "Epoch 53: Train Loss=2.3014, Val Loss=1.8842\n",
      "Mean F1 Score: 0.7973, Mean Accuracy: 0.9602, Mean Precision: 0.7784, Mean Recall: 0.8182\n"
     ]
    },
    {
     "name": "stderr",
     "output_type": "stream",
     "text": [
      "Epoch 54 Training:   0%|          | 0/4 [00:00<?, ?it/s]/tmp/job.14646635/ipykernel_391663/1724129108.py:79: FutureWarning: Series.__getitem__ treating keys as positions is deprecated. In a future version, integer keys will always be treated as labels (consistent with DataFrame behavior). To access a value by position, use `ser.iloc[pos]`\n",
      "  'labels': torch.tensor(label, dtype=torch.float32)\n",
      "Epoch 54 Training: 100%|██████████| 4/4 [00:05<00:00,  1.43s/it, loss=1.56]\n",
      "Epoch 54 Validation: 100%|██████████| 1/1 [00:00<00:00,  2.22it/s, loss=1.86]\n",
      "/scratch/user/akash.pillai.0810/.my_env/lib/python3.10/site-packages/sklearn/metrics/_classification.py:1565: UndefinedMetricWarning: F-score is ill-defined and being set to 0.0 due to no true nor predicted samples. Use `zero_division` parameter to control this behavior.\n",
      "  _warn_prf(average, modifier, f\"{metric.capitalize()} is\", len(result))\n",
      "/scratch/user/akash.pillai.0810/.my_env/lib/python3.10/site-packages/sklearn/metrics/_classification.py:1565: UndefinedMetricWarning: F-score is ill-defined and being set to 0.0 due to no true nor predicted samples. Use `zero_division` parameter to control this behavior.\n",
      "  _warn_prf(average, modifier, f\"{metric.capitalize()} is\", len(result))\n",
      "/scratch/user/akash.pillai.0810/.my_env/lib/python3.10/site-packages/sklearn/metrics/_classification.py:1565: UndefinedMetricWarning: Recall is ill-defined and being set to 0.0 due to no true samples. Use `zero_division` parameter to control this behavior.\n",
      "  _warn_prf(average, modifier, f\"{metric.capitalize()} is\", len(result))\n",
      "/scratch/user/akash.pillai.0810/.my_env/lib/python3.10/site-packages/sklearn/metrics/_classification.py:1565: UndefinedMetricWarning: Recall is ill-defined and being set to 0.0 due to no true samples. Use `zero_division` parameter to control this behavior.\n",
      "  _warn_prf(average, modifier, f\"{metric.capitalize()} is\", len(result))\n"
     ]
    },
    {
     "name": "stdout",
     "output_type": "stream",
     "text": [
      "Epoch 54: Train Loss=2.2795, Val Loss=1.8624\n",
      "Mean F1 Score: 0.7973, Mean Accuracy: 0.9602, Mean Precision: 0.7784, Mean Recall: 0.8182\n"
     ]
    },
    {
     "name": "stderr",
     "output_type": "stream",
     "text": [
      "Epoch 55 Training:   0%|          | 0/4 [00:00<?, ?it/s]/tmp/job.14646635/ipykernel_391663/1724129108.py:79: FutureWarning: Series.__getitem__ treating keys as positions is deprecated. In a future version, integer keys will always be treated as labels (consistent with DataFrame behavior). To access a value by position, use `ser.iloc[pos]`\n",
      "  'labels': torch.tensor(label, dtype=torch.float32)\n",
      "Epoch 55 Training: 100%|██████████| 4/4 [00:05<00:00,  1.43s/it, loss=2.11]\n",
      "Epoch 55 Validation: 100%|██████████| 1/1 [00:00<00:00,  2.21it/s, loss=1.86]\n",
      "/scratch/user/akash.pillai.0810/.my_env/lib/python3.10/site-packages/sklearn/metrics/_classification.py:1565: UndefinedMetricWarning: F-score is ill-defined and being set to 0.0 due to no true nor predicted samples. Use `zero_division` parameter to control this behavior.\n",
      "  _warn_prf(average, modifier, f\"{metric.capitalize()} is\", len(result))\n",
      "/scratch/user/akash.pillai.0810/.my_env/lib/python3.10/site-packages/sklearn/metrics/_classification.py:1565: UndefinedMetricWarning: F-score is ill-defined and being set to 0.0 due to no true nor predicted samples. Use `zero_division` parameter to control this behavior.\n",
      "  _warn_prf(average, modifier, f\"{metric.capitalize()} is\", len(result))\n",
      "/scratch/user/akash.pillai.0810/.my_env/lib/python3.10/site-packages/sklearn/metrics/_classification.py:1565: UndefinedMetricWarning: Recall is ill-defined and being set to 0.0 due to no true samples. Use `zero_division` parameter to control this behavior.\n",
      "  _warn_prf(average, modifier, f\"{metric.capitalize()} is\", len(result))\n",
      "/scratch/user/akash.pillai.0810/.my_env/lib/python3.10/site-packages/sklearn/metrics/_classification.py:1565: UndefinedMetricWarning: Recall is ill-defined and being set to 0.0 due to no true samples. Use `zero_division` parameter to control this behavior.\n",
      "  _warn_prf(average, modifier, f\"{metric.capitalize()} is\", len(result))\n"
     ]
    },
    {
     "name": "stdout",
     "output_type": "stream",
     "text": [
      "Epoch 55: Train Loss=2.2717, Val Loss=1.8644\n",
      "Mean F1 Score: 0.7973, Mean Accuracy: 0.9602, Mean Precision: 0.7784, Mean Recall: 0.8182\n"
     ]
    },
    {
     "name": "stderr",
     "output_type": "stream",
     "text": [
      "Epoch 56 Training:   0%|          | 0/4 [00:00<?, ?it/s]/tmp/job.14646635/ipykernel_391663/1724129108.py:79: FutureWarning: Series.__getitem__ treating keys as positions is deprecated. In a future version, integer keys will always be treated as labels (consistent with DataFrame behavior). To access a value by position, use `ser.iloc[pos]`\n",
      "  'labels': torch.tensor(label, dtype=torch.float32)\n",
      "Epoch 56 Training: 100%|██████████| 4/4 [00:05<00:00,  1.43s/it, loss=1.51]\n",
      "Epoch 56 Validation: 100%|██████████| 1/1 [00:00<00:00,  2.22it/s, loss=1.86]\n",
      "/scratch/user/akash.pillai.0810/.my_env/lib/python3.10/site-packages/sklearn/metrics/_classification.py:1565: UndefinedMetricWarning: F-score is ill-defined and being set to 0.0 due to no true nor predicted samples. Use `zero_division` parameter to control this behavior.\n",
      "  _warn_prf(average, modifier, f\"{metric.capitalize()} is\", len(result))\n",
      "/scratch/user/akash.pillai.0810/.my_env/lib/python3.10/site-packages/sklearn/metrics/_classification.py:1565: UndefinedMetricWarning: F-score is ill-defined and being set to 0.0 due to no true nor predicted samples. Use `zero_division` parameter to control this behavior.\n",
      "  _warn_prf(average, modifier, f\"{metric.capitalize()} is\", len(result))\n",
      "/scratch/user/akash.pillai.0810/.my_env/lib/python3.10/site-packages/sklearn/metrics/_classification.py:1565: UndefinedMetricWarning: Recall is ill-defined and being set to 0.0 due to no true samples. Use `zero_division` parameter to control this behavior.\n",
      "  _warn_prf(average, modifier, f\"{metric.capitalize()} is\", len(result))\n",
      "/scratch/user/akash.pillai.0810/.my_env/lib/python3.10/site-packages/sklearn/metrics/_classification.py:1565: UndefinedMetricWarning: Recall is ill-defined and being set to 0.0 due to no true samples. Use `zero_division` parameter to control this behavior.\n",
      "  _warn_prf(average, modifier, f\"{metric.capitalize()} is\", len(result))\n"
     ]
    },
    {
     "name": "stdout",
     "output_type": "stream",
     "text": [
      "Epoch 56: Train Loss=2.2698, Val Loss=1.8631\n",
      "Mean F1 Score: 0.7973, Mean Accuracy: 0.9602, Mean Precision: 0.7784, Mean Recall: 0.8182\n"
     ]
    },
    {
     "name": "stderr",
     "output_type": "stream",
     "text": [
      "Epoch 57 Training:   0%|          | 0/4 [00:00<?, ?it/s]/tmp/job.14646635/ipykernel_391663/1724129108.py:79: FutureWarning: Series.__getitem__ treating keys as positions is deprecated. In a future version, integer keys will always be treated as labels (consistent with DataFrame behavior). To access a value by position, use `ser.iloc[pos]`\n",
      "  'labels': torch.tensor(label, dtype=torch.float32)\n",
      "Epoch 57 Training: 100%|██████████| 4/4 [00:05<00:00,  1.43s/it, loss=2.71]\n",
      "Epoch 57 Validation: 100%|██████████| 1/1 [00:00<00:00,  2.21it/s, loss=1.86]\n",
      "/scratch/user/akash.pillai.0810/.my_env/lib/python3.10/site-packages/sklearn/metrics/_classification.py:1565: UndefinedMetricWarning: F-score is ill-defined and being set to 0.0 due to no true nor predicted samples. Use `zero_division` parameter to control this behavior.\n",
      "  _warn_prf(average, modifier, f\"{metric.capitalize()} is\", len(result))\n",
      "/scratch/user/akash.pillai.0810/.my_env/lib/python3.10/site-packages/sklearn/metrics/_classification.py:1565: UndefinedMetricWarning: F-score is ill-defined and being set to 0.0 due to no true nor predicted samples. Use `zero_division` parameter to control this behavior.\n",
      "  _warn_prf(average, modifier, f\"{metric.capitalize()} is\", len(result))\n",
      "/scratch/user/akash.pillai.0810/.my_env/lib/python3.10/site-packages/sklearn/metrics/_classification.py:1565: UndefinedMetricWarning: Recall is ill-defined and being set to 0.0 due to no true samples. Use `zero_division` parameter to control this behavior.\n",
      "  _warn_prf(average, modifier, f\"{metric.capitalize()} is\", len(result))\n",
      "/scratch/user/akash.pillai.0810/.my_env/lib/python3.10/site-packages/sklearn/metrics/_classification.py:1565: UndefinedMetricWarning: Recall is ill-defined and being set to 0.0 due to no true samples. Use `zero_division` parameter to control this behavior.\n",
      "  _warn_prf(average, modifier, f\"{metric.capitalize()} is\", len(result))\n"
     ]
    },
    {
     "name": "stdout",
     "output_type": "stream",
     "text": [
      "Epoch 57: Train Loss=2.2473, Val Loss=1.8597\n",
      "Mean F1 Score: 0.7973, Mean Accuracy: 0.9602, Mean Precision: 0.7784, Mean Recall: 0.8182\n"
     ]
    },
    {
     "name": "stderr",
     "output_type": "stream",
     "text": [
      "Epoch 58 Training:   0%|          | 0/4 [00:00<?, ?it/s]/tmp/job.14646635/ipykernel_391663/1724129108.py:79: FutureWarning: Series.__getitem__ treating keys as positions is deprecated. In a future version, integer keys will always be treated as labels (consistent with DataFrame behavior). To access a value by position, use `ser.iloc[pos]`\n",
      "  'labels': torch.tensor(label, dtype=torch.float32)\n",
      "Epoch 58 Training: 100%|██████████| 4/4 [00:05<00:00,  1.43s/it, loss=2.11]\n",
      "Epoch 58 Validation: 100%|██████████| 1/1 [00:00<00:00,  2.22it/s, loss=1.85]\n",
      "/scratch/user/akash.pillai.0810/.my_env/lib/python3.10/site-packages/sklearn/metrics/_classification.py:1565: UndefinedMetricWarning: F-score is ill-defined and being set to 0.0 due to no true nor predicted samples. Use `zero_division` parameter to control this behavior.\n",
      "  _warn_prf(average, modifier, f\"{metric.capitalize()} is\", len(result))\n",
      "/scratch/user/akash.pillai.0810/.my_env/lib/python3.10/site-packages/sklearn/metrics/_classification.py:1565: UndefinedMetricWarning: F-score is ill-defined and being set to 0.0 due to no true nor predicted samples. Use `zero_division` parameter to control this behavior.\n",
      "  _warn_prf(average, modifier, f\"{metric.capitalize()} is\", len(result))\n",
      "/scratch/user/akash.pillai.0810/.my_env/lib/python3.10/site-packages/sklearn/metrics/_classification.py:1565: UndefinedMetricWarning: Recall is ill-defined and being set to 0.0 due to no true samples. Use `zero_division` parameter to control this behavior.\n",
      "  _warn_prf(average, modifier, f\"{metric.capitalize()} is\", len(result))\n",
      "/scratch/user/akash.pillai.0810/.my_env/lib/python3.10/site-packages/sklearn/metrics/_classification.py:1565: UndefinedMetricWarning: Recall is ill-defined and being set to 0.0 due to no true samples. Use `zero_division` parameter to control this behavior.\n",
      "  _warn_prf(average, modifier, f\"{metric.capitalize()} is\", len(result))\n"
     ]
    },
    {
     "name": "stdout",
     "output_type": "stream",
     "text": [
      "Epoch 58: Train Loss=2.2503, Val Loss=1.8528\n",
      "Mean F1 Score: 0.7973, Mean Accuracy: 0.9602, Mean Precision: 0.7784, Mean Recall: 0.8182\n"
     ]
    },
    {
     "name": "stderr",
     "output_type": "stream",
     "text": [
      "Epoch 59 Training:   0%|          | 0/4 [00:00<?, ?it/s]/tmp/job.14646635/ipykernel_391663/1724129108.py:79: FutureWarning: Series.__getitem__ treating keys as positions is deprecated. In a future version, integer keys will always be treated as labels (consistent with DataFrame behavior). To access a value by position, use `ser.iloc[pos]`\n",
      "  'labels': torch.tensor(label, dtype=torch.float32)\n",
      "Epoch 59 Training: 100%|██████████| 4/4 [00:05<00:00,  1.43s/it, loss=1.51]\n",
      "Epoch 59 Validation: 100%|██████████| 1/1 [00:00<00:00,  2.22it/s, loss=1.85]\n",
      "/scratch/user/akash.pillai.0810/.my_env/lib/python3.10/site-packages/sklearn/metrics/_classification.py:1565: UndefinedMetricWarning: F-score is ill-defined and being set to 0.0 due to no true nor predicted samples. Use `zero_division` parameter to control this behavior.\n",
      "  _warn_prf(average, modifier, f\"{metric.capitalize()} is\", len(result))\n",
      "/scratch/user/akash.pillai.0810/.my_env/lib/python3.10/site-packages/sklearn/metrics/_classification.py:1565: UndefinedMetricWarning: F-score is ill-defined and being set to 0.0 due to no true nor predicted samples. Use `zero_division` parameter to control this behavior.\n",
      "  _warn_prf(average, modifier, f\"{metric.capitalize()} is\", len(result))\n",
      "/scratch/user/akash.pillai.0810/.my_env/lib/python3.10/site-packages/sklearn/metrics/_classification.py:1565: UndefinedMetricWarning: Recall is ill-defined and being set to 0.0 due to no true samples. Use `zero_division` parameter to control this behavior.\n",
      "  _warn_prf(average, modifier, f\"{metric.capitalize()} is\", len(result))\n",
      "/scratch/user/akash.pillai.0810/.my_env/lib/python3.10/site-packages/sklearn/metrics/_classification.py:1565: UndefinedMetricWarning: Recall is ill-defined and being set to 0.0 due to no true samples. Use `zero_division` parameter to control this behavior.\n",
      "  _warn_prf(average, modifier, f\"{metric.capitalize()} is\", len(result))\n"
     ]
    },
    {
     "name": "stdout",
     "output_type": "stream",
     "text": [
      "Epoch 59: Train Loss=2.2243, Val Loss=1.8540\n",
      "Mean F1 Score: 0.7973, Mean Accuracy: 0.9602, Mean Precision: 0.7784, Mean Recall: 0.8182\n"
     ]
    },
    {
     "name": "stderr",
     "output_type": "stream",
     "text": [
      "Epoch 60 Training:   0%|          | 0/4 [00:00<?, ?it/s]/tmp/job.14646635/ipykernel_391663/1724129108.py:79: FutureWarning: Series.__getitem__ treating keys as positions is deprecated. In a future version, integer keys will always be treated as labels (consistent with DataFrame behavior). To access a value by position, use `ser.iloc[pos]`\n",
      "  'labels': torch.tensor(label, dtype=torch.float32)\n",
      "Epoch 60 Training: 100%|██████████| 4/4 [00:05<00:00,  1.43s/it, loss=1.38]\n",
      "Epoch 60 Validation: 100%|██████████| 1/1 [00:00<00:00,  2.22it/s, loss=1.85]\n",
      "/scratch/user/akash.pillai.0810/.my_env/lib/python3.10/site-packages/sklearn/metrics/_classification.py:1565: UndefinedMetricWarning: F-score is ill-defined and being set to 0.0 due to no true nor predicted samples. Use `zero_division` parameter to control this behavior.\n",
      "  _warn_prf(average, modifier, f\"{metric.capitalize()} is\", len(result))\n",
      "/scratch/user/akash.pillai.0810/.my_env/lib/python3.10/site-packages/sklearn/metrics/_classification.py:1565: UndefinedMetricWarning: F-score is ill-defined and being set to 0.0 due to no true nor predicted samples. Use `zero_division` parameter to control this behavior.\n",
      "  _warn_prf(average, modifier, f\"{metric.capitalize()} is\", len(result))\n",
      "/scratch/user/akash.pillai.0810/.my_env/lib/python3.10/site-packages/sklearn/metrics/_classification.py:1565: UndefinedMetricWarning: Recall is ill-defined and being set to 0.0 due to no true samples. Use `zero_division` parameter to control this behavior.\n",
      "  _warn_prf(average, modifier, f\"{metric.capitalize()} is\", len(result))\n",
      "/scratch/user/akash.pillai.0810/.my_env/lib/python3.10/site-packages/sklearn/metrics/_classification.py:1565: UndefinedMetricWarning: Recall is ill-defined and being set to 0.0 due to no true samples. Use `zero_division` parameter to control this behavior.\n",
      "  _warn_prf(average, modifier, f\"{metric.capitalize()} is\", len(result))\n"
     ]
    },
    {
     "name": "stdout",
     "output_type": "stream",
     "text": [
      "Epoch 60: Train Loss=2.2544, Val Loss=1.8504\n",
      "Mean F1 Score: 0.7973, Mean Accuracy: 0.9602, Mean Precision: 0.7784, Mean Recall: 0.8182\n"
     ]
    },
    {
     "name": "stderr",
     "output_type": "stream",
     "text": [
      "Epoch 61 Training:   0%|          | 0/4 [00:00<?, ?it/s]/tmp/job.14646635/ipykernel_391663/1724129108.py:79: FutureWarning: Series.__getitem__ treating keys as positions is deprecated. In a future version, integer keys will always be treated as labels (consistent with DataFrame behavior). To access a value by position, use `ser.iloc[pos]`\n",
      "  'labels': torch.tensor(label, dtype=torch.float32)\n",
      "Epoch 61 Training: 100%|██████████| 4/4 [00:05<00:00,  1.43s/it, loss=4.14]\n",
      "Epoch 61 Validation: 100%|██████████| 1/1 [00:00<00:00,  2.22it/s, loss=1.85]\n",
      "/scratch/user/akash.pillai.0810/.my_env/lib/python3.10/site-packages/sklearn/metrics/_classification.py:1565: UndefinedMetricWarning: F-score is ill-defined and being set to 0.0 due to no true nor predicted samples. Use `zero_division` parameter to control this behavior.\n",
      "  _warn_prf(average, modifier, f\"{metric.capitalize()} is\", len(result))\n",
      "/scratch/user/akash.pillai.0810/.my_env/lib/python3.10/site-packages/sklearn/metrics/_classification.py:1565: UndefinedMetricWarning: F-score is ill-defined and being set to 0.0 due to no true nor predicted samples. Use `zero_division` parameter to control this behavior.\n",
      "  _warn_prf(average, modifier, f\"{metric.capitalize()} is\", len(result))\n",
      "/scratch/user/akash.pillai.0810/.my_env/lib/python3.10/site-packages/sklearn/metrics/_classification.py:1565: UndefinedMetricWarning: Recall is ill-defined and being set to 0.0 due to no true samples. Use `zero_division` parameter to control this behavior.\n",
      "  _warn_prf(average, modifier, f\"{metric.capitalize()} is\", len(result))\n",
      "/scratch/user/akash.pillai.0810/.my_env/lib/python3.10/site-packages/sklearn/metrics/_classification.py:1565: UndefinedMetricWarning: Recall is ill-defined and being set to 0.0 due to no true samples. Use `zero_division` parameter to control this behavior.\n",
      "  _warn_prf(average, modifier, f\"{metric.capitalize()} is\", len(result))\n"
     ]
    },
    {
     "name": "stdout",
     "output_type": "stream",
     "text": [
      "Epoch 61: Train Loss=2.2528, Val Loss=1.8463\n",
      "Mean F1 Score: 0.7973, Mean Accuracy: 0.9602, Mean Precision: 0.7784, Mean Recall: 0.8182\n"
     ]
    },
    {
     "name": "stderr",
     "output_type": "stream",
     "text": [
      "Epoch 62 Training:   0%|          | 0/4 [00:00<?, ?it/s]/tmp/job.14646635/ipykernel_391663/1724129108.py:79: FutureWarning: Series.__getitem__ treating keys as positions is deprecated. In a future version, integer keys will always be treated as labels (consistent with DataFrame behavior). To access a value by position, use `ser.iloc[pos]`\n",
      "  'labels': torch.tensor(label, dtype=torch.float32)\n",
      "Epoch 62 Training: 100%|██████████| 4/4 [00:05<00:00,  1.43s/it, loss=1.47]\n",
      "Epoch 62 Validation: 100%|██████████| 1/1 [00:00<00:00,  2.22it/s, loss=1.82]\n",
      "/scratch/user/akash.pillai.0810/.my_env/lib/python3.10/site-packages/sklearn/metrics/_classification.py:1565: UndefinedMetricWarning: F-score is ill-defined and being set to 0.0 due to no true nor predicted samples. Use `zero_division` parameter to control this behavior.\n",
      "  _warn_prf(average, modifier, f\"{metric.capitalize()} is\", len(result))\n",
      "/scratch/user/akash.pillai.0810/.my_env/lib/python3.10/site-packages/sklearn/metrics/_classification.py:1565: UndefinedMetricWarning: F-score is ill-defined and being set to 0.0 due to no true nor predicted samples. Use `zero_division` parameter to control this behavior.\n",
      "  _warn_prf(average, modifier, f\"{metric.capitalize()} is\", len(result))\n",
      "/scratch/user/akash.pillai.0810/.my_env/lib/python3.10/site-packages/sklearn/metrics/_classification.py:1565: UndefinedMetricWarning: Recall is ill-defined and being set to 0.0 due to no true samples. Use `zero_division` parameter to control this behavior.\n",
      "  _warn_prf(average, modifier, f\"{metric.capitalize()} is\", len(result))\n",
      "/scratch/user/akash.pillai.0810/.my_env/lib/python3.10/site-packages/sklearn/metrics/_classification.py:1565: UndefinedMetricWarning: Recall is ill-defined and being set to 0.0 due to no true samples. Use `zero_division` parameter to control this behavior.\n",
      "  _warn_prf(average, modifier, f\"{metric.capitalize()} is\", len(result))\n"
     ]
    },
    {
     "name": "stdout",
     "output_type": "stream",
     "text": [
      "Epoch 62: Train Loss=2.2096, Val Loss=1.8206\n",
      "Mean F1 Score: 0.7973, Mean Accuracy: 0.9602, Mean Precision: 0.7784, Mean Recall: 0.8182\n"
     ]
    },
    {
     "name": "stderr",
     "output_type": "stream",
     "text": [
      "Epoch 63 Training:   0%|          | 0/4 [00:00<?, ?it/s]/tmp/job.14646635/ipykernel_391663/1724129108.py:79: FutureWarning: Series.__getitem__ treating keys as positions is deprecated. In a future version, integer keys will always be treated as labels (consistent with DataFrame behavior). To access a value by position, use `ser.iloc[pos]`\n",
      "  'labels': torch.tensor(label, dtype=torch.float32)\n",
      "Epoch 63 Training: 100%|██████████| 4/4 [00:05<00:00,  1.43s/it, loss=3.06]\n",
      "Epoch 63 Validation: 100%|██████████| 1/1 [00:00<00:00,  2.22it/s, loss=1.84]\n",
      "/scratch/user/akash.pillai.0810/.my_env/lib/python3.10/site-packages/sklearn/metrics/_classification.py:1565: UndefinedMetricWarning: F-score is ill-defined and being set to 0.0 due to no true nor predicted samples. Use `zero_division` parameter to control this behavior.\n",
      "  _warn_prf(average, modifier, f\"{metric.capitalize()} is\", len(result))\n",
      "/scratch/user/akash.pillai.0810/.my_env/lib/python3.10/site-packages/sklearn/metrics/_classification.py:1565: UndefinedMetricWarning: F-score is ill-defined and being set to 0.0 due to no true nor predicted samples. Use `zero_division` parameter to control this behavior.\n",
      "  _warn_prf(average, modifier, f\"{metric.capitalize()} is\", len(result))\n",
      "/scratch/user/akash.pillai.0810/.my_env/lib/python3.10/site-packages/sklearn/metrics/_classification.py:1565: UndefinedMetricWarning: Recall is ill-defined and being set to 0.0 due to no true samples. Use `zero_division` parameter to control this behavior.\n",
      "  _warn_prf(average, modifier, f\"{metric.capitalize()} is\", len(result))\n",
      "/scratch/user/akash.pillai.0810/.my_env/lib/python3.10/site-packages/sklearn/metrics/_classification.py:1565: UndefinedMetricWarning: Recall is ill-defined and being set to 0.0 due to no true samples. Use `zero_division` parameter to control this behavior.\n",
      "  _warn_prf(average, modifier, f\"{metric.capitalize()} is\", len(result))\n"
     ]
    },
    {
     "name": "stdout",
     "output_type": "stream",
     "text": [
      "Epoch 63: Train Loss=2.1988, Val Loss=1.8386\n",
      "Mean F1 Score: 0.7973, Mean Accuracy: 0.9602, Mean Precision: 0.7784, Mean Recall: 0.8182\n"
     ]
    },
    {
     "name": "stderr",
     "output_type": "stream",
     "text": [
      "Epoch 64 Training:   0%|          | 0/4 [00:00<?, ?it/s]/tmp/job.14646635/ipykernel_391663/1724129108.py:79: FutureWarning: Series.__getitem__ treating keys as positions is deprecated. In a future version, integer keys will always be treated as labels (consistent with DataFrame behavior). To access a value by position, use `ser.iloc[pos]`\n",
      "  'labels': torch.tensor(label, dtype=torch.float32)\n",
      "Epoch 64 Training: 100%|██████████| 4/4 [00:05<00:00,  1.43s/it, loss=3.34]\n",
      "Epoch 64 Validation: 100%|██████████| 1/1 [00:00<00:00,  2.22it/s, loss=1.81]\n",
      "/scratch/user/akash.pillai.0810/.my_env/lib/python3.10/site-packages/sklearn/metrics/_classification.py:1565: UndefinedMetricWarning: F-score is ill-defined and being set to 0.0 due to no true nor predicted samples. Use `zero_division` parameter to control this behavior.\n",
      "  _warn_prf(average, modifier, f\"{metric.capitalize()} is\", len(result))\n",
      "/scratch/user/akash.pillai.0810/.my_env/lib/python3.10/site-packages/sklearn/metrics/_classification.py:1565: UndefinedMetricWarning: F-score is ill-defined and being set to 0.0 due to no true nor predicted samples. Use `zero_division` parameter to control this behavior.\n",
      "  _warn_prf(average, modifier, f\"{metric.capitalize()} is\", len(result))\n",
      "/scratch/user/akash.pillai.0810/.my_env/lib/python3.10/site-packages/sklearn/metrics/_classification.py:1565: UndefinedMetricWarning: Recall is ill-defined and being set to 0.0 due to no true samples. Use `zero_division` parameter to control this behavior.\n",
      "  _warn_prf(average, modifier, f\"{metric.capitalize()} is\", len(result))\n",
      "/scratch/user/akash.pillai.0810/.my_env/lib/python3.10/site-packages/sklearn/metrics/_classification.py:1565: UndefinedMetricWarning: Recall is ill-defined and being set to 0.0 due to no true samples. Use `zero_division` parameter to control this behavior.\n",
      "  _warn_prf(average, modifier, f\"{metric.capitalize()} is\", len(result))\n"
     ]
    },
    {
     "name": "stdout",
     "output_type": "stream",
     "text": [
      "Epoch 64: Train Loss=2.1953, Val Loss=1.8071\n",
      "Mean F1 Score: 0.7973, Mean Accuracy: 0.9602, Mean Precision: 0.7784, Mean Recall: 0.8182\n"
     ]
    },
    {
     "name": "stderr",
     "output_type": "stream",
     "text": [
      "Epoch 65 Training:   0%|          | 0/4 [00:00<?, ?it/s]/tmp/job.14646635/ipykernel_391663/1724129108.py:79: FutureWarning: Series.__getitem__ treating keys as positions is deprecated. In a future version, integer keys will always be treated as labels (consistent with DataFrame behavior). To access a value by position, use `ser.iloc[pos]`\n",
      "  'labels': torch.tensor(label, dtype=torch.float32)\n",
      "Epoch 65 Training: 100%|██████████| 4/4 [00:05<00:00,  1.43s/it, loss=2.38]\n",
      "Epoch 65 Validation: 100%|██████████| 1/1 [00:00<00:00,  2.21it/s, loss=1.81]\n",
      "/scratch/user/akash.pillai.0810/.my_env/lib/python3.10/site-packages/sklearn/metrics/_classification.py:1565: UndefinedMetricWarning: F-score is ill-defined and being set to 0.0 due to no true nor predicted samples. Use `zero_division` parameter to control this behavior.\n",
      "  _warn_prf(average, modifier, f\"{metric.capitalize()} is\", len(result))\n",
      "/scratch/user/akash.pillai.0810/.my_env/lib/python3.10/site-packages/sklearn/metrics/_classification.py:1565: UndefinedMetricWarning: F-score is ill-defined and being set to 0.0 due to no true nor predicted samples. Use `zero_division` parameter to control this behavior.\n",
      "  _warn_prf(average, modifier, f\"{metric.capitalize()} is\", len(result))\n",
      "/scratch/user/akash.pillai.0810/.my_env/lib/python3.10/site-packages/sklearn/metrics/_classification.py:1565: UndefinedMetricWarning: Recall is ill-defined and being set to 0.0 due to no true samples. Use `zero_division` parameter to control this behavior.\n",
      "  _warn_prf(average, modifier, f\"{metric.capitalize()} is\", len(result))\n",
      "/scratch/user/akash.pillai.0810/.my_env/lib/python3.10/site-packages/sklearn/metrics/_classification.py:1565: UndefinedMetricWarning: Recall is ill-defined and being set to 0.0 due to no true samples. Use `zero_division` parameter to control this behavior.\n",
      "  _warn_prf(average, modifier, f\"{metric.capitalize()} is\", len(result))\n"
     ]
    },
    {
     "name": "stdout",
     "output_type": "stream",
     "text": [
      "Epoch 65: Train Loss=2.2192, Val Loss=1.8073\n",
      "Mean F1 Score: 0.7973, Mean Accuracy: 0.9602, Mean Precision: 0.7784, Mean Recall: 0.8182\n"
     ]
    },
    {
     "name": "stderr",
     "output_type": "stream",
     "text": [
      "Epoch 66 Training:   0%|          | 0/4 [00:00<?, ?it/s]/tmp/job.14646635/ipykernel_391663/1724129108.py:79: FutureWarning: Series.__getitem__ treating keys as positions is deprecated. In a future version, integer keys will always be treated as labels (consistent with DataFrame behavior). To access a value by position, use `ser.iloc[pos]`\n",
      "  'labels': torch.tensor(label, dtype=torch.float32)\n",
      "Epoch 66 Training: 100%|██████████| 4/4 [00:05<00:00,  1.43s/it, loss=3.47]\n",
      "Epoch 66 Validation: 100%|██████████| 1/1 [00:00<00:00,  2.22it/s, loss=1.79]\n",
      "/scratch/user/akash.pillai.0810/.my_env/lib/python3.10/site-packages/sklearn/metrics/_classification.py:1565: UndefinedMetricWarning: F-score is ill-defined and being set to 0.0 due to no true nor predicted samples. Use `zero_division` parameter to control this behavior.\n",
      "  _warn_prf(average, modifier, f\"{metric.capitalize()} is\", len(result))\n",
      "/scratch/user/akash.pillai.0810/.my_env/lib/python3.10/site-packages/sklearn/metrics/_classification.py:1565: UndefinedMetricWarning: F-score is ill-defined and being set to 0.0 due to no true nor predicted samples. Use `zero_division` parameter to control this behavior.\n",
      "  _warn_prf(average, modifier, f\"{metric.capitalize()} is\", len(result))\n",
      "/scratch/user/akash.pillai.0810/.my_env/lib/python3.10/site-packages/sklearn/metrics/_classification.py:1565: UndefinedMetricWarning: Recall is ill-defined and being set to 0.0 due to no true samples. Use `zero_division` parameter to control this behavior.\n",
      "  _warn_prf(average, modifier, f\"{metric.capitalize()} is\", len(result))\n",
      "/scratch/user/akash.pillai.0810/.my_env/lib/python3.10/site-packages/sklearn/metrics/_classification.py:1565: UndefinedMetricWarning: Recall is ill-defined and being set to 0.0 due to no true samples. Use `zero_division` parameter to control this behavior.\n",
      "  _warn_prf(average, modifier, f\"{metric.capitalize()} is\", len(result))\n"
     ]
    },
    {
     "name": "stdout",
     "output_type": "stream",
     "text": [
      "Epoch 66: Train Loss=2.1689, Val Loss=1.7932\n",
      "Mean F1 Score: 0.7973, Mean Accuracy: 0.9602, Mean Precision: 0.7784, Mean Recall: 0.8182\n"
     ]
    },
    {
     "name": "stderr",
     "output_type": "stream",
     "text": [
      "Epoch 67 Training:   0%|          | 0/4 [00:00<?, ?it/s]/tmp/job.14646635/ipykernel_391663/1724129108.py:79: FutureWarning: Series.__getitem__ treating keys as positions is deprecated. In a future version, integer keys will always be treated as labels (consistent with DataFrame behavior). To access a value by position, use `ser.iloc[pos]`\n",
      "  'labels': torch.tensor(label, dtype=torch.float32)\n",
      "Epoch 67 Training: 100%|██████████| 4/4 [00:05<00:00,  1.43s/it, loss=1.45]\n",
      "Epoch 67 Validation: 100%|██████████| 1/1 [00:00<00:00,  2.22it/s, loss=1.79]\n",
      "/scratch/user/akash.pillai.0810/.my_env/lib/python3.10/site-packages/sklearn/metrics/_classification.py:1565: UndefinedMetricWarning: F-score is ill-defined and being set to 0.0 due to no true nor predicted samples. Use `zero_division` parameter to control this behavior.\n",
      "  _warn_prf(average, modifier, f\"{metric.capitalize()} is\", len(result))\n",
      "/scratch/user/akash.pillai.0810/.my_env/lib/python3.10/site-packages/sklearn/metrics/_classification.py:1565: UndefinedMetricWarning: F-score is ill-defined and being set to 0.0 due to no true nor predicted samples. Use `zero_division` parameter to control this behavior.\n",
      "  _warn_prf(average, modifier, f\"{metric.capitalize()} is\", len(result))\n",
      "/scratch/user/akash.pillai.0810/.my_env/lib/python3.10/site-packages/sklearn/metrics/_classification.py:1565: UndefinedMetricWarning: Recall is ill-defined and being set to 0.0 due to no true samples. Use `zero_division` parameter to control this behavior.\n",
      "  _warn_prf(average, modifier, f\"{metric.capitalize()} is\", len(result))\n",
      "/scratch/user/akash.pillai.0810/.my_env/lib/python3.10/site-packages/sklearn/metrics/_classification.py:1565: UndefinedMetricWarning: Recall is ill-defined and being set to 0.0 due to no true samples. Use `zero_division` parameter to control this behavior.\n",
      "  _warn_prf(average, modifier, f\"{metric.capitalize()} is\", len(result))\n"
     ]
    },
    {
     "name": "stdout",
     "output_type": "stream",
     "text": [
      "Epoch 67: Train Loss=2.1558, Val Loss=1.7872\n",
      "Mean F1 Score: 0.7973, Mean Accuracy: 0.9602, Mean Precision: 0.7784, Mean Recall: 0.8182\n"
     ]
    },
    {
     "name": "stderr",
     "output_type": "stream",
     "text": [
      "Epoch 68 Training:   0%|          | 0/4 [00:00<?, ?it/s]/tmp/job.14646635/ipykernel_391663/1724129108.py:79: FutureWarning: Series.__getitem__ treating keys as positions is deprecated. In a future version, integer keys will always be treated as labels (consistent with DataFrame behavior). To access a value by position, use `ser.iloc[pos]`\n",
      "  'labels': torch.tensor(label, dtype=torch.float32)\n",
      "Epoch 68 Training: 100%|██████████| 4/4 [00:05<00:00,  1.43s/it, loss=1.53]\n",
      "Epoch 68 Validation: 100%|██████████| 1/1 [00:00<00:00,  2.22it/s, loss=1.76]\n",
      "/scratch/user/akash.pillai.0810/.my_env/lib/python3.10/site-packages/sklearn/metrics/_classification.py:1565: UndefinedMetricWarning: F-score is ill-defined and being set to 0.0 due to no true nor predicted samples. Use `zero_division` parameter to control this behavior.\n",
      "  _warn_prf(average, modifier, f\"{metric.capitalize()} is\", len(result))\n",
      "/scratch/user/akash.pillai.0810/.my_env/lib/python3.10/site-packages/sklearn/metrics/_classification.py:1565: UndefinedMetricWarning: F-score is ill-defined and being set to 0.0 due to no true nor predicted samples. Use `zero_division` parameter to control this behavior.\n",
      "  _warn_prf(average, modifier, f\"{metric.capitalize()} is\", len(result))\n",
      "/scratch/user/akash.pillai.0810/.my_env/lib/python3.10/site-packages/sklearn/metrics/_classification.py:1565: UndefinedMetricWarning: Recall is ill-defined and being set to 0.0 due to no true samples. Use `zero_division` parameter to control this behavior.\n",
      "  _warn_prf(average, modifier, f\"{metric.capitalize()} is\", len(result))\n",
      "/scratch/user/akash.pillai.0810/.my_env/lib/python3.10/site-packages/sklearn/metrics/_classification.py:1565: UndefinedMetricWarning: Recall is ill-defined and being set to 0.0 due to no true samples. Use `zero_division` parameter to control this behavior.\n",
      "  _warn_prf(average, modifier, f\"{metric.capitalize()} is\", len(result))\n"
     ]
    },
    {
     "name": "stdout",
     "output_type": "stream",
     "text": [
      "Epoch 68: Train Loss=2.1934, Val Loss=1.7633\n",
      "Mean F1 Score: 0.7973, Mean Accuracy: 0.9602, Mean Precision: 0.7784, Mean Recall: 0.8182\n"
     ]
    },
    {
     "name": "stderr",
     "output_type": "stream",
     "text": [
      "Epoch 69 Training:   0%|          | 0/4 [00:00<?, ?it/s]/tmp/job.14646635/ipykernel_391663/1724129108.py:79: FutureWarning: Series.__getitem__ treating keys as positions is deprecated. In a future version, integer keys will always be treated as labels (consistent with DataFrame behavior). To access a value by position, use `ser.iloc[pos]`\n",
      "  'labels': torch.tensor(label, dtype=torch.float32)\n",
      "Epoch 69 Training: 100%|██████████| 4/4 [00:05<00:00,  1.43s/it, loss=1.86]\n",
      "Epoch 69 Validation: 100%|██████████| 1/1 [00:00<00:00,  2.22it/s, loss=1.77]\n",
      "/scratch/user/akash.pillai.0810/.my_env/lib/python3.10/site-packages/sklearn/metrics/_classification.py:1565: UndefinedMetricWarning: F-score is ill-defined and being set to 0.0 due to no true nor predicted samples. Use `zero_division` parameter to control this behavior.\n",
      "  _warn_prf(average, modifier, f\"{metric.capitalize()} is\", len(result))\n",
      "/scratch/user/akash.pillai.0810/.my_env/lib/python3.10/site-packages/sklearn/metrics/_classification.py:1565: UndefinedMetricWarning: F-score is ill-defined and being set to 0.0 due to no true nor predicted samples. Use `zero_division` parameter to control this behavior.\n",
      "  _warn_prf(average, modifier, f\"{metric.capitalize()} is\", len(result))\n",
      "/scratch/user/akash.pillai.0810/.my_env/lib/python3.10/site-packages/sklearn/metrics/_classification.py:1565: UndefinedMetricWarning: Recall is ill-defined and being set to 0.0 due to no true samples. Use `zero_division` parameter to control this behavior.\n",
      "  _warn_prf(average, modifier, f\"{metric.capitalize()} is\", len(result))\n",
      "/scratch/user/akash.pillai.0810/.my_env/lib/python3.10/site-packages/sklearn/metrics/_classification.py:1565: UndefinedMetricWarning: Recall is ill-defined and being set to 0.0 due to no true samples. Use `zero_division` parameter to control this behavior.\n",
      "  _warn_prf(average, modifier, f\"{metric.capitalize()} is\", len(result))\n"
     ]
    },
    {
     "name": "stdout",
     "output_type": "stream",
     "text": [
      "Epoch 69: Train Loss=2.1672, Val Loss=1.7748\n",
      "Mean F1 Score: 0.7973, Mean Accuracy: 0.9602, Mean Precision: 0.7784, Mean Recall: 0.8182\n"
     ]
    },
    {
     "name": "stderr",
     "output_type": "stream",
     "text": [
      "Epoch 70 Training:   0%|          | 0/4 [00:00<?, ?it/s]/tmp/job.14646635/ipykernel_391663/1724129108.py:79: FutureWarning: Series.__getitem__ treating keys as positions is deprecated. In a future version, integer keys will always be treated as labels (consistent with DataFrame behavior). To access a value by position, use `ser.iloc[pos]`\n",
      "  'labels': torch.tensor(label, dtype=torch.float32)\n",
      "Epoch 70 Training: 100%|██████████| 4/4 [00:05<00:00,  1.43s/it, loss=2.28]\n",
      "Epoch 70 Validation: 100%|██████████| 1/1 [00:00<00:00,  2.22it/s, loss=1.78]\n",
      "/scratch/user/akash.pillai.0810/.my_env/lib/python3.10/site-packages/sklearn/metrics/_classification.py:1565: UndefinedMetricWarning: F-score is ill-defined and being set to 0.0 due to no true nor predicted samples. Use `zero_division` parameter to control this behavior.\n",
      "  _warn_prf(average, modifier, f\"{metric.capitalize()} is\", len(result))\n",
      "/scratch/user/akash.pillai.0810/.my_env/lib/python3.10/site-packages/sklearn/metrics/_classification.py:1565: UndefinedMetricWarning: F-score is ill-defined and being set to 0.0 due to no true nor predicted samples. Use `zero_division` parameter to control this behavior.\n",
      "  _warn_prf(average, modifier, f\"{metric.capitalize()} is\", len(result))\n",
      "/scratch/user/akash.pillai.0810/.my_env/lib/python3.10/site-packages/sklearn/metrics/_classification.py:1565: UndefinedMetricWarning: Recall is ill-defined and being set to 0.0 due to no true samples. Use `zero_division` parameter to control this behavior.\n",
      "  _warn_prf(average, modifier, f\"{metric.capitalize()} is\", len(result))\n",
      "/scratch/user/akash.pillai.0810/.my_env/lib/python3.10/site-packages/sklearn/metrics/_classification.py:1565: UndefinedMetricWarning: Recall is ill-defined and being set to 0.0 due to no true samples. Use `zero_division` parameter to control this behavior.\n",
      "  _warn_prf(average, modifier, f\"{metric.capitalize()} is\", len(result))\n"
     ]
    },
    {
     "name": "stdout",
     "output_type": "stream",
     "text": [
      "Epoch 70: Train Loss=2.1549, Val Loss=1.7832\n",
      "Mean F1 Score: 0.7973, Mean Accuracy: 0.9602, Mean Precision: 0.7784, Mean Recall: 0.8182\n"
     ]
    },
    {
     "name": "stderr",
     "output_type": "stream",
     "text": [
      "Epoch 71 Training:   0%|          | 0/4 [00:00<?, ?it/s]/tmp/job.14646635/ipykernel_391663/1724129108.py:79: FutureWarning: Series.__getitem__ treating keys as positions is deprecated. In a future version, integer keys will always be treated as labels (consistent with DataFrame behavior). To access a value by position, use `ser.iloc[pos]`\n",
      "  'labels': torch.tensor(label, dtype=torch.float32)\n",
      "Epoch 71 Training: 100%|██████████| 4/4 [00:05<00:00,  1.43s/it, loss=1.51]\n",
      "Epoch 71 Validation: 100%|██████████| 1/1 [00:00<00:00,  2.22it/s, loss=1.76]\n",
      "/scratch/user/akash.pillai.0810/.my_env/lib/python3.10/site-packages/sklearn/metrics/_classification.py:1565: UndefinedMetricWarning: F-score is ill-defined and being set to 0.0 due to no true nor predicted samples. Use `zero_division` parameter to control this behavior.\n",
      "  _warn_prf(average, modifier, f\"{metric.capitalize()} is\", len(result))\n",
      "/scratch/user/akash.pillai.0810/.my_env/lib/python3.10/site-packages/sklearn/metrics/_classification.py:1565: UndefinedMetricWarning: F-score is ill-defined and being set to 0.0 due to no true nor predicted samples. Use `zero_division` parameter to control this behavior.\n",
      "  _warn_prf(average, modifier, f\"{metric.capitalize()} is\", len(result))\n",
      "/scratch/user/akash.pillai.0810/.my_env/lib/python3.10/site-packages/sklearn/metrics/_classification.py:1565: UndefinedMetricWarning: Recall is ill-defined and being set to 0.0 due to no true samples. Use `zero_division` parameter to control this behavior.\n",
      "  _warn_prf(average, modifier, f\"{metric.capitalize()} is\", len(result))\n",
      "/scratch/user/akash.pillai.0810/.my_env/lib/python3.10/site-packages/sklearn/metrics/_classification.py:1565: UndefinedMetricWarning: Recall is ill-defined and being set to 0.0 due to no true samples. Use `zero_division` parameter to control this behavior.\n",
      "  _warn_prf(average, modifier, f\"{metric.capitalize()} is\", len(result))\n"
     ]
    },
    {
     "name": "stdout",
     "output_type": "stream",
     "text": [
      "Epoch 71: Train Loss=2.1714, Val Loss=1.7629\n",
      "Mean F1 Score: 0.7973, Mean Accuracy: 0.9602, Mean Precision: 0.7784, Mean Recall: 0.8182\n"
     ]
    },
    {
     "name": "stderr",
     "output_type": "stream",
     "text": [
      "Epoch 72 Training:   0%|          | 0/4 [00:00<?, ?it/s]/tmp/job.14646635/ipykernel_391663/1724129108.py:79: FutureWarning: Series.__getitem__ treating keys as positions is deprecated. In a future version, integer keys will always be treated as labels (consistent with DataFrame behavior). To access a value by position, use `ser.iloc[pos]`\n",
      "  'labels': torch.tensor(label, dtype=torch.float32)\n",
      "Epoch 72 Training: 100%|██████████| 4/4 [00:05<00:00,  1.43s/it, loss=1.44]\n",
      "Epoch 72 Validation: 100%|██████████| 1/1 [00:00<00:00,  2.22it/s, loss=1.75]\n",
      "/scratch/user/akash.pillai.0810/.my_env/lib/python3.10/site-packages/sklearn/metrics/_classification.py:1565: UndefinedMetricWarning: F-score is ill-defined and being set to 0.0 due to no true nor predicted samples. Use `zero_division` parameter to control this behavior.\n",
      "  _warn_prf(average, modifier, f\"{metric.capitalize()} is\", len(result))\n",
      "/scratch/user/akash.pillai.0810/.my_env/lib/python3.10/site-packages/sklearn/metrics/_classification.py:1565: UndefinedMetricWarning: F-score is ill-defined and being set to 0.0 due to no true nor predicted samples. Use `zero_division` parameter to control this behavior.\n",
      "  _warn_prf(average, modifier, f\"{metric.capitalize()} is\", len(result))\n",
      "/scratch/user/akash.pillai.0810/.my_env/lib/python3.10/site-packages/sklearn/metrics/_classification.py:1565: UndefinedMetricWarning: Recall is ill-defined and being set to 0.0 due to no true samples. Use `zero_division` parameter to control this behavior.\n",
      "  _warn_prf(average, modifier, f\"{metric.capitalize()} is\", len(result))\n",
      "/scratch/user/akash.pillai.0810/.my_env/lib/python3.10/site-packages/sklearn/metrics/_classification.py:1565: UndefinedMetricWarning: Recall is ill-defined and being set to 0.0 due to no true samples. Use `zero_division` parameter to control this behavior.\n",
      "  _warn_prf(average, modifier, f\"{metric.capitalize()} is\", len(result))\n"
     ]
    },
    {
     "name": "stdout",
     "output_type": "stream",
     "text": [
      "Epoch 72: Train Loss=2.1476, Val Loss=1.7542\n",
      "Mean F1 Score: 0.7973, Mean Accuracy: 0.9602, Mean Precision: 0.7784, Mean Recall: 0.8182\n"
     ]
    },
    {
     "name": "stderr",
     "output_type": "stream",
     "text": [
      "Epoch 73 Training:   0%|          | 0/4 [00:00<?, ?it/s]/tmp/job.14646635/ipykernel_391663/1724129108.py:79: FutureWarning: Series.__getitem__ treating keys as positions is deprecated. In a future version, integer keys will always be treated as labels (consistent with DataFrame behavior). To access a value by position, use `ser.iloc[pos]`\n",
      "  'labels': torch.tensor(label, dtype=torch.float32)\n",
      "Epoch 73 Training: 100%|██████████| 4/4 [00:05<00:00,  1.43s/it, loss=1.21]\n",
      "Epoch 73 Validation: 100%|██████████| 1/1 [00:00<00:00,  2.22it/s, loss=1.74]\n",
      "/scratch/user/akash.pillai.0810/.my_env/lib/python3.10/site-packages/sklearn/metrics/_classification.py:1565: UndefinedMetricWarning: F-score is ill-defined and being set to 0.0 due to no true nor predicted samples. Use `zero_division` parameter to control this behavior.\n",
      "  _warn_prf(average, modifier, f\"{metric.capitalize()} is\", len(result))\n",
      "/scratch/user/akash.pillai.0810/.my_env/lib/python3.10/site-packages/sklearn/metrics/_classification.py:1565: UndefinedMetricWarning: F-score is ill-defined and being set to 0.0 due to no true nor predicted samples. Use `zero_division` parameter to control this behavior.\n",
      "  _warn_prf(average, modifier, f\"{metric.capitalize()} is\", len(result))\n",
      "/scratch/user/akash.pillai.0810/.my_env/lib/python3.10/site-packages/sklearn/metrics/_classification.py:1565: UndefinedMetricWarning: Recall is ill-defined and being set to 0.0 due to no true samples. Use `zero_division` parameter to control this behavior.\n",
      "  _warn_prf(average, modifier, f\"{metric.capitalize()} is\", len(result))\n",
      "/scratch/user/akash.pillai.0810/.my_env/lib/python3.10/site-packages/sklearn/metrics/_classification.py:1565: UndefinedMetricWarning: Recall is ill-defined and being set to 0.0 due to no true samples. Use `zero_division` parameter to control this behavior.\n",
      "  _warn_prf(average, modifier, f\"{metric.capitalize()} is\", len(result))\n"
     ]
    },
    {
     "name": "stdout",
     "output_type": "stream",
     "text": [
      "Epoch 73: Train Loss=2.1573, Val Loss=1.7350\n",
      "Mean F1 Score: 0.7973, Mean Accuracy: 0.9602, Mean Precision: 0.7784, Mean Recall: 0.8182\n"
     ]
    },
    {
     "name": "stderr",
     "output_type": "stream",
     "text": [
      "Epoch 74 Training:   0%|          | 0/4 [00:00<?, ?it/s]/tmp/job.14646635/ipykernel_391663/1724129108.py:79: FutureWarning: Series.__getitem__ treating keys as positions is deprecated. In a future version, integer keys will always be treated as labels (consistent with DataFrame behavior). To access a value by position, use `ser.iloc[pos]`\n",
      "  'labels': torch.tensor(label, dtype=torch.float32)\n",
      "Epoch 74 Training: 100%|██████████| 4/4 [00:05<00:00,  1.43s/it, loss=2.24]\n",
      "Epoch 74 Validation: 100%|██████████| 1/1 [00:00<00:00,  2.22it/s, loss=1.74]\n",
      "/scratch/user/akash.pillai.0810/.my_env/lib/python3.10/site-packages/sklearn/metrics/_classification.py:1565: UndefinedMetricWarning: F-score is ill-defined and being set to 0.0 due to no true nor predicted samples. Use `zero_division` parameter to control this behavior.\n",
      "  _warn_prf(average, modifier, f\"{metric.capitalize()} is\", len(result))\n",
      "/scratch/user/akash.pillai.0810/.my_env/lib/python3.10/site-packages/sklearn/metrics/_classification.py:1565: UndefinedMetricWarning: F-score is ill-defined and being set to 0.0 due to no true nor predicted samples. Use `zero_division` parameter to control this behavior.\n",
      "  _warn_prf(average, modifier, f\"{metric.capitalize()} is\", len(result))\n",
      "/scratch/user/akash.pillai.0810/.my_env/lib/python3.10/site-packages/sklearn/metrics/_classification.py:1565: UndefinedMetricWarning: Recall is ill-defined and being set to 0.0 due to no true samples. Use `zero_division` parameter to control this behavior.\n",
      "  _warn_prf(average, modifier, f\"{metric.capitalize()} is\", len(result))\n",
      "/scratch/user/akash.pillai.0810/.my_env/lib/python3.10/site-packages/sklearn/metrics/_classification.py:1565: UndefinedMetricWarning: Recall is ill-defined and being set to 0.0 due to no true samples. Use `zero_division` parameter to control this behavior.\n",
      "  _warn_prf(average, modifier, f\"{metric.capitalize()} is\", len(result))\n"
     ]
    },
    {
     "name": "stdout",
     "output_type": "stream",
     "text": [
      "Epoch 74: Train Loss=2.1472, Val Loss=1.7415\n",
      "Mean F1 Score: 0.7973, Mean Accuracy: 0.9602, Mean Precision: 0.7784, Mean Recall: 0.8182\n"
     ]
    },
    {
     "name": "stderr",
     "output_type": "stream",
     "text": [
      "Epoch 75 Training:   0%|          | 0/4 [00:00<?, ?it/s]/tmp/job.14646635/ipykernel_391663/1724129108.py:79: FutureWarning: Series.__getitem__ treating keys as positions is deprecated. In a future version, integer keys will always be treated as labels (consistent with DataFrame behavior). To access a value by position, use `ser.iloc[pos]`\n",
      "  'labels': torch.tensor(label, dtype=torch.float32)\n",
      "Epoch 75 Training: 100%|██████████| 4/4 [00:05<00:00,  1.43s/it, loss=1.33]\n",
      "Epoch 75 Validation: 100%|██████████| 1/1 [00:00<00:00,  2.22it/s, loss=1.73]\n",
      "/scratch/user/akash.pillai.0810/.my_env/lib/python3.10/site-packages/sklearn/metrics/_classification.py:1565: UndefinedMetricWarning: F-score is ill-defined and being set to 0.0 due to no true nor predicted samples. Use `zero_division` parameter to control this behavior.\n",
      "  _warn_prf(average, modifier, f\"{metric.capitalize()} is\", len(result))\n",
      "/scratch/user/akash.pillai.0810/.my_env/lib/python3.10/site-packages/sklearn/metrics/_classification.py:1565: UndefinedMetricWarning: F-score is ill-defined and being set to 0.0 due to no true nor predicted samples. Use `zero_division` parameter to control this behavior.\n",
      "  _warn_prf(average, modifier, f\"{metric.capitalize()} is\", len(result))\n",
      "/scratch/user/akash.pillai.0810/.my_env/lib/python3.10/site-packages/sklearn/metrics/_classification.py:1565: UndefinedMetricWarning: Recall is ill-defined and being set to 0.0 due to no true samples. Use `zero_division` parameter to control this behavior.\n",
      "  _warn_prf(average, modifier, f\"{metric.capitalize()} is\", len(result))\n",
      "/scratch/user/akash.pillai.0810/.my_env/lib/python3.10/site-packages/sklearn/metrics/_classification.py:1565: UndefinedMetricWarning: Recall is ill-defined and being set to 0.0 due to no true samples. Use `zero_division` parameter to control this behavior.\n",
      "  _warn_prf(average, modifier, f\"{metric.capitalize()} is\", len(result))\n"
     ]
    },
    {
     "name": "stdout",
     "output_type": "stream",
     "text": [
      "Epoch 75: Train Loss=2.1023, Val Loss=1.7324\n",
      "Mean F1 Score: 0.7973, Mean Accuracy: 0.9602, Mean Precision: 0.7784, Mean Recall: 0.8182\n"
     ]
    },
    {
     "name": "stderr",
     "output_type": "stream",
     "text": [
      "Epoch 76 Training:   0%|          | 0/4 [00:00<?, ?it/s]/tmp/job.14646635/ipykernel_391663/1724129108.py:79: FutureWarning: Series.__getitem__ treating keys as positions is deprecated. In a future version, integer keys will always be treated as labels (consistent with DataFrame behavior). To access a value by position, use `ser.iloc[pos]`\n",
      "  'labels': torch.tensor(label, dtype=torch.float32)\n",
      "Epoch 76 Training: 100%|██████████| 4/4 [00:05<00:00,  1.43s/it, loss=2.16]\n",
      "Epoch 76 Validation: 100%|██████████| 1/1 [00:00<00:00,  2.22it/s, loss=1.73]\n",
      "/scratch/user/akash.pillai.0810/.my_env/lib/python3.10/site-packages/sklearn/metrics/_classification.py:1565: UndefinedMetricWarning: F-score is ill-defined and being set to 0.0 due to no true nor predicted samples. Use `zero_division` parameter to control this behavior.\n",
      "  _warn_prf(average, modifier, f\"{metric.capitalize()} is\", len(result))\n",
      "/scratch/user/akash.pillai.0810/.my_env/lib/python3.10/site-packages/sklearn/metrics/_classification.py:1565: UndefinedMetricWarning: F-score is ill-defined and being set to 0.0 due to no true nor predicted samples. Use `zero_division` parameter to control this behavior.\n",
      "  _warn_prf(average, modifier, f\"{metric.capitalize()} is\", len(result))\n",
      "/scratch/user/akash.pillai.0810/.my_env/lib/python3.10/site-packages/sklearn/metrics/_classification.py:1565: UndefinedMetricWarning: Recall is ill-defined and being set to 0.0 due to no true samples. Use `zero_division` parameter to control this behavior.\n",
      "  _warn_prf(average, modifier, f\"{metric.capitalize()} is\", len(result))\n",
      "/scratch/user/akash.pillai.0810/.my_env/lib/python3.10/site-packages/sklearn/metrics/_classification.py:1565: UndefinedMetricWarning: Recall is ill-defined and being set to 0.0 due to no true samples. Use `zero_division` parameter to control this behavior.\n",
      "  _warn_prf(average, modifier, f\"{metric.capitalize()} is\", len(result))\n"
     ]
    },
    {
     "name": "stdout",
     "output_type": "stream",
     "text": [
      "Epoch 76: Train Loss=2.1175, Val Loss=1.7341\n",
      "Mean F1 Score: 0.7973, Mean Accuracy: 0.9602, Mean Precision: 0.7784, Mean Recall: 0.8182\n"
     ]
    },
    {
     "name": "stderr",
     "output_type": "stream",
     "text": [
      "Epoch 77 Training:   0%|          | 0/4 [00:00<?, ?it/s]/tmp/job.14646635/ipykernel_391663/1724129108.py:79: FutureWarning: Series.__getitem__ treating keys as positions is deprecated. In a future version, integer keys will always be treated as labels (consistent with DataFrame behavior). To access a value by position, use `ser.iloc[pos]`\n",
      "  'labels': torch.tensor(label, dtype=torch.float32)\n",
      "Epoch 77 Training: 100%|██████████| 4/4 [00:05<00:00,  1.43s/it, loss=2.15]\n",
      "Epoch 77 Validation: 100%|██████████| 1/1 [00:00<00:00,  2.21it/s, loss=1.73]\n",
      "/scratch/user/akash.pillai.0810/.my_env/lib/python3.10/site-packages/sklearn/metrics/_classification.py:1565: UndefinedMetricWarning: F-score is ill-defined and being set to 0.0 due to no true nor predicted samples. Use `zero_division` parameter to control this behavior.\n",
      "  _warn_prf(average, modifier, f\"{metric.capitalize()} is\", len(result))\n",
      "/scratch/user/akash.pillai.0810/.my_env/lib/python3.10/site-packages/sklearn/metrics/_classification.py:1565: UndefinedMetricWarning: F-score is ill-defined and being set to 0.0 due to no true nor predicted samples. Use `zero_division` parameter to control this behavior.\n",
      "  _warn_prf(average, modifier, f\"{metric.capitalize()} is\", len(result))\n",
      "/scratch/user/akash.pillai.0810/.my_env/lib/python3.10/site-packages/sklearn/metrics/_classification.py:1565: UndefinedMetricWarning: Recall is ill-defined and being set to 0.0 due to no true samples. Use `zero_division` parameter to control this behavior.\n",
      "  _warn_prf(average, modifier, f\"{metric.capitalize()} is\", len(result))\n",
      "/scratch/user/akash.pillai.0810/.my_env/lib/python3.10/site-packages/sklearn/metrics/_classification.py:1565: UndefinedMetricWarning: Recall is ill-defined and being set to 0.0 due to no true samples. Use `zero_division` parameter to control this behavior.\n",
      "  _warn_prf(average, modifier, f\"{metric.capitalize()} is\", len(result))\n"
     ]
    },
    {
     "name": "stdout",
     "output_type": "stream",
     "text": [
      "Epoch 77: Train Loss=2.1103, Val Loss=1.7327\n",
      "Mean F1 Score: 0.7973, Mean Accuracy: 0.9602, Mean Precision: 0.7784, Mean Recall: 0.8182\n"
     ]
    },
    {
     "name": "stderr",
     "output_type": "stream",
     "text": [
      "Epoch 78 Training:   0%|          | 0/4 [00:00<?, ?it/s]/tmp/job.14646635/ipykernel_391663/1724129108.py:79: FutureWarning: Series.__getitem__ treating keys as positions is deprecated. In a future version, integer keys will always be treated as labels (consistent with DataFrame behavior). To access a value by position, use `ser.iloc[pos]`\n",
      "  'labels': torch.tensor(label, dtype=torch.float32)\n",
      "Epoch 78 Training: 100%|██████████| 4/4 [00:05<00:00,  1.43s/it, loss=1.27]\n",
      "Epoch 78 Validation: 100%|██████████| 1/1 [00:00<00:00,  2.22it/s, loss=1.72]\n",
      "/scratch/user/akash.pillai.0810/.my_env/lib/python3.10/site-packages/sklearn/metrics/_classification.py:1565: UndefinedMetricWarning: F-score is ill-defined and being set to 0.0 due to no true nor predicted samples. Use `zero_division` parameter to control this behavior.\n",
      "  _warn_prf(average, modifier, f\"{metric.capitalize()} is\", len(result))\n",
      "/scratch/user/akash.pillai.0810/.my_env/lib/python3.10/site-packages/sklearn/metrics/_classification.py:1565: UndefinedMetricWarning: F-score is ill-defined and being set to 0.0 due to no true nor predicted samples. Use `zero_division` parameter to control this behavior.\n",
      "  _warn_prf(average, modifier, f\"{metric.capitalize()} is\", len(result))\n",
      "/scratch/user/akash.pillai.0810/.my_env/lib/python3.10/site-packages/sklearn/metrics/_classification.py:1565: UndefinedMetricWarning: Recall is ill-defined and being set to 0.0 due to no true samples. Use `zero_division` parameter to control this behavior.\n",
      "  _warn_prf(average, modifier, f\"{metric.capitalize()} is\", len(result))\n",
      "/scratch/user/akash.pillai.0810/.my_env/lib/python3.10/site-packages/sklearn/metrics/_classification.py:1565: UndefinedMetricWarning: Recall is ill-defined and being set to 0.0 due to no true samples. Use `zero_division` parameter to control this behavior.\n",
      "  _warn_prf(average, modifier, f\"{metric.capitalize()} is\", len(result))\n"
     ]
    },
    {
     "name": "stdout",
     "output_type": "stream",
     "text": [
      "Epoch 78: Train Loss=2.1248, Val Loss=1.7225\n",
      "Mean F1 Score: 0.7973, Mean Accuracy: 0.9602, Mean Precision: 0.7784, Mean Recall: 0.8182\n"
     ]
    },
    {
     "name": "stderr",
     "output_type": "stream",
     "text": [
      "Epoch 79 Training:   0%|          | 0/4 [00:00<?, ?it/s]/tmp/job.14646635/ipykernel_391663/1724129108.py:79: FutureWarning: Series.__getitem__ treating keys as positions is deprecated. In a future version, integer keys will always be treated as labels (consistent with DataFrame behavior). To access a value by position, use `ser.iloc[pos]`\n",
      "  'labels': torch.tensor(label, dtype=torch.float32)\n",
      "Epoch 79 Training: 100%|██████████| 4/4 [00:05<00:00,  1.43s/it, loss=2.35]\n",
      "Epoch 79 Validation: 100%|██████████| 1/1 [00:00<00:00,  2.22it/s, loss=1.72]\n",
      "/scratch/user/akash.pillai.0810/.my_env/lib/python3.10/site-packages/sklearn/metrics/_classification.py:1565: UndefinedMetricWarning: F-score is ill-defined and being set to 0.0 due to no true nor predicted samples. Use `zero_division` parameter to control this behavior.\n",
      "  _warn_prf(average, modifier, f\"{metric.capitalize()} is\", len(result))\n",
      "/scratch/user/akash.pillai.0810/.my_env/lib/python3.10/site-packages/sklearn/metrics/_classification.py:1565: UndefinedMetricWarning: F-score is ill-defined and being set to 0.0 due to no true nor predicted samples. Use `zero_division` parameter to control this behavior.\n",
      "  _warn_prf(average, modifier, f\"{metric.capitalize()} is\", len(result))\n",
      "/scratch/user/akash.pillai.0810/.my_env/lib/python3.10/site-packages/sklearn/metrics/_classification.py:1565: UndefinedMetricWarning: Recall is ill-defined and being set to 0.0 due to no true samples. Use `zero_division` parameter to control this behavior.\n",
      "  _warn_prf(average, modifier, f\"{metric.capitalize()} is\", len(result))\n",
      "/scratch/user/akash.pillai.0810/.my_env/lib/python3.10/site-packages/sklearn/metrics/_classification.py:1565: UndefinedMetricWarning: Recall is ill-defined and being set to 0.0 due to no true samples. Use `zero_division` parameter to control this behavior.\n",
      "  _warn_prf(average, modifier, f\"{metric.capitalize()} is\", len(result))\n"
     ]
    },
    {
     "name": "stdout",
     "output_type": "stream",
     "text": [
      "Epoch 79: Train Loss=2.1015, Val Loss=1.7214\n",
      "Mean F1 Score: 0.7973, Mean Accuracy: 0.9602, Mean Precision: 0.7784, Mean Recall: 0.8182\n"
     ]
    },
    {
     "name": "stderr",
     "output_type": "stream",
     "text": [
      "Epoch 80 Training:   0%|          | 0/4 [00:00<?, ?it/s]/tmp/job.14646635/ipykernel_391663/1724129108.py:79: FutureWarning: Series.__getitem__ treating keys as positions is deprecated. In a future version, integer keys will always be treated as labels (consistent with DataFrame behavior). To access a value by position, use `ser.iloc[pos]`\n",
      "  'labels': torch.tensor(label, dtype=torch.float32)\n",
      "Epoch 80 Training: 100%|██████████| 4/4 [00:05<00:00,  1.43s/it, loss=1.82]\n",
      "Epoch 80 Validation: 100%|██████████| 1/1 [00:00<00:00,  2.22it/s, loss=1.7]\n",
      "/scratch/user/akash.pillai.0810/.my_env/lib/python3.10/site-packages/sklearn/metrics/_classification.py:1565: UndefinedMetricWarning: F-score is ill-defined and being set to 0.0 due to no true nor predicted samples. Use `zero_division` parameter to control this behavior.\n",
      "  _warn_prf(average, modifier, f\"{metric.capitalize()} is\", len(result))\n",
      "/scratch/user/akash.pillai.0810/.my_env/lib/python3.10/site-packages/sklearn/metrics/_classification.py:1565: UndefinedMetricWarning: F-score is ill-defined and being set to 0.0 due to no true nor predicted samples. Use `zero_division` parameter to control this behavior.\n",
      "  _warn_prf(average, modifier, f\"{metric.capitalize()} is\", len(result))\n",
      "/scratch/user/akash.pillai.0810/.my_env/lib/python3.10/site-packages/sklearn/metrics/_classification.py:1565: UndefinedMetricWarning: Recall is ill-defined and being set to 0.0 due to no true samples. Use `zero_division` parameter to control this behavior.\n",
      "  _warn_prf(average, modifier, f\"{metric.capitalize()} is\", len(result))\n",
      "/scratch/user/akash.pillai.0810/.my_env/lib/python3.10/site-packages/sklearn/metrics/_classification.py:1565: UndefinedMetricWarning: Recall is ill-defined and being set to 0.0 due to no true samples. Use `zero_division` parameter to control this behavior.\n",
      "  _warn_prf(average, modifier, f\"{metric.capitalize()} is\", len(result))\n"
     ]
    },
    {
     "name": "stdout",
     "output_type": "stream",
     "text": [
      "Epoch 80: Train Loss=2.0722, Val Loss=1.7033\n",
      "Mean F1 Score: 0.7973, Mean Accuracy: 0.9602, Mean Precision: 0.7784, Mean Recall: 0.8182\n"
     ]
    },
    {
     "name": "stderr",
     "output_type": "stream",
     "text": [
      "Epoch 81 Training:   0%|          | 0/4 [00:00<?, ?it/s]/tmp/job.14646635/ipykernel_391663/1724129108.py:79: FutureWarning: Series.__getitem__ treating keys as positions is deprecated. In a future version, integer keys will always be treated as labels (consistent with DataFrame behavior). To access a value by position, use `ser.iloc[pos]`\n",
      "  'labels': torch.tensor(label, dtype=torch.float32)\n",
      "Epoch 81 Training: 100%|██████████| 4/4 [00:05<00:00,  1.43s/it, loss=2.34]\n",
      "Epoch 81 Validation: 100%|██████████| 1/1 [00:00<00:00,  2.22it/s, loss=1.71]\n",
      "/scratch/user/akash.pillai.0810/.my_env/lib/python3.10/site-packages/sklearn/metrics/_classification.py:1565: UndefinedMetricWarning: F-score is ill-defined and being set to 0.0 due to no true nor predicted samples. Use `zero_division` parameter to control this behavior.\n",
      "  _warn_prf(average, modifier, f\"{metric.capitalize()} is\", len(result))\n",
      "/scratch/user/akash.pillai.0810/.my_env/lib/python3.10/site-packages/sklearn/metrics/_classification.py:1565: UndefinedMetricWarning: F-score is ill-defined and being set to 0.0 due to no true nor predicted samples. Use `zero_division` parameter to control this behavior.\n",
      "  _warn_prf(average, modifier, f\"{metric.capitalize()} is\", len(result))\n",
      "/scratch/user/akash.pillai.0810/.my_env/lib/python3.10/site-packages/sklearn/metrics/_classification.py:1565: UndefinedMetricWarning: Recall is ill-defined and being set to 0.0 due to no true samples. Use `zero_division` parameter to control this behavior.\n",
      "  _warn_prf(average, modifier, f\"{metric.capitalize()} is\", len(result))\n",
      "/scratch/user/akash.pillai.0810/.my_env/lib/python3.10/site-packages/sklearn/metrics/_classification.py:1565: UndefinedMetricWarning: Recall is ill-defined and being set to 0.0 due to no true samples. Use `zero_division` parameter to control this behavior.\n",
      "  _warn_prf(average, modifier, f\"{metric.capitalize()} is\", len(result))\n"
     ]
    },
    {
     "name": "stdout",
     "output_type": "stream",
     "text": [
      "Epoch 81: Train Loss=2.0987, Val Loss=1.7141\n",
      "Mean F1 Score: 0.7973, Mean Accuracy: 0.9602, Mean Precision: 0.7784, Mean Recall: 0.8182\n"
     ]
    },
    {
     "name": "stderr",
     "output_type": "stream",
     "text": [
      "Epoch 82 Training:   0%|          | 0/4 [00:00<?, ?it/s]/tmp/job.14646635/ipykernel_391663/1724129108.py:79: FutureWarning: Series.__getitem__ treating keys as positions is deprecated. In a future version, integer keys will always be treated as labels (consistent with DataFrame behavior). To access a value by position, use `ser.iloc[pos]`\n",
      "  'labels': torch.tensor(label, dtype=torch.float32)\n",
      "Epoch 82 Training: 100%|██████████| 4/4 [00:05<00:00,  1.43s/it, loss=2.3] \n",
      "Epoch 82 Validation: 100%|██████████| 1/1 [00:00<00:00,  2.22it/s, loss=1.72]\n",
      "/scratch/user/akash.pillai.0810/.my_env/lib/python3.10/site-packages/sklearn/metrics/_classification.py:1565: UndefinedMetricWarning: F-score is ill-defined and being set to 0.0 due to no true nor predicted samples. Use `zero_division` parameter to control this behavior.\n",
      "  _warn_prf(average, modifier, f\"{metric.capitalize()} is\", len(result))\n",
      "/scratch/user/akash.pillai.0810/.my_env/lib/python3.10/site-packages/sklearn/metrics/_classification.py:1565: UndefinedMetricWarning: F-score is ill-defined and being set to 0.0 due to no true nor predicted samples. Use `zero_division` parameter to control this behavior.\n",
      "  _warn_prf(average, modifier, f\"{metric.capitalize()} is\", len(result))\n",
      "/scratch/user/akash.pillai.0810/.my_env/lib/python3.10/site-packages/sklearn/metrics/_classification.py:1565: UndefinedMetricWarning: Recall is ill-defined and being set to 0.0 due to no true samples. Use `zero_division` parameter to control this behavior.\n",
      "  _warn_prf(average, modifier, f\"{metric.capitalize()} is\", len(result))\n",
      "/scratch/user/akash.pillai.0810/.my_env/lib/python3.10/site-packages/sklearn/metrics/_classification.py:1565: UndefinedMetricWarning: Recall is ill-defined and being set to 0.0 due to no true samples. Use `zero_division` parameter to control this behavior.\n",
      "  _warn_prf(average, modifier, f\"{metric.capitalize()} is\", len(result))\n"
     ]
    },
    {
     "name": "stdout",
     "output_type": "stream",
     "text": [
      "Epoch 82: Train Loss=2.0945, Val Loss=1.7185\n",
      "Mean F1 Score: 0.7973, Mean Accuracy: 0.9602, Mean Precision: 0.7784, Mean Recall: 0.8182\n"
     ]
    },
    {
     "name": "stderr",
     "output_type": "stream",
     "text": [
      "Epoch 83 Training:   0%|          | 0/4 [00:00<?, ?it/s]/tmp/job.14646635/ipykernel_391663/1724129108.py:79: FutureWarning: Series.__getitem__ treating keys as positions is deprecated. In a future version, integer keys will always be treated as labels (consistent with DataFrame behavior). To access a value by position, use `ser.iloc[pos]`\n",
      "  'labels': torch.tensor(label, dtype=torch.float32)\n",
      "Epoch 83 Training: 100%|██████████| 4/4 [00:05<00:00,  1.43s/it, loss=1.35]\n",
      "Epoch 83 Validation: 100%|██████████| 1/1 [00:00<00:00,  2.22it/s, loss=1.68]\n",
      "/scratch/user/akash.pillai.0810/.my_env/lib/python3.10/site-packages/sklearn/metrics/_classification.py:1565: UndefinedMetricWarning: F-score is ill-defined and being set to 0.0 due to no true nor predicted samples. Use `zero_division` parameter to control this behavior.\n",
      "  _warn_prf(average, modifier, f\"{metric.capitalize()} is\", len(result))\n",
      "/scratch/user/akash.pillai.0810/.my_env/lib/python3.10/site-packages/sklearn/metrics/_classification.py:1565: UndefinedMetricWarning: F-score is ill-defined and being set to 0.0 due to no true nor predicted samples. Use `zero_division` parameter to control this behavior.\n",
      "  _warn_prf(average, modifier, f\"{metric.capitalize()} is\", len(result))\n",
      "/scratch/user/akash.pillai.0810/.my_env/lib/python3.10/site-packages/sklearn/metrics/_classification.py:1565: UndefinedMetricWarning: Recall is ill-defined and being set to 0.0 due to no true samples. Use `zero_division` parameter to control this behavior.\n",
      "  _warn_prf(average, modifier, f\"{metric.capitalize()} is\", len(result))\n",
      "/scratch/user/akash.pillai.0810/.my_env/lib/python3.10/site-packages/sklearn/metrics/_classification.py:1565: UndefinedMetricWarning: Recall is ill-defined and being set to 0.0 due to no true samples. Use `zero_division` parameter to control this behavior.\n",
      "  _warn_prf(average, modifier, f\"{metric.capitalize()} is\", len(result))\n"
     ]
    },
    {
     "name": "stdout",
     "output_type": "stream",
     "text": [
      "Epoch 83: Train Loss=2.1052, Val Loss=1.6837\n",
      "Mean F1 Score: 0.7973, Mean Accuracy: 0.9602, Mean Precision: 0.7784, Mean Recall: 0.8182\n"
     ]
    },
    {
     "name": "stderr",
     "output_type": "stream",
     "text": [
      "Epoch 84 Training:   0%|          | 0/4 [00:00<?, ?it/s]/tmp/job.14646635/ipykernel_391663/1724129108.py:79: FutureWarning: Series.__getitem__ treating keys as positions is deprecated. In a future version, integer keys will always be treated as labels (consistent with DataFrame behavior). To access a value by position, use `ser.iloc[pos]`\n",
      "  'labels': torch.tensor(label, dtype=torch.float32)\n",
      "Epoch 84 Training: 100%|██████████| 4/4 [00:05<00:00,  1.43s/it, loss=1.17]\n",
      "Epoch 84 Validation: 100%|██████████| 1/1 [00:00<00:00,  2.21it/s, loss=1.68]\n",
      "/scratch/user/akash.pillai.0810/.my_env/lib/python3.10/site-packages/sklearn/metrics/_classification.py:1565: UndefinedMetricWarning: F-score is ill-defined and being set to 0.0 due to no true nor predicted samples. Use `zero_division` parameter to control this behavior.\n",
      "  _warn_prf(average, modifier, f\"{metric.capitalize()} is\", len(result))\n",
      "/scratch/user/akash.pillai.0810/.my_env/lib/python3.10/site-packages/sklearn/metrics/_classification.py:1565: UndefinedMetricWarning: F-score is ill-defined and being set to 0.0 due to no true nor predicted samples. Use `zero_division` parameter to control this behavior.\n",
      "  _warn_prf(average, modifier, f\"{metric.capitalize()} is\", len(result))\n",
      "/scratch/user/akash.pillai.0810/.my_env/lib/python3.10/site-packages/sklearn/metrics/_classification.py:1565: UndefinedMetricWarning: Recall is ill-defined and being set to 0.0 due to no true samples. Use `zero_division` parameter to control this behavior.\n",
      "  _warn_prf(average, modifier, f\"{metric.capitalize()} is\", len(result))\n",
      "/scratch/user/akash.pillai.0810/.my_env/lib/python3.10/site-packages/sklearn/metrics/_classification.py:1565: UndefinedMetricWarning: Recall is ill-defined and being set to 0.0 due to no true samples. Use `zero_division` parameter to control this behavior.\n",
      "  _warn_prf(average, modifier, f\"{metric.capitalize()} is\", len(result))\n"
     ]
    },
    {
     "name": "stdout",
     "output_type": "stream",
     "text": [
      "Epoch 84: Train Loss=2.0724, Val Loss=1.6813\n",
      "Mean F1 Score: 0.7973, Mean Accuracy: 0.9602, Mean Precision: 0.7784, Mean Recall: 0.8182\n"
     ]
    },
    {
     "name": "stderr",
     "output_type": "stream",
     "text": [
      "Epoch 85 Training:   0%|          | 0/4 [00:00<?, ?it/s]/tmp/job.14646635/ipykernel_391663/1724129108.py:79: FutureWarning: Series.__getitem__ treating keys as positions is deprecated. In a future version, integer keys will always be treated as labels (consistent with DataFrame behavior). To access a value by position, use `ser.iloc[pos]`\n",
      "  'labels': torch.tensor(label, dtype=torch.float32)\n",
      "Epoch 85 Training: 100%|██████████| 4/4 [00:05<00:00,  1.43s/it, loss=1.09]\n",
      "Epoch 85 Validation: 100%|██████████| 1/1 [00:00<00:00,  2.22it/s, loss=1.69]\n",
      "/scratch/user/akash.pillai.0810/.my_env/lib/python3.10/site-packages/sklearn/metrics/_classification.py:1565: UndefinedMetricWarning: F-score is ill-defined and being set to 0.0 due to no true nor predicted samples. Use `zero_division` parameter to control this behavior.\n",
      "  _warn_prf(average, modifier, f\"{metric.capitalize()} is\", len(result))\n",
      "/scratch/user/akash.pillai.0810/.my_env/lib/python3.10/site-packages/sklearn/metrics/_classification.py:1565: UndefinedMetricWarning: F-score is ill-defined and being set to 0.0 due to no true nor predicted samples. Use `zero_division` parameter to control this behavior.\n",
      "  _warn_prf(average, modifier, f\"{metric.capitalize()} is\", len(result))\n",
      "/scratch/user/akash.pillai.0810/.my_env/lib/python3.10/site-packages/sklearn/metrics/_classification.py:1565: UndefinedMetricWarning: Recall is ill-defined and being set to 0.0 due to no true samples. Use `zero_division` parameter to control this behavior.\n",
      "  _warn_prf(average, modifier, f\"{metric.capitalize()} is\", len(result))\n",
      "/scratch/user/akash.pillai.0810/.my_env/lib/python3.10/site-packages/sklearn/metrics/_classification.py:1565: UndefinedMetricWarning: Recall is ill-defined and being set to 0.0 due to no true samples. Use `zero_division` parameter to control this behavior.\n",
      "  _warn_prf(average, modifier, f\"{metric.capitalize()} is\", len(result))\n"
     ]
    },
    {
     "name": "stdout",
     "output_type": "stream",
     "text": [
      "Epoch 85: Train Loss=2.0886, Val Loss=1.6886\n",
      "Mean F1 Score: 0.7973, Mean Accuracy: 0.9602, Mean Precision: 0.7784, Mean Recall: 0.8182\n"
     ]
    },
    {
     "name": "stderr",
     "output_type": "stream",
     "text": [
      "Epoch 86 Training:   0%|          | 0/4 [00:00<?, ?it/s]/tmp/job.14646635/ipykernel_391663/1724129108.py:79: FutureWarning: Series.__getitem__ treating keys as positions is deprecated. In a future version, integer keys will always be treated as labels (consistent with DataFrame behavior). To access a value by position, use `ser.iloc[pos]`\n",
      "  'labels': torch.tensor(label, dtype=torch.float32)\n",
      "Epoch 86 Training: 100%|██████████| 4/4 [00:05<00:00,  1.43s/it, loss=1.29]\n",
      "Epoch 86 Validation: 100%|██████████| 1/1 [00:00<00:00,  2.22it/s, loss=1.68]\n",
      "/scratch/user/akash.pillai.0810/.my_env/lib/python3.10/site-packages/sklearn/metrics/_classification.py:1565: UndefinedMetricWarning: F-score is ill-defined and being set to 0.0 due to no true nor predicted samples. Use `zero_division` parameter to control this behavior.\n",
      "  _warn_prf(average, modifier, f\"{metric.capitalize()} is\", len(result))\n",
      "/scratch/user/akash.pillai.0810/.my_env/lib/python3.10/site-packages/sklearn/metrics/_classification.py:1565: UndefinedMetricWarning: F-score is ill-defined and being set to 0.0 due to no true nor predicted samples. Use `zero_division` parameter to control this behavior.\n",
      "  _warn_prf(average, modifier, f\"{metric.capitalize()} is\", len(result))\n",
      "/scratch/user/akash.pillai.0810/.my_env/lib/python3.10/site-packages/sklearn/metrics/_classification.py:1565: UndefinedMetricWarning: Recall is ill-defined and being set to 0.0 due to no true samples. Use `zero_division` parameter to control this behavior.\n",
      "  _warn_prf(average, modifier, f\"{metric.capitalize()} is\", len(result))\n",
      "/scratch/user/akash.pillai.0810/.my_env/lib/python3.10/site-packages/sklearn/metrics/_classification.py:1565: UndefinedMetricWarning: Recall is ill-defined and being set to 0.0 due to no true samples. Use `zero_division` parameter to control this behavior.\n",
      "  _warn_prf(average, modifier, f\"{metric.capitalize()} is\", len(result))\n"
     ]
    },
    {
     "name": "stdout",
     "output_type": "stream",
     "text": [
      "Epoch 86: Train Loss=2.0733, Val Loss=1.6796\n",
      "Mean F1 Score: 0.7973, Mean Accuracy: 0.9602, Mean Precision: 0.7784, Mean Recall: 0.8182\n"
     ]
    },
    {
     "name": "stderr",
     "output_type": "stream",
     "text": [
      "Epoch 87 Training:   0%|          | 0/4 [00:00<?, ?it/s]/tmp/job.14646635/ipykernel_391663/1724129108.py:79: FutureWarning: Series.__getitem__ treating keys as positions is deprecated. In a future version, integer keys will always be treated as labels (consistent with DataFrame behavior). To access a value by position, use `ser.iloc[pos]`\n",
      "  'labels': torch.tensor(label, dtype=torch.float32)\n",
      "Epoch 87 Training: 100%|██████████| 4/4 [00:05<00:00,  1.43s/it, loss=2.06]\n",
      "Epoch 87 Validation: 100%|██████████| 1/1 [00:00<00:00,  2.21it/s, loss=1.7]\n",
      "/scratch/user/akash.pillai.0810/.my_env/lib/python3.10/site-packages/sklearn/metrics/_classification.py:1565: UndefinedMetricWarning: F-score is ill-defined and being set to 0.0 due to no true nor predicted samples. Use `zero_division` parameter to control this behavior.\n",
      "  _warn_prf(average, modifier, f\"{metric.capitalize()} is\", len(result))\n",
      "/scratch/user/akash.pillai.0810/.my_env/lib/python3.10/site-packages/sklearn/metrics/_classification.py:1565: UndefinedMetricWarning: F-score is ill-defined and being set to 0.0 due to no true nor predicted samples. Use `zero_division` parameter to control this behavior.\n",
      "  _warn_prf(average, modifier, f\"{metric.capitalize()} is\", len(result))\n",
      "/scratch/user/akash.pillai.0810/.my_env/lib/python3.10/site-packages/sklearn/metrics/_classification.py:1565: UndefinedMetricWarning: Recall is ill-defined and being set to 0.0 due to no true samples. Use `zero_division` parameter to control this behavior.\n",
      "  _warn_prf(average, modifier, f\"{metric.capitalize()} is\", len(result))\n",
      "/scratch/user/akash.pillai.0810/.my_env/lib/python3.10/site-packages/sklearn/metrics/_classification.py:1565: UndefinedMetricWarning: Recall is ill-defined and being set to 0.0 due to no true samples. Use `zero_division` parameter to control this behavior.\n",
      "  _warn_prf(average, modifier, f\"{metric.capitalize()} is\", len(result))\n"
     ]
    },
    {
     "name": "stdout",
     "output_type": "stream",
     "text": [
      "Epoch 87: Train Loss=2.0741, Val Loss=1.6998\n",
      "Mean F1 Score: 0.7973, Mean Accuracy: 0.9602, Mean Precision: 0.7784, Mean Recall: 0.8182\n"
     ]
    },
    {
     "name": "stderr",
     "output_type": "stream",
     "text": [
      "Epoch 88 Training:   0%|          | 0/4 [00:00<?, ?it/s]/tmp/job.14646635/ipykernel_391663/1724129108.py:79: FutureWarning: Series.__getitem__ treating keys as positions is deprecated. In a future version, integer keys will always be treated as labels (consistent with DataFrame behavior). To access a value by position, use `ser.iloc[pos]`\n",
      "  'labels': torch.tensor(label, dtype=torch.float32)\n",
      "Epoch 88 Training: 100%|██████████| 4/4 [00:05<00:00,  1.43s/it, loss=2.7] \n",
      "Epoch 88 Validation: 100%|██████████| 1/1 [00:00<00:00,  2.22it/s, loss=1.7]\n",
      "/scratch/user/akash.pillai.0810/.my_env/lib/python3.10/site-packages/sklearn/metrics/_classification.py:1565: UndefinedMetricWarning: F-score is ill-defined and being set to 0.0 due to no true nor predicted samples. Use `zero_division` parameter to control this behavior.\n",
      "  _warn_prf(average, modifier, f\"{metric.capitalize()} is\", len(result))\n",
      "/scratch/user/akash.pillai.0810/.my_env/lib/python3.10/site-packages/sklearn/metrics/_classification.py:1565: UndefinedMetricWarning: F-score is ill-defined and being set to 0.0 due to no true nor predicted samples. Use `zero_division` parameter to control this behavior.\n",
      "  _warn_prf(average, modifier, f\"{metric.capitalize()} is\", len(result))\n",
      "/scratch/user/akash.pillai.0810/.my_env/lib/python3.10/site-packages/sklearn/metrics/_classification.py:1565: UndefinedMetricWarning: Recall is ill-defined and being set to 0.0 due to no true samples. Use `zero_division` parameter to control this behavior.\n",
      "  _warn_prf(average, modifier, f\"{metric.capitalize()} is\", len(result))\n",
      "/scratch/user/akash.pillai.0810/.my_env/lib/python3.10/site-packages/sklearn/metrics/_classification.py:1565: UndefinedMetricWarning: Recall is ill-defined and being set to 0.0 due to no true samples. Use `zero_division` parameter to control this behavior.\n",
      "  _warn_prf(average, modifier, f\"{metric.capitalize()} is\", len(result))\n"
     ]
    },
    {
     "name": "stdout",
     "output_type": "stream",
     "text": [
      "Epoch 88: Train Loss=2.0384, Val Loss=1.7021\n",
      "Mean F1 Score: 0.7973, Mean Accuracy: 0.9602, Mean Precision: 0.7784, Mean Recall: 0.8182\n"
     ]
    },
    {
     "name": "stderr",
     "output_type": "stream",
     "text": [
      "Epoch 89 Training:   0%|          | 0/4 [00:00<?, ?it/s]/tmp/job.14646635/ipykernel_391663/1724129108.py:79: FutureWarning: Series.__getitem__ treating keys as positions is deprecated. In a future version, integer keys will always be treated as labels (consistent with DataFrame behavior). To access a value by position, use `ser.iloc[pos]`\n",
      "  'labels': torch.tensor(label, dtype=torch.float32)\n",
      "Epoch 89 Training: 100%|██████████| 4/4 [00:05<00:00,  1.43s/it, loss=2.17]\n",
      "Epoch 89 Validation: 100%|██████████| 1/1 [00:00<00:00,  2.22it/s, loss=1.69]\n",
      "/scratch/user/akash.pillai.0810/.my_env/lib/python3.10/site-packages/sklearn/metrics/_classification.py:1565: UndefinedMetricWarning: F-score is ill-defined and being set to 0.0 due to no true nor predicted samples. Use `zero_division` parameter to control this behavior.\n",
      "  _warn_prf(average, modifier, f\"{metric.capitalize()} is\", len(result))\n",
      "/scratch/user/akash.pillai.0810/.my_env/lib/python3.10/site-packages/sklearn/metrics/_classification.py:1565: UndefinedMetricWarning: F-score is ill-defined and being set to 0.0 due to no true nor predicted samples. Use `zero_division` parameter to control this behavior.\n",
      "  _warn_prf(average, modifier, f\"{metric.capitalize()} is\", len(result))\n",
      "/scratch/user/akash.pillai.0810/.my_env/lib/python3.10/site-packages/sklearn/metrics/_classification.py:1565: UndefinedMetricWarning: Recall is ill-defined and being set to 0.0 due to no true samples. Use `zero_division` parameter to control this behavior.\n",
      "  _warn_prf(average, modifier, f\"{metric.capitalize()} is\", len(result))\n",
      "/scratch/user/akash.pillai.0810/.my_env/lib/python3.10/site-packages/sklearn/metrics/_classification.py:1565: UndefinedMetricWarning: Recall is ill-defined and being set to 0.0 due to no true samples. Use `zero_division` parameter to control this behavior.\n",
      "  _warn_prf(average, modifier, f\"{metric.capitalize()} is\", len(result))\n"
     ]
    },
    {
     "name": "stdout",
     "output_type": "stream",
     "text": [
      "Epoch 89: Train Loss=2.0332, Val Loss=1.6867\n",
      "Mean F1 Score: 0.7973, Mean Accuracy: 0.9602, Mean Precision: 0.7784, Mean Recall: 0.8182\n"
     ]
    },
    {
     "name": "stderr",
     "output_type": "stream",
     "text": [
      "Epoch 90 Training:   0%|          | 0/4 [00:00<?, ?it/s]/tmp/job.14646635/ipykernel_391663/1724129108.py:79: FutureWarning: Series.__getitem__ treating keys as positions is deprecated. In a future version, integer keys will always be treated as labels (consistent with DataFrame behavior). To access a value by position, use `ser.iloc[pos]`\n",
      "  'labels': torch.tensor(label, dtype=torch.float32)\n",
      "Epoch 90 Training: 100%|██████████| 4/4 [00:05<00:00,  1.43s/it, loss=2.55]\n",
      "Epoch 90 Validation: 100%|██████████| 1/1 [00:00<00:00,  2.21it/s, loss=1.67]\n",
      "/scratch/user/akash.pillai.0810/.my_env/lib/python3.10/site-packages/sklearn/metrics/_classification.py:1565: UndefinedMetricWarning: F-score is ill-defined and being set to 0.0 due to no true nor predicted samples. Use `zero_division` parameter to control this behavior.\n",
      "  _warn_prf(average, modifier, f\"{metric.capitalize()} is\", len(result))\n",
      "/scratch/user/akash.pillai.0810/.my_env/lib/python3.10/site-packages/sklearn/metrics/_classification.py:1565: UndefinedMetricWarning: F-score is ill-defined and being set to 0.0 due to no true nor predicted samples. Use `zero_division` parameter to control this behavior.\n",
      "  _warn_prf(average, modifier, f\"{metric.capitalize()} is\", len(result))\n",
      "/scratch/user/akash.pillai.0810/.my_env/lib/python3.10/site-packages/sklearn/metrics/_classification.py:1565: UndefinedMetricWarning: Recall is ill-defined and being set to 0.0 due to no true samples. Use `zero_division` parameter to control this behavior.\n",
      "  _warn_prf(average, modifier, f\"{metric.capitalize()} is\", len(result))\n",
      "/scratch/user/akash.pillai.0810/.my_env/lib/python3.10/site-packages/sklearn/metrics/_classification.py:1565: UndefinedMetricWarning: Recall is ill-defined and being set to 0.0 due to no true samples. Use `zero_division` parameter to control this behavior.\n",
      "  _warn_prf(average, modifier, f\"{metric.capitalize()} is\", len(result))\n"
     ]
    },
    {
     "name": "stdout",
     "output_type": "stream",
     "text": [
      "Epoch 90: Train Loss=2.0016, Val Loss=1.6670\n",
      "Mean F1 Score: 0.7973, Mean Accuracy: 0.9602, Mean Precision: 0.7784, Mean Recall: 0.8182\n"
     ]
    },
    {
     "name": "stderr",
     "output_type": "stream",
     "text": [
      "Epoch 91 Training:   0%|          | 0/4 [00:00<?, ?it/s]/tmp/job.14646635/ipykernel_391663/1724129108.py:79: FutureWarning: Series.__getitem__ treating keys as positions is deprecated. In a future version, integer keys will always be treated as labels (consistent with DataFrame behavior). To access a value by position, use `ser.iloc[pos]`\n",
      "  'labels': torch.tensor(label, dtype=torch.float32)\n",
      "Epoch 91 Training: 100%|██████████| 4/4 [00:05<00:00,  1.43s/it, loss=2.01]\n",
      "Epoch 91 Validation: 100%|██████████| 1/1 [00:00<00:00,  2.22it/s, loss=1.68]\n",
      "/scratch/user/akash.pillai.0810/.my_env/lib/python3.10/site-packages/sklearn/metrics/_classification.py:1565: UndefinedMetricWarning: F-score is ill-defined and being set to 0.0 due to no true nor predicted samples. Use `zero_division` parameter to control this behavior.\n",
      "  _warn_prf(average, modifier, f\"{metric.capitalize()} is\", len(result))\n",
      "/scratch/user/akash.pillai.0810/.my_env/lib/python3.10/site-packages/sklearn/metrics/_classification.py:1565: UndefinedMetricWarning: F-score is ill-defined and being set to 0.0 due to no true nor predicted samples. Use `zero_division` parameter to control this behavior.\n",
      "  _warn_prf(average, modifier, f\"{metric.capitalize()} is\", len(result))\n",
      "/scratch/user/akash.pillai.0810/.my_env/lib/python3.10/site-packages/sklearn/metrics/_classification.py:1565: UndefinedMetricWarning: Recall is ill-defined and being set to 0.0 due to no true samples. Use `zero_division` parameter to control this behavior.\n",
      "  _warn_prf(average, modifier, f\"{metric.capitalize()} is\", len(result))\n",
      "/scratch/user/akash.pillai.0810/.my_env/lib/python3.10/site-packages/sklearn/metrics/_classification.py:1565: UndefinedMetricWarning: Recall is ill-defined and being set to 0.0 due to no true samples. Use `zero_division` parameter to control this behavior.\n",
      "  _warn_prf(average, modifier, f\"{metric.capitalize()} is\", len(result))\n"
     ]
    },
    {
     "name": "stdout",
     "output_type": "stream",
     "text": [
      "Epoch 91: Train Loss=2.0138, Val Loss=1.6814\n",
      "Mean F1 Score: 0.7973, Mean Accuracy: 0.9602, Mean Precision: 0.7784, Mean Recall: 0.8182\n"
     ]
    },
    {
     "name": "stderr",
     "output_type": "stream",
     "text": [
      "Epoch 92 Training:   0%|          | 0/4 [00:00<?, ?it/s]/tmp/job.14646635/ipykernel_391663/1724129108.py:79: FutureWarning: Series.__getitem__ treating keys as positions is deprecated. In a future version, integer keys will always be treated as labels (consistent with DataFrame behavior). To access a value by position, use `ser.iloc[pos]`\n",
      "  'labels': torch.tensor(label, dtype=torch.float32)\n",
      "Epoch 92 Training: 100%|██████████| 4/4 [00:05<00:00,  1.43s/it, loss=2.91]\n",
      "Epoch 92 Validation: 100%|██████████| 1/1 [00:00<00:00,  2.22it/s, loss=1.68]\n",
      "/scratch/user/akash.pillai.0810/.my_env/lib/python3.10/site-packages/sklearn/metrics/_classification.py:1565: UndefinedMetricWarning: F-score is ill-defined and being set to 0.0 due to no true nor predicted samples. Use `zero_division` parameter to control this behavior.\n",
      "  _warn_prf(average, modifier, f\"{metric.capitalize()} is\", len(result))\n",
      "/scratch/user/akash.pillai.0810/.my_env/lib/python3.10/site-packages/sklearn/metrics/_classification.py:1565: UndefinedMetricWarning: F-score is ill-defined and being set to 0.0 due to no true nor predicted samples. Use `zero_division` parameter to control this behavior.\n",
      "  _warn_prf(average, modifier, f\"{metric.capitalize()} is\", len(result))\n",
      "/scratch/user/akash.pillai.0810/.my_env/lib/python3.10/site-packages/sklearn/metrics/_classification.py:1565: UndefinedMetricWarning: Recall is ill-defined and being set to 0.0 due to no true samples. Use `zero_division` parameter to control this behavior.\n",
      "  _warn_prf(average, modifier, f\"{metric.capitalize()} is\", len(result))\n",
      "/scratch/user/akash.pillai.0810/.my_env/lib/python3.10/site-packages/sklearn/metrics/_classification.py:1565: UndefinedMetricWarning: Recall is ill-defined and being set to 0.0 due to no true samples. Use `zero_division` parameter to control this behavior.\n",
      "  _warn_prf(average, modifier, f\"{metric.capitalize()} is\", len(result))\n"
     ]
    },
    {
     "name": "stdout",
     "output_type": "stream",
     "text": [
      "Epoch 92: Train Loss=2.0224, Val Loss=1.6765\n",
      "Mean F1 Score: 0.7973, Mean Accuracy: 0.9602, Mean Precision: 0.7784, Mean Recall: 0.8182\n"
     ]
    },
    {
     "name": "stderr",
     "output_type": "stream",
     "text": [
      "Epoch 93 Training:   0%|          | 0/4 [00:00<?, ?it/s]/tmp/job.14646635/ipykernel_391663/1724129108.py:79: FutureWarning: Series.__getitem__ treating keys as positions is deprecated. In a future version, integer keys will always be treated as labels (consistent with DataFrame behavior). To access a value by position, use `ser.iloc[pos]`\n",
      "  'labels': torch.tensor(label, dtype=torch.float32)\n",
      "Epoch 93 Training: 100%|██████████| 4/4 [00:05<00:00,  1.43s/it, loss=2.26]\n",
      "Epoch 93 Validation: 100%|██████████| 1/1 [00:00<00:00,  2.22it/s, loss=1.66]\n",
      "/scratch/user/akash.pillai.0810/.my_env/lib/python3.10/site-packages/sklearn/metrics/_classification.py:1565: UndefinedMetricWarning: F-score is ill-defined and being set to 0.0 due to no true nor predicted samples. Use `zero_division` parameter to control this behavior.\n",
      "  _warn_prf(average, modifier, f\"{metric.capitalize()} is\", len(result))\n",
      "/scratch/user/akash.pillai.0810/.my_env/lib/python3.10/site-packages/sklearn/metrics/_classification.py:1565: UndefinedMetricWarning: F-score is ill-defined and being set to 0.0 due to no true nor predicted samples. Use `zero_division` parameter to control this behavior.\n",
      "  _warn_prf(average, modifier, f\"{metric.capitalize()} is\", len(result))\n",
      "/scratch/user/akash.pillai.0810/.my_env/lib/python3.10/site-packages/sklearn/metrics/_classification.py:1565: UndefinedMetricWarning: Recall is ill-defined and being set to 0.0 due to no true samples. Use `zero_division` parameter to control this behavior.\n",
      "  _warn_prf(average, modifier, f\"{metric.capitalize()} is\", len(result))\n",
      "/scratch/user/akash.pillai.0810/.my_env/lib/python3.10/site-packages/sklearn/metrics/_classification.py:1565: UndefinedMetricWarning: Recall is ill-defined and being set to 0.0 due to no true samples. Use `zero_division` parameter to control this behavior.\n",
      "  _warn_prf(average, modifier, f\"{metric.capitalize()} is\", len(result))\n"
     ]
    },
    {
     "name": "stdout",
     "output_type": "stream",
     "text": [
      "Epoch 93: Train Loss=2.0288, Val Loss=1.6584\n",
      "Mean F1 Score: 0.7973, Mean Accuracy: 0.9602, Mean Precision: 0.7784, Mean Recall: 0.8182\n"
     ]
    },
    {
     "name": "stderr",
     "output_type": "stream",
     "text": [
      "Epoch 94 Training:   0%|          | 0/4 [00:00<?, ?it/s]/tmp/job.14646635/ipykernel_391663/1724129108.py:79: FutureWarning: Series.__getitem__ treating keys as positions is deprecated. In a future version, integer keys will always be treated as labels (consistent with DataFrame behavior). To access a value by position, use `ser.iloc[pos]`\n",
      "  'labels': torch.tensor(label, dtype=torch.float32)\n",
      "Epoch 94 Training: 100%|██████████| 4/4 [00:05<00:00,  1.43s/it, loss=1.27]\n",
      "Epoch 94 Validation: 100%|██████████| 1/1 [00:00<00:00,  2.21it/s, loss=1.65]\n",
      "/scratch/user/akash.pillai.0810/.my_env/lib/python3.10/site-packages/sklearn/metrics/_classification.py:1565: UndefinedMetricWarning: F-score is ill-defined and being set to 0.0 due to no true nor predicted samples. Use `zero_division` parameter to control this behavior.\n",
      "  _warn_prf(average, modifier, f\"{metric.capitalize()} is\", len(result))\n",
      "/scratch/user/akash.pillai.0810/.my_env/lib/python3.10/site-packages/sklearn/metrics/_classification.py:1565: UndefinedMetricWarning: F-score is ill-defined and being set to 0.0 due to no true nor predicted samples. Use `zero_division` parameter to control this behavior.\n",
      "  _warn_prf(average, modifier, f\"{metric.capitalize()} is\", len(result))\n",
      "/scratch/user/akash.pillai.0810/.my_env/lib/python3.10/site-packages/sklearn/metrics/_classification.py:1565: UndefinedMetricWarning: Recall is ill-defined and being set to 0.0 due to no true samples. Use `zero_division` parameter to control this behavior.\n",
      "  _warn_prf(average, modifier, f\"{metric.capitalize()} is\", len(result))\n",
      "/scratch/user/akash.pillai.0810/.my_env/lib/python3.10/site-packages/sklearn/metrics/_classification.py:1565: UndefinedMetricWarning: Recall is ill-defined and being set to 0.0 due to no true samples. Use `zero_division` parameter to control this behavior.\n",
      "  _warn_prf(average, modifier, f\"{metric.capitalize()} is\", len(result))\n"
     ]
    },
    {
     "name": "stdout",
     "output_type": "stream",
     "text": [
      "Epoch 94: Train Loss=2.0363, Val Loss=1.6537\n",
      "Mean F1 Score: 0.7973, Mean Accuracy: 0.9602, Mean Precision: 0.7784, Mean Recall: 0.8182\n"
     ]
    },
    {
     "name": "stderr",
     "output_type": "stream",
     "text": [
      "Epoch 95 Training:   0%|          | 0/4 [00:00<?, ?it/s]/tmp/job.14646635/ipykernel_391663/1724129108.py:79: FutureWarning: Series.__getitem__ treating keys as positions is deprecated. In a future version, integer keys will always be treated as labels (consistent with DataFrame behavior). To access a value by position, use `ser.iloc[pos]`\n",
      "  'labels': torch.tensor(label, dtype=torch.float32)\n",
      "Epoch 95 Training: 100%|██████████| 4/4 [00:05<00:00,  1.43s/it, loss=1.69]\n",
      "Epoch 95 Validation: 100%|██████████| 1/1 [00:00<00:00,  2.22it/s, loss=1.62]\n",
      "/scratch/user/akash.pillai.0810/.my_env/lib/python3.10/site-packages/sklearn/metrics/_classification.py:1565: UndefinedMetricWarning: F-score is ill-defined and being set to 0.0 due to no true nor predicted samples. Use `zero_division` parameter to control this behavior.\n",
      "  _warn_prf(average, modifier, f\"{metric.capitalize()} is\", len(result))\n",
      "/scratch/user/akash.pillai.0810/.my_env/lib/python3.10/site-packages/sklearn/metrics/_classification.py:1565: UndefinedMetricWarning: F-score is ill-defined and being set to 0.0 due to no true nor predicted samples. Use `zero_division` parameter to control this behavior.\n",
      "  _warn_prf(average, modifier, f\"{metric.capitalize()} is\", len(result))\n",
      "/scratch/user/akash.pillai.0810/.my_env/lib/python3.10/site-packages/sklearn/metrics/_classification.py:1565: UndefinedMetricWarning: Recall is ill-defined and being set to 0.0 due to no true samples. Use `zero_division` parameter to control this behavior.\n",
      "  _warn_prf(average, modifier, f\"{metric.capitalize()} is\", len(result))\n",
      "/scratch/user/akash.pillai.0810/.my_env/lib/python3.10/site-packages/sklearn/metrics/_classification.py:1565: UndefinedMetricWarning: Recall is ill-defined and being set to 0.0 due to no true samples. Use `zero_division` parameter to control this behavior.\n",
      "  _warn_prf(average, modifier, f\"{metric.capitalize()} is\", len(result))\n"
     ]
    },
    {
     "name": "stdout",
     "output_type": "stream",
     "text": [
      "Epoch 95: Train Loss=2.0190, Val Loss=1.6225\n",
      "Mean F1 Score: 0.7973, Mean Accuracy: 0.9602, Mean Precision: 0.7784, Mean Recall: 0.8182\n"
     ]
    },
    {
     "name": "stderr",
     "output_type": "stream",
     "text": [
      "Epoch 96 Training:   0%|          | 0/4 [00:00<?, ?it/s]/tmp/job.14646635/ipykernel_391663/1724129108.py:79: FutureWarning: Series.__getitem__ treating keys as positions is deprecated. In a future version, integer keys will always be treated as labels (consistent with DataFrame behavior). To access a value by position, use `ser.iloc[pos]`\n",
      "  'labels': torch.tensor(label, dtype=torch.float32)\n",
      "Epoch 96 Training: 100%|██████████| 4/4 [00:05<00:00,  1.43s/it, loss=2.33]\n",
      "Epoch 96 Validation: 100%|██████████| 1/1 [00:00<00:00,  2.22it/s, loss=1.63]\n",
      "/scratch/user/akash.pillai.0810/.my_env/lib/python3.10/site-packages/sklearn/metrics/_classification.py:1565: UndefinedMetricWarning: F-score is ill-defined and being set to 0.0 due to no true nor predicted samples. Use `zero_division` parameter to control this behavior.\n",
      "  _warn_prf(average, modifier, f\"{metric.capitalize()} is\", len(result))\n",
      "/scratch/user/akash.pillai.0810/.my_env/lib/python3.10/site-packages/sklearn/metrics/_classification.py:1565: UndefinedMetricWarning: F-score is ill-defined and being set to 0.0 due to no true nor predicted samples. Use `zero_division` parameter to control this behavior.\n",
      "  _warn_prf(average, modifier, f\"{metric.capitalize()} is\", len(result))\n",
      "/scratch/user/akash.pillai.0810/.my_env/lib/python3.10/site-packages/sklearn/metrics/_classification.py:1565: UndefinedMetricWarning: Recall is ill-defined and being set to 0.0 due to no true samples. Use `zero_division` parameter to control this behavior.\n",
      "  _warn_prf(average, modifier, f\"{metric.capitalize()} is\", len(result))\n",
      "/scratch/user/akash.pillai.0810/.my_env/lib/python3.10/site-packages/sklearn/metrics/_classification.py:1565: UndefinedMetricWarning: Recall is ill-defined and being set to 0.0 due to no true samples. Use `zero_division` parameter to control this behavior.\n",
      "  _warn_prf(average, modifier, f\"{metric.capitalize()} is\", len(result))\n"
     ]
    },
    {
     "name": "stdout",
     "output_type": "stream",
     "text": [
      "Epoch 96: Train Loss=2.0020, Val Loss=1.6304\n",
      "Mean F1 Score: 0.7973, Mean Accuracy: 0.9602, Mean Precision: 0.7784, Mean Recall: 0.8182\n"
     ]
    },
    {
     "name": "stderr",
     "output_type": "stream",
     "text": [
      "Epoch 97 Training:   0%|          | 0/4 [00:00<?, ?it/s]/tmp/job.14646635/ipykernel_391663/1724129108.py:79: FutureWarning: Series.__getitem__ treating keys as positions is deprecated. In a future version, integer keys will always be treated as labels (consistent with DataFrame behavior). To access a value by position, use `ser.iloc[pos]`\n",
      "  'labels': torch.tensor(label, dtype=torch.float32)\n",
      "Epoch 97 Training: 100%|██████████| 4/4 [00:05<00:00,  1.43s/it, loss=1.17]\n",
      "Epoch 97 Validation: 100%|██████████| 1/1 [00:00<00:00,  2.21it/s, loss=1.64]\n",
      "/scratch/user/akash.pillai.0810/.my_env/lib/python3.10/site-packages/sklearn/metrics/_classification.py:1565: UndefinedMetricWarning: F-score is ill-defined and being set to 0.0 due to no true nor predicted samples. Use `zero_division` parameter to control this behavior.\n",
      "  _warn_prf(average, modifier, f\"{metric.capitalize()} is\", len(result))\n",
      "/scratch/user/akash.pillai.0810/.my_env/lib/python3.10/site-packages/sklearn/metrics/_classification.py:1565: UndefinedMetricWarning: F-score is ill-defined and being set to 0.0 due to no true nor predicted samples. Use `zero_division` parameter to control this behavior.\n",
      "  _warn_prf(average, modifier, f\"{metric.capitalize()} is\", len(result))\n",
      "/scratch/user/akash.pillai.0810/.my_env/lib/python3.10/site-packages/sklearn/metrics/_classification.py:1565: UndefinedMetricWarning: Recall is ill-defined and being set to 0.0 due to no true samples. Use `zero_division` parameter to control this behavior.\n",
      "  _warn_prf(average, modifier, f\"{metric.capitalize()} is\", len(result))\n",
      "/scratch/user/akash.pillai.0810/.my_env/lib/python3.10/site-packages/sklearn/metrics/_classification.py:1565: UndefinedMetricWarning: Recall is ill-defined and being set to 0.0 due to no true samples. Use `zero_division` parameter to control this behavior.\n",
      "  _warn_prf(average, modifier, f\"{metric.capitalize()} is\", len(result))\n"
     ]
    },
    {
     "name": "stdout",
     "output_type": "stream",
     "text": [
      "Epoch 97: Train Loss=2.0178, Val Loss=1.6373\n",
      "Mean F1 Score: 0.7973, Mean Accuracy: 0.9602, Mean Precision: 0.7784, Mean Recall: 0.8182\n"
     ]
    },
    {
     "name": "stderr",
     "output_type": "stream",
     "text": [
      "Epoch 98 Training:   0%|          | 0/4 [00:00<?, ?it/s]/tmp/job.14646635/ipykernel_391663/1724129108.py:79: FutureWarning: Series.__getitem__ treating keys as positions is deprecated. In a future version, integer keys will always be treated as labels (consistent with DataFrame behavior). To access a value by position, use `ser.iloc[pos]`\n",
      "  'labels': torch.tensor(label, dtype=torch.float32)\n",
      "Epoch 98 Training: 100%|██████████| 4/4 [00:05<00:00,  1.43s/it, loss=1.09]\n",
      "Epoch 98 Validation: 100%|██████████| 1/1 [00:00<00:00,  2.22it/s, loss=1.64]\n",
      "/scratch/user/akash.pillai.0810/.my_env/lib/python3.10/site-packages/sklearn/metrics/_classification.py:1565: UndefinedMetricWarning: F-score is ill-defined and being set to 0.0 due to no true nor predicted samples. Use `zero_division` parameter to control this behavior.\n",
      "  _warn_prf(average, modifier, f\"{metric.capitalize()} is\", len(result))\n",
      "/scratch/user/akash.pillai.0810/.my_env/lib/python3.10/site-packages/sklearn/metrics/_classification.py:1565: UndefinedMetricWarning: F-score is ill-defined and being set to 0.0 due to no true nor predicted samples. Use `zero_division` parameter to control this behavior.\n",
      "  _warn_prf(average, modifier, f\"{metric.capitalize()} is\", len(result))\n",
      "/scratch/user/akash.pillai.0810/.my_env/lib/python3.10/site-packages/sklearn/metrics/_classification.py:1565: UndefinedMetricWarning: Recall is ill-defined and being set to 0.0 due to no true samples. Use `zero_division` parameter to control this behavior.\n",
      "  _warn_prf(average, modifier, f\"{metric.capitalize()} is\", len(result))\n",
      "/scratch/user/akash.pillai.0810/.my_env/lib/python3.10/site-packages/sklearn/metrics/_classification.py:1565: UndefinedMetricWarning: Recall is ill-defined and being set to 0.0 due to no true samples. Use `zero_division` parameter to control this behavior.\n",
      "  _warn_prf(average, modifier, f\"{metric.capitalize()} is\", len(result))\n"
     ]
    },
    {
     "name": "stdout",
     "output_type": "stream",
     "text": [
      "Epoch 98: Train Loss=1.9995, Val Loss=1.6431\n",
      "Mean F1 Score: 0.7973, Mean Accuracy: 0.9602, Mean Precision: 0.7784, Mean Recall: 0.8182\n"
     ]
    },
    {
     "name": "stderr",
     "output_type": "stream",
     "text": [
      "Epoch 99 Training:   0%|          | 0/4 [00:00<?, ?it/s]/tmp/job.14646635/ipykernel_391663/1724129108.py:79: FutureWarning: Series.__getitem__ treating keys as positions is deprecated. In a future version, integer keys will always be treated as labels (consistent with DataFrame behavior). To access a value by position, use `ser.iloc[pos]`\n",
      "  'labels': torch.tensor(label, dtype=torch.float32)\n",
      "Epoch 99 Training: 100%|██████████| 4/4 [00:05<00:00,  1.43s/it, loss=1.55]\n",
      "Epoch 99 Validation: 100%|██████████| 1/1 [00:00<00:00,  2.22it/s, loss=1.65]\n",
      "/scratch/user/akash.pillai.0810/.my_env/lib/python3.10/site-packages/sklearn/metrics/_classification.py:1565: UndefinedMetricWarning: F-score is ill-defined and being set to 0.0 due to no true nor predicted samples. Use `zero_division` parameter to control this behavior.\n",
      "  _warn_prf(average, modifier, f\"{metric.capitalize()} is\", len(result))\n",
      "/scratch/user/akash.pillai.0810/.my_env/lib/python3.10/site-packages/sklearn/metrics/_classification.py:1565: UndefinedMetricWarning: F-score is ill-defined and being set to 0.0 due to no true nor predicted samples. Use `zero_division` parameter to control this behavior.\n",
      "  _warn_prf(average, modifier, f\"{metric.capitalize()} is\", len(result))\n",
      "/scratch/user/akash.pillai.0810/.my_env/lib/python3.10/site-packages/sklearn/metrics/_classification.py:1565: UndefinedMetricWarning: Recall is ill-defined and being set to 0.0 due to no true samples. Use `zero_division` parameter to control this behavior.\n",
      "  _warn_prf(average, modifier, f\"{metric.capitalize()} is\", len(result))\n",
      "/scratch/user/akash.pillai.0810/.my_env/lib/python3.10/site-packages/sklearn/metrics/_classification.py:1565: UndefinedMetricWarning: Recall is ill-defined and being set to 0.0 due to no true samples. Use `zero_division` parameter to control this behavior.\n",
      "  _warn_prf(average, modifier, f\"{metric.capitalize()} is\", len(result))\n"
     ]
    },
    {
     "name": "stdout",
     "output_type": "stream",
     "text": [
      "Epoch 99: Train Loss=1.9759, Val Loss=1.6452\n",
      "Mean F1 Score: 0.7973, Mean Accuracy: 0.9602, Mean Precision: 0.7784, Mean Recall: 0.8182\n"
     ]
    },
    {
     "name": "stderr",
     "output_type": "stream",
     "text": [
      "Epoch 100 Training:   0%|          | 0/4 [00:00<?, ?it/s]/tmp/job.14646635/ipykernel_391663/1724129108.py:79: FutureWarning: Series.__getitem__ treating keys as positions is deprecated. In a future version, integer keys will always be treated as labels (consistent with DataFrame behavior). To access a value by position, use `ser.iloc[pos]`\n",
      "  'labels': torch.tensor(label, dtype=torch.float32)\n",
      "Epoch 100 Training: 100%|██████████| 4/4 [00:05<00:00,  1.43s/it, loss=0.95]\n",
      "Epoch 100 Validation: 100%|██████████| 1/1 [00:00<00:00,  2.22it/s, loss=1.64]\n",
      "/scratch/user/akash.pillai.0810/.my_env/lib/python3.10/site-packages/sklearn/metrics/_classification.py:1565: UndefinedMetricWarning: F-score is ill-defined and being set to 0.0 due to no true nor predicted samples. Use `zero_division` parameter to control this behavior.\n",
      "  _warn_prf(average, modifier, f\"{metric.capitalize()} is\", len(result))\n",
      "/scratch/user/akash.pillai.0810/.my_env/lib/python3.10/site-packages/sklearn/metrics/_classification.py:1565: UndefinedMetricWarning: F-score is ill-defined and being set to 0.0 due to no true nor predicted samples. Use `zero_division` parameter to control this behavior.\n",
      "  _warn_prf(average, modifier, f\"{metric.capitalize()} is\", len(result))\n",
      "/scratch/user/akash.pillai.0810/.my_env/lib/python3.10/site-packages/sklearn/metrics/_classification.py:1565: UndefinedMetricWarning: Recall is ill-defined and being set to 0.0 due to no true samples. Use `zero_division` parameter to control this behavior.\n",
      "  _warn_prf(average, modifier, f\"{metric.capitalize()} is\", len(result))\n",
      "/scratch/user/akash.pillai.0810/.my_env/lib/python3.10/site-packages/sklearn/metrics/_classification.py:1565: UndefinedMetricWarning: Recall is ill-defined and being set to 0.0 due to no true samples. Use `zero_division` parameter to control this behavior.\n",
      "  _warn_prf(average, modifier, f\"{metric.capitalize()} is\", len(result))\n"
     ]
    },
    {
     "name": "stdout",
     "output_type": "stream",
     "text": [
      "Epoch 100: Train Loss=1.9873, Val Loss=1.6427\n",
      "Mean F1 Score: 0.7973, Mean Accuracy: 0.9602, Mean Precision: 0.7784, Mean Recall: 0.8182\n",
      "Training fold 4...\n"
     ]
    },
    {
     "name": "stderr",
     "output_type": "stream",
     "text": [
      "Epoch 1 Training:   0%|          | 0/4 [00:00<?, ?it/s]/tmp/job.14646635/ipykernel_391663/1724129108.py:79: FutureWarning: Series.__getitem__ treating keys as positions is deprecated. In a future version, integer keys will always be treated as labels (consistent with DataFrame behavior). To access a value by position, use `ser.iloc[pos]`\n",
      "  'labels': torch.tensor(label, dtype=torch.float32)\n",
      "Epoch 1 Training: 100%|██████████| 4/4 [00:05<00:00,  1.45s/it, loss=6.53]\n",
      "Epoch 1 Validation: 100%|██████████| 1/1 [00:00<00:00,  2.57it/s, loss=6.26]\n",
      "/scratch/user/akash.pillai.0810/.my_env/lib/python3.10/site-packages/sklearn/metrics/_classification.py:1565: UndefinedMetricWarning: F-score is ill-defined and being set to 0.0 due to no true nor predicted samples. Use `zero_division` parameter to control this behavior.\n",
      "  _warn_prf(average, modifier, f\"{metric.capitalize()} is\", len(result))\n",
      "/scratch/user/akash.pillai.0810/.my_env/lib/python3.10/site-packages/sklearn/metrics/_classification.py:1565: UndefinedMetricWarning: Recall is ill-defined and being set to 0.0 due to no true samples. Use `zero_division` parameter to control this behavior.\n",
      "  _warn_prf(average, modifier, f\"{metric.capitalize()} is\", len(result))\n"
     ]
    },
    {
     "name": "stdout",
     "output_type": "stream",
     "text": [
      "Epoch 1: Train Loss=6.7511, Val Loss=6.2612\n",
      "Mean F1 Score: 0.7028, Mean Accuracy: 0.8807, Mean Precision: 0.6924, Mean Recall: 0.7152\n",
      "New best model saved for fold 4 with F1=0.7028\n"
     ]
    },
    {
     "name": "stderr",
     "output_type": "stream",
     "text": [
      "Epoch 2 Training:   0%|          | 0/4 [00:00<?, ?it/s]/tmp/job.14646635/ipykernel_391663/1724129108.py:79: FutureWarning: Series.__getitem__ treating keys as positions is deprecated. In a future version, integer keys will always be treated as labels (consistent with DataFrame behavior). To access a value by position, use `ser.iloc[pos]`\n",
      "  'labels': torch.tensor(label, dtype=torch.float32)\n",
      "Epoch 2 Training: 100%|██████████| 4/4 [00:05<00:00,  1.45s/it, loss=6.16]\n",
      "Epoch 2 Validation: 100%|██████████| 1/1 [00:00<00:00,  2.57it/s, loss=5.63]\n",
      "/scratch/user/akash.pillai.0810/.my_env/lib/python3.10/site-packages/sklearn/metrics/_classification.py:1565: UndefinedMetricWarning: F-score is ill-defined and being set to 0.0 due to no true nor predicted samples. Use `zero_division` parameter to control this behavior.\n",
      "  _warn_prf(average, modifier, f\"{metric.capitalize()} is\", len(result))\n",
      "/scratch/user/akash.pillai.0810/.my_env/lib/python3.10/site-packages/sklearn/metrics/_classification.py:1565: UndefinedMetricWarning: Recall is ill-defined and being set to 0.0 due to no true samples. Use `zero_division` parameter to control this behavior.\n",
      "  _warn_prf(average, modifier, f\"{metric.capitalize()} is\", len(result))\n"
     ]
    },
    {
     "name": "stdout",
     "output_type": "stream",
     "text": [
      "Epoch 2: Train Loss=6.0526, Val Loss=5.6276\n",
      "Mean F1 Score: 0.7093, Mean Accuracy: 0.8920, Mean Precision: 0.6932, Mean Recall: 0.7273\n",
      "New best model saved for fold 4 with F1=0.7093\n"
     ]
    },
    {
     "name": "stderr",
     "output_type": "stream",
     "text": [
      "Epoch 3 Training:   0%|          | 0/4 [00:00<?, ?it/s]/tmp/job.14646635/ipykernel_391663/1724129108.py:79: FutureWarning: Series.__getitem__ treating keys as positions is deprecated. In a future version, integer keys will always be treated as labels (consistent with DataFrame behavior). To access a value by position, use `ser.iloc[pos]`\n",
      "  'labels': torch.tensor(label, dtype=torch.float32)\n",
      "Epoch 3 Training: 100%|██████████| 4/4 [00:05<00:00,  1.45s/it, loss=5.18]\n",
      "Epoch 3 Validation: 100%|██████████| 1/1 [00:00<00:00,  2.57it/s, loss=5.15]\n",
      "/scratch/user/akash.pillai.0810/.my_env/lib/python3.10/site-packages/sklearn/metrics/_classification.py:1565: UndefinedMetricWarning: F-score is ill-defined and being set to 0.0 due to no true nor predicted samples. Use `zero_division` parameter to control this behavior.\n",
      "  _warn_prf(average, modifier, f\"{metric.capitalize()} is\", len(result))\n",
      "/scratch/user/akash.pillai.0810/.my_env/lib/python3.10/site-packages/sklearn/metrics/_classification.py:1565: UndefinedMetricWarning: Recall is ill-defined and being set to 0.0 due to no true samples. Use `zero_division` parameter to control this behavior.\n",
      "  _warn_prf(average, modifier, f\"{metric.capitalize()} is\", len(result))\n"
     ]
    },
    {
     "name": "stdout",
     "output_type": "stream",
     "text": [
      "Epoch 3: Train Loss=5.4404, Val Loss=5.1466\n",
      "Mean F1 Score: 0.7093, Mean Accuracy: 0.8920, Mean Precision: 0.6932, Mean Recall: 0.7273\n"
     ]
    },
    {
     "name": "stderr",
     "output_type": "stream",
     "text": [
      "Epoch 4 Training:   0%|          | 0/4 [00:00<?, ?it/s]/tmp/job.14646635/ipykernel_391663/1724129108.py:79: FutureWarning: Series.__getitem__ treating keys as positions is deprecated. In a future version, integer keys will always be treated as labels (consistent with DataFrame behavior). To access a value by position, use `ser.iloc[pos]`\n",
      "  'labels': torch.tensor(label, dtype=torch.float32)\n",
      "Epoch 4 Training: 100%|██████████| 4/4 [00:05<00:00,  1.45s/it, loss=4.64]\n",
      "Epoch 4 Validation: 100%|██████████| 1/1 [00:00<00:00,  2.57it/s, loss=4.78]\n",
      "/scratch/user/akash.pillai.0810/.my_env/lib/python3.10/site-packages/sklearn/metrics/_classification.py:1565: UndefinedMetricWarning: F-score is ill-defined and being set to 0.0 due to no true nor predicted samples. Use `zero_division` parameter to control this behavior.\n",
      "  _warn_prf(average, modifier, f\"{metric.capitalize()} is\", len(result))\n",
      "/scratch/user/akash.pillai.0810/.my_env/lib/python3.10/site-packages/sklearn/metrics/_classification.py:1565: UndefinedMetricWarning: Recall is ill-defined and being set to 0.0 due to no true samples. Use `zero_division` parameter to control this behavior.\n",
      "  _warn_prf(average, modifier, f\"{metric.capitalize()} is\", len(result))\n"
     ]
    },
    {
     "name": "stdout",
     "output_type": "stream",
     "text": [
      "Epoch 4: Train Loss=5.0174, Val Loss=4.7784\n",
      "Mean F1 Score: 0.7093, Mean Accuracy: 0.8920, Mean Precision: 0.6932, Mean Recall: 0.7273\n"
     ]
    },
    {
     "name": "stderr",
     "output_type": "stream",
     "text": [
      "Epoch 5 Training:   0%|          | 0/4 [00:00<?, ?it/s]/tmp/job.14646635/ipykernel_391663/1724129108.py:79: FutureWarning: Series.__getitem__ treating keys as positions is deprecated. In a future version, integer keys will always be treated as labels (consistent with DataFrame behavior). To access a value by position, use `ser.iloc[pos]`\n",
      "  'labels': torch.tensor(label, dtype=torch.float32)\n",
      "Epoch 5 Training: 100%|██████████| 4/4 [00:05<00:00,  1.45s/it, loss=4.44]\n",
      "Epoch 5 Validation: 100%|██████████| 1/1 [00:00<00:00,  2.57it/s, loss=4.49]\n",
      "/scratch/user/akash.pillai.0810/.my_env/lib/python3.10/site-packages/sklearn/metrics/_classification.py:1565: UndefinedMetricWarning: F-score is ill-defined and being set to 0.0 due to no true nor predicted samples. Use `zero_division` parameter to control this behavior.\n",
      "  _warn_prf(average, modifier, f\"{metric.capitalize()} is\", len(result))\n",
      "/scratch/user/akash.pillai.0810/.my_env/lib/python3.10/site-packages/sklearn/metrics/_classification.py:1565: UndefinedMetricWarning: Recall is ill-defined and being set to 0.0 due to no true samples. Use `zero_division` parameter to control this behavior.\n",
      "  _warn_prf(average, modifier, f\"{metric.capitalize()} is\", len(result))\n"
     ]
    },
    {
     "name": "stdout",
     "output_type": "stream",
     "text": [
      "Epoch 5: Train Loss=4.6566, Val Loss=4.4865\n",
      "Mean F1 Score: 0.7093, Mean Accuracy: 0.8920, Mean Precision: 0.6932, Mean Recall: 0.7273\n"
     ]
    },
    {
     "name": "stderr",
     "output_type": "stream",
     "text": [
      "Epoch 6 Training:   0%|          | 0/4 [00:00<?, ?it/s]/tmp/job.14646635/ipykernel_391663/1724129108.py:79: FutureWarning: Series.__getitem__ treating keys as positions is deprecated. In a future version, integer keys will always be treated as labels (consistent with DataFrame behavior). To access a value by position, use `ser.iloc[pos]`\n",
      "  'labels': torch.tensor(label, dtype=torch.float32)\n",
      "Epoch 6 Training: 100%|██████████| 4/4 [00:05<00:00,  1.45s/it, loss=5.07]\n",
      "Epoch 6 Validation: 100%|██████████| 1/1 [00:00<00:00,  2.57it/s, loss=4.25]\n",
      "/scratch/user/akash.pillai.0810/.my_env/lib/python3.10/site-packages/sklearn/metrics/_classification.py:1565: UndefinedMetricWarning: F-score is ill-defined and being set to 0.0 due to no true nor predicted samples. Use `zero_division` parameter to control this behavior.\n",
      "  _warn_prf(average, modifier, f\"{metric.capitalize()} is\", len(result))\n",
      "/scratch/user/akash.pillai.0810/.my_env/lib/python3.10/site-packages/sklearn/metrics/_classification.py:1565: UndefinedMetricWarning: Recall is ill-defined and being set to 0.0 due to no true samples. Use `zero_division` parameter to control this behavior.\n",
      "  _warn_prf(average, modifier, f\"{metric.capitalize()} is\", len(result))\n"
     ]
    },
    {
     "name": "stdout",
     "output_type": "stream",
     "text": [
      "Epoch 6: Train Loss=4.3747, Val Loss=4.2541\n",
      "Mean F1 Score: 0.7093, Mean Accuracy: 0.8920, Mean Precision: 0.6932, Mean Recall: 0.7273\n"
     ]
    },
    {
     "name": "stderr",
     "output_type": "stream",
     "text": [
      "Epoch 7 Training:   0%|          | 0/4 [00:00<?, ?it/s]/tmp/job.14646635/ipykernel_391663/1724129108.py:79: FutureWarning: Series.__getitem__ treating keys as positions is deprecated. In a future version, integer keys will always be treated as labels (consistent with DataFrame behavior). To access a value by position, use `ser.iloc[pos]`\n",
      "  'labels': torch.tensor(label, dtype=torch.float32)\n",
      "Epoch 7 Training: 100%|██████████| 4/4 [00:05<00:00,  1.45s/it, loss=3.81]\n",
      "Epoch 7 Validation: 100%|██████████| 1/1 [00:00<00:00,  2.58it/s, loss=4.06]\n",
      "/scratch/user/akash.pillai.0810/.my_env/lib/python3.10/site-packages/sklearn/metrics/_classification.py:1565: UndefinedMetricWarning: F-score is ill-defined and being set to 0.0 due to no true nor predicted samples. Use `zero_division` parameter to control this behavior.\n",
      "  _warn_prf(average, modifier, f\"{metric.capitalize()} is\", len(result))\n",
      "/scratch/user/akash.pillai.0810/.my_env/lib/python3.10/site-packages/sklearn/metrics/_classification.py:1565: UndefinedMetricWarning: Recall is ill-defined and being set to 0.0 due to no true samples. Use `zero_division` parameter to control this behavior.\n",
      "  _warn_prf(average, modifier, f\"{metric.capitalize()} is\", len(result))\n"
     ]
    },
    {
     "name": "stdout",
     "output_type": "stream",
     "text": [
      "Epoch 7: Train Loss=4.1044, Val Loss=4.0573\n",
      "Mean F1 Score: 0.7093, Mean Accuracy: 0.8920, Mean Precision: 0.6932, Mean Recall: 0.7273\n"
     ]
    },
    {
     "name": "stderr",
     "output_type": "stream",
     "text": [
      "Epoch 8 Training:   0%|          | 0/4 [00:00<?, ?it/s]/tmp/job.14646635/ipykernel_391663/1724129108.py:79: FutureWarning: Series.__getitem__ treating keys as positions is deprecated. In a future version, integer keys will always be treated as labels (consistent with DataFrame behavior). To access a value by position, use `ser.iloc[pos]`\n",
      "  'labels': torch.tensor(label, dtype=torch.float32)\n",
      "Epoch 8 Training: 100%|██████████| 4/4 [00:05<00:00,  1.45s/it, loss=4.11]\n",
      "Epoch 8 Validation: 100%|██████████| 1/1 [00:00<00:00,  2.57it/s, loss=3.89]\n",
      "/scratch/user/akash.pillai.0810/.my_env/lib/python3.10/site-packages/sklearn/metrics/_classification.py:1565: UndefinedMetricWarning: F-score is ill-defined and being set to 0.0 due to no true nor predicted samples. Use `zero_division` parameter to control this behavior.\n",
      "  _warn_prf(average, modifier, f\"{metric.capitalize()} is\", len(result))\n",
      "/scratch/user/akash.pillai.0810/.my_env/lib/python3.10/site-packages/sklearn/metrics/_classification.py:1565: UndefinedMetricWarning: Recall is ill-defined and being set to 0.0 due to no true samples. Use `zero_division` parameter to control this behavior.\n",
      "  _warn_prf(average, modifier, f\"{metric.capitalize()} is\", len(result))\n"
     ]
    },
    {
     "name": "stdout",
     "output_type": "stream",
     "text": [
      "Epoch 8: Train Loss=3.8984, Val Loss=3.8942\n",
      "Mean F1 Score: 0.7093, Mean Accuracy: 0.8920, Mean Precision: 0.6932, Mean Recall: 0.7273\n"
     ]
    },
    {
     "name": "stderr",
     "output_type": "stream",
     "text": [
      "Epoch 9 Training:   0%|          | 0/4 [00:00<?, ?it/s]/tmp/job.14646635/ipykernel_391663/1724129108.py:79: FutureWarning: Series.__getitem__ treating keys as positions is deprecated. In a future version, integer keys will always be treated as labels (consistent with DataFrame behavior). To access a value by position, use `ser.iloc[pos]`\n",
      "  'labels': torch.tensor(label, dtype=torch.float32)\n",
      "Epoch 9 Training: 100%|██████████| 4/4 [00:05<00:00,  1.45s/it, loss=4.11]\n",
      "Epoch 9 Validation: 100%|██████████| 1/1 [00:00<00:00,  2.57it/s, loss=3.76]\n",
      "/scratch/user/akash.pillai.0810/.my_env/lib/python3.10/site-packages/sklearn/metrics/_classification.py:1565: UndefinedMetricWarning: F-score is ill-defined and being set to 0.0 due to no true nor predicted samples. Use `zero_division` parameter to control this behavior.\n",
      "  _warn_prf(average, modifier, f\"{metric.capitalize()} is\", len(result))\n",
      "/scratch/user/akash.pillai.0810/.my_env/lib/python3.10/site-packages/sklearn/metrics/_classification.py:1565: UndefinedMetricWarning: Recall is ill-defined and being set to 0.0 due to no true samples. Use `zero_division` parameter to control this behavior.\n",
      "  _warn_prf(average, modifier, f\"{metric.capitalize()} is\", len(result))\n"
     ]
    },
    {
     "name": "stdout",
     "output_type": "stream",
     "text": [
      "Epoch 9: Train Loss=3.7006, Val Loss=3.7591\n",
      "Mean F1 Score: 0.7093, Mean Accuracy: 0.8920, Mean Precision: 0.6932, Mean Recall: 0.7273\n"
     ]
    },
    {
     "name": "stderr",
     "output_type": "stream",
     "text": [
      "Epoch 10 Training:   0%|          | 0/4 [00:00<?, ?it/s]/tmp/job.14646635/ipykernel_391663/1724129108.py:79: FutureWarning: Series.__getitem__ treating keys as positions is deprecated. In a future version, integer keys will always be treated as labels (consistent with DataFrame behavior). To access a value by position, use `ser.iloc[pos]`\n",
      "  'labels': torch.tensor(label, dtype=torch.float32)\n",
      "Epoch 10 Training: 100%|██████████| 4/4 [00:05<00:00,  1.45s/it, loss=3.57]\n",
      "Epoch 10 Validation: 100%|██████████| 1/1 [00:00<00:00,  2.57it/s, loss=3.64]\n",
      "/scratch/user/akash.pillai.0810/.my_env/lib/python3.10/site-packages/sklearn/metrics/_classification.py:1565: UndefinedMetricWarning: F-score is ill-defined and being set to 0.0 due to no true nor predicted samples. Use `zero_division` parameter to control this behavior.\n",
      "  _warn_prf(average, modifier, f\"{metric.capitalize()} is\", len(result))\n",
      "/scratch/user/akash.pillai.0810/.my_env/lib/python3.10/site-packages/sklearn/metrics/_classification.py:1565: UndefinedMetricWarning: Recall is ill-defined and being set to 0.0 due to no true samples. Use `zero_division` parameter to control this behavior.\n",
      "  _warn_prf(average, modifier, f\"{metric.capitalize()} is\", len(result))\n"
     ]
    },
    {
     "name": "stdout",
     "output_type": "stream",
     "text": [
      "Epoch 10: Train Loss=3.5769, Val Loss=3.6420\n",
      "Mean F1 Score: 0.7093, Mean Accuracy: 0.8920, Mean Precision: 0.6932, Mean Recall: 0.7273\n"
     ]
    },
    {
     "name": "stderr",
     "output_type": "stream",
     "text": [
      "Epoch 11 Training:   0%|          | 0/4 [00:00<?, ?it/s]/tmp/job.14646635/ipykernel_391663/1724129108.py:79: FutureWarning: Series.__getitem__ treating keys as positions is deprecated. In a future version, integer keys will always be treated as labels (consistent with DataFrame behavior). To access a value by position, use `ser.iloc[pos]`\n",
      "  'labels': torch.tensor(label, dtype=torch.float32)\n",
      "Epoch 11 Training: 100%|██████████| 4/4 [00:05<00:00,  1.45s/it, loss=3.47]\n",
      "Epoch 11 Validation: 100%|██████████| 1/1 [00:00<00:00,  2.57it/s, loss=3.54]\n",
      "/scratch/user/akash.pillai.0810/.my_env/lib/python3.10/site-packages/sklearn/metrics/_classification.py:1565: UndefinedMetricWarning: F-score is ill-defined and being set to 0.0 due to no true nor predicted samples. Use `zero_division` parameter to control this behavior.\n",
      "  _warn_prf(average, modifier, f\"{metric.capitalize()} is\", len(result))\n",
      "/scratch/user/akash.pillai.0810/.my_env/lib/python3.10/site-packages/sklearn/metrics/_classification.py:1565: UndefinedMetricWarning: Recall is ill-defined and being set to 0.0 due to no true samples. Use `zero_division` parameter to control this behavior.\n",
      "  _warn_prf(average, modifier, f\"{metric.capitalize()} is\", len(result))\n"
     ]
    },
    {
     "name": "stdout",
     "output_type": "stream",
     "text": [
      "Epoch 11: Train Loss=3.4550, Val Loss=3.5430\n",
      "Mean F1 Score: 0.7093, Mean Accuracy: 0.8920, Mean Precision: 0.6932, Mean Recall: 0.7273\n"
     ]
    },
    {
     "name": "stderr",
     "output_type": "stream",
     "text": [
      "Epoch 12 Training:   0%|          | 0/4 [00:00<?, ?it/s]/tmp/job.14646635/ipykernel_391663/1724129108.py:79: FutureWarning: Series.__getitem__ treating keys as positions is deprecated. In a future version, integer keys will always be treated as labels (consistent with DataFrame behavior). To access a value by position, use `ser.iloc[pos]`\n",
      "  'labels': torch.tensor(label, dtype=torch.float32)\n",
      "Epoch 12 Training: 100%|██████████| 4/4 [00:05<00:00,  1.45s/it, loss=3.73]\n",
      "Epoch 12 Validation: 100%|██████████| 1/1 [00:00<00:00,  2.58it/s, loss=3.45]\n",
      "/scratch/user/akash.pillai.0810/.my_env/lib/python3.10/site-packages/sklearn/metrics/_classification.py:1565: UndefinedMetricWarning: F-score is ill-defined and being set to 0.0 due to no true nor predicted samples. Use `zero_division` parameter to control this behavior.\n",
      "  _warn_prf(average, modifier, f\"{metric.capitalize()} is\", len(result))\n",
      "/scratch/user/akash.pillai.0810/.my_env/lib/python3.10/site-packages/sklearn/metrics/_classification.py:1565: UndefinedMetricWarning: Recall is ill-defined and being set to 0.0 due to no true samples. Use `zero_division` parameter to control this behavior.\n",
      "  _warn_prf(average, modifier, f\"{metric.capitalize()} is\", len(result))\n"
     ]
    },
    {
     "name": "stdout",
     "output_type": "stream",
     "text": [
      "Epoch 12: Train Loss=3.3283, Val Loss=3.4545\n",
      "Mean F1 Score: 0.7093, Mean Accuracy: 0.8920, Mean Precision: 0.6932, Mean Recall: 0.7273\n"
     ]
    },
    {
     "name": "stderr",
     "output_type": "stream",
     "text": [
      "Epoch 13 Training:   0%|          | 0/4 [00:00<?, ?it/s]/tmp/job.14646635/ipykernel_391663/1724129108.py:79: FutureWarning: Series.__getitem__ treating keys as positions is deprecated. In a future version, integer keys will always be treated as labels (consistent with DataFrame behavior). To access a value by position, use `ser.iloc[pos]`\n",
      "  'labels': torch.tensor(label, dtype=torch.float32)\n",
      "Epoch 13 Training: 100%|██████████| 4/4 [00:05<00:00,  1.45s/it, loss=3.58]\n",
      "Epoch 13 Validation: 100%|██████████| 1/1 [00:00<00:00,  2.58it/s, loss=3.38]\n",
      "/scratch/user/akash.pillai.0810/.my_env/lib/python3.10/site-packages/sklearn/metrics/_classification.py:1565: UndefinedMetricWarning: F-score is ill-defined and being set to 0.0 due to no true nor predicted samples. Use `zero_division` parameter to control this behavior.\n",
      "  _warn_prf(average, modifier, f\"{metric.capitalize()} is\", len(result))\n",
      "/scratch/user/akash.pillai.0810/.my_env/lib/python3.10/site-packages/sklearn/metrics/_classification.py:1565: UndefinedMetricWarning: Recall is ill-defined and being set to 0.0 due to no true samples. Use `zero_division` parameter to control this behavior.\n",
      "  _warn_prf(average, modifier, f\"{metric.capitalize()} is\", len(result))\n"
     ]
    },
    {
     "name": "stdout",
     "output_type": "stream",
     "text": [
      "Epoch 13: Train Loss=3.2496, Val Loss=3.3769\n",
      "Mean F1 Score: 0.7320, Mean Accuracy: 0.8977, Mean Precision: 0.7841, Mean Recall: 0.7403\n",
      "New best model saved for fold 4 with F1=0.7320\n"
     ]
    },
    {
     "name": "stderr",
     "output_type": "stream",
     "text": [
      "Epoch 14 Training:   0%|          | 0/4 [00:00<?, ?it/s]/tmp/job.14646635/ipykernel_391663/1724129108.py:79: FutureWarning: Series.__getitem__ treating keys as positions is deprecated. In a future version, integer keys will always be treated as labels (consistent with DataFrame behavior). To access a value by position, use `ser.iloc[pos]`\n",
      "  'labels': torch.tensor(label, dtype=torch.float32)\n",
      "Epoch 14 Training: 100%|██████████| 4/4 [00:05<00:00,  1.45s/it, loss=2.69]\n",
      "Epoch 14 Validation: 100%|██████████| 1/1 [00:00<00:00,  2.57it/s, loss=3.31]\n",
      "/scratch/user/akash.pillai.0810/.my_env/lib/python3.10/site-packages/sklearn/metrics/_classification.py:1565: UndefinedMetricWarning: F-score is ill-defined and being set to 0.0 due to no true nor predicted samples. Use `zero_division` parameter to control this behavior.\n",
      "  _warn_prf(average, modifier, f\"{metric.capitalize()} is\", len(result))\n",
      "/scratch/user/akash.pillai.0810/.my_env/lib/python3.10/site-packages/sklearn/metrics/_classification.py:1565: UndefinedMetricWarning: Recall is ill-defined and being set to 0.0 due to no true samples. Use `zero_division` parameter to control this behavior.\n",
      "  _warn_prf(average, modifier, f\"{metric.capitalize()} is\", len(result))\n"
     ]
    },
    {
     "name": "stdout",
     "output_type": "stream",
     "text": [
      "Epoch 14: Train Loss=3.1517, Val Loss=3.3125\n",
      "Mean F1 Score: 0.7497, Mean Accuracy: 0.9034, Mean Precision: 0.7841, Mean Recall: 0.7532\n",
      "New best model saved for fold 4 with F1=0.7497\n"
     ]
    },
    {
     "name": "stderr",
     "output_type": "stream",
     "text": [
      "Epoch 15 Training:   0%|          | 0/4 [00:00<?, ?it/s]/tmp/job.14646635/ipykernel_391663/1724129108.py:79: FutureWarning: Series.__getitem__ treating keys as positions is deprecated. In a future version, integer keys will always be treated as labels (consistent with DataFrame behavior). To access a value by position, use `ser.iloc[pos]`\n",
      "  'labels': torch.tensor(label, dtype=torch.float32)\n",
      "Epoch 15 Training: 100%|██████████| 4/4 [00:05<00:00,  1.45s/it, loss=3.41]\n",
      "Epoch 15 Validation: 100%|██████████| 1/1 [00:00<00:00,  2.58it/s, loss=3.25]\n",
      "/scratch/user/akash.pillai.0810/.my_env/lib/python3.10/site-packages/sklearn/metrics/_classification.py:1565: UndefinedMetricWarning: F-score is ill-defined and being set to 0.0 due to no true nor predicted samples. Use `zero_division` parameter to control this behavior.\n",
      "  _warn_prf(average, modifier, f\"{metric.capitalize()} is\", len(result))\n",
      "/scratch/user/akash.pillai.0810/.my_env/lib/python3.10/site-packages/sklearn/metrics/_classification.py:1565: UndefinedMetricWarning: Recall is ill-defined and being set to 0.0 due to no true samples. Use `zero_division` parameter to control this behavior.\n",
      "  _warn_prf(average, modifier, f\"{metric.capitalize()} is\", len(result))\n"
     ]
    },
    {
     "name": "stdout",
     "output_type": "stream",
     "text": [
      "Epoch 15: Train Loss=3.1236, Val Loss=3.2479\n",
      "Mean F1 Score: 0.7497, Mean Accuracy: 0.9034, Mean Precision: 0.7841, Mean Recall: 0.7532\n"
     ]
    },
    {
     "name": "stderr",
     "output_type": "stream",
     "text": [
      "Epoch 16 Training:   0%|          | 0/4 [00:00<?, ?it/s]/tmp/job.14646635/ipykernel_391663/1724129108.py:79: FutureWarning: Series.__getitem__ treating keys as positions is deprecated. In a future version, integer keys will always be treated as labels (consistent with DataFrame behavior). To access a value by position, use `ser.iloc[pos]`\n",
      "  'labels': torch.tensor(label, dtype=torch.float32)\n",
      "Epoch 16 Training: 100%|██████████| 4/4 [00:05<00:00,  1.44s/it, loss=2.81]\n",
      "Epoch 16 Validation: 100%|██████████| 1/1 [00:00<00:00,  2.58it/s, loss=3.2]\n",
      "/scratch/user/akash.pillai.0810/.my_env/lib/python3.10/site-packages/sklearn/metrics/_classification.py:1565: UndefinedMetricWarning: F-score is ill-defined and being set to 0.0 due to no true nor predicted samples. Use `zero_division` parameter to control this behavior.\n",
      "  _warn_prf(average, modifier, f\"{metric.capitalize()} is\", len(result))\n",
      "/scratch/user/akash.pillai.0810/.my_env/lib/python3.10/site-packages/sklearn/metrics/_classification.py:1565: UndefinedMetricWarning: Recall is ill-defined and being set to 0.0 due to no true samples. Use `zero_division` parameter to control this behavior.\n",
      "  _warn_prf(average, modifier, f\"{metric.capitalize()} is\", len(result))\n"
     ]
    },
    {
     "name": "stdout",
     "output_type": "stream",
     "text": [
      "Epoch 16: Train Loss=3.0119, Val Loss=3.2007\n",
      "Mean F1 Score: 0.7497, Mean Accuracy: 0.9034, Mean Precision: 0.7841, Mean Recall: 0.7532\n"
     ]
    },
    {
     "name": "stderr",
     "output_type": "stream",
     "text": [
      "Epoch 17 Training:   0%|          | 0/4 [00:00<?, ?it/s]/tmp/job.14646635/ipykernel_391663/1724129108.py:79: FutureWarning: Series.__getitem__ treating keys as positions is deprecated. In a future version, integer keys will always be treated as labels (consistent with DataFrame behavior). To access a value by position, use `ser.iloc[pos]`\n",
      "  'labels': torch.tensor(label, dtype=torch.float32)\n",
      "Epoch 17 Training: 100%|██████████| 4/4 [00:05<00:00,  1.45s/it, loss=2.16]\n",
      "Epoch 17 Validation: 100%|██████████| 1/1 [00:00<00:00,  2.57it/s, loss=3.16]\n",
      "/scratch/user/akash.pillai.0810/.my_env/lib/python3.10/site-packages/sklearn/metrics/_classification.py:1565: UndefinedMetricWarning: F-score is ill-defined and being set to 0.0 due to no true nor predicted samples. Use `zero_division` parameter to control this behavior.\n",
      "  _warn_prf(average, modifier, f\"{metric.capitalize()} is\", len(result))\n",
      "/scratch/user/akash.pillai.0810/.my_env/lib/python3.10/site-packages/sklearn/metrics/_classification.py:1565: UndefinedMetricWarning: Recall is ill-defined and being set to 0.0 due to no true samples. Use `zero_division` parameter to control this behavior.\n",
      "  _warn_prf(average, modifier, f\"{metric.capitalize()} is\", len(result))\n"
     ]
    },
    {
     "name": "stdout",
     "output_type": "stream",
     "text": [
      "Epoch 17: Train Loss=2.9281, Val Loss=3.1556\n",
      "Mean F1 Score: 0.7638, Mean Accuracy: 0.9091, Mean Precision: 0.7841, Mean Recall: 0.7662\n",
      "New best model saved for fold 4 with F1=0.7638\n"
     ]
    },
    {
     "name": "stderr",
     "output_type": "stream",
     "text": [
      "Epoch 18 Training:   0%|          | 0/4 [00:00<?, ?it/s]/tmp/job.14646635/ipykernel_391663/1724129108.py:79: FutureWarning: Series.__getitem__ treating keys as positions is deprecated. In a future version, integer keys will always be treated as labels (consistent with DataFrame behavior). To access a value by position, use `ser.iloc[pos]`\n",
      "  'labels': torch.tensor(label, dtype=torch.float32)\n",
      "Epoch 18 Training: 100%|██████████| 4/4 [00:05<00:00,  1.45s/it, loss=3.43]\n",
      "Epoch 18 Validation: 100%|██████████| 1/1 [00:00<00:00,  2.57it/s, loss=3.1]\n",
      "/scratch/user/akash.pillai.0810/.my_env/lib/python3.10/site-packages/sklearn/metrics/_classification.py:1565: UndefinedMetricWarning: F-score is ill-defined and being set to 0.0 due to no true nor predicted samples. Use `zero_division` parameter to control this behavior.\n",
      "  _warn_prf(average, modifier, f\"{metric.capitalize()} is\", len(result))\n",
      "/scratch/user/akash.pillai.0810/.my_env/lib/python3.10/site-packages/sklearn/metrics/_classification.py:1565: UndefinedMetricWarning: Recall is ill-defined and being set to 0.0 due to no true samples. Use `zero_division` parameter to control this behavior.\n",
      "  _warn_prf(average, modifier, f\"{metric.capitalize()} is\", len(result))\n"
     ]
    },
    {
     "name": "stdout",
     "output_type": "stream",
     "text": [
      "Epoch 18: Train Loss=2.8562, Val Loss=3.1048\n",
      "Mean F1 Score: 0.7638, Mean Accuracy: 0.9091, Mean Precision: 0.7841, Mean Recall: 0.7662\n"
     ]
    },
    {
     "name": "stderr",
     "output_type": "stream",
     "text": [
      "Epoch 19 Training:   0%|          | 0/4 [00:00<?, ?it/s]/tmp/job.14646635/ipykernel_391663/1724129108.py:79: FutureWarning: Series.__getitem__ treating keys as positions is deprecated. In a future version, integer keys will always be treated as labels (consistent with DataFrame behavior). To access a value by position, use `ser.iloc[pos]`\n",
      "  'labels': torch.tensor(label, dtype=torch.float32)\n",
      "Epoch 19 Training: 100%|██████████| 4/4 [00:05<00:00,  1.45s/it, loss=3.44]\n",
      "Epoch 19 Validation: 100%|██████████| 1/1 [00:00<00:00,  2.57it/s, loss=3.07]\n",
      "/scratch/user/akash.pillai.0810/.my_env/lib/python3.10/site-packages/sklearn/metrics/_classification.py:1565: UndefinedMetricWarning: F-score is ill-defined and being set to 0.0 due to no true nor predicted samples. Use `zero_division` parameter to control this behavior.\n",
      "  _warn_prf(average, modifier, f\"{metric.capitalize()} is\", len(result))\n",
      "/scratch/user/akash.pillai.0810/.my_env/lib/python3.10/site-packages/sklearn/metrics/_classification.py:1565: UndefinedMetricWarning: Recall is ill-defined and being set to 0.0 due to no true samples. Use `zero_division` parameter to control this behavior.\n",
      "  _warn_prf(average, modifier, f\"{metric.capitalize()} is\", len(result))\n"
     ]
    },
    {
     "name": "stdout",
     "output_type": "stream",
     "text": [
      "Epoch 19: Train Loss=2.8430, Val Loss=3.0656\n",
      "Mean F1 Score: 0.7638, Mean Accuracy: 0.9091, Mean Precision: 0.7841, Mean Recall: 0.7662\n"
     ]
    },
    {
     "name": "stderr",
     "output_type": "stream",
     "text": [
      "Epoch 20 Training:   0%|          | 0/4 [00:00<?, ?it/s]/tmp/job.14646635/ipykernel_391663/1724129108.py:79: FutureWarning: Series.__getitem__ treating keys as positions is deprecated. In a future version, integer keys will always be treated as labels (consistent with DataFrame behavior). To access a value by position, use `ser.iloc[pos]`\n",
      "  'labels': torch.tensor(label, dtype=torch.float32)\n",
      "Epoch 20 Training: 100%|██████████| 4/4 [00:05<00:00,  1.45s/it, loss=1.92]\n",
      "Epoch 20 Validation: 100%|██████████| 1/1 [00:00<00:00,  2.58it/s, loss=3.03]\n",
      "/scratch/user/akash.pillai.0810/.my_env/lib/python3.10/site-packages/sklearn/metrics/_classification.py:1565: UndefinedMetricWarning: F-score is ill-defined and being set to 0.0 due to no true nor predicted samples. Use `zero_division` parameter to control this behavior.\n",
      "  _warn_prf(average, modifier, f\"{metric.capitalize()} is\", len(result))\n",
      "/scratch/user/akash.pillai.0810/.my_env/lib/python3.10/site-packages/sklearn/metrics/_classification.py:1565: UndefinedMetricWarning: Recall is ill-defined and being set to 0.0 due to no true samples. Use `zero_division` parameter to control this behavior.\n",
      "  _warn_prf(average, modifier, f\"{metric.capitalize()} is\", len(result))\n"
     ]
    },
    {
     "name": "stdout",
     "output_type": "stream",
     "text": [
      "Epoch 20: Train Loss=2.7671, Val Loss=3.0291\n",
      "Mean F1 Score: 0.7638, Mean Accuracy: 0.9091, Mean Precision: 0.7841, Mean Recall: 0.7662\n"
     ]
    },
    {
     "name": "stderr",
     "output_type": "stream",
     "text": [
      "Epoch 21 Training:   0%|          | 0/4 [00:00<?, ?it/s]/tmp/job.14646635/ipykernel_391663/1724129108.py:79: FutureWarning: Series.__getitem__ treating keys as positions is deprecated. In a future version, integer keys will always be treated as labels (consistent with DataFrame behavior). To access a value by position, use `ser.iloc[pos]`\n",
      "  'labels': torch.tensor(label, dtype=torch.float32)\n",
      "Epoch 21 Training: 100%|██████████| 4/4 [00:05<00:00,  1.45s/it, loss=2.54]\n",
      "Epoch 21 Validation: 100%|██████████| 1/1 [00:00<00:00,  2.58it/s, loss=3]\n",
      "/scratch/user/akash.pillai.0810/.my_env/lib/python3.10/site-packages/sklearn/metrics/_classification.py:1565: UndefinedMetricWarning: F-score is ill-defined and being set to 0.0 due to no true nor predicted samples. Use `zero_division` parameter to control this behavior.\n",
      "  _warn_prf(average, modifier, f\"{metric.capitalize()} is\", len(result))\n",
      "/scratch/user/akash.pillai.0810/.my_env/lib/python3.10/site-packages/sklearn/metrics/_classification.py:1565: UndefinedMetricWarning: Recall is ill-defined and being set to 0.0 due to no true samples. Use `zero_division` parameter to control this behavior.\n",
      "  _warn_prf(average, modifier, f\"{metric.capitalize()} is\", len(result))\n"
     ]
    },
    {
     "name": "stdout",
     "output_type": "stream",
     "text": [
      "Epoch 21: Train Loss=2.7466, Val Loss=2.9956\n",
      "Mean F1 Score: 0.7638, Mean Accuracy: 0.9091, Mean Precision: 0.7841, Mean Recall: 0.7662\n"
     ]
    },
    {
     "name": "stderr",
     "output_type": "stream",
     "text": [
      "Epoch 22 Training:   0%|          | 0/4 [00:00<?, ?it/s]/tmp/job.14646635/ipykernel_391663/1724129108.py:79: FutureWarning: Series.__getitem__ treating keys as positions is deprecated. In a future version, integer keys will always be treated as labels (consistent with DataFrame behavior). To access a value by position, use `ser.iloc[pos]`\n",
      "  'labels': torch.tensor(label, dtype=torch.float32)\n",
      "Epoch 22 Training: 100%|██████████| 4/4 [00:05<00:00,  1.45s/it, loss=2.74]\n",
      "Epoch 22 Validation: 100%|██████████| 1/1 [00:00<00:00,  2.58it/s, loss=2.96]\n",
      "/scratch/user/akash.pillai.0810/.my_env/lib/python3.10/site-packages/sklearn/metrics/_classification.py:1565: UndefinedMetricWarning: F-score is ill-defined and being set to 0.0 due to no true nor predicted samples. Use `zero_division` parameter to control this behavior.\n",
      "  _warn_prf(average, modifier, f\"{metric.capitalize()} is\", len(result))\n",
      "/scratch/user/akash.pillai.0810/.my_env/lib/python3.10/site-packages/sklearn/metrics/_classification.py:1565: UndefinedMetricWarning: Recall is ill-defined and being set to 0.0 due to no true samples. Use `zero_division` parameter to control this behavior.\n",
      "  _warn_prf(average, modifier, f\"{metric.capitalize()} is\", len(result))\n"
     ]
    },
    {
     "name": "stdout",
     "output_type": "stream",
     "text": [
      "Epoch 22: Train Loss=2.6703, Val Loss=2.9586\n",
      "Mean F1 Score: 0.7638, Mean Accuracy: 0.9091, Mean Precision: 0.7841, Mean Recall: 0.7662\n"
     ]
    },
    {
     "name": "stderr",
     "output_type": "stream",
     "text": [
      "Epoch 23 Training:   0%|          | 0/4 [00:00<?, ?it/s]/tmp/job.14646635/ipykernel_391663/1724129108.py:79: FutureWarning: Series.__getitem__ treating keys as positions is deprecated. In a future version, integer keys will always be treated as labels (consistent with DataFrame behavior). To access a value by position, use `ser.iloc[pos]`\n",
      "  'labels': torch.tensor(label, dtype=torch.float32)\n",
      "Epoch 23 Training: 100%|██████████| 4/4 [00:05<00:00,  1.45s/it, loss=2.71]\n",
      "Epoch 23 Validation: 100%|██████████| 1/1 [00:00<00:00,  2.57it/s, loss=2.93]\n",
      "/scratch/user/akash.pillai.0810/.my_env/lib/python3.10/site-packages/sklearn/metrics/_classification.py:1565: UndefinedMetricWarning: F-score is ill-defined and being set to 0.0 due to no true nor predicted samples. Use `zero_division` parameter to control this behavior.\n",
      "  _warn_prf(average, modifier, f\"{metric.capitalize()} is\", len(result))\n",
      "/scratch/user/akash.pillai.0810/.my_env/lib/python3.10/site-packages/sklearn/metrics/_classification.py:1565: UndefinedMetricWarning: Recall is ill-defined and being set to 0.0 due to no true samples. Use `zero_division` parameter to control this behavior.\n",
      "  _warn_prf(average, modifier, f\"{metric.capitalize()} is\", len(result))\n"
     ]
    },
    {
     "name": "stdout",
     "output_type": "stream",
     "text": [
      "Epoch 23: Train Loss=2.6431, Val Loss=2.9285\n",
      "Mean F1 Score: 0.7638, Mean Accuracy: 0.9091, Mean Precision: 0.7841, Mean Recall: 0.7662\n"
     ]
    },
    {
     "name": "stderr",
     "output_type": "stream",
     "text": [
      "Epoch 24 Training:   0%|          | 0/4 [00:00<?, ?it/s]/tmp/job.14646635/ipykernel_391663/1724129108.py:79: FutureWarning: Series.__getitem__ treating keys as positions is deprecated. In a future version, integer keys will always be treated as labels (consistent with DataFrame behavior). To access a value by position, use `ser.iloc[pos]`\n",
      "  'labels': torch.tensor(label, dtype=torch.float32)\n",
      "Epoch 24 Training: 100%|██████████| 4/4 [00:05<00:00,  1.45s/it, loss=3.66]\n",
      "Epoch 24 Validation: 100%|██████████| 1/1 [00:00<00:00,  2.57it/s, loss=2.9]\n",
      "/scratch/user/akash.pillai.0810/.my_env/lib/python3.10/site-packages/sklearn/metrics/_classification.py:1565: UndefinedMetricWarning: F-score is ill-defined and being set to 0.0 due to no true nor predicted samples. Use `zero_division` parameter to control this behavior.\n",
      "  _warn_prf(average, modifier, f\"{metric.capitalize()} is\", len(result))\n",
      "/scratch/user/akash.pillai.0810/.my_env/lib/python3.10/site-packages/sklearn/metrics/_classification.py:1565: UndefinedMetricWarning: Recall is ill-defined and being set to 0.0 due to no true samples. Use `zero_division` parameter to control this behavior.\n",
      "  _warn_prf(average, modifier, f\"{metric.capitalize()} is\", len(result))\n"
     ]
    },
    {
     "name": "stdout",
     "output_type": "stream",
     "text": [
      "Epoch 24: Train Loss=2.6016, Val Loss=2.8967\n",
      "Mean F1 Score: 0.7638, Mean Accuracy: 0.9091, Mean Precision: 0.7841, Mean Recall: 0.7662\n"
     ]
    },
    {
     "name": "stderr",
     "output_type": "stream",
     "text": [
      "Epoch 25 Training:   0%|          | 0/4 [00:00<?, ?it/s]/tmp/job.14646635/ipykernel_391663/1724129108.py:79: FutureWarning: Series.__getitem__ treating keys as positions is deprecated. In a future version, integer keys will always be treated as labels (consistent with DataFrame behavior). To access a value by position, use `ser.iloc[pos]`\n",
      "  'labels': torch.tensor(label, dtype=torch.float32)\n",
      "Epoch 25 Training: 100%|██████████| 4/4 [00:05<00:00,  1.45s/it, loss=2.2] \n",
      "Epoch 25 Validation: 100%|██████████| 1/1 [00:00<00:00,  2.58it/s, loss=2.88]\n",
      "/scratch/user/akash.pillai.0810/.my_env/lib/python3.10/site-packages/sklearn/metrics/_classification.py:1565: UndefinedMetricWarning: F-score is ill-defined and being set to 0.0 due to no true nor predicted samples. Use `zero_division` parameter to control this behavior.\n",
      "  _warn_prf(average, modifier, f\"{metric.capitalize()} is\", len(result))\n",
      "/scratch/user/akash.pillai.0810/.my_env/lib/python3.10/site-packages/sklearn/metrics/_classification.py:1565: UndefinedMetricWarning: Recall is ill-defined and being set to 0.0 due to no true samples. Use `zero_division` parameter to control this behavior.\n",
      "  _warn_prf(average, modifier, f\"{metric.capitalize()} is\", len(result))\n"
     ]
    },
    {
     "name": "stdout",
     "output_type": "stream",
     "text": [
      "Epoch 25: Train Loss=2.6433, Val Loss=2.8834\n",
      "Mean F1 Score: 0.7754, Mean Accuracy: 0.9148, Mean Precision: 0.7841, Mean Recall: 0.7792\n",
      "New best model saved for fold 4 with F1=0.7754\n"
     ]
    },
    {
     "name": "stderr",
     "output_type": "stream",
     "text": [
      "Epoch 26 Training:   0%|          | 0/4 [00:00<?, ?it/s]/tmp/job.14646635/ipykernel_391663/1724129108.py:79: FutureWarning: Series.__getitem__ treating keys as positions is deprecated. In a future version, integer keys will always be treated as labels (consistent with DataFrame behavior). To access a value by position, use `ser.iloc[pos]`\n",
      "  'labels': torch.tensor(label, dtype=torch.float32)\n",
      "Epoch 26 Training: 100%|██████████| 4/4 [00:05<00:00,  1.45s/it, loss=2.37]\n",
      "Epoch 26 Validation: 100%|██████████| 1/1 [00:00<00:00,  2.58it/s, loss=2.86]\n",
      "/scratch/user/akash.pillai.0810/.my_env/lib/python3.10/site-packages/sklearn/metrics/_classification.py:1565: UndefinedMetricWarning: F-score is ill-defined and being set to 0.0 due to no true nor predicted samples. Use `zero_division` parameter to control this behavior.\n",
      "  _warn_prf(average, modifier, f\"{metric.capitalize()} is\", len(result))\n",
      "/scratch/user/akash.pillai.0810/.my_env/lib/python3.10/site-packages/sklearn/metrics/_classification.py:1565: UndefinedMetricWarning: Recall is ill-defined and being set to 0.0 due to no true samples. Use `zero_division` parameter to control this behavior.\n",
      "  _warn_prf(average, modifier, f\"{metric.capitalize()} is\", len(result))\n"
     ]
    },
    {
     "name": "stdout",
     "output_type": "stream",
     "text": [
      "Epoch 26: Train Loss=2.5373, Val Loss=2.8630\n",
      "Mean F1 Score: 0.7638, Mean Accuracy: 0.9091, Mean Precision: 0.7841, Mean Recall: 0.7662\n"
     ]
    },
    {
     "name": "stderr",
     "output_type": "stream",
     "text": [
      "Epoch 27 Training:   0%|          | 0/4 [00:00<?, ?it/s]/tmp/job.14646635/ipykernel_391663/1724129108.py:79: FutureWarning: Series.__getitem__ treating keys as positions is deprecated. In a future version, integer keys will always be treated as labels (consistent with DataFrame behavior). To access a value by position, use `ser.iloc[pos]`\n",
      "  'labels': torch.tensor(label, dtype=torch.float32)\n",
      "Epoch 27 Training: 100%|██████████| 4/4 [00:05<00:00,  1.45s/it, loss=2.6] \n",
      "Epoch 27 Validation: 100%|██████████| 1/1 [00:00<00:00,  2.58it/s, loss=2.84]\n",
      "/scratch/user/akash.pillai.0810/.my_env/lib/python3.10/site-packages/sklearn/metrics/_classification.py:1565: UndefinedMetricWarning: F-score is ill-defined and being set to 0.0 due to no true nor predicted samples. Use `zero_division` parameter to control this behavior.\n",
      "  _warn_prf(average, modifier, f\"{metric.capitalize()} is\", len(result))\n",
      "/scratch/user/akash.pillai.0810/.my_env/lib/python3.10/site-packages/sklearn/metrics/_classification.py:1565: UndefinedMetricWarning: Recall is ill-defined and being set to 0.0 due to no true samples. Use `zero_division` parameter to control this behavior.\n",
      "  _warn_prf(average, modifier, f\"{metric.capitalize()} is\", len(result))\n"
     ]
    },
    {
     "name": "stdout",
     "output_type": "stream",
     "text": [
      "Epoch 27: Train Loss=2.5572, Val Loss=2.8413\n",
      "Mean F1 Score: 0.7754, Mean Accuracy: 0.9148, Mean Precision: 0.7841, Mean Recall: 0.7792\n"
     ]
    },
    {
     "name": "stderr",
     "output_type": "stream",
     "text": [
      "Epoch 28 Training:   0%|          | 0/4 [00:00<?, ?it/s]/tmp/job.14646635/ipykernel_391663/1724129108.py:79: FutureWarning: Series.__getitem__ treating keys as positions is deprecated. In a future version, integer keys will always be treated as labels (consistent with DataFrame behavior). To access a value by position, use `ser.iloc[pos]`\n",
      "  'labels': torch.tensor(label, dtype=torch.float32)\n",
      "Epoch 28 Training: 100%|██████████| 4/4 [00:05<00:00,  1.45s/it, loss=4.07]\n",
      "Epoch 28 Validation: 100%|██████████| 1/1 [00:00<00:00,  2.57it/s, loss=2.82]\n",
      "/scratch/user/akash.pillai.0810/.my_env/lib/python3.10/site-packages/sklearn/metrics/_classification.py:1565: UndefinedMetricWarning: F-score is ill-defined and being set to 0.0 due to no true nor predicted samples. Use `zero_division` parameter to control this behavior.\n",
      "  _warn_prf(average, modifier, f\"{metric.capitalize()} is\", len(result))\n",
      "/scratch/user/akash.pillai.0810/.my_env/lib/python3.10/site-packages/sklearn/metrics/_classification.py:1565: UndefinedMetricWarning: Recall is ill-defined and being set to 0.0 due to no true samples. Use `zero_division` parameter to control this behavior.\n",
      "  _warn_prf(average, modifier, f\"{metric.capitalize()} is\", len(result))\n"
     ]
    },
    {
     "name": "stdout",
     "output_type": "stream",
     "text": [
      "Epoch 28: Train Loss=2.4959, Val Loss=2.8208\n",
      "Mean F1 Score: 0.7754, Mean Accuracy: 0.9148, Mean Precision: 0.7841, Mean Recall: 0.7792\n"
     ]
    },
    {
     "name": "stderr",
     "output_type": "stream",
     "text": [
      "Epoch 29 Training:   0%|          | 0/4 [00:00<?, ?it/s]/tmp/job.14646635/ipykernel_391663/1724129108.py:79: FutureWarning: Series.__getitem__ treating keys as positions is deprecated. In a future version, integer keys will always be treated as labels (consistent with DataFrame behavior). To access a value by position, use `ser.iloc[pos]`\n",
      "  'labels': torch.tensor(label, dtype=torch.float32)\n",
      "Epoch 29 Training: 100%|██████████| 4/4 [00:05<00:00,  1.45s/it, loss=2.39]\n",
      "Epoch 29 Validation: 100%|██████████| 1/1 [00:00<00:00,  2.57it/s, loss=2.8]\n",
      "/scratch/user/akash.pillai.0810/.my_env/lib/python3.10/site-packages/sklearn/metrics/_classification.py:1565: UndefinedMetricWarning: F-score is ill-defined and being set to 0.0 due to no true nor predicted samples. Use `zero_division` parameter to control this behavior.\n",
      "  _warn_prf(average, modifier, f\"{metric.capitalize()} is\", len(result))\n",
      "/scratch/user/akash.pillai.0810/.my_env/lib/python3.10/site-packages/sklearn/metrics/_classification.py:1565: UndefinedMetricWarning: Recall is ill-defined and being set to 0.0 due to no true samples. Use `zero_division` parameter to control this behavior.\n",
      "  _warn_prf(average, modifier, f\"{metric.capitalize()} is\", len(result))\n"
     ]
    },
    {
     "name": "stdout",
     "output_type": "stream",
     "text": [
      "Epoch 29: Train Loss=2.4810, Val Loss=2.8014\n",
      "Mean F1 Score: 0.7754, Mean Accuracy: 0.9148, Mean Precision: 0.7841, Mean Recall: 0.7792\n"
     ]
    },
    {
     "name": "stderr",
     "output_type": "stream",
     "text": [
      "Epoch 30 Training:   0%|          | 0/4 [00:00<?, ?it/s]/tmp/job.14646635/ipykernel_391663/1724129108.py:79: FutureWarning: Series.__getitem__ treating keys as positions is deprecated. In a future version, integer keys will always be treated as labels (consistent with DataFrame behavior). To access a value by position, use `ser.iloc[pos]`\n",
      "  'labels': torch.tensor(label, dtype=torch.float32)\n",
      "Epoch 30 Training: 100%|██████████| 4/4 [00:05<00:00,  1.45s/it, loss=1.71]\n",
      "Epoch 30 Validation: 100%|██████████| 1/1 [00:00<00:00,  2.57it/s, loss=2.78]\n",
      "/scratch/user/akash.pillai.0810/.my_env/lib/python3.10/site-packages/sklearn/metrics/_classification.py:1565: UndefinedMetricWarning: F-score is ill-defined and being set to 0.0 due to no true nor predicted samples. Use `zero_division` parameter to control this behavior.\n",
      "  _warn_prf(average, modifier, f\"{metric.capitalize()} is\", len(result))\n",
      "/scratch/user/akash.pillai.0810/.my_env/lib/python3.10/site-packages/sklearn/metrics/_classification.py:1565: UndefinedMetricWarning: Recall is ill-defined and being set to 0.0 due to no true samples. Use `zero_division` parameter to control this behavior.\n",
      "  _warn_prf(average, modifier, f\"{metric.capitalize()} is\", len(result))\n"
     ]
    },
    {
     "name": "stdout",
     "output_type": "stream",
     "text": [
      "Epoch 30: Train Loss=2.4897, Val Loss=2.7842\n",
      "Mean F1 Score: 0.7754, Mean Accuracy: 0.9148, Mean Precision: 0.7841, Mean Recall: 0.7792\n"
     ]
    },
    {
     "name": "stderr",
     "output_type": "stream",
     "text": [
      "Epoch 31 Training:   0%|          | 0/4 [00:00<?, ?it/s]/tmp/job.14646635/ipykernel_391663/1724129108.py:79: FutureWarning: Series.__getitem__ treating keys as positions is deprecated. In a future version, integer keys will always be treated as labels (consistent with DataFrame behavior). To access a value by position, use `ser.iloc[pos]`\n",
      "  'labels': torch.tensor(label, dtype=torch.float32)\n",
      "Epoch 31 Training: 100%|██████████| 4/4 [00:05<00:00,  1.45s/it, loss=2.62]\n",
      "Epoch 31 Validation: 100%|██████████| 1/1 [00:00<00:00,  2.58it/s, loss=2.78]\n",
      "/scratch/user/akash.pillai.0810/.my_env/lib/python3.10/site-packages/sklearn/metrics/_classification.py:1565: UndefinedMetricWarning: F-score is ill-defined and being set to 0.0 due to no true nor predicted samples. Use `zero_division` parameter to control this behavior.\n",
      "  _warn_prf(average, modifier, f\"{metric.capitalize()} is\", len(result))\n",
      "/scratch/user/akash.pillai.0810/.my_env/lib/python3.10/site-packages/sklearn/metrics/_classification.py:1565: UndefinedMetricWarning: Recall is ill-defined and being set to 0.0 due to no true samples. Use `zero_division` parameter to control this behavior.\n",
      "  _warn_prf(average, modifier, f\"{metric.capitalize()} is\", len(result))\n"
     ]
    },
    {
     "name": "stdout",
     "output_type": "stream",
     "text": [
      "Epoch 31: Train Loss=2.4620, Val Loss=2.7780\n",
      "Mean F1 Score: 0.7754, Mean Accuracy: 0.9148, Mean Precision: 0.7841, Mean Recall: 0.7792\n"
     ]
    },
    {
     "name": "stderr",
     "output_type": "stream",
     "text": [
      "Epoch 32 Training:   0%|          | 0/4 [00:00<?, ?it/s]/tmp/job.14646635/ipykernel_391663/1724129108.py:79: FutureWarning: Series.__getitem__ treating keys as positions is deprecated. In a future version, integer keys will always be treated as labels (consistent with DataFrame behavior). To access a value by position, use `ser.iloc[pos]`\n",
      "  'labels': torch.tensor(label, dtype=torch.float32)\n",
      "Epoch 32 Training: 100%|██████████| 4/4 [00:05<00:00,  1.45s/it, loss=2.62]\n",
      "Epoch 32 Validation: 100%|██████████| 1/1 [00:00<00:00,  2.58it/s, loss=2.77]\n",
      "/scratch/user/akash.pillai.0810/.my_env/lib/python3.10/site-packages/sklearn/metrics/_classification.py:1565: UndefinedMetricWarning: F-score is ill-defined and being set to 0.0 due to no true nor predicted samples. Use `zero_division` parameter to control this behavior.\n",
      "  _warn_prf(average, modifier, f\"{metric.capitalize()} is\", len(result))\n",
      "/scratch/user/akash.pillai.0810/.my_env/lib/python3.10/site-packages/sklearn/metrics/_classification.py:1565: UndefinedMetricWarning: Recall is ill-defined and being set to 0.0 due to no true samples. Use `zero_division` parameter to control this behavior.\n",
      "  _warn_prf(average, modifier, f\"{metric.capitalize()} is\", len(result))\n"
     ]
    },
    {
     "name": "stdout",
     "output_type": "stream",
     "text": [
      "Epoch 32: Train Loss=2.4112, Val Loss=2.7659\n",
      "Mean F1 Score: 0.7754, Mean Accuracy: 0.9148, Mean Precision: 0.7841, Mean Recall: 0.7792\n"
     ]
    },
    {
     "name": "stderr",
     "output_type": "stream",
     "text": [
      "Epoch 33 Training:   0%|          | 0/4 [00:00<?, ?it/s]/tmp/job.14646635/ipykernel_391663/1724129108.py:79: FutureWarning: Series.__getitem__ treating keys as positions is deprecated. In a future version, integer keys will always be treated as labels (consistent with DataFrame behavior). To access a value by position, use `ser.iloc[pos]`\n",
      "  'labels': torch.tensor(label, dtype=torch.float32)\n",
      "Epoch 33 Training: 100%|██████████| 4/4 [00:05<00:00,  1.45s/it, loss=1.47]\n",
      "Epoch 33 Validation: 100%|██████████| 1/1 [00:00<00:00,  2.58it/s, loss=2.75]\n",
      "/scratch/user/akash.pillai.0810/.my_env/lib/python3.10/site-packages/sklearn/metrics/_classification.py:1565: UndefinedMetricWarning: F-score is ill-defined and being set to 0.0 due to no true nor predicted samples. Use `zero_division` parameter to control this behavior.\n",
      "  _warn_prf(average, modifier, f\"{metric.capitalize()} is\", len(result))\n",
      "/scratch/user/akash.pillai.0810/.my_env/lib/python3.10/site-packages/sklearn/metrics/_classification.py:1565: UndefinedMetricWarning: Recall is ill-defined and being set to 0.0 due to no true samples. Use `zero_division` parameter to control this behavior.\n",
      "  _warn_prf(average, modifier, f\"{metric.capitalize()} is\", len(result))\n"
     ]
    },
    {
     "name": "stdout",
     "output_type": "stream",
     "text": [
      "Epoch 33: Train Loss=2.4061, Val Loss=2.7454\n",
      "Mean F1 Score: 0.7754, Mean Accuracy: 0.9148, Mean Precision: 0.7841, Mean Recall: 0.7792\n"
     ]
    },
    {
     "name": "stderr",
     "output_type": "stream",
     "text": [
      "Epoch 34 Training:   0%|          | 0/4 [00:00<?, ?it/s]/tmp/job.14646635/ipykernel_391663/1724129108.py:79: FutureWarning: Series.__getitem__ treating keys as positions is deprecated. In a future version, integer keys will always be treated as labels (consistent with DataFrame behavior). To access a value by position, use `ser.iloc[pos]`\n",
      "  'labels': torch.tensor(label, dtype=torch.float32)\n",
      "Epoch 34 Training: 100%|██████████| 4/4 [00:05<00:00,  1.45s/it, loss=1.8] \n",
      "Epoch 34 Validation: 100%|██████████| 1/1 [00:00<00:00,  2.57it/s, loss=2.73]\n",
      "/scratch/user/akash.pillai.0810/.my_env/lib/python3.10/site-packages/sklearn/metrics/_classification.py:1565: UndefinedMetricWarning: F-score is ill-defined and being set to 0.0 due to no true nor predicted samples. Use `zero_division` parameter to control this behavior.\n",
      "  _warn_prf(average, modifier, f\"{metric.capitalize()} is\", len(result))\n",
      "/scratch/user/akash.pillai.0810/.my_env/lib/python3.10/site-packages/sklearn/metrics/_classification.py:1565: UndefinedMetricWarning: Recall is ill-defined and being set to 0.0 due to no true samples. Use `zero_division` parameter to control this behavior.\n",
      "  _warn_prf(average, modifier, f\"{metric.capitalize()} is\", len(result))\n"
     ]
    },
    {
     "name": "stdout",
     "output_type": "stream",
     "text": [
      "Epoch 34: Train Loss=2.3996, Val Loss=2.7309\n",
      "Mean F1 Score: 0.7754, Mean Accuracy: 0.9148, Mean Precision: 0.7841, Mean Recall: 0.7792\n"
     ]
    },
    {
     "name": "stderr",
     "output_type": "stream",
     "text": [
      "Epoch 35 Training:   0%|          | 0/4 [00:00<?, ?it/s]/tmp/job.14646635/ipykernel_391663/1724129108.py:79: FutureWarning: Series.__getitem__ treating keys as positions is deprecated. In a future version, integer keys will always be treated as labels (consistent with DataFrame behavior). To access a value by position, use `ser.iloc[pos]`\n",
      "  'labels': torch.tensor(label, dtype=torch.float32)\n",
      "Epoch 35 Training: 100%|██████████| 4/4 [00:05<00:00,  1.44s/it, loss=1.79]\n",
      "Epoch 35 Validation: 100%|██████████| 1/1 [00:00<00:00,  2.58it/s, loss=2.73]\n",
      "/scratch/user/akash.pillai.0810/.my_env/lib/python3.10/site-packages/sklearn/metrics/_classification.py:1565: UndefinedMetricWarning: F-score is ill-defined and being set to 0.0 due to no true nor predicted samples. Use `zero_division` parameter to control this behavior.\n",
      "  _warn_prf(average, modifier, f\"{metric.capitalize()} is\", len(result))\n",
      "/scratch/user/akash.pillai.0810/.my_env/lib/python3.10/site-packages/sklearn/metrics/_classification.py:1565: UndefinedMetricWarning: Recall is ill-defined and being set to 0.0 due to no true samples. Use `zero_division` parameter to control this behavior.\n",
      "  _warn_prf(average, modifier, f\"{metric.capitalize()} is\", len(result))\n"
     ]
    },
    {
     "name": "stdout",
     "output_type": "stream",
     "text": [
      "Epoch 35: Train Loss=2.3823, Val Loss=2.7271\n",
      "Mean F1 Score: 0.7754, Mean Accuracy: 0.9148, Mean Precision: 0.7841, Mean Recall: 0.7792\n"
     ]
    },
    {
     "name": "stderr",
     "output_type": "stream",
     "text": [
      "Epoch 36 Training:   0%|          | 0/4 [00:00<?, ?it/s]/tmp/job.14646635/ipykernel_391663/1724129108.py:79: FutureWarning: Series.__getitem__ treating keys as positions is deprecated. In a future version, integer keys will always be treated as labels (consistent with DataFrame behavior). To access a value by position, use `ser.iloc[pos]`\n",
      "  'labels': torch.tensor(label, dtype=torch.float32)\n",
      "Epoch 36 Training: 100%|██████████| 4/4 [00:05<00:00,  1.45s/it, loss=1.95]\n",
      "Epoch 36 Validation: 100%|██████████| 1/1 [00:00<00:00,  2.57it/s, loss=2.71]\n",
      "/scratch/user/akash.pillai.0810/.my_env/lib/python3.10/site-packages/sklearn/metrics/_classification.py:1565: UndefinedMetricWarning: F-score is ill-defined and being set to 0.0 due to no true nor predicted samples. Use `zero_division` parameter to control this behavior.\n",
      "  _warn_prf(average, modifier, f\"{metric.capitalize()} is\", len(result))\n",
      "/scratch/user/akash.pillai.0810/.my_env/lib/python3.10/site-packages/sklearn/metrics/_classification.py:1565: UndefinedMetricWarning: Recall is ill-defined and being set to 0.0 due to no true samples. Use `zero_division` parameter to control this behavior.\n",
      "  _warn_prf(average, modifier, f\"{metric.capitalize()} is\", len(result))\n"
     ]
    },
    {
     "name": "stdout",
     "output_type": "stream",
     "text": [
      "Epoch 36: Train Loss=2.3675, Val Loss=2.7080\n",
      "Mean F1 Score: 0.7754, Mean Accuracy: 0.9148, Mean Precision: 0.7841, Mean Recall: 0.7792\n"
     ]
    },
    {
     "name": "stderr",
     "output_type": "stream",
     "text": [
      "Epoch 37 Training:   0%|          | 0/4 [00:00<?, ?it/s]/tmp/job.14646635/ipykernel_391663/1724129108.py:79: FutureWarning: Series.__getitem__ treating keys as positions is deprecated. In a future version, integer keys will always be treated as labels (consistent with DataFrame behavior). To access a value by position, use `ser.iloc[pos]`\n",
      "  'labels': torch.tensor(label, dtype=torch.float32)\n",
      "Epoch 37 Training: 100%|██████████| 4/4 [00:05<00:00,  1.44s/it, loss=1.55]\n",
      "Epoch 37 Validation: 100%|██████████| 1/1 [00:00<00:00,  2.58it/s, loss=2.68]\n",
      "/scratch/user/akash.pillai.0810/.my_env/lib/python3.10/site-packages/sklearn/metrics/_classification.py:1565: UndefinedMetricWarning: F-score is ill-defined and being set to 0.0 due to no true nor predicted samples. Use `zero_division` parameter to control this behavior.\n",
      "  _warn_prf(average, modifier, f\"{metric.capitalize()} is\", len(result))\n",
      "/scratch/user/akash.pillai.0810/.my_env/lib/python3.10/site-packages/sklearn/metrics/_classification.py:1565: UndefinedMetricWarning: Recall is ill-defined and being set to 0.0 due to no true samples. Use `zero_division` parameter to control this behavior.\n",
      "  _warn_prf(average, modifier, f\"{metric.capitalize()} is\", len(result))\n"
     ]
    },
    {
     "name": "stdout",
     "output_type": "stream",
     "text": [
      "Epoch 37: Train Loss=2.3378, Val Loss=2.6805\n",
      "Mean F1 Score: 0.8014, Mean Accuracy: 0.9205, Mean Precision: 0.8750, Mean Recall: 0.7944\n",
      "New best model saved for fold 4 with F1=0.8014\n"
     ]
    },
    {
     "name": "stderr",
     "output_type": "stream",
     "text": [
      "Epoch 38 Training:   0%|          | 0/4 [00:00<?, ?it/s]/tmp/job.14646635/ipykernel_391663/1724129108.py:79: FutureWarning: Series.__getitem__ treating keys as positions is deprecated. In a future version, integer keys will always be treated as labels (consistent with DataFrame behavior). To access a value by position, use `ser.iloc[pos]`\n",
      "  'labels': torch.tensor(label, dtype=torch.float32)\n",
      "Epoch 38 Training: 100%|██████████| 4/4 [00:05<00:00,  1.45s/it, loss=2.15]\n",
      "Epoch 38 Validation: 100%|██████████| 1/1 [00:00<00:00,  2.58it/s, loss=2.67]\n",
      "/scratch/user/akash.pillai.0810/.my_env/lib/python3.10/site-packages/sklearn/metrics/_classification.py:1565: UndefinedMetricWarning: F-score is ill-defined and being set to 0.0 due to no true nor predicted samples. Use `zero_division` parameter to control this behavior.\n",
      "  _warn_prf(average, modifier, f\"{metric.capitalize()} is\", len(result))\n",
      "/scratch/user/akash.pillai.0810/.my_env/lib/python3.10/site-packages/sklearn/metrics/_classification.py:1565: UndefinedMetricWarning: Recall is ill-defined and being set to 0.0 due to no true samples. Use `zero_division` parameter to control this behavior.\n",
      "  _warn_prf(average, modifier, f\"{metric.capitalize()} is\", len(result))\n"
     ]
    },
    {
     "name": "stdout",
     "output_type": "stream",
     "text": [
      "Epoch 38: Train Loss=2.3050, Val Loss=2.6710\n",
      "Mean F1 Score: 0.7754, Mean Accuracy: 0.9148, Mean Precision: 0.7841, Mean Recall: 0.7792\n"
     ]
    },
    {
     "name": "stderr",
     "output_type": "stream",
     "text": [
      "Epoch 39 Training:   0%|          | 0/4 [00:00<?, ?it/s]/tmp/job.14646635/ipykernel_391663/1724129108.py:79: FutureWarning: Series.__getitem__ treating keys as positions is deprecated. In a future version, integer keys will always be treated as labels (consistent with DataFrame behavior). To access a value by position, use `ser.iloc[pos]`\n",
      "  'labels': torch.tensor(label, dtype=torch.float32)\n",
      "Epoch 39 Training: 100%|██████████| 4/4 [00:05<00:00,  1.45s/it, loss=2.96]\n",
      "Epoch 39 Validation: 100%|██████████| 1/1 [00:00<00:00,  2.58it/s, loss=2.66]\n",
      "/scratch/user/akash.pillai.0810/.my_env/lib/python3.10/site-packages/sklearn/metrics/_classification.py:1565: UndefinedMetricWarning: F-score is ill-defined and being set to 0.0 due to no true nor predicted samples. Use `zero_division` parameter to control this behavior.\n",
      "  _warn_prf(average, modifier, f\"{metric.capitalize()} is\", len(result))\n",
      "/scratch/user/akash.pillai.0810/.my_env/lib/python3.10/site-packages/sklearn/metrics/_classification.py:1565: UndefinedMetricWarning: Recall is ill-defined and being set to 0.0 due to no true samples. Use `zero_division` parameter to control this behavior.\n",
      "  _warn_prf(average, modifier, f\"{metric.capitalize()} is\", len(result))\n"
     ]
    },
    {
     "name": "stdout",
     "output_type": "stream",
     "text": [
      "Epoch 39: Train Loss=2.3203, Val Loss=2.6640\n",
      "Mean F1 Score: 0.7754, Mean Accuracy: 0.9148, Mean Precision: 0.7841, Mean Recall: 0.7792\n"
     ]
    },
    {
     "name": "stderr",
     "output_type": "stream",
     "text": [
      "Epoch 40 Training:   0%|          | 0/4 [00:00<?, ?it/s]/tmp/job.14646635/ipykernel_391663/1724129108.py:79: FutureWarning: Series.__getitem__ treating keys as positions is deprecated. In a future version, integer keys will always be treated as labels (consistent with DataFrame behavior). To access a value by position, use `ser.iloc[pos]`\n",
      "  'labels': torch.tensor(label, dtype=torch.float32)\n",
      "Epoch 40 Training: 100%|██████████| 4/4 [00:05<00:00,  1.45s/it, loss=3.17]\n",
      "Epoch 40 Validation: 100%|██████████| 1/1 [00:00<00:00,  2.58it/s, loss=2.65]\n",
      "/scratch/user/akash.pillai.0810/.my_env/lib/python3.10/site-packages/sklearn/metrics/_classification.py:1565: UndefinedMetricWarning: F-score is ill-defined and being set to 0.0 due to no true nor predicted samples. Use `zero_division` parameter to control this behavior.\n",
      "  _warn_prf(average, modifier, f\"{metric.capitalize()} is\", len(result))\n",
      "/scratch/user/akash.pillai.0810/.my_env/lib/python3.10/site-packages/sklearn/metrics/_classification.py:1565: UndefinedMetricWarning: Recall is ill-defined and being set to 0.0 due to no true samples. Use `zero_division` parameter to control this behavior.\n",
      "  _warn_prf(average, modifier, f\"{metric.capitalize()} is\", len(result))\n"
     ]
    },
    {
     "name": "stdout",
     "output_type": "stream",
     "text": [
      "Epoch 40: Train Loss=2.2722, Val Loss=2.6538\n",
      "Mean F1 Score: 0.8014, Mean Accuracy: 0.9205, Mean Precision: 0.8750, Mean Recall: 0.7944\n"
     ]
    },
    {
     "name": "stderr",
     "output_type": "stream",
     "text": [
      "Epoch 41 Training:   0%|          | 0/4 [00:00<?, ?it/s]/tmp/job.14646635/ipykernel_391663/1724129108.py:79: FutureWarning: Series.__getitem__ treating keys as positions is deprecated. In a future version, integer keys will always be treated as labels (consistent with DataFrame behavior). To access a value by position, use `ser.iloc[pos]`\n",
      "  'labels': torch.tensor(label, dtype=torch.float32)\n",
      "Epoch 41 Training: 100%|██████████| 4/4 [00:05<00:00,  1.45s/it, loss=1.83]\n",
      "Epoch 41 Validation: 100%|██████████| 1/1 [00:00<00:00,  2.58it/s, loss=2.65]\n",
      "/scratch/user/akash.pillai.0810/.my_env/lib/python3.10/site-packages/sklearn/metrics/_classification.py:1565: UndefinedMetricWarning: F-score is ill-defined and being set to 0.0 due to no true nor predicted samples. Use `zero_division` parameter to control this behavior.\n",
      "  _warn_prf(average, modifier, f\"{metric.capitalize()} is\", len(result))\n",
      "/scratch/user/akash.pillai.0810/.my_env/lib/python3.10/site-packages/sklearn/metrics/_classification.py:1565: UndefinedMetricWarning: Recall is ill-defined and being set to 0.0 due to no true samples. Use `zero_division` parameter to control this behavior.\n",
      "  _warn_prf(average, modifier, f\"{metric.capitalize()} is\", len(result))\n"
     ]
    },
    {
     "name": "stdout",
     "output_type": "stream",
     "text": [
      "Epoch 41: Train Loss=2.2780, Val Loss=2.6459\n",
      "Mean F1 Score: 0.8014, Mean Accuracy: 0.9205, Mean Precision: 0.8750, Mean Recall: 0.7944\n"
     ]
    },
    {
     "name": "stderr",
     "output_type": "stream",
     "text": [
      "Epoch 42 Training:   0%|          | 0/4 [00:00<?, ?it/s]/tmp/job.14646635/ipykernel_391663/1724129108.py:79: FutureWarning: Series.__getitem__ treating keys as positions is deprecated. In a future version, integer keys will always be treated as labels (consistent with DataFrame behavior). To access a value by position, use `ser.iloc[pos]`\n",
      "  'labels': torch.tensor(label, dtype=torch.float32)\n",
      "Epoch 42 Training: 100%|██████████| 4/4 [00:05<00:00,  1.45s/it, loss=2.02]\n",
      "Epoch 42 Validation: 100%|██████████| 1/1 [00:00<00:00,  2.58it/s, loss=2.63]\n",
      "/scratch/user/akash.pillai.0810/.my_env/lib/python3.10/site-packages/sklearn/metrics/_classification.py:1565: UndefinedMetricWarning: F-score is ill-defined and being set to 0.0 due to no true nor predicted samples. Use `zero_division` parameter to control this behavior.\n",
      "  _warn_prf(average, modifier, f\"{metric.capitalize()} is\", len(result))\n",
      "/scratch/user/akash.pillai.0810/.my_env/lib/python3.10/site-packages/sklearn/metrics/_classification.py:1565: UndefinedMetricWarning: Recall is ill-defined and being set to 0.0 due to no true samples. Use `zero_division` parameter to control this behavior.\n",
      "  _warn_prf(average, modifier, f\"{metric.capitalize()} is\", len(result))\n"
     ]
    },
    {
     "name": "stdout",
     "output_type": "stream",
     "text": [
      "Epoch 42: Train Loss=2.2311, Val Loss=2.6263\n",
      "Mean F1 Score: 0.8014, Mean Accuracy: 0.9205, Mean Precision: 0.8750, Mean Recall: 0.7944\n"
     ]
    },
    {
     "name": "stderr",
     "output_type": "stream",
     "text": [
      "Epoch 43 Training:   0%|          | 0/4 [00:00<?, ?it/s]/tmp/job.14646635/ipykernel_391663/1724129108.py:79: FutureWarning: Series.__getitem__ treating keys as positions is deprecated. In a future version, integer keys will always be treated as labels (consistent with DataFrame behavior). To access a value by position, use `ser.iloc[pos]`\n",
      "  'labels': torch.tensor(label, dtype=torch.float32)\n",
      "Epoch 43 Training: 100%|██████████| 4/4 [00:05<00:00,  1.44s/it, loss=1.42]\n",
      "Epoch 43 Validation: 100%|██████████| 1/1 [00:00<00:00,  2.58it/s, loss=2.62]\n",
      "/scratch/user/akash.pillai.0810/.my_env/lib/python3.10/site-packages/sklearn/metrics/_classification.py:1565: UndefinedMetricWarning: F-score is ill-defined and being set to 0.0 due to no true nor predicted samples. Use `zero_division` parameter to control this behavior.\n",
      "  _warn_prf(average, modifier, f\"{metric.capitalize()} is\", len(result))\n",
      "/scratch/user/akash.pillai.0810/.my_env/lib/python3.10/site-packages/sklearn/metrics/_classification.py:1565: UndefinedMetricWarning: Recall is ill-defined and being set to 0.0 due to no true samples. Use `zero_division` parameter to control this behavior.\n",
      "  _warn_prf(average, modifier, f\"{metric.capitalize()} is\", len(result))\n"
     ]
    },
    {
     "name": "stdout",
     "output_type": "stream",
     "text": [
      "Epoch 43: Train Loss=2.2589, Val Loss=2.6221\n",
      "Mean F1 Score: 0.7754, Mean Accuracy: 0.9148, Mean Precision: 0.7841, Mean Recall: 0.7792\n"
     ]
    },
    {
     "name": "stderr",
     "output_type": "stream",
     "text": [
      "Epoch 44 Training:   0%|          | 0/4 [00:00<?, ?it/s]/tmp/job.14646635/ipykernel_391663/1724129108.py:79: FutureWarning: Series.__getitem__ treating keys as positions is deprecated. In a future version, integer keys will always be treated as labels (consistent with DataFrame behavior). To access a value by position, use `ser.iloc[pos]`\n",
      "  'labels': torch.tensor(label, dtype=torch.float32)\n",
      "Epoch 44 Training: 100%|██████████| 4/4 [00:05<00:00,  1.45s/it, loss=1.45]\n",
      "Epoch 44 Validation: 100%|██████████| 1/1 [00:00<00:00,  2.57it/s, loss=2.59]\n",
      "/scratch/user/akash.pillai.0810/.my_env/lib/python3.10/site-packages/sklearn/metrics/_classification.py:1565: UndefinedMetricWarning: F-score is ill-defined and being set to 0.0 due to no true nor predicted samples. Use `zero_division` parameter to control this behavior.\n",
      "  _warn_prf(average, modifier, f\"{metric.capitalize()} is\", len(result))\n",
      "/scratch/user/akash.pillai.0810/.my_env/lib/python3.10/site-packages/sklearn/metrics/_classification.py:1565: UndefinedMetricWarning: Recall is ill-defined and being set to 0.0 due to no true samples. Use `zero_division` parameter to control this behavior.\n",
      "  _warn_prf(average, modifier, f\"{metric.capitalize()} is\", len(result))\n"
     ]
    },
    {
     "name": "stdout",
     "output_type": "stream",
     "text": [
      "Epoch 44: Train Loss=2.2532, Val Loss=2.5940\n",
      "Mean F1 Score: 0.8014, Mean Accuracy: 0.9205, Mean Precision: 0.8750, Mean Recall: 0.7944\n"
     ]
    },
    {
     "name": "stderr",
     "output_type": "stream",
     "text": [
      "Epoch 45 Training:   0%|          | 0/4 [00:00<?, ?it/s]/tmp/job.14646635/ipykernel_391663/1724129108.py:79: FutureWarning: Series.__getitem__ treating keys as positions is deprecated. In a future version, integer keys will always be treated as labels (consistent with DataFrame behavior). To access a value by position, use `ser.iloc[pos]`\n",
      "  'labels': torch.tensor(label, dtype=torch.float32)\n",
      "Epoch 45 Training: 100%|██████████| 4/4 [00:05<00:00,  1.45s/it, loss=4.61]\n",
      "Epoch 45 Validation: 100%|██████████| 1/1 [00:00<00:00,  2.57it/s, loss=2.59]\n",
      "/scratch/user/akash.pillai.0810/.my_env/lib/python3.10/site-packages/sklearn/metrics/_classification.py:1565: UndefinedMetricWarning: F-score is ill-defined and being set to 0.0 due to no true nor predicted samples. Use `zero_division` parameter to control this behavior.\n",
      "  _warn_prf(average, modifier, f\"{metric.capitalize()} is\", len(result))\n",
      "/scratch/user/akash.pillai.0810/.my_env/lib/python3.10/site-packages/sklearn/metrics/_classification.py:1565: UndefinedMetricWarning: Recall is ill-defined and being set to 0.0 due to no true samples. Use `zero_division` parameter to control this behavior.\n",
      "  _warn_prf(average, modifier, f\"{metric.capitalize()} is\", len(result))\n"
     ]
    },
    {
     "name": "stdout",
     "output_type": "stream",
     "text": [
      "Epoch 45: Train Loss=2.2451, Val Loss=2.5854\n",
      "Mean F1 Score: 0.7754, Mean Accuracy: 0.9148, Mean Precision: 0.7841, Mean Recall: 0.7792\n"
     ]
    },
    {
     "name": "stderr",
     "output_type": "stream",
     "text": [
      "Epoch 46 Training:   0%|          | 0/4 [00:00<?, ?it/s]/tmp/job.14646635/ipykernel_391663/1724129108.py:79: FutureWarning: Series.__getitem__ treating keys as positions is deprecated. In a future version, integer keys will always be treated as labels (consistent with DataFrame behavior). To access a value by position, use `ser.iloc[pos]`\n",
      "  'labels': torch.tensor(label, dtype=torch.float32)\n",
      "Epoch 46 Training: 100%|██████████| 4/4 [00:05<00:00,  1.45s/it, loss=1.23]\n",
      "Epoch 46 Validation: 100%|██████████| 1/1 [00:00<00:00,  2.57it/s, loss=2.58]\n",
      "/scratch/user/akash.pillai.0810/.my_env/lib/python3.10/site-packages/sklearn/metrics/_classification.py:1565: UndefinedMetricWarning: F-score is ill-defined and being set to 0.0 due to no true nor predicted samples. Use `zero_division` parameter to control this behavior.\n",
      "  _warn_prf(average, modifier, f\"{metric.capitalize()} is\", len(result))\n",
      "/scratch/user/akash.pillai.0810/.my_env/lib/python3.10/site-packages/sklearn/metrics/_classification.py:1565: UndefinedMetricWarning: Recall is ill-defined and being set to 0.0 due to no true samples. Use `zero_division` parameter to control this behavior.\n",
      "  _warn_prf(average, modifier, f\"{metric.capitalize()} is\", len(result))\n"
     ]
    },
    {
     "name": "stdout",
     "output_type": "stream",
     "text": [
      "Epoch 46: Train Loss=2.1973, Val Loss=2.5840\n",
      "Mean F1 Score: 0.8014, Mean Accuracy: 0.9205, Mean Precision: 0.8750, Mean Recall: 0.7944\n"
     ]
    },
    {
     "name": "stderr",
     "output_type": "stream",
     "text": [
      "Epoch 47 Training:   0%|          | 0/4 [00:00<?, ?it/s]/tmp/job.14646635/ipykernel_391663/1724129108.py:79: FutureWarning: Series.__getitem__ treating keys as positions is deprecated. In a future version, integer keys will always be treated as labels (consistent with DataFrame behavior). To access a value by position, use `ser.iloc[pos]`\n",
      "  'labels': torch.tensor(label, dtype=torch.float32)\n",
      "Epoch 47 Training: 100%|██████████| 4/4 [00:05<00:00,  1.44s/it, loss=1.94]\n",
      "Epoch 47 Validation: 100%|██████████| 1/1 [00:00<00:00,  2.58it/s, loss=2.58]\n",
      "/scratch/user/akash.pillai.0810/.my_env/lib/python3.10/site-packages/sklearn/metrics/_classification.py:1565: UndefinedMetricWarning: F-score is ill-defined and being set to 0.0 due to no true nor predicted samples. Use `zero_division` parameter to control this behavior.\n",
      "  _warn_prf(average, modifier, f\"{metric.capitalize()} is\", len(result))\n",
      "/scratch/user/akash.pillai.0810/.my_env/lib/python3.10/site-packages/sklearn/metrics/_classification.py:1565: UndefinedMetricWarning: Recall is ill-defined and being set to 0.0 due to no true samples. Use `zero_division` parameter to control this behavior.\n",
      "  _warn_prf(average, modifier, f\"{metric.capitalize()} is\", len(result))\n"
     ]
    },
    {
     "name": "stdout",
     "output_type": "stream",
     "text": [
      "Epoch 47: Train Loss=2.1937, Val Loss=2.5768\n",
      "Mean F1 Score: 0.8014, Mean Accuracy: 0.9205, Mean Precision: 0.8750, Mean Recall: 0.7944\n"
     ]
    },
    {
     "name": "stderr",
     "output_type": "stream",
     "text": [
      "Epoch 48 Training:   0%|          | 0/4 [00:00<?, ?it/s]/tmp/job.14646635/ipykernel_391663/1724129108.py:79: FutureWarning: Series.__getitem__ treating keys as positions is deprecated. In a future version, integer keys will always be treated as labels (consistent with DataFrame behavior). To access a value by position, use `ser.iloc[pos]`\n",
      "  'labels': torch.tensor(label, dtype=torch.float32)\n",
      "Epoch 48 Training: 100%|██████████| 4/4 [00:05<00:00,  1.45s/it, loss=1.31]\n",
      "Epoch 48 Validation: 100%|██████████| 1/1 [00:00<00:00,  2.58it/s, loss=2.57]\n",
      "/scratch/user/akash.pillai.0810/.my_env/lib/python3.10/site-packages/sklearn/metrics/_classification.py:1565: UndefinedMetricWarning: F-score is ill-defined and being set to 0.0 due to no true nor predicted samples. Use `zero_division` parameter to control this behavior.\n",
      "  _warn_prf(average, modifier, f\"{metric.capitalize()} is\", len(result))\n",
      "/scratch/user/akash.pillai.0810/.my_env/lib/python3.10/site-packages/sklearn/metrics/_classification.py:1565: UndefinedMetricWarning: Recall is ill-defined and being set to 0.0 due to no true samples. Use `zero_division` parameter to control this behavior.\n",
      "  _warn_prf(average, modifier, f\"{metric.capitalize()} is\", len(result))\n"
     ]
    },
    {
     "name": "stdout",
     "output_type": "stream",
     "text": [
      "Epoch 48: Train Loss=2.2137, Val Loss=2.5703\n",
      "Mean F1 Score: 0.8014, Mean Accuracy: 0.9205, Mean Precision: 0.8750, Mean Recall: 0.7944\n"
     ]
    },
    {
     "name": "stderr",
     "output_type": "stream",
     "text": [
      "Epoch 49 Training:   0%|          | 0/4 [00:00<?, ?it/s]/tmp/job.14646635/ipykernel_391663/1724129108.py:79: FutureWarning: Series.__getitem__ treating keys as positions is deprecated. In a future version, integer keys will always be treated as labels (consistent with DataFrame behavior). To access a value by position, use `ser.iloc[pos]`\n",
      "  'labels': torch.tensor(label, dtype=torch.float32)\n",
      "Epoch 49 Training: 100%|██████████| 4/4 [00:05<00:00,  1.44s/it, loss=1.53]\n",
      "Epoch 49 Validation: 100%|██████████| 1/1 [00:00<00:00,  2.58it/s, loss=2.56]\n",
      "/scratch/user/akash.pillai.0810/.my_env/lib/python3.10/site-packages/sklearn/metrics/_classification.py:1565: UndefinedMetricWarning: F-score is ill-defined and being set to 0.0 due to no true nor predicted samples. Use `zero_division` parameter to control this behavior.\n",
      "  _warn_prf(average, modifier, f\"{metric.capitalize()} is\", len(result))\n",
      "/scratch/user/akash.pillai.0810/.my_env/lib/python3.10/site-packages/sklearn/metrics/_classification.py:1565: UndefinedMetricWarning: Recall is ill-defined and being set to 0.0 due to no true samples. Use `zero_division` parameter to control this behavior.\n",
      "  _warn_prf(average, modifier, f\"{metric.capitalize()} is\", len(result))\n"
     ]
    },
    {
     "name": "stdout",
     "output_type": "stream",
     "text": [
      "Epoch 49: Train Loss=2.1622, Val Loss=2.5638\n",
      "Mean F1 Score: 0.8014, Mean Accuracy: 0.9205, Mean Precision: 0.8750, Mean Recall: 0.7944\n"
     ]
    },
    {
     "name": "stderr",
     "output_type": "stream",
     "text": [
      "Epoch 50 Training:   0%|          | 0/4 [00:00<?, ?it/s]/tmp/job.14646635/ipykernel_391663/1724129108.py:79: FutureWarning: Series.__getitem__ treating keys as positions is deprecated. In a future version, integer keys will always be treated as labels (consistent with DataFrame behavior). To access a value by position, use `ser.iloc[pos]`\n",
      "  'labels': torch.tensor(label, dtype=torch.float32)\n",
      "Epoch 50 Training: 100%|██████████| 4/4 [00:05<00:00,  1.44s/it, loss=1.35]\n",
      "Epoch 50 Validation: 100%|██████████| 1/1 [00:00<00:00,  2.57it/s, loss=2.55]\n",
      "/scratch/user/akash.pillai.0810/.my_env/lib/python3.10/site-packages/sklearn/metrics/_classification.py:1565: UndefinedMetricWarning: F-score is ill-defined and being set to 0.0 due to no true nor predicted samples. Use `zero_division` parameter to control this behavior.\n",
      "  _warn_prf(average, modifier, f\"{metric.capitalize()} is\", len(result))\n",
      "/scratch/user/akash.pillai.0810/.my_env/lib/python3.10/site-packages/sklearn/metrics/_classification.py:1565: UndefinedMetricWarning: Recall is ill-defined and being set to 0.0 due to no true samples. Use `zero_division` parameter to control this behavior.\n",
      "  _warn_prf(average, modifier, f\"{metric.capitalize()} is\", len(result))\n"
     ]
    },
    {
     "name": "stdout",
     "output_type": "stream",
     "text": [
      "Epoch 50: Train Loss=2.1875, Val Loss=2.5550\n",
      "Mean F1 Score: 0.8014, Mean Accuracy: 0.9205, Mean Precision: 0.8750, Mean Recall: 0.7944\n"
     ]
    },
    {
     "name": "stderr",
     "output_type": "stream",
     "text": [
      "Epoch 51 Training:   0%|          | 0/4 [00:00<?, ?it/s]/tmp/job.14646635/ipykernel_391663/1724129108.py:79: FutureWarning: Series.__getitem__ treating keys as positions is deprecated. In a future version, integer keys will always be treated as labels (consistent with DataFrame behavior). To access a value by position, use `ser.iloc[pos]`\n",
      "  'labels': torch.tensor(label, dtype=torch.float32)\n",
      "Epoch 51 Training: 100%|██████████| 4/4 [00:05<00:00,  1.45s/it, loss=1.51]\n",
      "Epoch 51 Validation: 100%|██████████| 1/1 [00:00<00:00,  2.57it/s, loss=2.55]\n",
      "/scratch/user/akash.pillai.0810/.my_env/lib/python3.10/site-packages/sklearn/metrics/_classification.py:1565: UndefinedMetricWarning: F-score is ill-defined and being set to 0.0 due to no true nor predicted samples. Use `zero_division` parameter to control this behavior.\n",
      "  _warn_prf(average, modifier, f\"{metric.capitalize()} is\", len(result))\n",
      "/scratch/user/akash.pillai.0810/.my_env/lib/python3.10/site-packages/sklearn/metrics/_classification.py:1565: UndefinedMetricWarning: Recall is ill-defined and being set to 0.0 due to no true samples. Use `zero_division` parameter to control this behavior.\n",
      "  _warn_prf(average, modifier, f\"{metric.capitalize()} is\", len(result))\n"
     ]
    },
    {
     "name": "stdout",
     "output_type": "stream",
     "text": [
      "Epoch 51: Train Loss=2.1290, Val Loss=2.5520\n",
      "Mean F1 Score: 0.8014, Mean Accuracy: 0.9205, Mean Precision: 0.8750, Mean Recall: 0.7944\n"
     ]
    },
    {
     "name": "stderr",
     "output_type": "stream",
     "text": [
      "Epoch 52 Training:   0%|          | 0/4 [00:00<?, ?it/s]/tmp/job.14646635/ipykernel_391663/1724129108.py:79: FutureWarning: Series.__getitem__ treating keys as positions is deprecated. In a future version, integer keys will always be treated as labels (consistent with DataFrame behavior). To access a value by position, use `ser.iloc[pos]`\n",
      "  'labels': torch.tensor(label, dtype=torch.float32)\n",
      "Epoch 52 Training: 100%|██████████| 4/4 [00:05<00:00,  1.45s/it, loss=2]   \n",
      "Epoch 52 Validation: 100%|██████████| 1/1 [00:00<00:00,  2.57it/s, loss=2.54]\n",
      "/scratch/user/akash.pillai.0810/.my_env/lib/python3.10/site-packages/sklearn/metrics/_classification.py:1565: UndefinedMetricWarning: F-score is ill-defined and being set to 0.0 due to no true nor predicted samples. Use `zero_division` parameter to control this behavior.\n",
      "  _warn_prf(average, modifier, f\"{metric.capitalize()} is\", len(result))\n",
      "/scratch/user/akash.pillai.0810/.my_env/lib/python3.10/site-packages/sklearn/metrics/_classification.py:1565: UndefinedMetricWarning: Recall is ill-defined and being set to 0.0 due to no true samples. Use `zero_division` parameter to control this behavior.\n",
      "  _warn_prf(average, modifier, f\"{metric.capitalize()} is\", len(result))\n"
     ]
    },
    {
     "name": "stdout",
     "output_type": "stream",
     "text": [
      "Epoch 52: Train Loss=2.1330, Val Loss=2.5412\n",
      "Mean F1 Score: 0.8014, Mean Accuracy: 0.9205, Mean Precision: 0.8750, Mean Recall: 0.7944\n"
     ]
    },
    {
     "name": "stderr",
     "output_type": "stream",
     "text": [
      "Epoch 53 Training:   0%|          | 0/4 [00:00<?, ?it/s]/tmp/job.14646635/ipykernel_391663/1724129108.py:79: FutureWarning: Series.__getitem__ treating keys as positions is deprecated. In a future version, integer keys will always be treated as labels (consistent with DataFrame behavior). To access a value by position, use `ser.iloc[pos]`\n",
      "  'labels': torch.tensor(label, dtype=torch.float32)\n",
      "Epoch 53 Training: 100%|██████████| 4/4 [00:05<00:00,  1.45s/it, loss=2.25]\n",
      "Epoch 53 Validation: 100%|██████████| 1/1 [00:00<00:00,  2.58it/s, loss=2.53]\n",
      "/scratch/user/akash.pillai.0810/.my_env/lib/python3.10/site-packages/sklearn/metrics/_classification.py:1565: UndefinedMetricWarning: F-score is ill-defined and being set to 0.0 due to no true nor predicted samples. Use `zero_division` parameter to control this behavior.\n",
      "  _warn_prf(average, modifier, f\"{metric.capitalize()} is\", len(result))\n",
      "/scratch/user/akash.pillai.0810/.my_env/lib/python3.10/site-packages/sklearn/metrics/_classification.py:1565: UndefinedMetricWarning: Recall is ill-defined and being set to 0.0 due to no true samples. Use `zero_division` parameter to control this behavior.\n",
      "  _warn_prf(average, modifier, f\"{metric.capitalize()} is\", len(result))\n"
     ]
    },
    {
     "name": "stdout",
     "output_type": "stream",
     "text": [
      "Epoch 53: Train Loss=2.1479, Val Loss=2.5303\n",
      "Mean F1 Score: 0.8014, Mean Accuracy: 0.9205, Mean Precision: 0.8750, Mean Recall: 0.7944\n"
     ]
    },
    {
     "name": "stderr",
     "output_type": "stream",
     "text": [
      "Epoch 54 Training:   0%|          | 0/4 [00:00<?, ?it/s]/tmp/job.14646635/ipykernel_391663/1724129108.py:79: FutureWarning: Series.__getitem__ treating keys as positions is deprecated. In a future version, integer keys will always be treated as labels (consistent with DataFrame behavior). To access a value by position, use `ser.iloc[pos]`\n",
      "  'labels': torch.tensor(label, dtype=torch.float32)\n",
      "Epoch 54 Training: 100%|██████████| 4/4 [00:05<00:00,  1.45s/it, loss=2.9] \n",
      "Epoch 54 Validation: 100%|██████████| 1/1 [00:00<00:00,  2.58it/s, loss=2.53]\n",
      "/scratch/user/akash.pillai.0810/.my_env/lib/python3.10/site-packages/sklearn/metrics/_classification.py:1565: UndefinedMetricWarning: F-score is ill-defined and being set to 0.0 due to no true nor predicted samples. Use `zero_division` parameter to control this behavior.\n",
      "  _warn_prf(average, modifier, f\"{metric.capitalize()} is\", len(result))\n",
      "/scratch/user/akash.pillai.0810/.my_env/lib/python3.10/site-packages/sklearn/metrics/_classification.py:1565: UndefinedMetricWarning: Recall is ill-defined and being set to 0.0 due to no true samples. Use `zero_division` parameter to control this behavior.\n",
      "  _warn_prf(average, modifier, f\"{metric.capitalize()} is\", len(result))\n"
     ]
    },
    {
     "name": "stdout",
     "output_type": "stream",
     "text": [
      "Epoch 54: Train Loss=2.1269, Val Loss=2.5279\n",
      "Mean F1 Score: 0.8014, Mean Accuracy: 0.9205, Mean Precision: 0.8750, Mean Recall: 0.7944\n"
     ]
    },
    {
     "name": "stderr",
     "output_type": "stream",
     "text": [
      "Epoch 55 Training:   0%|          | 0/4 [00:00<?, ?it/s]/tmp/job.14646635/ipykernel_391663/1724129108.py:79: FutureWarning: Series.__getitem__ treating keys as positions is deprecated. In a future version, integer keys will always be treated as labels (consistent with DataFrame behavior). To access a value by position, use `ser.iloc[pos]`\n",
      "  'labels': torch.tensor(label, dtype=torch.float32)\n",
      "Epoch 55 Training: 100%|██████████| 4/4 [00:05<00:00,  1.45s/it, loss=1.12]\n",
      "Epoch 55 Validation: 100%|██████████| 1/1 [00:00<00:00,  2.58it/s, loss=2.52]\n",
      "/scratch/user/akash.pillai.0810/.my_env/lib/python3.10/site-packages/sklearn/metrics/_classification.py:1565: UndefinedMetricWarning: F-score is ill-defined and being set to 0.0 due to no true nor predicted samples. Use `zero_division` parameter to control this behavior.\n",
      "  _warn_prf(average, modifier, f\"{metric.capitalize()} is\", len(result))\n",
      "/scratch/user/akash.pillai.0810/.my_env/lib/python3.10/site-packages/sklearn/metrics/_classification.py:1565: UndefinedMetricWarning: Recall is ill-defined and being set to 0.0 due to no true samples. Use `zero_division` parameter to control this behavior.\n",
      "  _warn_prf(average, modifier, f\"{metric.capitalize()} is\", len(result))\n"
     ]
    },
    {
     "name": "stdout",
     "output_type": "stream",
     "text": [
      "Epoch 55: Train Loss=2.0812, Val Loss=2.5208\n",
      "Mean F1 Score: 0.8014, Mean Accuracy: 0.9205, Mean Precision: 0.8750, Mean Recall: 0.7944\n"
     ]
    },
    {
     "name": "stderr",
     "output_type": "stream",
     "text": [
      "Epoch 56 Training:   0%|          | 0/4 [00:00<?, ?it/s]/tmp/job.14646635/ipykernel_391663/1724129108.py:79: FutureWarning: Series.__getitem__ treating keys as positions is deprecated. In a future version, integer keys will always be treated as labels (consistent with DataFrame behavior). To access a value by position, use `ser.iloc[pos]`\n",
      "  'labels': torch.tensor(label, dtype=torch.float32)\n",
      "Epoch 56 Training: 100%|██████████| 4/4 [00:05<00:00,  1.45s/it, loss=3.92]\n",
      "Epoch 56 Validation: 100%|██████████| 1/1 [00:00<00:00,  2.58it/s, loss=2.53]\n",
      "/scratch/user/akash.pillai.0810/.my_env/lib/python3.10/site-packages/sklearn/metrics/_classification.py:1565: UndefinedMetricWarning: F-score is ill-defined and being set to 0.0 due to no true nor predicted samples. Use `zero_division` parameter to control this behavior.\n",
      "  _warn_prf(average, modifier, f\"{metric.capitalize()} is\", len(result))\n",
      "/scratch/user/akash.pillai.0810/.my_env/lib/python3.10/site-packages/sklearn/metrics/_classification.py:1565: UndefinedMetricWarning: Recall is ill-defined and being set to 0.0 due to no true samples. Use `zero_division` parameter to control this behavior.\n",
      "  _warn_prf(average, modifier, f\"{metric.capitalize()} is\", len(result))\n"
     ]
    },
    {
     "name": "stdout",
     "output_type": "stream",
     "text": [
      "Epoch 56: Train Loss=2.0838, Val Loss=2.5264\n",
      "Mean F1 Score: 0.8014, Mean Accuracy: 0.9205, Mean Precision: 0.8750, Mean Recall: 0.7944\n"
     ]
    },
    {
     "name": "stderr",
     "output_type": "stream",
     "text": [
      "Epoch 57 Training:   0%|          | 0/4 [00:00<?, ?it/s]/tmp/job.14646635/ipykernel_391663/1724129108.py:79: FutureWarning: Series.__getitem__ treating keys as positions is deprecated. In a future version, integer keys will always be treated as labels (consistent with DataFrame behavior). To access a value by position, use `ser.iloc[pos]`\n",
      "  'labels': torch.tensor(label, dtype=torch.float32)\n",
      "Epoch 57 Training: 100%|██████████| 4/4 [00:05<00:00,  1.45s/it, loss=1.64]\n",
      "Epoch 57 Validation: 100%|██████████| 1/1 [00:00<00:00,  2.58it/s, loss=2.5]\n",
      "/scratch/user/akash.pillai.0810/.my_env/lib/python3.10/site-packages/sklearn/metrics/_classification.py:1565: UndefinedMetricWarning: F-score is ill-defined and being set to 0.0 due to no true nor predicted samples. Use `zero_division` parameter to control this behavior.\n",
      "  _warn_prf(average, modifier, f\"{metric.capitalize()} is\", len(result))\n",
      "/scratch/user/akash.pillai.0810/.my_env/lib/python3.10/site-packages/sklearn/metrics/_classification.py:1565: UndefinedMetricWarning: Recall is ill-defined and being set to 0.0 due to no true samples. Use `zero_division` parameter to control this behavior.\n",
      "  _warn_prf(average, modifier, f\"{metric.capitalize()} is\", len(result))\n"
     ]
    },
    {
     "name": "stdout",
     "output_type": "stream",
     "text": [
      "Epoch 57: Train Loss=2.0796, Val Loss=2.5040\n",
      "Mean F1 Score: 0.8209, Mean Accuracy: 0.9261, Mean Precision: 0.8750, Mean Recall: 0.8095\n",
      "New best model saved for fold 4 with F1=0.8209\n"
     ]
    },
    {
     "name": "stderr",
     "output_type": "stream",
     "text": [
      "Epoch 58 Training:   0%|          | 0/4 [00:00<?, ?it/s]/tmp/job.14646635/ipykernel_391663/1724129108.py:79: FutureWarning: Series.__getitem__ treating keys as positions is deprecated. In a future version, integer keys will always be treated as labels (consistent with DataFrame behavior). To access a value by position, use `ser.iloc[pos]`\n",
      "  'labels': torch.tensor(label, dtype=torch.float32)\n",
      "Epoch 58 Training: 100%|██████████| 4/4 [00:05<00:00,  1.45s/it, loss=1.44] \n",
      "Epoch 58 Validation: 100%|██████████| 1/1 [00:00<00:00,  2.58it/s, loss=2.51]\n",
      "/scratch/user/akash.pillai.0810/.my_env/lib/python3.10/site-packages/sklearn/metrics/_classification.py:1565: UndefinedMetricWarning: F-score is ill-defined and being set to 0.0 due to no true nor predicted samples. Use `zero_division` parameter to control this behavior.\n",
      "  _warn_prf(average, modifier, f\"{metric.capitalize()} is\", len(result))\n",
      "/scratch/user/akash.pillai.0810/.my_env/lib/python3.10/site-packages/sklearn/metrics/_classification.py:1565: UndefinedMetricWarning: Recall is ill-defined and being set to 0.0 due to no true samples. Use `zero_division` parameter to control this behavior.\n",
      "  _warn_prf(average, modifier, f\"{metric.capitalize()} is\", len(result))\n"
     ]
    },
    {
     "name": "stdout",
     "output_type": "stream",
     "text": [
      "Epoch 58: Train Loss=2.0789, Val Loss=2.5073\n",
      "Mean F1 Score: 0.8209, Mean Accuracy: 0.9261, Mean Precision: 0.8750, Mean Recall: 0.8095\n"
     ]
    },
    {
     "name": "stderr",
     "output_type": "stream",
     "text": [
      "Epoch 59 Training:   0%|          | 0/4 [00:00<?, ?it/s]/tmp/job.14646635/ipykernel_391663/1724129108.py:79: FutureWarning: Series.__getitem__ treating keys as positions is deprecated. In a future version, integer keys will always be treated as labels (consistent with DataFrame behavior). To access a value by position, use `ser.iloc[pos]`\n",
      "  'labels': torch.tensor(label, dtype=torch.float32)\n",
      "Epoch 59 Training: 100%|██████████| 4/4 [00:05<00:00,  1.45s/it, loss=1.68]\n",
      "Epoch 59 Validation: 100%|██████████| 1/1 [00:00<00:00,  2.58it/s, loss=2.5]\n",
      "/scratch/user/akash.pillai.0810/.my_env/lib/python3.10/site-packages/sklearn/metrics/_classification.py:1565: UndefinedMetricWarning: F-score is ill-defined and being set to 0.0 due to no true nor predicted samples. Use `zero_division` parameter to control this behavior.\n",
      "  _warn_prf(average, modifier, f\"{metric.capitalize()} is\", len(result))\n",
      "/scratch/user/akash.pillai.0810/.my_env/lib/python3.10/site-packages/sklearn/metrics/_classification.py:1565: UndefinedMetricWarning: Recall is ill-defined and being set to 0.0 due to no true samples. Use `zero_division` parameter to control this behavior.\n",
      "  _warn_prf(average, modifier, f\"{metric.capitalize()} is\", len(result))\n"
     ]
    },
    {
     "name": "stdout",
     "output_type": "stream",
     "text": [
      "Epoch 59: Train Loss=2.1000, Val Loss=2.5019\n",
      "Mean F1 Score: 0.8209, Mean Accuracy: 0.9261, Mean Precision: 0.8750, Mean Recall: 0.8095\n"
     ]
    },
    {
     "name": "stderr",
     "output_type": "stream",
     "text": [
      "Epoch 60 Training:   0%|          | 0/4 [00:00<?, ?it/s]/tmp/job.14646635/ipykernel_391663/1724129108.py:79: FutureWarning: Series.__getitem__ treating keys as positions is deprecated. In a future version, integer keys will always be treated as labels (consistent with DataFrame behavior). To access a value by position, use `ser.iloc[pos]`\n",
      "  'labels': torch.tensor(label, dtype=torch.float32)\n",
      "Epoch 60 Training: 100%|██████████| 4/4 [00:05<00:00,  1.45s/it, loss=1.51]\n",
      "Epoch 60 Validation: 100%|██████████| 1/1 [00:00<00:00,  2.57it/s, loss=2.48]\n",
      "/scratch/user/akash.pillai.0810/.my_env/lib/python3.10/site-packages/sklearn/metrics/_classification.py:1565: UndefinedMetricWarning: F-score is ill-defined and being set to 0.0 due to no true nor predicted samples. Use `zero_division` parameter to control this behavior.\n",
      "  _warn_prf(average, modifier, f\"{metric.capitalize()} is\", len(result))\n",
      "/scratch/user/akash.pillai.0810/.my_env/lib/python3.10/site-packages/sklearn/metrics/_classification.py:1565: UndefinedMetricWarning: Recall is ill-defined and being set to 0.0 due to no true samples. Use `zero_division` parameter to control this behavior.\n",
      "  _warn_prf(average, modifier, f\"{metric.capitalize()} is\", len(result))\n"
     ]
    },
    {
     "name": "stdout",
     "output_type": "stream",
     "text": [
      "Epoch 60: Train Loss=2.0616, Val Loss=2.4785\n",
      "Mean F1 Score: 0.8209, Mean Accuracy: 0.9261, Mean Precision: 0.8750, Mean Recall: 0.8095\n"
     ]
    },
    {
     "name": "stderr",
     "output_type": "stream",
     "text": [
      "Epoch 61 Training:   0%|          | 0/4 [00:00<?, ?it/s]/tmp/job.14646635/ipykernel_391663/1724129108.py:79: FutureWarning: Series.__getitem__ treating keys as positions is deprecated. In a future version, integer keys will always be treated as labels (consistent with DataFrame behavior). To access a value by position, use `ser.iloc[pos]`\n",
      "  'labels': torch.tensor(label, dtype=torch.float32)\n",
      "Epoch 61 Training: 100%|██████████| 4/4 [00:05<00:00,  1.45s/it, loss=1.18]\n",
      "Epoch 61 Validation: 100%|██████████| 1/1 [00:00<00:00,  2.58it/s, loss=2.46]\n",
      "/scratch/user/akash.pillai.0810/.my_env/lib/python3.10/site-packages/sklearn/metrics/_classification.py:1565: UndefinedMetricWarning: F-score is ill-defined and being set to 0.0 due to no true nor predicted samples. Use `zero_division` parameter to control this behavior.\n",
      "  _warn_prf(average, modifier, f\"{metric.capitalize()} is\", len(result))\n",
      "/scratch/user/akash.pillai.0810/.my_env/lib/python3.10/site-packages/sklearn/metrics/_classification.py:1565: UndefinedMetricWarning: Recall is ill-defined and being set to 0.0 due to no true samples. Use `zero_division` parameter to control this behavior.\n",
      "  _warn_prf(average, modifier, f\"{metric.capitalize()} is\", len(result))\n"
     ]
    },
    {
     "name": "stdout",
     "output_type": "stream",
     "text": [
      "Epoch 61: Train Loss=2.0526, Val Loss=2.4619\n",
      "Mean F1 Score: 0.8209, Mean Accuracy: 0.9261, Mean Precision: 0.8750, Mean Recall: 0.8095\n"
     ]
    },
    {
     "name": "stderr",
     "output_type": "stream",
     "text": [
      "Epoch 62 Training:   0%|          | 0/4 [00:00<?, ?it/s]/tmp/job.14646635/ipykernel_391663/1724129108.py:79: FutureWarning: Series.__getitem__ treating keys as positions is deprecated. In a future version, integer keys will always be treated as labels (consistent with DataFrame behavior). To access a value by position, use `ser.iloc[pos]`\n",
      "  'labels': torch.tensor(label, dtype=torch.float32)\n",
      "Epoch 62 Training: 100%|██████████| 4/4 [00:05<00:00,  1.45s/it, loss=2.16]\n",
      "Epoch 62 Validation: 100%|██████████| 1/1 [00:00<00:00,  2.57it/s, loss=2.46]\n",
      "/scratch/user/akash.pillai.0810/.my_env/lib/python3.10/site-packages/sklearn/metrics/_classification.py:1565: UndefinedMetricWarning: F-score is ill-defined and being set to 0.0 due to no true nor predicted samples. Use `zero_division` parameter to control this behavior.\n",
      "  _warn_prf(average, modifier, f\"{metric.capitalize()} is\", len(result))\n",
      "/scratch/user/akash.pillai.0810/.my_env/lib/python3.10/site-packages/sklearn/metrics/_classification.py:1565: UndefinedMetricWarning: Recall is ill-defined and being set to 0.0 due to no true samples. Use `zero_division` parameter to control this behavior.\n",
      "  _warn_prf(average, modifier, f\"{metric.capitalize()} is\", len(result))\n"
     ]
    },
    {
     "name": "stdout",
     "output_type": "stream",
     "text": [
      "Epoch 62: Train Loss=2.0645, Val Loss=2.4650\n",
      "Mean F1 Score: 0.8209, Mean Accuracy: 0.9261, Mean Precision: 0.8750, Mean Recall: 0.8095\n"
     ]
    },
    {
     "name": "stderr",
     "output_type": "stream",
     "text": [
      "Epoch 63 Training:   0%|          | 0/4 [00:00<?, ?it/s]/tmp/job.14646635/ipykernel_391663/1724129108.py:79: FutureWarning: Series.__getitem__ treating keys as positions is deprecated. In a future version, integer keys will always be treated as labels (consistent with DataFrame behavior). To access a value by position, use `ser.iloc[pos]`\n",
      "  'labels': torch.tensor(label, dtype=torch.float32)\n",
      "Epoch 63 Training: 100%|██████████| 4/4 [00:05<00:00,  1.45s/it, loss=3.01]\n",
      "Epoch 63 Validation: 100%|██████████| 1/1 [00:00<00:00,  2.58it/s, loss=2.46]\n",
      "/scratch/user/akash.pillai.0810/.my_env/lib/python3.10/site-packages/sklearn/metrics/_classification.py:1565: UndefinedMetricWarning: F-score is ill-defined and being set to 0.0 due to no true nor predicted samples. Use `zero_division` parameter to control this behavior.\n",
      "  _warn_prf(average, modifier, f\"{metric.capitalize()} is\", len(result))\n",
      "/scratch/user/akash.pillai.0810/.my_env/lib/python3.10/site-packages/sklearn/metrics/_classification.py:1565: UndefinedMetricWarning: Recall is ill-defined and being set to 0.0 due to no true samples. Use `zero_division` parameter to control this behavior.\n",
      "  _warn_prf(average, modifier, f\"{metric.capitalize()} is\", len(result))\n"
     ]
    },
    {
     "name": "stdout",
     "output_type": "stream",
     "text": [
      "Epoch 63: Train Loss=2.0731, Val Loss=2.4574\n",
      "Mean F1 Score: 0.8209, Mean Accuracy: 0.9261, Mean Precision: 0.8750, Mean Recall: 0.8095\n"
     ]
    },
    {
     "name": "stderr",
     "output_type": "stream",
     "text": [
      "Epoch 64 Training:   0%|          | 0/4 [00:00<?, ?it/s]/tmp/job.14646635/ipykernel_391663/1724129108.py:79: FutureWarning: Series.__getitem__ treating keys as positions is deprecated. In a future version, integer keys will always be treated as labels (consistent with DataFrame behavior). To access a value by position, use `ser.iloc[pos]`\n",
      "  'labels': torch.tensor(label, dtype=torch.float32)\n",
      "Epoch 64 Training: 100%|██████████| 4/4 [00:05<00:00,  1.45s/it, loss=2.2] \n",
      "Epoch 64 Validation: 100%|██████████| 1/1 [00:00<00:00,  2.58it/s, loss=2.43]\n",
      "/scratch/user/akash.pillai.0810/.my_env/lib/python3.10/site-packages/sklearn/metrics/_classification.py:1565: UndefinedMetricWarning: F-score is ill-defined and being set to 0.0 due to no true nor predicted samples. Use `zero_division` parameter to control this behavior.\n",
      "  _warn_prf(average, modifier, f\"{metric.capitalize()} is\", len(result))\n",
      "/scratch/user/akash.pillai.0810/.my_env/lib/python3.10/site-packages/sklearn/metrics/_classification.py:1565: UndefinedMetricWarning: Recall is ill-defined and being set to 0.0 due to no true samples. Use `zero_division` parameter to control this behavior.\n",
      "  _warn_prf(average, modifier, f\"{metric.capitalize()} is\", len(result))\n"
     ]
    },
    {
     "name": "stdout",
     "output_type": "stream",
     "text": [
      "Epoch 64: Train Loss=2.0314, Val Loss=2.4344\n",
      "Mean F1 Score: 0.8209, Mean Accuracy: 0.9261, Mean Precision: 0.8750, Mean Recall: 0.8095\n"
     ]
    },
    {
     "name": "stderr",
     "output_type": "stream",
     "text": [
      "Epoch 65 Training:   0%|          | 0/4 [00:00<?, ?it/s]/tmp/job.14646635/ipykernel_391663/1724129108.py:79: FutureWarning: Series.__getitem__ treating keys as positions is deprecated. In a future version, integer keys will always be treated as labels (consistent with DataFrame behavior). To access a value by position, use `ser.iloc[pos]`\n",
      "  'labels': torch.tensor(label, dtype=torch.float32)\n",
      "Epoch 65 Training: 100%|██████████| 4/4 [00:05<00:00,  1.45s/it, loss=2.08]\n",
      "Epoch 65 Validation: 100%|██████████| 1/1 [00:00<00:00,  2.58it/s, loss=2.45]\n",
      "/scratch/user/akash.pillai.0810/.my_env/lib/python3.10/site-packages/sklearn/metrics/_classification.py:1565: UndefinedMetricWarning: F-score is ill-defined and being set to 0.0 due to no true nor predicted samples. Use `zero_division` parameter to control this behavior.\n",
      "  _warn_prf(average, modifier, f\"{metric.capitalize()} is\", len(result))\n",
      "/scratch/user/akash.pillai.0810/.my_env/lib/python3.10/site-packages/sklearn/metrics/_classification.py:1565: UndefinedMetricWarning: Recall is ill-defined and being set to 0.0 due to no true samples. Use `zero_division` parameter to control this behavior.\n",
      "  _warn_prf(average, modifier, f\"{metric.capitalize()} is\", len(result))\n"
     ]
    },
    {
     "name": "stdout",
     "output_type": "stream",
     "text": [
      "Epoch 65: Train Loss=2.0041, Val Loss=2.4485\n",
      "Mean F1 Score: 0.8209, Mean Accuracy: 0.9261, Mean Precision: 0.8750, Mean Recall: 0.8095\n"
     ]
    },
    {
     "name": "stderr",
     "output_type": "stream",
     "text": [
      "Epoch 66 Training:   0%|          | 0/4 [00:00<?, ?it/s]/tmp/job.14646635/ipykernel_391663/1724129108.py:79: FutureWarning: Series.__getitem__ treating keys as positions is deprecated. In a future version, integer keys will always be treated as labels (consistent with DataFrame behavior). To access a value by position, use `ser.iloc[pos]`\n",
      "  'labels': torch.tensor(label, dtype=torch.float32)\n",
      "Epoch 66 Training: 100%|██████████| 4/4 [00:05<00:00,  1.44s/it, loss=2.97]\n",
      "Epoch 66 Validation: 100%|██████████| 1/1 [00:00<00:00,  2.58it/s, loss=2.45]\n",
      "/scratch/user/akash.pillai.0810/.my_env/lib/python3.10/site-packages/sklearn/metrics/_classification.py:1565: UndefinedMetricWarning: F-score is ill-defined and being set to 0.0 due to no true nor predicted samples. Use `zero_division` parameter to control this behavior.\n",
      "  _warn_prf(average, modifier, f\"{metric.capitalize()} is\", len(result))\n",
      "/scratch/user/akash.pillai.0810/.my_env/lib/python3.10/site-packages/sklearn/metrics/_classification.py:1565: UndefinedMetricWarning: Recall is ill-defined and being set to 0.0 due to no true samples. Use `zero_division` parameter to control this behavior.\n",
      "  _warn_prf(average, modifier, f\"{metric.capitalize()} is\", len(result))\n"
     ]
    },
    {
     "name": "stdout",
     "output_type": "stream",
     "text": [
      "Epoch 66: Train Loss=2.0228, Val Loss=2.4546\n",
      "Mean F1 Score: 0.8209, Mean Accuracy: 0.9261, Mean Precision: 0.8750, Mean Recall: 0.8095\n"
     ]
    },
    {
     "name": "stderr",
     "output_type": "stream",
     "text": [
      "Epoch 67 Training:   0%|          | 0/4 [00:00<?, ?it/s]/tmp/job.14646635/ipykernel_391663/1724129108.py:79: FutureWarning: Series.__getitem__ treating keys as positions is deprecated. In a future version, integer keys will always be treated as labels (consistent with DataFrame behavior). To access a value by position, use `ser.iloc[pos]`\n",
      "  'labels': torch.tensor(label, dtype=torch.float32)\n",
      "Epoch 67 Training: 100%|██████████| 4/4 [00:05<00:00,  1.45s/it, loss=3.21]\n",
      "Epoch 67 Validation: 100%|██████████| 1/1 [00:00<00:00,  2.58it/s, loss=2.44]\n",
      "/scratch/user/akash.pillai.0810/.my_env/lib/python3.10/site-packages/sklearn/metrics/_classification.py:1565: UndefinedMetricWarning: F-score is ill-defined and being set to 0.0 due to no true nor predicted samples. Use `zero_division` parameter to control this behavior.\n",
      "  _warn_prf(average, modifier, f\"{metric.capitalize()} is\", len(result))\n",
      "/scratch/user/akash.pillai.0810/.my_env/lib/python3.10/site-packages/sklearn/metrics/_classification.py:1565: UndefinedMetricWarning: Recall is ill-defined and being set to 0.0 due to no true samples. Use `zero_division` parameter to control this behavior.\n",
      "  _warn_prf(average, modifier, f\"{metric.capitalize()} is\", len(result))\n"
     ]
    },
    {
     "name": "stdout",
     "output_type": "stream",
     "text": [
      "Epoch 67: Train Loss=2.0273, Val Loss=2.4414\n",
      "Mean F1 Score: 0.8209, Mean Accuracy: 0.9261, Mean Precision: 0.8750, Mean Recall: 0.8095\n"
     ]
    },
    {
     "name": "stderr",
     "output_type": "stream",
     "text": [
      "Epoch 68 Training:   0%|          | 0/4 [00:00<?, ?it/s]/tmp/job.14646635/ipykernel_391663/1724129108.py:79: FutureWarning: Series.__getitem__ treating keys as positions is deprecated. In a future version, integer keys will always be treated as labels (consistent with DataFrame behavior). To access a value by position, use `ser.iloc[pos]`\n",
      "  'labels': torch.tensor(label, dtype=torch.float32)\n",
      "Epoch 68 Training: 100%|██████████| 4/4 [00:05<00:00,  1.45s/it, loss=2.61]\n",
      "Epoch 68 Validation: 100%|██████████| 1/1 [00:00<00:00,  2.58it/s, loss=2.43]\n",
      "/scratch/user/akash.pillai.0810/.my_env/lib/python3.10/site-packages/sklearn/metrics/_classification.py:1565: UndefinedMetricWarning: F-score is ill-defined and being set to 0.0 due to no true nor predicted samples. Use `zero_division` parameter to control this behavior.\n",
      "  _warn_prf(average, modifier, f\"{metric.capitalize()} is\", len(result))\n",
      "/scratch/user/akash.pillai.0810/.my_env/lib/python3.10/site-packages/sklearn/metrics/_classification.py:1565: UndefinedMetricWarning: Recall is ill-defined and being set to 0.0 due to no true samples. Use `zero_division` parameter to control this behavior.\n",
      "  _warn_prf(average, modifier, f\"{metric.capitalize()} is\", len(result))\n"
     ]
    },
    {
     "name": "stdout",
     "output_type": "stream",
     "text": [
      "Epoch 68: Train Loss=1.9970, Val Loss=2.4323\n",
      "Mean F1 Score: 0.8209, Mean Accuracy: 0.9261, Mean Precision: 0.8750, Mean Recall: 0.8095\n"
     ]
    },
    {
     "name": "stderr",
     "output_type": "stream",
     "text": [
      "Epoch 69 Training:   0%|          | 0/4 [00:00<?, ?it/s]/tmp/job.14646635/ipykernel_391663/1724129108.py:79: FutureWarning: Series.__getitem__ treating keys as positions is deprecated. In a future version, integer keys will always be treated as labels (consistent with DataFrame behavior). To access a value by position, use `ser.iloc[pos]`\n",
      "  'labels': torch.tensor(label, dtype=torch.float32)\n",
      "Epoch 69 Training: 100%|██████████| 4/4 [00:05<00:00,  1.45s/it, loss=1.52]\n",
      "Epoch 69 Validation: 100%|██████████| 1/1 [00:00<00:00,  2.57it/s, loss=2.42]\n",
      "/scratch/user/akash.pillai.0810/.my_env/lib/python3.10/site-packages/sklearn/metrics/_classification.py:1565: UndefinedMetricWarning: F-score is ill-defined and being set to 0.0 due to no true nor predicted samples. Use `zero_division` parameter to control this behavior.\n",
      "  _warn_prf(average, modifier, f\"{metric.capitalize()} is\", len(result))\n",
      "/scratch/user/akash.pillai.0810/.my_env/lib/python3.10/site-packages/sklearn/metrics/_classification.py:1565: UndefinedMetricWarning: Recall is ill-defined and being set to 0.0 due to no true samples. Use `zero_division` parameter to control this behavior.\n",
      "  _warn_prf(average, modifier, f\"{metric.capitalize()} is\", len(result))\n"
     ]
    },
    {
     "name": "stdout",
     "output_type": "stream",
     "text": [
      "Epoch 69: Train Loss=1.9919, Val Loss=2.4200\n",
      "Mean F1 Score: 0.8209, Mean Accuracy: 0.9261, Mean Precision: 0.8750, Mean Recall: 0.8095\n"
     ]
    },
    {
     "name": "stderr",
     "output_type": "stream",
     "text": [
      "Epoch 70 Training:   0%|          | 0/4 [00:00<?, ?it/s]/tmp/job.14646635/ipykernel_391663/1724129108.py:79: FutureWarning: Series.__getitem__ treating keys as positions is deprecated. In a future version, integer keys will always be treated as labels (consistent with DataFrame behavior). To access a value by position, use `ser.iloc[pos]`\n",
      "  'labels': torch.tensor(label, dtype=torch.float32)\n",
      "Epoch 70 Training: 100%|██████████| 4/4 [00:05<00:00,  1.45s/it, loss=1.91] \n",
      "Epoch 70 Validation: 100%|██████████| 1/1 [00:00<00:00,  2.57it/s, loss=2.41]\n",
      "/scratch/user/akash.pillai.0810/.my_env/lib/python3.10/site-packages/sklearn/metrics/_classification.py:1565: UndefinedMetricWarning: F-score is ill-defined and being set to 0.0 due to no true nor predicted samples. Use `zero_division` parameter to control this behavior.\n",
      "  _warn_prf(average, modifier, f\"{metric.capitalize()} is\", len(result))\n",
      "/scratch/user/akash.pillai.0810/.my_env/lib/python3.10/site-packages/sklearn/metrics/_classification.py:1565: UndefinedMetricWarning: Recall is ill-defined and being set to 0.0 due to no true samples. Use `zero_division` parameter to control this behavior.\n",
      "  _warn_prf(average, modifier, f\"{metric.capitalize()} is\", len(result))\n"
     ]
    },
    {
     "name": "stdout",
     "output_type": "stream",
     "text": [
      "Epoch 70: Train Loss=2.0163, Val Loss=2.4118\n",
      "Mean F1 Score: 0.8209, Mean Accuracy: 0.9261, Mean Precision: 0.8750, Mean Recall: 0.8095\n"
     ]
    },
    {
     "name": "stderr",
     "output_type": "stream",
     "text": [
      "Epoch 71 Training:   0%|          | 0/4 [00:00<?, ?it/s]/tmp/job.14646635/ipykernel_391663/1724129108.py:79: FutureWarning: Series.__getitem__ treating keys as positions is deprecated. In a future version, integer keys will always be treated as labels (consistent with DataFrame behavior). To access a value by position, use `ser.iloc[pos]`\n",
      "  'labels': torch.tensor(label, dtype=torch.float32)\n",
      "Epoch 71 Training: 100%|██████████| 4/4 [00:05<00:00,  1.45s/it, loss=2.18]\n",
      "Epoch 71 Validation: 100%|██████████| 1/1 [00:00<00:00,  2.57it/s, loss=2.41]\n",
      "/scratch/user/akash.pillai.0810/.my_env/lib/python3.10/site-packages/sklearn/metrics/_classification.py:1565: UndefinedMetricWarning: F-score is ill-defined and being set to 0.0 due to no true nor predicted samples. Use `zero_division` parameter to control this behavior.\n",
      "  _warn_prf(average, modifier, f\"{metric.capitalize()} is\", len(result))\n",
      "/scratch/user/akash.pillai.0810/.my_env/lib/python3.10/site-packages/sklearn/metrics/_classification.py:1565: UndefinedMetricWarning: Recall is ill-defined and being set to 0.0 due to no true samples. Use `zero_division` parameter to control this behavior.\n",
      "  _warn_prf(average, modifier, f\"{metric.capitalize()} is\", len(result))\n"
     ]
    },
    {
     "name": "stdout",
     "output_type": "stream",
     "text": [
      "Epoch 71: Train Loss=1.9965, Val Loss=2.4142\n",
      "Mean F1 Score: 0.8209, Mean Accuracy: 0.9261, Mean Precision: 0.8750, Mean Recall: 0.8095\n"
     ]
    },
    {
     "name": "stderr",
     "output_type": "stream",
     "text": [
      "Epoch 72 Training:   0%|          | 0/4 [00:00<?, ?it/s]/tmp/job.14646635/ipykernel_391663/1724129108.py:79: FutureWarning: Series.__getitem__ treating keys as positions is deprecated. In a future version, integer keys will always be treated as labels (consistent with DataFrame behavior). To access a value by position, use `ser.iloc[pos]`\n",
      "  'labels': torch.tensor(label, dtype=torch.float32)\n",
      "Epoch 72 Training: 100%|██████████| 4/4 [00:05<00:00,  1.45s/it, loss=2.34]\n",
      "Epoch 72 Validation: 100%|██████████| 1/1 [00:00<00:00,  2.57it/s, loss=2.42]\n",
      "/scratch/user/akash.pillai.0810/.my_env/lib/python3.10/site-packages/sklearn/metrics/_classification.py:1565: UndefinedMetricWarning: F-score is ill-defined and being set to 0.0 due to no true nor predicted samples. Use `zero_division` parameter to control this behavior.\n",
      "  _warn_prf(average, modifier, f\"{metric.capitalize()} is\", len(result))\n",
      "/scratch/user/akash.pillai.0810/.my_env/lib/python3.10/site-packages/sklearn/metrics/_classification.py:1565: UndefinedMetricWarning: Recall is ill-defined and being set to 0.0 due to no true samples. Use `zero_division` parameter to control this behavior.\n",
      "  _warn_prf(average, modifier, f\"{metric.capitalize()} is\", len(result))\n"
     ]
    },
    {
     "name": "stdout",
     "output_type": "stream",
     "text": [
      "Epoch 72: Train Loss=1.9642, Val Loss=2.4158\n",
      "Mean F1 Score: 0.8209, Mean Accuracy: 0.9261, Mean Precision: 0.8750, Mean Recall: 0.8095\n"
     ]
    },
    {
     "name": "stderr",
     "output_type": "stream",
     "text": [
      "Epoch 73 Training:   0%|          | 0/4 [00:00<?, ?it/s]/tmp/job.14646635/ipykernel_391663/1724129108.py:79: FutureWarning: Series.__getitem__ treating keys as positions is deprecated. In a future version, integer keys will always be treated as labels (consistent with DataFrame behavior). To access a value by position, use `ser.iloc[pos]`\n",
      "  'labels': torch.tensor(label, dtype=torch.float32)\n",
      "Epoch 73 Training: 100%|██████████| 4/4 [00:05<00:00,  1.45s/it, loss=1.78]\n",
      "Epoch 73 Validation: 100%|██████████| 1/1 [00:00<00:00,  2.57it/s, loss=2.39]\n",
      "/scratch/user/akash.pillai.0810/.my_env/lib/python3.10/site-packages/sklearn/metrics/_classification.py:1565: UndefinedMetricWarning: F-score is ill-defined and being set to 0.0 due to no true nor predicted samples. Use `zero_division` parameter to control this behavior.\n",
      "  _warn_prf(average, modifier, f\"{metric.capitalize()} is\", len(result))\n",
      "/scratch/user/akash.pillai.0810/.my_env/lib/python3.10/site-packages/sklearn/metrics/_classification.py:1565: UndefinedMetricWarning: Recall is ill-defined and being set to 0.0 due to no true samples. Use `zero_division` parameter to control this behavior.\n",
      "  _warn_prf(average, modifier, f\"{metric.capitalize()} is\", len(result))\n"
     ]
    },
    {
     "name": "stdout",
     "output_type": "stream",
     "text": [
      "Epoch 73: Train Loss=1.9938, Val Loss=2.3934\n",
      "Mean F1 Score: 0.8209, Mean Accuracy: 0.9261, Mean Precision: 0.8750, Mean Recall: 0.8095\n"
     ]
    },
    {
     "name": "stderr",
     "output_type": "stream",
     "text": [
      "Epoch 74 Training:   0%|          | 0/4 [00:00<?, ?it/s]/tmp/job.14646635/ipykernel_391663/1724129108.py:79: FutureWarning: Series.__getitem__ treating keys as positions is deprecated. In a future version, integer keys will always be treated as labels (consistent with DataFrame behavior). To access a value by position, use `ser.iloc[pos]`\n",
      "  'labels': torch.tensor(label, dtype=torch.float32)\n",
      "Epoch 74 Training: 100%|██████████| 4/4 [00:05<00:00,  1.45s/it, loss=3.25] \n",
      "Epoch 74 Validation: 100%|██████████| 1/1 [00:00<00:00,  2.58it/s, loss=2.39]\n",
      "/scratch/user/akash.pillai.0810/.my_env/lib/python3.10/site-packages/sklearn/metrics/_classification.py:1565: UndefinedMetricWarning: F-score is ill-defined and being set to 0.0 due to no true nor predicted samples. Use `zero_division` parameter to control this behavior.\n",
      "  _warn_prf(average, modifier, f\"{metric.capitalize()} is\", len(result))\n",
      "/scratch/user/akash.pillai.0810/.my_env/lib/python3.10/site-packages/sklearn/metrics/_classification.py:1565: UndefinedMetricWarning: Recall is ill-defined and being set to 0.0 due to no true samples. Use `zero_division` parameter to control this behavior.\n",
      "  _warn_prf(average, modifier, f\"{metric.capitalize()} is\", len(result))\n"
     ]
    },
    {
     "name": "stdout",
     "output_type": "stream",
     "text": [
      "Epoch 74: Train Loss=1.9650, Val Loss=2.3854\n",
      "Mean F1 Score: 0.8209, Mean Accuracy: 0.9261, Mean Precision: 0.8750, Mean Recall: 0.8095\n"
     ]
    },
    {
     "name": "stderr",
     "output_type": "stream",
     "text": [
      "Epoch 75 Training:   0%|          | 0/4 [00:00<?, ?it/s]/tmp/job.14646635/ipykernel_391663/1724129108.py:79: FutureWarning: Series.__getitem__ treating keys as positions is deprecated. In a future version, integer keys will always be treated as labels (consistent with DataFrame behavior). To access a value by position, use `ser.iloc[pos]`\n",
      "  'labels': torch.tensor(label, dtype=torch.float32)\n",
      "Epoch 75 Training: 100%|██████████| 4/4 [00:05<00:00,  1.45s/it, loss=2.23]\n",
      "Epoch 75 Validation: 100%|██████████| 1/1 [00:00<00:00,  2.57it/s, loss=2.38]\n",
      "/scratch/user/akash.pillai.0810/.my_env/lib/python3.10/site-packages/sklearn/metrics/_classification.py:1565: UndefinedMetricWarning: F-score is ill-defined and being set to 0.0 due to no true nor predicted samples. Use `zero_division` parameter to control this behavior.\n",
      "  _warn_prf(average, modifier, f\"{metric.capitalize()} is\", len(result))\n",
      "/scratch/user/akash.pillai.0810/.my_env/lib/python3.10/site-packages/sklearn/metrics/_classification.py:1565: UndefinedMetricWarning: Recall is ill-defined and being set to 0.0 due to no true samples. Use `zero_division` parameter to control this behavior.\n",
      "  _warn_prf(average, modifier, f\"{metric.capitalize()} is\", len(result))\n"
     ]
    },
    {
     "name": "stdout",
     "output_type": "stream",
     "text": [
      "Epoch 75: Train Loss=1.9502, Val Loss=2.3840\n",
      "Mean F1 Score: 0.8209, Mean Accuracy: 0.9261, Mean Precision: 0.8750, Mean Recall: 0.8095\n"
     ]
    },
    {
     "name": "stderr",
     "output_type": "stream",
     "text": [
      "Epoch 76 Training:   0%|          | 0/4 [00:00<?, ?it/s]/tmp/job.14646635/ipykernel_391663/1724129108.py:79: FutureWarning: Series.__getitem__ treating keys as positions is deprecated. In a future version, integer keys will always be treated as labels (consistent with DataFrame behavior). To access a value by position, use `ser.iloc[pos]`\n",
      "  'labels': torch.tensor(label, dtype=torch.float32)\n",
      "Epoch 76 Training: 100%|██████████| 4/4 [00:05<00:00,  1.45s/it, loss=1.13]\n",
      "Epoch 76 Validation: 100%|██████████| 1/1 [00:00<00:00,  2.58it/s, loss=2.38]\n",
      "/scratch/user/akash.pillai.0810/.my_env/lib/python3.10/site-packages/sklearn/metrics/_classification.py:1565: UndefinedMetricWarning: F-score is ill-defined and being set to 0.0 due to no true nor predicted samples. Use `zero_division` parameter to control this behavior.\n",
      "  _warn_prf(average, modifier, f\"{metric.capitalize()} is\", len(result))\n",
      "/scratch/user/akash.pillai.0810/.my_env/lib/python3.10/site-packages/sklearn/metrics/_classification.py:1565: UndefinedMetricWarning: Recall is ill-defined and being set to 0.0 due to no true samples. Use `zero_division` parameter to control this behavior.\n",
      "  _warn_prf(average, modifier, f\"{metric.capitalize()} is\", len(result))\n"
     ]
    },
    {
     "name": "stdout",
     "output_type": "stream",
     "text": [
      "Epoch 76: Train Loss=1.9662, Val Loss=2.3850\n",
      "Mean F1 Score: 0.8209, Mean Accuracy: 0.9261, Mean Precision: 0.8750, Mean Recall: 0.8095\n"
     ]
    },
    {
     "name": "stderr",
     "output_type": "stream",
     "text": [
      "Epoch 77 Training:   0%|          | 0/4 [00:00<?, ?it/s]/tmp/job.14646635/ipykernel_391663/1724129108.py:79: FutureWarning: Series.__getitem__ treating keys as positions is deprecated. In a future version, integer keys will always be treated as labels (consistent with DataFrame behavior). To access a value by position, use `ser.iloc[pos]`\n",
      "  'labels': torch.tensor(label, dtype=torch.float32)\n",
      "Epoch 77 Training: 100%|██████████| 4/4 [00:05<00:00,  1.45s/it, loss=1.63]\n",
      "Epoch 77 Validation: 100%|██████████| 1/1 [00:00<00:00,  2.58it/s, loss=2.38]\n",
      "/scratch/user/akash.pillai.0810/.my_env/lib/python3.10/site-packages/sklearn/metrics/_classification.py:1565: UndefinedMetricWarning: F-score is ill-defined and being set to 0.0 due to no true nor predicted samples. Use `zero_division` parameter to control this behavior.\n",
      "  _warn_prf(average, modifier, f\"{metric.capitalize()} is\", len(result))\n",
      "/scratch/user/akash.pillai.0810/.my_env/lib/python3.10/site-packages/sklearn/metrics/_classification.py:1565: UndefinedMetricWarning: Recall is ill-defined and being set to 0.0 due to no true samples. Use `zero_division` parameter to control this behavior.\n",
      "  _warn_prf(average, modifier, f\"{metric.capitalize()} is\", len(result))\n"
     ]
    },
    {
     "name": "stdout",
     "output_type": "stream",
     "text": [
      "Epoch 77: Train Loss=1.9393, Val Loss=2.3754\n",
      "Mean F1 Score: 0.8209, Mean Accuracy: 0.9261, Mean Precision: 0.8750, Mean Recall: 0.8095\n"
     ]
    },
    {
     "name": "stderr",
     "output_type": "stream",
     "text": [
      "Epoch 78 Training:   0%|          | 0/4 [00:00<?, ?it/s]/tmp/job.14646635/ipykernel_391663/1724129108.py:79: FutureWarning: Series.__getitem__ treating keys as positions is deprecated. In a future version, integer keys will always be treated as labels (consistent with DataFrame behavior). To access a value by position, use `ser.iloc[pos]`\n",
      "  'labels': torch.tensor(label, dtype=torch.float32)\n",
      "Epoch 78 Training: 100%|██████████| 4/4 [00:05<00:00,  1.45s/it, loss=1.86]\n",
      "Epoch 78 Validation: 100%|██████████| 1/1 [00:00<00:00,  2.57it/s, loss=2.38]\n",
      "/scratch/user/akash.pillai.0810/.my_env/lib/python3.10/site-packages/sklearn/metrics/_classification.py:1565: UndefinedMetricWarning: F-score is ill-defined and being set to 0.0 due to no true nor predicted samples. Use `zero_division` parameter to control this behavior.\n",
      "  _warn_prf(average, modifier, f\"{metric.capitalize()} is\", len(result))\n",
      "/scratch/user/akash.pillai.0810/.my_env/lib/python3.10/site-packages/sklearn/metrics/_classification.py:1565: UndefinedMetricWarning: Recall is ill-defined and being set to 0.0 due to no true samples. Use `zero_division` parameter to control this behavior.\n",
      "  _warn_prf(average, modifier, f\"{metric.capitalize()} is\", len(result))\n"
     ]
    },
    {
     "name": "stdout",
     "output_type": "stream",
     "text": [
      "Epoch 78: Train Loss=1.9823, Val Loss=2.3789\n",
      "Mean F1 Score: 0.8209, Mean Accuracy: 0.9261, Mean Precision: 0.8750, Mean Recall: 0.8095\n"
     ]
    },
    {
     "name": "stderr",
     "output_type": "stream",
     "text": [
      "Epoch 79 Training:   0%|          | 0/4 [00:00<?, ?it/s]/tmp/job.14646635/ipykernel_391663/1724129108.py:79: FutureWarning: Series.__getitem__ treating keys as positions is deprecated. In a future version, integer keys will always be treated as labels (consistent with DataFrame behavior). To access a value by position, use `ser.iloc[pos]`\n",
      "  'labels': torch.tensor(label, dtype=torch.float32)\n",
      "Epoch 79 Training: 100%|██████████| 4/4 [00:05<00:00,  1.45s/it, loss=1.85]\n",
      "Epoch 79 Validation: 100%|██████████| 1/1 [00:00<00:00,  2.58it/s, loss=2.38]\n",
      "/scratch/user/akash.pillai.0810/.my_env/lib/python3.10/site-packages/sklearn/metrics/_classification.py:1565: UndefinedMetricWarning: F-score is ill-defined and being set to 0.0 due to no true nor predicted samples. Use `zero_division` parameter to control this behavior.\n",
      "  _warn_prf(average, modifier, f\"{metric.capitalize()} is\", len(result))\n",
      "/scratch/user/akash.pillai.0810/.my_env/lib/python3.10/site-packages/sklearn/metrics/_classification.py:1565: UndefinedMetricWarning: Recall is ill-defined and being set to 0.0 due to no true samples. Use `zero_division` parameter to control this behavior.\n",
      "  _warn_prf(average, modifier, f\"{metric.capitalize()} is\", len(result))\n"
     ]
    },
    {
     "name": "stdout",
     "output_type": "stream",
     "text": [
      "Epoch 79: Train Loss=1.9467, Val Loss=2.3785\n",
      "Mean F1 Score: 0.8209, Mean Accuracy: 0.9261, Mean Precision: 0.8750, Mean Recall: 0.8095\n"
     ]
    },
    {
     "name": "stderr",
     "output_type": "stream",
     "text": [
      "Epoch 80 Training:   0%|          | 0/4 [00:00<?, ?it/s]/tmp/job.14646635/ipykernel_391663/1724129108.py:79: FutureWarning: Series.__getitem__ treating keys as positions is deprecated. In a future version, integer keys will always be treated as labels (consistent with DataFrame behavior). To access a value by position, use `ser.iloc[pos]`\n",
      "  'labels': torch.tensor(label, dtype=torch.float32)\n",
      "Epoch 80 Training: 100%|██████████| 4/4 [00:05<00:00,  1.45s/it, loss=1.51]\n",
      "Epoch 80 Validation: 100%|██████████| 1/1 [00:00<00:00,  2.57it/s, loss=2.38]\n",
      "/scratch/user/akash.pillai.0810/.my_env/lib/python3.10/site-packages/sklearn/metrics/_classification.py:1565: UndefinedMetricWarning: F-score is ill-defined and being set to 0.0 due to no true nor predicted samples. Use `zero_division` parameter to control this behavior.\n",
      "  _warn_prf(average, modifier, f\"{metric.capitalize()} is\", len(result))\n",
      "/scratch/user/akash.pillai.0810/.my_env/lib/python3.10/site-packages/sklearn/metrics/_classification.py:1565: UndefinedMetricWarning: Recall is ill-defined and being set to 0.0 due to no true samples. Use `zero_division` parameter to control this behavior.\n",
      "  _warn_prf(average, modifier, f\"{metric.capitalize()} is\", len(result))\n"
     ]
    },
    {
     "name": "stdout",
     "output_type": "stream",
     "text": [
      "Epoch 80: Train Loss=1.9567, Val Loss=2.3784\n",
      "Mean F1 Score: 0.8209, Mean Accuracy: 0.9261, Mean Precision: 0.8750, Mean Recall: 0.8095\n"
     ]
    },
    {
     "name": "stderr",
     "output_type": "stream",
     "text": [
      "Epoch 81 Training:   0%|          | 0/4 [00:00<?, ?it/s]/tmp/job.14646635/ipykernel_391663/1724129108.py:79: FutureWarning: Series.__getitem__ treating keys as positions is deprecated. In a future version, integer keys will always be treated as labels (consistent with DataFrame behavior). To access a value by position, use `ser.iloc[pos]`\n",
      "  'labels': torch.tensor(label, dtype=torch.float32)\n",
      "Epoch 81 Training: 100%|██████████| 4/4 [00:05<00:00,  1.45s/it, loss=1.92]\n",
      "Epoch 81 Validation: 100%|██████████| 1/1 [00:00<00:00,  2.57it/s, loss=2.36]\n",
      "/scratch/user/akash.pillai.0810/.my_env/lib/python3.10/site-packages/sklearn/metrics/_classification.py:1565: UndefinedMetricWarning: F-score is ill-defined and being set to 0.0 due to no true nor predicted samples. Use `zero_division` parameter to control this behavior.\n",
      "  _warn_prf(average, modifier, f\"{metric.capitalize()} is\", len(result))\n",
      "/scratch/user/akash.pillai.0810/.my_env/lib/python3.10/site-packages/sklearn/metrics/_classification.py:1565: UndefinedMetricWarning: Recall is ill-defined and being set to 0.0 due to no true samples. Use `zero_division` parameter to control this behavior.\n",
      "  _warn_prf(average, modifier, f\"{metric.capitalize()} is\", len(result))\n"
     ]
    },
    {
     "name": "stdout",
     "output_type": "stream",
     "text": [
      "Epoch 81: Train Loss=1.9312, Val Loss=2.3605\n",
      "Mean F1 Score: 0.8209, Mean Accuracy: 0.9261, Mean Precision: 0.8750, Mean Recall: 0.8095\n"
     ]
    },
    {
     "name": "stderr",
     "output_type": "stream",
     "text": [
      "Epoch 82 Training:   0%|          | 0/4 [00:00<?, ?it/s]/tmp/job.14646635/ipykernel_391663/1724129108.py:79: FutureWarning: Series.__getitem__ treating keys as positions is deprecated. In a future version, integer keys will always be treated as labels (consistent with DataFrame behavior). To access a value by position, use `ser.iloc[pos]`\n",
      "  'labels': torch.tensor(label, dtype=torch.float32)\n",
      "Epoch 82 Training: 100%|██████████| 4/4 [00:05<00:00,  1.45s/it, loss=1.82]\n",
      "Epoch 82 Validation: 100%|██████████| 1/1 [00:00<00:00,  2.57it/s, loss=2.36]\n",
      "/scratch/user/akash.pillai.0810/.my_env/lib/python3.10/site-packages/sklearn/metrics/_classification.py:1565: UndefinedMetricWarning: F-score is ill-defined and being set to 0.0 due to no true nor predicted samples. Use `zero_division` parameter to control this behavior.\n",
      "  _warn_prf(average, modifier, f\"{metric.capitalize()} is\", len(result))\n",
      "/scratch/user/akash.pillai.0810/.my_env/lib/python3.10/site-packages/sklearn/metrics/_classification.py:1565: UndefinedMetricWarning: Recall is ill-defined and being set to 0.0 due to no true samples. Use `zero_division` parameter to control this behavior.\n",
      "  _warn_prf(average, modifier, f\"{metric.capitalize()} is\", len(result))\n"
     ]
    },
    {
     "name": "stdout",
     "output_type": "stream",
     "text": [
      "Epoch 82: Train Loss=1.9220, Val Loss=2.3642\n",
      "Mean F1 Score: 0.8209, Mean Accuracy: 0.9261, Mean Precision: 0.8750, Mean Recall: 0.8095\n"
     ]
    },
    {
     "name": "stderr",
     "output_type": "stream",
     "text": [
      "Epoch 83 Training:   0%|          | 0/4 [00:00<?, ?it/s]/tmp/job.14646635/ipykernel_391663/1724129108.py:79: FutureWarning: Series.__getitem__ treating keys as positions is deprecated. In a future version, integer keys will always be treated as labels (consistent with DataFrame behavior). To access a value by position, use `ser.iloc[pos]`\n",
      "  'labels': torch.tensor(label, dtype=torch.float32)\n",
      "Epoch 83 Training: 100%|██████████| 4/4 [00:05<00:00,  1.45s/it, loss=1.84]\n",
      "Epoch 83 Validation: 100%|██████████| 1/1 [00:00<00:00,  2.58it/s, loss=2.37]\n",
      "/scratch/user/akash.pillai.0810/.my_env/lib/python3.10/site-packages/sklearn/metrics/_classification.py:1565: UndefinedMetricWarning: F-score is ill-defined and being set to 0.0 due to no true nor predicted samples. Use `zero_division` parameter to control this behavior.\n",
      "  _warn_prf(average, modifier, f\"{metric.capitalize()} is\", len(result))\n",
      "/scratch/user/akash.pillai.0810/.my_env/lib/python3.10/site-packages/sklearn/metrics/_classification.py:1565: UndefinedMetricWarning: Recall is ill-defined and being set to 0.0 due to no true samples. Use `zero_division` parameter to control this behavior.\n",
      "  _warn_prf(average, modifier, f\"{metric.capitalize()} is\", len(result))\n"
     ]
    },
    {
     "name": "stdout",
     "output_type": "stream",
     "text": [
      "Epoch 83: Train Loss=1.9245, Val Loss=2.3700\n",
      "Mean F1 Score: 0.8209, Mean Accuracy: 0.9261, Mean Precision: 0.8750, Mean Recall: 0.8095\n"
     ]
    },
    {
     "name": "stderr",
     "output_type": "stream",
     "text": [
      "Epoch 84 Training:   0%|          | 0/4 [00:00<?, ?it/s]/tmp/job.14646635/ipykernel_391663/1724129108.py:79: FutureWarning: Series.__getitem__ treating keys as positions is deprecated. In a future version, integer keys will always be treated as labels (consistent with DataFrame behavior). To access a value by position, use `ser.iloc[pos]`\n",
      "  'labels': torch.tensor(label, dtype=torch.float32)\n",
      "Epoch 84 Training: 100%|██████████| 4/4 [00:05<00:00,  1.45s/it, loss=1.78]\n",
      "Epoch 84 Validation: 100%|██████████| 1/1 [00:00<00:00,  2.57it/s, loss=2.35]\n",
      "/scratch/user/akash.pillai.0810/.my_env/lib/python3.10/site-packages/sklearn/metrics/_classification.py:1565: UndefinedMetricWarning: F-score is ill-defined and being set to 0.0 due to no true nor predicted samples. Use `zero_division` parameter to control this behavior.\n",
      "  _warn_prf(average, modifier, f\"{metric.capitalize()} is\", len(result))\n",
      "/scratch/user/akash.pillai.0810/.my_env/lib/python3.10/site-packages/sklearn/metrics/_classification.py:1565: UndefinedMetricWarning: Recall is ill-defined and being set to 0.0 due to no true samples. Use `zero_division` parameter to control this behavior.\n",
      "  _warn_prf(average, modifier, f\"{metric.capitalize()} is\", len(result))\n"
     ]
    },
    {
     "name": "stdout",
     "output_type": "stream",
     "text": [
      "Epoch 84: Train Loss=1.8909, Val Loss=2.3496\n",
      "Mean F1 Score: 0.8209, Mean Accuracy: 0.9261, Mean Precision: 0.8750, Mean Recall: 0.8095\n"
     ]
    },
    {
     "name": "stderr",
     "output_type": "stream",
     "text": [
      "Epoch 85 Training:   0%|          | 0/4 [00:00<?, ?it/s]/tmp/job.14646635/ipykernel_391663/1724129108.py:79: FutureWarning: Series.__getitem__ treating keys as positions is deprecated. In a future version, integer keys will always be treated as labels (consistent with DataFrame behavior). To access a value by position, use `ser.iloc[pos]`\n",
      "  'labels': torch.tensor(label, dtype=torch.float32)\n",
      "Epoch 85 Training: 100%|██████████| 4/4 [00:05<00:00,  1.45s/it, loss=1.02]\n",
      "Epoch 85 Validation: 100%|██████████| 1/1 [00:00<00:00,  2.58it/s, loss=2.33]\n",
      "/scratch/user/akash.pillai.0810/.my_env/lib/python3.10/site-packages/sklearn/metrics/_classification.py:1565: UndefinedMetricWarning: F-score is ill-defined and being set to 0.0 due to no true nor predicted samples. Use `zero_division` parameter to control this behavior.\n",
      "  _warn_prf(average, modifier, f\"{metric.capitalize()} is\", len(result))\n",
      "/scratch/user/akash.pillai.0810/.my_env/lib/python3.10/site-packages/sklearn/metrics/_classification.py:1565: UndefinedMetricWarning: Recall is ill-defined and being set to 0.0 due to no true samples. Use `zero_division` parameter to control this behavior.\n",
      "  _warn_prf(average, modifier, f\"{metric.capitalize()} is\", len(result))\n"
     ]
    },
    {
     "name": "stdout",
     "output_type": "stream",
     "text": [
      "Epoch 85: Train Loss=1.9028, Val Loss=2.3334\n",
      "Mean F1 Score: 0.8209, Mean Accuracy: 0.9261, Mean Precision: 0.8750, Mean Recall: 0.8095\n"
     ]
    },
    {
     "name": "stderr",
     "output_type": "stream",
     "text": [
      "Epoch 86 Training:   0%|          | 0/4 [00:00<?, ?it/s]/tmp/job.14646635/ipykernel_391663/1724129108.py:79: FutureWarning: Series.__getitem__ treating keys as positions is deprecated. In a future version, integer keys will always be treated as labels (consistent with DataFrame behavior). To access a value by position, use `ser.iloc[pos]`\n",
      "  'labels': torch.tensor(label, dtype=torch.float32)\n",
      "Epoch 86 Training: 100%|██████████| 4/4 [00:05<00:00,  1.45s/it, loss=0.94]\n",
      "Epoch 86 Validation: 100%|██████████| 1/1 [00:00<00:00,  2.57it/s, loss=2.34]\n",
      "/scratch/user/akash.pillai.0810/.my_env/lib/python3.10/site-packages/sklearn/metrics/_classification.py:1565: UndefinedMetricWarning: F-score is ill-defined and being set to 0.0 due to no true nor predicted samples. Use `zero_division` parameter to control this behavior.\n",
      "  _warn_prf(average, modifier, f\"{metric.capitalize()} is\", len(result))\n",
      "/scratch/user/akash.pillai.0810/.my_env/lib/python3.10/site-packages/sklearn/metrics/_classification.py:1565: UndefinedMetricWarning: Recall is ill-defined and being set to 0.0 due to no true samples. Use `zero_division` parameter to control this behavior.\n",
      "  _warn_prf(average, modifier, f\"{metric.capitalize()} is\", len(result))\n"
     ]
    },
    {
     "name": "stdout",
     "output_type": "stream",
     "text": [
      "Epoch 86: Train Loss=1.9133, Val Loss=2.3366\n",
      "Mean F1 Score: 0.8209, Mean Accuracy: 0.9261, Mean Precision: 0.8750, Mean Recall: 0.8095\n"
     ]
    },
    {
     "name": "stderr",
     "output_type": "stream",
     "text": [
      "Epoch 87 Training:   0%|          | 0/4 [00:00<?, ?it/s]/tmp/job.14646635/ipykernel_391663/1724129108.py:79: FutureWarning: Series.__getitem__ treating keys as positions is deprecated. In a future version, integer keys will always be treated as labels (consistent with DataFrame behavior). To access a value by position, use `ser.iloc[pos]`\n",
      "  'labels': torch.tensor(label, dtype=torch.float32)\n",
      "Epoch 87 Training: 100%|██████████| 4/4 [00:05<00:00,  1.45s/it, loss=1.52]\n",
      "Epoch 87 Validation: 100%|██████████| 1/1 [00:00<00:00,  2.57it/s, loss=2.34]\n",
      "/scratch/user/akash.pillai.0810/.my_env/lib/python3.10/site-packages/sklearn/metrics/_classification.py:1565: UndefinedMetricWarning: F-score is ill-defined and being set to 0.0 due to no true nor predicted samples. Use `zero_division` parameter to control this behavior.\n",
      "  _warn_prf(average, modifier, f\"{metric.capitalize()} is\", len(result))\n",
      "/scratch/user/akash.pillai.0810/.my_env/lib/python3.10/site-packages/sklearn/metrics/_classification.py:1565: UndefinedMetricWarning: Recall is ill-defined and being set to 0.0 due to no true samples. Use `zero_division` parameter to control this behavior.\n",
      "  _warn_prf(average, modifier, f\"{metric.capitalize()} is\", len(result))\n"
     ]
    },
    {
     "name": "stdout",
     "output_type": "stream",
     "text": [
      "Epoch 87: Train Loss=1.9112, Val Loss=2.3378\n",
      "Mean F1 Score: 0.8209, Mean Accuracy: 0.9261, Mean Precision: 0.8750, Mean Recall: 0.8095\n"
     ]
    },
    {
     "name": "stderr",
     "output_type": "stream",
     "text": [
      "Epoch 88 Training:   0%|          | 0/4 [00:00<?, ?it/s]/tmp/job.14646635/ipykernel_391663/1724129108.py:79: FutureWarning: Series.__getitem__ treating keys as positions is deprecated. In a future version, integer keys will always be treated as labels (consistent with DataFrame behavior). To access a value by position, use `ser.iloc[pos]`\n",
      "  'labels': torch.tensor(label, dtype=torch.float32)\n",
      "Epoch 88 Training: 100%|██████████| 4/4 [00:05<00:00,  1.45s/it, loss=0.965]\n",
      "Epoch 88 Validation: 100%|██████████| 1/1 [00:00<00:00,  2.58it/s, loss=2.33]\n",
      "/scratch/user/akash.pillai.0810/.my_env/lib/python3.10/site-packages/sklearn/metrics/_classification.py:1565: UndefinedMetricWarning: F-score is ill-defined and being set to 0.0 due to no true nor predicted samples. Use `zero_division` parameter to control this behavior.\n",
      "  _warn_prf(average, modifier, f\"{metric.capitalize()} is\", len(result))\n",
      "/scratch/user/akash.pillai.0810/.my_env/lib/python3.10/site-packages/sklearn/metrics/_classification.py:1565: UndefinedMetricWarning: Recall is ill-defined and being set to 0.0 due to no true samples. Use `zero_division` parameter to control this behavior.\n",
      "  _warn_prf(average, modifier, f\"{metric.capitalize()} is\", len(result))\n"
     ]
    },
    {
     "name": "stdout",
     "output_type": "stream",
     "text": [
      "Epoch 88: Train Loss=1.8897, Val Loss=2.3283\n",
      "Mean F1 Score: 0.8209, Mean Accuracy: 0.9261, Mean Precision: 0.8750, Mean Recall: 0.8095\n"
     ]
    },
    {
     "name": "stderr",
     "output_type": "stream",
     "text": [
      "Epoch 89 Training:   0%|          | 0/4 [00:00<?, ?it/s]/tmp/job.14646635/ipykernel_391663/1724129108.py:79: FutureWarning: Series.__getitem__ treating keys as positions is deprecated. In a future version, integer keys will always be treated as labels (consistent with DataFrame behavior). To access a value by position, use `ser.iloc[pos]`\n",
      "  'labels': torch.tensor(label, dtype=torch.float32)\n",
      "Epoch 89 Training: 100%|██████████| 4/4 [00:05<00:00,  1.45s/it, loss=1.02]\n",
      "Epoch 89 Validation: 100%|██████████| 1/1 [00:00<00:00,  2.58it/s, loss=2.33]\n",
      "/scratch/user/akash.pillai.0810/.my_env/lib/python3.10/site-packages/sklearn/metrics/_classification.py:1565: UndefinedMetricWarning: F-score is ill-defined and being set to 0.0 due to no true nor predicted samples. Use `zero_division` parameter to control this behavior.\n",
      "  _warn_prf(average, modifier, f\"{metric.capitalize()} is\", len(result))\n",
      "/scratch/user/akash.pillai.0810/.my_env/lib/python3.10/site-packages/sklearn/metrics/_classification.py:1565: UndefinedMetricWarning: Recall is ill-defined and being set to 0.0 due to no true samples. Use `zero_division` parameter to control this behavior.\n",
      "  _warn_prf(average, modifier, f\"{metric.capitalize()} is\", len(result))\n"
     ]
    },
    {
     "name": "stdout",
     "output_type": "stream",
     "text": [
      "Epoch 89: Train Loss=1.8799, Val Loss=2.3287\n",
      "Mean F1 Score: 0.8209, Mean Accuracy: 0.9261, Mean Precision: 0.8750, Mean Recall: 0.8095\n"
     ]
    },
    {
     "name": "stderr",
     "output_type": "stream",
     "text": [
      "Epoch 90 Training:   0%|          | 0/4 [00:00<?, ?it/s]/tmp/job.14646635/ipykernel_391663/1724129108.py:79: FutureWarning: Series.__getitem__ treating keys as positions is deprecated. In a future version, integer keys will always be treated as labels (consistent with DataFrame behavior). To access a value by position, use `ser.iloc[pos]`\n",
      "  'labels': torch.tensor(label, dtype=torch.float32)\n",
      "Epoch 90 Training: 100%|██████████| 4/4 [00:05<00:00,  1.45s/it, loss=2]   \n",
      "Epoch 90 Validation: 100%|██████████| 1/1 [00:00<00:00,  2.58it/s, loss=2.33]\n",
      "/scratch/user/akash.pillai.0810/.my_env/lib/python3.10/site-packages/sklearn/metrics/_classification.py:1565: UndefinedMetricWarning: F-score is ill-defined and being set to 0.0 due to no true nor predicted samples. Use `zero_division` parameter to control this behavior.\n",
      "  _warn_prf(average, modifier, f\"{metric.capitalize()} is\", len(result))\n",
      "/scratch/user/akash.pillai.0810/.my_env/lib/python3.10/site-packages/sklearn/metrics/_classification.py:1565: UndefinedMetricWarning: Recall is ill-defined and being set to 0.0 due to no true samples. Use `zero_division` parameter to control this behavior.\n",
      "  _warn_prf(average, modifier, f\"{metric.capitalize()} is\", len(result))\n"
     ]
    },
    {
     "name": "stdout",
     "output_type": "stream",
     "text": [
      "Epoch 90: Train Loss=1.8815, Val Loss=2.3289\n",
      "Mean F1 Score: 0.8209, Mean Accuracy: 0.9261, Mean Precision: 0.8750, Mean Recall: 0.8095\n"
     ]
    },
    {
     "name": "stderr",
     "output_type": "stream",
     "text": [
      "Epoch 91 Training:   0%|          | 0/4 [00:00<?, ?it/s]/tmp/job.14646635/ipykernel_391663/1724129108.py:79: FutureWarning: Series.__getitem__ treating keys as positions is deprecated. In a future version, integer keys will always be treated as labels (consistent with DataFrame behavior). To access a value by position, use `ser.iloc[pos]`\n",
      "  'labels': torch.tensor(label, dtype=torch.float32)\n",
      "Epoch 91 Training: 100%|██████████| 4/4 [00:05<00:00,  1.45s/it, loss=1.52] \n",
      "Epoch 91 Validation: 100%|██████████| 1/1 [00:00<00:00,  2.58it/s, loss=2.31]\n",
      "/scratch/user/akash.pillai.0810/.my_env/lib/python3.10/site-packages/sklearn/metrics/_classification.py:1565: UndefinedMetricWarning: F-score is ill-defined and being set to 0.0 due to no true nor predicted samples. Use `zero_division` parameter to control this behavior.\n",
      "  _warn_prf(average, modifier, f\"{metric.capitalize()} is\", len(result))\n",
      "/scratch/user/akash.pillai.0810/.my_env/lib/python3.10/site-packages/sklearn/metrics/_classification.py:1565: UndefinedMetricWarning: Recall is ill-defined and being set to 0.0 due to no true samples. Use `zero_division` parameter to control this behavior.\n",
      "  _warn_prf(average, modifier, f\"{metric.capitalize()} is\", len(result))\n"
     ]
    },
    {
     "name": "stdout",
     "output_type": "stream",
     "text": [
      "Epoch 91: Train Loss=1.8595, Val Loss=2.3109\n",
      "Mean F1 Score: 0.8209, Mean Accuracy: 0.9261, Mean Precision: 0.8750, Mean Recall: 0.8095\n"
     ]
    },
    {
     "name": "stderr",
     "output_type": "stream",
     "text": [
      "Epoch 92 Training:   0%|          | 0/4 [00:00<?, ?it/s]/tmp/job.14646635/ipykernel_391663/1724129108.py:79: FutureWarning: Series.__getitem__ treating keys as positions is deprecated. In a future version, integer keys will always be treated as labels (consistent with DataFrame behavior). To access a value by position, use `ser.iloc[pos]`\n",
      "  'labels': torch.tensor(label, dtype=torch.float32)\n",
      "Epoch 92 Training: 100%|██████████| 4/4 [00:05<00:00,  1.45s/it, loss=1.9] \n",
      "Epoch 92 Validation: 100%|██████████| 1/1 [00:00<00:00,  2.58it/s, loss=2.3]\n",
      "/scratch/user/akash.pillai.0810/.my_env/lib/python3.10/site-packages/sklearn/metrics/_classification.py:1565: UndefinedMetricWarning: F-score is ill-defined and being set to 0.0 due to no true nor predicted samples. Use `zero_division` parameter to control this behavior.\n",
      "  _warn_prf(average, modifier, f\"{metric.capitalize()} is\", len(result))\n",
      "/scratch/user/akash.pillai.0810/.my_env/lib/python3.10/site-packages/sklearn/metrics/_classification.py:1565: UndefinedMetricWarning: Recall is ill-defined and being set to 0.0 due to no true samples. Use `zero_division` parameter to control this behavior.\n",
      "  _warn_prf(average, modifier, f\"{metric.capitalize()} is\", len(result))\n"
     ]
    },
    {
     "name": "stdout",
     "output_type": "stream",
     "text": [
      "Epoch 92: Train Loss=1.8503, Val Loss=2.3049\n",
      "Mean F1 Score: 0.8360, Mean Accuracy: 0.9318, Mean Precision: 0.8750, Mean Recall: 0.8247\n",
      "New best model saved for fold 4 with F1=0.8360\n"
     ]
    },
    {
     "name": "stderr",
     "output_type": "stream",
     "text": [
      "Epoch 93 Training:   0%|          | 0/4 [00:00<?, ?it/s]/tmp/job.14646635/ipykernel_391663/1724129108.py:79: FutureWarning: Series.__getitem__ treating keys as positions is deprecated. In a future version, integer keys will always be treated as labels (consistent with DataFrame behavior). To access a value by position, use `ser.iloc[pos]`\n",
      "  'labels': torch.tensor(label, dtype=torch.float32)\n",
      "Epoch 93 Training: 100%|██████████| 4/4 [00:05<00:00,  1.45s/it, loss=1.25]\n",
      "Epoch 93 Validation: 100%|██████████| 1/1 [00:00<00:00,  2.58it/s, loss=2.31]\n",
      "/scratch/user/akash.pillai.0810/.my_env/lib/python3.10/site-packages/sklearn/metrics/_classification.py:1565: UndefinedMetricWarning: F-score is ill-defined and being set to 0.0 due to no true nor predicted samples. Use `zero_division` parameter to control this behavior.\n",
      "  _warn_prf(average, modifier, f\"{metric.capitalize()} is\", len(result))\n",
      "/scratch/user/akash.pillai.0810/.my_env/lib/python3.10/site-packages/sklearn/metrics/_classification.py:1565: UndefinedMetricWarning: Recall is ill-defined and being set to 0.0 due to no true samples. Use `zero_division` parameter to control this behavior.\n",
      "  _warn_prf(average, modifier, f\"{metric.capitalize()} is\", len(result))\n"
     ]
    },
    {
     "name": "stdout",
     "output_type": "stream",
     "text": [
      "Epoch 93: Train Loss=1.8577, Val Loss=2.3080\n",
      "Mean F1 Score: 0.8209, Mean Accuracy: 0.9261, Mean Precision: 0.8750, Mean Recall: 0.8095\n"
     ]
    },
    {
     "name": "stderr",
     "output_type": "stream",
     "text": [
      "Epoch 94 Training:   0%|          | 0/4 [00:00<?, ?it/s]/tmp/job.14646635/ipykernel_391663/1724129108.py:79: FutureWarning: Series.__getitem__ treating keys as positions is deprecated. In a future version, integer keys will always be treated as labels (consistent with DataFrame behavior). To access a value by position, use `ser.iloc[pos]`\n",
      "  'labels': torch.tensor(label, dtype=torch.float32)\n",
      "Epoch 94 Training: 100%|██████████| 4/4 [00:05<00:00,  1.45s/it, loss=1.84]\n",
      "Epoch 94 Validation: 100%|██████████| 1/1 [00:00<00:00,  2.57it/s, loss=2.31]\n",
      "/scratch/user/akash.pillai.0810/.my_env/lib/python3.10/site-packages/sklearn/metrics/_classification.py:1565: UndefinedMetricWarning: F-score is ill-defined and being set to 0.0 due to no true nor predicted samples. Use `zero_division` parameter to control this behavior.\n",
      "  _warn_prf(average, modifier, f\"{metric.capitalize()} is\", len(result))\n",
      "/scratch/user/akash.pillai.0810/.my_env/lib/python3.10/site-packages/sklearn/metrics/_classification.py:1565: UndefinedMetricWarning: Recall is ill-defined and being set to 0.0 due to no true samples. Use `zero_division` parameter to control this behavior.\n",
      "  _warn_prf(average, modifier, f\"{metric.capitalize()} is\", len(result))\n"
     ]
    },
    {
     "name": "stdout",
     "output_type": "stream",
     "text": [
      "Epoch 94: Train Loss=1.8650, Val Loss=2.3132\n",
      "Mean F1 Score: 0.8209, Mean Accuracy: 0.9261, Mean Precision: 0.8750, Mean Recall: 0.8095\n"
     ]
    },
    {
     "name": "stderr",
     "output_type": "stream",
     "text": [
      "Epoch 95 Training:   0%|          | 0/4 [00:00<?, ?it/s]/tmp/job.14646635/ipykernel_391663/1724129108.py:79: FutureWarning: Series.__getitem__ treating keys as positions is deprecated. In a future version, integer keys will always be treated as labels (consistent with DataFrame behavior). To access a value by position, use `ser.iloc[pos]`\n",
      "  'labels': torch.tensor(label, dtype=torch.float32)\n",
      "Epoch 95 Training: 100%|██████████| 4/4 [00:05<00:00,  1.45s/it, loss=1.68]\n",
      "Epoch 95 Validation: 100%|██████████| 1/1 [00:00<00:00,  2.57it/s, loss=2.31]\n",
      "/scratch/user/akash.pillai.0810/.my_env/lib/python3.10/site-packages/sklearn/metrics/_classification.py:1565: UndefinedMetricWarning: F-score is ill-defined and being set to 0.0 due to no true nor predicted samples. Use `zero_division` parameter to control this behavior.\n",
      "  _warn_prf(average, modifier, f\"{metric.capitalize()} is\", len(result))\n",
      "/scratch/user/akash.pillai.0810/.my_env/lib/python3.10/site-packages/sklearn/metrics/_classification.py:1565: UndefinedMetricWarning: Recall is ill-defined and being set to 0.0 due to no true samples. Use `zero_division` parameter to control this behavior.\n",
      "  _warn_prf(average, modifier, f\"{metric.capitalize()} is\", len(result))\n"
     ]
    },
    {
     "name": "stdout",
     "output_type": "stream",
     "text": [
      "Epoch 95: Train Loss=1.8519, Val Loss=2.3066\n",
      "Mean F1 Score: 0.8360, Mean Accuracy: 0.9318, Mean Precision: 0.8750, Mean Recall: 0.8247\n"
     ]
    },
    {
     "name": "stderr",
     "output_type": "stream",
     "text": [
      "Epoch 96 Training:   0%|          | 0/4 [00:00<?, ?it/s]/tmp/job.14646635/ipykernel_391663/1724129108.py:79: FutureWarning: Series.__getitem__ treating keys as positions is deprecated. In a future version, integer keys will always be treated as labels (consistent with DataFrame behavior). To access a value by position, use `ser.iloc[pos]`\n",
      "  'labels': torch.tensor(label, dtype=torch.float32)\n",
      "Epoch 96 Training: 100%|██████████| 4/4 [00:05<00:00,  1.45s/it, loss=1.06] \n",
      "Epoch 96 Validation: 100%|██████████| 1/1 [00:00<00:00,  2.57it/s, loss=2.31]\n",
      "/scratch/user/akash.pillai.0810/.my_env/lib/python3.10/site-packages/sklearn/metrics/_classification.py:1565: UndefinedMetricWarning: F-score is ill-defined and being set to 0.0 due to no true nor predicted samples. Use `zero_division` parameter to control this behavior.\n",
      "  _warn_prf(average, modifier, f\"{metric.capitalize()} is\", len(result))\n",
      "/scratch/user/akash.pillai.0810/.my_env/lib/python3.10/site-packages/sklearn/metrics/_classification.py:1565: UndefinedMetricWarning: Recall is ill-defined and being set to 0.0 due to no true samples. Use `zero_division` parameter to control this behavior.\n",
      "  _warn_prf(average, modifier, f\"{metric.capitalize()} is\", len(result))\n"
     ]
    },
    {
     "name": "stdout",
     "output_type": "stream",
     "text": [
      "Epoch 96: Train Loss=1.8479, Val Loss=2.3090\n",
      "Mean F1 Score: 0.8360, Mean Accuracy: 0.9318, Mean Precision: 0.8750, Mean Recall: 0.8247\n"
     ]
    },
    {
     "name": "stderr",
     "output_type": "stream",
     "text": [
      "Epoch 97 Training:   0%|          | 0/4 [00:00<?, ?it/s]/tmp/job.14646635/ipykernel_391663/1724129108.py:79: FutureWarning: Series.__getitem__ treating keys as positions is deprecated. In a future version, integer keys will always be treated as labels (consistent with DataFrame behavior). To access a value by position, use `ser.iloc[pos]`\n",
      "  'labels': torch.tensor(label, dtype=torch.float32)\n",
      "Epoch 97 Training: 100%|██████████| 4/4 [00:05<00:00,  1.45s/it, loss=2.39]\n",
      "Epoch 97 Validation: 100%|██████████| 1/1 [00:00<00:00,  2.57it/s, loss=2.28]\n",
      "/scratch/user/akash.pillai.0810/.my_env/lib/python3.10/site-packages/sklearn/metrics/_classification.py:1565: UndefinedMetricWarning: F-score is ill-defined and being set to 0.0 due to no true nor predicted samples. Use `zero_division` parameter to control this behavior.\n",
      "  _warn_prf(average, modifier, f\"{metric.capitalize()} is\", len(result))\n",
      "/scratch/user/akash.pillai.0810/.my_env/lib/python3.10/site-packages/sklearn/metrics/_classification.py:1565: UndefinedMetricWarning: Recall is ill-defined and being set to 0.0 due to no true samples. Use `zero_division` parameter to control this behavior.\n",
      "  _warn_prf(average, modifier, f\"{metric.capitalize()} is\", len(result))\n"
     ]
    },
    {
     "name": "stdout",
     "output_type": "stream",
     "text": [
      "Epoch 97: Train Loss=1.8542, Val Loss=2.2795\n",
      "Mean F1 Score: 0.8360, Mean Accuracy: 0.9318, Mean Precision: 0.8750, Mean Recall: 0.8247\n"
     ]
    },
    {
     "name": "stderr",
     "output_type": "stream",
     "text": [
      "Epoch 98 Training:   0%|          | 0/4 [00:00<?, ?it/s]/tmp/job.14646635/ipykernel_391663/1724129108.py:79: FutureWarning: Series.__getitem__ treating keys as positions is deprecated. In a future version, integer keys will always be treated as labels (consistent with DataFrame behavior). To access a value by position, use `ser.iloc[pos]`\n",
      "  'labels': torch.tensor(label, dtype=torch.float32)\n",
      "Epoch 98 Training: 100%|██████████| 4/4 [00:05<00:00,  1.45s/it, loss=2.89]\n",
      "Epoch 98 Validation: 100%|██████████| 1/1 [00:00<00:00,  2.58it/s, loss=2.28]\n",
      "/scratch/user/akash.pillai.0810/.my_env/lib/python3.10/site-packages/sklearn/metrics/_classification.py:1565: UndefinedMetricWarning: F-score is ill-defined and being set to 0.0 due to no true nor predicted samples. Use `zero_division` parameter to control this behavior.\n",
      "  _warn_prf(average, modifier, f\"{metric.capitalize()} is\", len(result))\n",
      "/scratch/user/akash.pillai.0810/.my_env/lib/python3.10/site-packages/sklearn/metrics/_classification.py:1565: UndefinedMetricWarning: Recall is ill-defined and being set to 0.0 due to no true samples. Use `zero_division` parameter to control this behavior.\n",
      "  _warn_prf(average, modifier, f\"{metric.capitalize()} is\", len(result))\n"
     ]
    },
    {
     "name": "stdout",
     "output_type": "stream",
     "text": [
      "Epoch 98: Train Loss=1.8353, Val Loss=2.2846\n",
      "Mean F1 Score: 0.8209, Mean Accuracy: 0.9261, Mean Precision: 0.8750, Mean Recall: 0.8095\n"
     ]
    },
    {
     "name": "stderr",
     "output_type": "stream",
     "text": [
      "Epoch 99 Training:   0%|          | 0/4 [00:00<?, ?it/s]/tmp/job.14646635/ipykernel_391663/1724129108.py:79: FutureWarning: Series.__getitem__ treating keys as positions is deprecated. In a future version, integer keys will always be treated as labels (consistent with DataFrame behavior). To access a value by position, use `ser.iloc[pos]`\n",
      "  'labels': torch.tensor(label, dtype=torch.float32)\n",
      "Epoch 99 Training: 100%|██████████| 4/4 [00:05<00:00,  1.45s/it, loss=1.04]\n",
      "Epoch 99 Validation: 100%|██████████| 1/1 [00:00<00:00,  2.58it/s, loss=2.29]\n",
      "/scratch/user/akash.pillai.0810/.my_env/lib/python3.10/site-packages/sklearn/metrics/_classification.py:1565: UndefinedMetricWarning: F-score is ill-defined and being set to 0.0 due to no true nor predicted samples. Use `zero_division` parameter to control this behavior.\n",
      "  _warn_prf(average, modifier, f\"{metric.capitalize()} is\", len(result))\n",
      "/scratch/user/akash.pillai.0810/.my_env/lib/python3.10/site-packages/sklearn/metrics/_classification.py:1565: UndefinedMetricWarning: Recall is ill-defined and being set to 0.0 due to no true samples. Use `zero_division` parameter to control this behavior.\n",
      "  _warn_prf(average, modifier, f\"{metric.capitalize()} is\", len(result))\n"
     ]
    },
    {
     "name": "stdout",
     "output_type": "stream",
     "text": [
      "Epoch 99: Train Loss=1.8176, Val Loss=2.2871\n",
      "Mean F1 Score: 0.8209, Mean Accuracy: 0.9261, Mean Precision: 0.8750, Mean Recall: 0.8095\n"
     ]
    },
    {
     "name": "stderr",
     "output_type": "stream",
     "text": [
      "Epoch 100 Training:   0%|          | 0/4 [00:00<?, ?it/s]/tmp/job.14646635/ipykernel_391663/1724129108.py:79: FutureWarning: Series.__getitem__ treating keys as positions is deprecated. In a future version, integer keys will always be treated as labels (consistent with DataFrame behavior). To access a value by position, use `ser.iloc[pos]`\n",
      "  'labels': torch.tensor(label, dtype=torch.float32)\n",
      "Epoch 100 Training: 100%|██████████| 4/4 [00:05<00:00,  1.45s/it, loss=1.74] \n",
      "Epoch 100 Validation: 100%|██████████| 1/1 [00:00<00:00,  2.58it/s, loss=2.29]\n",
      "/scratch/user/akash.pillai.0810/.my_env/lib/python3.10/site-packages/sklearn/metrics/_classification.py:1565: UndefinedMetricWarning: F-score is ill-defined and being set to 0.0 due to no true nor predicted samples. Use `zero_division` parameter to control this behavior.\n",
      "  _warn_prf(average, modifier, f\"{metric.capitalize()} is\", len(result))\n",
      "/scratch/user/akash.pillai.0810/.my_env/lib/python3.10/site-packages/sklearn/metrics/_classification.py:1565: UndefinedMetricWarning: Recall is ill-defined and being set to 0.0 due to no true samples. Use `zero_division` parameter to control this behavior.\n",
      "  _warn_prf(average, modifier, f\"{metric.capitalize()} is\", len(result))\n"
     ]
    },
    {
     "name": "stdout",
     "output_type": "stream",
     "text": [
      "Epoch 100: Train Loss=1.8075, Val Loss=2.2853\n",
      "Mean F1 Score: 0.8360, Mean Accuracy: 0.9318, Mean Precision: 0.8750, Mean Recall: 0.8247\n",
      "Training fold 5...\n"
     ]
    },
    {
     "name": "stderr",
     "output_type": "stream",
     "text": [
      "Epoch 1 Training:   0%|          | 0/4 [00:00<?, ?it/s]/tmp/job.14646635/ipykernel_391663/1724129108.py:79: FutureWarning: Series.__getitem__ treating keys as positions is deprecated. In a future version, integer keys will always be treated as labels (consistent with DataFrame behavior). To access a value by position, use `ser.iloc[pos]`\n",
      "  'labels': torch.tensor(label, dtype=torch.float32)\n",
      "Epoch 1 Training: 100%|██████████| 4/4 [00:05<00:00,  1.45s/it, loss=6.64]\n",
      "Epoch 1 Validation: 100%|██████████| 1/1 [00:00<00:00,  2.73it/s, loss=6.53]\n",
      "/scratch/user/akash.pillai.0810/.my_env/lib/python3.10/site-packages/sklearn/metrics/_classification.py:1565: UndefinedMetricWarning: F-score is ill-defined and being set to 0.0 due to no true nor predicted samples. Use `zero_division` parameter to control this behavior.\n",
      "  _warn_prf(average, modifier, f\"{metric.capitalize()} is\", len(result))\n",
      "/scratch/user/akash.pillai.0810/.my_env/lib/python3.10/site-packages/sklearn/metrics/_classification.py:1565: UndefinedMetricWarning: Recall is ill-defined and being set to 0.0 due to no true samples. Use `zero_division` parameter to control this behavior.\n",
      "  _warn_prf(average, modifier, f\"{metric.capitalize()} is\", len(result))\n"
     ]
    },
    {
     "name": "stdout",
     "output_type": "stream",
     "text": [
      "Epoch 1: Train Loss=7.0362, Val Loss=6.5339\n",
      "Mean F1 Score: 0.8301, Mean Accuracy: 0.8693, Mean Precision: 0.7727, Mean Recall: 0.9091\n",
      "New best model saved for fold 5 with F1=0.8301\n"
     ]
    },
    {
     "name": "stderr",
     "output_type": "stream",
     "text": [
      "Epoch 2 Training:   0%|          | 0/4 [00:00<?, ?it/s]/tmp/job.14646635/ipykernel_391663/1724129108.py:79: FutureWarning: Series.__getitem__ treating keys as positions is deprecated. In a future version, integer keys will always be treated as labels (consistent with DataFrame behavior). To access a value by position, use `ser.iloc[pos]`\n",
      "  'labels': torch.tensor(label, dtype=torch.float32)\n",
      "Epoch 2 Training: 100%|██████████| 4/4 [00:05<00:00,  1.45s/it, loss=5.92]\n",
      "Epoch 2 Validation: 100%|██████████| 1/1 [00:00<00:00,  2.73it/s, loss=5.86]\n",
      "/scratch/user/akash.pillai.0810/.my_env/lib/python3.10/site-packages/sklearn/metrics/_classification.py:1565: UndefinedMetricWarning: F-score is ill-defined and being set to 0.0 due to no true nor predicted samples. Use `zero_division` parameter to control this behavior.\n",
      "  _warn_prf(average, modifier, f\"{metric.capitalize()} is\", len(result))\n",
      "/scratch/user/akash.pillai.0810/.my_env/lib/python3.10/site-packages/sklearn/metrics/_classification.py:1565: UndefinedMetricWarning: Recall is ill-defined and being set to 0.0 due to no true samples. Use `zero_division` parameter to control this behavior.\n",
      "  _warn_prf(average, modifier, f\"{metric.capitalize()} is\", len(result))\n"
     ]
    },
    {
     "name": "stdout",
     "output_type": "stream",
     "text": [
      "Epoch 2: Train Loss=6.1895, Val Loss=5.8607\n",
      "Mean F1 Score: 0.6988, Mean Accuracy: 0.8636, Mean Precision: 0.6818, Mean Recall: 0.7403\n"
     ]
    },
    {
     "name": "stderr",
     "output_type": "stream",
     "text": [
      "Epoch 3 Training:   0%|          | 0/4 [00:00<?, ?it/s]/tmp/job.14646635/ipykernel_391663/1724129108.py:79: FutureWarning: Series.__getitem__ treating keys as positions is deprecated. In a future version, integer keys will always be treated as labels (consistent with DataFrame behavior). To access a value by position, use `ser.iloc[pos]`\n",
      "  'labels': torch.tensor(label, dtype=torch.float32)\n",
      "Epoch 3 Training: 100%|██████████| 4/4 [00:05<00:00,  1.45s/it, loss=5.49]\n",
      "Epoch 3 Validation: 100%|██████████| 1/1 [00:00<00:00,  2.72it/s, loss=5.36]\n",
      "/scratch/user/akash.pillai.0810/.my_env/lib/python3.10/site-packages/sklearn/metrics/_classification.py:1565: UndefinedMetricWarning: F-score is ill-defined and being set to 0.0 due to no true nor predicted samples. Use `zero_division` parameter to control this behavior.\n",
      "  _warn_prf(average, modifier, f\"{metric.capitalize()} is\", len(result))\n",
      "/scratch/user/akash.pillai.0810/.my_env/lib/python3.10/site-packages/sklearn/metrics/_classification.py:1565: UndefinedMetricWarning: Recall is ill-defined and being set to 0.0 due to no true samples. Use `zero_division` parameter to control this behavior.\n",
      "  _warn_prf(average, modifier, f\"{metric.capitalize()} is\", len(result))\n"
     ]
    },
    {
     "name": "stdout",
     "output_type": "stream",
     "text": [
      "Epoch 3: Train Loss=5.5912, Val Loss=5.3561\n",
      "Mean F1 Score: 0.7013, Mean Accuracy: 0.8693, Mean Precision: 0.7273, Mean Recall: 0.7403\n"
     ]
    },
    {
     "name": "stderr",
     "output_type": "stream",
     "text": [
      "Epoch 4 Training:   0%|          | 0/4 [00:00<?, ?it/s]/tmp/job.14646635/ipykernel_391663/1724129108.py:79: FutureWarning: Series.__getitem__ treating keys as positions is deprecated. In a future version, integer keys will always be treated as labels (consistent with DataFrame behavior). To access a value by position, use `ser.iloc[pos]`\n",
      "  'labels': torch.tensor(label, dtype=torch.float32)\n",
      "Epoch 4 Training: 100%|██████████| 4/4 [00:05<00:00,  1.45s/it, loss=4.92]\n",
      "Epoch 4 Validation: 100%|██████████| 1/1 [00:00<00:00,  2.73it/s, loss=4.98]\n",
      "/scratch/user/akash.pillai.0810/.my_env/lib/python3.10/site-packages/sklearn/metrics/_classification.py:1565: UndefinedMetricWarning: F-score is ill-defined and being set to 0.0 due to no true nor predicted samples. Use `zero_division` parameter to control this behavior.\n",
      "  _warn_prf(average, modifier, f\"{metric.capitalize()} is\", len(result))\n",
      "/scratch/user/akash.pillai.0810/.my_env/lib/python3.10/site-packages/sklearn/metrics/_classification.py:1565: UndefinedMetricWarning: Recall is ill-defined and being set to 0.0 due to no true samples. Use `zero_division` parameter to control this behavior.\n",
      "  _warn_prf(average, modifier, f\"{metric.capitalize()} is\", len(result))\n"
     ]
    },
    {
     "name": "stdout",
     "output_type": "stream",
     "text": [
      "Epoch 4: Train Loss=5.0535, Val Loss=4.9796\n",
      "Mean F1 Score: 0.6786, Mean Accuracy: 0.8636, Mean Precision: 0.6364, Mean Recall: 0.7273\n"
     ]
    },
    {
     "name": "stderr",
     "output_type": "stream",
     "text": [
      "Epoch 5 Training:   0%|          | 0/4 [00:00<?, ?it/s]/tmp/job.14646635/ipykernel_391663/1724129108.py:79: FutureWarning: Series.__getitem__ treating keys as positions is deprecated. In a future version, integer keys will always be treated as labels (consistent with DataFrame behavior). To access a value by position, use `ser.iloc[pos]`\n",
      "  'labels': torch.tensor(label, dtype=torch.float32)\n",
      "Epoch 5 Training: 100%|██████████| 4/4 [00:05<00:00,  1.45s/it, loss=4.4] \n",
      "Epoch 5 Validation: 100%|██████████| 1/1 [00:00<00:00,  2.72it/s, loss=4.69]\n",
      "/scratch/user/akash.pillai.0810/.my_env/lib/python3.10/site-packages/sklearn/metrics/_classification.py:1565: UndefinedMetricWarning: F-score is ill-defined and being set to 0.0 due to no true nor predicted samples. Use `zero_division` parameter to control this behavior.\n",
      "  _warn_prf(average, modifier, f\"{metric.capitalize()} is\", len(result))\n",
      "/scratch/user/akash.pillai.0810/.my_env/lib/python3.10/site-packages/sklearn/metrics/_classification.py:1565: UndefinedMetricWarning: Recall is ill-defined and being set to 0.0 due to no true samples. Use `zero_division` parameter to control this behavior.\n",
      "  _warn_prf(average, modifier, f\"{metric.capitalize()} is\", len(result))\n"
     ]
    },
    {
     "name": "stdout",
     "output_type": "stream",
     "text": [
      "Epoch 5: Train Loss=4.6321, Val Loss=4.6901\n",
      "Mean F1 Score: 0.6786, Mean Accuracy: 0.8636, Mean Precision: 0.6364, Mean Recall: 0.7273\n"
     ]
    },
    {
     "name": "stderr",
     "output_type": "stream",
     "text": [
      "Epoch 6 Training:   0%|          | 0/4 [00:00<?, ?it/s]/tmp/job.14646635/ipykernel_391663/1724129108.py:79: FutureWarning: Series.__getitem__ treating keys as positions is deprecated. In a future version, integer keys will always be treated as labels (consistent with DataFrame behavior). To access a value by position, use `ser.iloc[pos]`\n",
      "  'labels': torch.tensor(label, dtype=torch.float32)\n",
      "Epoch 6 Training: 100%|██████████| 4/4 [00:05<00:00,  1.45s/it, loss=4.29]\n",
      "Epoch 6 Validation: 100%|██████████| 1/1 [00:00<00:00,  2.72it/s, loss=4.46]\n",
      "/scratch/user/akash.pillai.0810/.my_env/lib/python3.10/site-packages/sklearn/metrics/_classification.py:1565: UndefinedMetricWarning: F-score is ill-defined and being set to 0.0 due to no true nor predicted samples. Use `zero_division` parameter to control this behavior.\n",
      "  _warn_prf(average, modifier, f\"{metric.capitalize()} is\", len(result))\n",
      "/scratch/user/akash.pillai.0810/.my_env/lib/python3.10/site-packages/sklearn/metrics/_classification.py:1565: UndefinedMetricWarning: Recall is ill-defined and being set to 0.0 due to no true samples. Use `zero_division` parameter to control this behavior.\n",
      "  _warn_prf(average, modifier, f\"{metric.capitalize()} is\", len(result))\n"
     ]
    },
    {
     "name": "stdout",
     "output_type": "stream",
     "text": [
      "Epoch 6: Train Loss=4.3114, Val Loss=4.4580\n",
      "Mean F1 Score: 0.6786, Mean Accuracy: 0.8636, Mean Precision: 0.6364, Mean Recall: 0.7273\n"
     ]
    },
    {
     "name": "stderr",
     "output_type": "stream",
     "text": [
      "Epoch 7 Training:   0%|          | 0/4 [00:00<?, ?it/s]/tmp/job.14646635/ipykernel_391663/1724129108.py:79: FutureWarning: Series.__getitem__ treating keys as positions is deprecated. In a future version, integer keys will always be treated as labels (consistent with DataFrame behavior). To access a value by position, use `ser.iloc[pos]`\n",
      "  'labels': torch.tensor(label, dtype=torch.float32)\n",
      "Epoch 7 Training: 100%|██████████| 4/4 [00:05<00:00,  1.45s/it, loss=3.8] \n",
      "Epoch 7 Validation: 100%|██████████| 1/1 [00:00<00:00,  2.72it/s, loss=4.28]\n",
      "/scratch/user/akash.pillai.0810/.my_env/lib/python3.10/site-packages/sklearn/metrics/_classification.py:1565: UndefinedMetricWarning: F-score is ill-defined and being set to 0.0 due to no true nor predicted samples. Use `zero_division` parameter to control this behavior.\n",
      "  _warn_prf(average, modifier, f\"{metric.capitalize()} is\", len(result))\n",
      "/scratch/user/akash.pillai.0810/.my_env/lib/python3.10/site-packages/sklearn/metrics/_classification.py:1565: UndefinedMetricWarning: Recall is ill-defined and being set to 0.0 due to no true samples. Use `zero_division` parameter to control this behavior.\n",
      "  _warn_prf(average, modifier, f\"{metric.capitalize()} is\", len(result))\n"
     ]
    },
    {
     "name": "stdout",
     "output_type": "stream",
     "text": [
      "Epoch 7: Train Loss=4.0339, Val Loss=4.2790\n",
      "Mean F1 Score: 0.6786, Mean Accuracy: 0.8636, Mean Precision: 0.6364, Mean Recall: 0.7273\n"
     ]
    },
    {
     "name": "stderr",
     "output_type": "stream",
     "text": [
      "Epoch 8 Training:   0%|          | 0/4 [00:00<?, ?it/s]/tmp/job.14646635/ipykernel_391663/1724129108.py:79: FutureWarning: Series.__getitem__ treating keys as positions is deprecated. In a future version, integer keys will always be treated as labels (consistent with DataFrame behavior). To access a value by position, use `ser.iloc[pos]`\n",
      "  'labels': torch.tensor(label, dtype=torch.float32)\n",
      "Epoch 8 Training: 100%|██████████| 4/4 [00:05<00:00,  1.45s/it, loss=3.77]\n",
      "Epoch 8 Validation: 100%|██████████| 1/1 [00:00<00:00,  2.73it/s, loss=4.14]\n",
      "/scratch/user/akash.pillai.0810/.my_env/lib/python3.10/site-packages/sklearn/metrics/_classification.py:1565: UndefinedMetricWarning: F-score is ill-defined and being set to 0.0 due to no true nor predicted samples. Use `zero_division` parameter to control this behavior.\n",
      "  _warn_prf(average, modifier, f\"{metric.capitalize()} is\", len(result))\n",
      "/scratch/user/akash.pillai.0810/.my_env/lib/python3.10/site-packages/sklearn/metrics/_classification.py:1565: UndefinedMetricWarning: Recall is ill-defined and being set to 0.0 due to no true samples. Use `zero_division` parameter to control this behavior.\n",
      "  _warn_prf(average, modifier, f\"{metric.capitalize()} is\", len(result))\n"
     ]
    },
    {
     "name": "stdout",
     "output_type": "stream",
     "text": [
      "Epoch 8: Train Loss=3.8022, Val Loss=4.1351\n",
      "Mean F1 Score: 0.6786, Mean Accuracy: 0.8636, Mean Precision: 0.6364, Mean Recall: 0.7273\n"
     ]
    },
    {
     "name": "stderr",
     "output_type": "stream",
     "text": [
      "Epoch 9 Training:   0%|          | 0/4 [00:00<?, ?it/s]/tmp/job.14646635/ipykernel_391663/1724129108.py:79: FutureWarning: Series.__getitem__ treating keys as positions is deprecated. In a future version, integer keys will always be treated as labels (consistent with DataFrame behavior). To access a value by position, use `ser.iloc[pos]`\n",
      "  'labels': torch.tensor(label, dtype=torch.float32)\n",
      "Epoch 9 Training: 100%|██████████| 4/4 [00:05<00:00,  1.45s/it, loss=3.17]\n",
      "Epoch 9 Validation: 100%|██████████| 1/1 [00:00<00:00,  2.72it/s, loss=4.02]\n",
      "/scratch/user/akash.pillai.0810/.my_env/lib/python3.10/site-packages/sklearn/metrics/_classification.py:1565: UndefinedMetricWarning: F-score is ill-defined and being set to 0.0 due to no true nor predicted samples. Use `zero_division` parameter to control this behavior.\n",
      "  _warn_prf(average, modifier, f\"{metric.capitalize()} is\", len(result))\n",
      "/scratch/user/akash.pillai.0810/.my_env/lib/python3.10/site-packages/sklearn/metrics/_classification.py:1565: UndefinedMetricWarning: Recall is ill-defined and being set to 0.0 due to no true samples. Use `zero_division` parameter to control this behavior.\n",
      "  _warn_prf(average, modifier, f\"{metric.capitalize()} is\", len(result))\n"
     ]
    },
    {
     "name": "stdout",
     "output_type": "stream",
     "text": [
      "Epoch 9: Train Loss=3.6053, Val Loss=4.0188\n",
      "Mean F1 Score: 0.7013, Mean Accuracy: 0.8693, Mean Precision: 0.7273, Mean Recall: 0.7403\n"
     ]
    },
    {
     "name": "stderr",
     "output_type": "stream",
     "text": [
      "Epoch 10 Training:   0%|          | 0/4 [00:00<?, ?it/s]/tmp/job.14646635/ipykernel_391663/1724129108.py:79: FutureWarning: Series.__getitem__ treating keys as positions is deprecated. In a future version, integer keys will always be treated as labels (consistent with DataFrame behavior). To access a value by position, use `ser.iloc[pos]`\n",
      "  'labels': torch.tensor(label, dtype=torch.float32)\n",
      "Epoch 10 Training: 100%|██████████| 4/4 [00:05<00:00,  1.45s/it, loss=3.19]\n",
      "Epoch 10 Validation: 100%|██████████| 1/1 [00:00<00:00,  2.72it/s, loss=3.93]\n",
      "/scratch/user/akash.pillai.0810/.my_env/lib/python3.10/site-packages/sklearn/metrics/_classification.py:1565: UndefinedMetricWarning: F-score is ill-defined and being set to 0.0 due to no true nor predicted samples. Use `zero_division` parameter to control this behavior.\n",
      "  _warn_prf(average, modifier, f\"{metric.capitalize()} is\", len(result))\n",
      "/scratch/user/akash.pillai.0810/.my_env/lib/python3.10/site-packages/sklearn/metrics/_classification.py:1565: UndefinedMetricWarning: Recall is ill-defined and being set to 0.0 due to no true samples. Use `zero_division` parameter to control this behavior.\n",
      "  _warn_prf(average, modifier, f\"{metric.capitalize()} is\", len(result))\n"
     ]
    },
    {
     "name": "stdout",
     "output_type": "stream",
     "text": [
      "Epoch 10: Train Loss=3.4445, Val Loss=3.9262\n",
      "Mean F1 Score: 0.7013, Mean Accuracy: 0.8693, Mean Precision: 0.7273, Mean Recall: 0.7403\n"
     ]
    },
    {
     "name": "stderr",
     "output_type": "stream",
     "text": [
      "Epoch 11 Training:   0%|          | 0/4 [00:00<?, ?it/s]/tmp/job.14646635/ipykernel_391663/1724129108.py:79: FutureWarning: Series.__getitem__ treating keys as positions is deprecated. In a future version, integer keys will always be treated as labels (consistent with DataFrame behavior). To access a value by position, use `ser.iloc[pos]`\n",
      "  'labels': torch.tensor(label, dtype=torch.float32)\n",
      "Epoch 11 Training: 100%|██████████| 4/4 [00:05<00:00,  1.45s/it, loss=3.09]\n",
      "Epoch 11 Validation: 100%|██████████| 1/1 [00:00<00:00,  2.73it/s, loss=3.85]\n",
      "/scratch/user/akash.pillai.0810/.my_env/lib/python3.10/site-packages/sklearn/metrics/_classification.py:1565: UndefinedMetricWarning: F-score is ill-defined and being set to 0.0 due to no true nor predicted samples. Use `zero_division` parameter to control this behavior.\n",
      "  _warn_prf(average, modifier, f\"{metric.capitalize()} is\", len(result))\n",
      "/scratch/user/akash.pillai.0810/.my_env/lib/python3.10/site-packages/sklearn/metrics/_classification.py:1565: UndefinedMetricWarning: Recall is ill-defined and being set to 0.0 due to no true samples. Use `zero_division` parameter to control this behavior.\n",
      "  _warn_prf(average, modifier, f\"{metric.capitalize()} is\", len(result))\n"
     ]
    },
    {
     "name": "stdout",
     "output_type": "stream",
     "text": [
      "Epoch 11: Train Loss=3.3097, Val Loss=3.8497\n",
      "Mean F1 Score: 0.7013, Mean Accuracy: 0.8693, Mean Precision: 0.7273, Mean Recall: 0.7403\n"
     ]
    },
    {
     "name": "stderr",
     "output_type": "stream",
     "text": [
      "Epoch 12 Training:   0%|          | 0/4 [00:00<?, ?it/s]/tmp/job.14646635/ipykernel_391663/1724129108.py:79: FutureWarning: Series.__getitem__ treating keys as positions is deprecated. In a future version, integer keys will always be treated as labels (consistent with DataFrame behavior). To access a value by position, use `ser.iloc[pos]`\n",
      "  'labels': torch.tensor(label, dtype=torch.float32)\n",
      "Epoch 12 Training: 100%|██████████| 4/4 [00:05<00:00,  1.45s/it, loss=3.33]\n",
      "Epoch 12 Validation: 100%|██████████| 1/1 [00:00<00:00,  2.72it/s, loss=3.78]\n",
      "/scratch/user/akash.pillai.0810/.my_env/lib/python3.10/site-packages/sklearn/metrics/_classification.py:1565: UndefinedMetricWarning: F-score is ill-defined and being set to 0.0 due to no true nor predicted samples. Use `zero_division` parameter to control this behavior.\n",
      "  _warn_prf(average, modifier, f\"{metric.capitalize()} is\", len(result))\n",
      "/scratch/user/akash.pillai.0810/.my_env/lib/python3.10/site-packages/sklearn/metrics/_classification.py:1565: UndefinedMetricWarning: Recall is ill-defined and being set to 0.0 due to no true samples. Use `zero_division` parameter to control this behavior.\n",
      "  _warn_prf(average, modifier, f\"{metric.capitalize()} is\", len(result))\n"
     ]
    },
    {
     "name": "stdout",
     "output_type": "stream",
     "text": [
      "Epoch 12: Train Loss=3.1900, Val Loss=3.7838\n",
      "Mean F1 Score: 0.7013, Mean Accuracy: 0.8693, Mean Precision: 0.7273, Mean Recall: 0.7403\n"
     ]
    },
    {
     "name": "stderr",
     "output_type": "stream",
     "text": [
      "Epoch 13 Training:   0%|          | 0/4 [00:00<?, ?it/s]/tmp/job.14646635/ipykernel_391663/1724129108.py:79: FutureWarning: Series.__getitem__ treating keys as positions is deprecated. In a future version, integer keys will always be treated as labels (consistent with DataFrame behavior). To access a value by position, use `ser.iloc[pos]`\n",
      "  'labels': torch.tensor(label, dtype=torch.float32)\n",
      "Epoch 13 Training: 100%|██████████| 4/4 [00:05<00:00,  1.45s/it, loss=3.79]\n",
      "Epoch 13 Validation: 100%|██████████| 1/1 [00:00<00:00,  2.72it/s, loss=3.73]\n",
      "/scratch/user/akash.pillai.0810/.my_env/lib/python3.10/site-packages/sklearn/metrics/_classification.py:1565: UndefinedMetricWarning: F-score is ill-defined and being set to 0.0 due to no true nor predicted samples. Use `zero_division` parameter to control this behavior.\n",
      "  _warn_prf(average, modifier, f\"{metric.capitalize()} is\", len(result))\n",
      "/scratch/user/akash.pillai.0810/.my_env/lib/python3.10/site-packages/sklearn/metrics/_classification.py:1565: UndefinedMetricWarning: Recall is ill-defined and being set to 0.0 due to no true samples. Use `zero_division` parameter to control this behavior.\n",
      "  _warn_prf(average, modifier, f\"{metric.capitalize()} is\", len(result))\n"
     ]
    },
    {
     "name": "stdout",
     "output_type": "stream",
     "text": [
      "Epoch 13: Train Loss=3.0694, Val Loss=3.7261\n",
      "Mean F1 Score: 0.7013, Mean Accuracy: 0.8693, Mean Precision: 0.7273, Mean Recall: 0.7403\n"
     ]
    },
    {
     "name": "stderr",
     "output_type": "stream",
     "text": [
      "Epoch 14 Training:   0%|          | 0/4 [00:00<?, ?it/s]/tmp/job.14646635/ipykernel_391663/1724129108.py:79: FutureWarning: Series.__getitem__ treating keys as positions is deprecated. In a future version, integer keys will always be treated as labels (consistent with DataFrame behavior). To access a value by position, use `ser.iloc[pos]`\n",
      "  'labels': torch.tensor(label, dtype=torch.float32)\n",
      "Epoch 14 Training: 100%|██████████| 4/4 [00:05<00:00,  1.45s/it, loss=3.28]\n",
      "Epoch 14 Validation: 100%|██████████| 1/1 [00:00<00:00,  2.73it/s, loss=3.68]\n",
      "/scratch/user/akash.pillai.0810/.my_env/lib/python3.10/site-packages/sklearn/metrics/_classification.py:1565: UndefinedMetricWarning: F-score is ill-defined and being set to 0.0 due to no true nor predicted samples. Use `zero_division` parameter to control this behavior.\n",
      "  _warn_prf(average, modifier, f\"{metric.capitalize()} is\", len(result))\n",
      "/scratch/user/akash.pillai.0810/.my_env/lib/python3.10/site-packages/sklearn/metrics/_classification.py:1565: UndefinedMetricWarning: Recall is ill-defined and being set to 0.0 due to no true samples. Use `zero_division` parameter to control this behavior.\n",
      "  _warn_prf(average, modifier, f\"{metric.capitalize()} is\", len(result))\n"
     ]
    },
    {
     "name": "stdout",
     "output_type": "stream",
     "text": [
      "Epoch 14: Train Loss=2.9769, Val Loss=3.6796\n",
      "Mean F1 Score: 0.7013, Mean Accuracy: 0.8693, Mean Precision: 0.7273, Mean Recall: 0.7403\n"
     ]
    },
    {
     "name": "stderr",
     "output_type": "stream",
     "text": [
      "Epoch 15 Training:   0%|          | 0/4 [00:00<?, ?it/s]/tmp/job.14646635/ipykernel_391663/1724129108.py:79: FutureWarning: Series.__getitem__ treating keys as positions is deprecated. In a future version, integer keys will always be treated as labels (consistent with DataFrame behavior). To access a value by position, use `ser.iloc[pos]`\n",
      "  'labels': torch.tensor(label, dtype=torch.float32)\n",
      "Epoch 15 Training: 100%|██████████| 4/4 [00:05<00:00,  1.45s/it, loss=3.48]\n",
      "Epoch 15 Validation: 100%|██████████| 1/1 [00:00<00:00,  2.73it/s, loss=3.64]\n",
      "/scratch/user/akash.pillai.0810/.my_env/lib/python3.10/site-packages/sklearn/metrics/_classification.py:1565: UndefinedMetricWarning: F-score is ill-defined and being set to 0.0 due to no true nor predicted samples. Use `zero_division` parameter to control this behavior.\n",
      "  _warn_prf(average, modifier, f\"{metric.capitalize()} is\", len(result))\n",
      "/scratch/user/akash.pillai.0810/.my_env/lib/python3.10/site-packages/sklearn/metrics/_classification.py:1565: UndefinedMetricWarning: Recall is ill-defined and being set to 0.0 due to no true samples. Use `zero_division` parameter to control this behavior.\n",
      "  _warn_prf(average, modifier, f\"{metric.capitalize()} is\", len(result))\n"
     ]
    },
    {
     "name": "stdout",
     "output_type": "stream",
     "text": [
      "Epoch 15: Train Loss=2.9286, Val Loss=3.6415\n",
      "Mean F1 Score: 0.7013, Mean Accuracy: 0.8693, Mean Precision: 0.7273, Mean Recall: 0.7403\n"
     ]
    },
    {
     "name": "stderr",
     "output_type": "stream",
     "text": [
      "Epoch 16 Training:   0%|          | 0/4 [00:00<?, ?it/s]/tmp/job.14646635/ipykernel_391663/1724129108.py:79: FutureWarning: Series.__getitem__ treating keys as positions is deprecated. In a future version, integer keys will always be treated as labels (consistent with DataFrame behavior). To access a value by position, use `ser.iloc[pos]`\n",
      "  'labels': torch.tensor(label, dtype=torch.float32)\n",
      "Epoch 16 Training: 100%|██████████| 4/4 [00:05<00:00,  1.45s/it, loss=2.28]\n",
      "Epoch 16 Validation: 100%|██████████| 1/1 [00:00<00:00,  2.72it/s, loss=3.61]\n",
      "/scratch/user/akash.pillai.0810/.my_env/lib/python3.10/site-packages/sklearn/metrics/_classification.py:1565: UndefinedMetricWarning: F-score is ill-defined and being set to 0.0 due to no true nor predicted samples. Use `zero_division` parameter to control this behavior.\n",
      "  _warn_prf(average, modifier, f\"{metric.capitalize()} is\", len(result))\n",
      "/scratch/user/akash.pillai.0810/.my_env/lib/python3.10/site-packages/sklearn/metrics/_classification.py:1565: UndefinedMetricWarning: Recall is ill-defined and being set to 0.0 due to no true samples. Use `zero_division` parameter to control this behavior.\n",
      "  _warn_prf(average, modifier, f\"{metric.capitalize()} is\", len(result))\n"
     ]
    },
    {
     "name": "stdout",
     "output_type": "stream",
     "text": [
      "Epoch 16: Train Loss=2.8247, Val Loss=3.6074\n",
      "Mean F1 Score: 0.7013, Mean Accuracy: 0.8693, Mean Precision: 0.7273, Mean Recall: 0.7403\n"
     ]
    },
    {
     "name": "stderr",
     "output_type": "stream",
     "text": [
      "Epoch 17 Training:   0%|          | 0/4 [00:00<?, ?it/s]/tmp/job.14646635/ipykernel_391663/1724129108.py:79: FutureWarning: Series.__getitem__ treating keys as positions is deprecated. In a future version, integer keys will always be treated as labels (consistent with DataFrame behavior). To access a value by position, use `ser.iloc[pos]`\n",
      "  'labels': torch.tensor(label, dtype=torch.float32)\n",
      "Epoch 17 Training: 100%|██████████| 4/4 [00:05<00:00,  1.45s/it, loss=2.93]\n",
      "Epoch 17 Validation: 100%|██████████| 1/1 [00:00<00:00,  2.73it/s, loss=3.58]\n",
      "/scratch/user/akash.pillai.0810/.my_env/lib/python3.10/site-packages/sklearn/metrics/_classification.py:1565: UndefinedMetricWarning: F-score is ill-defined and being set to 0.0 due to no true nor predicted samples. Use `zero_division` parameter to control this behavior.\n",
      "  _warn_prf(average, modifier, f\"{metric.capitalize()} is\", len(result))\n",
      "/scratch/user/akash.pillai.0810/.my_env/lib/python3.10/site-packages/sklearn/metrics/_classification.py:1565: UndefinedMetricWarning: Recall is ill-defined and being set to 0.0 due to no true samples. Use `zero_division` parameter to control this behavior.\n",
      "  _warn_prf(average, modifier, f\"{metric.capitalize()} is\", len(result))\n"
     ]
    },
    {
     "name": "stdout",
     "output_type": "stream",
     "text": [
      "Epoch 17: Train Loss=2.7431, Val Loss=3.5775\n",
      "Mean F1 Score: 0.7013, Mean Accuracy: 0.8693, Mean Precision: 0.7273, Mean Recall: 0.7403\n"
     ]
    },
    {
     "name": "stderr",
     "output_type": "stream",
     "text": [
      "Epoch 18 Training:   0%|          | 0/4 [00:00<?, ?it/s]/tmp/job.14646635/ipykernel_391663/1724129108.py:79: FutureWarning: Series.__getitem__ treating keys as positions is deprecated. In a future version, integer keys will always be treated as labels (consistent with DataFrame behavior). To access a value by position, use `ser.iloc[pos]`\n",
      "  'labels': torch.tensor(label, dtype=torch.float32)\n",
      "Epoch 18 Training: 100%|██████████| 4/4 [00:05<00:00,  1.45s/it, loss=2.96]\n",
      "Epoch 18 Validation: 100%|██████████| 1/1 [00:00<00:00,  2.73it/s, loss=3.56]\n",
      "/scratch/user/akash.pillai.0810/.my_env/lib/python3.10/site-packages/sklearn/metrics/_classification.py:1565: UndefinedMetricWarning: F-score is ill-defined and being set to 0.0 due to no true nor predicted samples. Use `zero_division` parameter to control this behavior.\n",
      "  _warn_prf(average, modifier, f\"{metric.capitalize()} is\", len(result))\n",
      "/scratch/user/akash.pillai.0810/.my_env/lib/python3.10/site-packages/sklearn/metrics/_classification.py:1565: UndefinedMetricWarning: Recall is ill-defined and being set to 0.0 due to no true samples. Use `zero_division` parameter to control this behavior.\n",
      "  _warn_prf(average, modifier, f\"{metric.capitalize()} is\", len(result))\n"
     ]
    },
    {
     "name": "stdout",
     "output_type": "stream",
     "text": [
      "Epoch 18: Train Loss=2.6747, Val Loss=3.5569\n",
      "Mean F1 Score: 0.7013, Mean Accuracy: 0.8693, Mean Precision: 0.7273, Mean Recall: 0.7403\n"
     ]
    },
    {
     "name": "stderr",
     "output_type": "stream",
     "text": [
      "Epoch 19 Training:   0%|          | 0/4 [00:00<?, ?it/s]/tmp/job.14646635/ipykernel_391663/1724129108.py:79: FutureWarning: Series.__getitem__ treating keys as positions is deprecated. In a future version, integer keys will always be treated as labels (consistent with DataFrame behavior). To access a value by position, use `ser.iloc[pos]`\n",
      "  'labels': torch.tensor(label, dtype=torch.float32)\n",
      "Epoch 19 Training: 100%|██████████| 4/4 [00:05<00:00,  1.45s/it, loss=3.41]\n",
      "Epoch 19 Validation: 100%|██████████| 1/1 [00:00<00:00,  2.73it/s, loss=3.54]\n",
      "/scratch/user/akash.pillai.0810/.my_env/lib/python3.10/site-packages/sklearn/metrics/_classification.py:1565: UndefinedMetricWarning: F-score is ill-defined and being set to 0.0 due to no true nor predicted samples. Use `zero_division` parameter to control this behavior.\n",
      "  _warn_prf(average, modifier, f\"{metric.capitalize()} is\", len(result))\n",
      "/scratch/user/akash.pillai.0810/.my_env/lib/python3.10/site-packages/sklearn/metrics/_classification.py:1565: UndefinedMetricWarning: Recall is ill-defined and being set to 0.0 due to no true samples. Use `zero_division` parameter to control this behavior.\n",
      "  _warn_prf(average, modifier, f\"{metric.capitalize()} is\", len(result))\n"
     ]
    },
    {
     "name": "stdout",
     "output_type": "stream",
     "text": [
      "Epoch 19: Train Loss=2.6425, Val Loss=3.5376\n",
      "Mean F1 Score: 0.7922, Mean Accuracy: 0.8750, Mean Precision: 0.8182, Mean Recall: 0.8312\n"
     ]
    },
    {
     "name": "stderr",
     "output_type": "stream",
     "text": [
      "Epoch 20 Training:   0%|          | 0/4 [00:00<?, ?it/s]/tmp/job.14646635/ipykernel_391663/1724129108.py:79: FutureWarning: Series.__getitem__ treating keys as positions is deprecated. In a future version, integer keys will always be treated as labels (consistent with DataFrame behavior). To access a value by position, use `ser.iloc[pos]`\n",
      "  'labels': torch.tensor(label, dtype=torch.float32)\n",
      "Epoch 20 Training: 100%|██████████| 4/4 [00:05<00:00,  1.45s/it, loss=2.81]\n",
      "Epoch 20 Validation: 100%|██████████| 1/1 [00:00<00:00,  2.73it/s, loss=3.52]\n",
      "/scratch/user/akash.pillai.0810/.my_env/lib/python3.10/site-packages/sklearn/metrics/_classification.py:1565: UndefinedMetricWarning: F-score is ill-defined and being set to 0.0 due to no true nor predicted samples. Use `zero_division` parameter to control this behavior.\n",
      "  _warn_prf(average, modifier, f\"{metric.capitalize()} is\", len(result))\n",
      "/scratch/user/akash.pillai.0810/.my_env/lib/python3.10/site-packages/sklearn/metrics/_classification.py:1565: UndefinedMetricWarning: Recall is ill-defined and being set to 0.0 due to no true samples. Use `zero_division` parameter to control this behavior.\n",
      "  _warn_prf(average, modifier, f\"{metric.capitalize()} is\", len(result))\n"
     ]
    },
    {
     "name": "stdout",
     "output_type": "stream",
     "text": [
      "Epoch 20: Train Loss=2.5787, Val Loss=3.5206\n",
      "Mean F1 Score: 0.7922, Mean Accuracy: 0.8750, Mean Precision: 0.8182, Mean Recall: 0.8312\n"
     ]
    },
    {
     "name": "stderr",
     "output_type": "stream",
     "text": [
      "Epoch 21 Training:   0%|          | 0/4 [00:00<?, ?it/s]/tmp/job.14646635/ipykernel_391663/1724129108.py:79: FutureWarning: Series.__getitem__ treating keys as positions is deprecated. In a future version, integer keys will always be treated as labels (consistent with DataFrame behavior). To access a value by position, use `ser.iloc[pos]`\n",
      "  'labels': torch.tensor(label, dtype=torch.float32)\n",
      "Epoch 21 Training: 100%|██████████| 4/4 [00:05<00:00,  1.45s/it, loss=2]   \n",
      "Epoch 21 Validation: 100%|██████████| 1/1 [00:00<00:00,  2.73it/s, loss=3.51]\n",
      "/scratch/user/akash.pillai.0810/.my_env/lib/python3.10/site-packages/sklearn/metrics/_classification.py:1565: UndefinedMetricWarning: F-score is ill-defined and being set to 0.0 due to no true nor predicted samples. Use `zero_division` parameter to control this behavior.\n",
      "  _warn_prf(average, modifier, f\"{metric.capitalize()} is\", len(result))\n",
      "/scratch/user/akash.pillai.0810/.my_env/lib/python3.10/site-packages/sklearn/metrics/_classification.py:1565: UndefinedMetricWarning: Recall is ill-defined and being set to 0.0 due to no true samples. Use `zero_division` parameter to control this behavior.\n",
      "  _warn_prf(average, modifier, f\"{metric.capitalize()} is\", len(result))\n"
     ]
    },
    {
     "name": "stdout",
     "output_type": "stream",
     "text": [
      "Epoch 21: Train Loss=2.5291, Val Loss=3.5067\n",
      "Mean F1 Score: 0.7922, Mean Accuracy: 0.8750, Mean Precision: 0.8182, Mean Recall: 0.8312\n"
     ]
    },
    {
     "name": "stderr",
     "output_type": "stream",
     "text": [
      "Epoch 22 Training:   0%|          | 0/4 [00:00<?, ?it/s]/tmp/job.14646635/ipykernel_391663/1724129108.py:79: FutureWarning: Series.__getitem__ treating keys as positions is deprecated. In a future version, integer keys will always be treated as labels (consistent with DataFrame behavior). To access a value by position, use `ser.iloc[pos]`\n",
      "  'labels': torch.tensor(label, dtype=torch.float32)\n",
      "Epoch 22 Training: 100%|██████████| 4/4 [00:05<00:00,  1.45s/it, loss=2.18]\n",
      "Epoch 22 Validation: 100%|██████████| 1/1 [00:00<00:00,  2.73it/s, loss=3.49]\n",
      "/scratch/user/akash.pillai.0810/.my_env/lib/python3.10/site-packages/sklearn/metrics/_classification.py:1565: UndefinedMetricWarning: F-score is ill-defined and being set to 0.0 due to no true nor predicted samples. Use `zero_division` parameter to control this behavior.\n",
      "  _warn_prf(average, modifier, f\"{metric.capitalize()} is\", len(result))\n",
      "/scratch/user/akash.pillai.0810/.my_env/lib/python3.10/site-packages/sklearn/metrics/_classification.py:1565: UndefinedMetricWarning: Recall is ill-defined and being set to 0.0 due to no true samples. Use `zero_division` parameter to control this behavior.\n",
      "  _warn_prf(average, modifier, f\"{metric.capitalize()} is\", len(result))\n"
     ]
    },
    {
     "name": "stdout",
     "output_type": "stream",
     "text": [
      "Epoch 22: Train Loss=2.5014, Val Loss=3.4940\n",
      "Mean F1 Score: 0.7922, Mean Accuracy: 0.8750, Mean Precision: 0.8182, Mean Recall: 0.8312\n"
     ]
    },
    {
     "name": "stderr",
     "output_type": "stream",
     "text": [
      "Epoch 23 Training:   0%|          | 0/4 [00:00<?, ?it/s]/tmp/job.14646635/ipykernel_391663/1724129108.py:79: FutureWarning: Series.__getitem__ treating keys as positions is deprecated. In a future version, integer keys will always be treated as labels (consistent with DataFrame behavior). To access a value by position, use `ser.iloc[pos]`\n",
      "  'labels': torch.tensor(label, dtype=torch.float32)\n",
      "Epoch 23 Training: 100%|██████████| 4/4 [00:05<00:00,  1.45s/it, loss=3.04]\n",
      "Epoch 23 Validation: 100%|██████████| 1/1 [00:00<00:00,  2.73it/s, loss=3.49]\n",
      "/scratch/user/akash.pillai.0810/.my_env/lib/python3.10/site-packages/sklearn/metrics/_classification.py:1565: UndefinedMetricWarning: F-score is ill-defined and being set to 0.0 due to no true nor predicted samples. Use `zero_division` parameter to control this behavior.\n",
      "  _warn_prf(average, modifier, f\"{metric.capitalize()} is\", len(result))\n",
      "/scratch/user/akash.pillai.0810/.my_env/lib/python3.10/site-packages/sklearn/metrics/_classification.py:1565: UndefinedMetricWarning: Recall is ill-defined and being set to 0.0 due to no true samples. Use `zero_division` parameter to control this behavior.\n",
      "  _warn_prf(average, modifier, f\"{metric.capitalize()} is\", len(result))\n"
     ]
    },
    {
     "name": "stdout",
     "output_type": "stream",
     "text": [
      "Epoch 23: Train Loss=2.4415, Val Loss=3.4882\n",
      "Mean F1 Score: 0.8099, Mean Accuracy: 0.8807, Mean Precision: 0.8182, Mean Recall: 0.8442\n"
     ]
    },
    {
     "name": "stderr",
     "output_type": "stream",
     "text": [
      "Epoch 24 Training:   0%|          | 0/4 [00:00<?, ?it/s]/tmp/job.14646635/ipykernel_391663/1724129108.py:79: FutureWarning: Series.__getitem__ treating keys as positions is deprecated. In a future version, integer keys will always be treated as labels (consistent with DataFrame behavior). To access a value by position, use `ser.iloc[pos]`\n",
      "  'labels': torch.tensor(label, dtype=torch.float32)\n",
      "Epoch 24 Training: 100%|██████████| 4/4 [00:05<00:00,  1.45s/it, loss=2.6] \n",
      "Epoch 24 Validation: 100%|██████████| 1/1 [00:00<00:00,  2.72it/s, loss=3.48]\n",
      "/scratch/user/akash.pillai.0810/.my_env/lib/python3.10/site-packages/sklearn/metrics/_classification.py:1565: UndefinedMetricWarning: F-score is ill-defined and being set to 0.0 due to no true nor predicted samples. Use `zero_division` parameter to control this behavior.\n",
      "  _warn_prf(average, modifier, f\"{metric.capitalize()} is\", len(result))\n",
      "/scratch/user/akash.pillai.0810/.my_env/lib/python3.10/site-packages/sklearn/metrics/_classification.py:1565: UndefinedMetricWarning: Recall is ill-defined and being set to 0.0 due to no true samples. Use `zero_division` parameter to control this behavior.\n",
      "  _warn_prf(average, modifier, f\"{metric.capitalize()} is\", len(result))\n"
     ]
    },
    {
     "name": "stdout",
     "output_type": "stream",
     "text": [
      "Epoch 24: Train Loss=2.4157, Val Loss=3.4787\n",
      "Mean F1 Score: 0.7922, Mean Accuracy: 0.8750, Mean Precision: 0.8182, Mean Recall: 0.8312\n"
     ]
    },
    {
     "name": "stderr",
     "output_type": "stream",
     "text": [
      "Epoch 25 Training:   0%|          | 0/4 [00:00<?, ?it/s]/tmp/job.14646635/ipykernel_391663/1724129108.py:79: FutureWarning: Series.__getitem__ treating keys as positions is deprecated. In a future version, integer keys will always be treated as labels (consistent with DataFrame behavior). To access a value by position, use `ser.iloc[pos]`\n",
      "  'labels': torch.tensor(label, dtype=torch.float32)\n",
      "Epoch 25 Training: 100%|██████████| 4/4 [00:05<00:00,  1.45s/it, loss=2.38]\n",
      "Epoch 25 Validation: 100%|██████████| 1/1 [00:00<00:00,  2.73it/s, loss=3.47]\n",
      "/scratch/user/akash.pillai.0810/.my_env/lib/python3.10/site-packages/sklearn/metrics/_classification.py:1565: UndefinedMetricWarning: F-score is ill-defined and being set to 0.0 due to no true nor predicted samples. Use `zero_division` parameter to control this behavior.\n",
      "  _warn_prf(average, modifier, f\"{metric.capitalize()} is\", len(result))\n",
      "/scratch/user/akash.pillai.0810/.my_env/lib/python3.10/site-packages/sklearn/metrics/_classification.py:1565: UndefinedMetricWarning: Recall is ill-defined and being set to 0.0 due to no true samples. Use `zero_division` parameter to control this behavior.\n",
      "  _warn_prf(average, modifier, f\"{metric.capitalize()} is\", len(result))\n"
     ]
    },
    {
     "name": "stdout",
     "output_type": "stream",
     "text": [
      "Epoch 25: Train Loss=2.3537, Val Loss=3.4722\n",
      "Mean F1 Score: 0.7922, Mean Accuracy: 0.8750, Mean Precision: 0.8182, Mean Recall: 0.8312\n"
     ]
    },
    {
     "name": "stderr",
     "output_type": "stream",
     "text": [
      "Epoch 26 Training:   0%|          | 0/4 [00:00<?, ?it/s]/tmp/job.14646635/ipykernel_391663/1724129108.py:79: FutureWarning: Series.__getitem__ treating keys as positions is deprecated. In a future version, integer keys will always be treated as labels (consistent with DataFrame behavior). To access a value by position, use `ser.iloc[pos]`\n",
      "  'labels': torch.tensor(label, dtype=torch.float32)\n",
      "Epoch 26 Training: 100%|██████████| 4/4 [00:05<00:00,  1.45s/it, loss=2.61]\n",
      "Epoch 26 Validation: 100%|██████████| 1/1 [00:00<00:00,  2.72it/s, loss=3.46]\n",
      "/scratch/user/akash.pillai.0810/.my_env/lib/python3.10/site-packages/sklearn/metrics/_classification.py:1565: UndefinedMetricWarning: F-score is ill-defined and being set to 0.0 due to no true nor predicted samples. Use `zero_division` parameter to control this behavior.\n",
      "  _warn_prf(average, modifier, f\"{metric.capitalize()} is\", len(result))\n",
      "/scratch/user/akash.pillai.0810/.my_env/lib/python3.10/site-packages/sklearn/metrics/_classification.py:1565: UndefinedMetricWarning: Recall is ill-defined and being set to 0.0 due to no true samples. Use `zero_division` parameter to control this behavior.\n",
      "  _warn_prf(average, modifier, f\"{metric.capitalize()} is\", len(result))\n"
     ]
    },
    {
     "name": "stdout",
     "output_type": "stream",
     "text": [
      "Epoch 26: Train Loss=2.3242, Val Loss=3.4643\n",
      "Mean F1 Score: 0.8240, Mean Accuracy: 0.8864, Mean Precision: 0.8182, Mean Recall: 0.8571\n"
     ]
    },
    {
     "name": "stderr",
     "output_type": "stream",
     "text": [
      "Epoch 27 Training:   0%|          | 0/4 [00:00<?, ?it/s]/tmp/job.14646635/ipykernel_391663/1724129108.py:79: FutureWarning: Series.__getitem__ treating keys as positions is deprecated. In a future version, integer keys will always be treated as labels (consistent with DataFrame behavior). To access a value by position, use `ser.iloc[pos]`\n",
      "  'labels': torch.tensor(label, dtype=torch.float32)\n",
      "Epoch 27 Training: 100%|██████████| 4/4 [00:05<00:00,  1.45s/it, loss=3]   \n",
      "Epoch 27 Validation: 100%|██████████| 1/1 [00:00<00:00,  2.73it/s, loss=3.46]\n",
      "/scratch/user/akash.pillai.0810/.my_env/lib/python3.10/site-packages/sklearn/metrics/_classification.py:1565: UndefinedMetricWarning: F-score is ill-defined and being set to 0.0 due to no true nor predicted samples. Use `zero_division` parameter to control this behavior.\n",
      "  _warn_prf(average, modifier, f\"{metric.capitalize()} is\", len(result))\n",
      "/scratch/user/akash.pillai.0810/.my_env/lib/python3.10/site-packages/sklearn/metrics/_classification.py:1565: UndefinedMetricWarning: Recall is ill-defined and being set to 0.0 due to no true samples. Use `zero_division` parameter to control this behavior.\n",
      "  _warn_prf(average, modifier, f\"{metric.capitalize()} is\", len(result))\n"
     ]
    },
    {
     "name": "stdout",
     "output_type": "stream",
     "text": [
      "Epoch 27: Train Loss=2.3264, Val Loss=3.4644\n",
      "Mean F1 Score: 0.8099, Mean Accuracy: 0.8807, Mean Precision: 0.8182, Mean Recall: 0.8442\n"
     ]
    },
    {
     "name": "stderr",
     "output_type": "stream",
     "text": [
      "Epoch 28 Training:   0%|          | 0/4 [00:00<?, ?it/s]/tmp/job.14646635/ipykernel_391663/1724129108.py:79: FutureWarning: Series.__getitem__ treating keys as positions is deprecated. In a future version, integer keys will always be treated as labels (consistent with DataFrame behavior). To access a value by position, use `ser.iloc[pos]`\n",
      "  'labels': torch.tensor(label, dtype=torch.float32)\n",
      "Epoch 28 Training: 100%|██████████| 4/4 [00:05<00:00,  1.45s/it, loss=2.94]\n",
      "Epoch 28 Validation: 100%|██████████| 1/1 [00:00<00:00,  2.72it/s, loss=3.46]\n",
      "/scratch/user/akash.pillai.0810/.my_env/lib/python3.10/site-packages/sklearn/metrics/_classification.py:1565: UndefinedMetricWarning: F-score is ill-defined and being set to 0.0 due to no true nor predicted samples. Use `zero_division` parameter to control this behavior.\n",
      "  _warn_prf(average, modifier, f\"{metric.capitalize()} is\", len(result))\n",
      "/scratch/user/akash.pillai.0810/.my_env/lib/python3.10/site-packages/sklearn/metrics/_classification.py:1565: UndefinedMetricWarning: Recall is ill-defined and being set to 0.0 due to no true samples. Use `zero_division` parameter to control this behavior.\n",
      "  _warn_prf(average, modifier, f\"{metric.capitalize()} is\", len(result))\n"
     ]
    },
    {
     "name": "stdout",
     "output_type": "stream",
     "text": [
      "Epoch 28: Train Loss=2.2684, Val Loss=3.4574\n",
      "Mean F1 Score: 0.8240, Mean Accuracy: 0.8864, Mean Precision: 0.8182, Mean Recall: 0.8571\n"
     ]
    },
    {
     "name": "stderr",
     "output_type": "stream",
     "text": [
      "Epoch 29 Training:   0%|          | 0/4 [00:00<?, ?it/s]/tmp/job.14646635/ipykernel_391663/1724129108.py:79: FutureWarning: Series.__getitem__ treating keys as positions is deprecated. In a future version, integer keys will always be treated as labels (consistent with DataFrame behavior). To access a value by position, use `ser.iloc[pos]`\n",
      "  'labels': torch.tensor(label, dtype=torch.float32)\n",
      "Epoch 29 Training: 100%|██████████| 4/4 [00:05<00:00,  1.45s/it, loss=1.91]\n",
      "Epoch 29 Validation: 100%|██████████| 1/1 [00:00<00:00,  2.73it/s, loss=3.45]\n",
      "/scratch/user/akash.pillai.0810/.my_env/lib/python3.10/site-packages/sklearn/metrics/_classification.py:1565: UndefinedMetricWarning: F-score is ill-defined and being set to 0.0 due to no true nor predicted samples. Use `zero_division` parameter to control this behavior.\n",
      "  _warn_prf(average, modifier, f\"{metric.capitalize()} is\", len(result))\n",
      "/scratch/user/akash.pillai.0810/.my_env/lib/python3.10/site-packages/sklearn/metrics/_classification.py:1565: UndefinedMetricWarning: Recall is ill-defined and being set to 0.0 due to no true samples. Use `zero_division` parameter to control this behavior.\n",
      "  _warn_prf(average, modifier, f\"{metric.capitalize()} is\", len(result))\n"
     ]
    },
    {
     "name": "stdout",
     "output_type": "stream",
     "text": [
      "Epoch 29: Train Loss=2.2429, Val Loss=3.4477\n",
      "Mean F1 Score: 0.8356, Mean Accuracy: 0.8920, Mean Precision: 0.8182, Mean Recall: 0.8701\n",
      "New best model saved for fold 5 with F1=0.8356\n"
     ]
    },
    {
     "name": "stderr",
     "output_type": "stream",
     "text": [
      "Epoch 30 Training:   0%|          | 0/4 [00:00<?, ?it/s]/tmp/job.14646635/ipykernel_391663/1724129108.py:79: FutureWarning: Series.__getitem__ treating keys as positions is deprecated. In a future version, integer keys will always be treated as labels (consistent with DataFrame behavior). To access a value by position, use `ser.iloc[pos]`\n",
      "  'labels': torch.tensor(label, dtype=torch.float32)\n",
      "Epoch 30 Training: 100%|██████████| 4/4 [00:05<00:00,  1.45s/it, loss=2.86]\n",
      "Epoch 30 Validation: 100%|██████████| 1/1 [00:00<00:00,  2.72it/s, loss=3.45]\n",
      "/scratch/user/akash.pillai.0810/.my_env/lib/python3.10/site-packages/sklearn/metrics/_classification.py:1565: UndefinedMetricWarning: F-score is ill-defined and being set to 0.0 due to no true nor predicted samples. Use `zero_division` parameter to control this behavior.\n",
      "  _warn_prf(average, modifier, f\"{metric.capitalize()} is\", len(result))\n",
      "/scratch/user/akash.pillai.0810/.my_env/lib/python3.10/site-packages/sklearn/metrics/_classification.py:1565: UndefinedMetricWarning: Recall is ill-defined and being set to 0.0 due to no true samples. Use `zero_division` parameter to control this behavior.\n",
      "  _warn_prf(average, modifier, f\"{metric.capitalize()} is\", len(result))\n"
     ]
    },
    {
     "name": "stdout",
     "output_type": "stream",
     "text": [
      "Epoch 30: Train Loss=2.2223, Val Loss=3.4486\n",
      "Mean F1 Score: 0.8356, Mean Accuracy: 0.8920, Mean Precision: 0.8182, Mean Recall: 0.8701\n"
     ]
    },
    {
     "name": "stderr",
     "output_type": "stream",
     "text": [
      "Epoch 31 Training:   0%|          | 0/4 [00:00<?, ?it/s]/tmp/job.14646635/ipykernel_391663/1724129108.py:79: FutureWarning: Series.__getitem__ treating keys as positions is deprecated. In a future version, integer keys will always be treated as labels (consistent with DataFrame behavior). To access a value by position, use `ser.iloc[pos]`\n",
      "  'labels': torch.tensor(label, dtype=torch.float32)\n",
      "Epoch 31 Training: 100%|██████████| 4/4 [00:05<00:00,  1.45s/it, loss=2.29]\n",
      "Epoch 31 Validation: 100%|██████████| 1/1 [00:00<00:00,  2.73it/s, loss=3.44]\n",
      "/scratch/user/akash.pillai.0810/.my_env/lib/python3.10/site-packages/sklearn/metrics/_classification.py:1565: UndefinedMetricWarning: F-score is ill-defined and being set to 0.0 due to no true nor predicted samples. Use `zero_division` parameter to control this behavior.\n",
      "  _warn_prf(average, modifier, f\"{metric.capitalize()} is\", len(result))\n",
      "/scratch/user/akash.pillai.0810/.my_env/lib/python3.10/site-packages/sklearn/metrics/_classification.py:1565: UndefinedMetricWarning: Recall is ill-defined and being set to 0.0 due to no true samples. Use `zero_division` parameter to control this behavior.\n",
      "  _warn_prf(average, modifier, f\"{metric.capitalize()} is\", len(result))\n"
     ]
    },
    {
     "name": "stdout",
     "output_type": "stream",
     "text": [
      "Epoch 31: Train Loss=2.2381, Val Loss=3.4447\n",
      "Mean F1 Score: 0.8356, Mean Accuracy: 0.8920, Mean Precision: 0.8182, Mean Recall: 0.8701\n"
     ]
    },
    {
     "name": "stderr",
     "output_type": "stream",
     "text": [
      "Epoch 32 Training:   0%|          | 0/4 [00:00<?, ?it/s]/tmp/job.14646635/ipykernel_391663/1724129108.py:79: FutureWarning: Series.__getitem__ treating keys as positions is deprecated. In a future version, integer keys will always be treated as labels (consistent with DataFrame behavior). To access a value by position, use `ser.iloc[pos]`\n",
      "  'labels': torch.tensor(label, dtype=torch.float32)\n",
      "Epoch 32 Training: 100%|██████████| 4/4 [00:05<00:00,  1.45s/it, loss=1.6] \n",
      "Epoch 32 Validation: 100%|██████████| 1/1 [00:00<00:00,  2.73it/s, loss=3.44]\n",
      "/scratch/user/akash.pillai.0810/.my_env/lib/python3.10/site-packages/sklearn/metrics/_classification.py:1565: UndefinedMetricWarning: F-score is ill-defined and being set to 0.0 due to no true nor predicted samples. Use `zero_division` parameter to control this behavior.\n",
      "  _warn_prf(average, modifier, f\"{metric.capitalize()} is\", len(result))\n",
      "/scratch/user/akash.pillai.0810/.my_env/lib/python3.10/site-packages/sklearn/metrics/_classification.py:1565: UndefinedMetricWarning: Recall is ill-defined and being set to 0.0 due to no true samples. Use `zero_division` parameter to control this behavior.\n",
      "  _warn_prf(average, modifier, f\"{metric.capitalize()} is\", len(result))\n"
     ]
    },
    {
     "name": "stdout",
     "output_type": "stream",
     "text": [
      "Epoch 32: Train Loss=2.1474, Val Loss=3.4383\n",
      "Mean F1 Score: 0.8356, Mean Accuracy: 0.8920, Mean Precision: 0.8182, Mean Recall: 0.8701\n"
     ]
    },
    {
     "name": "stderr",
     "output_type": "stream",
     "text": [
      "Epoch 33 Training:   0%|          | 0/4 [00:00<?, ?it/s]/tmp/job.14646635/ipykernel_391663/1724129108.py:79: FutureWarning: Series.__getitem__ treating keys as positions is deprecated. In a future version, integer keys will always be treated as labels (consistent with DataFrame behavior). To access a value by position, use `ser.iloc[pos]`\n",
      "  'labels': torch.tensor(label, dtype=torch.float32)\n",
      "Epoch 33 Training: 100%|██████████| 4/4 [00:05<00:00,  1.45s/it, loss=2.23]\n",
      "Epoch 33 Validation: 100%|██████████| 1/1 [00:00<00:00,  2.73it/s, loss=3.44]\n",
      "/scratch/user/akash.pillai.0810/.my_env/lib/python3.10/site-packages/sklearn/metrics/_classification.py:1565: UndefinedMetricWarning: F-score is ill-defined and being set to 0.0 due to no true nor predicted samples. Use `zero_division` parameter to control this behavior.\n",
      "  _warn_prf(average, modifier, f\"{metric.capitalize()} is\", len(result))\n",
      "/scratch/user/akash.pillai.0810/.my_env/lib/python3.10/site-packages/sklearn/metrics/_classification.py:1565: UndefinedMetricWarning: Recall is ill-defined and being set to 0.0 due to no true samples. Use `zero_division` parameter to control this behavior.\n",
      "  _warn_prf(average, modifier, f\"{metric.capitalize()} is\", len(result))\n"
     ]
    },
    {
     "name": "stdout",
     "output_type": "stream",
     "text": [
      "Epoch 33: Train Loss=2.1789, Val Loss=3.4363\n",
      "Mean F1 Score: 0.8240, Mean Accuracy: 0.8864, Mean Precision: 0.8182, Mean Recall: 0.8571\n"
     ]
    },
    {
     "name": "stderr",
     "output_type": "stream",
     "text": [
      "Epoch 34 Training:   0%|          | 0/4 [00:00<?, ?it/s]/tmp/job.14646635/ipykernel_391663/1724129108.py:79: FutureWarning: Series.__getitem__ treating keys as positions is deprecated. In a future version, integer keys will always be treated as labels (consistent with DataFrame behavior). To access a value by position, use `ser.iloc[pos]`\n",
      "  'labels': torch.tensor(label, dtype=torch.float32)\n",
      "Epoch 34 Training: 100%|██████████| 4/4 [00:05<00:00,  1.45s/it, loss=3.13]\n",
      "Epoch 34 Validation: 100%|██████████| 1/1 [00:00<00:00,  2.73it/s, loss=3.44]\n",
      "/scratch/user/akash.pillai.0810/.my_env/lib/python3.10/site-packages/sklearn/metrics/_classification.py:1565: UndefinedMetricWarning: F-score is ill-defined and being set to 0.0 due to no true nor predicted samples. Use `zero_division` parameter to control this behavior.\n",
      "  _warn_prf(average, modifier, f\"{metric.capitalize()} is\", len(result))\n",
      "/scratch/user/akash.pillai.0810/.my_env/lib/python3.10/site-packages/sklearn/metrics/_classification.py:1565: UndefinedMetricWarning: Recall is ill-defined and being set to 0.0 due to no true samples. Use `zero_division` parameter to control this behavior.\n",
      "  _warn_prf(average, modifier, f\"{metric.capitalize()} is\", len(result))\n"
     ]
    },
    {
     "name": "stdout",
     "output_type": "stream",
     "text": [
      "Epoch 34: Train Loss=2.1753, Val Loss=3.4381\n",
      "Mean F1 Score: 0.8356, Mean Accuracy: 0.8920, Mean Precision: 0.8182, Mean Recall: 0.8701\n"
     ]
    },
    {
     "name": "stderr",
     "output_type": "stream",
     "text": [
      "Epoch 35 Training:   0%|          | 0/4 [00:00<?, ?it/s]/tmp/job.14646635/ipykernel_391663/1724129108.py:79: FutureWarning: Series.__getitem__ treating keys as positions is deprecated. In a future version, integer keys will always be treated as labels (consistent with DataFrame behavior). To access a value by position, use `ser.iloc[pos]`\n",
      "  'labels': torch.tensor(label, dtype=torch.float32)\n",
      "Epoch 35 Training: 100%|██████████| 4/4 [00:05<00:00,  1.45s/it, loss=1.96]\n",
      "Epoch 35 Validation: 100%|██████████| 1/1 [00:00<00:00,  2.73it/s, loss=3.44]\n",
      "/scratch/user/akash.pillai.0810/.my_env/lib/python3.10/site-packages/sklearn/metrics/_classification.py:1565: UndefinedMetricWarning: F-score is ill-defined and being set to 0.0 due to no true nor predicted samples. Use `zero_division` parameter to control this behavior.\n",
      "  _warn_prf(average, modifier, f\"{metric.capitalize()} is\", len(result))\n",
      "/scratch/user/akash.pillai.0810/.my_env/lib/python3.10/site-packages/sklearn/metrics/_classification.py:1565: UndefinedMetricWarning: Recall is ill-defined and being set to 0.0 due to no true samples. Use `zero_division` parameter to control this behavior.\n",
      "  _warn_prf(average, modifier, f\"{metric.capitalize()} is\", len(result))\n"
     ]
    },
    {
     "name": "stdout",
     "output_type": "stream",
     "text": [
      "Epoch 35: Train Loss=2.1184, Val Loss=3.4354\n",
      "Mean F1 Score: 0.8356, Mean Accuracy: 0.8920, Mean Precision: 0.8182, Mean Recall: 0.8701\n"
     ]
    },
    {
     "name": "stderr",
     "output_type": "stream",
     "text": [
      "Epoch 36 Training:   0%|          | 0/4 [00:00<?, ?it/s]/tmp/job.14646635/ipykernel_391663/1724129108.py:79: FutureWarning: Series.__getitem__ treating keys as positions is deprecated. In a future version, integer keys will always be treated as labels (consistent with DataFrame behavior). To access a value by position, use `ser.iloc[pos]`\n",
      "  'labels': torch.tensor(label, dtype=torch.float32)\n",
      "Epoch 36 Training: 100%|██████████| 4/4 [00:05<00:00,  1.45s/it, loss=2.35]\n",
      "Epoch 36 Validation: 100%|██████████| 1/1 [00:00<00:00,  2.72it/s, loss=3.43]\n",
      "/scratch/user/akash.pillai.0810/.my_env/lib/python3.10/site-packages/sklearn/metrics/_classification.py:1565: UndefinedMetricWarning: F-score is ill-defined and being set to 0.0 due to no true nor predicted samples. Use `zero_division` parameter to control this behavior.\n",
      "  _warn_prf(average, modifier, f\"{metric.capitalize()} is\", len(result))\n",
      "/scratch/user/akash.pillai.0810/.my_env/lib/python3.10/site-packages/sklearn/metrics/_classification.py:1565: UndefinedMetricWarning: Recall is ill-defined and being set to 0.0 due to no true samples. Use `zero_division` parameter to control this behavior.\n",
      "  _warn_prf(average, modifier, f\"{metric.capitalize()} is\", len(result))\n"
     ]
    },
    {
     "name": "stdout",
     "output_type": "stream",
     "text": [
      "Epoch 36: Train Loss=2.1248, Val Loss=3.4282\n",
      "Mean F1 Score: 0.8356, Mean Accuracy: 0.8920, Mean Precision: 0.8182, Mean Recall: 0.8701\n"
     ]
    },
    {
     "name": "stderr",
     "output_type": "stream",
     "text": [
      "Epoch 37 Training:   0%|          | 0/4 [00:00<?, ?it/s]/tmp/job.14646635/ipykernel_391663/1724129108.py:79: FutureWarning: Series.__getitem__ treating keys as positions is deprecated. In a future version, integer keys will always be treated as labels (consistent with DataFrame behavior). To access a value by position, use `ser.iloc[pos]`\n",
      "  'labels': torch.tensor(label, dtype=torch.float32)\n",
      "Epoch 37 Training: 100%|██████████| 4/4 [00:05<00:00,  1.45s/it, loss=1.36]\n",
      "Epoch 37 Validation: 100%|██████████| 1/1 [00:00<00:00,  2.72it/s, loss=3.42]\n",
      "/scratch/user/akash.pillai.0810/.my_env/lib/python3.10/site-packages/sklearn/metrics/_classification.py:1565: UndefinedMetricWarning: F-score is ill-defined and being set to 0.0 due to no true nor predicted samples. Use `zero_division` parameter to control this behavior.\n",
      "  _warn_prf(average, modifier, f\"{metric.capitalize()} is\", len(result))\n",
      "/scratch/user/akash.pillai.0810/.my_env/lib/python3.10/site-packages/sklearn/metrics/_classification.py:1565: UndefinedMetricWarning: Recall is ill-defined and being set to 0.0 due to no true samples. Use `zero_division` parameter to control this behavior.\n",
      "  _warn_prf(average, modifier, f\"{metric.capitalize()} is\", len(result))\n"
     ]
    },
    {
     "name": "stdout",
     "output_type": "stream",
     "text": [
      "Epoch 37: Train Loss=2.0861, Val Loss=3.4217\n",
      "Mean F1 Score: 0.8356, Mean Accuracy: 0.8920, Mean Precision: 0.8182, Mean Recall: 0.8701\n"
     ]
    },
    {
     "name": "stderr",
     "output_type": "stream",
     "text": [
      "Epoch 38 Training:   0%|          | 0/4 [00:00<?, ?it/s]/tmp/job.14646635/ipykernel_391663/1724129108.py:79: FutureWarning: Series.__getitem__ treating keys as positions is deprecated. In a future version, integer keys will always be treated as labels (consistent with DataFrame behavior). To access a value by position, use `ser.iloc[pos]`\n",
      "  'labels': torch.tensor(label, dtype=torch.float32)\n",
      "Epoch 38 Training: 100%|██████████| 4/4 [00:05<00:00,  1.45s/it, loss=2.36]\n",
      "Epoch 38 Validation: 100%|██████████| 1/1 [00:00<00:00,  2.73it/s, loss=3.42]\n",
      "/scratch/user/akash.pillai.0810/.my_env/lib/python3.10/site-packages/sklearn/metrics/_classification.py:1565: UndefinedMetricWarning: F-score is ill-defined and being set to 0.0 due to no true nor predicted samples. Use `zero_division` parameter to control this behavior.\n",
      "  _warn_prf(average, modifier, f\"{metric.capitalize()} is\", len(result))\n",
      "/scratch/user/akash.pillai.0810/.my_env/lib/python3.10/site-packages/sklearn/metrics/_classification.py:1565: UndefinedMetricWarning: Recall is ill-defined and being set to 0.0 due to no true samples. Use `zero_division` parameter to control this behavior.\n",
      "  _warn_prf(average, modifier, f\"{metric.capitalize()} is\", len(result))\n"
     ]
    },
    {
     "name": "stdout",
     "output_type": "stream",
     "text": [
      "Epoch 38: Train Loss=2.0384, Val Loss=3.4247\n",
      "Mean F1 Score: 0.8356, Mean Accuracy: 0.8920, Mean Precision: 0.8182, Mean Recall: 0.8701\n"
     ]
    },
    {
     "name": "stderr",
     "output_type": "stream",
     "text": [
      "Epoch 39 Training:   0%|          | 0/4 [00:00<?, ?it/s]/tmp/job.14646635/ipykernel_391663/1724129108.py:79: FutureWarning: Series.__getitem__ treating keys as positions is deprecated. In a future version, integer keys will always be treated as labels (consistent with DataFrame behavior). To access a value by position, use `ser.iloc[pos]`\n",
      "  'labels': torch.tensor(label, dtype=torch.float32)\n",
      "Epoch 39 Training: 100%|██████████| 4/4 [00:05<00:00,  1.48s/it, loss=2.59]\n",
      "Epoch 39 Validation: 100%|██████████| 1/1 [00:00<00:00,  2.73it/s, loss=3.42]\n",
      "/scratch/user/akash.pillai.0810/.my_env/lib/python3.10/site-packages/sklearn/metrics/_classification.py:1565: UndefinedMetricWarning: F-score is ill-defined and being set to 0.0 due to no true nor predicted samples. Use `zero_division` parameter to control this behavior.\n",
      "  _warn_prf(average, modifier, f\"{metric.capitalize()} is\", len(result))\n",
      "/scratch/user/akash.pillai.0810/.my_env/lib/python3.10/site-packages/sklearn/metrics/_classification.py:1565: UndefinedMetricWarning: Recall is ill-defined and being set to 0.0 due to no true samples. Use `zero_division` parameter to control this behavior.\n",
      "  _warn_prf(average, modifier, f\"{metric.capitalize()} is\", len(result))\n"
     ]
    },
    {
     "name": "stdout",
     "output_type": "stream",
     "text": [
      "Epoch 39: Train Loss=2.0454, Val Loss=3.4238\n",
      "Mean F1 Score: 0.8356, Mean Accuracy: 0.8920, Mean Precision: 0.8182, Mean Recall: 0.8701\n"
     ]
    },
    {
     "name": "stderr",
     "output_type": "stream",
     "text": [
      "Epoch 40 Training:   0%|          | 0/4 [00:00<?, ?it/s]/tmp/job.14646635/ipykernel_391663/1724129108.py:79: FutureWarning: Series.__getitem__ treating keys as positions is deprecated. In a future version, integer keys will always be treated as labels (consistent with DataFrame behavior). To access a value by position, use `ser.iloc[pos]`\n",
      "  'labels': torch.tensor(label, dtype=torch.float32)\n",
      "Epoch 40 Training: 100%|██████████| 4/4 [00:05<00:00,  1.45s/it, loss=2.24]\n",
      "Epoch 40 Validation: 100%|██████████| 1/1 [00:00<00:00,  2.72it/s, loss=3.42]\n",
      "/scratch/user/akash.pillai.0810/.my_env/lib/python3.10/site-packages/sklearn/metrics/_classification.py:1565: UndefinedMetricWarning: F-score is ill-defined and being set to 0.0 due to no true nor predicted samples. Use `zero_division` parameter to control this behavior.\n",
      "  _warn_prf(average, modifier, f\"{metric.capitalize()} is\", len(result))\n",
      "/scratch/user/akash.pillai.0810/.my_env/lib/python3.10/site-packages/sklearn/metrics/_classification.py:1565: UndefinedMetricWarning: Recall is ill-defined and being set to 0.0 due to no true samples. Use `zero_division` parameter to control this behavior.\n",
      "  _warn_prf(average, modifier, f\"{metric.capitalize()} is\", len(result))\n"
     ]
    },
    {
     "name": "stdout",
     "output_type": "stream",
     "text": [
      "Epoch 40: Train Loss=2.0656, Val Loss=3.4218\n",
      "Mean F1 Score: 0.8356, Mean Accuracy: 0.8920, Mean Precision: 0.8182, Mean Recall: 0.8701\n"
     ]
    },
    {
     "name": "stderr",
     "output_type": "stream",
     "text": [
      "Epoch 41 Training:   0%|          | 0/4 [00:00<?, ?it/s]/tmp/job.14646635/ipykernel_391663/1724129108.py:79: FutureWarning: Series.__getitem__ treating keys as positions is deprecated. In a future version, integer keys will always be treated as labels (consistent with DataFrame behavior). To access a value by position, use `ser.iloc[pos]`\n",
      "  'labels': torch.tensor(label, dtype=torch.float32)\n",
      "Epoch 41 Training: 100%|██████████| 4/4 [00:05<00:00,  1.46s/it, loss=2.12]\n",
      "Epoch 41 Validation: 100%|██████████| 1/1 [00:00<00:00,  2.72it/s, loss=3.42]\n",
      "/scratch/user/akash.pillai.0810/.my_env/lib/python3.10/site-packages/sklearn/metrics/_classification.py:1565: UndefinedMetricWarning: F-score is ill-defined and being set to 0.0 due to no true nor predicted samples. Use `zero_division` parameter to control this behavior.\n",
      "  _warn_prf(average, modifier, f\"{metric.capitalize()} is\", len(result))\n",
      "/scratch/user/akash.pillai.0810/.my_env/lib/python3.10/site-packages/sklearn/metrics/_classification.py:1565: UndefinedMetricWarning: Recall is ill-defined and being set to 0.0 due to no true samples. Use `zero_division` parameter to control this behavior.\n",
      "  _warn_prf(average, modifier, f\"{metric.capitalize()} is\", len(result))\n"
     ]
    },
    {
     "name": "stdout",
     "output_type": "stream",
     "text": [
      "Epoch 41: Train Loss=2.0313, Val Loss=3.4243\n",
      "Mean F1 Score: 0.8356, Mean Accuracy: 0.8920, Mean Precision: 0.8182, Mean Recall: 0.8701\n"
     ]
    },
    {
     "name": "stderr",
     "output_type": "stream",
     "text": [
      "Epoch 42 Training:   0%|          | 0/4 [00:00<?, ?it/s]/tmp/job.14646635/ipykernel_391663/1724129108.py:79: FutureWarning: Series.__getitem__ treating keys as positions is deprecated. In a future version, integer keys will always be treated as labels (consistent with DataFrame behavior). To access a value by position, use `ser.iloc[pos]`\n",
      "  'labels': torch.tensor(label, dtype=torch.float32)\n",
      "Epoch 42 Training: 100%|██████████| 4/4 [00:05<00:00,  1.45s/it, loss=1.52]\n",
      "Epoch 42 Validation: 100%|██████████| 1/1 [00:00<00:00,  2.72it/s, loss=3.42]\n",
      "/scratch/user/akash.pillai.0810/.my_env/lib/python3.10/site-packages/sklearn/metrics/_classification.py:1565: UndefinedMetricWarning: F-score is ill-defined and being set to 0.0 due to no true nor predicted samples. Use `zero_division` parameter to control this behavior.\n",
      "  _warn_prf(average, modifier, f\"{metric.capitalize()} is\", len(result))\n",
      "/scratch/user/akash.pillai.0810/.my_env/lib/python3.10/site-packages/sklearn/metrics/_classification.py:1565: UndefinedMetricWarning: Recall is ill-defined and being set to 0.0 due to no true samples. Use `zero_division` parameter to control this behavior.\n",
      "  _warn_prf(average, modifier, f\"{metric.capitalize()} is\", len(result))\n"
     ]
    },
    {
     "name": "stdout",
     "output_type": "stream",
     "text": [
      "Epoch 42: Train Loss=2.0184, Val Loss=3.4212\n",
      "Mean F1 Score: 0.8356, Mean Accuracy: 0.8920, Mean Precision: 0.8182, Mean Recall: 0.8701\n"
     ]
    },
    {
     "name": "stderr",
     "output_type": "stream",
     "text": [
      "Epoch 43 Training:   0%|          | 0/4 [00:00<?, ?it/s]/tmp/job.14646635/ipykernel_391663/1724129108.py:79: FutureWarning: Series.__getitem__ treating keys as positions is deprecated. In a future version, integer keys will always be treated as labels (consistent with DataFrame behavior). To access a value by position, use `ser.iloc[pos]`\n",
      "  'labels': torch.tensor(label, dtype=torch.float32)\n",
      "Epoch 43 Training: 100%|██████████| 4/4 [00:05<00:00,  1.45s/it, loss=3.07]\n",
      "Epoch 43 Validation: 100%|██████████| 1/1 [00:00<00:00,  2.73it/s, loss=3.42]\n",
      "/scratch/user/akash.pillai.0810/.my_env/lib/python3.10/site-packages/sklearn/metrics/_classification.py:1565: UndefinedMetricWarning: F-score is ill-defined and being set to 0.0 due to no true nor predicted samples. Use `zero_division` parameter to control this behavior.\n",
      "  _warn_prf(average, modifier, f\"{metric.capitalize()} is\", len(result))\n",
      "/scratch/user/akash.pillai.0810/.my_env/lib/python3.10/site-packages/sklearn/metrics/_classification.py:1565: UndefinedMetricWarning: Recall is ill-defined and being set to 0.0 due to no true samples. Use `zero_division` parameter to control this behavior.\n",
      "  _warn_prf(average, modifier, f\"{metric.capitalize()} is\", len(result))\n"
     ]
    },
    {
     "name": "stdout",
     "output_type": "stream",
     "text": [
      "Epoch 43: Train Loss=1.9995, Val Loss=3.4248\n",
      "Mean F1 Score: 0.8356, Mean Accuracy: 0.8920, Mean Precision: 0.8182, Mean Recall: 0.8701\n"
     ]
    },
    {
     "name": "stderr",
     "output_type": "stream",
     "text": [
      "Epoch 44 Training:   0%|          | 0/4 [00:00<?, ?it/s]/tmp/job.14646635/ipykernel_391663/1724129108.py:79: FutureWarning: Series.__getitem__ treating keys as positions is deprecated. In a future version, integer keys will always be treated as labels (consistent with DataFrame behavior). To access a value by position, use `ser.iloc[pos]`\n",
      "  'labels': torch.tensor(label, dtype=torch.float32)\n",
      "Epoch 44 Training: 100%|██████████| 4/4 [00:05<00:00,  1.45s/it, loss=1.34]\n",
      "Epoch 44 Validation: 100%|██████████| 1/1 [00:00<00:00,  2.73it/s, loss=3.42]\n",
      "/scratch/user/akash.pillai.0810/.my_env/lib/python3.10/site-packages/sklearn/metrics/_classification.py:1565: UndefinedMetricWarning: F-score is ill-defined and being set to 0.0 due to no true nor predicted samples. Use `zero_division` parameter to control this behavior.\n",
      "  _warn_prf(average, modifier, f\"{metric.capitalize()} is\", len(result))\n",
      "/scratch/user/akash.pillai.0810/.my_env/lib/python3.10/site-packages/sklearn/metrics/_classification.py:1565: UndefinedMetricWarning: Recall is ill-defined and being set to 0.0 due to no true samples. Use `zero_division` parameter to control this behavior.\n",
      "  _warn_prf(average, modifier, f\"{metric.capitalize()} is\", len(result))\n"
     ]
    },
    {
     "name": "stdout",
     "output_type": "stream",
     "text": [
      "Epoch 44: Train Loss=2.0127, Val Loss=3.4195\n",
      "Mean F1 Score: 0.8356, Mean Accuracy: 0.8920, Mean Precision: 0.8182, Mean Recall: 0.8701\n"
     ]
    },
    {
     "name": "stderr",
     "output_type": "stream",
     "text": [
      "Epoch 45 Training:   0%|          | 0/4 [00:00<?, ?it/s]/tmp/job.14646635/ipykernel_391663/1724129108.py:79: FutureWarning: Series.__getitem__ treating keys as positions is deprecated. In a future version, integer keys will always be treated as labels (consistent with DataFrame behavior). To access a value by position, use `ser.iloc[pos]`\n",
      "  'labels': torch.tensor(label, dtype=torch.float32)\n",
      "Epoch 45 Training: 100%|██████████| 4/4 [00:05<00:00,  1.45s/it, loss=1.89]\n",
      "Epoch 45 Validation: 100%|██████████| 1/1 [00:00<00:00,  2.72it/s, loss=3.42]\n",
      "/scratch/user/akash.pillai.0810/.my_env/lib/python3.10/site-packages/sklearn/metrics/_classification.py:1565: UndefinedMetricWarning: F-score is ill-defined and being set to 0.0 due to no true nor predicted samples. Use `zero_division` parameter to control this behavior.\n",
      "  _warn_prf(average, modifier, f\"{metric.capitalize()} is\", len(result))\n",
      "/scratch/user/akash.pillai.0810/.my_env/lib/python3.10/site-packages/sklearn/metrics/_classification.py:1565: UndefinedMetricWarning: Recall is ill-defined and being set to 0.0 due to no true samples. Use `zero_division` parameter to control this behavior.\n",
      "  _warn_prf(average, modifier, f\"{metric.capitalize()} is\", len(result))\n"
     ]
    },
    {
     "name": "stdout",
     "output_type": "stream",
     "text": [
      "Epoch 45: Train Loss=1.9571, Val Loss=3.4228\n",
      "Mean F1 Score: 0.8356, Mean Accuracy: 0.8920, Mean Precision: 0.8182, Mean Recall: 0.8701\n"
     ]
    },
    {
     "name": "stderr",
     "output_type": "stream",
     "text": [
      "Epoch 46 Training:   0%|          | 0/4 [00:00<?, ?it/s]/tmp/job.14646635/ipykernel_391663/1724129108.py:79: FutureWarning: Series.__getitem__ treating keys as positions is deprecated. In a future version, integer keys will always be treated as labels (consistent with DataFrame behavior). To access a value by position, use `ser.iloc[pos]`\n",
      "  'labels': torch.tensor(label, dtype=torch.float32)\n",
      "Epoch 46 Training: 100%|██████████| 4/4 [00:05<00:00,  1.45s/it, loss=1.77]\n",
      "Epoch 46 Validation: 100%|██████████| 1/1 [00:00<00:00,  2.73it/s, loss=3.42]\n",
      "/scratch/user/akash.pillai.0810/.my_env/lib/python3.10/site-packages/sklearn/metrics/_classification.py:1565: UndefinedMetricWarning: F-score is ill-defined and being set to 0.0 due to no true nor predicted samples. Use `zero_division` parameter to control this behavior.\n",
      "  _warn_prf(average, modifier, f\"{metric.capitalize()} is\", len(result))\n",
      "/scratch/user/akash.pillai.0810/.my_env/lib/python3.10/site-packages/sklearn/metrics/_classification.py:1565: UndefinedMetricWarning: Recall is ill-defined and being set to 0.0 due to no true samples. Use `zero_division` parameter to control this behavior.\n",
      "  _warn_prf(average, modifier, f\"{metric.capitalize()} is\", len(result))\n"
     ]
    },
    {
     "name": "stdout",
     "output_type": "stream",
     "text": [
      "Epoch 46: Train Loss=1.9734, Val Loss=3.4195\n",
      "Mean F1 Score: 0.8356, Mean Accuracy: 0.8920, Mean Precision: 0.8182, Mean Recall: 0.8701\n"
     ]
    },
    {
     "name": "stderr",
     "output_type": "stream",
     "text": [
      "Epoch 47 Training:   0%|          | 0/4 [00:00<?, ?it/s]/tmp/job.14646635/ipykernel_391663/1724129108.py:79: FutureWarning: Series.__getitem__ treating keys as positions is deprecated. In a future version, integer keys will always be treated as labels (consistent with DataFrame behavior). To access a value by position, use `ser.iloc[pos]`\n",
      "  'labels': torch.tensor(label, dtype=torch.float32)\n",
      "Epoch 47 Training: 100%|██████████| 4/4 [00:05<00:00,  1.45s/it, loss=1.66]\n",
      "Epoch 47 Validation: 100%|██████████| 1/1 [00:00<00:00,  2.73it/s, loss=3.41]\n",
      "/scratch/user/akash.pillai.0810/.my_env/lib/python3.10/site-packages/sklearn/metrics/_classification.py:1565: UndefinedMetricWarning: F-score is ill-defined and being set to 0.0 due to no true nor predicted samples. Use `zero_division` parameter to control this behavior.\n",
      "  _warn_prf(average, modifier, f\"{metric.capitalize()} is\", len(result))\n",
      "/scratch/user/akash.pillai.0810/.my_env/lib/python3.10/site-packages/sklearn/metrics/_classification.py:1565: UndefinedMetricWarning: Recall is ill-defined and being set to 0.0 due to no true samples. Use `zero_division` parameter to control this behavior.\n",
      "  _warn_prf(average, modifier, f\"{metric.capitalize()} is\", len(result))\n"
     ]
    },
    {
     "name": "stdout",
     "output_type": "stream",
     "text": [
      "Epoch 47: Train Loss=1.9532, Val Loss=3.4120\n",
      "Mean F1 Score: 0.8356, Mean Accuracy: 0.8920, Mean Precision: 0.8182, Mean Recall: 0.8701\n"
     ]
    },
    {
     "name": "stderr",
     "output_type": "stream",
     "text": [
      "Epoch 48 Training:   0%|          | 0/4 [00:00<?, ?it/s]/tmp/job.14646635/ipykernel_391663/1724129108.py:79: FutureWarning: Series.__getitem__ treating keys as positions is deprecated. In a future version, integer keys will always be treated as labels (consistent with DataFrame behavior). To access a value by position, use `ser.iloc[pos]`\n",
      "  'labels': torch.tensor(label, dtype=torch.float32)\n",
      "Epoch 48 Training: 100%|██████████| 4/4 [00:05<00:00,  1.45s/it, loss=1.44]\n",
      "Epoch 48 Validation: 100%|██████████| 1/1 [00:00<00:00,  2.72it/s, loss=3.41]\n",
      "/scratch/user/akash.pillai.0810/.my_env/lib/python3.10/site-packages/sklearn/metrics/_classification.py:1565: UndefinedMetricWarning: F-score is ill-defined and being set to 0.0 due to no true nor predicted samples. Use `zero_division` parameter to control this behavior.\n",
      "  _warn_prf(average, modifier, f\"{metric.capitalize()} is\", len(result))\n",
      "/scratch/user/akash.pillai.0810/.my_env/lib/python3.10/site-packages/sklearn/metrics/_classification.py:1565: UndefinedMetricWarning: Recall is ill-defined and being set to 0.0 due to no true samples. Use `zero_division` parameter to control this behavior.\n",
      "  _warn_prf(average, modifier, f\"{metric.capitalize()} is\", len(result))\n"
     ]
    },
    {
     "name": "stdout",
     "output_type": "stream",
     "text": [
      "Epoch 48: Train Loss=1.9316, Val Loss=3.4102\n",
      "Mean F1 Score: 0.8356, Mean Accuracy: 0.8920, Mean Precision: 0.8182, Mean Recall: 0.8701\n"
     ]
    },
    {
     "name": "stderr",
     "output_type": "stream",
     "text": [
      "Epoch 49 Training:   0%|          | 0/4 [00:00<?, ?it/s]/tmp/job.14646635/ipykernel_391663/1724129108.py:79: FutureWarning: Series.__getitem__ treating keys as positions is deprecated. In a future version, integer keys will always be treated as labels (consistent with DataFrame behavior). To access a value by position, use `ser.iloc[pos]`\n",
      "  'labels': torch.tensor(label, dtype=torch.float32)\n",
      "Epoch 49 Training: 100%|██████████| 4/4 [00:05<00:00,  1.45s/it, loss=2.14]\n",
      "Epoch 49 Validation: 100%|██████████| 1/1 [00:00<00:00,  2.72it/s, loss=3.41]\n",
      "/scratch/user/akash.pillai.0810/.my_env/lib/python3.10/site-packages/sklearn/metrics/_classification.py:1565: UndefinedMetricWarning: F-score is ill-defined and being set to 0.0 due to no true nor predicted samples. Use `zero_division` parameter to control this behavior.\n",
      "  _warn_prf(average, modifier, f\"{metric.capitalize()} is\", len(result))\n",
      "/scratch/user/akash.pillai.0810/.my_env/lib/python3.10/site-packages/sklearn/metrics/_classification.py:1565: UndefinedMetricWarning: Recall is ill-defined and being set to 0.0 due to no true samples. Use `zero_division` parameter to control this behavior.\n",
      "  _warn_prf(average, modifier, f\"{metric.capitalize()} is\", len(result))\n"
     ]
    },
    {
     "name": "stdout",
     "output_type": "stream",
     "text": [
      "Epoch 49: Train Loss=1.9618, Val Loss=3.4107\n",
      "Mean F1 Score: 0.8356, Mean Accuracy: 0.8920, Mean Precision: 0.8182, Mean Recall: 0.8701\n"
     ]
    },
    {
     "name": "stderr",
     "output_type": "stream",
     "text": [
      "Epoch 50 Training:   0%|          | 0/4 [00:00<?, ?it/s]/tmp/job.14646635/ipykernel_391663/1724129108.py:79: FutureWarning: Series.__getitem__ treating keys as positions is deprecated. In a future version, integer keys will always be treated as labels (consistent with DataFrame behavior). To access a value by position, use `ser.iloc[pos]`\n",
      "  'labels': torch.tensor(label, dtype=torch.float32)\n",
      "Epoch 50 Training: 100%|██████████| 4/4 [00:05<00:00,  1.45s/it, loss=2.05]\n",
      "Epoch 50 Validation: 100%|██████████| 1/1 [00:00<00:00,  2.74it/s, loss=3.41]\n",
      "/scratch/user/akash.pillai.0810/.my_env/lib/python3.10/site-packages/sklearn/metrics/_classification.py:1565: UndefinedMetricWarning: F-score is ill-defined and being set to 0.0 due to no true nor predicted samples. Use `zero_division` parameter to control this behavior.\n",
      "  _warn_prf(average, modifier, f\"{metric.capitalize()} is\", len(result))\n",
      "/scratch/user/akash.pillai.0810/.my_env/lib/python3.10/site-packages/sklearn/metrics/_classification.py:1565: UndefinedMetricWarning: Recall is ill-defined and being set to 0.0 due to no true samples. Use `zero_division` parameter to control this behavior.\n",
      "  _warn_prf(average, modifier, f\"{metric.capitalize()} is\", len(result))\n"
     ]
    },
    {
     "name": "stdout",
     "output_type": "stream",
     "text": [
      "Epoch 50: Train Loss=1.9179, Val Loss=3.4144\n",
      "Mean F1 Score: 0.8356, Mean Accuracy: 0.8920, Mean Precision: 0.8182, Mean Recall: 0.8701\n"
     ]
    },
    {
     "name": "stderr",
     "output_type": "stream",
     "text": [
      "Epoch 51 Training:   0%|          | 0/4 [00:00<?, ?it/s]/tmp/job.14646635/ipykernel_391663/1724129108.py:79: FutureWarning: Series.__getitem__ treating keys as positions is deprecated. In a future version, integer keys will always be treated as labels (consistent with DataFrame behavior). To access a value by position, use `ser.iloc[pos]`\n",
      "  'labels': torch.tensor(label, dtype=torch.float32)\n",
      "Epoch 51 Training: 100%|██████████| 4/4 [00:05<00:00,  1.45s/it, loss=1.5] \n",
      "Epoch 51 Validation: 100%|██████████| 1/1 [00:00<00:00,  2.73it/s, loss=3.41]\n",
      "/scratch/user/akash.pillai.0810/.my_env/lib/python3.10/site-packages/sklearn/metrics/_classification.py:1565: UndefinedMetricWarning: F-score is ill-defined and being set to 0.0 due to no true nor predicted samples. Use `zero_division` parameter to control this behavior.\n",
      "  _warn_prf(average, modifier, f\"{metric.capitalize()} is\", len(result))\n",
      "/scratch/user/akash.pillai.0810/.my_env/lib/python3.10/site-packages/sklearn/metrics/_classification.py:1565: UndefinedMetricWarning: Recall is ill-defined and being set to 0.0 due to no true samples. Use `zero_division` parameter to control this behavior.\n",
      "  _warn_prf(average, modifier, f\"{metric.capitalize()} is\", len(result))\n"
     ]
    },
    {
     "name": "stdout",
     "output_type": "stream",
     "text": [
      "Epoch 51: Train Loss=1.9400, Val Loss=3.4062\n",
      "Mean F1 Score: 0.8356, Mean Accuracy: 0.8920, Mean Precision: 0.8182, Mean Recall: 0.8701\n"
     ]
    },
    {
     "name": "stderr",
     "output_type": "stream",
     "text": [
      "Epoch 52 Training:   0%|          | 0/4 [00:00<?, ?it/s]/tmp/job.14646635/ipykernel_391663/1724129108.py:79: FutureWarning: Series.__getitem__ treating keys as positions is deprecated. In a future version, integer keys will always be treated as labels (consistent with DataFrame behavior). To access a value by position, use `ser.iloc[pos]`\n",
      "  'labels': torch.tensor(label, dtype=torch.float32)\n",
      "Epoch 52 Training: 100%|██████████| 4/4 [00:05<00:00,  1.45s/it, loss=1.21]\n",
      "Epoch 52 Validation: 100%|██████████| 1/1 [00:00<00:00,  2.73it/s, loss=3.39]\n",
      "/scratch/user/akash.pillai.0810/.my_env/lib/python3.10/site-packages/sklearn/metrics/_classification.py:1565: UndefinedMetricWarning: F-score is ill-defined and being set to 0.0 due to no true nor predicted samples. Use `zero_division` parameter to control this behavior.\n",
      "  _warn_prf(average, modifier, f\"{metric.capitalize()} is\", len(result))\n",
      "/scratch/user/akash.pillai.0810/.my_env/lib/python3.10/site-packages/sklearn/metrics/_classification.py:1565: UndefinedMetricWarning: Recall is ill-defined and being set to 0.0 due to no true samples. Use `zero_division` parameter to control this behavior.\n",
      "  _warn_prf(average, modifier, f\"{metric.capitalize()} is\", len(result))\n"
     ]
    },
    {
     "name": "stdout",
     "output_type": "stream",
     "text": [
      "Epoch 52: Train Loss=1.9150, Val Loss=3.3902\n",
      "Mean F1 Score: 0.8356, Mean Accuracy: 0.8920, Mean Precision: 0.8182, Mean Recall: 0.8701\n"
     ]
    },
    {
     "name": "stderr",
     "output_type": "stream",
     "text": [
      "Epoch 53 Training:   0%|          | 0/4 [00:00<?, ?it/s]/tmp/job.14646635/ipykernel_391663/1724129108.py:79: FutureWarning: Series.__getitem__ treating keys as positions is deprecated. In a future version, integer keys will always be treated as labels (consistent with DataFrame behavior). To access a value by position, use `ser.iloc[pos]`\n",
      "  'labels': torch.tensor(label, dtype=torch.float32)\n",
      "Epoch 53 Training: 100%|██████████| 4/4 [00:05<00:00,  1.45s/it, loss=1.21]\n",
      "Epoch 53 Validation: 100%|██████████| 1/1 [00:00<00:00,  2.72it/s, loss=3.39]\n",
      "/scratch/user/akash.pillai.0810/.my_env/lib/python3.10/site-packages/sklearn/metrics/_classification.py:1565: UndefinedMetricWarning: F-score is ill-defined and being set to 0.0 due to no true nor predicted samples. Use `zero_division` parameter to control this behavior.\n",
      "  _warn_prf(average, modifier, f\"{metric.capitalize()} is\", len(result))\n",
      "/scratch/user/akash.pillai.0810/.my_env/lib/python3.10/site-packages/sklearn/metrics/_classification.py:1565: UndefinedMetricWarning: Recall is ill-defined and being set to 0.0 due to no true samples. Use `zero_division` parameter to control this behavior.\n",
      "  _warn_prf(average, modifier, f\"{metric.capitalize()} is\", len(result))\n"
     ]
    },
    {
     "name": "stdout",
     "output_type": "stream",
     "text": [
      "Epoch 53: Train Loss=1.9068, Val Loss=3.3871\n",
      "Mean F1 Score: 0.8356, Mean Accuracy: 0.8920, Mean Precision: 0.8182, Mean Recall: 0.8701\n"
     ]
    },
    {
     "name": "stderr",
     "output_type": "stream",
     "text": [
      "Epoch 54 Training:   0%|          | 0/4 [00:00<?, ?it/s]/tmp/job.14646635/ipykernel_391663/1724129108.py:79: FutureWarning: Series.__getitem__ treating keys as positions is deprecated. In a future version, integer keys will always be treated as labels (consistent with DataFrame behavior). To access a value by position, use `ser.iloc[pos]`\n",
      "  'labels': torch.tensor(label, dtype=torch.float32)\n",
      "Epoch 54 Training: 100%|██████████| 4/4 [00:05<00:00,  1.45s/it, loss=1.06]\n",
      "Epoch 54 Validation: 100%|██████████| 1/1 [00:00<00:00,  2.73it/s, loss=3.38]\n",
      "/scratch/user/akash.pillai.0810/.my_env/lib/python3.10/site-packages/sklearn/metrics/_classification.py:1565: UndefinedMetricWarning: F-score is ill-defined and being set to 0.0 due to no true nor predicted samples. Use `zero_division` parameter to control this behavior.\n",
      "  _warn_prf(average, modifier, f\"{metric.capitalize()} is\", len(result))\n",
      "/scratch/user/akash.pillai.0810/.my_env/lib/python3.10/site-packages/sklearn/metrics/_classification.py:1565: UndefinedMetricWarning: Recall is ill-defined and being set to 0.0 due to no true samples. Use `zero_division` parameter to control this behavior.\n",
      "  _warn_prf(average, modifier, f\"{metric.capitalize()} is\", len(result))\n"
     ]
    },
    {
     "name": "stdout",
     "output_type": "stream",
     "text": [
      "Epoch 54: Train Loss=1.8952, Val Loss=3.3833\n",
      "Mean F1 Score: 0.8356, Mean Accuracy: 0.8920, Mean Precision: 0.8182, Mean Recall: 0.8701\n"
     ]
    },
    {
     "name": "stderr",
     "output_type": "stream",
     "text": [
      "Epoch 55 Training:   0%|          | 0/4 [00:00<?, ?it/s]/tmp/job.14646635/ipykernel_391663/1724129108.py:79: FutureWarning: Series.__getitem__ treating keys as positions is deprecated. In a future version, integer keys will always be treated as labels (consistent with DataFrame behavior). To access a value by position, use `ser.iloc[pos]`\n",
      "  'labels': torch.tensor(label, dtype=torch.float32)\n",
      "Epoch 55 Training: 100%|██████████| 4/4 [00:05<00:00,  1.45s/it, loss=0.939]\n",
      "Epoch 55 Validation: 100%|██████████| 1/1 [00:00<00:00,  2.73it/s, loss=3.38]\n",
      "/scratch/user/akash.pillai.0810/.my_env/lib/python3.10/site-packages/sklearn/metrics/_classification.py:1565: UndefinedMetricWarning: F-score is ill-defined and being set to 0.0 due to no true nor predicted samples. Use `zero_division` parameter to control this behavior.\n",
      "  _warn_prf(average, modifier, f\"{metric.capitalize()} is\", len(result))\n",
      "/scratch/user/akash.pillai.0810/.my_env/lib/python3.10/site-packages/sklearn/metrics/_classification.py:1565: UndefinedMetricWarning: Recall is ill-defined and being set to 0.0 due to no true samples. Use `zero_division` parameter to control this behavior.\n",
      "  _warn_prf(average, modifier, f\"{metric.capitalize()} is\", len(result))\n"
     ]
    },
    {
     "name": "stdout",
     "output_type": "stream",
     "text": [
      "Epoch 55: Train Loss=1.8927, Val Loss=3.3824\n",
      "Mean F1 Score: 0.8356, Mean Accuracy: 0.8920, Mean Precision: 0.8182, Mean Recall: 0.8701\n"
     ]
    },
    {
     "name": "stderr",
     "output_type": "stream",
     "text": [
      "Epoch 56 Training:   0%|          | 0/4 [00:00<?, ?it/s]/tmp/job.14646635/ipykernel_391663/1724129108.py:79: FutureWarning: Series.__getitem__ treating keys as positions is deprecated. In a future version, integer keys will always be treated as labels (consistent with DataFrame behavior). To access a value by position, use `ser.iloc[pos]`\n",
      "  'labels': torch.tensor(label, dtype=torch.float32)\n",
      "Epoch 56 Training: 100%|██████████| 4/4 [00:05<00:00,  1.45s/it, loss=1.36]\n",
      "Epoch 56 Validation: 100%|██████████| 1/1 [00:00<00:00,  2.73it/s, loss=3.38]\n",
      "/scratch/user/akash.pillai.0810/.my_env/lib/python3.10/site-packages/sklearn/metrics/_classification.py:1565: UndefinedMetricWarning: F-score is ill-defined and being set to 0.0 due to no true nor predicted samples. Use `zero_division` parameter to control this behavior.\n",
      "  _warn_prf(average, modifier, f\"{metric.capitalize()} is\", len(result))\n",
      "/scratch/user/akash.pillai.0810/.my_env/lib/python3.10/site-packages/sklearn/metrics/_classification.py:1565: UndefinedMetricWarning: Recall is ill-defined and being set to 0.0 due to no true samples. Use `zero_division` parameter to control this behavior.\n",
      "  _warn_prf(average, modifier, f\"{metric.capitalize()} is\", len(result))\n"
     ]
    },
    {
     "name": "stdout",
     "output_type": "stream",
     "text": [
      "Epoch 56: Train Loss=1.8665, Val Loss=3.3831\n",
      "Mean F1 Score: 0.8356, Mean Accuracy: 0.8920, Mean Precision: 0.8182, Mean Recall: 0.8701\n"
     ]
    },
    {
     "name": "stderr",
     "output_type": "stream",
     "text": [
      "Epoch 57 Training:   0%|          | 0/4 [00:00<?, ?it/s]/tmp/job.14646635/ipykernel_391663/1724129108.py:79: FutureWarning: Series.__getitem__ treating keys as positions is deprecated. In a future version, integer keys will always be treated as labels (consistent with DataFrame behavior). To access a value by position, use `ser.iloc[pos]`\n",
      "  'labels': torch.tensor(label, dtype=torch.float32)\n",
      "Epoch 57 Training: 100%|██████████| 4/4 [00:05<00:00,  1.45s/it, loss=1.88]\n",
      "Epoch 57 Validation: 100%|██████████| 1/1 [00:00<00:00,  2.73it/s, loss=3.38]\n",
      "/scratch/user/akash.pillai.0810/.my_env/lib/python3.10/site-packages/sklearn/metrics/_classification.py:1565: UndefinedMetricWarning: F-score is ill-defined and being set to 0.0 due to no true nor predicted samples. Use `zero_division` parameter to control this behavior.\n",
      "  _warn_prf(average, modifier, f\"{metric.capitalize()} is\", len(result))\n",
      "/scratch/user/akash.pillai.0810/.my_env/lib/python3.10/site-packages/sklearn/metrics/_classification.py:1565: UndefinedMetricWarning: Recall is ill-defined and being set to 0.0 due to no true samples. Use `zero_division` parameter to control this behavior.\n",
      "  _warn_prf(average, modifier, f\"{metric.capitalize()} is\", len(result))\n"
     ]
    },
    {
     "name": "stdout",
     "output_type": "stream",
     "text": [
      "Epoch 57: Train Loss=1.8309, Val Loss=3.3809\n",
      "Mean F1 Score: 0.8356, Mean Accuracy: 0.8920, Mean Precision: 0.8182, Mean Recall: 0.8701\n"
     ]
    },
    {
     "name": "stderr",
     "output_type": "stream",
     "text": [
      "Epoch 58 Training:   0%|          | 0/4 [00:00<?, ?it/s]/tmp/job.14646635/ipykernel_391663/1724129108.py:79: FutureWarning: Series.__getitem__ treating keys as positions is deprecated. In a future version, integer keys will always be treated as labels (consistent with DataFrame behavior). To access a value by position, use `ser.iloc[pos]`\n",
      "  'labels': torch.tensor(label, dtype=torch.float32)\n",
      "Epoch 58 Training: 100%|██████████| 4/4 [00:05<00:00,  1.45s/it, loss=2.17]\n",
      "Epoch 58 Validation: 100%|██████████| 1/1 [00:00<00:00,  2.73it/s, loss=3.38]\n",
      "/scratch/user/akash.pillai.0810/.my_env/lib/python3.10/site-packages/sklearn/metrics/_classification.py:1565: UndefinedMetricWarning: F-score is ill-defined and being set to 0.0 due to no true nor predicted samples. Use `zero_division` parameter to control this behavior.\n",
      "  _warn_prf(average, modifier, f\"{metric.capitalize()} is\", len(result))\n",
      "/scratch/user/akash.pillai.0810/.my_env/lib/python3.10/site-packages/sklearn/metrics/_classification.py:1565: UndefinedMetricWarning: Recall is ill-defined and being set to 0.0 due to no true samples. Use `zero_division` parameter to control this behavior.\n",
      "  _warn_prf(average, modifier, f\"{metric.capitalize()} is\", len(result))\n"
     ]
    },
    {
     "name": "stdout",
     "output_type": "stream",
     "text": [
      "Epoch 58: Train Loss=1.8839, Val Loss=3.3822\n",
      "Mean F1 Score: 0.8356, Mean Accuracy: 0.8920, Mean Precision: 0.8182, Mean Recall: 0.8701\n"
     ]
    },
    {
     "name": "stderr",
     "output_type": "stream",
     "text": [
      "Epoch 59 Training:   0%|          | 0/4 [00:00<?, ?it/s]/tmp/job.14646635/ipykernel_391663/1724129108.py:79: FutureWarning: Series.__getitem__ treating keys as positions is deprecated. In a future version, integer keys will always be treated as labels (consistent with DataFrame behavior). To access a value by position, use `ser.iloc[pos]`\n",
      "  'labels': torch.tensor(label, dtype=torch.float32)\n",
      "Epoch 59 Training: 100%|██████████| 4/4 [00:05<00:00,  1.45s/it, loss=0.972]\n",
      "Epoch 59 Validation: 100%|██████████| 1/1 [00:00<00:00,  2.72it/s, loss=3.37]\n",
      "/scratch/user/akash.pillai.0810/.my_env/lib/python3.10/site-packages/sklearn/metrics/_classification.py:1565: UndefinedMetricWarning: F-score is ill-defined and being set to 0.0 due to no true nor predicted samples. Use `zero_division` parameter to control this behavior.\n",
      "  _warn_prf(average, modifier, f\"{metric.capitalize()} is\", len(result))\n",
      "/scratch/user/akash.pillai.0810/.my_env/lib/python3.10/site-packages/sklearn/metrics/_classification.py:1565: UndefinedMetricWarning: Recall is ill-defined and being set to 0.0 due to no true samples. Use `zero_division` parameter to control this behavior.\n",
      "  _warn_prf(average, modifier, f\"{metric.capitalize()} is\", len(result))\n"
     ]
    },
    {
     "name": "stdout",
     "output_type": "stream",
     "text": [
      "Epoch 59: Train Loss=1.8389, Val Loss=3.3725\n",
      "Mean F1 Score: 0.8356, Mean Accuracy: 0.8920, Mean Precision: 0.8182, Mean Recall: 0.8701\n"
     ]
    },
    {
     "name": "stderr",
     "output_type": "stream",
     "text": [
      "Epoch 60 Training:   0%|          | 0/4 [00:00<?, ?it/s]/tmp/job.14646635/ipykernel_391663/1724129108.py:79: FutureWarning: Series.__getitem__ treating keys as positions is deprecated. In a future version, integer keys will always be treated as labels (consistent with DataFrame behavior). To access a value by position, use `ser.iloc[pos]`\n",
      "  'labels': torch.tensor(label, dtype=torch.float32)\n",
      "Epoch 60 Training: 100%|██████████| 4/4 [00:05<00:00,  1.45s/it, loss=1.05]\n",
      "Epoch 60 Validation: 100%|██████████| 1/1 [00:00<00:00,  2.72it/s, loss=3.37]\n",
      "/scratch/user/akash.pillai.0810/.my_env/lib/python3.10/site-packages/sklearn/metrics/_classification.py:1565: UndefinedMetricWarning: F-score is ill-defined and being set to 0.0 due to no true nor predicted samples. Use `zero_division` parameter to control this behavior.\n",
      "  _warn_prf(average, modifier, f\"{metric.capitalize()} is\", len(result))\n",
      "/scratch/user/akash.pillai.0810/.my_env/lib/python3.10/site-packages/sklearn/metrics/_classification.py:1565: UndefinedMetricWarning: Recall is ill-defined and being set to 0.0 due to no true samples. Use `zero_division` parameter to control this behavior.\n",
      "  _warn_prf(average, modifier, f\"{metric.capitalize()} is\", len(result))\n"
     ]
    },
    {
     "name": "stdout",
     "output_type": "stream",
     "text": [
      "Epoch 60: Train Loss=1.8178, Val Loss=3.3712\n",
      "Mean F1 Score: 0.8356, Mean Accuracy: 0.8920, Mean Precision: 0.8182, Mean Recall: 0.8701\n"
     ]
    },
    {
     "name": "stderr",
     "output_type": "stream",
     "text": [
      "Epoch 61 Training:   0%|          | 0/4 [00:00<?, ?it/s]/tmp/job.14646635/ipykernel_391663/1724129108.py:79: FutureWarning: Series.__getitem__ treating keys as positions is deprecated. In a future version, integer keys will always be treated as labels (consistent with DataFrame behavior). To access a value by position, use `ser.iloc[pos]`\n",
      "  'labels': torch.tensor(label, dtype=torch.float32)\n",
      "Epoch 61 Training: 100%|██████████| 4/4 [00:05<00:00,  1.46s/it, loss=2.79]\n",
      "Epoch 61 Validation: 100%|██████████| 1/1 [00:00<00:00,  2.72it/s, loss=3.38]\n",
      "/scratch/user/akash.pillai.0810/.my_env/lib/python3.10/site-packages/sklearn/metrics/_classification.py:1565: UndefinedMetricWarning: F-score is ill-defined and being set to 0.0 due to no true nor predicted samples. Use `zero_division` parameter to control this behavior.\n",
      "  _warn_prf(average, modifier, f\"{metric.capitalize()} is\", len(result))\n",
      "/scratch/user/akash.pillai.0810/.my_env/lib/python3.10/site-packages/sklearn/metrics/_classification.py:1565: UndefinedMetricWarning: Recall is ill-defined and being set to 0.0 due to no true samples. Use `zero_division` parameter to control this behavior.\n",
      "  _warn_prf(average, modifier, f\"{metric.capitalize()} is\", len(result))\n"
     ]
    },
    {
     "name": "stdout",
     "output_type": "stream",
     "text": [
      "Epoch 61: Train Loss=1.8427, Val Loss=3.3790\n",
      "Mean F1 Score: 0.8356, Mean Accuracy: 0.8920, Mean Precision: 0.8182, Mean Recall: 0.8701\n"
     ]
    },
    {
     "name": "stderr",
     "output_type": "stream",
     "text": [
      "Epoch 62 Training:   0%|          | 0/4 [00:00<?, ?it/s]/tmp/job.14646635/ipykernel_391663/1724129108.py:79: FutureWarning: Series.__getitem__ treating keys as positions is deprecated. In a future version, integer keys will always be treated as labels (consistent with DataFrame behavior). To access a value by position, use `ser.iloc[pos]`\n",
      "  'labels': torch.tensor(label, dtype=torch.float32)\n",
      "Epoch 62 Training: 100%|██████████| 4/4 [00:05<00:00,  1.45s/it, loss=2.63]\n",
      "Epoch 62 Validation: 100%|██████████| 1/1 [00:00<00:00,  2.73it/s, loss=3.38]\n",
      "/scratch/user/akash.pillai.0810/.my_env/lib/python3.10/site-packages/sklearn/metrics/_classification.py:1565: UndefinedMetricWarning: F-score is ill-defined and being set to 0.0 due to no true nor predicted samples. Use `zero_division` parameter to control this behavior.\n",
      "  _warn_prf(average, modifier, f\"{metric.capitalize()} is\", len(result))\n",
      "/scratch/user/akash.pillai.0810/.my_env/lib/python3.10/site-packages/sklearn/metrics/_classification.py:1565: UndefinedMetricWarning: Recall is ill-defined and being set to 0.0 due to no true samples. Use `zero_division` parameter to control this behavior.\n",
      "  _warn_prf(average, modifier, f\"{metric.capitalize()} is\", len(result))\n"
     ]
    },
    {
     "name": "stdout",
     "output_type": "stream",
     "text": [
      "Epoch 62: Train Loss=1.8501, Val Loss=3.3812\n",
      "Mean F1 Score: 0.8356, Mean Accuracy: 0.8920, Mean Precision: 0.8182, Mean Recall: 0.8701\n"
     ]
    },
    {
     "name": "stderr",
     "output_type": "stream",
     "text": [
      "Epoch 63 Training:   0%|          | 0/4 [00:00<?, ?it/s]/tmp/job.14646635/ipykernel_391663/1724129108.py:79: FutureWarning: Series.__getitem__ treating keys as positions is deprecated. In a future version, integer keys will always be treated as labels (consistent with DataFrame behavior). To access a value by position, use `ser.iloc[pos]`\n",
      "  'labels': torch.tensor(label, dtype=torch.float32)\n",
      "Epoch 63 Training: 100%|██████████| 4/4 [00:05<00:00,  1.45s/it, loss=1.01]\n",
      "Epoch 63 Validation: 100%|██████████| 1/1 [00:00<00:00,  2.72it/s, loss=3.36]\n",
      "/scratch/user/akash.pillai.0810/.my_env/lib/python3.10/site-packages/sklearn/metrics/_classification.py:1565: UndefinedMetricWarning: F-score is ill-defined and being set to 0.0 due to no true nor predicted samples. Use `zero_division` parameter to control this behavior.\n",
      "  _warn_prf(average, modifier, f\"{metric.capitalize()} is\", len(result))\n",
      "/scratch/user/akash.pillai.0810/.my_env/lib/python3.10/site-packages/sklearn/metrics/_classification.py:1565: UndefinedMetricWarning: Recall is ill-defined and being set to 0.0 due to no true samples. Use `zero_division` parameter to control this behavior.\n",
      "  _warn_prf(average, modifier, f\"{metric.capitalize()} is\", len(result))\n"
     ]
    },
    {
     "name": "stdout",
     "output_type": "stream",
     "text": [
      "Epoch 63: Train Loss=1.8059, Val Loss=3.3647\n",
      "Mean F1 Score: 0.8356, Mean Accuracy: 0.8920, Mean Precision: 0.8182, Mean Recall: 0.8701\n"
     ]
    },
    {
     "name": "stderr",
     "output_type": "stream",
     "text": [
      "Epoch 64 Training:   0%|          | 0/4 [00:00<?, ?it/s]/tmp/job.14646635/ipykernel_391663/1724129108.py:79: FutureWarning: Series.__getitem__ treating keys as positions is deprecated. In a future version, integer keys will always be treated as labels (consistent with DataFrame behavior). To access a value by position, use `ser.iloc[pos]`\n",
      "  'labels': torch.tensor(label, dtype=torch.float32)\n",
      "Epoch 64 Training: 100%|██████████| 4/4 [00:05<00:00,  1.45s/it, loss=2.73]\n",
      "Epoch 64 Validation: 100%|██████████| 1/1 [00:00<00:00,  2.72it/s, loss=3.37]\n",
      "/scratch/user/akash.pillai.0810/.my_env/lib/python3.10/site-packages/sklearn/metrics/_classification.py:1565: UndefinedMetricWarning: F-score is ill-defined and being set to 0.0 due to no true nor predicted samples. Use `zero_division` parameter to control this behavior.\n",
      "  _warn_prf(average, modifier, f\"{metric.capitalize()} is\", len(result))\n",
      "/scratch/user/akash.pillai.0810/.my_env/lib/python3.10/site-packages/sklearn/metrics/_classification.py:1565: UndefinedMetricWarning: Recall is ill-defined and being set to 0.0 due to no true samples. Use `zero_division` parameter to control this behavior.\n",
      "  _warn_prf(average, modifier, f\"{metric.capitalize()} is\", len(result))\n"
     ]
    },
    {
     "name": "stdout",
     "output_type": "stream",
     "text": [
      "Epoch 64: Train Loss=1.8184, Val Loss=3.3711\n",
      "Mean F1 Score: 0.8356, Mean Accuracy: 0.8920, Mean Precision: 0.8182, Mean Recall: 0.8701\n"
     ]
    },
    {
     "name": "stderr",
     "output_type": "stream",
     "text": [
      "Epoch 65 Training:   0%|          | 0/4 [00:00<?, ?it/s]/tmp/job.14646635/ipykernel_391663/1724129108.py:79: FutureWarning: Series.__getitem__ treating keys as positions is deprecated. In a future version, integer keys will always be treated as labels (consistent with DataFrame behavior). To access a value by position, use `ser.iloc[pos]`\n",
      "  'labels': torch.tensor(label, dtype=torch.float32)\n",
      "Epoch 65 Training: 100%|██████████| 4/4 [00:05<00:00,  1.49s/it, loss=2.78]\n",
      "Epoch 65 Validation: 100%|██████████| 1/1 [00:00<00:00,  2.22it/s, loss=3.37]\n",
      "/scratch/user/akash.pillai.0810/.my_env/lib/python3.10/site-packages/sklearn/metrics/_classification.py:1565: UndefinedMetricWarning: F-score is ill-defined and being set to 0.0 due to no true nor predicted samples. Use `zero_division` parameter to control this behavior.\n",
      "  _warn_prf(average, modifier, f\"{metric.capitalize()} is\", len(result))\n",
      "/scratch/user/akash.pillai.0810/.my_env/lib/python3.10/site-packages/sklearn/metrics/_classification.py:1565: UndefinedMetricWarning: Recall is ill-defined and being set to 0.0 due to no true samples. Use `zero_division` parameter to control this behavior.\n",
      "  _warn_prf(average, modifier, f\"{metric.capitalize()} is\", len(result))\n"
     ]
    },
    {
     "name": "stdout",
     "output_type": "stream",
     "text": [
      "Epoch 65: Train Loss=1.7933, Val Loss=3.3707\n",
      "Mean F1 Score: 0.8356, Mean Accuracy: 0.8920, Mean Precision: 0.8182, Mean Recall: 0.8701\n"
     ]
    },
    {
     "name": "stderr",
     "output_type": "stream",
     "text": [
      "Epoch 66 Training:   0%|          | 0/4 [00:00<?, ?it/s]/tmp/job.14646635/ipykernel_391663/1724129108.py:79: FutureWarning: Series.__getitem__ treating keys as positions is deprecated. In a future version, integer keys will always be treated as labels (consistent with DataFrame behavior). To access a value by position, use `ser.iloc[pos]`\n",
      "  'labels': torch.tensor(label, dtype=torch.float32)\n",
      "Epoch 66 Training: 100%|██████████| 4/4 [00:05<00:00,  1.45s/it, loss=1.35]\n",
      "Epoch 66 Validation: 100%|██████████| 1/1 [00:00<00:00,  2.73it/s, loss=3.35]\n",
      "/scratch/user/akash.pillai.0810/.my_env/lib/python3.10/site-packages/sklearn/metrics/_classification.py:1565: UndefinedMetricWarning: F-score is ill-defined and being set to 0.0 due to no true nor predicted samples. Use `zero_division` parameter to control this behavior.\n",
      "  _warn_prf(average, modifier, f\"{metric.capitalize()} is\", len(result))\n",
      "/scratch/user/akash.pillai.0810/.my_env/lib/python3.10/site-packages/sklearn/metrics/_classification.py:1565: UndefinedMetricWarning: Recall is ill-defined and being set to 0.0 due to no true samples. Use `zero_division` parameter to control this behavior.\n",
      "  _warn_prf(average, modifier, f\"{metric.capitalize()} is\", len(result))\n"
     ]
    },
    {
     "name": "stdout",
     "output_type": "stream",
     "text": [
      "Epoch 66: Train Loss=1.7769, Val Loss=3.3518\n",
      "Mean F1 Score: 0.8356, Mean Accuracy: 0.8920, Mean Precision: 0.8182, Mean Recall: 0.8701\n"
     ]
    },
    {
     "name": "stderr",
     "output_type": "stream",
     "text": [
      "Epoch 67 Training:   0%|          | 0/4 [00:00<?, ?it/s]/tmp/job.14646635/ipykernel_391663/1724129108.py:79: FutureWarning: Series.__getitem__ treating keys as positions is deprecated. In a future version, integer keys will always be treated as labels (consistent with DataFrame behavior). To access a value by position, use `ser.iloc[pos]`\n",
      "  'labels': torch.tensor(label, dtype=torch.float32)\n",
      "Epoch 67 Training: 100%|██████████| 4/4 [00:05<00:00,  1.45s/it, loss=1.32]\n",
      "Epoch 67 Validation: 100%|██████████| 1/1 [00:00<00:00,  2.73it/s, loss=3.34]\n",
      "/scratch/user/akash.pillai.0810/.my_env/lib/python3.10/site-packages/sklearn/metrics/_classification.py:1565: UndefinedMetricWarning: F-score is ill-defined and being set to 0.0 due to no true nor predicted samples. Use `zero_division` parameter to control this behavior.\n",
      "  _warn_prf(average, modifier, f\"{metric.capitalize()} is\", len(result))\n",
      "/scratch/user/akash.pillai.0810/.my_env/lib/python3.10/site-packages/sklearn/metrics/_classification.py:1565: UndefinedMetricWarning: Recall is ill-defined and being set to 0.0 due to no true samples. Use `zero_division` parameter to control this behavior.\n",
      "  _warn_prf(average, modifier, f\"{metric.capitalize()} is\", len(result))\n"
     ]
    },
    {
     "name": "stdout",
     "output_type": "stream",
     "text": [
      "Epoch 67: Train Loss=1.7759, Val Loss=3.3400\n",
      "Mean F1 Score: 0.8356, Mean Accuracy: 0.8920, Mean Precision: 0.8182, Mean Recall: 0.8701\n"
     ]
    },
    {
     "name": "stderr",
     "output_type": "stream",
     "text": [
      "Epoch 68 Training:   0%|          | 0/4 [00:00<?, ?it/s]/tmp/job.14646635/ipykernel_391663/1724129108.py:79: FutureWarning: Series.__getitem__ treating keys as positions is deprecated. In a future version, integer keys will always be treated as labels (consistent with DataFrame behavior). To access a value by position, use `ser.iloc[pos]`\n",
      "  'labels': torch.tensor(label, dtype=torch.float32)\n",
      "Epoch 68 Training: 100%|██████████| 4/4 [00:05<00:00,  1.45s/it, loss=1.18]\n",
      "Epoch 68 Validation: 100%|██████████| 1/1 [00:00<00:00,  2.73it/s, loss=3.34]\n",
      "/scratch/user/akash.pillai.0810/.my_env/lib/python3.10/site-packages/sklearn/metrics/_classification.py:1565: UndefinedMetricWarning: F-score is ill-defined and being set to 0.0 due to no true nor predicted samples. Use `zero_division` parameter to control this behavior.\n",
      "  _warn_prf(average, modifier, f\"{metric.capitalize()} is\", len(result))\n",
      "/scratch/user/akash.pillai.0810/.my_env/lib/python3.10/site-packages/sklearn/metrics/_classification.py:1565: UndefinedMetricWarning: Recall is ill-defined and being set to 0.0 due to no true samples. Use `zero_division` parameter to control this behavior.\n",
      "  _warn_prf(average, modifier, f\"{metric.capitalize()} is\", len(result))\n"
     ]
    },
    {
     "name": "stdout",
     "output_type": "stream",
     "text": [
      "Epoch 68: Train Loss=1.8016, Val Loss=3.3364\n",
      "Mean F1 Score: 0.8356, Mean Accuracy: 0.8920, Mean Precision: 0.8182, Mean Recall: 0.8701\n"
     ]
    },
    {
     "name": "stderr",
     "output_type": "stream",
     "text": [
      "Epoch 69 Training:   0%|          | 0/4 [00:00<?, ?it/s]/tmp/job.14646635/ipykernel_391663/1724129108.py:79: FutureWarning: Series.__getitem__ treating keys as positions is deprecated. In a future version, integer keys will always be treated as labels (consistent with DataFrame behavior). To access a value by position, use `ser.iloc[pos]`\n",
      "  'labels': torch.tensor(label, dtype=torch.float32)\n",
      "Epoch 69 Training: 100%|██████████| 4/4 [00:05<00:00,  1.45s/it, loss=1.48]\n",
      "Epoch 69 Validation: 100%|██████████| 1/1 [00:00<00:00,  2.73it/s, loss=3.32]\n",
      "/scratch/user/akash.pillai.0810/.my_env/lib/python3.10/site-packages/sklearn/metrics/_classification.py:1565: UndefinedMetricWarning: F-score is ill-defined and being set to 0.0 due to no true nor predicted samples. Use `zero_division` parameter to control this behavior.\n",
      "  _warn_prf(average, modifier, f\"{metric.capitalize()} is\", len(result))\n",
      "/scratch/user/akash.pillai.0810/.my_env/lib/python3.10/site-packages/sklearn/metrics/_classification.py:1565: UndefinedMetricWarning: Recall is ill-defined and being set to 0.0 due to no true samples. Use `zero_division` parameter to control this behavior.\n",
      "  _warn_prf(average, modifier, f\"{metric.capitalize()} is\", len(result))\n"
     ]
    },
    {
     "name": "stdout",
     "output_type": "stream",
     "text": [
      "Epoch 69: Train Loss=1.7610, Val Loss=3.3244\n",
      "Mean F1 Score: 0.8356, Mean Accuracy: 0.8920, Mean Precision: 0.8182, Mean Recall: 0.8701\n"
     ]
    },
    {
     "name": "stderr",
     "output_type": "stream",
     "text": [
      "Epoch 70 Training:   0%|          | 0/4 [00:00<?, ?it/s]/tmp/job.14646635/ipykernel_391663/1724129108.py:79: FutureWarning: Series.__getitem__ treating keys as positions is deprecated. In a future version, integer keys will always be treated as labels (consistent with DataFrame behavior). To access a value by position, use `ser.iloc[pos]`\n",
      "  'labels': torch.tensor(label, dtype=torch.float32)\n",
      "Epoch 70 Training: 100%|██████████| 4/4 [00:05<00:00,  1.45s/it, loss=1.78] \n",
      "Epoch 70 Validation: 100%|██████████| 1/1 [00:00<00:00,  2.72it/s, loss=3.33]\n",
      "/scratch/user/akash.pillai.0810/.my_env/lib/python3.10/site-packages/sklearn/metrics/_classification.py:1565: UndefinedMetricWarning: F-score is ill-defined and being set to 0.0 due to no true nor predicted samples. Use `zero_division` parameter to control this behavior.\n",
      "  _warn_prf(average, modifier, f\"{metric.capitalize()} is\", len(result))\n",
      "/scratch/user/akash.pillai.0810/.my_env/lib/python3.10/site-packages/sklearn/metrics/_classification.py:1565: UndefinedMetricWarning: Recall is ill-defined and being set to 0.0 due to no true samples. Use `zero_division` parameter to control this behavior.\n",
      "  _warn_prf(average, modifier, f\"{metric.capitalize()} is\", len(result))\n"
     ]
    },
    {
     "name": "stdout",
     "output_type": "stream",
     "text": [
      "Epoch 70: Train Loss=1.7767, Val Loss=3.3317\n",
      "Mean F1 Score: 0.8356, Mean Accuracy: 0.8920, Mean Precision: 0.8182, Mean Recall: 0.8701\n"
     ]
    },
    {
     "name": "stderr",
     "output_type": "stream",
     "text": [
      "Epoch 71 Training:   0%|          | 0/4 [00:00<?, ?it/s]/tmp/job.14646635/ipykernel_391663/1724129108.py:79: FutureWarning: Series.__getitem__ treating keys as positions is deprecated. In a future version, integer keys will always be treated as labels (consistent with DataFrame behavior). To access a value by position, use `ser.iloc[pos]`\n",
      "  'labels': torch.tensor(label, dtype=torch.float32)\n",
      "Epoch 71 Training: 100%|██████████| 4/4 [00:05<00:00,  1.45s/it, loss=2.19]\n",
      "Epoch 71 Validation: 100%|██████████| 1/1 [00:00<00:00,  2.73it/s, loss=3.33]\n",
      "/scratch/user/akash.pillai.0810/.my_env/lib/python3.10/site-packages/sklearn/metrics/_classification.py:1565: UndefinedMetricWarning: F-score is ill-defined and being set to 0.0 due to no true nor predicted samples. Use `zero_division` parameter to control this behavior.\n",
      "  _warn_prf(average, modifier, f\"{metric.capitalize()} is\", len(result))\n",
      "/scratch/user/akash.pillai.0810/.my_env/lib/python3.10/site-packages/sklearn/metrics/_classification.py:1565: UndefinedMetricWarning: Recall is ill-defined and being set to 0.0 due to no true samples. Use `zero_division` parameter to control this behavior.\n",
      "  _warn_prf(average, modifier, f\"{metric.capitalize()} is\", len(result))\n"
     ]
    },
    {
     "name": "stdout",
     "output_type": "stream",
     "text": [
      "Epoch 71: Train Loss=1.7373, Val Loss=3.3338\n",
      "Mean F1 Score: 0.8356, Mean Accuracy: 0.8920, Mean Precision: 0.8182, Mean Recall: 0.8701\n"
     ]
    },
    {
     "name": "stderr",
     "output_type": "stream",
     "text": [
      "Epoch 72 Training:   0%|          | 0/4 [00:00<?, ?it/s]/tmp/job.14646635/ipykernel_391663/1724129108.py:79: FutureWarning: Series.__getitem__ treating keys as positions is deprecated. In a future version, integer keys will always be treated as labels (consistent with DataFrame behavior). To access a value by position, use `ser.iloc[pos]`\n",
      "  'labels': torch.tensor(label, dtype=torch.float32)\n",
      "Epoch 72 Training: 100%|██████████| 4/4 [00:05<00:00,  1.45s/it, loss=1.94] \n",
      "Epoch 72 Validation: 100%|██████████| 1/1 [00:00<00:00,  2.73it/s, loss=3.34]\n",
      "/scratch/user/akash.pillai.0810/.my_env/lib/python3.10/site-packages/sklearn/metrics/_classification.py:1565: UndefinedMetricWarning: F-score is ill-defined and being set to 0.0 due to no true nor predicted samples. Use `zero_division` parameter to control this behavior.\n",
      "  _warn_prf(average, modifier, f\"{metric.capitalize()} is\", len(result))\n",
      "/scratch/user/akash.pillai.0810/.my_env/lib/python3.10/site-packages/sklearn/metrics/_classification.py:1565: UndefinedMetricWarning: Recall is ill-defined and being set to 0.0 due to no true samples. Use `zero_division` parameter to control this behavior.\n",
      "  _warn_prf(average, modifier, f\"{metric.capitalize()} is\", len(result))\n"
     ]
    },
    {
     "name": "stdout",
     "output_type": "stream",
     "text": [
      "Epoch 72: Train Loss=1.7491, Val Loss=3.3386\n",
      "Mean F1 Score: 0.8356, Mean Accuracy: 0.8920, Mean Precision: 0.8182, Mean Recall: 0.8701\n"
     ]
    },
    {
     "name": "stderr",
     "output_type": "stream",
     "text": [
      "Epoch 73 Training:   0%|          | 0/4 [00:00<?, ?it/s]/tmp/job.14646635/ipykernel_391663/1724129108.py:79: FutureWarning: Series.__getitem__ treating keys as positions is deprecated. In a future version, integer keys will always be treated as labels (consistent with DataFrame behavior). To access a value by position, use `ser.iloc[pos]`\n",
      "  'labels': torch.tensor(label, dtype=torch.float32)\n",
      "Epoch 73 Training: 100%|██████████| 4/4 [00:05<00:00,  1.45s/it, loss=1.39]\n",
      "Epoch 73 Validation: 100%|██████████| 1/1 [00:00<00:00,  2.73it/s, loss=3.33]\n",
      "/scratch/user/akash.pillai.0810/.my_env/lib/python3.10/site-packages/sklearn/metrics/_classification.py:1565: UndefinedMetricWarning: F-score is ill-defined and being set to 0.0 due to no true nor predicted samples. Use `zero_division` parameter to control this behavior.\n",
      "  _warn_prf(average, modifier, f\"{metric.capitalize()} is\", len(result))\n",
      "/scratch/user/akash.pillai.0810/.my_env/lib/python3.10/site-packages/sklearn/metrics/_classification.py:1565: UndefinedMetricWarning: Recall is ill-defined and being set to 0.0 due to no true samples. Use `zero_division` parameter to control this behavior.\n",
      "  _warn_prf(average, modifier, f\"{metric.capitalize()} is\", len(result))\n"
     ]
    },
    {
     "name": "stdout",
     "output_type": "stream",
     "text": [
      "Epoch 73: Train Loss=1.7836, Val Loss=3.3264\n",
      "Mean F1 Score: 0.8356, Mean Accuracy: 0.8920, Mean Precision: 0.8182, Mean Recall: 0.8701\n"
     ]
    },
    {
     "name": "stderr",
     "output_type": "stream",
     "text": [
      "Epoch 74 Training:   0%|          | 0/4 [00:00<?, ?it/s]/tmp/job.14646635/ipykernel_391663/1724129108.py:79: FutureWarning: Series.__getitem__ treating keys as positions is deprecated. In a future version, integer keys will always be treated as labels (consistent with DataFrame behavior). To access a value by position, use `ser.iloc[pos]`\n",
      "  'labels': torch.tensor(label, dtype=torch.float32)\n",
      "Epoch 74 Training: 100%|██████████| 4/4 [00:05<00:00,  1.45s/it, loss=2.11] \n",
      "Epoch 74 Validation: 100%|██████████| 1/1 [00:00<00:00,  2.72it/s, loss=3.32]\n",
      "/scratch/user/akash.pillai.0810/.my_env/lib/python3.10/site-packages/sklearn/metrics/_classification.py:1565: UndefinedMetricWarning: F-score is ill-defined and being set to 0.0 due to no true nor predicted samples. Use `zero_division` parameter to control this behavior.\n",
      "  _warn_prf(average, modifier, f\"{metric.capitalize()} is\", len(result))\n",
      "/scratch/user/akash.pillai.0810/.my_env/lib/python3.10/site-packages/sklearn/metrics/_classification.py:1565: UndefinedMetricWarning: Recall is ill-defined and being set to 0.0 due to no true samples. Use `zero_division` parameter to control this behavior.\n",
      "  _warn_prf(average, modifier, f\"{metric.capitalize()} is\", len(result))\n"
     ]
    },
    {
     "name": "stdout",
     "output_type": "stream",
     "text": [
      "Epoch 74: Train Loss=1.7670, Val Loss=3.3191\n",
      "Mean F1 Score: 0.8356, Mean Accuracy: 0.8920, Mean Precision: 0.8182, Mean Recall: 0.8701\n"
     ]
    },
    {
     "name": "stderr",
     "output_type": "stream",
     "text": [
      "Epoch 75 Training:   0%|          | 0/4 [00:00<?, ?it/s]/tmp/job.14646635/ipykernel_391663/1724129108.py:79: FutureWarning: Series.__getitem__ treating keys as positions is deprecated. In a future version, integer keys will always be treated as labels (consistent with DataFrame behavior). To access a value by position, use `ser.iloc[pos]`\n",
      "  'labels': torch.tensor(label, dtype=torch.float32)\n",
      "Epoch 75 Training: 100%|██████████| 4/4 [00:05<00:00,  1.45s/it, loss=2]   \n",
      "Epoch 75 Validation: 100%|██████████| 1/1 [00:00<00:00,  2.73it/s, loss=3.32]\n",
      "/scratch/user/akash.pillai.0810/.my_env/lib/python3.10/site-packages/sklearn/metrics/_classification.py:1565: UndefinedMetricWarning: F-score is ill-defined and being set to 0.0 due to no true nor predicted samples. Use `zero_division` parameter to control this behavior.\n",
      "  _warn_prf(average, modifier, f\"{metric.capitalize()} is\", len(result))\n",
      "/scratch/user/akash.pillai.0810/.my_env/lib/python3.10/site-packages/sklearn/metrics/_classification.py:1565: UndefinedMetricWarning: Recall is ill-defined and being set to 0.0 due to no true samples. Use `zero_division` parameter to control this behavior.\n",
      "  _warn_prf(average, modifier, f\"{metric.capitalize()} is\", len(result))\n"
     ]
    },
    {
     "name": "stdout",
     "output_type": "stream",
     "text": [
      "Epoch 75: Train Loss=1.7386, Val Loss=3.3171\n",
      "Mean F1 Score: 0.8356, Mean Accuracy: 0.8920, Mean Precision: 0.8182, Mean Recall: 0.8701\n"
     ]
    },
    {
     "name": "stderr",
     "output_type": "stream",
     "text": [
      "Epoch 76 Training:   0%|          | 0/4 [00:00<?, ?it/s]/tmp/job.14646635/ipykernel_391663/1724129108.py:79: FutureWarning: Series.__getitem__ treating keys as positions is deprecated. In a future version, integer keys will always be treated as labels (consistent with DataFrame behavior). To access a value by position, use `ser.iloc[pos]`\n",
      "  'labels': torch.tensor(label, dtype=torch.float32)\n",
      "Epoch 76 Training: 100%|██████████| 4/4 [00:05<00:00,  1.45s/it, loss=2.81]\n",
      "Epoch 76 Validation: 100%|██████████| 1/1 [00:00<00:00,  2.73it/s, loss=3.31]\n",
      "/scratch/user/akash.pillai.0810/.my_env/lib/python3.10/site-packages/sklearn/metrics/_classification.py:1565: UndefinedMetricWarning: F-score is ill-defined and being set to 0.0 due to no true nor predicted samples. Use `zero_division` parameter to control this behavior.\n",
      "  _warn_prf(average, modifier, f\"{metric.capitalize()} is\", len(result))\n",
      "/scratch/user/akash.pillai.0810/.my_env/lib/python3.10/site-packages/sklearn/metrics/_classification.py:1565: UndefinedMetricWarning: Recall is ill-defined and being set to 0.0 due to no true samples. Use `zero_division` parameter to control this behavior.\n",
      "  _warn_prf(average, modifier, f\"{metric.capitalize()} is\", len(result))\n"
     ]
    },
    {
     "name": "stdout",
     "output_type": "stream",
     "text": [
      "Epoch 76: Train Loss=1.7365, Val Loss=3.3122\n",
      "Mean F1 Score: 0.8356, Mean Accuracy: 0.8920, Mean Precision: 0.8182, Mean Recall: 0.8701\n"
     ]
    },
    {
     "name": "stderr",
     "output_type": "stream",
     "text": [
      "Epoch 77 Training:   0%|          | 0/4 [00:00<?, ?it/s]/tmp/job.14646635/ipykernel_391663/1724129108.py:79: FutureWarning: Series.__getitem__ treating keys as positions is deprecated. In a future version, integer keys will always be treated as labels (consistent with DataFrame behavior). To access a value by position, use `ser.iloc[pos]`\n",
      "  'labels': torch.tensor(label, dtype=torch.float32)\n",
      "Epoch 77 Training: 100%|██████████| 4/4 [00:05<00:00,  1.45s/it, loss=2.85] \n",
      "Epoch 77 Validation: 100%|██████████| 1/1 [00:00<00:00,  2.73it/s, loss=3.32]\n",
      "/scratch/user/akash.pillai.0810/.my_env/lib/python3.10/site-packages/sklearn/metrics/_classification.py:1565: UndefinedMetricWarning: F-score is ill-defined and being set to 0.0 due to no true nor predicted samples. Use `zero_division` parameter to control this behavior.\n",
      "  _warn_prf(average, modifier, f\"{metric.capitalize()} is\", len(result))\n",
      "/scratch/user/akash.pillai.0810/.my_env/lib/python3.10/site-packages/sklearn/metrics/_classification.py:1565: UndefinedMetricWarning: Recall is ill-defined and being set to 0.0 due to no true samples. Use `zero_division` parameter to control this behavior.\n",
      "  _warn_prf(average, modifier, f\"{metric.capitalize()} is\", len(result))\n"
     ]
    },
    {
     "name": "stdout",
     "output_type": "stream",
     "text": [
      "Epoch 77: Train Loss=1.7232, Val Loss=3.3165\n",
      "Mean F1 Score: 0.8356, Mean Accuracy: 0.8920, Mean Precision: 0.8182, Mean Recall: 0.8701\n"
     ]
    },
    {
     "name": "stderr",
     "output_type": "stream",
     "text": [
      "Epoch 78 Training:   0%|          | 0/4 [00:00<?, ?it/s]/tmp/job.14646635/ipykernel_391663/1724129108.py:79: FutureWarning: Series.__getitem__ treating keys as positions is deprecated. In a future version, integer keys will always be treated as labels (consistent with DataFrame behavior). To access a value by position, use `ser.iloc[pos]`\n",
      "  'labels': torch.tensor(label, dtype=torch.float32)\n",
      "Epoch 78 Training: 100%|██████████| 4/4 [00:05<00:00,  1.45s/it, loss=1.89]\n",
      "Epoch 78 Validation: 100%|██████████| 1/1 [00:00<00:00,  2.73it/s, loss=3.3]\n",
      "/scratch/user/akash.pillai.0810/.my_env/lib/python3.10/site-packages/sklearn/metrics/_classification.py:1565: UndefinedMetricWarning: F-score is ill-defined and being set to 0.0 due to no true nor predicted samples. Use `zero_division` parameter to control this behavior.\n",
      "  _warn_prf(average, modifier, f\"{metric.capitalize()} is\", len(result))\n",
      "/scratch/user/akash.pillai.0810/.my_env/lib/python3.10/site-packages/sklearn/metrics/_classification.py:1565: UndefinedMetricWarning: Recall is ill-defined and being set to 0.0 due to no true samples. Use `zero_division` parameter to control this behavior.\n",
      "  _warn_prf(average, modifier, f\"{metric.capitalize()} is\", len(result))\n"
     ]
    },
    {
     "name": "stdout",
     "output_type": "stream",
     "text": [
      "Epoch 78: Train Loss=1.6987, Val Loss=3.2993\n",
      "Mean F1 Score: 0.8356, Mean Accuracy: 0.8920, Mean Precision: 0.8182, Mean Recall: 0.8701\n"
     ]
    },
    {
     "name": "stderr",
     "output_type": "stream",
     "text": [
      "Epoch 79 Training:   0%|          | 0/4 [00:00<?, ?it/s]/tmp/job.14646635/ipykernel_391663/1724129108.py:79: FutureWarning: Series.__getitem__ treating keys as positions is deprecated. In a future version, integer keys will always be treated as labels (consistent with DataFrame behavior). To access a value by position, use `ser.iloc[pos]`\n",
      "  'labels': torch.tensor(label, dtype=torch.float32)\n",
      "Epoch 79 Training: 100%|██████████| 4/4 [00:05<00:00,  1.45s/it, loss=1.98] \n",
      "Epoch 79 Validation: 100%|██████████| 1/1 [00:00<00:00,  2.73it/s, loss=3.29]\n",
      "/scratch/user/akash.pillai.0810/.my_env/lib/python3.10/site-packages/sklearn/metrics/_classification.py:1565: UndefinedMetricWarning: F-score is ill-defined and being set to 0.0 due to no true nor predicted samples. Use `zero_division` parameter to control this behavior.\n",
      "  _warn_prf(average, modifier, f\"{metric.capitalize()} is\", len(result))\n",
      "/scratch/user/akash.pillai.0810/.my_env/lib/python3.10/site-packages/sklearn/metrics/_classification.py:1565: UndefinedMetricWarning: Recall is ill-defined and being set to 0.0 due to no true samples. Use `zero_division` parameter to control this behavior.\n",
      "  _warn_prf(average, modifier, f\"{metric.capitalize()} is\", len(result))\n"
     ]
    },
    {
     "name": "stdout",
     "output_type": "stream",
     "text": [
      "Epoch 79: Train Loss=1.7040, Val Loss=3.2918\n",
      "Mean F1 Score: 0.8356, Mean Accuracy: 0.8920, Mean Precision: 0.8182, Mean Recall: 0.8701\n"
     ]
    },
    {
     "name": "stderr",
     "output_type": "stream",
     "text": [
      "Epoch 80 Training:   0%|          | 0/4 [00:00<?, ?it/s]/tmp/job.14646635/ipykernel_391663/1724129108.py:79: FutureWarning: Series.__getitem__ treating keys as positions is deprecated. In a future version, integer keys will always be treated as labels (consistent with DataFrame behavior). To access a value by position, use `ser.iloc[pos]`\n",
      "  'labels': torch.tensor(label, dtype=torch.float32)\n",
      "Epoch 80 Training: 100%|██████████| 4/4 [00:05<00:00,  1.45s/it, loss=3.08]\n",
      "Epoch 80 Validation: 100%|██████████| 1/1 [00:00<00:00,  2.72it/s, loss=3.3]\n",
      "/scratch/user/akash.pillai.0810/.my_env/lib/python3.10/site-packages/sklearn/metrics/_classification.py:1565: UndefinedMetricWarning: F-score is ill-defined and being set to 0.0 due to no true nor predicted samples. Use `zero_division` parameter to control this behavior.\n",
      "  _warn_prf(average, modifier, f\"{metric.capitalize()} is\", len(result))\n",
      "/scratch/user/akash.pillai.0810/.my_env/lib/python3.10/site-packages/sklearn/metrics/_classification.py:1565: UndefinedMetricWarning: Recall is ill-defined and being set to 0.0 due to no true samples. Use `zero_division` parameter to control this behavior.\n",
      "  _warn_prf(average, modifier, f\"{metric.capitalize()} is\", len(result))\n"
     ]
    },
    {
     "name": "stdout",
     "output_type": "stream",
     "text": [
      "Epoch 80: Train Loss=1.7149, Val Loss=3.3037\n",
      "Mean F1 Score: 0.8356, Mean Accuracy: 0.8920, Mean Precision: 0.8182, Mean Recall: 0.8701\n"
     ]
    },
    {
     "name": "stderr",
     "output_type": "stream",
     "text": [
      "Epoch 81 Training:   0%|          | 0/4 [00:00<?, ?it/s]/tmp/job.14646635/ipykernel_391663/1724129108.py:79: FutureWarning: Series.__getitem__ treating keys as positions is deprecated. In a future version, integer keys will always be treated as labels (consistent with DataFrame behavior). To access a value by position, use `ser.iloc[pos]`\n",
      "  'labels': torch.tensor(label, dtype=torch.float32)\n",
      "Epoch 81 Training: 100%|██████████| 4/4 [00:05<00:00,  1.45s/it, loss=1.3] \n",
      "Epoch 81 Validation: 100%|██████████| 1/1 [00:00<00:00,  2.72it/s, loss=3.28]\n",
      "/scratch/user/akash.pillai.0810/.my_env/lib/python3.10/site-packages/sklearn/metrics/_classification.py:1565: UndefinedMetricWarning: F-score is ill-defined and being set to 0.0 due to no true nor predicted samples. Use `zero_division` parameter to control this behavior.\n",
      "  _warn_prf(average, modifier, f\"{metric.capitalize()} is\", len(result))\n",
      "/scratch/user/akash.pillai.0810/.my_env/lib/python3.10/site-packages/sklearn/metrics/_classification.py:1565: UndefinedMetricWarning: Recall is ill-defined and being set to 0.0 due to no true samples. Use `zero_division` parameter to control this behavior.\n",
      "  _warn_prf(average, modifier, f\"{metric.capitalize()} is\", len(result))\n"
     ]
    },
    {
     "name": "stdout",
     "output_type": "stream",
     "text": [
      "Epoch 81: Train Loss=1.7113, Val Loss=3.2827\n",
      "Mean F1 Score: 0.8356, Mean Accuracy: 0.8920, Mean Precision: 0.8182, Mean Recall: 0.8701\n"
     ]
    },
    {
     "name": "stderr",
     "output_type": "stream",
     "text": [
      "Epoch 82 Training:   0%|          | 0/4 [00:00<?, ?it/s]/tmp/job.14646635/ipykernel_391663/1724129108.py:79: FutureWarning: Series.__getitem__ treating keys as positions is deprecated. In a future version, integer keys will always be treated as labels (consistent with DataFrame behavior). To access a value by position, use `ser.iloc[pos]`\n",
      "  'labels': torch.tensor(label, dtype=torch.float32)\n",
      "Epoch 82 Training: 100%|██████████| 4/4 [00:05<00:00,  1.45s/it, loss=2.4] \n",
      "Epoch 82 Validation: 100%|██████████| 1/1 [00:00<00:00,  2.73it/s, loss=3.29]\n",
      "/scratch/user/akash.pillai.0810/.my_env/lib/python3.10/site-packages/sklearn/metrics/_classification.py:1565: UndefinedMetricWarning: F-score is ill-defined and being set to 0.0 due to no true nor predicted samples. Use `zero_division` parameter to control this behavior.\n",
      "  _warn_prf(average, modifier, f\"{metric.capitalize()} is\", len(result))\n",
      "/scratch/user/akash.pillai.0810/.my_env/lib/python3.10/site-packages/sklearn/metrics/_classification.py:1565: UndefinedMetricWarning: Recall is ill-defined and being set to 0.0 due to no true samples. Use `zero_division` parameter to control this behavior.\n",
      "  _warn_prf(average, modifier, f\"{metric.capitalize()} is\", len(result))\n"
     ]
    },
    {
     "name": "stdout",
     "output_type": "stream",
     "text": [
      "Epoch 82: Train Loss=1.6680, Val Loss=3.2929\n",
      "Mean F1 Score: 0.8356, Mean Accuracy: 0.8920, Mean Precision: 0.8182, Mean Recall: 0.8701\n"
     ]
    },
    {
     "name": "stderr",
     "output_type": "stream",
     "text": [
      "Epoch 83 Training:   0%|          | 0/4 [00:00<?, ?it/s]/tmp/job.14646635/ipykernel_391663/1724129108.py:79: FutureWarning: Series.__getitem__ treating keys as positions is deprecated. In a future version, integer keys will always be treated as labels (consistent with DataFrame behavior). To access a value by position, use `ser.iloc[pos]`\n",
      "  'labels': torch.tensor(label, dtype=torch.float32)\n",
      "Epoch 83 Training: 100%|██████████| 4/4 [00:05<00:00,  1.45s/it, loss=1.45]\n",
      "Epoch 83 Validation: 100%|██████████| 1/1 [00:00<00:00,  2.72it/s, loss=3.29]\n",
      "/scratch/user/akash.pillai.0810/.my_env/lib/python3.10/site-packages/sklearn/metrics/_classification.py:1565: UndefinedMetricWarning: F-score is ill-defined and being set to 0.0 due to no true nor predicted samples. Use `zero_division` parameter to control this behavior.\n",
      "  _warn_prf(average, modifier, f\"{metric.capitalize()} is\", len(result))\n",
      "/scratch/user/akash.pillai.0810/.my_env/lib/python3.10/site-packages/sklearn/metrics/_classification.py:1565: UndefinedMetricWarning: Recall is ill-defined and being set to 0.0 due to no true samples. Use `zero_division` parameter to control this behavior.\n",
      "  _warn_prf(average, modifier, f\"{metric.capitalize()} is\", len(result))\n"
     ]
    },
    {
     "name": "stdout",
     "output_type": "stream",
     "text": [
      "Epoch 83: Train Loss=1.6791, Val Loss=3.2904\n",
      "Mean F1 Score: 0.8356, Mean Accuracy: 0.8920, Mean Precision: 0.8182, Mean Recall: 0.8701\n"
     ]
    },
    {
     "name": "stderr",
     "output_type": "stream",
     "text": [
      "Epoch 84 Training:   0%|          | 0/4 [00:00<?, ?it/s]/tmp/job.14646635/ipykernel_391663/1724129108.py:79: FutureWarning: Series.__getitem__ treating keys as positions is deprecated. In a future version, integer keys will always be treated as labels (consistent with DataFrame behavior). To access a value by position, use `ser.iloc[pos]`\n",
      "  'labels': torch.tensor(label, dtype=torch.float32)\n",
      "Epoch 84 Training: 100%|██████████| 4/4 [00:05<00:00,  1.45s/it, loss=2.52] \n",
      "Epoch 84 Validation: 100%|██████████| 1/1 [00:00<00:00,  2.72it/s, loss=3.29]\n",
      "/scratch/user/akash.pillai.0810/.my_env/lib/python3.10/site-packages/sklearn/metrics/_classification.py:1565: UndefinedMetricWarning: F-score is ill-defined and being set to 0.0 due to no true nor predicted samples. Use `zero_division` parameter to control this behavior.\n",
      "  _warn_prf(average, modifier, f\"{metric.capitalize()} is\", len(result))\n",
      "/scratch/user/akash.pillai.0810/.my_env/lib/python3.10/site-packages/sklearn/metrics/_classification.py:1565: UndefinedMetricWarning: Recall is ill-defined and being set to 0.0 due to no true samples. Use `zero_division` parameter to control this behavior.\n",
      "  _warn_prf(average, modifier, f\"{metric.capitalize()} is\", len(result))\n"
     ]
    },
    {
     "name": "stdout",
     "output_type": "stream",
     "text": [
      "Epoch 84: Train Loss=1.6822, Val Loss=3.2893\n",
      "Mean F1 Score: 0.8356, Mean Accuracy: 0.8920, Mean Precision: 0.8182, Mean Recall: 0.8701\n"
     ]
    },
    {
     "name": "stderr",
     "output_type": "stream",
     "text": [
      "Epoch 85 Training:   0%|          | 0/4 [00:00<?, ?it/s]/tmp/job.14646635/ipykernel_391663/1724129108.py:79: FutureWarning: Series.__getitem__ treating keys as positions is deprecated. In a future version, integer keys will always be treated as labels (consistent with DataFrame behavior). To access a value by position, use `ser.iloc[pos]`\n",
      "  'labels': torch.tensor(label, dtype=torch.float32)\n",
      "Epoch 85 Training: 100%|██████████| 4/4 [00:05<00:00,  1.45s/it, loss=0.985]\n",
      "Epoch 85 Validation: 100%|██████████| 1/1 [00:00<00:00,  2.73it/s, loss=3.27]\n",
      "/scratch/user/akash.pillai.0810/.my_env/lib/python3.10/site-packages/sklearn/metrics/_classification.py:1565: UndefinedMetricWarning: F-score is ill-defined and being set to 0.0 due to no true nor predicted samples. Use `zero_division` parameter to control this behavior.\n",
      "  _warn_prf(average, modifier, f\"{metric.capitalize()} is\", len(result))\n",
      "/scratch/user/akash.pillai.0810/.my_env/lib/python3.10/site-packages/sklearn/metrics/_classification.py:1565: UndefinedMetricWarning: Recall is ill-defined and being set to 0.0 due to no true samples. Use `zero_division` parameter to control this behavior.\n",
      "  _warn_prf(average, modifier, f\"{metric.capitalize()} is\", len(result))\n"
     ]
    },
    {
     "name": "stdout",
     "output_type": "stream",
     "text": [
      "Epoch 85: Train Loss=1.7093, Val Loss=3.2669\n",
      "Mean F1 Score: 0.8356, Mean Accuracy: 0.8920, Mean Precision: 0.8182, Mean Recall: 0.8701\n"
     ]
    },
    {
     "name": "stderr",
     "output_type": "stream",
     "text": [
      "Epoch 86 Training:   0%|          | 0/4 [00:00<?, ?it/s]/tmp/job.14646635/ipykernel_391663/1724129108.py:79: FutureWarning: Series.__getitem__ treating keys as positions is deprecated. In a future version, integer keys will always be treated as labels (consistent with DataFrame behavior). To access a value by position, use `ser.iloc[pos]`\n",
      "  'labels': torch.tensor(label, dtype=torch.float32)\n",
      "Epoch 86 Training: 100%|██████████| 4/4 [00:05<00:00,  1.45s/it, loss=1.71]\n",
      "Epoch 86 Validation: 100%|██████████| 1/1 [00:00<00:00,  2.73it/s, loss=3.26]\n",
      "/scratch/user/akash.pillai.0810/.my_env/lib/python3.10/site-packages/sklearn/metrics/_classification.py:1565: UndefinedMetricWarning: F-score is ill-defined and being set to 0.0 due to no true nor predicted samples. Use `zero_division` parameter to control this behavior.\n",
      "  _warn_prf(average, modifier, f\"{metric.capitalize()} is\", len(result))\n",
      "/scratch/user/akash.pillai.0810/.my_env/lib/python3.10/site-packages/sklearn/metrics/_classification.py:1565: UndefinedMetricWarning: Recall is ill-defined and being set to 0.0 due to no true samples. Use `zero_division` parameter to control this behavior.\n",
      "  _warn_prf(average, modifier, f\"{metric.capitalize()} is\", len(result))\n"
     ]
    },
    {
     "name": "stdout",
     "output_type": "stream",
     "text": [
      "Epoch 86: Train Loss=1.6811, Val Loss=3.2643\n",
      "Mean F1 Score: 0.8356, Mean Accuracy: 0.8920, Mean Precision: 0.8182, Mean Recall: 0.8701\n"
     ]
    },
    {
     "name": "stderr",
     "output_type": "stream",
     "text": [
      "Epoch 87 Training:   0%|          | 0/4 [00:00<?, ?it/s]/tmp/job.14646635/ipykernel_391663/1724129108.py:79: FutureWarning: Series.__getitem__ treating keys as positions is deprecated. In a future version, integer keys will always be treated as labels (consistent with DataFrame behavior). To access a value by position, use `ser.iloc[pos]`\n",
      "  'labels': torch.tensor(label, dtype=torch.float32)\n",
      "Epoch 87 Training: 100%|██████████| 4/4 [00:05<00:00,  1.45s/it, loss=0.722]\n",
      "Epoch 87 Validation: 100%|██████████| 1/1 [00:00<00:00,  2.73it/s, loss=3.25]\n",
      "/scratch/user/akash.pillai.0810/.my_env/lib/python3.10/site-packages/sklearn/metrics/_classification.py:1565: UndefinedMetricWarning: F-score is ill-defined and being set to 0.0 due to no true nor predicted samples. Use `zero_division` parameter to control this behavior.\n",
      "  _warn_prf(average, modifier, f\"{metric.capitalize()} is\", len(result))\n",
      "/scratch/user/akash.pillai.0810/.my_env/lib/python3.10/site-packages/sklearn/metrics/_classification.py:1565: UndefinedMetricWarning: Recall is ill-defined and being set to 0.0 due to no true samples. Use `zero_division` parameter to control this behavior.\n",
      "  _warn_prf(average, modifier, f\"{metric.capitalize()} is\", len(result))\n"
     ]
    },
    {
     "name": "stdout",
     "output_type": "stream",
     "text": [
      "Epoch 87: Train Loss=1.6552, Val Loss=3.2533\n",
      "Mean F1 Score: 0.8356, Mean Accuracy: 0.8920, Mean Precision: 0.8182, Mean Recall: 0.8701\n"
     ]
    },
    {
     "name": "stderr",
     "output_type": "stream",
     "text": [
      "Epoch 88 Training:   0%|          | 0/4 [00:00<?, ?it/s]/tmp/job.14646635/ipykernel_391663/1724129108.py:79: FutureWarning: Series.__getitem__ treating keys as positions is deprecated. In a future version, integer keys will always be treated as labels (consistent with DataFrame behavior). To access a value by position, use `ser.iloc[pos]`\n",
      "  'labels': torch.tensor(label, dtype=torch.float32)\n",
      "Epoch 88 Training: 100%|██████████| 4/4 [00:05<00:00,  1.45s/it, loss=2.14]\n",
      "Epoch 88 Validation: 100%|██████████| 1/1 [00:00<00:00,  2.73it/s, loss=3.26]\n",
      "/scratch/user/akash.pillai.0810/.my_env/lib/python3.10/site-packages/sklearn/metrics/_classification.py:1565: UndefinedMetricWarning: F-score is ill-defined and being set to 0.0 due to no true nor predicted samples. Use `zero_division` parameter to control this behavior.\n",
      "  _warn_prf(average, modifier, f\"{metric.capitalize()} is\", len(result))\n",
      "/scratch/user/akash.pillai.0810/.my_env/lib/python3.10/site-packages/sklearn/metrics/_classification.py:1565: UndefinedMetricWarning: Recall is ill-defined and being set to 0.0 due to no true samples. Use `zero_division` parameter to control this behavior.\n",
      "  _warn_prf(average, modifier, f\"{metric.capitalize()} is\", len(result))\n"
     ]
    },
    {
     "name": "stdout",
     "output_type": "stream",
     "text": [
      "Epoch 88: Train Loss=1.6749, Val Loss=3.2617\n",
      "Mean F1 Score: 0.8356, Mean Accuracy: 0.8920, Mean Precision: 0.8182, Mean Recall: 0.8701\n"
     ]
    },
    {
     "name": "stderr",
     "output_type": "stream",
     "text": [
      "Epoch 89 Training:   0%|          | 0/4 [00:00<?, ?it/s]/tmp/job.14646635/ipykernel_391663/1724129108.py:79: FutureWarning: Series.__getitem__ treating keys as positions is deprecated. In a future version, integer keys will always be treated as labels (consistent with DataFrame behavior). To access a value by position, use `ser.iloc[pos]`\n",
      "  'labels': torch.tensor(label, dtype=torch.float32)\n",
      "Epoch 89 Training: 100%|██████████| 4/4 [00:05<00:00,  1.45s/it, loss=1.82]\n",
      "Epoch 89 Validation: 100%|██████████| 1/1 [00:00<00:00,  2.72it/s, loss=3.26]\n",
      "/scratch/user/akash.pillai.0810/.my_env/lib/python3.10/site-packages/sklearn/metrics/_classification.py:1565: UndefinedMetricWarning: F-score is ill-defined and being set to 0.0 due to no true nor predicted samples. Use `zero_division` parameter to control this behavior.\n",
      "  _warn_prf(average, modifier, f\"{metric.capitalize()} is\", len(result))\n",
      "/scratch/user/akash.pillai.0810/.my_env/lib/python3.10/site-packages/sklearn/metrics/_classification.py:1565: UndefinedMetricWarning: Recall is ill-defined and being set to 0.0 due to no true samples. Use `zero_division` parameter to control this behavior.\n",
      "  _warn_prf(average, modifier, f\"{metric.capitalize()} is\", len(result))\n"
     ]
    },
    {
     "name": "stdout",
     "output_type": "stream",
     "text": [
      "Epoch 89: Train Loss=1.6681, Val Loss=3.2613\n",
      "Mean F1 Score: 0.8356, Mean Accuracy: 0.8920, Mean Precision: 0.8182, Mean Recall: 0.8701\n"
     ]
    },
    {
     "name": "stderr",
     "output_type": "stream",
     "text": [
      "Epoch 90 Training:   0%|          | 0/4 [00:00<?, ?it/s]/tmp/job.14646635/ipykernel_391663/1724129108.py:79: FutureWarning: Series.__getitem__ treating keys as positions is deprecated. In a future version, integer keys will always be treated as labels (consistent with DataFrame behavior). To access a value by position, use `ser.iloc[pos]`\n",
      "  'labels': torch.tensor(label, dtype=torch.float32)\n",
      "Epoch 90 Training: 100%|██████████| 4/4 [00:05<00:00,  1.45s/it, loss=1.08]\n",
      "Epoch 90 Validation: 100%|██████████| 1/1 [00:00<00:00,  2.73it/s, loss=3.25]\n",
      "/scratch/user/akash.pillai.0810/.my_env/lib/python3.10/site-packages/sklearn/metrics/_classification.py:1565: UndefinedMetricWarning: F-score is ill-defined and being set to 0.0 due to no true nor predicted samples. Use `zero_division` parameter to control this behavior.\n",
      "  _warn_prf(average, modifier, f\"{metric.capitalize()} is\", len(result))\n",
      "/scratch/user/akash.pillai.0810/.my_env/lib/python3.10/site-packages/sklearn/metrics/_classification.py:1565: UndefinedMetricWarning: Recall is ill-defined and being set to 0.0 due to no true samples. Use `zero_division` parameter to control this behavior.\n",
      "  _warn_prf(average, modifier, f\"{metric.capitalize()} is\", len(result))\n"
     ]
    },
    {
     "name": "stdout",
     "output_type": "stream",
     "text": [
      "Epoch 90: Train Loss=1.6665, Val Loss=3.2459\n",
      "Mean F1 Score: 0.8356, Mean Accuracy: 0.8920, Mean Precision: 0.8182, Mean Recall: 0.8701\n"
     ]
    },
    {
     "name": "stderr",
     "output_type": "stream",
     "text": [
      "Epoch 91 Training:   0%|          | 0/4 [00:00<?, ?it/s]/tmp/job.14646635/ipykernel_391663/1724129108.py:79: FutureWarning: Series.__getitem__ treating keys as positions is deprecated. In a future version, integer keys will always be treated as labels (consistent with DataFrame behavior). To access a value by position, use `ser.iloc[pos]`\n",
      "  'labels': torch.tensor(label, dtype=torch.float32)\n",
      "Epoch 91 Training: 100%|██████████| 4/4 [00:05<00:00,  1.45s/it, loss=1.42] \n",
      "Epoch 91 Validation: 100%|██████████| 1/1 [00:00<00:00,  2.73it/s, loss=3.22]\n",
      "/scratch/user/akash.pillai.0810/.my_env/lib/python3.10/site-packages/sklearn/metrics/_classification.py:1565: UndefinedMetricWarning: F-score is ill-defined and being set to 0.0 due to no true nor predicted samples. Use `zero_division` parameter to control this behavior.\n",
      "  _warn_prf(average, modifier, f\"{metric.capitalize()} is\", len(result))\n",
      "/scratch/user/akash.pillai.0810/.my_env/lib/python3.10/site-packages/sklearn/metrics/_classification.py:1565: UndefinedMetricWarning: Recall is ill-defined and being set to 0.0 due to no true samples. Use `zero_division` parameter to control this behavior.\n",
      "  _warn_prf(average, modifier, f\"{metric.capitalize()} is\", len(result))\n"
     ]
    },
    {
     "name": "stdout",
     "output_type": "stream",
     "text": [
      "Epoch 91: Train Loss=1.6522, Val Loss=3.2212\n",
      "Mean F1 Score: 0.8356, Mean Accuracy: 0.8920, Mean Precision: 0.8182, Mean Recall: 0.8701\n"
     ]
    },
    {
     "name": "stderr",
     "output_type": "stream",
     "text": [
      "Epoch 92 Training:   0%|          | 0/4 [00:00<?, ?it/s]/tmp/job.14646635/ipykernel_391663/1724129108.py:79: FutureWarning: Series.__getitem__ treating keys as positions is deprecated. In a future version, integer keys will always be treated as labels (consistent with DataFrame behavior). To access a value by position, use `ser.iloc[pos]`\n",
      "  'labels': torch.tensor(label, dtype=torch.float32)\n",
      "Epoch 92 Training: 100%|██████████| 4/4 [00:05<00:00,  1.45s/it, loss=1.62]\n",
      "Epoch 92 Validation: 100%|██████████| 1/1 [00:00<00:00,  2.72it/s, loss=3.23]\n",
      "/scratch/user/akash.pillai.0810/.my_env/lib/python3.10/site-packages/sklearn/metrics/_classification.py:1565: UndefinedMetricWarning: F-score is ill-defined and being set to 0.0 due to no true nor predicted samples. Use `zero_division` parameter to control this behavior.\n",
      "  _warn_prf(average, modifier, f\"{metric.capitalize()} is\", len(result))\n",
      "/scratch/user/akash.pillai.0810/.my_env/lib/python3.10/site-packages/sklearn/metrics/_classification.py:1565: UndefinedMetricWarning: Recall is ill-defined and being set to 0.0 due to no true samples. Use `zero_division` parameter to control this behavior.\n",
      "  _warn_prf(average, modifier, f\"{metric.capitalize()} is\", len(result))\n"
     ]
    },
    {
     "name": "stdout",
     "output_type": "stream",
     "text": [
      "Epoch 92: Train Loss=1.6258, Val Loss=3.2277\n",
      "Mean F1 Score: 0.8356, Mean Accuracy: 0.8920, Mean Precision: 0.8182, Mean Recall: 0.8701\n"
     ]
    },
    {
     "name": "stderr",
     "output_type": "stream",
     "text": [
      "Epoch 93 Training:   0%|          | 0/4 [00:00<?, ?it/s]/tmp/job.14646635/ipykernel_391663/1724129108.py:79: FutureWarning: Series.__getitem__ treating keys as positions is deprecated. In a future version, integer keys will always be treated as labels (consistent with DataFrame behavior). To access a value by position, use `ser.iloc[pos]`\n",
      "  'labels': torch.tensor(label, dtype=torch.float32)\n",
      "Epoch 93 Training: 100%|██████████| 4/4 [00:05<00:00,  1.45s/it, loss=2.2]  \n",
      "Epoch 93 Validation: 100%|██████████| 1/1 [00:00<00:00,  2.73it/s, loss=3.23]\n",
      "/scratch/user/akash.pillai.0810/.my_env/lib/python3.10/site-packages/sklearn/metrics/_classification.py:1565: UndefinedMetricWarning: F-score is ill-defined and being set to 0.0 due to no true nor predicted samples. Use `zero_division` parameter to control this behavior.\n",
      "  _warn_prf(average, modifier, f\"{metric.capitalize()} is\", len(result))\n",
      "/scratch/user/akash.pillai.0810/.my_env/lib/python3.10/site-packages/sklearn/metrics/_classification.py:1565: UndefinedMetricWarning: Recall is ill-defined and being set to 0.0 due to no true samples. Use `zero_division` parameter to control this behavior.\n",
      "  _warn_prf(average, modifier, f\"{metric.capitalize()} is\", len(result))\n"
     ]
    },
    {
     "name": "stdout",
     "output_type": "stream",
     "text": [
      "Epoch 93: Train Loss=1.6370, Val Loss=3.2282\n",
      "Mean F1 Score: 0.8356, Mean Accuracy: 0.8920, Mean Precision: 0.8182, Mean Recall: 0.8701\n"
     ]
    },
    {
     "name": "stderr",
     "output_type": "stream",
     "text": [
      "Epoch 94 Training:   0%|          | 0/4 [00:00<?, ?it/s]/tmp/job.14646635/ipykernel_391663/1724129108.py:79: FutureWarning: Series.__getitem__ treating keys as positions is deprecated. In a future version, integer keys will always be treated as labels (consistent with DataFrame behavior). To access a value by position, use `ser.iloc[pos]`\n",
      "  'labels': torch.tensor(label, dtype=torch.float32)\n",
      "Epoch 94 Training: 100%|██████████| 4/4 [00:05<00:00,  1.45s/it, loss=1.46] \n",
      "Epoch 94 Validation: 100%|██████████| 1/1 [00:00<00:00,  2.72it/s, loss=3.23]\n",
      "/scratch/user/akash.pillai.0810/.my_env/lib/python3.10/site-packages/sklearn/metrics/_classification.py:1565: UndefinedMetricWarning: F-score is ill-defined and being set to 0.0 due to no true nor predicted samples. Use `zero_division` parameter to control this behavior.\n",
      "  _warn_prf(average, modifier, f\"{metric.capitalize()} is\", len(result))\n",
      "/scratch/user/akash.pillai.0810/.my_env/lib/python3.10/site-packages/sklearn/metrics/_classification.py:1565: UndefinedMetricWarning: Recall is ill-defined and being set to 0.0 due to no true samples. Use `zero_division` parameter to control this behavior.\n",
      "  _warn_prf(average, modifier, f\"{metric.capitalize()} is\", len(result))\n"
     ]
    },
    {
     "name": "stdout",
     "output_type": "stream",
     "text": [
      "Epoch 94: Train Loss=1.6351, Val Loss=3.2327\n",
      "Mean F1 Score: 0.8356, Mean Accuracy: 0.8920, Mean Precision: 0.8182, Mean Recall: 0.8701\n"
     ]
    },
    {
     "name": "stderr",
     "output_type": "stream",
     "text": [
      "Epoch 95 Training:   0%|          | 0/4 [00:00<?, ?it/s]/tmp/job.14646635/ipykernel_391663/1724129108.py:79: FutureWarning: Series.__getitem__ treating keys as positions is deprecated. In a future version, integer keys will always be treated as labels (consistent with DataFrame behavior). To access a value by position, use `ser.iloc[pos]`\n",
      "  'labels': torch.tensor(label, dtype=torch.float32)\n",
      "Epoch 95 Training: 100%|██████████| 4/4 [00:05<00:00,  1.45s/it, loss=2.09] \n",
      "Epoch 95 Validation: 100%|██████████| 1/1 [00:00<00:00,  2.73it/s, loss=3.25]\n",
      "/scratch/user/akash.pillai.0810/.my_env/lib/python3.10/site-packages/sklearn/metrics/_classification.py:1565: UndefinedMetricWarning: F-score is ill-defined and being set to 0.0 due to no true nor predicted samples. Use `zero_division` parameter to control this behavior.\n",
      "  _warn_prf(average, modifier, f\"{metric.capitalize()} is\", len(result))\n",
      "/scratch/user/akash.pillai.0810/.my_env/lib/python3.10/site-packages/sklearn/metrics/_classification.py:1565: UndefinedMetricWarning: Recall is ill-defined and being set to 0.0 due to no true samples. Use `zero_division` parameter to control this behavior.\n",
      "  _warn_prf(average, modifier, f\"{metric.capitalize()} is\", len(result))\n"
     ]
    },
    {
     "name": "stdout",
     "output_type": "stream",
     "text": [
      "Epoch 95: Train Loss=1.6366, Val Loss=3.2547\n",
      "Mean F1 Score: 0.8356, Mean Accuracy: 0.8920, Mean Precision: 0.8182, Mean Recall: 0.8701\n"
     ]
    },
    {
     "name": "stderr",
     "output_type": "stream",
     "text": [
      "Epoch 96 Training:   0%|          | 0/4 [00:00<?, ?it/s]/tmp/job.14646635/ipykernel_391663/1724129108.py:79: FutureWarning: Series.__getitem__ treating keys as positions is deprecated. In a future version, integer keys will always be treated as labels (consistent with DataFrame behavior). To access a value by position, use `ser.iloc[pos]`\n",
      "  'labels': torch.tensor(label, dtype=torch.float32)\n",
      "Epoch 96 Training: 100%|██████████| 4/4 [00:05<00:00,  1.45s/it, loss=0.967]\n",
      "Epoch 96 Validation: 100%|██████████| 1/1 [00:00<00:00,  2.73it/s, loss=3.23]\n",
      "/scratch/user/akash.pillai.0810/.my_env/lib/python3.10/site-packages/sklearn/metrics/_classification.py:1565: UndefinedMetricWarning: F-score is ill-defined and being set to 0.0 due to no true nor predicted samples. Use `zero_division` parameter to control this behavior.\n",
      "  _warn_prf(average, modifier, f\"{metric.capitalize()} is\", len(result))\n",
      "/scratch/user/akash.pillai.0810/.my_env/lib/python3.10/site-packages/sklearn/metrics/_classification.py:1565: UndefinedMetricWarning: Recall is ill-defined and being set to 0.0 due to no true samples. Use `zero_division` parameter to control this behavior.\n",
      "  _warn_prf(average, modifier, f\"{metric.capitalize()} is\", len(result))\n"
     ]
    },
    {
     "name": "stdout",
     "output_type": "stream",
     "text": [
      "Epoch 96: Train Loss=1.6129, Val Loss=3.2319\n",
      "Mean F1 Score: 0.8356, Mean Accuracy: 0.8920, Mean Precision: 0.8182, Mean Recall: 0.8701\n"
     ]
    },
    {
     "name": "stderr",
     "output_type": "stream",
     "text": [
      "Epoch 97 Training:   0%|          | 0/4 [00:00<?, ?it/s]/tmp/job.14646635/ipykernel_391663/1724129108.py:79: FutureWarning: Series.__getitem__ treating keys as positions is deprecated. In a future version, integer keys will always be treated as labels (consistent with DataFrame behavior). To access a value by position, use `ser.iloc[pos]`\n",
      "  'labels': torch.tensor(label, dtype=torch.float32)\n",
      "Epoch 97 Training: 100%|██████████| 4/4 [00:05<00:00,  1.45s/it, loss=2.18] \n",
      "Epoch 97 Validation: 100%|██████████| 1/1 [00:00<00:00,  2.73it/s, loss=3.22]\n",
      "/scratch/user/akash.pillai.0810/.my_env/lib/python3.10/site-packages/sklearn/metrics/_classification.py:1565: UndefinedMetricWarning: F-score is ill-defined and being set to 0.0 due to no true nor predicted samples. Use `zero_division` parameter to control this behavior.\n",
      "  _warn_prf(average, modifier, f\"{metric.capitalize()} is\", len(result))\n",
      "/scratch/user/akash.pillai.0810/.my_env/lib/python3.10/site-packages/sklearn/metrics/_classification.py:1565: UndefinedMetricWarning: Recall is ill-defined and being set to 0.0 due to no true samples. Use `zero_division` parameter to control this behavior.\n",
      "  _warn_prf(average, modifier, f\"{metric.capitalize()} is\", len(result))\n"
     ]
    },
    {
     "name": "stdout",
     "output_type": "stream",
     "text": [
      "Epoch 97: Train Loss=1.6409, Val Loss=3.2214\n",
      "Mean F1 Score: 0.8356, Mean Accuracy: 0.8920, Mean Precision: 0.8182, Mean Recall: 0.8701\n"
     ]
    },
    {
     "name": "stderr",
     "output_type": "stream",
     "text": [
      "Epoch 98 Training:   0%|          | 0/4 [00:00<?, ?it/s]/tmp/job.14646635/ipykernel_391663/1724129108.py:79: FutureWarning: Series.__getitem__ treating keys as positions is deprecated. In a future version, integer keys will always be treated as labels (consistent with DataFrame behavior). To access a value by position, use `ser.iloc[pos]`\n",
      "  'labels': torch.tensor(label, dtype=torch.float32)\n",
      "Epoch 98 Training: 100%|██████████| 4/4 [00:05<00:00,  1.45s/it, loss=2.25]\n",
      "Epoch 98 Validation: 100%|██████████| 1/1 [00:00<00:00,  2.73it/s, loss=3.22]\n",
      "/scratch/user/akash.pillai.0810/.my_env/lib/python3.10/site-packages/sklearn/metrics/_classification.py:1565: UndefinedMetricWarning: F-score is ill-defined and being set to 0.0 due to no true nor predicted samples. Use `zero_division` parameter to control this behavior.\n",
      "  _warn_prf(average, modifier, f\"{metric.capitalize()} is\", len(result))\n",
      "/scratch/user/akash.pillai.0810/.my_env/lib/python3.10/site-packages/sklearn/metrics/_classification.py:1565: UndefinedMetricWarning: Recall is ill-defined and being set to 0.0 due to no true samples. Use `zero_division` parameter to control this behavior.\n",
      "  _warn_prf(average, modifier, f\"{metric.capitalize()} is\", len(result))\n"
     ]
    },
    {
     "name": "stdout",
     "output_type": "stream",
     "text": [
      "Epoch 98: Train Loss=1.6412, Val Loss=3.2176\n",
      "Mean F1 Score: 0.8356, Mean Accuracy: 0.8920, Mean Precision: 0.8182, Mean Recall: 0.8701\n"
     ]
    },
    {
     "name": "stderr",
     "output_type": "stream",
     "text": [
      "Epoch 99 Training:   0%|          | 0/4 [00:00<?, ?it/s]/tmp/job.14646635/ipykernel_391663/1724129108.py:79: FutureWarning: Series.__getitem__ treating keys as positions is deprecated. In a future version, integer keys will always be treated as labels (consistent with DataFrame behavior). To access a value by position, use `ser.iloc[pos]`\n",
      "  'labels': torch.tensor(label, dtype=torch.float32)\n",
      "Epoch 99 Training: 100%|██████████| 4/4 [00:05<00:00,  1.45s/it, loss=2.5]  \n",
      "Epoch 99 Validation: 100%|██████████| 1/1 [00:00<00:00,  2.73it/s, loss=3.21]\n",
      "/scratch/user/akash.pillai.0810/.my_env/lib/python3.10/site-packages/sklearn/metrics/_classification.py:1565: UndefinedMetricWarning: F-score is ill-defined and being set to 0.0 due to no true nor predicted samples. Use `zero_division` parameter to control this behavior.\n",
      "  _warn_prf(average, modifier, f\"{metric.capitalize()} is\", len(result))\n",
      "/scratch/user/akash.pillai.0810/.my_env/lib/python3.10/site-packages/sklearn/metrics/_classification.py:1565: UndefinedMetricWarning: Recall is ill-defined and being set to 0.0 due to no true samples. Use `zero_division` parameter to control this behavior.\n",
      "  _warn_prf(average, modifier, f\"{metric.capitalize()} is\", len(result))\n"
     ]
    },
    {
     "name": "stdout",
     "output_type": "stream",
     "text": [
      "Epoch 99: Train Loss=1.6633, Val Loss=3.2061\n",
      "Mean F1 Score: 0.8356, Mean Accuracy: 0.8920, Mean Precision: 0.8182, Mean Recall: 0.8701\n"
     ]
    },
    {
     "name": "stderr",
     "output_type": "stream",
     "text": [
      "Epoch 100 Training:   0%|          | 0/4 [00:00<?, ?it/s]/tmp/job.14646635/ipykernel_391663/1724129108.py:79: FutureWarning: Series.__getitem__ treating keys as positions is deprecated. In a future version, integer keys will always be treated as labels (consistent with DataFrame behavior). To access a value by position, use `ser.iloc[pos]`\n",
      "  'labels': torch.tensor(label, dtype=torch.float32)\n",
      "Epoch 100 Training: 100%|██████████| 4/4 [00:05<00:00,  1.45s/it, loss=2.51]\n",
      "Epoch 100 Validation: 100%|██████████| 1/1 [00:00<00:00,  2.72it/s, loss=3.21]"
     ]
    },
    {
     "name": "stdout",
     "output_type": "stream",
     "text": [
      "Epoch 100: Train Loss=1.6216, Val Loss=3.2102\n",
      "Mean F1 Score: 0.8356, Mean Accuracy: 0.8920, Mean Precision: 0.8182, Mean Recall: 0.8701\n"
     ]
    },
    {
     "name": "stderr",
     "output_type": "stream",
     "text": [
      "\n",
      "/scratch/user/akash.pillai.0810/.my_env/lib/python3.10/site-packages/sklearn/metrics/_classification.py:1565: UndefinedMetricWarning: F-score is ill-defined and being set to 0.0 due to no true nor predicted samples. Use `zero_division` parameter to control this behavior.\n",
      "  _warn_prf(average, modifier, f\"{metric.capitalize()} is\", len(result))\n",
      "/scratch/user/akash.pillai.0810/.my_env/lib/python3.10/site-packages/sklearn/metrics/_classification.py:1565: UndefinedMetricWarning: Recall is ill-defined and being set to 0.0 due to no true samples. Use `zero_division` parameter to control this behavior.\n",
      "  _warn_prf(average, modifier, f\"{metric.capitalize()} is\", len(result))\n"
     ]
    }
   ],
   "source": [
    "size_threshold = 80\n",
    "tweets2 = pd.read_csv('organized_with_zipcode.csv')\n",
    "\n",
    "tweets_beryl = tweets2[tweets2.storm_name == 'beryl']\n",
    "bbu_areas = tweets_beryl.place_bbox.apply(lambda x: [[float(i.strip('()')) for i in x.split(', ')][i] for i in [1,0,3,2]])\n",
    "tweets_beryl = tweets_beryl.loc[((tweets_beryl.geo.apply(lambda x: 'Point' in str(x))) | (bbu_areas.apply(lambda x: get_box_area(*x)) < size_threshold)), :]\n",
    "tweet_grouped_beryl = tweets_beryl.groupby('zip_code')\n",
    "targets_beryl = pd.read_csv('disaster_4798.csv')\n",
    "target_grouped_beryl = targets_beryl.groupby('damagedZipCode')\n",
    "\n",
    "fold_results, saved_models = kfoldcv(tweet_grouped_beryl, target_grouped_beryl, max_len = 1024, batch_size=16, num_epochs = 100)"
   ]
  }
 ],
 "metadata": {
  "kernelspec": {
   "display_name": "Python 3 (ipykernel)",
   "language": "python",
   "name": "python3"
  },
  "language_info": {
   "codemirror_mode": {
    "name": "ipython",
    "version": 3
   },
   "file_extension": ".py",
   "mimetype": "text/x-python",
   "name": "python",
   "nbconvert_exporter": "python",
   "pygments_lexer": "ipython3",
   "version": "3.10.8"
  }
 },
 "nbformat": 4,
 "nbformat_minor": 4
}
