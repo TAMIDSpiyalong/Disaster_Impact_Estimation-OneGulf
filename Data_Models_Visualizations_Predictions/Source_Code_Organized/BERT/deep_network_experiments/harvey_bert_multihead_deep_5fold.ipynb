{
 "cells": [
  {
   "cell_type": "code",
   "execution_count": 1,
   "id": "6620a096-04b8-4e68-8bdc-505ae4c6852b",
   "metadata": {},
   "outputs": [],
   "source": [
    "import os\n",
    "import torch\n",
    "import torch.nn as nn\n",
    "import torch.optim as optim\n",
    "import transformers\n",
    "from torch.utils.data import Dataset, DataLoader\n",
    "from sklearn.model_selection import KFold\n",
    "from sklearn.metrics import f1_score, accuracy_score, precision_score, recall_score\n",
    "import pandas as pd\n",
    "import numpy as np\n",
    "from tqdm import tqdm\n",
    "import copy\n",
    "import math\n",
    "\n",
    "# Define the device\n",
    "device = torch.device(\"cuda\" if torch.cuda.is_available() else \"cpu\")\n",
    "\n",
    "# Set seed for reproducibility\n",
    "torch.manual_seed(64)\n",
    "\n",
    "# Path for saving models and results\n",
    "save_path = 'Training_results/Harvey_5foldcv_BERT_Multihead_Deeper_512/'\n",
    "os.makedirs(save_path, exist_ok=True)\n",
    "\n",
    "# Load BERT tokenizer and model\n",
    "tokenizer = transformers.BertTokenizer.from_pretrained('bert-base-uncased')\n",
    "model_bert = transformers.BertModel.from_pretrained('bert-base-uncased')\n",
    "\n",
    "def haversine(lat1, lon1, lat2, lon2):\n",
    "    R = 3959  \n",
    "    lat1, lon1, lat2, lon2 = map(math.radians, [lat1, lon1, lat2, lon2])\n",
    "    dlat, dlon = lat2 - lat1, lon2 - lon1\n",
    "    a = math.sin(dlat / 2)**2 + math.cos(lat1) * math.cos(lat2) * math.sin(dlon / 2)**2\n",
    "    c = 2 * math.atan2(math.sqrt(a), math.sqrt(1 - a))\n",
    "    return R * c\n",
    "\n",
    "def get_box_area(lat1, lon1, lat2, lon2):\n",
    "    side1 = haversine(lat1, lon1, lat1, lon2)\n",
    "    side2 = haversine(lat1, lon1, lat2, lon1)\n",
    "    return side1 * side2\n",
    "\n",
    "# Get the target list if not provided\n",
    "def get_target_list(target_list=[]):\n",
    "    if not target_list:\n",
    "        target_list = [\n",
    "            'homeOwnersInsurance', 'floodInsurance', 'destroyed', 'floodDamage', 'roofDamage', \n",
    "            'tsaEligible', 'tsaCheckedIn', 'rentalAssistanceEligible', 'repairAssistanceEligible', \n",
    "            'replacementAssistanceEligible', 'personalPropertyEligible'\n",
    "        ]\n",
    "    return target_list\n",
    "\n",
    "# Define dataset class to handle tokenization and data loading\n",
    "class CustomDataset(Dataset):\n",
    "    def __init__(self, texts, labels, tokenizer, max_len):\n",
    "        self.texts = texts\n",
    "        self.labels = labels\n",
    "        self.tokenizer = tokenizer\n",
    "        self.max_len = max_len\n",
    "\n",
    "    def __len__(self):\n",
    "        return len(self.labels)\n",
    "\n",
    "    def __getitem__(self, idx):\n",
    "        text = self.texts[idx]\n",
    "        label = self.labels[idx]\n",
    "\n",
    "        # Tokenizing the text\n",
    "        encoding = self.tokenizer.encode_plus(\n",
    "            text,\n",
    "            add_special_tokens=True,\n",
    "            max_length=self.max_len,\n",
    "            padding='max_length',\n",
    "            truncation=True,\n",
    "            return_tensors='pt'\n",
    "        )\n",
    "\n",
    "        return {\n",
    "            'input_ids': encoding['input_ids'].squeeze(),\n",
    "            'attention_mask': encoding['attention_mask'].squeeze(),\n",
    "            'labels': torch.tensor(label, dtype=torch.float32)\n",
    "        }\n",
    "\n",
    "class BERTMultiDeepHeadClassifier(nn.Module):\n",
    "    def __init__(self, num_targets=11):\n",
    "        super(BERTMultiDeepHeadClassifier, self).__init__()\n",
    "        self.bert = model_bert\n",
    "        self.drop = nn.Dropout(0.3)\n",
    "        \n",
    "        self.heads = nn.ModuleList([\n",
    "            nn.Sequential(\n",
    "                nn.Linear(self.bert.config.hidden_size, 512),\n",
    "                nn.ReLU(),\n",
    "                nn.Dropout(0.3),\n",
    "                nn.Linear(512, 128),\n",
    "                nn.ReLU(),\n",
    "                nn.Dropout(0.3),\n",
    "                nn.Linear(128, 1),\n",
    "                nn.Sigmoid()\n",
    "            ) for _ in range(num_targets)\n",
    "        ])\n",
    "\n",
    "    def forward(self, input_ids, attention_mask):\n",
    "        outputs = self.bert(input_ids=input_ids, attention_mask=attention_mask)\n",
    "        pooled_output = self.drop(outputs.pooler_output)\n",
    "        return torch.cat([head(pooled_output) for head in self.heads], dim=1)\n",
    "\n",
    "def kfoldcv(grouped_tweets, grouped_targets, target_list=[], max_len=256, batch_size=32, num_epochs=10, patience=15):\n",
    "    saved_models = []\n",
    "    target_list = get_target_list(target_list)\n",
    "    \n",
    "    tweet_dict = {int(name): group['text'] for name, group in grouped_tweets}\n",
    "    target_dict = {int(name): group[target_list] for name, group in grouped_targets}\n",
    "    \n",
    "    intersecting_zips = list(set(target_dict.keys()) & set(tweet_dict.keys()))\n",
    "    paired_data = {\n",
    "        name: [target_dict[name].sum().apply(lambda x: 1 if x > 0 else 0), tweet_dict[name]] for name in intersecting_zips\n",
    "    }\n",
    "    \n",
    "    texts = ['\\n'.join(v[1].to_list()) for v in paired_data.values()]\n",
    "    labels_ = [v[0] for v in paired_data.values()]\n",
    "    \n",
    "    kfold = KFold(n_splits=5, shuffle=True, random_state=42)\n",
    "    best_f1 = -float('inf')\n",
    "    \n",
    "    for fold, (train_idx, test_idx) in enumerate(kfold.split(texts, labels_)):\n",
    "        print(f\"Training fold {fold + 1}...\")\n",
    "\n",
    "        X_train, X_test = [texts[i] for i in train_idx], [texts[i] for i in test_idx]\n",
    "        y_train, y_test = [labels_[i] for i in train_idx], [labels_[i] for i in test_idx]\n",
    "        \n",
    "        train_dataset = CustomDataset(X_train, y_train, tokenizer, max_len)\n",
    "        test_dataset = CustomDataset(X_test, y_test, tokenizer, max_len)\n",
    "        \n",
    "        train_loader = DataLoader(train_dataset, batch_size=batch_size, shuffle=True)\n",
    "        test_loader = DataLoader(test_dataset, batch_size=batch_size, shuffle=False)\n",
    "        \n",
    "        model = BERTMultiDeepHeadClassifier(num_targets=len(target_list)).to(device)\n",
    "        optimizer = optim.Adam(model.parameters(), lr=1e-5)\n",
    "        criterion = nn.BCELoss()\n",
    "        scheduler = optim.lr_scheduler.ReduceLROnPlateau(optimizer, mode='max', factor=0.5, patience=2, verbose=True)\n",
    "        \n",
    "        early_stop_count = 0\n",
    "        best_model_wts = copy.deepcopy(model.state_dict())\n",
    "        best_epoch_f1 = 0\n",
    "        \n",
    "        for epoch in range(num_epochs):\n",
    "            model.train()\n",
    "            train_loss = 0\n",
    "            train_preds, train_labels = [], []\n",
    "            \n",
    "            with tqdm(train_loader, desc=f\"Epoch {epoch+1}/{num_epochs}\", unit=\"batch\") as tepoch:\n",
    "                for batch in tepoch:\n",
    "                    optimizer.zero_grad()\n",
    "                    \n",
    "                    input_ids = batch['input_ids'].to(device)\n",
    "                    attention_mask = batch['attention_mask'].to(device)\n",
    "                    labels = batch['labels'].to(device)\n",
    "                    \n",
    "                    outputs = model(input_ids, attention_mask)\n",
    "                    loss = sum([criterion(outputs[:, i], labels[:, i]) for i in range(len(target_list))])\n",
    "                    \n",
    "                    loss.backward()\n",
    "                    optimizer.step()\n",
    "                    train_loss += loss.item()\n",
    "                    \n",
    "                    tepoch.set_postfix(loss=loss.item())\n",
    "                    \n",
    "                    train_preds.append(outputs.detach().cpu().numpy())\n",
    "                    train_labels.append(labels.cpu().numpy())\n",
    "            \n",
    "            train_preds = np.vstack(train_preds)\n",
    "            train_labels = np.vstack(train_labels)\n",
    "            \n",
    "            model.eval()\n",
    "            val_loss = 0\n",
    "            val_preds, val_labels = [], []\n",
    "            \n",
    "            with torch.no_grad():\n",
    "                for batch in tqdm(test_loader, desc=\"Validating\", unit=\"batch\"):\n",
    "                    input_ids = batch['input_ids'].to(device)\n",
    "                    attention_mask = batch['attention_mask'].to(device)\n",
    "                    labels = batch['labels'].to(device)\n",
    "                    \n",
    "                    outputs = model(input_ids, attention_mask)\n",
    "                    loss = sum([criterion(outputs[:, i], labels[:, i]) for i in range(len(target_list))])\n",
    "                    \n",
    "                    val_loss += loss.item()\n",
    "                    val_preds.append(outputs.cpu().numpy())\n",
    "                    val_labels.append(labels.cpu().numpy())\n",
    "            \n",
    "            val_preds = np.vstack(val_preds)\n",
    "            val_labels = np.vstack(val_labels)\n",
    "            \n",
    "            f1 = np.mean([f1_score(val_labels[:, i], val_preds[:, i] > 0.5) for i in range(len(target_list))])\n",
    "            accuracy = np.mean([accuracy_score(val_labels[:, i], val_preds[:, i] > 0.5) for i in range(len(target_list))])\n",
    "            precision = np.mean([precision_score(val_labels[:, i], val_preds[:, i] > 0.5) for i in range(len(target_list))])\n",
    "            recall = np.mean([recall_score(val_labels[:, i], val_preds[:, i] > 0.5) for i in range(len(target_list))])\n",
    "            \n",
    "            print(f\"Epoch {epoch+1}: Train Loss: {train_loss:.4f}, Val Loss: {val_loss:.4f}, F1: {f1:.4f}, Accuracy: {accuracy:.4f}, Precision: {precision:.4f}, Recall: {recall:.4f}\")\n",
    "            \n",
    "            scheduler.step(f1)\n",
    "            \n",
    "            if f1 > best_epoch_f1:\n",
    "                best_epoch_f1 = f1\n",
    "                best_model_wts = copy.deepcopy(model.state_dict())\n",
    "                early_stop_count = 0\n",
    "            else:\n",
    "                early_stop_count += 1\n",
    "                if early_stop_count >= patience:\n",
    "                    print(\"Early stopping triggered.\")\n",
    "                    break\n",
    "        \n",
    "        model.load_state_dict(best_model_wts)\n",
    "        torch.save(model.state_dict(), os.path.join(save_path, f\"bert_model_fold_{fold+1}.pth\"))\n",
    "        saved_models.append(model)"
   ]
  },
  {
   "cell_type": "code",
   "execution_count": 2,
   "id": "893d3a12-f90a-4fe3-8fef-33b0076210e3",
   "metadata": {
    "scrolled": true
   },
   "outputs": [
    {
     "name": "stderr",
     "output_type": "stream",
     "text": [
      "C:\\Users\\udays\\AppData\\Local\\Temp\\ipykernel_15096\\1286408893.py:12: DtypeWarning: Columns (9,10,13,28,46,49) have mixed types. Specify dtype option on import or set low_memory=False.\n",
      "  targets_harvey = pd.read_csv('D:/TAMIDS/Disaster_Impact_Estimation/targets/disaster_4332.csv')\n"
     ]
    },
    {
     "name": "stdout",
     "output_type": "stream",
     "text": [
      "Training fold 1...\n"
     ]
    },
    {
     "name": "stderr",
     "output_type": "stream",
     "text": [
      "C:\\Users\\udays\\miniconda3\\Lib\\site-packages\\torch\\optim\\lr_scheduler.py:62: UserWarning: The verbose parameter is deprecated. Please use get_last_lr() to access the learning rate.\n",
      "  warnings.warn(\n",
      "C:\\Users\\udays\\AppData\\Local\\Temp\\ipykernel_15096\\3760703809.py:80: FutureWarning: Series.__getitem__ treating keys as positions is deprecated. In a future version, integer keys will always be treated as labels (consistent with DataFrame behavior). To access a value by position, use `ser.iloc[pos]`\n",
      "  'labels': torch.tensor(label, dtype=torch.float32)\n",
      "Epoch 1/100: 100%|███████████████████████████████████████████████████████| 14/14 [00:22<00:00,  1.63s/batch, loss=7.49]\n",
      "Validating: 100%|█████████████████████████████████████████████████████████████████████| 4/4 [00:02<00:00,  1.63batch/s]\n",
      "C:\\Users\\udays\\miniconda3\\Lib\\site-packages\\sklearn\\metrics\\_classification.py:1531: UndefinedMetricWarning: Precision is ill-defined and being set to 0.0 due to no predicted samples. Use `zero_division` parameter to control this behavior.\n",
      "  _warn_prf(average, modifier, f\"{metric.capitalize()} is\", len(result))\n"
     ]
    },
    {
     "name": "stdout",
     "output_type": "stream",
     "text": [
      "Epoch 1: Train Loss: 105.7690, Val Loss: 29.5674, F1: 0.6401, Accuracy: 0.6741, Precision: 0.5284, Recall: 0.8164\n"
     ]
    },
    {
     "name": "stderr",
     "output_type": "stream",
     "text": [
      "C:\\Users\\udays\\AppData\\Local\\Temp\\ipykernel_15096\\3760703809.py:80: FutureWarning: Series.__getitem__ treating keys as positions is deprecated. In a future version, integer keys will always be treated as labels (consistent with DataFrame behavior). To access a value by position, use `ser.iloc[pos]`\n",
      "  'labels': torch.tensor(label, dtype=torch.float32)\n",
      "Epoch 2/100: 100%|███████████████████████████████████████████████████████| 14/14 [00:22<00:00,  1.64s/batch, loss=7.28]\n",
      "Validating: 100%|█████████████████████████████████████████████████████████████████████| 4/4 [00:02<00:00,  1.73batch/s]\n",
      "C:\\Users\\udays\\miniconda3\\Lib\\site-packages\\sklearn\\metrics\\_classification.py:1531: UndefinedMetricWarning: Precision is ill-defined and being set to 0.0 due to no predicted samples. Use `zero_division` parameter to control this behavior.\n",
      "  _warn_prf(average, modifier, f\"{metric.capitalize()} is\", len(result))\n",
      "C:\\Users\\udays\\miniconda3\\Lib\\site-packages\\sklearn\\metrics\\_classification.py:1531: UndefinedMetricWarning: Precision is ill-defined and being set to 0.0 due to no predicted samples. Use `zero_division` parameter to control this behavior.\n",
      "  _warn_prf(average, modifier, f\"{metric.capitalize()} is\", len(result))\n"
     ]
    },
    {
     "name": "stdout",
     "output_type": "stream",
     "text": [
      "Epoch 2: Train Loss: 102.3982, Val Loss: 28.7337, F1: 0.6409, Accuracy: 0.6807, Precision: 0.5288, Recall: 0.8182\n"
     ]
    },
    {
     "name": "stderr",
     "output_type": "stream",
     "text": [
      "C:\\Users\\udays\\AppData\\Local\\Temp\\ipykernel_15096\\3760703809.py:80: FutureWarning: Series.__getitem__ treating keys as positions is deprecated. In a future version, integer keys will always be treated as labels (consistent with DataFrame behavior). To access a value by position, use `ser.iloc[pos]`\n",
      "  'labels': torch.tensor(label, dtype=torch.float32)\n",
      "Epoch 3/100: 100%|███████████████████████████████████████████████████████| 14/14 [00:22<00:00,  1.64s/batch, loss=6.91]\n",
      "Validating: 100%|█████████████████████████████████████████████████████████████████████| 4/4 [00:02<00:00,  1.73batch/s]\n",
      "C:\\Users\\udays\\miniconda3\\Lib\\site-packages\\sklearn\\metrics\\_classification.py:1531: UndefinedMetricWarning: Precision is ill-defined and being set to 0.0 due to no predicted samples. Use `zero_division` parameter to control this behavior.\n",
      "  _warn_prf(average, modifier, f\"{metric.capitalize()} is\", len(result))\n",
      "C:\\Users\\udays\\miniconda3\\Lib\\site-packages\\sklearn\\metrics\\_classification.py:1531: UndefinedMetricWarning: Precision is ill-defined and being set to 0.0 due to no predicted samples. Use `zero_division` parameter to control this behavior.\n",
      "  _warn_prf(average, modifier, f\"{metric.capitalize()} is\", len(result))\n"
     ]
    },
    {
     "name": "stdout",
     "output_type": "stream",
     "text": [
      "Epoch 3: Train Loss: 99.8706, Val Loss: 28.1080, F1: 0.6409, Accuracy: 0.6807, Precision: 0.5288, Recall: 0.8182\n"
     ]
    },
    {
     "name": "stderr",
     "output_type": "stream",
     "text": [
      "C:\\Users\\udays\\AppData\\Local\\Temp\\ipykernel_15096\\3760703809.py:80: FutureWarning: Series.__getitem__ treating keys as positions is deprecated. In a future version, integer keys will always be treated as labels (consistent with DataFrame behavior). To access a value by position, use `ser.iloc[pos]`\n",
      "  'labels': torch.tensor(label, dtype=torch.float32)\n",
      "Epoch 4/100: 100%|███████████████████████████████████████████████████████| 14/14 [00:23<00:00,  1.67s/batch, loss=6.86]\n",
      "Validating: 100%|█████████████████████████████████████████████████████████████████████| 4/4 [00:02<00:00,  1.64batch/s]\n",
      "C:\\Users\\udays\\miniconda3\\Lib\\site-packages\\sklearn\\metrics\\_classification.py:1531: UndefinedMetricWarning: Precision is ill-defined and being set to 0.0 due to no predicted samples. Use `zero_division` parameter to control this behavior.\n",
      "  _warn_prf(average, modifier, f\"{metric.capitalize()} is\", len(result))\n",
      "C:\\Users\\udays\\miniconda3\\Lib\\site-packages\\sklearn\\metrics\\_classification.py:1531: UndefinedMetricWarning: Precision is ill-defined and being set to 0.0 due to no predicted samples. Use `zero_division` parameter to control this behavior.\n",
      "  _warn_prf(average, modifier, f\"{metric.capitalize()} is\", len(result))\n"
     ]
    },
    {
     "name": "stdout",
     "output_type": "stream",
     "text": [
      "Epoch 4: Train Loss: 98.0252, Val Loss: 27.5943, F1: 0.6409, Accuracy: 0.6807, Precision: 0.5288, Recall: 0.8182\n"
     ]
    },
    {
     "name": "stderr",
     "output_type": "stream",
     "text": [
      "C:\\Users\\udays\\AppData\\Local\\Temp\\ipykernel_15096\\3760703809.py:80: FutureWarning: Series.__getitem__ treating keys as positions is deprecated. In a future version, integer keys will always be treated as labels (consistent with DataFrame behavior). To access a value by position, use `ser.iloc[pos]`\n",
      "  'labels': torch.tensor(label, dtype=torch.float32)\n",
      "Epoch 5/100: 100%|███████████████████████████████████████████████████████| 14/14 [00:23<00:00,  1.65s/batch, loss=6.54]\n",
      "Validating: 100%|█████████████████████████████████████████████████████████████████████| 4/4 [00:02<00:00,  1.64batch/s]\n",
      "C:\\Users\\udays\\miniconda3\\Lib\\site-packages\\sklearn\\metrics\\_classification.py:1531: UndefinedMetricWarning: Precision is ill-defined and being set to 0.0 due to no predicted samples. Use `zero_division` parameter to control this behavior.\n",
      "  _warn_prf(average, modifier, f\"{metric.capitalize()} is\", len(result))\n",
      "C:\\Users\\udays\\miniconda3\\Lib\\site-packages\\sklearn\\metrics\\_classification.py:1531: UndefinedMetricWarning: Precision is ill-defined and being set to 0.0 due to no predicted samples. Use `zero_division` parameter to control this behavior.\n",
      "  _warn_prf(average, modifier, f\"{metric.capitalize()} is\", len(result))\n"
     ]
    },
    {
     "name": "stdout",
     "output_type": "stream",
     "text": [
      "Epoch 5: Train Loss: 95.7450, Val Loss: 26.8234, F1: 0.6444, Accuracy: 0.6918, Precision: 0.5382, Recall: 0.8074\n"
     ]
    },
    {
     "name": "stderr",
     "output_type": "stream",
     "text": [
      "C:\\Users\\udays\\AppData\\Local\\Temp\\ipykernel_15096\\3760703809.py:80: FutureWarning: Series.__getitem__ treating keys as positions is deprecated. In a future version, integer keys will always be treated as labels (consistent with DataFrame behavior). To access a value by position, use `ser.iloc[pos]`\n",
      "  'labels': torch.tensor(label, dtype=torch.float32)\n",
      "Epoch 6/100: 100%|███████████████████████████████████████████████████████| 14/14 [00:23<00:00,  1.68s/batch, loss=6.89]\n",
      "Validating: 100%|█████████████████████████████████████████████████████████████████████| 4/4 [00:02<00:00,  1.64batch/s]\n",
      "C:\\Users\\udays\\miniconda3\\Lib\\site-packages\\sklearn\\metrics\\_classification.py:1531: UndefinedMetricWarning: Precision is ill-defined and being set to 0.0 due to no predicted samples. Use `zero_division` parameter to control this behavior.\n",
      "  _warn_prf(average, modifier, f\"{metric.capitalize()} is\", len(result))\n",
      "C:\\Users\\udays\\miniconda3\\Lib\\site-packages\\sklearn\\metrics\\_classification.py:1531: UndefinedMetricWarning: Precision is ill-defined and being set to 0.0 due to no predicted samples. Use `zero_division` parameter to control this behavior.\n",
      "  _warn_prf(average, modifier, f\"{metric.capitalize()} is\", len(result))\n"
     ]
    },
    {
     "name": "stdout",
     "output_type": "stream",
     "text": [
      "Epoch 6: Train Loss: 91.1611, Val Loss: 25.8558, F1: 0.6557, Accuracy: 0.7239, Precision: 0.5727, Recall: 0.7722\n"
     ]
    },
    {
     "name": "stderr",
     "output_type": "stream",
     "text": [
      "C:\\Users\\udays\\AppData\\Local\\Temp\\ipykernel_15096\\3760703809.py:80: FutureWarning: Series.__getitem__ treating keys as positions is deprecated. In a future version, integer keys will always be treated as labels (consistent with DataFrame behavior). To access a value by position, use `ser.iloc[pos]`\n",
      "  'labels': torch.tensor(label, dtype=torch.float32)\n",
      "Epoch 7/100: 100%|███████████████████████████████████████████████████████| 14/14 [00:23<00:00,  1.68s/batch, loss=6.11]\n",
      "Validating: 100%|█████████████████████████████████████████████████████████████████████| 4/4 [00:02<00:00,  1.64batch/s]\n",
      "C:\\Users\\udays\\miniconda3\\Lib\\site-packages\\sklearn\\metrics\\_classification.py:1531: UndefinedMetricWarning: Precision is ill-defined and being set to 0.0 due to no predicted samples. Use `zero_division` parameter to control this behavior.\n",
      "  _warn_prf(average, modifier, f\"{metric.capitalize()} is\", len(result))\n",
      "C:\\Users\\udays\\miniconda3\\Lib\\site-packages\\sklearn\\metrics\\_classification.py:1531: UndefinedMetricWarning: Precision is ill-defined and being set to 0.0 due to no predicted samples. Use `zero_division` parameter to control this behavior.\n",
      "  _warn_prf(average, modifier, f\"{metric.capitalize()} is\", len(result))\n"
     ]
    },
    {
     "name": "stdout",
     "output_type": "stream",
     "text": [
      "Epoch 7: Train Loss: 83.6215, Val Loss: 24.7978, F1: 0.6678, Accuracy: 0.7483, Precision: 0.5912, Recall: 0.7692\n"
     ]
    },
    {
     "name": "stderr",
     "output_type": "stream",
     "text": [
      "C:\\Users\\udays\\AppData\\Local\\Temp\\ipykernel_15096\\3760703809.py:80: FutureWarning: Series.__getitem__ treating keys as positions is deprecated. In a future version, integer keys will always be treated as labels (consistent with DataFrame behavior). To access a value by position, use `ser.iloc[pos]`\n",
      "  'labels': torch.tensor(label, dtype=torch.float32)\n",
      "Epoch 8/100: 100%|███████████████████████████████████████████████████████| 14/14 [00:23<00:00,  1.69s/batch, loss=4.74]\n",
      "Validating: 100%|█████████████████████████████████████████████████████████████████████| 4/4 [00:02<00:00,  1.66batch/s]\n",
      "C:\\Users\\udays\\miniconda3\\Lib\\site-packages\\sklearn\\metrics\\_classification.py:1531: UndefinedMetricWarning: Precision is ill-defined and being set to 0.0 due to no predicted samples. Use `zero_division` parameter to control this behavior.\n",
      "  _warn_prf(average, modifier, f\"{metric.capitalize()} is\", len(result))\n",
      "C:\\Users\\udays\\miniconda3\\Lib\\site-packages\\sklearn\\metrics\\_classification.py:1531: UndefinedMetricWarning: Precision is ill-defined and being set to 0.0 due to no predicted samples. Use `zero_division` parameter to control this behavior.\n",
      "  _warn_prf(average, modifier, f\"{metric.capitalize()} is\", len(result))\n"
     ]
    },
    {
     "name": "stdout",
     "output_type": "stream",
     "text": [
      "Epoch 8: Train Loss: 75.2939, Val Loss: 22.5639, F1: 0.7052, Accuracy: 0.8115, Precision: 0.6514, Recall: 0.7692\n"
     ]
    },
    {
     "name": "stderr",
     "output_type": "stream",
     "text": [
      "C:\\Users\\udays\\AppData\\Local\\Temp\\ipykernel_15096\\3760703809.py:80: FutureWarning: Series.__getitem__ treating keys as positions is deprecated. In a future version, integer keys will always be treated as labels (consistent with DataFrame behavior). To access a value by position, use `ser.iloc[pos]`\n",
      "  'labels': torch.tensor(label, dtype=torch.float32)\n",
      "Epoch 9/100: 100%|███████████████████████████████████████████████████████| 14/14 [00:23<00:00,  1.69s/batch, loss=4.71]\n",
      "Validating: 100%|█████████████████████████████████████████████████████████████████████| 4/4 [00:02<00:00,  1.72batch/s]\n",
      "C:\\Users\\udays\\miniconda3\\Lib\\site-packages\\sklearn\\metrics\\_classification.py:1531: UndefinedMetricWarning: Precision is ill-defined and being set to 0.0 due to no predicted samples. Use `zero_division` parameter to control this behavior.\n",
      "  _warn_prf(average, modifier, f\"{metric.capitalize()} is\", len(result))\n",
      "C:\\Users\\udays\\miniconda3\\Lib\\site-packages\\sklearn\\metrics\\_classification.py:1531: UndefinedMetricWarning: Precision is ill-defined and being set to 0.0 due to no predicted samples. Use `zero_division` parameter to control this behavior.\n",
      "  _warn_prf(average, modifier, f\"{metric.capitalize()} is\", len(result))\n"
     ]
    },
    {
     "name": "stdout",
     "output_type": "stream",
     "text": [
      "Epoch 9: Train Loss: 67.9436, Val Loss: 21.8215, F1: 0.6956, Accuracy: 0.8038, Precision: 0.6621, Recall: 0.7336\n"
     ]
    },
    {
     "name": "stderr",
     "output_type": "stream",
     "text": [
      "C:\\Users\\udays\\AppData\\Local\\Temp\\ipykernel_15096\\3760703809.py:80: FutureWarning: Series.__getitem__ treating keys as positions is deprecated. In a future version, integer keys will always be treated as labels (consistent with DataFrame behavior). To access a value by position, use `ser.iloc[pos]`\n",
      "  'labels': torch.tensor(label, dtype=torch.float32)\n",
      "Epoch 10/100: 100%|██████████████████████████████████████████████████████| 14/14 [00:23<00:00,  1.65s/batch, loss=4.72]\n",
      "Validating: 100%|█████████████████████████████████████████████████████████████████████| 4/4 [00:02<00:00,  1.74batch/s]\n",
      "C:\\Users\\udays\\miniconda3\\Lib\\site-packages\\sklearn\\metrics\\_classification.py:1531: UndefinedMetricWarning: Precision is ill-defined and being set to 0.0 due to no predicted samples. Use `zero_division` parameter to control this behavior.\n",
      "  _warn_prf(average, modifier, f\"{metric.capitalize()} is\", len(result))\n",
      "C:\\Users\\udays\\miniconda3\\Lib\\site-packages\\sklearn\\metrics\\_classification.py:1531: UndefinedMetricWarning: Precision is ill-defined and being set to 0.0 due to no predicted samples. Use `zero_division` parameter to control this behavior.\n",
      "  _warn_prf(average, modifier, f\"{metric.capitalize()} is\", len(result))\n"
     ]
    },
    {
     "name": "stdout",
     "output_type": "stream",
     "text": [
      "Epoch 10: Train Loss: 61.5063, Val Loss: 20.6873, F1: 0.6995, Accuracy: 0.8093, Precision: 0.6680, Recall: 0.7369\n"
     ]
    },
    {
     "name": "stderr",
     "output_type": "stream",
     "text": [
      "C:\\Users\\udays\\AppData\\Local\\Temp\\ipykernel_15096\\3760703809.py:80: FutureWarning: Series.__getitem__ treating keys as positions is deprecated. In a future version, integer keys will always be treated as labels (consistent with DataFrame behavior). To access a value by position, use `ser.iloc[pos]`\n",
      "  'labels': torch.tensor(label, dtype=torch.float32)\n",
      "Epoch 11/100: 100%|██████████████████████████████████████████████████████| 14/14 [00:23<00:00,  1.66s/batch, loss=3.74]\n",
      "Validating: 100%|█████████████████████████████████████████████████████████████████████| 4/4 [00:02<00:00,  1.73batch/s]\n",
      "C:\\Users\\udays\\miniconda3\\Lib\\site-packages\\sklearn\\metrics\\_classification.py:1531: UndefinedMetricWarning: Precision is ill-defined and being set to 0.0 due to no predicted samples. Use `zero_division` parameter to control this behavior.\n",
      "  _warn_prf(average, modifier, f\"{metric.capitalize()} is\", len(result))\n",
      "C:\\Users\\udays\\miniconda3\\Lib\\site-packages\\sklearn\\metrics\\_classification.py:1531: UndefinedMetricWarning: Precision is ill-defined and being set to 0.0 due to no predicted samples. Use `zero_division` parameter to control this behavior.\n",
      "  _warn_prf(average, modifier, f\"{metric.capitalize()} is\", len(result))\n"
     ]
    },
    {
     "name": "stdout",
     "output_type": "stream",
     "text": [
      "Epoch 11: Train Loss: 54.9308, Val Loss: 19.4170, F1: 0.7195, Accuracy: 0.8370, Precision: 0.6911, Recall: 0.7525\n"
     ]
    },
    {
     "name": "stderr",
     "output_type": "stream",
     "text": [
      "C:\\Users\\udays\\AppData\\Local\\Temp\\ipykernel_15096\\3760703809.py:80: FutureWarning: Series.__getitem__ treating keys as positions is deprecated. In a future version, integer keys will always be treated as labels (consistent with DataFrame behavior). To access a value by position, use `ser.iloc[pos]`\n",
      "  'labels': torch.tensor(label, dtype=torch.float32)\n",
      "Epoch 12/100: 100%|██████████████████████████████████████████████████████| 14/14 [00:23<00:00,  1.65s/batch, loss=2.96]\n",
      "Validating: 100%|█████████████████████████████████████████████████████████████████████| 4/4 [00:02<00:00,  1.70batch/s]\n",
      "C:\\Users\\udays\\miniconda3\\Lib\\site-packages\\sklearn\\metrics\\_classification.py:1531: UndefinedMetricWarning: Precision is ill-defined and being set to 0.0 due to no predicted samples. Use `zero_division` parameter to control this behavior.\n",
      "  _warn_prf(average, modifier, f\"{metric.capitalize()} is\", len(result))\n",
      "C:\\Users\\udays\\miniconda3\\Lib\\site-packages\\sklearn\\metrics\\_classification.py:1531: UndefinedMetricWarning: Precision is ill-defined and being set to 0.0 due to no predicted samples. Use `zero_division` parameter to control this behavior.\n",
      "  _warn_prf(average, modifier, f\"{metric.capitalize()} is\", len(result))\n"
     ]
    },
    {
     "name": "stdout",
     "output_type": "stream",
     "text": [
      "Epoch 12: Train Loss: 49.7777, Val Loss: 19.3304, F1: 0.7056, Accuracy: 0.8193, Precision: 0.6804, Recall: 0.7344\n"
     ]
    },
    {
     "name": "stderr",
     "output_type": "stream",
     "text": [
      "C:\\Users\\udays\\AppData\\Local\\Temp\\ipykernel_15096\\3760703809.py:80: FutureWarning: Series.__getitem__ treating keys as positions is deprecated. In a future version, integer keys will always be treated as labels (consistent with DataFrame behavior). To access a value by position, use `ser.iloc[pos]`\n",
      "  'labels': torch.tensor(label, dtype=torch.float32)\n",
      "Epoch 13/100: 100%|██████████████████████████████████████████████████████| 14/14 [00:23<00:00,  1.67s/batch, loss=3.24]\n",
      "Validating: 100%|█████████████████████████████████████████████████████████████████████| 4/4 [00:02<00:00,  1.73batch/s]\n",
      "C:\\Users\\udays\\miniconda3\\Lib\\site-packages\\sklearn\\metrics\\_classification.py:1531: UndefinedMetricWarning: Precision is ill-defined and being set to 0.0 due to no predicted samples. Use `zero_division` parameter to control this behavior.\n",
      "  _warn_prf(average, modifier, f\"{metric.capitalize()} is\", len(result))\n",
      "C:\\Users\\udays\\miniconda3\\Lib\\site-packages\\sklearn\\metrics\\_classification.py:1531: UndefinedMetricWarning: Precision is ill-defined and being set to 0.0 due to no predicted samples. Use `zero_division` parameter to control this behavior.\n",
      "  _warn_prf(average, modifier, f\"{metric.capitalize()} is\", len(result))\n"
     ]
    },
    {
     "name": "stdout",
     "output_type": "stream",
     "text": [
      "Epoch 13: Train Loss: 46.4843, Val Loss: 21.7215, F1: 0.6518, Accuracy: 0.7716, Precision: 0.7099, Recall: 0.6030\n"
     ]
    },
    {
     "name": "stderr",
     "output_type": "stream",
     "text": [
      "C:\\Users\\udays\\AppData\\Local\\Temp\\ipykernel_15096\\3760703809.py:80: FutureWarning: Series.__getitem__ treating keys as positions is deprecated. In a future version, integer keys will always be treated as labels (consistent with DataFrame behavior). To access a value by position, use `ser.iloc[pos]`\n",
      "  'labels': torch.tensor(label, dtype=torch.float32)\n",
      "Epoch 14/100: 100%|███████████████████████████████████████████████████████| 14/14 [00:23<00:00,  1.66s/batch, loss=2.8]\n",
      "Validating: 100%|█████████████████████████████████████████████████████████████████████| 4/4 [00:02<00:00,  1.71batch/s]\n",
      "C:\\Users\\udays\\miniconda3\\Lib\\site-packages\\sklearn\\metrics\\_classification.py:1531: UndefinedMetricWarning: Precision is ill-defined and being set to 0.0 due to no predicted samples. Use `zero_division` parameter to control this behavior.\n",
      "  _warn_prf(average, modifier, f\"{metric.capitalize()} is\", len(result))\n",
      "C:\\Users\\udays\\miniconda3\\Lib\\site-packages\\sklearn\\metrics\\_classification.py:1531: UndefinedMetricWarning: Precision is ill-defined and being set to 0.0 due to no predicted samples. Use `zero_division` parameter to control this behavior.\n",
      "  _warn_prf(average, modifier, f\"{metric.capitalize()} is\", len(result))\n"
     ]
    },
    {
     "name": "stdout",
     "output_type": "stream",
     "text": [
      "Epoch 14: Train Loss: 42.9505, Val Loss: 19.5969, F1: 0.6793, Accuracy: 0.7982, Precision: 0.7104, Recall: 0.6519\n"
     ]
    },
    {
     "name": "stderr",
     "output_type": "stream",
     "text": [
      "C:\\Users\\udays\\AppData\\Local\\Temp\\ipykernel_15096\\3760703809.py:80: FutureWarning: Series.__getitem__ treating keys as positions is deprecated. In a future version, integer keys will always be treated as labels (consistent with DataFrame behavior). To access a value by position, use `ser.iloc[pos]`\n",
      "  'labels': torch.tensor(label, dtype=torch.float32)\n",
      "Epoch 15/100: 100%|██████████████████████████████████████████████████████| 14/14 [00:23<00:00,  1.66s/batch, loss=2.83]\n",
      "Validating: 100%|█████████████████████████████████████████████████████████████████████| 4/4 [00:02<00:00,  1.61batch/s]\n",
      "C:\\Users\\udays\\miniconda3\\Lib\\site-packages\\sklearn\\metrics\\_classification.py:1531: UndefinedMetricWarning: Precision is ill-defined and being set to 0.0 due to no predicted samples. Use `zero_division` parameter to control this behavior.\n",
      "  _warn_prf(average, modifier, f\"{metric.capitalize()} is\", len(result))\n",
      "C:\\Users\\udays\\miniconda3\\Lib\\site-packages\\sklearn\\metrics\\_classification.py:1531: UndefinedMetricWarning: Precision is ill-defined and being set to 0.0 due to no predicted samples. Use `zero_division` parameter to control this behavior.\n",
      "  _warn_prf(average, modifier, f\"{metric.capitalize()} is\", len(result))\n"
     ]
    },
    {
     "name": "stdout",
     "output_type": "stream",
     "text": [
      "Epoch 15: Train Loss: 39.8239, Val Loss: 18.0390, F1: 0.7297, Accuracy: 0.8503, Precision: 0.7019, Recall: 0.7618\n"
     ]
    },
    {
     "name": "stderr",
     "output_type": "stream",
     "text": [
      "C:\\Users\\udays\\AppData\\Local\\Temp\\ipykernel_15096\\3760703809.py:80: FutureWarning: Series.__getitem__ treating keys as positions is deprecated. In a future version, integer keys will always be treated as labels (consistent with DataFrame behavior). To access a value by position, use `ser.iloc[pos]`\n",
      "  'labels': torch.tensor(label, dtype=torch.float32)\n",
      "Epoch 16/100: 100%|██████████████████████████████████████████████████████| 14/14 [00:23<00:00,  1.67s/batch, loss=3.94]\n",
      "Validating: 100%|█████████████████████████████████████████████████████████████████████| 4/4 [00:02<00:00,  1.68batch/s]\n",
      "C:\\Users\\udays\\miniconda3\\Lib\\site-packages\\sklearn\\metrics\\_classification.py:1531: UndefinedMetricWarning: Precision is ill-defined and being set to 0.0 due to no predicted samples. Use `zero_division` parameter to control this behavior.\n",
      "  _warn_prf(average, modifier, f\"{metric.capitalize()} is\", len(result))\n",
      "C:\\Users\\udays\\miniconda3\\Lib\\site-packages\\sklearn\\metrics\\_classification.py:1531: UndefinedMetricWarning: Precision is ill-defined and being set to 0.0 due to no predicted samples. Use `zero_division` parameter to control this behavior.\n",
      "  _warn_prf(average, modifier, f\"{metric.capitalize()} is\", len(result))\n"
     ]
    },
    {
     "name": "stdout",
     "output_type": "stream",
     "text": [
      "Epoch 16: Train Loss: 39.0472, Val Loss: 18.9265, F1: 0.6998, Accuracy: 0.8160, Precision: 0.6954, Recall: 0.7057\n"
     ]
    },
    {
     "name": "stderr",
     "output_type": "stream",
     "text": [
      "C:\\Users\\udays\\AppData\\Local\\Temp\\ipykernel_15096\\3760703809.py:80: FutureWarning: Series.__getitem__ treating keys as positions is deprecated. In a future version, integer keys will always be treated as labels (consistent with DataFrame behavior). To access a value by position, use `ser.iloc[pos]`\n",
      "  'labels': torch.tensor(label, dtype=torch.float32)\n",
      "Epoch 17/100: 100%|██████████████████████████████████████████████████████| 14/14 [00:23<00:00,  1.67s/batch, loss=2.69]\n",
      "Validating: 100%|█████████████████████████████████████████████████████████████████████| 4/4 [00:02<00:00,  1.67batch/s]\n",
      "C:\\Users\\udays\\miniconda3\\Lib\\site-packages\\sklearn\\metrics\\_classification.py:1531: UndefinedMetricWarning: Precision is ill-defined and being set to 0.0 due to no predicted samples. Use `zero_division` parameter to control this behavior.\n",
      "  _warn_prf(average, modifier, f\"{metric.capitalize()} is\", len(result))\n"
     ]
    },
    {
     "name": "stdout",
     "output_type": "stream",
     "text": [
      "Epoch 17: Train Loss: 36.9729, Val Loss: 21.4102, F1: 0.6701, Accuracy: 0.7772, Precision: 0.7565, Recall: 0.6091\n"
     ]
    },
    {
     "name": "stderr",
     "output_type": "stream",
     "text": [
      "C:\\Users\\udays\\AppData\\Local\\Temp\\ipykernel_15096\\3760703809.py:80: FutureWarning: Series.__getitem__ treating keys as positions is deprecated. In a future version, integer keys will always be treated as labels (consistent with DataFrame behavior). To access a value by position, use `ser.iloc[pos]`\n",
      "  'labels': torch.tensor(label, dtype=torch.float32)\n",
      "Epoch 18/100: 100%|██████████████████████████████████████████████████████| 14/14 [00:23<00:00,  1.67s/batch, loss=2.33]\n",
      "Validating: 100%|█████████████████████████████████████████████████████████████████████| 4/4 [00:02<00:00,  1.69batch/s]\n",
      "C:\\Users\\udays\\miniconda3\\Lib\\site-packages\\sklearn\\metrics\\_classification.py:1531: UndefinedMetricWarning: Precision is ill-defined and being set to 0.0 due to no predicted samples. Use `zero_division` parameter to control this behavior.\n",
      "  _warn_prf(average, modifier, f\"{metric.capitalize()} is\", len(result))\n",
      "C:\\Users\\udays\\miniconda3\\Lib\\site-packages\\sklearn\\metrics\\_classification.py:1531: UndefinedMetricWarning: Precision is ill-defined and being set to 0.0 due to no predicted samples. Use `zero_division` parameter to control this behavior.\n",
      "  _warn_prf(average, modifier, f\"{metric.capitalize()} is\", len(result))\n"
     ]
    },
    {
     "name": "stdout",
     "output_type": "stream",
     "text": [
      "Epoch 18: Train Loss: 36.8818, Val Loss: 20.8855, F1: 0.6990, Accuracy: 0.8016, Precision: 0.6424, Recall: 0.7694\n"
     ]
    },
    {
     "name": "stderr",
     "output_type": "stream",
     "text": [
      "C:\\Users\\udays\\AppData\\Local\\Temp\\ipykernel_15096\\3760703809.py:80: FutureWarning: Series.__getitem__ treating keys as positions is deprecated. In a future version, integer keys will always be treated as labels (consistent with DataFrame behavior). To access a value by position, use `ser.iloc[pos]`\n",
      "  'labels': torch.tensor(label, dtype=torch.float32)\n",
      "Epoch 19/100: 100%|██████████████████████████████████████████████████████| 14/14 [00:23<00:00,  1.67s/batch, loss=2.73]\n",
      "Validating: 100%|█████████████████████████████████████████████████████████████████████| 4/4 [00:02<00:00,  1.69batch/s]\n",
      "C:\\Users\\udays\\miniconda3\\Lib\\site-packages\\sklearn\\metrics\\_classification.py:1531: UndefinedMetricWarning: Precision is ill-defined and being set to 0.0 due to no predicted samples. Use `zero_division` parameter to control this behavior.\n",
      "  _warn_prf(average, modifier, f\"{metric.capitalize()} is\", len(result))\n",
      "C:\\Users\\udays\\miniconda3\\Lib\\site-packages\\sklearn\\metrics\\_classification.py:1531: UndefinedMetricWarning: Precision is ill-defined and being set to 0.0 due to no predicted samples. Use `zero_division` parameter to control this behavior.\n",
      "  _warn_prf(average, modifier, f\"{metric.capitalize()} is\", len(result))\n"
     ]
    },
    {
     "name": "stdout",
     "output_type": "stream",
     "text": [
      "Epoch 19: Train Loss: 35.5902, Val Loss: 19.5510, F1: 0.6851, Accuracy: 0.8027, Precision: 0.7049, Recall: 0.6671\n"
     ]
    },
    {
     "name": "stderr",
     "output_type": "stream",
     "text": [
      "C:\\Users\\udays\\AppData\\Local\\Temp\\ipykernel_15096\\3760703809.py:80: FutureWarning: Series.__getitem__ treating keys as positions is deprecated. In a future version, integer keys will always be treated as labels (consistent with DataFrame behavior). To access a value by position, use `ser.iloc[pos]`\n",
      "  'labels': torch.tensor(label, dtype=torch.float32)\n",
      "Epoch 20/100: 100%|██████████████████████████████████████████████████████| 14/14 [00:23<00:00,  1.67s/batch, loss=2.15]\n",
      "Validating: 100%|█████████████████████████████████████████████████████████████████████| 4/4 [00:02<00:00,  1.69batch/s]\n",
      "C:\\Users\\udays\\miniconda3\\Lib\\site-packages\\sklearn\\metrics\\_classification.py:1531: UndefinedMetricWarning: Precision is ill-defined and being set to 0.0 due to no predicted samples. Use `zero_division` parameter to control this behavior.\n",
      "  _warn_prf(average, modifier, f\"{metric.capitalize()} is\", len(result))\n"
     ]
    },
    {
     "name": "stdout",
     "output_type": "stream",
     "text": [
      "Epoch 20: Train Loss: 34.5508, Val Loss: 19.6763, F1: 0.7130, Accuracy: 0.7971, Precision: 0.7388, Recall: 0.6906\n"
     ]
    },
    {
     "name": "stderr",
     "output_type": "stream",
     "text": [
      "C:\\Users\\udays\\AppData\\Local\\Temp\\ipykernel_15096\\3760703809.py:80: FutureWarning: Series.__getitem__ treating keys as positions is deprecated. In a future version, integer keys will always be treated as labels (consistent with DataFrame behavior). To access a value by position, use `ser.iloc[pos]`\n",
      "  'labels': torch.tensor(label, dtype=torch.float32)\n",
      "Epoch 21/100: 100%|██████████████████████████████████████████████████████| 14/14 [00:23<00:00,  1.66s/batch, loss=2.49]\n",
      "Validating: 100%|█████████████████████████████████████████████████████████████████████| 4/4 [00:02<00:00,  1.68batch/s]\n",
      "C:\\Users\\udays\\miniconda3\\Lib\\site-packages\\sklearn\\metrics\\_classification.py:1531: UndefinedMetricWarning: Precision is ill-defined and being set to 0.0 due to no predicted samples. Use `zero_division` parameter to control this behavior.\n",
      "  _warn_prf(average, modifier, f\"{metric.capitalize()} is\", len(result))\n"
     ]
    },
    {
     "name": "stdout",
     "output_type": "stream",
     "text": [
      "Epoch 21: Train Loss: 34.4317, Val Loss: 19.0748, F1: 0.7346, Accuracy: 0.8027, Precision: 0.7371, Recall: 0.7340\n"
     ]
    },
    {
     "name": "stderr",
     "output_type": "stream",
     "text": [
      "C:\\Users\\udays\\AppData\\Local\\Temp\\ipykernel_15096\\3760703809.py:80: FutureWarning: Series.__getitem__ treating keys as positions is deprecated. In a future version, integer keys will always be treated as labels (consistent with DataFrame behavior). To access a value by position, use `ser.iloc[pos]`\n",
      "  'labels': torch.tensor(label, dtype=torch.float32)\n",
      "Epoch 22/100: 100%|██████████████████████████████████████████████████████| 14/14 [00:23<00:00,  1.67s/batch, loss=2.52]\n",
      "Validating: 100%|█████████████████████████████████████████████████████████████████████| 4/4 [00:02<00:00,  1.68batch/s]\n",
      "C:\\Users\\udays\\miniconda3\\Lib\\site-packages\\sklearn\\metrics\\_classification.py:1531: UndefinedMetricWarning: Precision is ill-defined and being set to 0.0 due to no predicted samples. Use `zero_division` parameter to control this behavior.\n",
      "  _warn_prf(average, modifier, f\"{metric.capitalize()} is\", len(result))\n"
     ]
    },
    {
     "name": "stdout",
     "output_type": "stream",
     "text": [
      "Epoch 22: Train Loss: 34.1402, Val Loss: 19.1339, F1: 0.7473, Accuracy: 0.8137, Precision: 0.7364, Recall: 0.7608\n"
     ]
    },
    {
     "name": "stderr",
     "output_type": "stream",
     "text": [
      "C:\\Users\\udays\\AppData\\Local\\Temp\\ipykernel_15096\\3760703809.py:80: FutureWarning: Series.__getitem__ treating keys as positions is deprecated. In a future version, integer keys will always be treated as labels (consistent with DataFrame behavior). To access a value by position, use `ser.iloc[pos]`\n",
      "  'labels': torch.tensor(label, dtype=torch.float32)\n",
      "Epoch 23/100: 100%|██████████████████████████████████████████████████████| 14/14 [00:23<00:00,  1.69s/batch, loss=2.31]\n",
      "Validating: 100%|█████████████████████████████████████████████████████████████████████| 4/4 [00:02<00:00,  1.73batch/s]\n",
      "C:\\Users\\udays\\miniconda3\\Lib\\site-packages\\sklearn\\metrics\\_classification.py:1531: UndefinedMetricWarning: Precision is ill-defined and being set to 0.0 due to no predicted samples. Use `zero_division` parameter to control this behavior.\n",
      "  _warn_prf(average, modifier, f\"{metric.capitalize()} is\", len(result))\n"
     ]
    },
    {
     "name": "stdout",
     "output_type": "stream",
     "text": [
      "Epoch 23: Train Loss: 33.9942, Val Loss: 19.4569, F1: 0.7575, Accuracy: 0.8137, Precision: 0.7087, Recall: 0.8203\n"
     ]
    },
    {
     "name": "stderr",
     "output_type": "stream",
     "text": [
      "C:\\Users\\udays\\AppData\\Local\\Temp\\ipykernel_15096\\3760703809.py:80: FutureWarning: Series.__getitem__ treating keys as positions is deprecated. In a future version, integer keys will always be treated as labels (consistent with DataFrame behavior). To access a value by position, use `ser.iloc[pos]`\n",
      "  'labels': torch.tensor(label, dtype=torch.float32)\n",
      "Epoch 24/100: 100%|██████████████████████████████████████████████████████| 14/14 [00:23<00:00,  1.66s/batch, loss=2.56]\n",
      "Validating: 100%|█████████████████████████████████████████████████████████████████████| 4/4 [00:02<00:00,  1.65batch/s]\n",
      "C:\\Users\\udays\\miniconda3\\Lib\\site-packages\\sklearn\\metrics\\_classification.py:1531: UndefinedMetricWarning: Precision is ill-defined and being set to 0.0 due to no predicted samples. Use `zero_division` parameter to control this behavior.\n",
      "  _warn_prf(average, modifier, f\"{metric.capitalize()} is\", len(result))\n"
     ]
    },
    {
     "name": "stdout",
     "output_type": "stream",
     "text": [
      "Epoch 24: Train Loss: 33.9647, Val Loss: 19.3711, F1: 0.7483, Accuracy: 0.8027, Precision: 0.7043, Recall: 0.8060\n"
     ]
    },
    {
     "name": "stderr",
     "output_type": "stream",
     "text": [
      "C:\\Users\\udays\\AppData\\Local\\Temp\\ipykernel_15096\\3760703809.py:80: FutureWarning: Series.__getitem__ treating keys as positions is deprecated. In a future version, integer keys will always be treated as labels (consistent with DataFrame behavior). To access a value by position, use `ser.iloc[pos]`\n",
      "  'labels': torch.tensor(label, dtype=torch.float32)\n",
      "Epoch 25/100: 100%|██████████████████████████████████████████████████████| 14/14 [00:23<00:00,  1.68s/batch, loss=1.65]\n",
      "Validating: 100%|█████████████████████████████████████████████████████████████████████| 4/4 [00:02<00:00,  1.68batch/s]\n",
      "C:\\Users\\udays\\miniconda3\\Lib\\site-packages\\sklearn\\metrics\\_classification.py:1531: UndefinedMetricWarning: Precision is ill-defined and being set to 0.0 due to no predicted samples. Use `zero_division` parameter to control this behavior.\n",
      "  _warn_prf(average, modifier, f\"{metric.capitalize()} is\", len(result))\n"
     ]
    },
    {
     "name": "stdout",
     "output_type": "stream",
     "text": [
      "Epoch 25: Train Loss: 33.1387, Val Loss: 19.4975, F1: 0.7456, Accuracy: 0.8071, Precision: 0.7226, Recall: 0.7765\n"
     ]
    },
    {
     "name": "stderr",
     "output_type": "stream",
     "text": [
      "C:\\Users\\udays\\AppData\\Local\\Temp\\ipykernel_15096\\3760703809.py:80: FutureWarning: Series.__getitem__ treating keys as positions is deprecated. In a future version, integer keys will always be treated as labels (consistent with DataFrame behavior). To access a value by position, use `ser.iloc[pos]`\n",
      "  'labels': torch.tensor(label, dtype=torch.float32)\n",
      "Epoch 26/100: 100%|██████████████████████████████████████████████████████| 14/14 [00:23<00:00,  1.68s/batch, loss=2.23]\n",
      "Validating: 100%|█████████████████████████████████████████████████████████████████████| 4/4 [00:02<00:00,  1.63batch/s]\n",
      "C:\\Users\\udays\\miniconda3\\Lib\\site-packages\\sklearn\\metrics\\_classification.py:1531: UndefinedMetricWarning: Precision is ill-defined and being set to 0.0 due to no predicted samples. Use `zero_division` parameter to control this behavior.\n",
      "  _warn_prf(average, modifier, f\"{metric.capitalize()} is\", len(result))\n"
     ]
    },
    {
     "name": "stdout",
     "output_type": "stream",
     "text": [
      "Epoch 26: Train Loss: 32.4117, Val Loss: 19.5071, F1: 0.7464, Accuracy: 0.8082, Precision: 0.7227, Recall: 0.7778\n"
     ]
    },
    {
     "name": "stderr",
     "output_type": "stream",
     "text": [
      "C:\\Users\\udays\\AppData\\Local\\Temp\\ipykernel_15096\\3760703809.py:80: FutureWarning: Series.__getitem__ treating keys as positions is deprecated. In a future version, integer keys will always be treated as labels (consistent with DataFrame behavior). To access a value by position, use `ser.iloc[pos]`\n",
      "  'labels': torch.tensor(label, dtype=torch.float32)\n",
      "Epoch 27/100: 100%|██████████████████████████████████████████████████████| 14/14 [00:23<00:00,  1.67s/batch, loss=2.14]\n",
      "Validating: 100%|█████████████████████████████████████████████████████████████████████| 4/4 [00:02<00:00,  1.75batch/s]\n",
      "C:\\Users\\udays\\miniconda3\\Lib\\site-packages\\sklearn\\metrics\\_classification.py:1531: UndefinedMetricWarning: Precision is ill-defined and being set to 0.0 due to no predicted samples. Use `zero_division` parameter to control this behavior.\n",
      "  _warn_prf(average, modifier, f\"{metric.capitalize()} is\", len(result))\n"
     ]
    },
    {
     "name": "stdout",
     "output_type": "stream",
     "text": [
      "Epoch 27: Train Loss: 32.8646, Val Loss: 20.1235, F1: 0.7377, Accuracy: 0.7982, Precision: 0.7203, Recall: 0.7623\n"
     ]
    },
    {
     "name": "stderr",
     "output_type": "stream",
     "text": [
      "C:\\Users\\udays\\AppData\\Local\\Temp\\ipykernel_15096\\3760703809.py:80: FutureWarning: Series.__getitem__ treating keys as positions is deprecated. In a future version, integer keys will always be treated as labels (consistent with DataFrame behavior). To access a value by position, use `ser.iloc[pos]`\n",
      "  'labels': torch.tensor(label, dtype=torch.float32)\n",
      "Epoch 28/100: 100%|██████████████████████████████████████████████████████| 14/14 [00:23<00:00,  1.67s/batch, loss=1.76]\n",
      "Validating: 100%|█████████████████████████████████████████████████████████████████████| 4/4 [00:02<00:00,  1.63batch/s]\n",
      "C:\\Users\\udays\\miniconda3\\Lib\\site-packages\\sklearn\\metrics\\_classification.py:1531: UndefinedMetricWarning: Precision is ill-defined and being set to 0.0 due to no predicted samples. Use `zero_division` parameter to control this behavior.\n",
      "  _warn_prf(average, modifier, f\"{metric.capitalize()} is\", len(result))\n"
     ]
    },
    {
     "name": "stdout",
     "output_type": "stream",
     "text": [
      "Epoch 28: Train Loss: 32.3416, Val Loss: 19.6184, F1: 0.7496, Accuracy: 0.8104, Precision: 0.7244, Recall: 0.7833\n"
     ]
    },
    {
     "name": "stderr",
     "output_type": "stream",
     "text": [
      "C:\\Users\\udays\\AppData\\Local\\Temp\\ipykernel_15096\\3760703809.py:80: FutureWarning: Series.__getitem__ treating keys as positions is deprecated. In a future version, integer keys will always be treated as labels (consistent with DataFrame behavior). To access a value by position, use `ser.iloc[pos]`\n",
      "  'labels': torch.tensor(label, dtype=torch.float32)\n",
      "Epoch 29/100: 100%|██████████████████████████████████████████████████████| 14/14 [00:23<00:00,  1.69s/batch, loss=2.13]\n",
      "Validating: 100%|█████████████████████████████████████████████████████████████████████| 4/4 [00:02<00:00,  1.70batch/s]\n",
      "C:\\Users\\udays\\miniconda3\\Lib\\site-packages\\sklearn\\metrics\\_classification.py:1531: UndefinedMetricWarning: Precision is ill-defined and being set to 0.0 due to no predicted samples. Use `zero_division` parameter to control this behavior.\n",
      "  _warn_prf(average, modifier, f\"{metric.capitalize()} is\", len(result))\n"
     ]
    },
    {
     "name": "stdout",
     "output_type": "stream",
     "text": [
      "Epoch 29: Train Loss: 31.9602, Val Loss: 20.8421, F1: 0.7426, Accuracy: 0.7905, Precision: 0.6843, Recall: 0.8220\n"
     ]
    },
    {
     "name": "stderr",
     "output_type": "stream",
     "text": [
      "C:\\Users\\udays\\AppData\\Local\\Temp\\ipykernel_15096\\3760703809.py:80: FutureWarning: Series.__getitem__ treating keys as positions is deprecated. In a future version, integer keys will always be treated as labels (consistent with DataFrame behavior). To access a value by position, use `ser.iloc[pos]`\n",
      "  'labels': torch.tensor(label, dtype=torch.float32)\n",
      "Epoch 30/100: 100%|██████████████████████████████████████████████████████| 14/14 [00:23<00:00,  1.68s/batch, loss=1.91]\n",
      "Validating: 100%|█████████████████████████████████████████████████████████████████████| 4/4 [00:02<00:00,  1.73batch/s]\n",
      "C:\\Users\\udays\\miniconda3\\Lib\\site-packages\\sklearn\\metrics\\_classification.py:1531: UndefinedMetricWarning: Precision is ill-defined and being set to 0.0 due to no predicted samples. Use `zero_division` parameter to control this behavior.\n",
      "  _warn_prf(average, modifier, f\"{metric.capitalize()} is\", len(result))\n"
     ]
    },
    {
     "name": "stdout",
     "output_type": "stream",
     "text": [
      "Epoch 30: Train Loss: 32.3090, Val Loss: 20.7051, F1: 0.7473, Accuracy: 0.7960, Precision: 0.6860, Recall: 0.8310\n"
     ]
    },
    {
     "name": "stderr",
     "output_type": "stream",
     "text": [
      "C:\\Users\\udays\\AppData\\Local\\Temp\\ipykernel_15096\\3760703809.py:80: FutureWarning: Series.__getitem__ treating keys as positions is deprecated. In a future version, integer keys will always be treated as labels (consistent with DataFrame behavior). To access a value by position, use `ser.iloc[pos]`\n",
      "  'labels': torch.tensor(label, dtype=torch.float32)\n",
      "Epoch 31/100: 100%|██████████████████████████████████████████████████████| 14/14 [00:23<00:00,  1.69s/batch, loss=1.65]\n",
      "Validating: 100%|█████████████████████████████████████████████████████████████████████| 4/4 [00:02<00:00,  1.56batch/s]\n",
      "C:\\Users\\udays\\miniconda3\\Lib\\site-packages\\sklearn\\metrics\\_classification.py:1531: UndefinedMetricWarning: Precision is ill-defined and being set to 0.0 due to no predicted samples. Use `zero_division` parameter to control this behavior.\n",
      "  _warn_prf(average, modifier, f\"{metric.capitalize()} is\", len(result))\n"
     ]
    },
    {
     "name": "stdout",
     "output_type": "stream",
     "text": [
      "Epoch 31: Train Loss: 31.7759, Val Loss: 19.8175, F1: 0.7512, Accuracy: 0.8071, Precision: 0.7106, Recall: 0.8060\n"
     ]
    },
    {
     "name": "stderr",
     "output_type": "stream",
     "text": [
      "C:\\Users\\udays\\AppData\\Local\\Temp\\ipykernel_15096\\3760703809.py:80: FutureWarning: Series.__getitem__ treating keys as positions is deprecated. In a future version, integer keys will always be treated as labels (consistent with DataFrame behavior). To access a value by position, use `ser.iloc[pos]`\n",
      "  'labels': torch.tensor(label, dtype=torch.float32)\n",
      "Epoch 32/100: 100%|███████████████████████████████████████████████████████| 14/14 [00:23<00:00,  1.71s/batch, loss=2.1]\n",
      "Validating: 100%|█████████████████████████████████████████████████████████████████████| 4/4 [00:02<00:00,  1.55batch/s]\n",
      "C:\\Users\\udays\\miniconda3\\Lib\\site-packages\\sklearn\\metrics\\_classification.py:1531: UndefinedMetricWarning: Precision is ill-defined and being set to 0.0 due to no predicted samples. Use `zero_division` parameter to control this behavior.\n",
      "  _warn_prf(average, modifier, f\"{metric.capitalize()} is\", len(result))\n"
     ]
    },
    {
     "name": "stdout",
     "output_type": "stream",
     "text": [
      "Epoch 32: Train Loss: 32.7995, Val Loss: 19.7231, F1: 0.7451, Accuracy: 0.8004, Precision: 0.7098, Recall: 0.7936\n"
     ]
    },
    {
     "name": "stderr",
     "output_type": "stream",
     "text": [
      "C:\\Users\\udays\\AppData\\Local\\Temp\\ipykernel_15096\\3760703809.py:80: FutureWarning: Series.__getitem__ treating keys as positions is deprecated. In a future version, integer keys will always be treated as labels (consistent with DataFrame behavior). To access a value by position, use `ser.iloc[pos]`\n",
      "  'labels': torch.tensor(label, dtype=torch.float32)\n",
      "Epoch 33/100: 100%|██████████████████████████████████████████████████████| 14/14 [00:23<00:00,  1.69s/batch, loss=1.89]\n",
      "Validating: 100%|█████████████████████████████████████████████████████████████████████| 4/4 [00:02<00:00,  1.59batch/s]\n",
      "C:\\Users\\udays\\miniconda3\\Lib\\site-packages\\sklearn\\metrics\\_classification.py:1531: UndefinedMetricWarning: Precision is ill-defined and being set to 0.0 due to no predicted samples. Use `zero_division` parameter to control this behavior.\n",
      "  _warn_prf(average, modifier, f\"{metric.capitalize()} is\", len(result))\n"
     ]
    },
    {
     "name": "stdout",
     "output_type": "stream",
     "text": [
      "Epoch 33: Train Loss: 31.8874, Val Loss: 19.7345, F1: 0.7500, Accuracy: 0.8060, Precision: 0.7114, Recall: 0.8026\n"
     ]
    },
    {
     "name": "stderr",
     "output_type": "stream",
     "text": [
      "C:\\Users\\udays\\AppData\\Local\\Temp\\ipykernel_15096\\3760703809.py:80: FutureWarning: Series.__getitem__ treating keys as positions is deprecated. In a future version, integer keys will always be treated as labels (consistent with DataFrame behavior). To access a value by position, use `ser.iloc[pos]`\n",
      "  'labels': torch.tensor(label, dtype=torch.float32)\n",
      "Epoch 34/100: 100%|██████████████████████████████████████████████████████| 14/14 [00:23<00:00,  1.68s/batch, loss=2.16]\n",
      "Validating: 100%|█████████████████████████████████████████████████████████████████████| 4/4 [00:02<00:00,  1.58batch/s]\n",
      "C:\\Users\\udays\\miniconda3\\Lib\\site-packages\\sklearn\\metrics\\_classification.py:1531: UndefinedMetricWarning: Precision is ill-defined and being set to 0.0 due to no predicted samples. Use `zero_division` parameter to control this behavior.\n",
      "  _warn_prf(average, modifier, f\"{metric.capitalize()} is\", len(result))\n"
     ]
    },
    {
     "name": "stdout",
     "output_type": "stream",
     "text": [
      "Epoch 34: Train Loss: 32.0127, Val Loss: 19.7554, F1: 0.7509, Accuracy: 0.8071, Precision: 0.7116, Recall: 0.8043\n"
     ]
    },
    {
     "name": "stderr",
     "output_type": "stream",
     "text": [
      "C:\\Users\\udays\\AppData\\Local\\Temp\\ipykernel_15096\\3760703809.py:80: FutureWarning: Series.__getitem__ treating keys as positions is deprecated. In a future version, integer keys will always be treated as labels (consistent with DataFrame behavior). To access a value by position, use `ser.iloc[pos]`\n",
      "  'labels': torch.tensor(label, dtype=torch.float32)\n",
      "Epoch 35/100: 100%|██████████████████████████████████████████████████████| 14/14 [00:23<00:00,  1.68s/batch, loss=2.06]\n",
      "Validating: 100%|█████████████████████████████████████████████████████████████████████| 4/4 [00:02<00:00,  1.60batch/s]\n",
      "C:\\Users\\udays\\miniconda3\\Lib\\site-packages\\sklearn\\metrics\\_classification.py:1531: UndefinedMetricWarning: Precision is ill-defined and being set to 0.0 due to no predicted samples. Use `zero_division` parameter to control this behavior.\n",
      "  _warn_prf(average, modifier, f\"{metric.capitalize()} is\", len(result))\n"
     ]
    },
    {
     "name": "stdout",
     "output_type": "stream",
     "text": [
      "Epoch 35: Train Loss: 31.8100, Val Loss: 19.7182, F1: 0.7519, Accuracy: 0.8082, Precision: 0.7119, Recall: 0.8060\n"
     ]
    },
    {
     "name": "stderr",
     "output_type": "stream",
     "text": [
      "C:\\Users\\udays\\AppData\\Local\\Temp\\ipykernel_15096\\3760703809.py:80: FutureWarning: Series.__getitem__ treating keys as positions is deprecated. In a future version, integer keys will always be treated as labels (consistent with DataFrame behavior). To access a value by position, use `ser.iloc[pos]`\n",
      "  'labels': torch.tensor(label, dtype=torch.float32)\n",
      "Epoch 36/100: 100%|██████████████████████████████████████████████████████| 14/14 [00:24<00:00,  1.72s/batch, loss=4.42]\n",
      "Validating: 100%|█████████████████████████████████████████████████████████████████████| 4/4 [00:02<00:00,  1.64batch/s]\n",
      "C:\\Users\\udays\\miniconda3\\Lib\\site-packages\\sklearn\\metrics\\_classification.py:1531: UndefinedMetricWarning: Precision is ill-defined and being set to 0.0 due to no predicted samples. Use `zero_division` parameter to control this behavior.\n",
      "  _warn_prf(average, modifier, f\"{metric.capitalize()} is\", len(result))\n"
     ]
    },
    {
     "name": "stdout",
     "output_type": "stream",
     "text": [
      "Epoch 36: Train Loss: 32.9211, Val Loss: 19.6811, F1: 0.7519, Accuracy: 0.8082, Precision: 0.7119, Recall: 0.8060\n"
     ]
    },
    {
     "name": "stderr",
     "output_type": "stream",
     "text": [
      "C:\\Users\\udays\\AppData\\Local\\Temp\\ipykernel_15096\\3760703809.py:80: FutureWarning: Series.__getitem__ treating keys as positions is deprecated. In a future version, integer keys will always be treated as labels (consistent with DataFrame behavior). To access a value by position, use `ser.iloc[pos]`\n",
      "  'labels': torch.tensor(label, dtype=torch.float32)\n",
      "Epoch 37/100: 100%|██████████████████████████████████████████████████████| 14/14 [00:23<00:00,  1.69s/batch, loss=3.06]\n",
      "Validating: 100%|█████████████████████████████████████████████████████████████████████| 4/4 [00:02<00:00,  1.64batch/s]\n",
      "C:\\Users\\udays\\miniconda3\\Lib\\site-packages\\sklearn\\metrics\\_classification.py:1531: UndefinedMetricWarning: Precision is ill-defined and being set to 0.0 due to no predicted samples. Use `zero_division` parameter to control this behavior.\n",
      "  _warn_prf(average, modifier, f\"{metric.capitalize()} is\", len(result))\n"
     ]
    },
    {
     "name": "stdout",
     "output_type": "stream",
     "text": [
      "Epoch 37: Train Loss: 32.2660, Val Loss: 19.7151, F1: 0.7521, Accuracy: 0.8082, Precision: 0.7114, Recall: 0.8078\n"
     ]
    },
    {
     "name": "stderr",
     "output_type": "stream",
     "text": [
      "C:\\Users\\udays\\AppData\\Local\\Temp\\ipykernel_15096\\3760703809.py:80: FutureWarning: Series.__getitem__ treating keys as positions is deprecated. In a future version, integer keys will always be treated as labels (consistent with DataFrame behavior). To access a value by position, use `ser.iloc[pos]`\n",
      "  'labels': torch.tensor(label, dtype=torch.float32)\n",
      "Epoch 38/100: 100%|██████████████████████████████████████████████████████| 14/14 [00:23<00:00,  1.70s/batch, loss=2.24]\n",
      "Validating: 100%|█████████████████████████████████████████████████████████████████████| 4/4 [00:02<00:00,  1.70batch/s]\n",
      "C:\\Users\\udays\\miniconda3\\Lib\\site-packages\\sklearn\\metrics\\_classification.py:1531: UndefinedMetricWarning: Precision is ill-defined and being set to 0.0 due to no predicted samples. Use `zero_division` parameter to control this behavior.\n",
      "  _warn_prf(average, modifier, f\"{metric.capitalize()} is\", len(result))\n"
     ]
    },
    {
     "name": "stdout",
     "output_type": "stream",
     "text": [
      "Epoch 38: Train Loss: 31.7078, Val Loss: 19.7796, F1: 0.7536, Accuracy: 0.8093, Precision: 0.7097, Recall: 0.8132\n",
      "Early stopping triggered.\n"
     ]
    },
    {
     "name": "stderr",
     "output_type": "stream",
     "text": [
      "C:\\Users\\udays\\miniconda3\\Lib\\site-packages\\torch\\optim\\lr_scheduler.py:62: UserWarning: The verbose parameter is deprecated. Please use get_last_lr() to access the learning rate.\n",
      "  warnings.warn(\n"
     ]
    },
    {
     "name": "stdout",
     "output_type": "stream",
     "text": [
      "Training fold 2...\n"
     ]
    },
    {
     "name": "stderr",
     "output_type": "stream",
     "text": [
      "C:\\Users\\udays\\AppData\\Local\\Temp\\ipykernel_15096\\3760703809.py:80: FutureWarning: Series.__getitem__ treating keys as positions is deprecated. In a future version, integer keys will always be treated as labels (consistent with DataFrame behavior). To access a value by position, use `ser.iloc[pos]`\n",
      "  'labels': torch.tensor(label, dtype=torch.float32)\n",
      "Epoch 1/100: 100%|███████████████████████████████████████████████████████| 14/14 [00:23<00:00,  1.67s/batch, loss=7.05]\n",
      "Validating: 100%|█████████████████████████████████████████████████████████████████████| 4/4 [00:02<00:00,  1.40batch/s]\n",
      "C:\\Users\\udays\\miniconda3\\Lib\\site-packages\\sklearn\\metrics\\_classification.py:1531: UndefinedMetricWarning: Precision is ill-defined and being set to 0.0 due to no predicted samples. Use `zero_division` parameter to control this behavior.\n",
      "  _warn_prf(average, modifier, f\"{metric.capitalize()} is\", len(result))\n",
      "C:\\Users\\udays\\miniconda3\\Lib\\site-packages\\sklearn\\metrics\\_classification.py:1531: UndefinedMetricWarning: Precision is ill-defined and being set to 0.0 due to no predicted samples. Use `zero_division` parameter to control this behavior.\n",
      "  _warn_prf(average, modifier, f\"{metric.capitalize()} is\", len(result))\n"
     ]
    },
    {
     "name": "stdout",
     "output_type": "stream",
     "text": [
      "Epoch 1: Train Loss: 103.5310, Val Loss: 27.3542, F1: 0.7834, Accuracy: 0.9157, Precision: 0.7903, Recall: 0.7797\n"
     ]
    },
    {
     "name": "stderr",
     "output_type": "stream",
     "text": [
      "C:\\Users\\udays\\AppData\\Local\\Temp\\ipykernel_15096\\3760703809.py:80: FutureWarning: Series.__getitem__ treating keys as positions is deprecated. In a future version, integer keys will always be treated as labels (consistent with DataFrame behavior). To access a value by position, use `ser.iloc[pos]`\n",
      "  'labels': torch.tensor(label, dtype=torch.float32)\n",
      "Epoch 2/100: 100%|███████████████████████████████████████████████████████| 14/14 [00:23<00:00,  1.67s/batch, loss=6.45]\n",
      "Validating: 100%|█████████████████████████████████████████████████████████████████████| 4/4 [00:02<00:00,  1.51batch/s]\n",
      "C:\\Users\\udays\\miniconda3\\Lib\\site-packages\\sklearn\\metrics\\_classification.py:1531: UndefinedMetricWarning: Precision is ill-defined and being set to 0.0 due to no predicted samples. Use `zero_division` parameter to control this behavior.\n",
      "  _warn_prf(average, modifier, f\"{metric.capitalize()} is\", len(result))\n"
     ]
    },
    {
     "name": "stdout",
     "output_type": "stream",
     "text": [
      "Epoch 2: Train Loss: 93.8891, Val Loss: 24.5990, F1: 0.8424, Accuracy: 0.9135, Precision: 0.8347, Recall: 0.8706\n"
     ]
    },
    {
     "name": "stderr",
     "output_type": "stream",
     "text": [
      "C:\\Users\\udays\\AppData\\Local\\Temp\\ipykernel_15096\\3760703809.py:80: FutureWarning: Series.__getitem__ treating keys as positions is deprecated. In a future version, integer keys will always be treated as labels (consistent with DataFrame behavior). To access a value by position, use `ser.iloc[pos]`\n",
      "  'labels': torch.tensor(label, dtype=torch.float32)\n",
      "Epoch 3/100: 100%|███████████████████████████████████████████████████████| 14/14 [00:23<00:00,  1.70s/batch, loss=5.73]\n",
      "Validating: 100%|█████████████████████████████████████████████████████████████████████| 4/4 [00:02<00:00,  1.41batch/s]\n",
      "C:\\Users\\udays\\miniconda3\\Lib\\site-packages\\sklearn\\metrics\\_classification.py:1531: UndefinedMetricWarning: Precision is ill-defined and being set to 0.0 due to no predicted samples. Use `zero_division` parameter to control this behavior.\n",
      "  _warn_prf(average, modifier, f\"{metric.capitalize()} is\", len(result))\n"
     ]
    },
    {
     "name": "stdout",
     "output_type": "stream",
     "text": [
      "Epoch 3: Train Loss: 85.3728, Val Loss: 22.1629, F1: 0.8184, Accuracy: 0.9157, Precision: 0.8617, Recall: 0.7873\n"
     ]
    },
    {
     "name": "stderr",
     "output_type": "stream",
     "text": [
      "C:\\Users\\udays\\AppData\\Local\\Temp\\ipykernel_15096\\3760703809.py:80: FutureWarning: Series.__getitem__ treating keys as positions is deprecated. In a future version, integer keys will always be treated as labels (consistent with DataFrame behavior). To access a value by position, use `ser.iloc[pos]`\n",
      "  'labels': torch.tensor(label, dtype=torch.float32)\n",
      "Epoch 4/100: 100%|███████████████████████████████████████████████████████| 14/14 [00:23<00:00,  1.68s/batch, loss=5.99]\n",
      "Validating: 100%|█████████████████████████████████████████████████████████████████████| 4/4 [00:02<00:00,  1.44batch/s]\n",
      "C:\\Users\\udays\\miniconda3\\Lib\\site-packages\\sklearn\\metrics\\_classification.py:1531: UndefinedMetricWarning: Precision is ill-defined and being set to 0.0 due to no predicted samples. Use `zero_division` parameter to control this behavior.\n",
      "  _warn_prf(average, modifier, f\"{metric.capitalize()} is\", len(result))\n"
     ]
    },
    {
     "name": "stdout",
     "output_type": "stream",
     "text": [
      "Epoch 4: Train Loss: 77.7062, Val Loss: 19.9890, F1: 0.8364, Accuracy: 0.9080, Precision: 0.8485, Recall: 0.8466\n"
     ]
    },
    {
     "name": "stderr",
     "output_type": "stream",
     "text": [
      "C:\\Users\\udays\\AppData\\Local\\Temp\\ipykernel_15096\\3760703809.py:80: FutureWarning: Series.__getitem__ treating keys as positions is deprecated. In a future version, integer keys will always be treated as labels (consistent with DataFrame behavior). To access a value by position, use `ser.iloc[pos]`\n",
      "  'labels': torch.tensor(label, dtype=torch.float32)\n",
      "Epoch 5/100: 100%|███████████████████████████████████████████████████████| 14/14 [00:23<00:00,  1.66s/batch, loss=4.65]\n",
      "Validating: 100%|█████████████████████████████████████████████████████████████████████| 4/4 [00:02<00:00,  1.49batch/s]\n",
      "C:\\Users\\udays\\miniconda3\\Lib\\site-packages\\sklearn\\metrics\\_classification.py:1531: UndefinedMetricWarning: Precision is ill-defined and being set to 0.0 due to no predicted samples. Use `zero_division` parameter to control this behavior.\n",
      "  _warn_prf(average, modifier, f\"{metric.capitalize()} is\", len(result))\n"
     ]
    },
    {
     "name": "stdout",
     "output_type": "stream",
     "text": [
      "Epoch 5: Train Loss: 69.8079, Val Loss: 18.0731, F1: 0.8364, Accuracy: 0.9080, Precision: 0.8485, Recall: 0.8466\n"
     ]
    },
    {
     "name": "stderr",
     "output_type": "stream",
     "text": [
      "C:\\Users\\udays\\AppData\\Local\\Temp\\ipykernel_15096\\3760703809.py:80: FutureWarning: Series.__getitem__ treating keys as positions is deprecated. In a future version, integer keys will always be treated as labels (consistent with DataFrame behavior). To access a value by position, use `ser.iloc[pos]`\n",
      "  'labels': torch.tensor(label, dtype=torch.float32)\n",
      "Epoch 6/100: 100%|████████████████████████████████████████████████████████| 14/14 [00:23<00:00,  1.69s/batch, loss=4.5]\n",
      "Validating: 100%|█████████████████████████████████████████████████████████████████████| 4/4 [00:02<00:00,  1.45batch/s]\n",
      "C:\\Users\\udays\\miniconda3\\Lib\\site-packages\\sklearn\\metrics\\_classification.py:1531: UndefinedMetricWarning: Precision is ill-defined and being set to 0.0 due to no predicted samples. Use `zero_division` parameter to control this behavior.\n",
      "  _warn_prf(average, modifier, f\"{metric.capitalize()} is\", len(result))\n"
     ]
    },
    {
     "name": "stdout",
     "output_type": "stream",
     "text": [
      "Epoch 6: Train Loss: 64.6866, Val Loss: 17.2427, F1: 0.8357, Accuracy: 0.9069, Precision: 0.8468, Recall: 0.8466\n"
     ]
    },
    {
     "name": "stderr",
     "output_type": "stream",
     "text": [
      "C:\\Users\\udays\\AppData\\Local\\Temp\\ipykernel_15096\\3760703809.py:80: FutureWarning: Series.__getitem__ treating keys as positions is deprecated. In a future version, integer keys will always be treated as labels (consistent with DataFrame behavior). To access a value by position, use `ser.iloc[pos]`\n",
      "  'labels': torch.tensor(label, dtype=torch.float32)\n",
      "Epoch 7/100: 100%|███████████████████████████████████████████████████████| 14/14 [00:23<00:00,  1.68s/batch, loss=4.97]\n",
      "Validating: 100%|█████████████████████████████████████████████████████████████████████| 4/4 [00:02<00:00,  1.45batch/s]\n",
      "C:\\Users\\udays\\miniconda3\\Lib\\site-packages\\sklearn\\metrics\\_classification.py:1531: UndefinedMetricWarning: Precision is ill-defined and being set to 0.0 due to no predicted samples. Use `zero_division` parameter to control this behavior.\n",
      "  _warn_prf(average, modifier, f\"{metric.capitalize()} is\", len(result))\n"
     ]
    },
    {
     "name": "stdout",
     "output_type": "stream",
     "text": [
      "Epoch 7: Train Loss: 62.0246, Val Loss: 16.3668, F1: 0.8364, Accuracy: 0.9080, Precision: 0.8485, Recall: 0.8466\n"
     ]
    },
    {
     "name": "stderr",
     "output_type": "stream",
     "text": [
      "C:\\Users\\udays\\AppData\\Local\\Temp\\ipykernel_15096\\3760703809.py:80: FutureWarning: Series.__getitem__ treating keys as positions is deprecated. In a future version, integer keys will always be treated as labels (consistent with DataFrame behavior). To access a value by position, use `ser.iloc[pos]`\n",
      "  'labels': torch.tensor(label, dtype=torch.float32)\n",
      "Epoch 8/100: 100%|████████████████████████████████████████████████████████| 14/14 [00:23<00:00,  1.68s/batch, loss=3.8]\n",
      "Validating: 100%|█████████████████████████████████████████████████████████████████████| 4/4 [00:02<00:00,  1.43batch/s]\n",
      "C:\\Users\\udays\\miniconda3\\Lib\\site-packages\\sklearn\\metrics\\_classification.py:1531: UndefinedMetricWarning: Precision is ill-defined and being set to 0.0 due to no predicted samples. Use `zero_division` parameter to control this behavior.\n",
      "  _warn_prf(average, modifier, f\"{metric.capitalize()} is\", len(result))\n"
     ]
    },
    {
     "name": "stdout",
     "output_type": "stream",
     "text": [
      "Epoch 8: Train Loss: 58.5078, Val Loss: 15.5917, F1: 0.8364, Accuracy: 0.9080, Precision: 0.8485, Recall: 0.8466\n"
     ]
    },
    {
     "name": "stderr",
     "output_type": "stream",
     "text": [
      "C:\\Users\\udays\\AppData\\Local\\Temp\\ipykernel_15096\\3760703809.py:80: FutureWarning: Series.__getitem__ treating keys as positions is deprecated. In a future version, integer keys will always be treated as labels (consistent with DataFrame behavior). To access a value by position, use `ser.iloc[pos]`\n",
      "  'labels': torch.tensor(label, dtype=torch.float32)\n",
      "Epoch 9/100: 100%|███████████████████████████████████████████████████████| 14/14 [00:23<00:00,  1.69s/batch, loss=3.91]\n",
      "Validating: 100%|█████████████████████████████████████████████████████████████████████| 4/4 [00:02<00:00,  1.39batch/s]\n",
      "C:\\Users\\udays\\miniconda3\\Lib\\site-packages\\sklearn\\metrics\\_classification.py:1531: UndefinedMetricWarning: Precision is ill-defined and being set to 0.0 due to no predicted samples. Use `zero_division` parameter to control this behavior.\n",
      "  _warn_prf(average, modifier, f\"{metric.capitalize()} is\", len(result))\n"
     ]
    },
    {
     "name": "stdout",
     "output_type": "stream",
     "text": [
      "Epoch 9: Train Loss: 56.3072, Val Loss: 15.2240, F1: 0.8364, Accuracy: 0.9080, Precision: 0.8485, Recall: 0.8466\n"
     ]
    },
    {
     "name": "stderr",
     "output_type": "stream",
     "text": [
      "C:\\Users\\udays\\AppData\\Local\\Temp\\ipykernel_15096\\3760703809.py:80: FutureWarning: Series.__getitem__ treating keys as positions is deprecated. In a future version, integer keys will always be treated as labels (consistent with DataFrame behavior). To access a value by position, use `ser.iloc[pos]`\n",
      "  'labels': torch.tensor(label, dtype=torch.float32)\n",
      "Epoch 10/100: 100%|██████████████████████████████████████████████████████| 14/14 [00:23<00:00,  1.66s/batch, loss=4.58]\n",
      "Validating: 100%|█████████████████████████████████████████████████████████████████████| 4/4 [00:02<00:00,  1.47batch/s]\n",
      "C:\\Users\\udays\\miniconda3\\Lib\\site-packages\\sklearn\\metrics\\_classification.py:1531: UndefinedMetricWarning: Precision is ill-defined and being set to 0.0 due to no predicted samples. Use `zero_division` parameter to control this behavior.\n",
      "  _warn_prf(average, modifier, f\"{metric.capitalize()} is\", len(result))\n"
     ]
    },
    {
     "name": "stdout",
     "output_type": "stream",
     "text": [
      "Epoch 10: Train Loss: 55.1547, Val Loss: 14.8754, F1: 0.8364, Accuracy: 0.9080, Precision: 0.8485, Recall: 0.8466\n"
     ]
    },
    {
     "name": "stderr",
     "output_type": "stream",
     "text": [
      "C:\\Users\\udays\\AppData\\Local\\Temp\\ipykernel_15096\\3760703809.py:80: FutureWarning: Series.__getitem__ treating keys as positions is deprecated. In a future version, integer keys will always be treated as labels (consistent with DataFrame behavior). To access a value by position, use `ser.iloc[pos]`\n",
      "  'labels': torch.tensor(label, dtype=torch.float32)\n",
      "Epoch 11/100: 100%|██████████████████████████████████████████████████████| 14/14 [00:23<00:00,  1.70s/batch, loss=3.71]\n",
      "Validating: 100%|█████████████████████████████████████████████████████████████████████| 4/4 [00:02<00:00,  1.45batch/s]\n",
      "C:\\Users\\udays\\miniconda3\\Lib\\site-packages\\sklearn\\metrics\\_classification.py:1531: UndefinedMetricWarning: Precision is ill-defined and being set to 0.0 due to no predicted samples. Use `zero_division` parameter to control this behavior.\n",
      "  _warn_prf(average, modifier, f\"{metric.capitalize()} is\", len(result))\n"
     ]
    },
    {
     "name": "stdout",
     "output_type": "stream",
     "text": [
      "Epoch 11: Train Loss: 53.6470, Val Loss: 14.5484, F1: 0.8364, Accuracy: 0.9080, Precision: 0.8485, Recall: 0.8466\n"
     ]
    },
    {
     "name": "stderr",
     "output_type": "stream",
     "text": [
      "C:\\Users\\udays\\AppData\\Local\\Temp\\ipykernel_15096\\3760703809.py:80: FutureWarning: Series.__getitem__ treating keys as positions is deprecated. In a future version, integer keys will always be treated as labels (consistent with DataFrame behavior). To access a value by position, use `ser.iloc[pos]`\n",
      "  'labels': torch.tensor(label, dtype=torch.float32)\n",
      "Epoch 12/100: 100%|██████████████████████████████████████████████████████| 14/14 [00:23<00:00,  1.68s/batch, loss=3.93]\n",
      "Validating: 100%|█████████████████████████████████████████████████████████████████████| 4/4 [00:02<00:00,  1.47batch/s]\n",
      "C:\\Users\\udays\\miniconda3\\Lib\\site-packages\\sklearn\\metrics\\_classification.py:1531: UndefinedMetricWarning: Precision is ill-defined and being set to 0.0 due to no predicted samples. Use `zero_division` parameter to control this behavior.\n",
      "  _warn_prf(average, modifier, f\"{metric.capitalize()} is\", len(result))\n"
     ]
    },
    {
     "name": "stdout",
     "output_type": "stream",
     "text": [
      "Epoch 12: Train Loss: 52.0806, Val Loss: 14.3837, F1: 0.8364, Accuracy: 0.9080, Precision: 0.8485, Recall: 0.8466\n"
     ]
    },
    {
     "name": "stderr",
     "output_type": "stream",
     "text": [
      "C:\\Users\\udays\\AppData\\Local\\Temp\\ipykernel_15096\\3760703809.py:80: FutureWarning: Series.__getitem__ treating keys as positions is deprecated. In a future version, integer keys will always be treated as labels (consistent with DataFrame behavior). To access a value by position, use `ser.iloc[pos]`\n",
      "  'labels': torch.tensor(label, dtype=torch.float32)\n",
      "Epoch 13/100: 100%|██████████████████████████████████████████████████████| 14/14 [00:23<00:00,  1.67s/batch, loss=3.64]\n",
      "Validating: 100%|█████████████████████████████████████████████████████████████████████| 4/4 [00:02<00:00,  1.52batch/s]\n",
      "C:\\Users\\udays\\miniconda3\\Lib\\site-packages\\sklearn\\metrics\\_classification.py:1531: UndefinedMetricWarning: Precision is ill-defined and being set to 0.0 due to no predicted samples. Use `zero_division` parameter to control this behavior.\n",
      "  _warn_prf(average, modifier, f\"{metric.capitalize()} is\", len(result))\n"
     ]
    },
    {
     "name": "stdout",
     "output_type": "stream",
     "text": [
      "Epoch 13: Train Loss: 51.7016, Val Loss: 14.2303, F1: 0.8364, Accuracy: 0.9080, Precision: 0.8485, Recall: 0.8466\n"
     ]
    },
    {
     "name": "stderr",
     "output_type": "stream",
     "text": [
      "C:\\Users\\udays\\AppData\\Local\\Temp\\ipykernel_15096\\3760703809.py:80: FutureWarning: Series.__getitem__ treating keys as positions is deprecated. In a future version, integer keys will always be treated as labels (consistent with DataFrame behavior). To access a value by position, use `ser.iloc[pos]`\n",
      "  'labels': torch.tensor(label, dtype=torch.float32)\n",
      "Epoch 14/100: 100%|██████████████████████████████████████████████████████| 14/14 [00:23<00:00,  1.68s/batch, loss=3.72]\n",
      "Validating: 100%|█████████████████████████████████████████████████████████████████████| 4/4 [00:03<00:00,  1.32batch/s]\n",
      "C:\\Users\\udays\\miniconda3\\Lib\\site-packages\\sklearn\\metrics\\_classification.py:1531: UndefinedMetricWarning: Precision is ill-defined and being set to 0.0 due to no predicted samples. Use `zero_division` parameter to control this behavior.\n",
      "  _warn_prf(average, modifier, f\"{metric.capitalize()} is\", len(result))\n"
     ]
    },
    {
     "name": "stdout",
     "output_type": "stream",
     "text": [
      "Epoch 14: Train Loss: 50.9647, Val Loss: 14.0707, F1: 0.8364, Accuracy: 0.9080, Precision: 0.8485, Recall: 0.8466\n"
     ]
    },
    {
     "name": "stderr",
     "output_type": "stream",
     "text": [
      "C:\\Users\\udays\\AppData\\Local\\Temp\\ipykernel_15096\\3760703809.py:80: FutureWarning: Series.__getitem__ treating keys as positions is deprecated. In a future version, integer keys will always be treated as labels (consistent with DataFrame behavior). To access a value by position, use `ser.iloc[pos]`\n",
      "  'labels': torch.tensor(label, dtype=torch.float32)\n",
      "Epoch 15/100: 100%|██████████████████████████████████████████████████████| 14/14 [00:23<00:00,  1.66s/batch, loss=3.33]\n",
      "Validating: 100%|█████████████████████████████████████████████████████████████████████| 4/4 [00:02<00:00,  1.43batch/s]\n",
      "C:\\Users\\udays\\miniconda3\\Lib\\site-packages\\sklearn\\metrics\\_classification.py:1531: UndefinedMetricWarning: Precision is ill-defined and being set to 0.0 due to no predicted samples. Use `zero_division` parameter to control this behavior.\n",
      "  _warn_prf(average, modifier, f\"{metric.capitalize()} is\", len(result))\n"
     ]
    },
    {
     "name": "stdout",
     "output_type": "stream",
     "text": [
      "Epoch 15: Train Loss: 50.2243, Val Loss: 13.9922, F1: 0.8364, Accuracy: 0.9080, Precision: 0.8485, Recall: 0.8466\n"
     ]
    },
    {
     "name": "stderr",
     "output_type": "stream",
     "text": [
      "C:\\Users\\udays\\AppData\\Local\\Temp\\ipykernel_15096\\3760703809.py:80: FutureWarning: Series.__getitem__ treating keys as positions is deprecated. In a future version, integer keys will always be treated as labels (consistent with DataFrame behavior). To access a value by position, use `ser.iloc[pos]`\n",
      "  'labels': torch.tensor(label, dtype=torch.float32)\n",
      "Epoch 16/100: 100%|██████████████████████████████████████████████████████| 14/14 [00:23<00:00,  1.68s/batch, loss=3.77]\n",
      "Validating: 100%|█████████████████████████████████████████████████████████████████████| 4/4 [00:02<00:00,  1.39batch/s]\n",
      "C:\\Users\\udays\\miniconda3\\Lib\\site-packages\\sklearn\\metrics\\_classification.py:1531: UndefinedMetricWarning: Precision is ill-defined and being set to 0.0 due to no predicted samples. Use `zero_division` parameter to control this behavior.\n",
      "  _warn_prf(average, modifier, f\"{metric.capitalize()} is\", len(result))\n"
     ]
    },
    {
     "name": "stdout",
     "output_type": "stream",
     "text": [
      "Epoch 16: Train Loss: 49.9150, Val Loss: 13.9147, F1: 0.8364, Accuracy: 0.9080, Precision: 0.8485, Recall: 0.8466\n"
     ]
    },
    {
     "name": "stderr",
     "output_type": "stream",
     "text": [
      "C:\\Users\\udays\\AppData\\Local\\Temp\\ipykernel_15096\\3760703809.py:80: FutureWarning: Series.__getitem__ treating keys as positions is deprecated. In a future version, integer keys will always be treated as labels (consistent with DataFrame behavior). To access a value by position, use `ser.iloc[pos]`\n",
      "  'labels': torch.tensor(label, dtype=torch.float32)\n",
      "Epoch 17/100: 100%|██████████████████████████████████████████████████████| 14/14 [00:23<00:00,  1.68s/batch, loss=3.37]\n",
      "Validating: 100%|█████████████████████████████████████████████████████████████████████| 4/4 [00:02<00:00,  1.42batch/s]\n",
      "C:\\Users\\udays\\miniconda3\\Lib\\site-packages\\sklearn\\metrics\\_classification.py:1531: UndefinedMetricWarning: Precision is ill-defined and being set to 0.0 due to no predicted samples. Use `zero_division` parameter to control this behavior.\n",
      "  _warn_prf(average, modifier, f\"{metric.capitalize()} is\", len(result))\n"
     ]
    },
    {
     "name": "stdout",
     "output_type": "stream",
     "text": [
      "Epoch 17: Train Loss: 49.6267, Val Loss: 13.8392, F1: 0.8364, Accuracy: 0.9080, Precision: 0.8485, Recall: 0.8466\n",
      "Early stopping triggered.\n"
     ]
    },
    {
     "name": "stderr",
     "output_type": "stream",
     "text": [
      "C:\\Users\\udays\\miniconda3\\Lib\\site-packages\\torch\\optim\\lr_scheduler.py:62: UserWarning: The verbose parameter is deprecated. Please use get_last_lr() to access the learning rate.\n",
      "  warnings.warn(\n"
     ]
    },
    {
     "name": "stdout",
     "output_type": "stream",
     "text": [
      "Training fold 3...\n"
     ]
    },
    {
     "name": "stderr",
     "output_type": "stream",
     "text": [
      "C:\\Users\\udays\\AppData\\Local\\Temp\\ipykernel_15096\\3760703809.py:80: FutureWarning: Series.__getitem__ treating keys as positions is deprecated. In a future version, integer keys will always be treated as labels (consistent with DataFrame behavior). To access a value by position, use `ser.iloc[pos]`\n",
      "  'labels': torch.tensor(label, dtype=torch.float32)\n",
      "Epoch 1/100: 100%|███████████████████████████████████████████████████████| 14/14 [00:23<00:00,  1.66s/batch, loss=7.13]\n",
      "Validating: 100%|█████████████████████████████████████████████████████████████████████| 4/4 [00:03<00:00,  1.18batch/s]\n",
      "C:\\Users\\udays\\miniconda3\\Lib\\site-packages\\sklearn\\metrics\\_classification.py:1531: UndefinedMetricWarning: Precision is ill-defined and being set to 0.0 due to no predicted samples. Use `zero_division` parameter to control this behavior.\n",
      "  _warn_prf(average, modifier, f\"{metric.capitalize()} is\", len(result))\n"
     ]
    },
    {
     "name": "stdout",
     "output_type": "stream",
     "text": [
      "Epoch 1: Train Loss: 103.3939, Val Loss: 27.4969, F1: 0.8297, Accuracy: 0.8891, Precision: 0.8246, Recall: 0.8828\n"
     ]
    },
    {
     "name": "stderr",
     "output_type": "stream",
     "text": [
      "C:\\Users\\udays\\AppData\\Local\\Temp\\ipykernel_15096\\3760703809.py:80: FutureWarning: Series.__getitem__ treating keys as positions is deprecated. In a future version, integer keys will always be treated as labels (consistent with DataFrame behavior). To access a value by position, use `ser.iloc[pos]`\n",
      "  'labels': torch.tensor(label, dtype=torch.float32)\n",
      "Epoch 2/100: 100%|███████████████████████████████████████████████████████| 14/14 [00:23<00:00,  1.65s/batch, loss=6.25]\n",
      "Validating: 100%|█████████████████████████████████████████████████████████████████████| 4/4 [00:03<00:00,  1.28batch/s]\n",
      "C:\\Users\\udays\\miniconda3\\Lib\\site-packages\\sklearn\\metrics\\_classification.py:1531: UndefinedMetricWarning: Precision is ill-defined and being set to 0.0 due to no predicted samples. Use `zero_division` parameter to control this behavior.\n",
      "  _warn_prf(average, modifier, f\"{metric.capitalize()} is\", len(result))\n",
      "C:\\Users\\udays\\miniconda3\\Lib\\site-packages\\sklearn\\metrics\\_classification.py:1531: UndefinedMetricWarning: Precision is ill-defined and being set to 0.0 due to no predicted samples. Use `zero_division` parameter to control this behavior.\n",
      "  _warn_prf(average, modifier, f\"{metric.capitalize()} is\", len(result))\n"
     ]
    },
    {
     "name": "stdout",
     "output_type": "stream",
     "text": [
      "Epoch 2: Train Loss: 94.1111, Val Loss: 24.6266, F1: 0.7997, Accuracy: 0.9279, Precision: 0.8054, Recall: 0.7951\n"
     ]
    },
    {
     "name": "stderr",
     "output_type": "stream",
     "text": [
      "C:\\Users\\udays\\AppData\\Local\\Temp\\ipykernel_15096\\3760703809.py:80: FutureWarning: Series.__getitem__ treating keys as positions is deprecated. In a future version, integer keys will always be treated as labels (consistent with DataFrame behavior). To access a value by position, use `ser.iloc[pos]`\n",
      "  'labels': torch.tensor(label, dtype=torch.float32)\n",
      "Epoch 3/100: 100%|███████████████████████████████████████████████████████| 14/14 [00:22<00:00,  1.64s/batch, loss=5.74]\n",
      "Validating: 100%|█████████████████████████████████████████████████████████████████████| 4/4 [00:03<00:00,  1.15batch/s]\n",
      "C:\\Users\\udays\\miniconda3\\Lib\\site-packages\\sklearn\\metrics\\_classification.py:1531: UndefinedMetricWarning: Precision is ill-defined and being set to 0.0 due to no predicted samples. Use `zero_division` parameter to control this behavior.\n",
      "  _warn_prf(average, modifier, f\"{metric.capitalize()} is\", len(result))\n",
      "C:\\Users\\udays\\miniconda3\\Lib\\site-packages\\sklearn\\metrics\\_classification.py:1531: UndefinedMetricWarning: Precision is ill-defined and being set to 0.0 due to no predicted samples. Use `zero_division` parameter to control this behavior.\n",
      "  _warn_prf(average, modifier, f\"{metric.capitalize()} is\", len(result))\n"
     ]
    },
    {
     "name": "stdout",
     "output_type": "stream",
     "text": [
      "Epoch 3: Train Loss: 85.7080, Val Loss: 22.0916, F1: 0.7997, Accuracy: 0.9279, Precision: 0.8054, Recall: 0.7951\n"
     ]
    },
    {
     "name": "stderr",
     "output_type": "stream",
     "text": [
      "C:\\Users\\udays\\AppData\\Local\\Temp\\ipykernel_15096\\3760703809.py:80: FutureWarning: Series.__getitem__ treating keys as positions is deprecated. In a future version, integer keys will always be treated as labels (consistent with DataFrame behavior). To access a value by position, use `ser.iloc[pos]`\n",
      "  'labels': torch.tensor(label, dtype=torch.float32)\n",
      "Epoch 4/100: 100%|███████████████████████████████████████████████████████| 14/14 [00:22<00:00,  1.64s/batch, loss=5.48]\n",
      "Validating: 100%|█████████████████████████████████████████████████████████████████████| 4/4 [00:03<00:00,  1.22batch/s]\n",
      "C:\\Users\\udays\\miniconda3\\Lib\\site-packages\\sklearn\\metrics\\_classification.py:1531: UndefinedMetricWarning: Precision is ill-defined and being set to 0.0 due to no predicted samples. Use `zero_division` parameter to control this behavior.\n",
      "  _warn_prf(average, modifier, f\"{metric.capitalize()} is\", len(result))\n",
      "C:\\Users\\udays\\miniconda3\\Lib\\site-packages\\sklearn\\metrics\\_classification.py:1531: UndefinedMetricWarning: Precision is ill-defined and being set to 0.0 due to no predicted samples. Use `zero_division` parameter to control this behavior.\n",
      "  _warn_prf(average, modifier, f\"{metric.capitalize()} is\", len(result))\n"
     ]
    },
    {
     "name": "stdout",
     "output_type": "stream",
     "text": [
      "Epoch 4: Train Loss: 77.8588, Val Loss: 19.7720, F1: 0.7997, Accuracy: 0.9279, Precision: 0.8054, Recall: 0.7951\n"
     ]
    },
    {
     "name": "stderr",
     "output_type": "stream",
     "text": [
      "C:\\Users\\udays\\AppData\\Local\\Temp\\ipykernel_15096\\3760703809.py:80: FutureWarning: Series.__getitem__ treating keys as positions is deprecated. In a future version, integer keys will always be treated as labels (consistent with DataFrame behavior). To access a value by position, use `ser.iloc[pos]`\n",
      "  'labels': torch.tensor(label, dtype=torch.float32)\n",
      "Epoch 5/100: 100%|███████████████████████████████████████████████████████| 14/14 [00:22<00:00,  1.64s/batch, loss=4.86]\n",
      "Validating: 100%|█████████████████████████████████████████████████████████████████████| 4/4 [00:03<00:00,  1.32batch/s]\n",
      "C:\\Users\\udays\\miniconda3\\Lib\\site-packages\\sklearn\\metrics\\_classification.py:1531: UndefinedMetricWarning: Precision is ill-defined and being set to 0.0 due to no predicted samples. Use `zero_division` parameter to control this behavior.\n",
      "  _warn_prf(average, modifier, f\"{metric.capitalize()} is\", len(result))\n",
      "C:\\Users\\udays\\miniconda3\\Lib\\site-packages\\sklearn\\metrics\\_classification.py:1531: UndefinedMetricWarning: Precision is ill-defined and being set to 0.0 due to no predicted samples. Use `zero_division` parameter to control this behavior.\n",
      "  _warn_prf(average, modifier, f\"{metric.capitalize()} is\", len(result))\n"
     ]
    },
    {
     "name": "stdout",
     "output_type": "stream",
     "text": [
      "Epoch 5: Train Loss: 71.7610, Val Loss: 18.7299, F1: 0.7997, Accuracy: 0.9279, Precision: 0.8054, Recall: 0.7951\n"
     ]
    },
    {
     "name": "stderr",
     "output_type": "stream",
     "text": [
      "C:\\Users\\udays\\AppData\\Local\\Temp\\ipykernel_15096\\3760703809.py:80: FutureWarning: Series.__getitem__ treating keys as positions is deprecated. In a future version, integer keys will always be treated as labels (consistent with DataFrame behavior). To access a value by position, use `ser.iloc[pos]`\n",
      "  'labels': torch.tensor(label, dtype=torch.float32)\n",
      "Epoch 6/100: 100%|███████████████████████████████████████████████████████| 14/14 [00:22<00:00,  1.63s/batch, loss=4.73]\n",
      "Validating: 100%|█████████████████████████████████████████████████████████████████████| 4/4 [00:03<00:00,  1.21batch/s]\n",
      "C:\\Users\\udays\\miniconda3\\Lib\\site-packages\\sklearn\\metrics\\_classification.py:1531: UndefinedMetricWarning: Precision is ill-defined and being set to 0.0 due to no predicted samples. Use `zero_division` parameter to control this behavior.\n",
      "  _warn_prf(average, modifier, f\"{metric.capitalize()} is\", len(result))\n",
      "C:\\Users\\udays\\miniconda3\\Lib\\site-packages\\sklearn\\metrics\\_classification.py:1531: UndefinedMetricWarning: Precision is ill-defined and being set to 0.0 due to no predicted samples. Use `zero_division` parameter to control this behavior.\n",
      "  _warn_prf(average, modifier, f\"{metric.capitalize()} is\", len(result))\n"
     ]
    },
    {
     "name": "stdout",
     "output_type": "stream",
     "text": [
      "Epoch 6: Train Loss: 68.3045, Val Loss: 17.7262, F1: 0.7997, Accuracy: 0.9279, Precision: 0.8054, Recall: 0.7951\n"
     ]
    },
    {
     "name": "stderr",
     "output_type": "stream",
     "text": [
      "C:\\Users\\udays\\AppData\\Local\\Temp\\ipykernel_15096\\3760703809.py:80: FutureWarning: Series.__getitem__ treating keys as positions is deprecated. In a future version, integer keys will always be treated as labels (consistent with DataFrame behavior). To access a value by position, use `ser.iloc[pos]`\n",
      "  'labels': torch.tensor(label, dtype=torch.float32)\n",
      "Epoch 7/100: 100%|███████████████████████████████████████████████████████| 14/14 [00:22<00:00,  1.63s/batch, loss=4.76]\n",
      "Validating: 100%|█████████████████████████████████████████████████████████████████████| 4/4 [00:03<00:00,  1.23batch/s]\n",
      "C:\\Users\\udays\\miniconda3\\Lib\\site-packages\\sklearn\\metrics\\_classification.py:1531: UndefinedMetricWarning: Precision is ill-defined and being set to 0.0 due to no predicted samples. Use `zero_division` parameter to control this behavior.\n",
      "  _warn_prf(average, modifier, f\"{metric.capitalize()} is\", len(result))\n",
      "C:\\Users\\udays\\miniconda3\\Lib\\site-packages\\sklearn\\metrics\\_classification.py:1531: UndefinedMetricWarning: Precision is ill-defined and being set to 0.0 due to no predicted samples. Use `zero_division` parameter to control this behavior.\n",
      "  _warn_prf(average, modifier, f\"{metric.capitalize()} is\", len(result))\n"
     ]
    },
    {
     "name": "stdout",
     "output_type": "stream",
     "text": [
      "Epoch 7: Train Loss: 64.8958, Val Loss: 16.7758, F1: 0.7997, Accuracy: 0.9279, Precision: 0.8054, Recall: 0.7951\n"
     ]
    },
    {
     "name": "stderr",
     "output_type": "stream",
     "text": [
      "C:\\Users\\udays\\AppData\\Local\\Temp\\ipykernel_15096\\3760703809.py:80: FutureWarning: Series.__getitem__ treating keys as positions is deprecated. In a future version, integer keys will always be treated as labels (consistent with DataFrame behavior). To access a value by position, use `ser.iloc[pos]`\n",
      "  'labels': torch.tensor(label, dtype=torch.float32)\n",
      "Epoch 8/100: 100%|███████████████████████████████████████████████████████| 14/14 [00:22<00:00,  1.62s/batch, loss=4.52]\n",
      "Validating: 100%|█████████████████████████████████████████████████████████████████████| 4/4 [00:03<00:00,  1.18batch/s]\n",
      "C:\\Users\\udays\\miniconda3\\Lib\\site-packages\\sklearn\\metrics\\_classification.py:1531: UndefinedMetricWarning: Precision is ill-defined and being set to 0.0 due to no predicted samples. Use `zero_division` parameter to control this behavior.\n",
      "  _warn_prf(average, modifier, f\"{metric.capitalize()} is\", len(result))\n",
      "C:\\Users\\udays\\miniconda3\\Lib\\site-packages\\sklearn\\metrics\\_classification.py:1531: UndefinedMetricWarning: Precision is ill-defined and being set to 0.0 due to no predicted samples. Use `zero_division` parameter to control this behavior.\n",
      "  _warn_prf(average, modifier, f\"{metric.capitalize()} is\", len(result))\n"
     ]
    },
    {
     "name": "stdout",
     "output_type": "stream",
     "text": [
      "Epoch 8: Train Loss: 62.4208, Val Loss: 16.3275, F1: 0.7997, Accuracy: 0.9279, Precision: 0.8054, Recall: 0.7951\n"
     ]
    },
    {
     "name": "stderr",
     "output_type": "stream",
     "text": [
      "C:\\Users\\udays\\AppData\\Local\\Temp\\ipykernel_15096\\3760703809.py:80: FutureWarning: Series.__getitem__ treating keys as positions is deprecated. In a future version, integer keys will always be treated as labels (consistent with DataFrame behavior). To access a value by position, use `ser.iloc[pos]`\n",
      "  'labels': torch.tensor(label, dtype=torch.float32)\n",
      "Epoch 9/100: 100%|███████████████████████████████████████████████████████| 14/14 [00:22<00:00,  1.64s/batch, loss=4.75]\n",
      "Validating: 100%|█████████████████████████████████████████████████████████████████████| 4/4 [00:03<00:00,  1.25batch/s]\n",
      "C:\\Users\\udays\\miniconda3\\Lib\\site-packages\\sklearn\\metrics\\_classification.py:1531: UndefinedMetricWarning: Precision is ill-defined and being set to 0.0 due to no predicted samples. Use `zero_division` parameter to control this behavior.\n",
      "  _warn_prf(average, modifier, f\"{metric.capitalize()} is\", len(result))\n",
      "C:\\Users\\udays\\miniconda3\\Lib\\site-packages\\sklearn\\metrics\\_classification.py:1531: UndefinedMetricWarning: Precision is ill-defined and being set to 0.0 due to no predicted samples. Use `zero_division` parameter to control this behavior.\n",
      "  _warn_prf(average, modifier, f\"{metric.capitalize()} is\", len(result))\n"
     ]
    },
    {
     "name": "stdout",
     "output_type": "stream",
     "text": [
      "Epoch 9: Train Loss: 60.7964, Val Loss: 15.8885, F1: 0.7997, Accuracy: 0.9279, Precision: 0.8054, Recall: 0.7951\n"
     ]
    },
    {
     "name": "stderr",
     "output_type": "stream",
     "text": [
      "C:\\Users\\udays\\AppData\\Local\\Temp\\ipykernel_15096\\3760703809.py:80: FutureWarning: Series.__getitem__ treating keys as positions is deprecated. In a future version, integer keys will always be treated as labels (consistent with DataFrame behavior). To access a value by position, use `ser.iloc[pos]`\n",
      "  'labels': torch.tensor(label, dtype=torch.float32)\n",
      "Epoch 10/100: 100%|██████████████████████████████████████████████████████| 14/14 [00:22<00:00,  1.63s/batch, loss=4.15]\n",
      "Validating: 100%|█████████████████████████████████████████████████████████████████████| 4/4 [00:03<00:00,  1.29batch/s]\n",
      "C:\\Users\\udays\\miniconda3\\Lib\\site-packages\\sklearn\\metrics\\_classification.py:1531: UndefinedMetricWarning: Precision is ill-defined and being set to 0.0 due to no predicted samples. Use `zero_division` parameter to control this behavior.\n",
      "  _warn_prf(average, modifier, f\"{metric.capitalize()} is\", len(result))\n",
      "C:\\Users\\udays\\miniconda3\\Lib\\site-packages\\sklearn\\metrics\\_classification.py:1531: UndefinedMetricWarning: Precision is ill-defined and being set to 0.0 due to no predicted samples. Use `zero_division` parameter to control this behavior.\n",
      "  _warn_prf(average, modifier, f\"{metric.capitalize()} is\", len(result))\n"
     ]
    },
    {
     "name": "stdout",
     "output_type": "stream",
     "text": [
      "Epoch 10: Train Loss: 58.9915, Val Loss: 15.4779, F1: 0.7997, Accuracy: 0.9279, Precision: 0.8054, Recall: 0.7951\n"
     ]
    },
    {
     "name": "stderr",
     "output_type": "stream",
     "text": [
      "C:\\Users\\udays\\AppData\\Local\\Temp\\ipykernel_15096\\3760703809.py:80: FutureWarning: Series.__getitem__ treating keys as positions is deprecated. In a future version, integer keys will always be treated as labels (consistent with DataFrame behavior). To access a value by position, use `ser.iloc[pos]`\n",
      "  'labels': torch.tensor(label, dtype=torch.float32)\n",
      "Epoch 11/100: 100%|██████████████████████████████████████████████████████| 14/14 [00:22<00:00,  1.62s/batch, loss=4.36]\n",
      "Validating: 100%|█████████████████████████████████████████████████████████████████████| 4/4 [00:03<00:00,  1.17batch/s]\n",
      "C:\\Users\\udays\\miniconda3\\Lib\\site-packages\\sklearn\\metrics\\_classification.py:1531: UndefinedMetricWarning: Precision is ill-defined and being set to 0.0 due to no predicted samples. Use `zero_division` parameter to control this behavior.\n",
      "  _warn_prf(average, modifier, f\"{metric.capitalize()} is\", len(result))\n",
      "C:\\Users\\udays\\miniconda3\\Lib\\site-packages\\sklearn\\metrics\\_classification.py:1531: UndefinedMetricWarning: Precision is ill-defined and being set to 0.0 due to no predicted samples. Use `zero_division` parameter to control this behavior.\n",
      "  _warn_prf(average, modifier, f\"{metric.capitalize()} is\", len(result))\n"
     ]
    },
    {
     "name": "stdout",
     "output_type": "stream",
     "text": [
      "Epoch 11: Train Loss: 58.4422, Val Loss: 15.2776, F1: 0.7997, Accuracy: 0.9279, Precision: 0.8054, Recall: 0.7951\n"
     ]
    },
    {
     "name": "stderr",
     "output_type": "stream",
     "text": [
      "C:\\Users\\udays\\AppData\\Local\\Temp\\ipykernel_15096\\3760703809.py:80: FutureWarning: Series.__getitem__ treating keys as positions is deprecated. In a future version, integer keys will always be treated as labels (consistent with DataFrame behavior). To access a value by position, use `ser.iloc[pos]`\n",
      "  'labels': torch.tensor(label, dtype=torch.float32)\n",
      "Epoch 12/100: 100%|██████████████████████████████████████████████████████| 14/14 [00:22<00:00,  1.63s/batch, loss=4.44]\n",
      "Validating: 100%|█████████████████████████████████████████████████████████████████████| 4/4 [00:03<00:00,  1.17batch/s]\n",
      "C:\\Users\\udays\\miniconda3\\Lib\\site-packages\\sklearn\\metrics\\_classification.py:1531: UndefinedMetricWarning: Precision is ill-defined and being set to 0.0 due to no predicted samples. Use `zero_division` parameter to control this behavior.\n",
      "  _warn_prf(average, modifier, f\"{metric.capitalize()} is\", len(result))\n",
      "C:\\Users\\udays\\miniconda3\\Lib\\site-packages\\sklearn\\metrics\\_classification.py:1531: UndefinedMetricWarning: Precision is ill-defined and being set to 0.0 due to no predicted samples. Use `zero_division` parameter to control this behavior.\n",
      "  _warn_prf(average, modifier, f\"{metric.capitalize()} is\", len(result))\n"
     ]
    },
    {
     "name": "stdout",
     "output_type": "stream",
     "text": [
      "Epoch 12: Train Loss: 57.7556, Val Loss: 15.0796, F1: 0.7997, Accuracy: 0.9279, Precision: 0.8054, Recall: 0.7951\n"
     ]
    },
    {
     "name": "stderr",
     "output_type": "stream",
     "text": [
      "C:\\Users\\udays\\AppData\\Local\\Temp\\ipykernel_15096\\3760703809.py:80: FutureWarning: Series.__getitem__ treating keys as positions is deprecated. In a future version, integer keys will always be treated as labels (consistent with DataFrame behavior). To access a value by position, use `ser.iloc[pos]`\n",
      "  'labels': torch.tensor(label, dtype=torch.float32)\n",
      "Epoch 13/100: 100%|██████████████████████████████████████████████████████| 14/14 [00:22<00:00,  1.64s/batch, loss=3.84]\n",
      "Validating: 100%|█████████████████████████████████████████████████████████████████████| 4/4 [00:03<00:00,  1.19batch/s]\n",
      "C:\\Users\\udays\\miniconda3\\Lib\\site-packages\\sklearn\\metrics\\_classification.py:1531: UndefinedMetricWarning: Precision is ill-defined and being set to 0.0 due to no predicted samples. Use `zero_division` parameter to control this behavior.\n",
      "  _warn_prf(average, modifier, f\"{metric.capitalize()} is\", len(result))\n",
      "C:\\Users\\udays\\miniconda3\\Lib\\site-packages\\sklearn\\metrics\\_classification.py:1531: UndefinedMetricWarning: Precision is ill-defined and being set to 0.0 due to no predicted samples. Use `zero_division` parameter to control this behavior.\n",
      "  _warn_prf(average, modifier, f\"{metric.capitalize()} is\", len(result))\n"
     ]
    },
    {
     "name": "stdout",
     "output_type": "stream",
     "text": [
      "Epoch 13: Train Loss: 56.4482, Val Loss: 14.8857, F1: 0.7997, Accuracy: 0.9279, Precision: 0.8054, Recall: 0.7951\n"
     ]
    },
    {
     "name": "stderr",
     "output_type": "stream",
     "text": [
      "C:\\Users\\udays\\AppData\\Local\\Temp\\ipykernel_15096\\3760703809.py:80: FutureWarning: Series.__getitem__ treating keys as positions is deprecated. In a future version, integer keys will always be treated as labels (consistent with DataFrame behavior). To access a value by position, use `ser.iloc[pos]`\n",
      "  'labels': torch.tensor(label, dtype=torch.float32)\n",
      "Epoch 14/100: 100%|██████████████████████████████████████████████████████| 14/14 [00:22<00:00,  1.64s/batch, loss=3.55]\n",
      "Validating: 100%|█████████████████████████████████████████████████████████████████████| 4/4 [00:03<00:00,  1.25batch/s]\n",
      "C:\\Users\\udays\\miniconda3\\Lib\\site-packages\\sklearn\\metrics\\_classification.py:1531: UndefinedMetricWarning: Precision is ill-defined and being set to 0.0 due to no predicted samples. Use `zero_division` parameter to control this behavior.\n",
      "  _warn_prf(average, modifier, f\"{metric.capitalize()} is\", len(result))\n",
      "C:\\Users\\udays\\miniconda3\\Lib\\site-packages\\sklearn\\metrics\\_classification.py:1531: UndefinedMetricWarning: Precision is ill-defined and being set to 0.0 due to no predicted samples. Use `zero_division` parameter to control this behavior.\n",
      "  _warn_prf(average, modifier, f\"{metric.capitalize()} is\", len(result))\n"
     ]
    },
    {
     "name": "stdout",
     "output_type": "stream",
     "text": [
      "Epoch 14: Train Loss: 56.0324, Val Loss: 14.7902, F1: 0.7997, Accuracy: 0.9279, Precision: 0.8054, Recall: 0.7951\n"
     ]
    },
    {
     "name": "stderr",
     "output_type": "stream",
     "text": [
      "C:\\Users\\udays\\AppData\\Local\\Temp\\ipykernel_15096\\3760703809.py:80: FutureWarning: Series.__getitem__ treating keys as positions is deprecated. In a future version, integer keys will always be treated as labels (consistent with DataFrame behavior). To access a value by position, use `ser.iloc[pos]`\n",
      "  'labels': torch.tensor(label, dtype=torch.float32)\n",
      "Epoch 15/100: 100%|██████████████████████████████████████████████████████| 14/14 [00:22<00:00,  1.62s/batch, loss=3.65]\n",
      "Validating: 100%|█████████████████████████████████████████████████████████████████████| 4/4 [00:03<00:00,  1.22batch/s]\n",
      "C:\\Users\\udays\\miniconda3\\Lib\\site-packages\\sklearn\\metrics\\_classification.py:1531: UndefinedMetricWarning: Precision is ill-defined and being set to 0.0 due to no predicted samples. Use `zero_division` parameter to control this behavior.\n",
      "  _warn_prf(average, modifier, f\"{metric.capitalize()} is\", len(result))\n",
      "C:\\Users\\udays\\miniconda3\\Lib\\site-packages\\sklearn\\metrics\\_classification.py:1531: UndefinedMetricWarning: Precision is ill-defined and being set to 0.0 due to no predicted samples. Use `zero_division` parameter to control this behavior.\n",
      "  _warn_prf(average, modifier, f\"{metric.capitalize()} is\", len(result))\n"
     ]
    },
    {
     "name": "stdout",
     "output_type": "stream",
     "text": [
      "Epoch 15: Train Loss: 55.6159, Val Loss: 14.6951, F1: 0.7997, Accuracy: 0.9279, Precision: 0.8054, Recall: 0.7951\n"
     ]
    },
    {
     "name": "stderr",
     "output_type": "stream",
     "text": [
      "C:\\Users\\udays\\AppData\\Local\\Temp\\ipykernel_15096\\3760703809.py:80: FutureWarning: Series.__getitem__ treating keys as positions is deprecated. In a future version, integer keys will always be treated as labels (consistent with DataFrame behavior). To access a value by position, use `ser.iloc[pos]`\n",
      "  'labels': torch.tensor(label, dtype=torch.float32)\n",
      "Epoch 16/100: 100%|██████████████████████████████████████████████████████| 14/14 [00:23<00:00,  1.66s/batch, loss=3.61]\n",
      "Validating: 100%|█████████████████████████████████████████████████████████████████████| 4/4 [00:03<00:00,  1.18batch/s]\n",
      "C:\\Users\\udays\\miniconda3\\Lib\\site-packages\\sklearn\\metrics\\_classification.py:1531: UndefinedMetricWarning: Precision is ill-defined and being set to 0.0 due to no predicted samples. Use `zero_division` parameter to control this behavior.\n",
      "  _warn_prf(average, modifier, f\"{metric.capitalize()} is\", len(result))\n",
      "C:\\Users\\udays\\miniconda3\\Lib\\site-packages\\sklearn\\metrics\\_classification.py:1531: UndefinedMetricWarning: Precision is ill-defined and being set to 0.0 due to no predicted samples. Use `zero_division` parameter to control this behavior.\n",
      "  _warn_prf(average, modifier, f\"{metric.capitalize()} is\", len(result))\n"
     ]
    },
    {
     "name": "stdout",
     "output_type": "stream",
     "text": [
      "Epoch 16: Train Loss: 55.3572, Val Loss: 14.6010, F1: 0.7997, Accuracy: 0.9279, Precision: 0.8054, Recall: 0.7951\n",
      "Early stopping triggered.\n",
      "Training fold 4...\n"
     ]
    },
    {
     "name": "stderr",
     "output_type": "stream",
     "text": [
      "C:\\Users\\udays\\miniconda3\\Lib\\site-packages\\torch\\optim\\lr_scheduler.py:62: UserWarning: The verbose parameter is deprecated. Please use get_last_lr() to access the learning rate.\n",
      "  warnings.warn(\n",
      "C:\\Users\\udays\\AppData\\Local\\Temp\\ipykernel_15096\\3760703809.py:80: FutureWarning: Series.__getitem__ treating keys as positions is deprecated. In a future version, integer keys will always be treated as labels (consistent with DataFrame behavior). To access a value by position, use `ser.iloc[pos]`\n",
      "  'labels': torch.tensor(label, dtype=torch.float32)\n",
      "Epoch 1/100: 100%|███████████████████████████████████████████████████████| 14/14 [00:23<00:00,  1.66s/batch, loss=7.02]\n",
      "Validating: 100%|█████████████████████████████████████████████████████████████████████| 4/4 [00:02<00:00,  1.49batch/s]\n",
      "C:\\Users\\udays\\miniconda3\\Lib\\site-packages\\sklearn\\metrics\\_classification.py:1531: UndefinedMetricWarning: Precision is ill-defined and being set to 0.0 due to no predicted samples. Use `zero_division` parameter to control this behavior.\n",
      "  _warn_prf(average, modifier, f\"{metric.capitalize()} is\", len(result))\n"
     ]
    },
    {
     "name": "stdout",
     "output_type": "stream",
     "text": [
      "Epoch 1: Train Loss: 103.1177, Val Loss: 27.4917, F1: 0.8215, Accuracy: 0.8732, Precision: 0.8126, Recall: 0.8693\n"
     ]
    },
    {
     "name": "stderr",
     "output_type": "stream",
     "text": [
      "C:\\Users\\udays\\AppData\\Local\\Temp\\ipykernel_15096\\3760703809.py:80: FutureWarning: Series.__getitem__ treating keys as positions is deprecated. In a future version, integer keys will always be treated as labels (consistent with DataFrame behavior). To access a value by position, use `ser.iloc[pos]`\n",
      "  'labels': torch.tensor(label, dtype=torch.float32)\n",
      "Epoch 2/100: 100%|███████████████████████████████████████████████████████| 14/14 [00:23<00:00,  1.68s/batch, loss=6.48]\n",
      "Validating: 100%|█████████████████████████████████████████████████████████████████████| 4/4 [00:02<00:00,  1.38batch/s]\n",
      "C:\\Users\\udays\\miniconda3\\Lib\\site-packages\\sklearn\\metrics\\_classification.py:1531: UndefinedMetricWarning: Precision is ill-defined and being set to 0.0 due to no predicted samples. Use `zero_division` parameter to control this behavior.\n",
      "  _warn_prf(average, modifier, f\"{metric.capitalize()} is\", len(result))\n"
     ]
    },
    {
     "name": "stdout",
     "output_type": "stream",
     "text": [
      "Epoch 2: Train Loss: 93.9447, Val Loss: 24.6291, F1: 0.8489, Accuracy: 0.9226, Precision: 0.8479, Recall: 0.8694\n"
     ]
    },
    {
     "name": "stderr",
     "output_type": "stream",
     "text": [
      "C:\\Users\\udays\\AppData\\Local\\Temp\\ipykernel_15096\\3760703809.py:80: FutureWarning: Series.__getitem__ treating keys as positions is deprecated. In a future version, integer keys will always be treated as labels (consistent with DataFrame behavior). To access a value by position, use `ser.iloc[pos]`\n",
      "  'labels': torch.tensor(label, dtype=torch.float32)\n",
      "Epoch 3/100: 100%|███████████████████████████████████████████████████████| 14/14 [00:23<00:00,  1.71s/batch, loss=5.86]\n",
      "Validating: 100%|█████████████████████████████████████████████████████████████████████| 4/4 [00:02<00:00,  1.41batch/s]\n",
      "C:\\Users\\udays\\miniconda3\\Lib\\site-packages\\sklearn\\metrics\\_classification.py:1531: UndefinedMetricWarning: Precision is ill-defined and being set to 0.0 due to no predicted samples. Use `zero_division` parameter to control this behavior.\n",
      "  _warn_prf(average, modifier, f\"{metric.capitalize()} is\", len(result))\n"
     ]
    },
    {
     "name": "stdout",
     "output_type": "stream",
     "text": [
      "Epoch 3: Train Loss: 84.9134, Val Loss: 22.1503, F1: 0.8489, Accuracy: 0.9226, Precision: 0.8479, Recall: 0.8694\n"
     ]
    },
    {
     "name": "stderr",
     "output_type": "stream",
     "text": [
      "C:\\Users\\udays\\AppData\\Local\\Temp\\ipykernel_15096\\3760703809.py:80: FutureWarning: Series.__getitem__ treating keys as positions is deprecated. In a future version, integer keys will always be treated as labels (consistent with DataFrame behavior). To access a value by position, use `ser.iloc[pos]`\n",
      "  'labels': torch.tensor(label, dtype=torch.float32)\n",
      "Epoch 4/100: 100%|██████████████████████████████████████████████████████████| 14/14 [00:23<00:00,  1.69s/batch, loss=5]\n",
      "Validating: 100%|█████████████████████████████████████████████████████████████████████| 4/4 [00:02<00:00,  1.49batch/s]\n",
      "C:\\Users\\udays\\miniconda3\\Lib\\site-packages\\sklearn\\metrics\\_classification.py:1531: UndefinedMetricWarning: Precision is ill-defined and being set to 0.0 due to no predicted samples. Use `zero_division` parameter to control this behavior.\n",
      "  _warn_prf(average, modifier, f\"{metric.capitalize()} is\", len(result))\n"
     ]
    },
    {
     "name": "stdout",
     "output_type": "stream",
     "text": [
      "Epoch 4: Train Loss: 76.4748, Val Loss: 19.9331, F1: 0.8489, Accuracy: 0.9226, Precision: 0.8479, Recall: 0.8694\n"
     ]
    },
    {
     "name": "stderr",
     "output_type": "stream",
     "text": [
      "C:\\Users\\udays\\AppData\\Local\\Temp\\ipykernel_15096\\3760703809.py:80: FutureWarning: Series.__getitem__ treating keys as positions is deprecated. In a future version, integer keys will always be treated as labels (consistent with DataFrame behavior). To access a value by position, use `ser.iloc[pos]`\n",
      "  'labels': torch.tensor(label, dtype=torch.float32)\n",
      "Epoch 5/100: 100%|███████████████████████████████████████████████████████| 14/14 [00:23<00:00,  1.70s/batch, loss=4.71]\n",
      "Validating: 100%|█████████████████████████████████████████████████████████████████████| 4/4 [00:02<00:00,  1.43batch/s]\n",
      "C:\\Users\\udays\\miniconda3\\Lib\\site-packages\\sklearn\\metrics\\_classification.py:1531: UndefinedMetricWarning: Precision is ill-defined and being set to 0.0 due to no predicted samples. Use `zero_division` parameter to control this behavior.\n",
      "  _warn_prf(average, modifier, f\"{metric.capitalize()} is\", len(result))\n"
     ]
    },
    {
     "name": "stdout",
     "output_type": "stream",
     "text": [
      "Epoch 5: Train Loss: 69.3425, Val Loss: 17.9948, F1: 0.8489, Accuracy: 0.9226, Precision: 0.8479, Recall: 0.8694\n"
     ]
    },
    {
     "name": "stderr",
     "output_type": "stream",
     "text": [
      "C:\\Users\\udays\\AppData\\Local\\Temp\\ipykernel_15096\\3760703809.py:80: FutureWarning: Series.__getitem__ treating keys as positions is deprecated. In a future version, integer keys will always be treated as labels (consistent with DataFrame behavior). To access a value by position, use `ser.iloc[pos]`\n",
      "  'labels': torch.tensor(label, dtype=torch.float32)\n",
      "Epoch 6/100: 100%|███████████████████████████████████████████████████████| 14/14 [00:23<00:00,  1.68s/batch, loss=4.23]\n",
      "Validating: 100%|█████████████████████████████████████████████████████████████████████| 4/4 [00:02<00:00,  1.43batch/s]\n",
      "C:\\Users\\udays\\miniconda3\\Lib\\site-packages\\sklearn\\metrics\\_classification.py:1531: UndefinedMetricWarning: Precision is ill-defined and being set to 0.0 due to no predicted samples. Use `zero_division` parameter to control this behavior.\n",
      "  _warn_prf(average, modifier, f\"{metric.capitalize()} is\", len(result))\n"
     ]
    },
    {
     "name": "stdout",
     "output_type": "stream",
     "text": [
      "Epoch 6: Train Loss: 63.7286, Val Loss: 17.1472, F1: 0.8489, Accuracy: 0.9226, Precision: 0.8479, Recall: 0.8694\n"
     ]
    },
    {
     "name": "stderr",
     "output_type": "stream",
     "text": [
      "C:\\Users\\udays\\AppData\\Local\\Temp\\ipykernel_15096\\3760703809.py:80: FutureWarning: Series.__getitem__ treating keys as positions is deprecated. In a future version, integer keys will always be treated as labels (consistent with DataFrame behavior). To access a value by position, use `ser.iloc[pos]`\n",
      "  'labels': torch.tensor(label, dtype=torch.float32)\n",
      "Epoch 7/100: 100%|████████████████████████████████████████████████████████| 14/14 [00:23<00:00,  1.68s/batch, loss=4.6]\n",
      "Validating: 100%|█████████████████████████████████████████████████████████████████████| 4/4 [00:02<00:00,  1.50batch/s]\n",
      "C:\\Users\\udays\\miniconda3\\Lib\\site-packages\\sklearn\\metrics\\_classification.py:1531: UndefinedMetricWarning: Precision is ill-defined and being set to 0.0 due to no predicted samples. Use `zero_division` parameter to control this behavior.\n",
      "  _warn_prf(average, modifier, f\"{metric.capitalize()} is\", len(result))\n"
     ]
    },
    {
     "name": "stdout",
     "output_type": "stream",
     "text": [
      "Epoch 7: Train Loss: 60.9300, Val Loss: 16.3635, F1: 0.8489, Accuracy: 0.9226, Precision: 0.8479, Recall: 0.8694\n"
     ]
    },
    {
     "name": "stderr",
     "output_type": "stream",
     "text": [
      "C:\\Users\\udays\\AppData\\Local\\Temp\\ipykernel_15096\\3760703809.py:80: FutureWarning: Series.__getitem__ treating keys as positions is deprecated. In a future version, integer keys will always be treated as labels (consistent with DataFrame behavior). To access a value by position, use `ser.iloc[pos]`\n",
      "  'labels': torch.tensor(label, dtype=torch.float32)\n",
      "Epoch 8/100: 100%|███████████████████████████████████████████████████████| 14/14 [00:23<00:00,  1.67s/batch, loss=4.73]\n",
      "Validating: 100%|█████████████████████████████████████████████████████████████████████| 4/4 [00:02<00:00,  1.42batch/s]\n",
      "C:\\Users\\udays\\miniconda3\\Lib\\site-packages\\sklearn\\metrics\\_classification.py:1531: UndefinedMetricWarning: Precision is ill-defined and being set to 0.0 due to no predicted samples. Use `zero_division` parameter to control this behavior.\n",
      "  _warn_prf(average, modifier, f\"{metric.capitalize()} is\", len(result))\n"
     ]
    },
    {
     "name": "stdout",
     "output_type": "stream",
     "text": [
      "Epoch 8: Train Loss: 58.3102, Val Loss: 15.6564, F1: 0.8489, Accuracy: 0.9226, Precision: 0.8479, Recall: 0.8694\n"
     ]
    },
    {
     "name": "stderr",
     "output_type": "stream",
     "text": [
      "C:\\Users\\udays\\AppData\\Local\\Temp\\ipykernel_15096\\3760703809.py:80: FutureWarning: Series.__getitem__ treating keys as positions is deprecated. In a future version, integer keys will always be treated as labels (consistent with DataFrame behavior). To access a value by position, use `ser.iloc[pos]`\n",
      "  'labels': torch.tensor(label, dtype=torch.float32)\n",
      "Epoch 9/100: 100%|███████████████████████████████████████████████████████| 14/14 [00:23<00:00,  1.68s/batch, loss=4.79]\n",
      "Validating: 100%|█████████████████████████████████████████████████████████████████████| 4/4 [00:02<00:00,  1.42batch/s]\n",
      "C:\\Users\\udays\\miniconda3\\Lib\\site-packages\\sklearn\\metrics\\_classification.py:1531: UndefinedMetricWarning: Precision is ill-defined and being set to 0.0 due to no predicted samples. Use `zero_division` parameter to control this behavior.\n",
      "  _warn_prf(average, modifier, f\"{metric.capitalize()} is\", len(result))\n"
     ]
    },
    {
     "name": "stdout",
     "output_type": "stream",
     "text": [
      "Epoch 9: Train Loss: 56.2000, Val Loss: 15.3167, F1: 0.8489, Accuracy: 0.9226, Precision: 0.8479, Recall: 0.8694\n"
     ]
    },
    {
     "name": "stderr",
     "output_type": "stream",
     "text": [
      "C:\\Users\\udays\\AppData\\Local\\Temp\\ipykernel_15096\\3760703809.py:80: FutureWarning: Series.__getitem__ treating keys as positions is deprecated. In a future version, integer keys will always be treated as labels (consistent with DataFrame behavior). To access a value by position, use `ser.iloc[pos]`\n",
      "  'labels': torch.tensor(label, dtype=torch.float32)\n",
      "Epoch 10/100: 100%|██████████████████████████████████████████████████████| 14/14 [00:23<00:00,  1.68s/batch, loss=3.78]\n",
      "Validating: 100%|█████████████████████████████████████████████████████████████████████| 4/4 [00:02<00:00,  1.41batch/s]\n",
      "C:\\Users\\udays\\miniconda3\\Lib\\site-packages\\sklearn\\metrics\\_classification.py:1531: UndefinedMetricWarning: Precision is ill-defined and being set to 0.0 due to no predicted samples. Use `zero_division` parameter to control this behavior.\n",
      "  _warn_prf(average, modifier, f\"{metric.capitalize()} is\", len(result))\n"
     ]
    },
    {
     "name": "stdout",
     "output_type": "stream",
     "text": [
      "Epoch 10: Train Loss: 54.2106, Val Loss: 15.0013, F1: 0.8489, Accuracy: 0.9226, Precision: 0.8479, Recall: 0.8694\n"
     ]
    },
    {
     "name": "stderr",
     "output_type": "stream",
     "text": [
      "C:\\Users\\udays\\AppData\\Local\\Temp\\ipykernel_15096\\3760703809.py:80: FutureWarning: Series.__getitem__ treating keys as positions is deprecated. In a future version, integer keys will always be treated as labels (consistent with DataFrame behavior). To access a value by position, use `ser.iloc[pos]`\n",
      "  'labels': torch.tensor(label, dtype=torch.float32)\n",
      "Epoch 11/100: 100%|██████████████████████████████████████████████████████| 14/14 [00:23<00:00,  1.69s/batch, loss=3.94]\n",
      "Validating: 100%|█████████████████████████████████████████████████████████████████████| 4/4 [00:02<00:00,  1.49batch/s]\n",
      "C:\\Users\\udays\\miniconda3\\Lib\\site-packages\\sklearn\\metrics\\_classification.py:1531: UndefinedMetricWarning: Precision is ill-defined and being set to 0.0 due to no predicted samples. Use `zero_division` parameter to control this behavior.\n",
      "  _warn_prf(average, modifier, f\"{metric.capitalize()} is\", len(result))\n"
     ]
    },
    {
     "name": "stdout",
     "output_type": "stream",
     "text": [
      "Epoch 11: Train Loss: 52.9546, Val Loss: 14.6940, F1: 0.8489, Accuracy: 0.9226, Precision: 0.8479, Recall: 0.8694\n"
     ]
    },
    {
     "name": "stderr",
     "output_type": "stream",
     "text": [
      "C:\\Users\\udays\\AppData\\Local\\Temp\\ipykernel_15096\\3760703809.py:80: FutureWarning: Series.__getitem__ treating keys as positions is deprecated. In a future version, integer keys will always be treated as labels (consistent with DataFrame behavior). To access a value by position, use `ser.iloc[pos]`\n",
      "  'labels': torch.tensor(label, dtype=torch.float32)\n",
      "Epoch 12/100: 100%|██████████████████████████████████████████████████████| 14/14 [00:23<00:00,  1.68s/batch, loss=3.49]\n",
      "Validating: 100%|█████████████████████████████████████████████████████████████████████| 4/4 [00:02<00:00,  1.49batch/s]\n",
      "C:\\Users\\udays\\miniconda3\\Lib\\site-packages\\sklearn\\metrics\\_classification.py:1531: UndefinedMetricWarning: Precision is ill-defined and being set to 0.0 due to no predicted samples. Use `zero_division` parameter to control this behavior.\n",
      "  _warn_prf(average, modifier, f\"{metric.capitalize()} is\", len(result))\n"
     ]
    },
    {
     "name": "stdout",
     "output_type": "stream",
     "text": [
      "Epoch 12: Train Loss: 51.9802, Val Loss: 14.5490, F1: 0.8489, Accuracy: 0.9226, Precision: 0.8479, Recall: 0.8694\n"
     ]
    },
    {
     "name": "stderr",
     "output_type": "stream",
     "text": [
      "C:\\Users\\udays\\AppData\\Local\\Temp\\ipykernel_15096\\3760703809.py:80: FutureWarning: Series.__getitem__ treating keys as positions is deprecated. In a future version, integer keys will always be treated as labels (consistent with DataFrame behavior). To access a value by position, use `ser.iloc[pos]`\n",
      "  'labels': torch.tensor(label, dtype=torch.float32)\n",
      "Epoch 13/100: 100%|██████████████████████████████████████████████████████| 14/14 [00:23<00:00,  1.69s/batch, loss=3.52]\n",
      "Validating: 100%|█████████████████████████████████████████████████████████████████████| 4/4 [00:02<00:00,  1.50batch/s]\n",
      "C:\\Users\\udays\\miniconda3\\Lib\\site-packages\\sklearn\\metrics\\_classification.py:1531: UndefinedMetricWarning: Precision is ill-defined and being set to 0.0 due to no predicted samples. Use `zero_division` parameter to control this behavior.\n",
      "  _warn_prf(average, modifier, f\"{metric.capitalize()} is\", len(result))\n"
     ]
    },
    {
     "name": "stdout",
     "output_type": "stream",
     "text": [
      "Epoch 13: Train Loss: 51.3660, Val Loss: 14.4073, F1: 0.8489, Accuracy: 0.9226, Precision: 0.8479, Recall: 0.8694\n"
     ]
    },
    {
     "name": "stderr",
     "output_type": "stream",
     "text": [
      "C:\\Users\\udays\\AppData\\Local\\Temp\\ipykernel_15096\\3760703809.py:80: FutureWarning: Series.__getitem__ treating keys as positions is deprecated. In a future version, integer keys will always be treated as labels (consistent with DataFrame behavior). To access a value by position, use `ser.iloc[pos]`\n",
      "  'labels': torch.tensor(label, dtype=torch.float32)\n",
      "Epoch 14/100: 100%|██████████████████████████████████████████████████████| 14/14 [00:23<00:00,  1.70s/batch, loss=3.24]\n",
      "Validating: 100%|█████████████████████████████████████████████████████████████████████| 4/4 [00:02<00:00,  1.41batch/s]\n",
      "C:\\Users\\udays\\miniconda3\\Lib\\site-packages\\sklearn\\metrics\\_classification.py:1531: UndefinedMetricWarning: Precision is ill-defined and being set to 0.0 due to no predicted samples. Use `zero_division` parameter to control this behavior.\n",
      "  _warn_prf(average, modifier, f\"{metric.capitalize()} is\", len(result))\n"
     ]
    },
    {
     "name": "stdout",
     "output_type": "stream",
     "text": [
      "Epoch 14: Train Loss: 50.8284, Val Loss: 14.2662, F1: 0.8489, Accuracy: 0.9226, Precision: 0.8479, Recall: 0.8694\n"
     ]
    },
    {
     "name": "stderr",
     "output_type": "stream",
     "text": [
      "C:\\Users\\udays\\AppData\\Local\\Temp\\ipykernel_15096\\3760703809.py:80: FutureWarning: Series.__getitem__ treating keys as positions is deprecated. In a future version, integer keys will always be treated as labels (consistent with DataFrame behavior). To access a value by position, use `ser.iloc[pos]`\n",
      "  'labels': torch.tensor(label, dtype=torch.float32)\n",
      "Epoch 15/100: 100%|██████████████████████████████████████████████████████| 14/14 [00:23<00:00,  1.69s/batch, loss=3.28]\n",
      "Validating: 100%|█████████████████████████████████████████████████████████████████████| 4/4 [00:02<00:00,  1.52batch/s]\n",
      "C:\\Users\\udays\\miniconda3\\Lib\\site-packages\\sklearn\\metrics\\_classification.py:1531: UndefinedMetricWarning: Precision is ill-defined and being set to 0.0 due to no predicted samples. Use `zero_division` parameter to control this behavior.\n",
      "  _warn_prf(average, modifier, f\"{metric.capitalize()} is\", len(result))\n"
     ]
    },
    {
     "name": "stdout",
     "output_type": "stream",
     "text": [
      "Epoch 15: Train Loss: 50.0245, Val Loss: 14.1969, F1: 0.8489, Accuracy: 0.9226, Precision: 0.8479, Recall: 0.8694\n"
     ]
    },
    {
     "name": "stderr",
     "output_type": "stream",
     "text": [
      "C:\\Users\\udays\\AppData\\Local\\Temp\\ipykernel_15096\\3760703809.py:80: FutureWarning: Series.__getitem__ treating keys as positions is deprecated. In a future version, integer keys will always be treated as labels (consistent with DataFrame behavior). To access a value by position, use `ser.iloc[pos]`\n",
      "  'labels': torch.tensor(label, dtype=torch.float32)\n",
      "Epoch 16/100: 100%|██████████████████████████████████████████████████████| 14/14 [00:23<00:00,  1.67s/batch, loss=4.12]\n",
      "Validating: 100%|█████████████████████████████████████████████████████████████████████| 4/4 [00:02<00:00,  1.55batch/s]\n",
      "C:\\Users\\udays\\miniconda3\\Lib\\site-packages\\sklearn\\metrics\\_classification.py:1531: UndefinedMetricWarning: Precision is ill-defined and being set to 0.0 due to no predicted samples. Use `zero_division` parameter to control this behavior.\n",
      "  _warn_prf(average, modifier, f\"{metric.capitalize()} is\", len(result))\n"
     ]
    },
    {
     "name": "stdout",
     "output_type": "stream",
     "text": [
      "Epoch 16: Train Loss: 50.4388, Val Loss: 14.1280, F1: 0.8489, Accuracy: 0.9226, Precision: 0.8479, Recall: 0.8694\n"
     ]
    },
    {
     "name": "stderr",
     "output_type": "stream",
     "text": [
      "C:\\Users\\udays\\AppData\\Local\\Temp\\ipykernel_15096\\3760703809.py:80: FutureWarning: Series.__getitem__ treating keys as positions is deprecated. In a future version, integer keys will always be treated as labels (consistent with DataFrame behavior). To access a value by position, use `ser.iloc[pos]`\n",
      "  'labels': torch.tensor(label, dtype=torch.float32)\n",
      "Epoch 17/100: 100%|██████████████████████████████████████████████████████| 14/14 [00:23<00:00,  1.67s/batch, loss=3.99]\n",
      "Validating: 100%|█████████████████████████████████████████████████████████████████████| 4/4 [00:02<00:00,  1.47batch/s]\n",
      "C:\\Users\\udays\\miniconda3\\Lib\\site-packages\\sklearn\\metrics\\_classification.py:1531: UndefinedMetricWarning: Precision is ill-defined and being set to 0.0 due to no predicted samples. Use `zero_division` parameter to control this behavior.\n",
      "  _warn_prf(average, modifier, f\"{metric.capitalize()} is\", len(result))\n"
     ]
    },
    {
     "name": "stdout",
     "output_type": "stream",
     "text": [
      "Epoch 17: Train Loss: 50.1466, Val Loss: 14.0591, F1: 0.8489, Accuracy: 0.9226, Precision: 0.8479, Recall: 0.8694\n",
      "Early stopping triggered.\n"
     ]
    },
    {
     "name": "stderr",
     "output_type": "stream",
     "text": [
      "C:\\Users\\udays\\miniconda3\\Lib\\site-packages\\torch\\optim\\lr_scheduler.py:62: UserWarning: The verbose parameter is deprecated. Please use get_last_lr() to access the learning rate.\n",
      "  warnings.warn(\n"
     ]
    },
    {
     "name": "stdout",
     "output_type": "stream",
     "text": [
      "Training fold 5...\n"
     ]
    },
    {
     "name": "stderr",
     "output_type": "stream",
     "text": [
      "C:\\Users\\udays\\AppData\\Local\\Temp\\ipykernel_15096\\3760703809.py:80: FutureWarning: Series.__getitem__ treating keys as positions is deprecated. In a future version, integer keys will always be treated as labels (consistent with DataFrame behavior). To access a value by position, use `ser.iloc[pos]`\n",
      "  'labels': torch.tensor(label, dtype=torch.float32)\n",
      "Epoch 1/100: 100%|███████████████████████████████████████████████████████| 14/14 [00:23<00:00,  1.66s/batch, loss=6.86]\n",
      "Validating: 100%|█████████████████████████████████████████████████████████████████████| 4/4 [00:02<00:00,  1.49batch/s]\n",
      "C:\\Users\\udays\\miniconda3\\Lib\\site-packages\\sklearn\\metrics\\_classification.py:1531: UndefinedMetricWarning: Precision is ill-defined and being set to 0.0 due to no predicted samples. Use `zero_division` parameter to control this behavior.\n",
      "  _warn_prf(average, modifier, f\"{metric.capitalize()} is\", len(result))\n",
      "C:\\Users\\udays\\miniconda3\\Lib\\site-packages\\sklearn\\metrics\\_classification.py:1531: UndefinedMetricWarning: Precision is ill-defined and being set to 0.0 due to no predicted samples. Use `zero_division` parameter to control this behavior.\n",
      "  _warn_prf(average, modifier, f\"{metric.capitalize()} is\", len(result))\n"
     ]
    },
    {
     "name": "stdout",
     "output_type": "stream",
     "text": [
      "Epoch 1: Train Loss: 100.0565, Val Loss: 26.6872, F1: 0.7678, Accuracy: 0.8765, Precision: 0.7553, Recall: 0.7903\n"
     ]
    },
    {
     "name": "stderr",
     "output_type": "stream",
     "text": [
      "C:\\Users\\udays\\AppData\\Local\\Temp\\ipykernel_15096\\3760703809.py:80: FutureWarning: Series.__getitem__ treating keys as positions is deprecated. In a future version, integer keys will always be treated as labels (consistent with DataFrame behavior). To access a value by position, use `ser.iloc[pos]`\n",
      "  'labels': torch.tensor(label, dtype=torch.float32)\n",
      "Epoch 2/100: 100%|███████████████████████████████████████████████████████| 14/14 [00:23<00:00,  1.67s/batch, loss=6.25]\n",
      "Validating: 100%|█████████████████████████████████████████████████████████████████████| 4/4 [00:02<00:00,  1.39batch/s]\n",
      "C:\\Users\\udays\\miniconda3\\Lib\\site-packages\\sklearn\\metrics\\_classification.py:1531: UndefinedMetricWarning: Precision is ill-defined and being set to 0.0 due to no predicted samples. Use `zero_division` parameter to control this behavior.\n",
      "  _warn_prf(average, modifier, f\"{metric.capitalize()} is\", len(result))\n",
      "C:\\Users\\udays\\miniconda3\\Lib\\site-packages\\sklearn\\metrics\\_classification.py:1531: UndefinedMetricWarning: Precision is ill-defined and being set to 0.0 due to no predicted samples. Use `zero_division` parameter to control this behavior.\n",
      "  _warn_prf(average, modifier, f\"{metric.capitalize()} is\", len(result))\n"
     ]
    },
    {
     "name": "stdout",
     "output_type": "stream",
     "text": [
      "Epoch 2: Train Loss: 90.8328, Val Loss: 24.0064, F1: 0.7825, Accuracy: 0.9024, Precision: 0.7856, Recall: 0.7835\n"
     ]
    },
    {
     "name": "stderr",
     "output_type": "stream",
     "text": [
      "C:\\Users\\udays\\AppData\\Local\\Temp\\ipykernel_15096\\3760703809.py:80: FutureWarning: Series.__getitem__ treating keys as positions is deprecated. In a future version, integer keys will always be treated as labels (consistent with DataFrame behavior). To access a value by position, use `ser.iloc[pos]`\n",
      "  'labels': torch.tensor(label, dtype=torch.float32)\n",
      "Epoch 3/100: 100%|███████████████████████████████████████████████████████| 14/14 [00:23<00:00,  1.67s/batch, loss=5.53]\n",
      "Validating: 100%|█████████████████████████████████████████████████████████████████████| 4/4 [00:02<00:00,  1.44batch/s]\n",
      "C:\\Users\\udays\\miniconda3\\Lib\\site-packages\\sklearn\\metrics\\_classification.py:1531: UndefinedMetricWarning: Precision is ill-defined and being set to 0.0 due to no predicted samples. Use `zero_division` parameter to control this behavior.\n",
      "  _warn_prf(average, modifier, f\"{metric.capitalize()} is\", len(result))\n",
      "C:\\Users\\udays\\miniconda3\\Lib\\site-packages\\sklearn\\metrics\\_classification.py:1531: UndefinedMetricWarning: Precision is ill-defined and being set to 0.0 due to no predicted samples. Use `zero_division` parameter to control this behavior.\n",
      "  _warn_prf(average, modifier, f\"{metric.capitalize()} is\", len(result))\n"
     ]
    },
    {
     "name": "stdout",
     "output_type": "stream",
     "text": [
      "Epoch 3: Train Loss: 82.4161, Val Loss: 22.1436, F1: 0.7785, Accuracy: 0.8967, Precision: 0.7684, Recall: 0.7922\n"
     ]
    },
    {
     "name": "stderr",
     "output_type": "stream",
     "text": [
      "C:\\Users\\udays\\AppData\\Local\\Temp\\ipykernel_15096\\3760703809.py:80: FutureWarning: Series.__getitem__ treating keys as positions is deprecated. In a future version, integer keys will always be treated as labels (consistent with DataFrame behavior). To access a value by position, use `ser.iloc[pos]`\n",
      "  'labels': torch.tensor(label, dtype=torch.float32)\n",
      "Epoch 4/100: 100%|████████████████████████████████████████████████████████| 14/14 [00:23<00:00,  1.66s/batch, loss=5.3]\n",
      "Validating: 100%|█████████████████████████████████████████████████████████████████████| 4/4 [00:02<00:00,  1.44batch/s]\n",
      "C:\\Users\\udays\\miniconda3\\Lib\\site-packages\\sklearn\\metrics\\_classification.py:1531: UndefinedMetricWarning: Precision is ill-defined and being set to 0.0 due to no predicted samples. Use `zero_division` parameter to control this behavior.\n",
      "  _warn_prf(average, modifier, f\"{metric.capitalize()} is\", len(result))\n",
      "C:\\Users\\udays\\miniconda3\\Lib\\site-packages\\sklearn\\metrics\\_classification.py:1531: UndefinedMetricWarning: Precision is ill-defined and being set to 0.0 due to no predicted samples. Use `zero_division` parameter to control this behavior.\n",
      "  _warn_prf(average, modifier, f\"{metric.capitalize()} is\", len(result))\n"
     ]
    },
    {
     "name": "stdout",
     "output_type": "stream",
     "text": [
      "Epoch 4: Train Loss: 75.0982, Val Loss: 20.2335, F1: 0.7785, Accuracy: 0.8967, Precision: 0.7684, Recall: 0.7922\n"
     ]
    },
    {
     "name": "stderr",
     "output_type": "stream",
     "text": [
      "C:\\Users\\udays\\AppData\\Local\\Temp\\ipykernel_15096\\3760703809.py:80: FutureWarning: Series.__getitem__ treating keys as positions is deprecated. In a future version, integer keys will always be treated as labels (consistent with DataFrame behavior). To access a value by position, use `ser.iloc[pos]`\n",
      "  'labels': torch.tensor(label, dtype=torch.float32)\n",
      "Epoch 5/100: 100%|████████████████████████████████████████████████████████| 14/14 [00:23<00:00,  1.66s/batch, loss=4.5]\n",
      "Validating: 100%|█████████████████████████████████████████████████████████████████████| 4/4 [00:02<00:00,  1.37batch/s]\n",
      "C:\\Users\\udays\\miniconda3\\Lib\\site-packages\\sklearn\\metrics\\_classification.py:1531: UndefinedMetricWarning: Precision is ill-defined and being set to 0.0 due to no predicted samples. Use `zero_division` parameter to control this behavior.\n",
      "  _warn_prf(average, modifier, f\"{metric.capitalize()} is\", len(result))\n",
      "C:\\Users\\udays\\miniconda3\\Lib\\site-packages\\sklearn\\metrics\\_classification.py:1531: UndefinedMetricWarning: Precision is ill-defined and being set to 0.0 due to no predicted samples. Use `zero_division` parameter to control this behavior.\n",
      "  _warn_prf(average, modifier, f\"{metric.capitalize()} is\", len(result))\n"
     ]
    },
    {
     "name": "stdout",
     "output_type": "stream",
     "text": [
      "Epoch 5: Train Loss: 68.2090, Val Loss: 18.5732, F1: 0.7785, Accuracy: 0.8967, Precision: 0.7684, Recall: 0.7922\n"
     ]
    },
    {
     "name": "stderr",
     "output_type": "stream",
     "text": [
      "C:\\Users\\udays\\AppData\\Local\\Temp\\ipykernel_15096\\3760703809.py:80: FutureWarning: Series.__getitem__ treating keys as positions is deprecated. In a future version, integer keys will always be treated as labels (consistent with DataFrame behavior). To access a value by position, use `ser.iloc[pos]`\n",
      "  'labels': torch.tensor(label, dtype=torch.float32)\n",
      "Epoch 6/100: 100%|███████████████████████████████████████████████████████| 14/14 [00:23<00:00,  1.65s/batch, loss=4.13]\n",
      "Validating: 100%|█████████████████████████████████████████████████████████████████████| 4/4 [00:02<00:00,  1.40batch/s]\n",
      "C:\\Users\\udays\\miniconda3\\Lib\\site-packages\\sklearn\\metrics\\_classification.py:1531: UndefinedMetricWarning: Precision is ill-defined and being set to 0.0 due to no predicted samples. Use `zero_division` parameter to control this behavior.\n",
      "  _warn_prf(average, modifier, f\"{metric.capitalize()} is\", len(result))\n",
      "C:\\Users\\udays\\miniconda3\\Lib\\site-packages\\sklearn\\metrics\\_classification.py:1531: UndefinedMetricWarning: Precision is ill-defined and being set to 0.0 due to no predicted samples. Use `zero_division` parameter to control this behavior.\n",
      "  _warn_prf(average, modifier, f\"{metric.capitalize()} is\", len(result))\n"
     ]
    },
    {
     "name": "stdout",
     "output_type": "stream",
     "text": [
      "Epoch 6: Train Loss: 63.1801, Val Loss: 17.6434, F1: 0.7747, Accuracy: 0.8923, Precision: 0.7714, Recall: 0.7819\n"
     ]
    },
    {
     "name": "stderr",
     "output_type": "stream",
     "text": [
      "C:\\Users\\udays\\AppData\\Local\\Temp\\ipykernel_15096\\3760703809.py:80: FutureWarning: Series.__getitem__ treating keys as positions is deprecated. In a future version, integer keys will always be treated as labels (consistent with DataFrame behavior). To access a value by position, use `ser.iloc[pos]`\n",
      "  'labels': torch.tensor(label, dtype=torch.float32)\n",
      "Epoch 7/100: 100%|███████████████████████████████████████████████████████| 14/14 [00:23<00:00,  1.66s/batch, loss=3.74]\n",
      "Validating: 100%|█████████████████████████████████████████████████████████████████████| 4/4 [00:02<00:00,  1.41batch/s]\n",
      "C:\\Users\\udays\\miniconda3\\Lib\\site-packages\\sklearn\\metrics\\_classification.py:1531: UndefinedMetricWarning: Precision is ill-defined and being set to 0.0 due to no predicted samples. Use `zero_division` parameter to control this behavior.\n",
      "  _warn_prf(average, modifier, f\"{metric.capitalize()} is\", len(result))\n",
      "C:\\Users\\udays\\miniconda3\\Lib\\site-packages\\sklearn\\metrics\\_classification.py:1531: UndefinedMetricWarning: Precision is ill-defined and being set to 0.0 due to no predicted samples. Use `zero_division` parameter to control this behavior.\n",
      "  _warn_prf(average, modifier, f\"{metric.capitalize()} is\", len(result))\n"
     ]
    },
    {
     "name": "stdout",
     "output_type": "stream",
     "text": [
      "Epoch 7: Train Loss: 60.2844, Val Loss: 17.0760, F1: 0.7747, Accuracy: 0.8923, Precision: 0.7714, Recall: 0.7819\n"
     ]
    },
    {
     "name": "stderr",
     "output_type": "stream",
     "text": [
      "C:\\Users\\udays\\AppData\\Local\\Temp\\ipykernel_15096\\3760703809.py:80: FutureWarning: Series.__getitem__ treating keys as positions is deprecated. In a future version, integer keys will always be treated as labels (consistent with DataFrame behavior). To access a value by position, use `ser.iloc[pos]`\n",
      "  'labels': torch.tensor(label, dtype=torch.float32)\n",
      "Epoch 8/100: 100%|███████████████████████████████████████████████████████| 14/14 [00:23<00:00,  1.67s/batch, loss=4.16]\n",
      "Validating: 100%|█████████████████████████████████████████████████████████████████████| 4/4 [00:02<00:00,  1.50batch/s]\n",
      "C:\\Users\\udays\\miniconda3\\Lib\\site-packages\\sklearn\\metrics\\_classification.py:1531: UndefinedMetricWarning: Precision is ill-defined and being set to 0.0 due to no predicted samples. Use `zero_division` parameter to control this behavior.\n",
      "  _warn_prf(average, modifier, f\"{metric.capitalize()} is\", len(result))\n",
      "C:\\Users\\udays\\miniconda3\\Lib\\site-packages\\sklearn\\metrics\\_classification.py:1531: UndefinedMetricWarning: Precision is ill-defined and being set to 0.0 due to no predicted samples. Use `zero_division` parameter to control this behavior.\n",
      "  _warn_prf(average, modifier, f\"{metric.capitalize()} is\", len(result))\n"
     ]
    },
    {
     "name": "stdout",
     "output_type": "stream",
     "text": [
      "Epoch 8: Train Loss: 57.5345, Val Loss: 16.4972, F1: 0.7785, Accuracy: 0.8967, Precision: 0.7684, Recall: 0.7922\n"
     ]
    },
    {
     "name": "stderr",
     "output_type": "stream",
     "text": [
      "C:\\Users\\udays\\AppData\\Local\\Temp\\ipykernel_15096\\3760703809.py:80: FutureWarning: Series.__getitem__ treating keys as positions is deprecated. In a future version, integer keys will always be treated as labels (consistent with DataFrame behavior). To access a value by position, use `ser.iloc[pos]`\n",
      "  'labels': torch.tensor(label, dtype=torch.float32)\n",
      "Epoch 9/100: 100%|████████████████████████████████████████████████████████| 14/14 [00:23<00:00,  1.67s/batch, loss=3.8]\n",
      "Validating: 100%|█████████████████████████████████████████████████████████████████████| 4/4 [00:02<00:00,  1.35batch/s]\n",
      "C:\\Users\\udays\\miniconda3\\Lib\\site-packages\\sklearn\\metrics\\_classification.py:1531: UndefinedMetricWarning: Precision is ill-defined and being set to 0.0 due to no predicted samples. Use `zero_division` parameter to control this behavior.\n",
      "  _warn_prf(average, modifier, f\"{metric.capitalize()} is\", len(result))\n",
      "C:\\Users\\udays\\miniconda3\\Lib\\site-packages\\sklearn\\metrics\\_classification.py:1531: UndefinedMetricWarning: Precision is ill-defined and being set to 0.0 due to no predicted samples. Use `zero_division` parameter to control this behavior.\n",
      "  _warn_prf(average, modifier, f\"{metric.capitalize()} is\", len(result))\n"
     ]
    },
    {
     "name": "stdout",
     "output_type": "stream",
     "text": [
      "Epoch 9: Train Loss: 55.9419, Val Loss: 16.0025, F1: 0.7762, Accuracy: 0.8945, Precision: 0.7724, Recall: 0.7835\n"
     ]
    },
    {
     "name": "stderr",
     "output_type": "stream",
     "text": [
      "C:\\Users\\udays\\AppData\\Local\\Temp\\ipykernel_15096\\3760703809.py:80: FutureWarning: Series.__getitem__ treating keys as positions is deprecated. In a future version, integer keys will always be treated as labels (consistent with DataFrame behavior). To access a value by position, use `ser.iloc[pos]`\n",
      "  'labels': torch.tensor(label, dtype=torch.float32)\n",
      "Epoch 10/100: 100%|██████████████████████████████████████████████████████| 14/14 [00:23<00:00,  1.66s/batch, loss=3.45]\n",
      "Validating: 100%|█████████████████████████████████████████████████████████████████████| 4/4 [00:02<00:00,  1.42batch/s]\n",
      "C:\\Users\\udays\\miniconda3\\Lib\\site-packages\\sklearn\\metrics\\_classification.py:1531: UndefinedMetricWarning: Precision is ill-defined and being set to 0.0 due to no predicted samples. Use `zero_division` parameter to control this behavior.\n",
      "  _warn_prf(average, modifier, f\"{metric.capitalize()} is\", len(result))\n",
      "C:\\Users\\udays\\miniconda3\\Lib\\site-packages\\sklearn\\metrics\\_classification.py:1531: UndefinedMetricWarning: Precision is ill-defined and being set to 0.0 due to no predicted samples. Use `zero_division` parameter to control this behavior.\n",
      "  _warn_prf(average, modifier, f\"{metric.capitalize()} is\", len(result))\n"
     ]
    },
    {
     "name": "stdout",
     "output_type": "stream",
     "text": [
      "Epoch 10: Train Loss: 54.6580, Val Loss: 15.5407, F1: 0.7747, Accuracy: 0.8923, Precision: 0.7714, Recall: 0.7819\n"
     ]
    },
    {
     "name": "stderr",
     "output_type": "stream",
     "text": [
      "C:\\Users\\udays\\AppData\\Local\\Temp\\ipykernel_15096\\3760703809.py:80: FutureWarning: Series.__getitem__ treating keys as positions is deprecated. In a future version, integer keys will always be treated as labels (consistent with DataFrame behavior). To access a value by position, use `ser.iloc[pos]`\n",
      "  'labels': torch.tensor(label, dtype=torch.float32)\n",
      "Epoch 11/100: 100%|██████████████████████████████████████████████████████| 14/14 [00:23<00:00,  1.67s/batch, loss=4.51]\n",
      "Validating: 100%|█████████████████████████████████████████████████████████████████████| 4/4 [00:02<00:00,  1.36batch/s]\n",
      "C:\\Users\\udays\\miniconda3\\Lib\\site-packages\\sklearn\\metrics\\_classification.py:1531: UndefinedMetricWarning: Precision is ill-defined and being set to 0.0 due to no predicted samples. Use `zero_division` parameter to control this behavior.\n",
      "  _warn_prf(average, modifier, f\"{metric.capitalize()} is\", len(result))\n",
      "C:\\Users\\udays\\miniconda3\\Lib\\site-packages\\sklearn\\metrics\\_classification.py:1531: UndefinedMetricWarning: Precision is ill-defined and being set to 0.0 due to no predicted samples. Use `zero_division` parameter to control this behavior.\n",
      "  _warn_prf(average, modifier, f\"{metric.capitalize()} is\", len(result))\n"
     ]
    },
    {
     "name": "stdout",
     "output_type": "stream",
     "text": [
      "Epoch 11: Train Loss: 53.5088, Val Loss: 15.6062, F1: 0.7785, Accuracy: 0.8967, Precision: 0.7684, Recall: 0.7922\n"
     ]
    },
    {
     "name": "stderr",
     "output_type": "stream",
     "text": [
      "C:\\Users\\udays\\AppData\\Local\\Temp\\ipykernel_15096\\3760703809.py:80: FutureWarning: Series.__getitem__ treating keys as positions is deprecated. In a future version, integer keys will always be treated as labels (consistent with DataFrame behavior). To access a value by position, use `ser.iloc[pos]`\n",
      "  'labels': torch.tensor(label, dtype=torch.float32)\n",
      "Epoch 12/100: 100%|██████████████████████████████████████████████████████| 14/14 [00:23<00:00,  1.68s/batch, loss=3.52]\n",
      "Validating: 100%|█████████████████████████████████████████████████████████████████████| 4/4 [00:02<00:00,  1.42batch/s]\n",
      "C:\\Users\\udays\\miniconda3\\Lib\\site-packages\\sklearn\\metrics\\_classification.py:1531: UndefinedMetricWarning: Precision is ill-defined and being set to 0.0 due to no predicted samples. Use `zero_division` parameter to control this behavior.\n",
      "  _warn_prf(average, modifier, f\"{metric.capitalize()} is\", len(result))\n",
      "C:\\Users\\udays\\miniconda3\\Lib\\site-packages\\sklearn\\metrics\\_classification.py:1531: UndefinedMetricWarning: Precision is ill-defined and being set to 0.0 due to no predicted samples. Use `zero_division` parameter to control this behavior.\n",
      "  _warn_prf(average, modifier, f\"{metric.capitalize()} is\", len(result))\n"
     ]
    },
    {
     "name": "stdout",
     "output_type": "stream",
     "text": [
      "Epoch 12: Train Loss: 52.3599, Val Loss: 15.5128, F1: 0.7785, Accuracy: 0.8967, Precision: 0.7684, Recall: 0.7922\n"
     ]
    },
    {
     "name": "stderr",
     "output_type": "stream",
     "text": [
      "C:\\Users\\udays\\AppData\\Local\\Temp\\ipykernel_15096\\3760703809.py:80: FutureWarning: Series.__getitem__ treating keys as positions is deprecated. In a future version, integer keys will always be treated as labels (consistent with DataFrame behavior). To access a value by position, use `ser.iloc[pos]`\n",
      "  'labels': torch.tensor(label, dtype=torch.float32)\n",
      "Epoch 13/100: 100%|██████████████████████████████████████████████████████| 14/14 [00:23<00:00,  1.68s/batch, loss=4.15]\n",
      "Validating: 100%|█████████████████████████████████████████████████████████████████████| 4/4 [00:02<00:00,  1.44batch/s]\n",
      "C:\\Users\\udays\\miniconda3\\Lib\\site-packages\\sklearn\\metrics\\_classification.py:1531: UndefinedMetricWarning: Precision is ill-defined and being set to 0.0 due to no predicted samples. Use `zero_division` parameter to control this behavior.\n",
      "  _warn_prf(average, modifier, f\"{metric.capitalize()} is\", len(result))\n",
      "C:\\Users\\udays\\miniconda3\\Lib\\site-packages\\sklearn\\metrics\\_classification.py:1531: UndefinedMetricWarning: Precision is ill-defined and being set to 0.0 due to no predicted samples. Use `zero_division` parameter to control this behavior.\n",
      "  _warn_prf(average, modifier, f\"{metric.capitalize()} is\", len(result))\n"
     ]
    },
    {
     "name": "stdout",
     "output_type": "stream",
     "text": [
      "Epoch 13: Train Loss: 51.5260, Val Loss: 15.3817, F1: 0.7785, Accuracy: 0.8967, Precision: 0.7684, Recall: 0.7922\n"
     ]
    },
    {
     "name": "stderr",
     "output_type": "stream",
     "text": [
      "C:\\Users\\udays\\AppData\\Local\\Temp\\ipykernel_15096\\3760703809.py:80: FutureWarning: Series.__getitem__ treating keys as positions is deprecated. In a future version, integer keys will always be treated as labels (consistent with DataFrame behavior). To access a value by position, use `ser.iloc[pos]`\n",
      "  'labels': torch.tensor(label, dtype=torch.float32)\n",
      "Epoch 14/100: 100%|██████████████████████████████████████████████████████| 14/14 [00:23<00:00,  1.67s/batch, loss=3.76]\n",
      "Validating: 100%|█████████████████████████████████████████████████████████████████████| 4/4 [00:02<00:00,  1.41batch/s]\n",
      "C:\\Users\\udays\\miniconda3\\Lib\\site-packages\\sklearn\\metrics\\_classification.py:1531: UndefinedMetricWarning: Precision is ill-defined and being set to 0.0 due to no predicted samples. Use `zero_division` parameter to control this behavior.\n",
      "  _warn_prf(average, modifier, f\"{metric.capitalize()} is\", len(result))\n",
      "C:\\Users\\udays\\miniconda3\\Lib\\site-packages\\sklearn\\metrics\\_classification.py:1531: UndefinedMetricWarning: Precision is ill-defined and being set to 0.0 due to no predicted samples. Use `zero_division` parameter to control this behavior.\n",
      "  _warn_prf(average, modifier, f\"{metric.capitalize()} is\", len(result))\n"
     ]
    },
    {
     "name": "stdout",
     "output_type": "stream",
     "text": [
      "Epoch 14: Train Loss: 50.8392, Val Loss: 15.2427, F1: 0.7785, Accuracy: 0.8967, Precision: 0.7684, Recall: 0.7922\n"
     ]
    },
    {
     "name": "stderr",
     "output_type": "stream",
     "text": [
      "C:\\Users\\udays\\AppData\\Local\\Temp\\ipykernel_15096\\3760703809.py:80: FutureWarning: Series.__getitem__ treating keys as positions is deprecated. In a future version, integer keys will always be treated as labels (consistent with DataFrame behavior). To access a value by position, use `ser.iloc[pos]`\n",
      "  'labels': torch.tensor(label, dtype=torch.float32)\n",
      "Epoch 15/100: 100%|██████████████████████████████████████████████████████| 14/14 [00:23<00:00,  1.69s/batch, loss=3.85]\n",
      "Validating: 100%|█████████████████████████████████████████████████████████████████████| 4/4 [00:02<00:00,  1.41batch/s]\n",
      "C:\\Users\\udays\\miniconda3\\Lib\\site-packages\\sklearn\\metrics\\_classification.py:1531: UndefinedMetricWarning: Precision is ill-defined and being set to 0.0 due to no predicted samples. Use `zero_division` parameter to control this behavior.\n",
      "  _warn_prf(average, modifier, f\"{metric.capitalize()} is\", len(result))\n",
      "C:\\Users\\udays\\miniconda3\\Lib\\site-packages\\sklearn\\metrics\\_classification.py:1531: UndefinedMetricWarning: Precision is ill-defined and being set to 0.0 due to no predicted samples. Use `zero_division` parameter to control this behavior.\n",
      "  _warn_prf(average, modifier, f\"{metric.capitalize()} is\", len(result))\n"
     ]
    },
    {
     "name": "stdout",
     "output_type": "stream",
     "text": [
      "Epoch 15: Train Loss: 50.4374, Val Loss: 15.1728, F1: 0.7785, Accuracy: 0.8967, Precision: 0.7684, Recall: 0.7922\n"
     ]
    },
    {
     "name": "stderr",
     "output_type": "stream",
     "text": [
      "C:\\Users\\udays\\AppData\\Local\\Temp\\ipykernel_15096\\3760703809.py:80: FutureWarning: Series.__getitem__ treating keys as positions is deprecated. In a future version, integer keys will always be treated as labels (consistent with DataFrame behavior). To access a value by position, use `ser.iloc[pos]`\n",
      "  'labels': torch.tensor(label, dtype=torch.float32)\n",
      "Epoch 16/100: 100%|██████████████████████████████████████████████████████| 14/14 [00:23<00:00,  1.69s/batch, loss=3.25]\n",
      "Validating: 100%|█████████████████████████████████████████████████████████████████████| 4/4 [00:02<00:00,  1.38batch/s]\n",
      "C:\\Users\\udays\\miniconda3\\Lib\\site-packages\\sklearn\\metrics\\_classification.py:1531: UndefinedMetricWarning: Precision is ill-defined and being set to 0.0 due to no predicted samples. Use `zero_division` parameter to control this behavior.\n",
      "  _warn_prf(average, modifier, f\"{metric.capitalize()} is\", len(result))\n",
      "C:\\Users\\udays\\miniconda3\\Lib\\site-packages\\sklearn\\metrics\\_classification.py:1531: UndefinedMetricWarning: Precision is ill-defined and being set to 0.0 due to no predicted samples. Use `zero_division` parameter to control this behavior.\n",
      "  _warn_prf(average, modifier, f\"{metric.capitalize()} is\", len(result))\n"
     ]
    },
    {
     "name": "stdout",
     "output_type": "stream",
     "text": [
      "Epoch 16: Train Loss: 49.8949, Val Loss: 15.1005, F1: 0.7785, Accuracy: 0.8967, Precision: 0.7684, Recall: 0.7922\n"
     ]
    },
    {
     "name": "stderr",
     "output_type": "stream",
     "text": [
      "C:\\Users\\udays\\AppData\\Local\\Temp\\ipykernel_15096\\3760703809.py:80: FutureWarning: Series.__getitem__ treating keys as positions is deprecated. In a future version, integer keys will always be treated as labels (consistent with DataFrame behavior). To access a value by position, use `ser.iloc[pos]`\n",
      "  'labels': torch.tensor(label, dtype=torch.float32)\n",
      "Epoch 17/100: 100%|██████████████████████████████████████████████████████| 14/14 [00:23<00:00,  1.69s/batch, loss=3.36]\n",
      "Validating: 100%|█████████████████████████████████████████████████████████████████████| 4/4 [00:02<00:00,  1.38batch/s]\n",
      "C:\\Users\\udays\\miniconda3\\Lib\\site-packages\\sklearn\\metrics\\_classification.py:1531: UndefinedMetricWarning: Precision is ill-defined and being set to 0.0 due to no predicted samples. Use `zero_division` parameter to control this behavior.\n",
      "  _warn_prf(average, modifier, f\"{metric.capitalize()} is\", len(result))\n",
      "C:\\Users\\udays\\miniconda3\\Lib\\site-packages\\sklearn\\metrics\\_classification.py:1531: UndefinedMetricWarning: Precision is ill-defined and being set to 0.0 due to no predicted samples. Use `zero_division` parameter to control this behavior.\n",
      "  _warn_prf(average, modifier, f\"{metric.capitalize()} is\", len(result))\n"
     ]
    },
    {
     "name": "stdout",
     "output_type": "stream",
     "text": [
      "Epoch 17: Train Loss: 49.7216, Val Loss: 15.0822, F1: 0.7785, Accuracy: 0.8967, Precision: 0.7684, Recall: 0.7922\n",
      "Early stopping triggered.\n"
     ]
    }
   ],
   "source": [
    "size_threshold = 80\n",
    "\n",
    "tweets_harvey2 = pd.read_csv('D:/TAMIDS/Disaster_Impact_Estimation/tweets/harvey_corrected.csv')\n",
    "tweets_harvey2.rename(columns={'zipcode': 'zip_code'}, inplace=True)\n",
    "\n",
    "bboxes_useful = tweets_harvey2.place_bbox.apply(lambda x: [[float(i.strip('()[]')) for i in x.split(', ')][i] for i in [1,0,3,2]])\n",
    "bbu_areas = bboxes_useful.apply(lambda x: get_box_area(*x))\n",
    "tweets_harvey = tweets_harvey2.loc[((tweets_harvey2.geo.apply(lambda x: 'Point' in str(x))) | (bbu_areas < size_threshold)), :]\n",
    "tweets_harvey.loc[:, 'zip_code'] = tweets_harvey['zip_code'].apply(int)\n",
    "tweet_grouped_harvey = tweets_harvey.groupby('zip_code')\n",
    "\n",
    "targets_harvey = pd.read_csv('D:/TAMIDS/Disaster_Impact_Estimation/targets/disaster_4332.csv')\n",
    "target_grouped_harvey = targets_harvey.groupby('damagedZipCode')\n",
    "\n",
    "# After running the kfoldcv function:\n",
    "kfoldcv(tweet_grouped_harvey, target_grouped_harvey, max_len = 512, batch_size=24, num_epochs = 100)"
   ]
  },
  {
   "cell_type": "code",
   "execution_count": null,
   "id": "f590c06e-4b93-4a41-9666-71cb03df0c3d",
   "metadata": {},
   "outputs": [],
   "source": []
  },
  {
   "cell_type": "code",
   "execution_count": 1,
   "id": "4af72a33-d2ba-4ea5-afbf-206b76278997",
   "metadata": {},
   "outputs": [],
   "source": [
    "import os\n",
    "import torch\n",
    "import torch.nn as nn\n",
    "import torch.optim as optim\n",
    "import transformers\n",
    "from torch.utils.data import Dataset, DataLoader\n",
    "from sklearn.model_selection import KFold\n",
    "from sklearn.metrics import f1_score, accuracy_score, precision_score, recall_score\n",
    "import pandas as pd\n",
    "import numpy as np\n",
    "from tqdm import tqdm\n",
    "import copy\n",
    "import math\n",
    "\n",
    "# Define the device\n",
    "device = torch.device(\"cuda\" if torch.cuda.is_available() else \"cpu\")\n",
    "\n",
    "# Set seed for reproducibility\n",
    "torch.manual_seed(64)\n",
    "\n",
    "# Path for saving models and results\n",
    "save_path = 'Training_results/Harvey_5foldcv_BERT_Multihead/'\n",
    "os.makedirs(save_path, exist_ok=True)\n",
    "\n",
    "# Load BERT tokenizer and model from HuggingFace's transformers library\n",
    "tokenizer = transformers.BertTokenizer.from_pretrained('bert-base-uncased')\n",
    "model_bert = transformers.BertModel.from_pretrained('bert-base-uncased')\n",
    "\n",
    "def haversine(lat1, lon1, lat2, lon2):\n",
    "    R = 3959  \n",
    "    lat1, lon1, lat2, lon2 = map(math.radians, [lat1, lon1, lat2, lon2])\n",
    "    dlat, dlon = lat2 - lat1, lon2 - lon1\n",
    "    a = math.sin(dlat / 2)**2 + math.cos(lat1) * math.cos(lat2) * math.sin(dlon / 2)**2\n",
    "    c = 2 * math.atan2(math.sqrt(a), math.sqrt(1 - a))\n",
    "    return R * c\n",
    "\n",
    "def get_box_area(lat1, lon1, lat2, lon2):\n",
    "    side1 = haversine(lat1, lon1, lat1, lon2)\n",
    "    side2 = haversine(lat1, lon1, lat2, lon1)\n",
    "    return side1 * side2\n",
    "\n",
    "# Get the target list if not provided\n",
    "def get_target_list(target_list=[]):\n",
    "    if not target_list:\n",
    "        target_list = [\n",
    "            'homeOwnersInsurance', 'floodInsurance', 'destroyed', 'floodDamage', 'roofDamage', \n",
    "            'tsaEligible', 'tsaCheckedIn', 'rentalAssistanceEligible', 'repairAssistanceEligible', \n",
    "            'replacementAssistanceEligible', 'personalPropertyEligible'\n",
    "        ]\n",
    "    return target_list\n",
    "\n",
    "# Define dataset class to handle tokenization and data loading\n",
    "class CustomDataset(Dataset):\n",
    "    def __init__(self, texts, labels, tokenizer, max_len):\n",
    "        self.texts = texts\n",
    "        self.labels = labels\n",
    "        self.tokenizer = tokenizer\n",
    "        self.max_len = max_len\n",
    "\n",
    "    def __len__(self):\n",
    "        return len(self.labels)\n",
    "\n",
    "    def __getitem__(self, idx):\n",
    "        text = self.texts[idx]\n",
    "        label = self.labels[idx]\n",
    "\n",
    "        # Tokenizing the text\n",
    "        encoding = self.tokenizer.encode_plus(\n",
    "            text,\n",
    "            add_special_tokens=True,\n",
    "            max_length=self.max_len,\n",
    "            padding='max_length',\n",
    "            truncation=True,\n",
    "            return_tensors='pt'\n",
    "        )\n",
    "\n",
    "        return {\n",
    "            'input_ids': encoding['input_ids'].squeeze(),\n",
    "            'attention_mask': encoding['attention_mask'].squeeze(),\n",
    "            'labels': torch.tensor(label, dtype=torch.float32)\n",
    "        }\n",
    "\n",
    "class BERTDeepMultiHeadClassifier(nn.Module):\n",
    "    def __init__(self, num_targets=11, hidden_dim=256):\n",
    "        super(BERTDeepMultiHeadClassifier, self).__init__()\n",
    "        self.bert = model_bert\n",
    "        self.drop = nn.Dropout(0.3)\n",
    "        \n",
    "        self.heads = nn.ModuleList([\n",
    "            nn.Sequential(\n",
    "                nn.Linear(self.bert.config.hidden_size, hidden_dim),\n",
    "                nn.ReLU(),\n",
    "                nn.Linear(hidden_dim, 1)\n",
    "            ) for _ in range(num_targets)\n",
    "        ])\n",
    "    \n",
    "    def forward(self, input_ids, attention_mask):\n",
    "        outputs = self.bert(input_ids=input_ids, attention_mask=attention_mask)\n",
    "        pooled_output = outputs.pooler_output\n",
    "        x = self.drop(pooled_output)\n",
    "        return torch.cat([torch.sigmoid(head(x)) for head in self.heads], dim=1)\n",
    "\n",
    "def kfoldcv(grouped_tweets, grouped_targets, target_list=[], max_len=256, batch_size=32, num_epochs=3):\n",
    "    saved_models = []\n",
    "    target_list = get_target_list(target_list)\n",
    "    \n",
    "    tweet_dict = {int(name): group['text'] for name, group in grouped_tweets}\n",
    "    target_dict = {int(name): group[target_list] for name, group in grouped_targets}\n",
    "    \n",
    "    intersecting_zips = list(set(target_dict.keys()) & set(tweet_dict.keys()))\n",
    "    paired_data = {\n",
    "        name: [target_dict[name].sum().apply(lambda x: 1 if x > 0 else 0), tweet_dict[name]] for name in intersecting_zips\n",
    "    }\n",
    "    \n",
    "    texts = ['\\n'.join(v[1].to_list()) for v in paired_data.values()]\n",
    "    labels_ = [v[0] for v in paired_data.values()]\n",
    "    \n",
    "    kfold = KFold(n_splits=5, shuffle=True, random_state=42)\n",
    "    fold_results = []\n",
    "\n",
    "    # print(len(texts), len(labels))\n",
    "    \n",
    "    for fold, (train_idx, test_idx) in enumerate(kfold.split(texts, labels_)):\n",
    "        # print(f\"Train indices: {train_idx}\")\n",
    "        # print(f\"Test indices: {test_idx}\")\n",
    "        print(f\"Training fold {fold + 1}...\")\n",
    "\n",
    "        X_train, X_test = [texts[i] for i in train_idx], [texts[i] for i in test_idx]\n",
    "        y_train, y_test = [labels_[i] for i in train_idx], [labels_[i] for i in test_idx]\n",
    "        \n",
    "        train_dataset = CustomDataset(X_train, y_train, tokenizer, max_len)\n",
    "        test_dataset = CustomDataset(X_test, y_test, tokenizer, max_len)\n",
    "        \n",
    "        train_loader = DataLoader(train_dataset, batch_size=batch_size, shuffle=True)\n",
    "        test_loader = DataLoader(test_dataset, batch_size=batch_size, shuffle=False)\n",
    "        \n",
    "        model = BERTDeepMultiHeadClassifier(num_targets=len(target_list)).to(device)\n",
    "        optimizer = optim.Adam(model.parameters(), lr=1e-5)\n",
    "        criterion = [nn.BCELoss() for _ in range(len(target_list))]\n",
    "        \n",
    "        best_f1 = 0.0  # Track the best validation F1 score\n",
    "        \n",
    "        for epoch in range(num_epochs):\n",
    "            model.train()\n",
    "            train_loss = 0.0\n",
    "            progress_bar = tqdm(train_loader, desc=f\"Epoch {epoch+1} Training\")\n",
    "            for batch in progress_bar:\n",
    "                optimizer.zero_grad()\n",
    "                input_ids = batch['input_ids'].to(device)\n",
    "                attention_mask = batch['attention_mask'].to(device)\n",
    "                labels = batch['labels'].to(device)\n",
    "                \n",
    "                outputs = model(input_ids, attention_mask)\n",
    "                loss = sum(c(outputs[:, i], labels[:, i]) for i, c in enumerate(criterion))\n",
    "                loss.backward()\n",
    "                optimizer.step()\n",
    "                train_loss += loss.item()\n",
    "                progress_bar.set_postfix(loss=loss.item())\n",
    "            \n",
    "            model.eval()\n",
    "            val_loss = 0.0\n",
    "            all_preds, all_labels = [], []\n",
    "            progress_bar = tqdm(test_loader, desc=f\"Epoch {epoch+1} Validation\")\n",
    "            with torch.no_grad():\n",
    "                for batch in progress_bar:\n",
    "                    input_ids = batch['input_ids'].to(device)\n",
    "                    attention_mask = batch['attention_mask'].to(device)\n",
    "                    labels = batch['labels'].to(device)\n",
    "                    \n",
    "                    outputs = model(input_ids, attention_mask)\n",
    "                    loss = sum(c(outputs[:, i], labels[:, i]) for i, c in enumerate(criterion))\n",
    "                    val_loss += loss.item()\n",
    "                    \n",
    "                    all_preds.append(outputs.cpu().numpy())\n",
    "                    all_labels.append(labels.cpu().numpy())\n",
    "                    progress_bar.set_postfix(loss=loss.item())\n",
    "            \n",
    "            all_preds = np.vstack(all_preds)\n",
    "            all_labels = np.vstack(all_labels)\n",
    "            f1 = [f1_score(all_labels[:, i], all_preds[:, i] > 0.5) for i in range(len(target_list))]\n",
    "            accuracy = [accuracy_score(all_labels[:, i], all_preds[:, i] > 0.5) for i in range(len(target_list))]\n",
    "            precision = [precision_score(all_labels[:, i], all_preds[:, i] > 0.5, zero_division=0) for i in range(len(target_list))]\n",
    "            recall = [recall_score(all_labels[:, i], all_preds[:, i] > 0.5) for i in range(len(target_list))]\n",
    "            mean_f1 = np.mean(f1)\n",
    "            mean_accuracy = np.mean(accuracy)\n",
    "            mean_precision = np.mean(precision)\n",
    "            mean_recall = np.mean(recall)\n",
    "            \n",
    "            print(f\"Epoch {epoch+1}: Train Loss={train_loss/len(train_loader):.4f}, Val Loss={val_loss/len(test_loader):.4f}\")\n",
    "            print(f\"Mean F1 Score: {mean_f1:.4f}, Mean Accuracy: {mean_accuracy:.4f}, Mean Precision: {mean_precision:.4f}, Mean Recall: {mean_recall:.4f}\")\n",
    "            \n",
    "            # Save the best model based on validation F1 score\n",
    "            if mean_f1 > best_f1:\n",
    "                best_f1 = mean_f1\n",
    "                best_model_path = os.path.join(save_path, f\"best_bert_model_fold_{fold+1}.pth\")\n",
    "                torch.save(model.state_dict(), best_model_path)\n",
    "                print(f\"New best model saved for fold {fold+1} with F1={best_f1:.4f}\")\n",
    "\n",
    "        saved_models.append(best_model_path)\n",
    "    \n",
    "    return fold_results, saved_models"
   ]
  },
  {
   "cell_type": "code",
   "execution_count": 2,
   "id": "2da733d7-534d-49d5-9088-1a77df5f34d3",
   "metadata": {
    "scrolled": true
   },
   "outputs": [
    {
     "name": "stderr",
     "output_type": "stream",
     "text": [
      "C:\\Users\\udays\\AppData\\Local\\Temp\\ipykernel_22228\\2613428792.py:12: DtypeWarning: Columns (9,10,13,28,46,49) have mixed types. Specify dtype option on import or set low_memory=False.\n",
      "  targets_harvey = pd.read_csv('D:/TAMIDS/Disaster_Impact_Estimation/targets/disaster_4332.csv')\n"
     ]
    },
    {
     "name": "stdout",
     "output_type": "stream",
     "text": [
      "Training fold 1...\n"
     ]
    },
    {
     "name": "stderr",
     "output_type": "stream",
     "text": [
      "C:\\Users\\udays\\AppData\\Local\\Temp\\ipykernel_22228\\3925381797.py:80: FutureWarning: Series.__getitem__ treating keys as positions is deprecated. In a future version, integer keys will always be treated as labels (consistent with DataFrame behavior). To access a value by position, use `ser.iloc[pos]`\n",
      "  'labels': torch.tensor(label, dtype=torch.float32)\n",
      "Epoch 1 Training: 100%|█████████████████████████████████████████████████████| 11/11 [00:13<00:00,  1.21s/it, loss=7.74]\n",
      "Epoch 1 Validation: 100%|█████████████████████████████████████████████████████| 3/3 [00:01<00:00,  1.94it/s, loss=6.97]\n"
     ]
    },
    {
     "name": "stdout",
     "output_type": "stream",
     "text": [
      "Epoch 1: Train Loss=7.5111, Val Loss=7.1423\n",
      "Mean F1 Score: 0.5687, Mean Accuracy: 0.6519, Mean Precision: 0.4690, Mean Recall: 0.7273\n",
      "New best model saved for fold 1 with F1=0.5687\n"
     ]
    },
    {
     "name": "stderr",
     "output_type": "stream",
     "text": [
      "C:\\Users\\udays\\AppData\\Local\\Temp\\ipykernel_22228\\3925381797.py:80: FutureWarning: Series.__getitem__ treating keys as positions is deprecated. In a future version, integer keys will always be treated as labels (consistent with DataFrame behavior). To access a value by position, use `ser.iloc[pos]`\n",
      "  'labels': torch.tensor(label, dtype=torch.float32)\n",
      "Epoch 2 Training: 100%|█████████████████████████████████████████████████████| 11/11 [00:12<00:00,  1.18s/it, loss=6.85]\n",
      "Epoch 2 Validation: 100%|█████████████████████████████████████████████████████| 3/3 [00:01<00:00,  2.02it/s, loss=6.53]\n"
     ]
    },
    {
     "name": "stdout",
     "output_type": "stream",
     "text": [
      "Epoch 2: Train Loss=7.1474, Val Loss=6.8607\n",
      "Mean F1 Score: 0.6395, Mean Accuracy: 0.6796, Mean Precision: 0.5292, Mean Recall: 0.8131\n",
      "New best model saved for fold 1 with F1=0.6395\n"
     ]
    },
    {
     "name": "stderr",
     "output_type": "stream",
     "text": [
      "C:\\Users\\udays\\AppData\\Local\\Temp\\ipykernel_22228\\3925381797.py:80: FutureWarning: Series.__getitem__ treating keys as positions is deprecated. In a future version, integer keys will always be treated as labels (consistent with DataFrame behavior). To access a value by position, use `ser.iloc[pos]`\n",
      "  'labels': torch.tensor(label, dtype=torch.float32)\n",
      "Epoch 3 Training: 100%|██████████████████████████████████████████████████████| 11/11 [00:13<00:00,  1.19s/it, loss=6.5]\n",
      "Epoch 3 Validation: 100%|█████████████████████████████████████████████████████| 3/3 [00:01<00:00,  2.00it/s, loss=6.09]\n"
     ]
    },
    {
     "name": "stdout",
     "output_type": "stream",
     "text": [
      "Epoch 3: Train Loss=6.8926, Val Loss=6.6624\n",
      "Mean F1 Score: 0.6409, Mean Accuracy: 0.6807, Mean Precision: 0.5288, Mean Recall: 0.8182\n",
      "New best model saved for fold 1 with F1=0.6409\n"
     ]
    },
    {
     "name": "stderr",
     "output_type": "stream",
     "text": [
      "C:\\Users\\udays\\AppData\\Local\\Temp\\ipykernel_22228\\3925381797.py:80: FutureWarning: Series.__getitem__ treating keys as positions is deprecated. In a future version, integer keys will always be treated as labels (consistent with DataFrame behavior). To access a value by position, use `ser.iloc[pos]`\n",
      "  'labels': torch.tensor(label, dtype=torch.float32)\n",
      "Epoch 4 Training: 100%|█████████████████████████████████████████████████████| 11/11 [00:12<00:00,  1.16s/it, loss=6.01]\n",
      "Epoch 4 Validation: 100%|█████████████████████████████████████████████████████| 3/3 [00:01<00:00,  2.07it/s, loss=5.86]\n"
     ]
    },
    {
     "name": "stdout",
     "output_type": "stream",
     "text": [
      "Epoch 4: Train Loss=6.7451, Val Loss=6.5613\n",
      "Mean F1 Score: 0.6409, Mean Accuracy: 0.6807, Mean Precision: 0.5288, Mean Recall: 0.8182\n"
     ]
    },
    {
     "name": "stderr",
     "output_type": "stream",
     "text": [
      "C:\\Users\\udays\\AppData\\Local\\Temp\\ipykernel_22228\\3925381797.py:80: FutureWarning: Series.__getitem__ treating keys as positions is deprecated. In a future version, integer keys will always be treated as labels (consistent with DataFrame behavior). To access a value by position, use `ser.iloc[pos]`\n",
      "  'labels': torch.tensor(label, dtype=torch.float32)\n",
      "Epoch 5 Training: 100%|█████████████████████████████████████████████████████| 11/11 [00:13<00:00,  1.19s/it, loss=5.79]\n",
      "Epoch 5 Validation: 100%|█████████████████████████████████████████████████████| 3/3 [00:01<00:00,  2.04it/s, loss=5.68]\n"
     ]
    },
    {
     "name": "stdout",
     "output_type": "stream",
     "text": [
      "Epoch 5: Train Loss=6.6620, Val Loss=6.5214\n",
      "Mean F1 Score: 0.6409, Mean Accuracy: 0.6807, Mean Precision: 0.5288, Mean Recall: 0.8182\n"
     ]
    },
    {
     "name": "stderr",
     "output_type": "stream",
     "text": [
      "C:\\Users\\udays\\AppData\\Local\\Temp\\ipykernel_22228\\3925381797.py:80: FutureWarning: Series.__getitem__ treating keys as positions is deprecated. In a future version, integer keys will always be treated as labels (consistent with DataFrame behavior). To access a value by position, use `ser.iloc[pos]`\n",
      "  'labels': torch.tensor(label, dtype=torch.float32)\n",
      "Epoch 6 Training: 100%|█████████████████████████████████████████████████████| 11/11 [00:12<00:00,  1.18s/it, loss=6.03]\n",
      "Epoch 6 Validation: 100%|█████████████████████████████████████████████████████| 3/3 [00:01<00:00,  1.98it/s, loss=5.61]\n"
     ]
    },
    {
     "name": "stdout",
     "output_type": "stream",
     "text": [
      "Epoch 6: Train Loss=6.6188, Val Loss=6.4978\n",
      "Mean F1 Score: 0.6409, Mean Accuracy: 0.6807, Mean Precision: 0.5288, Mean Recall: 0.8182\n"
     ]
    },
    {
     "name": "stderr",
     "output_type": "stream",
     "text": [
      "C:\\Users\\udays\\AppData\\Local\\Temp\\ipykernel_22228\\3925381797.py:80: FutureWarning: Series.__getitem__ treating keys as positions is deprecated. In a future version, integer keys will always be treated as labels (consistent with DataFrame behavior). To access a value by position, use `ser.iloc[pos]`\n",
      "  'labels': torch.tensor(label, dtype=torch.float32)\n",
      "Epoch 7 Training: 100%|█████████████████████████████████████████████████████| 11/11 [00:13<00:00,  1.19s/it, loss=5.68]\n",
      "Epoch 7 Validation: 100%|█████████████████████████████████████████████████████| 3/3 [00:01<00:00,  2.01it/s, loss=5.61]\n"
     ]
    },
    {
     "name": "stdout",
     "output_type": "stream",
     "text": [
      "Epoch 7: Train Loss=6.6157, Val Loss=6.4687\n",
      "Mean F1 Score: 0.6409, Mean Accuracy: 0.6807, Mean Precision: 0.5288, Mean Recall: 0.8182\n"
     ]
    },
    {
     "name": "stderr",
     "output_type": "stream",
     "text": [
      "C:\\Users\\udays\\AppData\\Local\\Temp\\ipykernel_22228\\3925381797.py:80: FutureWarning: Series.__getitem__ treating keys as positions is deprecated. In a future version, integer keys will always be treated as labels (consistent with DataFrame behavior). To access a value by position, use `ser.iloc[pos]`\n",
      "  'labels': torch.tensor(label, dtype=torch.float32)\n",
      "Epoch 8 Training: 100%|██████████████████████████████████████████████████████| 11/11 [00:13<00:00,  1.20s/it, loss=4.6]\n",
      "Epoch 8 Validation: 100%|█████████████████████████████████████████████████████| 3/3 [00:01<00:00,  2.02it/s, loss=5.55]\n"
     ]
    },
    {
     "name": "stdout",
     "output_type": "stream",
     "text": [
      "Epoch 8: Train Loss=6.4527, Val Loss=6.4370\n",
      "Mean F1 Score: 0.6409, Mean Accuracy: 0.6807, Mean Precision: 0.5288, Mean Recall: 0.8182\n"
     ]
    },
    {
     "name": "stderr",
     "output_type": "stream",
     "text": [
      "C:\\Users\\udays\\AppData\\Local\\Temp\\ipykernel_22228\\3925381797.py:80: FutureWarning: Series.__getitem__ treating keys as positions is deprecated. In a future version, integer keys will always be treated as labels (consistent with DataFrame behavior). To access a value by position, use `ser.iloc[pos]`\n",
      "  'labels': torch.tensor(label, dtype=torch.float32)\n",
      "Epoch 9 Training: 100%|█████████████████████████████████████████████████████| 11/11 [00:13<00:00,  1.20s/it, loss=5.18]\n",
      "Epoch 9 Validation: 100%|█████████████████████████████████████████████████████| 3/3 [00:01<00:00,  1.97it/s, loss=5.51]\n"
     ]
    },
    {
     "name": "stdout",
     "output_type": "stream",
     "text": [
      "Epoch 9: Train Loss=6.4136, Val Loss=6.3500\n",
      "Mean F1 Score: 0.6409, Mean Accuracy: 0.6807, Mean Precision: 0.5288, Mean Recall: 0.8182\n"
     ]
    },
    {
     "name": "stderr",
     "output_type": "stream",
     "text": [
      "C:\\Users\\udays\\AppData\\Local\\Temp\\ipykernel_22228\\3925381797.py:80: FutureWarning: Series.__getitem__ treating keys as positions is deprecated. In a future version, integer keys will always be treated as labels (consistent with DataFrame behavior). To access a value by position, use `ser.iloc[pos]`\n",
      "  'labels': torch.tensor(label, dtype=torch.float32)\n",
      "Epoch 10 Training: 100%|████████████████████████████████████████████████████| 11/11 [00:13<00:00,  1.20s/it, loss=7.68]\n",
      "Epoch 10 Validation: 100%|████████████████████████████████████████████████████| 3/3 [00:01<00:00,  2.08it/s, loss=5.45]\n"
     ]
    },
    {
     "name": "stdout",
     "output_type": "stream",
     "text": [
      "Epoch 10: Train Loss=6.4338, Val Loss=6.1793\n",
      "Mean F1 Score: 0.6409, Mean Accuracy: 0.6807, Mean Precision: 0.5288, Mean Recall: 0.8182\n"
     ]
    },
    {
     "name": "stderr",
     "output_type": "stream",
     "text": [
      "C:\\Users\\udays\\AppData\\Local\\Temp\\ipykernel_22228\\3925381797.py:80: FutureWarning: Series.__getitem__ treating keys as positions is deprecated. In a future version, integer keys will always be treated as labels (consistent with DataFrame behavior). To access a value by position, use `ser.iloc[pos]`\n",
      "  'labels': torch.tensor(label, dtype=torch.float32)\n",
      "Epoch 11 Training: 100%|████████████████████████████████████████████████████| 11/11 [00:12<00:00,  1.17s/it, loss=5.75]\n",
      "Epoch 11 Validation: 100%|████████████████████████████████████████████████████| 3/3 [00:01<00:00,  2.00it/s, loss=5.39]\n"
     ]
    },
    {
     "name": "stdout",
     "output_type": "stream",
     "text": [
      "Epoch 11: Train Loss=5.9847, Val Loss=5.8624\n",
      "Mean F1 Score: 0.6504, Mean Accuracy: 0.7051, Mean Precision: 0.5495, Mean Recall: 0.8022\n",
      "New best model saved for fold 1 with F1=0.6504\n"
     ]
    },
    {
     "name": "stderr",
     "output_type": "stream",
     "text": [
      "C:\\Users\\udays\\AppData\\Local\\Temp\\ipykernel_22228\\3925381797.py:80: FutureWarning: Series.__getitem__ treating keys as positions is deprecated. In a future version, integer keys will always be treated as labels (consistent with DataFrame behavior). To access a value by position, use `ser.iloc[pos]`\n",
      "  'labels': torch.tensor(label, dtype=torch.float32)\n",
      "Epoch 12 Training: 100%|████████████████████████████████████████████████████| 11/11 [00:13<00:00,  1.19s/it, loss=5.82]\n",
      "Epoch 12 Validation: 100%|████████████████████████████████████████████████████| 3/3 [00:01<00:00,  2.01it/s, loss=4.83]\n"
     ]
    },
    {
     "name": "stdout",
     "output_type": "stream",
     "text": [
      "Epoch 12: Train Loss=5.4845, Val Loss=5.7765\n",
      "Mean F1 Score: 0.6670, Mean Accuracy: 0.7417, Mean Precision: 0.5783, Mean Recall: 0.7895\n",
      "New best model saved for fold 1 with F1=0.6670\n"
     ]
    },
    {
     "name": "stderr",
     "output_type": "stream",
     "text": [
      "C:\\Users\\udays\\AppData\\Local\\Temp\\ipykernel_22228\\3925381797.py:80: FutureWarning: Series.__getitem__ treating keys as positions is deprecated. In a future version, integer keys will always be treated as labels (consistent with DataFrame behavior). To access a value by position, use `ser.iloc[pos]`\n",
      "  'labels': torch.tensor(label, dtype=torch.float32)\n",
      "Epoch 13 Training: 100%|████████████████████████████████████████████████████| 11/11 [00:13<00:00,  1.20s/it, loss=4.24]\n",
      "Epoch 13 Validation: 100%|████████████████████████████████████████████████████| 3/3 [00:01<00:00,  2.00it/s, loss=4.44]\n"
     ]
    },
    {
     "name": "stdout",
     "output_type": "stream",
     "text": [
      "Epoch 13: Train Loss=4.6282, Val Loss=5.7891\n",
      "Mean F1 Score: 0.6697, Mean Accuracy: 0.7506, Mean Precision: 0.5895, Mean Recall: 0.7757\n",
      "New best model saved for fold 1 with F1=0.6697\n"
     ]
    },
    {
     "name": "stderr",
     "output_type": "stream",
     "text": [
      "C:\\Users\\udays\\AppData\\Local\\Temp\\ipykernel_22228\\3925381797.py:80: FutureWarning: Series.__getitem__ treating keys as positions is deprecated. In a future version, integer keys will always be treated as labels (consistent with DataFrame behavior). To access a value by position, use `ser.iloc[pos]`\n",
      "  'labels': torch.tensor(label, dtype=torch.float32)\n",
      "Epoch 14 Training: 100%|████████████████████████████████████████████████████| 11/11 [00:13<00:00,  1.20s/it, loss=3.17]\n",
      "Epoch 14 Validation: 100%|████████████████████████████████████████████████████| 3/3 [00:01<00:00,  2.02it/s, loss=4.17]\n"
     ]
    },
    {
     "name": "stdout",
     "output_type": "stream",
     "text": [
      "Epoch 14: Train Loss=3.9360, Val Loss=5.9610\n",
      "Mean F1 Score: 0.6662, Mean Accuracy: 0.7406, Mean Precision: 0.5783, Mean Recall: 0.7873\n"
     ]
    },
    {
     "name": "stderr",
     "output_type": "stream",
     "text": [
      "C:\\Users\\udays\\AppData\\Local\\Temp\\ipykernel_22228\\3925381797.py:80: FutureWarning: Series.__getitem__ treating keys as positions is deprecated. In a future version, integer keys will always be treated as labels (consistent with DataFrame behavior). To access a value by position, use `ser.iloc[pos]`\n",
      "  'labels': torch.tensor(label, dtype=torch.float32)\n",
      "Epoch 15 Training: 100%|████████████████████████████████████████████████████| 11/11 [00:13<00:00,  1.18s/it, loss=3.13]\n",
      "Epoch 15 Validation: 100%|█████████████████████████████████████████████████████| 3/3 [00:01<00:00,  2.00it/s, loss=5.6]\n"
     ]
    },
    {
     "name": "stdout",
     "output_type": "stream",
     "text": [
      "Epoch 15: Train Loss=3.7118, Val Loss=5.3127\n",
      "Mean F1 Score: 0.6988, Mean Accuracy: 0.7783, Mean Precision: 0.7268, Mean Recall: 0.6785\n",
      "New best model saved for fold 1 with F1=0.6988\n"
     ]
    },
    {
     "name": "stderr",
     "output_type": "stream",
     "text": [
      "C:\\Users\\udays\\AppData\\Local\\Temp\\ipykernel_22228\\3925381797.py:80: FutureWarning: Series.__getitem__ treating keys as positions is deprecated. In a future version, integer keys will always be treated as labels (consistent with DataFrame behavior). To access a value by position, use `ser.iloc[pos]`\n",
      "  'labels': torch.tensor(label, dtype=torch.float32)\n",
      "Epoch 16 Training: 100%|████████████████████████████████████████████████████| 11/11 [00:13<00:00,  1.20s/it, loss=3.15]\n",
      "Epoch 16 Validation: 100%|████████████████████████████████████████████████████| 3/3 [00:01<00:00,  1.99it/s, loss=3.45]\n"
     ]
    },
    {
     "name": "stdout",
     "output_type": "stream",
     "text": [
      "Epoch 16: Train Loss=3.1472, Val Loss=5.4038\n",
      "Mean F1 Score: 0.6937, Mean Accuracy: 0.7561, Mean Precision: 0.6498, Mean Recall: 0.7686\n"
     ]
    },
    {
     "name": "stderr",
     "output_type": "stream",
     "text": [
      "C:\\Users\\udays\\AppData\\Local\\Temp\\ipykernel_22228\\3925381797.py:80: FutureWarning: Series.__getitem__ treating keys as positions is deprecated. In a future version, integer keys will always be treated as labels (consistent with DataFrame behavior). To access a value by position, use `ser.iloc[pos]`\n",
      "  'labels': torch.tensor(label, dtype=torch.float32)\n",
      "Epoch 17 Training: 100%|████████████████████████████████████████████████████| 11/11 [00:13<00:00,  1.21s/it, loss=3.64]\n",
      "Epoch 17 Validation: 100%|████████████████████████████████████████████████████| 3/3 [00:01<00:00,  1.96it/s, loss=3.79]\n"
     ]
    },
    {
     "name": "stdout",
     "output_type": "stream",
     "text": [
      "Epoch 17: Train Loss=2.9047, Val Loss=5.9270\n",
      "Mean F1 Score: 0.6982, Mean Accuracy: 0.7417, Mean Precision: 0.6432, Mean Recall: 0.7649\n"
     ]
    },
    {
     "name": "stderr",
     "output_type": "stream",
     "text": [
      "C:\\Users\\udays\\AppData\\Local\\Temp\\ipykernel_22228\\3925381797.py:80: FutureWarning: Series.__getitem__ treating keys as positions is deprecated. In a future version, integer keys will always be treated as labels (consistent with DataFrame behavior). To access a value by position, use `ser.iloc[pos]`\n",
      "  'labels': torch.tensor(label, dtype=torch.float32)\n",
      "Epoch 18 Training: 100%|████████████████████████████████████████████████████| 11/11 [00:13<00:00,  1.20s/it, loss=2.21]\n",
      "Epoch 18 Validation: 100%|████████████████████████████████████████████████████| 3/3 [00:01<00:00,  1.95it/s, loss=4.36]\n"
     ]
    },
    {
     "name": "stdout",
     "output_type": "stream",
     "text": [
      "Epoch 18: Train Loss=2.5220, Val Loss=5.6502\n",
      "Mean F1 Score: 0.6865, Mean Accuracy: 0.7506, Mean Precision: 0.6648, Mean Recall: 0.7136\n"
     ]
    },
    {
     "name": "stderr",
     "output_type": "stream",
     "text": [
      "C:\\Users\\udays\\AppData\\Local\\Temp\\ipykernel_22228\\3925381797.py:80: FutureWarning: Series.__getitem__ treating keys as positions is deprecated. In a future version, integer keys will always be treated as labels (consistent with DataFrame behavior). To access a value by position, use `ser.iloc[pos]`\n",
      "  'labels': torch.tensor(label, dtype=torch.float32)\n",
      "Epoch 19 Training: 100%|████████████████████████████████████████████████████| 11/11 [00:13<00:00,  1.20s/it, loss=2.46]\n",
      "Epoch 19 Validation: 100%|████████████████████████████████████████████████████| 3/3 [00:01<00:00,  1.92it/s, loss=3.53]\n"
     ]
    },
    {
     "name": "stdout",
     "output_type": "stream",
     "text": [
      "Epoch 19: Train Loss=2.3139, Val Loss=5.1566\n",
      "Mean F1 Score: 0.7095, Mean Accuracy: 0.7749, Mean Precision: 0.6653, Mean Recall: 0.7775\n",
      "New best model saved for fold 1 with F1=0.7095\n"
     ]
    },
    {
     "name": "stderr",
     "output_type": "stream",
     "text": [
      "C:\\Users\\udays\\AppData\\Local\\Temp\\ipykernel_22228\\3925381797.py:80: FutureWarning: Series.__getitem__ treating keys as positions is deprecated. In a future version, integer keys will always be treated as labels (consistent with DataFrame behavior). To access a value by position, use `ser.iloc[pos]`\n",
      "  'labels': torch.tensor(label, dtype=torch.float32)\n",
      "Epoch 20 Training: 100%|████████████████████████████████████████████████████| 11/11 [00:13<00:00,  1.20s/it, loss=1.64]\n",
      "Epoch 20 Validation: 100%|████████████████████████████████████████████████████| 3/3 [00:01<00:00,  1.92it/s, loss=4.16]\n"
     ]
    },
    {
     "name": "stdout",
     "output_type": "stream",
     "text": [
      "Epoch 20: Train Loss=2.1301, Val Loss=6.3996\n",
      "Mean F1 Score: 0.7174, Mean Accuracy: 0.7472, Mean Precision: 0.6309, Mean Recall: 0.8333\n",
      "New best model saved for fold 1 with F1=0.7174\n"
     ]
    },
    {
     "name": "stderr",
     "output_type": "stream",
     "text": [
      "C:\\Users\\udays\\AppData\\Local\\Temp\\ipykernel_22228\\3925381797.py:80: FutureWarning: Series.__getitem__ treating keys as positions is deprecated. In a future version, integer keys will always be treated as labels (consistent with DataFrame behavior). To access a value by position, use `ser.iloc[pos]`\n",
      "  'labels': torch.tensor(label, dtype=torch.float32)\n",
      "Epoch 21 Training: 100%|████████████████████████████████████████████████████| 11/11 [00:13<00:00,  1.20s/it, loss=1.46]\n",
      "Epoch 21 Validation: 100%|████████████████████████████████████████████████████| 3/3 [00:01<00:00,  2.01it/s, loss=4.26]\n"
     ]
    },
    {
     "name": "stdout",
     "output_type": "stream",
     "text": [
      "Epoch 21: Train Loss=2.0158, Val Loss=5.2171\n",
      "Mean F1 Score: 0.7173, Mean Accuracy: 0.7827, Mean Precision: 0.6925, Mean Recall: 0.7468\n"
     ]
    },
    {
     "name": "stderr",
     "output_type": "stream",
     "text": [
      "C:\\Users\\udays\\AppData\\Local\\Temp\\ipykernel_22228\\3925381797.py:80: FutureWarning: Series.__getitem__ treating keys as positions is deprecated. In a future version, integer keys will always be treated as labels (consistent with DataFrame behavior). To access a value by position, use `ser.iloc[pos]`\n",
      "  'labels': torch.tensor(label, dtype=torch.float32)\n",
      "Epoch 22 Training: 100%|████████████████████████████████████████████████████| 11/11 [00:13<00:00,  1.20s/it, loss=1.67]\n",
      "Epoch 22 Validation: 100%|████████████████████████████████████████████████████| 3/3 [00:01<00:00,  2.00it/s, loss=4.22]\n"
     ]
    },
    {
     "name": "stdout",
     "output_type": "stream",
     "text": [
      "Epoch 22: Train Loss=1.9448, Val Loss=4.9343\n",
      "Mean F1 Score: 0.6932, Mean Accuracy: 0.7816, Mean Precision: 0.7157, Mean Recall: 0.6980\n"
     ]
    },
    {
     "name": "stderr",
     "output_type": "stream",
     "text": [
      "C:\\Users\\udays\\AppData\\Local\\Temp\\ipykernel_22228\\3925381797.py:80: FutureWarning: Series.__getitem__ treating keys as positions is deprecated. In a future version, integer keys will always be treated as labels (consistent with DataFrame behavior). To access a value by position, use `ser.iloc[pos]`\n",
      "  'labels': torch.tensor(label, dtype=torch.float32)\n",
      "Epoch 23 Training: 100%|████████████████████████████████████████████████████| 11/11 [00:13<00:00,  1.19s/it, loss=1.85]\n",
      "Epoch 23 Validation: 100%|████████████████████████████████████████████████████| 3/3 [00:01<00:00,  1.97it/s, loss=4.48]\n"
     ]
    },
    {
     "name": "stdout",
     "output_type": "stream",
     "text": [
      "Epoch 23: Train Loss=1.8635, Val Loss=6.5006\n",
      "Mean F1 Score: 0.7158, Mean Accuracy: 0.7517, Mean Precision: 0.6314, Mean Recall: 0.8287\n"
     ]
    },
    {
     "name": "stderr",
     "output_type": "stream",
     "text": [
      "C:\\Users\\udays\\AppData\\Local\\Temp\\ipykernel_22228\\3925381797.py:80: FutureWarning: Series.__getitem__ treating keys as positions is deprecated. In a future version, integer keys will always be treated as labels (consistent with DataFrame behavior). To access a value by position, use `ser.iloc[pos]`\n",
      "  'labels': torch.tensor(label, dtype=torch.float32)\n",
      "Epoch 24 Training: 100%|████████████████████████████████████████████████████| 11/11 [00:13<00:00,  1.19s/it, loss=2.39]\n",
      "Epoch 24 Validation: 100%|████████████████████████████████████████████████████| 3/3 [00:01<00:00,  1.97it/s, loss=7.23]\n"
     ]
    },
    {
     "name": "stdout",
     "output_type": "stream",
     "text": [
      "Epoch 24: Train Loss=1.8965, Val Loss=5.8184\n",
      "Mean F1 Score: 0.6491, Mean Accuracy: 0.7672, Mean Precision: 0.8459, Mean Recall: 0.5549\n"
     ]
    },
    {
     "name": "stderr",
     "output_type": "stream",
     "text": [
      "C:\\Users\\udays\\AppData\\Local\\Temp\\ipykernel_22228\\3925381797.py:80: FutureWarning: Series.__getitem__ treating keys as positions is deprecated. In a future version, integer keys will always be treated as labels (consistent with DataFrame behavior). To access a value by position, use `ser.iloc[pos]`\n",
      "  'labels': torch.tensor(label, dtype=torch.float32)\n",
      "Epoch 25 Training: 100%|█████████████████████████████████████████████████████| 11/11 [00:13<00:00,  1.20s/it, loss=1.6]\n",
      "Epoch 25 Validation: 100%|████████████████████████████████████████████████████| 3/3 [00:01<00:00,  1.99it/s, loss=5.14]\n"
     ]
    },
    {
     "name": "stdout",
     "output_type": "stream",
     "text": [
      "Epoch 25: Train Loss=1.7710, Val Loss=6.4551\n",
      "Mean F1 Score: 0.7027, Mean Accuracy: 0.7605, Mean Precision: 0.6450, Mean Recall: 0.7884\n"
     ]
    },
    {
     "name": "stderr",
     "output_type": "stream",
     "text": [
      "C:\\Users\\udays\\AppData\\Local\\Temp\\ipykernel_22228\\3925381797.py:80: FutureWarning: Series.__getitem__ treating keys as positions is deprecated. In a future version, integer keys will always be treated as labels (consistent with DataFrame behavior). To access a value by position, use `ser.iloc[pos]`\n",
      "  'labels': torch.tensor(label, dtype=torch.float32)\n",
      "Epoch 26 Training: 100%|████████████████████████████████████████████████████| 11/11 [00:13<00:00,  1.19s/it, loss=1.19]\n",
      "Epoch 26 Validation: 100%|████████████████████████████████████████████████████| 3/3 [00:01<00:00,  2.10it/s, loss=4.89]\n"
     ]
    },
    {
     "name": "stdout",
     "output_type": "stream",
     "text": [
      "Epoch 26: Train Loss=1.6597, Val Loss=6.0930\n",
      "Mean F1 Score: 0.7166, Mean Accuracy: 0.7838, Mean Precision: 0.6698, Mean Recall: 0.7884\n"
     ]
    },
    {
     "name": "stderr",
     "output_type": "stream",
     "text": [
      "C:\\Users\\udays\\AppData\\Local\\Temp\\ipykernel_22228\\3925381797.py:80: FutureWarning: Series.__getitem__ treating keys as positions is deprecated. In a future version, integer keys will always be treated as labels (consistent with DataFrame behavior). To access a value by position, use `ser.iloc[pos]`\n",
      "  'labels': torch.tensor(label, dtype=torch.float32)\n",
      "Epoch 27 Training: 100%|████████████████████████████████████████████████████| 11/11 [00:12<00:00,  1.17s/it, loss=2.11]\n",
      "Epoch 27 Validation: 100%|█████████████████████████████████████████████████████| 3/3 [00:01<00:00,  1.99it/s, loss=4.5]\n"
     ]
    },
    {
     "name": "stdout",
     "output_type": "stream",
     "text": [
      "Epoch 27: Train Loss=1.6401, Val Loss=6.0935\n",
      "Mean F1 Score: 0.7144, Mean Accuracy: 0.7494, Mean Precision: 0.7106, Mean Recall: 0.8079\n"
     ]
    },
    {
     "name": "stderr",
     "output_type": "stream",
     "text": [
      "C:\\Users\\udays\\AppData\\Local\\Temp\\ipykernel_22228\\3925381797.py:80: FutureWarning: Series.__getitem__ treating keys as positions is deprecated. In a future version, integer keys will always be treated as labels (consistent with DataFrame behavior). To access a value by position, use `ser.iloc[pos]`\n",
      "  'labels': torch.tensor(label, dtype=torch.float32)\n",
      "Epoch 28 Training: 100%|████████████████████████████████████████████████████| 11/11 [00:12<00:00,  1.18s/it, loss=2.68]\n",
      "Epoch 28 Validation: 100%|████████████████████████████████████████████████████| 3/3 [00:01<00:00,  2.11it/s, loss=5.01]\n"
     ]
    },
    {
     "name": "stdout",
     "output_type": "stream",
     "text": [
      "Epoch 28: Train Loss=1.6741, Val Loss=5.2735\n",
      "Mean F1 Score: 0.7314, Mean Accuracy: 0.7927, Mean Precision: 0.8365, Mean Recall: 0.7005\n",
      "New best model saved for fold 1 with F1=0.7314\n"
     ]
    },
    {
     "name": "stderr",
     "output_type": "stream",
     "text": [
      "C:\\Users\\udays\\AppData\\Local\\Temp\\ipykernel_22228\\3925381797.py:80: FutureWarning: Series.__getitem__ treating keys as positions is deprecated. In a future version, integer keys will always be treated as labels (consistent with DataFrame behavior). To access a value by position, use `ser.iloc[pos]`\n",
      "  'labels': torch.tensor(label, dtype=torch.float32)\n",
      "Epoch 29 Training: 100%|███████████████████████████████████████████████████| 11/11 [00:12<00:00,  1.18s/it, loss=0.963]\n",
      "Epoch 29 Validation: 100%|████████████████████████████████████████████████████| 3/3 [00:01<00:00,  2.00it/s, loss=4.59]\n"
     ]
    },
    {
     "name": "stdout",
     "output_type": "stream",
     "text": [
      "Epoch 29: Train Loss=1.4665, Val Loss=6.4332\n",
      "Mean F1 Score: 0.7355, Mean Accuracy: 0.7616, Mean Precision: 0.7363, Mean Recall: 0.8052\n",
      "New best model saved for fold 1 with F1=0.7355\n"
     ]
    },
    {
     "name": "stderr",
     "output_type": "stream",
     "text": [
      "C:\\Users\\udays\\AppData\\Local\\Temp\\ipykernel_22228\\3925381797.py:80: FutureWarning: Series.__getitem__ treating keys as positions is deprecated. In a future version, integer keys will always be treated as labels (consistent with DataFrame behavior). To access a value by position, use `ser.iloc[pos]`\n",
      "  'labels': torch.tensor(label, dtype=torch.float32)\n",
      "Epoch 30 Training: 100%|████████████████████████████████████████████████████| 11/11 [00:12<00:00,  1.18s/it, loss=1.48]\n",
      "Epoch 30 Validation: 100%|████████████████████████████████████████████████████| 3/3 [00:01<00:00,  1.99it/s, loss=4.59]\n"
     ]
    },
    {
     "name": "stdout",
     "output_type": "stream",
     "text": [
      "Epoch 30: Train Loss=1.4587, Val Loss=6.1105\n",
      "Mean F1 Score: 0.7373, Mean Accuracy: 0.7727, Mean Precision: 0.7474, Mean Recall: 0.7953\n",
      "New best model saved for fold 1 with F1=0.7373\n"
     ]
    },
    {
     "name": "stderr",
     "output_type": "stream",
     "text": [
      "C:\\Users\\udays\\AppData\\Local\\Temp\\ipykernel_22228\\3925381797.py:80: FutureWarning: Series.__getitem__ treating keys as positions is deprecated. In a future version, integer keys will always be treated as labels (consistent with DataFrame behavior). To access a value by position, use `ser.iloc[pos]`\n",
      "  'labels': torch.tensor(label, dtype=torch.float32)\n",
      "Epoch 31 Training: 100%|████████████████████████████████████████████████████| 11/11 [00:12<00:00,  1.18s/it, loss=1.41]\n",
      "Epoch 31 Validation: 100%|████████████████████████████████████████████████████| 3/3 [00:01<00:00,  2.02it/s, loss=4.51]\n"
     ]
    },
    {
     "name": "stdout",
     "output_type": "stream",
     "text": [
      "Epoch 31: Train Loss=1.3886, Val Loss=5.8839\n",
      "Mean F1 Score: 0.7474, Mean Accuracy: 0.7849, Mean Precision: 0.7149, Mean Recall: 0.8036\n",
      "New best model saved for fold 1 with F1=0.7474\n"
     ]
    },
    {
     "name": "stderr",
     "output_type": "stream",
     "text": [
      "C:\\Users\\udays\\AppData\\Local\\Temp\\ipykernel_22228\\3925381797.py:80: FutureWarning: Series.__getitem__ treating keys as positions is deprecated. In a future version, integer keys will always be treated as labels (consistent with DataFrame behavior). To access a value by position, use `ser.iloc[pos]`\n",
      "  'labels': torch.tensor(label, dtype=torch.float32)\n",
      "Epoch 32 Training: 100%|███████████████████████████████████████████████████| 11/11 [00:12<00:00,  1.16s/it, loss=0.657]\n",
      "Epoch 32 Validation: 100%|████████████████████████████████████████████████████| 3/3 [00:01<00:00,  2.05it/s, loss=5.07]\n"
     ]
    },
    {
     "name": "stdout",
     "output_type": "stream",
     "text": [
      "Epoch 32: Train Loss=1.2841, Val Loss=6.9882\n",
      "Mean F1 Score: 0.7267, Mean Accuracy: 0.7450, Mean Precision: 0.6717, Mean Recall: 0.8192\n"
     ]
    },
    {
     "name": "stderr",
     "output_type": "stream",
     "text": [
      "C:\\Users\\udays\\AppData\\Local\\Temp\\ipykernel_22228\\3925381797.py:80: FutureWarning: Series.__getitem__ treating keys as positions is deprecated. In a future version, integer keys will always be treated as labels (consistent with DataFrame behavior). To access a value by position, use `ser.iloc[pos]`\n",
      "  'labels': torch.tensor(label, dtype=torch.float32)\n",
      "Epoch 33 Training: 100%|███████████████████████████████████████████████████| 11/11 [00:12<00:00,  1.18s/it, loss=0.763]\n",
      "Epoch 33 Validation: 100%|████████████████████████████████████████████████████| 3/3 [00:01<00:00,  2.00it/s, loss=4.73]\n"
     ]
    },
    {
     "name": "stdout",
     "output_type": "stream",
     "text": [
      "Epoch 33: Train Loss=1.2623, Val Loss=6.2712\n",
      "Mean F1 Score: 0.7275, Mean Accuracy: 0.7616, Mean Precision: 0.6951, Mean Recall: 0.7953\n"
     ]
    },
    {
     "name": "stderr",
     "output_type": "stream",
     "text": [
      "C:\\Users\\udays\\AppData\\Local\\Temp\\ipykernel_22228\\3925381797.py:80: FutureWarning: Series.__getitem__ treating keys as positions is deprecated. In a future version, integer keys will always be treated as labels (consistent with DataFrame behavior). To access a value by position, use `ser.iloc[pos]`\n",
      "  'labels': torch.tensor(label, dtype=torch.float32)\n",
      "Epoch 34 Training: 100%|████████████████████████████████████████████████████| 11/11 [00:13<00:00,  1.20s/it, loss=1.09]\n",
      "Epoch 34 Validation: 100%|████████████████████████████████████████████████████| 3/3 [00:01<00:00,  1.93it/s, loss=4.55]\n"
     ]
    },
    {
     "name": "stdout",
     "output_type": "stream",
     "text": [
      "Epoch 34: Train Loss=1.2524, Val Loss=6.0508\n",
      "Mean F1 Score: 0.7476, Mean Accuracy: 0.7783, Mean Precision: 0.7159, Mean Recall: 0.8077\n",
      "New best model saved for fold 1 with F1=0.7476\n"
     ]
    },
    {
     "name": "stderr",
     "output_type": "stream",
     "text": [
      "C:\\Users\\udays\\AppData\\Local\\Temp\\ipykernel_22228\\3925381797.py:80: FutureWarning: Series.__getitem__ treating keys as positions is deprecated. In a future version, integer keys will always be treated as labels (consistent with DataFrame behavior). To access a value by position, use `ser.iloc[pos]`\n",
      "  'labels': torch.tensor(label, dtype=torch.float32)\n",
      "Epoch 35 Training: 100%|████████████████████████████████████████████████████| 11/11 [00:13<00:00,  1.19s/it, loss=1.09]\n",
      "Epoch 35 Validation: 100%|████████████████████████████████████████████████████| 3/3 [00:01<00:00,  1.99it/s, loss=4.98]\n"
     ]
    },
    {
     "name": "stdout",
     "output_type": "stream",
     "text": [
      "Epoch 35: Train Loss=1.2196, Val Loss=6.8190\n",
      "Mean F1 Score: 0.7388, Mean Accuracy: 0.7627, Mean Precision: 0.6876, Mean Recall: 0.8293\n"
     ]
    },
    {
     "name": "stderr",
     "output_type": "stream",
     "text": [
      "C:\\Users\\udays\\AppData\\Local\\Temp\\ipykernel_22228\\3925381797.py:80: FutureWarning: Series.__getitem__ treating keys as positions is deprecated. In a future version, integer keys will always be treated as labels (consistent with DataFrame behavior). To access a value by position, use `ser.iloc[pos]`\n",
      "  'labels': torch.tensor(label, dtype=torch.float32)\n",
      "Epoch 36 Training: 100%|████████████████████████████████████████████████████| 11/11 [00:13<00:00,  1.20s/it, loss=2.42]\n",
      "Epoch 36 Validation: 100%|████████████████████████████████████████████████████| 3/3 [00:01<00:00,  2.04it/s, loss=4.75]\n"
     ]
    },
    {
     "name": "stdout",
     "output_type": "stream",
     "text": [
      "Epoch 36: Train Loss=1.3175, Val Loss=6.7276\n",
      "Mean F1 Score: 0.7538, Mean Accuracy: 0.7594, Mean Precision: 0.7028, Mean Recall: 0.8276\n",
      "New best model saved for fold 1 with F1=0.7538\n"
     ]
    },
    {
     "name": "stderr",
     "output_type": "stream",
     "text": [
      "C:\\Users\\udays\\AppData\\Local\\Temp\\ipykernel_22228\\3925381797.py:80: FutureWarning: Series.__getitem__ treating keys as positions is deprecated. In a future version, integer keys will always be treated as labels (consistent with DataFrame behavior). To access a value by position, use `ser.iloc[pos]`\n",
      "  'labels': torch.tensor(label, dtype=torch.float32)\n",
      "Epoch 37 Training: 100%|█████████████████████████████████████████████████████| 11/11 [00:13<00:00,  1.18s/it, loss=1.1]\n",
      "Epoch 37 Validation: 100%|████████████████████████████████████████████████████| 3/3 [00:01<00:00,  1.94it/s, loss=5.37]\n"
     ]
    },
    {
     "name": "stdout",
     "output_type": "stream",
     "text": [
      "Epoch 37: Train Loss=1.1827, Val Loss=6.2855\n",
      "Mean F1 Score: 0.7714, Mean Accuracy: 0.7938, Mean Precision: 0.7509, Mean Recall: 0.8037\n",
      "New best model saved for fold 1 with F1=0.7714\n"
     ]
    },
    {
     "name": "stderr",
     "output_type": "stream",
     "text": [
      "C:\\Users\\udays\\AppData\\Local\\Temp\\ipykernel_22228\\3925381797.py:80: FutureWarning: Series.__getitem__ treating keys as positions is deprecated. In a future version, integer keys will always be treated as labels (consistent with DataFrame behavior). To access a value by position, use `ser.iloc[pos]`\n",
      "  'labels': torch.tensor(label, dtype=torch.float32)\n",
      "Epoch 38 Training: 100%|████████████████████████████████████████████████████| 11/11 [00:13<00:00,  1.19s/it, loss=2.26]\n",
      "Epoch 38 Validation: 100%|█████████████████████████████████████████████████████| 3/3 [00:01<00:00,  1.98it/s, loss=5.4]\n"
     ]
    },
    {
     "name": "stdout",
     "output_type": "stream",
     "text": [
      "Epoch 38: Train Loss=1.2490, Val Loss=6.9522\n",
      "Mean F1 Score: 0.7282, Mean Accuracy: 0.7506, Mean Precision: 0.6844, Mean Recall: 0.8063\n"
     ]
    },
    {
     "name": "stderr",
     "output_type": "stream",
     "text": [
      "C:\\Users\\udays\\AppData\\Local\\Temp\\ipykernel_22228\\3925381797.py:80: FutureWarning: Series.__getitem__ treating keys as positions is deprecated. In a future version, integer keys will always be treated as labels (consistent with DataFrame behavior). To access a value by position, use `ser.iloc[pos]`\n",
      "  'labels': torch.tensor(label, dtype=torch.float32)\n",
      "Epoch 39 Training: 100%|███████████████████████████████████████████████████| 11/11 [00:12<00:00,  1.17s/it, loss=0.806]\n",
      "Epoch 39 Validation: 100%|████████████████████████████████████████████████████| 3/3 [00:01<00:00,  2.10it/s, loss=5.02]\n"
     ]
    },
    {
     "name": "stdout",
     "output_type": "stream",
     "text": [
      "Epoch 39: Train Loss=1.0823, Val Loss=6.8317\n",
      "Mean F1 Score: 0.7320, Mean Accuracy: 0.7594, Mean Precision: 0.6892, Mean Recall: 0.8154\n"
     ]
    },
    {
     "name": "stderr",
     "output_type": "stream",
     "text": [
      "C:\\Users\\udays\\AppData\\Local\\Temp\\ipykernel_22228\\3925381797.py:80: FutureWarning: Series.__getitem__ treating keys as positions is deprecated. In a future version, integer keys will always be treated as labels (consistent with DataFrame behavior). To access a value by position, use `ser.iloc[pos]`\n",
      "  'labels': torch.tensor(label, dtype=torch.float32)\n",
      "Epoch 40 Training: 100%|███████████████████████████████████████████████████| 11/11 [00:13<00:00,  1.20s/it, loss=0.715]\n",
      "Epoch 40 Validation: 100%|████████████████████████████████████████████████████| 3/3 [00:01<00:00,  2.14it/s, loss=4.68]\n"
     ]
    },
    {
     "name": "stdout",
     "output_type": "stream",
     "text": [
      "Epoch 40: Train Loss=1.1083, Val Loss=5.7269\n",
      "Mean F1 Score: 0.7568, Mean Accuracy: 0.7949, Mean Precision: 0.7354, Mean Recall: 0.7958\n"
     ]
    },
    {
     "name": "stderr",
     "output_type": "stream",
     "text": [
      "C:\\Users\\udays\\AppData\\Local\\Temp\\ipykernel_22228\\3925381797.py:80: FutureWarning: Series.__getitem__ treating keys as positions is deprecated. In a future version, integer keys will always be treated as labels (consistent with DataFrame behavior). To access a value by position, use `ser.iloc[pos]`\n",
      "  'labels': torch.tensor(label, dtype=torch.float32)\n",
      "Epoch 41 Training: 100%|███████████████████████████████████████████████████| 11/11 [00:13<00:00,  1.18s/it, loss=0.823]\n",
      "Epoch 41 Validation: 100%|████████████████████████████████████████████████████| 3/3 [00:01<00:00,  1.98it/s, loss=5.46]\n"
     ]
    },
    {
     "name": "stdout",
     "output_type": "stream",
     "text": [
      "Epoch 41: Train Loss=1.0521, Val Loss=7.5378\n",
      "Mean F1 Score: 0.7314, Mean Accuracy: 0.7439, Mean Precision: 0.6704, Mean Recall: 0.8301\n"
     ]
    },
    {
     "name": "stderr",
     "output_type": "stream",
     "text": [
      "C:\\Users\\udays\\AppData\\Local\\Temp\\ipykernel_22228\\3925381797.py:80: FutureWarning: Series.__getitem__ treating keys as positions is deprecated. In a future version, integer keys will always be treated as labels (consistent with DataFrame behavior). To access a value by position, use `ser.iloc[pos]`\n",
      "  'labels': torch.tensor(label, dtype=torch.float32)\n",
      "Epoch 42 Training: 100%|███████████████████████████████████████████████████| 11/11 [00:12<00:00,  1.18s/it, loss=0.953]\n",
      "Epoch 42 Validation: 100%|████████████████████████████████████████████████████| 3/3 [00:01<00:00,  1.90it/s, loss=5.14]\n"
     ]
    },
    {
     "name": "stdout",
     "output_type": "stream",
     "text": [
      "Epoch 42: Train Loss=1.1064, Val Loss=6.5344\n",
      "Mean F1 Score: 0.7868, Mean Accuracy: 0.8060, Mean Precision: 0.7562, Mean Recall: 0.8310\n",
      "New best model saved for fold 1 with F1=0.7868\n"
     ]
    },
    {
     "name": "stderr",
     "output_type": "stream",
     "text": [
      "C:\\Users\\udays\\AppData\\Local\\Temp\\ipykernel_22228\\3925381797.py:80: FutureWarning: Series.__getitem__ treating keys as positions is deprecated. In a future version, integer keys will always be treated as labels (consistent with DataFrame behavior). To access a value by position, use `ser.iloc[pos]`\n",
      "  'labels': torch.tensor(label, dtype=torch.float32)\n",
      "Epoch 43 Training: 100%|███████████████████████████████████████████████████| 11/11 [00:13<00:00,  1.18s/it, loss=0.578]\n",
      "Epoch 43 Validation: 100%|████████████████████████████████████████████████████| 3/3 [00:01<00:00,  2.02it/s, loss=5.74]\n"
     ]
    },
    {
     "name": "stdout",
     "output_type": "stream",
     "text": [
      "Epoch 43: Train Loss=1.0268, Val Loss=8.4964\n",
      "Mean F1 Score: 0.7002, Mean Accuracy: 0.7328, Mean Precision: 0.6115, Mean Recall: 0.8230\n"
     ]
    },
    {
     "name": "stderr",
     "output_type": "stream",
     "text": [
      "C:\\Users\\udays\\AppData\\Local\\Temp\\ipykernel_22228\\3925381797.py:80: FutureWarning: Series.__getitem__ treating keys as positions is deprecated. In a future version, integer keys will always be treated as labels (consistent with DataFrame behavior). To access a value by position, use `ser.iloc[pos]`\n",
      "  'labels': torch.tensor(label, dtype=torch.float32)\n",
      "Epoch 44 Training: 100%|████████████████████████████████████████████████████| 11/11 [00:13<00:00,  1.21s/it, loss=1.62]\n",
      "Epoch 44 Validation: 100%|█████████████████████████████████████████████████████| 3/3 [00:01<00:00,  1.92it/s, loss=4.9]\n"
     ]
    },
    {
     "name": "stdout",
     "output_type": "stream",
     "text": [
      "Epoch 44: Train Loss=1.0843, Val Loss=6.8720\n",
      "Mean F1 Score: 0.7601, Mean Accuracy: 0.7727, Mean Precision: 0.7025, Mean Recall: 0.8330\n"
     ]
    },
    {
     "name": "stderr",
     "output_type": "stream",
     "text": [
      "C:\\Users\\udays\\AppData\\Local\\Temp\\ipykernel_22228\\3925381797.py:80: FutureWarning: Series.__getitem__ treating keys as positions is deprecated. In a future version, integer keys will always be treated as labels (consistent with DataFrame behavior). To access a value by position, use `ser.iloc[pos]`\n",
      "  'labels': torch.tensor(label, dtype=torch.float32)\n",
      "Epoch 45 Training: 100%|███████████████████████████████████████████████████| 11/11 [00:13<00:00,  1.20s/it, loss=0.829]\n",
      "Epoch 45 Validation: 100%|████████████████████████████████████████████████████| 3/3 [00:01<00:00,  1.85it/s, loss=4.86]\n"
     ]
    },
    {
     "name": "stdout",
     "output_type": "stream",
     "text": [
      "Epoch 45: Train Loss=0.9954, Val Loss=7.3159\n",
      "Mean F1 Score: 0.7390, Mean Accuracy: 0.7627, Mean Precision: 0.6881, Mean Recall: 0.8214\n"
     ]
    },
    {
     "name": "stderr",
     "output_type": "stream",
     "text": [
      "C:\\Users\\udays\\AppData\\Local\\Temp\\ipykernel_22228\\3925381797.py:80: FutureWarning: Series.__getitem__ treating keys as positions is deprecated. In a future version, integer keys will always be treated as labels (consistent with DataFrame behavior). To access a value by position, use `ser.iloc[pos]`\n",
      "  'labels': torch.tensor(label, dtype=torch.float32)\n",
      "Epoch 46 Training: 100%|███████████████████████████████████████████████████| 11/11 [00:13<00:00,  1.26s/it, loss=0.619]\n",
      "Epoch 46 Validation: 100%|█████████████████████████████████████████████████████| 3/3 [00:01<00:00,  1.91it/s, loss=4.7]\n"
     ]
    },
    {
     "name": "stdout",
     "output_type": "stream",
     "text": [
      "Epoch 46: Train Loss=0.9428, Val Loss=6.4534\n",
      "Mean F1 Score: 0.7430, Mean Accuracy: 0.7816, Mean Precision: 0.7094, Mean Recall: 0.8038\n"
     ]
    },
    {
     "name": "stderr",
     "output_type": "stream",
     "text": [
      "C:\\Users\\udays\\AppData\\Local\\Temp\\ipykernel_22228\\3925381797.py:80: FutureWarning: Series.__getitem__ treating keys as positions is deprecated. In a future version, integer keys will always be treated as labels (consistent with DataFrame behavior). To access a value by position, use `ser.iloc[pos]`\n",
      "  'labels': torch.tensor(label, dtype=torch.float32)\n",
      "Epoch 47 Training: 100%|███████████████████████████████████████████████████| 11/11 [00:13<00:00,  1.22s/it, loss=0.861]\n",
      "Epoch 47 Validation: 100%|████████████████████████████████████████████████████| 3/3 [00:01<00:00,  2.01it/s, loss=5.81]\n"
     ]
    },
    {
     "name": "stdout",
     "output_type": "stream",
     "text": [
      "Epoch 47: Train Loss=0.9604, Val Loss=6.1313\n",
      "Mean F1 Score: 0.7268, Mean Accuracy: 0.7816, Mean Precision: 0.7851, Mean Recall: 0.7231\n"
     ]
    },
    {
     "name": "stderr",
     "output_type": "stream",
     "text": [
      "C:\\Users\\udays\\AppData\\Local\\Temp\\ipykernel_22228\\3925381797.py:80: FutureWarning: Series.__getitem__ treating keys as positions is deprecated. In a future version, integer keys will always be treated as labels (consistent with DataFrame behavior). To access a value by position, use `ser.iloc[pos]`\n",
      "  'labels': torch.tensor(label, dtype=torch.float32)\n",
      "Epoch 48 Training: 100%|████████████████████████████████████████████████████| 11/11 [00:13<00:00,  1.22s/it, loss=1.62]\n",
      "Epoch 48 Validation: 100%|████████████████████████████████████████████████████| 3/3 [00:01<00:00,  2.01it/s, loss=6.11]\n"
     ]
    },
    {
     "name": "stdout",
     "output_type": "stream",
     "text": [
      "Epoch 48: Train Loss=1.0407, Val Loss=6.6753\n",
      "Mean F1 Score: 0.7031, Mean Accuracy: 0.7849, Mean Precision: 0.6873, Mean Recall: 0.7270\n"
     ]
    },
    {
     "name": "stderr",
     "output_type": "stream",
     "text": [
      "C:\\Users\\udays\\AppData\\Local\\Temp\\ipykernel_22228\\3925381797.py:80: FutureWarning: Series.__getitem__ treating keys as positions is deprecated. In a future version, integer keys will always be treated as labels (consistent with DataFrame behavior). To access a value by position, use `ser.iloc[pos]`\n",
      "  'labels': torch.tensor(label, dtype=torch.float32)\n",
      "Epoch 49 Training: 100%|█████████████████████████████████████████████████████| 11/11 [00:13<00:00,  1.18s/it, loss=1.3]\n",
      "Epoch 49 Validation: 100%|████████████████████████████████████████████████████| 3/3 [00:01<00:00,  1.94it/s, loss=5.67]\n"
     ]
    },
    {
     "name": "stdout",
     "output_type": "stream",
     "text": [
      "Epoch 49: Train Loss=0.9886, Val Loss=6.5152\n",
      "Mean F1 Score: 0.7561, Mean Accuracy: 0.8060, Mean Precision: 0.7387, Mean Recall: 0.7927\n"
     ]
    },
    {
     "name": "stderr",
     "output_type": "stream",
     "text": [
      "C:\\Users\\udays\\AppData\\Local\\Temp\\ipykernel_22228\\3925381797.py:80: FutureWarning: Series.__getitem__ treating keys as positions is deprecated. In a future version, integer keys will always be treated as labels (consistent with DataFrame behavior). To access a value by position, use `ser.iloc[pos]`\n",
      "  'labels': torch.tensor(label, dtype=torch.float32)\n",
      "Epoch 50 Training: 100%|███████████████████████████████████████████████████| 11/11 [00:13<00:00,  1.20s/it, loss=0.409]\n",
      "Epoch 50 Validation: 100%|████████████████████████████████████████████████████| 3/3 [00:01<00:00,  1.81it/s, loss=5.76]\n"
     ]
    },
    {
     "name": "stdout",
     "output_type": "stream",
     "text": [
      "Epoch 50: Train Loss=0.9396, Val Loss=6.9923\n",
      "Mean F1 Score: 0.7246, Mean Accuracy: 0.7949, Mean Precision: 0.6882, Mean Recall: 0.7671\n"
     ]
    },
    {
     "name": "stderr",
     "output_type": "stream",
     "text": [
      "C:\\Users\\udays\\AppData\\Local\\Temp\\ipykernel_22228\\3925381797.py:80: FutureWarning: Series.__getitem__ treating keys as positions is deprecated. In a future version, integer keys will always be treated as labels (consistent with DataFrame behavior). To access a value by position, use `ser.iloc[pos]`\n",
      "  'labels': torch.tensor(label, dtype=torch.float32)\n",
      "Epoch 51 Training: 100%|████████████████████████████████████████████████████| 11/11 [00:13<00:00,  1.21s/it, loss=1.41]\n",
      "Epoch 51 Validation: 100%|████████████████████████████████████████████████████| 3/3 [00:01<00:00,  2.13it/s, loss=6.66]\n"
     ]
    },
    {
     "name": "stdout",
     "output_type": "stream",
     "text": [
      "Epoch 51: Train Loss=0.9751, Val Loss=7.5001\n",
      "Mean F1 Score: 0.7575, Mean Accuracy: 0.7938, Mean Precision: 0.7437, Mean Recall: 0.7867\n"
     ]
    },
    {
     "name": "stderr",
     "output_type": "stream",
     "text": [
      "C:\\Users\\udays\\AppData\\Local\\Temp\\ipykernel_22228\\3925381797.py:80: FutureWarning: Series.__getitem__ treating keys as positions is deprecated. In a future version, integer keys will always be treated as labels (consistent with DataFrame behavior). To access a value by position, use `ser.iloc[pos]`\n",
      "  'labels': torch.tensor(label, dtype=torch.float32)\n",
      "Epoch 52 Training: 100%|████████████████████████████████████████████████████| 11/11 [00:13<00:00,  1.20s/it, loss=1.59]\n",
      "Epoch 52 Validation: 100%|████████████████████████████████████████████████████| 3/3 [00:01<00:00,  1.95it/s, loss=6.42]\n"
     ]
    },
    {
     "name": "stdout",
     "output_type": "stream",
     "text": [
      "Epoch 52: Train Loss=0.9930, Val Loss=7.0742\n",
      "Mean F1 Score: 0.7263, Mean Accuracy: 0.7949, Mean Precision: 0.6866, Mean Recall: 0.7763\n"
     ]
    },
    {
     "name": "stderr",
     "output_type": "stream",
     "text": [
      "C:\\Users\\udays\\AppData\\Local\\Temp\\ipykernel_22228\\3925381797.py:80: FutureWarning: Series.__getitem__ treating keys as positions is deprecated. In a future version, integer keys will always be treated as labels (consistent with DataFrame behavior). To access a value by position, use `ser.iloc[pos]`\n",
      "  'labels': torch.tensor(label, dtype=torch.float32)\n",
      "Epoch 53 Training: 100%|███████████████████████████████████████████████████| 11/11 [00:13<00:00,  1.19s/it, loss=0.872]\n",
      "Epoch 53 Validation: 100%|████████████████████████████████████████████████████| 3/3 [00:01<00:00,  2.01it/s, loss=6.25]\n"
     ]
    },
    {
     "name": "stdout",
     "output_type": "stream",
     "text": [
      "Epoch 53: Train Loss=0.9211, Val Loss=6.9574\n",
      "Mean F1 Score: 0.7546, Mean Accuracy: 0.7927, Mean Precision: 0.7717, Mean Recall: 0.7964\n"
     ]
    },
    {
     "name": "stderr",
     "output_type": "stream",
     "text": [
      "C:\\Users\\udays\\AppData\\Local\\Temp\\ipykernel_22228\\3925381797.py:80: FutureWarning: Series.__getitem__ treating keys as positions is deprecated. In a future version, integer keys will always be treated as labels (consistent with DataFrame behavior). To access a value by position, use `ser.iloc[pos]`\n",
      "  'labels': torch.tensor(label, dtype=torch.float32)\n",
      "Epoch 54 Training: 100%|████████████████████████████████████████████████████| 11/11 [00:12<00:00,  1.17s/it, loss=1.43]\n",
      "Epoch 54 Validation: 100%|████████████████████████████████████████████████████| 3/3 [00:01<00:00,  1.87it/s, loss=5.99]\n"
     ]
    },
    {
     "name": "stdout",
     "output_type": "stream",
     "text": [
      "Epoch 54: Train Loss=0.9348, Val Loss=7.6176\n",
      "Mean F1 Score: 0.7059, Mean Accuracy: 0.7650, Mean Precision: 0.6452, Mean Recall: 0.7950\n"
     ]
    },
    {
     "name": "stderr",
     "output_type": "stream",
     "text": [
      "C:\\Users\\udays\\AppData\\Local\\Temp\\ipykernel_22228\\3925381797.py:80: FutureWarning: Series.__getitem__ treating keys as positions is deprecated. In a future version, integer keys will always be treated as labels (consistent with DataFrame behavior). To access a value by position, use `ser.iloc[pos]`\n",
      "  'labels': torch.tensor(label, dtype=torch.float32)\n",
      "Epoch 55 Training: 100%|████████████████████████████████████████████████████| 11/11 [00:13<00:00,  1.20s/it, loss=1.23]\n",
      "Epoch 55 Validation: 100%|████████████████████████████████████████████████████| 3/3 [00:01<00:00,  1.84it/s, loss=5.89]\n"
     ]
    },
    {
     "name": "stdout",
     "output_type": "stream",
     "text": [
      "Epoch 55: Train Loss=0.8950, Val Loss=7.8673\n",
      "Mean F1 Score: 0.7501, Mean Accuracy: 0.7749, Mean Precision: 0.7437, Mean Recall: 0.8224\n"
     ]
    },
    {
     "name": "stderr",
     "output_type": "stream",
     "text": [
      "C:\\Users\\udays\\AppData\\Local\\Temp\\ipykernel_22228\\3925381797.py:80: FutureWarning: Series.__getitem__ treating keys as positions is deprecated. In a future version, integer keys will always be treated as labels (consistent with DataFrame behavior). To access a value by position, use `ser.iloc[pos]`\n",
      "  'labels': torch.tensor(label, dtype=torch.float32)\n",
      "Epoch 56 Training: 100%|███████████████████████████████████████████████████| 11/11 [00:13<00:00,  1.21s/it, loss=0.983]\n",
      "Epoch 56 Validation: 100%|█████████████████████████████████████████████████████| 3/3 [00:01<00:00,  2.02it/s, loss=5.8]\n"
     ]
    },
    {
     "name": "stdout",
     "output_type": "stream",
     "text": [
      "Epoch 56: Train Loss=0.8615, Val Loss=7.4616\n",
      "Mean F1 Score: 0.7086, Mean Accuracy: 0.7716, Mean Precision: 0.6476, Mean Recall: 0.7870\n"
     ]
    },
    {
     "name": "stderr",
     "output_type": "stream",
     "text": [
      "C:\\Users\\udays\\AppData\\Local\\Temp\\ipykernel_22228\\3925381797.py:80: FutureWarning: Series.__getitem__ treating keys as positions is deprecated. In a future version, integer keys will always be treated as labels (consistent with DataFrame behavior). To access a value by position, use `ser.iloc[pos]`\n",
      "  'labels': torch.tensor(label, dtype=torch.float32)\n",
      "Epoch 57 Training: 100%|███████████████████████████████████████████████████| 11/11 [00:13<00:00,  1.20s/it, loss=0.507]\n",
      "Epoch 57 Validation: 100%|████████████████████████████████████████████████████| 3/3 [00:01<00:00,  1.96it/s, loss=5.95]\n"
     ]
    },
    {
     "name": "stdout",
     "output_type": "stream",
     "text": [
      "Epoch 57: Train Loss=0.8138, Val Loss=7.9422\n",
      "Mean F1 Score: 0.7058, Mean Accuracy: 0.7594, Mean Precision: 0.6380, Mean Recall: 0.7977\n"
     ]
    },
    {
     "name": "stderr",
     "output_type": "stream",
     "text": [
      "C:\\Users\\udays\\AppData\\Local\\Temp\\ipykernel_22228\\3925381797.py:80: FutureWarning: Series.__getitem__ treating keys as positions is deprecated. In a future version, integer keys will always be treated as labels (consistent with DataFrame behavior). To access a value by position, use `ser.iloc[pos]`\n",
      "  'labels': torch.tensor(label, dtype=torch.float32)\n",
      "Epoch 58 Training: 100%|████████████████████████████████████████████████████| 11/11 [00:12<00:00,  1.17s/it, loss=0.24]\n",
      "Epoch 58 Validation: 100%|████████████████████████████████████████████████████| 3/3 [00:01<00:00,  2.06it/s, loss=6.11]\n"
     ]
    },
    {
     "name": "stdout",
     "output_type": "stream",
     "text": [
      "Epoch 58: Train Loss=0.7739, Val Loss=8.0899\n",
      "Mean F1 Score: 0.6961, Mean Accuracy: 0.7550, Mean Precision: 0.6284, Mean Recall: 0.7912\n"
     ]
    },
    {
     "name": "stderr",
     "output_type": "stream",
     "text": [
      "C:\\Users\\udays\\AppData\\Local\\Temp\\ipykernel_22228\\3925381797.py:80: FutureWarning: Series.__getitem__ treating keys as positions is deprecated. In a future version, integer keys will always be treated as labels (consistent with DataFrame behavior). To access a value by position, use `ser.iloc[pos]`\n",
      "  'labels': torch.tensor(label, dtype=torch.float32)\n",
      "Epoch 59 Training: 100%|████████████████████████████████████████████████████| 11/11 [00:13<00:00,  1.19s/it, loss=1.06]\n",
      "Epoch 59 Validation: 100%|████████████████████████████████████████████████████| 3/3 [00:01<00:00,  2.12it/s, loss=6.35]\n"
     ]
    },
    {
     "name": "stdout",
     "output_type": "stream",
     "text": [
      "Epoch 59: Train Loss=0.8181, Val Loss=9.0354\n",
      "Mean F1 Score: 0.6994, Mean Accuracy: 0.7439, Mean Precision: 0.6181, Mean Recall: 0.8134\n"
     ]
    },
    {
     "name": "stderr",
     "output_type": "stream",
     "text": [
      "C:\\Users\\udays\\AppData\\Local\\Temp\\ipykernel_22228\\3925381797.py:80: FutureWarning: Series.__getitem__ treating keys as positions is deprecated. In a future version, integer keys will always be treated as labels (consistent with DataFrame behavior). To access a value by position, use `ser.iloc[pos]`\n",
      "  'labels': torch.tensor(label, dtype=torch.float32)\n",
      "Epoch 60 Training: 100%|████████████████████████████████████████████████████| 11/11 [00:13<00:00,  1.22s/it, loss=1.44]\n",
      "Epoch 60 Validation: 100%|████████████████████████████████████████████████████| 3/3 [00:01<00:00,  1.99it/s, loss=6.15]\n"
     ]
    },
    {
     "name": "stdout",
     "output_type": "stream",
     "text": [
      "Epoch 60: Train Loss=0.8333, Val Loss=8.3235\n",
      "Mean F1 Score: 0.7157, Mean Accuracy: 0.7650, Mean Precision: 0.6460, Mean Recall: 0.8064\n"
     ]
    },
    {
     "name": "stderr",
     "output_type": "stream",
     "text": [
      "C:\\Users\\udays\\AppData\\Local\\Temp\\ipykernel_22228\\3925381797.py:80: FutureWarning: Series.__getitem__ treating keys as positions is deprecated. In a future version, integer keys will always be treated as labels (consistent with DataFrame behavior). To access a value by position, use `ser.iloc[pos]`\n",
      "  'labels': torch.tensor(label, dtype=torch.float32)\n",
      "Epoch 61 Training: 100%|███████████████████████████████████████████████████| 11/11 [00:13<00:00,  1.23s/it, loss=0.275]\n",
      "Epoch 61 Validation: 100%|████████████████████████████████████████████████████| 3/3 [00:01<00:00,  1.84it/s, loss=6.26]\n"
     ]
    },
    {
     "name": "stdout",
     "output_type": "stream",
     "text": [
      "Epoch 61: Train Loss=0.7355, Val Loss=8.2823\n",
      "Mean F1 Score: 0.7057, Mean Accuracy: 0.7594, Mean Precision: 0.6350, Mean Recall: 0.7995\n"
     ]
    },
    {
     "name": "stderr",
     "output_type": "stream",
     "text": [
      "C:\\Users\\udays\\AppData\\Local\\Temp\\ipykernel_22228\\3925381797.py:80: FutureWarning: Series.__getitem__ treating keys as positions is deprecated. In a future version, integer keys will always be treated as labels (consistent with DataFrame behavior). To access a value by position, use `ser.iloc[pos]`\n",
      "  'labels': torch.tensor(label, dtype=torch.float32)\n",
      "Epoch 62 Training: 100%|████████████████████████████████████████████████████| 11/11 [00:13<00:00,  1.21s/it, loss=1.39]\n",
      "Epoch 62 Validation: 100%|████████████████████████████████████████████████████| 3/3 [00:01<00:00,  2.03it/s, loss=6.58]\n"
     ]
    },
    {
     "name": "stdout",
     "output_type": "stream",
     "text": [
      "Epoch 62: Train Loss=0.8111, Val Loss=9.3805\n",
      "Mean F1 Score: 0.7031, Mean Accuracy: 0.7461, Mean Precision: 0.6209, Mean Recall: 0.8143\n"
     ]
    },
    {
     "name": "stderr",
     "output_type": "stream",
     "text": [
      "C:\\Users\\udays\\AppData\\Local\\Temp\\ipykernel_22228\\3925381797.py:80: FutureWarning: Series.__getitem__ treating keys as positions is deprecated. In a future version, integer keys will always be treated as labels (consistent with DataFrame behavior). To access a value by position, use `ser.iloc[pos]`\n",
      "  'labels': torch.tensor(label, dtype=torch.float32)\n",
      "Epoch 63 Training: 100%|███████████████████████████████████████████████████| 11/11 [00:13<00:00,  1.19s/it, loss=0.485]\n",
      "Epoch 63 Validation: 100%|████████████████████████████████████████████████████| 3/3 [00:01<00:00,  1.91it/s, loss=6.25]\n"
     ]
    },
    {
     "name": "stdout",
     "output_type": "stream",
     "text": [
      "Epoch 63: Train Loss=0.7258, Val Loss=8.0523\n",
      "Mean F1 Score: 0.7059, Mean Accuracy: 0.7672, Mean Precision: 0.6442, Mean Recall: 0.7887\n"
     ]
    },
    {
     "name": "stderr",
     "output_type": "stream",
     "text": [
      "C:\\Users\\udays\\AppData\\Local\\Temp\\ipykernel_22228\\3925381797.py:80: FutureWarning: Series.__getitem__ treating keys as positions is deprecated. In a future version, integer keys will always be treated as labels (consistent with DataFrame behavior). To access a value by position, use `ser.iloc[pos]`\n",
      "  'labels': torch.tensor(label, dtype=torch.float32)\n",
      "Epoch 64 Training: 100%|████████████████████████████████████████████████████| 11/11 [00:13<00:00,  1.22s/it, loss=1.27]\n",
      "Epoch 64 Validation: 100%|████████████████████████████████████████████████████| 3/3 [00:01<00:00,  2.01it/s, loss=6.24]\n"
     ]
    },
    {
     "name": "stdout",
     "output_type": "stream",
     "text": [
      "Epoch 64: Train Loss=0.7807, Val Loss=7.4877\n",
      "Mean F1 Score: 0.7472, Mean Accuracy: 0.7894, Mean Precision: 0.7158, Mean Recall: 0.8021\n"
     ]
    },
    {
     "name": "stderr",
     "output_type": "stream",
     "text": [
      "C:\\Users\\udays\\AppData\\Local\\Temp\\ipykernel_22228\\3925381797.py:80: FutureWarning: Series.__getitem__ treating keys as positions is deprecated. In a future version, integer keys will always be treated as labels (consistent with DataFrame behavior). To access a value by position, use `ser.iloc[pos]`\n",
      "  'labels': torch.tensor(label, dtype=torch.float32)\n",
      "Epoch 65 Training: 100%|████████████████████████████████████████████████████| 11/11 [00:12<00:00,  1.15s/it, loss=0.82]\n",
      "Epoch 65 Validation: 100%|████████████████████████████████████████████████████| 3/3 [00:01<00:00,  1.87it/s, loss=6.78]\n"
     ]
    },
    {
     "name": "stdout",
     "output_type": "stream",
     "text": [
      "Epoch 65: Train Loss=0.7355, Val Loss=8.6385\n",
      "Mean F1 Score: 0.7019, Mean Accuracy: 0.7517, Mean Precision: 0.6299, Mean Recall: 0.8009\n"
     ]
    },
    {
     "name": "stderr",
     "output_type": "stream",
     "text": [
      "C:\\Users\\udays\\AppData\\Local\\Temp\\ipykernel_22228\\3925381797.py:80: FutureWarning: Series.__getitem__ treating keys as positions is deprecated. In a future version, integer keys will always be treated as labels (consistent with DataFrame behavior). To access a value by position, use `ser.iloc[pos]`\n",
      "  'labels': torch.tensor(label, dtype=torch.float32)\n",
      "Epoch 66 Training: 100%|███████████████████████████████████████████████████| 11/11 [00:13<00:00,  1.25s/it, loss=0.633]\n",
      "Epoch 66 Validation: 100%|████████████████████████████████████████████████████| 3/3 [00:01<00:00,  2.06it/s, loss=6.77]\n"
     ]
    },
    {
     "name": "stdout",
     "output_type": "stream",
     "text": [
      "Epoch 66: Train Loss=0.6999, Val Loss=9.5216\n",
      "Mean F1 Score: 0.7026, Mean Accuracy: 0.7417, Mean Precision: 0.6226, Mean Recall: 0.8096\n"
     ]
    },
    {
     "name": "stderr",
     "output_type": "stream",
     "text": [
      "C:\\Users\\udays\\AppData\\Local\\Temp\\ipykernel_22228\\3925381797.py:80: FutureWarning: Series.__getitem__ treating keys as positions is deprecated. In a future version, integer keys will always be treated as labels (consistent with DataFrame behavior). To access a value by position, use `ser.iloc[pos]`\n",
      "  'labels': torch.tensor(label, dtype=torch.float32)\n",
      "Epoch 67 Training: 100%|███████████████████████████████████████████████████| 11/11 [00:12<00:00,  1.16s/it, loss=0.483]\n",
      "Epoch 67 Validation: 100%|████████████████████████████████████████████████████| 3/3 [00:01<00:00,  2.05it/s, loss=7.36]\n"
     ]
    },
    {
     "name": "stdout",
     "output_type": "stream",
     "text": [
      "Epoch 67: Train Loss=0.7061, Val Loss=7.6142\n",
      "Mean F1 Score: 0.7019, Mean Accuracy: 0.7794, Mean Precision: 0.6870, Mean Recall: 0.7212\n"
     ]
    },
    {
     "name": "stderr",
     "output_type": "stream",
     "text": [
      "C:\\Users\\udays\\AppData\\Local\\Temp\\ipykernel_22228\\3925381797.py:80: FutureWarning: Series.__getitem__ treating keys as positions is deprecated. In a future version, integer keys will always be treated as labels (consistent with DataFrame behavior). To access a value by position, use `ser.iloc[pos]`\n",
      "  'labels': torch.tensor(label, dtype=torch.float32)\n",
      "Epoch 68 Training: 100%|███████████████████████████████████████████████████| 11/11 [00:12<00:00,  1.14s/it, loss=0.953]\n",
      "Epoch 68 Validation: 100%|████████████████████████████████████████████████████| 3/3 [00:01<00:00,  1.85it/s, loss=6.57]\n"
     ]
    },
    {
     "name": "stdout",
     "output_type": "stream",
     "text": [
      "Epoch 68: Train Loss=0.7307, Val Loss=7.8252\n",
      "Mean F1 Score: 0.7164, Mean Accuracy: 0.7882, Mean Precision: 0.6678, Mean Recall: 0.7771\n"
     ]
    },
    {
     "name": "stderr",
     "output_type": "stream",
     "text": [
      "C:\\Users\\udays\\AppData\\Local\\Temp\\ipykernel_22228\\3925381797.py:80: FutureWarning: Series.__getitem__ treating keys as positions is deprecated. In a future version, integer keys will always be treated as labels (consistent with DataFrame behavior). To access a value by position, use `ser.iloc[pos]`\n",
      "  'labels': torch.tensor(label, dtype=torch.float32)\n",
      "Epoch 69 Training: 100%|███████████████████████████████████████████████████| 11/11 [00:13<00:00,  1.23s/it, loss=0.679]\n",
      "Epoch 69 Validation: 100%|█████████████████████████████████████████████████████| 3/3 [00:01<00:00,  1.81it/s, loss=6.4]\n"
     ]
    },
    {
     "name": "stdout",
     "output_type": "stream",
     "text": [
      "Epoch 69: Train Loss=0.7071, Val Loss=8.0065\n",
      "Mean F1 Score: 0.7274, Mean Accuracy: 0.7882, Mean Precision: 0.6686, Mean Recall: 0.8002\n"
     ]
    },
    {
     "name": "stderr",
     "output_type": "stream",
     "text": [
      "C:\\Users\\udays\\AppData\\Local\\Temp\\ipykernel_22228\\3925381797.py:80: FutureWarning: Series.__getitem__ treating keys as positions is deprecated. In a future version, integer keys will always be treated as labels (consistent with DataFrame behavior). To access a value by position, use `ser.iloc[pos]`\n",
      "  'labels': torch.tensor(label, dtype=torch.float32)\n",
      "Epoch 70 Training: 100%|████████████████████████████████████████████████████| 11/11 [00:13<00:00,  1.25s/it, loss=1.21]\n",
      "Epoch 70 Validation: 100%|████████████████████████████████████████████████████| 3/3 [00:01<00:00,  2.06it/s, loss=6.37]\n"
     ]
    },
    {
     "name": "stdout",
     "output_type": "stream",
     "text": [
      "Epoch 70: Train Loss=0.7204, Val Loss=7.8129\n",
      "Mean F1 Score: 0.7247, Mean Accuracy: 0.7916, Mean Precision: 0.6672, Mean Recall: 0.7992\n"
     ]
    },
    {
     "name": "stderr",
     "output_type": "stream",
     "text": [
      "C:\\Users\\udays\\AppData\\Local\\Temp\\ipykernel_22228\\3925381797.py:80: FutureWarning: Series.__getitem__ treating keys as positions is deprecated. In a future version, integer keys will always be treated as labels (consistent with DataFrame behavior). To access a value by position, use `ser.iloc[pos]`\n",
      "  'labels': torch.tensor(label, dtype=torch.float32)\n",
      "Epoch 71 Training: 100%|████████████████████████████████████████████████████| 11/11 [00:13<00:00,  1.20s/it, loss=1.62]\n",
      "Epoch 71 Validation: 100%|████████████████████████████████████████████████████| 3/3 [00:01<00:00,  1.84it/s, loss=6.54]\n"
     ]
    },
    {
     "name": "stdout",
     "output_type": "stream",
     "text": [
      "Epoch 71: Train Loss=0.7435, Val Loss=8.4429\n",
      "Mean F1 Score: 0.7275, Mean Accuracy: 0.7871, Mean Precision: 0.6631, Mean Recall: 0.8074\n"
     ]
    },
    {
     "name": "stderr",
     "output_type": "stream",
     "text": [
      "C:\\Users\\udays\\AppData\\Local\\Temp\\ipykernel_22228\\3925381797.py:80: FutureWarning: Series.__getitem__ treating keys as positions is deprecated. In a future version, integer keys will always be treated as labels (consistent with DataFrame behavior). To access a value by position, use `ser.iloc[pos]`\n",
      "  'labels': torch.tensor(label, dtype=torch.float32)\n",
      "Epoch 72 Training: 100%|███████████████████████████████████████████████████| 11/11 [00:13<00:00,  1.20s/it, loss=0.191]\n",
      "Epoch 72 Validation: 100%|████████████████████████████████████████████████████| 3/3 [00:01<00:00,  1.98it/s, loss=6.42]\n"
     ]
    },
    {
     "name": "stdout",
     "output_type": "stream",
     "text": [
      "Epoch 72: Train Loss=0.6194, Val Loss=7.9131\n",
      "Mean F1 Score: 0.7249, Mean Accuracy: 0.7960, Mean Precision: 0.6788, Mean Recall: 0.7830\n"
     ]
    },
    {
     "name": "stderr",
     "output_type": "stream",
     "text": [
      "C:\\Users\\udays\\AppData\\Local\\Temp\\ipykernel_22228\\3925381797.py:80: FutureWarning: Series.__getitem__ treating keys as positions is deprecated. In a future version, integer keys will always be treated as labels (consistent with DataFrame behavior). To access a value by position, use `ser.iloc[pos]`\n",
      "  'labels': torch.tensor(label, dtype=torch.float32)\n",
      "Epoch 73 Training: 100%|████████████████████████████████████████████████████| 11/11 [00:13<00:00,  1.23s/it, loss=1.34]\n",
      "Epoch 73 Validation: 100%|████████████████████████████████████████████████████| 3/3 [00:01<00:00,  1.80it/s, loss=6.88]\n"
     ]
    },
    {
     "name": "stdout",
     "output_type": "stream",
     "text": [
      "Epoch 73: Train Loss=0.7033, Val Loss=9.1986\n",
      "Mean F1 Score: 0.7102, Mean Accuracy: 0.7605, Mean Precision: 0.6402, Mean Recall: 0.8050\n"
     ]
    },
    {
     "name": "stderr",
     "output_type": "stream",
     "text": [
      "C:\\Users\\udays\\AppData\\Local\\Temp\\ipykernel_22228\\3925381797.py:80: FutureWarning: Series.__getitem__ treating keys as positions is deprecated. In a future version, integer keys will always be treated as labels (consistent with DataFrame behavior). To access a value by position, use `ser.iloc[pos]`\n",
      "  'labels': torch.tensor(label, dtype=torch.float32)\n",
      "Epoch 74 Training: 100%|███████████████████████████████████████████████████| 11/11 [00:13<00:00,  1.22s/it, loss=0.241]\n",
      "Epoch 74 Validation: 100%|████████████████████████████████████████████████████| 3/3 [00:01<00:00,  1.99it/s, loss=6.95]\n"
     ]
    },
    {
     "name": "stdout",
     "output_type": "stream",
     "text": [
      "Epoch 74: Train Loss=0.6187, Val Loss=7.7063\n",
      "Mean F1 Score: 0.7116, Mean Accuracy: 0.7860, Mean Precision: 0.6917, Mean Recall: 0.7361\n"
     ]
    },
    {
     "name": "stderr",
     "output_type": "stream",
     "text": [
      "C:\\Users\\udays\\AppData\\Local\\Temp\\ipykernel_22228\\3925381797.py:80: FutureWarning: Series.__getitem__ treating keys as positions is deprecated. In a future version, integer keys will always be treated as labels (consistent with DataFrame behavior). To access a value by position, use `ser.iloc[pos]`\n",
      "  'labels': torch.tensor(label, dtype=torch.float32)\n",
      "Epoch 75 Training: 100%|███████████████████████████████████████████████████| 11/11 [00:13<00:00,  1.25s/it, loss=0.557]\n",
      "Epoch 75 Validation: 100%|████████████████████████████████████████████████████| 3/3 [00:01<00:00,  1.94it/s, loss=6.78]\n"
     ]
    },
    {
     "name": "stdout",
     "output_type": "stream",
     "text": [
      "Epoch 75: Train Loss=0.6331, Val Loss=8.7829\n",
      "Mean F1 Score: 0.7191, Mean Accuracy: 0.7772, Mean Precision: 0.6529, Mean Recall: 0.8031\n"
     ]
    },
    {
     "name": "stderr",
     "output_type": "stream",
     "text": [
      "C:\\Users\\udays\\AppData\\Local\\Temp\\ipykernel_22228\\3925381797.py:80: FutureWarning: Series.__getitem__ treating keys as positions is deprecated. In a future version, integer keys will always be treated as labels (consistent with DataFrame behavior). To access a value by position, use `ser.iloc[pos]`\n",
      "  'labels': torch.tensor(label, dtype=torch.float32)\n",
      "Epoch 76 Training: 100%|███████████████████████████████████████████████████| 11/11 [00:13<00:00,  1.22s/it, loss=0.388]\n",
      "Epoch 76 Validation: 100%|████████████████████████████████████████████████████| 3/3 [00:01<00:00,  1.82it/s, loss=6.83]\n"
     ]
    },
    {
     "name": "stdout",
     "output_type": "stream",
     "text": [
      "Epoch 76: Train Loss=0.6068, Val Loss=8.8389\n",
      "Mean F1 Score: 0.7262, Mean Accuracy: 0.7849, Mean Precision: 0.6609, Mean Recall: 0.8074\n"
     ]
    },
    {
     "name": "stderr",
     "output_type": "stream",
     "text": [
      "C:\\Users\\udays\\AppData\\Local\\Temp\\ipykernel_22228\\3925381797.py:80: FutureWarning: Series.__getitem__ treating keys as positions is deprecated. In a future version, integer keys will always be treated as labels (consistent with DataFrame behavior). To access a value by position, use `ser.iloc[pos]`\n",
      "  'labels': torch.tensor(label, dtype=torch.float32)\n",
      "Epoch 77 Training: 100%|███████████████████████████████████████████████████| 11/11 [00:13<00:00,  1.22s/it, loss=0.203]\n",
      "Epoch 77 Validation: 100%|████████████████████████████████████████████████████| 3/3 [00:01<00:00,  1.96it/s, loss=6.72]\n"
     ]
    },
    {
     "name": "stdout",
     "output_type": "stream",
     "text": [
      "Epoch 77: Train Loss=0.5897, Val Loss=8.5840\n",
      "Mean F1 Score: 0.7285, Mean Accuracy: 0.7882, Mean Precision: 0.6657, Mean Recall: 0.8074\n"
     ]
    },
    {
     "name": "stderr",
     "output_type": "stream",
     "text": [
      "C:\\Users\\udays\\AppData\\Local\\Temp\\ipykernel_22228\\3925381797.py:80: FutureWarning: Series.__getitem__ treating keys as positions is deprecated. In a future version, integer keys will always be treated as labels (consistent with DataFrame behavior). To access a value by position, use `ser.iloc[pos]`\n",
      "  'labels': torch.tensor(label, dtype=torch.float32)\n",
      "Epoch 78 Training: 100%|███████████████████████████████████████████████████| 11/11 [00:13<00:00,  1.25s/it, loss=0.151]\n",
      "Epoch 78 Validation: 100%|████████████████████████████████████████████████████| 3/3 [00:01<00:00,  1.96it/s, loss=6.73]\n"
     ]
    },
    {
     "name": "stdout",
     "output_type": "stream",
     "text": [
      "Epoch 78: Train Loss=0.5813, Val Loss=8.3338\n",
      "Mean F1 Score: 0.7208, Mean Accuracy: 0.7938, Mean Precision: 0.6725, Mean Recall: 0.7843\n"
     ]
    },
    {
     "name": "stderr",
     "output_type": "stream",
     "text": [
      "C:\\Users\\udays\\AppData\\Local\\Temp\\ipykernel_22228\\3925381797.py:80: FutureWarning: Series.__getitem__ treating keys as positions is deprecated. In a future version, integer keys will always be treated as labels (consistent with DataFrame behavior). To access a value by position, use `ser.iloc[pos]`\n",
      "  'labels': torch.tensor(label, dtype=torch.float32)\n",
      "Epoch 79 Training: 100%|███████████████████████████████████████████████████| 11/11 [00:13<00:00,  1.25s/it, loss=0.149]\n",
      "Epoch 79 Validation: 100%|████████████████████████████████████████████████████| 3/3 [00:01<00:00,  1.83it/s, loss=6.98]\n"
     ]
    },
    {
     "name": "stdout",
     "output_type": "stream",
     "text": [
      "Epoch 79: Train Loss=0.5668, Val Loss=9.0027\n",
      "Mean F1 Score: 0.7186, Mean Accuracy: 0.7761, Mean Precision: 0.6534, Mean Recall: 0.8033\n"
     ]
    },
    {
     "name": "stderr",
     "output_type": "stream",
     "text": [
      "C:\\Users\\udays\\AppData\\Local\\Temp\\ipykernel_22228\\3925381797.py:80: FutureWarning: Series.__getitem__ treating keys as positions is deprecated. In a future version, integer keys will always be treated as labels (consistent with DataFrame behavior). To access a value by position, use `ser.iloc[pos]`\n",
      "  'labels': torch.tensor(label, dtype=torch.float32)\n",
      "Epoch 80 Training: 100%|███████████████████████████████████████████████████| 11/11 [00:13<00:00,  1.20s/it, loss=0.219]\n",
      "Epoch 80 Validation: 100%|█████████████████████████████████████████████████████| 3/3 [00:01<00:00,  2.06it/s, loss=7.5]\n"
     ]
    },
    {
     "name": "stdout",
     "output_type": "stream",
     "text": [
      "Epoch 80: Train Loss=0.5774, Val Loss=8.0856\n",
      "Mean F1 Score: 0.7083, Mean Accuracy: 0.7827, Mean Precision: 0.6896, Mean Recall: 0.7307\n"
     ]
    },
    {
     "name": "stderr",
     "output_type": "stream",
     "text": [
      "C:\\Users\\udays\\AppData\\Local\\Temp\\ipykernel_22228\\3925381797.py:80: FutureWarning: Series.__getitem__ treating keys as positions is deprecated. In a future version, integer keys will always be treated as labels (consistent with DataFrame behavior). To access a value by position, use `ser.iloc[pos]`\n",
      "  'labels': torch.tensor(label, dtype=torch.float32)\n",
      "Epoch 81 Training: 100%|███████████████████████████████████████████████████| 11/11 [00:13<00:00,  1.21s/it, loss=0.728]\n",
      "Epoch 81 Validation: 100%|████████████████████████████████████████████████████| 3/3 [00:01<00:00,  1.91it/s, loss=7.26]\n"
     ]
    },
    {
     "name": "stdout",
     "output_type": "stream",
     "text": [
      "Epoch 81: Train Loss=0.6304, Val Loss=8.6895\n",
      "Mean F1 Score: 0.7115, Mean Accuracy: 0.7727, Mean Precision: 0.6516, Mean Recall: 0.7866\n"
     ]
    },
    {
     "name": "stderr",
     "output_type": "stream",
     "text": [
      "C:\\Users\\udays\\AppData\\Local\\Temp\\ipykernel_22228\\3925381797.py:80: FutureWarning: Series.__getitem__ treating keys as positions is deprecated. In a future version, integer keys will always be treated as labels (consistent with DataFrame behavior). To access a value by position, use `ser.iloc[pos]`\n",
      "  'labels': torch.tensor(label, dtype=torch.float32)\n",
      "Epoch 82 Training: 100%|███████████████████████████████████████████████████| 11/11 [00:13<00:00,  1.25s/it, loss=0.173]\n",
      "Epoch 82 Validation: 100%|████████████████████████████████████████████████████| 3/3 [00:01<00:00,  1.99it/s, loss=6.46]\n"
     ]
    },
    {
     "name": "stdout",
     "output_type": "stream",
     "text": [
      "Epoch 82: Train Loss=0.5791, Val Loss=8.1952\n",
      "Mean F1 Score: 0.7293, Mean Accuracy: 0.7949, Mean Precision: 0.6720, Mean Recall: 0.8014\n"
     ]
    },
    {
     "name": "stderr",
     "output_type": "stream",
     "text": [
      "C:\\Users\\udays\\AppData\\Local\\Temp\\ipykernel_22228\\3925381797.py:80: FutureWarning: Series.__getitem__ treating keys as positions is deprecated. In a future version, integer keys will always be treated as labels (consistent with DataFrame behavior). To access a value by position, use `ser.iloc[pos]`\n",
      "  'labels': torch.tensor(label, dtype=torch.float32)\n",
      "Epoch 83 Training: 100%|███████████████████████████████████████████████████| 11/11 [00:13<00:00,  1.20s/it, loss=0.742]\n",
      "Epoch 83 Validation: 100%|████████████████████████████████████████████████████| 3/3 [00:01<00:00,  1.90it/s, loss=7.73]\n"
     ]
    },
    {
     "name": "stdout",
     "output_type": "stream",
     "text": [
      "Epoch 83: Train Loss=0.6135, Val Loss=7.0614\n",
      "Mean F1 Score: 0.7003, Mean Accuracy: 0.7882, Mean Precision: 0.7143, Mean Recall: 0.7018\n"
     ]
    },
    {
     "name": "stderr",
     "output_type": "stream",
     "text": [
      "C:\\Users\\udays\\AppData\\Local\\Temp\\ipykernel_22228\\3925381797.py:80: FutureWarning: Series.__getitem__ treating keys as positions is deprecated. In a future version, integer keys will always be treated as labels (consistent with DataFrame behavior). To access a value by position, use `ser.iloc[pos]`\n",
      "  'labels': torch.tensor(label, dtype=torch.float32)\n",
      "Epoch 84 Training: 100%|███████████████████████████████████████████████████| 11/11 [00:13<00:00,  1.22s/it, loss=0.275]\n",
      "Epoch 84 Validation: 100%|████████████████████████████████████████████████████| 3/3 [00:01<00:00,  1.96it/s, loss=7.49]\n"
     ]
    },
    {
     "name": "stdout",
     "output_type": "stream",
     "text": [
      "Epoch 84: Train Loss=0.5916, Val Loss=9.8587\n",
      "Mean F1 Score: 0.7177, Mean Accuracy: 0.7639, Mean Precision: 0.6433, Mean Recall: 0.8132\n"
     ]
    },
    {
     "name": "stderr",
     "output_type": "stream",
     "text": [
      "C:\\Users\\udays\\AppData\\Local\\Temp\\ipykernel_22228\\3925381797.py:80: FutureWarning: Series.__getitem__ treating keys as positions is deprecated. In a future version, integer keys will always be treated as labels (consistent with DataFrame behavior). To access a value by position, use `ser.iloc[pos]`\n",
      "  'labels': torch.tensor(label, dtype=torch.float32)\n",
      "Epoch 85 Training: 100%|███████████████████████████████████████████████████| 11/11 [00:13<00:00,  1.21s/it, loss=0.851]\n",
      "Epoch 85 Validation: 100%|████████████████████████████████████████████████████| 3/3 [00:01<00:00,  1.78it/s, loss=9.15]\n"
     ]
    },
    {
     "name": "stdout",
     "output_type": "stream",
     "text": [
      "Epoch 85: Train Loss=0.6195, Val Loss=9.0695\n",
      "Mean F1 Score: 0.7043, Mean Accuracy: 0.7727, Mean Precision: 0.6862, Mean Recall: 0.7243\n"
     ]
    },
    {
     "name": "stderr",
     "output_type": "stream",
     "text": [
      "C:\\Users\\udays\\AppData\\Local\\Temp\\ipykernel_22228\\3925381797.py:80: FutureWarning: Series.__getitem__ treating keys as positions is deprecated. In a future version, integer keys will always be treated as labels (consistent with DataFrame behavior). To access a value by position, use `ser.iloc[pos]`\n",
      "  'labels': torch.tensor(label, dtype=torch.float32)\n",
      "Epoch 86 Training: 100%|███████████████████████████████████████████████████| 11/11 [00:13<00:00,  1.23s/it, loss=0.582]\n",
      "Epoch 86 Validation: 100%|████████████████████████████████████████████████████| 3/3 [00:01<00:00,  1.81it/s, loss=7.67]\n"
     ]
    },
    {
     "name": "stdout",
     "output_type": "stream",
     "text": [
      "Epoch 86: Train Loss=0.5980, Val Loss=9.5521\n",
      "Mean F1 Score: 0.7299, Mean Accuracy: 0.7805, Mean Precision: 0.6684, Mean Recall: 0.8042\n"
     ]
    },
    {
     "name": "stderr",
     "output_type": "stream",
     "text": [
      "C:\\Users\\udays\\AppData\\Local\\Temp\\ipykernel_22228\\3925381797.py:80: FutureWarning: Series.__getitem__ treating keys as positions is deprecated. In a future version, integer keys will always be treated as labels (consistent with DataFrame behavior). To access a value by position, use `ser.iloc[pos]`\n",
      "  'labels': torch.tensor(label, dtype=torch.float32)\n",
      "Epoch 87 Training: 100%|███████████████████████████████████████████████████| 11/11 [00:13<00:00,  1.23s/it, loss=0.265]\n",
      "Epoch 87 Validation: 100%|████████████████████████████████████████████████████| 3/3 [00:01<00:00,  1.83it/s, loss=7.94]\n"
     ]
    },
    {
     "name": "stdout",
     "output_type": "stream",
     "text": [
      "Epoch 87: Train Loss=0.5466, Val Loss=8.3135\n",
      "Mean F1 Score: 0.7113, Mean Accuracy: 0.7838, Mean Precision: 0.6843, Mean Recall: 0.7437\n"
     ]
    },
    {
     "name": "stderr",
     "output_type": "stream",
     "text": [
      "C:\\Users\\udays\\AppData\\Local\\Temp\\ipykernel_22228\\3925381797.py:80: FutureWarning: Series.__getitem__ treating keys as positions is deprecated. In a future version, integer keys will always be treated as labels (consistent with DataFrame behavior). To access a value by position, use `ser.iloc[pos]`\n",
      "  'labels': torch.tensor(label, dtype=torch.float32)\n",
      "Epoch 88 Training: 100%|███████████████████████████████████████████████████| 11/11 [00:13<00:00,  1.24s/it, loss=0.812]\n",
      "Epoch 88 Validation: 100%|████████████████████████████████████████████████████| 3/3 [00:01<00:00,  1.88it/s, loss=7.29]\n"
     ]
    },
    {
     "name": "stdout",
     "output_type": "stream",
     "text": [
      "Epoch 88: Train Loss=0.5788, Val Loss=8.7335\n",
      "Mean F1 Score: 0.7188, Mean Accuracy: 0.7871, Mean Precision: 0.6699, Mean Recall: 0.7777\n"
     ]
    },
    {
     "name": "stderr",
     "output_type": "stream",
     "text": [
      "C:\\Users\\udays\\AppData\\Local\\Temp\\ipykernel_22228\\3925381797.py:80: FutureWarning: Series.__getitem__ treating keys as positions is deprecated. In a future version, integer keys will always be treated as labels (consistent with DataFrame behavior). To access a value by position, use `ser.iloc[pos]`\n",
      "  'labels': torch.tensor(label, dtype=torch.float32)\n",
      "Epoch 89 Training: 100%|███████████████████████████████████████████████████| 11/11 [00:13<00:00,  1.25s/it, loss=0.728]\n",
      "Epoch 89 Validation: 100%|████████████████████████████████████████████████████| 3/3 [00:01<00:00,  2.12it/s, loss=7.63]\n"
     ]
    },
    {
     "name": "stdout",
     "output_type": "stream",
     "text": [
      "Epoch 89: Train Loss=0.5534, Val Loss=8.6889\n",
      "Mean F1 Score: 0.7297, Mean Accuracy: 0.7938, Mean Precision: 0.6904, Mean Recall: 0.7745\n"
     ]
    },
    {
     "name": "stderr",
     "output_type": "stream",
     "text": [
      "C:\\Users\\udays\\AppData\\Local\\Temp\\ipykernel_22228\\3925381797.py:80: FutureWarning: Series.__getitem__ treating keys as positions is deprecated. In a future version, integer keys will always be treated as labels (consistent with DataFrame behavior). To access a value by position, use `ser.iloc[pos]`\n",
      "  'labels': torch.tensor(label, dtype=torch.float32)\n",
      "Epoch 90 Training: 100%|███████████████████████████████████████████████████| 11/11 [00:13<00:00,  1.25s/it, loss=0.171]\n",
      "Epoch 90 Validation: 100%|█████████████████████████████████████████████████████| 3/3 [00:01<00:00,  1.98it/s, loss=8.7]\n"
     ]
    },
    {
     "name": "stdout",
     "output_type": "stream",
     "text": [
      "Epoch 90: Train Loss=0.5044, Val Loss=8.7881\n",
      "Mean F1 Score: 0.7138, Mean Accuracy: 0.7871, Mean Precision: 0.6888, Mean Recall: 0.7436\n"
     ]
    },
    {
     "name": "stderr",
     "output_type": "stream",
     "text": [
      "C:\\Users\\udays\\AppData\\Local\\Temp\\ipykernel_22228\\3925381797.py:80: FutureWarning: Series.__getitem__ treating keys as positions is deprecated. In a future version, integer keys will always be treated as labels (consistent with DataFrame behavior). To access a value by position, use `ser.iloc[pos]`\n",
      "  'labels': torch.tensor(label, dtype=torch.float32)\n",
      "Epoch 91 Training: 100%|███████████████████████████████████████████████████| 11/11 [00:13<00:00,  1.24s/it, loss=0.149]\n",
      "Epoch 91 Validation: 100%|████████████████████████████████████████████████████| 3/3 [00:01<00:00,  1.84it/s, loss=7.63]\n"
     ]
    },
    {
     "name": "stdout",
     "output_type": "stream",
     "text": [
      "Epoch 91: Train Loss=0.4967, Val Loss=9.2918\n",
      "Mean F1 Score: 0.7302, Mean Accuracy: 0.7838, Mean Precision: 0.6664, Mean Recall: 0.8085\n"
     ]
    },
    {
     "name": "stderr",
     "output_type": "stream",
     "text": [
      "C:\\Users\\udays\\AppData\\Local\\Temp\\ipykernel_22228\\3925381797.py:80: FutureWarning: Series.__getitem__ treating keys as positions is deprecated. In a future version, integer keys will always be treated as labels (consistent with DataFrame behavior). To access a value by position, use `ser.iloc[pos]`\n",
      "  'labels': torch.tensor(label, dtype=torch.float32)\n",
      "Epoch 92 Training: 100%|███████████████████████████████████████████████████| 11/11 [00:13<00:00,  1.24s/it, loss=0.198]\n",
      "Epoch 92 Validation: 100%|████████████████████████████████████████████████████| 3/3 [00:01<00:00,  1.72it/s, loss=8.73]\n"
     ]
    },
    {
     "name": "stdout",
     "output_type": "stream",
     "text": [
      "Epoch 92: Train Loss=0.4939, Val Loss=8.9478\n",
      "Mean F1 Score: 0.7021, Mean Accuracy: 0.7816, Mean Precision: 0.6787, Mean Recall: 0.7336\n"
     ]
    },
    {
     "name": "stderr",
     "output_type": "stream",
     "text": [
      "C:\\Users\\udays\\AppData\\Local\\Temp\\ipykernel_22228\\3925381797.py:80: FutureWarning: Series.__getitem__ treating keys as positions is deprecated. In a future version, integer keys will always be treated as labels (consistent with DataFrame behavior). To access a value by position, use `ser.iloc[pos]`\n",
      "  'labels': torch.tensor(label, dtype=torch.float32)\n",
      "Epoch 93 Training: 100%|███████████████████████████████████████████████████| 11/11 [00:13<00:00,  1.26s/it, loss=0.442]\n",
      "Epoch 93 Validation: 100%|████████████████████████████████████████████████████| 3/3 [00:01<00:00,  1.97it/s, loss=8.01]\n"
     ]
    },
    {
     "name": "stdout",
     "output_type": "stream",
     "text": [
      "Epoch 93: Train Loss=0.5025, Val Loss=9.4830\n",
      "Mean F1 Score: 0.7328, Mean Accuracy: 0.7916, Mean Precision: 0.6821, Mean Recall: 0.7924\n"
     ]
    },
    {
     "name": "stderr",
     "output_type": "stream",
     "text": [
      "C:\\Users\\udays\\AppData\\Local\\Temp\\ipykernel_22228\\3925381797.py:80: FutureWarning: Series.__getitem__ treating keys as positions is deprecated. In a future version, integer keys will always be treated as labels (consistent with DataFrame behavior). To access a value by position, use `ser.iloc[pos]`\n",
      "  'labels': torch.tensor(label, dtype=torch.float32)\n",
      "Epoch 94 Training: 100%|██████████████████████████████████████████████████| 11/11 [00:13<00:00,  1.22s/it, loss=0.0919]\n",
      "Epoch 94 Validation: 100%|████████████████████████████████████████████████████| 3/3 [00:01<00:00,  1.84it/s, loss=8.17]\n"
     ]
    },
    {
     "name": "stdout",
     "output_type": "stream",
     "text": [
      "Epoch 94: Train Loss=0.4665, Val Loss=9.3723\n",
      "Mean F1 Score: 0.7200, Mean Accuracy: 0.7805, Mean Precision: 0.6724, Mean Recall: 0.7770\n"
     ]
    },
    {
     "name": "stderr",
     "output_type": "stream",
     "text": [
      "C:\\Users\\udays\\AppData\\Local\\Temp\\ipykernel_22228\\3925381797.py:80: FutureWarning: Series.__getitem__ treating keys as positions is deprecated. In a future version, integer keys will always be treated as labels (consistent with DataFrame behavior). To access a value by position, use `ser.iloc[pos]`\n",
      "  'labels': torch.tensor(label, dtype=torch.float32)\n",
      "Epoch 95 Training: 100%|███████████████████████████████████████████████████| 11/11 [00:13<00:00,  1.25s/it, loss=0.708]\n",
      "Epoch 95 Validation: 100%|████████████████████████████████████████████████████| 3/3 [00:01<00:00,  1.94it/s, loss=8.81]\n"
     ]
    },
    {
     "name": "stdout",
     "output_type": "stream",
     "text": [
      "Epoch 95: Train Loss=0.5041, Val Loss=9.5334\n",
      "Mean F1 Score: 0.7208, Mean Accuracy: 0.7827, Mean Precision: 0.6856, Mean Recall: 0.7606\n"
     ]
    },
    {
     "name": "stderr",
     "output_type": "stream",
     "text": [
      "C:\\Users\\udays\\AppData\\Local\\Temp\\ipykernel_22228\\3925381797.py:80: FutureWarning: Series.__getitem__ treating keys as positions is deprecated. In a future version, integer keys will always be treated as labels (consistent with DataFrame behavior). To access a value by position, use `ser.iloc[pos]`\n",
      "  'labels': torch.tensor(label, dtype=torch.float32)\n",
      "Epoch 96 Training: 100%|██████████████████████████████████████████████████| 11/11 [00:12<00:00,  1.17s/it, loss=0.0791]\n",
      "Epoch 96 Validation: 100%|████████████████████████████████████████████████████| 3/3 [00:01<00:00,  1.80it/s, loss=7.85]\n"
     ]
    },
    {
     "name": "stdout",
     "output_type": "stream",
     "text": [
      "Epoch 96: Train Loss=0.4500, Val Loss=9.3870\n",
      "Mean F1 Score: 0.7296, Mean Accuracy: 0.7860, Mean Precision: 0.6768, Mean Recall: 0.7924\n"
     ]
    },
    {
     "name": "stderr",
     "output_type": "stream",
     "text": [
      "C:\\Users\\udays\\AppData\\Local\\Temp\\ipykernel_22228\\3925381797.py:80: FutureWarning: Series.__getitem__ treating keys as positions is deprecated. In a future version, integer keys will always be treated as labels (consistent with DataFrame behavior). To access a value by position, use `ser.iloc[pos]`\n",
      "  'labels': torch.tensor(label, dtype=torch.float32)\n",
      "Epoch 97 Training: 100%|███████████████████████████████████████████████████| 11/11 [00:13<00:00,  1.25s/it, loss=0.118]\n",
      "Epoch 97 Validation: 100%|████████████████████████████████████████████████████| 3/3 [00:01<00:00,  2.03it/s, loss=7.83]\n"
     ]
    },
    {
     "name": "stdout",
     "output_type": "stream",
     "text": [
      "Epoch 97: Train Loss=0.4461, Val Loss=9.3111\n",
      "Mean F1 Score: 0.7266, Mean Accuracy: 0.7905, Mean Precision: 0.6784, Mean Recall: 0.7841\n"
     ]
    },
    {
     "name": "stderr",
     "output_type": "stream",
     "text": [
      "C:\\Users\\udays\\AppData\\Local\\Temp\\ipykernel_22228\\3925381797.py:80: FutureWarning: Series.__getitem__ treating keys as positions is deprecated. In a future version, integer keys will always be treated as labels (consistent with DataFrame behavior). To access a value by position, use `ser.iloc[pos]`\n",
      "  'labels': torch.tensor(label, dtype=torch.float32)\n",
      "Epoch 98 Training: 100%|██████████████████████████████████████████████████| 11/11 [00:13<00:00,  1.19s/it, loss=0.0956]\n",
      "Epoch 98 Validation: 100%|████████████████████████████████████████████████████| 3/3 [00:01<00:00,  1.77it/s, loss=7.88]\n"
     ]
    },
    {
     "name": "stdout",
     "output_type": "stream",
     "text": [
      "Epoch 98: Train Loss=0.4346, Val Loss=9.6576\n",
      "Mean F1 Score: 0.7312, Mean Accuracy: 0.7849, Mean Precision: 0.6694, Mean Recall: 0.8067\n"
     ]
    },
    {
     "name": "stderr",
     "output_type": "stream",
     "text": [
      "C:\\Users\\udays\\AppData\\Local\\Temp\\ipykernel_22228\\3925381797.py:80: FutureWarning: Series.__getitem__ treating keys as positions is deprecated. In a future version, integer keys will always be treated as labels (consistent with DataFrame behavior). To access a value by position, use `ser.iloc[pos]`\n",
      "  'labels': torch.tensor(label, dtype=torch.float32)\n",
      "Epoch 99 Training: 100%|████████████████████████████████████████████████████| 11/11 [00:13<00:00,  1.24s/it, loss=1.31]\n",
      "Epoch 99 Validation: 100%|████████████████████████████████████████████████████| 3/3 [00:01<00:00,  1.98it/s, loss=8.37]\n"
     ]
    },
    {
     "name": "stdout",
     "output_type": "stream",
     "text": [
      "Epoch 99: Train Loss=0.5319, Val Loss=9.4134\n",
      "Mean F1 Score: 0.7218, Mean Accuracy: 0.7838, Mean Precision: 0.6765, Mean Recall: 0.7770\n"
     ]
    },
    {
     "name": "stderr",
     "output_type": "stream",
     "text": [
      "C:\\Users\\udays\\AppData\\Local\\Temp\\ipykernel_22228\\3925381797.py:80: FutureWarning: Series.__getitem__ treating keys as positions is deprecated. In a future version, integer keys will always be treated as labels (consistent with DataFrame behavior). To access a value by position, use `ser.iloc[pos]`\n",
      "  'labels': torch.tensor(label, dtype=torch.float32)\n",
      "Epoch 100 Training: 100%|██████████████████████████████████████████████████| 11/11 [00:13<00:00,  1.20s/it, loss=0.229]\n",
      "Epoch 100 Validation: 100%|███████████████████████████████████████████████████| 3/3 [00:01<00:00,  1.86it/s, loss=9.22]\n"
     ]
    },
    {
     "name": "stdout",
     "output_type": "stream",
     "text": [
      "Epoch 100: Train Loss=0.4435, Val Loss=9.7005\n",
      "Mean F1 Score: 0.7250, Mean Accuracy: 0.7860, Mean Precision: 0.6901, Mean Recall: 0.7642\n",
      "Training fold 2...\n"
     ]
    },
    {
     "name": "stderr",
     "output_type": "stream",
     "text": [
      "C:\\Users\\udays\\AppData\\Local\\Temp\\ipykernel_22228\\3925381797.py:80: FutureWarning: Series.__getitem__ treating keys as positions is deprecated. In a future version, integer keys will always be treated as labels (consistent with DataFrame behavior). To access a value by position, use `ser.iloc[pos]`\n",
      "  'labels': torch.tensor(label, dtype=torch.float32)\n",
      "Epoch 1 Training: 100%|█████████████████████████████████████████████████████| 11/11 [00:13<00:00,  1.22s/it, loss=6.87]\n",
      "Epoch 1 Validation: 100%|█████████████████████████████████████████████████████| 3/3 [00:01<00:00,  1.80it/s, loss=6.45]\n"
     ]
    },
    {
     "name": "stdout",
     "output_type": "stream",
     "text": [
      "Epoch 1: Train Loss=7.2332, Val Loss=6.6883\n",
      "Mean F1 Score: 0.7452, Mean Accuracy: 0.7428, Mean Precision: 0.7508, Mean Recall: 0.8944\n",
      "New best model saved for fold 2 with F1=0.7452\n"
     ]
    },
    {
     "name": "stderr",
     "output_type": "stream",
     "text": [
      "C:\\Users\\udays\\AppData\\Local\\Temp\\ipykernel_22228\\3925381797.py:80: FutureWarning: Series.__getitem__ treating keys as positions is deprecated. In a future version, integer keys will always be treated as labels (consistent with DataFrame behavior). To access a value by position, use `ser.iloc[pos]`\n",
      "  'labels': torch.tensor(label, dtype=torch.float32)\n",
      "Epoch 2 Training: 100%|██████████████████████████████████████████████████████| 11/11 [00:13<00:00,  1.23s/it, loss=5.9]\n",
      "Epoch 2 Validation: 100%|█████████████████████████████████████████████████████| 3/3 [00:01<00:00,  1.55it/s, loss=5.48]\n"
     ]
    },
    {
     "name": "stdout",
     "output_type": "stream",
     "text": [
      "Epoch 2: Train Loss=6.2711, Val Loss=5.7919\n",
      "Mean F1 Score: 0.8641, Mean Accuracy: 0.8725, Mean Precision: 0.8562, Mean Recall: 0.9363\n",
      "New best model saved for fold 2 with F1=0.8641\n"
     ]
    },
    {
     "name": "stderr",
     "output_type": "stream",
     "text": [
      "C:\\Users\\udays\\AppData\\Local\\Temp\\ipykernel_22228\\3925381797.py:80: FutureWarning: Series.__getitem__ treating keys as positions is deprecated. In a future version, integer keys will always be treated as labels (consistent with DataFrame behavior). To access a value by position, use `ser.iloc[pos]`\n",
      "  'labels': torch.tensor(label, dtype=torch.float32)\n",
      "Epoch 3 Training: 100%|█████████████████████████████████████████████████████| 11/11 [00:13<00:00,  1.24s/it, loss=5.56]\n",
      "Epoch 3 Validation: 100%|█████████████████████████████████████████████████████| 3/3 [00:01<00:00,  1.68it/s, loss=4.67]\n"
     ]
    },
    {
     "name": "stdout",
     "output_type": "stream",
     "text": [
      "Epoch 3: Train Loss=5.5706, Val Loss=4.9518\n",
      "Mean F1 Score: 0.9277, Mean Accuracy: 0.9346, Mean Precision: 0.9615, Mean Recall: 0.9085\n",
      "New best model saved for fold 2 with F1=0.9277\n"
     ]
    },
    {
     "name": "stderr",
     "output_type": "stream",
     "text": [
      "C:\\Users\\udays\\AppData\\Local\\Temp\\ipykernel_22228\\3925381797.py:80: FutureWarning: Series.__getitem__ treating keys as positions is deprecated. In a future version, integer keys will always be treated as labels (consistent with DataFrame behavior). To access a value by position, use `ser.iloc[pos]`\n",
      "  'labels': torch.tensor(label, dtype=torch.float32)\n",
      "Epoch 4 Training: 100%|█████████████████████████████████████████████████████| 11/11 [00:13<00:00,  1.19s/it, loss=4.02]\n",
      "Epoch 4 Validation: 100%|█████████████████████████████████████████████████████| 3/3 [00:01<00:00,  1.51it/s, loss=3.98]\n"
     ]
    },
    {
     "name": "stdout",
     "output_type": "stream",
     "text": [
      "Epoch 4: Train Loss=4.7827, Val Loss=4.3733\n",
      "Mean F1 Score: 0.8625, Mean Accuracy: 0.9279, Mean Precision: 0.8556, Mean Recall: 0.8732\n"
     ]
    },
    {
     "name": "stderr",
     "output_type": "stream",
     "text": [
      "C:\\Users\\udays\\AppData\\Local\\Temp\\ipykernel_22228\\3925381797.py:80: FutureWarning: Series.__getitem__ treating keys as positions is deprecated. In a future version, integer keys will always be treated as labels (consistent with DataFrame behavior). To access a value by position, use `ser.iloc[pos]`\n",
      "  'labels': torch.tensor(label, dtype=torch.float32)\n",
      "Epoch 5 Training: 100%|█████████████████████████████████████████████████████| 11/11 [00:12<00:00,  1.16s/it, loss=3.98]\n",
      "Epoch 5 Validation: 100%|█████████████████████████████████████████████████████| 3/3 [00:01<00:00,  1.57it/s, loss=3.44]\n"
     ]
    },
    {
     "name": "stdout",
     "output_type": "stream",
     "text": [
      "Epoch 5: Train Loss=4.0978, Val Loss=3.8539\n",
      "Mean F1 Score: 0.8681, Mean Accuracy: 0.9357, Mean Precision: 0.8707, Mean Recall: 0.8685\n"
     ]
    },
    {
     "name": "stderr",
     "output_type": "stream",
     "text": [
      "C:\\Users\\udays\\AppData\\Local\\Temp\\ipykernel_22228\\3925381797.py:80: FutureWarning: Series.__getitem__ treating keys as positions is deprecated. In a future version, integer keys will always be treated as labels (consistent with DataFrame behavior). To access a value by position, use `ser.iloc[pos]`\n",
      "  'labels': torch.tensor(label, dtype=torch.float32)\n",
      "Epoch 6 Training: 100%|█████████████████████████████████████████████████████| 11/11 [00:12<00:00,  1.16s/it, loss=3.41]\n",
      "Epoch 6 Validation: 100%|█████████████████████████████████████████████████████| 3/3 [00:02<00:00,  1.48it/s, loss=3.01]\n"
     ]
    },
    {
     "name": "stdout",
     "output_type": "stream",
     "text": [
      "Epoch 6: Train Loss=3.6065, Val Loss=3.5052\n",
      "Mean F1 Score: 0.8660, Mean Accuracy: 0.9324, Mean Precision: 0.8602, Mean Recall: 0.8744\n"
     ]
    },
    {
     "name": "stderr",
     "output_type": "stream",
     "text": [
      "C:\\Users\\udays\\AppData\\Local\\Temp\\ipykernel_22228\\3925381797.py:80: FutureWarning: Series.__getitem__ treating keys as positions is deprecated. In a future version, integer keys will always be treated as labels (consistent with DataFrame behavior). To access a value by position, use `ser.iloc[pos]`\n",
      "  'labels': torch.tensor(label, dtype=torch.float32)\n",
      "Epoch 7 Training: 100%|█████████████████████████████████████████████████████| 11/11 [00:13<00:00,  1.20s/it, loss=2.61]\n",
      "Epoch 7 Validation: 100%|█████████████████████████████████████████████████████| 3/3 [00:02<00:00,  1.49it/s, loss=2.68]\n"
     ]
    },
    {
     "name": "stdout",
     "output_type": "stream",
     "text": [
      "Epoch 7: Train Loss=3.1565, Val Loss=3.1197\n",
      "Mean F1 Score: 0.8701, Mean Accuracy: 0.9379, Mean Precision: 0.8786, Mean Recall: 0.8640\n"
     ]
    },
    {
     "name": "stderr",
     "output_type": "stream",
     "text": [
      "C:\\Users\\udays\\AppData\\Local\\Temp\\ipykernel_22228\\3925381797.py:80: FutureWarning: Series.__getitem__ treating keys as positions is deprecated. In a future version, integer keys will always be treated as labels (consistent with DataFrame behavior). To access a value by position, use `ser.iloc[pos]`\n",
      "  'labels': torch.tensor(label, dtype=torch.float32)\n",
      "Epoch 8 Training: 100%|█████████████████████████████████████████████████████| 11/11 [00:13<00:00,  1.23s/it, loss=3.15]\n",
      "Epoch 8 Validation: 100%|█████████████████████████████████████████████████████| 3/3 [00:01<00:00,  1.50it/s, loss=2.42]\n"
     ]
    },
    {
     "name": "stdout",
     "output_type": "stream",
     "text": [
      "Epoch 8: Train Loss=2.9831, Val Loss=3.0333\n",
      "Mean F1 Score: 0.8598, Mean Accuracy: 0.9235, Mean Precision: 0.8384, Mean Recall: 0.8849\n"
     ]
    },
    {
     "name": "stderr",
     "output_type": "stream",
     "text": [
      "C:\\Users\\udays\\AppData\\Local\\Temp\\ipykernel_22228\\3925381797.py:80: FutureWarning: Series.__getitem__ treating keys as positions is deprecated. In a future version, integer keys will always be treated as labels (consistent with DataFrame behavior). To access a value by position, use `ser.iloc[pos]`\n",
      "  'labels': torch.tensor(label, dtype=torch.float32)\n",
      "Epoch 9 Training: 100%|█████████████████████████████████████████████████████| 11/11 [00:13<00:00,  1.20s/it, loss=2.63]\n",
      "Epoch 9 Validation: 100%|██████████████████████████████████████████████████████| 3/3 [00:01<00:00,  1.56it/s, loss=2.2]\n"
     ]
    },
    {
     "name": "stdout",
     "output_type": "stream",
     "text": [
      "Epoch 9: Train Loss=2.6320, Val Loss=2.6830\n",
      "Mean F1 Score: 0.8709, Mean Accuracy: 0.9390, Mean Precision: 0.8755, Mean Recall: 0.8682\n"
     ]
    },
    {
     "name": "stderr",
     "output_type": "stream",
     "text": [
      "C:\\Users\\udays\\AppData\\Local\\Temp\\ipykernel_22228\\3925381797.py:80: FutureWarning: Series.__getitem__ treating keys as positions is deprecated. In a future version, integer keys will always be treated as labels (consistent with DataFrame behavior). To access a value by position, use `ser.iloc[pos]`\n",
      "  'labels': torch.tensor(label, dtype=torch.float32)\n",
      "Epoch 10 Training: 100%|████████████████████████████████████████████████████| 11/11 [00:12<00:00,  1.17s/it, loss=3.89]\n",
      "Epoch 10 Validation: 100%|████████████████████████████████████████████████████| 3/3 [00:01<00:00,  1.51it/s, loss=2.02]\n"
     ]
    },
    {
     "name": "stdout",
     "output_type": "stream",
     "text": [
      "Epoch 10: Train Loss=2.5488, Val Loss=2.5135\n",
      "Mean F1 Score: 0.8700, Mean Accuracy: 0.9379, Mean Precision: 0.8755, Mean Recall: 0.8667\n"
     ]
    },
    {
     "name": "stderr",
     "output_type": "stream",
     "text": [
      "C:\\Users\\udays\\AppData\\Local\\Temp\\ipykernel_22228\\3925381797.py:80: FutureWarning: Series.__getitem__ treating keys as positions is deprecated. In a future version, integer keys will always be treated as labels (consistent with DataFrame behavior). To access a value by position, use `ser.iloc[pos]`\n",
      "  'labels': torch.tensor(label, dtype=torch.float32)\n",
      "Epoch 11 Training: 100%|████████████████████████████████████████████████████| 11/11 [00:13<00:00,  1.20s/it, loss=2.83]\n",
      "Epoch 11 Validation: 100%|████████████████████████████████████████████████████| 3/3 [00:02<00:00,  1.42it/s, loss=1.89]\n"
     ]
    },
    {
     "name": "stdout",
     "output_type": "stream",
     "text": [
      "Epoch 11: Train Loss=2.3175, Val Loss=2.4184\n",
      "Mean F1 Score: 0.8716, Mean Accuracy: 0.9401, Mean Precision: 0.8710, Mean Recall: 0.8737\n"
     ]
    },
    {
     "name": "stderr",
     "output_type": "stream",
     "text": [
      "C:\\Users\\udays\\AppData\\Local\\Temp\\ipykernel_22228\\3925381797.py:80: FutureWarning: Series.__getitem__ treating keys as positions is deprecated. In a future version, integer keys will always be treated as labels (consistent with DataFrame behavior). To access a value by position, use `ser.iloc[pos]`\n",
      "  'labels': torch.tensor(label, dtype=torch.float32)\n",
      "Epoch 12 Training: 100%|████████████████████████████████████████████████████| 11/11 [00:13<00:00,  1.22s/it, loss=1.67]\n",
      "Epoch 12 Validation: 100%|████████████████████████████████████████████████████| 3/3 [00:01<00:00,  1.82it/s, loss=1.75]\n"
     ]
    },
    {
     "name": "stdout",
     "output_type": "stream",
     "text": [
      "Epoch 12: Train Loss=2.0989, Val Loss=2.2711\n",
      "Mean F1 Score: 0.8943, Mean Accuracy: 0.9412, Mean Precision: 0.9665, Mean Recall: 0.8824\n"
     ]
    },
    {
     "name": "stderr",
     "output_type": "stream",
     "text": [
      "C:\\Users\\udays\\AppData\\Local\\Temp\\ipykernel_22228\\3925381797.py:80: FutureWarning: Series.__getitem__ treating keys as positions is deprecated. In a future version, integer keys will always be treated as labels (consistent with DataFrame behavior). To access a value by position, use `ser.iloc[pos]`\n",
      "  'labels': torch.tensor(label, dtype=torch.float32)\n",
      "Epoch 13 Training: 100%|████████████████████████████████████████████████████| 11/11 [00:13<00:00,  1.22s/it, loss=1.72]\n",
      "Epoch 13 Validation: 100%|████████████████████████████████████████████████████| 3/3 [00:02<00:00,  1.46it/s, loss=1.64]\n"
     ]
    },
    {
     "name": "stdout",
     "output_type": "stream",
     "text": [
      "Epoch 13: Train Loss=1.9901, Val Loss=2.1624\n",
      "Mean F1 Score: 0.9136, Mean Accuracy: 0.9446, Mean Precision: 0.9682, Mean Recall: 0.8967\n"
     ]
    },
    {
     "name": "stderr",
     "output_type": "stream",
     "text": [
      "C:\\Users\\udays\\AppData\\Local\\Temp\\ipykernel_22228\\3925381797.py:80: FutureWarning: Series.__getitem__ treating keys as positions is deprecated. In a future version, integer keys will always be treated as labels (consistent with DataFrame behavior). To access a value by position, use `ser.iloc[pos]`\n",
      "  'labels': torch.tensor(label, dtype=torch.float32)\n",
      "Epoch 14 Training: 100%|████████████████████████████████████████████████████| 11/11 [00:13<00:00,  1.20s/it, loss=2.14]\n",
      "Epoch 14 Validation: 100%|████████████████████████████████████████████████████| 3/3 [00:01<00:00,  1.59it/s, loss=1.54]\n"
     ]
    },
    {
     "name": "stdout",
     "output_type": "stream",
     "text": [
      "Epoch 14: Train Loss=1.9268, Val Loss=2.0758\n",
      "Mean F1 Score: 0.9280, Mean Accuracy: 0.9457, Mean Precision: 0.9669, Mean Recall: 0.9112\n",
      "New best model saved for fold 2 with F1=0.9280\n"
     ]
    },
    {
     "name": "stderr",
     "output_type": "stream",
     "text": [
      "C:\\Users\\udays\\AppData\\Local\\Temp\\ipykernel_22228\\3925381797.py:80: FutureWarning: Series.__getitem__ treating keys as positions is deprecated. In a future version, integer keys will always be treated as labels (consistent with DataFrame behavior). To access a value by position, use `ser.iloc[pos]`\n",
      "  'labels': torch.tensor(label, dtype=torch.float32)\n",
      "Epoch 15 Training: 100%|████████████████████████████████████████████████████| 11/11 [00:13<00:00,  1.24s/it, loss=1.35]\n",
      "Epoch 15 Validation: 100%|████████████████████████████████████████████████████| 3/3 [00:01<00:00,  1.50it/s, loss=1.45]\n"
     ]
    },
    {
     "name": "stdout",
     "output_type": "stream",
     "text": [
      "Epoch 15: Train Loss=1.7833, Val Loss=2.0056\n",
      "Mean F1 Score: 0.9484, Mean Accuracy: 0.9468, Mean Precision: 0.9653, Mean Recall: 0.9371\n",
      "New best model saved for fold 2 with F1=0.9484\n"
     ]
    },
    {
     "name": "stderr",
     "output_type": "stream",
     "text": [
      "C:\\Users\\udays\\AppData\\Local\\Temp\\ipykernel_22228\\3925381797.py:80: FutureWarning: Series.__getitem__ treating keys as positions is deprecated. In a future version, integer keys will always be treated as labels (consistent with DataFrame behavior). To access a value by position, use `ser.iloc[pos]`\n",
      "  'labels': torch.tensor(label, dtype=torch.float32)\n",
      "Epoch 16 Training: 100%|████████████████████████████████████████████████████| 11/11 [00:13<00:00,  1.24s/it, loss=1.38]\n",
      "Epoch 16 Validation: 100%|████████████████████████████████████████████████████| 3/3 [00:01<00:00,  1.66it/s, loss=1.37]\n"
     ]
    },
    {
     "name": "stdout",
     "output_type": "stream",
     "text": [
      "Epoch 16: Train Loss=1.7088, Val Loss=1.8994\n",
      "Mean F1 Score: 0.9492, Mean Accuracy: 0.9479, Mean Precision: 0.9669, Mean Recall: 0.9371\n",
      "New best model saved for fold 2 with F1=0.9492\n"
     ]
    },
    {
     "name": "stderr",
     "output_type": "stream",
     "text": [
      "C:\\Users\\udays\\AppData\\Local\\Temp\\ipykernel_22228\\3925381797.py:80: FutureWarning: Series.__getitem__ treating keys as positions is deprecated. In a future version, integer keys will always be treated as labels (consistent with DataFrame behavior). To access a value by position, use `ser.iloc[pos]`\n",
      "  'labels': torch.tensor(label, dtype=torch.float32)\n",
      "Epoch 17 Training: 100%|████████████████████████████████████████████████████| 11/11 [00:12<00:00,  1.18s/it, loss=2.07]\n",
      "Epoch 17 Validation: 100%|█████████████████████████████████████████████████████| 3/3 [00:01<00:00,  1.51it/s, loss=1.3]\n"
     ]
    },
    {
     "name": "stdout",
     "output_type": "stream",
     "text": [
      "Epoch 17: Train Loss=1.6733, Val Loss=1.8740\n",
      "Mean F1 Score: 0.9646, Mean Accuracy: 0.9501, Mean Precision: 0.9609, Mean Recall: 0.9691\n",
      "New best model saved for fold 2 with F1=0.9646\n"
     ]
    },
    {
     "name": "stderr",
     "output_type": "stream",
     "text": [
      "C:\\Users\\udays\\AppData\\Local\\Temp\\ipykernel_22228\\3925381797.py:80: FutureWarning: Series.__getitem__ treating keys as positions is deprecated. In a future version, integer keys will always be treated as labels (consistent with DataFrame behavior). To access a value by position, use `ser.iloc[pos]`\n",
      "  'labels': torch.tensor(label, dtype=torch.float32)\n",
      "Epoch 18 Training: 100%|████████████████████████████████████████████████████| 11/11 [00:13<00:00,  1.22s/it, loss=1.63]\n",
      "Epoch 18 Validation: 100%|████████████████████████████████████████████████████| 3/3 [00:02<00:00,  1.43it/s, loss=1.27]\n"
     ]
    },
    {
     "name": "stdout",
     "output_type": "stream",
     "text": [
      "Epoch 18: Train Loss=1.6039, Val Loss=1.7693\n",
      "Mean F1 Score: 0.9612, Mean Accuracy: 0.9490, Mean Precision: 0.9686, Mean Recall: 0.9554\n"
     ]
    },
    {
     "name": "stderr",
     "output_type": "stream",
     "text": [
      "C:\\Users\\udays\\AppData\\Local\\Temp\\ipykernel_22228\\3925381797.py:80: FutureWarning: Series.__getitem__ treating keys as positions is deprecated. In a future version, integer keys will always be treated as labels (consistent with DataFrame behavior). To access a value by position, use `ser.iloc[pos]`\n",
      "  'labels': torch.tensor(label, dtype=torch.float32)\n",
      "Epoch 19 Training: 100%|████████████████████████████████████████████████████| 11/11 [00:13<00:00,  1.22s/it, loss=1.15]\n",
      "Epoch 19 Validation: 100%|████████████████████████████████████████████████████| 3/3 [00:01<00:00,  1.56it/s, loss=1.18]\n"
     ]
    },
    {
     "name": "stdout",
     "output_type": "stream",
     "text": [
      "Epoch 19: Train Loss=1.5261, Val Loss=1.8773\n",
      "Mean F1 Score: 0.9482, Mean Accuracy: 0.9468, Mean Precision: 0.9459, Mean Recall: 0.9561\n"
     ]
    },
    {
     "name": "stderr",
     "output_type": "stream",
     "text": [
      "C:\\Users\\udays\\AppData\\Local\\Temp\\ipykernel_22228\\3925381797.py:80: FutureWarning: Series.__getitem__ treating keys as positions is deprecated. In a future version, integer keys will always be treated as labels (consistent with DataFrame behavior). To access a value by position, use `ser.iloc[pos]`\n",
      "  'labels': torch.tensor(label, dtype=torch.float32)\n",
      "Epoch 20 Training: 100%|███████████████████████████████████████████████████| 11/11 [00:13<00:00,  1.18s/it, loss=0.814]\n",
      "Epoch 20 Validation: 100%|████████████████████████████████████████████████████| 3/3 [00:01<00:00,  1.57it/s, loss=1.12]\n"
     ]
    },
    {
     "name": "stdout",
     "output_type": "stream",
     "text": [
      "Epoch 20: Train Loss=1.4241, Val Loss=1.6901\n",
      "Mean F1 Score: 0.9660, Mean Accuracy: 0.9523, Mean Precision: 0.9638, Mean Recall: 0.9691\n",
      "New best model saved for fold 2 with F1=0.9660\n"
     ]
    },
    {
     "name": "stderr",
     "output_type": "stream",
     "text": [
      "C:\\Users\\udays\\AppData\\Local\\Temp\\ipykernel_22228\\3925381797.py:80: FutureWarning: Series.__getitem__ treating keys as positions is deprecated. In a future version, integer keys will always be treated as labels (consistent with DataFrame behavior). To access a value by position, use `ser.iloc[pos]`\n",
      "  'labels': torch.tensor(label, dtype=torch.float32)\n",
      "Epoch 21 Training: 100%|███████████████████████████████████████████████████| 11/11 [00:13<00:00,  1.21s/it, loss=0.957]\n",
      "Epoch 21 Validation: 100%|████████████████████████████████████████████████████| 3/3 [00:02<00:00,  1.49it/s, loss=1.08]\n"
     ]
    },
    {
     "name": "stdout",
     "output_type": "stream",
     "text": [
      "Epoch 21: Train Loss=1.3786, Val Loss=1.6753\n",
      "Mean F1 Score: 0.9659, Mean Accuracy: 0.9523, Mean Precision: 0.9581, Mean Recall: 0.9746\n"
     ]
    },
    {
     "name": "stderr",
     "output_type": "stream",
     "text": [
      "C:\\Users\\udays\\AppData\\Local\\Temp\\ipykernel_22228\\3925381797.py:80: FutureWarning: Series.__getitem__ treating keys as positions is deprecated. In a future version, integer keys will always be treated as labels (consistent with DataFrame behavior). To access a value by position, use `ser.iloc[pos]`\n",
      "  'labels': torch.tensor(label, dtype=torch.float32)\n",
      "Epoch 22 Training: 100%|████████████████████████████████████████████████████| 11/11 [00:13<00:00,  1.20s/it, loss=1.09]\n",
      "Epoch 22 Validation: 100%|████████████████████████████████████████████████████| 3/3 [00:02<00:00,  1.43it/s, loss=1.03]\n"
     ]
    },
    {
     "name": "stdout",
     "output_type": "stream",
     "text": [
      "Epoch 22: Train Loss=1.3503, Val Loss=1.5833\n",
      "Mean F1 Score: 0.9667, Mean Accuracy: 0.9534, Mean Precision: 0.9639, Mean Recall: 0.9704\n",
      "New best model saved for fold 2 with F1=0.9667\n"
     ]
    },
    {
     "name": "stderr",
     "output_type": "stream",
     "text": [
      "C:\\Users\\udays\\AppData\\Local\\Temp\\ipykernel_22228\\3925381797.py:80: FutureWarning: Series.__getitem__ treating keys as positions is deprecated. In a future version, integer keys will always be treated as labels (consistent with DataFrame behavior). To access a value by position, use `ser.iloc[pos]`\n",
      "  'labels': torch.tensor(label, dtype=torch.float32)\n",
      "Epoch 23 Training: 100%|████████████████████████████████████████████████████| 11/11 [00:13<00:00,  1.22s/it, loss=1.47]\n",
      "Epoch 23 Validation: 100%|███████████████████████████████████████████████████| 3/3 [00:02<00:00,  1.46it/s, loss=0.968]\n"
     ]
    },
    {
     "name": "stdout",
     "output_type": "stream",
     "text": [
      "Epoch 23: Train Loss=1.3330, Val Loss=1.5634\n",
      "Mean F1 Score: 0.9704, Mean Accuracy: 0.9590, Mean Precision: 0.9601, Mean Recall: 0.9814\n",
      "New best model saved for fold 2 with F1=0.9704\n"
     ]
    },
    {
     "name": "stderr",
     "output_type": "stream",
     "text": [
      "C:\\Users\\udays\\AppData\\Local\\Temp\\ipykernel_22228\\3925381797.py:80: FutureWarning: Series.__getitem__ treating keys as positions is deprecated. In a future version, integer keys will always be treated as labels (consistent with DataFrame behavior). To access a value by position, use `ser.iloc[pos]`\n",
      "  'labels': torch.tensor(label, dtype=torch.float32)\n",
      "Epoch 24 Training: 100%|████████████████████████████████████████████████████| 11/11 [00:13<00:00,  1.21s/it, loss=1.05]\n",
      "Epoch 24 Validation: 100%|███████████████████████████████████████████████████| 3/3 [00:02<00:00,  1.39it/s, loss=0.927]\n"
     ]
    },
    {
     "name": "stdout",
     "output_type": "stream",
     "text": [
      "Epoch 24: Train Loss=1.2513, Val Loss=1.5247\n",
      "Mean F1 Score: 0.9654, Mean Accuracy: 0.9512, Mean Precision: 0.9583, Mean Recall: 0.9732\n"
     ]
    },
    {
     "name": "stderr",
     "output_type": "stream",
     "text": [
      "C:\\Users\\udays\\AppData\\Local\\Temp\\ipykernel_22228\\3925381797.py:80: FutureWarning: Series.__getitem__ treating keys as positions is deprecated. In a future version, integer keys will always be treated as labels (consistent with DataFrame behavior). To access a value by position, use `ser.iloc[pos]`\n",
      "  'labels': torch.tensor(label, dtype=torch.float32)\n",
      "Epoch 25 Training: 100%|████████████████████████████████████████████████████| 11/11 [00:13<00:00,  1.20s/it, loss=1.49]\n",
      "Epoch 25 Validation: 100%|███████████████████████████████████████████████████| 3/3 [00:01<00:00,  1.52it/s, loss=0.889]\n"
     ]
    },
    {
     "name": "stdout",
     "output_type": "stream",
     "text": [
      "Epoch 25: Train Loss=1.2483, Val Loss=1.4885\n",
      "Mean F1 Score: 0.9705, Mean Accuracy: 0.9590, Mean Precision: 0.9590, Mean Recall: 0.9827\n",
      "New best model saved for fold 2 with F1=0.9705\n"
     ]
    },
    {
     "name": "stderr",
     "output_type": "stream",
     "text": [
      "C:\\Users\\udays\\AppData\\Local\\Temp\\ipykernel_22228\\3925381797.py:80: FutureWarning: Series.__getitem__ treating keys as positions is deprecated. In a future version, integer keys will always be treated as labels (consistent with DataFrame behavior). To access a value by position, use `ser.iloc[pos]`\n",
      "  'labels': torch.tensor(label, dtype=torch.float32)\n",
      "Epoch 26 Training: 100%|███████████████████████████████████████████████████| 11/11 [00:13<00:00,  1.21s/it, loss=0.853]\n",
      "Epoch 26 Validation: 100%|███████████████████████████████████████████████████| 3/3 [00:02<00:00,  1.49it/s, loss=0.855]\n"
     ]
    },
    {
     "name": "stdout",
     "output_type": "stream",
     "text": [
      "Epoch 26: Train Loss=1.1659, Val Loss=1.4468\n",
      "Mean F1 Score: 0.9705, Mean Accuracy: 0.9590, Mean Precision: 0.9590, Mean Recall: 0.9827\n"
     ]
    },
    {
     "name": "stderr",
     "output_type": "stream",
     "text": [
      "C:\\Users\\udays\\AppData\\Local\\Temp\\ipykernel_22228\\3925381797.py:80: FutureWarning: Series.__getitem__ treating keys as positions is deprecated. In a future version, integer keys will always be treated as labels (consistent with DataFrame behavior). To access a value by position, use `ser.iloc[pos]`\n",
      "  'labels': torch.tensor(label, dtype=torch.float32)\n",
      "Epoch 27 Training: 100%|███████████████████████████████████████████████████| 11/11 [00:12<00:00,  1.16s/it, loss=0.801]\n",
      "Epoch 27 Validation: 100%|████████████████████████████████████████████████████| 3/3 [00:02<00:00,  1.39it/s, loss=0.83]\n"
     ]
    },
    {
     "name": "stdout",
     "output_type": "stream",
     "text": [
      "Epoch 27: Train Loss=1.1222, Val Loss=1.3989\n",
      "Mean F1 Score: 0.9706, Mean Accuracy: 0.9590, Mean Precision: 0.9606, Mean Recall: 0.9814\n",
      "New best model saved for fold 2 with F1=0.9706\n"
     ]
    },
    {
     "name": "stderr",
     "output_type": "stream",
     "text": [
      "C:\\Users\\udays\\AppData\\Local\\Temp\\ipykernel_22228\\3925381797.py:80: FutureWarning: Series.__getitem__ treating keys as positions is deprecated. In a future version, integer keys will always be treated as labels (consistent with DataFrame behavior). To access a value by position, use `ser.iloc[pos]`\n",
      "  'labels': torch.tensor(label, dtype=torch.float32)\n",
      "Epoch 28 Training: 100%|███████████████████████████████████████████████████| 11/11 [00:13<00:00,  1.19s/it, loss=0.655]\n",
      "Epoch 28 Validation: 100%|███████████████████████████████████████████████████| 3/3 [00:01<00:00,  1.51it/s, loss=0.833]\n"
     ]
    },
    {
     "name": "stdout",
     "output_type": "stream",
     "text": [
      "Epoch 28: Train Loss=1.0847, Val Loss=1.4529\n",
      "Mean F1 Score: 0.9712, Mean Accuracy: 0.9601, Mean Precision: 0.9576, Mean Recall: 0.9856\n",
      "New best model saved for fold 2 with F1=0.9712\n"
     ]
    },
    {
     "name": "stderr",
     "output_type": "stream",
     "text": [
      "C:\\Users\\udays\\AppData\\Local\\Temp\\ipykernel_22228\\3925381797.py:80: FutureWarning: Series.__getitem__ treating keys as positions is deprecated. In a future version, integer keys will always be treated as labels (consistent with DataFrame behavior). To access a value by position, use `ser.iloc[pos]`\n",
      "  'labels': torch.tensor(label, dtype=torch.float32)\n",
      "Epoch 29 Training: 100%|███████████████████████████████████████████████████| 11/11 [00:13<00:00,  1.24s/it, loss=0.622]\n",
      "Epoch 29 Validation: 100%|███████████████████████████████████████████████████| 3/3 [00:02<00:00,  1.46it/s, loss=0.776]\n"
     ]
    },
    {
     "name": "stdout",
     "output_type": "stream",
     "text": [
      "Epoch 29: Train Loss=1.0466, Val Loss=1.3566\n",
      "Mean F1 Score: 0.9698, Mean Accuracy: 0.9579, Mean Precision: 0.9589, Mean Recall: 0.9814\n"
     ]
    },
    {
     "name": "stderr",
     "output_type": "stream",
     "text": [
      "C:\\Users\\udays\\AppData\\Local\\Temp\\ipykernel_22228\\3925381797.py:80: FutureWarning: Series.__getitem__ treating keys as positions is deprecated. In a future version, integer keys will always be treated as labels (consistent with DataFrame behavior). To access a value by position, use `ser.iloc[pos]`\n",
      "  'labels': torch.tensor(label, dtype=torch.float32)\n",
      "Epoch 30 Training: 100%|████████████████████████████████████████████████████| 11/11 [00:13<00:00,  1.21s/it, loss=1.05]\n",
      "Epoch 30 Validation: 100%|████████████████████████████████████████████████████| 3/3 [00:02<00:00,  1.41it/s, loss=2.22]\n"
     ]
    },
    {
     "name": "stdout",
     "output_type": "stream",
     "text": [
      "Epoch 30: Train Loss=1.1120, Val Loss=2.2825\n",
      "Mean F1 Score: 0.8946, Mean Accuracy: 0.9169, Mean Precision: 0.9711, Mean Recall: 0.8457\n"
     ]
    },
    {
     "name": "stderr",
     "output_type": "stream",
     "text": [
      "C:\\Users\\udays\\AppData\\Local\\Temp\\ipykernel_22228\\3925381797.py:80: FutureWarning: Series.__getitem__ treating keys as positions is deprecated. In a future version, integer keys will always be treated as labels (consistent with DataFrame behavior). To access a value by position, use `ser.iloc[pos]`\n",
      "  'labels': torch.tensor(label, dtype=torch.float32)\n",
      "Epoch 31 Training: 100%|███████████████████████████████████████████████████| 11/11 [00:13<00:00,  1.21s/it, loss=0.606]\n",
      "Epoch 31 Validation: 100%|████████████████████████████████████████████████████| 3/3 [00:02<00:00,  1.37it/s, loss=0.79]\n"
     ]
    },
    {
     "name": "stdout",
     "output_type": "stream",
     "text": [
      "Epoch 31: Train Loss=1.3514, Val Loss=1.4340\n",
      "Mean F1 Score: 0.9578, Mean Accuracy: 0.9601, Mean Precision: 0.9607, Mean Recall: 0.9598\n"
     ]
    },
    {
     "name": "stderr",
     "output_type": "stream",
     "text": [
      "C:\\Users\\udays\\AppData\\Local\\Temp\\ipykernel_22228\\3925381797.py:80: FutureWarning: Series.__getitem__ treating keys as positions is deprecated. In a future version, integer keys will always be treated as labels (consistent with DataFrame behavior). To access a value by position, use `ser.iloc[pos]`\n",
      "  'labels': torch.tensor(label, dtype=torch.float32)\n",
      "Epoch 32 Training: 100%|████████████████████████████████████████████████████| 11/11 [00:13<00:00,  1.24s/it, loss=1.56]\n",
      "Epoch 32 Validation: 100%|███████████████████████████████████████████████████| 3/3 [00:01<00:00,  1.64it/s, loss=0.713]\n"
     ]
    },
    {
     "name": "stdout",
     "output_type": "stream",
     "text": [
      "Epoch 32: Train Loss=1.1453, Val Loss=1.2427\n",
      "Mean F1 Score: 0.9727, Mean Accuracy: 0.9623, Mean Precision: 0.9693, Mean Recall: 0.9767\n",
      "New best model saved for fold 2 with F1=0.9727\n"
     ]
    },
    {
     "name": "stderr",
     "output_type": "stream",
     "text": [
      "C:\\Users\\udays\\AppData\\Local\\Temp\\ipykernel_22228\\3925381797.py:80: FutureWarning: Series.__getitem__ treating keys as positions is deprecated. In a future version, integer keys will always be treated as labels (consistent with DataFrame behavior). To access a value by position, use `ser.iloc[pos]`\n",
      "  'labels': torch.tensor(label, dtype=torch.float32)\n",
      "Epoch 33 Training: 100%|███████████████████████████████████████████████████| 11/11 [00:12<00:00,  1.16s/it, loss=0.756]\n",
      "Epoch 33 Validation: 100%|███████████████████████████████████████████████████| 3/3 [00:01<00:00,  1.67it/s, loss=0.709]\n"
     ]
    },
    {
     "name": "stdout",
     "output_type": "stream",
     "text": [
      "Epoch 33: Train Loss=1.0086, Val Loss=1.2840\n",
      "Mean F1 Score: 0.9695, Mean Accuracy: 0.9579, Mean Precision: 0.9576, Mean Recall: 0.9823\n"
     ]
    },
    {
     "name": "stderr",
     "output_type": "stream",
     "text": [
      "C:\\Users\\udays\\AppData\\Local\\Temp\\ipykernel_22228\\3925381797.py:80: FutureWarning: Series.__getitem__ treating keys as positions is deprecated. In a future version, integer keys will always be treated as labels (consistent with DataFrame behavior). To access a value by position, use `ser.iloc[pos]`\n",
      "  'labels': torch.tensor(label, dtype=torch.float32)\n",
      "Epoch 34 Training: 100%|███████████████████████████████████████████████████| 11/11 [00:12<00:00,  1.18s/it, loss=0.542]\n",
      "Epoch 34 Validation: 100%|████████████████████████████████████████████████████| 3/3 [00:01<00:00,  1.75it/s, loss=0.67]\n"
     ]
    },
    {
     "name": "stdout",
     "output_type": "stream",
     "text": [
      "Epoch 34: Train Loss=0.9457, Val Loss=1.2340\n",
      "Mean F1 Score: 0.9688, Mean Accuracy: 0.9568, Mean Precision: 0.9589, Mean Recall: 0.9795\n"
     ]
    },
    {
     "name": "stderr",
     "output_type": "stream",
     "text": [
      "C:\\Users\\udays\\AppData\\Local\\Temp\\ipykernel_22228\\3925381797.py:80: FutureWarning: Series.__getitem__ treating keys as positions is deprecated. In a future version, integer keys will always be treated as labels (consistent with DataFrame behavior). To access a value by position, use `ser.iloc[pos]`\n",
      "  'labels': torch.tensor(label, dtype=torch.float32)\n",
      "Epoch 35 Training: 100%|███████████████████████████████████████████████████| 11/11 [00:12<00:00,  1.17s/it, loss=0.612]\n",
      "Epoch 35 Validation: 100%|███████████████████████████████████████████████████| 3/3 [00:01<00:00,  1.75it/s, loss=0.658]\n"
     ]
    },
    {
     "name": "stdout",
     "output_type": "stream",
     "text": [
      "Epoch 35: Train Loss=0.9335, Val Loss=1.2822\n",
      "Mean F1 Score: 0.9688, Mean Accuracy: 0.9568, Mean Precision: 0.9500, Mean Recall: 0.9888\n"
     ]
    },
    {
     "name": "stderr",
     "output_type": "stream",
     "text": [
      "C:\\Users\\udays\\AppData\\Local\\Temp\\ipykernel_22228\\3925381797.py:80: FutureWarning: Series.__getitem__ treating keys as positions is deprecated. In a future version, integer keys will always be treated as labels (consistent with DataFrame behavior). To access a value by position, use `ser.iloc[pos]`\n",
      "  'labels': torch.tensor(label, dtype=torch.float32)\n",
      "Epoch 36 Training: 100%|███████████████████████████████████████████████████| 11/11 [00:13<00:00,  1.19s/it, loss=0.428]\n",
      "Epoch 36 Validation: 100%|███████████████████████████████████████████████████| 3/3 [00:01<00:00,  1.63it/s, loss=0.632]\n"
     ]
    },
    {
     "name": "stdout",
     "output_type": "stream",
     "text": [
      "Epoch 36: Train Loss=0.8843, Val Loss=1.1935\n",
      "Mean F1 Score: 0.9713, Mean Accuracy: 0.9601, Mean Precision: 0.9593, Mean Recall: 0.9841\n"
     ]
    },
    {
     "name": "stderr",
     "output_type": "stream",
     "text": [
      "C:\\Users\\udays\\AppData\\Local\\Temp\\ipykernel_22228\\3925381797.py:80: FutureWarning: Series.__getitem__ treating keys as positions is deprecated. In a future version, integer keys will always be treated as labels (consistent with DataFrame behavior). To access a value by position, use `ser.iloc[pos]`\n",
      "  'labels': torch.tensor(label, dtype=torch.float32)\n",
      "Epoch 37 Training: 100%|███████████████████████████████████████████████████| 11/11 [00:13<00:00,  1.24s/it, loss=0.557]\n",
      "Epoch 37 Validation: 100%|███████████████████████████████████████████████████| 3/3 [00:01<00:00,  1.50it/s, loss=0.628]\n"
     ]
    },
    {
     "name": "stdout",
     "output_type": "stream",
     "text": [
      "Epoch 37: Train Loss=0.8729, Val Loss=1.2084\n",
      "Mean F1 Score: 0.9679, Mean Accuracy: 0.9557, Mean Precision: 0.9515, Mean Recall: 0.9855\n"
     ]
    },
    {
     "name": "stderr",
     "output_type": "stream",
     "text": [
      "C:\\Users\\udays\\AppData\\Local\\Temp\\ipykernel_22228\\3925381797.py:80: FutureWarning: Series.__getitem__ treating keys as positions is deprecated. In a future version, integer keys will always be treated as labels (consistent with DataFrame behavior). To access a value by position, use `ser.iloc[pos]`\n",
      "  'labels': torch.tensor(label, dtype=torch.float32)\n",
      "Epoch 38 Training: 100%|███████████████████████████████████████████████████| 11/11 [00:13<00:00,  1.20s/it, loss=0.597]\n",
      "Epoch 38 Validation: 100%|███████████████████████████████████████████████████| 3/3 [00:01<00:00,  1.50it/s, loss=0.615]\n"
     ]
    },
    {
     "name": "stdout",
     "output_type": "stream",
     "text": [
      "Epoch 38: Train Loss=0.8470, Val Loss=1.2179\n",
      "Mean F1 Score: 0.9687, Mean Accuracy: 0.9568, Mean Precision: 0.9516, Mean Recall: 0.9870\n"
     ]
    },
    {
     "name": "stderr",
     "output_type": "stream",
     "text": [
      "C:\\Users\\udays\\AppData\\Local\\Temp\\ipykernel_22228\\3925381797.py:80: FutureWarning: Series.__getitem__ treating keys as positions is deprecated. In a future version, integer keys will always be treated as labels (consistent with DataFrame behavior). To access a value by position, use `ser.iloc[pos]`\n",
      "  'labels': torch.tensor(label, dtype=torch.float32)\n",
      "Epoch 39 Training: 100%|███████████████████████████████████████████████████| 11/11 [00:13<00:00,  1.20s/it, loss=0.588]\n",
      "Epoch 39 Validation: 100%|███████████████████████████████████████████████████| 3/3 [00:02<00:00,  1.46it/s, loss=0.583]\n"
     ]
    },
    {
     "name": "stdout",
     "output_type": "stream",
     "text": [
      "Epoch 39: Train Loss=0.8336, Val Loss=1.2122\n",
      "Mean F1 Score: 0.9679, Mean Accuracy: 0.9557, Mean Precision: 0.9499, Mean Recall: 0.9870\n"
     ]
    },
    {
     "name": "stderr",
     "output_type": "stream",
     "text": [
      "C:\\Users\\udays\\AppData\\Local\\Temp\\ipykernel_22228\\3925381797.py:80: FutureWarning: Series.__getitem__ treating keys as positions is deprecated. In a future version, integer keys will always be treated as labels (consistent with DataFrame behavior). To access a value by position, use `ser.iloc[pos]`\n",
      "  'labels': torch.tensor(label, dtype=torch.float32)\n",
      "Epoch 40 Training: 100%|█████████████████████████████████████████████████████| 11/11 [00:13<00:00,  1.20s/it, loss=0.3]\n",
      "Epoch 40 Validation: 100%|███████████████████████████████████████████████████| 3/3 [00:01<00:00,  1.77it/s, loss=0.566]\n"
     ]
    },
    {
     "name": "stdout",
     "output_type": "stream",
     "text": [
      "Epoch 40: Train Loss=0.7893, Val Loss=1.1377\n",
      "Mean F1 Score: 0.9703, Mean Accuracy: 0.9590, Mean Precision: 0.9546, Mean Recall: 0.9870\n"
     ]
    },
    {
     "name": "stderr",
     "output_type": "stream",
     "text": [
      "C:\\Users\\udays\\AppData\\Local\\Temp\\ipykernel_22228\\3925381797.py:80: FutureWarning: Series.__getitem__ treating keys as positions is deprecated. In a future version, integer keys will always be treated as labels (consistent with DataFrame behavior). To access a value by position, use `ser.iloc[pos]`\n",
      "  'labels': torch.tensor(label, dtype=torch.float32)\n",
      "Epoch 41 Training: 100%|███████████████████████████████████████████████████| 11/11 [00:13<00:00,  1.20s/it, loss=0.429]\n",
      "Epoch 41 Validation: 100%|███████████████████████████████████████████████████| 3/3 [00:02<00:00,  1.47it/s, loss=0.555]\n"
     ]
    },
    {
     "name": "stdout",
     "output_type": "stream",
     "text": [
      "Epoch 41: Train Loss=0.7804, Val Loss=1.1068\n",
      "Mean F1 Score: 0.9711, Mean Accuracy: 0.9601, Mean Precision: 0.9578, Mean Recall: 0.9853\n"
     ]
    },
    {
     "name": "stderr",
     "output_type": "stream",
     "text": [
      "C:\\Users\\udays\\AppData\\Local\\Temp\\ipykernel_22228\\3925381797.py:80: FutureWarning: Series.__getitem__ treating keys as positions is deprecated. In a future version, integer keys will always be treated as labels (consistent with DataFrame behavior). To access a value by position, use `ser.iloc[pos]`\n",
      "  'labels': torch.tensor(label, dtype=torch.float32)\n",
      "Epoch 42 Training: 100%|███████████████████████████████████████████████████| 11/11 [00:13<00:00,  1.19s/it, loss=0.314]\n",
      "Epoch 42 Validation: 100%|███████████████████████████████████████████████████| 3/3 [00:01<00:00,  1.56it/s, loss=0.546]\n"
     ]
    },
    {
     "name": "stdout",
     "output_type": "stream",
     "text": [
      "Epoch 42: Train Loss=0.7562, Val Loss=1.1380\n",
      "Mean F1 Score: 0.9695, Mean Accuracy: 0.9579, Mean Precision: 0.9531, Mean Recall: 0.9870\n"
     ]
    },
    {
     "name": "stderr",
     "output_type": "stream",
     "text": [
      "C:\\Users\\udays\\AppData\\Local\\Temp\\ipykernel_22228\\3925381797.py:80: FutureWarning: Series.__getitem__ treating keys as positions is deprecated. In a future version, integer keys will always be treated as labels (consistent with DataFrame behavior). To access a value by position, use `ser.iloc[pos]`\n",
      "  'labels': torch.tensor(label, dtype=torch.float32)\n",
      "Epoch 43 Training: 100%|███████████████████████████████████████████████████| 11/11 [00:13<00:00,  1.19s/it, loss=0.957]\n",
      "Epoch 43 Validation: 100%|███████████████████████████████████████████████████| 3/3 [00:01<00:00,  1.64it/s, loss=0.539]\n"
     ]
    },
    {
     "name": "stdout",
     "output_type": "stream",
     "text": [
      "Epoch 43: Train Loss=0.7900, Val Loss=1.1250\n",
      "Mean F1 Score: 0.9694, Mean Accuracy: 0.9579, Mean Precision: 0.9516, Mean Recall: 0.9885\n"
     ]
    },
    {
     "name": "stderr",
     "output_type": "stream",
     "text": [
      "C:\\Users\\udays\\AppData\\Local\\Temp\\ipykernel_22228\\3925381797.py:80: FutureWarning: Series.__getitem__ treating keys as positions is deprecated. In a future version, integer keys will always be treated as labels (consistent with DataFrame behavior). To access a value by position, use `ser.iloc[pos]`\n",
      "  'labels': torch.tensor(label, dtype=torch.float32)\n",
      "Epoch 44 Training: 100%|████████████████████████████████████████████████████| 11/11 [00:13<00:00,  1.22s/it, loss=1.07]\n",
      "Epoch 44 Validation: 100%|███████████████████████████████████████████████████| 3/3 [00:01<00:00,  1.77it/s, loss=0.518]\n"
     ]
    },
    {
     "name": "stdout",
     "output_type": "stream",
     "text": [
      "Epoch 44: Train Loss=0.7799, Val Loss=1.0828\n",
      "Mean F1 Score: 0.9703, Mean Accuracy: 0.9590, Mean Precision: 0.9532, Mean Recall: 0.9885\n"
     ]
    },
    {
     "name": "stderr",
     "output_type": "stream",
     "text": [
      "C:\\Users\\udays\\AppData\\Local\\Temp\\ipykernel_22228\\3925381797.py:80: FutureWarning: Series.__getitem__ treating keys as positions is deprecated. In a future version, integer keys will always be treated as labels (consistent with DataFrame behavior). To access a value by position, use `ser.iloc[pos]`\n",
      "  'labels': torch.tensor(label, dtype=torch.float32)\n",
      "Epoch 45 Training: 100%|███████████████████████████████████████████████████| 11/11 [00:12<00:00,  1.18s/it, loss=0.348]\n",
      "Epoch 45 Validation: 100%|███████████████████████████████████████████████████| 3/3 [00:01<00:00,  1.53it/s, loss=0.519]\n"
     ]
    },
    {
     "name": "stdout",
     "output_type": "stream",
     "text": [
      "Epoch 45: Train Loss=0.7139, Val Loss=1.1010\n",
      "Mean F1 Score: 0.9686, Mean Accuracy: 0.9568, Mean Precision: 0.9500, Mean Recall: 0.9885\n"
     ]
    },
    {
     "name": "stderr",
     "output_type": "stream",
     "text": [
      "C:\\Users\\udays\\AppData\\Local\\Temp\\ipykernel_22228\\3925381797.py:80: FutureWarning: Series.__getitem__ treating keys as positions is deprecated. In a future version, integer keys will always be treated as labels (consistent with DataFrame behavior). To access a value by position, use `ser.iloc[pos]`\n",
      "  'labels': torch.tensor(label, dtype=torch.float32)\n",
      "Epoch 46 Training: 100%|███████████████████████████████████████████████████| 11/11 [00:12<00:00,  1.17s/it, loss=0.314]\n",
      "Epoch 46 Validation: 100%|███████████████████████████████████████████████████| 3/3 [00:01<00:00,  1.53it/s, loss=0.498]\n"
     ]
    },
    {
     "name": "stdout",
     "output_type": "stream",
     "text": [
      "Epoch 46: Train Loss=0.7030, Val Loss=1.0466\n",
      "Mean F1 Score: 0.9736, Mean Accuracy: 0.9634, Mean Precision: 0.9595, Mean Recall: 0.9885\n",
      "New best model saved for fold 2 with F1=0.9736\n"
     ]
    },
    {
     "name": "stderr",
     "output_type": "stream",
     "text": [
      "C:\\Users\\udays\\AppData\\Local\\Temp\\ipykernel_22228\\3925381797.py:80: FutureWarning: Series.__getitem__ treating keys as positions is deprecated. In a future version, integer keys will always be treated as labels (consistent with DataFrame behavior). To access a value by position, use `ser.iloc[pos]`\n",
      "  'labels': torch.tensor(label, dtype=torch.float32)\n",
      "Epoch 47 Training: 100%|███████████████████████████████████████████████████| 11/11 [00:13<00:00,  1.22s/it, loss=0.445]\n",
      "Epoch 47 Validation: 100%|███████████████████████████████████████████████████| 3/3 [00:01<00:00,  1.54it/s, loss=0.483]\n"
     ]
    },
    {
     "name": "stdout",
     "output_type": "stream",
     "text": [
      "Epoch 47: Train Loss=0.6989, Val Loss=1.0178\n",
      "Mean F1 Score: 0.9736, Mean Accuracy: 0.9634, Mean Precision: 0.9626, Mean Recall: 0.9853\n",
      "New best model saved for fold 2 with F1=0.9736\n"
     ]
    },
    {
     "name": "stderr",
     "output_type": "stream",
     "text": [
      "C:\\Users\\udays\\AppData\\Local\\Temp\\ipykernel_22228\\3925381797.py:80: FutureWarning: Series.__getitem__ treating keys as positions is deprecated. In a future version, integer keys will always be treated as labels (consistent with DataFrame behavior). To access a value by position, use `ser.iloc[pos]`\n",
      "  'labels': torch.tensor(label, dtype=torch.float32)\n",
      "Epoch 48 Training: 100%|█████████████████████████████████████████████████████| 11/11 [00:13<00:00,  1.22s/it, loss=1.6]\n",
      "Epoch 48 Validation: 100%|███████████████████████████████████████████████████| 3/3 [00:01<00:00,  1.53it/s, loss=0.489]\n"
     ]
    },
    {
     "name": "stdout",
     "output_type": "stream",
     "text": [
      "Epoch 48: Train Loss=0.7664, Val Loss=1.0481\n",
      "Mean F1 Score: 0.9711, Mean Accuracy: 0.9601, Mean Precision: 0.9548, Mean Recall: 0.9885\n"
     ]
    },
    {
     "name": "stderr",
     "output_type": "stream",
     "text": [
      "C:\\Users\\udays\\AppData\\Local\\Temp\\ipykernel_22228\\3925381797.py:80: FutureWarning: Series.__getitem__ treating keys as positions is deprecated. In a future version, integer keys will always be treated as labels (consistent with DataFrame behavior). To access a value by position, use `ser.iloc[pos]`\n",
      "  'labels': torch.tensor(label, dtype=torch.float32)\n",
      "Epoch 49 Training: 100%|███████████████████████████████████████████████████| 11/11 [00:12<00:00,  1.17s/it, loss=0.908]\n",
      "Epoch 49 Validation: 100%|███████████████████████████████████████████████████| 3/3 [00:01<00:00,  1.57it/s, loss=0.479]\n"
     ]
    },
    {
     "name": "stdout",
     "output_type": "stream",
     "text": [
      "Epoch 49: Train Loss=0.7019, Val Loss=0.9942\n",
      "Mean F1 Score: 0.9753, Mean Accuracy: 0.9656, Mean Precision: 0.9673, Mean Recall: 0.9838\n",
      "New best model saved for fold 2 with F1=0.9753\n"
     ]
    },
    {
     "name": "stderr",
     "output_type": "stream",
     "text": [
      "C:\\Users\\udays\\AppData\\Local\\Temp\\ipykernel_22228\\3925381797.py:80: FutureWarning: Series.__getitem__ treating keys as positions is deprecated. In a future version, integer keys will always be treated as labels (consistent with DataFrame behavior). To access a value by position, use `ser.iloc[pos]`\n",
      "  'labels': torch.tensor(label, dtype=torch.float32)\n",
      "Epoch 50 Training: 100%|███████████████████████████████████████████████████| 11/11 [00:13<00:00,  1.19s/it, loss=0.319]\n",
      "Epoch 50 Validation: 100%|███████████████████████████████████████████████████| 3/3 [00:01<00:00,  1.67it/s, loss=0.489]\n"
     ]
    },
    {
     "name": "stdout",
     "output_type": "stream",
     "text": [
      "Epoch 50: Train Loss=0.6538, Val Loss=1.0739\n",
      "Mean F1 Score: 0.9675, Mean Accuracy: 0.9568, Mean Precision: 0.9516, Mean Recall: 0.9847\n"
     ]
    },
    {
     "name": "stderr",
     "output_type": "stream",
     "text": [
      "C:\\Users\\udays\\AppData\\Local\\Temp\\ipykernel_22228\\3925381797.py:80: FutureWarning: Series.__getitem__ treating keys as positions is deprecated. In a future version, integer keys will always be treated as labels (consistent with DataFrame behavior). To access a value by position, use `ser.iloc[pos]`\n",
      "  'labels': torch.tensor(label, dtype=torch.float32)\n",
      "Epoch 51 Training: 100%|███████████████████████████████████████████████████| 11/11 [00:12<00:00,  1.18s/it, loss=0.605]\n",
      "Epoch 51 Validation: 100%|███████████████████████████████████████████████████| 3/3 [00:02<00:00,  1.45it/s, loss=0.464]\n"
     ]
    },
    {
     "name": "stdout",
     "output_type": "stream",
     "text": [
      "Epoch 51: Train Loss=0.6545, Val Loss=0.9830\n",
      "Mean F1 Score: 0.9768, Mean Accuracy: 0.9678, Mean Precision: 0.9674, Mean Recall: 0.9867\n",
      "New best model saved for fold 2 with F1=0.9768\n"
     ]
    },
    {
     "name": "stderr",
     "output_type": "stream",
     "text": [
      "C:\\Users\\udays\\AppData\\Local\\Temp\\ipykernel_22228\\3925381797.py:80: FutureWarning: Series.__getitem__ treating keys as positions is deprecated. In a future version, integer keys will always be treated as labels (consistent with DataFrame behavior). To access a value by position, use `ser.iloc[pos]`\n",
      "  'labels': torch.tensor(label, dtype=torch.float32)\n",
      "Epoch 52 Training: 100%|███████████████████████████████████████████████████| 11/11 [00:12<00:00,  1.16s/it, loss=0.259]\n",
      "Epoch 52 Validation: 100%|███████████████████████████████████████████████████| 3/3 [00:01<00:00,  1.81it/s, loss=0.447]\n"
     ]
    },
    {
     "name": "stdout",
     "output_type": "stream",
     "text": [
      "Epoch 52: Train Loss=0.6176, Val Loss=0.9471\n",
      "Mean F1 Score: 0.9757, Mean Accuracy: 0.9678, Mean Precision: 0.9690, Mean Recall: 0.9829\n"
     ]
    },
    {
     "name": "stderr",
     "output_type": "stream",
     "text": [
      "C:\\Users\\udays\\AppData\\Local\\Temp\\ipykernel_22228\\3925381797.py:80: FutureWarning: Series.__getitem__ treating keys as positions is deprecated. In a future version, integer keys will always be treated as labels (consistent with DataFrame behavior). To access a value by position, use `ser.iloc[pos]`\n",
      "  'labels': torch.tensor(label, dtype=torch.float32)\n",
      "Epoch 53 Training: 100%|███████████████████████████████████████████████████| 11/11 [00:12<00:00,  1.18s/it, loss=0.794]\n",
      "Epoch 53 Validation: 100%|███████████████████████████████████████████████████| 3/3 [00:02<00:00,  1.37it/s, loss=0.465]\n"
     ]
    },
    {
     "name": "stdout",
     "output_type": "stream",
     "text": [
      "Epoch 53: Train Loss=0.6556, Val Loss=1.0134\n",
      "Mean F1 Score: 0.9719, Mean Accuracy: 0.9612, Mean Precision: 0.9564, Mean Recall: 0.9885\n"
     ]
    },
    {
     "name": "stderr",
     "output_type": "stream",
     "text": [
      "C:\\Users\\udays\\AppData\\Local\\Temp\\ipykernel_22228\\3925381797.py:80: FutureWarning: Series.__getitem__ treating keys as positions is deprecated. In a future version, integer keys will always be treated as labels (consistent with DataFrame behavior). To access a value by position, use `ser.iloc[pos]`\n",
      "  'labels': torch.tensor(label, dtype=torch.float32)\n",
      "Epoch 54 Training: 100%|███████████████████████████████████████████████████| 11/11 [00:13<00:00,  1.19s/it, loss=0.213]\n",
      "Epoch 54 Validation: 100%|███████████████████████████████████████████████████| 3/3 [00:01<00:00,  1.62it/s, loss=0.496]\n"
     ]
    },
    {
     "name": "stdout",
     "output_type": "stream",
     "text": [
      "Epoch 54: Train Loss=0.6108, Val Loss=1.0243\n",
      "Mean F1 Score: 0.9728, Mean Accuracy: 0.9623, Mean Precision: 0.9579, Mean Recall: 0.9885\n"
     ]
    },
    {
     "name": "stderr",
     "output_type": "stream",
     "text": [
      "C:\\Users\\udays\\AppData\\Local\\Temp\\ipykernel_22228\\3925381797.py:80: FutureWarning: Series.__getitem__ treating keys as positions is deprecated. In a future version, integer keys will always be treated as labels (consistent with DataFrame behavior). To access a value by position, use `ser.iloc[pos]`\n",
      "  'labels': torch.tensor(label, dtype=torch.float32)\n",
      "Epoch 55 Training: 100%|███████████████████████████████████████████████████| 11/11 [00:13<00:00,  1.24s/it, loss=0.381]\n",
      "Epoch 55 Validation: 100%|███████████████████████████████████████████████████| 3/3 [00:02<00:00,  1.37it/s, loss=0.495]\n"
     ]
    },
    {
     "name": "stdout",
     "output_type": "stream",
     "text": [
      "Epoch 55: Train Loss=0.6003, Val Loss=1.0362\n",
      "Mean F1 Score: 0.9737, Mean Accuracy: 0.9634, Mean Precision: 0.9580, Mean Recall: 0.9902\n"
     ]
    },
    {
     "name": "stderr",
     "output_type": "stream",
     "text": [
      "C:\\Users\\udays\\AppData\\Local\\Temp\\ipykernel_22228\\3925381797.py:80: FutureWarning: Series.__getitem__ treating keys as positions is deprecated. In a future version, integer keys will always be treated as labels (consistent with DataFrame behavior). To access a value by position, use `ser.iloc[pos]`\n",
      "  'labels': torch.tensor(label, dtype=torch.float32)\n",
      "Epoch 56 Training: 100%|███████████████████████████████████████████████████| 11/11 [00:13<00:00,  1.22s/it, loss=0.329]\n",
      "Epoch 56 Validation: 100%|███████████████████████████████████████████████████| 3/3 [00:01<00:00,  1.51it/s, loss=0.436]\n"
     ]
    },
    {
     "name": "stdout",
     "output_type": "stream",
     "text": [
      "Epoch 56: Train Loss=0.6048, Val Loss=0.9581\n",
      "Mean F1 Score: 0.9753, Mean Accuracy: 0.9656, Mean Precision: 0.9627, Mean Recall: 0.9885\n"
     ]
    },
    {
     "name": "stderr",
     "output_type": "stream",
     "text": [
      "C:\\Users\\udays\\AppData\\Local\\Temp\\ipykernel_22228\\3925381797.py:80: FutureWarning: Series.__getitem__ treating keys as positions is deprecated. In a future version, integer keys will always be treated as labels (consistent with DataFrame behavior). To access a value by position, use `ser.iloc[pos]`\n",
      "  'labels': torch.tensor(label, dtype=torch.float32)\n",
      "Epoch 57 Training: 100%|███████████████████████████████████████████████████| 11/11 [00:13<00:00,  1.19s/it, loss=0.352]\n",
      "Epoch 57 Validation: 100%|███████████████████████████████████████████████████| 3/3 [00:01<00:00,  1.56it/s, loss=0.447]\n"
     ]
    },
    {
     "name": "stdout",
     "output_type": "stream",
     "text": [
      "Epoch 57: Train Loss=0.5868, Val Loss=0.9859\n",
      "Mean F1 Score: 0.9744, Mean Accuracy: 0.9645, Mean Precision: 0.9611, Mean Recall: 0.9885\n"
     ]
    },
    {
     "name": "stderr",
     "output_type": "stream",
     "text": [
      "C:\\Users\\udays\\AppData\\Local\\Temp\\ipykernel_22228\\3925381797.py:80: FutureWarning: Series.__getitem__ treating keys as positions is deprecated. In a future version, integer keys will always be treated as labels (consistent with DataFrame behavior). To access a value by position, use `ser.iloc[pos]`\n",
      "  'labels': torch.tensor(label, dtype=torch.float32)\n",
      "Epoch 58 Training: 100%|███████████████████████████████████████████████████| 11/11 [00:13<00:00,  1.22s/it, loss=0.559]\n",
      "Epoch 58 Validation: 100%|███████████████████████████████████████████████████| 3/3 [00:01<00:00,  1.52it/s, loss=0.437]\n"
     ]
    },
    {
     "name": "stdout",
     "output_type": "stream",
     "text": [
      "Epoch 58: Train Loss=0.5942, Val Loss=0.9665\n",
      "Mean F1 Score: 0.9762, Mean Accuracy: 0.9667, Mean Precision: 0.9628, Mean Recall: 0.9902\n"
     ]
    },
    {
     "name": "stderr",
     "output_type": "stream",
     "text": [
      "C:\\Users\\udays\\AppData\\Local\\Temp\\ipykernel_22228\\3925381797.py:80: FutureWarning: Series.__getitem__ treating keys as positions is deprecated. In a future version, integer keys will always be treated as labels (consistent with DataFrame behavior). To access a value by position, use `ser.iloc[pos]`\n",
      "  'labels': torch.tensor(label, dtype=torch.float32)\n",
      "Epoch 59 Training: 100%|███████████████████████████████████████████████████| 11/11 [00:12<00:00,  1.17s/it, loss=0.677]\n",
      "Epoch 59 Validation: 100%|███████████████████████████████████████████████████| 3/3 [00:01<00:00,  1.67it/s, loss=0.453]\n"
     ]
    },
    {
     "name": "stdout",
     "output_type": "stream",
     "text": [
      "Epoch 59: Train Loss=0.5877, Val Loss=0.9873\n",
      "Mean F1 Score: 0.9737, Mean Accuracy: 0.9634, Mean Precision: 0.9580, Mean Recall: 0.9902\n"
     ]
    },
    {
     "name": "stderr",
     "output_type": "stream",
     "text": [
      "C:\\Users\\udays\\AppData\\Local\\Temp\\ipykernel_22228\\3925381797.py:80: FutureWarning: Series.__getitem__ treating keys as positions is deprecated. In a future version, integer keys will always be treated as labels (consistent with DataFrame behavior). To access a value by position, use `ser.iloc[pos]`\n",
      "  'labels': torch.tensor(label, dtype=torch.float32)\n",
      "Epoch 60 Training: 100%|████████████████████████████████████████████████████| 11/11 [00:12<00:00,  1.16s/it, loss=0.91]\n",
      "Epoch 60 Validation: 100%|███████████████████████████████████████████████████| 3/3 [00:02<00:00,  1.50it/s, loss=0.444]\n"
     ]
    },
    {
     "name": "stdout",
     "output_type": "stream",
     "text": [
      "Epoch 60: Train Loss=0.6100, Val Loss=0.9677\n",
      "Mean F1 Score: 0.9737, Mean Accuracy: 0.9634, Mean Precision: 0.9580, Mean Recall: 0.9902\n"
     ]
    },
    {
     "name": "stderr",
     "output_type": "stream",
     "text": [
      "C:\\Users\\udays\\AppData\\Local\\Temp\\ipykernel_22228\\3925381797.py:80: FutureWarning: Series.__getitem__ treating keys as positions is deprecated. In a future version, integer keys will always be treated as labels (consistent with DataFrame behavior). To access a value by position, use `ser.iloc[pos]`\n",
      "  'labels': torch.tensor(label, dtype=torch.float32)\n",
      "Epoch 61 Training: 100%|███████████████████████████████████████████████████| 11/11 [00:13<00:00,  1.19s/it, loss=0.651]\n",
      "Epoch 61 Validation: 100%|███████████████████████████████████████████████████| 3/3 [00:02<00:00,  1.50it/s, loss=0.413]\n"
     ]
    },
    {
     "name": "stdout",
     "output_type": "stream",
     "text": [
      "Epoch 61: Train Loss=0.5705, Val Loss=0.9157\n",
      "Mean F1 Score: 0.9761, Mean Accuracy: 0.9667, Mean Precision: 0.9660, Mean Recall: 0.9867\n"
     ]
    },
    {
     "name": "stderr",
     "output_type": "stream",
     "text": [
      "C:\\Users\\udays\\AppData\\Local\\Temp\\ipykernel_22228\\3925381797.py:80: FutureWarning: Series.__getitem__ treating keys as positions is deprecated. In a future version, integer keys will always be treated as labels (consistent with DataFrame behavior). To access a value by position, use `ser.iloc[pos]`\n",
      "  'labels': torch.tensor(label, dtype=torch.float32)\n",
      "Epoch 62 Training: 100%|███████████████████████████████████████████████████| 11/11 [00:13<00:00,  1.22s/it, loss=0.151]\n",
      "Epoch 62 Validation: 100%|███████████████████████████████████████████████████| 3/3 [00:02<00:00,  1.38it/s, loss=0.391]\n"
     ]
    },
    {
     "name": "stdout",
     "output_type": "stream",
     "text": [
      "Epoch 62: Train Loss=0.5267, Val Loss=0.8902\n",
      "Mean F1 Score: 0.9769, Mean Accuracy: 0.9678, Mean Precision: 0.9693, Mean Recall: 0.9850\n",
      "New best model saved for fold 2 with F1=0.9769\n"
     ]
    },
    {
     "name": "stderr",
     "output_type": "stream",
     "text": [
      "C:\\Users\\udays\\AppData\\Local\\Temp\\ipykernel_22228\\3925381797.py:80: FutureWarning: Series.__getitem__ treating keys as positions is deprecated. In a future version, integer keys will always be treated as labels (consistent with DataFrame behavior). To access a value by position, use `ser.iloc[pos]`\n",
      "  'labels': torch.tensor(label, dtype=torch.float32)\n",
      "Epoch 63 Training: 100%|███████████████████████████████████████████████████| 11/11 [00:13<00:00,  1.26s/it, loss=0.833]\n",
      "Epoch 63 Validation: 100%|███████████████████████████████████████████████████| 3/3 [00:01<00:00,  1.52it/s, loss=0.399]\n"
     ]
    },
    {
     "name": "stdout",
     "output_type": "stream",
     "text": [
      "Epoch 63: Train Loss=0.5669, Val Loss=0.8957\n",
      "Mean F1 Score: 0.9761, Mean Accuracy: 0.9667, Mean Precision: 0.9660, Mean Recall: 0.9867\n"
     ]
    },
    {
     "name": "stderr",
     "output_type": "stream",
     "text": [
      "C:\\Users\\udays\\AppData\\Local\\Temp\\ipykernel_22228\\3925381797.py:80: FutureWarning: Series.__getitem__ treating keys as positions is deprecated. In a future version, integer keys will always be treated as labels (consistent with DataFrame behavior). To access a value by position, use `ser.iloc[pos]`\n",
      "  'labels': torch.tensor(label, dtype=torch.float32)\n",
      "Epoch 64 Training: 100%|████████████████████████████████████████████████████| 11/11 [00:13<00:00,  1.21s/it, loss=1.42]\n",
      "Epoch 64 Validation: 100%|███████████████████████████████████████████████████| 3/3 [00:01<00:00,  1.57it/s, loss=0.401]\n"
     ]
    },
    {
     "name": "stdout",
     "output_type": "stream",
     "text": [
      "Epoch 64: Train Loss=0.6064, Val Loss=0.9023\n",
      "Mean F1 Score: 0.9741, Mean Accuracy: 0.9656, Mean Precision: 0.9676, Mean Recall: 0.9812\n"
     ]
    },
    {
     "name": "stderr",
     "output_type": "stream",
     "text": [
      "C:\\Users\\udays\\AppData\\Local\\Temp\\ipykernel_22228\\3925381797.py:80: FutureWarning: Series.__getitem__ treating keys as positions is deprecated. In a future version, integer keys will always be treated as labels (consistent with DataFrame behavior). To access a value by position, use `ser.iloc[pos]`\n",
      "  'labels': torch.tensor(label, dtype=torch.float32)\n",
      "Epoch 65 Training: 100%|███████████████████████████████████████████████████| 11/11 [00:13<00:00,  1.20s/it, loss=0.245]\n",
      "Epoch 65 Validation: 100%|███████████████████████████████████████████████████| 3/3 [00:01<00:00,  1.61it/s, loss=0.418]\n"
     ]
    },
    {
     "name": "stdout",
     "output_type": "stream",
     "text": [
      "Epoch 65: Train Loss=0.5202, Val Loss=0.8828\n",
      "Mean F1 Score: 0.9769, Mean Accuracy: 0.9678, Mean Precision: 0.9677, Mean Recall: 0.9867\n",
      "New best model saved for fold 2 with F1=0.9769\n"
     ]
    },
    {
     "name": "stderr",
     "output_type": "stream",
     "text": [
      "C:\\Users\\udays\\AppData\\Local\\Temp\\ipykernel_22228\\3925381797.py:80: FutureWarning: Series.__getitem__ treating keys as positions is deprecated. In a future version, integer keys will always be treated as labels (consistent with DataFrame behavior). To access a value by position, use `ser.iloc[pos]`\n",
      "  'labels': torch.tensor(label, dtype=torch.float32)\n",
      "Epoch 66 Training: 100%|████████████████████████████████████████████████████| 11/11 [00:13<00:00,  1.23s/it, loss=1.02]\n",
      "Epoch 66 Validation: 100%|███████████████████████████████████████████████████| 3/3 [00:01<00:00,  1.58it/s, loss=0.389]\n"
     ]
    },
    {
     "name": "stdout",
     "output_type": "stream",
     "text": [
      "Epoch 66: Train Loss=0.5621, Val Loss=0.8601\n",
      "Mean F1 Score: 0.9767, Mean Accuracy: 0.9678, Mean Precision: 0.9690, Mean Recall: 0.9850\n"
     ]
    },
    {
     "name": "stderr",
     "output_type": "stream",
     "text": [
      "C:\\Users\\udays\\AppData\\Local\\Temp\\ipykernel_22228\\3925381797.py:80: FutureWarning: Series.__getitem__ treating keys as positions is deprecated. In a future version, integer keys will always be treated as labels (consistent with DataFrame behavior). To access a value by position, use `ser.iloc[pos]`\n",
      "  'labels': torch.tensor(label, dtype=torch.float32)\n",
      "Epoch 67 Training: 100%|████████████████████████████████████████████████████| 11/11 [00:13<00:00,  1.20s/it, loss=1.44]\n",
      "Epoch 67 Validation: 100%|███████████████████████████████████████████████████| 3/3 [00:01<00:00,  1.51it/s, loss=0.386]\n"
     ]
    },
    {
     "name": "stdout",
     "output_type": "stream",
     "text": [
      "Epoch 67: Train Loss=0.5795, Val Loss=0.8443\n",
      "Mean F1 Score: 0.9776, Mean Accuracy: 0.9690, Mean Precision: 0.9707, Mean Recall: 0.9850\n",
      "New best model saved for fold 2 with F1=0.9776\n"
     ]
    },
    {
     "name": "stderr",
     "output_type": "stream",
     "text": [
      "C:\\Users\\udays\\AppData\\Local\\Temp\\ipykernel_22228\\3925381797.py:80: FutureWarning: Series.__getitem__ treating keys as positions is deprecated. In a future version, integer keys will always be treated as labels (consistent with DataFrame behavior). To access a value by position, use `ser.iloc[pos]`\n",
      "  'labels': torch.tensor(label, dtype=torch.float32)\n",
      "Epoch 68 Training: 100%|███████████████████████████████████████████████████| 11/11 [00:13<00:00,  1.21s/it, loss=0.205]\n",
      "Epoch 68 Validation: 100%|███████████████████████████████████████████████████| 3/3 [00:01<00:00,  1.52it/s, loss=0.384]\n"
     ]
    },
    {
     "name": "stdout",
     "output_type": "stream",
     "text": [
      "Epoch 68: Train Loss=0.5003, Val Loss=0.8448\n",
      "Mean F1 Score: 0.9785, Mean Accuracy: 0.9701, Mean Precision: 0.9708, Mean Recall: 0.9867\n",
      "New best model saved for fold 2 with F1=0.9785\n"
     ]
    },
    {
     "name": "stderr",
     "output_type": "stream",
     "text": [
      "C:\\Users\\udays\\AppData\\Local\\Temp\\ipykernel_22228\\3925381797.py:80: FutureWarning: Series.__getitem__ treating keys as positions is deprecated. In a future version, integer keys will always be treated as labels (consistent with DataFrame behavior). To access a value by position, use `ser.iloc[pos]`\n",
      "  'labels': torch.tensor(label, dtype=torch.float32)\n",
      "Epoch 69 Training: 100%|███████████████████████████████████████████████████| 11/11 [00:13<00:00,  1.21s/it, loss=0.126]\n",
      "Epoch 69 Validation: 100%|███████████████████████████████████████████████████| 3/3 [00:01<00:00,  1.52it/s, loss=0.384]\n"
     ]
    },
    {
     "name": "stdout",
     "output_type": "stream",
     "text": [
      "Epoch 69: Train Loss=0.4771, Val Loss=0.8564\n",
      "Mean F1 Score: 0.9784, Mean Accuracy: 0.9701, Mean Precision: 0.9691, Mean Recall: 0.9882\n"
     ]
    },
    {
     "name": "stderr",
     "output_type": "stream",
     "text": [
      "C:\\Users\\udays\\AppData\\Local\\Temp\\ipykernel_22228\\3925381797.py:80: FutureWarning: Series.__getitem__ treating keys as positions is deprecated. In a future version, integer keys will always be treated as labels (consistent with DataFrame behavior). To access a value by position, use `ser.iloc[pos]`\n",
      "  'labels': torch.tensor(label, dtype=torch.float32)\n",
      "Epoch 70 Training: 100%|████████████████████████████████████████████████████| 11/11 [00:13<00:00,  1.23s/it, loss=1.79]\n",
      "Epoch 70 Validation: 100%|████████████████████████████████████████████████████| 3/3 [00:01<00:00,  1.67it/s, loss=0.39]\n"
     ]
    },
    {
     "name": "stdout",
     "output_type": "stream",
     "text": [
      "Epoch 70: Train Loss=0.5943, Val Loss=0.8607\n",
      "Mean F1 Score: 0.9784, Mean Accuracy: 0.9701, Mean Precision: 0.9691, Mean Recall: 0.9882\n"
     ]
    },
    {
     "name": "stderr",
     "output_type": "stream",
     "text": [
      "C:\\Users\\udays\\AppData\\Local\\Temp\\ipykernel_22228\\3925381797.py:80: FutureWarning: Series.__getitem__ treating keys as positions is deprecated. In a future version, integer keys will always be treated as labels (consistent with DataFrame behavior). To access a value by position, use `ser.iloc[pos]`\n",
      "  'labels': torch.tensor(label, dtype=torch.float32)\n",
      "Epoch 71 Training: 100%|███████████████████████████████████████████████████| 11/11 [00:12<00:00,  1.16s/it, loss=0.188]\n",
      "Epoch 71 Validation: 100%|███████████████████████████████████████████████████| 3/3 [00:01<00:00,  1.68it/s, loss=0.387]\n"
     ]
    },
    {
     "name": "stdout",
     "output_type": "stream",
     "text": [
      "Epoch 71: Train Loss=0.4668, Val Loss=0.8435\n",
      "Mean F1 Score: 0.9796, Mean Accuracy: 0.9723, Mean Precision: 0.9714, Mean Recall: 0.9882\n",
      "New best model saved for fold 2 with F1=0.9796\n"
     ]
    },
    {
     "name": "stderr",
     "output_type": "stream",
     "text": [
      "C:\\Users\\udays\\AppData\\Local\\Temp\\ipykernel_22228\\3925381797.py:80: FutureWarning: Series.__getitem__ treating keys as positions is deprecated. In a future version, integer keys will always be treated as labels (consistent with DataFrame behavior). To access a value by position, use `ser.iloc[pos]`\n",
      "  'labels': torch.tensor(label, dtype=torch.float32)\n",
      "Epoch 72 Training: 100%|███████████████████████████████████████████████████| 11/11 [00:12<00:00,  1.18s/it, loss=0.552]\n",
      "Epoch 72 Validation: 100%|███████████████████████████████████████████████████| 3/3 [00:01<00:00,  1.51it/s, loss=0.397]\n"
     ]
    },
    {
     "name": "stdout",
     "output_type": "stream",
     "text": [
      "Epoch 72: Train Loss=0.4819, Val Loss=0.8352\n",
      "Mean F1 Score: 0.9805, Mean Accuracy: 0.9734, Mean Precision: 0.9732, Mean Recall: 0.9882\n",
      "New best model saved for fold 2 with F1=0.9805\n"
     ]
    },
    {
     "name": "stderr",
     "output_type": "stream",
     "text": [
      "C:\\Users\\udays\\AppData\\Local\\Temp\\ipykernel_22228\\3925381797.py:80: FutureWarning: Series.__getitem__ treating keys as positions is deprecated. In a future version, integer keys will always be treated as labels (consistent with DataFrame behavior). To access a value by position, use `ser.iloc[pos]`\n",
      "  'labels': torch.tensor(label, dtype=torch.float32)\n",
      "Epoch 73 Training: 100%|███████████████████████████████████████████████████| 11/11 [00:13<00:00,  1.22s/it, loss=0.192]\n",
      "Epoch 73 Validation: 100%|████████████████████████████████████████████████████| 3/3 [00:01<00:00,  1.61it/s, loss=0.38]\n"
     ]
    },
    {
     "name": "stdout",
     "output_type": "stream",
     "text": [
      "Epoch 73: Train Loss=0.4396, Val Loss=0.8074\n",
      "Mean F1 Score: 0.9805, Mean Accuracy: 0.9734, Mean Precision: 0.9732, Mean Recall: 0.9882\n"
     ]
    },
    {
     "name": "stderr",
     "output_type": "stream",
     "text": [
      "C:\\Users\\udays\\AppData\\Local\\Temp\\ipykernel_22228\\3925381797.py:80: FutureWarning: Series.__getitem__ treating keys as positions is deprecated. In a future version, integer keys will always be treated as labels (consistent with DataFrame behavior). To access a value by position, use `ser.iloc[pos]`\n",
      "  'labels': torch.tensor(label, dtype=torch.float32)\n",
      "Epoch 74 Training: 100%|███████████████████████████████████████████████████| 11/11 [00:13<00:00,  1.21s/it, loss=0.126]\n",
      "Epoch 74 Validation: 100%|████████████████████████████████████████████████████| 3/3 [00:01<00:00,  1.55it/s, loss=0.38]\n"
     ]
    },
    {
     "name": "stdout",
     "output_type": "stream",
     "text": [
      "Epoch 74: Train Loss=0.4292, Val Loss=0.8067\n",
      "Mean F1 Score: 0.9805, Mean Accuracy: 0.9734, Mean Precision: 0.9732, Mean Recall: 0.9882\n"
     ]
    },
    {
     "name": "stderr",
     "output_type": "stream",
     "text": [
      "C:\\Users\\udays\\AppData\\Local\\Temp\\ipykernel_22228\\3925381797.py:80: FutureWarning: Series.__getitem__ treating keys as positions is deprecated. In a future version, integer keys will always be treated as labels (consistent with DataFrame behavior). To access a value by position, use `ser.iloc[pos]`\n",
      "  'labels': torch.tensor(label, dtype=torch.float32)\n",
      "Epoch 75 Training: 100%|███████████████████████████████████████████████████| 11/11 [00:13<00:00,  1.25s/it, loss=0.169]\n",
      "Epoch 75 Validation: 100%|███████████████████████████████████████████████████| 3/3 [00:02<00:00,  1.35it/s, loss=0.376]\n"
     ]
    },
    {
     "name": "stdout",
     "output_type": "stream",
     "text": [
      "Epoch 75: Train Loss=0.4302, Val Loss=0.8388\n",
      "Mean F1 Score: 0.9780, Mean Accuracy: 0.9701, Mean Precision: 0.9681, Mean Recall: 0.9882\n"
     ]
    },
    {
     "name": "stderr",
     "output_type": "stream",
     "text": [
      "C:\\Users\\udays\\AppData\\Local\\Temp\\ipykernel_22228\\3925381797.py:80: FutureWarning: Series.__getitem__ treating keys as positions is deprecated. In a future version, integer keys will always be treated as labels (consistent with DataFrame behavior). To access a value by position, use `ser.iloc[pos]`\n",
      "  'labels': torch.tensor(label, dtype=torch.float32)\n",
      "Epoch 76 Training: 100%|████████████████████████████████████████████████████| 11/11 [00:12<00:00,  1.16s/it, loss=1.47]\n",
      "Epoch 76 Validation: 100%|███████████████████████████████████████████████████| 3/3 [00:01<00:00,  1.63it/s, loss=0.406]\n"
     ]
    },
    {
     "name": "stdout",
     "output_type": "stream",
     "text": [
      "Epoch 76: Train Loss=0.5274, Val Loss=0.8151\n",
      "Mean F1 Score: 0.9794, Mean Accuracy: 0.9723, Mean Precision: 0.9710, Mean Recall: 0.9882\n"
     ]
    },
    {
     "name": "stderr",
     "output_type": "stream",
     "text": [
      "C:\\Users\\udays\\AppData\\Local\\Temp\\ipykernel_22228\\3925381797.py:80: FutureWarning: Series.__getitem__ treating keys as positions is deprecated. In a future version, integer keys will always be treated as labels (consistent with DataFrame behavior). To access a value by position, use `ser.iloc[pos]`\n",
      "  'labels': torch.tensor(label, dtype=torch.float32)\n",
      "Epoch 77 Training: 100%|███████████████████████████████████████████████████| 11/11 [00:12<00:00,  1.17s/it, loss=0.195]\n",
      "Epoch 77 Validation: 100%|███████████████████████████████████████████████████| 3/3 [00:01<00:00,  1.57it/s, loss=0.375]\n"
     ]
    },
    {
     "name": "stdout",
     "output_type": "stream",
     "text": [
      "Epoch 77: Train Loss=0.4271, Val Loss=0.7878\n",
      "Mean F1 Score: 0.9803, Mean Accuracy: 0.9734, Mean Precision: 0.9728, Mean Recall: 0.9882\n"
     ]
    },
    {
     "name": "stderr",
     "output_type": "stream",
     "text": [
      "C:\\Users\\udays\\AppData\\Local\\Temp\\ipykernel_22228\\3925381797.py:80: FutureWarning: Series.__getitem__ treating keys as positions is deprecated. In a future version, integer keys will always be treated as labels (consistent with DataFrame behavior). To access a value by position, use `ser.iloc[pos]`\n",
      "  'labels': torch.tensor(label, dtype=torch.float32)\n",
      "Epoch 78 Training: 100%|███████████████████████████████████████████████████| 11/11 [00:13<00:00,  1.18s/it, loss=0.128]\n",
      "Epoch 78 Validation: 100%|███████████████████████████████████████████████████| 3/3 [00:01<00:00,  1.55it/s, loss=0.362]\n"
     ]
    },
    {
     "name": "stdout",
     "output_type": "stream",
     "text": [
      "Epoch 78: Train Loss=0.4186, Val Loss=0.7621\n",
      "Mean F1 Score: 0.9780, Mean Accuracy: 0.9701, Mean Precision: 0.9742, Mean Recall: 0.9823\n"
     ]
    },
    {
     "name": "stderr",
     "output_type": "stream",
     "text": [
      "C:\\Users\\udays\\AppData\\Local\\Temp\\ipykernel_22228\\3925381797.py:80: FutureWarning: Series.__getitem__ treating keys as positions is deprecated. In a future version, integer keys will always be treated as labels (consistent with DataFrame behavior). To access a value by position, use `ser.iloc[pos]`\n",
      "  'labels': torch.tensor(label, dtype=torch.float32)\n",
      "Epoch 79 Training: 100%|████████████████████████████████████████████████████| 11/11 [00:13<00:00,  1.21s/it, loss=1.29]\n",
      "Epoch 79 Validation: 100%|███████████████████████████████████████████████████| 3/3 [00:02<00:00,  1.47it/s, loss=0.373]\n"
     ]
    },
    {
     "name": "stdout",
     "output_type": "stream",
     "text": [
      "Epoch 79: Train Loss=0.4970, Val Loss=0.7867\n",
      "Mean F1 Score: 0.9794, Mean Accuracy: 0.9723, Mean Precision: 0.9710, Mean Recall: 0.9882\n"
     ]
    },
    {
     "name": "stderr",
     "output_type": "stream",
     "text": [
      "C:\\Users\\udays\\AppData\\Local\\Temp\\ipykernel_22228\\3925381797.py:80: FutureWarning: Series.__getitem__ treating keys as positions is deprecated. In a future version, integer keys will always be treated as labels (consistent with DataFrame behavior). To access a value by position, use `ser.iloc[pos]`\n",
      "  'labels': torch.tensor(label, dtype=torch.float32)\n",
      "Epoch 80 Training: 100%|████████████████████████████████████████████████████| 11/11 [00:12<00:00,  1.18s/it, loss=1.75]\n",
      "Epoch 80 Validation: 100%|███████████████████████████████████████████████████| 3/3 [00:01<00:00,  1.64it/s, loss=0.365]\n"
     ]
    },
    {
     "name": "stdout",
     "output_type": "stream",
     "text": [
      "Epoch 80: Train Loss=0.5278, Val Loss=0.7688\n",
      "Mean F1 Score: 0.9780, Mean Accuracy: 0.9701, Mean Precision: 0.9726, Mean Recall: 0.9838\n"
     ]
    },
    {
     "name": "stderr",
     "output_type": "stream",
     "text": [
      "C:\\Users\\udays\\AppData\\Local\\Temp\\ipykernel_22228\\3925381797.py:80: FutureWarning: Series.__getitem__ treating keys as positions is deprecated. In a future version, integer keys will always be treated as labels (consistent with DataFrame behavior). To access a value by position, use `ser.iloc[pos]`\n",
      "  'labels': torch.tensor(label, dtype=torch.float32)\n",
      "Epoch 81 Training: 100%|███████████████████████████████████████████████████| 11/11 [00:12<00:00,  1.16s/it, loss=0.135]\n",
      "Epoch 81 Validation: 100%|███████████████████████████████████████████████████| 3/3 [00:01<00:00,  1.58it/s, loss=0.371]\n"
     ]
    },
    {
     "name": "stdout",
     "output_type": "stream",
     "text": [
      "Epoch 81: Train Loss=0.3989, Val Loss=0.8030\n",
      "Mean F1 Score: 0.9803, Mean Accuracy: 0.9734, Mean Precision: 0.9728, Mean Recall: 0.9882\n"
     ]
    },
    {
     "name": "stderr",
     "output_type": "stream",
     "text": [
      "C:\\Users\\udays\\AppData\\Local\\Temp\\ipykernel_22228\\3925381797.py:80: FutureWarning: Series.__getitem__ treating keys as positions is deprecated. In a future version, integer keys will always be treated as labels (consistent with DataFrame behavior). To access a value by position, use `ser.iloc[pos]`\n",
      "  'labels': torch.tensor(label, dtype=torch.float32)\n",
      "Epoch 82 Training: 100%|████████████████████████████████████████████████████| 11/11 [00:12<00:00,  1.10s/it, loss=1.21]\n",
      "Epoch 82 Validation: 100%|███████████████████████████████████████████████████| 3/3 [00:01<00:00,  1.77it/s, loss=0.386]\n"
     ]
    },
    {
     "name": "stdout",
     "output_type": "stream",
     "text": [
      "Epoch 82: Train Loss=0.4706, Val Loss=0.7800\n",
      "Mean F1 Score: 0.9787, Mean Accuracy: 0.9712, Mean Precision: 0.9726, Mean Recall: 0.9851\n"
     ]
    },
    {
     "name": "stderr",
     "output_type": "stream",
     "text": [
      "C:\\Users\\udays\\AppData\\Local\\Temp\\ipykernel_22228\\3925381797.py:80: FutureWarning: Series.__getitem__ treating keys as positions is deprecated. In a future version, integer keys will always be treated as labels (consistent with DataFrame behavior). To access a value by position, use `ser.iloc[pos]`\n",
      "  'labels': torch.tensor(label, dtype=torch.float32)\n",
      "Epoch 83 Training: 100%|███████████████████████████████████████████████████| 11/11 [00:13<00:00,  1.20s/it, loss=0.342]\n",
      "Epoch 83 Validation: 100%|███████████████████████████████████████████████████| 3/3 [00:01<00:00,  1.71it/s, loss=0.376]\n"
     ]
    },
    {
     "name": "stdout",
     "output_type": "stream",
     "text": [
      "Epoch 83: Train Loss=0.4021, Val Loss=0.7833\n",
      "Mean F1 Score: 0.9778, Mean Accuracy: 0.9701, Mean Precision: 0.9709, Mean Recall: 0.9851\n"
     ]
    },
    {
     "name": "stderr",
     "output_type": "stream",
     "text": [
      "C:\\Users\\udays\\AppData\\Local\\Temp\\ipykernel_22228\\3925381797.py:80: FutureWarning: Series.__getitem__ treating keys as positions is deprecated. In a future version, integer keys will always be treated as labels (consistent with DataFrame behavior). To access a value by position, use `ser.iloc[pos]`\n",
      "  'labels': torch.tensor(label, dtype=torch.float32)\n",
      "Epoch 84 Training: 100%|███████████████████████████████████████████████████| 11/11 [00:12<00:00,  1.18s/it, loss=0.402]\n",
      "Epoch 84 Validation: 100%|███████████████████████████████████████████████████| 3/3 [00:01<00:00,  1.64it/s, loss=0.373]\n"
     ]
    },
    {
     "name": "stdout",
     "output_type": "stream",
     "text": [
      "Epoch 84: Train Loss=0.4045, Val Loss=0.7774\n",
      "Mean F1 Score: 0.9794, Mean Accuracy: 0.9723, Mean Precision: 0.9727, Mean Recall: 0.9865\n"
     ]
    },
    {
     "name": "stderr",
     "output_type": "stream",
     "text": [
      "C:\\Users\\udays\\AppData\\Local\\Temp\\ipykernel_22228\\3925381797.py:80: FutureWarning: Series.__getitem__ treating keys as positions is deprecated. In a future version, integer keys will always be treated as labels (consistent with DataFrame behavior). To access a value by position, use `ser.iloc[pos]`\n",
      "  'labels': torch.tensor(label, dtype=torch.float32)\n",
      "Epoch 85 Training: 100%|███████████████████████████████████████████████████| 11/11 [00:13<00:00,  1.20s/it, loss=0.655]\n",
      "Epoch 85 Validation: 100%|███████████████████████████████████████████████████| 3/3 [00:01<00:00,  1.54it/s, loss=0.367]\n"
     ]
    },
    {
     "name": "stdout",
     "output_type": "stream",
     "text": [
      "Epoch 85: Train Loss=0.4137, Val Loss=0.7566\n",
      "Mean F1 Score: 0.9787, Mean Accuracy: 0.9712, Mean Precision: 0.9726, Mean Recall: 0.9851\n"
     ]
    },
    {
     "name": "stderr",
     "output_type": "stream",
     "text": [
      "C:\\Users\\udays\\AppData\\Local\\Temp\\ipykernel_22228\\3925381797.py:80: FutureWarning: Series.__getitem__ treating keys as positions is deprecated. In a future version, integer keys will always be treated as labels (consistent with DataFrame behavior). To access a value by position, use `ser.iloc[pos]`\n",
      "  'labels': torch.tensor(label, dtype=torch.float32)\n",
      "Epoch 86 Training: 100%|███████████████████████████████████████████████████| 11/11 [00:12<00:00,  1.15s/it, loss=0.122]\n",
      "Epoch 86 Validation: 100%|████████████████████████████████████████████████████| 3/3 [00:01<00:00,  1.55it/s, loss=0.37]\n"
     ]
    },
    {
     "name": "stdout",
     "output_type": "stream",
     "text": [
      "Epoch 86: Train Loss=0.3675, Val Loss=0.7701\n",
      "Mean F1 Score: 0.9802, Mean Accuracy: 0.9734, Mean Precision: 0.9727, Mean Recall: 0.9880\n"
     ]
    },
    {
     "name": "stderr",
     "output_type": "stream",
     "text": [
      "C:\\Users\\udays\\AppData\\Local\\Temp\\ipykernel_22228\\3925381797.py:80: FutureWarning: Series.__getitem__ treating keys as positions is deprecated. In a future version, integer keys will always be treated as labels (consistent with DataFrame behavior). To access a value by position, use `ser.iloc[pos]`\n",
      "  'labels': torch.tensor(label, dtype=torch.float32)\n",
      "Epoch 87 Training: 100%|███████████████████████████████████████████████████| 11/11 [00:13<00:00,  1.20s/it, loss=0.398]\n",
      "Epoch 87 Validation: 100%|███████████████████████████████████████████████████| 3/3 [00:01<00:00,  1.69it/s, loss=0.368]\n"
     ]
    },
    {
     "name": "stdout",
     "output_type": "stream",
     "text": [
      "Epoch 87: Train Loss=0.3832, Val Loss=0.7489\n",
      "Mean F1 Score: 0.9787, Mean Accuracy: 0.9712, Mean Precision: 0.9742, Mean Recall: 0.9836\n"
     ]
    },
    {
     "name": "stderr",
     "output_type": "stream",
     "text": [
      "C:\\Users\\udays\\AppData\\Local\\Temp\\ipykernel_22228\\3925381797.py:80: FutureWarning: Series.__getitem__ treating keys as positions is deprecated. In a future version, integer keys will always be treated as labels (consistent with DataFrame behavior). To access a value by position, use `ser.iloc[pos]`\n",
      "  'labels': torch.tensor(label, dtype=torch.float32)\n",
      "Epoch 88 Training: 100%|████████████████████████████████████████████████████| 11/11 [00:13<00:00,  1.19s/it, loss=1.27]\n",
      "Epoch 88 Validation: 100%|███████████████████████████████████████████████████| 3/3 [00:02<00:00,  1.47it/s, loss=0.364]\n"
     ]
    },
    {
     "name": "stdout",
     "output_type": "stream",
     "text": [
      "Epoch 88: Train Loss=0.4533, Val Loss=0.7905\n",
      "Mean F1 Score: 0.9802, Mean Accuracy: 0.9734, Mean Precision: 0.9727, Mean Recall: 0.9880\n"
     ]
    },
    {
     "name": "stderr",
     "output_type": "stream",
     "text": [
      "C:\\Users\\udays\\AppData\\Local\\Temp\\ipykernel_22228\\3925381797.py:80: FutureWarning: Series.__getitem__ treating keys as positions is deprecated. In a future version, integer keys will always be treated as labels (consistent with DataFrame behavior). To access a value by position, use `ser.iloc[pos]`\n",
      "  'labels': torch.tensor(label, dtype=torch.float32)\n",
      "Epoch 89 Training: 100%|███████████████████████████████████████████████████| 11/11 [00:13<00:00,  1.21s/it, loss=0.111]\n",
      "Epoch 89 Validation: 100%|████████████████████████████████████████████████████| 3/3 [00:01<00:00,  1.56it/s, loss=0.35]\n"
     ]
    },
    {
     "name": "stdout",
     "output_type": "stream",
     "text": [
      "Epoch 89: Train Loss=0.3665, Val Loss=0.7593\n",
      "Mean F1 Score: 0.9779, Mean Accuracy: 0.9701, Mean Precision: 0.9726, Mean Recall: 0.9836\n"
     ]
    },
    {
     "name": "stderr",
     "output_type": "stream",
     "text": [
      "C:\\Users\\udays\\AppData\\Local\\Temp\\ipykernel_22228\\3925381797.py:80: FutureWarning: Series.__getitem__ treating keys as positions is deprecated. In a future version, integer keys will always be treated as labels (consistent with DataFrame behavior). To access a value by position, use `ser.iloc[pos]`\n",
      "  'labels': torch.tensor(label, dtype=torch.float32)\n",
      "Epoch 90 Training: 100%|███████████████████████████████████████████████████| 11/11 [00:13<00:00,  1.19s/it, loss=0.768]\n",
      "Epoch 90 Validation: 100%|███████████████████████████████████████████████████| 3/3 [00:01<00:00,  1.56it/s, loss=0.331]\n"
     ]
    },
    {
     "name": "stdout",
     "output_type": "stream",
     "text": [
      "Epoch 90: Train Loss=0.4137, Val Loss=0.7520\n",
      "Mean F1 Score: 0.9810, Mean Accuracy: 0.9745, Mean Precision: 0.9745, Mean Recall: 0.9880\n",
      "New best model saved for fold 2 with F1=0.9810\n"
     ]
    },
    {
     "name": "stderr",
     "output_type": "stream",
     "text": [
      "C:\\Users\\udays\\AppData\\Local\\Temp\\ipykernel_22228\\3925381797.py:80: FutureWarning: Series.__getitem__ treating keys as positions is deprecated. In a future version, integer keys will always be treated as labels (consistent with DataFrame behavior). To access a value by position, use `ser.iloc[pos]`\n",
      "  'labels': torch.tensor(label, dtype=torch.float32)\n",
      "Epoch 91 Training: 100%|██████████████████████████████████████████████████| 11/11 [00:13<00:00,  1.22s/it, loss=0.0887]\n",
      "Epoch 91 Validation: 100%|███████████████████████████████████████████████████| 3/3 [00:02<00:00,  1.41it/s, loss=0.336]\n"
     ]
    },
    {
     "name": "stdout",
     "output_type": "stream",
     "text": [
      "Epoch 91: Train Loss=0.3501, Val Loss=0.7147\n",
      "Mean F1 Score: 0.9788, Mean Accuracy: 0.9712, Mean Precision: 0.9744, Mean Recall: 0.9836\n"
     ]
    },
    {
     "name": "stderr",
     "output_type": "stream",
     "text": [
      "C:\\Users\\udays\\AppData\\Local\\Temp\\ipykernel_22228\\3925381797.py:80: FutureWarning: Series.__getitem__ treating keys as positions is deprecated. In a future version, integer keys will always be treated as labels (consistent with DataFrame behavior). To access a value by position, use `ser.iloc[pos]`\n",
      "  'labels': torch.tensor(label, dtype=torch.float32)\n",
      "Epoch 92 Training: 100%|███████████████████████████████████████████████████| 11/11 [00:13<00:00,  1.20s/it, loss=0.108]\n",
      "Epoch 92 Validation: 100%|███████████████████████████████████████████████████| 3/3 [00:02<00:00,  1.42it/s, loss=0.376]\n"
     ]
    },
    {
     "name": "stdout",
     "output_type": "stream",
     "text": [
      "Epoch 92: Train Loss=0.3495, Val Loss=0.7710\n",
      "Mean F1 Score: 0.9785, Mean Accuracy: 0.9723, Mean Precision: 0.9691, Mean Recall: 0.9882\n"
     ]
    },
    {
     "name": "stderr",
     "output_type": "stream",
     "text": [
      "C:\\Users\\udays\\AppData\\Local\\Temp\\ipykernel_22228\\3925381797.py:80: FutureWarning: Series.__getitem__ treating keys as positions is deprecated. In a future version, integer keys will always be treated as labels (consistent with DataFrame behavior). To access a value by position, use `ser.iloc[pos]`\n",
      "  'labels': torch.tensor(label, dtype=torch.float32)\n",
      "Epoch 93 Training: 100%|███████████████████████████████████████████████████| 11/11 [00:13<00:00,  1.23s/it, loss=0.775]\n",
      "Epoch 93 Validation: 100%|███████████████████████████████████████████████████| 3/3 [00:02<00:00,  1.41it/s, loss=0.374]\n"
     ]
    },
    {
     "name": "stdout",
     "output_type": "stream",
     "text": [
      "Epoch 93: Train Loss=0.3845, Val Loss=0.7578\n",
      "Mean F1 Score: 0.9760, Mean Accuracy: 0.9690, Mean Precision: 0.9690, Mean Recall: 0.9836\n"
     ]
    },
    {
     "name": "stderr",
     "output_type": "stream",
     "text": [
      "C:\\Users\\udays\\AppData\\Local\\Temp\\ipykernel_22228\\3925381797.py:80: FutureWarning: Series.__getitem__ treating keys as positions is deprecated. In a future version, integer keys will always be treated as labels (consistent with DataFrame behavior). To access a value by position, use `ser.iloc[pos]`\n",
      "  'labels': torch.tensor(label, dtype=torch.float32)\n",
      "Epoch 94 Training: 100%|███████████████████████████████████████████████████| 11/11 [00:13<00:00,  1.25s/it, loss=0.297]\n",
      "Epoch 94 Validation: 100%|████████████████████████████████████████████████████| 3/3 [00:02<00:00,  1.46it/s, loss=0.42]\n"
     ]
    },
    {
     "name": "stdout",
     "output_type": "stream",
     "text": [
      "Epoch 94: Train Loss=0.3489, Val Loss=0.7716\n",
      "Mean F1 Score: 0.9794, Mean Accuracy: 0.9734, Mean Precision: 0.9676, Mean Recall: 0.9917\n"
     ]
    },
    {
     "name": "stderr",
     "output_type": "stream",
     "text": [
      "C:\\Users\\udays\\AppData\\Local\\Temp\\ipykernel_22228\\3925381797.py:80: FutureWarning: Series.__getitem__ treating keys as positions is deprecated. In a future version, integer keys will always be treated as labels (consistent with DataFrame behavior). To access a value by position, use `ser.iloc[pos]`\n",
      "  'labels': torch.tensor(label, dtype=torch.float32)\n",
      "Epoch 95 Training: 100%|███████████████████████████████████████████████████| 11/11 [00:13<00:00,  1.21s/it, loss=0.657]\n",
      "Epoch 95 Validation: 100%|███████████████████████████████████████████████████| 3/3 [00:01<00:00,  1.52it/s, loss=0.388]\n"
     ]
    },
    {
     "name": "stdout",
     "output_type": "stream",
     "text": [
      "Epoch 95: Train Loss=0.3749, Val Loss=0.7390\n",
      "Mean F1 Score: 0.9768, Mean Accuracy: 0.9701, Mean Precision: 0.9690, Mean Recall: 0.9851\n"
     ]
    },
    {
     "name": "stderr",
     "output_type": "stream",
     "text": [
      "C:\\Users\\udays\\AppData\\Local\\Temp\\ipykernel_22228\\3925381797.py:80: FutureWarning: Series.__getitem__ treating keys as positions is deprecated. In a future version, integer keys will always be treated as labels (consistent with DataFrame behavior). To access a value by position, use `ser.iloc[pos]`\n",
      "  'labels': torch.tensor(label, dtype=torch.float32)\n",
      "Epoch 96 Training: 100%|███████████████████████████████████████████████████| 11/11 [00:12<00:00,  1.16s/it, loss=0.069]\n",
      "Epoch 96 Validation: 100%|███████████████████████████████████████████████████| 3/3 [00:01<00:00,  1.67it/s, loss=0.388]\n"
     ]
    },
    {
     "name": "stdout",
     "output_type": "stream",
     "text": [
      "Epoch 96: Train Loss=0.3171, Val Loss=0.7336\n",
      "Mean F1 Score: 0.9759, Mean Accuracy: 0.9690, Mean Precision: 0.9673, Mean Recall: 0.9851\n"
     ]
    },
    {
     "name": "stderr",
     "output_type": "stream",
     "text": [
      "C:\\Users\\udays\\AppData\\Local\\Temp\\ipykernel_22228\\3925381797.py:80: FutureWarning: Series.__getitem__ treating keys as positions is deprecated. In a future version, integer keys will always be treated as labels (consistent with DataFrame behavior). To access a value by position, use `ser.iloc[pos]`\n",
      "  'labels': torch.tensor(label, dtype=torch.float32)\n",
      "Epoch 97 Training: 100%|███████████████████████████████████████████████████| 11/11 [00:13<00:00,  1.19s/it, loss=0.113]\n",
      "Epoch 97 Validation: 100%|███████████████████████████████████████████████████| 3/3 [00:02<00:00,  1.49it/s, loss=0.409]\n"
     ]
    },
    {
     "name": "stdout",
     "output_type": "stream",
     "text": [
      "Epoch 97: Train Loss=0.3131, Val Loss=0.7545\n",
      "Mean F1 Score: 0.9768, Mean Accuracy: 0.9701, Mean Precision: 0.9673, Mean Recall: 0.9867\n"
     ]
    },
    {
     "name": "stderr",
     "output_type": "stream",
     "text": [
      "C:\\Users\\udays\\AppData\\Local\\Temp\\ipykernel_22228\\3925381797.py:80: FutureWarning: Series.__getitem__ treating keys as positions is deprecated. In a future version, integer keys will always be treated as labels (consistent with DataFrame behavior). To access a value by position, use `ser.iloc[pos]`\n",
      "  'labels': torch.tensor(label, dtype=torch.float32)\n",
      "Epoch 98 Training: 100%|███████████████████████████████████████████████████| 11/11 [00:12<00:00,  1.16s/it, loss=0.659]\n",
      "Epoch 98 Validation: 100%|████████████████████████████████████████████████████| 3/3 [00:01<00:00,  1.63it/s, loss=0.38]\n"
     ]
    },
    {
     "name": "stdout",
     "output_type": "stream",
     "text": [
      "Epoch 98: Train Loss=0.3568, Val Loss=0.7530\n",
      "Mean F1 Score: 0.9811, Mean Accuracy: 0.9745, Mean Precision: 0.9728, Mean Recall: 0.9897\n",
      "New best model saved for fold 2 with F1=0.9811\n"
     ]
    },
    {
     "name": "stderr",
     "output_type": "stream",
     "text": [
      "C:\\Users\\udays\\AppData\\Local\\Temp\\ipykernel_22228\\3925381797.py:80: FutureWarning: Series.__getitem__ treating keys as positions is deprecated. In a future version, integer keys will always be treated as labels (consistent with DataFrame behavior). To access a value by position, use `ser.iloc[pos]`\n",
      "  'labels': torch.tensor(label, dtype=torch.float32)\n",
      "Epoch 99 Training: 100%|██████████████████████████████████████████████████| 11/11 [00:13<00:00,  1.18s/it, loss=0.0898]\n",
      "Epoch 99 Validation: 100%|███████████████████████████████████████████████████| 3/3 [00:02<00:00,  1.47it/s, loss=0.355]\n"
     ]
    },
    {
     "name": "stdout",
     "output_type": "stream",
     "text": [
      "Epoch 99: Train Loss=0.3101, Val Loss=0.7273\n",
      "Mean F1 Score: 0.9788, Mean Accuracy: 0.9712, Mean Precision: 0.9727, Mean Recall: 0.9853\n"
     ]
    },
    {
     "name": "stderr",
     "output_type": "stream",
     "text": [
      "C:\\Users\\udays\\AppData\\Local\\Temp\\ipykernel_22228\\3925381797.py:80: FutureWarning: Series.__getitem__ treating keys as positions is deprecated. In a future version, integer keys will always be treated as labels (consistent with DataFrame behavior). To access a value by position, use `ser.iloc[pos]`\n",
      "  'labels': torch.tensor(label, dtype=torch.float32)\n",
      "Epoch 100 Training: 100%|█████████████████████████████████████████████████| 11/11 [00:13<00:00,  1.21s/it, loss=0.0644]\n",
      "Epoch 100 Validation: 100%|██████████████████████████████████████████████████| 3/3 [00:02<00:00,  1.37it/s, loss=0.365]\n"
     ]
    },
    {
     "name": "stdout",
     "output_type": "stream",
     "text": [
      "Epoch 100: Train Loss=0.3121, Val Loss=0.7684\n",
      "Mean F1 Score: 0.9812, Mean Accuracy: 0.9745, Mean Precision: 0.9728, Mean Recall: 0.9900\n",
      "New best model saved for fold 2 with F1=0.9812\n",
      "Training fold 3...\n"
     ]
    },
    {
     "name": "stderr",
     "output_type": "stream",
     "text": [
      "C:\\Users\\udays\\AppData\\Local\\Temp\\ipykernel_22228\\3925381797.py:80: FutureWarning: Series.__getitem__ treating keys as positions is deprecated. In a future version, integer keys will always be treated as labels (consistent with DataFrame behavior). To access a value by position, use `ser.iloc[pos]`\n",
      "  'labels': torch.tensor(label, dtype=torch.float32)\n",
      "Epoch 1 Training: 100%|█████████████████████████████████████████████████████| 11/11 [00:12<00:00,  1.16s/it, loss=6.78]\n",
      "Epoch 1 Validation: 100%|█████████████████████████████████████████████████████| 3/3 [00:02<00:00,  1.27it/s, loss=6.87]\n"
     ]
    },
    {
     "name": "stdout",
     "output_type": "stream",
     "text": [
      "Epoch 1: Train Loss=7.3587, Val Loss=6.7342\n",
      "Mean F1 Score: 0.8212, Mean Accuracy: 0.8836, Mean Precision: 0.8673, Mean Recall: 0.8035\n",
      "New best model saved for fold 3 with F1=0.8212\n"
     ]
    },
    {
     "name": "stderr",
     "output_type": "stream",
     "text": [
      "C:\\Users\\udays\\AppData\\Local\\Temp\\ipykernel_22228\\3925381797.py:80: FutureWarning: Series.__getitem__ treating keys as positions is deprecated. In a future version, integer keys will always be treated as labels (consistent with DataFrame behavior). To access a value by position, use `ser.iloc[pos]`\n",
      "  'labels': torch.tensor(label, dtype=torch.float32)\n",
      "Epoch 2 Training: 100%|██████████████████████████████████████████████████████| 11/11 [00:13<00:00,  1.20s/it, loss=5.7]\n",
      "Epoch 2 Validation: 100%|██████████████████████████████████████████████████████| 3/3 [00:02<00:00,  1.33it/s, loss=5.7]\n"
     ]
    },
    {
     "name": "stdout",
     "output_type": "stream",
     "text": [
      "Epoch 2: Train Loss=6.2162, Val Loss=5.5666\n",
      "Mean F1 Score: 0.8714, Mean Accuracy: 0.9435, Mean Precision: 0.8616, Mean Recall: 0.8903\n",
      "New best model saved for fold 3 with F1=0.8714\n"
     ]
    },
    {
     "name": "stderr",
     "output_type": "stream",
     "text": [
      "C:\\Users\\udays\\AppData\\Local\\Temp\\ipykernel_22228\\3925381797.py:80: FutureWarning: Series.__getitem__ treating keys as positions is deprecated. In a future version, integer keys will always be treated as labels (consistent with DataFrame behavior). To access a value by position, use `ser.iloc[pos]`\n",
      "  'labels': torch.tensor(label, dtype=torch.float32)\n",
      "Epoch 3 Training: 100%|█████████████████████████████████████████████████████| 11/11 [00:12<00:00,  1.18s/it, loss=4.64]\n",
      "Epoch 3 Validation: 100%|█████████████████████████████████████████████████████| 3/3 [00:02<00:00,  1.35it/s, loss=4.81]\n"
     ]
    },
    {
     "name": "stdout",
     "output_type": "stream",
     "text": [
      "Epoch 3: Train Loss=5.2542, Val Loss=4.6524\n",
      "Mean F1 Score: 0.8672, Mean Accuracy: 0.9379, Mean Precision: 0.8600, Mean Recall: 0.8873\n"
     ]
    },
    {
     "name": "stderr",
     "output_type": "stream",
     "text": [
      "C:\\Users\\udays\\AppData\\Local\\Temp\\ipykernel_22228\\3925381797.py:80: FutureWarning: Series.__getitem__ treating keys as positions is deprecated. In a future version, integer keys will always be treated as labels (consistent with DataFrame behavior). To access a value by position, use `ser.iloc[pos]`\n",
      "  'labels': torch.tensor(label, dtype=torch.float32)\n",
      "Epoch 4 Training: 100%|█████████████████████████████████████████████████████| 11/11 [00:12<00:00,  1.14s/it, loss=4.25]\n",
      "Epoch 4 Validation: 100%|█████████████████████████████████████████████████████| 3/3 [00:02<00:00,  1.37it/s, loss=4.16]\n"
     ]
    },
    {
     "name": "stdout",
     "output_type": "stream",
     "text": [
      "Epoch 4: Train Loss=4.5038, Val Loss=4.0035\n",
      "Mean F1 Score: 0.8648, Mean Accuracy: 0.9346, Mean Precision: 0.8546, Mean Recall: 0.8873\n"
     ]
    },
    {
     "name": "stderr",
     "output_type": "stream",
     "text": [
      "C:\\Users\\udays\\AppData\\Local\\Temp\\ipykernel_22228\\3925381797.py:80: FutureWarning: Series.__getitem__ treating keys as positions is deprecated. In a future version, integer keys will always be treated as labels (consistent with DataFrame behavior). To access a value by position, use `ser.iloc[pos]`\n",
      "  'labels': torch.tensor(label, dtype=torch.float32)\n",
      "Epoch 5 Training: 100%|█████████████████████████████████████████████████████| 11/11 [00:12<00:00,  1.15s/it, loss=3.17]\n",
      "Epoch 5 Validation: 100%|█████████████████████████████████████████████████████| 3/3 [00:02<00:00,  1.39it/s, loss=3.67]\n"
     ]
    },
    {
     "name": "stdout",
     "output_type": "stream",
     "text": [
      "Epoch 5: Train Loss=3.8653, Val Loss=3.4725\n",
      "Mean F1 Score: 0.8704, Mean Accuracy: 0.9424, Mean Precision: 0.8687, Mean Recall: 0.8828\n"
     ]
    },
    {
     "name": "stderr",
     "output_type": "stream",
     "text": [
      "C:\\Users\\udays\\AppData\\Local\\Temp\\ipykernel_22228\\3925381797.py:80: FutureWarning: Series.__getitem__ treating keys as positions is deprecated. In a future version, integer keys will always be treated as labels (consistent with DataFrame behavior). To access a value by position, use `ser.iloc[pos]`\n",
      "  'labels': torch.tensor(label, dtype=torch.float32)\n",
      "Epoch 6 Training: 100%|█████████████████████████████████████████████████████| 11/11 [00:13<00:00,  1.19s/it, loss=3.54]\n",
      "Epoch 6 Validation: 100%|██████████████████████████████████████████████████████| 3/3 [00:01<00:00,  1.51it/s, loss=3.3]\n"
     ]
    },
    {
     "name": "stdout",
     "output_type": "stream",
     "text": [
      "Epoch 6: Train Loss=3.4749, Val Loss=3.0942\n",
      "Mean F1 Score: 0.8847, Mean Accuracy: 0.9579, Mean Precision: 0.8882, Mean Recall: 0.8842\n",
      "New best model saved for fold 3 with F1=0.8847\n"
     ]
    },
    {
     "name": "stderr",
     "output_type": "stream",
     "text": [
      "C:\\Users\\udays\\AppData\\Local\\Temp\\ipykernel_22228\\3925381797.py:80: FutureWarning: Series.__getitem__ treating keys as positions is deprecated. In a future version, integer keys will always be treated as labels (consistent with DataFrame behavior). To access a value by position, use `ser.iloc[pos]`\n",
      "  'labels': torch.tensor(label, dtype=torch.float32)\n",
      "Epoch 7 Training: 100%|█████████████████████████████████████████████████████| 11/11 [00:12<00:00,  1.09s/it, loss=3.19]\n",
      "Epoch 7 Validation: 100%|█████████████████████████████████████████████████████| 3/3 [00:02<00:00,  1.43it/s, loss=3.03]\n"
     ]
    },
    {
     "name": "stdout",
     "output_type": "stream",
     "text": [
      "Epoch 7: Train Loss=3.1572, Val Loss=2.8063\n",
      "Mean F1 Score: 0.8945, Mean Accuracy: 0.9656, Mean Precision: 0.9058, Mean Recall: 0.8842\n",
      "New best model saved for fold 3 with F1=0.8945\n"
     ]
    },
    {
     "name": "stderr",
     "output_type": "stream",
     "text": [
      "C:\\Users\\udays\\AppData\\Local\\Temp\\ipykernel_22228\\3925381797.py:80: FutureWarning: Series.__getitem__ treating keys as positions is deprecated. In a future version, integer keys will always be treated as labels (consistent with DataFrame behavior). To access a value by position, use `ser.iloc[pos]`\n",
      "  'labels': torch.tensor(label, dtype=torch.float32)\n",
      "Epoch 8 Training: 100%|█████████████████████████████████████████████████████| 11/11 [00:12<00:00,  1.17s/it, loss=2.43]\n",
      "Epoch 8 Validation: 100%|█████████████████████████████████████████████████████| 3/3 [00:02<00:00,  1.30it/s, loss=2.79]\n"
     ]
    },
    {
     "name": "stdout",
     "output_type": "stream",
     "text": [
      "Epoch 8: Train Loss=2.8263, Val Loss=2.5757\n",
      "Mean F1 Score: 0.8945, Mean Accuracy: 0.9656, Mean Precision: 0.9058, Mean Recall: 0.8842\n"
     ]
    },
    {
     "name": "stderr",
     "output_type": "stream",
     "text": [
      "C:\\Users\\udays\\AppData\\Local\\Temp\\ipykernel_22228\\3925381797.py:80: FutureWarning: Series.__getitem__ treating keys as positions is deprecated. In a future version, integer keys will always be treated as labels (consistent with DataFrame behavior). To access a value by position, use `ser.iloc[pos]`\n",
      "  'labels': torch.tensor(label, dtype=torch.float32)\n",
      "Epoch 9 Training: 100%|█████████████████████████████████████████████████████| 11/11 [00:12<00:00,  1.17s/it, loss=2.03]\n",
      "Epoch 9 Validation: 100%|█████████████████████████████████████████████████████| 3/3 [00:02<00:00,  1.26it/s, loss=2.62]\n"
     ]
    },
    {
     "name": "stdout",
     "output_type": "stream",
     "text": [
      "Epoch 9: Train Loss=2.6182, Val Loss=2.3998\n",
      "Mean F1 Score: 0.8929, Mean Accuracy: 0.9645, Mean Precision: 0.9058, Mean Recall: 0.8810\n"
     ]
    },
    {
     "name": "stderr",
     "output_type": "stream",
     "text": [
      "C:\\Users\\udays\\AppData\\Local\\Temp\\ipykernel_22228\\3925381797.py:80: FutureWarning: Series.__getitem__ treating keys as positions is deprecated. In a future version, integer keys will always be treated as labels (consistent with DataFrame behavior). To access a value by position, use `ser.iloc[pos]`\n",
      "  'labels': torch.tensor(label, dtype=torch.float32)\n",
      "Epoch 10 Training: 100%|████████████████████████████████████████████████████| 11/11 [00:12<00:00,  1.13s/it, loss=2.59]\n",
      "Epoch 10 Validation: 100%|████████████████████████████████████████████████████| 3/3 [00:02<00:00,  1.34it/s, loss=2.46]\n"
     ]
    },
    {
     "name": "stdout",
     "output_type": "stream",
     "text": [
      "Epoch 10: Train Loss=2.5038, Val Loss=2.2396\n",
      "Mean F1 Score: 0.8953, Mean Accuracy: 0.9667, Mean Precision: 0.9058, Mean Recall: 0.8857\n",
      "New best model saved for fold 3 with F1=0.8953\n"
     ]
    },
    {
     "name": "stderr",
     "output_type": "stream",
     "text": [
      "C:\\Users\\udays\\AppData\\Local\\Temp\\ipykernel_22228\\3925381797.py:80: FutureWarning: Series.__getitem__ treating keys as positions is deprecated. In a future version, integer keys will always be treated as labels (consistent with DataFrame behavior). To access a value by position, use `ser.iloc[pos]`\n",
      "  'labels': torch.tensor(label, dtype=torch.float32)\n",
      "Epoch 11 Training: 100%|████████████████████████████████████████████████████| 11/11 [00:12<00:00,  1.10s/it, loss=2.73]\n",
      "Epoch 11 Validation: 100%|████████████████████████████████████████████████████| 3/3 [00:02<00:00,  1.35it/s, loss=2.33]\n"
     ]
    },
    {
     "name": "stdout",
     "output_type": "stream",
     "text": [
      "Epoch 11: Train Loss=2.3818, Val Loss=2.1136\n",
      "Mean F1 Score: 0.8953, Mean Accuracy: 0.9667, Mean Precision: 0.9058, Mean Recall: 0.8857\n"
     ]
    },
    {
     "name": "stderr",
     "output_type": "stream",
     "text": [
      "C:\\Users\\udays\\AppData\\Local\\Temp\\ipykernel_22228\\3925381797.py:80: FutureWarning: Series.__getitem__ treating keys as positions is deprecated. In a future version, integer keys will always be treated as labels (consistent with DataFrame behavior). To access a value by position, use `ser.iloc[pos]`\n",
      "  'labels': torch.tensor(label, dtype=torch.float32)\n",
      "Epoch 12 Training: 100%|████████████████████████████████████████████████████| 11/11 [00:12<00:00,  1.09s/it, loss=2.58]\n",
      "Epoch 12 Validation: 100%|████████████████████████████████████████████████████| 3/3 [00:02<00:00,  1.19it/s, loss=2.19]\n"
     ]
    },
    {
     "name": "stdout",
     "output_type": "stream",
     "text": [
      "Epoch 12: Train Loss=2.2543, Val Loss=1.9963\n",
      "Mean F1 Score: 0.8946, Mean Accuracy: 0.9656, Mean Precision: 0.9043, Mean Recall: 0.8857\n"
     ]
    },
    {
     "name": "stderr",
     "output_type": "stream",
     "text": [
      "C:\\Users\\udays\\AppData\\Local\\Temp\\ipykernel_22228\\3925381797.py:80: FutureWarning: Series.__getitem__ treating keys as positions is deprecated. In a future version, integer keys will always be treated as labels (consistent with DataFrame behavior). To access a value by position, use `ser.iloc[pos]`\n",
      "  'labels': torch.tensor(label, dtype=torch.float32)\n",
      "Epoch 13 Training: 100%|████████████████████████████████████████████████████| 11/11 [00:12<00:00,  1.16s/it, loss=1.71]\n",
      "Epoch 13 Validation: 100%|████████████████████████████████████████████████████| 3/3 [00:02<00:00,  1.25it/s, loss=2.07]\n"
     ]
    },
    {
     "name": "stdout",
     "output_type": "stream",
     "text": [
      "Epoch 13: Train Loss=2.0915, Val Loss=1.8907\n",
      "Mean F1 Score: 0.8953, Mean Accuracy: 0.9667, Mean Precision: 0.9043, Mean Recall: 0.8871\n",
      "New best model saved for fold 3 with F1=0.8953\n"
     ]
    },
    {
     "name": "stderr",
     "output_type": "stream",
     "text": [
      "C:\\Users\\udays\\AppData\\Local\\Temp\\ipykernel_22228\\3925381797.py:80: FutureWarning: Series.__getitem__ treating keys as positions is deprecated. In a future version, integer keys will always be treated as labels (consistent with DataFrame behavior). To access a value by position, use `ser.iloc[pos]`\n",
      "  'labels': torch.tensor(label, dtype=torch.float32)\n",
      "Epoch 14 Training: 100%|████████████████████████████████████████████████████| 11/11 [00:12<00:00,  1.14s/it, loss=1.84]\n",
      "Epoch 14 Validation: 100%|████████████████████████████████████████████████████| 3/3 [00:02<00:00,  1.21it/s, loss=1.98]\n"
     ]
    },
    {
     "name": "stdout",
     "output_type": "stream",
     "text": [
      "Epoch 14: Train Loss=2.0147, Val Loss=1.8132\n",
      "Mean F1 Score: 0.8961, Mean Accuracy: 0.9678, Mean Precision: 0.9043, Mean Recall: 0.8884\n",
      "New best model saved for fold 3 with F1=0.8961\n"
     ]
    },
    {
     "name": "stderr",
     "output_type": "stream",
     "text": [
      "C:\\Users\\udays\\AppData\\Local\\Temp\\ipykernel_22228\\3925381797.py:80: FutureWarning: Series.__getitem__ treating keys as positions is deprecated. In a future version, integer keys will always be treated as labels (consistent with DataFrame behavior). To access a value by position, use `ser.iloc[pos]`\n",
      "  'labels': torch.tensor(label, dtype=torch.float32)\n",
      "Epoch 15 Training: 100%|████████████████████████████████████████████████████| 11/11 [00:12<00:00,  1.14s/it, loss=1.28]\n",
      "Epoch 15 Validation: 100%|████████████████████████████████████████████████████| 3/3 [00:02<00:00,  1.33it/s, loss=1.89]\n"
     ]
    },
    {
     "name": "stdout",
     "output_type": "stream",
     "text": [
      "Epoch 15: Train Loss=1.8792, Val Loss=1.7253\n",
      "Mean F1 Score: 0.8976, Mean Accuracy: 0.9701, Mean Precision: 0.9043, Mean Recall: 0.8912\n",
      "New best model saved for fold 3 with F1=0.8976\n"
     ]
    },
    {
     "name": "stderr",
     "output_type": "stream",
     "text": [
      "C:\\Users\\udays\\AppData\\Local\\Temp\\ipykernel_22228\\3925381797.py:80: FutureWarning: Series.__getitem__ treating keys as positions is deprecated. In a future version, integer keys will always be treated as labels (consistent with DataFrame behavior). To access a value by position, use `ser.iloc[pos]`\n",
      "  'labels': torch.tensor(label, dtype=torch.float32)\n",
      "Epoch 16 Training: 100%|████████████████████████████████████████████████████| 11/11 [00:12<00:00,  1.15s/it, loss=1.62]\n",
      "Epoch 16 Validation: 100%|█████████████████████████████████████████████████████| 3/3 [00:02<00:00,  1.21it/s, loss=1.8]\n"
     ]
    },
    {
     "name": "stdout",
     "output_type": "stream",
     "text": [
      "Epoch 16: Train Loss=1.8310, Val Loss=1.6420\n",
      "Mean F1 Score: 0.8976, Mean Accuracy: 0.9701, Mean Precision: 0.9043, Mean Recall: 0.8912\n"
     ]
    },
    {
     "name": "stderr",
     "output_type": "stream",
     "text": [
      "C:\\Users\\udays\\AppData\\Local\\Temp\\ipykernel_22228\\3925381797.py:80: FutureWarning: Series.__getitem__ treating keys as positions is deprecated. In a future version, integer keys will always be treated as labels (consistent with DataFrame behavior). To access a value by position, use `ser.iloc[pos]`\n",
      "  'labels': torch.tensor(label, dtype=torch.float32)\n",
      "Epoch 17 Training: 100%|████████████████████████████████████████████████████| 11/11 [00:12<00:00,  1.11s/it, loss=2.69]\n",
      "Epoch 17 Validation: 100%|████████████████████████████████████████████████████| 3/3 [00:02<00:00,  1.43it/s, loss=1.72]\n"
     ]
    },
    {
     "name": "stdout",
     "output_type": "stream",
     "text": [
      "Epoch 17: Train Loss=1.8530, Val Loss=1.5853\n",
      "Mean F1 Score: 0.9004, Mean Accuracy: 0.9745, Mean Precision: 0.9043, Mean Recall: 0.8967\n",
      "New best model saved for fold 3 with F1=0.9004\n"
     ]
    },
    {
     "name": "stderr",
     "output_type": "stream",
     "text": [
      "C:\\Users\\udays\\AppData\\Local\\Temp\\ipykernel_22228\\3925381797.py:80: FutureWarning: Series.__getitem__ treating keys as positions is deprecated. In a future version, integer keys will always be treated as labels (consistent with DataFrame behavior). To access a value by position, use `ser.iloc[pos]`\n",
      "  'labels': torch.tensor(label, dtype=torch.float32)\n",
      "Epoch 18 Training: 100%|████████████████████████████████████████████████████| 11/11 [00:12<00:00,  1.18s/it, loss=1.24]\n",
      "Epoch 18 Validation: 100%|████████████████████████████████████████████████████| 3/3 [00:02<00:00,  1.25it/s, loss=1.63]\n"
     ]
    },
    {
     "name": "stdout",
     "output_type": "stream",
     "text": [
      "Epoch 18: Train Loss=1.6871, Val Loss=1.5135\n",
      "Mean F1 Score: 0.9101, Mean Accuracy: 0.9690, Mean Precision: 0.9952, Mean Recall: 0.8960\n",
      "New best model saved for fold 3 with F1=0.9101\n"
     ]
    },
    {
     "name": "stderr",
     "output_type": "stream",
     "text": [
      "C:\\Users\\udays\\AppData\\Local\\Temp\\ipykernel_22228\\3925381797.py:80: FutureWarning: Series.__getitem__ treating keys as positions is deprecated. In a future version, integer keys will always be treated as labels (consistent with DataFrame behavior). To access a value by position, use `ser.iloc[pos]`\n",
      "  'labels': torch.tensor(label, dtype=torch.float32)\n",
      "Epoch 19 Training: 100%|████████████████████████████████████████████████████| 11/11 [00:13<00:00,  1.19s/it, loss=1.32]\n",
      "Epoch 19 Validation: 100%|████████████████████████████████████████████████████| 3/3 [00:02<00:00,  1.22it/s, loss=1.54]\n"
     ]
    },
    {
     "name": "stdout",
     "output_type": "stream",
     "text": [
      "Epoch 19: Train Loss=1.6443, Val Loss=1.4299\n",
      "Mean F1 Score: 0.9731, Mean Accuracy: 0.9834, Mean Precision: 0.9952, Mean Recall: 0.9573\n",
      "New best model saved for fold 3 with F1=0.9731\n"
     ]
    },
    {
     "name": "stderr",
     "output_type": "stream",
     "text": [
      "C:\\Users\\udays\\AppData\\Local\\Temp\\ipykernel_22228\\3925381797.py:80: FutureWarning: Series.__getitem__ treating keys as positions is deprecated. In a future version, integer keys will always be treated as labels (consistent with DataFrame behavior). To access a value by position, use `ser.iloc[pos]`\n",
      "  'labels': torch.tensor(label, dtype=torch.float32)\n",
      "Epoch 20 Training: 100%|████████████████████████████████████████████████████| 11/11 [00:12<00:00,  1.17s/it, loss=1.24]\n",
      "Epoch 20 Validation: 100%|████████████████████████████████████████████████████| 3/3 [00:02<00:00,  1.20it/s, loss=1.48]\n"
     ]
    },
    {
     "name": "stdout",
     "output_type": "stream",
     "text": [
      "Epoch 20: Train Loss=1.5672, Val Loss=1.3850\n",
      "Mean F1 Score: 0.9674, Mean Accuracy: 0.9823, Mean Precision: 0.9952, Mean Recall: 0.9497\n"
     ]
    },
    {
     "name": "stderr",
     "output_type": "stream",
     "text": [
      "C:\\Users\\udays\\AppData\\Local\\Temp\\ipykernel_22228\\3925381797.py:80: FutureWarning: Series.__getitem__ treating keys as positions is deprecated. In a future version, integer keys will always be treated as labels (consistent with DataFrame behavior). To access a value by position, use `ser.iloc[pos]`\n",
      "  'labels': torch.tensor(label, dtype=torch.float32)\n",
      "Epoch 21 Training: 100%|████████████████████████████████████████████████████| 11/11 [00:12<00:00,  1.13s/it, loss=1.02]\n",
      "Epoch 21 Validation: 100%|█████████████████████████████████████████████████████| 3/3 [00:02<00:00,  1.29it/s, loss=1.4]\n"
     ]
    },
    {
     "name": "stdout",
     "output_type": "stream",
     "text": [
      "Epoch 21: Train Loss=1.5004, Val Loss=1.3169\n",
      "Mean F1 Score: 0.9913, Mean Accuracy: 0.9878, Mean Precision: 0.9952, Mean Recall: 0.9876\n",
      "New best model saved for fold 3 with F1=0.9913\n"
     ]
    },
    {
     "name": "stderr",
     "output_type": "stream",
     "text": [
      "C:\\Users\\udays\\AppData\\Local\\Temp\\ipykernel_22228\\3925381797.py:80: FutureWarning: Series.__getitem__ treating keys as positions is deprecated. In a future version, integer keys will always be treated as labels (consistent with DataFrame behavior). To access a value by position, use `ser.iloc[pos]`\n",
      "  'labels': torch.tensor(label, dtype=torch.float32)\n",
      "Epoch 22 Training: 100%|████████████████████████████████████████████████████| 11/11 [00:12<00:00,  1.14s/it, loss=1.59]\n",
      "Epoch 22 Validation: 100%|████████████████████████████████████████████████████| 3/3 [00:02<00:00,  1.32it/s, loss=1.34]\n"
     ]
    },
    {
     "name": "stdout",
     "output_type": "stream",
     "text": [
      "Epoch 22: Train Loss=1.4824, Val Loss=1.2629\n",
      "Mean F1 Score: 0.9913, Mean Accuracy: 0.9878, Mean Precision: 0.9952, Mean Recall: 0.9876\n"
     ]
    },
    {
     "name": "stderr",
     "output_type": "stream",
     "text": [
      "C:\\Users\\udays\\AppData\\Local\\Temp\\ipykernel_22228\\3925381797.py:80: FutureWarning: Series.__getitem__ treating keys as positions is deprecated. In a future version, integer keys will always be treated as labels (consistent with DataFrame behavior). To access a value by position, use `ser.iloc[pos]`\n",
      "  'labels': torch.tensor(label, dtype=torch.float32)\n",
      "Epoch 23 Training: 100%|███████████████████████████████████████████████████| 11/11 [00:12<00:00,  1.10s/it, loss=0.969]\n",
      "Epoch 23 Validation: 100%|████████████████████████████████████████████████████| 3/3 [00:02<00:00,  1.29it/s, loss=1.28]\n"
     ]
    },
    {
     "name": "stdout",
     "output_type": "stream",
     "text": [
      "Epoch 23: Train Loss=1.3938, Val Loss=1.2034\n",
      "Mean F1 Score: 0.9913, Mean Accuracy: 0.9878, Mean Precision: 0.9952, Mean Recall: 0.9876\n"
     ]
    },
    {
     "name": "stderr",
     "output_type": "stream",
     "text": [
      "C:\\Users\\udays\\AppData\\Local\\Temp\\ipykernel_22228\\3925381797.py:80: FutureWarning: Series.__getitem__ treating keys as positions is deprecated. In a future version, integer keys will always be treated as labels (consistent with DataFrame behavior). To access a value by position, use `ser.iloc[pos]`\n",
      "  'labels': torch.tensor(label, dtype=torch.float32)\n",
      "Epoch 24 Training: 100%|████████████████████████████████████████████████████| 11/11 [00:12<00:00,  1.15s/it, loss=0.95]\n",
      "Epoch 24 Validation: 100%|████████████████████████████████████████████████████| 3/3 [00:02<00:00,  1.14it/s, loss=1.21]\n"
     ]
    },
    {
     "name": "stdout",
     "output_type": "stream",
     "text": [
      "Epoch 24: Train Loss=1.3432, Val Loss=1.1522\n",
      "Mean F1 Score: 0.9913, Mean Accuracy: 0.9878, Mean Precision: 0.9952, Mean Recall: 0.9876\n"
     ]
    },
    {
     "name": "stderr",
     "output_type": "stream",
     "text": [
      "C:\\Users\\udays\\AppData\\Local\\Temp\\ipykernel_22228\\3925381797.py:80: FutureWarning: Series.__getitem__ treating keys as positions is deprecated. In a future version, integer keys will always be treated as labels (consistent with DataFrame behavior). To access a value by position, use `ser.iloc[pos]`\n",
      "  'labels': torch.tensor(label, dtype=torch.float32)\n",
      "Epoch 25 Training: 100%|████████████████████████████████████████████████████| 11/11 [00:13<00:00,  1.19s/it, loss=2.19]\n",
      "Epoch 25 Validation: 100%|████████████████████████████████████████████████████| 3/3 [00:02<00:00,  1.10it/s, loss=1.16]\n"
     ]
    },
    {
     "name": "stdout",
     "output_type": "stream",
     "text": [
      "Epoch 25: Train Loss=1.3919, Val Loss=1.1072\n",
      "Mean F1 Score: 0.9913, Mean Accuracy: 0.9878, Mean Precision: 0.9952, Mean Recall: 0.9876\n"
     ]
    },
    {
     "name": "stderr",
     "output_type": "stream",
     "text": [
      "C:\\Users\\udays\\AppData\\Local\\Temp\\ipykernel_22228\\3925381797.py:80: FutureWarning: Series.__getitem__ treating keys as positions is deprecated. In a future version, integer keys will always be treated as labels (consistent with DataFrame behavior). To access a value by position, use `ser.iloc[pos]`\n",
      "  'labels': torch.tensor(label, dtype=torch.float32)\n",
      "Epoch 26 Training: 100%|████████████████████████████████████████████████████| 11/11 [00:12<00:00,  1.18s/it, loss=1.41]\n",
      "Epoch 26 Validation: 100%|████████████████████████████████████████████████████| 3/3 [00:02<00:00,  1.23it/s, loss=1.11]\n"
     ]
    },
    {
     "name": "stdout",
     "output_type": "stream",
     "text": [
      "Epoch 26: Train Loss=1.2940, Val Loss=1.0692\n",
      "Mean F1 Score: 0.9913, Mean Accuracy: 0.9878, Mean Precision: 0.9952, Mean Recall: 0.9876\n"
     ]
    },
    {
     "name": "stderr",
     "output_type": "stream",
     "text": [
      "C:\\Users\\udays\\AppData\\Local\\Temp\\ipykernel_22228\\3925381797.py:80: FutureWarning: Series.__getitem__ treating keys as positions is deprecated. In a future version, integer keys will always be treated as labels (consistent with DataFrame behavior). To access a value by position, use `ser.iloc[pos]`\n",
      "  'labels': torch.tensor(label, dtype=torch.float32)\n",
      "Epoch 27 Training: 100%|███████████████████████████████████████████████████| 11/11 [00:13<00:00,  1.18s/it, loss=0.763]\n",
      "Epoch 27 Validation: 100%|████████████████████████████████████████████████████| 3/3 [00:02<00:00,  1.43it/s, loss=1.06]\n"
     ]
    },
    {
     "name": "stdout",
     "output_type": "stream",
     "text": [
      "Epoch 27: Train Loss=1.2033, Val Loss=1.0197\n",
      "Mean F1 Score: 0.9913, Mean Accuracy: 0.9878, Mean Precision: 0.9952, Mean Recall: 0.9876\n"
     ]
    },
    {
     "name": "stderr",
     "output_type": "stream",
     "text": [
      "C:\\Users\\udays\\AppData\\Local\\Temp\\ipykernel_22228\\3925381797.py:80: FutureWarning: Series.__getitem__ treating keys as positions is deprecated. In a future version, integer keys will always be treated as labels (consistent with DataFrame behavior). To access a value by position, use `ser.iloc[pos]`\n",
      "  'labels': torch.tensor(label, dtype=torch.float32)\n",
      "Epoch 28 Training: 100%|███████████████████████████████████████████████████| 11/11 [00:12<00:00,  1.15s/it, loss=0.801]\n",
      "Epoch 28 Validation: 100%|████████████████████████████████████████████████████| 3/3 [00:02<00:00,  1.29it/s, loss=1.01]\n"
     ]
    },
    {
     "name": "stdout",
     "output_type": "stream",
     "text": [
      "Epoch 28: Train Loss=1.1643, Val Loss=0.9785\n",
      "Mean F1 Score: 0.9913, Mean Accuracy: 0.9878, Mean Precision: 0.9952, Mean Recall: 0.9876\n"
     ]
    },
    {
     "name": "stderr",
     "output_type": "stream",
     "text": [
      "C:\\Users\\udays\\AppData\\Local\\Temp\\ipykernel_22228\\3925381797.py:80: FutureWarning: Series.__getitem__ treating keys as positions is deprecated. In a future version, integer keys will always be treated as labels (consistent with DataFrame behavior). To access a value by position, use `ser.iloc[pos]`\n",
      "  'labels': torch.tensor(label, dtype=torch.float32)\n",
      "Epoch 29 Training: 100%|███████████████████████████████████████████████████| 11/11 [00:13<00:00,  1.19s/it, loss=0.726]\n",
      "Epoch 29 Validation: 100%|███████████████████████████████████████████████████| 3/3 [00:02<00:00,  1.27it/s, loss=0.967]\n"
     ]
    },
    {
     "name": "stdout",
     "output_type": "stream",
     "text": [
      "Epoch 29: Train Loss=1.1282, Val Loss=0.9410\n",
      "Mean F1 Score: 0.9913, Mean Accuracy: 0.9878, Mean Precision: 0.9952, Mean Recall: 0.9876\n"
     ]
    },
    {
     "name": "stderr",
     "output_type": "stream",
     "text": [
      "C:\\Users\\udays\\AppData\\Local\\Temp\\ipykernel_22228\\3925381797.py:80: FutureWarning: Series.__getitem__ treating keys as positions is deprecated. In a future version, integer keys will always be treated as labels (consistent with DataFrame behavior). To access a value by position, use `ser.iloc[pos]`\n",
      "  'labels': torch.tensor(label, dtype=torch.float32)\n",
      "Epoch 30 Training: 100%|███████████████████████████████████████████████████| 11/11 [00:12<00:00,  1.14s/it, loss=0.657]\n",
      "Epoch 30 Validation: 100%|███████████████████████████████████████████████████| 3/3 [00:02<00:00,  1.25it/s, loss=0.943]\n"
     ]
    },
    {
     "name": "stdout",
     "output_type": "stream",
     "text": [
      "Epoch 30: Train Loss=1.0917, Val Loss=0.9120\n",
      "Mean F1 Score: 0.9921, Mean Accuracy: 0.9889, Mean Precision: 0.9952, Mean Recall: 0.9891\n",
      "New best model saved for fold 3 with F1=0.9921\n"
     ]
    },
    {
     "name": "stderr",
     "output_type": "stream",
     "text": [
      "C:\\Users\\udays\\AppData\\Local\\Temp\\ipykernel_22228\\3925381797.py:80: FutureWarning: Series.__getitem__ treating keys as positions is deprecated. In a future version, integer keys will always be treated as labels (consistent with DataFrame behavior). To access a value by position, use `ser.iloc[pos]`\n",
      "  'labels': torch.tensor(label, dtype=torch.float32)\n",
      "Epoch 31 Training: 100%|███████████████████████████████████████████████████| 11/11 [00:12<00:00,  1.13s/it, loss=0.855]\n",
      "Epoch 31 Validation: 100%|███████████████████████████████████████████████████| 3/3 [00:02<00:00,  1.35it/s, loss=0.899]\n"
     ]
    },
    {
     "name": "stdout",
     "output_type": "stream",
     "text": [
      "Epoch 31: Train Loss=1.0766, Val Loss=0.8797\n",
      "Mean F1 Score: 0.9929, Mean Accuracy: 0.9900, Mean Precision: 0.9952, Mean Recall: 0.9906\n",
      "New best model saved for fold 3 with F1=0.9929\n"
     ]
    },
    {
     "name": "stderr",
     "output_type": "stream",
     "text": [
      "C:\\Users\\udays\\AppData\\Local\\Temp\\ipykernel_22228\\3925381797.py:80: FutureWarning: Series.__getitem__ treating keys as positions is deprecated. In a future version, integer keys will always be treated as labels (consistent with DataFrame behavior). To access a value by position, use `ser.iloc[pos]`\n",
      "  'labels': torch.tensor(label, dtype=torch.float32)\n",
      "Epoch 32 Training: 100%|████████████████████████████████████████████████████| 11/11 [00:12<00:00,  1.17s/it, loss=3.01]\n",
      "Epoch 32 Validation: 100%|███████████████████████████████████████████████████| 3/3 [00:02<00:00,  1.20it/s, loss=0.883]\n"
     ]
    },
    {
     "name": "stdout",
     "output_type": "stream",
     "text": [
      "Epoch 32: Train Loss=1.1973, Val Loss=0.8584\n",
      "Mean F1 Score: 0.9937, Mean Accuracy: 0.9911, Mean Precision: 0.9953, Mean Recall: 0.9921\n",
      "New best model saved for fold 3 with F1=0.9937\n"
     ]
    },
    {
     "name": "stderr",
     "output_type": "stream",
     "text": [
      "C:\\Users\\udays\\AppData\\Local\\Temp\\ipykernel_22228\\3925381797.py:80: FutureWarning: Series.__getitem__ treating keys as positions is deprecated. In a future version, integer keys will always be treated as labels (consistent with DataFrame behavior). To access a value by position, use `ser.iloc[pos]`\n",
      "  'labels': torch.tensor(label, dtype=torch.float32)\n",
      "Epoch 33 Training: 100%|███████████████████████████████████████████████████| 11/11 [00:12<00:00,  1.15s/it, loss=0.571]\n",
      "Epoch 33 Validation: 100%|███████████████████████████████████████████████████| 3/3 [00:02<00:00,  1.26it/s, loss=0.862]\n"
     ]
    },
    {
     "name": "stdout",
     "output_type": "stream",
     "text": [
      "Epoch 33: Train Loss=0.9845, Val Loss=0.8321\n",
      "Mean F1 Score: 0.9937, Mean Accuracy: 0.9911, Mean Precision: 0.9953, Mean Recall: 0.9921\n"
     ]
    },
    {
     "name": "stderr",
     "output_type": "stream",
     "text": [
      "C:\\Users\\udays\\AppData\\Local\\Temp\\ipykernel_22228\\3925381797.py:80: FutureWarning: Series.__getitem__ treating keys as positions is deprecated. In a future version, integer keys will always be treated as labels (consistent with DataFrame behavior). To access a value by position, use `ser.iloc[pos]`\n",
      "  'labels': torch.tensor(label, dtype=torch.float32)\n",
      "Epoch 34 Training: 100%|███████████████████████████████████████████████████| 11/11 [00:12<00:00,  1.16s/it, loss=0.832]\n",
      "Epoch 34 Validation: 100%|███████████████████████████████████████████████████| 3/3 [00:02<00:00,  1.22it/s, loss=0.811]\n"
     ]
    },
    {
     "name": "stdout",
     "output_type": "stream",
     "text": [
      "Epoch 34: Train Loss=0.9916, Val Loss=0.7981\n",
      "Mean F1 Score: 0.9944, Mean Accuracy: 0.9922, Mean Precision: 0.9953, Mean Recall: 0.9936\n",
      "New best model saved for fold 3 with F1=0.9944\n"
     ]
    },
    {
     "name": "stderr",
     "output_type": "stream",
     "text": [
      "C:\\Users\\udays\\AppData\\Local\\Temp\\ipykernel_22228\\3925381797.py:80: FutureWarning: Series.__getitem__ treating keys as positions is deprecated. In a future version, integer keys will always be treated as labels (consistent with DataFrame behavior). To access a value by position, use `ser.iloc[pos]`\n",
      "  'labels': torch.tensor(label, dtype=torch.float32)\n",
      "Epoch 35 Training: 100%|████████████████████████████████████████████████████| 11/11 [00:12<00:00,  1.16s/it, loss=1.13]\n",
      "Epoch 35 Validation: 100%|███████████████████████████████████████████████████| 3/3 [00:02<00:00,  1.25it/s, loss=0.767]\n"
     ]
    },
    {
     "name": "stdout",
     "output_type": "stream",
     "text": [
      "Epoch 35: Train Loss=0.9803, Val Loss=0.7604\n",
      "Mean F1 Score: 0.9944, Mean Accuracy: 0.9922, Mean Precision: 0.9953, Mean Recall: 0.9936\n"
     ]
    },
    {
     "name": "stderr",
     "output_type": "stream",
     "text": [
      "C:\\Users\\udays\\AppData\\Local\\Temp\\ipykernel_22228\\3925381797.py:80: FutureWarning: Series.__getitem__ treating keys as positions is deprecated. In a future version, integer keys will always be treated as labels (consistent with DataFrame behavior). To access a value by position, use `ser.iloc[pos]`\n",
      "  'labels': torch.tensor(label, dtype=torch.float32)\n",
      "Epoch 36 Training: 100%|███████████████████████████████████████████████████| 11/11 [00:12<00:00,  1.14s/it, loss=0.571]\n",
      "Epoch 36 Validation: 100%|████████████████████████████████████████████████████| 3/3 [00:02<00:00,  1.20it/s, loss=0.74]\n"
     ]
    },
    {
     "name": "stdout",
     "output_type": "stream",
     "text": [
      "Epoch 36: Train Loss=0.9125, Val Loss=0.7346\n",
      "Mean F1 Score: 0.9937, Mean Accuracy: 0.9911, Mean Precision: 0.9953, Mean Recall: 0.9921\n"
     ]
    },
    {
     "name": "stderr",
     "output_type": "stream",
     "text": [
      "C:\\Users\\udays\\AppData\\Local\\Temp\\ipykernel_22228\\3925381797.py:80: FutureWarning: Series.__getitem__ treating keys as positions is deprecated. In a future version, integer keys will always be treated as labels (consistent with DataFrame behavior). To access a value by position, use `ser.iloc[pos]`\n",
      "  'labels': torch.tensor(label, dtype=torch.float32)\n",
      "Epoch 37 Training: 100%|███████████████████████████████████████████████████| 11/11 [00:12<00:00,  1.14s/it, loss=0.496]\n",
      "Epoch 37 Validation: 100%|███████████████████████████████████████████████████| 3/3 [00:02<00:00,  1.25it/s, loss=0.724]\n"
     ]
    },
    {
     "name": "stdout",
     "output_type": "stream",
     "text": [
      "Epoch 37: Train Loss=0.8877, Val Loss=0.7167\n",
      "Mean F1 Score: 0.9944, Mean Accuracy: 0.9922, Mean Precision: 0.9953, Mean Recall: 0.9936\n"
     ]
    },
    {
     "name": "stderr",
     "output_type": "stream",
     "text": [
      "C:\\Users\\udays\\AppData\\Local\\Temp\\ipykernel_22228\\3925381797.py:80: FutureWarning: Series.__getitem__ treating keys as positions is deprecated. In a future version, integer keys will always be treated as labels (consistent with DataFrame behavior). To access a value by position, use `ser.iloc[pos]`\n",
      "  'labels': torch.tensor(label, dtype=torch.float32)\n",
      "Epoch 38 Training: 100%|███████████████████████████████████████████████████| 11/11 [00:12<00:00,  1.13s/it, loss=0.757]\n",
      "Epoch 38 Validation: 100%|███████████████████████████████████████████████████| 3/3 [00:02<00:00,  1.39it/s, loss=0.697]\n"
     ]
    },
    {
     "name": "stdout",
     "output_type": "stream",
     "text": [
      "Epoch 38: Train Loss=0.8698, Val Loss=0.6945\n",
      "Mean F1 Score: 0.9944, Mean Accuracy: 0.9922, Mean Precision: 0.9953, Mean Recall: 0.9936\n"
     ]
    },
    {
     "name": "stderr",
     "output_type": "stream",
     "text": [
      "C:\\Users\\udays\\AppData\\Local\\Temp\\ipykernel_22228\\3925381797.py:80: FutureWarning: Series.__getitem__ treating keys as positions is deprecated. In a future version, integer keys will always be treated as labels (consistent with DataFrame behavior). To access a value by position, use `ser.iloc[pos]`\n",
      "  'labels': torch.tensor(label, dtype=torch.float32)\n",
      "Epoch 39 Training: 100%|███████████████████████████████████████████████████| 11/11 [00:12<00:00,  1.17s/it, loss=0.853]\n",
      "Epoch 39 Validation: 100%|███████████████████████████████████████████████████| 3/3 [00:02<00:00,  1.17it/s, loss=0.701]\n"
     ]
    },
    {
     "name": "stdout",
     "output_type": "stream",
     "text": [
      "Epoch 39: Train Loss=0.8716, Val Loss=0.6868\n",
      "Mean F1 Score: 0.9944, Mean Accuracy: 0.9922, Mean Precision: 0.9953, Mean Recall: 0.9936\n"
     ]
    },
    {
     "name": "stderr",
     "output_type": "stream",
     "text": [
      "C:\\Users\\udays\\AppData\\Local\\Temp\\ipykernel_22228\\3925381797.py:80: FutureWarning: Series.__getitem__ treating keys as positions is deprecated. In a future version, integer keys will always be treated as labels (consistent with DataFrame behavior). To access a value by position, use `ser.iloc[pos]`\n",
      "  'labels': torch.tensor(label, dtype=torch.float32)\n",
      "Epoch 40 Training: 100%|███████████████████████████████████████████████████| 11/11 [00:12<00:00,  1.16s/it, loss=0.817]\n",
      "Epoch 40 Validation: 100%|███████████████████████████████████████████████████| 3/3 [00:02<00:00,  1.28it/s, loss=0.679]\n"
     ]
    },
    {
     "name": "stdout",
     "output_type": "stream",
     "text": [
      "Epoch 40: Train Loss=0.8493, Val Loss=0.6734\n",
      "Mean F1 Score: 0.9944, Mean Accuracy: 0.9922, Mean Precision: 0.9953, Mean Recall: 0.9936\n"
     ]
    },
    {
     "name": "stderr",
     "output_type": "stream",
     "text": [
      "C:\\Users\\udays\\AppData\\Local\\Temp\\ipykernel_22228\\3925381797.py:80: FutureWarning: Series.__getitem__ treating keys as positions is deprecated. In a future version, integer keys will always be treated as labels (consistent with DataFrame behavior). To access a value by position, use `ser.iloc[pos]`\n",
      "  'labels': torch.tensor(label, dtype=torch.float32)\n",
      "Epoch 41 Training: 100%|███████████████████████████████████████████████████| 11/11 [00:12<00:00,  1.16s/it, loss=0.643]\n",
      "Epoch 41 Validation: 100%|████████████████████████████████████████████████████| 3/3 [00:02<00:00,  1.29it/s, loss=0.63]\n"
     ]
    },
    {
     "name": "stdout",
     "output_type": "stream",
     "text": [
      "Epoch 41: Train Loss=0.8116, Val Loss=0.6390\n",
      "Mean F1 Score: 0.9952, Mean Accuracy: 0.9933, Mean Precision: 0.9969, Mean Recall: 0.9936\n",
      "New best model saved for fold 3 with F1=0.9952\n"
     ]
    },
    {
     "name": "stderr",
     "output_type": "stream",
     "text": [
      "C:\\Users\\udays\\AppData\\Local\\Temp\\ipykernel_22228\\3925381797.py:80: FutureWarning: Series.__getitem__ treating keys as positions is deprecated. In a future version, integer keys will always be treated as labels (consistent with DataFrame behavior). To access a value by position, use `ser.iloc[pos]`\n",
      "  'labels': torch.tensor(label, dtype=torch.float32)\n",
      "Epoch 42 Training: 100%|███████████████████████████████████████████████████| 11/11 [00:13<00:00,  1.20s/it, loss=0.619]\n",
      "Epoch 42 Validation: 100%|███████████████████████████████████████████████████| 3/3 [00:02<00:00,  1.23it/s, loss=0.618]\n"
     ]
    },
    {
     "name": "stdout",
     "output_type": "stream",
     "text": [
      "Epoch 42: Train Loss=0.7978, Val Loss=0.6230\n",
      "Mean F1 Score: 0.9936, Mean Accuracy: 0.9911, Mean Precision: 0.9937, Mean Recall: 0.9936\n"
     ]
    },
    {
     "name": "stderr",
     "output_type": "stream",
     "text": [
      "C:\\Users\\udays\\AppData\\Local\\Temp\\ipykernel_22228\\3925381797.py:80: FutureWarning: Series.__getitem__ treating keys as positions is deprecated. In a future version, integer keys will always be treated as labels (consistent with DataFrame behavior). To access a value by position, use `ser.iloc[pos]`\n",
      "  'labels': torch.tensor(label, dtype=torch.float32)\n",
      "Epoch 43 Training: 100%|███████████████████████████████████████████████████| 11/11 [00:12<00:00,  1.15s/it, loss=0.438]\n",
      "Epoch 43 Validation: 100%|███████████████████████████████████████████████████| 3/3 [00:02<00:00,  1.10it/s, loss=0.608]\n"
     ]
    },
    {
     "name": "stdout",
     "output_type": "stream",
     "text": [
      "Epoch 43: Train Loss=0.7669, Val Loss=0.6121\n",
      "Mean F1 Score: 0.9952, Mean Accuracy: 0.9933, Mean Precision: 0.9969, Mean Recall: 0.9936\n"
     ]
    },
    {
     "name": "stderr",
     "output_type": "stream",
     "text": [
      "C:\\Users\\udays\\AppData\\Local\\Temp\\ipykernel_22228\\3925381797.py:80: FutureWarning: Series.__getitem__ treating keys as positions is deprecated. In a future version, integer keys will always be treated as labels (consistent with DataFrame behavior). To access a value by position, use `ser.iloc[pos]`\n",
      "  'labels': torch.tensor(label, dtype=torch.float32)\n",
      "Epoch 44 Training: 100%|███████████████████████████████████████████████████| 11/11 [00:12<00:00,  1.18s/it, loss=0.992]\n",
      "Epoch 44 Validation: 100%|███████████████████████████████████████████████████| 3/3 [00:02<00:00,  1.26it/s, loss=0.588]\n"
     ]
    },
    {
     "name": "stdout",
     "output_type": "stream",
     "text": [
      "Epoch 44: Train Loss=0.7902, Val Loss=0.5945\n",
      "Mean F1 Score: 0.9944, Mean Accuracy: 0.9922, Mean Precision: 0.9953, Mean Recall: 0.9936\n"
     ]
    },
    {
     "name": "stderr",
     "output_type": "stream",
     "text": [
      "C:\\Users\\udays\\AppData\\Local\\Temp\\ipykernel_22228\\3925381797.py:80: FutureWarning: Series.__getitem__ treating keys as positions is deprecated. In a future version, integer keys will always be treated as labels (consistent with DataFrame behavior). To access a value by position, use `ser.iloc[pos]`\n",
      "  'labels': torch.tensor(label, dtype=torch.float32)\n",
      "Epoch 45 Training: 100%|███████████████████████████████████████████████████| 11/11 [00:12<00:00,  1.14s/it, loss=0.287]\n",
      "Epoch 45 Validation: 100%|███████████████████████████████████████████████████| 3/3 [00:02<00:00,  1.25it/s, loss=0.591]\n"
     ]
    },
    {
     "name": "stdout",
     "output_type": "stream",
     "text": [
      "Epoch 45: Train Loss=0.7230, Val Loss=0.5844\n",
      "Mean F1 Score: 0.9944, Mean Accuracy: 0.9922, Mean Precision: 0.9953, Mean Recall: 0.9936\n"
     ]
    },
    {
     "name": "stderr",
     "output_type": "stream",
     "text": [
      "C:\\Users\\udays\\AppData\\Local\\Temp\\ipykernel_22228\\3925381797.py:80: FutureWarning: Series.__getitem__ treating keys as positions is deprecated. In a future version, integer keys will always be treated as labels (consistent with DataFrame behavior). To access a value by position, use `ser.iloc[pos]`\n",
      "  'labels': torch.tensor(label, dtype=torch.float32)\n",
      "Epoch 46 Training: 100%|███████████████████████████████████████████████████| 11/11 [00:12<00:00,  1.15s/it, loss=0.596]\n",
      "Epoch 46 Validation: 100%|███████████████████████████████████████████████████| 3/3 [00:02<00:00,  1.16it/s, loss=0.557]\n"
     ]
    },
    {
     "name": "stdout",
     "output_type": "stream",
     "text": [
      "Epoch 46: Train Loss=0.7283, Val Loss=0.5640\n",
      "Mean F1 Score: 0.9936, Mean Accuracy: 0.9911, Mean Precision: 0.9937, Mean Recall: 0.9936\n"
     ]
    },
    {
     "name": "stderr",
     "output_type": "stream",
     "text": [
      "C:\\Users\\udays\\AppData\\Local\\Temp\\ipykernel_22228\\3925381797.py:80: FutureWarning: Series.__getitem__ treating keys as positions is deprecated. In a future version, integer keys will always be treated as labels (consistent with DataFrame behavior). To access a value by position, use `ser.iloc[pos]`\n",
      "  'labels': torch.tensor(label, dtype=torch.float32)\n",
      "Epoch 47 Training: 100%|███████████████████████████████████████████████████| 11/11 [00:12<00:00,  1.16s/it, loss=0.317]\n",
      "Epoch 47 Validation: 100%|███████████████████████████████████████████████████| 3/3 [00:02<00:00,  1.22it/s, loss=0.543]\n"
     ]
    },
    {
     "name": "stdout",
     "output_type": "stream",
     "text": [
      "Epoch 47: Train Loss=0.6924, Val Loss=0.5535\n",
      "Mean F1 Score: 0.9952, Mean Accuracy: 0.9933, Mean Precision: 0.9969, Mean Recall: 0.9936\n"
     ]
    },
    {
     "name": "stderr",
     "output_type": "stream",
     "text": [
      "C:\\Users\\udays\\AppData\\Local\\Temp\\ipykernel_22228\\3925381797.py:80: FutureWarning: Series.__getitem__ treating keys as positions is deprecated. In a future version, integer keys will always be treated as labels (consistent with DataFrame behavior). To access a value by position, use `ser.iloc[pos]`\n",
      "  'labels': torch.tensor(label, dtype=torch.float32)\n",
      "Epoch 48 Training: 100%|███████████████████████████████████████████████████| 11/11 [00:12<00:00,  1.16s/it, loss=0.492]\n",
      "Epoch 48 Validation: 100%|███████████████████████████████████████████████████| 3/3 [00:02<00:00,  1.21it/s, loss=0.536]\n"
     ]
    },
    {
     "name": "stdout",
     "output_type": "stream",
     "text": [
      "Epoch 48: Train Loss=0.7002, Val Loss=0.5410\n",
      "Mean F1 Score: 0.9944, Mean Accuracy: 0.9922, Mean Precision: 0.9953, Mean Recall: 0.9936\n"
     ]
    },
    {
     "name": "stderr",
     "output_type": "stream",
     "text": [
      "C:\\Users\\udays\\AppData\\Local\\Temp\\ipykernel_22228\\3925381797.py:80: FutureWarning: Series.__getitem__ treating keys as positions is deprecated. In a future version, integer keys will always be treated as labels (consistent with DataFrame behavior). To access a value by position, use `ser.iloc[pos]`\n",
      "  'labels': torch.tensor(label, dtype=torch.float32)\n",
      "Epoch 49 Training: 100%|███████████████████████████████████████████████████| 11/11 [00:13<00:00,  1.20s/it, loss=0.484]\n",
      "Epoch 49 Validation: 100%|███████████████████████████████████████████████████| 3/3 [00:02<00:00,  1.38it/s, loss=0.514]\n"
     ]
    },
    {
     "name": "stdout",
     "output_type": "stream",
     "text": [
      "Epoch 49: Train Loss=0.6789, Val Loss=0.5321\n",
      "Mean F1 Score: 0.9952, Mean Accuracy: 0.9933, Mean Precision: 0.9969, Mean Recall: 0.9936\n"
     ]
    },
    {
     "name": "stderr",
     "output_type": "stream",
     "text": [
      "C:\\Users\\udays\\AppData\\Local\\Temp\\ipykernel_22228\\3925381797.py:80: FutureWarning: Series.__getitem__ treating keys as positions is deprecated. In a future version, integer keys will always be treated as labels (consistent with DataFrame behavior). To access a value by position, use `ser.iloc[pos]`\n",
      "  'labels': torch.tensor(label, dtype=torch.float32)\n",
      "Epoch 50 Training: 100%|███████████████████████████████████████████████████| 11/11 [00:12<00:00,  1.18s/it, loss=0.584]\n",
      "Epoch 50 Validation: 100%|███████████████████████████████████████████████████| 3/3 [00:02<00:00,  1.20it/s, loss=0.511]\n"
     ]
    },
    {
     "name": "stdout",
     "output_type": "stream",
     "text": [
      "Epoch 50: Train Loss=0.6715, Val Loss=0.5221\n",
      "Mean F1 Score: 0.9936, Mean Accuracy: 0.9911, Mean Precision: 0.9937, Mean Recall: 0.9936\n"
     ]
    },
    {
     "name": "stderr",
     "output_type": "stream",
     "text": [
      "C:\\Users\\udays\\AppData\\Local\\Temp\\ipykernel_22228\\3925381797.py:80: FutureWarning: Series.__getitem__ treating keys as positions is deprecated. In a future version, integer keys will always be treated as labels (consistent with DataFrame behavior). To access a value by position, use `ser.iloc[pos]`\n",
      "  'labels': torch.tensor(label, dtype=torch.float32)\n",
      "Epoch 51 Training: 100%|███████████████████████████████████████████████████| 11/11 [00:12<00:00,  1.13s/it, loss=0.923]\n",
      "Epoch 51 Validation: 100%|███████████████████████████████████████████████████| 3/3 [00:02<00:00,  1.31it/s, loss=0.496]\n"
     ]
    },
    {
     "name": "stdout",
     "output_type": "stream",
     "text": [
      "Epoch 51: Train Loss=0.6852, Val Loss=0.5105\n",
      "Mean F1 Score: 0.9944, Mean Accuracy: 0.9922, Mean Precision: 0.9953, Mean Recall: 0.9936\n"
     ]
    },
    {
     "name": "stderr",
     "output_type": "stream",
     "text": [
      "C:\\Users\\udays\\AppData\\Local\\Temp\\ipykernel_22228\\3925381797.py:80: FutureWarning: Series.__getitem__ treating keys as positions is deprecated. In a future version, integer keys will always be treated as labels (consistent with DataFrame behavior). To access a value by position, use `ser.iloc[pos]`\n",
      "  'labels': torch.tensor(label, dtype=torch.float32)\n",
      "Epoch 52 Training: 100%|███████████████████████████████████████████████████| 11/11 [00:12<00:00,  1.15s/it, loss=0.323]\n",
      "Epoch 52 Validation: 100%|███████████████████████████████████████████████████| 3/3 [00:02<00:00,  1.41it/s, loss=0.494]\n"
     ]
    },
    {
     "name": "stdout",
     "output_type": "stream",
     "text": [
      "Epoch 52: Train Loss=0.6482, Val Loss=0.5028\n",
      "Mean F1 Score: 0.9952, Mean Accuracy: 0.9933, Mean Precision: 0.9969, Mean Recall: 0.9936\n"
     ]
    },
    {
     "name": "stderr",
     "output_type": "stream",
     "text": [
      "C:\\Users\\udays\\AppData\\Local\\Temp\\ipykernel_22228\\3925381797.py:80: FutureWarning: Series.__getitem__ treating keys as positions is deprecated. In a future version, integer keys will always be treated as labels (consistent with DataFrame behavior). To access a value by position, use `ser.iloc[pos]`\n",
      "  'labels': torch.tensor(label, dtype=torch.float32)\n",
      "Epoch 53 Training: 100%|███████████████████████████████████████████████████| 11/11 [00:12<00:00,  1.15s/it, loss=0.965]\n",
      "Epoch 53 Validation: 100%|███████████████████████████████████████████████████| 3/3 [00:02<00:00,  1.19it/s, loss=0.481]\n"
     ]
    },
    {
     "name": "stdout",
     "output_type": "stream",
     "text": [
      "Epoch 53: Train Loss=0.6736, Val Loss=0.4928\n",
      "Mean F1 Score: 0.9936, Mean Accuracy: 0.9911, Mean Precision: 0.9937, Mean Recall: 0.9936\n"
     ]
    },
    {
     "name": "stderr",
     "output_type": "stream",
     "text": [
      "C:\\Users\\udays\\AppData\\Local\\Temp\\ipykernel_22228\\3925381797.py:80: FutureWarning: Series.__getitem__ treating keys as positions is deprecated. In a future version, integer keys will always be treated as labels (consistent with DataFrame behavior). To access a value by position, use `ser.iloc[pos]`\n",
      "  'labels': torch.tensor(label, dtype=torch.float32)\n",
      "Epoch 54 Training: 100%|███████████████████████████████████████████████████| 11/11 [00:12<00:00,  1.14s/it, loss=0.442]\n",
      "Epoch 54 Validation: 100%|███████████████████████████████████████████████████| 3/3 [00:02<00:00,  1.41it/s, loss=0.455]\n"
     ]
    },
    {
     "name": "stdout",
     "output_type": "stream",
     "text": [
      "Epoch 54: Train Loss=0.6199, Val Loss=0.4876\n",
      "Mean F1 Score: 0.9944, Mean Accuracy: 0.9922, Mean Precision: 0.9953, Mean Recall: 0.9936\n"
     ]
    },
    {
     "name": "stderr",
     "output_type": "stream",
     "text": [
      "C:\\Users\\udays\\AppData\\Local\\Temp\\ipykernel_22228\\3925381797.py:80: FutureWarning: Series.__getitem__ treating keys as positions is deprecated. In a future version, integer keys will always be treated as labels (consistent with DataFrame behavior). To access a value by position, use `ser.iloc[pos]`\n",
      "  'labels': torch.tensor(label, dtype=torch.float32)\n",
      "Epoch 55 Training: 100%|███████████████████████████████████████████████████| 11/11 [00:11<00:00,  1.09s/it, loss=0.747]\n",
      "Epoch 55 Validation: 100%|███████████████████████████████████████████████████| 3/3 [00:02<00:00,  1.47it/s, loss=0.467]\n"
     ]
    },
    {
     "name": "stdout",
     "output_type": "stream",
     "text": [
      "Epoch 55: Train Loss=0.6274, Val Loss=0.4740\n",
      "Mean F1 Score: 0.9952, Mean Accuracy: 0.9933, Mean Precision: 0.9969, Mean Recall: 0.9936\n"
     ]
    },
    {
     "name": "stderr",
     "output_type": "stream",
     "text": [
      "C:\\Users\\udays\\AppData\\Local\\Temp\\ipykernel_22228\\3925381797.py:80: FutureWarning: Series.__getitem__ treating keys as positions is deprecated. In a future version, integer keys will always be treated as labels (consistent with DataFrame behavior). To access a value by position, use `ser.iloc[pos]`\n",
      "  'labels': torch.tensor(label, dtype=torch.float32)\n",
      "Epoch 56 Training: 100%|███████████████████████████████████████████████████| 11/11 [00:12<00:00,  1.18s/it, loss=0.285]\n",
      "Epoch 56 Validation: 100%|███████████████████████████████████████████████████| 3/3 [00:02<00:00,  1.20it/s, loss=0.437]\n"
     ]
    },
    {
     "name": "stdout",
     "output_type": "stream",
     "text": [
      "Epoch 56: Train Loss=0.5892, Val Loss=0.4630\n",
      "Mean F1 Score: 0.9936, Mean Accuracy: 0.9911, Mean Precision: 0.9937, Mean Recall: 0.9936\n"
     ]
    },
    {
     "name": "stderr",
     "output_type": "stream",
     "text": [
      "C:\\Users\\udays\\AppData\\Local\\Temp\\ipykernel_22228\\3925381797.py:80: FutureWarning: Series.__getitem__ treating keys as positions is deprecated. In a future version, integer keys will always be treated as labels (consistent with DataFrame behavior). To access a value by position, use `ser.iloc[pos]`\n",
      "  'labels': torch.tensor(label, dtype=torch.float32)\n",
      "Epoch 57 Training: 100%|███████████████████████████████████████████████████| 11/11 [00:12<00:00,  1.16s/it, loss=0.944]\n",
      "Epoch 57 Validation: 100%|███████████████████████████████████████████████████| 3/3 [00:02<00:00,  1.20it/s, loss=0.431]\n"
     ]
    },
    {
     "name": "stdout",
     "output_type": "stream",
     "text": [
      "Epoch 57: Train Loss=0.6224, Val Loss=0.4541\n",
      "Mean F1 Score: 0.9952, Mean Accuracy: 0.9933, Mean Precision: 0.9969, Mean Recall: 0.9936\n"
     ]
    },
    {
     "name": "stderr",
     "output_type": "stream",
     "text": [
      "C:\\Users\\udays\\AppData\\Local\\Temp\\ipykernel_22228\\3925381797.py:80: FutureWarning: Series.__getitem__ treating keys as positions is deprecated. In a future version, integer keys will always be treated as labels (consistent with DataFrame behavior). To access a value by position, use `ser.iloc[pos]`\n",
      "  'labels': torch.tensor(label, dtype=torch.float32)\n",
      "Epoch 58 Training: 100%|███████████████████████████████████████████████████| 11/11 [00:13<00:00,  1.19s/it, loss=0.213]\n",
      "Epoch 58 Validation: 100%|███████████████████████████████████████████████████| 3/3 [00:02<00:00,  1.23it/s, loss=0.447]\n"
     ]
    },
    {
     "name": "stdout",
     "output_type": "stream",
     "text": [
      "Epoch 58: Train Loss=0.5630, Val Loss=0.4529\n",
      "Mean F1 Score: 0.9936, Mean Accuracy: 0.9911, Mean Precision: 0.9937, Mean Recall: 0.9936\n"
     ]
    },
    {
     "name": "stderr",
     "output_type": "stream",
     "text": [
      "C:\\Users\\udays\\AppData\\Local\\Temp\\ipykernel_22228\\3925381797.py:80: FutureWarning: Series.__getitem__ treating keys as positions is deprecated. In a future version, integer keys will always be treated as labels (consistent with DataFrame behavior). To access a value by position, use `ser.iloc[pos]`\n",
      "  'labels': torch.tensor(label, dtype=torch.float32)\n",
      "Epoch 59 Training: 100%|███████████████████████████████████████████████████| 11/11 [00:12<00:00,  1.15s/it, loss=0.246]\n",
      "Epoch 59 Validation: 100%|███████████████████████████████████████████████████| 3/3 [00:02<00:00,  1.19it/s, loss=0.421]\n"
     ]
    },
    {
     "name": "stdout",
     "output_type": "stream",
     "text": [
      "Epoch 59: Train Loss=0.5657, Val Loss=0.4528\n",
      "Mean F1 Score: 0.9936, Mean Accuracy: 0.9911, Mean Precision: 0.9937, Mean Recall: 0.9936\n"
     ]
    },
    {
     "name": "stderr",
     "output_type": "stream",
     "text": [
      "C:\\Users\\udays\\AppData\\Local\\Temp\\ipykernel_22228\\3925381797.py:80: FutureWarning: Series.__getitem__ treating keys as positions is deprecated. In a future version, integer keys will always be treated as labels (consistent with DataFrame behavior). To access a value by position, use `ser.iloc[pos]`\n",
      "  'labels': torch.tensor(label, dtype=torch.float32)\n",
      "Epoch 60 Training: 100%|███████████████████████████████████████████████████| 11/11 [00:12<00:00,  1.13s/it, loss=0.827]\n",
      "Epoch 60 Validation: 100%|███████████████████████████████████████████████████| 3/3 [00:02<00:00,  1.21it/s, loss=0.437]\n"
     ]
    },
    {
     "name": "stdout",
     "output_type": "stream",
     "text": [
      "Epoch 60: Train Loss=0.5953, Val Loss=0.4519\n",
      "Mean F1 Score: 0.9936, Mean Accuracy: 0.9911, Mean Precision: 0.9937, Mean Recall: 0.9936\n"
     ]
    },
    {
     "name": "stderr",
     "output_type": "stream",
     "text": [
      "C:\\Users\\udays\\AppData\\Local\\Temp\\ipykernel_22228\\3925381797.py:80: FutureWarning: Series.__getitem__ treating keys as positions is deprecated. In a future version, integer keys will always be treated as labels (consistent with DataFrame behavior). To access a value by position, use `ser.iloc[pos]`\n",
      "  'labels': torch.tensor(label, dtype=torch.float32)\n",
      "Epoch 61 Training: 100%|████████████████████████████████████████████████████| 11/11 [00:12<00:00,  1.14s/it, loss=0.23]\n",
      "Epoch 61 Validation: 100%|███████████████████████████████████████████████████| 3/3 [00:02<00:00,  1.28it/s, loss=0.404]\n"
     ]
    },
    {
     "name": "stdout",
     "output_type": "stream",
     "text": [
      "Epoch 61: Train Loss=0.5422, Val Loss=0.4370\n",
      "Mean F1 Score: 0.9944, Mean Accuracy: 0.9922, Mean Precision: 0.9953, Mean Recall: 0.9936\n"
     ]
    },
    {
     "name": "stderr",
     "output_type": "stream",
     "text": [
      "C:\\Users\\udays\\AppData\\Local\\Temp\\ipykernel_22228\\3925381797.py:80: FutureWarning: Series.__getitem__ treating keys as positions is deprecated. In a future version, integer keys will always be treated as labels (consistent with DataFrame behavior). To access a value by position, use `ser.iloc[pos]`\n",
      "  'labels': torch.tensor(label, dtype=torch.float32)\n",
      "Epoch 62 Training: 100%|███████████████████████████████████████████████████| 11/11 [00:12<00:00,  1.16s/it, loss=0.517]\n",
      "Epoch 62 Validation: 100%|███████████████████████████████████████████████████| 3/3 [00:02<00:00,  1.45it/s, loss=0.399]\n"
     ]
    },
    {
     "name": "stdout",
     "output_type": "stream",
     "text": [
      "Epoch 62: Train Loss=0.5602, Val Loss=0.4233\n",
      "Mean F1 Score: 0.9952, Mean Accuracy: 0.9933, Mean Precision: 0.9969, Mean Recall: 0.9936\n"
     ]
    },
    {
     "name": "stderr",
     "output_type": "stream",
     "text": [
      "C:\\Users\\udays\\AppData\\Local\\Temp\\ipykernel_22228\\3925381797.py:80: FutureWarning: Series.__getitem__ treating keys as positions is deprecated. In a future version, integer keys will always be treated as labels (consistent with DataFrame behavior). To access a value by position, use `ser.iloc[pos]`\n",
      "  'labels': torch.tensor(label, dtype=torch.float32)\n",
      "Epoch 63 Training: 100%|███████████████████████████████████████████████████| 11/11 [00:12<00:00,  1.15s/it, loss=0.244]\n",
      "Epoch 63 Validation: 100%|███████████████████████████████████████████████████| 3/3 [00:02<00:00,  1.19it/s, loss=0.378]\n"
     ]
    },
    {
     "name": "stdout",
     "output_type": "stream",
     "text": [
      "Epoch 63: Train Loss=0.5221, Val Loss=0.4168\n",
      "Mean F1 Score: 0.9944, Mean Accuracy: 0.9922, Mean Precision: 0.9953, Mean Recall: 0.9936\n"
     ]
    },
    {
     "name": "stderr",
     "output_type": "stream",
     "text": [
      "C:\\Users\\udays\\AppData\\Local\\Temp\\ipykernel_22228\\3925381797.py:80: FutureWarning: Series.__getitem__ treating keys as positions is deprecated. In a future version, integer keys will always be treated as labels (consistent with DataFrame behavior). To access a value by position, use `ser.iloc[pos]`\n",
      "  'labels': torch.tensor(label, dtype=torch.float32)\n",
      "Epoch 64 Training: 100%|███████████████████████████████████████████████████| 11/11 [00:12<00:00,  1.16s/it, loss=0.175]\n",
      "Epoch 64 Validation: 100%|███████████████████████████████████████████████████| 3/3 [00:02<00:00,  1.25it/s, loss=0.395]\n"
     ]
    },
    {
     "name": "stdout",
     "output_type": "stream",
     "text": [
      "Epoch 64: Train Loss=0.5114, Val Loss=0.4245\n",
      "Mean F1 Score: 0.9936, Mean Accuracy: 0.9911, Mean Precision: 0.9937, Mean Recall: 0.9936\n"
     ]
    },
    {
     "name": "stderr",
     "output_type": "stream",
     "text": [
      "C:\\Users\\udays\\AppData\\Local\\Temp\\ipykernel_22228\\3925381797.py:80: FutureWarning: Series.__getitem__ treating keys as positions is deprecated. In a future version, integer keys will always be treated as labels (consistent with DataFrame behavior). To access a value by position, use `ser.iloc[pos]`\n",
      "  'labels': torch.tensor(label, dtype=torch.float32)\n",
      "Epoch 65 Training: 100%|████████████████████████████████████████████████████| 11/11 [00:12<00:00,  1.13s/it, loss=0.49]\n",
      "Epoch 65 Validation: 100%|███████████████████████████████████████████████████| 3/3 [00:02<00:00,  1.33it/s, loss=0.374]\n"
     ]
    },
    {
     "name": "stdout",
     "output_type": "stream",
     "text": [
      "Epoch 65: Train Loss=0.5227, Val Loss=0.4114\n",
      "Mean F1 Score: 0.9944, Mean Accuracy: 0.9922, Mean Precision: 0.9953, Mean Recall: 0.9936\n"
     ]
    },
    {
     "name": "stderr",
     "output_type": "stream",
     "text": [
      "C:\\Users\\udays\\AppData\\Local\\Temp\\ipykernel_22228\\3925381797.py:80: FutureWarning: Series.__getitem__ treating keys as positions is deprecated. In a future version, integer keys will always be treated as labels (consistent with DataFrame behavior). To access a value by position, use `ser.iloc[pos]`\n",
      "  'labels': torch.tensor(label, dtype=torch.float32)\n",
      "Epoch 66 Training: 100%|███████████████████████████████████████████████████| 11/11 [00:12<00:00,  1.18s/it, loss=0.568]\n",
      "Epoch 66 Validation: 100%|███████████████████████████████████████████████████| 3/3 [00:02<00:00,  1.32it/s, loss=0.368]\n"
     ]
    },
    {
     "name": "stdout",
     "output_type": "stream",
     "text": [
      "Epoch 66: Train Loss=0.5204, Val Loss=0.4007\n",
      "Mean F1 Score: 0.9944, Mean Accuracy: 0.9922, Mean Precision: 0.9953, Mean Recall: 0.9936\n"
     ]
    },
    {
     "name": "stderr",
     "output_type": "stream",
     "text": [
      "C:\\Users\\udays\\AppData\\Local\\Temp\\ipykernel_22228\\3925381797.py:80: FutureWarning: Series.__getitem__ treating keys as positions is deprecated. In a future version, integer keys will always be treated as labels (consistent with DataFrame behavior). To access a value by position, use `ser.iloc[pos]`\n",
      "  'labels': torch.tensor(label, dtype=torch.float32)\n",
      "Epoch 67 Training: 100%|████████████████████████████████████████████████████| 11/11 [00:12<00:00,  1.14s/it, loss=0.72]\n",
      "Epoch 67 Validation: 100%|███████████████████████████████████████████████████| 3/3 [00:02<00:00,  1.21it/s, loss=0.368]\n"
     ]
    },
    {
     "name": "stdout",
     "output_type": "stream",
     "text": [
      "Epoch 67: Train Loss=0.5288, Val Loss=0.4036\n",
      "Mean F1 Score: 0.9944, Mean Accuracy: 0.9922, Mean Precision: 0.9953, Mean Recall: 0.9936\n"
     ]
    },
    {
     "name": "stderr",
     "output_type": "stream",
     "text": [
      "C:\\Users\\udays\\AppData\\Local\\Temp\\ipykernel_22228\\3925381797.py:80: FutureWarning: Series.__getitem__ treating keys as positions is deprecated. In a future version, integer keys will always be treated as labels (consistent with DataFrame behavior). To access a value by position, use `ser.iloc[pos]`\n",
      "  'labels': torch.tensor(label, dtype=torch.float32)\n",
      "Epoch 68 Training: 100%|███████████████████████████████████████████████████| 11/11 [00:12<00:00,  1.15s/it, loss=0.741]\n",
      "Epoch 68 Validation: 100%|███████████████████████████████████████████████████| 3/3 [00:02<00:00,  1.23it/s, loss=0.369]\n"
     ]
    },
    {
     "name": "stdout",
     "output_type": "stream",
     "text": [
      "Epoch 68: Train Loss=0.5227, Val Loss=0.3995\n",
      "Mean F1 Score: 0.9944, Mean Accuracy: 0.9922, Mean Precision: 0.9953, Mean Recall: 0.9936\n"
     ]
    },
    {
     "name": "stderr",
     "output_type": "stream",
     "text": [
      "C:\\Users\\udays\\AppData\\Local\\Temp\\ipykernel_22228\\3925381797.py:80: FutureWarning: Series.__getitem__ treating keys as positions is deprecated. In a future version, integer keys will always be treated as labels (consistent with DataFrame behavior). To access a value by position, use `ser.iloc[pos]`\n",
      "  'labels': torch.tensor(label, dtype=torch.float32)\n",
      "Epoch 69 Training: 100%|███████████████████████████████████████████████████| 11/11 [00:11<00:00,  1.08s/it, loss=0.613]\n",
      "Epoch 69 Validation: 100%|███████████████████████████████████████████████████| 3/3 [00:02<00:00,  1.36it/s, loss=0.363]\n"
     ]
    },
    {
     "name": "stdout",
     "output_type": "stream",
     "text": [
      "Epoch 69: Train Loss=0.5077, Val Loss=0.3978\n",
      "Mean F1 Score: 0.9944, Mean Accuracy: 0.9922, Mean Precision: 0.9953, Mean Recall: 0.9936\n"
     ]
    },
    {
     "name": "stderr",
     "output_type": "stream",
     "text": [
      "C:\\Users\\udays\\AppData\\Local\\Temp\\ipykernel_22228\\3925381797.py:80: FutureWarning: Series.__getitem__ treating keys as positions is deprecated. In a future version, integer keys will always be treated as labels (consistent with DataFrame behavior). To access a value by position, use `ser.iloc[pos]`\n",
      "  'labels': torch.tensor(label, dtype=torch.float32)\n",
      "Epoch 70 Training: 100%|███████████████████████████████████████████████████| 11/11 [00:12<00:00,  1.17s/it, loss=0.417]\n",
      "Epoch 70 Validation: 100%|███████████████████████████████████████████████████| 3/3 [00:01<00:00,  1.56it/s, loss=0.358]\n"
     ]
    },
    {
     "name": "stdout",
     "output_type": "stream",
     "text": [
      "Epoch 70: Train Loss=0.4897, Val Loss=0.3893\n",
      "Mean F1 Score: 0.9936, Mean Accuracy: 0.9911, Mean Precision: 0.9937, Mean Recall: 0.9936\n"
     ]
    },
    {
     "name": "stderr",
     "output_type": "stream",
     "text": [
      "C:\\Users\\udays\\AppData\\Local\\Temp\\ipykernel_22228\\3925381797.py:80: FutureWarning: Series.__getitem__ treating keys as positions is deprecated. In a future version, integer keys will always be treated as labels (consistent with DataFrame behavior). To access a value by position, use `ser.iloc[pos]`\n",
      "  'labels': torch.tensor(label, dtype=torch.float32)\n",
      "Epoch 71 Training: 100%|███████████████████████████████████████████████████| 11/11 [00:11<00:00,  1.09s/it, loss=0.968]\n",
      "Epoch 71 Validation: 100%|███████████████████████████████████████████████████| 3/3 [00:02<00:00,  1.41it/s, loss=0.343]\n"
     ]
    },
    {
     "name": "stdout",
     "output_type": "stream",
     "text": [
      "Epoch 71: Train Loss=0.5235, Val Loss=0.3853\n",
      "Mean F1 Score: 0.9944, Mean Accuracy: 0.9922, Mean Precision: 0.9953, Mean Recall: 0.9936\n"
     ]
    },
    {
     "name": "stderr",
     "output_type": "stream",
     "text": [
      "C:\\Users\\udays\\AppData\\Local\\Temp\\ipykernel_22228\\3925381797.py:80: FutureWarning: Series.__getitem__ treating keys as positions is deprecated. In a future version, integer keys will always be treated as labels (consistent with DataFrame behavior). To access a value by position, use `ser.iloc[pos]`\n",
      "  'labels': torch.tensor(label, dtype=torch.float32)\n",
      "Epoch 72 Training: 100%|████████████████████████████████████████████████████| 11/11 [00:12<00:00,  1.17s/it, loss=2.05]\n",
      "Epoch 72 Validation: 100%|███████████████████████████████████████████████████| 3/3 [00:02<00:00,  1.42it/s, loss=0.357]\n"
     ]
    },
    {
     "name": "stdout",
     "output_type": "stream",
     "text": [
      "Epoch 72: Train Loss=0.5952, Val Loss=0.3876\n",
      "Mean F1 Score: 0.9936, Mean Accuracy: 0.9911, Mean Precision: 0.9937, Mean Recall: 0.9936\n"
     ]
    },
    {
     "name": "stderr",
     "output_type": "stream",
     "text": [
      "C:\\Users\\udays\\AppData\\Local\\Temp\\ipykernel_22228\\3925381797.py:80: FutureWarning: Series.__getitem__ treating keys as positions is deprecated. In a future version, integer keys will always be treated as labels (consistent with DataFrame behavior). To access a value by position, use `ser.iloc[pos]`\n",
      "  'labels': torch.tensor(label, dtype=torch.float32)\n",
      "Epoch 73 Training: 100%|███████████████████████████████████████████████████| 11/11 [00:12<00:00,  1.14s/it, loss=0.167]\n",
      "Epoch 73 Validation: 100%|███████████████████████████████████████████████████| 3/3 [00:02<00:00,  1.16it/s, loss=0.353]\n"
     ]
    },
    {
     "name": "stdout",
     "output_type": "stream",
     "text": [
      "Epoch 73: Train Loss=0.4473, Val Loss=0.3841\n",
      "Mean F1 Score: 0.9936, Mean Accuracy: 0.9911, Mean Precision: 0.9937, Mean Recall: 0.9936\n"
     ]
    },
    {
     "name": "stderr",
     "output_type": "stream",
     "text": [
      "C:\\Users\\udays\\AppData\\Local\\Temp\\ipykernel_22228\\3925381797.py:80: FutureWarning: Series.__getitem__ treating keys as positions is deprecated. In a future version, integer keys will always be treated as labels (consistent with DataFrame behavior). To access a value by position, use `ser.iloc[pos]`\n",
      "  'labels': torch.tensor(label, dtype=torch.float32)\n",
      "Epoch 74 Training: 100%|█████████████████████████████████████████████████████| 11/11 [00:12<00:00,  1.15s/it, loss=0.3]\n",
      "Epoch 74 Validation: 100%|███████████████████████████████████████████████████| 3/3 [00:02<00:00,  1.20it/s, loss=0.345]\n"
     ]
    },
    {
     "name": "stdout",
     "output_type": "stream",
     "text": [
      "Epoch 74: Train Loss=0.4600, Val Loss=0.3789\n",
      "Mean F1 Score: 0.9936, Mean Accuracy: 0.9911, Mean Precision: 0.9937, Mean Recall: 0.9936\n"
     ]
    },
    {
     "name": "stderr",
     "output_type": "stream",
     "text": [
      "C:\\Users\\udays\\AppData\\Local\\Temp\\ipykernel_22228\\3925381797.py:80: FutureWarning: Series.__getitem__ treating keys as positions is deprecated. In a future version, integer keys will always be treated as labels (consistent with DataFrame behavior). To access a value by position, use `ser.iloc[pos]`\n",
      "  'labels': torch.tensor(label, dtype=torch.float32)\n",
      "Epoch 75 Training: 100%|███████████████████████████████████████████████████| 11/11 [00:12<00:00,  1.16s/it, loss=0.351]\n",
      "Epoch 75 Validation: 100%|███████████████████████████████████████████████████| 3/3 [00:02<00:00,  1.28it/s, loss=0.334]\n"
     ]
    },
    {
     "name": "stdout",
     "output_type": "stream",
     "text": [
      "Epoch 75: Train Loss=0.4505, Val Loss=0.3764\n",
      "Mean F1 Score: 0.9936, Mean Accuracy: 0.9911, Mean Precision: 0.9937, Mean Recall: 0.9936\n"
     ]
    },
    {
     "name": "stderr",
     "output_type": "stream",
     "text": [
      "C:\\Users\\udays\\AppData\\Local\\Temp\\ipykernel_22228\\3925381797.py:80: FutureWarning: Series.__getitem__ treating keys as positions is deprecated. In a future version, integer keys will always be treated as labels (consistent with DataFrame behavior). To access a value by position, use `ser.iloc[pos]`\n",
      "  'labels': torch.tensor(label, dtype=torch.float32)\n",
      "Epoch 76 Training: 100%|███████████████████████████████████████████████████| 11/11 [00:12<00:00,  1.14s/it, loss=0.162]\n",
      "Epoch 76 Validation: 100%|███████████████████████████████████████████████████| 3/3 [00:02<00:00,  1.31it/s, loss=0.326]\n"
     ]
    },
    {
     "name": "stdout",
     "output_type": "stream",
     "text": [
      "Epoch 76: Train Loss=0.4350, Val Loss=0.3676\n",
      "Mean F1 Score: 0.9936, Mean Accuracy: 0.9911, Mean Precision: 0.9937, Mean Recall: 0.9936\n"
     ]
    },
    {
     "name": "stderr",
     "output_type": "stream",
     "text": [
      "C:\\Users\\udays\\AppData\\Local\\Temp\\ipykernel_22228\\3925381797.py:80: FutureWarning: Series.__getitem__ treating keys as positions is deprecated. In a future version, integer keys will always be treated as labels (consistent with DataFrame behavior). To access a value by position, use `ser.iloc[pos]`\n",
      "  'labels': torch.tensor(label, dtype=torch.float32)\n",
      "Epoch 77 Training: 100%|███████████████████████████████████████████████████| 11/11 [00:12<00:00,  1.14s/it, loss=0.369]\n",
      "Epoch 77 Validation: 100%|████████████████████████████████████████████████████| 3/3 [00:02<00:00,  1.27it/s, loss=0.35]\n"
     ]
    },
    {
     "name": "stdout",
     "output_type": "stream",
     "text": [
      "Epoch 77: Train Loss=0.4408, Val Loss=0.3727\n",
      "Mean F1 Score: 0.9944, Mean Accuracy: 0.9922, Mean Precision: 0.9953, Mean Recall: 0.9936\n"
     ]
    },
    {
     "name": "stderr",
     "output_type": "stream",
     "text": [
      "C:\\Users\\udays\\AppData\\Local\\Temp\\ipykernel_22228\\3925381797.py:80: FutureWarning: Series.__getitem__ treating keys as positions is deprecated. In a future version, integer keys will always be treated as labels (consistent with DataFrame behavior). To access a value by position, use `ser.iloc[pos]`\n",
      "  'labels': torch.tensor(label, dtype=torch.float32)\n",
      "Epoch 78 Training: 100%|████████████████████████████████████████████████████| 11/11 [00:12<00:00,  1.14s/it, loss=0.83]\n",
      "Epoch 78 Validation: 100%|███████████████████████████████████████████████████| 3/3 [00:02<00:00,  1.21it/s, loss=0.316]\n"
     ]
    },
    {
     "name": "stdout",
     "output_type": "stream",
     "text": [
      "Epoch 78: Train Loss=0.4725, Val Loss=0.3645\n",
      "Mean F1 Score: 0.9936, Mean Accuracy: 0.9911, Mean Precision: 0.9937, Mean Recall: 0.9936\n"
     ]
    },
    {
     "name": "stderr",
     "output_type": "stream",
     "text": [
      "C:\\Users\\udays\\AppData\\Local\\Temp\\ipykernel_22228\\3925381797.py:80: FutureWarning: Series.__getitem__ treating keys as positions is deprecated. In a future version, integer keys will always be treated as labels (consistent with DataFrame behavior). To access a value by position, use `ser.iloc[pos]`\n",
      "  'labels': torch.tensor(label, dtype=torch.float32)\n",
      "Epoch 79 Training: 100%|████████████████████████████████████████████████████| 11/11 [00:12<00:00,  1.18s/it, loss=1.21]\n",
      "Epoch 79 Validation: 100%|███████████████████████████████████████████████████| 3/3 [00:02<00:00,  1.13it/s, loss=0.325]\n"
     ]
    },
    {
     "name": "stdout",
     "output_type": "stream",
     "text": [
      "Epoch 79: Train Loss=0.4962, Val Loss=0.3594\n",
      "Mean F1 Score: 0.9936, Mean Accuracy: 0.9911, Mean Precision: 0.9937, Mean Recall: 0.9936\n"
     ]
    },
    {
     "name": "stderr",
     "output_type": "stream",
     "text": [
      "C:\\Users\\udays\\AppData\\Local\\Temp\\ipykernel_22228\\3925381797.py:80: FutureWarning: Series.__getitem__ treating keys as positions is deprecated. In a future version, integer keys will always be treated as labels (consistent with DataFrame behavior). To access a value by position, use `ser.iloc[pos]`\n",
      "  'labels': torch.tensor(label, dtype=torch.float32)\n",
      "Epoch 80 Training: 100%|███████████████████████████████████████████████████| 11/11 [00:12<00:00,  1.15s/it, loss=0.434]\n",
      "Epoch 80 Validation: 100%|███████████████████████████████████████████████████| 3/3 [00:02<00:00,  1.21it/s, loss=0.315]\n"
     ]
    },
    {
     "name": "stdout",
     "output_type": "stream",
     "text": [
      "Epoch 80: Train Loss=0.4388, Val Loss=0.3568\n",
      "Mean F1 Score: 0.9936, Mean Accuracy: 0.9911, Mean Precision: 0.9937, Mean Recall: 0.9936\n"
     ]
    },
    {
     "name": "stderr",
     "output_type": "stream",
     "text": [
      "C:\\Users\\udays\\AppData\\Local\\Temp\\ipykernel_22228\\3925381797.py:80: FutureWarning: Series.__getitem__ treating keys as positions is deprecated. In a future version, integer keys will always be treated as labels (consistent with DataFrame behavior). To access a value by position, use `ser.iloc[pos]`\n",
      "  'labels': torch.tensor(label, dtype=torch.float32)\n",
      "Epoch 81 Training: 100%|███████████████████████████████████████████████████| 11/11 [00:12<00:00,  1.17s/it, loss=0.131]\n",
      "Epoch 81 Validation: 100%|███████████████████████████████████████████████████| 3/3 [00:02<00:00,  1.31it/s, loss=0.326]\n"
     ]
    },
    {
     "name": "stdout",
     "output_type": "stream",
     "text": [
      "Epoch 81: Train Loss=0.4120, Val Loss=0.3588\n",
      "Mean F1 Score: 0.9944, Mean Accuracy: 0.9922, Mean Precision: 0.9953, Mean Recall: 0.9936\n"
     ]
    },
    {
     "name": "stderr",
     "output_type": "stream",
     "text": [
      "C:\\Users\\udays\\AppData\\Local\\Temp\\ipykernel_22228\\3925381797.py:80: FutureWarning: Series.__getitem__ treating keys as positions is deprecated. In a future version, integer keys will always be treated as labels (consistent with DataFrame behavior). To access a value by position, use `ser.iloc[pos]`\n",
      "  'labels': torch.tensor(label, dtype=torch.float32)\n",
      "Epoch 82 Training: 100%|███████████████████████████████████████████████████| 11/11 [00:12<00:00,  1.16s/it, loss=0.703]\n",
      "Epoch 82 Validation: 100%|████████████████████████████████████████████████████| 3/3 [00:02<00:00,  1.20it/s, loss=0.31]\n"
     ]
    },
    {
     "name": "stdout",
     "output_type": "stream",
     "text": [
      "Epoch 82: Train Loss=0.4622, Val Loss=0.3506\n",
      "Mean F1 Score: 0.9952, Mean Accuracy: 0.9933, Mean Precision: 0.9969, Mean Recall: 0.9936\n"
     ]
    },
    {
     "name": "stderr",
     "output_type": "stream",
     "text": [
      "C:\\Users\\udays\\AppData\\Local\\Temp\\ipykernel_22228\\3925381797.py:80: FutureWarning: Series.__getitem__ treating keys as positions is deprecated. In a future version, integer keys will always be treated as labels (consistent with DataFrame behavior). To access a value by position, use `ser.iloc[pos]`\n",
      "  'labels': torch.tensor(label, dtype=torch.float32)\n",
      "Epoch 83 Training: 100%|███████████████████████████████████████████████████| 11/11 [00:12<00:00,  1.18s/it, loss=0.113]\n",
      "Epoch 83 Validation: 100%|███████████████████████████████████████████████████| 3/3 [00:02<00:00,  1.11it/s, loss=0.344]\n"
     ]
    },
    {
     "name": "stdout",
     "output_type": "stream",
     "text": [
      "Epoch 83: Train Loss=0.4080, Val Loss=0.3664\n",
      "Mean F1 Score: 0.9944, Mean Accuracy: 0.9922, Mean Precision: 0.9937, Mean Recall: 0.9952\n"
     ]
    },
    {
     "name": "stderr",
     "output_type": "stream",
     "text": [
      "C:\\Users\\udays\\AppData\\Local\\Temp\\ipykernel_22228\\3925381797.py:80: FutureWarning: Series.__getitem__ treating keys as positions is deprecated. In a future version, integer keys will always be treated as labels (consistent with DataFrame behavior). To access a value by position, use `ser.iloc[pos]`\n",
      "  'labels': torch.tensor(label, dtype=torch.float32)\n",
      "Epoch 84 Training: 100%|███████████████████████████████████████████████████| 11/11 [00:13<00:00,  1.20s/it, loss=0.304]\n",
      "Epoch 84 Validation: 100%|███████████████████████████████████████████████████| 3/3 [00:02<00:00,  1.29it/s, loss=0.293]\n"
     ]
    },
    {
     "name": "stdout",
     "output_type": "stream",
     "text": [
      "Epoch 84: Train Loss=0.4193, Val Loss=0.3470\n",
      "Mean F1 Score: 0.9944, Mean Accuracy: 0.9922, Mean Precision: 0.9937, Mean Recall: 0.9952\n"
     ]
    },
    {
     "name": "stderr",
     "output_type": "stream",
     "text": [
      "C:\\Users\\udays\\AppData\\Local\\Temp\\ipykernel_22228\\3925381797.py:80: FutureWarning: Series.__getitem__ treating keys as positions is deprecated. In a future version, integer keys will always be treated as labels (consistent with DataFrame behavior). To access a value by position, use `ser.iloc[pos]`\n",
      "  'labels': torch.tensor(label, dtype=torch.float32)\n",
      "Epoch 85 Training: 100%|███████████████████████████████████████████████████| 11/11 [00:12<00:00,  1.12s/it, loss=0.137]\n",
      "Epoch 85 Validation: 100%|███████████████████████████████████████████████████| 3/3 [00:02<00:00,  1.26it/s, loss=0.301]\n"
     ]
    },
    {
     "name": "stdout",
     "output_type": "stream",
     "text": [
      "Epoch 85: Train Loss=0.4000, Val Loss=0.3423\n",
      "Mean F1 Score: 0.9944, Mean Accuracy: 0.9922, Mean Precision: 0.9937, Mean Recall: 0.9952\n"
     ]
    },
    {
     "name": "stderr",
     "output_type": "stream",
     "text": [
      "C:\\Users\\udays\\AppData\\Local\\Temp\\ipykernel_22228\\3925381797.py:80: FutureWarning: Series.__getitem__ treating keys as positions is deprecated. In a future version, integer keys will always be treated as labels (consistent with DataFrame behavior). To access a value by position, use `ser.iloc[pos]`\n",
      "  'labels': torch.tensor(label, dtype=torch.float32)\n",
      "Epoch 86 Training: 100%|███████████████████████████████████████████████████| 11/11 [00:13<00:00,  1.20s/it, loss=0.698]\n",
      "Epoch 86 Validation: 100%|███████████████████████████████████████████████████| 3/3 [00:02<00:00,  1.27it/s, loss=0.284]\n"
     ]
    },
    {
     "name": "stdout",
     "output_type": "stream",
     "text": [
      "Epoch 86: Train Loss=0.4345, Val Loss=0.3404\n",
      "Mean F1 Score: 0.9936, Mean Accuracy: 0.9911, Mean Precision: 0.9937, Mean Recall: 0.9936\n"
     ]
    },
    {
     "name": "stderr",
     "output_type": "stream",
     "text": [
      "C:\\Users\\udays\\AppData\\Local\\Temp\\ipykernel_22228\\3925381797.py:80: FutureWarning: Series.__getitem__ treating keys as positions is deprecated. In a future version, integer keys will always be treated as labels (consistent with DataFrame behavior). To access a value by position, use `ser.iloc[pos]`\n",
      "  'labels': torch.tensor(label, dtype=torch.float32)\n",
      "Epoch 87 Training: 100%|███████████████████████████████████████████████████| 11/11 [00:12<00:00,  1.14s/it, loss=0.117]\n",
      "Epoch 87 Validation: 100%|███████████████████████████████████████████████████| 3/3 [00:02<00:00,  1.29it/s, loss=0.296]\n"
     ]
    },
    {
     "name": "stdout",
     "output_type": "stream",
     "text": [
      "Epoch 87: Train Loss=0.3874, Val Loss=0.3413\n",
      "Mean F1 Score: 0.9936, Mean Accuracy: 0.9911, Mean Precision: 0.9937, Mean Recall: 0.9936\n"
     ]
    },
    {
     "name": "stderr",
     "output_type": "stream",
     "text": [
      "C:\\Users\\udays\\AppData\\Local\\Temp\\ipykernel_22228\\3925381797.py:80: FutureWarning: Series.__getitem__ treating keys as positions is deprecated. In a future version, integer keys will always be treated as labels (consistent with DataFrame behavior). To access a value by position, use `ser.iloc[pos]`\n",
      "  'labels': torch.tensor(label, dtype=torch.float32)\n",
      "Epoch 88 Training: 100%|███████████████████████████████████████████████████| 11/11 [00:12<00:00,  1.18s/it, loss=0.127]\n",
      "Epoch 88 Validation: 100%|███████████████████████████████████████████████████| 3/3 [00:02<00:00,  1.17it/s, loss=0.285]\n"
     ]
    },
    {
     "name": "stdout",
     "output_type": "stream",
     "text": [
      "Epoch 88: Train Loss=0.3887, Val Loss=0.3370\n",
      "Mean F1 Score: 0.9936, Mean Accuracy: 0.9911, Mean Precision: 0.9937, Mean Recall: 0.9936\n"
     ]
    },
    {
     "name": "stderr",
     "output_type": "stream",
     "text": [
      "C:\\Users\\udays\\AppData\\Local\\Temp\\ipykernel_22228\\3925381797.py:80: FutureWarning: Series.__getitem__ treating keys as positions is deprecated. In a future version, integer keys will always be treated as labels (consistent with DataFrame behavior). To access a value by position, use `ser.iloc[pos]`\n",
      "  'labels': torch.tensor(label, dtype=torch.float32)\n",
      "Epoch 89 Training: 100%|████████████████████████████████████████████████████| 11/11 [00:12<00:00,  1.15s/it, loss=0.11]\n",
      "Epoch 89 Validation: 100%|███████████████████████████████████████████████████| 3/3 [00:02<00:00,  1.19it/s, loss=0.286]\n"
     ]
    },
    {
     "name": "stdout",
     "output_type": "stream",
     "text": [
      "Epoch 89: Train Loss=0.3831, Val Loss=0.3349\n",
      "Mean F1 Score: 0.9936, Mean Accuracy: 0.9911, Mean Precision: 0.9937, Mean Recall: 0.9936\n"
     ]
    },
    {
     "name": "stderr",
     "output_type": "stream",
     "text": [
      "C:\\Users\\udays\\AppData\\Local\\Temp\\ipykernel_22228\\3925381797.py:80: FutureWarning: Series.__getitem__ treating keys as positions is deprecated. In a future version, integer keys will always be treated as labels (consistent with DataFrame behavior). To access a value by position, use `ser.iloc[pos]`\n",
      "  'labels': torch.tensor(label, dtype=torch.float32)\n",
      "Epoch 90 Training: 100%|███████████████████████████████████████████████████| 11/11 [00:13<00:00,  1.20s/it, loss=0.108]\n",
      "Epoch 90 Validation: 100%|███████████████████████████████████████████████████| 3/3 [00:02<00:00,  1.25it/s, loss=0.277]\n"
     ]
    },
    {
     "name": "stdout",
     "output_type": "stream",
     "text": [
      "Epoch 90: Train Loss=0.3722, Val Loss=0.3304\n",
      "Mean F1 Score: 0.9936, Mean Accuracy: 0.9911, Mean Precision: 0.9937, Mean Recall: 0.9936\n"
     ]
    },
    {
     "name": "stderr",
     "output_type": "stream",
     "text": [
      "C:\\Users\\udays\\AppData\\Local\\Temp\\ipykernel_22228\\3925381797.py:80: FutureWarning: Series.__getitem__ treating keys as positions is deprecated. In a future version, integer keys will always be treated as labels (consistent with DataFrame behavior). To access a value by position, use `ser.iloc[pos]`\n",
      "  'labels': torch.tensor(label, dtype=torch.float32)\n",
      "Epoch 91 Training: 100%|██████████████████████████████████████████████████| 11/11 [00:12<00:00,  1.15s/it, loss=0.0846]\n",
      "Epoch 91 Validation: 100%|███████████████████████████████████████████████████| 3/3 [00:02<00:00,  1.28it/s, loss=0.277]\n"
     ]
    },
    {
     "name": "stdout",
     "output_type": "stream",
     "text": [
      "Epoch 91: Train Loss=0.3646, Val Loss=0.3330\n",
      "Mean F1 Score: 0.9936, Mean Accuracy: 0.9911, Mean Precision: 0.9937, Mean Recall: 0.9936\n"
     ]
    },
    {
     "name": "stderr",
     "output_type": "stream",
     "text": [
      "C:\\Users\\udays\\AppData\\Local\\Temp\\ipykernel_22228\\3925381797.py:80: FutureWarning: Series.__getitem__ treating keys as positions is deprecated. In a future version, integer keys will always be treated as labels (consistent with DataFrame behavior). To access a value by position, use `ser.iloc[pos]`\n",
      "  'labels': torch.tensor(label, dtype=torch.float32)\n",
      "Epoch 92 Training: 100%|███████████████████████████████████████████████████| 11/11 [00:12<00:00,  1.15s/it, loss=0.732]\n",
      "Epoch 92 Validation: 100%|███████████████████████████████████████████████████| 3/3 [00:02<00:00,  1.21it/s, loss=0.271]\n"
     ]
    },
    {
     "name": "stdout",
     "output_type": "stream",
     "text": [
      "Epoch 92: Train Loss=0.4101, Val Loss=0.3274\n",
      "Mean F1 Score: 0.9936, Mean Accuracy: 0.9911, Mean Precision: 0.9937, Mean Recall: 0.9936\n"
     ]
    },
    {
     "name": "stderr",
     "output_type": "stream",
     "text": [
      "C:\\Users\\udays\\AppData\\Local\\Temp\\ipykernel_22228\\3925381797.py:80: FutureWarning: Series.__getitem__ treating keys as positions is deprecated. In a future version, integer keys will always be treated as labels (consistent with DataFrame behavior). To access a value by position, use `ser.iloc[pos]`\n",
      "  'labels': torch.tensor(label, dtype=torch.float32)\n",
      "Epoch 93 Training: 100%|███████████████████████████████████████████████████| 11/11 [00:12<00:00,  1.15s/it, loss=0.217]\n",
      "Epoch 93 Validation: 100%|███████████████████████████████████████████████████| 3/3 [00:02<00:00,  1.20it/s, loss=0.261]\n"
     ]
    },
    {
     "name": "stdout",
     "output_type": "stream",
     "text": [
      "Epoch 93: Train Loss=0.3688, Val Loss=0.3148\n",
      "Mean F1 Score: 0.9944, Mean Accuracy: 0.9922, Mean Precision: 0.9953, Mean Recall: 0.9936\n"
     ]
    },
    {
     "name": "stderr",
     "output_type": "stream",
     "text": [
      "C:\\Users\\udays\\AppData\\Local\\Temp\\ipykernel_22228\\3925381797.py:80: FutureWarning: Series.__getitem__ treating keys as positions is deprecated. In a future version, integer keys will always be treated as labels (consistent with DataFrame behavior). To access a value by position, use `ser.iloc[pos]`\n",
      "  'labels': torch.tensor(label, dtype=torch.float32)\n",
      "Epoch 94 Training: 100%|██████████████████████████████████████████████████| 11/11 [00:12<00:00,  1.13s/it, loss=0.0907]\n",
      "Epoch 94 Validation: 100%|███████████████████████████████████████████████████| 3/3 [00:02<00:00,  1.20it/s, loss=0.265]\n"
     ]
    },
    {
     "name": "stdout",
     "output_type": "stream",
     "text": [
      "Epoch 94: Train Loss=0.3561, Val Loss=0.3312\n",
      "Mean F1 Score: 0.9936, Mean Accuracy: 0.9911, Mean Precision: 0.9937, Mean Recall: 0.9936\n"
     ]
    },
    {
     "name": "stderr",
     "output_type": "stream",
     "text": [
      "C:\\Users\\udays\\AppData\\Local\\Temp\\ipykernel_22228\\3925381797.py:80: FutureWarning: Series.__getitem__ treating keys as positions is deprecated. In a future version, integer keys will always be treated as labels (consistent with DataFrame behavior). To access a value by position, use `ser.iloc[pos]`\n",
      "  'labels': torch.tensor(label, dtype=torch.float32)\n",
      "Epoch 95 Training: 100%|████████████████████████████████████████████████████| 11/11 [00:12<00:00,  1.14s/it, loss=2.19]\n",
      "Epoch 95 Validation: 100%|████████████████████████████████████████████████████| 3/3 [00:02<00:00,  1.39it/s, loss=0.26]\n"
     ]
    },
    {
     "name": "stdout",
     "output_type": "stream",
     "text": [
      "Epoch 95: Train Loss=0.5086, Val Loss=0.3206\n",
      "Mean F1 Score: 0.9936, Mean Accuracy: 0.9911, Mean Precision: 0.9937, Mean Recall: 0.9936\n"
     ]
    },
    {
     "name": "stderr",
     "output_type": "stream",
     "text": [
      "C:\\Users\\udays\\AppData\\Local\\Temp\\ipykernel_22228\\3925381797.py:80: FutureWarning: Series.__getitem__ treating keys as positions is deprecated. In a future version, integer keys will always be treated as labels (consistent with DataFrame behavior). To access a value by position, use `ser.iloc[pos]`\n",
      "  'labels': torch.tensor(label, dtype=torch.float32)\n",
      "Epoch 96 Training: 100%|███████████████████████████████████████████████████| 11/11 [00:12<00:00,  1.13s/it, loss=0.814]\n",
      "Epoch 96 Validation: 100%|███████████████████████████████████████████████████| 3/3 [00:02<00:00,  1.25it/s, loss=0.271]\n"
     ]
    },
    {
     "name": "stdout",
     "output_type": "stream",
     "text": [
      "Epoch 96: Train Loss=0.4058, Val Loss=0.3234\n",
      "Mean F1 Score: 0.9944, Mean Accuracy: 0.9922, Mean Precision: 0.9953, Mean Recall: 0.9936\n"
     ]
    },
    {
     "name": "stderr",
     "output_type": "stream",
     "text": [
      "C:\\Users\\udays\\AppData\\Local\\Temp\\ipykernel_22228\\3925381797.py:80: FutureWarning: Series.__getitem__ treating keys as positions is deprecated. In a future version, integer keys will always be treated as labels (consistent with DataFrame behavior). To access a value by position, use `ser.iloc[pos]`\n",
      "  'labels': torch.tensor(label, dtype=torch.float32)\n",
      "Epoch 97 Training: 100%|███████████████████████████████████████████████████| 11/11 [00:12<00:00,  1.18s/it, loss=0.082]\n",
      "Epoch 97 Validation: 100%|███████████████████████████████████████████████████| 3/3 [00:02<00:00,  1.15it/s, loss=0.249]\n"
     ]
    },
    {
     "name": "stdout",
     "output_type": "stream",
     "text": [
      "Epoch 97: Train Loss=0.3569, Val Loss=0.3114\n",
      "Mean F1 Score: 0.9936, Mean Accuracy: 0.9911, Mean Precision: 0.9937, Mean Recall: 0.9936\n"
     ]
    },
    {
     "name": "stderr",
     "output_type": "stream",
     "text": [
      "C:\\Users\\udays\\AppData\\Local\\Temp\\ipykernel_22228\\3925381797.py:80: FutureWarning: Series.__getitem__ treating keys as positions is deprecated. In a future version, integer keys will always be treated as labels (consistent with DataFrame behavior). To access a value by position, use `ser.iloc[pos]`\n",
      "  'labels': torch.tensor(label, dtype=torch.float32)\n",
      "Epoch 98 Training: 100%|██████████████████████████████████████████████████| 11/11 [00:12<00:00,  1.18s/it, loss=0.0769]\n",
      "Epoch 98 Validation: 100%|███████████████████████████████████████████████████| 3/3 [00:02<00:00,  1.44it/s, loss=0.251]\n"
     ]
    },
    {
     "name": "stdout",
     "output_type": "stream",
     "text": [
      "Epoch 98: Train Loss=0.3494, Val Loss=0.3147\n",
      "Mean F1 Score: 0.9936, Mean Accuracy: 0.9911, Mean Precision: 0.9937, Mean Recall: 0.9936\n"
     ]
    },
    {
     "name": "stderr",
     "output_type": "stream",
     "text": [
      "C:\\Users\\udays\\AppData\\Local\\Temp\\ipykernel_22228\\3925381797.py:80: FutureWarning: Series.__getitem__ treating keys as positions is deprecated. In a future version, integer keys will always be treated as labels (consistent with DataFrame behavior). To access a value by position, use `ser.iloc[pos]`\n",
      "  'labels': torch.tensor(label, dtype=torch.float32)\n",
      "Epoch 99 Training: 100%|███████████████████████████████████████████████████| 11/11 [00:12<00:00,  1.13s/it, loss=0.687]\n",
      "Epoch 99 Validation: 100%|███████████████████████████████████████████████████| 3/3 [00:02<00:00,  1.19it/s, loss=0.256]\n"
     ]
    },
    {
     "name": "stdout",
     "output_type": "stream",
     "text": [
      "Epoch 99: Train Loss=0.3897, Val Loss=0.3203\n",
      "Mean F1 Score: 0.9936, Mean Accuracy: 0.9911, Mean Precision: 0.9937, Mean Recall: 0.9936\n"
     ]
    },
    {
     "name": "stderr",
     "output_type": "stream",
     "text": [
      "C:\\Users\\udays\\AppData\\Local\\Temp\\ipykernel_22228\\3925381797.py:80: FutureWarning: Series.__getitem__ treating keys as positions is deprecated. In a future version, integer keys will always be treated as labels (consistent with DataFrame behavior). To access a value by position, use `ser.iloc[pos]`\n",
      "  'labels': torch.tensor(label, dtype=torch.float32)\n",
      "Epoch 100 Training: 100%|██████████████████████████████████████████████████| 11/11 [00:12<00:00,  1.13s/it, loss=0.088]\n",
      "Epoch 100 Validation: 100%|██████████████████████████████████████████████████| 3/3 [00:02<00:00,  1.19it/s, loss=0.251]\n"
     ]
    },
    {
     "name": "stdout",
     "output_type": "stream",
     "text": [
      "Epoch 100: Train Loss=0.3420, Val Loss=0.3131\n",
      "Mean F1 Score: 0.9936, Mean Accuracy: 0.9911, Mean Precision: 0.9937, Mean Recall: 0.9936\n",
      "Training fold 4...\n"
     ]
    },
    {
     "name": "stderr",
     "output_type": "stream",
     "text": [
      "C:\\Users\\udays\\AppData\\Local\\Temp\\ipykernel_22228\\3925381797.py:80: FutureWarning: Series.__getitem__ treating keys as positions is deprecated. In a future version, integer keys will always be treated as labels (consistent with DataFrame behavior). To access a value by position, use `ser.iloc[pos]`\n",
      "  'labels': torch.tensor(label, dtype=torch.float32)\n",
      "Epoch 1 Training: 100%|██████████████████████████████████████████████████████| 11/11 [00:13<00:00,  1.19s/it, loss=6.5]\n",
      "Epoch 1 Validation: 100%|█████████████████████████████████████████████████████| 3/3 [00:01<00:00,  1.80it/s, loss=6.33]\n"
     ]
    },
    {
     "name": "stdout",
     "output_type": "stream",
     "text": [
      "Epoch 1: Train Loss=7.0786, Val Loss=6.2539\n",
      "Mean F1 Score: 0.8532, Mean Accuracy: 0.9259, Mean Precision: 0.8564, Mean Recall: 0.8695\n",
      "New best model saved for fold 4 with F1=0.8532\n"
     ]
    },
    {
     "name": "stderr",
     "output_type": "stream",
     "text": [
      "C:\\Users\\udays\\AppData\\Local\\Temp\\ipykernel_22228\\3925381797.py:80: FutureWarning: Series.__getitem__ treating keys as positions is deprecated. In a future version, integer keys will always be treated as labels (consistent with DataFrame behavior). To access a value by position, use `ser.iloc[pos]`\n",
      "  'labels': torch.tensor(label, dtype=torch.float32)\n",
      "Epoch 2 Training: 100%|██████████████████████████████████████████████████████| 11/11 [00:13<00:00,  1.22s/it, loss=5.4]\n",
      "Epoch 2 Validation: 100%|█████████████████████████████████████████████████████| 3/3 [00:01<00:00,  1.71it/s, loss=5.29]\n"
     ]
    },
    {
     "name": "stdout",
     "output_type": "stream",
     "text": [
      "Epoch 2: Train Loss=5.8970, Val Loss=5.2058\n",
      "Mean F1 Score: 0.8560, Mean Accuracy: 0.9315, Mean Precision: 0.8636, Mean Recall: 0.8677\n",
      "New best model saved for fold 4 with F1=0.8560\n"
     ]
    },
    {
     "name": "stderr",
     "output_type": "stream",
     "text": [
      "C:\\Users\\udays\\AppData\\Local\\Temp\\ipykernel_22228\\3925381797.py:80: FutureWarning: Series.__getitem__ treating keys as positions is deprecated. In a future version, integer keys will always be treated as labels (consistent with DataFrame behavior). To access a value by position, use `ser.iloc[pos]`\n",
      "  'labels': torch.tensor(label, dtype=torch.float32)\n",
      "Epoch 3 Training: 100%|█████████████████████████████████████████████████████| 11/11 [00:13<00:00,  1.21s/it, loss=5.35]\n",
      "Epoch 3 Validation: 100%|█████████████████████████████████████████████████████| 3/3 [00:02<00:00,  1.42it/s, loss=4.45]\n"
     ]
    },
    {
     "name": "stdout",
     "output_type": "stream",
     "text": [
      "Epoch 3: Train Loss=5.0410, Val Loss=4.3623\n",
      "Mean F1 Score: 0.8560, Mean Accuracy: 0.9315, Mean Precision: 0.8636, Mean Recall: 0.8677\n"
     ]
    },
    {
     "name": "stderr",
     "output_type": "stream",
     "text": [
      "C:\\Users\\udays\\AppData\\Local\\Temp\\ipykernel_22228\\3925381797.py:80: FutureWarning: Series.__getitem__ treating keys as positions is deprecated. In a future version, integer keys will always be treated as labels (consistent with DataFrame behavior). To access a value by position, use `ser.iloc[pos]`\n",
      "  'labels': torch.tensor(label, dtype=torch.float32)\n",
      "Epoch 4 Training: 100%|█████████████████████████████████████████████████████| 11/11 [00:12<00:00,  1.15s/it, loss=3.72]\n",
      "Epoch 4 Validation: 100%|█████████████████████████████████████████████████████| 3/3 [00:02<00:00,  1.46it/s, loss=3.82]\n"
     ]
    },
    {
     "name": "stdout",
     "output_type": "stream",
     "text": [
      "Epoch 4: Train Loss=4.3207, Val Loss=3.7586\n",
      "Mean F1 Score: 0.8560, Mean Accuracy: 0.9315, Mean Precision: 0.8636, Mean Recall: 0.8677\n"
     ]
    },
    {
     "name": "stderr",
     "output_type": "stream",
     "text": [
      "C:\\Users\\udays\\AppData\\Local\\Temp\\ipykernel_22228\\3925381797.py:80: FutureWarning: Series.__getitem__ treating keys as positions is deprecated. In a future version, integer keys will always be treated as labels (consistent with DataFrame behavior). To access a value by position, use `ser.iloc[pos]`\n",
      "  'labels': torch.tensor(label, dtype=torch.float32)\n",
      "Epoch 5 Training: 100%|█████████████████████████████████████████████████████| 11/11 [00:13<00:00,  1.24s/it, loss=3.95]\n",
      "Epoch 5 Validation: 100%|█████████████████████████████████████████████████████| 3/3 [00:01<00:00,  1.77it/s, loss=3.35]\n"
     ]
    },
    {
     "name": "stdout",
     "output_type": "stream",
     "text": [
      "Epoch 5: Train Loss=3.8273, Val Loss=3.2868\n",
      "Mean F1 Score: 0.8560, Mean Accuracy: 0.9315, Mean Precision: 0.8636, Mean Recall: 0.8677\n"
     ]
    },
    {
     "name": "stderr",
     "output_type": "stream",
     "text": [
      "C:\\Users\\udays\\AppData\\Local\\Temp\\ipykernel_22228\\3925381797.py:80: FutureWarning: Series.__getitem__ treating keys as positions is deprecated. In a future version, integer keys will always be treated as labels (consistent with DataFrame behavior). To access a value by position, use `ser.iloc[pos]`\n",
      "  'labels': torch.tensor(label, dtype=torch.float32)\n",
      "Epoch 6 Training: 100%|█████████████████████████████████████████████████████| 11/11 [00:13<00:00,  1.25s/it, loss=3.32]\n",
      "Epoch 6 Validation: 100%|█████████████████████████████████████████████████████| 3/3 [00:01<00:00,  1.62it/s, loss=2.99]\n"
     ]
    },
    {
     "name": "stdout",
     "output_type": "stream",
     "text": [
      "Epoch 6: Train Loss=3.3807, Val Loss=2.9432\n",
      "Mean F1 Score: 0.8560, Mean Accuracy: 0.9315, Mean Precision: 0.8636, Mean Recall: 0.8677\n"
     ]
    },
    {
     "name": "stderr",
     "output_type": "stream",
     "text": [
      "C:\\Users\\udays\\AppData\\Local\\Temp\\ipykernel_22228\\3925381797.py:80: FutureWarning: Series.__getitem__ treating keys as positions is deprecated. In a future version, integer keys will always be treated as labels (consistent with DataFrame behavior). To access a value by position, use `ser.iloc[pos]`\n",
      "  'labels': torch.tensor(label, dtype=torch.float32)\n",
      "Epoch 7 Training: 100%|█████████████████████████████████████████████████████| 11/11 [00:13<00:00,  1.21s/it, loss=3.02]\n",
      "Epoch 7 Validation: 100%|█████████████████████████████████████████████████████| 3/3 [00:02<00:00,  1.45it/s, loss=2.72]\n"
     ]
    },
    {
     "name": "stdout",
     "output_type": "stream",
     "text": [
      "Epoch 7: Train Loss=3.0723, Val Loss=2.6776\n",
      "Mean F1 Score: 0.8560, Mean Accuracy: 0.9315, Mean Precision: 0.8636, Mean Recall: 0.8677\n"
     ]
    },
    {
     "name": "stderr",
     "output_type": "stream",
     "text": [
      "C:\\Users\\udays\\AppData\\Local\\Temp\\ipykernel_22228\\3925381797.py:80: FutureWarning: Series.__getitem__ treating keys as positions is deprecated. In a future version, integer keys will always be treated as labels (consistent with DataFrame behavior). To access a value by position, use `ser.iloc[pos]`\n",
      "  'labels': torch.tensor(label, dtype=torch.float32)\n",
      "Epoch 8 Training: 100%|█████████████████████████████████████████████████████| 11/11 [00:13<00:00,  1.22s/it, loss=2.26]\n",
      "Epoch 8 Validation: 100%|█████████████████████████████████████████████████████| 3/3 [00:01<00:00,  1.51it/s, loss=2.51]\n"
     ]
    },
    {
     "name": "stdout",
     "output_type": "stream",
     "text": [
      "Epoch 8: Train Loss=2.7820, Val Loss=2.4667\n",
      "Mean F1 Score: 0.8560, Mean Accuracy: 0.9315, Mean Precision: 0.8636, Mean Recall: 0.8677\n"
     ]
    },
    {
     "name": "stderr",
     "output_type": "stream",
     "text": [
      "C:\\Users\\udays\\AppData\\Local\\Temp\\ipykernel_22228\\3925381797.py:80: FutureWarning: Series.__getitem__ treating keys as positions is deprecated. In a future version, integer keys will always be treated as labels (consistent with DataFrame behavior). To access a value by position, use `ser.iloc[pos]`\n",
      "  'labels': torch.tensor(label, dtype=torch.float32)\n",
      "Epoch 9 Training: 100%|█████████████████████████████████████████████████████| 11/11 [00:13<00:00,  1.23s/it, loss=2.77]\n",
      "Epoch 9 Validation: 100%|█████████████████████████████████████████████████████| 3/3 [00:01<00:00,  1.59it/s, loss=2.34]\n"
     ]
    },
    {
     "name": "stdout",
     "output_type": "stream",
     "text": [
      "Epoch 9: Train Loss=2.6573, Val Loss=2.2997\n",
      "Mean F1 Score: 0.8625, Mean Accuracy: 0.9394, Mean Precision: 0.8714, Mean Recall: 0.8677\n",
      "New best model saved for fold 4 with F1=0.8625\n"
     ]
    },
    {
     "name": "stderr",
     "output_type": "stream",
     "text": [
      "C:\\Users\\udays\\AppData\\Local\\Temp\\ipykernel_22228\\3925381797.py:80: FutureWarning: Series.__getitem__ treating keys as positions is deprecated. In a future version, integer keys will always be treated as labels (consistent with DataFrame behavior). To access a value by position, use `ser.iloc[pos]`\n",
      "  'labels': torch.tensor(label, dtype=torch.float32)\n",
      "Epoch 10 Training: 100%|████████████████████████████████████████████████████| 11/11 [00:13<00:00,  1.19s/it, loss=2.53]\n",
      "Epoch 10 Validation: 100%|████████████████████████████████████████████████████| 3/3 [00:01<00:00,  1.57it/s, loss=2.21]\n"
     ]
    },
    {
     "name": "stdout",
     "output_type": "stream",
     "text": [
      "Epoch 10: Train Loss=2.4940, Val Loss=2.1691\n",
      "Mean F1 Score: 0.8863, Mean Accuracy: 0.9585, Mean Precision: 0.9091, Mean Recall: 0.8677\n",
      "New best model saved for fold 4 with F1=0.8863\n"
     ]
    },
    {
     "name": "stderr",
     "output_type": "stream",
     "text": [
      "C:\\Users\\udays\\AppData\\Local\\Temp\\ipykernel_22228\\3925381797.py:80: FutureWarning: Series.__getitem__ treating keys as positions is deprecated. In a future version, integer keys will always be treated as labels (consistent with DataFrame behavior). To access a value by position, use `ser.iloc[pos]`\n",
      "  'labels': torch.tensor(label, dtype=torch.float32)\n",
      "Epoch 11 Training: 100%|████████████████████████████████████████████████████| 11/11 [00:13<00:00,  1.18s/it, loss=2.08]\n",
      "Epoch 11 Validation: 100%|█████████████████████████████████████████████████████| 3/3 [00:01<00:00,  1.57it/s, loss=2.1]\n"
     ]
    },
    {
     "name": "stdout",
     "output_type": "stream",
     "text": [
      "Epoch 11: Train Loss=2.3474, Val Loss=2.0583\n",
      "Mean F1 Score: 0.8802, Mean Accuracy: 0.9551, Mean Precision: 0.9091, Mean Recall: 0.8563\n"
     ]
    },
    {
     "name": "stderr",
     "output_type": "stream",
     "text": [
      "C:\\Users\\udays\\AppData\\Local\\Temp\\ipykernel_22228\\3925381797.py:80: FutureWarning: Series.__getitem__ treating keys as positions is deprecated. In a future version, integer keys will always be treated as labels (consistent with DataFrame behavior). To access a value by position, use `ser.iloc[pos]`\n",
      "  'labels': torch.tensor(label, dtype=torch.float32)\n",
      "Epoch 12 Training: 100%|█████████████████████████████████████████████████████| 11/11 [00:13<00:00,  1.20s/it, loss=2.6]\n",
      "Epoch 12 Validation: 100%|████████████████████████████████████████████████████| 3/3 [00:02<00:00,  1.41it/s, loss=1.98]\n"
     ]
    },
    {
     "name": "stdout",
     "output_type": "stream",
     "text": [
      "Epoch 12: Train Loss=2.2932, Val Loss=1.9519\n",
      "Mean F1 Score: 0.8863, Mean Accuracy: 0.9585, Mean Precision: 0.9091, Mean Recall: 0.8677\n"
     ]
    },
    {
     "name": "stderr",
     "output_type": "stream",
     "text": [
      "C:\\Users\\udays\\AppData\\Local\\Temp\\ipykernel_22228\\3925381797.py:80: FutureWarning: Series.__getitem__ treating keys as positions is deprecated. In a future version, integer keys will always be treated as labels (consistent with DataFrame behavior). To access a value by position, use `ser.iloc[pos]`\n",
      "  'labels': torch.tensor(label, dtype=torch.float32)\n",
      "Epoch 13 Training: 100%|████████████████████████████████████████████████████| 11/11 [00:13<00:00,  1.20s/it, loss=2.62]\n",
      "Epoch 13 Validation: 100%|████████████████████████████████████████████████████| 3/3 [00:02<00:00,  1.44it/s, loss=1.89]\n"
     ]
    },
    {
     "name": "stdout",
     "output_type": "stream",
     "text": [
      "Epoch 13: Train Loss=2.2047, Val Loss=1.8692\n",
      "Mean F1 Score: 0.8844, Mean Accuracy: 0.9574, Mean Precision: 0.9091, Mean Recall: 0.8639\n"
     ]
    },
    {
     "name": "stderr",
     "output_type": "stream",
     "text": [
      "C:\\Users\\udays\\AppData\\Local\\Temp\\ipykernel_22228\\3925381797.py:80: FutureWarning: Series.__getitem__ treating keys as positions is deprecated. In a future version, integer keys will always be treated as labels (consistent with DataFrame behavior). To access a value by position, use `ser.iloc[pos]`\n",
      "  'labels': torch.tensor(label, dtype=torch.float32)\n",
      "Epoch 14 Training: 100%|████████████████████████████████████████████████████| 11/11 [00:13<00:00,  1.19s/it, loss=2.33]\n",
      "Epoch 14 Validation: 100%|████████████████████████████████████████████████████| 3/3 [00:01<00:00,  1.60it/s, loss=1.79]\n"
     ]
    },
    {
     "name": "stdout",
     "output_type": "stream",
     "text": [
      "Epoch 14: Train Loss=2.0958, Val Loss=1.7792\n",
      "Mean F1 Score: 0.8844, Mean Accuracy: 0.9574, Mean Precision: 0.9091, Mean Recall: 0.8639\n"
     ]
    },
    {
     "name": "stderr",
     "output_type": "stream",
     "text": [
      "C:\\Users\\udays\\AppData\\Local\\Temp\\ipykernel_22228\\3925381797.py:80: FutureWarning: Series.__getitem__ treating keys as positions is deprecated. In a future version, integer keys will always be treated as labels (consistent with DataFrame behavior). To access a value by position, use `ser.iloc[pos]`\n",
      "  'labels': torch.tensor(label, dtype=torch.float32)\n",
      "Epoch 15 Training: 100%|████████████████████████████████████████████████████| 11/11 [00:13<00:00,  1.25s/it, loss=2.18]\n",
      "Epoch 15 Validation: 100%|████████████████████████████████████████████████████| 3/3 [00:01<00:00,  1.61it/s, loss=1.69]\n"
     ]
    },
    {
     "name": "stdout",
     "output_type": "stream",
     "text": [
      "Epoch 15: Train Loss=2.0196, Val Loss=1.7063\n",
      "Mean F1 Score: 0.8780, Mean Accuracy: 0.9540, Mean Precision: 0.9091, Mean Recall: 0.8525\n"
     ]
    },
    {
     "name": "stderr",
     "output_type": "stream",
     "text": [
      "C:\\Users\\udays\\AppData\\Local\\Temp\\ipykernel_22228\\3925381797.py:80: FutureWarning: Series.__getitem__ treating keys as positions is deprecated. In a future version, integer keys will always be treated as labels (consistent with DataFrame behavior). To access a value by position, use `ser.iloc[pos]`\n",
      "  'labels': torch.tensor(label, dtype=torch.float32)\n",
      "Epoch 16 Training: 100%|████████████████████████████████████████████████████| 11/11 [00:12<00:00,  1.14s/it, loss=1.47]\n",
      "Epoch 16 Validation: 100%|█████████████████████████████████████████████████████| 3/3 [00:01<00:00,  1.76it/s, loss=1.6]\n"
     ]
    },
    {
     "name": "stdout",
     "output_type": "stream",
     "text": [
      "Epoch 16: Train Loss=1.9014, Val Loss=1.6271\n",
      "Mean F1 Score: 0.8863, Mean Accuracy: 0.9585, Mean Precision: 0.9091, Mean Recall: 0.8677\n"
     ]
    },
    {
     "name": "stderr",
     "output_type": "stream",
     "text": [
      "C:\\Users\\udays\\AppData\\Local\\Temp\\ipykernel_22228\\3925381797.py:80: FutureWarning: Series.__getitem__ treating keys as positions is deprecated. In a future version, integer keys will always be treated as labels (consistent with DataFrame behavior). To access a value by position, use `ser.iloc[pos]`\n",
      "  'labels': torch.tensor(label, dtype=torch.float32)\n",
      "Epoch 17 Training: 100%|████████████████████████████████████████████████████| 11/11 [00:12<00:00,  1.17s/it, loss=1.31]\n",
      "Epoch 17 Validation: 100%|████████████████████████████████████████████████████| 3/3 [00:01<00:00,  1.61it/s, loss=1.51]\n"
     ]
    },
    {
     "name": "stdout",
     "output_type": "stream",
     "text": [
      "Epoch 17: Train Loss=1.8291, Val Loss=1.5631\n",
      "Mean F1 Score: 0.8823, Mean Accuracy: 0.9562, Mean Precision: 0.9091, Mean Recall: 0.8601\n"
     ]
    },
    {
     "name": "stderr",
     "output_type": "stream",
     "text": [
      "C:\\Users\\udays\\AppData\\Local\\Temp\\ipykernel_22228\\3925381797.py:80: FutureWarning: Series.__getitem__ treating keys as positions is deprecated. In a future version, integer keys will always be treated as labels (consistent with DataFrame behavior). To access a value by position, use `ser.iloc[pos]`\n",
      "  'labels': torch.tensor(label, dtype=torch.float32)\n",
      "Epoch 18 Training: 100%|█████████████████████████████████████████████████████| 11/11 [00:12<00:00,  1.15s/it, loss=2.6]\n",
      "Epoch 18 Validation: 100%|████████████████████████████████████████████████████| 3/3 [00:01<00:00,  1.73it/s, loss=1.43]\n"
     ]
    },
    {
     "name": "stdout",
     "output_type": "stream",
     "text": [
      "Epoch 18: Train Loss=1.8594, Val Loss=1.5002\n",
      "Mean F1 Score: 0.8863, Mean Accuracy: 0.9585, Mean Precision: 0.9091, Mean Recall: 0.8677\n"
     ]
    },
    {
     "name": "stderr",
     "output_type": "stream",
     "text": [
      "C:\\Users\\udays\\AppData\\Local\\Temp\\ipykernel_22228\\3925381797.py:80: FutureWarning: Series.__getitem__ treating keys as positions is deprecated. In a future version, integer keys will always be treated as labels (consistent with DataFrame behavior). To access a value by position, use `ser.iloc[pos]`\n",
      "  'labels': torch.tensor(label, dtype=torch.float32)\n",
      "Epoch 19 Training: 100%|█████████████████████████████████████████████████████| 11/11 [00:11<00:00,  1.09s/it, loss=1.3]\n",
      "Epoch 19 Validation: 100%|████████████████████████████████████████████████████| 3/3 [00:01<00:00,  1.81it/s, loss=1.36]\n"
     ]
    },
    {
     "name": "stdout",
     "output_type": "stream",
     "text": [
      "Epoch 19: Train Loss=1.6989, Val Loss=1.4406\n",
      "Mean F1 Score: 0.8863, Mean Accuracy: 0.9585, Mean Precision: 0.9091, Mean Recall: 0.8677\n"
     ]
    },
    {
     "name": "stderr",
     "output_type": "stream",
     "text": [
      "C:\\Users\\udays\\AppData\\Local\\Temp\\ipykernel_22228\\3925381797.py:80: FutureWarning: Series.__getitem__ treating keys as positions is deprecated. In a future version, integer keys will always be treated as labels (consistent with DataFrame behavior). To access a value by position, use `ser.iloc[pos]`\n",
      "  'labels': torch.tensor(label, dtype=torch.float32)\n",
      "Epoch 20 Training: 100%|████████████████████████████████████████████████████| 11/11 [00:12<00:00,  1.17s/it, loss=1.39]\n",
      "Epoch 20 Validation: 100%|████████████████████████████████████████████████████| 3/3 [00:01<00:00,  1.52it/s, loss=1.29]\n"
     ]
    },
    {
     "name": "stdout",
     "output_type": "stream",
     "text": [
      "Epoch 20: Train Loss=1.6524, Val Loss=1.3841\n",
      "Mean F1 Score: 0.9487, Mean Accuracy: 0.9663, Mean Precision: 1.0000, Mean Recall: 0.9159\n",
      "New best model saved for fold 4 with F1=0.9487\n"
     ]
    },
    {
     "name": "stderr",
     "output_type": "stream",
     "text": [
      "C:\\Users\\udays\\AppData\\Local\\Temp\\ipykernel_22228\\3925381797.py:80: FutureWarning: Series.__getitem__ treating keys as positions is deprecated. In a future version, integer keys will always be treated as labels (consistent with DataFrame behavior). To access a value by position, use `ser.iloc[pos]`\n",
      "  'labels': torch.tensor(label, dtype=torch.float32)\n",
      "Epoch 21 Training: 100%|████████████████████████████████████████████████████| 11/11 [00:13<00:00,  1.20s/it, loss=2.53]\n",
      "Epoch 21 Validation: 100%|████████████████████████████████████████████████████| 3/3 [00:02<00:00,  1.48it/s, loss=1.22]\n"
     ]
    },
    {
     "name": "stdout",
     "output_type": "stream",
     "text": [
      "Epoch 21: Train Loss=1.6797, Val Loss=1.3280\n",
      "Mean F1 Score: 0.9689, Mean Accuracy: 0.9697, Mean Precision: 1.0000, Mean Recall: 0.9432\n",
      "New best model saved for fold 4 with F1=0.9689\n"
     ]
    },
    {
     "name": "stderr",
     "output_type": "stream",
     "text": [
      "C:\\Users\\udays\\AppData\\Local\\Temp\\ipykernel_22228\\3925381797.py:80: FutureWarning: Series.__getitem__ treating keys as positions is deprecated. In a future version, integer keys will always be treated as labels (consistent with DataFrame behavior). To access a value by position, use `ser.iloc[pos]`\n",
      "  'labels': torch.tensor(label, dtype=torch.float32)\n",
      "Epoch 22 Training: 100%|████████████████████████████████████████████████████| 11/11 [00:13<00:00,  1.21s/it, loss=1.04]\n",
      "Epoch 22 Validation: 100%|████████████████████████████████████████████████████| 3/3 [00:01<00:00,  1.80it/s, loss=1.17]\n"
     ]
    },
    {
     "name": "stdout",
     "output_type": "stream",
     "text": [
      "Epoch 22: Train Loss=1.5345, Val Loss=1.2839\n",
      "Mean F1 Score: 0.9768, Mean Accuracy: 0.9742, Mean Precision: 1.0000, Mean Recall: 0.9565\n",
      "New best model saved for fold 4 with F1=0.9768\n"
     ]
    },
    {
     "name": "stderr",
     "output_type": "stream",
     "text": [
      "C:\\Users\\udays\\AppData\\Local\\Temp\\ipykernel_22228\\3925381797.py:80: FutureWarning: Series.__getitem__ treating keys as positions is deprecated. In a future version, integer keys will always be treated as labels (consistent with DataFrame behavior). To access a value by position, use `ser.iloc[pos]`\n",
      "  'labels': torch.tensor(label, dtype=torch.float32)\n",
      "Epoch 23 Training: 100%|████████████████████████████████████████████████████| 11/11 [00:13<00:00,  1.21s/it, loss=1.99]\n",
      "Epoch 23 Validation: 100%|█████████████████████████████████████████████████████| 3/3 [00:01<00:00,  1.58it/s, loss=1.1]\n"
     ]
    },
    {
     "name": "stdout",
     "output_type": "stream",
     "text": [
      "Epoch 23: Train Loss=1.5479, Val Loss=1.2291\n",
      "Mean F1 Score: 0.9790, Mean Accuracy: 0.9719, Mean Precision: 1.0000, Mean Recall: 0.9614\n",
      "New best model saved for fold 4 with F1=0.9790\n"
     ]
    },
    {
     "name": "stderr",
     "output_type": "stream",
     "text": [
      "C:\\Users\\udays\\AppData\\Local\\Temp\\ipykernel_22228\\3925381797.py:80: FutureWarning: Series.__getitem__ treating keys as positions is deprecated. In a future version, integer keys will always be treated as labels (consistent with DataFrame behavior). To access a value by position, use `ser.iloc[pos]`\n",
      "  'labels': torch.tensor(label, dtype=torch.float32)\n",
      "Epoch 24 Training: 100%|████████████████████████████████████████████████████| 11/11 [00:13<00:00,  1.21s/it, loss=1.34]\n",
      "Epoch 24 Validation: 100%|████████████████████████████████████████████████████| 3/3 [00:01<00:00,  1.73it/s, loss=1.05]\n"
     ]
    },
    {
     "name": "stdout",
     "output_type": "stream",
     "text": [
      "Epoch 24: Train Loss=1.4540, Val Loss=1.1792\n",
      "Mean F1 Score: 0.9825, Mean Accuracy: 0.9764, Mean Precision: 1.0000, Mean Recall: 0.9670\n",
      "New best model saved for fold 4 with F1=0.9825\n"
     ]
    },
    {
     "name": "stderr",
     "output_type": "stream",
     "text": [
      "C:\\Users\\udays\\AppData\\Local\\Temp\\ipykernel_22228\\3925381797.py:80: FutureWarning: Series.__getitem__ treating keys as positions is deprecated. In a future version, integer keys will always be treated as labels (consistent with DataFrame behavior). To access a value by position, use `ser.iloc[pos]`\n",
      "  'labels': torch.tensor(label, dtype=torch.float32)\n",
      "Epoch 25 Training: 100%|███████████████████████████████████████████████████| 11/11 [00:13<00:00,  1.24s/it, loss=0.966]\n",
      "Epoch 25 Validation: 100%|███████████████████████████████████████████████████| 3/3 [00:02<00:00,  1.38it/s, loss=0.994]\n"
     ]
    },
    {
     "name": "stdout",
     "output_type": "stream",
     "text": [
      "Epoch 25: Train Loss=1.3832, Val Loss=1.1364\n",
      "Mean F1 Score: 0.9817, Mean Accuracy: 0.9753, Mean Precision: 1.0000, Mean Recall: 0.9659\n"
     ]
    },
    {
     "name": "stderr",
     "output_type": "stream",
     "text": [
      "C:\\Users\\udays\\AppData\\Local\\Temp\\ipykernel_22228\\3925381797.py:80: FutureWarning: Series.__getitem__ treating keys as positions is deprecated. In a future version, integer keys will always be treated as labels (consistent with DataFrame behavior). To access a value by position, use `ser.iloc[pos]`\n",
      "  'labels': torch.tensor(label, dtype=torch.float32)\n",
      "Epoch 26 Training: 100%|████████████████████████████████████████████████████| 11/11 [00:13<00:00,  1.20s/it, loss=1.17]\n",
      "Epoch 26 Validation: 100%|███████████████████████████████████████████████████| 3/3 [00:01<00:00,  1.58it/s, loss=0.957]\n"
     ]
    },
    {
     "name": "stdout",
     "output_type": "stream",
     "text": [
      "Epoch 26: Train Loss=1.3594, Val Loss=1.1018\n",
      "Mean F1 Score: 0.9808, Mean Accuracy: 0.9742, Mean Precision: 1.0000, Mean Recall: 0.9645\n"
     ]
    },
    {
     "name": "stderr",
     "output_type": "stream",
     "text": [
      "C:\\Users\\udays\\AppData\\Local\\Temp\\ipykernel_22228\\3925381797.py:80: FutureWarning: Series.__getitem__ treating keys as positions is deprecated. In a future version, integer keys will always be treated as labels (consistent with DataFrame behavior). To access a value by position, use `ser.iloc[pos]`\n",
      "  'labels': torch.tensor(label, dtype=torch.float32)\n",
      "Epoch 27 Training: 100%|████████████████████████████████████████████████████| 11/11 [00:13<00:00,  1.24s/it, loss=1.17]\n",
      "Epoch 27 Validation: 100%|███████████████████████████████████████████████████| 3/3 [00:01<00:00,  1.54it/s, loss=0.911]\n"
     ]
    },
    {
     "name": "stdout",
     "output_type": "stream",
     "text": [
      "Epoch 27: Train Loss=1.3049, Val Loss=1.0593\n",
      "Mean F1 Score: 0.9850, Mean Accuracy: 0.9798, Mean Precision: 1.0000, Mean Recall: 0.9715\n",
      "New best model saved for fold 4 with F1=0.9850\n"
     ]
    },
    {
     "name": "stderr",
     "output_type": "stream",
     "text": [
      "C:\\Users\\udays\\AppData\\Local\\Temp\\ipykernel_22228\\3925381797.py:80: FutureWarning: Series.__getitem__ treating keys as positions is deprecated. In a future version, integer keys will always be treated as labels (consistent with DataFrame behavior). To access a value by position, use `ser.iloc[pos]`\n",
      "  'labels': torch.tensor(label, dtype=torch.float32)\n",
      "Epoch 28 Training: 100%|████████████████████████████████████████████████████| 11/11 [00:13<00:00,  1.26s/it, loss=2.19]\n",
      "Epoch 28 Validation: 100%|███████████████████████████████████████████████████| 3/3 [00:02<00:00,  1.44it/s, loss=0.876]\n"
     ]
    },
    {
     "name": "stdout",
     "output_type": "stream",
     "text": [
      "Epoch 28: Train Loss=1.3479, Val Loss=1.0255\n",
      "Mean F1 Score: 0.9834, Mean Accuracy: 0.9776, Mean Precision: 1.0000, Mean Recall: 0.9687\n"
     ]
    },
    {
     "name": "stderr",
     "output_type": "stream",
     "text": [
      "C:\\Users\\udays\\AppData\\Local\\Temp\\ipykernel_22228\\3925381797.py:80: FutureWarning: Series.__getitem__ treating keys as positions is deprecated. In a future version, integer keys will always be treated as labels (consistent with DataFrame behavior). To access a value by position, use `ser.iloc[pos]`\n",
      "  'labels': torch.tensor(label, dtype=torch.float32)\n",
      "Epoch 29 Training: 100%|████████████████████████████████████████████████████| 11/11 [00:13<00:00,  1.20s/it, loss=3.08]\n",
      "Epoch 29 Validation: 100%|███████████████████████████████████████████████████| 3/3 [00:01<00:00,  1.53it/s, loss=0.818]\n"
     ]
    },
    {
     "name": "stdout",
     "output_type": "stream",
     "text": [
      "Epoch 29: Train Loss=1.3752, Val Loss=0.9744\n",
      "Mean F1 Score: 0.9897, Mean Accuracy: 0.9865, Mean Precision: 1.0000, Mean Recall: 0.9799\n",
      "New best model saved for fold 4 with F1=0.9897\n"
     ]
    },
    {
     "name": "stderr",
     "output_type": "stream",
     "text": [
      "C:\\Users\\udays\\AppData\\Local\\Temp\\ipykernel_22228\\3925381797.py:80: FutureWarning: Series.__getitem__ treating keys as positions is deprecated. In a future version, integer keys will always be treated as labels (consistent with DataFrame behavior). To access a value by position, use `ser.iloc[pos]`\n",
      "  'labels': torch.tensor(label, dtype=torch.float32)\n",
      "Epoch 30 Training: 100%|████████████████████████████████████████████████████| 11/11 [00:13<00:00,  1.22s/it, loss=1.36]\n",
      "Epoch 30 Validation: 100%|███████████████████████████████████████████████████| 3/3 [00:01<00:00,  1.64it/s, loss=0.772]\n"
     ]
    },
    {
     "name": "stdout",
     "output_type": "stream",
     "text": [
      "Epoch 30: Train Loss=1.2146, Val Loss=0.9333\n",
      "Mean F1 Score: 0.9874, Mean Accuracy: 0.9832, Mean Precision: 1.0000, Mean Recall: 0.9757\n"
     ]
    },
    {
     "name": "stderr",
     "output_type": "stream",
     "text": [
      "C:\\Users\\udays\\AppData\\Local\\Temp\\ipykernel_22228\\3925381797.py:80: FutureWarning: Series.__getitem__ treating keys as positions is deprecated. In a future version, integer keys will always be treated as labels (consistent with DataFrame behavior). To access a value by position, use `ser.iloc[pos]`\n",
      "  'labels': torch.tensor(label, dtype=torch.float32)\n",
      "Epoch 31 Training: 100%|████████████████████████████████████████████████████| 11/11 [00:13<00:00,  1.22s/it, loss=1.09]\n",
      "Epoch 31 Validation: 100%|███████████████████████████████████████████████████| 3/3 [00:01<00:00,  1.50it/s, loss=0.736]\n"
     ]
    },
    {
     "name": "stdout",
     "output_type": "stream",
     "text": [
      "Epoch 31: Train Loss=1.1661, Val Loss=0.8925\n",
      "Mean F1 Score: 0.9904, Mean Accuracy: 0.9877, Mean Precision: 1.0000, Mean Recall: 0.9813\n",
      "New best model saved for fold 4 with F1=0.9904\n"
     ]
    },
    {
     "name": "stderr",
     "output_type": "stream",
     "text": [
      "C:\\Users\\udays\\AppData\\Local\\Temp\\ipykernel_22228\\3925381797.py:80: FutureWarning: Series.__getitem__ treating keys as positions is deprecated. In a future version, integer keys will always be treated as labels (consistent with DataFrame behavior). To access a value by position, use `ser.iloc[pos]`\n",
      "  'labels': torch.tensor(label, dtype=torch.float32)\n",
      "Epoch 32 Training: 100%|████████████████████████████████████████████████████| 11/11 [00:13<00:00,  1.22s/it, loss=2.18]\n",
      "Epoch 32 Validation: 100%|███████████████████████████████████████████████████| 3/3 [00:01<00:00,  1.67it/s, loss=0.715]\n"
     ]
    },
    {
     "name": "stdout",
     "output_type": "stream",
     "text": [
      "Epoch 32: Train Loss=1.2043, Val Loss=0.8668\n",
      "Mean F1 Score: 0.9911, Mean Accuracy: 0.9888, Mean Precision: 1.0000, Mean Recall: 0.9827\n",
      "New best model saved for fold 4 with F1=0.9911\n"
     ]
    },
    {
     "name": "stderr",
     "output_type": "stream",
     "text": [
      "C:\\Users\\udays\\AppData\\Local\\Temp\\ipykernel_22228\\3925381797.py:80: FutureWarning: Series.__getitem__ treating keys as positions is deprecated. In a future version, integer keys will always be treated as labels (consistent with DataFrame behavior). To access a value by position, use `ser.iloc[pos]`\n",
      "  'labels': torch.tensor(label, dtype=torch.float32)\n",
      "Epoch 33 Training: 100%|███████████████████████████████████████████████████| 11/11 [00:13<00:00,  1.21s/it, loss=0.677]\n",
      "Epoch 33 Validation: 100%|███████████████████████████████████████████████████| 3/3 [00:01<00:00,  1.74it/s, loss=0.678]\n"
     ]
    },
    {
     "name": "stdout",
     "output_type": "stream",
     "text": [
      "Epoch 33: Train Loss=1.0595, Val Loss=0.8298\n",
      "Mean F1 Score: 0.9927, Mean Accuracy: 0.9910, Mean Precision: 1.0000, Mean Recall: 0.9858\n",
      "New best model saved for fold 4 with F1=0.9927\n"
     ]
    },
    {
     "name": "stderr",
     "output_type": "stream",
     "text": [
      "C:\\Users\\udays\\AppData\\Local\\Temp\\ipykernel_22228\\3925381797.py:80: FutureWarning: Series.__getitem__ treating keys as positions is deprecated. In a future version, integer keys will always be treated as labels (consistent with DataFrame behavior). To access a value by position, use `ser.iloc[pos]`\n",
      "  'labels': torch.tensor(label, dtype=torch.float32)\n",
      "Epoch 34 Training: 100%|████████████████████████████████████████████████████| 11/11 [00:13<00:00,  1.22s/it, loss=1.19]\n",
      "Epoch 34 Validation: 100%|███████████████████████████████████████████████████| 3/3 [00:02<00:00,  1.48it/s, loss=0.639]\n"
     ]
    },
    {
     "name": "stdout",
     "output_type": "stream",
     "text": [
      "Epoch 34: Train Loss=1.0671, Val Loss=0.7949\n",
      "Mean F1 Score: 0.9936, Mean Accuracy: 0.9921, Mean Precision: 1.0000, Mean Recall: 0.9875\n",
      "New best model saved for fold 4 with F1=0.9936\n"
     ]
    },
    {
     "name": "stderr",
     "output_type": "stream",
     "text": [
      "C:\\Users\\udays\\AppData\\Local\\Temp\\ipykernel_22228\\3925381797.py:80: FutureWarning: Series.__getitem__ treating keys as positions is deprecated. In a future version, integer keys will always be treated as labels (consistent with DataFrame behavior). To access a value by position, use `ser.iloc[pos]`\n",
      "  'labels': torch.tensor(label, dtype=torch.float32)\n",
      "Epoch 35 Training: 100%|████████████████████████████████████████████████████| 11/11 [00:12<00:00,  1.18s/it, loss=1.51]\n",
      "Epoch 35 Validation: 100%|███████████████████████████████████████████████████| 3/3 [00:01<00:00,  1.53it/s, loss=0.614]\n"
     ]
    },
    {
     "name": "stdout",
     "output_type": "stream",
     "text": [
      "Epoch 35: Train Loss=1.0619, Val Loss=0.7675\n",
      "Mean F1 Score: 0.9936, Mean Accuracy: 0.9921, Mean Precision: 1.0000, Mean Recall: 0.9875\n"
     ]
    },
    {
     "name": "stderr",
     "output_type": "stream",
     "text": [
      "C:\\Users\\udays\\AppData\\Local\\Temp\\ipykernel_22228\\3925381797.py:80: FutureWarning: Series.__getitem__ treating keys as positions is deprecated. In a future version, integer keys will always be treated as labels (consistent with DataFrame behavior). To access a value by position, use `ser.iloc[pos]`\n",
      "  'labels': torch.tensor(label, dtype=torch.float32)\n",
      "Epoch 36 Training: 100%|████████████████████████████████████████████████████| 11/11 [00:13<00:00,  1.23s/it, loss=1.22]\n",
      "Epoch 36 Validation: 100%|███████████████████████████████████████████████████| 3/3 [00:01<00:00,  1.55it/s, loss=0.608]\n"
     ]
    },
    {
     "name": "stdout",
     "output_type": "stream",
     "text": [
      "Epoch 36: Train Loss=1.0187, Val Loss=0.7522\n",
      "Mean F1 Score: 0.9936, Mean Accuracy: 0.9921, Mean Precision: 1.0000, Mean Recall: 0.9875\n"
     ]
    },
    {
     "name": "stderr",
     "output_type": "stream",
     "text": [
      "C:\\Users\\udays\\AppData\\Local\\Temp\\ipykernel_22228\\3925381797.py:80: FutureWarning: Series.__getitem__ treating keys as positions is deprecated. In a future version, integer keys will always be treated as labels (consistent with DataFrame behavior). To access a value by position, use `ser.iloc[pos]`\n",
      "  'labels': torch.tensor(label, dtype=torch.float32)\n",
      "Epoch 37 Training: 100%|████████████████████████████████████████████████████| 11/11 [00:12<00:00,  1.18s/it, loss=1.28]\n",
      "Epoch 37 Validation: 100%|████████████████████████████████████████████████████| 3/3 [00:01<00:00,  1.65it/s, loss=0.58]\n"
     ]
    },
    {
     "name": "stdout",
     "output_type": "stream",
     "text": [
      "Epoch 37: Train Loss=0.9931, Val Loss=0.7235\n",
      "Mean F1 Score: 0.9936, Mean Accuracy: 0.9921, Mean Precision: 1.0000, Mean Recall: 0.9875\n"
     ]
    },
    {
     "name": "stderr",
     "output_type": "stream",
     "text": [
      "C:\\Users\\udays\\AppData\\Local\\Temp\\ipykernel_22228\\3925381797.py:80: FutureWarning: Series.__getitem__ treating keys as positions is deprecated. In a future version, integer keys will always be treated as labels (consistent with DataFrame behavior). To access a value by position, use `ser.iloc[pos]`\n",
      "  'labels': torch.tensor(label, dtype=torch.float32)\n",
      "Epoch 38 Training: 100%|████████████████████████████████████████████████████| 11/11 [00:12<00:00,  1.17s/it, loss=1.58]\n",
      "Epoch 38 Validation: 100%|███████████████████████████████████████████████████| 3/3 [00:02<00:00,  1.47it/s, loss=0.534]\n"
     ]
    },
    {
     "name": "stdout",
     "output_type": "stream",
     "text": [
      "Epoch 38: Train Loss=0.9848, Val Loss=0.6833\n",
      "Mean F1 Score: 0.9936, Mean Accuracy: 0.9921, Mean Precision: 1.0000, Mean Recall: 0.9875\n"
     ]
    },
    {
     "name": "stderr",
     "output_type": "stream",
     "text": [
      "C:\\Users\\udays\\AppData\\Local\\Temp\\ipykernel_22228\\3925381797.py:80: FutureWarning: Series.__getitem__ treating keys as positions is deprecated. In a future version, integer keys will always be treated as labels (consistent with DataFrame behavior). To access a value by position, use `ser.iloc[pos]`\n",
      "  'labels': torch.tensor(label, dtype=torch.float32)\n",
      "Epoch 39 Training: 100%|███████████████████████████████████████████████████| 11/11 [00:13<00:00,  1.22s/it, loss=0.967]\n",
      "Epoch 39 Validation: 100%|███████████████████████████████████████████████████| 3/3 [00:01<00:00,  1.52it/s, loss=0.517]\n"
     ]
    },
    {
     "name": "stdout",
     "output_type": "stream",
     "text": [
      "Epoch 39: Train Loss=0.9118, Val Loss=0.6634\n",
      "Mean F1 Score: 0.9936, Mean Accuracy: 0.9921, Mean Precision: 1.0000, Mean Recall: 0.9875\n"
     ]
    },
    {
     "name": "stderr",
     "output_type": "stream",
     "text": [
      "C:\\Users\\udays\\AppData\\Local\\Temp\\ipykernel_22228\\3925381797.py:80: FutureWarning: Series.__getitem__ treating keys as positions is deprecated. In a future version, integer keys will always be treated as labels (consistent with DataFrame behavior). To access a value by position, use `ser.iloc[pos]`\n",
      "  'labels': torch.tensor(label, dtype=torch.float32)\n",
      "Epoch 40 Training: 100%|████████████████████████████████████████████████████| 11/11 [00:13<00:00,  1.22s/it, loss=1.26]\n",
      "Epoch 40 Validation: 100%|███████████████████████████████████████████████████| 3/3 [00:01<00:00,  1.84it/s, loss=0.498]\n"
     ]
    },
    {
     "name": "stdout",
     "output_type": "stream",
     "text": [
      "Epoch 40: Train Loss=0.9101, Val Loss=0.6400\n",
      "Mean F1 Score: 0.9945, Mean Accuracy: 0.9933, Mean Precision: 1.0000, Mean Recall: 0.9892\n",
      "New best model saved for fold 4 with F1=0.9945\n"
     ]
    },
    {
     "name": "stderr",
     "output_type": "stream",
     "text": [
      "C:\\Users\\udays\\AppData\\Local\\Temp\\ipykernel_22228\\3925381797.py:80: FutureWarning: Series.__getitem__ treating keys as positions is deprecated. In a future version, integer keys will always be treated as labels (consistent with DataFrame behavior). To access a value by position, use `ser.iloc[pos]`\n",
      "  'labels': torch.tensor(label, dtype=torch.float32)\n",
      "Epoch 41 Training: 100%|████████████████████████████████████████████████████| 11/11 [00:13<00:00,  1.23s/it, loss=1.24]\n",
      "Epoch 41 Validation: 100%|███████████████████████████████████████████████████| 3/3 [00:01<00:00,  1.81it/s, loss=0.475]\n"
     ]
    },
    {
     "name": "stdout",
     "output_type": "stream",
     "text": [
      "Epoch 41: Train Loss=0.8914, Val Loss=0.6155\n",
      "Mean F1 Score: 0.9945, Mean Accuracy: 0.9933, Mean Precision: 1.0000, Mean Recall: 0.9892\n"
     ]
    },
    {
     "name": "stderr",
     "output_type": "stream",
     "text": [
      "C:\\Users\\udays\\AppData\\Local\\Temp\\ipykernel_22228\\3925381797.py:80: FutureWarning: Series.__getitem__ treating keys as positions is deprecated. In a future version, integer keys will always be treated as labels (consistent with DataFrame behavior). To access a value by position, use `ser.iloc[pos]`\n",
      "  'labels': torch.tensor(label, dtype=torch.float32)\n",
      "Epoch 42 Training: 100%|████████████████████████████████████████████████████| 11/11 [00:13<00:00,  1.20s/it, loss=1.17]\n",
      "Epoch 42 Validation: 100%|███████████████████████████████████████████████████| 3/3 [00:01<00:00,  1.70it/s, loss=0.448]\n"
     ]
    },
    {
     "name": "stdout",
     "output_type": "stream",
     "text": [
      "Epoch 42: Train Loss=0.8671, Val Loss=0.5894\n",
      "Mean F1 Score: 0.9945, Mean Accuracy: 0.9933, Mean Precision: 1.0000, Mean Recall: 0.9892\n"
     ]
    },
    {
     "name": "stderr",
     "output_type": "stream",
     "text": [
      "C:\\Users\\udays\\AppData\\Local\\Temp\\ipykernel_22228\\3925381797.py:80: FutureWarning: Series.__getitem__ treating keys as positions is deprecated. In a future version, integer keys will always be treated as labels (consistent with DataFrame behavior). To access a value by position, use `ser.iloc[pos]`\n",
      "  'labels': torch.tensor(label, dtype=torch.float32)\n",
      "Epoch 43 Training: 100%|███████████████████████████████████████████████████| 11/11 [00:13<00:00,  1.23s/it, loss=0.953]\n",
      "Epoch 43 Validation: 100%|███████████████████████████████████████████████████| 3/3 [00:02<00:00,  1.44it/s, loss=0.437]\n"
     ]
    },
    {
     "name": "stdout",
     "output_type": "stream",
     "text": [
      "Epoch 43: Train Loss=0.8219, Val Loss=0.5757\n",
      "Mean F1 Score: 0.9945, Mean Accuracy: 0.9933, Mean Precision: 1.0000, Mean Recall: 0.9892\n"
     ]
    },
    {
     "name": "stderr",
     "output_type": "stream",
     "text": [
      "C:\\Users\\udays\\AppData\\Local\\Temp\\ipykernel_22228\\3925381797.py:80: FutureWarning: Series.__getitem__ treating keys as positions is deprecated. In a future version, integer keys will always be treated as labels (consistent with DataFrame behavior). To access a value by position, use `ser.iloc[pos]`\n",
      "  'labels': torch.tensor(label, dtype=torch.float32)\n",
      "Epoch 44 Training: 100%|████████████████████████████████████████████████████| 11/11 [00:13<00:00,  1.22s/it, loss=1.01]\n",
      "Epoch 44 Validation: 100%|███████████████████████████████████████████████████| 3/3 [00:01<00:00,  1.50it/s, loss=0.417]\n"
     ]
    },
    {
     "name": "stdout",
     "output_type": "stream",
     "text": [
      "Epoch 44: Train Loss=0.8115, Val Loss=0.5528\n",
      "Mean F1 Score: 0.9945, Mean Accuracy: 0.9933, Mean Precision: 1.0000, Mean Recall: 0.9892\n"
     ]
    },
    {
     "name": "stderr",
     "output_type": "stream",
     "text": [
      "C:\\Users\\udays\\AppData\\Local\\Temp\\ipykernel_22228\\3925381797.py:80: FutureWarning: Series.__getitem__ treating keys as positions is deprecated. In a future version, integer keys will always be treated as labels (consistent with DataFrame behavior). To access a value by position, use `ser.iloc[pos]`\n",
      "  'labels': torch.tensor(label, dtype=torch.float32)\n",
      "Epoch 45 Training: 100%|███████████████████████████████████████████████████| 11/11 [00:13<00:00,  1.19s/it, loss=0.878]\n",
      "Epoch 45 Validation: 100%|███████████████████████████████████████████████████| 3/3 [00:01<00:00,  1.76it/s, loss=0.404]\n"
     ]
    },
    {
     "name": "stdout",
     "output_type": "stream",
     "text": [
      "Epoch 45: Train Loss=0.7784, Val Loss=0.5419\n",
      "Mean F1 Score: 0.9954, Mean Accuracy: 0.9944, Mean Precision: 1.0000, Mean Recall: 0.9909\n",
      "New best model saved for fold 4 with F1=0.9954\n"
     ]
    },
    {
     "name": "stderr",
     "output_type": "stream",
     "text": [
      "C:\\Users\\udays\\AppData\\Local\\Temp\\ipykernel_22228\\3925381797.py:80: FutureWarning: Series.__getitem__ treating keys as positions is deprecated. In a future version, integer keys will always be treated as labels (consistent with DataFrame behavior). To access a value by position, use `ser.iloc[pos]`\n",
      "  'labels': torch.tensor(label, dtype=torch.float32)\n",
      "Epoch 46 Training: 100%|███████████████████████████████████████████████████| 11/11 [00:12<00:00,  1.15s/it, loss=0.378]\n",
      "Epoch 46 Validation: 100%|███████████████████████████████████████████████████| 3/3 [00:01<00:00,  1.57it/s, loss=0.383]\n"
     ]
    },
    {
     "name": "stdout",
     "output_type": "stream",
     "text": [
      "Epoch 46: Train Loss=0.7319, Val Loss=0.5195\n",
      "Mean F1 Score: 0.9954, Mean Accuracy: 0.9944, Mean Precision: 1.0000, Mean Recall: 0.9909\n"
     ]
    },
    {
     "name": "stderr",
     "output_type": "stream",
     "text": [
      "C:\\Users\\udays\\AppData\\Local\\Temp\\ipykernel_22228\\3925381797.py:80: FutureWarning: Series.__getitem__ treating keys as positions is deprecated. In a future version, integer keys will always be treated as labels (consistent with DataFrame behavior). To access a value by position, use `ser.iloc[pos]`\n",
      "  'labels': torch.tensor(label, dtype=torch.float32)\n",
      "Epoch 47 Training: 100%|███████████████████████████████████████████████████| 11/11 [00:13<00:00,  1.21s/it, loss=0.527]\n",
      "Epoch 47 Validation: 100%|███████████████████████████████████████████████████| 3/3 [00:01<00:00,  1.81it/s, loss=0.385]\n"
     ]
    },
    {
     "name": "stdout",
     "output_type": "stream",
     "text": [
      "Epoch 47: Train Loss=0.7260, Val Loss=0.5157\n",
      "Mean F1 Score: 0.9954, Mean Accuracy: 0.9944, Mean Precision: 1.0000, Mean Recall: 0.9909\n"
     ]
    },
    {
     "name": "stderr",
     "output_type": "stream",
     "text": [
      "C:\\Users\\udays\\AppData\\Local\\Temp\\ipykernel_22228\\3925381797.py:80: FutureWarning: Series.__getitem__ treating keys as positions is deprecated. In a future version, integer keys will always be treated as labels (consistent with DataFrame behavior). To access a value by position, use `ser.iloc[pos]`\n",
      "  'labels': torch.tensor(label, dtype=torch.float32)\n",
      "Epoch 48 Training: 100%|███████████████████████████████████████████████████| 11/11 [00:12<00:00,  1.12s/it, loss=0.327]\n",
      "Epoch 48 Validation: 100%|███████████████████████████████████████████████████| 3/3 [00:02<00:00,  1.48it/s, loss=0.364]\n"
     ]
    },
    {
     "name": "stdout",
     "output_type": "stream",
     "text": [
      "Epoch 48: Train Loss=0.6939, Val Loss=0.4919\n",
      "Mean F1 Score: 0.9954, Mean Accuracy: 0.9944, Mean Precision: 1.0000, Mean Recall: 0.9909\n"
     ]
    },
    {
     "name": "stderr",
     "output_type": "stream",
     "text": [
      "C:\\Users\\udays\\AppData\\Local\\Temp\\ipykernel_22228\\3925381797.py:80: FutureWarning: Series.__getitem__ treating keys as positions is deprecated. In a future version, integer keys will always be treated as labels (consistent with DataFrame behavior). To access a value by position, use `ser.iloc[pos]`\n",
      "  'labels': torch.tensor(label, dtype=torch.float32)\n",
      "Epoch 49 Training: 100%|███████████████████████████████████████████████████| 11/11 [00:13<00:00,  1.22s/it, loss=0.848]\n",
      "Epoch 49 Validation: 100%|███████████████████████████████████████████████████| 3/3 [00:01<00:00,  1.51it/s, loss=0.348]\n"
     ]
    },
    {
     "name": "stdout",
     "output_type": "stream",
     "text": [
      "Epoch 49: Train Loss=0.7154, Val Loss=0.4794\n",
      "Mean F1 Score: 0.9954, Mean Accuracy: 0.9944, Mean Precision: 1.0000, Mean Recall: 0.9909\n"
     ]
    },
    {
     "name": "stderr",
     "output_type": "stream",
     "text": [
      "C:\\Users\\udays\\AppData\\Local\\Temp\\ipykernel_22228\\3925381797.py:80: FutureWarning: Series.__getitem__ treating keys as positions is deprecated. In a future version, integer keys will always be treated as labels (consistent with DataFrame behavior). To access a value by position, use `ser.iloc[pos]`\n",
      "  'labels': torch.tensor(label, dtype=torch.float32)\n",
      "Epoch 50 Training: 100%|████████████████████████████████████████████████████| 11/11 [00:13<00:00,  1.23s/it, loss=0.51]\n",
      "Epoch 50 Validation: 100%|███████████████████████████████████████████████████| 3/3 [00:01<00:00,  1.89it/s, loss=0.331]\n"
     ]
    },
    {
     "name": "stdout",
     "output_type": "stream",
     "text": [
      "Epoch 50: Train Loss=0.6756, Val Loss=0.4612\n",
      "Mean F1 Score: 0.9954, Mean Accuracy: 0.9944, Mean Precision: 1.0000, Mean Recall: 0.9909\n"
     ]
    },
    {
     "name": "stderr",
     "output_type": "stream",
     "text": [
      "C:\\Users\\udays\\AppData\\Local\\Temp\\ipykernel_22228\\3925381797.py:80: FutureWarning: Series.__getitem__ treating keys as positions is deprecated. In a future version, integer keys will always be treated as labels (consistent with DataFrame behavior). To access a value by position, use `ser.iloc[pos]`\n",
      "  'labels': torch.tensor(label, dtype=torch.float32)\n",
      "Epoch 51 Training: 100%|███████████████████████████████████████████████████| 11/11 [00:13<00:00,  1.22s/it, loss=0.276]\n",
      "Epoch 51 Validation: 100%|███████████████████████████████████████████████████| 3/3 [00:01<00:00,  1.69it/s, loss=0.323]\n"
     ]
    },
    {
     "name": "stdout",
     "output_type": "stream",
     "text": [
      "Epoch 51: Train Loss=0.6445, Val Loss=0.4512\n",
      "Mean F1 Score: 0.9954, Mean Accuracy: 0.9944, Mean Precision: 1.0000, Mean Recall: 0.9909\n"
     ]
    },
    {
     "name": "stderr",
     "output_type": "stream",
     "text": [
      "C:\\Users\\udays\\AppData\\Local\\Temp\\ipykernel_22228\\3925381797.py:80: FutureWarning: Series.__getitem__ treating keys as positions is deprecated. In a future version, integer keys will always be treated as labels (consistent with DataFrame behavior). To access a value by position, use `ser.iloc[pos]`\n",
      "  'labels': torch.tensor(label, dtype=torch.float32)\n",
      "Epoch 52 Training: 100%|████████████████████████████████████████████████████| 11/11 [00:13<00:00,  1.26s/it, loss=0.55]\n",
      "Epoch 52 Validation: 100%|███████████████████████████████████████████████████| 3/3 [00:01<00:00,  1.71it/s, loss=0.313]\n"
     ]
    },
    {
     "name": "stdout",
     "output_type": "stream",
     "text": [
      "Epoch 52: Train Loss=0.6505, Val Loss=0.4414\n",
      "Mean F1 Score: 0.9954, Mean Accuracy: 0.9944, Mean Precision: 1.0000, Mean Recall: 0.9909\n"
     ]
    },
    {
     "name": "stderr",
     "output_type": "stream",
     "text": [
      "C:\\Users\\udays\\AppData\\Local\\Temp\\ipykernel_22228\\3925381797.py:80: FutureWarning: Series.__getitem__ treating keys as positions is deprecated. In a future version, integer keys will always be treated as labels (consistent with DataFrame behavior). To access a value by position, use `ser.iloc[pos]`\n",
      "  'labels': torch.tensor(label, dtype=torch.float32)\n",
      "Epoch 53 Training: 100%|████████████████████████████████████████████████████| 11/11 [00:12<00:00,  1.18s/it, loss=1.61]\n",
      "Epoch 53 Validation: 100%|███████████████████████████████████████████████████| 3/3 [00:02<00:00,  1.49it/s, loss=0.302]\n"
     ]
    },
    {
     "name": "stdout",
     "output_type": "stream",
     "text": [
      "Epoch 53: Train Loss=0.7117, Val Loss=0.4266\n",
      "Mean F1 Score: 0.9963, Mean Accuracy: 0.9955, Mean Precision: 1.0000, Mean Recall: 0.9928\n",
      "New best model saved for fold 4 with F1=0.9963\n"
     ]
    },
    {
     "name": "stderr",
     "output_type": "stream",
     "text": [
      "C:\\Users\\udays\\AppData\\Local\\Temp\\ipykernel_22228\\3925381797.py:80: FutureWarning: Series.__getitem__ treating keys as positions is deprecated. In a future version, integer keys will always be treated as labels (consistent with DataFrame behavior). To access a value by position, use `ser.iloc[pos]`\n",
      "  'labels': torch.tensor(label, dtype=torch.float32)\n",
      "Epoch 54 Training: 100%|█████████████████████████████████████████████████████| 11/11 [00:13<00:00,  1.20s/it, loss=0.4]\n",
      "Epoch 54 Validation: 100%|███████████████████████████████████████████████████| 3/3 [00:01<00:00,  1.79it/s, loss=0.298]\n"
     ]
    },
    {
     "name": "stdout",
     "output_type": "stream",
     "text": [
      "Epoch 54: Train Loss=0.6187, Val Loss=0.4231\n",
      "Mean F1 Score: 0.9963, Mean Accuracy: 0.9955, Mean Precision: 1.0000, Mean Recall: 0.9928\n"
     ]
    },
    {
     "name": "stderr",
     "output_type": "stream",
     "text": [
      "C:\\Users\\udays\\AppData\\Local\\Temp\\ipykernel_22228\\3925381797.py:80: FutureWarning: Series.__getitem__ treating keys as positions is deprecated. In a future version, integer keys will always be treated as labels (consistent with DataFrame behavior). To access a value by position, use `ser.iloc[pos]`\n",
      "  'labels': torch.tensor(label, dtype=torch.float32)\n",
      "Epoch 55 Training: 100%|███████████████████████████████████████████████████| 11/11 [00:13<00:00,  1.20s/it, loss=0.842]\n",
      "Epoch 55 Validation: 100%|███████████████████████████████████████████████████| 3/3 [00:01<00:00,  1.85it/s, loss=0.281]\n"
     ]
    },
    {
     "name": "stdout",
     "output_type": "stream",
     "text": [
      "Epoch 55: Train Loss=0.6393, Val Loss=0.4046\n",
      "Mean F1 Score: 0.9963, Mean Accuracy: 0.9955, Mean Precision: 1.0000, Mean Recall: 0.9928\n"
     ]
    },
    {
     "name": "stderr",
     "output_type": "stream",
     "text": [
      "C:\\Users\\udays\\AppData\\Local\\Temp\\ipykernel_22228\\3925381797.py:80: FutureWarning: Series.__getitem__ treating keys as positions is deprecated. In a future version, integer keys will always be treated as labels (consistent with DataFrame behavior). To access a value by position, use `ser.iloc[pos]`\n",
      "  'labels': torch.tensor(label, dtype=torch.float32)\n",
      "Epoch 56 Training: 100%|███████████████████████████████████████████████████| 11/11 [00:13<00:00,  1.19s/it, loss=0.581]\n",
      "Epoch 56 Validation: 100%|███████████████████████████████████████████████████| 3/3 [00:01<00:00,  1.58it/s, loss=0.274]\n"
     ]
    },
    {
     "name": "stdout",
     "output_type": "stream",
     "text": [
      "Epoch 56: Train Loss=0.6032, Val Loss=0.3961\n",
      "Mean F1 Score: 0.9963, Mean Accuracy: 0.9955, Mean Precision: 1.0000, Mean Recall: 0.9928\n"
     ]
    },
    {
     "name": "stderr",
     "output_type": "stream",
     "text": [
      "C:\\Users\\udays\\AppData\\Local\\Temp\\ipykernel_22228\\3925381797.py:80: FutureWarning: Series.__getitem__ treating keys as positions is deprecated. In a future version, integer keys will always be treated as labels (consistent with DataFrame behavior). To access a value by position, use `ser.iloc[pos]`\n",
      "  'labels': torch.tensor(label, dtype=torch.float32)\n",
      "Epoch 57 Training: 100%|███████████████████████████████████████████████████| 11/11 [00:13<00:00,  1.23s/it, loss=0.306]\n",
      "Epoch 57 Validation: 100%|███████████████████████████████████████████████████| 3/3 [00:01<00:00,  1.74it/s, loss=0.273]\n"
     ]
    },
    {
     "name": "stdout",
     "output_type": "stream",
     "text": [
      "Epoch 57: Train Loss=0.5717, Val Loss=0.3923\n",
      "Mean F1 Score: 0.9963, Mean Accuracy: 0.9955, Mean Precision: 1.0000, Mean Recall: 0.9928\n"
     ]
    },
    {
     "name": "stderr",
     "output_type": "stream",
     "text": [
      "C:\\Users\\udays\\AppData\\Local\\Temp\\ipykernel_22228\\3925381797.py:80: FutureWarning: Series.__getitem__ treating keys as positions is deprecated. In a future version, integer keys will always be treated as labels (consistent with DataFrame behavior). To access a value by position, use `ser.iloc[pos]`\n",
      "  'labels': torch.tensor(label, dtype=torch.float32)\n",
      "Epoch 58 Training: 100%|███████████████████████████████████████████████████| 11/11 [00:12<00:00,  1.15s/it, loss=0.179]\n",
      "Epoch 58 Validation: 100%|███████████████████████████████████████████████████| 3/3 [00:01<00:00,  1.50it/s, loss=0.258]\n"
     ]
    },
    {
     "name": "stdout",
     "output_type": "stream",
     "text": [
      "Epoch 58: Train Loss=0.5542, Val Loss=0.3775\n",
      "Mean F1 Score: 0.9954, Mean Accuracy: 0.9944, Mean Precision: 1.0000, Mean Recall: 0.9909\n"
     ]
    },
    {
     "name": "stderr",
     "output_type": "stream",
     "text": [
      "C:\\Users\\udays\\AppData\\Local\\Temp\\ipykernel_22228\\3925381797.py:80: FutureWarning: Series.__getitem__ treating keys as positions is deprecated. In a future version, integer keys will always be treated as labels (consistent with DataFrame behavior). To access a value by position, use `ser.iloc[pos]`\n",
      "  'labels': torch.tensor(label, dtype=torch.float32)\n",
      "Epoch 59 Training: 100%|████████████████████████████████████████████████████| 11/11 [00:13<00:00,  1.21s/it, loss=0.35]\n",
      "Epoch 59 Validation: 100%|███████████████████████████████████████████████████| 3/3 [00:01<00:00,  1.55it/s, loss=0.246]\n"
     ]
    },
    {
     "name": "stdout",
     "output_type": "stream",
     "text": [
      "Epoch 59: Train Loss=0.5503, Val Loss=0.3673\n",
      "Mean F1 Score: 0.9954, Mean Accuracy: 0.9944, Mean Precision: 1.0000, Mean Recall: 0.9909\n"
     ]
    },
    {
     "name": "stderr",
     "output_type": "stream",
     "text": [
      "C:\\Users\\udays\\AppData\\Local\\Temp\\ipykernel_22228\\3925381797.py:80: FutureWarning: Series.__getitem__ treating keys as positions is deprecated. In a future version, integer keys will always be treated as labels (consistent with DataFrame behavior). To access a value by position, use `ser.iloc[pos]`\n",
      "  'labels': torch.tensor(label, dtype=torch.float32)\n",
      "Epoch 60 Training: 100%|███████████████████████████████████████████████████| 11/11 [00:12<00:00,  1.18s/it, loss=0.701]\n",
      "Epoch 60 Validation: 100%|███████████████████████████████████████████████████| 3/3 [00:01<00:00,  1.53it/s, loss=0.241]\n"
     ]
    },
    {
     "name": "stdout",
     "output_type": "stream",
     "text": [
      "Epoch 60: Train Loss=0.5699, Val Loss=0.3588\n",
      "Mean F1 Score: 0.9954, Mean Accuracy: 0.9944, Mean Precision: 1.0000, Mean Recall: 0.9909\n"
     ]
    },
    {
     "name": "stderr",
     "output_type": "stream",
     "text": [
      "C:\\Users\\udays\\AppData\\Local\\Temp\\ipykernel_22228\\3925381797.py:80: FutureWarning: Series.__getitem__ treating keys as positions is deprecated. In a future version, integer keys will always be treated as labels (consistent with DataFrame behavior). To access a value by position, use `ser.iloc[pos]`\n",
      "  'labels': torch.tensor(label, dtype=torch.float32)\n",
      "Epoch 61 Training: 100%|███████████████████████████████████████████████████| 11/11 [00:13<00:00,  1.19s/it, loss=0.226]\n",
      "Epoch 61 Validation: 100%|███████████████████████████████████████████████████| 3/3 [00:01<00:00,  1.82it/s, loss=0.242]\n"
     ]
    },
    {
     "name": "stdout",
     "output_type": "stream",
     "text": [
      "Epoch 61: Train Loss=0.5283, Val Loss=0.3548\n",
      "Mean F1 Score: 0.9963, Mean Accuracy: 0.9955, Mean Precision: 1.0000, Mean Recall: 0.9928\n"
     ]
    },
    {
     "name": "stderr",
     "output_type": "stream",
     "text": [
      "C:\\Users\\udays\\AppData\\Local\\Temp\\ipykernel_22228\\3925381797.py:80: FutureWarning: Series.__getitem__ treating keys as positions is deprecated. In a future version, integer keys will always be treated as labels (consistent with DataFrame behavior). To access a value by position, use `ser.iloc[pos]`\n",
      "  'labels': torch.tensor(label, dtype=torch.float32)\n",
      "Epoch 62 Training: 100%|███████████████████████████████████████████████████| 11/11 [00:13<00:00,  1.20s/it, loss=0.665]\n",
      "Epoch 62 Validation: 100%|███████████████████████████████████████████████████| 3/3 [00:02<00:00,  1.47it/s, loss=0.228]\n"
     ]
    },
    {
     "name": "stdout",
     "output_type": "stream",
     "text": [
      "Epoch 62: Train Loss=0.5428, Val Loss=0.3448\n",
      "Mean F1 Score: 0.9963, Mean Accuracy: 0.9955, Mean Precision: 1.0000, Mean Recall: 0.9928\n"
     ]
    },
    {
     "name": "stderr",
     "output_type": "stream",
     "text": [
      "C:\\Users\\udays\\AppData\\Local\\Temp\\ipykernel_22228\\3925381797.py:80: FutureWarning: Series.__getitem__ treating keys as positions is deprecated. In a future version, integer keys will always be treated as labels (consistent with DataFrame behavior). To access a value by position, use `ser.iloc[pos]`\n",
      "  'labels': torch.tensor(label, dtype=torch.float32)\n",
      "Epoch 63 Training: 100%|███████████████████████████████████████████████████| 11/11 [00:13<00:00,  1.22s/it, loss=0.946]\n",
      "Epoch 63 Validation: 100%|███████████████████████████████████████████████████| 3/3 [00:01<00:00,  1.57it/s, loss=0.226]\n"
     ]
    },
    {
     "name": "stdout",
     "output_type": "stream",
     "text": [
      "Epoch 63: Train Loss=0.5617, Val Loss=0.3389\n",
      "Mean F1 Score: 0.9963, Mean Accuracy: 0.9955, Mean Precision: 1.0000, Mean Recall: 0.9928\n"
     ]
    },
    {
     "name": "stderr",
     "output_type": "stream",
     "text": [
      "C:\\Users\\udays\\AppData\\Local\\Temp\\ipykernel_22228\\3925381797.py:80: FutureWarning: Series.__getitem__ treating keys as positions is deprecated. In a future version, integer keys will always be treated as labels (consistent with DataFrame behavior). To access a value by position, use `ser.iloc[pos]`\n",
      "  'labels': torch.tensor(label, dtype=torch.float32)\n",
      "Epoch 64 Training: 100%|███████████████████████████████████████████████████| 11/11 [00:13<00:00,  1.21s/it, loss=0.471]\n",
      "Epoch 64 Validation: 100%|███████████████████████████████████████████████████| 3/3 [00:01<00:00,  1.62it/s, loss=0.213]\n"
     ]
    },
    {
     "name": "stdout",
     "output_type": "stream",
     "text": [
      "Epoch 64: Train Loss=0.5163, Val Loss=0.3287\n",
      "Mean F1 Score: 0.9963, Mean Accuracy: 0.9955, Mean Precision: 1.0000, Mean Recall: 0.9928\n"
     ]
    },
    {
     "name": "stderr",
     "output_type": "stream",
     "text": [
      "C:\\Users\\udays\\AppData\\Local\\Temp\\ipykernel_22228\\3925381797.py:80: FutureWarning: Series.__getitem__ treating keys as positions is deprecated. In a future version, integer keys will always be treated as labels (consistent with DataFrame behavior). To access a value by position, use `ser.iloc[pos]`\n",
      "  'labels': torch.tensor(label, dtype=torch.float32)\n",
      "Epoch 65 Training: 100%|████████████████████████████████████████████████████| 11/11 [00:13<00:00,  1.20s/it, loss=1.04]\n",
      "Epoch 65 Validation: 100%|████████████████████████████████████████████████████| 3/3 [00:01<00:00,  1.73it/s, loss=0.21]\n"
     ]
    },
    {
     "name": "stdout",
     "output_type": "stream",
     "text": [
      "Epoch 65: Train Loss=0.5466, Val Loss=0.3226\n",
      "Mean F1 Score: 0.9963, Mean Accuracy: 0.9955, Mean Precision: 1.0000, Mean Recall: 0.9928\n"
     ]
    },
    {
     "name": "stderr",
     "output_type": "stream",
     "text": [
      "C:\\Users\\udays\\AppData\\Local\\Temp\\ipykernel_22228\\3925381797.py:80: FutureWarning: Series.__getitem__ treating keys as positions is deprecated. In a future version, integer keys will always be treated as labels (consistent with DataFrame behavior). To access a value by position, use `ser.iloc[pos]`\n",
      "  'labels': torch.tensor(label, dtype=torch.float32)\n",
      "Epoch 66 Training: 100%|███████████████████████████████████████████████████| 11/11 [00:13<00:00,  1.21s/it, loss=0.176]\n",
      "Epoch 66 Validation: 100%|███████████████████████████████████████████████████| 3/3 [00:02<00:00,  1.48it/s, loss=0.203]\n"
     ]
    },
    {
     "name": "stdout",
     "output_type": "stream",
     "text": [
      "Epoch 66: Train Loss=0.4811, Val Loss=0.3168\n",
      "Mean F1 Score: 0.9963, Mean Accuracy: 0.9955, Mean Precision: 1.0000, Mean Recall: 0.9928\n"
     ]
    },
    {
     "name": "stderr",
     "output_type": "stream",
     "text": [
      "C:\\Users\\udays\\AppData\\Local\\Temp\\ipykernel_22228\\3925381797.py:80: FutureWarning: Series.__getitem__ treating keys as positions is deprecated. In a future version, integer keys will always be treated as labels (consistent with DataFrame behavior). To access a value by position, use `ser.iloc[pos]`\n",
      "  'labels': torch.tensor(label, dtype=torch.float32)\n",
      "Epoch 67 Training: 100%|███████████████████████████████████████████████████| 11/11 [00:13<00:00,  1.20s/it, loss=0.177]\n",
      "Epoch 67 Validation: 100%|███████████████████████████████████████████████████| 3/3 [00:01<00:00,  1.57it/s, loss=0.199]\n"
     ]
    },
    {
     "name": "stdout",
     "output_type": "stream",
     "text": [
      "Epoch 67: Train Loss=0.4685, Val Loss=0.3116\n",
      "Mean F1 Score: 0.9963, Mean Accuracy: 0.9955, Mean Precision: 1.0000, Mean Recall: 0.9928\n"
     ]
    },
    {
     "name": "stderr",
     "output_type": "stream",
     "text": [
      "C:\\Users\\udays\\AppData\\Local\\Temp\\ipykernel_22228\\3925381797.py:80: FutureWarning: Series.__getitem__ treating keys as positions is deprecated. In a future version, integer keys will always be treated as labels (consistent with DataFrame behavior). To access a value by position, use `ser.iloc[pos]`\n",
      "  'labels': torch.tensor(label, dtype=torch.float32)\n",
      "Epoch 68 Training: 100%|███████████████████████████████████████████████████| 11/11 [00:13<00:00,  1.21s/it, loss=0.905]\n",
      "Epoch 68 Validation: 100%|███████████████████████████████████████████████████| 3/3 [00:02<00:00,  1.46it/s, loss=0.196]\n"
     ]
    },
    {
     "name": "stdout",
     "output_type": "stream",
     "text": [
      "Epoch 68: Train Loss=0.5184, Val Loss=0.3042\n",
      "Mean F1 Score: 0.9963, Mean Accuracy: 0.9955, Mean Precision: 1.0000, Mean Recall: 0.9928\n"
     ]
    },
    {
     "name": "stderr",
     "output_type": "stream",
     "text": [
      "C:\\Users\\udays\\AppData\\Local\\Temp\\ipykernel_22228\\3925381797.py:80: FutureWarning: Series.__getitem__ treating keys as positions is deprecated. In a future version, integer keys will always be treated as labels (consistent with DataFrame behavior). To access a value by position, use `ser.iloc[pos]`\n",
      "  'labels': torch.tensor(label, dtype=torch.float32)\n",
      "Epoch 69 Training: 100%|████████████████████████████████████████████████████| 11/11 [00:13<00:00,  1.22s/it, loss=1.18]\n",
      "Epoch 69 Validation: 100%|███████████████████████████████████████████████████| 3/3 [00:01<00:00,  1.53it/s, loss=0.193]\n"
     ]
    },
    {
     "name": "stdout",
     "output_type": "stream",
     "text": [
      "Epoch 69: Train Loss=0.5316, Val Loss=0.3019\n",
      "Mean F1 Score: 0.9963, Mean Accuracy: 0.9955, Mean Precision: 1.0000, Mean Recall: 0.9928\n"
     ]
    },
    {
     "name": "stderr",
     "output_type": "stream",
     "text": [
      "C:\\Users\\udays\\AppData\\Local\\Temp\\ipykernel_22228\\3925381797.py:80: FutureWarning: Series.__getitem__ treating keys as positions is deprecated. In a future version, integer keys will always be treated as labels (consistent with DataFrame behavior). To access a value by position, use `ser.iloc[pos]`\n",
      "  'labels': torch.tensor(label, dtype=torch.float32)\n",
      "Epoch 70 Training: 100%|███████████████████████████████████████████████████| 11/11 [00:13<00:00,  1.19s/it, loss=0.642]\n",
      "Epoch 70 Validation: 100%|███████████████████████████████████████████████████| 3/3 [00:01<00:00,  1.58it/s, loss=0.184]\n"
     ]
    },
    {
     "name": "stdout",
     "output_type": "stream",
     "text": [
      "Epoch 70: Train Loss=0.4871, Val Loss=0.2938\n",
      "Mean F1 Score: 0.9963, Mean Accuracy: 0.9955, Mean Precision: 1.0000, Mean Recall: 0.9928\n"
     ]
    },
    {
     "name": "stderr",
     "output_type": "stream",
     "text": [
      "C:\\Users\\udays\\AppData\\Local\\Temp\\ipykernel_22228\\3925381797.py:80: FutureWarning: Series.__getitem__ treating keys as positions is deprecated. In a future version, integer keys will always be treated as labels (consistent with DataFrame behavior). To access a value by position, use `ser.iloc[pos]`\n",
      "  'labels': torch.tensor(label, dtype=torch.float32)\n",
      "Epoch 71 Training: 100%|████████████████████████████████████████████████████| 11/11 [00:12<00:00,  1.16s/it, loss=0.16]\n",
      "Epoch 71 Validation: 100%|███████████████████████████████████████████████████| 3/3 [00:01<00:00,  1.54it/s, loss=0.176]\n"
     ]
    },
    {
     "name": "stdout",
     "output_type": "stream",
     "text": [
      "Epoch 71: Train Loss=0.4382, Val Loss=0.2878\n",
      "Mean F1 Score: 0.9963, Mean Accuracy: 0.9955, Mean Precision: 1.0000, Mean Recall: 0.9928\n"
     ]
    },
    {
     "name": "stderr",
     "output_type": "stream",
     "text": [
      "C:\\Users\\udays\\AppData\\Local\\Temp\\ipykernel_22228\\3925381797.py:80: FutureWarning: Series.__getitem__ treating keys as positions is deprecated. In a future version, integer keys will always be treated as labels (consistent with DataFrame behavior). To access a value by position, use `ser.iloc[pos]`\n",
      "  'labels': torch.tensor(label, dtype=torch.float32)\n",
      "Epoch 72 Training: 100%|███████████████████████████████████████████████████| 11/11 [00:13<00:00,  1.19s/it, loss=0.555]\n",
      "Epoch 72 Validation: 100%|███████████████████████████████████████████████████| 3/3 [00:02<00:00,  1.48it/s, loss=0.175]\n"
     ]
    },
    {
     "name": "stdout",
     "output_type": "stream",
     "text": [
      "Epoch 72: Train Loss=0.4568, Val Loss=0.2823\n",
      "Mean F1 Score: 0.9963, Mean Accuracy: 0.9955, Mean Precision: 1.0000, Mean Recall: 0.9928\n"
     ]
    },
    {
     "name": "stderr",
     "output_type": "stream",
     "text": [
      "C:\\Users\\udays\\AppData\\Local\\Temp\\ipykernel_22228\\3925381797.py:80: FutureWarning: Series.__getitem__ treating keys as positions is deprecated. In a future version, integer keys will always be treated as labels (consistent with DataFrame behavior). To access a value by position, use `ser.iloc[pos]`\n",
      "  'labels': torch.tensor(label, dtype=torch.float32)\n",
      "Epoch 73 Training: 100%|███████████████████████████████████████████████████████| 11/11 [00:13<00:00,  1.21s/it, loss=1]\n",
      "Epoch 73 Validation: 100%|███████████████████████████████████████████████████| 3/3 [00:01<00:00,  1.71it/s, loss=0.174]\n"
     ]
    },
    {
     "name": "stdout",
     "output_type": "stream",
     "text": [
      "Epoch 73: Train Loss=0.4857, Val Loss=0.2810\n",
      "Mean F1 Score: 0.9963, Mean Accuracy: 0.9955, Mean Precision: 1.0000, Mean Recall: 0.9928\n"
     ]
    },
    {
     "name": "stderr",
     "output_type": "stream",
     "text": [
      "C:\\Users\\udays\\AppData\\Local\\Temp\\ipykernel_22228\\3925381797.py:80: FutureWarning: Series.__getitem__ treating keys as positions is deprecated. In a future version, integer keys will always be treated as labels (consistent with DataFrame behavior). To access a value by position, use `ser.iloc[pos]`\n",
      "  'labels': torch.tensor(label, dtype=torch.float32)\n",
      "Epoch 74 Training: 100%|███████████████████████████████████████████████████| 11/11 [00:12<00:00,  1.16s/it, loss=0.418]\n",
      "Epoch 74 Validation: 100%|███████████████████████████████████████████████████| 3/3 [00:01<00:00,  1.52it/s, loss=0.162]\n"
     ]
    },
    {
     "name": "stdout",
     "output_type": "stream",
     "text": [
      "Epoch 74: Train Loss=0.4393, Val Loss=0.2715\n",
      "Mean F1 Score: 0.9963, Mean Accuracy: 0.9955, Mean Precision: 1.0000, Mean Recall: 0.9928\n"
     ]
    },
    {
     "name": "stderr",
     "output_type": "stream",
     "text": [
      "C:\\Users\\udays\\AppData\\Local\\Temp\\ipykernel_22228\\3925381797.py:80: FutureWarning: Series.__getitem__ treating keys as positions is deprecated. In a future version, integer keys will always be treated as labels (consistent with DataFrame behavior). To access a value by position, use `ser.iloc[pos]`\n",
      "  'labels': torch.tensor(label, dtype=torch.float32)\n",
      "Epoch 75 Training: 100%|███████████████████████████████████████████████████| 11/11 [00:13<00:00,  1.21s/it, loss=0.194]\n",
      "Epoch 75 Validation: 100%|███████████████████████████████████████████████████| 3/3 [00:01<00:00,  1.66it/s, loss=0.163]\n"
     ]
    },
    {
     "name": "stdout",
     "output_type": "stream",
     "text": [
      "Epoch 75: Train Loss=0.4170, Val Loss=0.2719\n",
      "Mean F1 Score: 0.9963, Mean Accuracy: 0.9955, Mean Precision: 1.0000, Mean Recall: 0.9928\n"
     ]
    },
    {
     "name": "stderr",
     "output_type": "stream",
     "text": [
      "C:\\Users\\udays\\AppData\\Local\\Temp\\ipykernel_22228\\3925381797.py:80: FutureWarning: Series.__getitem__ treating keys as positions is deprecated. In a future version, integer keys will always be treated as labels (consistent with DataFrame behavior). To access a value by position, use `ser.iloc[pos]`\n",
      "  'labels': torch.tensor(label, dtype=torch.float32)\n",
      "Epoch 76 Training: 100%|████████████████████████████████████████████████████| 11/11 [00:12<00:00,  1.18s/it, loss=0.62]\n",
      "Epoch 76 Validation: 100%|████████████████████████████████████████████████████| 3/3 [00:01<00:00,  1.73it/s, loss=0.16]\n"
     ]
    },
    {
     "name": "stdout",
     "output_type": "stream",
     "text": [
      "Epoch 76: Train Loss=0.4389, Val Loss=0.2652\n",
      "Mean F1 Score: 0.9963, Mean Accuracy: 0.9955, Mean Precision: 1.0000, Mean Recall: 0.9928\n"
     ]
    },
    {
     "name": "stderr",
     "output_type": "stream",
     "text": [
      "C:\\Users\\udays\\AppData\\Local\\Temp\\ipykernel_22228\\3925381797.py:80: FutureWarning: Series.__getitem__ treating keys as positions is deprecated. In a future version, integer keys will always be treated as labels (consistent with DataFrame behavior). To access a value by position, use `ser.iloc[pos]`\n",
      "  'labels': torch.tensor(label, dtype=torch.float32)\n",
      "Epoch 77 Training: 100%|████████████████████████████████████████████████████| 11/11 [00:12<00:00,  1.15s/it, loss=1.07]\n",
      "Epoch 77 Validation: 100%|███████████████████████████████████████████████████| 3/3 [00:01<00:00,  1.58it/s, loss=0.155]\n"
     ]
    },
    {
     "name": "stdout",
     "output_type": "stream",
     "text": [
      "Epoch 77: Train Loss=0.4659, Val Loss=0.2626\n",
      "Mean F1 Score: 0.9963, Mean Accuracy: 0.9955, Mean Precision: 1.0000, Mean Recall: 0.9928\n"
     ]
    },
    {
     "name": "stderr",
     "output_type": "stream",
     "text": [
      "C:\\Users\\udays\\AppData\\Local\\Temp\\ipykernel_22228\\3925381797.py:80: FutureWarning: Series.__getitem__ treating keys as positions is deprecated. In a future version, integer keys will always be treated as labels (consistent with DataFrame behavior). To access a value by position, use `ser.iloc[pos]`\n",
      "  'labels': torch.tensor(label, dtype=torch.float32)\n",
      "Epoch 78 Training: 100%|███████████████████████████████████████████████████| 11/11 [00:13<00:00,  1.19s/it, loss=0.924]\n",
      "Epoch 78 Validation: 100%|███████████████████████████████████████████████████| 3/3 [00:01<00:00,  1.77it/s, loss=0.151]\n"
     ]
    },
    {
     "name": "stdout",
     "output_type": "stream",
     "text": [
      "Epoch 78: Train Loss=0.4506, Val Loss=0.2566\n",
      "Mean F1 Score: 0.9963, Mean Accuracy: 0.9955, Mean Precision: 1.0000, Mean Recall: 0.9928\n"
     ]
    },
    {
     "name": "stderr",
     "output_type": "stream",
     "text": [
      "C:\\Users\\udays\\AppData\\Local\\Temp\\ipykernel_22228\\3925381797.py:80: FutureWarning: Series.__getitem__ treating keys as positions is deprecated. In a future version, integer keys will always be treated as labels (consistent with DataFrame behavior). To access a value by position, use `ser.iloc[pos]`\n",
      "  'labels': torch.tensor(label, dtype=torch.float32)\n",
      "Epoch 79 Training: 100%|███████████████████████████████████████████████████| 11/11 [00:13<00:00,  1.19s/it, loss=0.139]\n",
      "Epoch 79 Validation: 100%|███████████████████████████████████████████████████| 3/3 [00:01<00:00,  1.52it/s, loss=0.145]\n"
     ]
    },
    {
     "name": "stdout",
     "output_type": "stream",
     "text": [
      "Epoch 79: Train Loss=0.3892, Val Loss=0.2519\n",
      "Mean F1 Score: 0.9963, Mean Accuracy: 0.9955, Mean Precision: 1.0000, Mean Recall: 0.9928\n"
     ]
    },
    {
     "name": "stderr",
     "output_type": "stream",
     "text": [
      "C:\\Users\\udays\\AppData\\Local\\Temp\\ipykernel_22228\\3925381797.py:80: FutureWarning: Series.__getitem__ treating keys as positions is deprecated. In a future version, integer keys will always be treated as labels (consistent with DataFrame behavior). To access a value by position, use `ser.iloc[pos]`\n",
      "  'labels': torch.tensor(label, dtype=torch.float32)\n",
      "Epoch 80 Training: 100%|███████████████████████████████████████████████████| 11/11 [00:13<00:00,  1.19s/it, loss=0.568]\n",
      "Epoch 80 Validation: 100%|███████████████████████████████████████████████████| 3/3 [00:01<00:00,  1.68it/s, loss=0.145]\n"
     ]
    },
    {
     "name": "stdout",
     "output_type": "stream",
     "text": [
      "Epoch 80: Train Loss=0.4102, Val Loss=0.2505\n",
      "Mean F1 Score: 0.9963, Mean Accuracy: 0.9955, Mean Precision: 1.0000, Mean Recall: 0.9928\n"
     ]
    },
    {
     "name": "stderr",
     "output_type": "stream",
     "text": [
      "C:\\Users\\udays\\AppData\\Local\\Temp\\ipykernel_22228\\3925381797.py:80: FutureWarning: Series.__getitem__ treating keys as positions is deprecated. In a future version, integer keys will always be treated as labels (consistent with DataFrame behavior). To access a value by position, use `ser.iloc[pos]`\n",
      "  'labels': torch.tensor(label, dtype=torch.float32)\n",
      "Epoch 81 Training: 100%|███████████████████████████████████████████████████| 11/11 [00:12<00:00,  1.16s/it, loss=0.518]\n",
      "Epoch 81 Validation: 100%|███████████████████████████████████████████████████| 3/3 [00:02<00:00,  1.49it/s, loss=0.141]\n"
     ]
    },
    {
     "name": "stdout",
     "output_type": "stream",
     "text": [
      "Epoch 81: Train Loss=0.4026, Val Loss=0.2452\n",
      "Mean F1 Score: 0.9963, Mean Accuracy: 0.9955, Mean Precision: 1.0000, Mean Recall: 0.9928\n"
     ]
    },
    {
     "name": "stderr",
     "output_type": "stream",
     "text": [
      "C:\\Users\\udays\\AppData\\Local\\Temp\\ipykernel_22228\\3925381797.py:80: FutureWarning: Series.__getitem__ treating keys as positions is deprecated. In a future version, integer keys will always be treated as labels (consistent with DataFrame behavior). To access a value by position, use `ser.iloc[pos]`\n",
      "  'labels': torch.tensor(label, dtype=torch.float32)\n",
      "Epoch 82 Training: 100%|███████████████████████████████████████████████████| 11/11 [00:13<00:00,  1.19s/it, loss=0.865]\n",
      "Epoch 82 Validation: 100%|███████████████████████████████████████████████████| 3/3 [00:01<00:00,  1.50it/s, loss=0.139]\n"
     ]
    },
    {
     "name": "stdout",
     "output_type": "stream",
     "text": [
      "Epoch 82: Train Loss=0.4216, Val Loss=0.2423\n",
      "Mean F1 Score: 0.9963, Mean Accuracy: 0.9955, Mean Precision: 1.0000, Mean Recall: 0.9928\n"
     ]
    },
    {
     "name": "stderr",
     "output_type": "stream",
     "text": [
      "C:\\Users\\udays\\AppData\\Local\\Temp\\ipykernel_22228\\3925381797.py:80: FutureWarning: Series.__getitem__ treating keys as positions is deprecated. In a future version, integer keys will always be treated as labels (consistent with DataFrame behavior). To access a value by position, use `ser.iloc[pos]`\n",
      "  'labels': torch.tensor(label, dtype=torch.float32)\n",
      "Epoch 83 Training: 100%|███████████████████████████████████████████████████| 11/11 [00:13<00:00,  1.21s/it, loss=0.724]\n",
      "Epoch 83 Validation: 100%|███████████████████████████████████████████████████| 3/3 [00:01<00:00,  1.58it/s, loss=0.137]\n"
     ]
    },
    {
     "name": "stdout",
     "output_type": "stream",
     "text": [
      "Epoch 83: Train Loss=0.4093, Val Loss=0.2390\n",
      "Mean F1 Score: 0.9963, Mean Accuracy: 0.9955, Mean Precision: 1.0000, Mean Recall: 0.9928\n"
     ]
    },
    {
     "name": "stderr",
     "output_type": "stream",
     "text": [
      "C:\\Users\\udays\\AppData\\Local\\Temp\\ipykernel_22228\\3925381797.py:80: FutureWarning: Series.__getitem__ treating keys as positions is deprecated. In a future version, integer keys will always be treated as labels (consistent with DataFrame behavior). To access a value by position, use `ser.iloc[pos]`\n",
      "  'labels': torch.tensor(label, dtype=torch.float32)\n",
      "Epoch 84 Training: 100%|███████████████████████████████████████████████████| 11/11 [00:13<00:00,  1.20s/it, loss=0.856]\n",
      "Epoch 84 Validation: 100%|████████████████████████████████████████████████████| 3/3 [00:02<00:00,  1.42it/s, loss=0.13]\n"
     ]
    },
    {
     "name": "stdout",
     "output_type": "stream",
     "text": [
      "Epoch 84: Train Loss=0.4066, Val Loss=0.2373\n",
      "Mean F1 Score: 0.9972, Mean Accuracy: 0.9966, Mean Precision: 1.0000, Mean Recall: 0.9946\n",
      "New best model saved for fold 4 with F1=0.9972\n"
     ]
    },
    {
     "name": "stderr",
     "output_type": "stream",
     "text": [
      "C:\\Users\\udays\\AppData\\Local\\Temp\\ipykernel_22228\\3925381797.py:80: FutureWarning: Series.__getitem__ treating keys as positions is deprecated. In a future version, integer keys will always be treated as labels (consistent with DataFrame behavior). To access a value by position, use `ser.iloc[pos]`\n",
      "  'labels': torch.tensor(label, dtype=torch.float32)\n",
      "Epoch 85 Training: 100%|███████████████████████████████████████████████████| 11/11 [00:13<00:00,  1.24s/it, loss=0.112]\n",
      "Epoch 85 Validation: 100%|███████████████████████████████████████████████████| 3/3 [00:02<00:00,  1.33it/s, loss=0.127]\n"
     ]
    },
    {
     "name": "stdout",
     "output_type": "stream",
     "text": [
      "Epoch 85: Train Loss=0.3525, Val Loss=0.2300\n",
      "Mean F1 Score: 0.9972, Mean Accuracy: 0.9966, Mean Precision: 1.0000, Mean Recall: 0.9946\n"
     ]
    },
    {
     "name": "stderr",
     "output_type": "stream",
     "text": [
      "C:\\Users\\udays\\AppData\\Local\\Temp\\ipykernel_22228\\3925381797.py:80: FutureWarning: Series.__getitem__ treating keys as positions is deprecated. In a future version, integer keys will always be treated as labels (consistent with DataFrame behavior). To access a value by position, use `ser.iloc[pos]`\n",
      "  'labels': torch.tensor(label, dtype=torch.float32)\n",
      "Epoch 86 Training: 100%|███████████████████████████████████████████████████| 11/11 [00:13<00:00,  1.24s/it, loss=0.103]\n",
      "Epoch 86 Validation: 100%|███████████████████████████████████████████████████| 3/3 [00:02<00:00,  1.49it/s, loss=0.127]\n"
     ]
    },
    {
     "name": "stdout",
     "output_type": "stream",
     "text": [
      "Epoch 86: Train Loss=0.3450, Val Loss=0.2277\n",
      "Mean F1 Score: 0.9972, Mean Accuracy: 0.9966, Mean Precision: 1.0000, Mean Recall: 0.9946\n"
     ]
    },
    {
     "name": "stderr",
     "output_type": "stream",
     "text": [
      "C:\\Users\\udays\\AppData\\Local\\Temp\\ipykernel_22228\\3925381797.py:80: FutureWarning: Series.__getitem__ treating keys as positions is deprecated. In a future version, integer keys will always be treated as labels (consistent with DataFrame behavior). To access a value by position, use `ser.iloc[pos]`\n",
      "  'labels': torch.tensor(label, dtype=torch.float32)\n",
      "Epoch 87 Training: 100%|███████████████████████████████████████████████████| 11/11 [00:14<00:00,  1.27s/it, loss=0.439]\n",
      "Epoch 87 Validation: 100%|███████████████████████████████████████████████████| 3/3 [00:01<00:00,  1.57it/s, loss=0.119]\n"
     ]
    },
    {
     "name": "stdout",
     "output_type": "stream",
     "text": [
      "Epoch 87: Train Loss=0.3624, Val Loss=0.2244\n",
      "Mean F1 Score: 0.9972, Mean Accuracy: 0.9966, Mean Precision: 1.0000, Mean Recall: 0.9946\n"
     ]
    },
    {
     "name": "stderr",
     "output_type": "stream",
     "text": [
      "C:\\Users\\udays\\AppData\\Local\\Temp\\ipykernel_22228\\3925381797.py:80: FutureWarning: Series.__getitem__ treating keys as positions is deprecated. In a future version, integer keys will always be treated as labels (consistent with DataFrame behavior). To access a value by position, use `ser.iloc[pos]`\n",
      "  'labels': torch.tensor(label, dtype=torch.float32)\n",
      "Epoch 88 Training: 100%|███████████████████████████████████████████████████| 11/11 [00:13<00:00,  1.22s/it, loss=0.514]\n",
      "Epoch 88 Validation: 100%|███████████████████████████████████████████████████| 3/3 [00:02<00:00,  1.49it/s, loss=0.118]\n"
     ]
    },
    {
     "name": "stdout",
     "output_type": "stream",
     "text": [
      "Epoch 88: Train Loss=0.3626, Val Loss=0.2213\n",
      "Mean F1 Score: 0.9972, Mean Accuracy: 0.9966, Mean Precision: 1.0000, Mean Recall: 0.9946\n"
     ]
    },
    {
     "name": "stderr",
     "output_type": "stream",
     "text": [
      "C:\\Users\\udays\\AppData\\Local\\Temp\\ipykernel_22228\\3925381797.py:80: FutureWarning: Series.__getitem__ treating keys as positions is deprecated. In a future version, integer keys will always be treated as labels (consistent with DataFrame behavior). To access a value by position, use `ser.iloc[pos]`\n",
      "  'labels': torch.tensor(label, dtype=torch.float32)\n",
      "Epoch 89 Training: 100%|███████████████████████████████████████████████████| 11/11 [00:13<00:00,  1.21s/it, loss=0.586]\n",
      "Epoch 89 Validation: 100%|███████████████████████████████████████████████████| 3/3 [00:01<00:00,  1.63it/s, loss=0.118]\n"
     ]
    },
    {
     "name": "stdout",
     "output_type": "stream",
     "text": [
      "Epoch 89: Train Loss=0.3633, Val Loss=0.2187\n",
      "Mean F1 Score: 0.9972, Mean Accuracy: 0.9966, Mean Precision: 1.0000, Mean Recall: 0.9946\n"
     ]
    },
    {
     "name": "stderr",
     "output_type": "stream",
     "text": [
      "C:\\Users\\udays\\AppData\\Local\\Temp\\ipykernel_22228\\3925381797.py:80: FutureWarning: Series.__getitem__ treating keys as positions is deprecated. In a future version, integer keys will always be treated as labels (consistent with DataFrame behavior). To access a value by position, use `ser.iloc[pos]`\n",
      "  'labels': torch.tensor(label, dtype=torch.float32)\n",
      "Epoch 90 Training: 100%|███████████████████████████████████████████████████| 11/11 [00:12<00:00,  1.18s/it, loss=0.386]\n",
      "Epoch 90 Validation: 100%|███████████████████████████████████████████████████| 3/3 [00:02<00:00,  1.49it/s, loss=0.113]\n"
     ]
    },
    {
     "name": "stdout",
     "output_type": "stream",
     "text": [
      "Epoch 90: Train Loss=0.3451, Val Loss=0.2143\n",
      "Mean F1 Score: 0.9972, Mean Accuracy: 0.9966, Mean Precision: 1.0000, Mean Recall: 0.9946\n"
     ]
    },
    {
     "name": "stderr",
     "output_type": "stream",
     "text": [
      "C:\\Users\\udays\\AppData\\Local\\Temp\\ipykernel_22228\\3925381797.py:80: FutureWarning: Series.__getitem__ treating keys as positions is deprecated. In a future version, integer keys will always be treated as labels (consistent with DataFrame behavior). To access a value by position, use `ser.iloc[pos]`\n",
      "  'labels': torch.tensor(label, dtype=torch.float32)\n",
      "Epoch 91 Training: 100%|███████████████████████████████████████████████████| 11/11 [00:13<00:00,  1.19s/it, loss=0.121]\n",
      "Epoch 91 Validation: 100%|███████████████████████████████████████████████████| 3/3 [00:01<00:00,  1.70it/s, loss=0.114]\n"
     ]
    },
    {
     "name": "stdout",
     "output_type": "stream",
     "text": [
      "Epoch 91: Train Loss=0.3255, Val Loss=0.2177\n",
      "Mean F1 Score: 0.9963, Mean Accuracy: 0.9955, Mean Precision: 1.0000, Mean Recall: 0.9928\n"
     ]
    },
    {
     "name": "stderr",
     "output_type": "stream",
     "text": [
      "C:\\Users\\udays\\AppData\\Local\\Temp\\ipykernel_22228\\3925381797.py:80: FutureWarning: Series.__getitem__ treating keys as positions is deprecated. In a future version, integer keys will always be treated as labels (consistent with DataFrame behavior). To access a value by position, use `ser.iloc[pos]`\n",
      "  'labels': torch.tensor(label, dtype=torch.float32)\n",
      "Epoch 92 Training: 100%|███████████████████████████████████████████████████| 11/11 [00:13<00:00,  1.24s/it, loss=0.284]\n",
      "Epoch 92 Validation: 100%|████████████████████████████████████████████████████| 3/3 [00:01<00:00,  1.58it/s, loss=0.11]\n"
     ]
    },
    {
     "name": "stdout",
     "output_type": "stream",
     "text": [
      "Epoch 92: Train Loss=0.3305, Val Loss=0.2090\n",
      "Mean F1 Score: 0.9972, Mean Accuracy: 0.9966, Mean Precision: 1.0000, Mean Recall: 0.9946\n"
     ]
    },
    {
     "name": "stderr",
     "output_type": "stream",
     "text": [
      "C:\\Users\\udays\\AppData\\Local\\Temp\\ipykernel_22228\\3925381797.py:80: FutureWarning: Series.__getitem__ treating keys as positions is deprecated. In a future version, integer keys will always be treated as labels (consistent with DataFrame behavior). To access a value by position, use `ser.iloc[pos]`\n",
      "  'labels': torch.tensor(label, dtype=torch.float32)\n",
      "Epoch 93 Training: 100%|███████████████████████████████████████████████████| 11/11 [00:13<00:00,  1.19s/it, loss=0.128]\n",
      "Epoch 93 Validation: 100%|███████████████████████████████████████████████████| 3/3 [00:01<00:00,  1.68it/s, loss=0.105]\n"
     ]
    },
    {
     "name": "stdout",
     "output_type": "stream",
     "text": [
      "Epoch 93: Train Loss=0.3133, Val Loss=0.2078\n",
      "Mean F1 Score: 0.9963, Mean Accuracy: 0.9955, Mean Precision: 1.0000, Mean Recall: 0.9928\n"
     ]
    },
    {
     "name": "stderr",
     "output_type": "stream",
     "text": [
      "C:\\Users\\udays\\AppData\\Local\\Temp\\ipykernel_22228\\3925381797.py:80: FutureWarning: Series.__getitem__ treating keys as positions is deprecated. In a future version, integer keys will always be treated as labels (consistent with DataFrame behavior). To access a value by position, use `ser.iloc[pos]`\n",
      "  'labels': torch.tensor(label, dtype=torch.float32)\n",
      "Epoch 94 Training: 100%|███████████████████████████████████████████████████| 11/11 [00:12<00:00,  1.17s/it, loss=0.462]\n",
      "Epoch 94 Validation: 100%|███████████████████████████████████████████████████| 3/3 [00:01<00:00,  1.53it/s, loss=0.107]\n"
     ]
    },
    {
     "name": "stdout",
     "output_type": "stream",
     "text": [
      "Epoch 94: Train Loss=0.3337, Val Loss=0.2073\n",
      "Mean F1 Score: 0.9972, Mean Accuracy: 0.9966, Mean Precision: 1.0000, Mean Recall: 0.9946\n"
     ]
    },
    {
     "name": "stderr",
     "output_type": "stream",
     "text": [
      "C:\\Users\\udays\\AppData\\Local\\Temp\\ipykernel_22228\\3925381797.py:80: FutureWarning: Series.__getitem__ treating keys as positions is deprecated. In a future version, integer keys will always be treated as labels (consistent with DataFrame behavior). To access a value by position, use `ser.iloc[pos]`\n",
      "  'labels': torch.tensor(label, dtype=torch.float32)\n",
      "Epoch 95 Training: 100%|███████████████████████████████████████████████████| 11/11 [00:12<00:00,  1.17s/it, loss=0.109]\n",
      "Epoch 95 Validation: 100%|█████████████████████████████████████████████████████| 3/3 [00:01<00:00,  1.59it/s, loss=0.1]\n"
     ]
    },
    {
     "name": "stdout",
     "output_type": "stream",
     "text": [
      "Epoch 95: Train Loss=0.3036, Val Loss=0.2034\n",
      "Mean F1 Score: 0.9972, Mean Accuracy: 0.9966, Mean Precision: 1.0000, Mean Recall: 0.9946\n"
     ]
    },
    {
     "name": "stderr",
     "output_type": "stream",
     "text": [
      "C:\\Users\\udays\\AppData\\Local\\Temp\\ipykernel_22228\\3925381797.py:80: FutureWarning: Series.__getitem__ treating keys as positions is deprecated. In a future version, integer keys will always be treated as labels (consistent with DataFrame behavior). To access a value by position, use `ser.iloc[pos]`\n",
      "  'labels': torch.tensor(label, dtype=torch.float32)\n",
      "Epoch 96 Training: 100%|██████████████████████████████████████████████████| 11/11 [00:13<00:00,  1.21s/it, loss=0.0876]\n",
      "Epoch 96 Validation: 100%|███████████████████████████████████████████████████| 3/3 [00:01<00:00,  1.64it/s, loss=0.101]\n"
     ]
    },
    {
     "name": "stdout",
     "output_type": "stream",
     "text": [
      "Epoch 96: Train Loss=0.2967, Val Loss=0.2001\n",
      "Mean F1 Score: 0.9972, Mean Accuracy: 0.9966, Mean Precision: 1.0000, Mean Recall: 0.9946\n"
     ]
    },
    {
     "name": "stderr",
     "output_type": "stream",
     "text": [
      "C:\\Users\\udays\\AppData\\Local\\Temp\\ipykernel_22228\\3925381797.py:80: FutureWarning: Series.__getitem__ treating keys as positions is deprecated. In a future version, integer keys will always be treated as labels (consistent with DataFrame behavior). To access a value by position, use `ser.iloc[pos]`\n",
      "  'labels': torch.tensor(label, dtype=torch.float32)\n",
      "Epoch 97 Training: 100%|███████████████████████████████████████████████████| 11/11 [00:12<00:00,  1.17s/it, loss=0.254]\n",
      "Epoch 97 Validation: 100%|█████████████████████████████████████████████████████| 3/3 [00:01<00:00,  1.55it/s, loss=0.1]\n"
     ]
    },
    {
     "name": "stdout",
     "output_type": "stream",
     "text": [
      "Epoch 97: Train Loss=0.3043, Val Loss=0.2008\n",
      "Mean F1 Score: 0.9972, Mean Accuracy: 0.9966, Mean Precision: 1.0000, Mean Recall: 0.9946\n"
     ]
    },
    {
     "name": "stderr",
     "output_type": "stream",
     "text": [
      "C:\\Users\\udays\\AppData\\Local\\Temp\\ipykernel_22228\\3925381797.py:80: FutureWarning: Series.__getitem__ treating keys as positions is deprecated. In a future version, integer keys will always be treated as labels (consistent with DataFrame behavior). To access a value by position, use `ser.iloc[pos]`\n",
      "  'labels': torch.tensor(label, dtype=torch.float32)\n",
      "Epoch 98 Training: 100%|███████████████████████████████████████████████████| 11/11 [00:12<00:00,  1.15s/it, loss=0.457]\n",
      "Epoch 98 Validation: 100%|██████████████████████████████████████████████████| 3/3 [00:01<00:00,  1.59it/s, loss=0.0953]\n"
     ]
    },
    {
     "name": "stdout",
     "output_type": "stream",
     "text": [
      "Epoch 98: Train Loss=0.3119, Val Loss=0.1948\n",
      "Mean F1 Score: 0.9972, Mean Accuracy: 0.9966, Mean Precision: 1.0000, Mean Recall: 0.9946\n"
     ]
    },
    {
     "name": "stderr",
     "output_type": "stream",
     "text": [
      "C:\\Users\\udays\\AppData\\Local\\Temp\\ipykernel_22228\\3925381797.py:80: FutureWarning: Series.__getitem__ treating keys as positions is deprecated. In a future version, integer keys will always be treated as labels (consistent with DataFrame behavior). To access a value by position, use `ser.iloc[pos]`\n",
      "  'labels': torch.tensor(label, dtype=torch.float32)\n",
      "Epoch 99 Training: 100%|███████████████████████████████████████████████████| 11/11 [00:13<00:00,  1.21s/it, loss=0.836]\n",
      "Epoch 99 Validation: 100%|███████████████████████████████████████████████████| 3/3 [00:01<00:00,  1.58it/s, loss=0.101]\n"
     ]
    },
    {
     "name": "stdout",
     "output_type": "stream",
     "text": [
      "Epoch 99: Train Loss=0.3370, Val Loss=0.2008\n",
      "Mean F1 Score: 0.9972, Mean Accuracy: 0.9966, Mean Precision: 1.0000, Mean Recall: 0.9946\n"
     ]
    },
    {
     "name": "stderr",
     "output_type": "stream",
     "text": [
      "C:\\Users\\udays\\AppData\\Local\\Temp\\ipykernel_22228\\3925381797.py:80: FutureWarning: Series.__getitem__ treating keys as positions is deprecated. In a future version, integer keys will always be treated as labels (consistent with DataFrame behavior). To access a value by position, use `ser.iloc[pos]`\n",
      "  'labels': torch.tensor(label, dtype=torch.float32)\n",
      "Epoch 100 Training: 100%|█████████████████████████████████████████████████| 11/11 [00:13<00:00,  1.20s/it, loss=0.0937]\n",
      "Epoch 100 Validation: 100%|█████████████████████████████████████████████████| 3/3 [00:01<00:00,  1.59it/s, loss=0.0952]\n"
     ]
    },
    {
     "name": "stdout",
     "output_type": "stream",
     "text": [
      "Epoch 100: Train Loss=0.2801, Val Loss=0.1922\n",
      "Mean F1 Score: 0.9972, Mean Accuracy: 0.9966, Mean Precision: 1.0000, Mean Recall: 0.9946\n",
      "Training fold 5...\n"
     ]
    },
    {
     "name": "stderr",
     "output_type": "stream",
     "text": [
      "C:\\Users\\udays\\AppData\\Local\\Temp\\ipykernel_22228\\3925381797.py:80: FutureWarning: Series.__getitem__ treating keys as positions is deprecated. In a future version, integer keys will always be treated as labels (consistent with DataFrame behavior). To access a value by position, use `ser.iloc[pos]`\n",
      "  'labels': torch.tensor(label, dtype=torch.float32)\n",
      "Epoch 1 Training: 100%|█████████████████████████████████████████████████████| 11/11 [00:13<00:00,  1.20s/it, loss=6.75]\n",
      "Epoch 1 Validation: 100%|██████████████████████████████████████████████████████| 3/3 [00:02<00:00,  1.50it/s, loss=6.7]\n"
     ]
    },
    {
     "name": "stdout",
     "output_type": "stream",
     "text": [
      "Epoch 1: Train Loss=7.4144, Val Loss=6.7145\n",
      "Mean F1 Score: 0.7015, Mean Accuracy: 0.7329, Mean Precision: 0.7151, Mean Recall: 0.7290\n",
      "New best model saved for fold 5 with F1=0.7015\n"
     ]
    },
    {
     "name": "stderr",
     "output_type": "stream",
     "text": [
      "C:\\Users\\udays\\AppData\\Local\\Temp\\ipykernel_22228\\3925381797.py:80: FutureWarning: Series.__getitem__ treating keys as positions is deprecated. In a future version, integer keys will always be treated as labels (consistent with DataFrame behavior). To access a value by position, use `ser.iloc[pos]`\n",
      "  'labels': torch.tensor(label, dtype=torch.float32)\n",
      "Epoch 2 Training: 100%|█████████████████████████████████████████████████████| 11/11 [00:13<00:00,  1.22s/it, loss=5.63]\n",
      "Epoch 2 Validation: 100%|█████████████████████████████████████████████████████| 3/3 [00:02<00:00,  1.50it/s, loss=5.44]\n"
     ]
    },
    {
     "name": "stdout",
     "output_type": "stream",
     "text": [
      "Epoch 2: Train Loss=6.2356, Val Loss=5.5398\n",
      "Mean F1 Score: 0.9339, Mean Accuracy: 0.9484, Mean Precision: 0.9394, Mean Recall: 0.9409\n",
      "New best model saved for fold 5 with F1=0.9339\n"
     ]
    },
    {
     "name": "stderr",
     "output_type": "stream",
     "text": [
      "C:\\Users\\udays\\AppData\\Local\\Temp\\ipykernel_22228\\3925381797.py:80: FutureWarning: Series.__getitem__ treating keys as positions is deprecated. In a future version, integer keys will always be treated as labels (consistent with DataFrame behavior). To access a value by position, use `ser.iloc[pos]`\n",
      "  'labels': torch.tensor(label, dtype=torch.float32)\n",
      "Epoch 3 Training: 100%|█████████████████████████████████████████████████████| 11/11 [00:12<00:00,  1.18s/it, loss=5.01]\n",
      "Epoch 3 Validation: 100%|█████████████████████████████████████████████████████| 3/3 [00:02<00:00,  1.37it/s, loss=4.48]\n"
     ]
    },
    {
     "name": "stdout",
     "output_type": "stream",
     "text": [
      "Epoch 3: Train Loss=5.2851, Val Loss=4.6423\n",
      "Mean F1 Score: 0.8632, Mean Accuracy: 0.9327, Mean Precision: 0.8462, Mean Recall: 0.8911\n"
     ]
    },
    {
     "name": "stderr",
     "output_type": "stream",
     "text": [
      "C:\\Users\\udays\\AppData\\Local\\Temp\\ipykernel_22228\\3925381797.py:80: FutureWarning: Series.__getitem__ treating keys as positions is deprecated. In a future version, integer keys will always be treated as labels (consistent with DataFrame behavior). To access a value by position, use `ser.iloc[pos]`\n",
      "  'labels': torch.tensor(label, dtype=torch.float32)\n",
      "Epoch 4 Training: 100%|█████████████████████████████████████████████████████| 11/11 [00:13<00:00,  1.21s/it, loss=4.15]\n",
      "Epoch 4 Validation: 100%|█████████████████████████████████████████████████████| 3/3 [00:01<00:00,  1.55it/s, loss=3.79]\n"
     ]
    },
    {
     "name": "stdout",
     "output_type": "stream",
     "text": [
      "Epoch 4: Train Loss=4.4964, Val Loss=3.9831\n",
      "Mean F1 Score: 0.8709, Mean Accuracy: 0.9394, Mean Precision: 0.8644, Mean Recall: 0.8815\n"
     ]
    },
    {
     "name": "stderr",
     "output_type": "stream",
     "text": [
      "C:\\Users\\udays\\AppData\\Local\\Temp\\ipykernel_22228\\3925381797.py:80: FutureWarning: Series.__getitem__ treating keys as positions is deprecated. In a future version, integer keys will always be treated as labels (consistent with DataFrame behavior). To access a value by position, use `ser.iloc[pos]`\n",
      "  'labels': torch.tensor(label, dtype=torch.float32)\n",
      "Epoch 5 Training: 100%|█████████████████████████████████████████████████████| 11/11 [00:12<00:00,  1.13s/it, loss=3.35]\n",
      "Epoch 5 Validation: 100%|█████████████████████████████████████████████████████| 3/3 [00:01<00:00,  1.76it/s, loss=3.28]\n"
     ]
    },
    {
     "name": "stdout",
     "output_type": "stream",
     "text": [
      "Epoch 5: Train Loss=3.9174, Val Loss=3.5015\n",
      "Mean F1 Score: 0.8722, Mean Accuracy: 0.9439, Mean Precision: 0.8595, Mean Recall: 0.8895\n"
     ]
    },
    {
     "name": "stderr",
     "output_type": "stream",
     "text": [
      "C:\\Users\\udays\\AppData\\Local\\Temp\\ipykernel_22228\\3925381797.py:80: FutureWarning: Series.__getitem__ treating keys as positions is deprecated. In a future version, integer keys will always be treated as labels (consistent with DataFrame behavior). To access a value by position, use `ser.iloc[pos]`\n",
      "  'labels': torch.tensor(label, dtype=torch.float32)\n",
      "Epoch 6 Training: 100%|█████████████████████████████████████████████████████| 11/11 [00:13<00:00,  1.21s/it, loss=3.16]\n",
      "Epoch 6 Validation: 100%|█████████████████████████████████████████████████████| 3/3 [00:02<00:00,  1.49it/s, loss=2.89]\n"
     ]
    },
    {
     "name": "stdout",
     "output_type": "stream",
     "text": [
      "Epoch 6: Train Loss=3.4288, Val Loss=3.1135\n",
      "Mean F1 Score: 0.8837, Mean Accuracy: 0.9529, Mean Precision: 0.8835, Mean Recall: 0.8850\n"
     ]
    },
    {
     "name": "stderr",
     "output_type": "stream",
     "text": [
      "C:\\Users\\udays\\AppData\\Local\\Temp\\ipykernel_22228\\3925381797.py:80: FutureWarning: Series.__getitem__ treating keys as positions is deprecated. In a future version, integer keys will always be treated as labels (consistent with DataFrame behavior). To access a value by position, use `ser.iloc[pos]`\n",
      "  'labels': torch.tensor(label, dtype=torch.float32)\n",
      "Epoch 7 Training: 100%|█████████████████████████████████████████████████████| 11/11 [00:13<00:00,  1.20s/it, loss=3.05]\n",
      "Epoch 7 Validation: 100%|██████████████████████████████████████████████████████| 3/3 [00:02<00:00,  1.35it/s, loss=2.6]\n"
     ]
    },
    {
     "name": "stdout",
     "output_type": "stream",
     "text": [
      "Epoch 7: Train Loss=3.0734, Val Loss=2.8199\n",
      "Mean F1 Score: 0.8856, Mean Accuracy: 0.9551, Mean Precision: 0.8820, Mean Recall: 0.8898\n"
     ]
    },
    {
     "name": "stderr",
     "output_type": "stream",
     "text": [
      "C:\\Users\\udays\\AppData\\Local\\Temp\\ipykernel_22228\\3925381797.py:80: FutureWarning: Series.__getitem__ treating keys as positions is deprecated. In a future version, integer keys will always be treated as labels (consistent with DataFrame behavior). To access a value by position, use `ser.iloc[pos]`\n",
      "  'labels': torch.tensor(label, dtype=torch.float32)\n",
      "Epoch 8 Training: 100%|█████████████████████████████████████████████████████| 11/11 [00:13<00:00,  1.21s/it, loss=2.17]\n",
      "Epoch 8 Validation: 100%|█████████████████████████████████████████████████████| 3/3 [00:01<00:00,  1.55it/s, loss=2.36]\n"
     ]
    },
    {
     "name": "stdout",
     "output_type": "stream",
     "text": [
      "Epoch 8: Train Loss=2.7647, Val Loss=2.5914\n",
      "Mean F1 Score: 0.8873, Mean Accuracy: 0.9574, Mean Precision: 0.8821, Mean Recall: 0.8931\n"
     ]
    },
    {
     "name": "stderr",
     "output_type": "stream",
     "text": [
      "C:\\Users\\udays\\AppData\\Local\\Temp\\ipykernel_22228\\3925381797.py:80: FutureWarning: Series.__getitem__ treating keys as positions is deprecated. In a future version, integer keys will always be treated as labels (consistent with DataFrame behavior). To access a value by position, use `ser.iloc[pos]`\n",
      "  'labels': torch.tensor(label, dtype=torch.float32)\n",
      "Epoch 9 Training: 100%|█████████████████████████████████████████████████████| 11/11 [00:13<00:00,  1.20s/it, loss=3.34]\n",
      "Epoch 9 Validation: 100%|█████████████████████████████████████████████████████| 3/3 [00:01<00:00,  1.72it/s, loss=2.17]\n"
     ]
    },
    {
     "name": "stdout",
     "output_type": "stream",
     "text": [
      "Epoch 9: Train Loss=2.6415, Val Loss=2.4058\n",
      "Mean F1 Score: 0.8890, Mean Accuracy: 0.9596, Mean Precision: 0.8822, Mean Recall: 0.8962\n"
     ]
    },
    {
     "name": "stderr",
     "output_type": "stream",
     "text": [
      "C:\\Users\\udays\\AppData\\Local\\Temp\\ipykernel_22228\\3925381797.py:80: FutureWarning: Series.__getitem__ treating keys as positions is deprecated. In a future version, integer keys will always be treated as labels (consistent with DataFrame behavior). To access a value by position, use `ser.iloc[pos]`\n",
      "  'labels': torch.tensor(label, dtype=torch.float32)\n",
      "Epoch 10 Training: 100%|████████████████████████████████████████████████████| 11/11 [00:12<00:00,  1.17s/it, loss=1.91]\n",
      "Epoch 10 Validation: 100%|████████████████████████████████████████████████████| 3/3 [00:01<00:00,  1.55it/s, loss=2.01]\n"
     ]
    },
    {
     "name": "stdout",
     "output_type": "stream",
     "text": [
      "Epoch 10: Train Loss=2.3705, Val Loss=2.2553\n",
      "Mean F1 Score: 0.8914, Mean Accuracy: 0.9630, Mean Precision: 0.8824, Mean Recall: 0.9007\n"
     ]
    },
    {
     "name": "stderr",
     "output_type": "stream",
     "text": [
      "C:\\Users\\udays\\AppData\\Local\\Temp\\ipykernel_22228\\3925381797.py:80: FutureWarning: Series.__getitem__ treating keys as positions is deprecated. In a future version, integer keys will always be treated as labels (consistent with DataFrame behavior). To access a value by position, use `ser.iloc[pos]`\n",
      "  'labels': torch.tensor(label, dtype=torch.float32)\n",
      "Epoch 11 Training: 100%|████████████████████████████████████████████████████| 11/11 [00:13<00:00,  1.19s/it, loss=2.47]\n",
      "Epoch 11 Validation: 100%|████████████████████████████████████████████████████| 3/3 [00:02<00:00,  1.42it/s, loss=1.88]\n"
     ]
    },
    {
     "name": "stdout",
     "output_type": "stream",
     "text": [
      "Epoch 11: Train Loss=2.2627, Val Loss=2.1213\n",
      "Mean F1 Score: 0.8921, Mean Accuracy: 0.9641, Mean Precision: 0.8824, Mean Recall: 0.9022\n"
     ]
    },
    {
     "name": "stderr",
     "output_type": "stream",
     "text": [
      "C:\\Users\\udays\\AppData\\Local\\Temp\\ipykernel_22228\\3925381797.py:80: FutureWarning: Series.__getitem__ treating keys as positions is deprecated. In a future version, integer keys will always be treated as labels (consistent with DataFrame behavior). To access a value by position, use `ser.iloc[pos]`\n",
      "  'labels': torch.tensor(label, dtype=torch.float32)\n",
      "Epoch 12 Training: 100%|████████████████████████████████████████████████████| 11/11 [00:13<00:00,  1.18s/it, loss=1.64]\n",
      "Epoch 12 Validation: 100%|████████████████████████████████████████████████████| 3/3 [00:02<00:00,  1.44it/s, loss=1.75]\n"
     ]
    },
    {
     "name": "stdout",
     "output_type": "stream",
     "text": [
      "Epoch 12: Train Loss=2.0833, Val Loss=2.0025\n",
      "Mean F1 Score: 0.8921, Mean Accuracy: 0.9641, Mean Precision: 0.8824, Mean Recall: 0.9022\n"
     ]
    },
    {
     "name": "stderr",
     "output_type": "stream",
     "text": [
      "C:\\Users\\udays\\AppData\\Local\\Temp\\ipykernel_22228\\3925381797.py:80: FutureWarning: Series.__getitem__ treating keys as positions is deprecated. In a future version, integer keys will always be treated as labels (consistent with DataFrame behavior). To access a value by position, use `ser.iloc[pos]`\n",
      "  'labels': torch.tensor(label, dtype=torch.float32)\n",
      "Epoch 13 Training: 100%|████████████████████████████████████████████████████| 11/11 [00:13<00:00,  1.19s/it, loss=1.81]\n",
      "Epoch 13 Validation: 100%|████████████████████████████████████████████████████| 3/3 [00:02<00:00,  1.47it/s, loss=1.63]\n"
     ]
    },
    {
     "name": "stdout",
     "output_type": "stream",
     "text": [
      "Epoch 13: Train Loss=1.9976, Val Loss=1.8924\n",
      "Mean F1 Score: 0.8921, Mean Accuracy: 0.9641, Mean Precision: 0.8824, Mean Recall: 0.9022\n"
     ]
    },
    {
     "name": "stderr",
     "output_type": "stream",
     "text": [
      "C:\\Users\\udays\\AppData\\Local\\Temp\\ipykernel_22228\\3925381797.py:80: FutureWarning: Series.__getitem__ treating keys as positions is deprecated. In a future version, integer keys will always be treated as labels (consistent with DataFrame behavior). To access a value by position, use `ser.iloc[pos]`\n",
      "  'labels': torch.tensor(label, dtype=torch.float32)\n",
      "Epoch 14 Training: 100%|████████████████████████████████████████████████████| 11/11 [00:13<00:00,  1.21s/it, loss=3.81]\n",
      "Epoch 14 Validation: 100%|████████████████████████████████████████████████████| 3/3 [00:01<00:00,  1.55it/s, loss=1.53]\n"
     ]
    },
    {
     "name": "stdout",
     "output_type": "stream",
     "text": [
      "Epoch 14: Train Loss=2.0407, Val Loss=1.7924\n",
      "Mean F1 Score: 0.8937, Mean Accuracy: 0.9652, Mean Precision: 0.8856, Mean Recall: 0.9022\n"
     ]
    },
    {
     "name": "stderr",
     "output_type": "stream",
     "text": [
      "C:\\Users\\udays\\AppData\\Local\\Temp\\ipykernel_22228\\3925381797.py:80: FutureWarning: Series.__getitem__ treating keys as positions is deprecated. In a future version, integer keys will always be treated as labels (consistent with DataFrame behavior). To access a value by position, use `ser.iloc[pos]`\n",
      "  'labels': torch.tensor(label, dtype=torch.float32)\n",
      "Epoch 15 Training: 100%|████████████████████████████████████████████████████| 11/11 [00:13<00:00,  1.18s/it, loss=1.65]\n",
      "Epoch 15 Validation: 100%|████████████████████████████████████████████████████| 3/3 [00:01<00:00,  1.52it/s, loss=1.44]\n"
     ]
    },
    {
     "name": "stdout",
     "output_type": "stream",
     "text": [
      "Epoch 15: Train Loss=1.7955, Val Loss=1.7059\n",
      "Mean F1 Score: 0.8937, Mean Accuracy: 0.9652, Mean Precision: 0.8856, Mean Recall: 0.9022\n"
     ]
    },
    {
     "name": "stderr",
     "output_type": "stream",
     "text": [
      "C:\\Users\\udays\\AppData\\Local\\Temp\\ipykernel_22228\\3925381797.py:80: FutureWarning: Series.__getitem__ treating keys as positions is deprecated. In a future version, integer keys will always be treated as labels (consistent with DataFrame behavior). To access a value by position, use `ser.iloc[pos]`\n",
      "  'labels': torch.tensor(label, dtype=torch.float32)\n",
      "Epoch 16 Training: 100%|████████████████████████████████████████████████████| 11/11 [00:13<00:00,  1.20s/it, loss=2.21]\n",
      "Epoch 16 Validation: 100%|████████████████████████████████████████████████████| 3/3 [00:02<00:00,  1.50it/s, loss=1.35]\n"
     ]
    },
    {
     "name": "stdout",
     "output_type": "stream",
     "text": [
      "Epoch 16: Train Loss=1.7584, Val Loss=1.6265\n",
      "Mean F1 Score: 0.8937, Mean Accuracy: 0.9652, Mean Precision: 0.8856, Mean Recall: 0.9022\n"
     ]
    },
    {
     "name": "stderr",
     "output_type": "stream",
     "text": [
      "C:\\Users\\udays\\AppData\\Local\\Temp\\ipykernel_22228\\3925381797.py:80: FutureWarning: Series.__getitem__ treating keys as positions is deprecated. In a future version, integer keys will always be treated as labels (consistent with DataFrame behavior). To access a value by position, use `ser.iloc[pos]`\n",
      "  'labels': torch.tensor(label, dtype=torch.float32)\n",
      "Epoch 17 Training: 100%|████████████████████████████████████████████████████| 11/11 [00:13<00:00,  1.20s/it, loss=1.77]\n",
      "Epoch 17 Validation: 100%|████████████████████████████████████████████████████| 3/3 [00:01<00:00,  1.78it/s, loss=1.26]\n"
     ]
    },
    {
     "name": "stdout",
     "output_type": "stream",
     "text": [
      "Epoch 17: Train Loss=1.6602, Val Loss=1.5454\n",
      "Mean F1 Score: 0.8937, Mean Accuracy: 0.9652, Mean Precision: 0.8856, Mean Recall: 0.9022\n"
     ]
    },
    {
     "name": "stderr",
     "output_type": "stream",
     "text": [
      "C:\\Users\\udays\\AppData\\Local\\Temp\\ipykernel_22228\\3925381797.py:80: FutureWarning: Series.__getitem__ treating keys as positions is deprecated. In a future version, integer keys will always be treated as labels (consistent with DataFrame behavior). To access a value by position, use `ser.iloc[pos]`\n",
      "  'labels': torch.tensor(label, dtype=torch.float32)\n",
      "Epoch 18 Training: 100%|████████████████████████████████████████████████████| 11/11 [00:12<00:00,  1.14s/it, loss=1.03]\n",
      "Epoch 18 Validation: 100%|████████████████████████████████████████████████████| 3/3 [00:01<00:00,  1.63it/s, loss=1.19]\n"
     ]
    },
    {
     "name": "stdout",
     "output_type": "stream",
     "text": [
      "Epoch 18: Train Loss=1.5379, Val Loss=1.4778\n",
      "Mean F1 Score: 0.8937, Mean Accuracy: 0.9652, Mean Precision: 0.8856, Mean Recall: 0.9022\n"
     ]
    },
    {
     "name": "stderr",
     "output_type": "stream",
     "text": [
      "C:\\Users\\udays\\AppData\\Local\\Temp\\ipykernel_22228\\3925381797.py:80: FutureWarning: Series.__getitem__ treating keys as positions is deprecated. In a future version, integer keys will always be treated as labels (consistent with DataFrame behavior). To access a value by position, use `ser.iloc[pos]`\n",
      "  'labels': torch.tensor(label, dtype=torch.float32)\n",
      "Epoch 19 Training: 100%|████████████████████████████████████████████████████| 11/11 [00:12<00:00,  1.18s/it, loss=1.51]\n",
      "Epoch 19 Validation: 100%|████████████████████████████████████████████████████| 3/3 [00:02<00:00,  1.38it/s, loss=1.12]\n"
     ]
    },
    {
     "name": "stdout",
     "output_type": "stream",
     "text": [
      "Epoch 19: Train Loss=1.5005, Val Loss=1.4150\n",
      "Mean F1 Score: 0.9067, Mean Accuracy: 0.9663, Mean Precision: 0.9765, Mean Recall: 0.9092\n"
     ]
    },
    {
     "name": "stderr",
     "output_type": "stream",
     "text": [
      "C:\\Users\\udays\\AppData\\Local\\Temp\\ipykernel_22228\\3925381797.py:80: FutureWarning: Series.__getitem__ treating keys as positions is deprecated. In a future version, integer keys will always be treated as labels (consistent with DataFrame behavior). To access a value by position, use `ser.iloc[pos]`\n",
      "  'labels': torch.tensor(label, dtype=torch.float32)\n",
      "Epoch 20 Training: 100%|███████████████████████████████████████████████████| 11/11 [00:13<00:00,  1.22s/it, loss=0.937]\n",
      "Epoch 20 Validation: 100%|████████████████████████████████████████████████████| 3/3 [00:02<00:00,  1.44it/s, loss=1.05]\n"
     ]
    },
    {
     "name": "stdout",
     "output_type": "stream",
     "text": [
      "Epoch 20: Train Loss=1.4009, Val Loss=1.3474\n",
      "Mean F1 Score: 0.9681, Mean Accuracy: 0.9753, Mean Precision: 0.9765, Mean Recall: 0.9652\n",
      "New best model saved for fold 5 with F1=0.9681\n"
     ]
    },
    {
     "name": "stderr",
     "output_type": "stream",
     "text": [
      "C:\\Users\\udays\\AppData\\Local\\Temp\\ipykernel_22228\\3925381797.py:80: FutureWarning: Series.__getitem__ treating keys as positions is deprecated. In a future version, integer keys will always be treated as labels (consistent with DataFrame behavior). To access a value by position, use `ser.iloc[pos]`\n",
      "  'labels': torch.tensor(label, dtype=torch.float32)\n",
      "Epoch 21 Training: 100%|████████████████████████████████████████████████████| 11/11 [00:13<00:00,  1.20s/it, loss=1.41]\n",
      "Epoch 21 Validation: 100%|███████████████████████████████████████████████████| 3/3 [00:01<00:00,  1.63it/s, loss=0.982]\n"
     ]
    },
    {
     "name": "stdout",
     "output_type": "stream",
     "text": [
      "Epoch 21: Train Loss=1.3925, Val Loss=1.2884\n",
      "Mean F1 Score: 0.9810, Mean Accuracy: 0.9787, Mean Precision: 0.9765, Mean Recall: 0.9861\n",
      "New best model saved for fold 5 with F1=0.9810\n"
     ]
    },
    {
     "name": "stderr",
     "output_type": "stream",
     "text": [
      "C:\\Users\\udays\\AppData\\Local\\Temp\\ipykernel_22228\\3925381797.py:80: FutureWarning: Series.__getitem__ treating keys as positions is deprecated. In a future version, integer keys will always be treated as labels (consistent with DataFrame behavior). To access a value by position, use `ser.iloc[pos]`\n",
      "  'labels': torch.tensor(label, dtype=torch.float32)\n",
      "Epoch 22 Training: 100%|███████████████████████████████████████████████████| 11/11 [00:12<00:00,  1.14s/it, loss=0.775]\n",
      "Epoch 22 Validation: 100%|███████████████████████████████████████████████████| 3/3 [00:02<00:00,  1.43it/s, loss=0.938]\n"
     ]
    },
    {
     "name": "stdout",
     "output_type": "stream",
     "text": [
      "Epoch 22: Train Loss=1.2800, Val Loss=1.2435\n",
      "Mean F1 Score: 0.9846, Mean Accuracy: 0.9798, Mean Precision: 0.9765, Mean Recall: 0.9931\n",
      "New best model saved for fold 5 with F1=0.9846\n"
     ]
    },
    {
     "name": "stderr",
     "output_type": "stream",
     "text": [
      "C:\\Users\\udays\\AppData\\Local\\Temp\\ipykernel_22228\\3925381797.py:80: FutureWarning: Series.__getitem__ treating keys as positions is deprecated. In a future version, integer keys will always be treated as labels (consistent with DataFrame behavior). To access a value by position, use `ser.iloc[pos]`\n",
      "  'labels': torch.tensor(label, dtype=torch.float32)\n",
      "Epoch 23 Training: 100%|████████████████████████████████████████████████████| 11/11 [00:13<00:00,  1.22s/it, loss=1.54]\n",
      "Epoch 23 Validation: 100%|███████████████████████████████████████████████████| 3/3 [00:01<00:00,  1.53it/s, loss=0.883]\n"
     ]
    },
    {
     "name": "stdout",
     "output_type": "stream",
     "text": [
      "Epoch 23: Train Loss=1.2928, Val Loss=1.1909\n",
      "Mean F1 Score: 0.9846, Mean Accuracy: 0.9798, Mean Precision: 0.9765, Mean Recall: 0.9931\n"
     ]
    },
    {
     "name": "stderr",
     "output_type": "stream",
     "text": [
      "C:\\Users\\udays\\AppData\\Local\\Temp\\ipykernel_22228\\3925381797.py:80: FutureWarning: Series.__getitem__ treating keys as positions is deprecated. In a future version, integer keys will always be treated as labels (consistent with DataFrame behavior). To access a value by position, use `ser.iloc[pos]`\n",
      "  'labels': torch.tensor(label, dtype=torch.float32)\n",
      "Epoch 24 Training: 100%|████████████████████████████████████████████████████| 11/11 [00:13<00:00,  1.20s/it, loss=1.46]\n",
      "Epoch 24 Validation: 100%|███████████████████████████████████████████████████| 3/3 [00:01<00:00,  1.58it/s, loss=0.836]\n"
     ]
    },
    {
     "name": "stdout",
     "output_type": "stream",
     "text": [
      "Epoch 24: Train Loss=1.2403, Val Loss=1.1445\n",
      "Mean F1 Score: 0.9846, Mean Accuracy: 0.9798, Mean Precision: 0.9765, Mean Recall: 0.9931\n"
     ]
    },
    {
     "name": "stderr",
     "output_type": "stream",
     "text": [
      "C:\\Users\\udays\\AppData\\Local\\Temp\\ipykernel_22228\\3925381797.py:80: FutureWarning: Series.__getitem__ treating keys as positions is deprecated. In a future version, integer keys will always be treated as labels (consistent with DataFrame behavior). To access a value by position, use `ser.iloc[pos]`\n",
      "  'labels': torch.tensor(label, dtype=torch.float32)\n",
      "Epoch 25 Training: 100%|███████████████████████████████████████████████████| 11/11 [00:13<00:00,  1.23s/it, loss=0.804]\n",
      "Epoch 25 Validation: 100%|████████████████████████████████████████████████████| 3/3 [00:02<00:00,  1.48it/s, loss=0.79]\n"
     ]
    },
    {
     "name": "stdout",
     "output_type": "stream",
     "text": [
      "Epoch 25: Train Loss=1.1449, Val Loss=1.1011\n",
      "Mean F1 Score: 0.9855, Mean Accuracy: 0.9809, Mean Precision: 0.9781, Mean Recall: 0.9931\n",
      "New best model saved for fold 5 with F1=0.9855\n"
     ]
    },
    {
     "name": "stderr",
     "output_type": "stream",
     "text": [
      "C:\\Users\\udays\\AppData\\Local\\Temp\\ipykernel_22228\\3925381797.py:80: FutureWarning: Series.__getitem__ treating keys as positions is deprecated. In a future version, integer keys will always be treated as labels (consistent with DataFrame behavior). To access a value by position, use `ser.iloc[pos]`\n",
      "  'labels': torch.tensor(label, dtype=torch.float32)\n",
      "Epoch 26 Training: 100%|████████████████████████████████████████████████████| 11/11 [00:12<00:00,  1.17s/it, loss=1.43]\n",
      "Epoch 26 Validation: 100%|███████████████████████████████████████████████████| 3/3 [00:01<00:00,  1.71it/s, loss=0.748]\n"
     ]
    },
    {
     "name": "stdout",
     "output_type": "stream",
     "text": [
      "Epoch 26: Train Loss=1.1543, Val Loss=1.0587\n",
      "Mean F1 Score: 0.9855, Mean Accuracy: 0.9809, Mean Precision: 0.9781, Mean Recall: 0.9931\n"
     ]
    },
    {
     "name": "stderr",
     "output_type": "stream",
     "text": [
      "C:\\Users\\udays\\AppData\\Local\\Temp\\ipykernel_22228\\3925381797.py:80: FutureWarning: Series.__getitem__ treating keys as positions is deprecated. In a future version, integer keys will always be treated as labels (consistent with DataFrame behavior). To access a value by position, use `ser.iloc[pos]`\n",
      "  'labels': torch.tensor(label, dtype=torch.float32)\n",
      "Epoch 27 Training: 100%|███████████████████████████████████████████████████| 11/11 [00:12<00:00,  1.11s/it, loss=0.738]\n",
      "Epoch 27 Validation: 100%|███████████████████████████████████████████████████| 3/3 [00:02<00:00,  1.46it/s, loss=0.703]\n"
     ]
    },
    {
     "name": "stdout",
     "output_type": "stream",
     "text": [
      "Epoch 27: Train Loss=1.0683, Val Loss=1.0173\n",
      "Mean F1 Score: 0.9855, Mean Accuracy: 0.9809, Mean Precision: 0.9781, Mean Recall: 0.9931\n"
     ]
    },
    {
     "name": "stderr",
     "output_type": "stream",
     "text": [
      "C:\\Users\\udays\\AppData\\Local\\Temp\\ipykernel_22228\\3925381797.py:80: FutureWarning: Series.__getitem__ treating keys as positions is deprecated. In a future version, integer keys will always be treated as labels (consistent with DataFrame behavior). To access a value by position, use `ser.iloc[pos]`\n",
      "  'labels': torch.tensor(label, dtype=torch.float32)\n",
      "Epoch 28 Training: 100%|███████████████████████████████████████████████████| 11/11 [00:13<00:00,  1.25s/it, loss=0.622]\n",
      "Epoch 28 Validation: 100%|███████████████████████████████████████████████████| 3/3 [00:01<00:00,  1.52it/s, loss=0.665]\n"
     ]
    },
    {
     "name": "stdout",
     "output_type": "stream",
     "text": [
      "Epoch 28: Train Loss=1.0208, Val Loss=0.9808\n",
      "Mean F1 Score: 0.9855, Mean Accuracy: 0.9809, Mean Precision: 0.9781, Mean Recall: 0.9931\n"
     ]
    },
    {
     "name": "stderr",
     "output_type": "stream",
     "text": [
      "C:\\Users\\udays\\AppData\\Local\\Temp\\ipykernel_22228\\3925381797.py:80: FutureWarning: Series.__getitem__ treating keys as positions is deprecated. In a future version, integer keys will always be treated as labels (consistent with DataFrame behavior). To access a value by position, use `ser.iloc[pos]`\n",
      "  'labels': torch.tensor(label, dtype=torch.float32)\n",
      "Epoch 29 Training: 100%|███████████████████████████████████████████████████| 11/11 [00:13<00:00,  1.24s/it, loss=0.718]\n",
      "Epoch 29 Validation: 100%|███████████████████████████████████████████████████| 3/3 [00:02<00:00,  1.49it/s, loss=0.635]\n"
     ]
    },
    {
     "name": "stdout",
     "output_type": "stream",
     "text": [
      "Epoch 29: Train Loss=0.9956, Val Loss=0.9496\n",
      "Mean F1 Score: 0.9855, Mean Accuracy: 0.9809, Mean Precision: 0.9781, Mean Recall: 0.9931\n"
     ]
    },
    {
     "name": "stderr",
     "output_type": "stream",
     "text": [
      "C:\\Users\\udays\\AppData\\Local\\Temp\\ipykernel_22228\\3925381797.py:80: FutureWarning: Series.__getitem__ treating keys as positions is deprecated. In a future version, integer keys will always be treated as labels (consistent with DataFrame behavior). To access a value by position, use `ser.iloc[pos]`\n",
      "  'labels': torch.tensor(label, dtype=torch.float32)\n",
      "Epoch 30 Training: 100%|███████████████████████████████████████████████████| 11/11 [00:13<00:00,  1.24s/it, loss=0.604]\n",
      "Epoch 30 Validation: 100%|███████████████████████████████████████████████████| 3/3 [00:01<00:00,  1.75it/s, loss=0.597]\n"
     ]
    },
    {
     "name": "stdout",
     "output_type": "stream",
     "text": [
      "Epoch 30: Train Loss=0.9581, Val Loss=0.9144\n",
      "Mean F1 Score: 0.9855, Mean Accuracy: 0.9809, Mean Precision: 0.9781, Mean Recall: 0.9931\n"
     ]
    },
    {
     "name": "stderr",
     "output_type": "stream",
     "text": [
      "C:\\Users\\udays\\AppData\\Local\\Temp\\ipykernel_22228\\3925381797.py:80: FutureWarning: Series.__getitem__ treating keys as positions is deprecated. In a future version, integer keys will always be treated as labels (consistent with DataFrame behavior). To access a value by position, use `ser.iloc[pos]`\n",
      "  'labels': torch.tensor(label, dtype=torch.float32)\n",
      "Epoch 31 Training: 100%|███████████████████████████████████████████████████| 11/11 [00:12<00:00,  1.12s/it, loss=0.718]\n",
      "Epoch 31 Validation: 100%|███████████████████████████████████████████████████| 3/3 [00:02<00:00,  1.48it/s, loss=0.579]\n"
     ]
    },
    {
     "name": "stdout",
     "output_type": "stream",
     "text": [
      "Epoch 31: Train Loss=0.9287, Val Loss=0.8920\n",
      "Mean F1 Score: 0.9855, Mean Accuracy: 0.9809, Mean Precision: 0.9781, Mean Recall: 0.9931\n"
     ]
    },
    {
     "name": "stderr",
     "output_type": "stream",
     "text": [
      "C:\\Users\\udays\\AppData\\Local\\Temp\\ipykernel_22228\\3925381797.py:80: FutureWarning: Series.__getitem__ treating keys as positions is deprecated. In a future version, integer keys will always be treated as labels (consistent with DataFrame behavior). To access a value by position, use `ser.iloc[pos]`\n",
      "  'labels': torch.tensor(label, dtype=torch.float32)\n",
      "Epoch 32 Training: 100%|███████████████████████████████████████████████████| 11/11 [00:12<00:00,  1.18s/it, loss=0.627]\n",
      "Epoch 32 Validation: 100%|███████████████████████████████████████████████████| 3/3 [00:01<00:00,  1.64it/s, loss=0.546]\n"
     ]
    },
    {
     "name": "stdout",
     "output_type": "stream",
     "text": [
      "Epoch 32: Train Loss=0.8971, Val Loss=0.8607\n",
      "Mean F1 Score: 0.9855, Mean Accuracy: 0.9809, Mean Precision: 0.9781, Mean Recall: 0.9931\n"
     ]
    },
    {
     "name": "stderr",
     "output_type": "stream",
     "text": [
      "C:\\Users\\udays\\AppData\\Local\\Temp\\ipykernel_22228\\3925381797.py:80: FutureWarning: Series.__getitem__ treating keys as positions is deprecated. In a future version, integer keys will always be treated as labels (consistent with DataFrame behavior). To access a value by position, use `ser.iloc[pos]`\n",
      "  'labels': torch.tensor(label, dtype=torch.float32)\n",
      "Epoch 33 Training: 100%|███████████████████████████████████████████████████| 11/11 [00:13<00:00,  1.18s/it, loss=0.662]\n",
      "Epoch 33 Validation: 100%|███████████████████████████████████████████████████| 3/3 [00:01<00:00,  1.65it/s, loss=0.519]\n"
     ]
    },
    {
     "name": "stdout",
     "output_type": "stream",
     "text": [
      "Epoch 33: Train Loss=0.8832, Val Loss=0.8343\n",
      "Mean F1 Score: 0.9863, Mean Accuracy: 0.9820, Mean Precision: 0.9798, Mean Recall: 0.9931\n",
      "New best model saved for fold 5 with F1=0.9863\n"
     ]
    },
    {
     "name": "stderr",
     "output_type": "stream",
     "text": [
      "C:\\Users\\udays\\AppData\\Local\\Temp\\ipykernel_22228\\3925381797.py:80: FutureWarning: Series.__getitem__ treating keys as positions is deprecated. In a future version, integer keys will always be treated as labels (consistent with DataFrame behavior). To access a value by position, use `ser.iloc[pos]`\n",
      "  'labels': torch.tensor(label, dtype=torch.float32)\n",
      "Epoch 34 Training: 100%|████████████████████████████████████████████████████| 11/11 [00:12<00:00,  1.15s/it, loss=1.12]\n",
      "Epoch 34 Validation: 100%|███████████████████████████████████████████████████| 3/3 [00:01<00:00,  1.60it/s, loss=0.498]\n"
     ]
    },
    {
     "name": "stdout",
     "output_type": "stream",
     "text": [
      "Epoch 34: Train Loss=0.8914, Val Loss=0.8105\n",
      "Mean F1 Score: 0.9863, Mean Accuracy: 0.9820, Mean Precision: 0.9798, Mean Recall: 0.9931\n"
     ]
    },
    {
     "name": "stderr",
     "output_type": "stream",
     "text": [
      "C:\\Users\\udays\\AppData\\Local\\Temp\\ipykernel_22228\\3925381797.py:80: FutureWarning: Series.__getitem__ treating keys as positions is deprecated. In a future version, integer keys will always be treated as labels (consistent with DataFrame behavior). To access a value by position, use `ser.iloc[pos]`\n",
      "  'labels': torch.tensor(label, dtype=torch.float32)\n",
      "Epoch 35 Training: 100%|████████████████████████████████████████████████████| 11/11 [00:12<00:00,  1.16s/it, loss=1.16]\n",
      "Epoch 35 Validation: 100%|███████████████████████████████████████████████████| 3/3 [00:02<00:00,  1.42it/s, loss=0.464]\n"
     ]
    },
    {
     "name": "stdout",
     "output_type": "stream",
     "text": [
      "Epoch 35: Train Loss=0.8703, Val Loss=0.7792\n",
      "Mean F1 Score: 0.9863, Mean Accuracy: 0.9820, Mean Precision: 0.9798, Mean Recall: 0.9931\n"
     ]
    },
    {
     "name": "stderr",
     "output_type": "stream",
     "text": [
      "C:\\Users\\udays\\AppData\\Local\\Temp\\ipykernel_22228\\3925381797.py:80: FutureWarning: Series.__getitem__ treating keys as positions is deprecated. In a future version, integer keys will always be treated as labels (consistent with DataFrame behavior). To access a value by position, use `ser.iloc[pos]`\n",
      "  'labels': torch.tensor(label, dtype=torch.float32)\n",
      "Epoch 36 Training: 100%|███████████████████████████████████████████████████| 11/11 [00:13<00:00,  1.19s/it, loss=0.563]\n",
      "Epoch 36 Validation: 100%|███████████████████████████████████████████████████| 3/3 [00:01<00:00,  1.66it/s, loss=0.461]\n"
     ]
    },
    {
     "name": "stdout",
     "output_type": "stream",
     "text": [
      "Epoch 36: Train Loss=0.7962, Val Loss=0.7697\n",
      "Mean F1 Score: 0.9855, Mean Accuracy: 0.9809, Mean Precision: 0.9781, Mean Recall: 0.9931\n"
     ]
    },
    {
     "name": "stderr",
     "output_type": "stream",
     "text": [
      "C:\\Users\\udays\\AppData\\Local\\Temp\\ipykernel_22228\\3925381797.py:80: FutureWarning: Series.__getitem__ treating keys as positions is deprecated. In a future version, integer keys will always be treated as labels (consistent with DataFrame behavior). To access a value by position, use `ser.iloc[pos]`\n",
      "  'labels': torch.tensor(label, dtype=torch.float32)\n",
      "Epoch 37 Training: 100%|███████████████████████████████████████████████████| 11/11 [00:13<00:00,  1.18s/it, loss=0.459]\n",
      "Epoch 37 Validation: 100%|███████████████████████████████████████████████████| 3/3 [00:02<00:00,  1.50it/s, loss=0.428]\n"
     ]
    },
    {
     "name": "stdout",
     "output_type": "stream",
     "text": [
      "Epoch 37: Train Loss=0.7656, Val Loss=0.7412\n",
      "Mean F1 Score: 0.9855, Mean Accuracy: 0.9809, Mean Precision: 0.9781, Mean Recall: 0.9931\n"
     ]
    },
    {
     "name": "stderr",
     "output_type": "stream",
     "text": [
      "C:\\Users\\udays\\AppData\\Local\\Temp\\ipykernel_22228\\3925381797.py:80: FutureWarning: Series.__getitem__ treating keys as positions is deprecated. In a future version, integer keys will always be treated as labels (consistent with DataFrame behavior). To access a value by position, use `ser.iloc[pos]`\n",
      "  'labels': torch.tensor(label, dtype=torch.float32)\n",
      "Epoch 38 Training: 100%|████████████████████████████████████████████████████| 11/11 [00:13<00:00,  1.19s/it, loss=1.65]\n",
      "Epoch 38 Validation: 100%|███████████████████████████████████████████████████| 3/3 [00:02<00:00,  1.40it/s, loss=0.408]\n"
     ]
    },
    {
     "name": "stdout",
     "output_type": "stream",
     "text": [
      "Epoch 38: Train Loss=0.8317, Val Loss=0.7209\n",
      "Mean F1 Score: 0.9863, Mean Accuracy: 0.9820, Mean Precision: 0.9798, Mean Recall: 0.9931\n"
     ]
    },
    {
     "name": "stderr",
     "output_type": "stream",
     "text": [
      "C:\\Users\\udays\\AppData\\Local\\Temp\\ipykernel_22228\\3925381797.py:80: FutureWarning: Series.__getitem__ treating keys as positions is deprecated. In a future version, integer keys will always be treated as labels (consistent with DataFrame behavior). To access a value by position, use `ser.iloc[pos]`\n",
      "  'labels': torch.tensor(label, dtype=torch.float32)\n",
      "Epoch 39 Training: 100%|████████████████████████████████████████████████████| 11/11 [00:13<00:00,  1.20s/it, loss=1.08]\n",
      "Epoch 39 Validation: 100%|███████████████████████████████████████████████████| 3/3 [00:02<00:00,  1.39it/s, loss=0.397]\n"
     ]
    },
    {
     "name": "stdout",
     "output_type": "stream",
     "text": [
      "Epoch 39: Train Loss=0.7733, Val Loss=0.7073\n",
      "Mean F1 Score: 0.9864, Mean Accuracy: 0.9820, Mean Precision: 0.9782, Mean Recall: 0.9948\n",
      "New best model saved for fold 5 with F1=0.9864\n"
     ]
    },
    {
     "name": "stderr",
     "output_type": "stream",
     "text": [
      "C:\\Users\\udays\\AppData\\Local\\Temp\\ipykernel_22228\\3925381797.py:80: FutureWarning: Series.__getitem__ treating keys as positions is deprecated. In a future version, integer keys will always be treated as labels (consistent with DataFrame behavior). To access a value by position, use `ser.iloc[pos]`\n",
      "  'labels': torch.tensor(label, dtype=torch.float32)\n",
      "Epoch 40 Training: 100%|███████████████████████████████████████████████████| 11/11 [00:13<00:00,  1.21s/it, loss=0.411]\n",
      "Epoch 40 Validation: 100%|███████████████████████████████████████████████████| 3/3 [00:01<00:00,  1.57it/s, loss=0.372]\n"
     ]
    },
    {
     "name": "stdout",
     "output_type": "stream",
     "text": [
      "Epoch 40: Train Loss=0.6989, Val Loss=0.6841\n",
      "Mean F1 Score: 0.9863, Mean Accuracy: 0.9820, Mean Precision: 0.9798, Mean Recall: 0.9931\n"
     ]
    },
    {
     "name": "stderr",
     "output_type": "stream",
     "text": [
      "C:\\Users\\udays\\AppData\\Local\\Temp\\ipykernel_22228\\3925381797.py:80: FutureWarning: Series.__getitem__ treating keys as positions is deprecated. In a future version, integer keys will always be treated as labels (consistent with DataFrame behavior). To access a value by position, use `ser.iloc[pos]`\n",
      "  'labels': torch.tensor(label, dtype=torch.float32)\n",
      "Epoch 41 Training: 100%|███████████████████████████████████████████████████| 11/11 [00:13<00:00,  1.19s/it, loss=0.461]\n",
      "Epoch 41 Validation: 100%|███████████████████████████████████████████████████| 3/3 [00:02<00:00,  1.48it/s, loss=0.355]\n"
     ]
    },
    {
     "name": "stdout",
     "output_type": "stream",
     "text": [
      "Epoch 41: Train Loss=0.6896, Val Loss=0.6664\n",
      "Mean F1 Score: 0.9872, Mean Accuracy: 0.9832, Mean Precision: 0.9783, Mean Recall: 0.9965\n",
      "New best model saved for fold 5 with F1=0.9872\n"
     ]
    },
    {
     "name": "stderr",
     "output_type": "stream",
     "text": [
      "C:\\Users\\udays\\AppData\\Local\\Temp\\ipykernel_22228\\3925381797.py:80: FutureWarning: Series.__getitem__ treating keys as positions is deprecated. In a future version, integer keys will always be treated as labels (consistent with DataFrame behavior). To access a value by position, use `ser.iloc[pos]`\n",
      "  'labels': torch.tensor(label, dtype=torch.float32)\n",
      "Epoch 42 Training: 100%|███████████████████████████████████████████████████| 11/11 [00:13<00:00,  1.21s/it, loss=0.621]\n",
      "Epoch 42 Validation: 100%|███████████████████████████████████████████████████| 3/3 [00:01<00:00,  1.72it/s, loss=0.349]\n"
     ]
    },
    {
     "name": "stdout",
     "output_type": "stream",
     "text": [
      "Epoch 42: Train Loss=0.6792, Val Loss=0.6557\n",
      "Mean F1 Score: 0.9864, Mean Accuracy: 0.9820, Mean Precision: 0.9782, Mean Recall: 0.9948\n"
     ]
    },
    {
     "name": "stderr",
     "output_type": "stream",
     "text": [
      "C:\\Users\\udays\\AppData\\Local\\Temp\\ipykernel_22228\\3925381797.py:80: FutureWarning: Series.__getitem__ treating keys as positions is deprecated. In a future version, integer keys will always be treated as labels (consistent with DataFrame behavior). To access a value by position, use `ser.iloc[pos]`\n",
      "  'labels': torch.tensor(label, dtype=torch.float32)\n",
      "Epoch 43 Training: 100%|███████████████████████████████████████████████████| 11/11 [00:13<00:00,  1.22s/it, loss=0.881]\n",
      "Epoch 43 Validation: 100%|████████████████████████████████████████████████████| 3/3 [00:02<00:00,  1.42it/s, loss=0.33]\n"
     ]
    },
    {
     "name": "stdout",
     "output_type": "stream",
     "text": [
      "Epoch 43: Train Loss=0.6851, Val Loss=0.6360\n",
      "Mean F1 Score: 0.9872, Mean Accuracy: 0.9832, Mean Precision: 0.9783, Mean Recall: 0.9965\n"
     ]
    },
    {
     "name": "stderr",
     "output_type": "stream",
     "text": [
      "C:\\Users\\udays\\AppData\\Local\\Temp\\ipykernel_22228\\3925381797.py:80: FutureWarning: Series.__getitem__ treating keys as positions is deprecated. In a future version, integer keys will always be treated as labels (consistent with DataFrame behavior). To access a value by position, use `ser.iloc[pos]`\n",
      "  'labels': torch.tensor(label, dtype=torch.float32)\n",
      "Epoch 44 Training: 100%|████████████████████████████████████████████████████| 11/11 [00:12<00:00,  1.18s/it, loss=1.42]\n",
      "Epoch 44 Validation: 100%|███████████████████████████████████████████████████| 3/3 [00:01<00:00,  1.70it/s, loss=0.319]\n"
     ]
    },
    {
     "name": "stdout",
     "output_type": "stream",
     "text": [
      "Epoch 44: Train Loss=0.7035, Val Loss=0.6242\n",
      "Mean F1 Score: 0.9856, Mean Accuracy: 0.9809, Mean Precision: 0.9766, Mean Recall: 0.9948\n"
     ]
    },
    {
     "name": "stderr",
     "output_type": "stream",
     "text": [
      "C:\\Users\\udays\\AppData\\Local\\Temp\\ipykernel_22228\\3925381797.py:80: FutureWarning: Series.__getitem__ treating keys as positions is deprecated. In a future version, integer keys will always be treated as labels (consistent with DataFrame behavior). To access a value by position, use `ser.iloc[pos]`\n",
      "  'labels': torch.tensor(label, dtype=torch.float32)\n",
      "Epoch 45 Training: 100%|███████████████████████████████████████████████████| 11/11 [00:12<00:00,  1.13s/it, loss=0.295]\n",
      "Epoch 45 Validation: 100%|███████████████████████████████████████████████████| 3/3 [00:02<00:00,  1.41it/s, loss=0.311]\n"
     ]
    },
    {
     "name": "stdout",
     "output_type": "stream",
     "text": [
      "Epoch 45: Train Loss=0.6102, Val Loss=0.6160\n",
      "Mean F1 Score: 0.9864, Mean Accuracy: 0.9820, Mean Precision: 0.9767, Mean Recall: 0.9965\n"
     ]
    },
    {
     "name": "stderr",
     "output_type": "stream",
     "text": [
      "C:\\Users\\udays\\AppData\\Local\\Temp\\ipykernel_22228\\3925381797.py:80: FutureWarning: Series.__getitem__ treating keys as positions is deprecated. In a future version, integer keys will always be treated as labels (consistent with DataFrame behavior). To access a value by position, use `ser.iloc[pos]`\n",
      "  'labels': torch.tensor(label, dtype=torch.float32)\n",
      "Epoch 46 Training: 100%|███████████████████████████████████████████████████| 11/11 [00:13<00:00,  1.19s/it, loss=0.242]\n",
      "Epoch 46 Validation: 100%|███████████████████████████████████████████████████| 3/3 [00:01<00:00,  1.59it/s, loss=0.295]\n"
     ]
    },
    {
     "name": "stdout",
     "output_type": "stream",
     "text": [
      "Epoch 46: Train Loss=0.5888, Val Loss=0.5982\n",
      "Mean F1 Score: 0.9864, Mean Accuracy: 0.9820, Mean Precision: 0.9767, Mean Recall: 0.9965\n"
     ]
    },
    {
     "name": "stderr",
     "output_type": "stream",
     "text": [
      "C:\\Users\\udays\\AppData\\Local\\Temp\\ipykernel_22228\\3925381797.py:80: FutureWarning: Series.__getitem__ treating keys as positions is deprecated. In a future version, integer keys will always be treated as labels (consistent with DataFrame behavior). To access a value by position, use `ser.iloc[pos]`\n",
      "  'labels': torch.tensor(label, dtype=torch.float32)\n",
      "Epoch 47 Training: 100%|███████████████████████████████████████████████████| 11/11 [00:13<00:00,  1.21s/it, loss=0.792]\n",
      "Epoch 47 Validation: 100%|███████████████████████████████████████████████████| 3/3 [00:02<00:00,  1.45it/s, loss=0.285]\n"
     ]
    },
    {
     "name": "stdout",
     "output_type": "stream",
     "text": [
      "Epoch 47: Train Loss=0.6169, Val Loss=0.5846\n",
      "Mean F1 Score: 0.9881, Mean Accuracy: 0.9843, Mean Precision: 0.9800, Mean Recall: 0.9965\n",
      "New best model saved for fold 5 with F1=0.9881\n"
     ]
    },
    {
     "name": "stderr",
     "output_type": "stream",
     "text": [
      "C:\\Users\\udays\\AppData\\Local\\Temp\\ipykernel_22228\\3925381797.py:80: FutureWarning: Series.__getitem__ treating keys as positions is deprecated. In a future version, integer keys will always be treated as labels (consistent with DataFrame behavior). To access a value by position, use `ser.iloc[pos]`\n",
      "  'labels': torch.tensor(label, dtype=torch.float32)\n",
      "Epoch 48 Training: 100%|███████████████████████████████████████████████████| 11/11 [00:13<00:00,  1.23s/it, loss=0.262]\n",
      "Epoch 48 Validation: 100%|███████████████████████████████████████████████████| 3/3 [00:02<00:00,  1.49it/s, loss=0.276]\n"
     ]
    },
    {
     "name": "stdout",
     "output_type": "stream",
     "text": [
      "Epoch 48: Train Loss=0.5674, Val Loss=0.5760\n",
      "Mean F1 Score: 0.9880, Mean Accuracy: 0.9843, Mean Precision: 0.9798, Mean Recall: 0.9965\n"
     ]
    },
    {
     "name": "stderr",
     "output_type": "stream",
     "text": [
      "C:\\Users\\udays\\AppData\\Local\\Temp\\ipykernel_22228\\3925381797.py:80: FutureWarning: Series.__getitem__ treating keys as positions is deprecated. In a future version, integer keys will always be treated as labels (consistent with DataFrame behavior). To access a value by position, use `ser.iloc[pos]`\n",
      "  'labels': torch.tensor(label, dtype=torch.float32)\n",
      "Epoch 49 Training: 100%|████████████████████████████████████████████████████| 11/11 [00:12<00:00,  1.16s/it, loss=1.42]\n",
      "Epoch 49 Validation: 100%|███████████████████████████████████████████████████| 3/3 [00:02<00:00,  1.35it/s, loss=0.269]\n"
     ]
    },
    {
     "name": "stdout",
     "output_type": "stream",
     "text": [
      "Epoch 49: Train Loss=0.6364, Val Loss=0.5684\n",
      "Mean F1 Score: 0.9864, Mean Accuracy: 0.9820, Mean Precision: 0.9767, Mean Recall: 0.9965\n"
     ]
    },
    {
     "name": "stderr",
     "output_type": "stream",
     "text": [
      "C:\\Users\\udays\\AppData\\Local\\Temp\\ipykernel_22228\\3925381797.py:80: FutureWarning: Series.__getitem__ treating keys as positions is deprecated. In a future version, integer keys will always be treated as labels (consistent with DataFrame behavior). To access a value by position, use `ser.iloc[pos]`\n",
      "  'labels': torch.tensor(label, dtype=torch.float32)\n",
      "Epoch 50 Training: 100%|███████████████████████████████████████████████████| 11/11 [00:13<00:00,  1.24s/it, loss=0.295]\n",
      "Epoch 50 Validation: 100%|███████████████████████████████████████████████████| 3/3 [00:02<00:00,  1.48it/s, loss=0.258]\n"
     ]
    },
    {
     "name": "stdout",
     "output_type": "stream",
     "text": [
      "Epoch 50: Train Loss=0.5400, Val Loss=0.5576\n",
      "Mean F1 Score: 0.9864, Mean Accuracy: 0.9820, Mean Precision: 0.9767, Mean Recall: 0.9965\n"
     ]
    },
    {
     "name": "stderr",
     "output_type": "stream",
     "text": [
      "C:\\Users\\udays\\AppData\\Local\\Temp\\ipykernel_22228\\3925381797.py:80: FutureWarning: Series.__getitem__ treating keys as positions is deprecated. In a future version, integer keys will always be treated as labels (consistent with DataFrame behavior). To access a value by position, use `ser.iloc[pos]`\n",
      "  'labels': torch.tensor(label, dtype=torch.float32)\n",
      "Epoch 51 Training: 100%|████████████████████████████████████████████████████| 11/11 [00:12<00:00,  1.16s/it, loss=0.27]\n",
      "Epoch 51 Validation: 100%|███████████████████████████████████████████████████| 3/3 [00:01<00:00,  1.57it/s, loss=0.249]\n"
     ]
    },
    {
     "name": "stdout",
     "output_type": "stream",
     "text": [
      "Epoch 51: Train Loss=0.5319, Val Loss=0.5408\n",
      "Mean F1 Score: 0.9889, Mean Accuracy: 0.9854, Mean Precision: 0.9833, Mean Recall: 0.9948\n",
      "New best model saved for fold 5 with F1=0.9889\n"
     ]
    },
    {
     "name": "stderr",
     "output_type": "stream",
     "text": [
      "C:\\Users\\udays\\AppData\\Local\\Temp\\ipykernel_22228\\3925381797.py:80: FutureWarning: Series.__getitem__ treating keys as positions is deprecated. In a future version, integer keys will always be treated as labels (consistent with DataFrame behavior). To access a value by position, use `ser.iloc[pos]`\n",
      "  'labels': torch.tensor(label, dtype=torch.float32)\n",
      "Epoch 52 Training: 100%|███████████████████████████████████████████████████| 11/11 [00:13<00:00,  1.20s/it, loss=0.233]\n",
      "Epoch 52 Validation: 100%|███████████████████████████████████████████████████| 3/3 [00:01<00:00,  1.56it/s, loss=0.241]\n"
     ]
    },
    {
     "name": "stdout",
     "output_type": "stream",
     "text": [
      "Epoch 52: Train Loss=0.5195, Val Loss=0.5310\n",
      "Mean F1 Score: 0.9898, Mean Accuracy: 0.9865, Mean Precision: 0.9834, Mean Recall: 0.9965\n",
      "New best model saved for fold 5 with F1=0.9898\n"
     ]
    },
    {
     "name": "stderr",
     "output_type": "stream",
     "text": [
      "C:\\Users\\udays\\AppData\\Local\\Temp\\ipykernel_22228\\3925381797.py:80: FutureWarning: Series.__getitem__ treating keys as positions is deprecated. In a future version, integer keys will always be treated as labels (consistent with DataFrame behavior). To access a value by position, use `ser.iloc[pos]`\n",
      "  'labels': torch.tensor(label, dtype=torch.float32)\n",
      "Epoch 53 Training: 100%|███████████████████████████████████████████████████| 11/11 [00:13<00:00,  1.23s/it, loss=0.428]\n",
      "Epoch 53 Validation: 100%|███████████████████████████████████████████████████| 3/3 [00:01<00:00,  1.52it/s, loss=0.234]\n"
     ]
    },
    {
     "name": "stdout",
     "output_type": "stream",
     "text": [
      "Epoch 53: Train Loss=0.5198, Val Loss=0.5271\n",
      "Mean F1 Score: 0.9872, Mean Accuracy: 0.9832, Mean Precision: 0.9783, Mean Recall: 0.9965\n"
     ]
    },
    {
     "name": "stderr",
     "output_type": "stream",
     "text": [
      "C:\\Users\\udays\\AppData\\Local\\Temp\\ipykernel_22228\\3925381797.py:80: FutureWarning: Series.__getitem__ treating keys as positions is deprecated. In a future version, integer keys will always be treated as labels (consistent with DataFrame behavior). To access a value by position, use `ser.iloc[pos]`\n",
      "  'labels': torch.tensor(label, dtype=torch.float32)\n",
      "Epoch 54 Training: 100%|███████████████████████████████████████████████████| 11/11 [00:13<00:00,  1.21s/it, loss=0.457]\n",
      "Epoch 54 Validation: 100%|███████████████████████████████████████████████████| 3/3 [00:02<00:00,  1.39it/s, loss=0.223]\n"
     ]
    },
    {
     "name": "stdout",
     "output_type": "stream",
     "text": [
      "Epoch 54: Train Loss=0.5098, Val Loss=0.5167\n",
      "Mean F1 Score: 0.9881, Mean Accuracy: 0.9843, Mean Precision: 0.9800, Mean Recall: 0.9965\n"
     ]
    },
    {
     "name": "stderr",
     "output_type": "stream",
     "text": [
      "C:\\Users\\udays\\AppData\\Local\\Temp\\ipykernel_22228\\3925381797.py:80: FutureWarning: Series.__getitem__ treating keys as positions is deprecated. In a future version, integer keys will always be treated as labels (consistent with DataFrame behavior). To access a value by position, use `ser.iloc[pos]`\n",
      "  'labels': torch.tensor(label, dtype=torch.float32)\n",
      "Epoch 55 Training: 100%|███████████████████████████████████████████████████| 11/11 [00:13<00:00,  1.20s/it, loss=0.379]\n",
      "Epoch 55 Validation: 100%|███████████████████████████████████████████████████| 3/3 [00:02<00:00,  1.42it/s, loss=0.216]\n"
     ]
    },
    {
     "name": "stdout",
     "output_type": "stream",
     "text": [
      "Epoch 55: Train Loss=0.4917, Val Loss=0.5060\n",
      "Mean F1 Score: 0.9889, Mean Accuracy: 0.9854, Mean Precision: 0.9817, Mean Recall: 0.9965\n"
     ]
    },
    {
     "name": "stderr",
     "output_type": "stream",
     "text": [
      "C:\\Users\\udays\\AppData\\Local\\Temp\\ipykernel_22228\\3925381797.py:80: FutureWarning: Series.__getitem__ treating keys as positions is deprecated. In a future version, integer keys will always be treated as labels (consistent with DataFrame behavior). To access a value by position, use `ser.iloc[pos]`\n",
      "  'labels': torch.tensor(label, dtype=torch.float32)\n",
      "Epoch 56 Training: 100%|███████████████████████████████████████████████████| 11/11 [00:12<00:00,  1.16s/it, loss=0.549]\n",
      "Epoch 56 Validation: 100%|███████████████████████████████████████████████████| 3/3 [00:01<00:00,  1.76it/s, loss=0.209]\n"
     ]
    },
    {
     "name": "stdout",
     "output_type": "stream",
     "text": [
      "Epoch 56: Train Loss=0.4975, Val Loss=0.4988\n",
      "Mean F1 Score: 0.9898, Mean Accuracy: 0.9865, Mean Precision: 0.9835, Mean Recall: 0.9965\n"
     ]
    },
    {
     "name": "stderr",
     "output_type": "stream",
     "text": [
      "C:\\Users\\udays\\AppData\\Local\\Temp\\ipykernel_22228\\3925381797.py:80: FutureWarning: Series.__getitem__ treating keys as positions is deprecated. In a future version, integer keys will always be treated as labels (consistent with DataFrame behavior). To access a value by position, use `ser.iloc[pos]`\n",
      "  'labels': torch.tensor(label, dtype=torch.float32)\n",
      "Epoch 57 Training: 100%|███████████████████████████████████████████████████| 11/11 [00:13<00:00,  1.21s/it, loss=0.489]\n",
      "Epoch 57 Validation: 100%|███████████████████████████████████████████████████| 3/3 [00:01<00:00,  1.56it/s, loss=0.205]\n"
     ]
    },
    {
     "name": "stdout",
     "output_type": "stream",
     "text": [
      "Epoch 57: Train Loss=0.4893, Val Loss=0.4916\n",
      "Mean F1 Score: 0.9889, Mean Accuracy: 0.9854, Mean Precision: 0.9817, Mean Recall: 0.9965\n"
     ]
    },
    {
     "name": "stderr",
     "output_type": "stream",
     "text": [
      "C:\\Users\\udays\\AppData\\Local\\Temp\\ipykernel_22228\\3925381797.py:80: FutureWarning: Series.__getitem__ treating keys as positions is deprecated. In a future version, integer keys will always be treated as labels (consistent with DataFrame behavior). To access a value by position, use `ser.iloc[pos]`\n",
      "  'labels': torch.tensor(label, dtype=torch.float32)\n",
      "Epoch 58 Training: 100%|███████████████████████████████████████████████████| 11/11 [00:12<00:00,  1.17s/it, loss=0.666]\n",
      "Epoch 58 Validation: 100%|███████████████████████████████████████████████████| 3/3 [00:01<00:00,  1.64it/s, loss=0.198]\n"
     ]
    },
    {
     "name": "stdout",
     "output_type": "stream",
     "text": [
      "Epoch 58: Train Loss=0.4923, Val Loss=0.4852\n",
      "Mean F1 Score: 0.9898, Mean Accuracy: 0.9865, Mean Precision: 0.9833, Mean Recall: 0.9965\n"
     ]
    },
    {
     "name": "stderr",
     "output_type": "stream",
     "text": [
      "C:\\Users\\udays\\AppData\\Local\\Temp\\ipykernel_22228\\3925381797.py:80: FutureWarning: Series.__getitem__ treating keys as positions is deprecated. In a future version, integer keys will always be treated as labels (consistent with DataFrame behavior). To access a value by position, use `ser.iloc[pos]`\n",
      "  'labels': torch.tensor(label, dtype=torch.float32)\n",
      "Epoch 59 Training: 100%|███████████████████████████████████████████████████| 11/11 [00:12<00:00,  1.17s/it, loss=0.175]\n",
      "Epoch 59 Validation: 100%|███████████████████████████████████████████████████| 3/3 [00:01<00:00,  1.51it/s, loss=0.192]\n"
     ]
    },
    {
     "name": "stdout",
     "output_type": "stream",
     "text": [
      "Epoch 59: Train Loss=0.4440, Val Loss=0.4815\n",
      "Mean F1 Score: 0.9889, Mean Accuracy: 0.9854, Mean Precision: 0.9817, Mean Recall: 0.9965\n"
     ]
    },
    {
     "name": "stderr",
     "output_type": "stream",
     "text": [
      "C:\\Users\\udays\\AppData\\Local\\Temp\\ipykernel_22228\\3925381797.py:80: FutureWarning: Series.__getitem__ treating keys as positions is deprecated. In a future version, integer keys will always be treated as labels (consistent with DataFrame behavior). To access a value by position, use `ser.iloc[pos]`\n",
      "  'labels': torch.tensor(label, dtype=torch.float32)\n",
      "Epoch 60 Training: 100%|███████████████████████████████████████████████████| 11/11 [00:12<00:00,  1.13s/it, loss=0.675]\n",
      "Epoch 60 Validation: 100%|███████████████████████████████████████████████████| 3/3 [00:02<00:00,  1.35it/s, loss=0.188]\n"
     ]
    },
    {
     "name": "stdout",
     "output_type": "stream",
     "text": [
      "Epoch 60: Train Loss=0.4683, Val Loss=0.4753\n",
      "Mean F1 Score: 0.9881, Mean Accuracy: 0.9843, Mean Precision: 0.9800, Mean Recall: 0.9965\n"
     ]
    },
    {
     "name": "stderr",
     "output_type": "stream",
     "text": [
      "C:\\Users\\udays\\AppData\\Local\\Temp\\ipykernel_22228\\3925381797.py:80: FutureWarning: Series.__getitem__ treating keys as positions is deprecated. In a future version, integer keys will always be treated as labels (consistent with DataFrame behavior). To access a value by position, use `ser.iloc[pos]`\n",
      "  'labels': torch.tensor(label, dtype=torch.float32)\n",
      "Epoch 61 Training: 100%|███████████████████████████████████████████████████| 11/11 [00:13<00:00,  1.22s/it, loss=0.543]\n",
      "Epoch 61 Validation: 100%|███████████████████████████████████████████████████| 3/3 [00:01<00:00,  1.53it/s, loss=0.179]\n"
     ]
    },
    {
     "name": "stdout",
     "output_type": "stream",
     "text": [
      "Epoch 61: Train Loss=0.4577, Val Loss=0.4620\n",
      "Mean F1 Score: 0.9907, Mean Accuracy: 0.9877, Mean Precision: 0.9851, Mean Recall: 0.9965\n",
      "New best model saved for fold 5 with F1=0.9907\n"
     ]
    },
    {
     "name": "stderr",
     "output_type": "stream",
     "text": [
      "C:\\Users\\udays\\AppData\\Local\\Temp\\ipykernel_22228\\3925381797.py:80: FutureWarning: Series.__getitem__ treating keys as positions is deprecated. In a future version, integer keys will always be treated as labels (consistent with DataFrame behavior). To access a value by position, use `ser.iloc[pos]`\n",
      "  'labels': torch.tensor(label, dtype=torch.float32)\n",
      "Epoch 62 Training: 100%|█████████████████████████████████████████████████████| 11/11 [00:13<00:00,  1.21s/it, loss=1.2]\n",
      "Epoch 62 Validation: 100%|███████████████████████████████████████████████████| 3/3 [00:02<00:00,  1.46it/s, loss=0.175]\n"
     ]
    },
    {
     "name": "stdout",
     "output_type": "stream",
     "text": [
      "Epoch 62: Train Loss=0.4939, Val Loss=0.4568\n",
      "Mean F1 Score: 0.9907, Mean Accuracy: 0.9877, Mean Precision: 0.9851, Mean Recall: 0.9965\n"
     ]
    },
    {
     "name": "stderr",
     "output_type": "stream",
     "text": [
      "C:\\Users\\udays\\AppData\\Local\\Temp\\ipykernel_22228\\3925381797.py:80: FutureWarning: Series.__getitem__ treating keys as positions is deprecated. In a future version, integer keys will always be treated as labels (consistent with DataFrame behavior). To access a value by position, use `ser.iloc[pos]`\n",
      "  'labels': torch.tensor(label, dtype=torch.float32)\n",
      "Epoch 63 Training: 100%|███████████████████████████████████████████████████| 11/11 [00:13<00:00,  1.20s/it, loss=0.158]\n",
      "Epoch 63 Validation: 100%|████████████████████████████████████████████████████| 3/3 [00:01<00:00,  1.56it/s, loss=0.17]\n"
     ]
    },
    {
     "name": "stdout",
     "output_type": "stream",
     "text": [
      "Epoch 63: Train Loss=0.4148, Val Loss=0.4461\n",
      "Mean F1 Score: 0.9889, Mean Accuracy: 0.9854, Mean Precision: 0.9851, Mean Recall: 0.9930\n"
     ]
    },
    {
     "name": "stderr",
     "output_type": "stream",
     "text": [
      "C:\\Users\\udays\\AppData\\Local\\Temp\\ipykernel_22228\\3925381797.py:80: FutureWarning: Series.__getitem__ treating keys as positions is deprecated. In a future version, integer keys will always be treated as labels (consistent with DataFrame behavior). To access a value by position, use `ser.iloc[pos]`\n",
      "  'labels': torch.tensor(label, dtype=torch.float32)\n",
      "Epoch 64 Training: 100%|███████████████████████████████████████████████████| 11/11 [00:13<00:00,  1.20s/it, loss=0.521]\n",
      "Epoch 64 Validation: 100%|███████████████████████████████████████████████████| 3/3 [00:01<00:00,  1.69it/s, loss=0.165]\n"
     ]
    },
    {
     "name": "stdout",
     "output_type": "stream",
     "text": [
      "Epoch 64: Train Loss=0.4325, Val Loss=0.4428\n",
      "Mean F1 Score: 0.9915, Mean Accuracy: 0.9888, Mean Precision: 0.9867, Mean Recall: 0.9965\n",
      "New best model saved for fold 5 with F1=0.9915\n"
     ]
    },
    {
     "name": "stderr",
     "output_type": "stream",
     "text": [
      "C:\\Users\\udays\\AppData\\Local\\Temp\\ipykernel_22228\\3925381797.py:80: FutureWarning: Series.__getitem__ treating keys as positions is deprecated. In a future version, integer keys will always be treated as labels (consistent with DataFrame behavior). To access a value by position, use `ser.iloc[pos]`\n",
      "  'labels': torch.tensor(label, dtype=torch.float32)\n",
      "Epoch 65 Training: 100%|███████████████████████████████████████████████████| 11/11 [00:13<00:00,  1.24s/it, loss=0.163]\n",
      "Epoch 65 Validation: 100%|████████████████████████████████████████████████████| 3/3 [00:02<00:00,  1.43it/s, loss=0.16]\n"
     ]
    },
    {
     "name": "stdout",
     "output_type": "stream",
     "text": [
      "Epoch 65: Train Loss=0.4029, Val Loss=0.4346\n",
      "Mean F1 Score: 0.9897, Mean Accuracy: 0.9865, Mean Precision: 0.9867, Mean Recall: 0.9930\n"
     ]
    },
    {
     "name": "stderr",
     "output_type": "stream",
     "text": [
      "C:\\Users\\udays\\AppData\\Local\\Temp\\ipykernel_22228\\3925381797.py:80: FutureWarning: Series.__getitem__ treating keys as positions is deprecated. In a future version, integer keys will always be treated as labels (consistent with DataFrame behavior). To access a value by position, use `ser.iloc[pos]`\n",
      "  'labels': torch.tensor(label, dtype=torch.float32)\n",
      "Epoch 66 Training: 100%|███████████████████████████████████████████████████| 11/11 [00:12<00:00,  1.13s/it, loss=0.789]\n",
      "Epoch 66 Validation: 100%|███████████████████████████████████████████████████| 3/3 [00:01<00:00,  1.69it/s, loss=0.156]\n"
     ]
    },
    {
     "name": "stdout",
     "output_type": "stream",
     "text": [
      "Epoch 66: Train Loss=0.4378, Val Loss=0.4324\n",
      "Mean F1 Score: 0.9889, Mean Accuracy: 0.9854, Mean Precision: 0.9851, Mean Recall: 0.9930\n"
     ]
    },
    {
     "name": "stderr",
     "output_type": "stream",
     "text": [
      "C:\\Users\\udays\\AppData\\Local\\Temp\\ipykernel_22228\\3925381797.py:80: FutureWarning: Series.__getitem__ treating keys as positions is deprecated. In a future version, integer keys will always be treated as labels (consistent with DataFrame behavior). To access a value by position, use `ser.iloc[pos]`\n",
      "  'labels': torch.tensor(label, dtype=torch.float32)\n",
      "Epoch 67 Training: 100%|███████████████████████████████████████████████████| 11/11 [00:12<00:00,  1.13s/it, loss=0.144]\n",
      "Epoch 67 Validation: 100%|███████████████████████████████████████████████████| 3/3 [00:01<00:00,  1.53it/s, loss=0.152]\n"
     ]
    },
    {
     "name": "stdout",
     "output_type": "stream",
     "text": [
      "Epoch 67: Train Loss=0.3848, Val Loss=0.4234\n",
      "Mean F1 Score: 0.9906, Mean Accuracy: 0.9877, Mean Precision: 0.9885, Mean Recall: 0.9930\n"
     ]
    },
    {
     "name": "stderr",
     "output_type": "stream",
     "text": [
      "C:\\Users\\udays\\AppData\\Local\\Temp\\ipykernel_22228\\3925381797.py:80: FutureWarning: Series.__getitem__ treating keys as positions is deprecated. In a future version, integer keys will always be treated as labels (consistent with DataFrame behavior). To access a value by position, use `ser.iloc[pos]`\n",
      "  'labels': torch.tensor(label, dtype=torch.float32)\n",
      "Epoch 68 Training: 100%|███████████████████████████████████████████████████| 11/11 [00:13<00:00,  1.22s/it, loss=0.609]\n",
      "Epoch 68 Validation: 100%|███████████████████████████████████████████████████| 3/3 [00:02<00:00,  1.41it/s, loss=0.148]\n"
     ]
    },
    {
     "name": "stdout",
     "output_type": "stream",
     "text": [
      "Epoch 68: Train Loss=0.4113, Val Loss=0.4181\n",
      "Mean F1 Score: 0.9924, Mean Accuracy: 0.9899, Mean Precision: 0.9885, Mean Recall: 0.9965\n",
      "New best model saved for fold 5 with F1=0.9924\n"
     ]
    },
    {
     "name": "stderr",
     "output_type": "stream",
     "text": [
      "C:\\Users\\udays\\AppData\\Local\\Temp\\ipykernel_22228\\3925381797.py:80: FutureWarning: Series.__getitem__ treating keys as positions is deprecated. In a future version, integer keys will always be treated as labels (consistent with DataFrame behavior). To access a value by position, use `ser.iloc[pos]`\n",
      "  'labels': torch.tensor(label, dtype=torch.float32)\n",
      "Epoch 69 Training: 100%|███████████████████████████████████████████████████| 11/11 [00:12<00:00,  1.18s/it, loss=0.157]\n",
      "Epoch 69 Validation: 100%|███████████████████████████████████████████████████| 3/3 [00:01<00:00,  1.60it/s, loss=0.144]\n"
     ]
    },
    {
     "name": "stdout",
     "output_type": "stream",
     "text": [
      "Epoch 69: Train Loss=0.3692, Val Loss=0.4111\n",
      "Mean F1 Score: 0.9915, Mean Accuracy: 0.9888, Mean Precision: 0.9867, Mean Recall: 0.9965\n"
     ]
    },
    {
     "name": "stderr",
     "output_type": "stream",
     "text": [
      "C:\\Users\\udays\\AppData\\Local\\Temp\\ipykernel_22228\\3925381797.py:80: FutureWarning: Series.__getitem__ treating keys as positions is deprecated. In a future version, integer keys will always be treated as labels (consistent with DataFrame behavior). To access a value by position, use `ser.iloc[pos]`\n",
      "  'labels': torch.tensor(label, dtype=torch.float32)\n",
      "Epoch 70 Training: 100%|███████████████████████████████████████████████████| 11/11 [00:13<00:00,  1.21s/it, loss=0.116]\n",
      "Epoch 70 Validation: 100%|███████████████████████████████████████████████████| 3/3 [00:02<00:00,  1.48it/s, loss=0.141]\n"
     ]
    },
    {
     "name": "stdout",
     "output_type": "stream",
     "text": [
      "Epoch 70: Train Loss=0.3591, Val Loss=0.4085\n",
      "Mean F1 Score: 0.9915, Mean Accuracy: 0.9888, Mean Precision: 0.9867, Mean Recall: 0.9965\n"
     ]
    },
    {
     "name": "stderr",
     "output_type": "stream",
     "text": [
      "C:\\Users\\udays\\AppData\\Local\\Temp\\ipykernel_22228\\3925381797.py:80: FutureWarning: Series.__getitem__ treating keys as positions is deprecated. In a future version, integer keys will always be treated as labels (consistent with DataFrame behavior). To access a value by position, use `ser.iloc[pos]`\n",
      "  'labels': torch.tensor(label, dtype=torch.float32)\n",
      "Epoch 71 Training: 100%|███████████████████████████████████████████████████| 11/11 [00:13<00:00,  1.18s/it, loss=0.121]\n",
      "Epoch 71 Validation: 100%|███████████████████████████████████████████████████| 3/3 [00:01<00:00,  1.52it/s, loss=0.136]\n"
     ]
    },
    {
     "name": "stdout",
     "output_type": "stream",
     "text": [
      "Epoch 71: Train Loss=0.3519, Val Loss=0.4022\n",
      "Mean F1 Score: 0.9924, Mean Accuracy: 0.9899, Mean Precision: 0.9885, Mean Recall: 0.9965\n"
     ]
    },
    {
     "name": "stderr",
     "output_type": "stream",
     "text": [
      "C:\\Users\\udays\\AppData\\Local\\Temp\\ipykernel_22228\\3925381797.py:80: FutureWarning: Series.__getitem__ treating keys as positions is deprecated. In a future version, integer keys will always be treated as labels (consistent with DataFrame behavior). To access a value by position, use `ser.iloc[pos]`\n",
      "  'labels': torch.tensor(label, dtype=torch.float32)\n",
      "Epoch 72 Training: 100%|███████████████████████████████████████████████████| 11/11 [00:13<00:00,  1.20s/it, loss=0.464]\n",
      "Epoch 72 Validation: 100%|███████████████████████████████████████████████████| 3/3 [00:01<00:00,  1.55it/s, loss=0.133]\n"
     ]
    },
    {
     "name": "stdout",
     "output_type": "stream",
     "text": [
      "Epoch 72: Train Loss=0.3749, Val Loss=0.4006\n",
      "Mean F1 Score: 0.9924, Mean Accuracy: 0.9899, Mean Precision: 0.9885, Mean Recall: 0.9965\n"
     ]
    },
    {
     "name": "stderr",
     "output_type": "stream",
     "text": [
      "C:\\Users\\udays\\AppData\\Local\\Temp\\ipykernel_22228\\3925381797.py:80: FutureWarning: Series.__getitem__ treating keys as positions is deprecated. In a future version, integer keys will always be treated as labels (consistent with DataFrame behavior). To access a value by position, use `ser.iloc[pos]`\n",
      "  'labels': torch.tensor(label, dtype=torch.float32)\n",
      "Epoch 73 Training: 100%|███████████████████████████████████████████████████| 11/11 [00:13<00:00,  1.23s/it, loss=0.172]\n",
      "Epoch 73 Validation: 100%|███████████████████████████████████████████████████| 3/3 [00:02<00:00,  1.47it/s, loss=0.129]\n"
     ]
    },
    {
     "name": "stdout",
     "output_type": "stream",
     "text": [
      "Epoch 73: Train Loss=0.3513, Val Loss=0.3952\n",
      "Mean F1 Score: 0.9924, Mean Accuracy: 0.9899, Mean Precision: 0.9885, Mean Recall: 0.9965\n"
     ]
    },
    {
     "name": "stderr",
     "output_type": "stream",
     "text": [
      "C:\\Users\\udays\\AppData\\Local\\Temp\\ipykernel_22228\\3925381797.py:80: FutureWarning: Series.__getitem__ treating keys as positions is deprecated. In a future version, integer keys will always be treated as labels (consistent with DataFrame behavior). To access a value by position, use `ser.iloc[pos]`\n",
      "  'labels': torch.tensor(label, dtype=torch.float32)\n",
      "Epoch 74 Training: 100%|███████████████████████████████████████████████████| 11/11 [00:13<00:00,  1.22s/it, loss=0.119]\n",
      "Epoch 74 Validation: 100%|███████████████████████████████████████████████████| 3/3 [00:01<00:00,  1.80it/s, loss=0.126]\n"
     ]
    },
    {
     "name": "stdout",
     "output_type": "stream",
     "text": [
      "Epoch 74: Train Loss=0.3421, Val Loss=0.3899\n",
      "Mean F1 Score: 0.9915, Mean Accuracy: 0.9888, Mean Precision: 0.9885, Mean Recall: 0.9947\n"
     ]
    },
    {
     "name": "stderr",
     "output_type": "stream",
     "text": [
      "C:\\Users\\udays\\AppData\\Local\\Temp\\ipykernel_22228\\3925381797.py:80: FutureWarning: Series.__getitem__ treating keys as positions is deprecated. In a future version, integer keys will always be treated as labels (consistent with DataFrame behavior). To access a value by position, use `ser.iloc[pos]`\n",
      "  'labels': torch.tensor(label, dtype=torch.float32)\n",
      "Epoch 75 Training: 100%|███████████████████████████████████████████████████| 11/11 [00:12<00:00,  1.17s/it, loss=0.964]\n",
      "Epoch 75 Validation: 100%|███████████████████████████████████████████████████| 3/3 [00:02<00:00,  1.46it/s, loss=0.123]\n"
     ]
    },
    {
     "name": "stdout",
     "output_type": "stream",
     "text": [
      "Epoch 75: Train Loss=0.4002, Val Loss=0.3902\n",
      "Mean F1 Score: 0.9915, Mean Accuracy: 0.9888, Mean Precision: 0.9867, Mean Recall: 0.9965\n"
     ]
    },
    {
     "name": "stderr",
     "output_type": "stream",
     "text": [
      "C:\\Users\\udays\\AppData\\Local\\Temp\\ipykernel_22228\\3925381797.py:80: FutureWarning: Series.__getitem__ treating keys as positions is deprecated. In a future version, integer keys will always be treated as labels (consistent with DataFrame behavior). To access a value by position, use `ser.iloc[pos]`\n",
      "  'labels': torch.tensor(label, dtype=torch.float32)\n",
      "Epoch 76 Training: 100%|███████████████████████████████████████████████████| 11/11 [00:13<00:00,  1.20s/it, loss=0.519]\n",
      "Epoch 76 Validation: 100%|████████████████████████████████████████████████████| 3/3 [00:02<00:00,  1.48it/s, loss=0.12]\n"
     ]
    },
    {
     "name": "stdout",
     "output_type": "stream",
     "text": [
      "Epoch 76: Train Loss=0.3583, Val Loss=0.3841\n",
      "Mean F1 Score: 0.9915, Mean Accuracy: 0.9888, Mean Precision: 0.9866, Mean Recall: 0.9965\n"
     ]
    },
    {
     "name": "stderr",
     "output_type": "stream",
     "text": [
      "C:\\Users\\udays\\AppData\\Local\\Temp\\ipykernel_22228\\3925381797.py:80: FutureWarning: Series.__getitem__ treating keys as positions is deprecated. In a future version, integer keys will always be treated as labels (consistent with DataFrame behavior). To access a value by position, use `ser.iloc[pos]`\n",
      "  'labels': torch.tensor(label, dtype=torch.float32)\n",
      "Epoch 77 Training: 100%|███████████████████████████████████████████████████| 11/11 [00:13<00:00,  1.21s/it, loss=0.122]\n",
      "Epoch 77 Validation: 100%|███████████████████████████████████████████████████| 3/3 [00:02<00:00,  1.47it/s, loss=0.117]\n"
     ]
    },
    {
     "name": "stdout",
     "output_type": "stream",
     "text": [
      "Epoch 77: Train Loss=0.3248, Val Loss=0.3740\n",
      "Mean F1 Score: 0.9924, Mean Accuracy: 0.9899, Mean Precision: 0.9885, Mean Recall: 0.9965\n"
     ]
    },
    {
     "name": "stderr",
     "output_type": "stream",
     "text": [
      "C:\\Users\\udays\\AppData\\Local\\Temp\\ipykernel_22228\\3925381797.py:80: FutureWarning: Series.__getitem__ treating keys as positions is deprecated. In a future version, integer keys will always be treated as labels (consistent with DataFrame behavior). To access a value by position, use `ser.iloc[pos]`\n",
      "  'labels': torch.tensor(label, dtype=torch.float32)\n",
      "Epoch 78 Training: 100%|███████████████████████████████████████████████████| 11/11 [00:13<00:00,  1.22s/it, loss=0.109]\n",
      "Epoch 78 Validation: 100%|███████████████████████████████████████████████████| 3/3 [00:02<00:00,  1.42it/s, loss=0.115]\n"
     ]
    },
    {
     "name": "stdout",
     "output_type": "stream",
     "text": [
      "Epoch 78: Train Loss=0.3174, Val Loss=0.3717\n",
      "Mean F1 Score: 0.9924, Mean Accuracy: 0.9899, Mean Precision: 0.9885, Mean Recall: 0.9965\n"
     ]
    },
    {
     "name": "stderr",
     "output_type": "stream",
     "text": [
      "C:\\Users\\udays\\AppData\\Local\\Temp\\ipykernel_22228\\3925381797.py:80: FutureWarning: Series.__getitem__ treating keys as positions is deprecated. In a future version, integer keys will always be treated as labels (consistent with DataFrame behavior). To access a value by position, use `ser.iloc[pos]`\n",
      "  'labels': torch.tensor(label, dtype=torch.float32)\n",
      "Epoch 79 Training: 100%|███████████████████████████████████████████████████| 11/11 [00:12<00:00,  1.18s/it, loss=0.138]\n",
      "Epoch 79 Validation: 100%|███████████████████████████████████████████████████| 3/3 [00:02<00:00,  1.44it/s, loss=0.112]\n"
     ]
    },
    {
     "name": "stdout",
     "output_type": "stream",
     "text": [
      "Epoch 79: Train Loss=0.3148, Val Loss=0.3683\n",
      "Mean F1 Score: 0.9924, Mean Accuracy: 0.9899, Mean Precision: 0.9885, Mean Recall: 0.9965\n"
     ]
    },
    {
     "name": "stderr",
     "output_type": "stream",
     "text": [
      "C:\\Users\\udays\\AppData\\Local\\Temp\\ipykernel_22228\\3925381797.py:80: FutureWarning: Series.__getitem__ treating keys as positions is deprecated. In a future version, integer keys will always be treated as labels (consistent with DataFrame behavior). To access a value by position, use `ser.iloc[pos]`\n",
      "  'labels': torch.tensor(label, dtype=torch.float32)\n",
      "Epoch 80 Training: 100%|███████████████████████████████████████████████████| 11/11 [00:12<00:00,  1.18s/it, loss=0.267]\n",
      "Epoch 80 Validation: 100%|███████████████████████████████████████████████████| 3/3 [00:02<00:00,  1.46it/s, loss=0.109]\n"
     ]
    },
    {
     "name": "stdout",
     "output_type": "stream",
     "text": [
      "Epoch 80: Train Loss=0.3209, Val Loss=0.3674\n",
      "Mean F1 Score: 0.9924, Mean Accuracy: 0.9899, Mean Precision: 0.9885, Mean Recall: 0.9965\n"
     ]
    },
    {
     "name": "stderr",
     "output_type": "stream",
     "text": [
      "C:\\Users\\udays\\AppData\\Local\\Temp\\ipykernel_22228\\3925381797.py:80: FutureWarning: Series.__getitem__ treating keys as positions is deprecated. In a future version, integer keys will always be treated as labels (consistent with DataFrame behavior). To access a value by position, use `ser.iloc[pos]`\n",
      "  'labels': torch.tensor(label, dtype=torch.float32)\n",
      "Epoch 81 Training: 100%|███████████████████████████████████████████████████| 11/11 [00:12<00:00,  1.18s/it, loss=0.209]\n",
      "Epoch 81 Validation: 100%|███████████████████████████████████████████████████| 3/3 [00:01<00:00,  1.72it/s, loss=0.107]\n"
     ]
    },
    {
     "name": "stdout",
     "output_type": "stream",
     "text": [
      "Epoch 81: Train Loss=0.3165, Val Loss=0.3573\n",
      "Mean F1 Score: 0.9906, Mean Accuracy: 0.9877, Mean Precision: 0.9885, Mean Recall: 0.9930\n"
     ]
    },
    {
     "name": "stderr",
     "output_type": "stream",
     "text": [
      "C:\\Users\\udays\\AppData\\Local\\Temp\\ipykernel_22228\\3925381797.py:80: FutureWarning: Series.__getitem__ treating keys as positions is deprecated. In a future version, integer keys will always be treated as labels (consistent with DataFrame behavior). To access a value by position, use `ser.iloc[pos]`\n",
      "  'labels': torch.tensor(label, dtype=torch.float32)\n",
      "Epoch 82 Training: 100%|███████████████████████████████████████████████████| 11/11 [00:12<00:00,  1.12s/it, loss=0.125]\n",
      "Epoch 82 Validation: 100%|███████████████████████████████████████████████████| 3/3 [00:01<00:00,  1.71it/s, loss=0.105]\n"
     ]
    },
    {
     "name": "stdout",
     "output_type": "stream",
     "text": [
      "Epoch 82: Train Loss=0.3085, Val Loss=0.3572\n",
      "Mean F1 Score: 0.9906, Mean Accuracy: 0.9877, Mean Precision: 0.9885, Mean Recall: 0.9930\n"
     ]
    },
    {
     "name": "stderr",
     "output_type": "stream",
     "text": [
      "C:\\Users\\udays\\AppData\\Local\\Temp\\ipykernel_22228\\3925381797.py:80: FutureWarning: Series.__getitem__ treating keys as positions is deprecated. In a future version, integer keys will always be treated as labels (consistent with DataFrame behavior). To access a value by position, use `ser.iloc[pos]`\n",
      "  'labels': torch.tensor(label, dtype=torch.float32)\n",
      "Epoch 83 Training: 100%|███████████████████████████████████████████████████| 11/11 [00:12<00:00,  1.16s/it, loss=0.094]\n",
      "Epoch 83 Validation: 100%|███████████████████████████████████████████████████| 3/3 [00:01<00:00,  1.64it/s, loss=0.102]\n"
     ]
    },
    {
     "name": "stdout",
     "output_type": "stream",
     "text": [
      "Epoch 83: Train Loss=0.2947, Val Loss=0.3546\n",
      "Mean F1 Score: 0.9932, Mean Accuracy: 0.9910, Mean Precision: 0.9902, Mean Recall: 0.9965\n",
      "New best model saved for fold 5 with F1=0.9932\n"
     ]
    },
    {
     "name": "stderr",
     "output_type": "stream",
     "text": [
      "C:\\Users\\udays\\AppData\\Local\\Temp\\ipykernel_22228\\3925381797.py:80: FutureWarning: Series.__getitem__ treating keys as positions is deprecated. In a future version, integer keys will always be treated as labels (consistent with DataFrame behavior). To access a value by position, use `ser.iloc[pos]`\n",
      "  'labels': torch.tensor(label, dtype=torch.float32)\n",
      "Epoch 84 Training: 100%|███████████████████████████████████████████████████| 11/11 [00:13<00:00,  1.19s/it, loss=0.181]\n",
      "Epoch 84 Validation: 100%|██████████████████████████████████████████████████| 3/3 [00:02<00:00,  1.40it/s, loss=0.0998]\n"
     ]
    },
    {
     "name": "stdout",
     "output_type": "stream",
     "text": [
      "Epoch 84: Train Loss=0.2980, Val Loss=0.3504\n",
      "Mean F1 Score: 0.9898, Mean Accuracy: 0.9865, Mean Precision: 0.9869, Mean Recall: 0.9930\n"
     ]
    },
    {
     "name": "stderr",
     "output_type": "stream",
     "text": [
      "C:\\Users\\udays\\AppData\\Local\\Temp\\ipykernel_22228\\3925381797.py:80: FutureWarning: Series.__getitem__ treating keys as positions is deprecated. In a future version, integer keys will always be treated as labels (consistent with DataFrame behavior). To access a value by position, use `ser.iloc[pos]`\n",
      "  'labels': torch.tensor(label, dtype=torch.float32)\n",
      "Epoch 85 Training: 100%|███████████████████████████████████████████████████| 11/11 [00:13<00:00,  1.20s/it, loss=0.156]\n",
      "Epoch 85 Validation: 100%|██████████████████████████████████████████████████| 3/3 [00:01<00:00,  1.62it/s, loss=0.0974]\n"
     ]
    },
    {
     "name": "stdout",
     "output_type": "stream",
     "text": [
      "Epoch 85: Train Loss=0.2941, Val Loss=0.3484\n",
      "Mean F1 Score: 0.9932, Mean Accuracy: 0.9910, Mean Precision: 0.9902, Mean Recall: 0.9965\n"
     ]
    },
    {
     "name": "stderr",
     "output_type": "stream",
     "text": [
      "C:\\Users\\udays\\AppData\\Local\\Temp\\ipykernel_22228\\3925381797.py:80: FutureWarning: Series.__getitem__ treating keys as positions is deprecated. In a future version, integer keys will always be treated as labels (consistent with DataFrame behavior). To access a value by position, use `ser.iloc[pos]`\n",
      "  'labels': torch.tensor(label, dtype=torch.float32)\n",
      "Epoch 86 Training: 100%|███████████████████████████████████████████████████| 11/11 [00:13<00:00,  1.22s/it, loss=0.233]\n",
      "Epoch 86 Validation: 100%|██████████████████████████████████████████████████| 3/3 [00:01<00:00,  1.58it/s, loss=0.0956]\n"
     ]
    },
    {
     "name": "stdout",
     "output_type": "stream",
     "text": [
      "Epoch 86: Train Loss=0.2896, Val Loss=0.3435\n",
      "Mean F1 Score: 0.9924, Mean Accuracy: 0.9899, Mean Precision: 0.9885, Mean Recall: 0.9965\n"
     ]
    },
    {
     "name": "stderr",
     "output_type": "stream",
     "text": [
      "C:\\Users\\udays\\AppData\\Local\\Temp\\ipykernel_22228\\3925381797.py:80: FutureWarning: Series.__getitem__ treating keys as positions is deprecated. In a future version, integer keys will always be treated as labels (consistent with DataFrame behavior). To access a value by position, use `ser.iloc[pos]`\n",
      "  'labels': torch.tensor(label, dtype=torch.float32)\n",
      "Epoch 87 Training: 100%|███████████████████████████████████████████████████| 11/11 [00:13<00:00,  1.22s/it, loss=0.392]\n",
      "Epoch 87 Validation: 100%|██████████████████████████████████████████████████| 3/3 [00:01<00:00,  1.59it/s, loss=0.0937]\n"
     ]
    },
    {
     "name": "stdout",
     "output_type": "stream",
     "text": [
      "Epoch 87: Train Loss=0.2998, Val Loss=0.3349\n",
      "Mean F1 Score: 0.9906, Mean Accuracy: 0.9877, Mean Precision: 0.9885, Mean Recall: 0.9930\n"
     ]
    },
    {
     "name": "stderr",
     "output_type": "stream",
     "text": [
      "C:\\Users\\udays\\AppData\\Local\\Temp\\ipykernel_22228\\3925381797.py:80: FutureWarning: Series.__getitem__ treating keys as positions is deprecated. In a future version, integer keys will always be treated as labels (consistent with DataFrame behavior). To access a value by position, use `ser.iloc[pos]`\n",
      "  'labels': torch.tensor(label, dtype=torch.float32)\n",
      "Epoch 88 Training: 100%|███████████████████████████████████████████████████| 11/11 [00:13<00:00,  1.24s/it, loss=0.154]\n",
      "Epoch 88 Validation: 100%|██████████████████████████████████████████████████| 3/3 [00:02<00:00,  1.44it/s, loss=0.0912]\n"
     ]
    },
    {
     "name": "stdout",
     "output_type": "stream",
     "text": [
      "Epoch 88: Train Loss=0.2762, Val Loss=0.3357\n",
      "Mean F1 Score: 0.9924, Mean Accuracy: 0.9899, Mean Precision: 0.9885, Mean Recall: 0.9965\n"
     ]
    },
    {
     "name": "stderr",
     "output_type": "stream",
     "text": [
      "C:\\Users\\udays\\AppData\\Local\\Temp\\ipykernel_22228\\3925381797.py:80: FutureWarning: Series.__getitem__ treating keys as positions is deprecated. In a future version, integer keys will always be treated as labels (consistent with DataFrame behavior). To access a value by position, use `ser.iloc[pos]`\n",
      "  'labels': torch.tensor(label, dtype=torch.float32)\n",
      "Epoch 89 Training: 100%|███████████████████████████████████████████████████| 11/11 [00:13<00:00,  1.19s/it, loss=0.589]\n",
      "Epoch 89 Validation: 100%|██████████████████████████████████████████████████| 3/3 [00:01<00:00,  1.67it/s, loss=0.0892]\n"
     ]
    },
    {
     "name": "stdout",
     "output_type": "stream",
     "text": [
      "Epoch 89: Train Loss=0.3042, Val Loss=0.3352\n",
      "Mean F1 Score: 0.9932, Mean Accuracy: 0.9910, Mean Precision: 0.9902, Mean Recall: 0.9965\n"
     ]
    },
    {
     "name": "stderr",
     "output_type": "stream",
     "text": [
      "C:\\Users\\udays\\AppData\\Local\\Temp\\ipykernel_22228\\3925381797.py:80: FutureWarning: Series.__getitem__ treating keys as positions is deprecated. In a future version, integer keys will always be treated as labels (consistent with DataFrame behavior). To access a value by position, use `ser.iloc[pos]`\n",
      "  'labels': torch.tensor(label, dtype=torch.float32)\n",
      "Epoch 90 Training: 100%|███████████████████████████████████████████████████| 11/11 [00:13<00:00,  1.21s/it, loss=0.221]\n",
      "Epoch 90 Validation: 100%|██████████████████████████████████████████████████| 3/3 [00:01<00:00,  1.52it/s, loss=0.0875]\n"
     ]
    },
    {
     "name": "stdout",
     "output_type": "stream",
     "text": [
      "Epoch 90: Train Loss=0.2764, Val Loss=0.3329\n",
      "Mean F1 Score: 0.9906, Mean Accuracy: 0.9877, Mean Precision: 0.9885, Mean Recall: 0.9930\n"
     ]
    },
    {
     "name": "stderr",
     "output_type": "stream",
     "text": [
      "C:\\Users\\udays\\AppData\\Local\\Temp\\ipykernel_22228\\3925381797.py:80: FutureWarning: Series.__getitem__ treating keys as positions is deprecated. In a future version, integer keys will always be treated as labels (consistent with DataFrame behavior). To access a value by position, use `ser.iloc[pos]`\n",
      "  'labels': torch.tensor(label, dtype=torch.float32)\n",
      "Epoch 91 Training: 100%|███████████████████████████████████████████████████| 11/11 [00:13<00:00,  1.23s/it, loss=0.147]\n",
      "Epoch 91 Validation: 100%|███████████████████████████████████████████████████| 3/3 [00:01<00:00,  1.54it/s, loss=0.086]\n"
     ]
    },
    {
     "name": "stdout",
     "output_type": "stream",
     "text": [
      "Epoch 91: Train Loss=0.2703, Val Loss=0.3247\n",
      "Mean F1 Score: 0.9906, Mean Accuracy: 0.9877, Mean Precision: 0.9885, Mean Recall: 0.9930\n"
     ]
    },
    {
     "name": "stderr",
     "output_type": "stream",
     "text": [
      "C:\\Users\\udays\\AppData\\Local\\Temp\\ipykernel_22228\\3925381797.py:80: FutureWarning: Series.__getitem__ treating keys as positions is deprecated. In a future version, integer keys will always be treated as labels (consistent with DataFrame behavior). To access a value by position, use `ser.iloc[pos]`\n",
      "  'labels': torch.tensor(label, dtype=torch.float32)\n",
      "Epoch 92 Training: 100%|███████████████████████████████████████████████████| 11/11 [00:12<00:00,  1.12s/it, loss=0.126]\n",
      "Epoch 92 Validation: 100%|██████████████████████████████████████████████████| 3/3 [00:01<00:00,  1.63it/s, loss=0.0841]\n"
     ]
    },
    {
     "name": "stdout",
     "output_type": "stream",
     "text": [
      "Epoch 92: Train Loss=0.2636, Val Loss=0.3255\n",
      "Mean F1 Score: 0.9924, Mean Accuracy: 0.9899, Mean Precision: 0.9885, Mean Recall: 0.9965\n"
     ]
    },
    {
     "name": "stderr",
     "output_type": "stream",
     "text": [
      "C:\\Users\\udays\\AppData\\Local\\Temp\\ipykernel_22228\\3925381797.py:80: FutureWarning: Series.__getitem__ treating keys as positions is deprecated. In a future version, integer keys will always be treated as labels (consistent with DataFrame behavior). To access a value by position, use `ser.iloc[pos]`\n",
      "  'labels': torch.tensor(label, dtype=torch.float32)\n",
      "Epoch 93 Training: 100%|███████████████████████████████████████████████████| 11/11 [00:12<00:00,  1.11s/it, loss=0.397]\n",
      "Epoch 93 Validation: 100%|██████████████████████████████████████████████████| 3/3 [00:01<00:00,  1.76it/s, loss=0.0822]\n"
     ]
    },
    {
     "name": "stdout",
     "output_type": "stream",
     "text": [
      "Epoch 93: Train Loss=0.2747, Val Loss=0.3244\n",
      "Mean F1 Score: 0.9924, Mean Accuracy: 0.9899, Mean Precision: 0.9885, Mean Recall: 0.9965\n"
     ]
    },
    {
     "name": "stderr",
     "output_type": "stream",
     "text": [
      "C:\\Users\\udays\\AppData\\Local\\Temp\\ipykernel_22228\\3925381797.py:80: FutureWarning: Series.__getitem__ treating keys as positions is deprecated. In a future version, integer keys will always be treated as labels (consistent with DataFrame behavior). To access a value by position, use `ser.iloc[pos]`\n",
      "  'labels': torch.tensor(label, dtype=torch.float32)\n",
      "Epoch 94 Training: 100%|██████████████████████████████████████████████████| 11/11 [00:12<00:00,  1.14s/it, loss=0.0958]\n",
      "Epoch 94 Validation: 100%|██████████████████████████████████████████████████| 3/3 [00:01<00:00,  1.75it/s, loss=0.0807]\n"
     ]
    },
    {
     "name": "stdout",
     "output_type": "stream",
     "text": [
      "Epoch 94: Train Loss=0.2523, Val Loss=0.3180\n",
      "Mean F1 Score: 0.9924, Mean Accuracy: 0.9899, Mean Precision: 0.9885, Mean Recall: 0.9965\n"
     ]
    },
    {
     "name": "stderr",
     "output_type": "stream",
     "text": [
      "C:\\Users\\udays\\AppData\\Local\\Temp\\ipykernel_22228\\3925381797.py:80: FutureWarning: Series.__getitem__ treating keys as positions is deprecated. In a future version, integer keys will always be treated as labels (consistent with DataFrame behavior). To access a value by position, use `ser.iloc[pos]`\n",
      "  'labels': torch.tensor(label, dtype=torch.float32)\n",
      "Epoch 95 Training: 100%|███████████████████████████████████████████████████| 11/11 [00:13<00:00,  1.22s/it, loss=0.115]\n",
      "Epoch 95 Validation: 100%|██████████████████████████████████████████████████| 3/3 [00:01<00:00,  1.65it/s, loss=0.0788]\n"
     ]
    },
    {
     "name": "stdout",
     "output_type": "stream",
     "text": [
      "Epoch 95: Train Loss=0.2532, Val Loss=0.3116\n",
      "Mean F1 Score: 0.9923, Mean Accuracy: 0.9899, Mean Precision: 0.9901, Mean Recall: 0.9947\n"
     ]
    },
    {
     "name": "stderr",
     "output_type": "stream",
     "text": [
      "C:\\Users\\udays\\AppData\\Local\\Temp\\ipykernel_22228\\3925381797.py:80: FutureWarning: Series.__getitem__ treating keys as positions is deprecated. In a future version, integer keys will always be treated as labels (consistent with DataFrame behavior). To access a value by position, use `ser.iloc[pos]`\n",
      "  'labels': torch.tensor(label, dtype=torch.float32)\n",
      "Epoch 96 Training: 100%|███████████████████████████████████████████████████| 11/11 [00:12<00:00,  1.17s/it, loss=0.382]\n",
      "Epoch 96 Validation: 100%|██████████████████████████████████████████████████| 3/3 [00:01<00:00,  1.51it/s, loss=0.0775]\n"
     ]
    },
    {
     "name": "stdout",
     "output_type": "stream",
     "text": [
      "Epoch 96: Train Loss=0.2657, Val Loss=0.3113\n",
      "Mean F1 Score: 0.9906, Mean Accuracy: 0.9877, Mean Precision: 0.9885, Mean Recall: 0.9930\n"
     ]
    },
    {
     "name": "stderr",
     "output_type": "stream",
     "text": [
      "C:\\Users\\udays\\AppData\\Local\\Temp\\ipykernel_22228\\3925381797.py:80: FutureWarning: Series.__getitem__ treating keys as positions is deprecated. In a future version, integer keys will always be treated as labels (consistent with DataFrame behavior). To access a value by position, use `ser.iloc[pos]`\n",
      "  'labels': torch.tensor(label, dtype=torch.float32)\n",
      "Epoch 97 Training: 100%|███████████████████████████████████████████████████| 11/11 [00:13<00:00,  1.19s/it, loss=0.373]\n",
      "Epoch 97 Validation: 100%|██████████████████████████████████████████████████| 3/3 [00:01<00:00,  1.56it/s, loss=0.0761]\n"
     ]
    },
    {
     "name": "stdout",
     "output_type": "stream",
     "text": [
      "Epoch 97: Train Loss=0.2620, Val Loss=0.3093\n",
      "Mean F1 Score: 0.9915, Mean Accuracy: 0.9888, Mean Precision: 0.9885, Mean Recall: 0.9947\n"
     ]
    },
    {
     "name": "stderr",
     "output_type": "stream",
     "text": [
      "C:\\Users\\udays\\AppData\\Local\\Temp\\ipykernel_22228\\3925381797.py:80: FutureWarning: Series.__getitem__ treating keys as positions is deprecated. In a future version, integer keys will always be treated as labels (consistent with DataFrame behavior). To access a value by position, use `ser.iloc[pos]`\n",
      "  'labels': torch.tensor(label, dtype=torch.float32)\n",
      "Epoch 98 Training: 100%|███████████████████████████████████████████████████| 11/11 [00:12<00:00,  1.10s/it, loss=0.205]\n",
      "Epoch 98 Validation: 100%|██████████████████████████████████████████████████| 3/3 [00:01<00:00,  1.69it/s, loss=0.0749]\n"
     ]
    },
    {
     "name": "stdout",
     "output_type": "stream",
     "text": [
      "Epoch 98: Train Loss=0.2457, Val Loss=0.3023\n",
      "Mean F1 Score: 0.9915, Mean Accuracy: 0.9888, Mean Precision: 0.9885, Mean Recall: 0.9947\n"
     ]
    },
    {
     "name": "stderr",
     "output_type": "stream",
     "text": [
      "C:\\Users\\udays\\AppData\\Local\\Temp\\ipykernel_22228\\3925381797.py:80: FutureWarning: Series.__getitem__ treating keys as positions is deprecated. In a future version, integer keys will always be treated as labels (consistent with DataFrame behavior). To access a value by position, use `ser.iloc[pos]`\n",
      "  'labels': torch.tensor(label, dtype=torch.float32)\n",
      "Epoch 99 Training: 100%|███████████████████████████████████████████████████| 11/11 [00:13<00:00,  1.21s/it, loss=0.205]\n",
      "Epoch 99 Validation: 100%|███████████████████████████████████████████████████| 3/3 [00:02<00:00,  1.39it/s, loss=0.073]\n"
     ]
    },
    {
     "name": "stdout",
     "output_type": "stream",
     "text": [
      "Epoch 99: Train Loss=0.2420, Val Loss=0.2984\n",
      "Mean F1 Score: 0.9914, Mean Accuracy: 0.9888, Mean Precision: 0.9901, Mean Recall: 0.9930\n"
     ]
    },
    {
     "name": "stderr",
     "output_type": "stream",
     "text": [
      "C:\\Users\\udays\\AppData\\Local\\Temp\\ipykernel_22228\\3925381797.py:80: FutureWarning: Series.__getitem__ treating keys as positions is deprecated. In a future version, integer keys will always be treated as labels (consistent with DataFrame behavior). To access a value by position, use `ser.iloc[pos]`\n",
      "  'labels': torch.tensor(label, dtype=torch.float32)\n",
      "Epoch 100 Training: 100%|█████████████████████████████████████████████████| 11/11 [00:13<00:00,  1.21s/it, loss=0.0864]\n",
      "Epoch 100 Validation: 100%|█████████████████████████████████████████████████| 3/3 [00:02<00:00,  1.42it/s, loss=0.0717]\n"
     ]
    },
    {
     "name": "stdout",
     "output_type": "stream",
     "text": [
      "Epoch 100: Train Loss=0.2305, Val Loss=0.3020\n",
      "Mean F1 Score: 0.9933, Mean Accuracy: 0.9910, Mean Precision: 0.9885, Mean Recall: 0.9982\n",
      "New best model saved for fold 5 with F1=0.9933\n"
     ]
    }
   ],
   "source": [
    "size_threshold = 80\n",
    "\n",
    "tweets_harvey2 = pd.read_csv('D:/TAMIDS/Disaster_Impact_Estimation/tweets/harvey_corrected.csv')\n",
    "tweets_harvey2.rename(columns={'zipcode': 'zip_code'}, inplace=True)\n",
    "\n",
    "bboxes_useful = tweets_harvey2.place_bbox.apply(lambda x: [[float(i.strip('()[]')) for i in x.split(', ')][i] for i in [1,0,3,2]])\n",
    "bbu_areas = bboxes_useful.apply(lambda x: get_box_area(*x))\n",
    "tweets_harvey = tweets_harvey2.loc[((tweets_harvey2.geo.apply(lambda x: 'Point' in str(x))) | (bbu_areas < size_threshold)), :]\n",
    "tweets_harvey.loc[:, 'zip_code'] = tweets_harvey['zip_code'].apply(int)\n",
    "tweet_grouped_harvey = tweets_harvey.groupby('zip_code')\n",
    "\n",
    "targets_harvey = pd.read_csv('D:/TAMIDS/Disaster_Impact_Estimation/targets/disaster_4332.csv')\n",
    "target_grouped_harvey = targets_harvey.groupby('damagedZipCode')\n",
    "\n",
    "# X_dict_harvey = tweet_data_to_X_dict(grouped_tweets_to_dict(tweet_grouped_harvey), hub_layer)\n",
    "\n",
    "# After running the kfoldcv function:\n",
    "fold_results, saved_models = kfoldcv(tweet_grouped_harvey, target_grouped_harvey, batch_size=32, num_epochs = 100)"
   ]
  },
  {
   "cell_type": "code",
   "execution_count": null,
   "id": "a6571508-8dc7-435c-8996-45ab84ed55cd",
   "metadata": {},
   "outputs": [],
   "source": []
  }
 ],
 "metadata": {
  "kernelspec": {
   "display_name": "Python 3 (ipykernel)",
   "language": "python",
   "name": "python3"
  },
  "language_info": {
   "codemirror_mode": {
    "name": "ipython",
    "version": 3
   },
   "file_extension": ".py",
   "mimetype": "text/x-python",
   "name": "python",
   "nbconvert_exporter": "python",
   "pygments_lexer": "ipython3",
   "version": "3.12.3"
  }
 },
 "nbformat": 4,
 "nbformat_minor": 5
}
